##
## Filter by article type
##
#
# import pandas as pd
#
# csv = get_ipython().getoutput("ls *.csv")
#  files = []
#  for file in csv:
#      print(file)
#      files.append(pd.read_csv(file))
#
#  scopus = pd.concat(files)
#  scopus = scopus[
#      scopus["Document Type"].map(
#          lambda w: w
#              in [
#                  "Article",
#                  "Article in Press",
#                  "Book",
#                  "Conference Paper",
#                  "Book Chapter",
#                  "Review",
#                  "Short Survey",
#              ],
#              na_action="ignore",
#      )
#  ]
#  scopus.to_csv('scopus.csv', index=False)
#  set(scopus["Document Type"])
#


#
#  import pandas as pd
#  df = pd.read_csv('scopus.csv')
#  set(df['Document Type'])
#
#  {'Article',
#   'Article in Press',
#   'Book',
#   'Book Chapter',
#   'Conference Paper',
#   'Review'}
#


import techminer as tech

##
## Converts scopus.csv to techminer.csv
##
tech.import_scopus()


##
## Words to exclude
##
list_of_words = [
    "adoption",
    "assessment",
    "blended learning",
    "case studies",
    "collaboration",
    "communication",
    "comunication",
    "education",
    "effect",
    "english for specific (academic) purposes",
    "esp",
    "european higher education area",
    "evaluation",
    "feedback",
    "higher education",
    "innovation",
    "interaction",
    "many phases assessment",
    "motivation",
    "pedagogy",
    "perception",
    "student",
    "teacher",
    "technology",
]

EXCLUDE = {
    "Author_Keywords_CL": list_of_words,
    "Title_words_CL": list_of_words,
    "Abstract_words_CL": list_of_words,
}


import techminer as tech

##
## Top documents report
##
tech.top_documents(top_n=10)


import techminer as tech

##
## Creates or modifies the keywords thesaurus.txt
##   Honors previous created file
##
tech.create_keywords_thesaurus()

get_ipython().getoutput("head -n +10 keywords_thesaurus.txt")


import techminer as tech

##
## Keywords cleaning
##
tech.apply_keywords_thesaurus()


import techminer as tech

##
## Creates a Institutions thesaurus
##
tech.create_institutions_thesaurus()

get_ipython().getoutput("head -n +10 institutions_thesaurus.txt")


import techminer as tech

##
## Institutions cleaning
##
tech.apply_institutions_thesaurus()


import techminer as tech

##
## Coverage
##
tech.coverage()


import techminer as tech

##
## Descriptive stats
##
tech.descriptive_stats()


import techminer as tech

##
## Column explorer
##
tech.column_explorer(top_n=50, only_abstract=True)


import techminer as tech

##
## Matrix explorer
##
tech.matrix_explorer(top_n=50, only_abstract=True)


import techminer as tech

##
## Document-term
##
tech.document_term_analysis()


import techminer as tech

##
## By year analysis
##
tech.by_year_analysis()


##
## Words to exclude
##
list_of_words = [
    "adoption",
    "assessment",
    "blended learning",
    "case studies",
    "collaboration",
    "communication",
    "comunication",
    "education",
    "effect",
    "english for specific (academic) purposes",
    "esp",
    "european higher education area",
    "evaluation",
    "feedback",
    "higher education",
    "innovation",
    "interaction",
    "many phases assessment",
    "motivation",
    "pedagogy",
    "perception",
    "student",
    "teacher",
    "technology",
]

EXCLUDE = {
    "Author_Keywords_CL": list_of_words,
    "Title_words_CL": list_of_words,
    "Abstract_words_CL": list_of_words,
}


import techminer as tech

##
## By term analysis
##
tech.by_term_analysis(limit_to=None, exclude=None, years_range=None)


[1, 2, 3, 4].reverse()


import techminer as tech

##
## By-term-per-year
##
tech.by_term_per_year_analysis(tab=0, years_range=None, exclude=EXCLUDE)


import techminer as tech

##
## Growth indicators
##
tech.growth_indicators(exclude=None, years_range=(2010, 2019))


import techminer as tech

##
## Bigraph
##
tech.bigraph_analysis(exclude=EXCLUDE)


import techminer as tech

##
## Graph
##
tech.graph_analysis(exclude=EXCLUDE)


import techminer as tech

##
## Correlation
##
tech.correlation_analysis()


import techminer as tech

##
## Concept Mapping
##
tech.concept_mapping()


import techminer as tech

##
## Factor Analysis
##
tech.factor_analysis()


import techminer as tech

##
## Latent Semantic Analysis
##
tech.latent_semantic_analysis()


import techminer as tech

##
## Comparative Analysis
##
tech.comparative_analysis()


import techminer as tech

##
## Thematic Analysis
##
tech.thematic_analysis()















