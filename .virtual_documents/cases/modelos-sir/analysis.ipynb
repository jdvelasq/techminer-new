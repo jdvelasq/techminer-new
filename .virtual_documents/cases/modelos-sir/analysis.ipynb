# 
# get_ipython().getoutput("pip install -q -U git+https://github.com/jdvelasq/techminer")
# get_ipython().getoutput("pip install -q squarify")
# get_ipython().getoutput("pip install -q nltk")
# get_ipython().getoutput("pip install -q cdlib")
# 
# import nltk
# nltk.download('stopwords')
# nltk.download('wordnet')
# nltk.download('averaged_perceptron_tagger')
#


import pandas as pd

pd.read_csv("scopus-cleaned.csv").Document_Type.unique()


##
## load_scopus
##
import pandas as pd

import techminer.data as data

data.load_scopus(pd.read_csv("scopus.csv")).to_csv("scopus-cleaned.csv", index=False)


##
## Keyword cleaning
##   1.-- Thesaurus generation
##
import pandas as pd

import techminer.thesaurus as thesaurus

df = pd.read_csv("scopus-cleaned.csv")
thesaurus.text_clustering(
    pd.Series(df.Author_Keywords.tolist())
).to_textfile("words-raw.txt")

get_ipython().getoutput("head -n +10 words-raw.txt")


##
## Keyword cleaning
##   2.-- Iterative search of keys
##
import pandas as pd

import techminer.text as text
import techminer.thesaurus as thesaurus

thesaurus.read_textfile("words-raw.txt").find_key(patterns="linear")


get_ipython().run_cell_magic("writefile", " merge-keys.txt", """renewable energies
   100% renewable energy
battery energy storage system
    bess
building integrated photovoltaic
    bipv
cost of energy
    coe
levelised cost of energy
    lcoe
levelised cost of energy
    levelised cost of electri ity (lcoe)
    levelized cost of electricity
    levelised cost of electricity
combined cooling heat and power (cchp)
    cchp
combined heat and power
    chp
embodied green house gas emissions (gwp)
    gwp
feed in tariff
    fit (feed-in tariff)
geographic information system
    gis
hybrid optimization model for electric renewable (homer)
    homer
internal rate of return
    irr
life cycle cost
    lcc
life cycle assessment
    lca
linear programming
    linear optimization
    mixed binary mixed binary linear programming
    mixed integer linear programming
    milp
maximum power point tracker (mppt)
    mppt
nearly zero energy buildings (nzeb)
    nzeb
net present cost
    npc
net present value
    npv
particle swarm optimization
    pso
    pso optimization
    particle swarm optimisation
photovoltaic
    pv
photovoltaic/thermal
    pvt
renewable energy source
    res (renewable energy sources)
system advisor model (sam)
    systems advisory model (sam)
time of use (tou)
    tou
total net present cost
    tnpc
solar pv
    photovoltaic solar""")


##
## Merge thesaurus keys
## 
import techminer.thesaurus as thesaurus

th = thesaurus.read_textfile("words-raw.txt")
th.merge_keys_from_textfile('merge-keys.txt')
th.to_textfile("words-cleaned.txt")


##
## Cleaning
##
import pandas as pd

import techminer.thesaurus as thesaurus
import techminer.data as data

df = pd.read_csv("scopus-cleaned.csv")
th = thesaurus.read_textfile("words-cleaned.txt")

th = th.compile_as_dict()

df["Author_Keywords_CL"] = data.__MAP(df, "Author_Keywords", th.apply_as_dict)
df["Index_Keywords_CL"] = data.__MAP(df, "Index_Keywords", th.apply_as_dict)
df["Title_words_CL"] = data.__MAP(df, "Title_words", th.apply_as_dict)
df["Abstract_words_CL"] = data.__MAP(df, "Abstract_words", th.apply_as_dict)

df.to_csv("scopus-cleaned.csv", index=False)


##
## String search for keyword cleaning
##


import techminer.text as text

text.find_string(
    patterns="farm",
    x=df.Author_Keywords,
    ignore_case=True,
    full_match=False,
    use_re=False,
)[0:10]


##
## Top documents
##
import pandas as pd

df = pd.read_csv("scopus-cleaned.csv")
df = df.sort_values("Times_Cited", ascending=False).head(10)
df = df.reset_index(drop=True)
for i in range(len(df)):
    print(
        df.Authors[i].replace(";", ", ")
        + ". "
        + str(df.Year[i])
        + ". "
        + df.Title[i]
        + "\t"
        + str(df.Times_Cited[i])
    )


##
## Coverage
##
import pandas as pd
import techminer.data as data

data.coverage(pd.read_csv("scopus-cleaned.csv"))


##
## Descriptive stats
##
import pandas as pd
import techminer.data as data

data.descriptive_stats(pd.read_csv("scopus-cleaned.csv"))


##
## Viewers
##
import pandas as pd

import techminer.viewers as viewers

viewers.column(pd.read_csv("scopus-cleaned.csv"), top_n=50)
#  viewers.matrix(pd.read_csv("scopus-cleaned.csv"), top_n=50)


##
## Document-term
##
import pandas as pd

import techminer.document_term as document_term

document_term.app(pd.read_csv("scopus-cleaned.csv"))


##
## By-year
##
import pandas as pd

import techminer.by_year as by_year

by_year.app(pd.read_csv("scopus-cleaned.csv"))


##
## By-term
##
import pandas as pd

import techminer.by_term as by_term

by_term.app(pd.read_csv("scopus-cleaned.csv"), exclude=EXCLUDE, years_range=None)


##
## By-term-per-year
##
import pandas as pd

import techminer.by_term_per_year as by_term_per_year

by_term_per_year.app(pd.read_csv("scopus-cleaned.csv"), tab=0, years_range=None)


##
## Growth indicators
##
import pandas as pd

import techminer.growth_indicators as growth_indicators

growth_indicators.app(pd.read_csv("scopus-cleaned.csv"), exclude=EXCLUDE, years_range=(1970, 2019))


##
## Bigraph
##
import pandas as pd

import techminer.bigraph as bigraph

bigraph.app(pd.read_csv("scopus-cleaned.csv"))


##
## Graph
##
import pandas as pd

import techminer.graph as graph

graph.app(pd.read_csv("scopus-cleaned.csv"), exclude=None)


##
## Correlation
##
import pandas as pd

import techminer.correlation as correlation

correlation.app(pd.read_csv("scopus-cleaned.csv"))


##
## Words to exclude
##
EXCLUDE = {
    "Author_Keywords_CL": [
        "cameroon",
        "economic analysis",
        "net present cost",
        "photovoltaic (pv)",
        "photovoltaic solar",
        "photovoltaic system",
        "photovoltaic",
        "photovoltaics",
        "pv",
        "renewable energies",
        "renewable energy",
        "solar energy",
        "solar photovoltaic",
        "solar pv",
        "solar",
        "techno economic analysis",
        "techno-economic analysis",
    ]
}


##
## Factor Analysis
##
import pandas as pd

import techminer.factor_analysis as factor_analysis

factor_analysis.app(pd.read_csv("scopus-cleaned.csv"), exclude=None)


##
## Latent Semantic Analysis
##
import pandas as pd

import techminer.latent_semantic_analysis as latent_semantic_analysis

latent_semantic_analysis.app(pd.read_csv("scopus-cleaned.csv"))


##
## Comparative Analysis
##
import pandas as pd

import techminer.comparative_analysis as comparative_analysis

comparative_analysis.app(pd.read_csv("scopus-cleaned.csv"))


##
## Thematic Analysis
##
import pandas as pd

import techminer.thematic_analysis as thematic_analysis

thematic_analysis.app(pd.read_csv("scopus-cleaned.csv"))


##
## Concept Mapping
##
import pandas as pd

import techminer.concept_mapping as concept_mapping

concept_mapping.app(pd.read_csv("scopus-cleaned.csv"))



