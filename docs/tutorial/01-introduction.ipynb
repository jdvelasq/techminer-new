{
 "cells": [
  {
   "cell_type": "markdown",
   "metadata": {},
   "source": [
    "# Introduction"
   ]
  },
  {
   "cell_type": "markdown",
   "metadata": {},
   "source": [
    "This tutorial describes the process of analyzing bibliographic information using **TechMiner**. \n",
    "\n",
    "The library can be installed using:\n",
    "\n",
    "```\n",
    "!pip3 install techminer\n",
    "```\n",
    "\n",
    "directly in a Jupyter notebook.\n",
    "\n",
    "\n",
    "Also, the library can be installed directly from the GitHub repo with:"
   ]
  },
  {
   "cell_type": "code",
   "execution_count": 2,
   "metadata": {},
   "outputs": [
    {
     "name": "stdout",
     "output_type": "stream",
     "text": [
      "Collecting git+https://github.com/jdvelasq/techminer-dev\n",
      "  Cloning https://github.com/jdvelasq/techminer-dev to /tmp/pip-req-build-e252_e5w\n",
      "  Running command git clone -q https://github.com/jdvelasq/techminer-dev /tmp/pip-req-build-e252_e5w\n",
      "Building wheels for collected packages: techminer\n",
      "  Building wheel for techminer (setup.py) ... \u001b[?25ldone\n",
      "\u001b[?25h  Created wheel for techminer: filename=techminer-0.0.0-py3-none-any.whl size=37588 sha256=20c7a4ca81187aec25d1951b3d805764642cb8b08fab535fb835f5bd153b096d\n",
      "  Stored in directory: /tmp/pip-ephem-wheel-cache-qft0jg73/wheels/3e/90/a4/86b01592ce271551e518c45abbdce58a938b2443f9bd583e6e\n",
      "Successfully built techminer\n",
      "Installing collected packages: techminer\n",
      "Successfully installed techminer-0.0.0\n"
     ]
    }
   ],
   "source": [
    "!pip install -U git+https://github.com/jdvelasq/techminer-dev"
   ]
  },
  {
   "cell_type": "markdown",
   "metadata": {},
   "source": [
    "For creating a worldmap plot the computer must have installed [GeoPandas](http://geopandas.org/install.html).\n",
    "\n",
    "For the appropiate use of the library, the user must have a basic knowledge of:\n",
    "\n",
    "* Python.\n",
    "\n",
    "* Matplotlib.\n",
    "\n",
    "* Pandas.\n",
    "\n",
    "* Seaborn (optional for some plots).\n",
    "\n",
    "* Altair (optional for some plots).\n",
    "\n",
    "Please refer to the documentation of these tools in case of any doubt."
   ]
  }
 ],
 "metadata": {
  "kernelspec": {
   "display_name": "Python 3",
   "language": "python",
   "name": "python3"
  },
  "language_info": {
   "codemirror_mode": {
    "name": "ipython",
    "version": 3
   },
   "file_extension": ".py",
   "mimetype": "text/x-python",
   "name": "python",
   "nbconvert_exporter": "python",
   "pygments_lexer": "ipython3",
   "version": "3.6.9"
  }
 },
 "nbformat": 4,
 "nbformat_minor": 4
}
