{
 "cells": [
  {
   "cell_type": "markdown",
   "metadata": {},
   "source": [
    "Introduction\n",
    "==="
   ]
  },
  {
   "cell_type": "markdown",
   "metadata": {},
   "source": [
    "This tutorial describes the process of analyzing bibliographic information using **techMiner**. \n",
    "\n",
    "The library can be installed using:\n",
    "\n",
    "```\n",
    "!pip3 install techminer\n",
    "```\n",
    "\n",
    "directly in a Jupyter notebook.\n",
    "\n",
    "For creating a worldmap plot the computer must have installed [GeoPandas](http://geopandas.org/install.html).\n",
    "\n",
    "For the appropiate use of the library, the user must have a basic knowledge of:\n",
    "\n",
    "* Python.\n",
    "\n",
    "* Matplotlib.\n",
    "\n",
    "* Pandas.\n",
    "\n",
    "* Seaborn (optional for some plots).\n",
    "\n",
    "* Altair (optional for some plots).\n",
    "\n",
    "Please refer to the documentation of these tools in case of any doubt."
   ]
  }
 ],
 "metadata": {
  "kernelspec": {
   "display_name": "Python 3",
   "language": "python",
   "name": "python3"
  },
  "language_info": {
   "codemirror_mode": {
    "name": "ipython",
    "version": 3
   },
   "file_extension": ".py",
   "mimetype": "text/x-python",
   "name": "python",
   "nbconvert_exporter": "python",
   "pygments_lexer": "ipython3",
   "version": "3.6.9"
  }
 },
 "nbformat": 4,
 "nbformat_minor": 4
}
