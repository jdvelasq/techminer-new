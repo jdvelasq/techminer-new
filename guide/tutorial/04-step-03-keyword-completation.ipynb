{
 "cells": [
  {
   "cell_type": "markdown",
   "metadata": {},
   "source": [
    "# Step 3: Keyword completation"
   ]
  },
  {
   "cell_type": "markdown",
   "metadata": {},
   "source": [
    "## Data loading"
   ]
  },
  {
   "cell_type": "markdown",
   "metadata": {},
   "source": [
    "In this step, the records for the study are selected. The previous file is loaded with:"
   ]
  },
  {
   "cell_type": "code",
   "execution_count": 1,
   "metadata": {},
   "outputs": [],
   "source": [
    "import pandas as pd\n",
    "\n",
    "pdf = pd.read_json(\"step-02.json\", orient=\"records\", lines=True)"
   ]
  },
  {
   "cell_type": "markdown",
   "metadata": {},
   "source": [
    "Next, the pandas.DataFrame is converted to a `'RecordsDataFrame'` object"
   ]
  },
  {
   "cell_type": "code",
   "execution_count": 2,
   "metadata": {},
   "outputs": [],
   "source": [
    "from techminer import RecordsDataFrame\n",
    "\n",
    "rdf = RecordsDataFrame(pdf)"
   ]
  },
  {
   "cell_type": "code",
   "execution_count": 3,
   "metadata": {},
   "outputs": [],
   "source": [
    "from techminer import nan2none\n",
    "\n",
    "rdf = nan2none(rdf)"
   ]
  },
  {
   "cell_type": "markdown",
   "metadata": {},
   "source": [
    "## Record visualization"
   ]
  },
  {
   "cell_type": "markdown",
   "metadata": {},
   "source": [
    "**TechMiner** implements the `display_records()` to visualize a portion of a dataframe in json format."
   ]
  },
  {
   "cell_type": "code",
   "execution_count": 4,
   "metadata": {},
   "outputs": [
    {
     "name": "stdout",
     "output_type": "stream",
     "text": [
      "-----------------------------------------------\n",
      "Record index: 0\n",
      "{\n",
      "  \"Author Keywords\": \"Component trends; Empirical mode decomposition; Interference-less machine learning; Long short-term memory; Meta-learning; Moving average; Noise reduction; Nonlinear autoregressive neural network; Time series forecasting\",\n",
      "  \"Index Keywords\": null,\n",
      "  \"Title\": \"Improving DWT-RNN model via B-spline wavelet multiresolution to forecast a high-frequency time series\"\n",
      "}\n",
      "-----------------------------------------------\n",
      "Record index: 1\n",
      "{\n",
      "  \"Author Keywords\": null,\n",
      "  \"Index Keywords\": \"Earnings; Financial data processing; Information science; Newsprint; Consumer price index; Distributed representation; Financial time series forecasting; Long short term memory; Novel applications; Stock predictions; Textual information; Tokyo Stock Exchange; Costs\",\n",
      "  \"Title\": \"Direct marketing campaigns in retail banking with the use of deep learning and random forests\"\n",
      "}\n",
      "-----------------------------------------------\n",
      "Record index: 2\n",
      "{\n",
      "  \"Author Keywords\": \"And financial time series prediction; Dynamic neural network; Exchange rate time series\",\n",
      "  \"Index Keywords\": \"Bioinformatics; Financial data processing; Intelligent computing; Multilayer neural networks; Recurrent neural networks; Dynamic neural networks; Exchange rates; Financial time series predictions; Immune algorithms; Regularization technique; Self-organised; Self-organized neural networks; Stationary signal; Algorithms\",\n",
      "  \"Title\": \"Combining time-series and textual data for taxi demand prediction in event areas: A deep learning approach\"\n",
      "}\n",
      "-----------------------------------------------\n",
      "Record index: 3\n",
      "{\n",
      "  \"Author Keywords\": \"Artificial intelligence; Deep learning; Financial forecasting; NARX algorithm; Stock prediction\",\n",
      "  \"Index Keywords\": \"Artificial intelligence; Big data; Commerce; Deep learning; Electronic trading; Financial markets; Forecasting; Mean square error; Risk assessment; Time series analysis; Auto-regressive exogenous inputs; Bankruptcy prediction; Computational technology; Financial applications; Financial forecasting; Levenberg-Marquardt algorithm; Stock market prediction; Stock predictions; Learning algorithms\",\n",
      "  \"Title\": \"Stock price forecasting model based on modified convolution neural network and financial time series analysis\"\n",
      "}\n",
      "-----------------------------------------------\n",
      "Record index: 4\n",
      "{\n",
      "  \"Author Keywords\": null,\n",
      "  \"Index Keywords\": \"Commerce; Deep learning; Electronic trading; Financial markets; Forecasting; Multivariant analysis; Network architecture; Forecasting performance; Historical data; Learning architectures; Long-term forecasting; Market forecast; Multi variate analysis; Stock market forecasting; Time series forecasting; Long short-term memory\",\n",
      "  \"Title\": \"Sentiment-aware volatility forecasting\"\n",
      "}\n"
     ]
    }
   ],
   "source": [
    "from techminer import display_records\n",
    "\n",
    "display_records(rdf[[\"Title\", \"Author Keywords\", \"Index Keywords\"]].head(5))"
   ]
  },
  {
   "cell_type": "markdown",
   "metadata": {},
   "source": [
    "## Keywords completation"
   ]
  },
  {
   "cell_type": "markdown",
   "metadata": {},
   "source": [
    "This step aims to create a column (field) in the dataframe containing key terms for document selection. First, the columns `'Author Keywords'` and `'Index Keywords'` are joined using the `'merge_fields'` function. The new column is called `'keywords'`."
   ]
  },
  {
   "cell_type": "code",
   "execution_count": 5,
   "metadata": {},
   "outputs": [
    {
     "data": {
      "text/plain": [
       "0    Component trends;Empirical mode decomposition;...\n",
       "1    Earnings;Financial data processing;Information...\n",
       "2    Multilayer neural networks;Financial time seri...\n",
       "3    Electronic trading;Time series analysis;Deep l...\n",
       "4    Commerce;Deep learning;Electronic trading;Fina...\n",
       "5    Financial time series predictions;Forecasting ...\n",
       "6    Electronic trading;Nearest neighbor search;Fin...\n",
       "7    Time series analysis;Deep learning;Financial m...\n",
       "8    Complex networks;Data mining;Economics;Forecas...\n",
       "9    IBM stock indices;Electronic trading;Financial...\n",
       "dtype: object"
      ]
     },
     "execution_count": 5,
     "metadata": {},
     "output_type": "execute_result"
    }
   ],
   "source": [
    "from techminer import merge_fields\n",
    "\n",
    "merge_fields(\n",
    "    rdf[\"Author Keywords\"], rdf[\"Index Keywords\"], sepA=\";\", sepB=\";\", new_sep=\";\"\n",
    ")[0:10]"
   ]
  },
  {
   "cell_type": "code",
   "execution_count": 6,
   "metadata": {},
   "outputs": [],
   "source": [
    "rdf[\"keywords\"] = merge_fields(\n",
    "    rdf[\"Author Keywords\"], rdf[\"Index Keywords\"], sepA=\";\", sepB=\";\", new_sep=\";\"\n",
    ")"
   ]
  },
  {
   "cell_type": "markdown",
   "metadata": {},
   "source": [
    "However, there are 51 records without `'Author Keywords'` and `'Index Keywords'`."
   ]
  },
  {
   "cell_type": "code",
   "execution_count": 7,
   "metadata": {},
   "outputs": [
    {
     "data": {
      "text/plain": [
       "8"
      ]
     },
     "execution_count": 7,
     "metadata": {},
     "output_type": "execute_result"
    }
   ],
   "source": [
    "len(rdf[rdf[\"keywords\"].map(lambda x: x is None)])"
   ]
  },
  {
   "cell_type": "code",
   "execution_count": 8,
   "metadata": {},
   "outputs": [
    {
     "data": {
      "text/plain": [
       "['(2D) 2 PCA',\n",
       " '(2D) <sup>2</sup> PCA',\n",
       " 'AMAPE',\n",
       " 'ANN',\n",
       " 'ARIMA',\n",
       " 'ARIMA Model',\n",
       " 'ARIMA model',\n",
       " 'ARIMA modeling',\n",
       " 'Absolute values',\n",
       " 'Abstract representation',\n",
       " 'Accounts receivable',\n",
       " 'Accuracy Improvement',\n",
       " 'Accuracy of classifications',\n",
       " 'Accurate prediction',\n",
       " 'Activation layer',\n",
       " 'AdaBoost algorithm',\n",
       " 'Adam Optimizer',\n",
       " 'Adaptive boosting',\n",
       " 'Adaptive gradient algorithm',\n",
       " 'Adaptive noise']"
      ]
     },
     "execution_count": 8,
     "metadata": {},
     "output_type": "execute_result"
    }
   ],
   "source": [
    "from techminer.keywords import Keywords\n",
    "\n",
    "kyw = Keywords()\n",
    "kyw.add_keywords(rdf[\"keywords\"], sep=\";\")\n",
    "kyw.keywords[0:20]"
   ]
  },
  {
   "cell_type": "code",
   "execution_count": 9,
   "metadata": {},
   "outputs": [
    {
     "data": {
      "text/plain": [
       "0"
      ]
     },
     "execution_count": 9,
     "metadata": {},
     "output_type": "execute_result"
    }
   ],
   "source": [
    "len(rdf[rdf[\"Abstract\"].map(lambda x: x is None)])"
   ]
  },
  {
   "cell_type": "code",
   "execution_count": 10,
   "metadata": {},
   "outputs": [
    {
     "data": {
      "text/plain": [
       "0"
      ]
     },
     "execution_count": 10,
     "metadata": {},
     "output_type": "execute_result"
    }
   ],
   "source": [
    "len(rdf[rdf[\"Title\"].map(lambda x: x is None)])"
   ]
  },
  {
   "cell_type": "code",
   "execution_count": 11,
   "metadata": {},
   "outputs": [],
   "source": [
    "#\n",
    "# Remove copyright\n",
    "#\n",
    "import numpy as np\n",
    "\n",
    "rdf[\"Abstract\"] = rdf[\"Abstract\"].map(\n",
    "    lambda x: x[0 : x.find(\"\\u00a9\")]\n",
    "    if isinstance(x, str) and x.find(\"\\u00a9\") != -1\n",
    "    else x\n",
    ")"
   ]
  },
  {
   "cell_type": "code",
   "execution_count": 12,
   "metadata": {},
   "outputs": [],
   "source": [
    "title_abstract = merge_fields(rdf[\"Title\"], rdf[\"Abstract\"], new_sep=\" \")"
   ]
  },
  {
   "cell_type": "code",
   "execution_count": 13,
   "metadata": {},
   "outputs": [],
   "source": [
    "#\n",
    "# Extracts title and abstract\n",
    "#\n",
    "keywords_title_abstract = title_abstract.map(\n",
    "    lambda x: kyw.extract_from_text(x, sep=\";\")\n",
    ")"
   ]
  },
  {
   "cell_type": "code",
   "execution_count": 14,
   "metadata": {},
   "outputs": [],
   "source": [
    "idx = rdf[\"keywords\"].map(lambda x: x is None)\n",
    "rdf.loc[idx, \"keywords\"] = keywords_title_abstract[idx]"
   ]
  },
  {
   "cell_type": "code",
   "execution_count": 15,
   "metadata": {},
   "outputs": [
    {
     "data": {
      "text/plain": [
       "0"
      ]
     },
     "execution_count": 15,
     "metadata": {},
     "output_type": "execute_result"
    }
   ],
   "source": [
    "len(rdf[rdf[\"keywords\"].map(lambda x: x is None)])"
   ]
  },
  {
   "cell_type": "code",
   "execution_count": 16,
   "metadata": {},
   "outputs": [],
   "source": [
    "rdf.to_json(\"step-03.json\", orient=\"records\", lines=True)"
   ]
  }
 ],
 "metadata": {
  "kernelspec": {
   "display_name": "Python 3",
   "language": "python",
   "name": "python3"
  },
  "language_info": {
   "codemirror_mode": {
    "name": "ipython",
    "version": 3
   },
   "file_extension": ".py",
   "mimetype": "text/x-python",
   "name": "python",
   "nbconvert_exporter": "python",
   "pygments_lexer": "ipython3",
   "version": "3.6.9"
  }
 },
 "nbformat": 4,
 "nbformat_minor": 4
}
