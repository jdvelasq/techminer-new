{
 "cells": [
  {
   "cell_type": "code",
   "execution_count": 1,
   "metadata": {},
   "outputs": [],
   "source": [
    "# Install latest version from GitHub\n",
    "!pip install -q -U git+https://github.com/jdvelasq/techminer"
   ]
  },
  {
   "cell_type": "markdown",
   "metadata": {},
   "source": [
    "# Keyword completation"
   ]
  },
  {
   "cell_type": "markdown",
   "metadata": {},
   "source": [
    "## Data loading"
   ]
  },
  {
   "cell_type": "markdown",
   "metadata": {},
   "source": [
    "In this step, the records for the study are selected. The previous file is loaded with:"
   ]
  },
  {
   "cell_type": "code",
   "execution_count": 2,
   "metadata": {},
   "outputs": [],
   "source": [
    "import pandas as pd\n",
    "\n",
    "url = \"https://raw.githubusercontent.com/jdvelasq/techminer/master/data/tutorial/\"\n",
    "df = pd.read_json(url + \"keyword-completation.json\", orient=\"records\", lines=True)"
   ]
  },
  {
   "cell_type": "markdown",
   "metadata": {},
   "source": [
    "`NaN` values are changed by `None`."
   ]
  },
  {
   "cell_type": "code",
   "execution_count": 3,
   "metadata": {},
   "outputs": [],
   "source": [
    "df = df.applymap(lambda x: None if pd.isna(x) is True else x)"
   ]
  },
  {
   "cell_type": "markdown",
   "metadata": {},
   "source": [
    "## Keywords completation"
   ]
  },
  {
   "cell_type": "markdown",
   "metadata": {},
   "source": [
    "This step aims to create a column (field) in the dataframe containing key terms for document selection. The columns `'Author Keywords'` and `'Index Keywords'` are joined in a new column is called `'Keywords'`."
   ]
  },
  {
   "cell_type": "code",
   "execution_count": 4,
   "metadata": {},
   "outputs": [],
   "source": [
    "df = df.assign(Keywords=df[\"Author Keywords\"] + \";\" + df[\"Index Keywords\"])"
   ]
  },
  {
   "cell_type": "code",
   "execution_count": 8,
   "metadata": {},
   "outputs": [
    {
     "data": {
      "text/plain": [
       "0      Component trends; Empirical mode decomposition...\n",
       "1                                                   None\n",
       "2      And financial time series prediction; Dynamic ...\n",
       "3      Artificial intelligence; Deep learning; Financ...\n",
       "4                                                   None\n",
       "                             ...                        \n",
       "147                                                 None\n",
       "148                                                 None\n",
       "149                                                 None\n",
       "150                                                 None\n",
       "151                                                 None\n",
       "Name: Author Keywords, Length: 152, dtype: object"
      ]
     },
     "execution_count": 8,
     "metadata": {},
     "output_type": "execute_result"
    }
   ],
   "source": [
    "df['Author Keywords']"
   ]
  },
  {
   "cell_type": "code",
   "execution_count": null,
   "metadata": {},
   "outputs": [],
   "source": []
  },
  {
   "cell_type": "code",
   "execution_count": null,
   "metadata": {},
   "outputs": [],
   "source": [
    "df.Keywords = df.Keywords.map(lambda x: ';'.join([   for e in x.split(';') ]))"
   ]
  },
  {
   "cell_type": "code",
   "execution_count": 5,
   "metadata": {},
   "outputs": [
    {
     "ename": "TypeError",
     "evalue": "unsupported operand type(s) for +: 'NoneType' and 'str'",
     "output_type": "error",
     "traceback": [
      "\u001b[0;31m---------------------------------------------------------------------------\u001b[0m",
      "\u001b[0;31mTypeError\u001b[0m                                 Traceback (most recent call last)",
      "\u001b[0;32m<ipython-input-5-b5137407b497>\u001b[0m in \u001b[0;36m<module>\u001b[0;34m\u001b[0m\n\u001b[0;32m----> 1\u001b[0;31m \u001b[0;32mNone\u001b[0m \u001b[0;34m+\u001b[0m \u001b[0;34m';'\u001b[0m\u001b[0;34m\u001b[0m\u001b[0;34m\u001b[0m\u001b[0m\n\u001b[0m",
      "\u001b[0;31mTypeError\u001b[0m: unsupported operand type(s) for +: 'NoneType' and 'str'"
     ]
    }
   ],
   "source": [
    "None + ';'"
   ]
  },
  {
   "cell_type": "code",
   "execution_count": 3,
   "metadata": {},
   "outputs": [],
   "source": [
    "pdf = pdf.assign(\n",
    "    keywords=pdf[\"Author Keywords\"].map(lambda x: x.split(\";\") if x is not None else [])\n",
    "    + pdf[\"Index Keywords\"].map(lambda x: x.split(\";\") if x is not None else [])\n",
    ")\n",
    "\n",
    "#  remove blank spaces sorounding keywords\n",
    "pdf[\"Keywords\"] = pdf[\"Keywords\"].map(lambda x: [e.strip() for e in x])\n",
    "\n",
    "#  join keywords in a new string\n",
    "pdf[\"Keywords\"] = pdf[\"Keywords\"].map(lambda x: \";\".join(x))\n",
    "\n",
    "# converts in None empty keywords list\n",
    "pdf[\"Keywords\"] = pdf.Keywords.map(lambda x: None if x == \"\" else x)"
   ]
  },
  {
   "cell_type": "code",
   "execution_count": 4,
   "metadata": {},
   "outputs": [
    {
     "data": {
      "text/plain": [
       "0    Component trends;Empirical mode decomposition;...\n",
       "1    Earnings;Financial data processing;Information...\n",
       "2    And financial time series prediction;Dynamic n...\n",
       "3    Artificial intelligence;Deep learning;Financia...\n",
       "4    Commerce;Deep learning;Electronic trading;Fina...\n",
       "Name: keywords, dtype: object"
      ]
     },
     "execution_count": 4,
     "metadata": {},
     "output_type": "execute_result"
    }
   ],
   "source": [
    "pdf.keywords.head()"
   ]
  },
  {
   "cell_type": "markdown",
   "metadata": {},
   "source": [
    "However, there are records without `'Author Keywords'` and `'Index Keywords'`."
   ]
  },
  {
   "cell_type": "code",
   "execution_count": 5,
   "metadata": {},
   "outputs": [
    {
     "data": {
      "text/plain": [
       "8"
      ]
     },
     "execution_count": 5,
     "metadata": {},
     "output_type": "execute_result"
    }
   ],
   "source": [
    "len(pdf[pdf.keywords.map(lambda x: x is None)])"
   ]
  },
  {
   "cell_type": "code",
   "execution_count": 6,
   "metadata": {},
   "outputs": [
    {
     "data": {
      "text/plain": [
       "144    None\n",
       "145    None\n",
       "146    None\n",
       "147    None\n",
       "148    None\n",
       "149    None\n",
       "150    None\n",
       "151    None\n",
       "Name: keywords, dtype: object"
      ]
     },
     "execution_count": 6,
     "metadata": {},
     "output_type": "execute_result"
    }
   ],
   "source": [
    "# Verification:\n",
    "\n",
    "pdf.keywords[\n",
    "    (pdf[\"Author Keywords\"].map(lambda x: x is None))\n",
    "    & (pdf[\"Index Keywords\"].map(lambda x: x is None))\n",
    "]"
   ]
  },
  {
   "cell_type": "markdown",
   "metadata": {},
   "source": [
    "In the following code, a `Keywords` object is created. The content of column `keywords` is added to the object."
   ]
  },
  {
   "cell_type": "code",
   "execution_count": 7,
   "metadata": {},
   "outputs": [
    {
     "data": {
      "text/plain": [
       "['(2D) 2 PCA',\n",
       " '(2D) <sup>2</sup> PCA',\n",
       " 'AMAPE',\n",
       " 'ANN',\n",
       " 'ARIMA',\n",
       " 'ARIMA Model',\n",
       " 'ARIMA model',\n",
       " 'ARIMA modeling',\n",
       " 'Absolute values',\n",
       " 'Abstract representation',\n",
       " 'Accounts receivable',\n",
       " 'Accuracy Improvement',\n",
       " 'Accuracy of classifications',\n",
       " 'Accurate prediction',\n",
       " 'Activation layer',\n",
       " 'AdaBoost algorithm',\n",
       " 'Adam Optimizer',\n",
       " 'Adaptive boosting',\n",
       " 'Adaptive gradient algorithm',\n",
       " 'Adaptive noise']"
      ]
     },
     "execution_count": 7,
     "metadata": {},
     "output_type": "execute_result"
    }
   ],
   "source": [
    "from techminer.keywords import Keywords\n",
    "\n",
    "kyw = Keywords()\n",
    "kyw.add_keywords(pdf.keywords, sep=\";\")\n",
    "kyw.keywords[0:20]"
   ]
  },
  {
   "cell_type": "code",
   "execution_count": 8,
   "metadata": {},
   "outputs": [
    {
     "data": {
      "text/plain": [
       "0"
      ]
     },
     "execution_count": 8,
     "metadata": {},
     "output_type": "execute_result"
    }
   ],
   "source": [
    "#\n",
    "# Number of records without abstract\n",
    "#\n",
    "len(pdf[pdf.Abstract.map(lambda x: x is None)])"
   ]
  },
  {
   "cell_type": "code",
   "execution_count": 9,
   "metadata": {},
   "outputs": [
    {
     "data": {
      "text/plain": [
       "0"
      ]
     },
     "execution_count": 9,
     "metadata": {},
     "output_type": "execute_result"
    }
   ],
   "source": [
    "#\n",
    "# Number of rows without title\n",
    "#\n",
    "len(pdf[pdf[\"Title\"].map(lambda x: x is None)])"
   ]
  },
  {
   "cell_type": "code",
   "execution_count": 10,
   "metadata": {},
   "outputs": [],
   "source": [
    "#\n",
    "# Remove copyright character from abstract\n",
    "#\n",
    "pdf[\"Abstract\"] = pdf.Abstract.map(\n",
    "    lambda x: x[0 : x.find(\"\\u00a9\")]\n",
    "    if isinstance(x, str) and x.find(\"\\u00a9\") != -1\n",
    "    else x\n",
    ")"
   ]
  },
  {
   "cell_type": "code",
   "execution_count": 11,
   "metadata": {},
   "outputs": [],
   "source": [
    "#\n",
    "# We combine title and abstract in a variable\n",
    "#\n",
    "title_abstract = pdf[\"Title\"] + \" \" + pdf[\"Abstract\"]"
   ]
  },
  {
   "cell_type": "code",
   "execution_count": 12,
   "metadata": {},
   "outputs": [],
   "source": [
    "#\n",
    "# Extracts previous recorded keywords using the Keywords object.\n",
    "#\n",
    "keywords_in_title_and_abstract = title_abstract.map(\n",
    "    lambda x: kyw.extract_from_text(x, sep=\";\")\n",
    ")"
   ]
  },
  {
   "cell_type": "code",
   "execution_count": 13,
   "metadata": {},
   "outputs": [],
   "source": [
    "#\n",
    "# Adds the new keywords only to rows without keywords\n",
    "#\n",
    "idx = pdf.keywords.map(lambda x: x is None)\n",
    "pdf.loc[idx, \"keywords\"] = keywords_in_title_and_abstract[idx]"
   ]
  },
  {
   "cell_type": "code",
   "execution_count": 14,
   "metadata": {},
   "outputs": [
    {
     "data": {
      "text/plain": [
       "0"
      ]
     },
     "execution_count": 14,
     "metadata": {},
     "output_type": "execute_result"
    }
   ],
   "source": [
    "#\n",
    "# Verify the number of rows without keywords\n",
    "#\n",
    "len(pdf[pdf.keywords.map(lambda x: x is None)])"
   ]
  }
 ],
 "metadata": {
  "kernelspec": {
   "display_name": "Python 3",
   "language": "python",
   "name": "python3"
  },
  "language_info": {
   "codemirror_mode": {
    "name": "ipython",
    "version": 3
   },
   "file_extension": ".py",
   "mimetype": "text/x-python",
   "name": "python",
   "nbconvert_exporter": "python",
   "pygments_lexer": "ipython3",
   "version": "3.6.9"
  }
 },
 "nbformat": 4,
 "nbformat_minor": 4
}
