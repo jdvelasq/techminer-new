{
 "cells": [
  {
   "cell_type": "markdown",
   "metadata": {},
   "source": [
    "# Step 4: Deleting of records"
   ]
  },
  {
   "cell_type": "code",
   "execution_count": 1,
   "metadata": {},
   "outputs": [],
   "source": [
    "import pandas as pd\n",
    "from techminer import RecordsDataFrame\n",
    "\n",
    "rdf = RecordsDataFrame(pd.read_json(\"step-03.json\", orient=\"records\", lines=True))"
   ]
  },
  {
   "cell_type": "markdown",
   "metadata": {},
   "source": [
    "## Deleting of abstracts of proceedings and workshops "
   ]
  },
  {
   "cell_type": "code",
   "execution_count": 2,
   "metadata": {},
   "outputs": [],
   "source": [
    "from techminer import Keywords\n",
    "\n",
    "conf = Keywords()\n",
    "conf.add_keywords([\"Conference\", \"Proceeding\", \"Workshop\", \"Congress\"])\n",
    "rdf[\"CONF\"] = rdf[\"Title\"].map(lambda x: True if x in conf else False)"
   ]
  },
  {
   "cell_type": "code",
   "execution_count": 3,
   "metadata": {},
   "outputs": [
    {
     "name": "stdout",
     "output_type": "stream",
     "text": [
      "6th International Conference on Mining Intelligence and Knowledge Exploration, MIKE 2018\n",
      "IEEE Conference on Evolving and Adaptive Intelligent Systems\n",
      "European Conference on Machine Learning and Principles and Practice of Knowledge Discovery in Databases, ECML PKDD 2017\n",
      "European Conference on Machine Learning and Principles and Practice of Knowledge Discovery in Databases, ECML PKDD 2017\n",
      "European Conference on Machine Learning and Principles and Practice of Knowledge Discovery in Databases, ECML PKDD 2017\n",
      "Intelligent Computing in Bioinformatics - 10th International Conference, ICIC 2014, Proceedings\n"
     ]
    }
   ],
   "source": [
    "for title in rdf[rdf[\"CONF\"]][\"Title\"]:\n",
    "    print(title)"
   ]
  },
  {
   "cell_type": "code",
   "execution_count": 4,
   "metadata": {},
   "outputs": [
    {
     "name": "stdout",
     "output_type": "stream",
     "text": [
      "Num. records before =  152\n",
      "Num. records after =  146\n"
     ]
    }
   ],
   "source": [
    "print(\"Num. records before = \", len(rdf))\n",
    "rdf = rdf[rdf[\"CONF\"].map(lambda x: False if x is True else True)]\n",
    "print(\"Num. records after = \", len(rdf))"
   ]
  },
  {
   "cell_type": "markdown",
   "metadata": {},
   "source": [
    "## Deleting of documents with the same title"
   ]
  },
  {
   "cell_type": "code",
   "execution_count": 5,
   "metadata": {},
   "outputs": [
    {
     "name": "stdout",
     "output_type": "stream",
     "text": [
      "Num. records before =  146\n",
      "Num. records after =  145\n"
     ]
    }
   ],
   "source": [
    "from techminer import remove_duplicate_records\n",
    "\n",
    "print(\"Num. records before = \", len(rdf))\n",
    "rdf = remove_duplicate_records(rdf, \"Title\", match_type=\"fingerprint\")\n",
    "print(\"Num. records after = \", len(rdf))"
   ]
  },
  {
   "cell_type": "code",
   "execution_count": 6,
   "metadata": {},
   "outputs": [],
   "source": [
    "rdf.to_json(\"step-04.json\", orient=\"records\", lines=True)"
   ]
  }
 ],
 "metadata": {
  "kernelspec": {
   "display_name": "Python 3",
   "language": "python",
   "name": "python3"
  },
  "language_info": {
   "codemirror_mode": {
    "name": "ipython",
    "version": 3
   },
   "file_extension": ".py",
   "mimetype": "text/x-python",
   "name": "python",
   "nbconvert_exporter": "python",
   "pygments_lexer": "ipython3",
   "version": "3.6.9"
  }
 },
 "nbformat": 4,
 "nbformat_minor": 4
}
