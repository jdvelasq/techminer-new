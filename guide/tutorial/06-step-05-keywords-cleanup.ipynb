{
 "cells": [
  {
   "cell_type": "markdown",
   "metadata": {},
   "source": [
    "# Step 5: Keywords cleanup"
   ]
  },
  {
   "cell_type": "code",
   "execution_count": 1,
   "metadata": {},
   "outputs": [],
   "source": [
    "import pandas as pd\n",
    "from techminer import RecordsDataFrame\n",
    "\n",
    "rdf = RecordsDataFrame(pd.read_json(\"step-04.json\", orient=\"records\", lines=True))"
   ]
  },
  {
   "cell_type": "markdown",
   "metadata": {},
   "source": [
    "## Keywords with equal number of words"
   ]
  },
  {
   "cell_type": "code",
   "execution_count": 2,
   "metadata": {},
   "outputs": [
    {
     "name": "stdout",
     "output_type": "stream",
     "text": [
      "{\n",
      "  \"algorithm\": [\n",
      "    \"Algorithms\",\n",
      "    \"algorithm\",\n",
      "    \"algorithms\"\n",
      "  ],\n",
      "  \"ann\": [\n",
      "    \"ANN\",\n",
      "    \"ann\"\n",
      "  ],\n",
      "  \"anomaly detection\": [\n",
      "    \"Anomaly detection\",\n",
      "    \"anomaly detection\"\n",
      "  ],\n",
      "  \"arima modeling\": [\n",
      "    \"ARIMA Model\",\n",
      "    \"ARIMA model\",\n",
      "    \"ARIMA modeling\"\n",
      "  ],\n",
      "  \"article\": [\n",
      "    \"ARTICLE\",\n",
      "    \"Article\",\n",
      "    \"article\"\n",
      "  ],\n",
      "  \"artificial intelligence\": [\n",
      "    \"Artificial intelligence\",\n",
      "    \"artificial intelligence\"\n",
      "  ],\n",
      "  \"artificial neural network\": [\n",
      "    \"Artificial Neural Network\",\n"
     ]
    }
   ],
   "source": [
    "from techminer import Thesaurus, text_clustering\n",
    "\n",
    "#\n",
    "# Search of keywords with the same root\n",
    "#\n",
    "th = text_clustering(rdf['keywords'], sep=';', transformer=lambda x: x.lower())\n",
    "with open('thesaurus-1.json', 'w') as f:\n",
    "    f.write(th.__repr__())\n",
    "!head -n 30 thesaurus-1.json"
   ]
  },
  {
   "cell_type": "code",
   "execution_count": 3,
   "metadata": {},
   "outputs": [
    {
     "name": "stdout",
     "output_type": "stream",
     "text": [
      "1211\n"
     ]
    }
   ],
   "source": [
    "#\n",
    "#  Number of strings differing in keywords\n",
    "#\n",
    "print(\n",
    "    len(\n",
    "        set([w.strip() for x in rdf[\"keywords\"] if x is not None for w in x.split(\";\")])\n",
    "    )\n",
    ")"
   ]
  },
  {
   "cell_type": "code",
   "execution_count": 4,
   "metadata": {},
   "outputs": [],
   "source": [
    "#\n",
    "# Reading of keywords edited by the analyst\n",
    "#\n",
    "import json\n",
    "\n",
    "with open(\"thesaurus-1-edited.json\", \"r\") as f:\n",
    "    dictionary = json.loads(\" \".join(f.readlines()))\n",
    "\n",
    "##\n",
    "## Limpieza\n",
    "##\n",
    "from techminer import Thesaurus\n",
    "\n",
    "th = Thesaurus(dictionary, ignore_case=False, full_match=True, use_re=False)\n",
    "rdf[\"keywords (cleaned)\"] = rdf[\"keywords\"].map(lambda x: th.apply(x, sep=\";\"))\n",
    "rdf[\"keywords (cleaned)\"] = rdf[\"keywords (cleaned)\"].map(\n",
    "    lambda x: \";\".join(set([w.strip() for w in x.split(\";\")]))\n",
    ")\n",
    "rdf[\"keywords (cleaned)\"] = rdf[\"keywords (cleaned)\"].map(\n",
    "    lambda x: x if x != \"\" else None\n",
    ")"
   ]
  },
  {
   "cell_type": "code",
   "execution_count": 5,
   "metadata": {},
   "outputs": [
    {
     "name": "stdout",
     "output_type": "stream",
     "text": [
      "1010\n"
     ]
    }
   ],
   "source": [
    "#\n",
    "# Number unique of strings\n",
    "#\n",
    "print(\n",
    "    len(\n",
    "        set(\n",
    "            [\n",
    "                w.strip()\n",
    "                for x in rdf[\"keywords (cleaned)\"]\n",
    "                if x is not None\n",
    "                for w in x.split(\";\")\n",
    "            ]\n",
    "        )\n",
    "    )\n",
    ")"
   ]
  },
  {
   "cell_type": "markdown",
   "metadata": {},
   "source": [
    "## Substrings clustering"
   ]
  },
  {
   "cell_type": "code",
   "execution_count": 6,
   "metadata": {},
   "outputs": [
    {
     "name": "stdout",
     "output_type": "stream",
     "text": [
      "{\n",
      "  \"adaboost algorithm\": [\n",
      "    \"AdaBoost algorithm\",\n",
      "    \"validating AdaBoost algorithm\"\n",
      "  ],\n",
      "  \"adaptive noise\": [\n",
      "    \"Adaptive noise\",\n",
      "    \"adaptive noise reducer\"\n",
      "  ],\n",
      "  \"algorithmic trading\": [\n",
      "    \"Algorithmic trading\",\n",
      "    \"Algorithmic trading models\"\n",
      "  ],\n",
      "  \"algorithms\": [\n",
      "    \"Algorithmic approach\",\n",
      "    \"Analysis algorithms\",\n",
      "    \"Boruta algorithm\",\n",
      "    \"Classification algorithm\",\n",
      "    \"Clustering algorithms\",\n",
      "    \"Immune algorithms\",\n",
      "    \"Learning algorithms\",\n",
      "    \"Learning-based algorithms\",\n",
      "    \"Levenberg-Marquardt algorithm\",\n",
      "    \"NARX algorithm\",\n",
      "    \"State-of-the-art algorithms\",\n",
      "    \"algorithms\",\n",
      "    \"genetic algorithms\",\n",
      "    \"hybrid algorithms\"\n",
      "  ],\n",
      "  \"arima\": [\n",
      "    \"ARIMA\",\n",
      "    \"arima modeling\"\n",
      "  ],\n",
      "  \"article\": [\n",
      "    \"ARTICLE\",\n",
      "    \"Article\",\n",
      "    \"article\"\n",
      "  ],\n",
      "  \"artificial intelligence\": [\n",
      "    \"Artificial Intelligence (AI)\",\n",
      "    \"Artificial intelligence\",\n",
      "    \"artificial intelligence\"\n",
      "  ],\n",
      "  \"artificial neural networks\": [\n",
      "    \"Artificial Neural Network\",\n",
      "    \"Artificial Neural Networks\",\n",
      "    \"Artificial neural network models\",\n",
      "    \"Artificial neural networks (ANN)\",\n",
      "    \"artificial neural networks\"\n",
      "  ],\n",
      "  \"attention\": [\n",
      "    \"Attention\",\n",
      "    \"attention mechanisms\"\n",
      "  ],\n",
      "  \"autoencoder\": [\n",
      "    \"Autoencoder\",\n",
      "    \"autoencoder\"\n",
      "  ],\n",
      "  \"backpropagation\": [\n",
      "    \"Backpropagation\",\n"
     ]
    }
   ],
   "source": [
    "#\n",
    "# Substrings in keywords\n",
    "#\n",
    "from techminer import text_nesting\n",
    "tn = text_nesting(rdf['keywords (cleaned)'], sep=';', max_distance=1, transformer=lambda x: x.lower())\n",
    "with open('thesaurus-2.json', 'w') as f:\n",
    "    f.write(tn.__repr__())\n",
    "!head -n 60 thesaurus-2.json"
   ]
  },
  {
   "cell_type": "code",
   "execution_count": 7,
   "metadata": {},
   "outputs": [
    {
     "name": "stdout",
     "output_type": "stream",
     "text": [
      "{\n",
      "  \"(2D) 2 PCA\": [\n",
      "    \"(2D) 2 PCA\",\n",
      "    \"(2D) <sup>2</sup> PCA\"\n",
      "  ],\n",
      "  \"Empirical research\": [\n",
      "    \"Empirical research\",\n",
      "    \"Empirical studies\"\n",
      "  ],\n",
      "  \"(2D) 2 PCA\": [\n",
      "    \"(2D) 2 PCA\",\n",
      "    \"(2D) <sup>2</sup> PCA\"\n",
      "  ],\n",
      "  \"Learning-based algorithms\": [\n",
      "    \"Learning-based algorithms\",\n",
      "    \"Learning-based approach\",\n",
      "    \"Learning-based methods\"\n",
      "  ],\n",
      "  \"Classifiers\": [\n",
      "    \"Classification Methods\",\n",
      "    \"Classification algorithm\",\n",
      "    \"Classification methods\"\n",
      "  ],\n",
      "  \"Forex\": [\n",
      "    \"Forex (FX)\",\n",
      "    \"Forex markets\"\n",
      "  ],\n",
      "  \"Elman neural network\": [\n",
      "    \"Elman neural network\",\n",
      "    \"Elman recurrent neural network\",\n",
      "    \"Elman network\"\n",
      "  ],\n",
      "  \"adaboost algorithm\": [\n",
      "    \"AdaBoost algorithm\",\n",
      "    \"validating AdaBoost algorithm\"\n",
      "  ],\n",
      "  \"adaptive noise\": [\n",
      "    \"Adaptive noise\",\n",
      "    \"adaptive noise reducer\"\n",
      "  ],\n",
      "  \"algorithmic trading\": [\n",
      "    \"Algorithmic trading\",\n",
      "    \"Algorithmic trading models\"\n",
      "  ],\n",
      "  \"algorithms\": [\n",
      "    \"Algorithmic approach\",\n",
      "    \"Analysis algorithms\",\n",
      "    \"State-of-the-art algorithms\",\n",
      "    \"algorithms\"\n",
      "  ],\n",
      "  \"arima\": [\n",
      "    \"ARIMA\",\n",
      "    \"arima modeling\",\n",
      "    \"Autoregressive Integrated Moving Average (ARIMA)\",\n",
      "    \"Autoregressive integrated moving average models\",\n",
      "    \"Auto-regressive integrated moving average\",\n",
      "    \"arima\",\n",
      "    \"seasonal autoregressive integrated moving average\"\n",
      "  ],\n",
      "  \"artificial intelligence\": [\n"
     ]
    }
   ],
   "source": [
    "!head -n 60 thesaurus-2-edited.json"
   ]
  },
  {
   "cell_type": "code",
   "execution_count": 8,
   "metadata": {},
   "outputs": [],
   "source": [
    "with open(\"thesaurus-2-edited.json\", \"r\") as f:\n",
    "    dictionary = json.loads(\" \".join(f.readlines()))\n",
    "th = Thesaurus(dictionary, ignore_case=False, full_match=True, use_re=False)"
   ]
  },
  {
   "cell_type": "code",
   "execution_count": 9,
   "metadata": {},
   "outputs": [],
   "source": [
    "rdf[\"keywords (cleaned)\"] = rdf[\"keywords (cleaned)\"].map(\n",
    "    lambda x: th.apply(x, sep=\";\")\n",
    ")\n",
    "rdf[\"keywords (cleaned)\"] = rdf[\"keywords (cleaned)\"].map(\n",
    "    lambda x: \";\".join(set([w.strip() for w in x.split(\";\")]))\n",
    ")\n",
    "rdf[\"keywords (cleaned)\"] = rdf[\"keywords (cleaned)\"].map(\n",
    "    lambda x: x if x != \"\" else None\n",
    ")"
   ]
  },
  {
   "cell_type": "code",
   "execution_count": 10,
   "metadata": {},
   "outputs": [
    {
     "name": "stdout",
     "output_type": "stream",
     "text": [
      "765\n"
     ]
    }
   ],
   "source": [
    "#\n",
    "# Number of unique keywords\n",
    "#\n",
    "print(\n",
    "    len(\n",
    "        set(\n",
    "            [\n",
    "                w.strip()\n",
    "                for x in rdf[\"keywords (cleaned)\"]\n",
    "                if x is not None\n",
    "                for w in x.split(\";\")\n",
    "            ]\n",
    "        )\n",
    "    )\n",
    ")"
   ]
  },
  {
   "cell_type": "code",
   "execution_count": 11,
   "metadata": {},
   "outputs": [
    {
     "name": "stdout",
     "output_type": "stream",
     "text": [
      "-----------------------------------------------\n",
      "Record index: 0\n",
      "{\n",
      "  \"Title\": \"Improving DWT-RNN model via B-spline wavelet multiresolution to forecast a high-frequency time series\",\n",
      "  \"keywords (cleaned)\": \"trends;Nonlinear autoregressive neural network;empirical mode decomposition;Moving average;long short-term memory neural network;Noise reduction;machine learning;time series forecasting;Meta-learning\"\n",
      "}\n",
      "-----------------------------------------------\n",
      "Record index: 1\n",
      "{\n",
      "  \"Title\": \"Direct marketing campaigns in retail banking with the use of deep learning and random forests\",\n",
      "  \"keywords (cleaned)\": \"Novel applications;Earnings;Tokyo Stock Exchange;costs;Consumer price index;Information science;stock prediction;Newsprint;long short-term memory neural network;Distributed representation;time series forecasting;financial data;Textual information\"\n",
      "}\n",
      "-----------------------------------------------\n",
      "Record index: 2\n",
      "{\n",
      "  \"Title\": \"Combining time-series and textual data for taxi demand prediction in event areas: A deep learning approach\",\n",
      "  \"keywords (cleaned)\": \"Self-organized neural networks;financial time series forecasting;Exchange rate time series;feedforward neural networks;Stationary signal;algorithms;Immune algorithms;recurrent neural networks;dynamic neural networks;Self-organised;Exchange rates;intelligent computing;financial data;regularization;Bioinformatics\"\n",
      "}\n",
      "-----------------------------------------------\n",
      "Record index: 3\n",
      "{\n",
      "  \"Title\": \"Stock price forecasting model based on modified convolution neural network and financial time series analysis\",\n",
      "  \"keywords (cleaned)\": \"Financial applications;Financial markets;forecasting;financial time series forecasting;time series;deep learning;Computational technology;trading;Auto-regressive exogenous inputs;Risk assessment;mean square error;Bankruptcy prediction;NARX algorithm;stock forecasting;artificial intelligence;commerce;Levenberg-Marquardt algorithm;Learning algorithms;Big data;stock prediction\"\n",
      "}\n",
      "-----------------------------------------------\n",
      "Record index: 4\n",
      "{\n",
      "  \"Title\": \"Sentiment-aware volatility forecasting\",\n",
      "  \"keywords (cleaned)\": \"Financial markets;forecasting accuracy;Historical data;forecasting;Long-term forecasting;deep learning;artificial neural networks;Learning architectures;trading;stock forecasting;Market forecast;long short-term memory neural network;time series forecasting;Multi variate analysis;commerce;Multivariant analysis\"\n",
      "}\n",
      "-----------------------------------------------\n",
      "Record index: 5\n",
      "{\n",
      "  \"Title\": \"DeepLOB: Deep convolutional neural networks for limit order books\",\n",
      "  \"keywords (cleaned)\": \"Topology;forecasting accuracy;forecasting;Signal reconstruction;financial time series forecasting;high-frequency data;deep learning;Directional accuracy;finance;Dow Jones Industrial averages;Metadata;wavelet transforms;High-frequency forecasting;High frequency HF;financial data;Short term prediction\"\n",
      "}\n",
      "-----------------------------------------------\n",
      "Record index: 6\n",
      "{\n",
      "  \"Title\": \"DeepClue: Visual interpretation of text-based deep stock prediction\",\n",
      "  \"keywords (cleaned)\": \"stock markets;forecasting;trading;Threshold parameters;Classifiers;time series forecasting;Pattern recognition;Learning algorithms;Brain;Financial markets;time series;long short-term memory neural network;machine learning;Potassium alloys;Directional predictions;commerce;financial time series;Binary alloys;Uranium alloys;artificial neural networks;recurrent neural networks;Learning systems;Nearest neighbor search;anomaly detection\"\n",
      "}\n",
      "-----------------------------------------------\n",
      "Record index: 7\n",
      "{\n",
      "  \"Title\": \"Stock Price Prediction Based on Information Entropy and Artificial Neural Network\",\n",
      "  \"keywords (cleaned)\": \"Financial markets;forecasting;investments;deep learning;Data augmentation;financial time series;time series;mean square error;long short-term memory neural network;overfitting;Stock market index;Medical data analysis;commerce;mean absolute error;Errors;financial data;decision making\"\n",
      "}\n",
      "-----------------------------------------------\n",
      "Record index: 8\n",
      "{\n",
      "  \"Title\": \"Deep Temporal Logistic Bag-of-features for Forecasting High Frequency Limit Order Book Time Series\",\n",
      "  \"keywords (cleaned)\": \"Multi-step ahead forecast;economics;forecasting;time series;Recursive prediction;predictive capabilities;algorithms;recurrent neural networks;arima;Data mining;support vector machines;time series forecasting;Complex networks;Comparative analysis;Big data\"\n",
      "}\n",
      "-----------------------------------------------\n",
      "Record index: 9\n",
      "{\n",
      "  \"Title\": \"Comparison of Predictive Algorithms: Backpropagation, SVM, LSTM and Kalman Filter for Stock Market\",\n",
      "  \"keywords (cleaned)\": \"polynomials;forecasting;PFLARNN;trading;Evolutionary algorithms;Stock indices;Learning algorithms;differential evolution;optimization;Financial markets;time series;algorithms;commerce;financial data;IBM stock indices;backpropagation;finance;Parameter estimation;Complex networks;AMAPE;artificial neural networks;functions;mape;recurrent neural networks\"\n",
      "}\n"
     ]
    }
   ],
   "source": [
    "#\n",
    "# Review\n",
    "#\n",
    "from techminer import display_records\n",
    "\n",
    "display_records(rdf[[\"Title\", \"keywords (cleaned)\"]].head(10))"
   ]
  },
  {
   "cell_type": "markdown",
   "metadata": {},
   "source": [
    "## Deleting based on keywords or other text"
   ]
  },
  {
   "cell_type": "code",
   "execution_count": 12,
   "metadata": {},
   "outputs": [
    {
     "name": "stdout",
     "output_type": "stream",
     "text": [
      "-----------------------------------------------\n",
      "Record index: 0\n",
      "{\n",
      "  \"Title\": \"Improving DWT-RNN model via B-spline wavelet multiresolution to forecast a high-frequency time series\",\n",
      "  \"keywords (cleaned)\": \"trends;Nonlinear autoregressive neural network;empirical mode decomposition;Moving average;long short-term memory neural network;Noise reduction;machine learning;time series forecasting;Meta-learning\"\n",
      "}\n",
      "-----------------------------------------------\n",
      "Record index: 1\n",
      "{\n",
      "  \"Title\": \"Direct marketing campaigns in retail banking with the use of deep learning and random forests\",\n",
      "  \"keywords (cleaned)\": \"Novel applications;Earnings;Tokyo Stock Exchange;costs;Consumer price index;Information science;stock prediction;Newsprint;long short-term memory neural network;Distributed representation;time series forecasting;financial data;Textual information\"\n",
      "}\n",
      "-----------------------------------------------\n",
      "Record index: 2\n",
      "{\n",
      "  \"Title\": \"Combining time-series and textual data for taxi demand prediction in event areas: A deep learning approach\",\n",
      "  \"keywords (cleaned)\": \"Self-organized neural networks;financial time series forecasting;Exchange rate time series;feedforward neural networks;Stationary signal;algorithms;Immune algorithms;recurrent neural networks;dynamic neural networks;Self-organised;Exchange rates;intelligent computing;financial data;regularization;Bioinformatics\"\n",
      "}\n",
      "-----------------------------------------------\n",
      "Record index: 3\n",
      "{\n",
      "  \"Title\": \"Stock price forecasting model based on modified convolution neural network and financial time series analysis\",\n",
      "  \"keywords (cleaned)\": \"Financial applications;Financial markets;forecasting;financial time series forecasting;time series;deep learning;Computational technology;trading;Auto-regressive exogenous inputs;Risk assessment;mean square error;Bankruptcy prediction;NARX algorithm;stock forecasting;artificial intelligence;commerce;Levenberg-Marquardt algorithm;Learning algorithms;Big data;stock prediction\"\n",
      "}\n",
      "-----------------------------------------------\n",
      "Record index: 4\n",
      "{\n",
      "  \"Title\": \"Sentiment-aware volatility forecasting\",\n",
      "  \"keywords (cleaned)\": \"Financial markets;forecasting accuracy;Historical data;forecasting;Long-term forecasting;deep learning;artificial neural networks;Learning architectures;trading;stock forecasting;Market forecast;long short-term memory neural network;time series forecasting;Multi variate analysis;commerce;Multivariant analysis\"\n",
      "}\n",
      "-----------------------------------------------\n",
      "Record index: 5\n",
      "{\n",
      "  \"Title\": \"DeepLOB: Deep convolutional neural networks for limit order books\",\n",
      "  \"keywords (cleaned)\": \"Topology;forecasting accuracy;forecasting;Signal reconstruction;financial time series forecasting;high-frequency data;deep learning;Directional accuracy;finance;Dow Jones Industrial averages;Metadata;wavelet transforms;High-frequency forecasting;High frequency HF;financial data;Short term prediction\"\n",
      "}\n",
      "-----------------------------------------------\n",
      "Record index: 6\n",
      "{\n",
      "  \"Title\": \"DeepClue: Visual interpretation of text-based deep stock prediction\",\n",
      "  \"keywords (cleaned)\": \"stock markets;forecasting;trading;Threshold parameters;Classifiers;time series forecasting;Pattern recognition;Learning algorithms;Brain;Financial markets;time series;long short-term memory neural network;machine learning;Potassium alloys;Directional predictions;commerce;financial time series;Binary alloys;Uranium alloys;artificial neural networks;recurrent neural networks;Learning systems;Nearest neighbor search;anomaly detection\"\n",
      "}\n",
      "-----------------------------------------------\n",
      "Record index: 7\n",
      "{\n",
      "  \"Title\": \"Stock Price Prediction Based on Information Entropy and Artificial Neural Network\",\n",
      "  \"keywords (cleaned)\": \"Financial markets;forecasting;investments;deep learning;Data augmentation;financial time series;time series;mean square error;long short-term memory neural network;overfitting;Stock market index;Medical data analysis;commerce;mean absolute error;Errors;financial data;decision making\"\n",
      "}\n",
      "-----------------------------------------------\n",
      "Record index: 8\n",
      "{\n",
      "  \"Title\": \"Deep Temporal Logistic Bag-of-features for Forecasting High Frequency Limit Order Book Time Series\",\n",
      "  \"keywords (cleaned)\": \"Multi-step ahead forecast;economics;forecasting;time series;Recursive prediction;predictive capabilities;algorithms;recurrent neural networks;arima;Data mining;support vector machines;time series forecasting;Complex networks;Comparative analysis;Big data\"\n",
      "}\n",
      "-----------------------------------------------\n",
      "Record index: 9\n",
      "{\n",
      "  \"Title\": \"Comparison of Predictive Algorithms: Backpropagation, SVM, LSTM and Kalman Filter for Stock Market\",\n",
      "  \"keywords (cleaned)\": \"polynomials;forecasting;PFLARNN;trading;Evolutionary algorithms;Stock indices;Learning algorithms;differential evolution;optimization;Financial markets;time series;algorithms;commerce;financial data;IBM stock indices;backpropagation;finance;Parameter estimation;Complex networks;AMAPE;artificial neural networks;functions;mape;recurrent neural networks\"\n",
      "}\n"
     ]
    }
   ],
   "source": [
    "from techminer import display_records\n",
    "\n",
    "display_records(rdf[[\"Title\", \"keywords (cleaned)\"]].head(10))"
   ]
  },
  {
   "cell_type": "code",
   "execution_count": 13,
   "metadata": {},
   "outputs": [
    {
     "data": {
      "text/plain": [
       "[\n",
       "  \"Vacuum\",\n",
       "  \"market data\"\n",
       "]\n",
       "ignore_case=True, full_match=False, use_re=False"
      ]
     },
     "execution_count": 13,
     "metadata": {},
     "output_type": "execute_result"
    }
   ],
   "source": [
    "from techminer.keywords import Keywords\n",
    "\n",
    "kyw = Keywords()\n",
    "kyw.add_keywords([\"Vacuum\", \"market data\"])\n",
    "kyw"
   ]
  },
  {
   "cell_type": "code",
   "execution_count": 14,
   "metadata": {},
   "outputs": [
    {
     "data": {
      "text/plain": [
       "True"
      ]
     },
     "execution_count": 14,
     "metadata": {},
     "output_type": "execute_result"
    }
   ],
   "source": [
    "\"vacuum\" in kyw"
   ]
  },
  {
   "cell_type": "code",
   "execution_count": 15,
   "metadata": {},
   "outputs": [],
   "source": [
    "idx = rdf[\"keywords (cleaned)\"].map(lambda x: not kyw.common(x, sep=\";\"))"
   ]
  },
  {
   "cell_type": "code",
   "execution_count": 16,
   "metadata": {},
   "outputs": [
    {
     "data": {
      "text/plain": [
       "0     True\n",
       "1     True\n",
       "2     True\n",
       "3     True\n",
       "4     True\n",
       "5     True\n",
       "6     True\n",
       "7     True\n",
       "8     True\n",
       "9     True\n",
       "10    True\n",
       "11    True\n",
       "12    True\n",
       "13    True\n",
       "14    True\n",
       "15    True\n",
       "16    True\n",
       "17    True\n",
       "18    True\n",
       "19    True\n",
       "Name: keywords (cleaned), dtype: bool"
      ]
     },
     "execution_count": 16,
     "metadata": {},
     "output_type": "execute_result"
    }
   ],
   "source": [
    "idx[0:20]"
   ]
  },
  {
   "cell_type": "code",
   "execution_count": 17,
   "metadata": {},
   "outputs": [
    {
     "name": "stdout",
     "output_type": "stream",
     "text": [
      "Records before =  145\n",
      "Records after =  144\n"
     ]
    }
   ],
   "source": [
    "print(\"Records before = \", len(rdf))\n",
    "rdf = rdf[idx]\n",
    "print(\"Records after = \", len(rdf))"
   ]
  },
  {
   "cell_type": "code",
   "execution_count": 18,
   "metadata": {},
   "outputs": [],
   "source": [
    "rdf.to_json(\"step-05.json\", orient=\"records\", lines=True)"
   ]
  }
 ],
 "metadata": {
  "kernelspec": {
   "display_name": "Python 3",
   "language": "python",
   "name": "python3"
  },
  "language_info": {
   "codemirror_mode": {
    "name": "ipython",
    "version": 3
   },
   "file_extension": ".py",
   "mimetype": "text/x-python",
   "name": "python",
   "nbconvert_exporter": "python",
   "pygments_lexer": "ipython3",
   "version": "3.6.9"
  }
 },
 "nbformat": 4,
 "nbformat_minor": 4
}
