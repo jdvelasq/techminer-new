{
 "cells": [
  {
   "cell_type": "markdown",
   "metadata": {},
   "source": [
    "# Keywords cleanup"
   ]
  },
  {
   "cell_type": "code",
   "execution_count": 3,
   "metadata": {},
   "outputs": [],
   "source": [
    "import pandas as pd\n",
    "\n",
    "pdf = pd.read_json(\"data-02.json\", orient=\"records\", lines=True)"
   ]
  },
  {
   "cell_type": "code",
   "execution_count": null,
   "metadata": {},
   "outputs": [],
   "source": [
    "from techminer import DataFrame\n",
    "\n",
    "rdf = RecordsDataFrame(pd.read_json(\"step-04.json\", orient=\"records\", lines=True))"
   ]
  },
  {
   "cell_type": "markdown",
   "metadata": {},
   "source": [
    "## Keywords with equal number of words"
   ]
  },
  {
   "cell_type": "code",
   "execution_count": 4,
   "metadata": {},
   "outputs": [
    {
     "name": "stdout",
     "output_type": "stream",
     "text": [
      "{\n",
      "  \"algorithm\": [\n",
      "    \"Algorithms\",\n",
      "    \"algorithm\",\n",
      "    \"algorithms\"\n",
      "  ],\n",
      "  \"ann\": [\n",
      "    \"ANN\",\n",
      "    \"ann\"\n",
      "  ],\n",
      "  \"anomaly detection\": [\n",
      "    \"Anomaly detection\",\n",
      "    \"anomaly detection\"\n",
      "  ],\n",
      "  \"arima modeling\": [\n",
      "    \"ARIMA Model\",\n",
      "    \"ARIMA model\",\n",
      "    \"ARIMA modeling\"\n",
      "  ],\n",
      "  \"article\": [\n",
      "    \"ARTICLE\",\n",
      "    \"Article\",\n",
      "    \"article\"\n",
      "  ],\n",
      "  \"artificial intelligence\": [\n",
      "    \"Artificial intelligence\",\n",
      "    \"artificial intelligence\"\n",
      "  ],\n",
      "  \"artificial neural network\": [\n",
      "    \"Artificial Neural Network\",\n"
     ]
    }
   ],
   "source": [
    "from techminer import Thesaurus, text_clustering\n",
    "\n",
    "#\n",
    "# Search of keywords with the same root\n",
    "#\n",
    "th = text_clustering(pdf.keywords, sep=';', transformer=lambda x: x.lower())\n",
    "with open('thesaurus-1.json', 'w') as f:\n",
    "    f.write(th.__repr__())\n",
    "!head -n 30 thesaurus-1.json"
   ]
  },
  {
   "cell_type": "code",
   "execution_count": 6,
   "metadata": {},
   "outputs": [
    {
     "name": "stdout",
     "output_type": "stream",
     "text": [
      "1210\n"
     ]
    }
   ],
   "source": [
    "#\n",
    "#  Number of strings differing in keywords\n",
    "#\n",
    "print(\n",
    "    len(set([w.strip() for x in pdf.keywords if x is not None for w in x.split(\";\")]))\n",
    ")"
   ]
  },
  {
   "cell_type": "code",
   "execution_count": 7,
   "metadata": {},
   "outputs": [],
   "source": [
    "#\n",
    "# Reading of keywords edited by the analyst\n",
    "#\n",
    "import json\n",
    "\n",
    "##\n",
    "## cleaning\n",
    "##\n",
    "from techminer import Thesaurus\n",
    "\n",
    "with open(\"thesaurus-1-edited.json\", \"r\") as f:\n",
    "    dictionary = json.loads(\" \".join(f.readlines()))\n",
    "\n",
    "\n",
    "th = Thesaurus(dictionary, ignore_case=False, full_match=True, use_re=False)\n",
    "pdf[\"keywords_cleaned\"] = pdf.keywords.map(lambda x: th.apply(x, sep=\";\"))\n",
    "pdf[\"keywords_cleaned\"] = pdf.keywords_cleaned.map(\n",
    "    lambda x: \";\".join(set([w.strip() for w in x.split(\";\")]))\n",
    ")\n",
    "pdf[\"keywords_cleaned\"] = pdf.keywords_cleaned.map(lambda x: x if x != \"\" else None)"
   ]
  },
  {
   "cell_type": "code",
   "execution_count": 9,
   "metadata": {},
   "outputs": [
    {
     "name": "stdout",
     "output_type": "stream",
     "text": [
      "1009\n"
     ]
    }
   ],
   "source": [
    "#\n",
    "# Number unique of strings\n",
    "#\n",
    "print(\n",
    "    len(\n",
    "        set(\n",
    "            [\n",
    "                w.strip()\n",
    "                for x in pdf.keywords_cleaned\n",
    "                if x is not None\n",
    "                for w in x.split(\";\")\n",
    "            ]\n",
    "        )\n",
    "    )\n",
    ")"
   ]
  },
  {
   "cell_type": "markdown",
   "metadata": {},
   "source": [
    "## Substrings clustering"
   ]
  },
  {
   "cell_type": "code",
   "execution_count": 11,
   "metadata": {},
   "outputs": [
    {
     "name": "stdout",
     "output_type": "stream",
     "text": [
      "{\n",
      "  \"adaboost algorithm\": [\n",
      "    \"AdaBoost algorithm\",\n",
      "    \"validating AdaBoost algorithm\"\n",
      "  ],\n",
      "  \"adaptive noise\": [\n",
      "    \"Adaptive noise\",\n",
      "    \"adaptive noise reducer\"\n",
      "  ],\n",
      "  \"algorithmic trading\": [\n",
      "    \"Algorithmic trading\",\n",
      "    \"Algorithmic trading models\"\n",
      "  ],\n",
      "  \"algorithms\": [\n",
      "    \"Algorithmic approach\",\n",
      "    \"Analysis algorithms\",\n",
      "    \"Boruta algorithm\",\n",
      "    \"Classification algorithm\",\n",
      "    \"Clustering algorithms\",\n",
      "    \"Immune algorithms\",\n",
      "    \"Learning algorithms\",\n",
      "    \"Learning-based algorithms\",\n",
      "    \"Levenberg-Marquardt algorithm\",\n",
      "    \"NARX algorithm\",\n",
      "    \"State-of-the-art algorithms\",\n",
      "    \"algorithms\",\n",
      "    \"genetic algorithms\",\n",
      "    \"hybrid algorithms\"\n",
      "  ],\n",
      "  \"arima\": [\n",
      "    \"ARIMA\",\n",
      "    \"arima modeling\"\n",
      "  ],\n",
      "  \"article\": [\n",
      "    \"ARTICLE\",\n",
      "    \"Article\",\n",
      "    \"article\"\n",
      "  ],\n",
      "  \"artificial intelligence\": [\n",
      "    \"Artificial Intelligence (AI)\",\n",
      "    \"Artificial intelligence\",\n",
      "    \"artificial intelligence\"\n",
      "  ],\n",
      "  \"artificial neural networks\": [\n",
      "    \"Artificial Neural Network\",\n",
      "    \"Artificial Neural Networks\",\n",
      "    \"Artificial neural network models\",\n",
      "    \"Artificial neural networks (ANN)\",\n",
      "    \"artificial neural networks\"\n",
      "  ],\n",
      "  \"attention\": [\n",
      "    \"Attention\",\n",
      "    \"attention mechanisms\"\n",
      "  ],\n",
      "  \"autoencoder\": [\n",
      "    \"Autoencoder\",\n",
      "    \"autoencoder\"\n",
      "  ],\n",
      "  \"backpropagation\": [\n",
      "    \"Backpropagation\",\n"
     ]
    }
   ],
   "source": [
    "#\n",
    "# Substrings in keywords.\n",
    "# This step requires several minutes to run\n",
    "#\n",
    "from techminer import text_nesting\n",
    "\n",
    "tn = text_nesting(pdf.keywords_cleaned, sep=';', max_distance=1, transformer=lambda x: x.lower())\n",
    "with open('thesaurus-2.json', 'w') as f:\n",
    "    f.write(tn.__repr__())\n",
    "!head -n 60 thesaurus-2.json"
   ]
  },
  {
   "cell_type": "code",
   "execution_count": 12,
   "metadata": {},
   "outputs": [
    {
     "name": "stdout",
     "output_type": "stream",
     "text": [
      "{\n",
      "  \"(2D) 2 PCA\": [\n",
      "    \"(2D) 2 PCA\",\n",
      "    \"(2D) <sup>2</sup> PCA\"\n",
      "  ],\n",
      "  \"Empirical research\": [\n",
      "    \"Empirical research\",\n",
      "    \"Empirical studies\"\n",
      "  ],\n",
      "  \"(2D) 2 PCA\": [\n",
      "    \"(2D) 2 PCA\",\n",
      "    \"(2D) <sup>2</sup> PCA\"\n",
      "  ],\n",
      "  \"Learning-based algorithms\": [\n",
      "    \"Learning-based algorithms\",\n",
      "    \"Learning-based approach\",\n",
      "    \"Learning-based methods\"\n",
      "  ],\n",
      "  \"Classifiers\": [\n",
      "    \"Classification Methods\",\n",
      "    \"Classification algorithm\",\n",
      "    \"Classification methods\"\n",
      "  ],\n",
      "  \"Forex\": [\n",
      "    \"Forex (FX)\",\n",
      "    \"Forex markets\"\n",
      "  ],\n",
      "  \"Elman neural network\": [\n",
      "    \"Elman neural network\",\n",
      "    \"Elman recurrent neural network\",\n",
      "    \"Elman network\"\n",
      "  ],\n",
      "  \"adaboost algorithm\": [\n",
      "    \"AdaBoost algorithm\",\n",
      "    \"validating AdaBoost algorithm\"\n",
      "  ],\n",
      "  \"adaptive noise\": [\n",
      "    \"Adaptive noise\",\n",
      "    \"adaptive noise reducer\"\n",
      "  ],\n",
      "  \"algorithmic trading\": [\n",
      "    \"Algorithmic trading\",\n",
      "    \"Algorithmic trading models\"\n",
      "  ],\n",
      "  \"algorithms\": [\n",
      "    \"Algorithmic approach\",\n",
      "    \"Analysis algorithms\",\n",
      "    \"State-of-the-art algorithms\",\n",
      "    \"algorithms\"\n",
      "  ],\n",
      "  \"arima\": [\n",
      "    \"ARIMA\",\n",
      "    \"arima modeling\",\n",
      "    \"Autoregressive Integrated Moving Average (ARIMA)\",\n",
      "    \"Autoregressive integrated moving average models\",\n",
      "    \"Auto-regressive integrated moving average\",\n",
      "    \"arima\",\n",
      "    \"seasonal autoregressive integrated moving average\"\n",
      "  ],\n",
      "  \"artificial intelligence\": [\n"
     ]
    }
   ],
   "source": [
    "!head -n 60 thesaurus-2-edited.json"
   ]
  },
  {
   "cell_type": "code",
   "execution_count": 13,
   "metadata": {},
   "outputs": [],
   "source": [
    "with open(\"thesaurus-2-edited.json\", \"r\") as f:\n",
    "    dictionary = json.loads(\" \".join(f.readlines()))\n",
    "th = Thesaurus(dictionary, ignore_case=False, full_match=True, use_re=False)"
   ]
  },
  {
   "cell_type": "code",
   "execution_count": 14,
   "metadata": {},
   "outputs": [],
   "source": [
    "pdf[\"keywords_cleaned\"] = pdf.keywords_cleaned.map(\n",
    "    lambda x: th.apply(x, sep=\";\")\n",
    ")\n",
    "pdf[\"keywords_cleaned\"] = pdf.keywords_cleaned.map(\n",
    "    lambda x: \";\".join(set([w.strip() for w in x.split(\";\")]))\n",
    ")\n",
    "pdf[\"keywords_cleaned\"] = pdf.keywords_cleaned.map(\n",
    "    lambda x: x if x != \"\" else None\n",
    ")"
   ]
  },
  {
   "cell_type": "code",
   "execution_count": 16,
   "metadata": {},
   "outputs": [
    {
     "name": "stdout",
     "output_type": "stream",
     "text": [
      "765\n"
     ]
    }
   ],
   "source": [
    "#\n",
    "# Number of unique keywords\n",
    "#\n",
    "print(\n",
    "    len(\n",
    "        set(\n",
    "            [\n",
    "                w.strip()\n",
    "                for x in pdf.keywords_cleaned\n",
    "                if x is not None\n",
    "                for w in x.split(\";\")\n",
    "            ]\n",
    "        )\n",
    "    )\n",
    ")"
   ]
  },
  {
   "cell_type": "markdown",
   "metadata": {},
   "source": [
    "## Deletion based on keywords or other text"
   ]
  },
  {
   "cell_type": "code",
   "execution_count": 17,
   "metadata": {},
   "outputs": [
    {
     "data": {
      "text/plain": [
       "[\n",
       "  \"Vacuum\",\n",
       "  \"market data\"\n",
       "]\n",
       "ignore_case=True, full_match=False, use_re=False"
      ]
     },
     "execution_count": 17,
     "metadata": {},
     "output_type": "execute_result"
    }
   ],
   "source": [
    "from techminer.keywords import Keywords\n",
    "\n",
    "kyw = Keywords()\n",
    "kyw.add_keywords([\"Vacuum\", \"market data\"])\n",
    "kyw"
   ]
  },
  {
   "cell_type": "code",
   "execution_count": 18,
   "metadata": {},
   "outputs": [
    {
     "data": {
      "text/plain": [
       "True"
      ]
     },
     "execution_count": 18,
     "metadata": {},
     "output_type": "execute_result"
    }
   ],
   "source": [
    "\"vacuum\" in kyw"
   ]
  },
  {
   "cell_type": "code",
   "execution_count": 19,
   "metadata": {},
   "outputs": [],
   "source": [
    "idx = pdf.keywords_cleaned.map(lambda x: not kyw.common(x, sep=\";\"))"
   ]
  },
  {
   "cell_type": "code",
   "execution_count": 20,
   "metadata": {},
   "outputs": [
    {
     "data": {
      "text/plain": [
       "0     True\n",
       "1     True\n",
       "2     True\n",
       "3     True\n",
       "4     True\n",
       "5     True\n",
       "6     True\n",
       "7     True\n",
       "8     True\n",
       "9     True\n",
       "10    True\n",
       "11    True\n",
       "12    True\n",
       "13    True\n",
       "14    True\n",
       "15    True\n",
       "16    True\n",
       "17    True\n",
       "18    True\n",
       "19    True\n",
       "Name: keywords_cleaned, dtype: bool"
      ]
     },
     "execution_count": 20,
     "metadata": {},
     "output_type": "execute_result"
    }
   ],
   "source": [
    "idx[0:20]"
   ]
  },
  {
   "cell_type": "code",
   "execution_count": 23,
   "metadata": {},
   "outputs": [
    {
     "name": "stdout",
     "output_type": "stream",
     "text": [
      "Records before =  145\n",
      "Records after =  144\n"
     ]
    }
   ],
   "source": [
    "print(\"Records before = \", len(pdf))\n",
    "pdf = pdf[idx]\n",
    "print(\"Records after = \", len(pdf))"
   ]
  },
  {
   "cell_type": "code",
   "execution_count": 24,
   "metadata": {},
   "outputs": [],
   "source": [
    "pdf.to_json(\"data-03.json\", orient=\"records\", lines=True)"
   ]
  }
 ],
 "metadata": {
  "kernelspec": {
   "display_name": "Python 3",
   "language": "python",
   "name": "python3"
  },
  "language_info": {
   "codemirror_mode": {
    "name": "ipython",
    "version": 3
   },
   "file_extension": ".py",
   "mimetype": "text/x-python",
   "name": "python",
   "nbconvert_exporter": "python",
   "pygments_lexer": "ipython3",
   "version": "3.6.9"
  }
 },
 "nbformat": 4,
 "nbformat_minor": 4
}
