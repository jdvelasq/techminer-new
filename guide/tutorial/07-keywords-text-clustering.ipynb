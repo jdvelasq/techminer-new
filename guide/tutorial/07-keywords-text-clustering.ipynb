{
 "cells": [
  {
   "cell_type": "code",
   "execution_count": 1,
   "metadata": {},
   "outputs": [],
   "source": [
    "# Install latest version from GitHub\n",
    "!pip install -q -U git+https://github.com/jdvelasq/techminer"
   ]
  },
  {
   "cell_type": "markdown",
   "metadata": {},
   "source": [
    "# Keywords --- Text clustering "
   ]
  },
  {
   "cell_type": "code",
   "execution_count": 2,
   "metadata": {},
   "outputs": [],
   "source": [
    "import pandas as pd\n",
    "\n",
    "url = \"https://raw.githubusercontent.com/jdvelasq/techminer/master/data/tutorial/\"\n",
    "df = pd.read_json(url + \"keywords-text-clustering.json\", orient=\"records\", lines=True)"
   ]
  },
  {
   "cell_type": "code",
   "execution_count": 3,
   "metadata": {},
   "outputs": [
    {
     "data": {
      "text/plain": [
       "Index(['Authors', 'Author(s) ID', 'Title', 'Year', 'Source title', 'Volume',\n",
       "       'Issue', 'Art. No.', 'Page start', 'Page end', 'Page count', 'Cited by',\n",
       "       'DOI', 'Affiliations', 'Document Type', 'Access Type', 'Source', 'EID',\n",
       "       'Abstract', 'Author Keywords', 'Index Keywords', 'References',\n",
       "       'Keywords', 'CONF', 'fingerprint'],\n",
       "      dtype='object')"
      ]
     },
     "execution_count": 3,
     "metadata": {},
     "output_type": "execute_result"
    }
   ],
   "source": [
    "df.columns"
   ]
  },
  {
   "cell_type": "markdown",
   "metadata": {},
   "source": [
    "## Keywords with equal number of words"
   ]
  },
  {
   "cell_type": "code",
   "execution_count": 4,
   "metadata": {},
   "outputs": [
    {
     "name": "stdout",
     "output_type": "stream",
     "text": [
      "{\n",
      "  \"algorithm\": [\n",
      "    \"Algorithms\",\n",
      "    \"algorithm\",\n",
      "    \"algorithms\"\n",
      "  ],\n",
      "  \"ann\": [\n",
      "    \"ANN\",\n",
      "    \"ann\"\n",
      "  ],\n",
      "  \"anomaly detection\": [\n",
      "    \"Anomaly detection\",\n",
      "    \"anomaly detection\"\n",
      "  ],\n",
      "  \"arima modeling\": [\n",
      "    \"ARIMA Model\",\n",
      "    \"ARIMA model\",\n",
      "    \"ARIMA modeling\"\n",
      "  ],\n",
      "  \"article\": [\n",
      "    \"ARTICLE\",\n",
      "    \"Article\",\n",
      "    \"article\"\n",
      "  ],\n",
      "  \"artificial intelligence\": [\n",
      "    \"Artificial intelligence\",\n",
      "    \"artificial intelligence\"\n",
      "  ],\n",
      "  \"artificial neural network\": [\n",
      "    \"Artificial Neural Network\",\n",
      "    \"Artificial Neural Networks\",\n",
      "    \"Artificial neural network\",\n",
      "    \"Artificial neural networks\",\n",
      "    \"artificial neural network\",\n",
      "    \"artificial neural networks\"\n"
     ]
    }
   ],
   "source": [
    "from techminer import Thesaurus, text_clustering\n",
    "\n",
    "#\n",
    "# Search of keywords with the same root.\n",
    "#\n",
    "th = text_clustering(df.Keywords, sep=';', transformer=lambda x: x.lower())\n",
    "\n",
    "#\n",
    "# Save the data for manual review with a text editor.\n",
    "#\n",
    "with open('thesaurus-text-clustering-raw.json', 'w') as f:\n",
    "    f.write(th.__repr__())\n",
    "    \n",
    "#\n",
    "# Head of the file\n",
    "#\n",
    "!head -n 35 thesaurus-text-clustering-raw.json"
   ]
  },
  {
   "cell_type": "code",
   "execution_count": 5,
   "metadata": {},
   "outputs": [
    {
     "data": {
      "text/plain": [
       "1209"
      ]
     },
     "execution_count": 5,
     "metadata": {},
     "output_type": "execute_result"
    }
   ],
   "source": [
    "#\n",
    "#  Number of strings differing in keywords.\n",
    "#\n",
    "len(set([w.strip() for x in df.Keywords if x is not None for w in x.split(\";\")]))"
   ]
  },
  {
   "cell_type": "markdown",
   "metadata": {},
   "source": [
    "**Note**. Previous file MUST be reviewed and edited by the analyst. The edited version is called `thesaurus-text-clustering-edited.json` and we load our version from GitHub."
   ]
  },
  {
   "cell_type": "code",
   "execution_count": 6,
   "metadata": {},
   "outputs": [],
   "source": [
    "#\n",
    "# Reads the file from GitHub Repo.\n",
    "#\n",
    "import requests\n",
    "\n",
    "text = requests.get(url + \"thesaurus-text-clustering-edited.json\").text"
   ]
  },
  {
   "cell_type": "code",
   "execution_count": 7,
   "metadata": {},
   "outputs": [],
   "source": [
    "#\n",
    "# Loads in json format\n",
    "#\n",
    "import json\n",
    "\n",
    "dictionary = json.loads(text)"
   ]
  },
  {
   "cell_type": "code",
   "execution_count": 8,
   "metadata": {},
   "outputs": [],
   "source": [
    "#\n",
    "# Cleaning\n",
    "#\n",
    "from techminer import Thesaurus\n",
    "\n",
    "#\n",
    "# Creates a thesaurus\n",
    "#\n",
    "th = Thesaurus(dictionary, ignore_case=False, full_match=True, use_re=False)\n",
    "\n",
    "#\n",
    "# Apply the thesaurus to keywords\n",
    "#\n",
    "df[\"keywords_cleaned\"] = df.Keywords.map(lambda x: th.apply(x, sep=\";\"))\n",
    "\n",
    "#\n",
    "# Remove extra blanks between keywords if exists\n",
    "#\n",
    "df[\"keywords_cleaned\"] = df.keywords_cleaned.map(\n",
    "    lambda x: \";\".join(set([w.strip() for w in x.split(\";\")]))\n",
    ")\n",
    "\n",
    "#\n",
    "# Replace empty strings by None\n",
    "#\n",
    "df[\"keywords_cleaned\"] = df.keywords_cleaned.map(lambda x: x if x != \"\" else None)"
   ]
  },
  {
   "cell_type": "code",
   "execution_count": 9,
   "metadata": {},
   "outputs": [
    {
     "data": {
      "text/plain": [
       "1008"
      ]
     },
     "execution_count": 9,
     "metadata": {},
     "output_type": "execute_result"
    }
   ],
   "source": [
    "#\n",
    "# Number of unique of strings\n",
    "#\n",
    "len(\n",
    "    set([w.strip() for x in df.keywords_cleaned if x is not None for w in x.split(\";\")])\n",
    ")"
   ]
  },
  {
   "cell_type": "code",
   "execution_count": 10,
   "metadata": {},
   "outputs": [],
   "source": [
    "### df.to_json(\"keywords-text-nesting.json\", orient=\"records\", lines=True)"
   ]
  }
 ],
 "metadata": {
  "kernelspec": {
   "display_name": "Python 3",
   "language": "python",
   "name": "python3"
  },
  "language_info": {
   "codemirror_mode": {
    "name": "ipython",
    "version": 3
   },
   "file_extension": ".py",
   "mimetype": "text/x-python",
   "name": "python",
   "nbconvert_exporter": "python",
   "pygments_lexer": "ipython3",
   "version": "3.6.9"
  }
 },
 "nbformat": 4,
 "nbformat_minor": 4
}
