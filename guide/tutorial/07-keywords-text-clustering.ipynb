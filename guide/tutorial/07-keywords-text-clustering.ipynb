{
 "cells": [
  {
   "cell_type": "markdown",
   "metadata": {},
   "source": [
    "# Keywords --- Text clustering "
   ]
  },
  {
   "cell_type": "code",
   "execution_count": 1,
   "metadata": {},
   "outputs": [],
   "source": [
    "import pandas as pd\n",
    "\n",
    "url = \"https://raw.githubusercontent.com/jdvelasq/techminer/master/data/tutorial/\"\n",
    "\n",
    "pdf = pd.read_json(url + \"keywords-text-clustering.json\", orient=\"records\", lines=True)"
   ]
  },
  {
   "cell_type": "markdown",
   "metadata": {},
   "source": [
    "## Keywords with equal number of words"
   ]
  },
  {
   "cell_type": "code",
   "execution_count": 2,
   "metadata": {},
   "outputs": [
    {
     "name": "stdout",
     "output_type": "stream",
     "text": [
      "{\n",
      "  \"algorithm\": [\n",
      "    \"Algorithms\",\n",
      "    \"algorithm\",\n",
      "    \"algorithms\"\n",
      "  ],\n",
      "  \"ann\": [\n",
      "    \"ANN\",\n",
      "    \"ann\"\n",
      "  ],\n",
      "  \"anomaly detection\": [\n",
      "    \"Anomaly detection\",\n",
      "    \"anomaly detection\"\n",
      "  ],\n",
      "  \"arima modeling\": [\n",
      "    \"ARIMA Model\",\n",
      "    \"ARIMA model\",\n",
      "    \"ARIMA modeling\"\n",
      "  ],\n",
      "  \"article\": [\n",
      "    \"ARTICLE\",\n",
      "    \"Article\",\n",
      "    \"article\"\n",
      "  ],\n",
      "  \"artificial intelligence\": [\n",
      "    \"Artificial intelligence\",\n",
      "    \"artificial intelligence\"\n",
      "  ],\n",
      "  \"artificial neural network\": [\n",
      "    \"Artificial Neural Network\",\n",
      "    \"Artificial Neural Networks\",\n",
      "    \"Artificial neural network\",\n",
      "    \"Artificial neural networks\",\n",
      "    \"artificial neural network\",\n",
      "    \"artificial neural networks\"\n"
     ]
    }
   ],
   "source": [
    "from techminer import Thesaurus, text_clustering\n",
    "\n",
    "#\n",
    "# Search of keywords with the same root.\n",
    "#\n",
    "th = text_clustering(pdf.keywords, sep=';', transformer=lambda x: x.lower())\n",
    "\n",
    "#\n",
    "# Save the data for manual review with a text editor.\n",
    "#\n",
    "with open('thesaurus-raw.json', 'w') as f:\n",
    "    f.write(th.__repr__())\n",
    "    \n",
    "#\n",
    "# Head of the file\n",
    "#\n",
    "!head -n 35 thesaurus-raw.json"
   ]
  },
  {
   "cell_type": "code",
   "execution_count": 3,
   "metadata": {},
   "outputs": [
    {
     "name": "stdout",
     "output_type": "stream",
     "text": [
      "1210\n"
     ]
    }
   ],
   "source": [
    "#\n",
    "#  Number of strings differing in keywords.\n",
    "#\n",
    "print(\n",
    "    len(set([w.strip() for x in pdf.keywords if x is not None for w in x.split(\";\")]))\n",
    ")"
   ]
  },
  {
   "cell_type": "markdown",
   "metadata": {},
   "source": [
    "**Note**. Previous file MUST be reviewed and edited by the analyst. The edited version is called `thesaurus-edited-text-clustering.json` and we load our version from GitHub."
   ]
  },
  {
   "cell_type": "code",
   "execution_count": 4,
   "metadata": {},
   "outputs": [],
   "source": [
    "#\n",
    "# Reads the file from GitHub Repo.\n",
    "#\n",
    "import requests\n",
    "\n",
    "text = requests.get(url + \"thesaurus-edited-text-clustering.json\").text"
   ]
  },
  {
   "cell_type": "code",
   "execution_count": 5,
   "metadata": {},
   "outputs": [],
   "source": [
    "#\n",
    "# Loads in json format\n",
    "#\n",
    "import json\n",
    "dictionary = json.loads(text)"
   ]
  },
  {
   "cell_type": "code",
   "execution_count": 6,
   "metadata": {},
   "outputs": [],
   "source": [
    "#\n",
    "# Cleaning\n",
    "#\n",
    "from techminer import Thesaurus\n",
    "\n",
    "#\n",
    "# Creates a thesaurus\n",
    "#\n",
    "th = Thesaurus(dictionary, ignore_case=False, full_match=True, use_re=False)\n",
    "\n",
    "#\n",
    "# Apply the thesaurus to keywords\n",
    "#\n",
    "pdf[\"keywords_cleaned\"] = pdf.keywords.map(lambda x: th.apply(x, sep=\";\"))\n",
    "\n",
    "#\n",
    "# Remove extra blanks between keywords  \n",
    "#\n",
    "pdf[\"keywords_cleaned\"] = pdf.keywords_cleaned.map(\n",
    "    lambda x: \";\".join(set([w.strip() for w in x.split(\";\")]))\n",
    ")\n",
    "\n",
    "#\n",
    "# Replace empty strings by None\n",
    "#\n",
    "pdf[\"keywords_cleaned\"] = pdf.keywords_cleaned.map(lambda x: x if x != \"\" else None)"
   ]
  },
  {
   "cell_type": "code",
   "execution_count": 7,
   "metadata": {},
   "outputs": [
    {
     "name": "stdout",
     "output_type": "stream",
     "text": [
      "1009\n"
     ]
    }
   ],
   "source": [
    "#\n",
    "# Number of unique of strings\n",
    "#\n",
    "print(\n",
    "    len(\n",
    "        set(\n",
    "            [\n",
    "                w.strip()\n",
    "                for x in pdf.keywords_cleaned\n",
    "                if x is not None\n",
    "                for w in x.split(\";\")\n",
    "            ]\n",
    "        )\n",
    "    )\n",
    ")"
   ]
  },
  {
   "cell_type": "code",
   "execution_count": 8,
   "metadata": {},
   "outputs": [],
   "source": [
    "### pdf.to_json(\"keywords-substring-clustering.json\", orient=\"records\", lines=True)"
   ]
  }
 ],
 "metadata": {
  "kernelspec": {
   "display_name": "Python 3",
   "language": "python",
   "name": "python3"
  },
  "language_info": {
   "codemirror_mode": {
    "name": "ipython",
    "version": 3
   },
   "file_extension": ".py",
   "mimetype": "text/x-python",
   "name": "python",
   "nbconvert_exporter": "python",
   "pygments_lexer": "ipython3",
   "version": "3.6.9"
  }
 },
 "nbformat": 4,
 "nbformat_minor": 4
}
