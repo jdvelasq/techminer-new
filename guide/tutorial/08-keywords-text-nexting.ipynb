{
 "cells": [
  {
   "cell_type": "markdown",
   "metadata": {},
   "source": [
    "# Keywords --- Text nesting"
   ]
  },
  {
   "cell_type": "code",
   "execution_count": 1,
   "metadata": {},
   "outputs": [],
   "source": [
    "#\n",
    "# Data loading\n",
    "#\n",
    "import pandas as pd\n",
    "\n",
    "url = \"https://raw.githubusercontent.com/jdvelasq/techminer/master/data/tutorial/\"\n",
    "\n",
    "pdf = pd.read_json(url + \"keywords-text-nesting.json\", orient=\"records\", lines=True)"
   ]
  },
  {
   "cell_type": "code",
   "execution_count": 2,
   "metadata": {},
   "outputs": [
    {
     "name": "stdout",
     "output_type": "stream",
     "text": [
      "1009\n"
     ]
    }
   ],
   "source": [
    "#\n",
    "# Number of unique keywords\n",
    "#\n",
    "print(\n",
    "    len(\n",
    "        set(\n",
    "            [\n",
    "                w.strip()\n",
    "                for x in pdf.keywords_cleaned\n",
    "                if x is not None\n",
    "                for w in x.split(\";\")\n",
    "            ]\n",
    "        )\n",
    "    )\n",
    ")"
   ]
  },
  {
   "cell_type": "code",
   "execution_count": 3,
   "metadata": {},
   "outputs": [
    {
     "name": "stdout",
     "output_type": "stream",
     "text": [
      "{\n",
      "  \"adaboost algorithm\": [\n",
      "    \"AdaBoost algorithm\",\n",
      "    \"validating AdaBoost algorithm\"\n",
      "  ],\n",
      "  \"adaptive noise\": [\n",
      "    \"Adaptive noise\",\n",
      "    \"adaptive noise reducer\"\n",
      "  ],\n",
      "  \"algorithmic trading\": [\n",
      "    \"Algorithmic trading\",\n",
      "    \"Algorithmic trading models\"\n",
      "  ],\n",
      "  \"algorithms\": [\n",
      "    \"Algorithmic approach\",\n",
      "    \"Analysis algorithms\",\n",
      "    \"Boruta algorithm\",\n",
      "    \"Classification algorithm\",\n",
      "    \"Clustering algorithms\",\n",
      "    \"Immune algorithms\",\n",
      "    \"Learning algorithms\",\n",
      "    \"Learning-based algorithms\",\n",
      "    \"Levenberg-Marquardt algorithm\",\n",
      "    \"NARX algorithm\",\n",
      "    \"State-of-the-art algorithms\",\n",
      "    \"algorithms\",\n",
      "    \"genetic algorithms\",\n",
      "    \"hybrid algorithms\"\n",
      "  ],\n",
      "  \"arima\": [\n"
     ]
    }
   ],
   "source": [
    "#\n",
    "# Substrings in keywords.\n",
    "# This step requires several minutes to run\n",
    "#\n",
    "from techminer import text_nesting\n",
    "\n",
    "tn = text_nesting(pdf.keywords_cleaned, sep=';', max_distance=1, transformer=lambda x: x.lower())\n",
    "\n",
    "#\n",
    "# Creates a thesaurus with candidate substrings as a thesaurus\n",
    "#\n",
    "with open('thesaurus-text-nesting-raw.json', 'w') as f:\n",
    "    f.write(tn.__repr__())\n",
    "\n",
    "!head -n 30 thesaurus-text-nesting-raw.json"
   ]
  },
  {
   "cell_type": "markdown",
   "metadata": {},
   "source": [
    "**Note**. Previous file MUST be reviewed and edited by the analyst. The edited versio is called `thesaurus-text-nesting-edited.json.json`and we load our version from GitHub."
   ]
  },
  {
   "cell_type": "code",
   "execution_count": 4,
   "metadata": {},
   "outputs": [],
   "source": [
    "#\n",
    "# Reads the cleaned file from GitHub Repo\n",
    "#\n",
    "import requests\n",
    "\n",
    "text = requests.get(url + \"thesaurus-text-nesting-edited.json\").text\n",
    "\n",
    "#\n",
    "# Loads the file\n",
    "#\n",
    "dictionary = json.loads(text)\n",
    "\n",
    "#\n",
    "# Create a new thesaurus\n",
    "#\n",
    "from techminer import Thesaurus\n",
    "\n",
    "th = Thesaurus(dictionary, ignore_case=False, full_match=True, use_re=False)\n",
    "\n",
    "#\n",
    "# Apply the thesaurus to the keywords\n",
    "#\n",
    "pdf[\"keywords_cleaned\"] = pdf.keywords_cleaned.map(\n",
    "    lambda x: th.apply(x, sep=\";\")\n",
    ")\n",
    "\n",
    "#\n",
    "# Remove extra blanks between keywords  \n",
    "#\n",
    "pdf[\"keywords_cleaned\"] = pdf.keywords_cleaned.map(\n",
    "    lambda x: \";\".join(set([w.strip() for w in x.split(\";\")]))\n",
    ")\n",
    "\n",
    "#\n",
    "# Replace empty strings by None\n",
    "#\n",
    "pdf[\"keywords_cleaned\"] = pdf.keywords_cleaned.map(\n",
    "    lambda x: x if x != \"\" else None\n",
    ")"
   ]
  },
  {
   "cell_type": "code",
   "execution_count": 5,
   "metadata": {},
   "outputs": [
    {
     "name": "stdout",
     "output_type": "stream",
     "text": [
      "678\n"
     ]
    }
   ],
   "source": [
    "#\n",
    "# Number of unique keywords\n",
    "#\n",
    "print(\n",
    "    len(\n",
    "        set(\n",
    "            [\n",
    "                w.strip()\n",
    "                for x in pdf.keywords_cleaned\n",
    "                if x is not None\n",
    "                for w in x.split(\";\")\n",
    "            ]\n",
    "        )\n",
    "    )\n",
    ")"
   ]
  },
  {
   "cell_type": "code",
   "execution_count": 6,
   "metadata": {},
   "outputs": [],
   "source": [
    "pdf.to_json(\"keywords-record-deletion.json\", orient=\"records\", lines=True)"
   ]
  }
 ],
 "metadata": {
  "kernelspec": {
   "display_name": "Python 3",
   "language": "python",
   "name": "python3"
  },
  "language_info": {
   "codemirror_mode": {
    "name": "ipython",
    "version": 3
   },
   "file_extension": ".py",
   "mimetype": "text/x-python",
   "name": "python",
   "nbconvert_exporter": "python",
   "pygments_lexer": "ipython3",
   "version": "3.6.9"
  }
 },
 "nbformat": 4,
 "nbformat_minor": 4
}
