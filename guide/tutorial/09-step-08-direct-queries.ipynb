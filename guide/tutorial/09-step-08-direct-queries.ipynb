{
 "cells": [
  {
   "cell_type": "markdown",
   "metadata": {},
   "source": [
    "# Step 7: Direct queries over data"
   ]
  },
  {
   "cell_type": "code",
   "execution_count": 1,
   "metadata": {},
   "outputs": [],
   "source": [
    "import pandas as pd\n",
    "from techminer import RecordsDataFrame\n",
    "\n",
    "rdf = RecordsDataFrame(pd.read_json(\"step-07.json\", orient=\"records\", lines=True))"
   ]
  },
  {
   "cell_type": "markdown",
   "metadata": {},
   "source": [
    "Some directec queries can be made directly over the dataframe without recurring to special functions or code."
   ]
  },
  {
   "cell_type": "code",
   "execution_count": 2,
   "metadata": {},
   "outputs": [
    {
     "data": {
      "text/plain": [
       "144"
      ]
     },
     "execution_count": 2,
     "metadata": {},
     "output_type": "execute_result"
    }
   ],
   "source": [
    "#\n",
    "# Number of records in the dataframe\n",
    "#\n",
    "len(rdf)"
   ]
  },
  {
   "cell_type": "code",
   "execution_count": 3,
   "metadata": {},
   "outputs": [
    {
     "data": {
      "text/plain": [
       "103"
      ]
     },
     "execution_count": 3,
     "metadata": {},
     "output_type": "execute_result"
    }
   ],
   "source": [
    "#\n",
    "# Number of sources\n",
    "#\n",
    "rdf.num_of_sources"
   ]
  },
  {
   "cell_type": "code",
   "execution_count": 4,
   "metadata": {},
   "outputs": [
    {
     "data": {
      "text/html": [
       "<div>\n",
       "<style scoped>\n",
       "    .dataframe tbody tr th:only-of-type {\n",
       "        vertical-align: middle;\n",
       "    }\n",
       "\n",
       "    .dataframe tbody tr th {\n",
       "        vertical-align: top;\n",
       "    }\n",
       "\n",
       "    .dataframe thead th {\n",
       "        text-align: right;\n",
       "    }\n",
       "</style>\n",
       "<table border=\"1\" class=\"dataframe\">\n",
       "  <thead>\n",
       "    <tr style=\"text-align: right;\">\n",
       "      <th></th>\n",
       "      <th>Title</th>\n",
       "      <th>Authors</th>\n",
       "      <th>Year</th>\n",
       "      <th>Cited by</th>\n",
       "      <th>ID</th>\n",
       "    </tr>\n",
       "  </thead>\n",
       "  <tbody>\n",
       "    <tr>\n",
       "      <th>140</th>\n",
       "      <td>Forecasting stock markets using wavelet transf...</td>\n",
       "      <td>Hsieh T.-J., Hsiao H.-F., Yeh W.-C.</td>\n",
       "      <td>2011</td>\n",
       "      <td>188.0</td>\n",
       "      <td>[*140*]</td>\n",
       "    </tr>\n",
       "    <tr>\n",
       "      <th>62</th>\n",
       "      <td>Deep learning with long short-term memory netw...</td>\n",
       "      <td>Fischer T., Krauss C.</td>\n",
       "      <td>2018</td>\n",
       "      <td>49.0</td>\n",
       "      <td>[*62*]</td>\n",
       "    </tr>\n",
       "    <tr>\n",
       "      <th>139</th>\n",
       "      <td>Dynamic Ridge Polynomial Neural Network: Forec...</td>\n",
       "      <td>Ghazali R., Hussain A.J., Liatsis P.</td>\n",
       "      <td>2011</td>\n",
       "      <td>42.0</td>\n",
       "      <td>[*139*]</td>\n",
       "    </tr>\n",
       "    <tr>\n",
       "      <th>124</th>\n",
       "      <td>Deep learning for stock prediction using numer...</td>\n",
       "      <td>Akita R., Yoshihara A., Matsubara T., Uehara K.</td>\n",
       "      <td>2016</td>\n",
       "      <td>37.0</td>\n",
       "      <td>[*124*]</td>\n",
       "    </tr>\n",
       "    <tr>\n",
       "      <th>134</th>\n",
       "      <td>A hybrid intelligent model based on recurrent ...</td>\n",
       "      <td>Sharma V., Srinivasan D.</td>\n",
       "      <td>2013</td>\n",
       "      <td>28.0</td>\n",
       "      <td>[*134*]</td>\n",
       "    </tr>\n",
       "    <tr>\n",
       "      <th>132</th>\n",
       "      <td>A neuro-wavelet model for the short-term forec...</td>\n",
       "      <td>Ortega L., Khashanah K.</td>\n",
       "      <td>2014</td>\n",
       "      <td>20.0</td>\n",
       "      <td>[*132*]</td>\n",
       "    </tr>\n",
       "    <tr>\n",
       "      <th>114</th>\n",
       "      <td>Forecasting stock prices from the limit order ...</td>\n",
       "      <td>Tsantekidis A., Passalis N., Tefas A., Kanniai...</td>\n",
       "      <td>2017</td>\n",
       "      <td>20.0</td>\n",
       "      <td>[*114*]</td>\n",
       "    </tr>\n",
       "    <tr>\n",
       "      <th>127</th>\n",
       "      <td>Artificial neural networks architectures for s...</td>\n",
       "      <td>Di Persio L., Honchar O.</td>\n",
       "      <td>2016</td>\n",
       "      <td>19.0</td>\n",
       "      <td>[*127*]</td>\n",
       "    </tr>\n",
       "    <tr>\n",
       "      <th>128</th>\n",
       "      <td>Financial Time Series Prediction Using Elman R...</td>\n",
       "      <td>Wang J., Wang J., Fang W., Niu H.</td>\n",
       "      <td>2016</td>\n",
       "      <td>19.0</td>\n",
       "      <td>[*128*]</td>\n",
       "    </tr>\n",
       "    <tr>\n",
       "      <th>113</th>\n",
       "      <td>Stock prediction using deep learning</td>\n",
       "      <td>Singh R., Srivastava S.</td>\n",
       "      <td>2017</td>\n",
       "      <td>16.0</td>\n",
       "      <td>[*113*]</td>\n",
       "    </tr>\n",
       "  </tbody>\n",
       "</table>\n",
       "</div>"
      ],
      "text/plain": [
       "                                                 Title  \\\n",
       "140  Forecasting stock markets using wavelet transf...   \n",
       "62   Deep learning with long short-term memory netw...   \n",
       "139  Dynamic Ridge Polynomial Neural Network: Forec...   \n",
       "124  Deep learning for stock prediction using numer...   \n",
       "134  A hybrid intelligent model based on recurrent ...   \n",
       "132  A neuro-wavelet model for the short-term forec...   \n",
       "114  Forecasting stock prices from the limit order ...   \n",
       "127  Artificial neural networks architectures for s...   \n",
       "128  Financial Time Series Prediction Using Elman R...   \n",
       "113               Stock prediction using deep learning   \n",
       "\n",
       "                                               Authors  Year  Cited by  \\\n",
       "140                Hsieh T.-J., Hsiao H.-F., Yeh W.-C.  2011     188.0   \n",
       "62                               Fischer T., Krauss C.  2018      49.0   \n",
       "139               Ghazali R., Hussain A.J., Liatsis P.  2011      42.0   \n",
       "124    Akita R., Yoshihara A., Matsubara T., Uehara K.  2016      37.0   \n",
       "134                           Sharma V., Srinivasan D.  2013      28.0   \n",
       "132                            Ortega L., Khashanah K.  2014      20.0   \n",
       "114  Tsantekidis A., Passalis N., Tefas A., Kanniai...  2017      20.0   \n",
       "127                           Di Persio L., Honchar O.  2016      19.0   \n",
       "128                  Wang J., Wang J., Fang W., Niu H.  2016      19.0   \n",
       "113                            Singh R., Srivastava S.  2017      16.0   \n",
       "\n",
       "          ID  \n",
       "140  [*140*]  \n",
       "62    [*62*]  \n",
       "139  [*139*]  \n",
       "124  [*124*]  \n",
       "134  [*134*]  \n",
       "132  [*132*]  \n",
       "114  [*114*]  \n",
       "127  [*127*]  \n",
       "128  [*128*]  \n",
       "113  [*113*]  "
      ]
     },
     "execution_count": 4,
     "metadata": {},
     "output_type": "execute_result"
    }
   ],
   "source": [
    "#\n",
    "# Top N most cited documents\n",
    "#\n",
    "rdf.most_cited_documents(top_n=10)"
   ]
  }
 ],
 "metadata": {
  "kernelspec": {
   "display_name": "Python 3",
   "language": "python",
   "name": "python3"
  },
  "language_info": {
   "codemirror_mode": {
    "name": "ipython",
    "version": 3
   },
   "file_extension": ".py",
   "mimetype": "text/x-python",
   "name": "python",
   "nbconvert_exporter": "python",
   "pygments_lexer": "ipython3",
   "version": "3.6.9"
  }
 },
 "nbformat": 4,
 "nbformat_minor": 4
}
