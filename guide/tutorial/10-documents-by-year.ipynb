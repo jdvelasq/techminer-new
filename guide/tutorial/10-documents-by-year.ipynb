{
 "cells": [
  {
   "cell_type": "markdown",
   "metadata": {},
   "source": [
    "# Documents by year"
   ]
  },
  {
   "cell_type": "code",
   "execution_count": 1,
   "metadata": {},
   "outputs": [],
   "source": [
    "import pandas as pd\n",
    "df =pd.read_json(\"data-05.json\", orient=\"records\", lines=True)"
   ]
  },
  {
   "cell_type": "code",
   "execution_count": 2,
   "metadata": {},
   "outputs": [],
   "source": [
    "from techminer import DataFrame\n",
    "\n",
    "df = DataFrame(df)"
   ]
  },
  {
   "cell_type": "code",
   "execution_count": 3,
   "metadata": {},
   "outputs": [
    {
     "data": {
      "text/html": [
       "<div>\n",
       "<style scoped>\n",
       "    .dataframe tbody tr th:only-of-type {\n",
       "        vertical-align: middle;\n",
       "    }\n",
       "\n",
       "    .dataframe tbody tr th {\n",
       "        vertical-align: top;\n",
       "    }\n",
       "\n",
       "    .dataframe thead th {\n",
       "        text-align: right;\n",
       "    }\n",
       "</style>\n",
       "<table border=\"1\" class=\"dataframe\">\n",
       "  <thead>\n",
       "    <tr style=\"text-align: right;\">\n",
       "      <th></th>\n",
       "      <th>Year</th>\n",
       "      <th>Num Documents</th>\n",
       "      <th>ID</th>\n",
       "    </tr>\n",
       "  </thead>\n",
       "  <tbody>\n",
       "    <tr>\n",
       "      <th>0</th>\n",
       "      <td>2010</td>\n",
       "      <td>3</td>\n",
       "      <td>[141, 142, 143]</td>\n",
       "    </tr>\n",
       "    <tr>\n",
       "      <th>1</th>\n",
       "      <td>2011</td>\n",
       "      <td>2</td>\n",
       "      <td>[139, 140]</td>\n",
       "    </tr>\n",
       "    <tr>\n",
       "      <th>2</th>\n",
       "      <td>2012</td>\n",
       "      <td>2</td>\n",
       "      <td>[137, 138]</td>\n",
       "    </tr>\n",
       "    <tr>\n",
       "      <th>3</th>\n",
       "      <td>2013</td>\n",
       "      <td>4</td>\n",
       "      <td>[133, 134, 135, 136]</td>\n",
       "    </tr>\n",
       "    <tr>\n",
       "      <th>4</th>\n",
       "      <td>2014</td>\n",
       "      <td>2</td>\n",
       "      <td>[131, 132]</td>\n",
       "    </tr>\n",
       "    <tr>\n",
       "      <th>5</th>\n",
       "      <td>2015</td>\n",
       "      <td>2</td>\n",
       "      <td>[129, 130]</td>\n",
       "    </tr>\n",
       "    <tr>\n",
       "      <th>6</th>\n",
       "      <td>2016</td>\n",
       "      <td>5</td>\n",
       "      <td>[124, 125, 126, 127, 128]</td>\n",
       "    </tr>\n",
       "    <tr>\n",
       "      <th>7</th>\n",
       "      <td>2017</td>\n",
       "      <td>19</td>\n",
       "      <td>[105, 106, 107, 108, 109, 110, 111, 112, 113, ...</td>\n",
       "    </tr>\n",
       "    <tr>\n",
       "      <th>8</th>\n",
       "      <td>2018</td>\n",
       "      <td>52</td>\n",
       "      <td>[53, 54, 55, 56, 57, 58, 59, 60, 61, 62, 63, 6...</td>\n",
       "    </tr>\n",
       "    <tr>\n",
       "      <th>9</th>\n",
       "      <td>2019</td>\n",
       "      <td>53</td>\n",
       "      <td>[0, 1, 2, 3, 4, 5, 6, 7, 8, 9, 10, 11, 12, 13,...</td>\n",
       "    </tr>\n",
       "  </tbody>\n",
       "</table>\n",
       "</div>"
      ],
      "text/plain": [
       "   Year  Num Documents                                                 ID\n",
       "0  2010              3                                    [141, 142, 143]\n",
       "1  2011              2                                         [139, 140]\n",
       "2  2012              2                                         [137, 138]\n",
       "3  2013              4                               [133, 134, 135, 136]\n",
       "4  2014              2                                         [131, 132]\n",
       "5  2015              2                                         [129, 130]\n",
       "6  2016              5                          [124, 125, 126, 127, 128]\n",
       "7  2017             19  [105, 106, 107, 108, 109, 110, 111, 112, 113, ...\n",
       "8  2018             52  [53, 54, 55, 56, 57, 58, 59, 60, 61, 62, 63, 6...\n",
       "9  2019             53  [0, 1, 2, 3, 4, 5, 6, 7, 8, 9, 10, 11, 12, 13,..."
      ]
     },
     "execution_count": 3,
     "metadata": {},
     "output_type": "execute_result"
    }
   ],
   "source": [
    "df.documents_by_year()"
   ]
  },
  {
   "cell_type": "code",
   "execution_count": 3,
   "metadata": {},
   "outputs": [],
   "source": [
    "df.documents_by_year().print_IDs()"
   ]
  },
  {
   "cell_type": "code",
   "execution_count": 4,
   "metadata": {},
   "outputs": [
    {
     "data": {
      "text/plain": [
       "<matplotlib.axes._subplots.AxesSubplot at 0x7fecc5e6df98>"
      ]
     },
     "execution_count": 4,
     "metadata": {},
     "output_type": "execute_result"
    },
    {
     "data": {
      "image/png": "[encoded data removed]",
      "text/plain": [
       "<Figure size 432x288 with 1 Axes>"
      ]
     },
     "metadata": {
      "needs_background": "light"
     },
     "output_type": "display_data"
    }
   ],
   "source": [
    "import matplotlib.pyplot as plt\n",
    "from techminer import Plot\n",
    "\n",
    "\n",
    "Plot(df.documents_by_year()).bar(cmap=plt.cm.Blues)"
   ]
  },
  {
   "cell_type": "code",
   "execution_count": 5,
   "metadata": {},
   "outputs": [
    {
     "data": {
      "text/html": [
       "\n",
       "<div id=\"altair-viz-64d000af0fd446f998d04e1a97906c3f\"></div>\n",
       "<script type=\"text/javascript\">\n",
       "  (function(spec, embedOpt){\n",
       "    let outputDiv = document.currentScript.previousElementSibling;\n",
       "    if (outputDiv.id !== \"altair-viz-64d000af0fd446f998d04e1a97906c3f\") {\n",
       "      outputDiv = document.getElementById(\"altair-viz-64d000af0fd446f998d04e1a97906c3f\");\n",
       "    }\n",
       "    const paths = {\n",
       "      \"vega\": \"https://cdn.jsdelivr.net/npm//vega@5?noext\",\n",
       "      \"vega-lib\": \"https://cdn.jsdelivr.net/npm//vega-lib?noext\",\n",
       "      \"vega-lite\": \"https://cdn.jsdelivr.net/npm//vega-lite@4.8.1?noext\",\n",
       "      \"vega-embed\": \"https://cdn.jsdelivr.net/npm//vega-embed@6?noext\",\n",
       "    };\n",
       "\n",
       "    function loadScript(lib) {\n",
       "      return new Promise(function(resolve, reject) {\n",
       "        var s = document.createElement('script');\n",
       "        s.src = paths[lib];\n",
       "        s.async = true;\n",
       "        s.onload = () => resolve(paths[lib]);\n",
       "        s.onerror = () => reject(`Error loading script: ${paths[lib]}`);\n",
       "        document.getElementsByTagName(\"head\")[0].appendChild(s);\n",
       "      });\n",
       "    }\n",
       "\n",
       "    function showError(err) {\n",
       "      outputDiv.innerHTML = `<div class=\"error\" style=\"color:red;\">${err}</div>`;\n",
       "      throw err;\n",
       "    }\n",
       "\n",
       "    function displayChart(vegaEmbed) {\n",
       "      vegaEmbed(outputDiv, spec, embedOpt)\n",
       "        .catch(err => showError(`Javascript Error: ${err.message}<br>This usually means there's a typo in your chart specification. See the javascript console for the full traceback.`));\n",
       "    }\n",
       "\n",
       "    if(typeof define === \"function\" && define.amd) {\n",
       "      requirejs.config({paths});\n",
       "      require([\"vega-embed\"], displayChart, err => showError(`Error loading script: ${err.message}`));\n",
       "    } else if (typeof vegaEmbed === \"function\") {\n",
       "      displayChart(vegaEmbed);\n",
       "    } else {\n",
       "      loadScript(\"vega\")\n",
       "        .then(() => loadScript(\"vega-lite\"))\n",
       "        .then(() => loadScript(\"vega-embed\"))\n",
       "        .catch(showError)\n",
       "        .then(() => displayChart(vegaEmbed));\n",
       "    }\n",
       "  })({\"config\": {\"view\": {\"continuousWidth\": 400, \"continuousHeight\": 300}}, \"data\": {\"name\": \"data-9022fb49f678c583770b19b80daedb91\"}, \"mark\": \"bar\", \"encoding\": {\"color\": {\"type\": \"quantitative\", \"field\": \"Num Documents\", \"scale\": {\"scheme\": \"greys\"}}, \"x\": {\"type\": \"nominal\", \"field\": \"Year\", \"sort\": {\"field\": \"Num Documents:Q\"}}, \"y\": {\"type\": \"quantitative\", \"field\": \"Num Documents\"}}, \"$schema\": \"https://vega.github.io/schema/vega-lite/v4.8.1.json\", \"datasets\": {\"data-9022fb49f678c583770b19b80daedb91\": [{\"Year\": \"2010 [3]\", \"Num Documents\": 3, \"ID\": [\"[*141*]\", \"[*142*]\", \"[*143*]\"]}, {\"Year\": \"2011 [2]\", \"Num Documents\": 2, \"ID\": [\"[*139*]\", \"[*140*]\"]}, {\"Year\": \"2012 [2]\", \"Num Documents\": 2, \"ID\": [\"[*137*]\", \"[*138*]\"]}, {\"Year\": \"2013 [4]\", \"Num Documents\": 4, \"ID\": [\"[*133*]\", \"[*134*]\", \"[*135*]\", \"[*136*]\"]}, {\"Year\": \"2014 [2]\", \"Num Documents\": 2, \"ID\": [\"[*131*]\", \"[*132*]\"]}, {\"Year\": \"2015 [2]\", \"Num Documents\": 2, \"ID\": [\"[*129*]\", \"[*130*]\"]}, {\"Year\": \"2016 [5]\", \"Num Documents\": 5, \"ID\": [\"[*124*]\", \"[*125*]\", \"[*126*]\", \"[*127*]\", \"[*128*]\"]}, {\"Year\": \"2017 [19]\", \"Num Documents\": 19, \"ID\": [\"[*105*]\", \"[*106*]\", \"[*107*]\", \"[*108*]\", \"[*109*]\", \"[*110*]\", \"[*111*]\", \"[*112*]\", \"[*113*]\", \"[*114*]\", \"[*115*]\", \"[*116*]\", \"[*117*]\", \"[*118*]\", \"[*119*]\", \"[*120*]\", \"[*121*]\", \"[*122*]\", \"[*123*]\"]}, {\"Year\": \"2018 [52]\", \"Num Documents\": 52, \"ID\": [\"[*53*]\", \"[*54*]\", \"[*55*]\", \"[*56*]\", \"[*57*]\", \"[*58*]\", \"[*59*]\", \"[*60*]\", \"[*61*]\", \"[*62*]\", \"[*63*]\", \"[*64*]\", \"[*65*]\", \"[*66*]\", \"[*67*]\", \"[*68*]\", \"[*69*]\", \"[*70*]\", \"[*71*]\", \"[*72*]\", \"[*73*]\", \"[*74*]\", \"[*75*]\", \"[*76*]\", \"[*77*]\", \"[*78*]\", \"[*79*]\", \"[*80*]\", \"[*81*]\", \"[*82*]\", \"[*83*]\", \"[*84*]\", \"[*85*]\", \"[*86*]\", \"[*87*]\", \"[*88*]\", \"[*89*]\", \"[*90*]\", \"[*91*]\", \"[*92*]\", \"[*93*]\", \"[*94*]\", \"[*95*]\", \"[*96*]\", \"[*97*]\", \"[*98*]\", \"[*99*]\", \"[*100*]\", \"[*101*]\", \"[*102*]\", \"[*103*]\", \"[*104*]\"]}, {\"Year\": \"2019 [53]\", \"Num Documents\": 53, \"ID\": [\"[*0*]\", \"[*1*]\", \"[*2*]\", \"[*3*]\", \"[*4*]\", \"[*5*]\", \"[*6*]\", \"[*7*]\", \"[*8*]\", \"[*9*]\", \"[*10*]\", \"[*11*]\", \"[*12*]\", \"[*13*]\", \"[*14*]\", \"[*15*]\", \"[*16*]\", \"[*17*]\", \"[*18*]\", \"[*19*]\", \"[*20*]\", \"[*21*]\", \"[*22*]\", \"[*23*]\", \"[*24*]\", \"[*25*]\", \"[*26*]\", \"[*27*]\", \"[*28*]\", \"[*29*]\", \"[*30*]\", \"[*31*]\", \"[*32*]\", \"[*33*]\", \"[*34*]\", \"[*35*]\", \"[*36*]\", \"[*37*]\", \"[*38*]\", \"[*39*]\", \"[*40*]\", \"[*41*]\", \"[*42*]\", \"[*43*]\", \"[*44*]\", \"[*45*]\", \"[*46*]\", \"[*47*]\", \"[*48*]\", \"[*49*]\", \"[*50*]\", \"[*51*]\", \"[*52*]\"]}]}}, {\"mode\": \"vega-lite\"});\n",
       "</script>"
      ],
      "text/plain": [
       "alt.Chart(...)"
      ]
     },
     "execution_count": 5,
     "metadata": {},
     "output_type": "execute_result"
    }
   ],
   "source": [
    "# df.documents_by_year().altair_barplot()"
   ]
  },
  {
   "cell_type": "code",
   "execution_count": 6,
   "metadata": {},
   "outputs": [
    {
     "data": {
      "image/png": "[encoded data removed]",
      "text/plain": [
       "<Figure size 432x288 with 1 Axes>"
      ]
     },
     "metadata": {
      "needs_background": "light"
     },
     "output_type": "display_data"
    }
   ],
   "source": [
    "# df.documents_by_year().seaborn_barplot()"
   ]
  },
  {
   "cell_type": "code",
   "execution_count": 5,
   "metadata": {},
   "outputs": [
    {
     "data": {
      "text/html": [
       "<div>\n",
       "<style scoped>\n",
       "    .dataframe tbody tr th:only-of-type {\n",
       "        vertical-align: middle;\n",
       "    }\n",
       "\n",
       "    .dataframe tbody tr th {\n",
       "        vertical-align: top;\n",
       "    }\n",
       "\n",
       "    .dataframe thead th {\n",
       "        text-align: right;\n",
       "    }\n",
       "</style>\n",
       "<table border=\"1\" class=\"dataframe\">\n",
       "  <thead>\n",
       "    <tr style=\"text-align: right;\">\n",
       "      <th></th>\n",
       "      <th>Year</th>\n",
       "      <th>Num Documents</th>\n",
       "      <th>ID</th>\n",
       "    </tr>\n",
       "  </thead>\n",
       "  <tbody>\n",
       "    <tr>\n",
       "      <th>0</th>\n",
       "      <td>2010</td>\n",
       "      <td>3</td>\n",
       "      <td>[141, 142, 143]</td>\n",
       "    </tr>\n",
       "    <tr>\n",
       "      <th>1</th>\n",
       "      <td>2011</td>\n",
       "      <td>5</td>\n",
       "      <td>[139, 140]</td>\n",
       "    </tr>\n",
       "    <tr>\n",
       "      <th>2</th>\n",
       "      <td>2012</td>\n",
       "      <td>7</td>\n",
       "      <td>[137, 138]</td>\n",
       "    </tr>\n",
       "    <tr>\n",
       "      <th>3</th>\n",
       "      <td>2013</td>\n",
       "      <td>11</td>\n",
       "      <td>[133, 134, 135, 136]</td>\n",
       "    </tr>\n",
       "    <tr>\n",
       "      <th>4</th>\n",
       "      <td>2014</td>\n",
       "      <td>13</td>\n",
       "      <td>[131, 132]</td>\n",
       "    </tr>\n",
       "    <tr>\n",
       "      <th>5</th>\n",
       "      <td>2015</td>\n",
       "      <td>15</td>\n",
       "      <td>[129, 130]</td>\n",
       "    </tr>\n",
       "    <tr>\n",
       "      <th>6</th>\n",
       "      <td>2016</td>\n",
       "      <td>20</td>\n",
       "      <td>[124, 125, 126, 127, 128]</td>\n",
       "    </tr>\n",
       "    <tr>\n",
       "      <th>7</th>\n",
       "      <td>2017</td>\n",
       "      <td>39</td>\n",
       "      <td>[105, 106, 107, 108, 109, 110, 111, 112, 113, ...</td>\n",
       "    </tr>\n",
       "    <tr>\n",
       "      <th>8</th>\n",
       "      <td>2018</td>\n",
       "      <td>91</td>\n",
       "      <td>[53, 54, 55, 56, 57, 58, 59, 60, 61, 62, 63, 6...</td>\n",
       "    </tr>\n",
       "    <tr>\n",
       "      <th>9</th>\n",
       "      <td>2019</td>\n",
       "      <td>144</td>\n",
       "      <td>[0, 1, 2, 3, 4, 5, 6, 7, 8, 9, 10, 11, 12, 13,...</td>\n",
       "    </tr>\n",
       "  </tbody>\n",
       "</table>\n",
       "</div>"
      ],
      "text/plain": [
       "   Year  Num Documents                                                 ID\n",
       "0  2010              3                                    [141, 142, 143]\n",
       "1  2011              5                                         [139, 140]\n",
       "2  2012              7                                         [137, 138]\n",
       "3  2013             11                               [133, 134, 135, 136]\n",
       "4  2014             13                                         [131, 132]\n",
       "5  2015             15                                         [129, 130]\n",
       "6  2016             20                          [124, 125, 126, 127, 128]\n",
       "7  2017             39  [105, 106, 107, 108, 109, 110, 111, 112, 113, ...\n",
       "8  2018             91  [53, 54, 55, 56, 57, 58, 59, 60, 61, 62, 63, 6...\n",
       "9  2019            144  [0, 1, 2, 3, 4, 5, 6, 7, 8, 9, 10, 11, 12, 13,..."
      ]
     },
     "execution_count": 5,
     "metadata": {},
     "output_type": "execute_result"
    }
   ],
   "source": [
    "df.documents_by_year(cumulative=True)"
   ]
  },
  {
   "cell_type": "code",
   "execution_count": 6,
   "metadata": {},
   "outputs": [
    {
     "data": {
      "text/plain": [
       "<matplotlib.axes._subplots.AxesSubplot at 0x7fecc5dc1c88>"
      ]
     },
     "execution_count": 6,
     "metadata": {},
     "output_type": "execute_result"
    },
    {
     "data": {
      "image/png": "[encoded data removed]",
      "text/plain": [
       "<Figure size 432x288 with 1 Axes>"
      ]
     },
     "metadata": {
      "needs_background": "light"
     },
     "output_type": "display_data"
    }
   ],
   "source": [
    "Plot(df.documents_by_year(cumulative=True)).barh()"
   ]
  },
  {
   "cell_type": "code",
   "execution_count": 9,
   "metadata": {},
   "outputs": [
    {
     "data": {
      "text/html": [
       "\n",
       "<div id=\"altair-viz-587f12fee8614e5f936f92eb9308e7b9\"></div>\n",
       "<script type=\"text/javascript\">\n",
       "  (function(spec, embedOpt){\n",
       "    let outputDiv = document.currentScript.previousElementSibling;\n",
       "    if (outputDiv.id !== \"altair-viz-587f12fee8614e5f936f92eb9308e7b9\") {\n",
       "      outputDiv = document.getElementById(\"altair-viz-587f12fee8614e5f936f92eb9308e7b9\");\n",
       "    }\n",
       "    const paths = {\n",
       "      \"vega\": \"https://cdn.jsdelivr.net/npm//vega@5?noext\",\n",
       "      \"vega-lib\": \"https://cdn.jsdelivr.net/npm//vega-lib?noext\",\n",
       "      \"vega-lite\": \"https://cdn.jsdelivr.net/npm//vega-lite@4.8.1?noext\",\n",
       "      \"vega-embed\": \"https://cdn.jsdelivr.net/npm//vega-embed@6?noext\",\n",
       "    };\n",
       "\n",
       "    function loadScript(lib) {\n",
       "      return new Promise(function(resolve, reject) {\n",
       "        var s = document.createElement('script');\n",
       "        s.src = paths[lib];\n",
       "        s.async = true;\n",
       "        s.onload = () => resolve(paths[lib]);\n",
       "        s.onerror = () => reject(`Error loading script: ${paths[lib]}`);\n",
       "        document.getElementsByTagName(\"head\")[0].appendChild(s);\n",
       "      });\n",
       "    }\n",
       "\n",
       "    function showError(err) {\n",
       "      outputDiv.innerHTML = `<div class=\"error\" style=\"color:red;\">${err}</div>`;\n",
       "      throw err;\n",
       "    }\n",
       "\n",
       "    function displayChart(vegaEmbed) {\n",
       "      vegaEmbed(outputDiv, spec, embedOpt)\n",
       "        .catch(err => showError(`Javascript Error: ${err.message}<br>This usually means there's a typo in your chart specification. See the javascript console for the full traceback.`));\n",
       "    }\n",
       "\n",
       "    if(typeof define === \"function\" && define.amd) {\n",
       "      requirejs.config({paths});\n",
       "      require([\"vega-embed\"], displayChart, err => showError(`Error loading script: ${err.message}`));\n",
       "    } else if (typeof vegaEmbed === \"function\") {\n",
       "      displayChart(vegaEmbed);\n",
       "    } else {\n",
       "      loadScript(\"vega\")\n",
       "        .then(() => loadScript(\"vega-lite\"))\n",
       "        .then(() => loadScript(\"vega-embed\"))\n",
       "        .catch(showError)\n",
       "        .then(() => displayChart(vegaEmbed));\n",
       "    }\n",
       "  })({\"config\": {\"view\": {\"continuousWidth\": 400, \"continuousHeight\": 300}}, \"data\": {\"name\": \"data-78452a5cfa16d6289bbcfed733fd10e4\"}, \"mark\": \"bar\", \"encoding\": {\"color\": {\"type\": \"quantitative\", \"field\": \"Num Documents\", \"scale\": {\"scheme\": \"Greys\"}}, \"x\": {\"type\": \"quantitative\", \"field\": \"Num Documents\"}, \"y\": {\"type\": \"nominal\", \"field\": \"Year\", \"sort\": {\"field\": \"Num Documents:Q\"}}}, \"$schema\": \"https://vega.github.io/schema/vega-lite/v4.8.1.json\", \"datasets\": {\"data-78452a5cfa16d6289bbcfed733fd10e4\": [{\"Year\": \"2019 [144]\", \"Num Documents\": 144, \"ID\": [\"[*0*]\", \"[*1*]\", \"[*2*]\", \"[*3*]\", \"[*4*]\", \"[*5*]\", \"[*6*]\", \"[*7*]\", \"[*8*]\", \"[*9*]\", \"[*10*]\", \"[*11*]\", \"[*12*]\", \"[*13*]\", \"[*14*]\", \"[*15*]\", \"[*16*]\", \"[*17*]\", \"[*18*]\", \"[*19*]\", \"[*20*]\", \"[*21*]\", \"[*22*]\", \"[*23*]\", \"[*24*]\", \"[*25*]\", \"[*26*]\", \"[*27*]\", \"[*28*]\", \"[*29*]\", \"[*30*]\", \"[*31*]\", \"[*32*]\", \"[*33*]\", \"[*34*]\", \"[*35*]\", \"[*36*]\", \"[*37*]\", \"[*38*]\", \"[*39*]\", \"[*40*]\", \"[*41*]\", \"[*42*]\", \"[*43*]\", \"[*44*]\", \"[*45*]\", \"[*46*]\", \"[*47*]\", \"[*48*]\", \"[*49*]\", \"[*50*]\", \"[*51*]\", \"[*52*]\"]}, {\"Year\": \"2018 [91]\", \"Num Documents\": 91, \"ID\": [\"[*53*]\", \"[*54*]\", \"[*55*]\", \"[*56*]\", \"[*57*]\", \"[*58*]\", \"[*59*]\", \"[*60*]\", \"[*61*]\", \"[*62*]\", \"[*63*]\", \"[*64*]\", \"[*65*]\", \"[*66*]\", \"[*67*]\", \"[*68*]\", \"[*69*]\", \"[*70*]\", \"[*71*]\", \"[*72*]\", \"[*73*]\", \"[*74*]\", \"[*75*]\", \"[*76*]\", \"[*77*]\", \"[*78*]\", \"[*79*]\", \"[*80*]\", \"[*81*]\", \"[*82*]\", \"[*83*]\", \"[*84*]\", \"[*85*]\", \"[*86*]\", \"[*87*]\", \"[*88*]\", \"[*89*]\", \"[*90*]\", \"[*91*]\", \"[*92*]\", \"[*93*]\", \"[*94*]\", \"[*95*]\", \"[*96*]\", \"[*97*]\", \"[*98*]\", \"[*99*]\", \"[*100*]\", \"[*101*]\", \"[*102*]\", \"[*103*]\", \"[*104*]\"]}, {\"Year\": \"2017 [39]\", \"Num Documents\": 39, \"ID\": [\"[*105*]\", \"[*106*]\", \"[*107*]\", \"[*108*]\", \"[*109*]\", \"[*110*]\", \"[*111*]\", \"[*112*]\", \"[*113*]\", \"[*114*]\", \"[*115*]\", \"[*116*]\", \"[*117*]\", \"[*118*]\", \"[*119*]\", \"[*120*]\", \"[*121*]\", \"[*122*]\", \"[*123*]\"]}, {\"Year\": \"2016 [20]\", \"Num Documents\": 20, \"ID\": [\"[*124*]\", \"[*125*]\", \"[*126*]\", \"[*127*]\", \"[*128*]\"]}, {\"Year\": \"2015 [15]\", \"Num Documents\": 15, \"ID\": [\"[*129*]\", \"[*130*]\"]}, {\"Year\": \"2014 [13]\", \"Num Documents\": 13, \"ID\": [\"[*131*]\", \"[*132*]\"]}, {\"Year\": \"2013 [11]\", \"Num Documents\": 11, \"ID\": [\"[*133*]\", \"[*134*]\", \"[*135*]\", \"[*136*]\"]}, {\"Year\": \"2012 [7]\", \"Num Documents\": 7, \"ID\": [\"[*137*]\", \"[*138*]\"]}, {\"Year\": \"2011 [5]\", \"Num Documents\": 5, \"ID\": [\"[*139*]\", \"[*140*]\"]}, {\"Year\": \"2010 [3]\", \"Num Documents\": 3, \"ID\": [\"[*141*]\", \"[*142*]\", \"[*143*]\"]}]}}, {\"mode\": \"vega-lite\"});\n",
       "</script>"
      ],
      "text/plain": [
       "alt.Chart(...)"
      ]
     },
     "execution_count": 9,
     "metadata": {},
     "output_type": "execute_result"
    }
   ],
   "source": [
    "# df.documents_by_year(cumulative=True).altair_barhplot()"
   ]
  },
  {
   "cell_type": "code",
   "execution_count": 10,
   "metadata": {},
   "outputs": [
    {
     "data": {
      "image/png": "[encoded data removed]",
      "text/plain": [
       "<Figure size 432x288 with 1 Axes>"
      ]
     },
     "metadata": {
      "needs_background": "light"
     },
     "output_type": "display_data"
    }
   ],
   "source": [
    "# df.documents_by_year(cumulative=True).seaborn_barhplot()"
   ]
  },
  {
   "cell_type": "code",
   "execution_count": 7,
   "metadata": {},
   "outputs": [
    {
     "data": {
      "text/plain": [
       "<matplotlib.axes._subplots.AxesSubplot at 0x7fecc593e940>"
      ]
     },
     "execution_count": 7,
     "metadata": {},
     "output_type": "execute_result"
    },
    {
     "data": {
      "image/png": "[encoded data removed]",
      "text/plain": [
       "<Figure size 432x288 with 1 Axes>"
      ]
     },
     "metadata": {
      "needs_background": "light"
     },
     "output_type": "display_data"
    }
   ],
   "source": [
    "Plot(df.documents_by_year(cumulative=True)).bar()"
   ]
  },
  {
   "cell_type": "code",
   "execution_count": 12,
   "metadata": {},
   "outputs": [
    {
     "data": {
      "text/html": [
       "\n",
       "<div id=\"altair-viz-68723257a1aa469f872636b504e5ade7\"></div>\n",
       "<script type=\"text/javascript\">\n",
       "  (function(spec, embedOpt){\n",
       "    let outputDiv = document.currentScript.previousElementSibling;\n",
       "    if (outputDiv.id !== \"altair-viz-68723257a1aa469f872636b504e5ade7\") {\n",
       "      outputDiv = document.getElementById(\"altair-viz-68723257a1aa469f872636b504e5ade7\");\n",
       "    }\n",
       "    const paths = {\n",
       "      \"vega\": \"https://cdn.jsdelivr.net/npm//vega@5?noext\",\n",
       "      \"vega-lib\": \"https://cdn.jsdelivr.net/npm//vega-lib?noext\",\n",
       "      \"vega-lite\": \"https://cdn.jsdelivr.net/npm//vega-lite@4.8.1?noext\",\n",
       "      \"vega-embed\": \"https://cdn.jsdelivr.net/npm//vega-embed@6?noext\",\n",
       "    };\n",
       "\n",
       "    function loadScript(lib) {\n",
       "      return new Promise(function(resolve, reject) {\n",
       "        var s = document.createElement('script');\n",
       "        s.src = paths[lib];\n",
       "        s.async = true;\n",
       "        s.onload = () => resolve(paths[lib]);\n",
       "        s.onerror = () => reject(`Error loading script: ${paths[lib]}`);\n",
       "        document.getElementsByTagName(\"head\")[0].appendChild(s);\n",
       "      });\n",
       "    }\n",
       "\n",
       "    function showError(err) {\n",
       "      outputDiv.innerHTML = `<div class=\"error\" style=\"color:red;\">${err}</div>`;\n",
       "      throw err;\n",
       "    }\n",
       "\n",
       "    function displayChart(vegaEmbed) {\n",
       "      vegaEmbed(outputDiv, spec, embedOpt)\n",
       "        .catch(err => showError(`Javascript Error: ${err.message}<br>This usually means there's a typo in your chart specification. See the javascript console for the full traceback.`));\n",
       "    }\n",
       "\n",
       "    if(typeof define === \"function\" && define.amd) {\n",
       "      requirejs.config({paths});\n",
       "      require([\"vega-embed\"], displayChart, err => showError(`Error loading script: ${err.message}`));\n",
       "    } else if (typeof vegaEmbed === \"function\") {\n",
       "      displayChart(vegaEmbed);\n",
       "    } else {\n",
       "      loadScript(\"vega\")\n",
       "        .then(() => loadScript(\"vega-lite\"))\n",
       "        .then(() => loadScript(\"vega-embed\"))\n",
       "        .catch(showError)\n",
       "        .then(() => displayChart(vegaEmbed));\n",
       "    }\n",
       "  })({\"config\": {\"view\": {\"continuousWidth\": 400, \"continuousHeight\": 300}}, \"data\": {\"name\": \"data-39cc4f0c9870f7d6294d597d94cbdbce\"}, \"mark\": \"bar\", \"encoding\": {\"color\": {\"type\": \"quantitative\", \"field\": \"Num Documents\", \"scale\": {\"scheme\": \"greys\"}}, \"x\": {\"type\": \"nominal\", \"field\": \"Year\", \"sort\": {\"field\": \"Num Documents:Q\"}}, \"y\": {\"type\": \"quantitative\", \"field\": \"Num Documents\"}}, \"$schema\": \"https://vega.github.io/schema/vega-lite/v4.8.1.json\", \"datasets\": {\"data-39cc4f0c9870f7d6294d597d94cbdbce\": [{\"Year\": \"2010 [3]\", \"Num Documents\": 3, \"ID\": [\"[*141*]\", \"[*142*]\", \"[*143*]\"]}, {\"Year\": \"2011 [5]\", \"Num Documents\": 5, \"ID\": [\"[*139*]\", \"[*140*]\"]}, {\"Year\": \"2012 [7]\", \"Num Documents\": 7, \"ID\": [\"[*137*]\", \"[*138*]\"]}, {\"Year\": \"2013 [11]\", \"Num Documents\": 11, \"ID\": [\"[*133*]\", \"[*134*]\", \"[*135*]\", \"[*136*]\"]}, {\"Year\": \"2014 [13]\", \"Num Documents\": 13, \"ID\": [\"[*131*]\", \"[*132*]\"]}, {\"Year\": \"2015 [15]\", \"Num Documents\": 15, \"ID\": [\"[*129*]\", \"[*130*]\"]}, {\"Year\": \"2016 [20]\", \"Num Documents\": 20, \"ID\": [\"[*124*]\", \"[*125*]\", \"[*126*]\", \"[*127*]\", \"[*128*]\"]}, {\"Year\": \"2017 [39]\", \"Num Documents\": 39, \"ID\": [\"[*105*]\", \"[*106*]\", \"[*107*]\", \"[*108*]\", \"[*109*]\", \"[*110*]\", \"[*111*]\", \"[*112*]\", \"[*113*]\", \"[*114*]\", \"[*115*]\", \"[*116*]\", \"[*117*]\", \"[*118*]\", \"[*119*]\", \"[*120*]\", \"[*121*]\", \"[*122*]\", \"[*123*]\"]}, {\"Year\": \"2018 [91]\", \"Num Documents\": 91, \"ID\": [\"[*53*]\", \"[*54*]\", \"[*55*]\", \"[*56*]\", \"[*57*]\", \"[*58*]\", \"[*59*]\", \"[*60*]\", \"[*61*]\", \"[*62*]\", \"[*63*]\", \"[*64*]\", \"[*65*]\", \"[*66*]\", \"[*67*]\", \"[*68*]\", \"[*69*]\", \"[*70*]\", \"[*71*]\", \"[*72*]\", \"[*73*]\", \"[*74*]\", \"[*75*]\", \"[*76*]\", \"[*77*]\", \"[*78*]\", \"[*79*]\", \"[*80*]\", \"[*81*]\", \"[*82*]\", \"[*83*]\", \"[*84*]\", \"[*85*]\", \"[*86*]\", \"[*87*]\", \"[*88*]\", \"[*89*]\", \"[*90*]\", \"[*91*]\", \"[*92*]\", \"[*93*]\", \"[*94*]\", \"[*95*]\", \"[*96*]\", \"[*97*]\", \"[*98*]\", \"[*99*]\", \"[*100*]\", \"[*101*]\", \"[*102*]\", \"[*103*]\", \"[*104*]\"]}, {\"Year\": \"2019 [144]\", \"Num Documents\": 144, \"ID\": [\"[*0*]\", \"[*1*]\", \"[*2*]\", \"[*3*]\", \"[*4*]\", \"[*5*]\", \"[*6*]\", \"[*7*]\", \"[*8*]\", \"[*9*]\", \"[*10*]\", \"[*11*]\", \"[*12*]\", \"[*13*]\", \"[*14*]\", \"[*15*]\", \"[*16*]\", \"[*17*]\", \"[*18*]\", \"[*19*]\", \"[*20*]\", \"[*21*]\", \"[*22*]\", \"[*23*]\", \"[*24*]\", \"[*25*]\", \"[*26*]\", \"[*27*]\", \"[*28*]\", \"[*29*]\", \"[*30*]\", \"[*31*]\", \"[*32*]\", \"[*33*]\", \"[*34*]\", \"[*35*]\", \"[*36*]\", \"[*37*]\", \"[*38*]\", \"[*39*]\", \"[*40*]\", \"[*41*]\", \"[*42*]\", \"[*43*]\", \"[*44*]\", \"[*45*]\", \"[*46*]\", \"[*47*]\", \"[*48*]\", \"[*49*]\", \"[*50*]\", \"[*51*]\", \"[*52*]\"]}]}}, {\"mode\": \"vega-lite\"});\n",
       "</script>"
      ],
      "text/plain": [
       "alt.Chart(...)"
      ]
     },
     "execution_count": 12,
     "metadata": {},
     "output_type": "execute_result"
    }
   ],
   "source": [
    "# df.documents_by_year(cumulative=True).altair_barplot()"
   ]
  },
  {
   "cell_type": "code",
   "execution_count": 13,
   "metadata": {},
   "outputs": [
    {
     "data": {
      "image/png": "[encoded data removed]",
      "text/plain": [
       "<Figure size 432x288 with 1 Axes>"
      ]
     },
     "metadata": {
      "needs_background": "light"
     },
     "output_type": "display_data"
    }
   ],
   "source": [
    "# df.documents_by_year(cumulative=True).seaborn_barplot()"
   ]
  }
 ],
 "metadata": {
  "kernelspec": {
   "display_name": "Python 3",
   "language": "python",
   "name": "python3"
  },
  "language_info": {
   "codemirror_mode": {
    "name": "ipython",
    "version": 3
   },
   "file_extension": ".py",
   "mimetype": "text/x-python",
   "name": "python",
   "nbconvert_exporter": "python",
   "pygments_lexer": "ipython3",
   "version": "3.6.9"
  }
 },
 "nbformat": 4,
 "nbformat_minor": 4
}
