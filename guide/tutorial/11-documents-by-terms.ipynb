{
 "cells": [
  {
   "cell_type": "markdown",
   "metadata": {},
   "source": [
    "# Analysis: Documents by terms"
   ]
  },
  {
   "cell_type": "code",
   "execution_count": 1,
   "metadata": {},
   "outputs": [],
   "source": [
    "import pandas as pd\n",
    "from techminer import RecordsDataFrame\n",
    "\n",
    "rdf = RecordsDataFrame(pd.read_json(\"step-07.json\", orient=\"records\", lines=True))"
   ]
  },
  {
   "cell_type": "markdown",
   "metadata": {},
   "source": [
    "## Document Type"
   ]
  },
  {
   "cell_type": "code",
   "execution_count": 2,
   "metadata": {},
   "outputs": [
    {
     "data": {
      "text/html": [
       "<div>\n",
       "<style scoped>\n",
       "    .dataframe tbody tr th:only-of-type {\n",
       "        vertical-align: middle;\n",
       "    }\n",
       "\n",
       "    .dataframe tbody tr th {\n",
       "        vertical-align: top;\n",
       "    }\n",
       "\n",
       "    .dataframe thead th {\n",
       "        text-align: right;\n",
       "    }\n",
       "</style>\n",
       "<table border=\"1\" class=\"dataframe\">\n",
       "  <thead>\n",
       "    <tr style=\"text-align: right;\">\n",
       "      <th></th>\n",
       "      <th>Document Type</th>\n",
       "      <th>Num Documents</th>\n",
       "      <th>ID</th>\n",
       "    </tr>\n",
       "  </thead>\n",
       "  <tbody>\n",
       "    <tr>\n",
       "      <th>0</th>\n",
       "      <td>Conference Paper</td>\n",
       "      <td>88</td>\n",
       "      <td>[[*7*], [*8*], [*9*], [*12*], [*13*], [*14*], ...</td>\n",
       "    </tr>\n",
       "    <tr>\n",
       "      <th>1</th>\n",
       "      <td>Article</td>\n",
       "      <td>52</td>\n",
       "      <td>[[*0*], [*1*], [*2*], [*3*], [*4*], [*5*], [*6...</td>\n",
       "    </tr>\n",
       "    <tr>\n",
       "      <th>2</th>\n",
       "      <td>Article in Press</td>\n",
       "      <td>2</td>\n",
       "      <td>[[*92*], [*95*]]</td>\n",
       "    </tr>\n",
       "    <tr>\n",
       "      <th>3</th>\n",
       "      <td>Book Chapter</td>\n",
       "      <td>1</td>\n",
       "      <td>[[*136*]]</td>\n",
       "    </tr>\n",
       "    <tr>\n",
       "      <th>4</th>\n",
       "      <td>Conference Review</td>\n",
       "      <td>1</td>\n",
       "      <td>[[*141*]]</td>\n",
       "    </tr>\n",
       "  </tbody>\n",
       "</table>\n",
       "</div>"
      ],
      "text/plain": [
       "       Document Type  Num Documents  \\\n",
       "0   Conference Paper             88   \n",
       "1            Article             52   \n",
       "2   Article in Press              2   \n",
       "3       Book Chapter              1   \n",
       "4  Conference Review              1   \n",
       "\n",
       "                                                  ID  \n",
       "0  [[*7*], [*8*], [*9*], [*12*], [*13*], [*14*], ...  \n",
       "1  [[*0*], [*1*], [*2*], [*3*], [*4*], [*5*], [*6...  \n",
       "2                                   [[*92*], [*95*]]  \n",
       "3                                          [[*136*]]  \n",
       "4                                          [[*141*]]  "
      ]
     },
     "execution_count": 2,
     "metadata": {},
     "output_type": "execute_result"
    }
   ],
   "source": [
    "rdf.documents_by_terms(\"Document Type\")"
   ]
  },
  {
   "cell_type": "code",
   "execution_count": 3,
   "metadata": {},
   "outputs": [],
   "source": [
    "rdf.documents_by_terms(\"Document Type\").print_IDs()"
   ]
  },
  {
   "cell_type": "code",
   "execution_count": 17,
   "metadata": {},
   "outputs": [
    {
     "data": {
      "text/plain": [
       "<Figure size 864x576 with 0 Axes>"
      ]
     },
     "metadata": {},
     "output_type": "display_data"
    },
    {
     "data": {
      "image/png": "[encoded data removed]",
      "text/plain": [
       "<Figure size 432x288 with 1 Axes>"
      ]
     },
     "metadata": {
      "needs_background": "light"
     },
     "output_type": "display_data"
    }
   ],
   "source": [
    "rdf.documents_by_terms(\"Document Type\").barhplot()"
   ]
  },
  {
   "cell_type": "code",
   "execution_count": 16,
   "metadata": {},
   "outputs": [
    {
     "data": {
      "application/vnd.vegalite.v3+json": {
       "$schema": "https://vega.github.io/schema/vega-lite/v3.4.0.json",
       "config": {
        "mark": {
         "tooltip": null
        },
        "view": {
         "height": 300,
         "width": 400
        }
       },
       "data": {
        "name": "data-6646d1f59f1966d9969498ed10e5c0cf"
       },
       "datasets": {
        "data-6646d1f59f1966d9969498ed10e5c0cf": [
         {
          "Document Type": "Conference Paper [88]",
          "ID": [
           "[*7*]",
           "[*8*]",
           "[*9*]",
           "[*12*]",
           "[*13*]",
           "[*14*]",
           "[*15*]",
           "[*16*]",
           "[*17*]",
           "[*19*]",
           "[*20*]",
           "[*21*]",
           "[*22*]",
           "[*23*]",
           "[*24*]",
           "[*26*]",
           "[*30*]",
           "[*32*]",
           "[*36*]",
           "[*40*]",
           "[*41*]",
           "[*42*]",
           "[*45*]",
           "[*48*]",
           "[*49*]",
           "[*50*]",
           "[*51*]",
           "[*52*]",
           "[*53*]",
           "[*55*]",
           "[*56*]",
           "[*57*]",
           "[*59*]",
           "[*60*]",
           "[*61*]",
           "[*63*]",
           "[*64*]",
           "[*65*]",
           "[*66*]",
           "[*69*]",
           "[*70*]",
           "[*71*]",
           "[*72*]",
           "[*73*]",
           "[*74*]",
           "[*75*]",
           "[*76*]",
           "[*77*]",
           "[*78*]",
           "[*79*]",
           "[*81*]",
           "[*82*]",
           "[*83*]",
           "[*84*]",
           "[*85*]",
           "[*86*]",
           "[*87*]",
           "[*88*]",
           "[*89*]",
           "[*90*]",
           "[*91*]",
           "[*93*]",
           "[*94*]",
           "[*96*]",
           "[*97*]",
           "[*98*]",
           "[*99*]",
           "[*100*]",
           "[*101*]",
           "[*102*]",
           "[*106*]",
           "[*107*]",
           "[*109*]",
           "[*110*]",
           "[*114*]",
           "[*115*]",
           "[*116*]",
           "[*118*]",
           "[*119*]",
           "[*120*]",
           "[*121*]",
           "[*122*]",
           "[*124*]",
           "[*126*]",
           "[*129*]",
           "[*138*]",
           "[*140*]",
           "[*143*]"
          ],
          "Num Documents": 88
         },
         {
          "Document Type": "Article [52]",
          "ID": [
           "[*0*]",
           "[*1*]",
           "[*2*]",
           "[*3*]",
           "[*4*]",
           "[*5*]",
           "[*6*]",
           "[*10*]",
           "[*11*]",
           "[*18*]",
           "[*25*]",
           "[*27*]",
           "[*28*]",
           "[*29*]",
           "[*31*]",
           "[*33*]",
           "[*34*]",
           "[*35*]",
           "[*37*]",
           "[*38*]",
           "[*39*]",
           "[*43*]",
           "[*44*]",
           "[*46*]",
           "[*47*]",
           "[*54*]",
           "[*58*]",
           "[*62*]",
           "[*67*]",
           "[*68*]",
           "[*80*]",
           "[*103*]",
           "[*104*]",
           "[*105*]",
           "[*108*]",
           "[*111*]",
           "[*112*]",
           "[*113*]",
           "[*117*]",
           "[*123*]",
           "[*125*]",
           "[*127*]",
           "[*128*]",
           "[*130*]",
           "[*131*]",
           "[*132*]",
           "[*133*]",
           "[*134*]",
           "[*135*]",
           "[*137*]",
           "[*139*]",
           "[*142*]"
          ],
          "Num Documents": 52
         },
         {
          "Document Type": "Article in Press [2]",
          "ID": [
           "[*92*]",
           "[*95*]"
          ],
          "Num Documents": 2
         },
         {
          "Document Type": "Book Chapter [1]",
          "ID": [
           "[*136*]"
          ],
          "Num Documents": 1
         },
         {
          "Document Type": "Conference Review [1]",
          "ID": [
           "[*141*]"
          ],
          "Num Documents": 1
         }
        ]
       },
       "encoding": {
        "color": {
         "field": "Num Documents",
         "scale": {
          "scheme": "Greys"
         },
         "type": "quantitative"
        },
        "x": {
         "field": "Num Documents",
         "type": "quantitative"
        },
        "y": {
         "field": "Document Type",
         "sort": {
          "field": "Num Documents:Q"
         },
         "type": "nominal"
        }
       },
       "mark": "bar"
      },
      "image/png": "[encoded data removed]",
      "text/plain": [
       "<VegaLite 3 object>\n",
       "\n",
       "If you see this message, it means the renderer has not been properly enabled\n",
       "for the frontend that you are using. For more information, see\n",
       "https://altair-viz.github.io/user_guide/troubleshooting.html\n"
      ]
     },
     "execution_count": 16,
     "metadata": {},
     "output_type": "execute_result"
    }
   ],
   "source": [
    "rdf.documents_by_terms(\"Document Type\").altair_barhplot()"
   ]
  },
  {
   "cell_type": "code",
   "execution_count": 6,
   "metadata": {},
   "outputs": [
    {
     "data": {
      "image/png": "[encoded data removed]",
      "text/plain": [
       "<Figure size 432x288 with 1 Axes>"
      ]
     },
     "metadata": {
      "needs_background": "light"
     },
     "output_type": "display_data"
    }
   ],
   "source": [
    "rdf.documents_by_terms(\"Document Type\").seaborn_barhplot()"
   ]
  },
  {
   "cell_type": "code",
   "execution_count": 7,
   "metadata": {},
   "outputs": [
    {
     "data": {
      "text/plain": [
       "<Figure size 576x864 with 0 Axes>"
      ]
     },
     "metadata": {},
     "output_type": "display_data"
    },
    {
     "data": {
      "image/png": "[encoded data removed]",
      "text/plain": [
       "<Figure size 432x288 with 1 Axes>"
      ]
     },
     "metadata": {
      "needs_background": "light"
     },
     "output_type": "display_data"
    }
   ],
   "source": [
    "rdf.documents_by_terms(\"Document Type\").barplot()\n",
    "plt.show()"
   ]
  },
  {
   "cell_type": "code",
   "execution_count": 8,
   "metadata": {},
   "outputs": [
    {
     "data": {
      "application/vnd.vegalite.v3+json": {
       "$schema": "https://vega.github.io/schema/vega-lite/v3.4.0.json",
       "config": {
        "mark": {
         "tooltip": null
        },
        "view": {
         "height": 300,
         "width": 400
        }
       },
       "data": {
        "name": "data-6646d1f59f1966d9969498ed10e5c0cf"
       },
       "datasets": {
        "data-6646d1f59f1966d9969498ed10e5c0cf": [
         {
          "Document Type": "Conference Paper [88]",
          "ID": [
           "[*7*]",
           "[*8*]",
           "[*9*]",
           "[*12*]",
           "[*13*]",
           "[*14*]",
           "[*15*]",
           "[*16*]",
           "[*17*]",
           "[*19*]",
           "[*20*]",
           "[*21*]",
           "[*22*]",
           "[*23*]",
           "[*24*]",
           "[*26*]",
           "[*30*]",
           "[*32*]",
           "[*36*]",
           "[*40*]",
           "[*41*]",
           "[*42*]",
           "[*45*]",
           "[*48*]",
           "[*49*]",
           "[*50*]",
           "[*51*]",
           "[*52*]",
           "[*53*]",
           "[*55*]",
           "[*56*]",
           "[*57*]",
           "[*59*]",
           "[*60*]",
           "[*61*]",
           "[*63*]",
           "[*64*]",
           "[*65*]",
           "[*66*]",
           "[*69*]",
           "[*70*]",
           "[*71*]",
           "[*72*]",
           "[*73*]",
           "[*74*]",
           "[*75*]",
           "[*76*]",
           "[*77*]",
           "[*78*]",
           "[*79*]",
           "[*81*]",
           "[*82*]",
           "[*83*]",
           "[*84*]",
           "[*85*]",
           "[*86*]",
           "[*87*]",
           "[*88*]",
           "[*89*]",
           "[*90*]",
           "[*91*]",
           "[*93*]",
           "[*94*]",
           "[*96*]",
           "[*97*]",
           "[*98*]",
           "[*99*]",
           "[*100*]",
           "[*101*]",
           "[*102*]",
           "[*106*]",
           "[*107*]",
           "[*109*]",
           "[*110*]",
           "[*114*]",
           "[*115*]",
           "[*116*]",
           "[*118*]",
           "[*119*]",
           "[*120*]",
           "[*121*]",
           "[*122*]",
           "[*124*]",
           "[*126*]",
           "[*129*]",
           "[*138*]",
           "[*140*]",
           "[*143*]"
          ],
          "Num Documents": 88
         },
         {
          "Document Type": "Article [52]",
          "ID": [
           "[*0*]",
           "[*1*]",
           "[*2*]",
           "[*3*]",
           "[*4*]",
           "[*5*]",
           "[*6*]",
           "[*10*]",
           "[*11*]",
           "[*18*]",
           "[*25*]",
           "[*27*]",
           "[*28*]",
           "[*29*]",
           "[*31*]",
           "[*33*]",
           "[*34*]",
           "[*35*]",
           "[*37*]",
           "[*38*]",
           "[*39*]",
           "[*43*]",
           "[*44*]",
           "[*46*]",
           "[*47*]",
           "[*54*]",
           "[*58*]",
           "[*62*]",
           "[*67*]",
           "[*68*]",
           "[*80*]",
           "[*103*]",
           "[*104*]",
           "[*105*]",
           "[*108*]",
           "[*111*]",
           "[*112*]",
           "[*113*]",
           "[*117*]",
           "[*123*]",
           "[*125*]",
           "[*127*]",
           "[*128*]",
           "[*130*]",
           "[*131*]",
           "[*132*]",
           "[*133*]",
           "[*134*]",
           "[*135*]",
           "[*137*]",
           "[*139*]",
           "[*142*]"
          ],
          "Num Documents": 52
         },
         {
          "Document Type": "Article in Press [2]",
          "ID": [
           "[*92*]",
           "[*95*]"
          ],
          "Num Documents": 2
         },
         {
          "Document Type": "Book Chapter [1]",
          "ID": [
           "[*136*]"
          ],
          "Num Documents": 1
         },
         {
          "Document Type": "Conference Review [1]",
          "ID": [
           "[*141*]"
          ],
          "Num Documents": 1
         }
        ]
       },
       "encoding": {
        "color": {
         "field": "Num Documents",
         "scale": {
          "scheme": "greys"
         },
         "type": "quantitative"
        },
        "x": {
         "field": "Document Type",
         "sort": {
          "field": "Num Documents:Q"
         },
         "type": "nominal"
        },
        "y": {
         "field": "Num Documents",
         "type": "quantitative"
        }
       },
       "mark": "bar"
      },
      "image/png": "[encoded data removed]",
      "text/plain": [
       "<VegaLite 3 object>\n",
       "\n",
       "If you see this message, it means the renderer has not been properly enabled\n",
       "for the frontend that you are using. For more information, see\n",
       "https://altair-viz.github.io/user_guide/troubleshooting.html\n"
      ]
     },
     "execution_count": 8,
     "metadata": {},
     "output_type": "execute_result"
    }
   ],
   "source": [
    "rdf.documents_by_terms(\"Document Type\").altair_barplot()"
   ]
  },
  {
   "cell_type": "code",
   "execution_count": 9,
   "metadata": {},
   "outputs": [
    {
     "data": {
      "image/png": "[encoded data removed]",
      "text/plain": [
       "<Figure size 432x288 with 1 Axes>"
      ]
     },
     "metadata": {
      "needs_background": "light"
     },
     "output_type": "display_data"
    }
   ],
   "source": [
    "rdf.documents_by_terms(\"Document Type\").seaborn_barplot()"
   ]
  },
  {
   "cell_type": "markdown",
   "metadata": {},
   "source": [
    "## Source title"
   ]
  },
  {
   "cell_type": "code",
   "execution_count": 10,
   "metadata": {},
   "outputs": [
    {
     "data": {
      "text/html": [
       "<div>\n",
       "<style scoped>\n",
       "    .dataframe tbody tr th:only-of-type {\n",
       "        vertical-align: middle;\n",
       "    }\n",
       "\n",
       "    .dataframe tbody tr th {\n",
       "        vertical-align: top;\n",
       "    }\n",
       "\n",
       "    .dataframe thead th {\n",
       "        text-align: right;\n",
       "    }\n",
       "</style>\n",
       "<table border=\"1\" class=\"dataframe\">\n",
       "  <thead>\n",
       "    <tr style=\"text-align: right;\">\n",
       "      <th></th>\n",
       "      <th>Source title</th>\n",
       "      <th>Num Documents</th>\n",
       "      <th>ID</th>\n",
       "    </tr>\n",
       "  </thead>\n",
       "  <tbody>\n",
       "    <tr>\n",
       "      <th>0</th>\n",
       "      <td>Lecture Notes in Computer Science (including s...</td>\n",
       "      <td>17</td>\n",
       "      <td>[[*36*], [*42*], [*45*], [*49*], [*88*], [*89*...</td>\n",
       "    </tr>\n",
       "    <tr>\n",
       "      <th>1</th>\n",
       "      <td>IEEE Access</td>\n",
       "      <td>5</td>\n",
       "      <td>[[*34*], [*38*], [*39*], [*46*], [*47*]]</td>\n",
       "    </tr>\n",
       "    <tr>\n",
       "      <th>2</th>\n",
       "      <td>Expert Systems with Applications</td>\n",
       "      <td>5</td>\n",
       "      <td>[[*0*], [*1*], [*11*], [*54*], [*139*]]</td>\n",
       "    </tr>\n",
       "    <tr>\n",
       "      <th>3</th>\n",
       "      <td>Procedia Computer Science</td>\n",
       "      <td>4</td>\n",
       "      <td>[[*40*], [*48*], [*90*], [*91*]]</td>\n",
       "    </tr>\n",
       "    <tr>\n",
       "      <th>4</th>\n",
       "      <td>Advances in Intelligent Systems and Computing</td>\n",
       "      <td>3</td>\n",
       "      <td>[[*41*], [*51*], [*52*]]</td>\n",
       "    </tr>\n",
       "    <tr>\n",
       "      <th>5</th>\n",
       "      <td>Applied Soft Computing Journal</td>\n",
       "      <td>3</td>\n",
       "      <td>[[*67*], [*80*], [*140*]]</td>\n",
       "    </tr>\n",
       "    <tr>\n",
       "      <th>6</th>\n",
       "      <td>Neural Computing and Applications</td>\n",
       "      <td>3</td>\n",
       "      <td>[[*27*], [*37*], [*44*]]</td>\n",
       "    </tr>\n",
       "    <tr>\n",
       "      <th>7</th>\n",
       "      <td>Communications in Computer and Information Sci...</td>\n",
       "      <td>2</td>\n",
       "      <td>[[*30*], [*94*]]</td>\n",
       "    </tr>\n",
       "    <tr>\n",
       "      <th>8</th>\n",
       "      <td>Proceedings - 17th IEEE International Conferen...</td>\n",
       "      <td>2</td>\n",
       "      <td>[[*23*], [*24*]]</td>\n",
       "    </tr>\n",
       "    <tr>\n",
       "      <th>9</th>\n",
       "      <td>Neurocomputing</td>\n",
       "      <td>2</td>\n",
       "      <td>[[*10*], [*125*]]</td>\n",
       "    </tr>\n",
       "    <tr>\n",
       "      <th>10</th>\n",
       "      <td>ACM International Conference Proceeding Series</td>\n",
       "      <td>2</td>\n",
       "      <td>[[*69*], [*75*]]</td>\n",
       "    </tr>\n",
       "    <tr>\n",
       "      <th>11</th>\n",
       "      <td>Proceedings of the International Joint Confere...</td>\n",
       "      <td>2</td>\n",
       "      <td>[[*63*], [*64*]]</td>\n",
       "    </tr>\n",
       "    <tr>\n",
       "      <th>12</th>\n",
       "      <td>International Journal of Circuits, Systems and...</td>\n",
       "      <td>2</td>\n",
       "      <td>[[*103*], [*127*]]</td>\n",
       "    </tr>\n",
       "    <tr>\n",
       "      <th>13</th>\n",
       "      <td>Knowledge-Based Systems</td>\n",
       "      <td>2</td>\n",
       "      <td>[[*4*], [*25*]]</td>\n",
       "    </tr>\n",
       "    <tr>\n",
       "      <th>14</th>\n",
       "      <td>Journal of Supercomputing</td>\n",
       "      <td>2</td>\n",
       "      <td>[[*95*], [*135*]]</td>\n",
       "    </tr>\n",
       "  </tbody>\n",
       "</table>\n",
       "</div>"
      ],
      "text/plain": [
       "                                         Source title  Num Documents  \\\n",
       "0   Lecture Notes in Computer Science (including s...             17   \n",
       "1                                         IEEE Access              5   \n",
       "2                    Expert Systems with Applications              5   \n",
       "3                           Procedia Computer Science              4   \n",
       "4       Advances in Intelligent Systems and Computing              3   \n",
       "5                      Applied Soft Computing Journal              3   \n",
       "6                   Neural Computing and Applications              3   \n",
       "7   Communications in Computer and Information Sci...              2   \n",
       "8   Proceedings - 17th IEEE International Conferen...              2   \n",
       "9                                      Neurocomputing              2   \n",
       "10     ACM International Conference Proceeding Series              2   \n",
       "11  Proceedings of the International Joint Confere...              2   \n",
       "12  International Journal of Circuits, Systems and...              2   \n",
       "13                            Knowledge-Based Systems              2   \n",
       "14                          Journal of Supercomputing              2   \n",
       "\n",
       "                                                   ID  \n",
       "0   [[*36*], [*42*], [*45*], [*49*], [*88*], [*89*...  \n",
       "1            [[*34*], [*38*], [*39*], [*46*], [*47*]]  \n",
       "2             [[*0*], [*1*], [*11*], [*54*], [*139*]]  \n",
       "3                    [[*40*], [*48*], [*90*], [*91*]]  \n",
       "4                            [[*41*], [*51*], [*52*]]  \n",
       "5                           [[*67*], [*80*], [*140*]]  \n",
       "6                            [[*27*], [*37*], [*44*]]  \n",
       "7                                    [[*30*], [*94*]]  \n",
       "8                                    [[*23*], [*24*]]  \n",
       "9                                   [[*10*], [*125*]]  \n",
       "10                                   [[*69*], [*75*]]  \n",
       "11                                   [[*63*], [*64*]]  \n",
       "12                                 [[*103*], [*127*]]  \n",
       "13                                    [[*4*], [*25*]]  \n",
       "14                                  [[*95*], [*135*]]  "
      ]
     },
     "execution_count": 10,
     "metadata": {},
     "output_type": "execute_result"
    }
   ],
   "source": [
    "rdf.documents_by_terms(\"Source title\", minmax=(2, 100))"
   ]
  },
  {
   "cell_type": "markdown",
   "metadata": {},
   "source": [
    "## Keywords"
   ]
  },
  {
   "cell_type": "code",
   "execution_count": 11,
   "metadata": {},
   "outputs": [
    {
     "data": {
      "text/html": [
       "<div>\n",
       "<style scoped>\n",
       "    .dataframe tbody tr th:only-of-type {\n",
       "        vertical-align: middle;\n",
       "    }\n",
       "\n",
       "    .dataframe tbody tr th {\n",
       "        vertical-align: top;\n",
       "    }\n",
       "\n",
       "    .dataframe thead th {\n",
       "        text-align: right;\n",
       "    }\n",
       "</style>\n",
       "<table border=\"1\" class=\"dataframe\">\n",
       "  <thead>\n",
       "    <tr style=\"text-align: right;\">\n",
       "      <th></th>\n",
       "      <th>keywords (cleaned)</th>\n",
       "      <th>Num Documents</th>\n",
       "      <th>ID</th>\n",
       "    </tr>\n",
       "  </thead>\n",
       "  <tbody>\n",
       "    <tr>\n",
       "      <th>0</th>\n",
       "      <td>forecasting</td>\n",
       "      <td>108</td>\n",
       "      <td>[[*3*], [*4*], [*5*], [*6*], [*7*], [*8*], [*9...</td>\n",
       "    </tr>\n",
       "    <tr>\n",
       "      <th>1</th>\n",
       "      <td>time series</td>\n",
       "      <td>91</td>\n",
       "      <td>[[*3*], [*6*], [*7*], [*8*], [*9*], [*11*], [*...</td>\n",
       "    </tr>\n",
       "    <tr>\n",
       "      <th>2</th>\n",
       "      <td>deep learning</td>\n",
       "      <td>76</td>\n",
       "      <td>[[*3*], [*4*], [*5*], [*7*], [*13*], [*14*], [...</td>\n",
       "    </tr>\n",
       "    <tr>\n",
       "      <th>3</th>\n",
       "      <td>Financial markets</td>\n",
       "      <td>68</td>\n",
       "      <td>[[*3*], [*4*], [*6*], [*7*], [*9*], [*11*], [*...</td>\n",
       "    </tr>\n",
       "    <tr>\n",
       "      <th>4</th>\n",
       "      <td>trading</td>\n",
       "      <td>65</td>\n",
       "      <td>[[*3*], [*4*], [*6*], [*9*], [*11*], [*12*], [...</td>\n",
       "    </tr>\n",
       "    <tr>\n",
       "      <th>5</th>\n",
       "      <td>artificial neural networks</td>\n",
       "      <td>62</td>\n",
       "      <td>[[*4*], [*6*], [*9*], [*10*], [*12*], [*14*], ...</td>\n",
       "    </tr>\n",
       "    <tr>\n",
       "      <th>6</th>\n",
       "      <td>commerce</td>\n",
       "      <td>61</td>\n",
       "      <td>[[*3*], [*4*], [*6*], [*7*], [*9*], [*19*], [*...</td>\n",
       "    </tr>\n",
       "    <tr>\n",
       "      <th>7</th>\n",
       "      <td>long short-term memory neural network</td>\n",
       "      <td>54</td>\n",
       "      <td>[[*0*], [*1*], [*4*], [*6*], [*7*], [*12*], [*...</td>\n",
       "    </tr>\n",
       "    <tr>\n",
       "      <th>8</th>\n",
       "      <td>recurrent neural networks</td>\n",
       "      <td>52</td>\n",
       "      <td>[[*2*], [*6*], [*8*], [*9*], [*11*], [*12*], [...</td>\n",
       "    </tr>\n",
       "    <tr>\n",
       "      <th>9</th>\n",
       "      <td>time series forecasting</td>\n",
       "      <td>43</td>\n",
       "      <td>[[*0*], [*1*], [*4*], [*6*], [*8*], [*11*], [*...</td>\n",
       "    </tr>\n",
       "    <tr>\n",
       "      <th>10</th>\n",
       "      <td>financial time series</td>\n",
       "      <td>38</td>\n",
       "      <td>[[*6*], [*7*], [*13*], [*14*], [*18*], [*19*],...</td>\n",
       "    </tr>\n",
       "    <tr>\n",
       "      <th>11</th>\n",
       "      <td>finance</td>\n",
       "      <td>35</td>\n",
       "      <td>[[*5*], [*9*], [*14*], [*19*], [*20*], [*33*],...</td>\n",
       "    </tr>\n",
       "    <tr>\n",
       "      <th>12</th>\n",
       "      <td>machine learning</td>\n",
       "      <td>35</td>\n",
       "      <td>[[*0*], [*6*], [*10*], [*15*], [*19*], [*22*],...</td>\n",
       "    </tr>\n",
       "    <tr>\n",
       "      <th>13</th>\n",
       "      <td>stock forecasting</td>\n",
       "      <td>34</td>\n",
       "      <td>[[*3*], [*4*], [*11*], [*12*], [*18*], [*20*],...</td>\n",
       "    </tr>\n",
       "    <tr>\n",
       "      <th>14</th>\n",
       "      <td>financial data</td>\n",
       "      <td>31</td>\n",
       "      <td>[[*1*], [*2*], [*5*], [*7*], [*9*], [*14*], [*...</td>\n",
       "    </tr>\n",
       "    <tr>\n",
       "      <th>15</th>\n",
       "      <td>convolutional neural network</td>\n",
       "      <td>29</td>\n",
       "      <td>[[*13*], [*14*], [*18*], [*19*], [*26*], [*29*...</td>\n",
       "    </tr>\n",
       "    <tr>\n",
       "      <th>16</th>\n",
       "      <td>feedforward neural networks</td>\n",
       "      <td>24</td>\n",
       "      <td>[[*2*], [*26*], [*29*], [*37*], [*38*], [*39*]...</td>\n",
       "    </tr>\n",
       "    <tr>\n",
       "      <th>17</th>\n",
       "      <td>forecasting accuracy</td>\n",
       "      <td>22</td>\n",
       "      <td>[[*4*], [*5*], [*20*], [*36*], [*49*], [*60*],...</td>\n",
       "    </tr>\n",
       "    <tr>\n",
       "      <th>18</th>\n",
       "      <td>convolution</td>\n",
       "      <td>21</td>\n",
       "      <td>[[*14*], [*18*], [*19*], [*26*], [*45*], [*64*...</td>\n",
       "    </tr>\n",
       "    <tr>\n",
       "      <th>19</th>\n",
       "      <td>costs</td>\n",
       "      <td>21</td>\n",
       "      <td>[[*1*], [*11*], [*28*], [*30*], [*34*], [*56*]...</td>\n",
       "    </tr>\n",
       "    <tr>\n",
       "      <th>20</th>\n",
       "      <td>Learning algorithms</td>\n",
       "      <td>19</td>\n",
       "      <td>[[*3*], [*6*], [*9*], [*19*], [*25*], [*26*], ...</td>\n",
       "    </tr>\n",
       "    <tr>\n",
       "      <th>21</th>\n",
       "      <td>financial time series forecasting</td>\n",
       "      <td>19</td>\n",
       "      <td>[[*2*], [*3*], [*5*], [*12*], [*25*], [*26*], ...</td>\n",
       "    </tr>\n",
       "    <tr>\n",
       "      <th>22</th>\n",
       "      <td>Learning systems</td>\n",
       "      <td>18</td>\n",
       "      <td>[[*6*], [*14*], [*19*], [*25*], [*34*], [*38*]...</td>\n",
       "    </tr>\n",
       "    <tr>\n",
       "      <th>23</th>\n",
       "      <td>investments</td>\n",
       "      <td>18</td>\n",
       "      <td>[[*7*], [*22*], [*23*], [*35*], [*38*], [*60*]...</td>\n",
       "    </tr>\n",
       "    <tr>\n",
       "      <th>24</th>\n",
       "      <td>forecasting models</td>\n",
       "      <td>16</td>\n",
       "      <td>[[*20*], [*38*], [*41*], [*53*], [*61*], [*62*...</td>\n",
       "    </tr>\n",
       "    <tr>\n",
       "      <th>25</th>\n",
       "      <td>Brain</td>\n",
       "      <td>15</td>\n",
       "      <td>[[*6*], [*34*], [*41*], [*53*], [*56*], [*65*]...</td>\n",
       "    </tr>\n",
       "    <tr>\n",
       "      <th>26</th>\n",
       "      <td>algorithms</td>\n",
       "      <td>14</td>\n",
       "      <td>[[*2*], [*8*], [*9*], [*43*], [*45*], [*46*], ...</td>\n",
       "    </tr>\n",
       "    <tr>\n",
       "      <th>27</th>\n",
       "      <td>mean square error</td>\n",
       "      <td>13</td>\n",
       "      <td>[[*3*], [*7*], [*12*], [*35*], [*42*], [*50*],...</td>\n",
       "    </tr>\n",
       "    <tr>\n",
       "      <th>28</th>\n",
       "      <td>Big data</td>\n",
       "      <td>12</td>\n",
       "      <td>[[*3*], [*8*], [*19*], [*48*], [*58*], [*75*],...</td>\n",
       "    </tr>\n",
       "    <tr>\n",
       "      <th>29</th>\n",
       "      <td>stock markets</td>\n",
       "      <td>12</td>\n",
       "      <td>[[*6*], [*27*], [*43*], [*48*], [*62*], [*70*]...</td>\n",
       "    </tr>\n",
       "  </tbody>\n",
       "</table>\n",
       "</div>"
      ],
      "text/plain": [
       "                       keywords (cleaned)  Num Documents  \\\n",
       "0                             forecasting            108   \n",
       "1                             time series             91   \n",
       "2                           deep learning             76   \n",
       "3                       Financial markets             68   \n",
       "4                                 trading             65   \n",
       "5              artificial neural networks             62   \n",
       "6                                commerce             61   \n",
       "7   long short-term memory neural network             54   \n",
       "8               recurrent neural networks             52   \n",
       "9                 time series forecasting             43   \n",
       "10                  financial time series             38   \n",
       "11                                finance             35   \n",
       "12                       machine learning             35   \n",
       "13                      stock forecasting             34   \n",
       "14                         financial data             31   \n",
       "15           convolutional neural network             29   \n",
       "16            feedforward neural networks             24   \n",
       "17                   forecasting accuracy             22   \n",
       "18                            convolution             21   \n",
       "19                                  costs             21   \n",
       "20                    Learning algorithms             19   \n",
       "21      financial time series forecasting             19   \n",
       "22                       Learning systems             18   \n",
       "23                            investments             18   \n",
       "24                     forecasting models             16   \n",
       "25                                  Brain             15   \n",
       "26                             algorithms             14   \n",
       "27                      mean square error             13   \n",
       "28                               Big data             12   \n",
       "29                          stock markets             12   \n",
       "\n",
       "                                                   ID  \n",
       "0   [[*3*], [*4*], [*5*], [*6*], [*7*], [*8*], [*9...  \n",
       "1   [[*3*], [*6*], [*7*], [*8*], [*9*], [*11*], [*...  \n",
       "2   [[*3*], [*4*], [*5*], [*7*], [*13*], [*14*], [...  \n",
       "3   [[*3*], [*4*], [*6*], [*7*], [*9*], [*11*], [*...  \n",
       "4   [[*3*], [*4*], [*6*], [*9*], [*11*], [*12*], [...  \n",
       "5   [[*4*], [*6*], [*9*], [*10*], [*12*], [*14*], ...  \n",
       "6   [[*3*], [*4*], [*6*], [*7*], [*9*], [*19*], [*...  \n",
       "7   [[*0*], [*1*], [*4*], [*6*], [*7*], [*12*], [*...  \n",
       "8   [[*2*], [*6*], [*8*], [*9*], [*11*], [*12*], [...  \n",
       "9   [[*0*], [*1*], [*4*], [*6*], [*8*], [*11*], [*...  \n",
       "10  [[*6*], [*7*], [*13*], [*14*], [*18*], [*19*],...  \n",
       "11  [[*5*], [*9*], [*14*], [*19*], [*20*], [*33*],...  \n",
       "12  [[*0*], [*6*], [*10*], [*15*], [*19*], [*22*],...  \n",
       "13  [[*3*], [*4*], [*11*], [*12*], [*18*], [*20*],...  \n",
       "14  [[*1*], [*2*], [*5*], [*7*], [*9*], [*14*], [*...  \n",
       "15  [[*13*], [*14*], [*18*], [*19*], [*26*], [*29*...  \n",
       "16  [[*2*], [*26*], [*29*], [*37*], [*38*], [*39*]...  \n",
       "17  [[*4*], [*5*], [*20*], [*36*], [*49*], [*60*],...  \n",
       "18  [[*14*], [*18*], [*19*], [*26*], [*45*], [*64*...  \n",
       "19  [[*1*], [*11*], [*28*], [*30*], [*34*], [*56*]...  \n",
       "20  [[*3*], [*6*], [*9*], [*19*], [*25*], [*26*], ...  \n",
       "21  [[*2*], [*3*], [*5*], [*12*], [*25*], [*26*], ...  \n",
       "22  [[*6*], [*14*], [*19*], [*25*], [*34*], [*38*]...  \n",
       "23  [[*7*], [*22*], [*23*], [*35*], [*38*], [*60*]...  \n",
       "24  [[*20*], [*38*], [*41*], [*53*], [*61*], [*62*...  \n",
       "25  [[*6*], [*34*], [*41*], [*53*], [*56*], [*65*]...  \n",
       "26  [[*2*], [*8*], [*9*], [*43*], [*45*], [*46*], ...  \n",
       "27  [[*3*], [*7*], [*12*], [*35*], [*42*], [*50*],...  \n",
       "28  [[*3*], [*8*], [*19*], [*48*], [*58*], [*75*],...  \n",
       "29  [[*6*], [*27*], [*43*], [*48*], [*62*], [*70*]...  "
      ]
     },
     "execution_count": 11,
     "metadata": {},
     "output_type": "execute_result"
    }
   ],
   "source": [
    "rdf.documents_by_terms(\"keywords (cleaned)\", sep=\";\", top_n=30)"
   ]
  },
  {
   "cell_type": "markdown",
   "metadata": {},
   "source": [
    "## Country"
   ]
  },
  {
   "cell_type": "code",
   "execution_count": 12,
   "metadata": {},
   "outputs": [
    {
     "data": {
      "text/html": [
       "<div>\n",
       "<style scoped>\n",
       "    .dataframe tbody tr th:only-of-type {\n",
       "        vertical-align: middle;\n",
       "    }\n",
       "\n",
       "    .dataframe tbody tr th {\n",
       "        vertical-align: top;\n",
       "    }\n",
       "\n",
       "    .dataframe thead th {\n",
       "        text-align: right;\n",
       "    }\n",
       "</style>\n",
       "<table border=\"1\" class=\"dataframe\">\n",
       "  <thead>\n",
       "    <tr style=\"text-align: right;\">\n",
       "      <th></th>\n",
       "      <th>Country</th>\n",
       "      <th>Num Documents</th>\n",
       "      <th>ID</th>\n",
       "    </tr>\n",
       "  </thead>\n",
       "  <tbody>\n",
       "    <tr>\n",
       "      <th>0</th>\n",
       "      <td>China</td>\n",
       "      <td>83</td>\n",
       "      <td>[[*3*], [*4*], [*6*], [*6*], [*7*], [*10*], [*...</td>\n",
       "    </tr>\n",
       "    <tr>\n",
       "      <th>1</th>\n",
       "      <td>Taiwan</td>\n",
       "      <td>20</td>\n",
       "      <td>[[*14*], [*14*], [*17*], [*17*], [*17*], [*17*...</td>\n",
       "    </tr>\n",
       "    <tr>\n",
       "      <th>2</th>\n",
       "      <td>United States</td>\n",
       "      <td>17</td>\n",
       "      <td>[[*3*], [*22*], [*23*], [*23*], [*26*], [*26*]...</td>\n",
       "    </tr>\n",
       "    <tr>\n",
       "      <th>3</th>\n",
       "      <td>United Kingdom</td>\n",
       "      <td>15</td>\n",
       "      <td>[[*5*], [*7*], [*11*], [*11*], [*11*], [*28*],...</td>\n",
       "    </tr>\n",
       "    <tr>\n",
       "      <th>4</th>\n",
       "      <td>India</td>\n",
       "      <td>15</td>\n",
       "      <td>[[*9*], [*50*], [*51*], [*56*], [*56*], [*57*]...</td>\n",
       "    </tr>\n",
       "    <tr>\n",
       "      <th>5</th>\n",
       "      <td>Germany</td>\n",
       "      <td>10</td>\n",
       "      <td>[[*31*], [*31*], [*31*], [*39*], [*39*], [*62*...</td>\n",
       "    </tr>\n",
       "    <tr>\n",
       "      <th>6</th>\n",
       "      <td>Italy</td>\n",
       "      <td>8</td>\n",
       "      <td>[[*18*], [*24*], [*30*], [*103*], [*120*], [*1...</td>\n",
       "    </tr>\n",
       "    <tr>\n",
       "      <th>7</th>\n",
       "      <td>Colombia</td>\n",
       "      <td>8</td>\n",
       "      <td>[[*52*], [*52*], [*94*], [*94*], [*100*], [*10...</td>\n",
       "    </tr>\n",
       "    <tr>\n",
       "      <th>8</th>\n",
       "      <td>Poland</td>\n",
       "      <td>5</td>\n",
       "      <td>[[*1*], [*1*], [*107*], [*122*], [*122*]]</td>\n",
       "    </tr>\n",
       "    <tr>\n",
       "      <th>9</th>\n",
       "      <td>Singapore</td>\n",
       "      <td>5</td>\n",
       "      <td>[[*4*], [*6*], [*86*], [*109*], [*134*]]</td>\n",
       "    </tr>\n",
       "    <tr>\n",
       "      <th>10</th>\n",
       "      <td>Greece</td>\n",
       "      <td>5</td>\n",
       "      <td>[[*8*], [*110*], [*114*], [*133*], [*133*]]</td>\n",
       "    </tr>\n",
       "    <tr>\n",
       "      <th>11</th>\n",
       "      <td>Finland</td>\n",
       "      <td>5</td>\n",
       "      <td>[[*8*], [*110*], [*110*], [*114*], [*114*]]</td>\n",
       "    </tr>\n",
       "    <tr>\n",
       "      <th>12</th>\n",
       "      <td>Brazil</td>\n",
       "      <td>5</td>\n",
       "      <td>[[*61*], [*61*], [*63*], [*129*], [*129*]]</td>\n",
       "    </tr>\n",
       "    <tr>\n",
       "      <th>13</th>\n",
       "      <td>Turkey</td>\n",
       "      <td>5</td>\n",
       "      <td>[[*12*], [*21*], [*21*], [*67*], [*83*]]</td>\n",
       "    </tr>\n",
       "    <tr>\n",
       "      <th>14</th>\n",
       "      <td>South Korea</td>\n",
       "      <td>4</td>\n",
       "      <td>[[*28*], [*54*], [*54*], [*95*]]</td>\n",
       "    </tr>\n",
       "  </tbody>\n",
       "</table>\n",
       "</div>"
      ],
      "text/plain": [
       "           Country  Num Documents  \\\n",
       "0            China             83   \n",
       "1           Taiwan             20   \n",
       "2    United States             17   \n",
       "3   United Kingdom             15   \n",
       "4            India             15   \n",
       "5          Germany             10   \n",
       "6            Italy              8   \n",
       "7         Colombia              8   \n",
       "8           Poland              5   \n",
       "9        Singapore              5   \n",
       "10          Greece              5   \n",
       "11         Finland              5   \n",
       "12          Brazil              5   \n",
       "13          Turkey              5   \n",
       "14     South Korea              4   \n",
       "\n",
       "                                                   ID  \n",
       "0   [[*3*], [*4*], [*6*], [*6*], [*7*], [*10*], [*...  \n",
       "1   [[*14*], [*14*], [*17*], [*17*], [*17*], [*17*...  \n",
       "2   [[*3*], [*22*], [*23*], [*23*], [*26*], [*26*]...  \n",
       "3   [[*5*], [*7*], [*11*], [*11*], [*11*], [*28*],...  \n",
       "4   [[*9*], [*50*], [*51*], [*56*], [*56*], [*57*]...  \n",
       "5   [[*31*], [*31*], [*31*], [*39*], [*39*], [*62*...  \n",
       "6   [[*18*], [*24*], [*30*], [*103*], [*120*], [*1...  \n",
       "7   [[*52*], [*52*], [*94*], [*94*], [*100*], [*10...  \n",
       "8           [[*1*], [*1*], [*107*], [*122*], [*122*]]  \n",
       "9            [[*4*], [*6*], [*86*], [*109*], [*134*]]  \n",
       "10        [[*8*], [*110*], [*114*], [*133*], [*133*]]  \n",
       "11        [[*8*], [*110*], [*110*], [*114*], [*114*]]  \n",
       "12         [[*61*], [*61*], [*63*], [*129*], [*129*]]  \n",
       "13           [[*12*], [*21*], [*21*], [*67*], [*83*]]  \n",
       "14                   [[*28*], [*54*], [*54*], [*95*]]  "
      ]
     },
     "execution_count": 12,
     "metadata": {},
     "output_type": "execute_result"
    }
   ],
   "source": [
    "from techminer.strings import *\n",
    "\n",
    "rdf[\"Country\"] = rdf[\"Affiliations\"].map(lambda x: extract_country(x, sep=\";\"))\n",
    "rdf.documents_by_terms(\"Country\", sep=\";\").head(15)"
   ]
  },
  {
   "cell_type": "code",
   "execution_count": 13,
   "metadata": {},
   "outputs": [
    {
     "data": {
      "image/png": "[encoded data removed]",
      "text/plain": [
       "<Figure size 1008x504 with 2 Axes>"
      ]
     },
     "metadata": {
      "needs_background": "light"
     },
     "output_type": "display_data"
    }
   ],
   "source": [
    "rdf.documents_by_terms(\"Country\", sep=\";\").worldmap()"
   ]
  }
 ],
 "metadata": {
  "kernelspec": {
   "display_name": "Python 3",
   "language": "python",
   "name": "python3"
  },
  "language_info": {
   "codemirror_mode": {
    "name": "ipython",
    "version": 3
   },
   "file_extension": ".py",
   "mimetype": "text/x-python",
   "name": "python",
   "nbconvert_exporter": "python",
   "pygments_lexer": "ipython3",
   "version": "3.6.9"
  }
 },
 "nbformat": 4,
 "nbformat_minor": 4
}
