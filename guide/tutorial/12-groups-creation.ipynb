{
 "cells": [
  {
   "cell_type": "markdown",
   "metadata": {},
   "source": [
    "# Groups creation"
   ]
  },
  {
   "cell_type": "code",
   "execution_count": 1,
   "metadata": {},
   "outputs": [],
   "source": [
    "#\n",
    "# Data loading\n",
    "#\n",
    "import pandas as pd\n",
    "\n",
    "url = \"https://raw.githubusercontent.com/jdvelasq/techminer/master/data/tutorial/\"\n",
    "\n",
    "df = pd.read_json(url + \"groups-creation.json\", orient=\"records\", lines=True)"
   ]
  },
  {
   "cell_type": "code",
   "execution_count": 2,
   "metadata": {},
   "outputs": [],
   "source": [
    "from techminer import DataFrame\n",
    "\n",
    "df = DataFrame(df)"
   ]
  },
  {
   "cell_type": "markdown",
   "metadata": {},
   "source": [
    "## Most frequent authors"
   ]
  },
  {
   "cell_type": "code",
   "execution_count": 3,
   "metadata": {},
   "outputs": [
    {
     "data": {
      "text/html": [
       "<div>\n",
       "<style scoped>\n",
       "    .dataframe tbody tr th:only-of-type {\n",
       "        vertical-align: middle;\n",
       "    }\n",
       "\n",
       "    .dataframe tbody tr th {\n",
       "        vertical-align: top;\n",
       "    }\n",
       "\n",
       "    .dataframe thead th {\n",
       "        text-align: right;\n",
       "    }\n",
       "</style>\n",
       "<table border=\"1\" class=\"dataframe\">\n",
       "  <thead>\n",
       "    <tr style=\"text-align: right;\">\n",
       "      <th></th>\n",
       "      <th>Authors</th>\n",
       "      <th>Num Documents</th>\n",
       "      <th>ID</th>\n",
       "    </tr>\n",
       "  </thead>\n",
       "  <tbody>\n",
       "    <tr>\n",
       "      <th>0</th>\n",
       "      <td>Arévalo A.</td>\n",
       "      <td>3</td>\n",
       "      <td>[52, 94, 100]</td>\n",
       "    </tr>\n",
       "    <tr>\n",
       "      <th>1</th>\n",
       "      <td>Gabbouj M.</td>\n",
       "      <td>3</td>\n",
       "      <td>[8, 110, 114]</td>\n",
       "    </tr>\n",
       "    <tr>\n",
       "      <th>2</th>\n",
       "      <td>Hernandez G.</td>\n",
       "      <td>3</td>\n",
       "      <td>[52, 94, 100]</td>\n",
       "    </tr>\n",
       "    <tr>\n",
       "      <th>3</th>\n",
       "      <td>Hussain A.J.</td>\n",
       "      <td>3</td>\n",
       "      <td>[125, 133, 140]</td>\n",
       "    </tr>\n",
       "    <tr>\n",
       "      <th>4</th>\n",
       "      <td>Iosifidis A.</td>\n",
       "      <td>3</td>\n",
       "      <td>[8, 110, 114]</td>\n",
       "    </tr>\n",
       "    <tr>\n",
       "      <th>...</th>\n",
       "      <td>...</td>\n",
       "      <td>...</td>\n",
       "      <td>...</td>\n",
       "    </tr>\n",
       "    <tr>\n",
       "      <th>429</th>\n",
       "      <td>Zou Q.</td>\n",
       "      <td>1</td>\n",
       "      <td>[38]</td>\n",
       "    </tr>\n",
       "    <tr>\n",
       "      <th>430</th>\n",
       "      <td>[No author name available]</td>\n",
       "      <td>1</td>\n",
       "      <td>[142]</td>\n",
       "    </tr>\n",
       "    <tr>\n",
       "      <th>431</th>\n",
       "      <td>von Mettenheim H.-J.</td>\n",
       "      <td>1</td>\n",
       "      <td>[137]</td>\n",
       "    </tr>\n",
       "    <tr>\n",
       "      <th>432</th>\n",
       "      <td>Ładyżyński P.</td>\n",
       "      <td>1</td>\n",
       "      <td>[1]</td>\n",
       "    </tr>\n",
       "    <tr>\n",
       "      <th>433</th>\n",
       "      <td>Żbikowski K.</td>\n",
       "      <td>1</td>\n",
       "      <td>[1]</td>\n",
       "    </tr>\n",
       "  </tbody>\n",
       "</table>\n",
       "<p>434 rows × 3 columns</p>\n",
       "</div>"
      ],
      "text/plain": [
       "                        Authors  Num Documents               ID\n",
       "0                    Arévalo A.              3    [52, 94, 100]\n",
       "1                    Gabbouj M.              3    [8, 110, 114]\n",
       "2                  Hernandez G.              3    [52, 94, 100]\n",
       "3                  Hussain A.J.              3  [125, 133, 140]\n",
       "4                  Iosifidis A.              3    [8, 110, 114]\n",
       "..                          ...            ...              ...\n",
       "429                      Zou Q.              1             [38]\n",
       "430  [No author name available]              1            [142]\n",
       "431        von Mettenheim H.-J.              1            [137]\n",
       "432               Ładyżyński P.              1              [1]\n",
       "433                Żbikowski K.              1              [1]\n",
       "\n",
       "[434 rows x 3 columns]"
      ]
     },
     "execution_count": 3,
     "metadata": {},
     "output_type": "execute_result"
    }
   ],
   "source": [
    "df.documents_by_term('Authors')"
   ]
  },
  {
   "cell_type": "code",
   "execution_count": 4,
   "metadata": {},
   "outputs": [
    {
     "data": {
      "text/plain": [
       "0       Arévalo A.\n",
       "1       Gabbouj M.\n",
       "2     Hernandez G.\n",
       "3     Hussain A.J.\n",
       "4     Iosifidis A.\n",
       "5    Kanniainen J.\n",
       "6          León D.\n",
       "7          Nino J.\n",
       "8      Passalis N.\n",
       "9      Sandoval J.\n",
       "Name: Authors, dtype: object"
      ]
     },
     "execution_count": 4,
     "metadata": {},
     "output_type": "execute_result"
    }
   ],
   "source": [
    "top_10_freq_authors = df.documents_by_term('Authors')['Authors'].head(10)\n",
    "top_10_freq_authors"
   ]
  },
  {
   "cell_type": "code",
   "execution_count": 5,
   "metadata": {},
   "outputs": [],
   "source": [
    "from techminer import Keywords\n",
    "\n",
    "freq_authors = Keywords(x = top_10_freq_authors, ignore_case=False)\n",
    "\n",
    "df['top_10_freq_authors'] = df.Authors.map(lambda x: any([author in freq_authors for author in x.split(',')]))"
   ]
  },
  {
   "cell_type": "code",
   "execution_count": 6,
   "metadata": {},
   "outputs": [
    {
     "data": {
      "text/plain": [
       "0      False\n",
       "1      False\n",
       "2      False\n",
       "3      False\n",
       "4      False\n",
       "       ...  \n",
       "140     True\n",
       "141    False\n",
       "142    False\n",
       "143    False\n",
       "144    False\n",
       "Name: top_10_freq_authors, Length: 145, dtype: bool"
      ]
     },
     "execution_count": 6,
     "metadata": {},
     "output_type": "execute_result"
    }
   ],
   "source": [
    "#\n",
    "# Bool vector for documents written for frequent authors\n",
    "#\n",
    "df.top_10_freq_authors"
   ]
  },
  {
   "cell_type": "code",
   "execution_count": 8,
   "metadata": {},
   "outputs": [
    {
     "data": {
      "text/plain": [
       "8      Deep Temporal Logistic Bag-of-features for For...\n",
       "52     CNN with limit order book data for stock price...\n",
       "94     Price prediction with cnn and limit order book...\n",
       "100    Deep Learning and Wavelets for High-Frequency ...\n",
       "110    Using deep learning to detect price change ind...\n",
       "114    Forecasting stock prices from the limit order ...\n",
       "125    Regularized dynamic self-organized neural netw...\n",
       "133    Physical time series prediction using dynamic ...\n",
       "140    Dynamic Ridge Polynomial Neural Network: Forec...\n",
       "Name: Title, dtype: object"
      ]
     },
     "execution_count": 8,
     "metadata": {},
     "output_type": "execute_result"
    }
   ],
   "source": [
    "#\n",
    "# Titles of documents written for most frequent authors\n",
    "#\n",
    "df.Title[df.top_10_freq_authors]"
   ]
  },
  {
   "cell_type": "code",
   "execution_count": null,
   "metadata": {},
   "outputs": [],
   "source": []
  },
  {
   "cell_type": "code",
   "execution_count": null,
   "metadata": {},
   "outputs": [],
   "source": []
  },
  {
   "cell_type": "code",
   "execution_count": null,
   "metadata": {},
   "outputs": [],
   "source": []
  },
  {
   "cell_type": "code",
   "execution_count": null,
   "metadata": {},
   "outputs": [],
   "source": []
  },
  {
   "cell_type": "code",
   "execution_count": 3,
   "metadata": {},
   "outputs": [],
   "source": [
    "#df.to_json(\"data-cleaned.json\", orient=\"records\", lines=True)"
   ]
  }
 ],
 "metadata": {
  "kernelspec": {
   "display_name": "Python 3",
   "language": "python",
   "name": "python3"
  },
  "language_info": {
   "codemirror_mode": {
    "name": "ipython",
    "version": 3
   },
   "file_extension": ".py",
   "mimetype": "text/x-python",
   "name": "python",
   "nbconvert_exporter": "python",
   "pygments_lexer": "ipython3",
   "version": "3.6.9"
  }
 },
 "nbformat": 4,
 "nbformat_minor": 4
}
