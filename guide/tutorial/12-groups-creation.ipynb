{
 "cells": [
  {
   "cell_type": "code",
   "execution_count": 1,
   "metadata": {},
   "outputs": [],
   "source": [
    "# Install latest version from GitHub\n",
    "!pip install -q -U git+https://github.com/jdvelasq/techminer"
   ]
  },
  {
   "cell_type": "markdown",
   "metadata": {},
   "source": [
    "# Groups creation"
   ]
  },
  {
   "cell_type": "code",
   "execution_count": 2,
   "metadata": {},
   "outputs": [],
   "source": [
    "#\n",
    "# Data loading\n",
    "#\n",
    "import pandas as pd\n",
    "\n",
    "url = \"https://raw.githubusercontent.com/jdvelasq/techminer/master/data/tutorial/\"\n",
    "df = pd.read_json(url + \"groups-creation.json\", orient=\"records\", lines=True)"
   ]
  },
  {
   "cell_type": "code",
   "execution_count": 3,
   "metadata": {},
   "outputs": [],
   "source": [
    "from techminer import DataFrame\n",
    "\n",
    "df = DataFrame(df)"
   ]
  },
  {
   "cell_type": "markdown",
   "metadata": {},
   "source": [
    "## Most frequent ..."
   ]
  },
  {
   "cell_type": "code",
   "execution_count": 4,
   "metadata": {},
   "outputs": [
    {
     "data": {
      "text/plain": [
       "0       Arevalo A.\n",
       "1       Gabbouj M.\n",
       "2     Hernandez G.\n",
       "3     Hussain A.J.\n",
       "4     Iosifidis A.\n",
       "5    Kanniainen J.\n",
       "6          Leon D.\n",
       "7          Nino J.\n",
       "8      Passalis N.\n",
       "9      Sandoval J.\n",
       "Name: Authors, dtype: object"
      ]
     },
     "execution_count": 4,
     "metadata": {},
     "output_type": "execute_result"
    }
   ],
   "source": [
    "#\n",
    "# Top 10 most frequent authors\n",
    "#\n",
    "top_10_authors_freq = df.documents_by_term('Authors')['Authors'].head(10)\n",
    "top_10_authors_freq"
   ]
  },
  {
   "cell_type": "code",
   "execution_count": 5,
   "metadata": {},
   "outputs": [
    {
     "data": {
      "text/plain": [
       "0      False\n",
       "1      False\n",
       "2      False\n",
       "3      False\n",
       "4      False\n",
       "       ...  \n",
       "140     True\n",
       "141    False\n",
       "142    False\n",
       "143    False\n",
       "144    False\n",
       "Name: top_10_Authors_freq, Length: 145, dtype: bool"
      ]
     },
     "execution_count": 5,
     "metadata": {},
     "output_type": "execute_result"
    }
   ],
   "source": [
    "#\n",
    "# The ext function adds a boolean column for rows \n",
    "# belong to 10 most frequent authors\n",
    "#\n",
    "df = df.most_frequent(column='Authors', top_n=10)\n",
    "df.top_10_Authors_freq"
   ]
  },
  {
   "cell_type": "code",
   "execution_count": 6,
   "metadata": {},
   "outputs": [
    {
     "data": {
      "text/plain": [
       "8      Deep Temporal Logistic Bag-of-features for For...\n",
       "52     CNN with limit order book data for stock price...\n",
       "94     Price prediction with cnn and limit order book...\n",
       "100    Deep Learning and Wavelets for High-Frequency ...\n",
       "110    Using deep learning to detect price change ind...\n",
       "114    Forecasting stock prices from the limit order ...\n",
       "125    Regularized dynamic self-organized neural netw...\n",
       "133    Physical time series prediction using dynamic ...\n",
       "140    Dynamic Ridge Polynomial Neural Network: Forec...\n",
       "Name: Title, dtype: object"
      ]
     },
     "execution_count": 6,
     "metadata": {},
     "output_type": "execute_result"
    }
   ],
   "source": [
    "#\n",
    "# Titles of documents written for top 10 most frequent authors\n",
    "#\n",
    "df.Title[df.top_10_Authors_freq]"
   ]
  },
  {
   "cell_type": "markdown",
   "metadata": {},
   "source": [
    "## Most cited by ...."
   ]
  },
  {
   "cell_type": "code",
   "execution_count": 7,
   "metadata": {},
   "outputs": [
    {
     "data": {
      "text/plain": [
       "62     Deep learning with long short-term memory netw...\n",
       "124    Deep learning for stock prediction using numer...\n",
       "125    Regularized dynamic self-organized neural netw...\n",
       "133    Physical time series prediction using dynamic ...\n",
       "140    Dynamic Ridge Polynomial Neural Network: Forec...\n",
       "141    Forecasting stock markets using wavelet transf...\n",
       "Name: Title, dtype: object"
      ]
     },
     "execution_count": 7,
     "metadata": {},
     "output_type": "execute_result"
    }
   ],
   "source": [
    "#\n",
    "# There is an equivalent function for most `cited by` items\n",
    "#\n",
    "df = df.most_cited_by('Authors', top_n=10)\n",
    "df.Title[df.top_10_Authors_cited_by]"
   ]
  },
  {
   "cell_type": "code",
   "execution_count": 8,
   "metadata": {},
   "outputs": [],
   "source": [
    "### df = df.remove_accents()\n",
    "### df = df.most_frequent(column='Authors', top_n=10)\n",
    "### df = df.most_frequent(column='keywords', top_n=10)\n",
    "### df = df.most_frequent(column='Source title', top_n=10)\n",
    "### df = df.most_cited_by(column='Authors', top_n=10)\n",
    "### df = df.most_cited_by(column='keywords', top_n=10)\n",
    "### df = df.most_cited_by(column='Source title', top_n=10)\n",
    "### df.to_json(\"cleaned-data.json\", orient=\"records\", lines=True)"
   ]
  }
 ],
 "metadata": {
  "kernelspec": {
   "display_name": "Python 3",
   "language": "python",
   "name": "python3"
  },
  "language_info": {
   "codemirror_mode": {
    "name": "ipython",
    "version": 3
   },
   "file_extension": ".py",
   "mimetype": "text/x-python",
   "name": "python",
   "nbconvert_exporter": "python",
   "pygments_lexer": "ipython3",
   "version": "3.6.9"
  }
 },
 "nbformat": 4,
 "nbformat_minor": 4
}
