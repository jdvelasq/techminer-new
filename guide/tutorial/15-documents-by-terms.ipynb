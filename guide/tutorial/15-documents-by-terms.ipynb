{
 "cells": [
  {
   "cell_type": "code",
   "execution_count": 1,
   "metadata": {},
   "outputs": [],
   "source": [
    "# Install latest version from GitHub\n",
    "!pip install -q -U git+https://github.com/jdvelasq/techminer"
   ]
  },
  {
   "cell_type": "code",
   "execution_count": null,
   "metadata": {},
   "outputs": [],
   "source": [
    "import pandas as pd\n",
    "\n",
    "from techminer import DataFrame\n",
    "\n",
    "#\n",
    "# Data loading\n",
    "#\n",
    "df = DataFrame(\n",
    "    pd.read_json(\n",
    "        \"https://raw.githubusercontent.com/jdvelasq/techminer/master/data/tutorial/\"\n",
    "        + \"cleaned-data.json\",\n",
    "        orient=\"records\",\n",
    "        lines=True,\n",
    "    )\n",
    ")"
   ]
  },
  {
   "cell_type": "markdown",
   "metadata": {},
   "source": [
    "# Documents by terms"
   ]
  },
  {
   "cell_type": "code",
   "execution_count": 2,
   "metadata": {},
   "outputs": [],
   "source": [
    "#\n",
    "# Data loading\n",
    "#\n",
    "import pandas as pd\n",
    "\n",
    "url = \"https://raw.githubusercontent.com/jdvelasq/techminer/master/data/tutorial/\"\n",
    "df = pd.read_json(url + \"cleaned-data.json\", orient=\"records\", lines=True)"
   ]
  },
  {
   "cell_type": "code",
   "execution_count": 3,
   "metadata": {},
   "outputs": [],
   "source": [
    "import matplotlib.pyplot as plt\n",
    "\n",
    "from techminer import DataFrame, Plot\n",
    "\n",
    "df = DataFrame(df)"
   ]
  },
  {
   "cell_type": "markdown",
   "metadata": {},
   "source": [
    "## Document Type"
   ]
  },
  {
   "cell_type": "code",
   "execution_count": 4,
   "metadata": {},
   "outputs": [
    {
     "data": {
      "text/html": [
       "<div>\n",
       "<style scoped>\n",
       "    .dataframe tbody tr th:only-of-type {\n",
       "        vertical-align: middle;\n",
       "    }\n",
       "\n",
       "    .dataframe tbody tr th {\n",
       "        vertical-align: top;\n",
       "    }\n",
       "\n",
       "    .dataframe thead th {\n",
       "        text-align: right;\n",
       "    }\n",
       "</style>\n",
       "<table border=\"1\" class=\"dataframe\">\n",
       "  <thead>\n",
       "    <tr style=\"text-align: right;\">\n",
       "      <th></th>\n",
       "      <th>Document Type</th>\n",
       "      <th>Num Documents</th>\n",
       "      <th>ID</th>\n",
       "    </tr>\n",
       "  </thead>\n",
       "  <tbody>\n",
       "    <tr>\n",
       "      <th>0</th>\n",
       "      <td>Conference Paper</td>\n",
       "      <td>89</td>\n",
       "      <td>[7, 8, 9, 12, 13, 14, 15, 16, 17, 19, 20, 21, ...</td>\n",
       "    </tr>\n",
       "    <tr>\n",
       "      <th>1</th>\n",
       "      <td>Article</td>\n",
       "      <td>52</td>\n",
       "      <td>[0, 1, 2, 3, 4, 5, 6, 10, 11, 18, 25, 27, 28, ...</td>\n",
       "    </tr>\n",
       "    <tr>\n",
       "      <th>2</th>\n",
       "      <td>Article in Press</td>\n",
       "      <td>2</td>\n",
       "      <td>[92, 95]</td>\n",
       "    </tr>\n",
       "    <tr>\n",
       "      <th>3</th>\n",
       "      <td>Book Chapter</td>\n",
       "      <td>1</td>\n",
       "      <td>[137]</td>\n",
       "    </tr>\n",
       "    <tr>\n",
       "      <th>4</th>\n",
       "      <td>Conference Review</td>\n",
       "      <td>1</td>\n",
       "      <td>[142]</td>\n",
       "    </tr>\n",
       "  </tbody>\n",
       "</table>\n",
       "</div>"
      ],
      "text/plain": [
       "       Document Type  Num Documents  \\\n",
       "0   Conference Paper             89   \n",
       "1            Article             52   \n",
       "2   Article in Press              2   \n",
       "3       Book Chapter              1   \n",
       "4  Conference Review              1   \n",
       "\n",
       "                                                  ID  \n",
       "0  [7, 8, 9, 12, 13, 14, 15, 16, 17, 19, 20, 21, ...  \n",
       "1  [0, 1, 2, 3, 4, 5, 6, 10, 11, 18, 25, 27, 28, ...  \n",
       "2                                           [92, 95]  \n",
       "3                                              [137]  \n",
       "4                                              [142]  "
      ]
     },
     "execution_count": 4,
     "metadata": {},
     "output_type": "execute_result"
    }
   ],
   "source": [
    "df.documents_by_term(\"Document Type\")"
   ]
  },
  {
   "cell_type": "code",
   "execution_count": 6,
   "metadata": {},
   "outputs": [
    {
     "data": {
      "text/plain": [
       "<matplotlib.axes._subplots.AxesSubplot at 0x7fc54e3d6470>"
      ]
     },
     "execution_count": 6,
     "metadata": {},
     "output_type": "execute_result"
    },
    {
     "data": {
      "image/png": "[encoded data removed]",
      "text/plain": [
       "<Figure size 432x288 with 1 Axes>"
      ]
     },
     "metadata": {
      "needs_background": "light"
     },
     "output_type": "display_data"
    }
   ],
   "source": [
    "Plot(df.documents_by_term(\"Document Type\")).barh()"
   ]
  },
  {
   "cell_type": "code",
   "execution_count": 7,
   "metadata": {},
   "outputs": [],
   "source": [
    "#  rdf.documents_by_terms(\"Document Type\").altair_barhplot()"
   ]
  },
  {
   "cell_type": "code",
   "execution_count": 8,
   "metadata": {},
   "outputs": [],
   "source": [
    "#  rdf.documents_by_terms(\"Document Type\").seaborn_barhplot()"
   ]
  },
  {
   "cell_type": "code",
   "execution_count": 9,
   "metadata": {},
   "outputs": [
    {
     "data": {
      "image/png": "[encoded data removed]",
      "text/plain": [
       "<Figure size 432x288 with 1 Axes>"
      ]
     },
     "metadata": {
      "needs_background": "light"
     },
     "output_type": "display_data"
    }
   ],
   "source": [
    "Plot(df.documents_by_term(\"Document Type\")).bar()\n",
    "plt.show()"
   ]
  },
  {
   "cell_type": "code",
   "execution_count": 10,
   "metadata": {},
   "outputs": [],
   "source": [
    "#  df.documents_by_terms(\"Document Type\").altair_barplot()"
   ]
  },
  {
   "cell_type": "code",
   "execution_count": 11,
   "metadata": {},
   "outputs": [],
   "source": [
    "#  df.documents_by_terms(\"Document Type\").seaborn_barplot()"
   ]
  },
  {
   "cell_type": "markdown",
   "metadata": {},
   "source": [
    "## Source title"
   ]
  },
  {
   "cell_type": "code",
   "execution_count": 12,
   "metadata": {},
   "outputs": [
    {
     "data": {
      "text/html": [
       "<div>\n",
       "<style scoped>\n",
       "    .dataframe tbody tr th:only-of-type {\n",
       "        vertical-align: middle;\n",
       "    }\n",
       "\n",
       "    .dataframe tbody tr th {\n",
       "        vertical-align: top;\n",
       "    }\n",
       "\n",
       "    .dataframe thead th {\n",
       "        text-align: right;\n",
       "    }\n",
       "</style>\n",
       "<table border=\"1\" class=\"dataframe\">\n",
       "  <thead>\n",
       "    <tr style=\"text-align: right;\">\n",
       "      <th></th>\n",
       "      <th>Source title</th>\n",
       "      <th>Num Documents</th>\n",
       "      <th>ID</th>\n",
       "    </tr>\n",
       "  </thead>\n",
       "  <tbody>\n",
       "    <tr>\n",
       "      <th>0</th>\n",
       "      <td>Lecture Notes in Computer Science (including s...</td>\n",
       "      <td>18</td>\n",
       "      <td>[36, 42, 45, 49, 88, 89, 96, 97, 98, 99, 100, ...</td>\n",
       "    </tr>\n",
       "    <tr>\n",
       "      <th>1</th>\n",
       "      <td>Expert Systems with Applications</td>\n",
       "      <td>5</td>\n",
       "      <td>[0, 1, 11, 54, 140]</td>\n",
       "    </tr>\n",
       "    <tr>\n",
       "      <th>2</th>\n",
       "      <td>IEEE Access</td>\n",
       "      <td>5</td>\n",
       "      <td>[34, 38, 39, 46, 47]</td>\n",
       "    </tr>\n",
       "    <tr>\n",
       "      <th>3</th>\n",
       "      <td>Procedia Computer Science</td>\n",
       "      <td>4</td>\n",
       "      <td>[40, 48, 90, 91]</td>\n",
       "    </tr>\n",
       "    <tr>\n",
       "      <th>4</th>\n",
       "      <td>Advances in Intelligent Systems and Computing</td>\n",
       "      <td>3</td>\n",
       "      <td>[41, 51, 52]</td>\n",
       "    </tr>\n",
       "    <tr>\n",
       "      <th>...</th>\n",
       "      <td>...</td>\n",
       "      <td>...</td>\n",
       "      <td>...</td>\n",
       "    </tr>\n",
       "    <tr>\n",
       "      <th>98</th>\n",
       "      <td>Soft Computing</td>\n",
       "      <td>1</td>\n",
       "      <td>[43]</td>\n",
       "    </tr>\n",
       "    <tr>\n",
       "      <th>99</th>\n",
       "      <td>Symmetry</td>\n",
       "      <td>1</td>\n",
       "      <td>[108]</td>\n",
       "    </tr>\n",
       "    <tr>\n",
       "      <th>100</th>\n",
       "      <td>WebMedia 2015 - Proceedings of the 21st Brazil...</td>\n",
       "      <td>1</td>\n",
       "      <td>[129]</td>\n",
       "    </tr>\n",
       "    <tr>\n",
       "      <th>101</th>\n",
       "      <td>WebMedia 2018 - Proceedings of the 24th Brazil...</td>\n",
       "      <td>1</td>\n",
       "      <td>[61]</td>\n",
       "    </tr>\n",
       "    <tr>\n",
       "      <th>102</th>\n",
       "      <td>Wireless Personal Communications</td>\n",
       "      <td>1</td>\n",
       "      <td>[68]</td>\n",
       "    </tr>\n",
       "  </tbody>\n",
       "</table>\n",
       "<p>103 rows × 3 columns</p>\n",
       "</div>"
      ],
      "text/plain": [
       "                                          Source title  Num Documents  \\\n",
       "0    Lecture Notes in Computer Science (including s...             18   \n",
       "1                     Expert Systems with Applications              5   \n",
       "2                                          IEEE Access              5   \n",
       "3                            Procedia Computer Science              4   \n",
       "4        Advances in Intelligent Systems and Computing              3   \n",
       "..                                                 ...            ...   \n",
       "98                                      Soft Computing              1   \n",
       "99                                            Symmetry              1   \n",
       "100  WebMedia 2015 - Proceedings of the 21st Brazil...              1   \n",
       "101  WebMedia 2018 - Proceedings of the 24th Brazil...              1   \n",
       "102                   Wireless Personal Communications              1   \n",
       "\n",
       "                                                    ID  \n",
       "0    [36, 42, 45, 49, 88, 89, 96, 97, 98, 99, 100, ...  \n",
       "1                                  [0, 1, 11, 54, 140]  \n",
       "2                                 [34, 38, 39, 46, 47]  \n",
       "3                                     [40, 48, 90, 91]  \n",
       "4                                         [41, 51, 52]  \n",
       "..                                                 ...  \n",
       "98                                                [43]  \n",
       "99                                               [108]  \n",
       "100                                              [129]  \n",
       "101                                               [61]  \n",
       "102                                               [68]  \n",
       "\n",
       "[103 rows x 3 columns]"
      ]
     },
     "execution_count": 12,
     "metadata": {},
     "output_type": "execute_result"
    }
   ],
   "source": [
    "df.documents_by_term(\"Source title\")"
   ]
  },
  {
   "cell_type": "markdown",
   "metadata": {},
   "source": [
    "## Keywords"
   ]
  },
  {
   "cell_type": "code",
   "execution_count": 13,
   "metadata": {},
   "outputs": [
    {
     "data": {
      "text/html": [
       "<div>\n",
       "<style scoped>\n",
       "    .dataframe tbody tr th:only-of-type {\n",
       "        vertical-align: middle;\n",
       "    }\n",
       "\n",
       "    .dataframe tbody tr th {\n",
       "        vertical-align: top;\n",
       "    }\n",
       "\n",
       "    .dataframe thead th {\n",
       "        text-align: right;\n",
       "    }\n",
       "</style>\n",
       "<table border=\"1\" class=\"dataframe\">\n",
       "  <thead>\n",
       "    <tr style=\"text-align: right;\">\n",
       "      <th></th>\n",
       "      <th>keywords_cleaned</th>\n",
       "      <th>Num Documents</th>\n",
       "      <th>ID</th>\n",
       "    </tr>\n",
       "  </thead>\n",
       "  <tbody>\n",
       "    <tr>\n",
       "      <th>0</th>\n",
       "      <td>forecasting</td>\n",
       "      <td>110</td>\n",
       "      <td>[3, 4, 5, 6, 7, 8, 9, 11, 12, 13, 14, 15, 16, ...</td>\n",
       "    </tr>\n",
       "    <tr>\n",
       "      <th>1</th>\n",
       "      <td>time series</td>\n",
       "      <td>95</td>\n",
       "      <td>[3, 6, 7, 8, 9, 11, 12, 14, 15, 17, 18, 19, 22...</td>\n",
       "    </tr>\n",
       "    <tr>\n",
       "      <th>2</th>\n",
       "      <td>market</td>\n",
       "      <td>78</td>\n",
       "      <td>[3, 4, 6, 7, 9, 11, 12, 16, 18, 20, 21, 22, 26...</td>\n",
       "    </tr>\n",
       "    <tr>\n",
       "      <th>3</th>\n",
       "      <td>deep learning</td>\n",
       "      <td>70</td>\n",
       "      <td>[3, 4, 7, 13, 15, 19, 22, 23, 25, 26, 27, 30, ...</td>\n",
       "    </tr>\n",
       "    <tr>\n",
       "      <th>4</th>\n",
       "      <td>neural networks</td>\n",
       "      <td>70</td>\n",
       "      <td>[2, 5, 6, 7, 9, 10, 14, 16, 17, 18, 19, 25, 26...</td>\n",
       "    </tr>\n",
       "    <tr>\n",
       "      <th>5</th>\n",
       "      <td>trading</td>\n",
       "      <td>66</td>\n",
       "      <td>[3, 4, 6, 9, 11, 12, 16, 18, 19, 20, 26, 28, 3...</td>\n",
       "    </tr>\n",
       "    <tr>\n",
       "      <th>6</th>\n",
       "      <td>commerce</td>\n",
       "      <td>62</td>\n",
       "      <td>[3, 4, 6, 7, 9, 19, 20, 22, 23, 26, 28, 34, 35...</td>\n",
       "    </tr>\n",
       "    <tr>\n",
       "      <th>7</th>\n",
       "      <td>recurrent neural networks</td>\n",
       "      <td>52</td>\n",
       "      <td>[2, 6, 8, 9, 11, 12, 16, 17, 20, 26, 28, 30, 3...</td>\n",
       "    </tr>\n",
       "    <tr>\n",
       "      <th>8</th>\n",
       "      <td>long short term memory network</td>\n",
       "      <td>49</td>\n",
       "      <td>[0, 1, 4, 6, 7, 12, 24, 26, 30, 31, 34, 35, 41...</td>\n",
       "    </tr>\n",
       "    <tr>\n",
       "      <th>9</th>\n",
       "      <td>prediction</td>\n",
       "      <td>46</td>\n",
       "      <td>[3, 6, 8, 11, 15, 19, 20, 35, 36, 38, 39, 40, ...</td>\n",
       "    </tr>\n",
       "  </tbody>\n",
       "</table>\n",
       "</div>"
      ],
      "text/plain": [
       "                 keywords_cleaned  Num Documents  \\\n",
       "0                     forecasting            110   \n",
       "1                     time series             95   \n",
       "2                          market             78   \n",
       "3                   deep learning             70   \n",
       "4                 neural networks             70   \n",
       "5                         trading             66   \n",
       "6                        commerce             62   \n",
       "7       recurrent neural networks             52   \n",
       "8  long short term memory network             49   \n",
       "9                      prediction             46   \n",
       "\n",
       "                                                  ID  \n",
       "0  [3, 4, 5, 6, 7, 8, 9, 11, 12, 13, 14, 15, 16, ...  \n",
       "1  [3, 6, 7, 8, 9, 11, 12, 14, 15, 17, 18, 19, 22...  \n",
       "2  [3, 4, 6, 7, 9, 11, 12, 16, 18, 20, 21, 22, 26...  \n",
       "3  [3, 4, 7, 13, 15, 19, 22, 23, 25, 26, 27, 30, ...  \n",
       "4  [2, 5, 6, 7, 9, 10, 14, 16, 17, 18, 19, 25, 26...  \n",
       "5  [3, 4, 6, 9, 11, 12, 16, 18, 19, 20, 26, 28, 3...  \n",
       "6  [3, 4, 6, 7, 9, 19, 20, 22, 23, 26, 28, 34, 35...  \n",
       "7  [2, 6, 8, 9, 11, 12, 16, 17, 20, 26, 28, 30, 3...  \n",
       "8  [0, 1, 4, 6, 7, 12, 24, 26, 30, 31, 34, 35, 41...  \n",
       "9  [3, 6, 8, 11, 15, 19, 20, 35, 36, 38, 39, 40, ...  "
      ]
     },
     "execution_count": 13,
     "metadata": {},
     "output_type": "execute_result"
    }
   ],
   "source": [
    "df.documents_by_term(\"keywords_cleaned\", sep=\";\").head(10)"
   ]
  },
  {
   "cell_type": "markdown",
   "metadata": {},
   "source": [
    "## Country"
   ]
  },
  {
   "cell_type": "code",
   "execution_count": 14,
   "metadata": {},
   "outputs": [
    {
     "data": {
      "text/html": [
       "<div>\n",
       "<style scoped>\n",
       "    .dataframe tbody tr th:only-of-type {\n",
       "        vertical-align: middle;\n",
       "    }\n",
       "\n",
       "    .dataframe tbody tr th {\n",
       "        vertical-align: top;\n",
       "    }\n",
       "\n",
       "    .dataframe thead th {\n",
       "        text-align: right;\n",
       "    }\n",
       "</style>\n",
       "<table border=\"1\" class=\"dataframe\">\n",
       "  <thead>\n",
       "    <tr style=\"text-align: right;\">\n",
       "      <th></th>\n",
       "      <th>Country</th>\n",
       "      <th>Num Documents</th>\n",
       "      <th>ID</th>\n",
       "    </tr>\n",
       "  </thead>\n",
       "  <tbody>\n",
       "    <tr>\n",
       "      <th>0</th>\n",
       "      <td>China</td>\n",
       "      <td>50</td>\n",
       "      <td>[3, 4, 6, 7, 10, 13, 15, 27, 29, 33, 34, 37, 3...</td>\n",
       "    </tr>\n",
       "    <tr>\n",
       "      <th>1</th>\n",
       "      <td>United States</td>\n",
       "      <td>14</td>\n",
       "      <td>[3, 22, 23, 26, 30, 35, 69, 73, 84, 85, 104, 1...</td>\n",
       "    </tr>\n",
       "    <tr>\n",
       "      <th>2</th>\n",
       "      <td>United Kingdom</td>\n",
       "      <td>13</td>\n",
       "      <td>[5, 7, 11, 28, 35, 59, 87, 89, 108, 125, 133, ...</td>\n",
       "    </tr>\n",
       "    <tr>\n",
       "      <th>3</th>\n",
       "      <td>India</td>\n",
       "      <td>11</td>\n",
       "      <td>[9, 50, 51, 56, 57, 72, 90, 106, 112, 113, 130]</td>\n",
       "    </tr>\n",
       "    <tr>\n",
       "      <th>4</th>\n",
       "      <td>Taiwan</td>\n",
       "      <td>10</td>\n",
       "      <td>[14, 17, 19, 42, 60, 71, 92, 116, 138, 141]</td>\n",
       "    </tr>\n",
       "    <tr>\n",
       "      <th>5</th>\n",
       "      <td>Italy</td>\n",
       "      <td>7</td>\n",
       "      <td>[18, 24, 30, 103, 120, 127, 134]</td>\n",
       "    </tr>\n",
       "    <tr>\n",
       "      <th>6</th>\n",
       "      <td>Germany</td>\n",
       "      <td>6</td>\n",
       "      <td>[31, 39, 62, 70, 93, 137]</td>\n",
       "    </tr>\n",
       "    <tr>\n",
       "      <th>7</th>\n",
       "      <td>Singapore</td>\n",
       "      <td>5</td>\n",
       "      <td>[4, 6, 86, 109, 135]</td>\n",
       "    </tr>\n",
       "    <tr>\n",
       "      <th>8</th>\n",
       "      <td>Canada</td>\n",
       "      <td>4</td>\n",
       "      <td>[0, 20, 24, 134]</td>\n",
       "    </tr>\n",
       "    <tr>\n",
       "      <th>9</th>\n",
       "      <td>Colombia</td>\n",
       "      <td>4</td>\n",
       "      <td>[52, 94, 100, 121]</td>\n",
       "    </tr>\n",
       "    <tr>\n",
       "      <th>10</th>\n",
       "      <td>Greece</td>\n",
       "      <td>4</td>\n",
       "      <td>[8, 110, 114, 134]</td>\n",
       "    </tr>\n",
       "    <tr>\n",
       "      <th>11</th>\n",
       "      <td>Turkey</td>\n",
       "      <td>4</td>\n",
       "      <td>[12, 21, 67, 83]</td>\n",
       "    </tr>\n",
       "    <tr>\n",
       "      <th>12</th>\n",
       "      <td>Australia</td>\n",
       "      <td>3</td>\n",
       "      <td>[43, 64, 70]</td>\n",
       "    </tr>\n",
       "    <tr>\n",
       "      <th>13</th>\n",
       "      <td>Brazil</td>\n",
       "      <td>3</td>\n",
       "      <td>[61, 63, 129]</td>\n",
       "    </tr>\n",
       "    <tr>\n",
       "      <th>14</th>\n",
       "      <td>Denmark</td>\n",
       "      <td>3</td>\n",
       "      <td>[2, 8, 110]</td>\n",
       "    </tr>\n",
       "  </tbody>\n",
       "</table>\n",
       "</div>"
      ],
      "text/plain": [
       "           Country  Num Documents  \\\n",
       "0            China             50   \n",
       "1    United States             14   \n",
       "2   United Kingdom             13   \n",
       "3            India             11   \n",
       "4           Taiwan             10   \n",
       "5            Italy              7   \n",
       "6          Germany              6   \n",
       "7        Singapore              5   \n",
       "8           Canada              4   \n",
       "9         Colombia              4   \n",
       "10          Greece              4   \n",
       "11          Turkey              4   \n",
       "12       Australia              3   \n",
       "13          Brazil              3   \n",
       "14         Denmark              3   \n",
       "\n",
       "                                                   ID  \n",
       "0   [3, 4, 6, 7, 10, 13, 15, 27, 29, 33, 34, 37, 3...  \n",
       "1   [3, 22, 23, 26, 30, 35, 69, 73, 84, 85, 104, 1...  \n",
       "2   [5, 7, 11, 28, 35, 59, 87, 89, 108, 125, 133, ...  \n",
       "3     [9, 50, 51, 56, 57, 72, 90, 106, 112, 113, 130]  \n",
       "4         [14, 17, 19, 42, 60, 71, 92, 116, 138, 141]  \n",
       "5                    [18, 24, 30, 103, 120, 127, 134]  \n",
       "6                           [31, 39, 62, 70, 93, 137]  \n",
       "7                                [4, 6, 86, 109, 135]  \n",
       "8                                    [0, 20, 24, 134]  \n",
       "9                                  [52, 94, 100, 121]  \n",
       "10                                 [8, 110, 114, 134]  \n",
       "11                                   [12, 21, 67, 83]  \n",
       "12                                       [43, 64, 70]  \n",
       "13                                      [61, 63, 129]  \n",
       "14                                        [2, 8, 110]  "
      ]
     },
     "execution_count": 14,
     "metadata": {},
     "output_type": "execute_result"
    }
   ],
   "source": [
    "from techminer.strings import *\n",
    "\n",
    "df[\"Country\"] = df[\"Affiliations\"].map(lambda x: extract_country(x, sep=\";\"))\n",
    "df.documents_by_term(\"Country\", sep=\";\").head(15)"
   ]
  },
  {
   "cell_type": "code",
   "execution_count": 15,
   "metadata": {},
   "outputs": [
    {
     "data": {
      "image/png": "[encoded data removed]",
      "text/plain": [
       "<Figure size 864x360 with 2 Axes>"
      ]
     },
     "metadata": {
      "needs_background": "light"
     },
     "output_type": "display_data"
    }
   ],
   "source": [
    "plt.figure(figsize=(12,5))\n",
    "Plot(df.documents_by_term(\"Country\", sep=\";\")).worldmap();;"
   ]
  }
 ],
 "metadata": {
  "kernelspec": {
   "display_name": "Python 3",
   "language": "python",
   "name": "python3"
  },
  "language_info": {
   "codemirror_mode": {
    "name": "ipython",
    "version": 3
   },
   "file_extension": ".py",
   "mimetype": "text/x-python",
   "name": "python",
   "nbconvert_exporter": "python",
   "pygments_lexer": "ipython3",
   "version": "3.6.9"
  }
 },
 "nbformat": 4,
 "nbformat_minor": 4
}
