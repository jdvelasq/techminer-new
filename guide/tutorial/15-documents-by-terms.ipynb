{
 "cells": [
  {
   "cell_type": "markdown",
   "metadata": {},
   "source": [
    "# Documents by terms"
   ]
  },
  {
   "cell_type": "code",
   "execution_count": 1,
   "metadata": {},
   "outputs": [],
   "source": [
    "#\n",
    "# Data loading\n",
    "#\n",
    "import pandas as pd\n",
    "\n",
    "url = \"https://raw.githubusercontent.com/jdvelasq/techminer/master/data/tutorial/\"\n",
    "\n",
    "df = pd.read_json(url + \"cleaned-data.json\", orient=\"records\", lines=True)"
   ]
  },
  {
   "cell_type": "code",
   "execution_count": 15,
   "metadata": {},
   "outputs": [],
   "source": [
    "import matplotlib.pyplot as plt\n",
    "from techminer import DataFrame, Plot\n",
    "\n",
    "df = DataFrame(df)"
   ]
  },
  {
   "cell_type": "markdown",
   "metadata": {},
   "source": [
    "## Document Type"
   ]
  },
  {
   "cell_type": "code",
   "execution_count": 16,
   "metadata": {},
   "outputs": [
    {
     "data": {
      "text/html": [
       "<div>\n",
       "<style scoped>\n",
       "    .dataframe tbody tr th:only-of-type {\n",
       "        vertical-align: middle;\n",
       "    }\n",
       "\n",
       "    .dataframe tbody tr th {\n",
       "        vertical-align: top;\n",
       "    }\n",
       "\n",
       "    .dataframe thead th {\n",
       "        text-align: right;\n",
       "    }\n",
       "</style>\n",
       "<table border=\"1\" class=\"dataframe\">\n",
       "  <thead>\n",
       "    <tr style=\"text-align: right;\">\n",
       "      <th></th>\n",
       "      <th>Document Type</th>\n",
       "      <th>Num Documents</th>\n",
       "      <th>ID</th>\n",
       "    </tr>\n",
       "  </thead>\n",
       "  <tbody>\n",
       "    <tr>\n",
       "      <th>0</th>\n",
       "      <td>Conference Paper</td>\n",
       "      <td>88</td>\n",
       "      <td>[7, 8, 9, 12, 13, 14, 15, 16, 17, 19, 20, 21, ...</td>\n",
       "    </tr>\n",
       "    <tr>\n",
       "      <th>1</th>\n",
       "      <td>Article</td>\n",
       "      <td>52</td>\n",
       "      <td>[0, 1, 2, 3, 4, 5, 6, 10, 11, 18, 25, 27, 28, ...</td>\n",
       "    </tr>\n",
       "    <tr>\n",
       "      <th>2</th>\n",
       "      <td>Article in Press</td>\n",
       "      <td>2</td>\n",
       "      <td>[92, 95]</td>\n",
       "    </tr>\n",
       "    <tr>\n",
       "      <th>3</th>\n",
       "      <td>Book Chapter</td>\n",
       "      <td>1</td>\n",
       "      <td>[136]</td>\n",
       "    </tr>\n",
       "    <tr>\n",
       "      <th>4</th>\n",
       "      <td>Conference Review</td>\n",
       "      <td>1</td>\n",
       "      <td>[141]</td>\n",
       "    </tr>\n",
       "  </tbody>\n",
       "</table>\n",
       "</div>"
      ],
      "text/plain": [
       "       Document Type  Num Documents  \\\n",
       "0   Conference Paper             88   \n",
       "1            Article             52   \n",
       "2   Article in Press              2   \n",
       "3       Book Chapter              1   \n",
       "4  Conference Review              1   \n",
       "\n",
       "                                                  ID  \n",
       "0  [7, 8, 9, 12, 13, 14, 15, 16, 17, 19, 20, 21, ...  \n",
       "1  [0, 1, 2, 3, 4, 5, 6, 10, 11, 18, 25, 27, 28, ...  \n",
       "2                                           [92, 95]  \n",
       "3                                              [136]  \n",
       "4                                              [141]  "
      ]
     },
     "execution_count": 16,
     "metadata": {},
     "output_type": "execute_result"
    }
   ],
   "source": [
    "df.documents_by_term(\"Document Type\")"
   ]
  },
  {
   "cell_type": "code",
   "execution_count": 7,
   "metadata": {},
   "outputs": [],
   "source": [
    "# df.documents_by_term(\"Document Type\").print_IDs()"
   ]
  },
  {
   "cell_type": "code",
   "execution_count": 11,
   "metadata": {},
   "outputs": [
    {
     "data": {
      "text/plain": [
       "<matplotlib.axes._subplots.AxesSubplot at 0x7f8fd76aada0>"
      ]
     },
     "execution_count": 11,
     "metadata": {},
     "output_type": "execute_result"
    },
    {
     "data": {
      "image/png": "[encoded data removed]",
      "text/plain": [
       "<Figure size 432x288 with 1 Axes>"
      ]
     },
     "metadata": {
      "needs_background": "light"
     },
     "output_type": "display_data"
    }
   ],
   "source": [
    "Plot(df.documents_by_term(\"Document Type\")).barh()"
   ]
  },
  {
   "cell_type": "code",
   "execution_count": 16,
   "metadata": {},
   "outputs": [
    {
     "data": {
      "application/vnd.vegalite.v3+json": {
       "$schema": "https://vega.github.io/schema/vega-lite/v3.4.0.json",
       "config": {
        "mark": {
         "tooltip": null
        },
        "view": {
         "height": 300,
         "width": 400
        }
       },
       "data": {
        "name": "data-6646d1f59f1966d9969498ed10e5c0cf"
       },
       "datasets": {
        "data-6646d1f59f1966d9969498ed10e5c0cf": [
         {
          "Document Type": "Conference Paper [88]",
          "ID": [
           "[*7*]",
           "[*8*]",
           "[*9*]",
           "[*12*]",
           "[*13*]",
           "[*14*]",
           "[*15*]",
           "[*16*]",
           "[*17*]",
           "[*19*]",
           "[*20*]",
           "[*21*]",
           "[*22*]",
           "[*23*]",
           "[*24*]",
           "[*26*]",
           "[*30*]",
           "[*32*]",
           "[*36*]",
           "[*40*]",
           "[*41*]",
           "[*42*]",
           "[*45*]",
           "[*48*]",
           "[*49*]",
           "[*50*]",
           "[*51*]",
           "[*52*]",
           "[*53*]",
           "[*55*]",
           "[*56*]",
           "[*57*]",
           "[*59*]",
           "[*60*]",
           "[*61*]",
           "[*63*]",
           "[*64*]",
           "[*65*]",
           "[*66*]",
           "[*69*]",
           "[*70*]",
           "[*71*]",
           "[*72*]",
           "[*73*]",
           "[*74*]",
           "[*75*]",
           "[*76*]",
           "[*77*]",
           "[*78*]",
           "[*79*]",
           "[*81*]",
           "[*82*]",
           "[*83*]",
           "[*84*]",
           "[*85*]",
           "[*86*]",
           "[*87*]",
           "[*88*]",
           "[*89*]",
           "[*90*]",
           "[*91*]",
           "[*93*]",
           "[*94*]",
           "[*96*]",
           "[*97*]",
           "[*98*]",
           "[*99*]",
           "[*100*]",
           "[*101*]",
           "[*102*]",
           "[*106*]",
           "[*107*]",
           "[*109*]",
           "[*110*]",
           "[*114*]",
           "[*115*]",
           "[*116*]",
           "[*118*]",
           "[*119*]",
           "[*120*]",
           "[*121*]",
           "[*122*]",
           "[*124*]",
           "[*126*]",
           "[*129*]",
           "[*138*]",
           "[*140*]",
           "[*143*]"
          ],
          "Num Documents": 88
         },
         {
          "Document Type": "Article [52]",
          "ID": [
           "[*0*]",
           "[*1*]",
           "[*2*]",
           "[*3*]",
           "[*4*]",
           "[*5*]",
           "[*6*]",
           "[*10*]",
           "[*11*]",
           "[*18*]",
           "[*25*]",
           "[*27*]",
           "[*28*]",
           "[*29*]",
           "[*31*]",
           "[*33*]",
           "[*34*]",
           "[*35*]",
           "[*37*]",
           "[*38*]",
           "[*39*]",
           "[*43*]",
           "[*44*]",
           "[*46*]",
           "[*47*]",
           "[*54*]",
           "[*58*]",
           "[*62*]",
           "[*67*]",
           "[*68*]",
           "[*80*]",
           "[*103*]",
           "[*104*]",
           "[*105*]",
           "[*108*]",
           "[*111*]",
           "[*112*]",
           "[*113*]",
           "[*117*]",
           "[*123*]",
           "[*125*]",
           "[*127*]",
           "[*128*]",
           "[*130*]",
           "[*131*]",
           "[*132*]",
           "[*133*]",
           "[*134*]",
           "[*135*]",
           "[*137*]",
           "[*139*]",
           "[*142*]"
          ],
          "Num Documents": 52
         },
         {
          "Document Type": "Article in Press [2]",
          "ID": [
           "[*92*]",
           "[*95*]"
          ],
          "Num Documents": 2
         },
         {
          "Document Type": "Book Chapter [1]",
          "ID": [
           "[*136*]"
          ],
          "Num Documents": 1
         },
         {
          "Document Type": "Conference Review [1]",
          "ID": [
           "[*141*]"
          ],
          "Num Documents": 1
         }
        ]
       },
       "encoding": {
        "color": {
         "field": "Num Documents",
         "scale": {
          "scheme": "Greys"
         },
         "type": "quantitative"
        },
        "x": {
         "field": "Num Documents",
         "type": "quantitative"
        },
        "y": {
         "field": "Document Type",
         "sort": {
          "field": "Num Documents:Q"
         },
         "type": "nominal"
        }
       },
       "mark": "bar"
      },
      "image/png": "[encoded data removed]",
      "text/plain": [
       "<VegaLite 3 object>\n",
       "\n",
       "If you see this message, it means the renderer has not been properly enabled\n",
       "for the frontend that you are using. For more information, see\n",
       "https://altair-viz.github.io/user_guide/troubleshooting.html\n"
      ]
     },
     "execution_count": 16,
     "metadata": {},
     "output_type": "execute_result"
    }
   ],
   "source": [
    "# rdf.documents_by_terms(\"Document Type\").altair_barhplot()"
   ]
  },
  {
   "cell_type": "code",
   "execution_count": 6,
   "metadata": {},
   "outputs": [
    {
     "data": {
      "image/png": "[encoded data removed]",
      "text/plain": [
       "<Figure size 432x288 with 1 Axes>"
      ]
     },
     "metadata": {
      "needs_background": "light"
     },
     "output_type": "display_data"
    }
   ],
   "source": [
    "# rdf.documents_by_terms(\"Document Type\").seaborn_barhplot()"
   ]
  },
  {
   "cell_type": "code",
   "execution_count": 17,
   "metadata": {},
   "outputs": [
    {
     "data": {
      "image/png": "[encoded data removed]",
      "text/plain": [
       "<Figure size 432x288 with 1 Axes>"
      ]
     },
     "metadata": {
      "needs_background": "light"
     },
     "output_type": "display_data"
    }
   ],
   "source": [
    "Plot(df.documents_by_term(\"Document Type\")).bar()\n",
    "plt.show()"
   ]
  },
  {
   "cell_type": "code",
   "execution_count": 8,
   "metadata": {},
   "outputs": [
    {
     "data": {
      "application/vnd.vegalite.v3+json": {
       "$schema": "https://vega.github.io/schema/vega-lite/v3.4.0.json",
       "config": {
        "mark": {
         "tooltip": null
        },
        "view": {
         "height": 300,
         "width": 400
        }
       },
       "data": {
        "name": "data-6646d1f59f1966d9969498ed10e5c0cf"
       },
       "datasets": {
        "data-6646d1f59f1966d9969498ed10e5c0cf": [
         {
          "Document Type": "Conference Paper [88]",
          "ID": [
           "[*7*]",
           "[*8*]",
           "[*9*]",
           "[*12*]",
           "[*13*]",
           "[*14*]",
           "[*15*]",
           "[*16*]",
           "[*17*]",
           "[*19*]",
           "[*20*]",
           "[*21*]",
           "[*22*]",
           "[*23*]",
           "[*24*]",
           "[*26*]",
           "[*30*]",
           "[*32*]",
           "[*36*]",
           "[*40*]",
           "[*41*]",
           "[*42*]",
           "[*45*]",
           "[*48*]",
           "[*49*]",
           "[*50*]",
           "[*51*]",
           "[*52*]",
           "[*53*]",
           "[*55*]",
           "[*56*]",
           "[*57*]",
           "[*59*]",
           "[*60*]",
           "[*61*]",
           "[*63*]",
           "[*64*]",
           "[*65*]",
           "[*66*]",
           "[*69*]",
           "[*70*]",
           "[*71*]",
           "[*72*]",
           "[*73*]",
           "[*74*]",
           "[*75*]",
           "[*76*]",
           "[*77*]",
           "[*78*]",
           "[*79*]",
           "[*81*]",
           "[*82*]",
           "[*83*]",
           "[*84*]",
           "[*85*]",
           "[*86*]",
           "[*87*]",
           "[*88*]",
           "[*89*]",
           "[*90*]",
           "[*91*]",
           "[*93*]",
           "[*94*]",
           "[*96*]",
           "[*97*]",
           "[*98*]",
           "[*99*]",
           "[*100*]",
           "[*101*]",
           "[*102*]",
           "[*106*]",
           "[*107*]",
           "[*109*]",
           "[*110*]",
           "[*114*]",
           "[*115*]",
           "[*116*]",
           "[*118*]",
           "[*119*]",
           "[*120*]",
           "[*121*]",
           "[*122*]",
           "[*124*]",
           "[*126*]",
           "[*129*]",
           "[*138*]",
           "[*140*]",
           "[*143*]"
          ],
          "Num Documents": 88
         },
         {
          "Document Type": "Article [52]",
          "ID": [
           "[*0*]",
           "[*1*]",
           "[*2*]",
           "[*3*]",
           "[*4*]",
           "[*5*]",
           "[*6*]",
           "[*10*]",
           "[*11*]",
           "[*18*]",
           "[*25*]",
           "[*27*]",
           "[*28*]",
           "[*29*]",
           "[*31*]",
           "[*33*]",
           "[*34*]",
           "[*35*]",
           "[*37*]",
           "[*38*]",
           "[*39*]",
           "[*43*]",
           "[*44*]",
           "[*46*]",
           "[*47*]",
           "[*54*]",
           "[*58*]",
           "[*62*]",
           "[*67*]",
           "[*68*]",
           "[*80*]",
           "[*103*]",
           "[*104*]",
           "[*105*]",
           "[*108*]",
           "[*111*]",
           "[*112*]",
           "[*113*]",
           "[*117*]",
           "[*123*]",
           "[*125*]",
           "[*127*]",
           "[*128*]",
           "[*130*]",
           "[*131*]",
           "[*132*]",
           "[*133*]",
           "[*134*]",
           "[*135*]",
           "[*137*]",
           "[*139*]",
           "[*142*]"
          ],
          "Num Documents": 52
         },
         {
          "Document Type": "Article in Press [2]",
          "ID": [
           "[*92*]",
           "[*95*]"
          ],
          "Num Documents": 2
         },
         {
          "Document Type": "Book Chapter [1]",
          "ID": [
           "[*136*]"
          ],
          "Num Documents": 1
         },
         {
          "Document Type": "Conference Review [1]",
          "ID": [
           "[*141*]"
          ],
          "Num Documents": 1
         }
        ]
       },
       "encoding": {
        "color": {
         "field": "Num Documents",
         "scale": {
          "scheme": "greys"
         },
         "type": "quantitative"
        },
        "x": {
         "field": "Document Type",
         "sort": {
          "field": "Num Documents:Q"
         },
         "type": "nominal"
        },
        "y": {
         "field": "Num Documents",
         "type": "quantitative"
        }
       },
       "mark": "bar"
      },
      "image/png": "[encoded data removed]",
      "text/plain": [
       "<VegaLite 3 object>\n",
       "\n",
       "If you see this message, it means the renderer has not been properly enabled\n",
       "for the frontend that you are using. For more information, see\n",
       "https://altair-viz.github.io/user_guide/troubleshooting.html\n"
      ]
     },
     "execution_count": 8,
     "metadata": {},
     "output_type": "execute_result"
    }
   ],
   "source": [
    "# df.documents_by_terms(\"Document Type\").altair_barplot()"
   ]
  },
  {
   "cell_type": "code",
   "execution_count": 9,
   "metadata": {},
   "outputs": [
    {
     "data": {
      "image/png": "[encoded data removed]",
      "text/plain": [
       "<Figure size 432x288 with 1 Axes>"
      ]
     },
     "metadata": {
      "needs_background": "light"
     },
     "output_type": "display_data"
    }
   ],
   "source": [
    "# df.documents_by_terms(\"Document Type\").seaborn_barplot()"
   ]
  },
  {
   "cell_type": "markdown",
   "metadata": {},
   "source": [
    "## Source title"
   ]
  },
  {
   "cell_type": "code",
   "execution_count": 18,
   "metadata": {},
   "outputs": [
    {
     "ename": "TypeError",
     "evalue": "documents_by_term() got an unexpected keyword argument 'minmax'",
     "output_type": "error",
     "traceback": [
      "\u001b[0;31m---------------------------------------------------------------------------\u001b[0m",
      "\u001b[0;31mTypeError\u001b[0m                                 Traceback (most recent call last)",
      "\u001b[0;32m<ipython-input-18-1911b0ca6a28>\u001b[0m in \u001b[0;36m<module>\u001b[0;34m\u001b[0m\n\u001b[0;32m----> 1\u001b[0;31m \u001b[0mdf\u001b[0m\u001b[0;34m.\u001b[0m\u001b[0mdocuments_by_term\u001b[0m\u001b[0;34m(\u001b[0m\u001b[0;34m\"Source title\"\u001b[0m\u001b[0;34m,\u001b[0m \u001b[0mminmax\u001b[0m\u001b[0;34m=\u001b[0m\u001b[0;34m(\u001b[0m\u001b[0;36m2\u001b[0m\u001b[0;34m,\u001b[0m \u001b[0;36m100\u001b[0m\u001b[0;34m)\u001b[0m\u001b[0;34m)\u001b[0m\u001b[0;34m\u001b[0m\u001b[0;34m\u001b[0m\u001b[0m\n\u001b[0m",
      "\u001b[0;31mTypeError\u001b[0m: documents_by_term() got an unexpected keyword argument 'minmax'"
     ]
    }
   ],
   "source": [
    "df.documents_by_term(\"Source title\"), minmax=(2, 100))"
   ]
  },
  {
   "cell_type": "markdown",
   "metadata": {},
   "source": [
    "## Keywords"
   ]
  },
  {
   "cell_type": "code",
   "execution_count": 21,
   "metadata": {},
   "outputs": [
    {
     "data": {
      "text/html": [
       "<div>\n",
       "<style scoped>\n",
       "    .dataframe tbody tr th:only-of-type {\n",
       "        vertical-align: middle;\n",
       "    }\n",
       "\n",
       "    .dataframe tbody tr th {\n",
       "        vertical-align: top;\n",
       "    }\n",
       "\n",
       "    .dataframe thead th {\n",
       "        text-align: right;\n",
       "    }\n",
       "</style>\n",
       "<table border=\"1\" class=\"dataframe\">\n",
       "  <thead>\n",
       "    <tr style=\"text-align: right;\">\n",
       "      <th></th>\n",
       "      <th>keywords_cleaned</th>\n",
       "      <th>Num Documents</th>\n",
       "      <th>ID</th>\n",
       "    </tr>\n",
       "  </thead>\n",
       "  <tbody>\n",
       "    <tr>\n",
       "      <th>0</th>\n",
       "      <td>forecasting</td>\n",
       "      <td>108</td>\n",
       "      <td>[3, 4, 5, 6, 7, 8, 9, 11, 12, 13, 14, 15, 16, ...</td>\n",
       "    </tr>\n",
       "    <tr>\n",
       "      <th>1</th>\n",
       "      <td>time series</td>\n",
       "      <td>91</td>\n",
       "      <td>[3, 6, 7, 8, 9, 11, 12, 14, 15, 17, 18, 19, 22...</td>\n",
       "    </tr>\n",
       "    <tr>\n",
       "      <th>2</th>\n",
       "      <td>deep learning</td>\n",
       "      <td>76</td>\n",
       "      <td>[3, 4, 5, 7, 13, 14, 15, 19, 22, 23, 25, 26, 2...</td>\n",
       "    </tr>\n",
       "    <tr>\n",
       "      <th>3</th>\n",
       "      <td>Financial markets</td>\n",
       "      <td>68</td>\n",
       "      <td>[3, 4, 6, 7, 9, 11, 12, 16, 18, 20, 22, 26, 28...</td>\n",
       "    </tr>\n",
       "    <tr>\n",
       "      <th>4</th>\n",
       "      <td>trading</td>\n",
       "      <td>65</td>\n",
       "      <td>[3, 4, 6, 9, 11, 12, 16, 18, 19, 20, 26, 28, 3...</td>\n",
       "    </tr>\n",
       "    <tr>\n",
       "      <th>5</th>\n",
       "      <td>artificial neural networks</td>\n",
       "      <td>62</td>\n",
       "      <td>[4, 6, 9, 10, 12, 14, 16, 17, 18, 19, 25, 26, ...</td>\n",
       "    </tr>\n",
       "    <tr>\n",
       "      <th>6</th>\n",
       "      <td>commerce</td>\n",
       "      <td>61</td>\n",
       "      <td>[3, 4, 6, 7, 9, 19, 20, 22, 23, 26, 28, 34, 35...</td>\n",
       "    </tr>\n",
       "    <tr>\n",
       "      <th>7</th>\n",
       "      <td>long short-term memory neural network</td>\n",
       "      <td>54</td>\n",
       "      <td>[0, 1, 4, 6, 7, 12, 21, 24, 26, 30, 31, 34, 35...</td>\n",
       "    </tr>\n",
       "    <tr>\n",
       "      <th>8</th>\n",
       "      <td>recurrent neural networks</td>\n",
       "      <td>52</td>\n",
       "      <td>[2, 6, 8, 9, 11, 12, 16, 17, 20, 26, 28, 30, 3...</td>\n",
       "    </tr>\n",
       "    <tr>\n",
       "      <th>9</th>\n",
       "      <td>time series forecasting</td>\n",
       "      <td>43</td>\n",
       "      <td>[0, 1, 4, 6, 8, 11, 12, 14, 16, 20, 29, 31, 33...</td>\n",
       "    </tr>\n",
       "    <tr>\n",
       "      <th>10</th>\n",
       "      <td>financial time series</td>\n",
       "      <td>38</td>\n",
       "      <td>[6, 7, 13, 14, 18, 19, 26, 28, 46, 47, 50, 54,...</td>\n",
       "    </tr>\n",
       "    <tr>\n",
       "      <th>11</th>\n",
       "      <td>finance</td>\n",
       "      <td>35</td>\n",
       "      <td>[5, 9, 14, 19, 20, 33, 34, 37, 43, 46, 55, 59,...</td>\n",
       "    </tr>\n",
       "    <tr>\n",
       "      <th>12</th>\n",
       "      <td>machine learning</td>\n",
       "      <td>35</td>\n",
       "      <td>[0, 6, 10, 15, 19, 22, 24, 25, 27, 34, 36, 38,...</td>\n",
       "    </tr>\n",
       "    <tr>\n",
       "      <th>13</th>\n",
       "      <td>stock forecasting</td>\n",
       "      <td>34</td>\n",
       "      <td>[3, 4, 11, 12, 18, 20, 22, 26, 30, 38, 42, 43,...</td>\n",
       "    </tr>\n",
       "    <tr>\n",
       "      <th>14</th>\n",
       "      <td>financial data</td>\n",
       "      <td>31</td>\n",
       "      <td>[1, 2, 5, 7, 9, 14, 17, 19, 28, 37, 39, 46, 47...</td>\n",
       "    </tr>\n",
       "    <tr>\n",
       "      <th>15</th>\n",
       "      <td>convolutional neural network</td>\n",
       "      <td>29</td>\n",
       "      <td>[13, 14, 18, 19, 26, 29, 36, 45, 50, 64, 72, 7...</td>\n",
       "    </tr>\n",
       "    <tr>\n",
       "      <th>16</th>\n",
       "      <td>feedforward neural networks</td>\n",
       "      <td>24</td>\n",
       "      <td>[2, 26, 29, 37, 38, 39, 46, 47, 53, 62, 63, 67...</td>\n",
       "    </tr>\n",
       "    <tr>\n",
       "      <th>17</th>\n",
       "      <td>forecasting accuracy</td>\n",
       "      <td>22</td>\n",
       "      <td>[4, 5, 20, 36, 49, 60, 61, 65, 77, 81, 86, 93,...</td>\n",
       "    </tr>\n",
       "    <tr>\n",
       "      <th>18</th>\n",
       "      <td>convolution</td>\n",
       "      <td>21</td>\n",
       "      <td>[14, 18, 19, 26, 45, 64, 66, 77, 78, 79, 91, 9...</td>\n",
       "    </tr>\n",
       "    <tr>\n",
       "      <th>19</th>\n",
       "      <td>costs</td>\n",
       "      <td>21</td>\n",
       "      <td>[1, 11, 28, 30, 34, 56, 63, 75, 76, 88, 89, 92...</td>\n",
       "    </tr>\n",
       "    <tr>\n",
       "      <th>20</th>\n",
       "      <td>Learning algorithms</td>\n",
       "      <td>19</td>\n",
       "      <td>[3, 6, 9, 19, 25, 26, 42, 48, 56, 72, 75, 76, ...</td>\n",
       "    </tr>\n",
       "    <tr>\n",
       "      <th>21</th>\n",
       "      <td>financial time series forecasting</td>\n",
       "      <td>19</td>\n",
       "      <td>[2, 3, 5, 12, 25, 26, 34, 37, 46, 51, 91, 93, ...</td>\n",
       "    </tr>\n",
       "    <tr>\n",
       "      <th>22</th>\n",
       "      <td>Learning systems</td>\n",
       "      <td>18</td>\n",
       "      <td>[6, 14, 19, 25, 34, 38, 41, 54, 65, 70, 72, 76...</td>\n",
       "    </tr>\n",
       "    <tr>\n",
       "      <th>23</th>\n",
       "      <td>investments</td>\n",
       "      <td>18</td>\n",
       "      <td>[7, 22, 23, 35, 38, 60, 61, 70, 81, 83, 89, 94...</td>\n",
       "    </tr>\n",
       "    <tr>\n",
       "      <th>24</th>\n",
       "      <td>forecasting models</td>\n",
       "      <td>16</td>\n",
       "      <td>[20, 38, 41, 53, 61, 62, 67, 77, 84, 86, 89, 9...</td>\n",
       "    </tr>\n",
       "    <tr>\n",
       "      <th>25</th>\n",
       "      <td>Brain</td>\n",
       "      <td>15</td>\n",
       "      <td>[6, 34, 41, 53, 56, 65, 75, 83, 95, 101, 103, ...</td>\n",
       "    </tr>\n",
       "    <tr>\n",
       "      <th>26</th>\n",
       "      <td>algorithms</td>\n",
       "      <td>14</td>\n",
       "      <td>[2, 8, 9, 43, 45, 46, 47, 109, 111, 129, 138, ...</td>\n",
       "    </tr>\n",
       "    <tr>\n",
       "      <th>27</th>\n",
       "      <td>mean square error</td>\n",
       "      <td>13</td>\n",
       "      <td>[3, 7, 12, 35, 42, 50, 72, 113, 116, 128, 131,...</td>\n",
       "    </tr>\n",
       "    <tr>\n",
       "      <th>28</th>\n",
       "      <td>Big data</td>\n",
       "      <td>12</td>\n",
       "      <td>[3, 8, 19, 48, 58, 75, 85, 99, 100, 109, 118, ...</td>\n",
       "    </tr>\n",
       "    <tr>\n",
       "      <th>29</th>\n",
       "      <td>stock markets</td>\n",
       "      <td>12</td>\n",
       "      <td>[6, 27, 43, 48, 62, 70, 71, 73, 89, 91, 137, 140]</td>\n",
       "    </tr>\n",
       "  </tbody>\n",
       "</table>\n",
       "</div>"
      ],
      "text/plain": [
       "                         keywords_cleaned  Num Documents  \\\n",
       "0                             forecasting            108   \n",
       "1                             time series             91   \n",
       "2                           deep learning             76   \n",
       "3                       Financial markets             68   \n",
       "4                                 trading             65   \n",
       "5              artificial neural networks             62   \n",
       "6                                commerce             61   \n",
       "7   long short-term memory neural network             54   \n",
       "8               recurrent neural networks             52   \n",
       "9                 time series forecasting             43   \n",
       "10                  financial time series             38   \n",
       "11                                finance             35   \n",
       "12                       machine learning             35   \n",
       "13                      stock forecasting             34   \n",
       "14                         financial data             31   \n",
       "15           convolutional neural network             29   \n",
       "16            feedforward neural networks             24   \n",
       "17                   forecasting accuracy             22   \n",
       "18                            convolution             21   \n",
       "19                                  costs             21   \n",
       "20                    Learning algorithms             19   \n",
       "21      financial time series forecasting             19   \n",
       "22                       Learning systems             18   \n",
       "23                            investments             18   \n",
       "24                     forecasting models             16   \n",
       "25                                  Brain             15   \n",
       "26                             algorithms             14   \n",
       "27                      mean square error             13   \n",
       "28                               Big data             12   \n",
       "29                          stock markets             12   \n",
       "\n",
       "                                                   ID  \n",
       "0   [3, 4, 5, 6, 7, 8, 9, 11, 12, 13, 14, 15, 16, ...  \n",
       "1   [3, 6, 7, 8, 9, 11, 12, 14, 15, 17, 18, 19, 22...  \n",
       "2   [3, 4, 5, 7, 13, 14, 15, 19, 22, 23, 25, 26, 2...  \n",
       "3   [3, 4, 6, 7, 9, 11, 12, 16, 18, 20, 22, 26, 28...  \n",
       "4   [3, 4, 6, 9, 11, 12, 16, 18, 19, 20, 26, 28, 3...  \n",
       "5   [4, 6, 9, 10, 12, 14, 16, 17, 18, 19, 25, 26, ...  \n",
       "6   [3, 4, 6, 7, 9, 19, 20, 22, 23, 26, 28, 34, 35...  \n",
       "7   [0, 1, 4, 6, 7, 12, 21, 24, 26, 30, 31, 34, 35...  \n",
       "8   [2, 6, 8, 9, 11, 12, 16, 17, 20, 26, 28, 30, 3...  \n",
       "9   [0, 1, 4, 6, 8, 11, 12, 14, 16, 20, 29, 31, 33...  \n",
       "10  [6, 7, 13, 14, 18, 19, 26, 28, 46, 47, 50, 54,...  \n",
       "11  [5, 9, 14, 19, 20, 33, 34, 37, 43, 46, 55, 59,...  \n",
       "12  [0, 6, 10, 15, 19, 22, 24, 25, 27, 34, 36, 38,...  \n",
       "13  [3, 4, 11, 12, 18, 20, 22, 26, 30, 38, 42, 43,...  \n",
       "14  [1, 2, 5, 7, 9, 14, 17, 19, 28, 37, 39, 46, 47...  \n",
       "15  [13, 14, 18, 19, 26, 29, 36, 45, 50, 64, 72, 7...  \n",
       "16  [2, 26, 29, 37, 38, 39, 46, 47, 53, 62, 63, 67...  \n",
       "17  [4, 5, 20, 36, 49, 60, 61, 65, 77, 81, 86, 93,...  \n",
       "18  [14, 18, 19, 26, 45, 64, 66, 77, 78, 79, 91, 9...  \n",
       "19  [1, 11, 28, 30, 34, 56, 63, 75, 76, 88, 89, 92...  \n",
       "20  [3, 6, 9, 19, 25, 26, 42, 48, 56, 72, 75, 76, ...  \n",
       "21  [2, 3, 5, 12, 25, 26, 34, 37, 46, 51, 91, 93, ...  \n",
       "22  [6, 14, 19, 25, 34, 38, 41, 54, 65, 70, 72, 76...  \n",
       "23  [7, 22, 23, 35, 38, 60, 61, 70, 81, 83, 89, 94...  \n",
       "24  [20, 38, 41, 53, 61, 62, 67, 77, 84, 86, 89, 9...  \n",
       "25  [6, 34, 41, 53, 56, 65, 75, 83, 95, 101, 103, ...  \n",
       "26  [2, 8, 9, 43, 45, 46, 47, 109, 111, 129, 138, ...  \n",
       "27  [3, 7, 12, 35, 42, 50, 72, 113, 116, 128, 131,...  \n",
       "28  [3, 8, 19, 48, 58, 75, 85, 99, 100, 109, 118, ...  \n",
       "29  [6, 27, 43, 48, 62, 70, 71, 73, 89, 91, 137, 140]  "
      ]
     },
     "execution_count": 21,
     "metadata": {},
     "output_type": "execute_result"
    }
   ],
   "source": [
    "df.documents_by_term(\"keywords_cleaned\", sep=\";\").head(30)"
   ]
  },
  {
   "cell_type": "markdown",
   "metadata": {},
   "source": [
    "## Country"
   ]
  },
  {
   "cell_type": "code",
   "execution_count": 22,
   "metadata": {},
   "outputs": [
    {
     "data": {
      "text/html": [
       "<div>\n",
       "<style scoped>\n",
       "    .dataframe tbody tr th:only-of-type {\n",
       "        vertical-align: middle;\n",
       "    }\n",
       "\n",
       "    .dataframe tbody tr th {\n",
       "        vertical-align: top;\n",
       "    }\n",
       "\n",
       "    .dataframe thead th {\n",
       "        text-align: right;\n",
       "    }\n",
       "</style>\n",
       "<table border=\"1\" class=\"dataframe\">\n",
       "  <thead>\n",
       "    <tr style=\"text-align: right;\">\n",
       "      <th></th>\n",
       "      <th>Country</th>\n",
       "      <th>Num Documents</th>\n",
       "      <th>ID</th>\n",
       "    </tr>\n",
       "  </thead>\n",
       "  <tbody>\n",
       "    <tr>\n",
       "      <th>0</th>\n",
       "      <td>China</td>\n",
       "      <td>50</td>\n",
       "      <td>[3, 4, 6, 7, 10, 13, 15, 27, 29, 33, 34, 37, 3...</td>\n",
       "    </tr>\n",
       "    <tr>\n",
       "      <th>1</th>\n",
       "      <td>United States</td>\n",
       "      <td>14</td>\n",
       "      <td>[3, 22, 23, 26, 30, 35, 69, 73, 84, 85, 104, 1...</td>\n",
       "    </tr>\n",
       "    <tr>\n",
       "      <th>2</th>\n",
       "      <td>United Kingdom</td>\n",
       "      <td>12</td>\n",
       "      <td>[5, 7, 11, 28, 35, 59, 87, 89, 108, 125, 139, ...</td>\n",
       "    </tr>\n",
       "    <tr>\n",
       "      <th>3</th>\n",
       "      <td>India</td>\n",
       "      <td>11</td>\n",
       "      <td>[9, 50, 51, 56, 57, 72, 90, 106, 112, 113, 130]</td>\n",
       "    </tr>\n",
       "    <tr>\n",
       "      <th>4</th>\n",
       "      <td>Taiwan</td>\n",
       "      <td>10</td>\n",
       "      <td>[14, 17, 19, 42, 60, 71, 92, 116, 137, 140]</td>\n",
       "    </tr>\n",
       "    <tr>\n",
       "      <th>5</th>\n",
       "      <td>Italy</td>\n",
       "      <td>7</td>\n",
       "      <td>[18, 24, 30, 103, 120, 127, 133]</td>\n",
       "    </tr>\n",
       "    <tr>\n",
       "      <th>6</th>\n",
       "      <td>Germany</td>\n",
       "      <td>6</td>\n",
       "      <td>[31, 39, 62, 70, 93, 136]</td>\n",
       "    </tr>\n",
       "    <tr>\n",
       "      <th>7</th>\n",
       "      <td>Singapore</td>\n",
       "      <td>5</td>\n",
       "      <td>[4, 6, 86, 109, 134]</td>\n",
       "    </tr>\n",
       "    <tr>\n",
       "      <th>8</th>\n",
       "      <td>Canada</td>\n",
       "      <td>4</td>\n",
       "      <td>[0, 20, 24, 133]</td>\n",
       "    </tr>\n",
       "    <tr>\n",
       "      <th>9</th>\n",
       "      <td>Colombia</td>\n",
       "      <td>4</td>\n",
       "      <td>[52, 94, 100, 121]</td>\n",
       "    </tr>\n",
       "    <tr>\n",
       "      <th>10</th>\n",
       "      <td>Greece</td>\n",
       "      <td>4</td>\n",
       "      <td>[8, 110, 114, 133]</td>\n",
       "    </tr>\n",
       "    <tr>\n",
       "      <th>11</th>\n",
       "      <td>Turkey</td>\n",
       "      <td>4</td>\n",
       "      <td>[12, 21, 67, 83]</td>\n",
       "    </tr>\n",
       "    <tr>\n",
       "      <th>12</th>\n",
       "      <td>Australia</td>\n",
       "      <td>3</td>\n",
       "      <td>[43, 64, 70]</td>\n",
       "    </tr>\n",
       "    <tr>\n",
       "      <th>13</th>\n",
       "      <td>Brazil</td>\n",
       "      <td>3</td>\n",
       "      <td>[61, 63, 129]</td>\n",
       "    </tr>\n",
       "    <tr>\n",
       "      <th>14</th>\n",
       "      <td>Denmark</td>\n",
       "      <td>3</td>\n",
       "      <td>[2, 8, 110]</td>\n",
       "    </tr>\n",
       "  </tbody>\n",
       "</table>\n",
       "</div>"
      ],
      "text/plain": [
       "           Country  Num Documents  \\\n",
       "0            China             50   \n",
       "1    United States             14   \n",
       "2   United Kingdom             12   \n",
       "3            India             11   \n",
       "4           Taiwan             10   \n",
       "5            Italy              7   \n",
       "6          Germany              6   \n",
       "7        Singapore              5   \n",
       "8           Canada              4   \n",
       "9         Colombia              4   \n",
       "10          Greece              4   \n",
       "11          Turkey              4   \n",
       "12       Australia              3   \n",
       "13          Brazil              3   \n",
       "14         Denmark              3   \n",
       "\n",
       "                                                   ID  \n",
       "0   [3, 4, 6, 7, 10, 13, 15, 27, 29, 33, 34, 37, 3...  \n",
       "1   [3, 22, 23, 26, 30, 35, 69, 73, 84, 85, 104, 1...  \n",
       "2   [5, 7, 11, 28, 35, 59, 87, 89, 108, 125, 139, ...  \n",
       "3     [9, 50, 51, 56, 57, 72, 90, 106, 112, 113, 130]  \n",
       "4         [14, 17, 19, 42, 60, 71, 92, 116, 137, 140]  \n",
       "5                    [18, 24, 30, 103, 120, 127, 133]  \n",
       "6                           [31, 39, 62, 70, 93, 136]  \n",
       "7                                [4, 6, 86, 109, 134]  \n",
       "8                                    [0, 20, 24, 133]  \n",
       "9                                  [52, 94, 100, 121]  \n",
       "10                                 [8, 110, 114, 133]  \n",
       "11                                   [12, 21, 67, 83]  \n",
       "12                                       [43, 64, 70]  \n",
       "13                                      [61, 63, 129]  \n",
       "14                                        [2, 8, 110]  "
      ]
     },
     "execution_count": 22,
     "metadata": {},
     "output_type": "execute_result"
    }
   ],
   "source": [
    "from techminer.strings import *\n",
    "\n",
    "df[\"Country\"] = df[\"Affiliations\"].map(lambda x: extract_country(x, sep=\";\"))\n",
    "df.documents_by_term(\"Country\", sep=\";\").head(15)"
   ]
  },
  {
   "cell_type": "code",
   "execution_count": 28,
   "metadata": {},
   "outputs": [
    {
     "data": {
      "image/png": "[encoded data removed]",
      "text/plain": [
       "<Figure size 864x360 with 2 Axes>"
      ]
     },
     "metadata": {
      "needs_background": "light"
     },
     "output_type": "display_data"
    }
   ],
   "source": [
    "plt.figure(figsize=(12,5))\n",
    "Plot(df.documents_by_term(\"Country\", sep=\";\")).worldmap();"
   ]
  }
 ],
 "metadata": {
  "kernelspec": {
   "display_name": "Python 3",
   "language": "python",
   "name": "python3"
  },
  "language_info": {
   "codemirror_mode": {
    "name": "ipython",
    "version": 3
   },
   "file_extension": ".py",
   "mimetype": "text/x-python",
   "name": "python",
   "nbconvert_exporter": "python",
   "pygments_lexer": "ipython3",
   "version": "3.6.9"
  }
 },
 "nbformat": 4,
 "nbformat_minor": 4
}
