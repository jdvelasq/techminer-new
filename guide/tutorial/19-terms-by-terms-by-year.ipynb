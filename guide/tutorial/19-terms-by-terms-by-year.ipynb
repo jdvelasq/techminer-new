{
 "cells": [
  {
   "cell_type": "code",
   "execution_count": 1,
   "metadata": {},
   "outputs": [],
   "source": [
    "# Install latest version from GitHub\n",
    "!pip install -q -U git+https://github.com/jdvelasq/techminer"
   ]
  },
  {
   "cell_type": "code",
   "execution_count": null,
   "metadata": {},
   "outputs": [],
   "source": [
    "import matplotlib.pyplot as plt\n",
    "import pandas as pd\n",
    "\n",
    "from techminer import DataFrame, Plot\n",
    "\n",
    "#\n",
    "# Data loading\n",
    "#\n",
    "df = DataFrame(\n",
    "    pd.read_json(\n",
    "        \"https://raw.githubusercontent.com/jdvelasq/techminer/master/data/tutorial/\"\n",
    "        + \"cleaned-data.json\",\n",
    "        orient=\"records\",\n",
    "        lines=True,\n",
    "    )\n",
    ")"
   ]
  },
  {
   "cell_type": "markdown",
   "metadata": {},
   "source": [
    "# Analysis of terms by terms per year"
   ]
  },
  {
   "cell_type": "code",
   "execution_count": 2,
   "metadata": {},
   "outputs": [],
   "source": [
    "#\n",
    "# Data loading\n",
    "#\n",
    "import matplotlib.pyplot as plt\n",
    "import pandas as pd\n",
    "\n",
    "url = \"https://raw.githubusercontent.com/jdvelasq/techminer/master/data/tutorial/\"\n",
    "df = pd.read_json(url + \"cleaned-data.json\", orient=\"records\", lines=True)"
   ]
  },
  {
   "cell_type": "code",
   "execution_count": 3,
   "metadata": {},
   "outputs": [],
   "source": [
    "import matplotlib.pyplot as plt\n",
    "from techminer import DataFrame, Plot\n",
    "\n",
    "df = DataFrame(df)"
   ]
  },
  {
   "cell_type": "markdown",
   "metadata": {},
   "source": [
    "## Authors vs Source Title"
   ]
  },
  {
   "cell_type": "code",
   "execution_count": 6,
   "metadata": {},
   "outputs": [
    {
     "data": {
      "text/html": [
       "<div>\n",
       "<style scoped>\n",
       "    .dataframe tbody tr th:only-of-type {\n",
       "        vertical-align: middle;\n",
       "    }\n",
       "\n",
       "    .dataframe tbody tr th {\n",
       "        vertical-align: top;\n",
       "    }\n",
       "\n",
       "    .dataframe thead th {\n",
       "        text-align: right;\n",
       "    }\n",
       "</style>\n",
       "<table border=\"1\" class=\"dataframe\">\n",
       "  <thead>\n",
       "    <tr style=\"text-align: right;\">\n",
       "      <th></th>\n",
       "      <th>Authors</th>\n",
       "      <th>Source title</th>\n",
       "      <th>Year</th>\n",
       "      <th>Num Documents</th>\n",
       "      <th>ID</th>\n",
       "    </tr>\n",
       "  </thead>\n",
       "  <tbody>\n",
       "    <tr>\n",
       "      <th>0</th>\n",
       "      <td>Dunis C.L.</td>\n",
       "      <td>European Journal of Finance</td>\n",
       "      <td>2010</td>\n",
       "      <td>1</td>\n",
       "      <td>[143]</td>\n",
       "    </tr>\n",
       "    <tr>\n",
       "      <th>1</th>\n",
       "      <td>Laws J.</td>\n",
       "      <td>European Journal of Finance</td>\n",
       "      <td>2010</td>\n",
       "      <td>1</td>\n",
       "      <td>[143]</td>\n",
       "    </tr>\n",
       "    <tr>\n",
       "      <th>2</th>\n",
       "      <td>Lin X.(1)</td>\n",
       "      <td>Proceedings - 2010 6th International Conferenc...</td>\n",
       "      <td>2010</td>\n",
       "      <td>1</td>\n",
       "      <td>[144]</td>\n",
       "    </tr>\n",
       "    <tr>\n",
       "      <th>3</th>\n",
       "      <td>Sermpinis G.</td>\n",
       "      <td>European Journal of Finance</td>\n",
       "      <td>2010</td>\n",
       "      <td>1</td>\n",
       "      <td>[143]</td>\n",
       "    </tr>\n",
       "    <tr>\n",
       "      <th>4</th>\n",
       "      <td>Song Y.(1)</td>\n",
       "      <td>Proceedings - 2010 6th International Conferenc...</td>\n",
       "      <td>2010</td>\n",
       "      <td>1</td>\n",
       "      <td>[144]</td>\n",
       "    </tr>\n",
       "  </tbody>\n",
       "</table>\n",
       "</div>"
      ],
      "text/plain": [
       "        Authors                                       Source title  Year  \\\n",
       "0    Dunis C.L.                        European Journal of Finance  2010   \n",
       "1       Laws J.                        European Journal of Finance  2010   \n",
       "2     Lin X.(1)  Proceedings - 2010 6th International Conferenc...  2010   \n",
       "3  Sermpinis G.                        European Journal of Finance  2010   \n",
       "4    Song Y.(1)  Proceedings - 2010 6th International Conferenc...  2010   \n",
       "\n",
       "   Num Documents     ID  \n",
       "0              1  [143]  \n",
       "1              1  [143]  \n",
       "2              1  [144]  \n",
       "3              1  [143]  \n",
       "4              1  [144]  "
      ]
     },
     "execution_count": 6,
     "metadata": {},
     "output_type": "execute_result"
    }
   ],
   "source": [
    "df.documents_by_terms_per_terms_per_year(\n",
    "    column_IDX='Authors', \n",
    "    column_COL='Source title').head()"
   ]
  }
 ],
 "metadata": {
  "kernelspec": {
   "display_name": "Python 3",
   "language": "python",
   "name": "python3"
  },
  "language_info": {
   "codemirror_mode": {
    "name": "ipython",
    "version": 3
   },
   "file_extension": ".py",
   "mimetype": "text/x-python",
   "name": "python",
   "nbconvert_exporter": "python",
   "pygments_lexer": "ipython3",
   "version": "3.6.9"
  }
 },
 "nbformat": 4,
 "nbformat_minor": 4
}
