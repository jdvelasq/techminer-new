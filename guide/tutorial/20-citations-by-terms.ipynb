{
 "cells": [
  {
   "cell_type": "code",
   "execution_count": 1,
   "metadata": {},
   "outputs": [],
   "source": [
    "# Install latest version from GitHub\n",
    "!pip install -q -U git+https://github.com/jdvelasq/techminer"
   ]
  },
  {
   "cell_type": "markdown",
   "metadata": {},
   "source": [
    "# Citations by term"
   ]
  },
  {
   "cell_type": "code",
   "execution_count": null,
   "metadata": {},
   "outputs": [],
   "source": [
    "import matplotlib.pyplot as plt\n",
    "import pandas as pd\n",
    "\n",
    "from techminer import DataFrame, Plot\n",
    "\n",
    "#\n",
    "# Data loading\n",
    "#\n",
    "df = DataFrame(\n",
    "    pd.read_json(\n",
    "        \"https://raw.githubusercontent.com/jdvelasq/techminer/master/data/tutorial/\"\n",
    "        + \"cleaned-data.json\",\n",
    "        orient=\"records\",\n",
    "        lines=True,\n",
    "    )\n",
    ")\n",
    "\n",
    "#\n",
    "# Columns of the dataframe\n",
    "#\n",
    "df.columns"
   ]
  },
  {
   "cell_type": "markdown",
   "metadata": {},
   "source": [
    "## Example of citation by keywords"
   ]
  },
  {
   "cell_type": "code",
   "execution_count": 4,
   "metadata": {},
   "outputs": [
    {
     "data": {
      "text/html": [
       "<div>\n",
       "<style scoped>\n",
       "    .dataframe tbody tr th:only-of-type {\n",
       "        vertical-align: middle;\n",
       "    }\n",
       "\n",
       "    .dataframe tbody tr th {\n",
       "        vertical-align: top;\n",
       "    }\n",
       "\n",
       "    .dataframe thead th {\n",
       "        text-align: right;\n",
       "    }\n",
       "</style>\n",
       "<table border=\"1\" class=\"dataframe\">\n",
       "  <thead>\n",
       "    <tr style=\"text-align: right;\">\n",
       "      <th></th>\n",
       "      <th>keywords</th>\n",
       "      <th>Cited by</th>\n",
       "      <th>ID</th>\n",
       "    </tr>\n",
       "  </thead>\n",
       "  <tbody>\n",
       "    <tr>\n",
       "      <th>0</th>\n",
       "      <td>Forecasting</td>\n",
       "      <td>587</td>\n",
       "      <td>[3, 4, 5, 6, 7, 8, 9, 11, 12, 13, 14, 15, 16, ...</td>\n",
       "    </tr>\n",
       "    <tr>\n",
       "      <th>1</th>\n",
       "      <td>Commerce</td>\n",
       "      <td>413</td>\n",
       "      <td>[3, 4, 6, 7, 9, 19, 20, 22, 26, 28, 34, 35, 36...</td>\n",
       "    </tr>\n",
       "    <tr>\n",
       "      <th>2</th>\n",
       "      <td>Finance</td>\n",
       "      <td>340</td>\n",
       "      <td>[9, 14, 19, 20, 33, 34, 37, 43, 46, 55, 59, 61...</td>\n",
       "    </tr>\n",
       "    <tr>\n",
       "      <th>3</th>\n",
       "      <td>Deep learning</td>\n",
       "      <td>302</td>\n",
       "      <td>[3, 4, 7, 13, 15, 19, 22, 23, 25, 26, 27, 30, ...</td>\n",
       "    </tr>\n",
       "    <tr>\n",
       "      <th>4</th>\n",
       "      <td>Financial markets</td>\n",
       "      <td>273</td>\n",
       "      <td>[3, 4, 6, 7, 9, 11, 12, 16, 18, 20, 22, 26, 28...</td>\n",
       "    </tr>\n",
       "    <tr>\n",
       "      <th>5</th>\n",
       "      <td>Embeddings</td>\n",
       "      <td>267</td>\n",
       "      <td>[58, 124, 140, 141, 142]</td>\n",
       "    </tr>\n",
       "    <tr>\n",
       "      <th>6</th>\n",
       "      <td>Forecast</td>\n",
       "      <td>241</td>\n",
       "      <td>[86, 110, 140, 141]</td>\n",
       "    </tr>\n",
       "    <tr>\n",
       "      <th>7</th>\n",
       "      <td>Machine Learning</td>\n",
       "      <td>241</td>\n",
       "      <td>[54, 140, 141, 142, 144]</td>\n",
       "    </tr>\n",
       "    <tr>\n",
       "      <th>8</th>\n",
       "      <td>Granger Causality</td>\n",
       "      <td>235</td>\n",
       "      <td>[130, 140, 141, 142]</td>\n",
       "    </tr>\n",
       "    <tr>\n",
       "      <th>9</th>\n",
       "      <td>Deep Learning</td>\n",
       "      <td>234</td>\n",
       "      <td>[15, 23, 26, 36, 54, 78, 79, 86, 95, 97, 140, ...</td>\n",
       "    </tr>\n",
       "  </tbody>\n",
       "</table>\n",
       "</div>"
      ],
      "text/plain": [
       "            keywords  Cited by  \\\n",
       "0        Forecasting       587   \n",
       "1           Commerce       413   \n",
       "2            Finance       340   \n",
       "3      Deep learning       302   \n",
       "4  Financial markets       273   \n",
       "5         Embeddings       267   \n",
       "6           Forecast       241   \n",
       "7   Machine Learning       241   \n",
       "8  Granger Causality       235   \n",
       "9      Deep Learning       234   \n",
       "\n",
       "                                                  ID  \n",
       "0  [3, 4, 5, 6, 7, 8, 9, 11, 12, 13, 14, 15, 16, ...  \n",
       "1  [3, 4, 6, 7, 9, 19, 20, 22, 26, 28, 34, 35, 36...  \n",
       "2  [9, 14, 19, 20, 33, 34, 37, 43, 46, 55, 59, 61...  \n",
       "3  [3, 4, 7, 13, 15, 19, 22, 23, 25, 26, 27, 30, ...  \n",
       "4  [3, 4, 6, 7, 9, 11, 12, 16, 18, 20, 22, 26, 28...  \n",
       "5                           [58, 124, 140, 141, 142]  \n",
       "6                                [86, 110, 140, 141]  \n",
       "7                           [54, 140, 141, 142, 144]  \n",
       "8                               [130, 140, 141, 142]  \n",
       "9  [15, 23, 26, 36, 54, 78, 79, 86, 95, 97, 140, ...  "
      ]
     },
     "execution_count": 4,
     "metadata": {},
     "output_type": "execute_result"
    }
   ],
   "source": [
    "df.citations_by_term('keywords', sep=';').head(10)"
   ]
  },
  {
   "cell_type": "code",
   "execution_count": 5,
   "metadata": {},
   "outputs": [
    {
     "data": {
      "text/plain": [
       "<matplotlib.axes._subplots.AxesSubplot at 0x7f5731024d68>"
      ]
     },
     "execution_count": 5,
     "metadata": {},
     "output_type": "execute_result"
    },
    {
     "data": {
      "image/png": "[encoded data removed]",
      "text/plain": [
       "<Figure size 432x576 with 1 Axes>"
      ]
     },
     "metadata": {
      "needs_background": "light"
     },
     "output_type": "display_data"
    }
   ],
   "source": [
    "plt.figure(figsize=(6,8))\n",
    "Plot(df.citations_by_term('keywords', sep=';').head(10)).barh()"
   ]
  }
 ],
 "metadata": {
  "kernelspec": {
   "display_name": "Python 3",
   "language": "python",
   "name": "python3"
  },
  "language_info": {
   "codemirror_mode": {
    "name": "ipython",
    "version": 3
   },
   "file_extension": ".py",
   "mimetype": "text/x-python",
   "name": "python",
   "nbconvert_exporter": "python",
   "pygments_lexer": "ipython3",
   "version": "3.6.9"
  }
 },
 "nbformat": 4,
 "nbformat_minor": 4
}
