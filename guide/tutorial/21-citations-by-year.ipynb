{
 "cells": [
  {
   "cell_type": "code",
   "execution_count": 1,
   "metadata": {},
   "outputs": [],
   "source": [
    "# Install latest version from GitHub\n",
    "!pip install -q -U git+https://github.com/jdvelasq/techminer"
   ]
  },
  {
   "cell_type": "markdown",
   "metadata": {},
   "source": [
    "# Citations by year"
   ]
  },
  {
   "cell_type": "code",
   "execution_count": null,
   "metadata": {},
   "outputs": [],
   "source": [
    "import matplotlib.pyplot as plt\n",
    "import pandas as pd\n",
    "\n",
    "from techminer import DataFrame, Plot\n",
    "\n",
    "#\n",
    "# Data loading\n",
    "#\n",
    "df = DataFrame(\n",
    "    pd.read_json(\n",
    "        \"https://raw.githubusercontent.com/jdvelasq/techminer/master/data/tutorial/\"\n",
    "        + \"cleaned-data.json\",\n",
    "        orient=\"records\",\n",
    "        lines=True,\n",
    "    )\n",
    ")"
   ]
  },
  {
   "cell_type": "code",
   "execution_count": 4,
   "metadata": {},
   "outputs": [
    {
     "data": {
      "text/html": [
       "<div>\n",
       "<style scoped>\n",
       "    .dataframe tbody tr th:only-of-type {\n",
       "        vertical-align: middle;\n",
       "    }\n",
       "\n",
       "    .dataframe tbody tr th {\n",
       "        vertical-align: top;\n",
       "    }\n",
       "\n",
       "    .dataframe thead th {\n",
       "        text-align: right;\n",
       "    }\n",
       "</style>\n",
       "<table border=\"1\" class=\"dataframe\">\n",
       "  <thead>\n",
       "    <tr style=\"text-align: right;\">\n",
       "      <th></th>\n",
       "      <th>Year</th>\n",
       "      <th>Cited by</th>\n",
       "      <th>ID</th>\n",
       "    </tr>\n",
       "  </thead>\n",
       "  <tbody>\n",
       "    <tr>\n",
       "      <th>0</th>\n",
       "      <td>2010</td>\n",
       "      <td>21</td>\n",
       "      <td>[142, 143, 144]</td>\n",
       "    </tr>\n",
       "    <tr>\n",
       "      <th>1</th>\n",
       "      <td>2011</td>\n",
       "      <td>230</td>\n",
       "      <td>[140, 141]</td>\n",
       "    </tr>\n",
       "    <tr>\n",
       "      <th>2</th>\n",
       "      <td>2012</td>\n",
       "      <td>16</td>\n",
       "      <td>[138, 139]</td>\n",
       "    </tr>\n",
       "    <tr>\n",
       "      <th>3</th>\n",
       "      <td>2013</td>\n",
       "      <td>36</td>\n",
       "      <td>[134, 135, 136, 137]</td>\n",
       "    </tr>\n",
       "    <tr>\n",
       "      <th>4</th>\n",
       "      <td>2014</td>\n",
       "      <td>23</td>\n",
       "      <td>[131, 132, 133]</td>\n",
       "    </tr>\n",
       "    <tr>\n",
       "      <th>5</th>\n",
       "      <td>2015</td>\n",
       "      <td>6</td>\n",
       "      <td>[129, 130]</td>\n",
       "    </tr>\n",
       "    <tr>\n",
       "      <th>6</th>\n",
       "      <td>2016</td>\n",
       "      <td>85</td>\n",
       "      <td>[124, 125, 126, 127, 128]</td>\n",
       "    </tr>\n",
       "    <tr>\n",
       "      <th>7</th>\n",
       "      <td>2017</td>\n",
       "      <td>137</td>\n",
       "      <td>[105, 106, 107, 108, 109, 110, 111, 112, 113, ...</td>\n",
       "    </tr>\n",
       "    <tr>\n",
       "      <th>8</th>\n",
       "      <td>2018</td>\n",
       "      <td>118</td>\n",
       "      <td>[53, 54, 55, 56, 57, 58, 59, 60, 61, 62, 63, 6...</td>\n",
       "    </tr>\n",
       "    <tr>\n",
       "      <th>9</th>\n",
       "      <td>2019</td>\n",
       "      <td>24</td>\n",
       "      <td>[0, 1, 2, 3, 4, 5, 6, 7, 8, 9, 10, 11, 12, 13,...</td>\n",
       "    </tr>\n",
       "  </tbody>\n",
       "</table>\n",
       "</div>"
      ],
      "text/plain": [
       "   Year  Cited by                                                 ID\n",
       "0  2010        21                                    [142, 143, 144]\n",
       "1  2011       230                                         [140, 141]\n",
       "2  2012        16                                         [138, 139]\n",
       "3  2013        36                               [134, 135, 136, 137]\n",
       "4  2014        23                                    [131, 132, 133]\n",
       "5  2015         6                                         [129, 130]\n",
       "6  2016        85                          [124, 125, 126, 127, 128]\n",
       "7  2017       137  [105, 106, 107, 108, 109, 110, 111, 112, 113, ...\n",
       "8  2018       118  [53, 54, 55, 56, 57, 58, 59, 60, 61, 62, 63, 6...\n",
       "9  2019        24  [0, 1, 2, 3, 4, 5, 6, 7, 8, 9, 10, 11, 12, 13,..."
      ]
     },
     "execution_count": 4,
     "metadata": {},
     "output_type": "execute_result"
    }
   ],
   "source": [
    "df.citations_by_year()"
   ]
  },
  {
   "cell_type": "code",
   "execution_count": 6,
   "metadata": {},
   "outputs": [
    {
     "data": {
      "text/plain": [
       "<matplotlib.axes._subplots.AxesSubplot at 0x7f6d9dc6a438>"
      ]
     },
     "execution_count": 6,
     "metadata": {},
     "output_type": "execute_result"
    },
    {
     "data": {
      "image/png": "[encoded data removed]",
      "text/plain": [
       "<Figure size 432x288 with 1 Axes>"
      ]
     },
     "metadata": {
      "needs_background": "light"
     },
     "output_type": "display_data"
    }
   ],
   "source": [
    "Plot(df.citations_by_year()).barh()"
   ]
  },
  {
   "cell_type": "code",
   "execution_count": 7,
   "metadata": {},
   "outputs": [
    {
     "name": "stdout",
     "output_type": "stream",
     "text": [
      "1.0 (21) : [*6*][*11*][*17*][*18*][*19*][*20*][*23*][*24*][*47*][*50*][*78*][*88*][*92*][*96*][*100*][*102*][*118*][*119*][*122*][*129*][*136*]\n",
      "3.0 (7) : [*2*][*4*][*27*][*68*][*108*][*120*][*131*]\n",
      "4.0 (5) : [*74*][*76*][*80*][*87*][*105*]\n",
      "2.0 (5) : [*54*][*83*][*111*][*133*][*138*]\n",
      "5.0 (3) : [*25*][*130*][*135*]\n",
      "6.0 (3) : [*70*][*81*][*91*]\n",
      "7.0 (3) : [*67*][*109*][*117*]\n",
      "14.0 (3) : [*112*][*116*][*137*]\n",
      "20.0 (2) : [*114*][*132*]\n",
      "9.0 (2) : [*107*][*143*]\n",
      "16.0 (2) : [*106*][*113*]\n",
      "19.0 (2) : [*127*][*128*]\n",
      "49.0 (1) : [*62*]\n",
      "42.0 (1) : [*139*]\n",
      "37.0 (1) : [*124*]\n",
      "28.0 (1) : [*134*]\n",
      "12.0 (1) : [*142*]\n",
      "15.0 (1) : [*104*]\n",
      "11.0 (1) : [*110*]\n",
      "10.0 (1) : [*125*]\n",
      "8.0 (1) : [*115*]\n",
      "188.0 (1) : [*140*]\n"
     ]
    }
   ],
   "source": [
    "# df.documents_by_terms(\"Cited by\").print_IDs()"
   ]
  }
 ],
 "metadata": {
  "kernelspec": {
   "display_name": "Python 3",
   "language": "python",
   "name": "python3"
  },
  "language_info": {
   "codemirror_mode": {
    "name": "ipython",
    "version": 3
   },
   "file_extension": ".py",
   "mimetype": "text/x-python",
   "name": "python",
   "nbconvert_exporter": "python",
   "pygments_lexer": "ipython3",
   "version": "3.6.9"
  }
 },
 "nbformat": 4,
 "nbformat_minor": 4
}
