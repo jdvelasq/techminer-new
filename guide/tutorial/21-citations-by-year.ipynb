{
 "cells": [
  {
   "cell_type": "code",
   "execution_count": 1,
   "metadata": {},
   "outputs": [],
   "source": [
    "# Install latest version from GitHub\n",
    "!pip install -q -U git+https://github.com/jdvelasq/techminer"
   ]
  },
  {
   "cell_type": "markdown",
   "metadata": {},
   "source": [
    "# Citations by year"
   ]
  },
  {
   "cell_type": "code",
   "execution_count": 1,
   "metadata": {},
   "outputs": [],
   "source": [
    "#\n",
    "# Data loading\n",
    "#\n",
    "import pandas as pd\n",
    "\n",
    "url = \"https://raw.githubusercontent.com/jdvelasq/techminer/master/data/tutorial/\"\n",
    "\n",
    "df = pd.read_json(url + \"cleaned-data.json\", orient=\"records\", lines=True)"
   ]
  },
  {
   "cell_type": "code",
   "execution_count": 2,
   "metadata": {},
   "outputs": [],
   "source": [
    "import matplotlib.pyplot as plt\n",
    "from techminer import DataFrame, Plot\n",
    "\n",
    "df = DataFrame(df)"
   ]
  },
  {
   "cell_type": "code",
   "execution_count": 4,
   "metadata": {},
   "outputs": [
    {
     "data": {
      "text/html": [
       "<div>\n",
       "<style scoped>\n",
       "    .dataframe tbody tr th:only-of-type {\n",
       "        vertical-align: middle;\n",
       "    }\n",
       "\n",
       "    .dataframe tbody tr th {\n",
       "        vertical-align: top;\n",
       "    }\n",
       "\n",
       "    .dataframe thead th {\n",
       "        text-align: right;\n",
       "    }\n",
       "</style>\n",
       "<table border=\"1\" class=\"dataframe\">\n",
       "  <thead>\n",
       "    <tr style=\"text-align: right;\">\n",
       "      <th></th>\n",
       "      <th>Year</th>\n",
       "      <th>Cited by</th>\n",
       "      <th>ID</th>\n",
       "    </tr>\n",
       "  </thead>\n",
       "  <tbody>\n",
       "    <tr>\n",
       "      <th>0</th>\n",
       "      <td>2010</td>\n",
       "      <td>21</td>\n",
       "      <td>[141, 142, 143]</td>\n",
       "    </tr>\n",
       "    <tr>\n",
       "      <th>1</th>\n",
       "      <td>2011</td>\n",
       "      <td>230</td>\n",
       "      <td>[139, 140]</td>\n",
       "    </tr>\n",
       "    <tr>\n",
       "      <th>2</th>\n",
       "      <td>2012</td>\n",
       "      <td>16</td>\n",
       "      <td>[137, 138]</td>\n",
       "    </tr>\n",
       "    <tr>\n",
       "      <th>3</th>\n",
       "      <td>2013</td>\n",
       "      <td>36</td>\n",
       "      <td>[133, 134, 135, 136]</td>\n",
       "    </tr>\n",
       "    <tr>\n",
       "      <th>4</th>\n",
       "      <td>2014</td>\n",
       "      <td>23</td>\n",
       "      <td>[131, 132]</td>\n",
       "    </tr>\n",
       "    <tr>\n",
       "      <th>5</th>\n",
       "      <td>2015</td>\n",
       "      <td>6</td>\n",
       "      <td>[129, 130]</td>\n",
       "    </tr>\n",
       "    <tr>\n",
       "      <th>6</th>\n",
       "      <td>2016</td>\n",
       "      <td>85</td>\n",
       "      <td>[124, 125, 126, 127, 128]</td>\n",
       "    </tr>\n",
       "    <tr>\n",
       "      <th>7</th>\n",
       "      <td>2017</td>\n",
       "      <td>137</td>\n",
       "      <td>[105, 106, 107, 108, 109, 110, 111, 112, 113, ...</td>\n",
       "    </tr>\n",
       "    <tr>\n",
       "      <th>8</th>\n",
       "      <td>2018</td>\n",
       "      <td>118</td>\n",
       "      <td>[53, 54, 55, 56, 57, 58, 59, 60, 61, 62, 63, 6...</td>\n",
       "    </tr>\n",
       "    <tr>\n",
       "      <th>9</th>\n",
       "      <td>2019</td>\n",
       "      <td>24</td>\n",
       "      <td>[0, 1, 2, 3, 4, 5, 6, 7, 8, 9, 10, 11, 12, 13,...</td>\n",
       "    </tr>\n",
       "  </tbody>\n",
       "</table>\n",
       "</div>"
      ],
      "text/plain": [
       "   Year  Cited by                                                 ID\n",
       "0  2010        21                                    [141, 142, 143]\n",
       "1  2011       230                                         [139, 140]\n",
       "2  2012        16                                         [137, 138]\n",
       "3  2013        36                               [133, 134, 135, 136]\n",
       "4  2014        23                                         [131, 132]\n",
       "5  2015         6                                         [129, 130]\n",
       "6  2016        85                          [124, 125, 126, 127, 128]\n",
       "7  2017       137  [105, 106, 107, 108, 109, 110, 111, 112, 113, ...\n",
       "8  2018       118  [53, 54, 55, 56, 57, 58, 59, 60, 61, 62, 63, 6...\n",
       "9  2019        24  [0, 1, 2, 3, 4, 5, 6, 7, 8, 9, 10, 11, 12, 13,..."
      ]
     },
     "execution_count": 4,
     "metadata": {},
     "output_type": "execute_result"
    }
   ],
   "source": [
    "df.citations_by_year()"
   ]
  },
  {
   "cell_type": "code",
   "execution_count": 3,
   "metadata": {},
   "outputs": [
    {
     "data": {
      "image/png": "[encoded data removed]",
      "text/plain": [
       "<Figure size 432x288 with 1 Axes>"
      ]
     },
     "metadata": {
      "needs_background": "light"
     },
     "output_type": "display_data"
    }
   ],
   "source": [
    "rdf.citations_by_year().barhplot()"
   ]
  },
  {
   "cell_type": "code",
   "execution_count": 4,
   "metadata": {},
   "outputs": [
    {
     "data": {
      "application/vnd.vegalite.v3+json": {
       "$schema": "https://vega.github.io/schema/vega-lite/v3.4.0.json",
       "config": {
        "mark": {
         "tooltip": null
        },
        "view": {
         "height": 300,
         "width": 400
        }
       },
       "data": {
        "name": "data-91f132023616b8595a28f585e4359ec1"
       },
       "datasets": {
        "data-91f132023616b8595a28f585e4359ec1": [
         {
          "Cited by": 24,
          "Year": "2019 [53]"
         },
         {
          "Cited by": 118,
          "Year": "2018 [52]"
         },
         {
          "Cited by": 137,
          "Year": "2017 [19]"
         },
         {
          "Cited by": 85,
          "Year": "2016 [5]"
         },
         {
          "Cited by": 6,
          "Year": "2015 [2]"
         },
         {
          "Cited by": 23,
          "Year": "2014 [2]"
         },
         {
          "Cited by": 36,
          "Year": "2013 [4]"
         },
         {
          "Cited by": 16,
          "Year": "2012 [2]"
         },
         {
          "Cited by": 230,
          "Year": "2011 [2]"
         },
         {
          "Cited by": 21,
          "Year": "2010 [3]"
         }
        ]
       },
       "encoding": {
        "color": {
         "field": "Cited by",
         "scale": {
          "scheme": "Greys"
         },
         "type": "quantitative"
        },
        "x": {
         "field": "Cited by",
         "type": "quantitative"
        },
        "y": {
         "field": "Year",
         "sort": {
          "field": "Cited by:Q"
         },
         "type": "nominal"
        }
       },
       "mark": "bar"
      },
      "image/png": "[encoded data removed]",
      "text/plain": [
       "<VegaLite 3 object>\n",
       "\n",
       "If you see this message, it means the renderer has not been properly enabled\n",
       "for the frontend that you are using. For more information, see\n",
       "https://altair-viz.github.io/user_guide/troubleshooting.html\n"
      ]
     },
     "execution_count": 4,
     "metadata": {},
     "output_type": "execute_result"
    }
   ],
   "source": [
    "rdf.citations_by_year().barhplot(\"altair\")"
   ]
  },
  {
   "cell_type": "code",
   "execution_count": 5,
   "metadata": {},
   "outputs": [
    {
     "data": {
      "application/vnd.vegalite.v3+json": {
       "$schema": "https://vega.github.io/schema/vega-lite/v3.4.0.json",
       "config": {
        "mark": {
         "tooltip": null
        },
        "view": {
         "height": 300,
         "width": 400
        }
       },
       "data": {
        "name": "data-c21161d938eb4346c77a4f4e84975e17"
       },
       "datasets": {
        "data-c21161d938eb4346c77a4f4e84975e17": [
         {
          "Cited by": 696,
          "Year": "2019 [144]"
         },
         {
          "Cited by": 672,
          "Year": "2018 [91]"
         },
         {
          "Cited by": 554,
          "Year": "2017 [39]"
         },
         {
          "Cited by": 417,
          "Year": "2016 [20]"
         },
         {
          "Cited by": 332,
          "Year": "2015 [15]"
         },
         {
          "Cited by": 326,
          "Year": "2014 [13]"
         },
         {
          "Cited by": 303,
          "Year": "2013 [11]"
         },
         {
          "Cited by": 267,
          "Year": "2012 [7]"
         },
         {
          "Cited by": 251,
          "Year": "2011 [5]"
         },
         {
          "Cited by": 21,
          "Year": "2010 [3]"
         }
        ]
       },
       "encoding": {
        "color": {
         "field": "Cited by",
         "scale": {
          "scheme": "Greys"
         },
         "type": "quantitative"
        },
        "x": {
         "field": "Cited by",
         "type": "quantitative"
        },
        "y": {
         "field": "Year",
         "sort": {
          "field": "Cited by:Q"
         },
         "type": "nominal"
        }
       },
       "mark": "bar"
      },
      "image/png": "[encoded data removed]",
      "text/plain": [
       "<VegaLite 3 object>\n",
       "\n",
       "If you see this message, it means the renderer has not been properly enabled\n",
       "for the frontend that you are using. For more information, see\n",
       "https://altair-viz.github.io/user_guide/troubleshooting.html\n"
      ]
     },
     "execution_count": 5,
     "metadata": {},
     "output_type": "execute_result"
    }
   ],
   "source": [
    "rdf.citations_by_year(cumulative=True).barhplot(\"altair\")"
   ]
  },
  {
   "cell_type": "code",
   "execution_count": 6,
   "metadata": {},
   "outputs": [
    {
     "data": {
      "text/html": [
       "<div>\n",
       "<style scoped>\n",
       "    .dataframe tbody tr th:only-of-type {\n",
       "        vertical-align: middle;\n",
       "    }\n",
       "\n",
       "    .dataframe tbody tr th {\n",
       "        vertical-align: top;\n",
       "    }\n",
       "\n",
       "    .dataframe thead th {\n",
       "        text-align: right;\n",
       "    }\n",
       "</style>\n",
       "<table border=\"1\" class=\"dataframe\">\n",
       "  <thead>\n",
       "    <tr style=\"text-align: right;\">\n",
       "      <th></th>\n",
       "      <th>Cited by</th>\n",
       "      <th>Num Documents</th>\n",
       "      <th>ID</th>\n",
       "    </tr>\n",
       "  </thead>\n",
       "  <tbody>\n",
       "    <tr>\n",
       "      <th>0</th>\n",
       "      <td>1.0</td>\n",
       "      <td>21</td>\n",
       "      <td>[[*6*], [*11*], [*17*], [*18*], [*19*], [*20*]...</td>\n",
       "    </tr>\n",
       "    <tr>\n",
       "      <th>1</th>\n",
       "      <td>3.0</td>\n",
       "      <td>7</td>\n",
       "      <td>[[*2*], [*4*], [*27*], [*68*], [*108*], [*120*...</td>\n",
       "    </tr>\n",
       "    <tr>\n",
       "      <th>2</th>\n",
       "      <td>4.0</td>\n",
       "      <td>5</td>\n",
       "      <td>[[*74*], [*76*], [*80*], [*87*], [*105*]]</td>\n",
       "    </tr>\n",
       "    <tr>\n",
       "      <th>3</th>\n",
       "      <td>2.0</td>\n",
       "      <td>5</td>\n",
       "      <td>[[*54*], [*83*], [*111*], [*133*], [*138*]]</td>\n",
       "    </tr>\n",
       "    <tr>\n",
       "      <th>4</th>\n",
       "      <td>5.0</td>\n",
       "      <td>3</td>\n",
       "      <td>[[*25*], [*130*], [*135*]]</td>\n",
       "    </tr>\n",
       "    <tr>\n",
       "      <th>5</th>\n",
       "      <td>6.0</td>\n",
       "      <td>3</td>\n",
       "      <td>[[*70*], [*81*], [*91*]]</td>\n",
       "    </tr>\n",
       "    <tr>\n",
       "      <th>6</th>\n",
       "      <td>7.0</td>\n",
       "      <td>3</td>\n",
       "      <td>[[*67*], [*109*], [*117*]]</td>\n",
       "    </tr>\n",
       "    <tr>\n",
       "      <th>7</th>\n",
       "      <td>14.0</td>\n",
       "      <td>3</td>\n",
       "      <td>[[*112*], [*116*], [*137*]]</td>\n",
       "    </tr>\n",
       "    <tr>\n",
       "      <th>8</th>\n",
       "      <td>20.0</td>\n",
       "      <td>2</td>\n",
       "      <td>[[*114*], [*132*]]</td>\n",
       "    </tr>\n",
       "    <tr>\n",
       "      <th>9</th>\n",
       "      <td>9.0</td>\n",
       "      <td>2</td>\n",
       "      <td>[[*107*], [*143*]]</td>\n",
       "    </tr>\n",
       "    <tr>\n",
       "      <th>10</th>\n",
       "      <td>16.0</td>\n",
       "      <td>2</td>\n",
       "      <td>[[*106*], [*113*]]</td>\n",
       "    </tr>\n",
       "    <tr>\n",
       "      <th>11</th>\n",
       "      <td>19.0</td>\n",
       "      <td>2</td>\n",
       "      <td>[[*127*], [*128*]]</td>\n",
       "    </tr>\n",
       "    <tr>\n",
       "      <th>12</th>\n",
       "      <td>49.0</td>\n",
       "      <td>1</td>\n",
       "      <td>[[*62*]]</td>\n",
       "    </tr>\n",
       "    <tr>\n",
       "      <th>13</th>\n",
       "      <td>42.0</td>\n",
       "      <td>1</td>\n",
       "      <td>[[*139*]]</td>\n",
       "    </tr>\n",
       "    <tr>\n",
       "      <th>14</th>\n",
       "      <td>37.0</td>\n",
       "      <td>1</td>\n",
       "      <td>[[*124*]]</td>\n",
       "    </tr>\n",
       "    <tr>\n",
       "      <th>15</th>\n",
       "      <td>28.0</td>\n",
       "      <td>1</td>\n",
       "      <td>[[*134*]]</td>\n",
       "    </tr>\n",
       "    <tr>\n",
       "      <th>16</th>\n",
       "      <td>12.0</td>\n",
       "      <td>1</td>\n",
       "      <td>[[*142*]]</td>\n",
       "    </tr>\n",
       "    <tr>\n",
       "      <th>17</th>\n",
       "      <td>15.0</td>\n",
       "      <td>1</td>\n",
       "      <td>[[*104*]]</td>\n",
       "    </tr>\n",
       "    <tr>\n",
       "      <th>18</th>\n",
       "      <td>11.0</td>\n",
       "      <td>1</td>\n",
       "      <td>[[*110*]]</td>\n",
       "    </tr>\n",
       "    <tr>\n",
       "      <th>19</th>\n",
       "      <td>10.0</td>\n",
       "      <td>1</td>\n",
       "      <td>[[*125*]]</td>\n",
       "    </tr>\n",
       "    <tr>\n",
       "      <th>20</th>\n",
       "      <td>8.0</td>\n",
       "      <td>1</td>\n",
       "      <td>[[*115*]]</td>\n",
       "    </tr>\n",
       "    <tr>\n",
       "      <th>21</th>\n",
       "      <td>188.0</td>\n",
       "      <td>1</td>\n",
       "      <td>[[*140*]]</td>\n",
       "    </tr>\n",
       "  </tbody>\n",
       "</table>\n",
       "</div>"
      ],
      "text/plain": [
       "    Cited by  Num Documents                                                 ID\n",
       "0        1.0             21  [[*6*], [*11*], [*17*], [*18*], [*19*], [*20*]...\n",
       "1        3.0              7  [[*2*], [*4*], [*27*], [*68*], [*108*], [*120*...\n",
       "2        4.0              5          [[*74*], [*76*], [*80*], [*87*], [*105*]]\n",
       "3        2.0              5        [[*54*], [*83*], [*111*], [*133*], [*138*]]\n",
       "4        5.0              3                         [[*25*], [*130*], [*135*]]\n",
       "5        6.0              3                           [[*70*], [*81*], [*91*]]\n",
       "6        7.0              3                         [[*67*], [*109*], [*117*]]\n",
       "7       14.0              3                        [[*112*], [*116*], [*137*]]\n",
       "8       20.0              2                                 [[*114*], [*132*]]\n",
       "9        9.0              2                                 [[*107*], [*143*]]\n",
       "10      16.0              2                                 [[*106*], [*113*]]\n",
       "11      19.0              2                                 [[*127*], [*128*]]\n",
       "12      49.0              1                                           [[*62*]]\n",
       "13      42.0              1                                          [[*139*]]\n",
       "14      37.0              1                                          [[*124*]]\n",
       "15      28.0              1                                          [[*134*]]\n",
       "16      12.0              1                                          [[*142*]]\n",
       "17      15.0              1                                          [[*104*]]\n",
       "18      11.0              1                                          [[*110*]]\n",
       "19      10.0              1                                          [[*125*]]\n",
       "20       8.0              1                                          [[*115*]]\n",
       "21     188.0              1                                          [[*140*]]"
      ]
     },
     "execution_count": 6,
     "metadata": {},
     "output_type": "execute_result"
    }
   ],
   "source": [
    "rdf.documents_by_terms(\"Cited by\")"
   ]
  },
  {
   "cell_type": "code",
   "execution_count": 7,
   "metadata": {},
   "outputs": [
    {
     "name": "stdout",
     "output_type": "stream",
     "text": [
      "1.0 (21) : [*6*][*11*][*17*][*18*][*19*][*20*][*23*][*24*][*47*][*50*][*78*][*88*][*92*][*96*][*100*][*102*][*118*][*119*][*122*][*129*][*136*]\n",
      "3.0 (7) : [*2*][*4*][*27*][*68*][*108*][*120*][*131*]\n",
      "4.0 (5) : [*74*][*76*][*80*][*87*][*105*]\n",
      "2.0 (5) : [*54*][*83*][*111*][*133*][*138*]\n",
      "5.0 (3) : [*25*][*130*][*135*]\n",
      "6.0 (3) : [*70*][*81*][*91*]\n",
      "7.0 (3) : [*67*][*109*][*117*]\n",
      "14.0 (3) : [*112*][*116*][*137*]\n",
      "20.0 (2) : [*114*][*132*]\n",
      "9.0 (2) : [*107*][*143*]\n",
      "16.0 (2) : [*106*][*113*]\n",
      "19.0 (2) : [*127*][*128*]\n",
      "49.0 (1) : [*62*]\n",
      "42.0 (1) : [*139*]\n",
      "37.0 (1) : [*124*]\n",
      "28.0 (1) : [*134*]\n",
      "12.0 (1) : [*142*]\n",
      "15.0 (1) : [*104*]\n",
      "11.0 (1) : [*110*]\n",
      "10.0 (1) : [*125*]\n",
      "8.0 (1) : [*115*]\n",
      "188.0 (1) : [*140*]\n"
     ]
    }
   ],
   "source": [
    "rdf.documents_by_terms(\"Cited by\").print_IDs()"
   ]
  }
 ],
 "metadata": {
  "kernelspec": {
   "display_name": "Python 3",
   "language": "python",
   "name": "python3"
  },
  "language_info": {
   "codemirror_mode": {
    "name": "ipython",
    "version": 3
   },
   "file_extension": ".py",
   "mimetype": "text/x-python",
   "name": "python",
   "nbconvert_exporter": "python",
   "pygments_lexer": "ipython3",
   "version": "3.6.9"
  }
 },
 "nbformat": 4,
 "nbformat_minor": 4
}
