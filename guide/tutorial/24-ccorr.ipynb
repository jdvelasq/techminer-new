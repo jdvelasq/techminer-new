{
 "cells": [
  {
   "cell_type": "code",
   "execution_count": 1,
   "metadata": {},
   "outputs": [],
   "source": [
    "# Install latest version from GitHub\n",
    "!pip install -q -U git+https://github.com/jdvelasq/techminer"
   ]
  },
  {
   "cell_type": "markdown",
   "metadata": {},
   "source": [
    "# Correlation matrix (Experimental)"
   ]
  },
  {
   "cell_type": "code",
   "execution_count": 2,
   "metadata": {},
   "outputs": [
    {
     "data": {
      "text/plain": [
       "Index(['Authors', 'Author(s) ID', 'Title', 'Year', 'Source title', 'Volume',\n",
       "       'Issue', 'Art. No.', 'Page start', 'Page end', 'Page count', 'Cited by',\n",
       "       'DOI', 'Affiliations', 'Document Type', 'Access Type', 'Source', 'EID',\n",
       "       'Abstract', 'Author Keywords', 'Index Keywords', 'References',\n",
       "       'keywords', 'CONF', 'fingerprint', 'keywords_cleaned', 'ID',\n",
       "       'top_10_Authors_freq', 'top_10_keywords_freq',\n",
       "       'top_10_Source_title_freq', 'top_10_Authors_cited_by',\n",
       "       'top_10_keywords_cited_by', 'top_10_Source_title_cited_by'],\n",
       "      dtype='object')"
      ]
     },
     "execution_count": 2,
     "metadata": {},
     "output_type": "execute_result"
    }
   ],
   "source": [
    "import matplotlib.pyplot as plt\n",
    "import pandas as pd\n",
    "\n",
    "from techminer import DataFrame, Plot, heatmap\n",
    "\n",
    "#\n",
    "# Data loading\n",
    "#\n",
    "df = DataFrame(\n",
    "    pd.read_json(\n",
    "        \"https://raw.githubusercontent.com/jdvelasq/techminer/master/data/tutorial/\"\n",
    "        + \"cleaned-data.json\",\n",
    "        orient=\"records\",\n",
    "        lines=True,\n",
    "    )\n",
    ")\n",
    "\n",
    "#\n",
    "# Columns of the dataframe\n",
    "#\n",
    "df.columns"
   ]
  },
  {
   "cell_type": "markdown",
   "metadata": {},
   "source": [
    "## Authors vs Source keywords"
   ]
  },
  {
   "cell_type": "code",
   "execution_count": null,
   "metadata": {},
   "outputs": [],
   "source": [
    "rdf.corr(\n",
    "    column_IDX=\"keywords\", sep_r=\";\", column_COL=\"Authors\"\n",
    ").head(30)"
   ]
  }
 ],
 "metadata": {
  "kernelspec": {
   "display_name": "Python 3",
   "language": "python",
   "name": "python3"
  },
  "language_info": {
   "codemirror_mode": {
    "name": "ipython",
    "version": 3
   },
   "file_extension": ".py",
   "mimetype": "text/x-python",
   "name": "python",
   "nbconvert_exporter": "python",
   "pygments_lexer": "ipython3",
   "version": "3.6.9"
  }
 },
 "nbformat": 4,
 "nbformat_minor": 4
}
