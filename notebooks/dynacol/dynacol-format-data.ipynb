{
 "cells": [
  {
   "cell_type": "code",
   "execution_count": 2,
   "metadata": {},
   "outputs": [
    {
     "name": "stdout",
     "output_type": "stream",
     "text": [
      "{\n",
      "  \"0\": {\n",
      "    \"Abstract\": \"Historical financial data are frequently used in technical analysis to identify patterns that can be exploited to achieve trading profits. Although technical analysis using a variety of technical indicators has proven to be useful for the prediction of price trends, it is difficult to use them to formulate trading rules that could be used in an automatic trading system due to the vague nature of the rules. Moreover, it is challenging to determine a specified combination of technical indicators that can be used to detect good trading points and trading rules since different stock may be affected by different set of factors. In this paper, we propose a novel trading point forecasting framework that incorporates a bicluster mining technique to discover significant trading patterns, a method to establish the fuzzy rule base, and a fuzzy inference system optimized for trading point prediction. The proposed method (called BM-FM) was tested on several historical stock datasets and the average performance was compared with the conventional buy-And-hold strategy and five previously reported intelligent trading systems. Experimental results demonstrated the superior performance of the proposed trading system. \\u00a9 1993-2012 IEEE.\",\n",
      "    \"Author Keywords\": \"Biclustering; fuzzy inference system; particle swarm optimization; technical analysis; trading point prediction; trading rules\",\n",
      "    \"Author(s) ID\": \"7403634614;57214920886;57193209101;7005648281;55936260100;\",\n",
      "    \"Authors\": \"Huang Q., Yang J., Feng X., Liew A.W.-C., Li X.\",\n",
      "    \"Cited by\": 1.0,\n",
      "    \"DOI\": \"10.1109/TFUZZ.2019.2904920\",\n",
      "    \"Document Type\": \"Article\",\n",
      "    \"EID\": \"2-s2.0-85067862019\",\n"
     ]
    }
   ],
   "source": [
    "#\n",
    "# 213 documentos recuperados automaticamente\n",
    "#\n",
    "# (TITLE-ABS-KEY(( automatic  OR  automated  OR  algorithmic  OR  \"high frequency\"  OR  \"high-frequency\" )  PRE/1  trading )  \n",
    "# AND  TITLE-ABS-KEY ( \"trading system\" ) )  \n",
    "# AND  ( EXCLUDE ( SUBJAREA ,  \"PHYS\" )  \n",
    "#        OR  EXCLUDE ( SUBJAREA ,  \"ARTS\" )  \n",
    "#        OR  EXCLUDE ( SUBJAREA ,  \"MEDI\" )  \n",
    "#        OR  EXCLUDE ( SUBJAREA ,  \"NEUR\" )  \n",
    "#        OR  EXCLUDE ( SUBJAREA ,  \"PSYC\" )  \n",
    "#        OR  EXCLUDE ( SUBJAREA ,  \"ENVI\" )  \n",
    "#        OR  EXCLUDE ( SUBJAREA ,  \"MATE\" )  \n",
    "#        OR  EXCLUDE ( SUBJAREA ,  \"HEAL\" )  \n",
    "#        OR  EXCLUDE ( SUBJAREA ,  \"Undefined\" ) ) \n",
    "#\n",
    "\n",
    "import pandas as pd\n",
    "import json\n",
    "\n",
    "\n",
    "BIBLIO_FILE = 'scopus.csv'\n",
    "ABST_FILE = 'scopus-2.csv'\n",
    "\n",
    "df_biblio = pd.read_csv(BIBLIO_FILE)\n",
    "_ = df_biblio.pop('Art. No.')\n",
    "_ = df_biblio.pop('Page count')\n",
    "_ = df_biblio.pop('Link')\n",
    "_ = df_biblio.pop('Source')\n",
    "_ = df_biblio.pop('Publication Stage')\n",
    "_ = df_biblio.pop('Access Type')\n",
    "df_biblio['Cited by'] = df_biblio['Cited by'].fillna(0)\n",
    "df_biblio['Selected'] = False\n",
    "df_biblio['Abstract'] = pd.read_csv(ABST_FILE)['Abstract']\n",
    "df_biblio = df_biblio[df_biblio['Abstract'] != '[No abstract available]']\n",
    "\n",
    "df_biblio.to_json('temp.json', orient='index')\n",
    "\n",
    "with open('temp.json', 'r') as handle:\n",
    "    parsed = json.load(handle)\n",
    "    \n",
    "with open('auto-trading.json', 'w') as file:\n",
    "    json.dump(parsed, file, indent=2, sort_keys=True)\n",
    "    \n",
    "!head auto-trading.json"
   ]
  },
  {
   "cell_type": "code",
   "execution_count": null,
   "metadata": {},
   "outputs": [],
   "source": []
  },
  {
   "cell_type": "code",
   "execution_count": 3,
   "metadata": {},
   "outputs": [],
   "source": [
    "df_raw = pd.read_json('auto-trading-raw.json', orient='index')\n",
    "df_selected = df_raw[df_raw['Selected'] == True]\n",
    "_ = df_selected.pop('Selected')    \n",
    "df_selected.to_json('temp.json', orient='index')\n",
    "    \n",
    "with open('temp.json', 'r') as handle:\n",
    "    parsed = json.load(handle)\n",
    "    \n",
    "with open('auto-trading-selected.json', 'w') as file:\n",
    "    json.dump(parsed, file, indent=2, sort_keys=True)\n",
    "\n"
   ]
  },
  {
   "cell_type": "code",
   "execution_count": 1,
   "metadata": {},
   "outputs": [],
   "source": [
    "import pandas as pd\n",
    "import json\n",
    "\n",
    "df_raw = pd.read_json('auto-trading-raw.json', orient='index')\n",
    "df_aff = pd.read_csv('scopus-3.csv')\n",
    "df_raw['Affiliations'] = df_aff['Affiliations']\n",
    "\n",
    "df_raw.to_json('temp.json', orient='index')\n",
    "\n",
    "with open('temp.json', 'r') as handle:\n",
    "    parsed = json.load(handle)\n",
    "    \n",
    "with open('auto-trading.json', 'w') as file:\n",
    "    json.dump(parsed, file, indent=2, sort_keys=True)\n",
    "\n",
    "\n",
    "\n",
    "\n",
    "df_selected = df_raw[df_raw['Selected'] == True]\n",
    "_ = df_selected.pop('Selected')    \n",
    "df_selected.to_json('temp.json', orient='index')\n",
    "    \n",
    "with open('temp.json', 'r') as handle:\n",
    "    parsed = json.load(handle)\n",
    "    \n",
    "with open('auto-trading-selected.json', 'w') as file:\n",
    "    json.dump(parsed, file, indent=2, sort_keys=True)"
   ]
  },
  {
   "cell_type": "code",
   "execution_count": null,
   "metadata": {},
   "outputs": [],
   "source": []
  },
  {
   "cell_type": "code",
   "execution_count": 7,
   "metadata": {},
   "outputs": [
    {
     "name": "stdout",
     "output_type": "stream",
     "text": [
      "3406\n",
      "{\n",
      "  \"0\": {\n",
      "    \"Affiliations\": \"Department of Chemical and Materials Engineering, University of Alberta, 12-360 Donadeo Innovation Centre for Engineering, Edmonton, AB  T6G 1H9, Canada; Department of Chemistry, University of Utah, 315 S 1400 E, Rm 2020, Salt Lake City, UT  84112-0850, United States\",\n",
      "    \"Author Keywords\": null,\n",
      "    \"Author(s) ID\": \"57192420795;42062009400;41862160600;24281358700;6602659856;35563820200;\",\n",
      "    \"Authors\": \"Ollinger J., Pourmohammadbagher A., Quast A.D., Becerra M., Shumaker-Parry J.S., Shaw J.M.\",\n",
      "    \"Authors with affiliations\": \"Ollinger, J., Department of Chemical and Materials Engineering, University of Alberta, 12-360 Donadeo Innovation Centre for Engineering, Edmonton, AB  T6G 1H9, Canada; Pourmohammadbagher, A., Department of Chemical and Materials Engineering, University of Alberta, 12-360 Donadeo Innovation Centre for Engineering, Edmonton, AB  T6G 1H9, Canada; Quast, A.D., Department of Chemistry, University of Utah, 315 S 1400 E, Rm 2020, Salt Lake City, UT  84112-0850, United States; Becerra, M., Department of Chemical and Materials Engineering, University of Alberta, 12-360 Donadeo Innovation Centre for Engineering, Edmonton, AB  T6G 1H9, Canada; Shumaker-Parry, J.S., Department of Chemistry, University of Utah, 315 S 1400 E, Rm 2020, Salt Lake City, UT  84112-0850, United States; Shaw, J.M., Department of Chemical and Materials Engineering, University of Alberta, 12-360 Donadeo Innovation Centre for Engineering, Edmonton, AB  T6G 1H9, Canada\",\n",
      "    \"Cited by\": 0.0,\n",
      "    \"DOI\": \"10.1021/acs.energyfuels.6b01770\",\n",
      "    \"Document Type\": \"Article\",\n"
     ]
    }
   ],
   "source": [
    "import pandas as pd\n",
    "import json\n",
    "\n",
    "FILE1 = 'scopus-5.csv'\n",
    "FILE2 = 'scopus-4.csv'\n",
    "\n",
    "df1 = pd.read_csv(FILE1)\n",
    "df2 = pd.read_csv(FILE2)\n",
    "\n",
    "df = pd.concat([df1, df2])\n",
    "df.index = range(len(df))\n",
    "\n",
    "_ = df.pop('Art. No.')\n",
    "_ = df.pop('Page count')\n",
    "_ = df.pop('Link')\n",
    "_ = df.pop('Source')\n",
    "_ = df.pop('Publication Stage')\n",
    "_ = df.pop('Access Type')\n",
    "df['Cited by'] = df['Cited by'].fillna(0)\n",
    "\n",
    "df.to_json('temp.json', orient='index')\n",
    "\n",
    "with open('temp.json', 'r') as handle:\n",
    "    parsed = json.load(handle)\n",
    "    \n",
    "with open('dyna-citedby.json', 'w') as file:\n",
    "    json.dump(parsed, file, indent=2, sort_keys=True)\n",
    "    \n",
    "print(len(df))\n",
    "!head dyna-citedby.json"
   ]
  },
  {
   "cell_type": "code",
   "execution_count": null,
   "metadata": {},
   "outputs": [],
   "source": []
  },
  {
   "cell_type": "markdown",
   "metadata": {},
   "source": [
    "# DYNA (Colombia)"
   ]
  },
  {
   "cell_type": "code",
   "execution_count": 4,
   "metadata": {},
   "outputs": [],
   "source": [
    "import pandas as pd\n",
    "import json\n",
    "\n",
    "BIBLIO_FILE_1 = 'bib-2009-2017.csv'\n",
    "BIBLIO_FILE_2 = 'bib-2018-2020.csv'\n",
    "\n",
    "ABST_FILE_1 = 'abs-2009-2017.csv'\n",
    "ABST_FILE_2 = 'abs-2018-2020.csv'\n",
    "\n",
    "df_biblio_1 = pd.read_csv(BIBLIO_FILE_1)\n",
    "df_biblio_2 = pd.read_csv(BIBLIO_FILE_2)\n",
    "\n",
    "df_biblio = pd.concat([df_biblio_1, df_biblio_2])\n",
    "df_biblio.index = range(len(df_biblio))\n",
    "\n",
    "df_biblio['Cited by'] = df_biblio['Cited by'].fillna(0)\n",
    "\n",
    "_ = df_biblio.pop('Art. No.')\n",
    "_ = df_biblio.pop('Page count')\n",
    "_ = df_biblio.pop('Link')\n",
    "_ = df_biblio.pop('Source')\n",
    "_ = df_biblio.pop('Publication Stage')\n",
    "_ = df_biblio.pop('Access Type')\n",
    "\n",
    "\n",
    "df_abst_1 = pd.read_csv(ABST_FILE_1)\n",
    "df_abst_2 = pd.read_csv(ABST_FILE_2)\n",
    "df_abst = pd.concat([df_abst_1, df_abst_2])\n",
    "df_abst.index = range(len(df_abst))\n",
    "\n",
    "df_biblio['Abstract'] = df_abst['Abstract']\n",
    "\n",
    "df_biblio.to_json('temp.json', orient='index')\n",
    "\n",
    "with open('temp.json', 'r') as handle:\n",
    "    parsed = json.load(handle)\n",
    "    \n",
    "with open('dyna-col-citedby.json', 'w') as file:\n",
    "    json.dump(parsed, file, indent=2, sort_keys=True)\n",
    "\n"
   ]
  },
  {
   "cell_type": "code",
   "execution_count": 2,
   "metadata": {},
   "outputs": [
    {
     "data": {
      "text/plain": [
       "Index(['Authors', 'Author(s) ID', 'Title', 'Year', 'Source title', 'Volume',\n",
       "       'Issue', 'Art. No.', 'Page start', 'Page end', 'Page count', 'Cited by',\n",
       "       'DOI', 'Link', 'Affiliations', 'Authors with affiliations',\n",
       "       'Author Keywords', 'Index Keywords', 'Document Type',\n",
       "       'Publication Stage', 'Access Type', 'Source', 'EID'],\n",
       "      dtype='object')"
      ]
     },
     "execution_count": 2,
     "metadata": {},
     "output_type": "execute_result"
    }
   ],
   "source": [
    "df_abst.columns"
   ]
  },
  {
   "cell_type": "code",
   "execution_count": null,
   "metadata": {},
   "outputs": [],
   "source": [
    "data = pd.read_json('archivo.json', orient='index')\n",
    "\n",
    "data = data[ data['selected'] == True ]"
   ]
  },
  {
   "cell_type": "markdown",
   "metadata": {},
   "source": [
    "# Referencias\n"
   ]
  },
  {
   "cell_type": "code",
   "execution_count": 1,
   "metadata": {},
   "outputs": [
    {
     "data": {
      "text/html": [
       "<div>\n",
       "<style scoped>\n",
       "    .dataframe tbody tr th:only-of-type {\n",
       "        vertical-align: middle;\n",
       "    }\n",
       "\n",
       "    .dataframe tbody tr th {\n",
       "        vertical-align: top;\n",
       "    }\n",
       "\n",
       "    .dataframe thead th {\n",
       "        text-align: right;\n",
       "    }\n",
       "</style>\n",
       "<table border=\"1\" class=\"dataframe\">\n",
       "  <thead>\n",
       "    <tr style=\"text-align: right;\">\n",
       "      <th></th>\n",
       "      <th>Link</th>\n",
       "      <th>References</th>\n",
       "    </tr>\n",
       "  </thead>\n",
       "  <tbody>\n",
       "    <tr>\n",
       "      <th>0</th>\n",
       "      <td>https://www.scopus.com/inward/record.uri?eid=2...</td>\n",
       "      <td>(2015) Encuesta Nacional Agropecuaria-Ena, , w...</td>\n",
       "    </tr>\n",
       "    <tr>\n",
       "      <th>1</th>\n",
       "      <td>https://www.scopus.com/inward/record.uri?eid=2...</td>\n",
       "      <td>Ashkin, A., Acceleration and trapping of parti...</td>\n",
       "    </tr>\n",
       "    <tr>\n",
       "      <th>2</th>\n",
       "      <td>https://www.scopus.com/inward/record.uri?eid=2...</td>\n",
       "      <td>McCurdy, R.H., Hutchinson, A.R., Winfield, P.H...</td>\n",
       "    </tr>\n",
       "    <tr>\n",
       "      <th>3</th>\n",
       "      <td>https://www.scopus.com/inward/record.uri?eid=2...</td>\n",
       "      <td>Siebert, S., Burke, J., Fauers, J.M., Frenken,...</td>\n",
       "    </tr>\n",
       "    <tr>\n",
       "      <th>4</th>\n",
       "      <td>https://www.scopus.com/inward/record.uri?eid=2...</td>\n",
       "      <td>Campos-Avella, J.C., Lora-Figueroa, E., Meriño...</td>\n",
       "    </tr>\n",
       "  </tbody>\n",
       "</table>\n",
       "</div>"
      ],
      "text/plain": [
       "                                                Link  \\\n",
       "0  https://www.scopus.com/inward/record.uri?eid=2...   \n",
       "1  https://www.scopus.com/inward/record.uri?eid=2...   \n",
       "2  https://www.scopus.com/inward/record.uri?eid=2...   \n",
       "3  https://www.scopus.com/inward/record.uri?eid=2...   \n",
       "4  https://www.scopus.com/inward/record.uri?eid=2...   \n",
       "\n",
       "                                          References  \n",
       "0  (2015) Encuesta Nacional Agropecuaria-Ena, , w...  \n",
       "1  Ashkin, A., Acceleration and trapping of parti...  \n",
       "2  McCurdy, R.H., Hutchinson, A.R., Winfield, P.H...  \n",
       "3  Siebert, S., Burke, J., Fauers, J.M., Frenken,...  \n",
       "4  Campos-Avella, J.C., Lora-Figueroa, E., Meriño...  "
      ]
     },
     "execution_count": 1,
     "metadata": {},
     "output_type": "execute_result"
    }
   ],
   "source": [
    "import pandas as pd\n",
    "import json\n",
    "\n",
    "df = pd.read_json('dyna-col.json', orient='index')\n",
    "refs = pd.read_csv('refs.csv')\n",
    "\n",
    "refs.head()"
   ]
  },
  {
   "cell_type": "code",
   "execution_count": 2,
   "metadata": {},
   "outputs": [],
   "source": [
    "df['References'] = refs['References']"
   ]
  },
  {
   "cell_type": "code",
   "execution_count": 11,
   "metadata": {},
   "outputs": [],
   "source": [
    "df.to_json('dyna-col.json', orient='index', indent=2)"
   ]
  },
  {
   "cell_type": "code",
   "execution_count": 10,
   "metadata": {},
   "outputs": [
    {
     "name": "stdout",
     "output_type": "stream",
     "text": [
      "{\n",
      "  \"0\":{\n",
      "    \"Abstract\":\"This research evaluates the effect of osmotic dehydration (OD) as a pretreatment of convective drying in mango pieces (Tommy Atkins) using whole cane sugar solutions in concentrations between 30 and 65 \\u00b0Brix, and temperatures between 50 and 80 \\u00b0C in a central composite rotatable design. The effect on effective diffusivity, water loss, sugar gain, color index (CIE-L*a*b*), water activity, sensory perception (color, texture and flavor), and consumption probability were measured. Effective diffusivity was influenced only by temperature of solution, presenting a maximum of 1.4E-4 cm2s-1. Water loss in OD registered a maximum of 40%. Color perception was affected by both variables. The consumption probability was influenced by the conditions evaluated with a maximum value of 80%. It was found the optimal conditions of OD in 65\\u00b0Brix and 79 \\u00b0C. \\u00a9 The author; licensee Universidad Nacional de Colombia.\",\n",
      "    \"Affiliations\":\"Faculty of Engineering, Universidad Nacional de Colombia, D.C., Bogot\\u00e1, Colombia\",\n",
      "    \"Author Keywords\":\"Dehydration; Fick\\u00b4s law; Optimization; Sensory perception; Water activity\",\n",
      "    \"Author(s) ID\":\"57215661706;57215651911;56488078800;\",\n",
      "    \"Authors\":\"Bejarano-Martinez C.A., Ariza-Quiroga S.D., S\\u00e1nchez-S\\u00e1enz C.M.\",\n",
      "    \"Cited by\":0,\n",
      "    \"Issue\":\"210\",\n",
      "    \"Language of Original Document\":\"English\",\n",
      "    \"Page end\":97.0,\n",
      "    \"Page start\":91.0,\n",
      "    \"Title\":\"Effect of osmotic dehydration with whole cane sugar on the convective drying of mango (Tommy Atkins) and on some physicochemical properties\\u2022 [Efecto de la deshidrataci\\u00f3n osm\\u00f3tica con az\\u00facar de ca\\u00f1a entera en el secado por convecci\\u00f3n del mango (Tommy Atkins) y en algunas propiedades fisicoqu\\u00edmicas]\",\n",
      "    \"Volume\":86,\n",
      "    \"Year\":2019,\n",
      "    \"References\":\"(2015) Encuesta Nacional Agropecuaria-Ena, , www.dane.gov.co; (2014) Balance Y Perspectivas Del Sector hortifrut\\u00edcola, , http:\\/\\/www.fondohortifruticola.com.co\\/RevistaFyH.php; (2016) Evaluaci\\u00f3n De tecnolog\\u00edas Innovadoras Para El Manejo Integral De Los Cultivos De Mango, Naranja Y Mandarina En Zonas Productoras Del Departamento De Cundinamarca; P\\u00e9rdida y desperdicio de alimentos en Colombia. Estudio de la direcci\\u00f3n de seguimiento y evaluaci\\u00f3n de pol\\u00edticas p\\u00fablicas (2016) Ria, 39, p. 116; Torres, J.D., Talens, P., Carot, J.M., Chiralt, A., Escriche, I., Volatile profile of mango (Mangifera indica L.), as affected by osmotic dehydration (2007) Food Chemistry, 101, pp. 219-228; Vald\\u00e9s, D.F., Mu\\u00f1iz, B.S., Pereira, A.G., Beyra, R.C., Vald\\u00e9s, D.F., (2015) Cin\\u00e9tica De Secado De Fruta Bomba (Carica Papaya L., Cv. Maradol Roja) Mediante Los m\\u00e9todos De deshidrataci\\u00f3n osm\\u00f3tica Y Por Flujo De Aire Caliente. Revista Ciencias T\\u00e9cnicas Agropecuarias. [Online], 24 (1), pp. 22-28. , http:\\/\\/scielo.sld.cu\\/scielo.php?script=sci_abstract&pid=S2071-00542015000100003, [Consulted: October 25th of 2018]. Available at; Maribel, G.-P., Alvis-Bermudez, A., Garc\\u00eda-Mogollon, C., Modelaci\\u00f3n de la cin\\u00e9tica de secado de mango pre-tratadas con deshidrataci\\u00f3n osm\\u00f3tica y microondas (2015) Biotecnolog\\u00eda En El Sector Agropecuario Y Agroindustrial, 13 (2), pp. 22-29; Giraldo, G., Talens, P., Fito, P., Chiralt, A., Influence of sucrose solution concentration on kinetics and yield during osmotic dehydration of mango (2003) Journal of Food Engineering, 58, pp. 33-43; Zuluaga, J.D., Cortes-Rodr\\u00edguez, M., Rodr\\u00edguez-Sandoval, E., Evaluaci\\u00f3n de las caracter\\u00edsticas f\\u00edsicas de mango deshidratado aplicando secado por aire caliente y deshidrataci\\u00f3n osm\\u00f3tica (2010) Revista De La Facultad De Ingenier\\u00eda U.C.V, 25 (4), pp. 127-135. , http:\\/\\/www.scielo.org.ve\\/scielo.php?script=sci_arttext&pid=S0798-40652010000400013\"\n",
      "  },\n",
      "  \"1\":{\n",
      "    \"Abstract\":\"From the invention of the Optical Tweezer (OT) in 1986, these devices have been considered as high-level tools for research in the areas such as biology and microbiology. A theoretical study obtaining equations for gradient and scattering forces that exert an OT when the \\u2217 illumination beam is a doughnut-shaped mode TEM01 linearly polarized is realized. This work focuses on the behavior of radiation forces on a dielectric sphere in the Rayleigh regime. In order to facilitate the phenomenological analysis of the behavior of the radiation forces a graphical user interface is created. \\u00a9 The author; licensee Universidad Nacional de Colombia.\",\n",
      "    \"Affiliations\":\"Departamento de F\\u00edsica y Geolog\\u00eda, Universidad de Pamplona, Pamplona, Colombia\",\n"
     ]
    }
   ],
   "source": [
    "!head -n 20 test.json"
   ]
  },
  {
   "cell_type": "code",
   "execution_count": null,
   "metadata": {},
   "outputs": [],
   "source": []
  }
 ],
 "metadata": {
  "kernelspec": {
   "display_name": "Python 3",
   "language": "python",
   "name": "python3"
  },
  "language_info": {
   "codemirror_mode": {
    "name": "ipython",
    "version": 3
   },
   "file_extension": ".py",
   "mimetype": "text/x-python",
   "name": "python",
   "nbconvert_exporter": "python",
   "pygments_lexer": "ipython3",
   "version": "3.6.9"
  }
 },
 "nbformat": 4,
 "nbformat_minor": 4
}
