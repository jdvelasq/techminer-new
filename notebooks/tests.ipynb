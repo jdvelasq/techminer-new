{
 "cells": [
  {
   "cell_type": "code",
   "execution_count": 1,
   "metadata": {},
   "outputs": [
    {
     "name": "stdout",
     "output_type": "stream",
     "text": [
      "<class 'pandas.core.frame.DataFrame'>\n",
      "RangeIndex: 688 entries, 0 to 687\n",
      "Data columns (total 33 columns):\n",
      " #   Column                         Non-Null Count  Dtype  \n",
      "---  ------                         --------------  -----  \n",
      " 0   Authors                        688 non-null    object \n",
      " 1   Author(s) ID                   688 non-null    object \n",
      " 2   Title                          688 non-null    object \n",
      " 3   Year                           688 non-null    int64  \n",
      " 4   Source title                   688 non-null    object \n",
      " 5   Volume                         602 non-null    object \n",
      " 6   Issue                          444 non-null    object \n",
      " 7   Art. No.                       132 non-null    object \n",
      " 8   Page start                     544 non-null    object \n",
      " 9   Page end                       542 non-null    object \n",
      " 10  Page count                     9 non-null      float64\n",
      " 11  Cited by                       453 non-null    float64\n",
      " 12  DOI                            574 non-null    object \n",
      " 13  Link                           688 non-null    object \n",
      " 14  Affiliations                   655 non-null    object \n",
      " 15  Authors with affiliations      680 non-null    object \n",
      " 16  Abstract                       688 non-null    object \n",
      " 17  Author Keywords                554 non-null    object \n",
      " 18  Index Keywords                 390 non-null    object \n",
      " 19  Correspondence Address         550 non-null    object \n",
      " 20  Editors                        55 non-null     object \n",
      " 21  Publisher                      563 non-null    object \n",
      " 22  ISSN                           614 non-null    object \n",
      " 23  ISBN                           109 non-null    object \n",
      " 24  CODEN                          131 non-null    object \n",
      " 25  PubMed ID                      66 non-null     float64\n",
      " 26  Language of Original Document  687 non-null    object \n",
      " 27  Abbreviated Source Title       680 non-null    object \n",
      " 28  Document Type                  688 non-null    object \n",
      " 29  Publication Stage              688 non-null    object \n",
      " 30  Access Type                    185 non-null    object \n",
      " 31  Source                         688 non-null    object \n",
      " 32  EID                            688 non-null    object \n",
      "dtypes: float64(3), int64(1), object(29)\n",
      "memory usage: 177.5+ KB\n"
     ]
    }
   ],
   "source": [
    "import pandas as pd\n",
    "\n",
    "import techminer.jupyter as jpl\n",
    "from techminer.analytics import load_scopus\n",
    "\n",
    "filepath = \"../data/papers/urban-agriculture.csv\"\n",
    "df = pd.read_csv(filepath)\n",
    "#  df = load_scopus(df)\n",
    "df.info()\n",
    "# df = df.applymap(lambda x: None if pd.isna(x) is True else x)\n",
    "# df = DataFrame(df).generate_ID()"
   ]
  },
  {
   "cell_type": "code",
   "execution_count": 2,
   "metadata": {},
   "outputs": [
    {
     "name": "stderr",
     "output_type": "stream",
     "text": [
      "100%|██████████| 5/5 [00:12<00:00,  2.49s/it]\n"
     ]
    }
   ],
   "source": [
    "df = load_scopus(df)"
   ]
  },
  {
   "cell_type": "code",
   "execution_count": 3,
   "metadata": {},
   "outputs": [
    {
     "data": {
      "application/vnd.jupyter.widget-view+json": {
       "model_id": "ef3f663bd9d14e658ed37224aa366f42",
       "version_major": 2,
       "version_minor": 0
      },
      "text/plain": [
       "Tab(children=(Output(), Output(), Output(), Output(), Output()), _titles={'0': 'Documents by Year', '1': 'Cum.…"
      ]
     },
     "metadata": {},
     "output_type": "display_data"
    }
   ],
   "source": [
    "jpl.summary_by_year(df, cmap='Blues')"
   ]
  }
 ],
 "metadata": {
  "kernelspec": {
   "display_name": "Python 3",
   "language": "python",
   "name": "python3"
  },
  "language_info": {
   "codemirror_mode": {
    "name": "ipython",
    "version": 3
   },
   "file_extension": ".py",
   "mimetype": "text/x-python",
   "name": "python",
   "nbconvert_exporter": "python",
   "pygments_lexer": "ipython3",
   "version": "3.6.9"
  }
 },
 "nbformat": 4,
 "nbformat_minor": 4
}
