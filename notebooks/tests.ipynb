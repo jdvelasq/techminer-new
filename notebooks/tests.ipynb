{
 "cells": [
  {
   "cell_type": "code",
   "execution_count": 1,
   "metadata": {},
   "outputs": [
    {
     "name": "stderr",
     "output_type": "stream",
     "text": [
      "2020-06-03 02:23:06,759 - INFO - Renaming and selecting columns ...\n",
      "2020-06-03 02:23:12,515 - INFO - Formatting author names ...\n",
      "2020-06-03 02:23:12,521 - INFO - Disambiguating author names ...\n",
      "2020-06-03 02:23:12,602 - INFO - Removing part of titles in foreing languages ...\n",
      "2020-06-03 02:23:12,605 - INFO - Fusioning author and index keywords ...\n",
      "2020-06-03 02:23:12,622 - INFO - NumExpr defaulting to 8 threads.\n",
      "2020-06-03 02:23:12,639 - INFO - Extracting countries from affiliations ...\n",
      "2020-06-03 02:23:19,110 - INFO - Extracting institutions from affiliations ...\n",
      "2020-06-03 02:23:19,121 - INFO - Extracting country of 1st author ...\n",
      "2020-06-03 02:23:19,125 - INFO - Extracting affiliation of 1st author ...\n",
      "2020-06-03 02:23:19,129 - INFO - Counting number of authors ...\n"
     ]
    }
   ],
   "source": [
    "import ipywidgets as widgets\n",
    "import pandas as pd\n",
    "from ipywidgets import Layout, AppLayout\n",
    "\n",
    "import techminer.analytics as tc\n",
    "import techminer.plots as plt\n",
    "from techminer.analytics import load_scopus\n",
    "import techminer.dashboards as dash\n",
    "from techminer.keywords import Keywords\n",
    "\n",
    "filepath = \"../data/papers/urban-agriculture.csv\"\n",
    "df = pd.read_csv(filepath)\n",
    "df = load_scopus(df)"
   ]
  },
  {
   "cell_type": "code",
   "execution_count": 2,
   "metadata": {},
   "outputs": [],
   "source": [
    "COLORMAPS = [\n",
    "    \"Greys\",\n",
    "    \"Purples\",\n",
    "    \"Blues\",\n",
    "    \"Greens\",\n",
    "    \"Oranges\",\n",
    "    \"Reds\",\n",
    "    \"YlOrBr\",\n",
    "    \"YlOrRd\",\n",
    "    \"OrRd\",\n",
    "    \"PuRd\",\n",
    "    \"RdPu\",\n",
    "    \"BuPu\",\n",
    "    \"GnBu\",\n",
    "    \"PuBu\",\n",
    "    \"YlGnBu\",\n",
    "    \"PuBuGn\",\n",
    "    \"BuGn\",\n",
    "    \"YlGn\",\n",
    "    \"Pastel1\",\n",
    "    \"Pastel2\",\n",
    "    \"Paired\",\n",
    "    \"Accent\",\n",
    "    \"Dark2\",\n",
    "    \"Set1\",\n",
    "    \"Set2\",\n",
    "    \"Set3\",\n",
    "    \"tab10\",\n",
    "    \"tab20\",\n",
    "    \"tab20b\",\n",
    "    \"tab20c\",\n",
    "]\n",
    "\n",
    "COLUMNS = [\n",
    "    \"Author Keywords\",\n",
    "    \"Authors\",\n",
    "    \"Countries\",\n",
    "    \"Country 1st\",\n",
    "    \"Document type\",\n",
    "    \"Index Keywords\",\n",
    "    \"Institution 1st\" \"Institutions\",\n",
    "    \"Keywords\",\n",
    "    \"Source title\",\n",
    "]"
   ]
  },
  {
   "cell_type": "code",
   "execution_count": 3,
   "metadata": {},
   "outputs": [],
   "source": [
    "def html_title(x):\n",
    "    return (\n",
    "        \"<h1>{}</h1>\".format(x)\n",
    "        + \"<hr style='height:2px;border-width:0;color:gray;background-color:gray'>\"\n",
    "    )"
   ]
  },
  {
   "cell_type": "code",
   "execution_count": 4,
   "metadata": {},
   "outputs": [],
   "source": [
    "FIGSIZE = (15, 9.4) ## Summary-by-year\n",
    "FIGSIZE = (14, 8.2) ## Summary-by-term\n",
    "FIGSIZE = (14, 10.0) ## Summary-by-term-per-year \n",
    "\n",
    "FIGSIZE = (14, 10.0) ## Co-occurrente-analysis  <---- no tiene figura\n",
    "\n",
    "FIGSIZE = (14, 9.0)\n",
    "\n",
    "\n",
    "LEFT_PANEL_HEIGHT = \"588px\"\n",
    "PANE_HEIGHTS = [\"80px\", \"650px\", 0]\n",
    "WIDGET_WIDTH = \"200px\""
   ]
  },
  {
   "cell_type": "markdown",
   "metadata": {
    "jupyter": {
     "source_hidden": true
    }
   },
   "source": [
    "# SUMMARY BY YEAR"
   ]
  },
  {
   "cell_type": "code",
   "execution_count": null,
   "metadata": {
    "jupyter": {
     "source_hidden": true
    }
   },
   "outputs": [],
   "source": [
    "def summary_by_year(x):\n",
    "    \"\"\" Summary by year dashboard.\n",
    "    \n",
    "    Args:\n",
    "        df (pandas.DataFrame): bibliographic dataframe.\n",
    "    \n",
    "    \"\"\"\n",
    "\n",
    "    def tab_0():\n",
    "        #\n",
    "        def compute(selected_plot, plot_type, cmap):\n",
    "            #\n",
    "            plots = {\"bar\": plt.bar, \"barh\": plt.barh}\n",
    "            data = {\n",
    "                \"Documents by Year\": [\"Year\", \"Num Documents\"],\n",
    "                \"Cum. Documents by Year\": [\"Year\", \"Num Documents (Cum)\"],\n",
    "                \"Times Cited by Year\": [\"Year\", \"Cited by\"],\n",
    "                \"Cum. Times Cited by Year\": [\"Year\", \"Cited by (Cum)\"],\n",
    "                \"Avg. Times Cited by Year\": [\"Year\", \"Avg. Cited by\"],\n",
    "            }\n",
    "            #\n",
    "            df = tc.summary_by_year(x)\n",
    "            df = df[data[selected_plot]]\n",
    "            plot = plots[plot_type]\n",
    "            output.clear_output()\n",
    "            with output:\n",
    "                display(plot(df, cmap=cmap, figsize=FIGSIZE))\n",
    "\n",
    "        #\n",
    "        LEFT_PANEL = [\n",
    "            (\n",
    "                \"Plot:\",\n",
    "                \"selected_plot\",\n",
    "                widgets.Dropdown(\n",
    "                    options=[\n",
    "                        \"Documents by Year\",\n",
    "                        \"Cum. Documents by Year\",\n",
    "                        \"Times Cited by Year\",\n",
    "                        \"Cum. Times Cited by Year\",\n",
    "                        \"Avg. Times Cited by Year\",\n",
    "                    ],\n",
    "                    value=\"Documents by Year\",\n",
    "                    disable=False,\n",
    "                    layout=Layout(width=WIDGET_WIDTH),\n",
    "                ),\n",
    "            ),\n",
    "            (\n",
    "                \"Plot type:\",\n",
    "                \"plot_type\",\n",
    "                widgets.Dropdown(\n",
    "                    options=[\"bar\", \"barh\"],\n",
    "                    disable=False,\n",
    "                    layout=Layout(width=WIDGET_WIDTH),\n",
    "                ),\n",
    "            ),\n",
    "            (\n",
    "                \"Colormap:\",\n",
    "                \"cmap\",\n",
    "                widgets.Dropdown(\n",
    "                    options=COLORMAPS, disable=False, layout=Layout(width=WIDGET_WIDTH),\n",
    "                ),\n",
    "            ),\n",
    "        ]\n",
    "        #\n",
    "        args = {key: value for _, key, value in LEFT_PANEL}\n",
    "        output = widgets.Output()\n",
    "        with output:\n",
    "            display(widgets.interactive_output(compute, args,))\n",
    "        return widgets.HBox(\n",
    "            [\n",
    "                widgets.VBox(\n",
    "                    [\n",
    "                        widgets.VBox([widgets.Label(value=text), widget])\n",
    "                        for text, _, widget in LEFT_PANEL\n",
    "                    ],\n",
    "                    layout=Layout(height=LEFT_PANEL_HEIGHT, border=\"1px solid gray\"),\n",
    "                ),\n",
    "                widgets.VBox([output], layout=Layout(width=\"870px\")),\n",
    "            ]\n",
    "        )\n",
    "\n",
    "    #\n",
    "    #\n",
    "    body = widgets.Tab()\n",
    "    body.children = [tab_0()]\n",
    "    #\n",
    "    body.set_title(0, \"Time analysis\")\n",
    "\n",
    "    return AppLayout(\n",
    "        header=widgets.HTML(value=html_title(\"Summary by Year\")),\n",
    "        left_sidebar=None,\n",
    "        center=body,\n",
    "        right_sidebar=None,\n",
    "        pane_heights=PANE_HEIGHTS,\n",
    "    )\n",
    "\n",
    "#####\n",
    "summary_by_year(df)"
   ]
  },
  {
   "cell_type": "markdown",
   "metadata": {
    "jupyter": {
     "source_hidden": true
    }
   },
   "source": [
    "# SUMMARY BY TERM"
   ]
  },
  {
   "cell_type": "code",
   "execution_count": null,
   "metadata": {
    "jupyter": {
     "source_hidden": true
    }
   },
   "outputs": [],
   "source": [
    "def summary_by_term(x):\n",
    "    \"\"\" Summary by Term dashboard.\n",
    "    \n",
    "    Args:\n",
    "        df (pandas.DataFrame): bibliographic dataframe.\n",
    "    \n",
    "    \"\"\"\n",
    "\n",
    "    def tab_0():\n",
    "        #\n",
    "        def compute(term, analysis_type, plot_type, cmap, top_n):\n",
    "            #\n",
    "            plots = {\"bar\": plt.bar, \"barh\": plt.barh, \"pie\": plt.pie}\n",
    "            #\n",
    "            df = tc.summary_by_term(x, term)\n",
    "            if analysis_type == \"Frequency\":\n",
    "                df = df.sort_values(\n",
    "                    [\"Num Documents\", \"Cited by\", term], ascending=False\n",
    "                )\n",
    "                df = df[[term, \"Num Documents\"]].head(top_n)\n",
    "            else:\n",
    "                df = df.sort_values(\n",
    "                    [\"Cited by\", \"Num Documents\", term], ascending=False\n",
    "                )\n",
    "                df = df[[term, \"Cited by\"]].head(top_n)\n",
    "            df = df.reset_index(drop=True)\n",
    "            plot = plots[plot_type]\n",
    "            output.clear_output()\n",
    "            with output:\n",
    "                display(plot(df, figsize=FIGSIZE, cmap=cmap))\n",
    "\n",
    "        #\n",
    "        LEFT_PANEL = [\n",
    "            (\n",
    "                \"Term to analyze:\",\n",
    "                \"term\",\n",
    "                widgets.Select(\n",
    "                    options=[z for z in COLUMNS if z in x.columns],\n",
    "                    ensure_option=True,\n",
    "                    disabled=False,\n",
    "                    layout=Layout(width=WIDGET_WIDTH),\n",
    "                ),\n",
    "            ),\n",
    "            (\n",
    "                \"Analysis type:\",\n",
    "                \"analysis_type\",\n",
    "                widgets.Dropdown(\n",
    "                    options=[\"Frequency\", \"Citation\"],\n",
    "                    value=\"Frequency\",\n",
    "                    disable=False,\n",
    "                    layout=Layout(width=WIDGET_WIDTH),\n",
    "                ),\n",
    "            ),\n",
    "            (\n",
    "                \"Plot type:\",\n",
    "                \"plot_type\",\n",
    "                widgets.Dropdown(\n",
    "                    options=[\"bar\", \"barh\", \"pie\"],\n",
    "                    disable=False,\n",
    "                    layout=Layout(width=WIDGET_WIDTH),\n",
    "                ),\n",
    "            ),\n",
    "            (\n",
    "                \"Colormap:\",\n",
    "                \"cmap\",\n",
    "                widgets.Dropdown(\n",
    "                    options=COLORMAPS, disable=False, layout=Layout(width=WIDGET_WIDTH),\n",
    "                ),\n",
    "            ),\n",
    "            (\n",
    "                \"Top N:\",\n",
    "                \"top_n\",\n",
    "                widgets.IntSlider(\n",
    "                    value=10,\n",
    "                    min=10,\n",
    "                    max=50,\n",
    "                    step=1,\n",
    "                    disabled=False,\n",
    "                    continuous_update=False,\n",
    "                    orientation=\"horizontal\",\n",
    "                    readout=True,\n",
    "                    readout_format=\"d\",\n",
    "                    layout=Layout(width=WIDGET_WIDTH),\n",
    "                ),\n",
    "            ),\n",
    "        ]\n",
    "        #\n",
    "        args = {key: value for _, key, value in LEFT_PANEL}\n",
    "        output = widgets.Output()\n",
    "        with output:\n",
    "            display(widgets.interactive_output(compute, args,))\n",
    "        return widgets.HBox(\n",
    "            [\n",
    "                widgets.VBox(\n",
    "                    [\n",
    "                        widgets.VBox([widgets.Label(value=text), widget])\n",
    "                        for text, _, widget in LEFT_PANEL\n",
    "                    ],\n",
    "                    layout=Layout(height=LEFT_PANEL_HEIGHT, border=\"1px solid gray\"),\n",
    "                ),\n",
    "                widgets.VBox([output], layout=Layout(width=\"870px\")),\n",
    "            ]\n",
    "        )\n",
    "\n",
    "    def tab_1():\n",
    "        #\n",
    "        def compute(term, analysis_type, cmap):\n",
    "            df = tc.summary_by_term(x, term)\n",
    "            if analysis_type == \"Frequency\":\n",
    "                df = df[[term, \"Num Documents\"]]\n",
    "            else:\n",
    "                df = df[[term, \"Cited by\"]]\n",
    "            df = df.reset_index(drop=True)\n",
    "            output.clear_output()\n",
    "            with output:\n",
    "                display(plt.worldmap(df, figsize=FIGSIZE, cmap=cmap))\n",
    "\n",
    "        #\n",
    "        LEFT_PANEL = [\n",
    "            (\n",
    "                \"Term to analyze:\",\n",
    "                \"term\",\n",
    "                widgets.Select(\n",
    "                    options=[\"Countries\", \"Country 1st\"],\n",
    "                    ensure_option=True,\n",
    "                    disabled=False,\n",
    "                    layout=Layout(width=WIDGET_WIDTH),\n",
    "                ),\n",
    "            ),\n",
    "            (\n",
    "                \"Analysis type:\",\n",
    "                \"analysis_type\",\n",
    "                widgets.Dropdown(\n",
    "                    options=[\"Frequency\", \"Citation\"],\n",
    "                    value=\"Frequency\",\n",
    "                    disable=False,\n",
    "                    layout=Layout(width=WIDGET_WIDTH),\n",
    "                ),\n",
    "            ),\n",
    "            (\n",
    "                \"Colormap:\",\n",
    "                \"cmap\",\n",
    "                widgets.Dropdown(\n",
    "                    options=COLORMAPS, disable=False, layout=Layout(width=WIDGET_WIDTH),\n",
    "                ),\n",
    "            ),\n",
    "        ]\n",
    "        #\n",
    "        args = {key: value for _, key, value in LEFT_PANEL}\n",
    "        output = widgets.Output()\n",
    "        with output:\n",
    "            display(widgets.interactive_output(compute, args,))\n",
    "        return widgets.HBox(\n",
    "            [\n",
    "                widgets.VBox(\n",
    "                    [\n",
    "                        widgets.VBox([widgets.Label(value=text), widget])\n",
    "                        for text, _, widget in LEFT_PANEL\n",
    "                    ],\n",
    "                    layout=Layout(height=LEFT_PANEL_HEIGHT, border=\"1px solid gray\"),\n",
    "                ),\n",
    "                widgets.VBox([output], layout=Layout(width=\"870px\")),\n",
    "            ]\n",
    "        )\n",
    "\n",
    "    #\n",
    "    #\n",
    "    body = widgets.Tab()\n",
    "    body.children = [tab_0(), tab_1()]\n",
    "    #\n",
    "    body.set_title(0, \"Time analysis\")\n",
    "    body.set_title(1, \"Worldmap\")\n",
    "\n",
    "    return AppLayout(\n",
    "        header=widgets.HTML(value=html_title(\"Summary by Term\")),\n",
    "        left_sidebar=None,\n",
    "        center=body,\n",
    "        right_sidebar=None,\n",
    "        pane_heights=PANE_HEIGHTS,\n",
    "    )\n",
    "\n",
    "\n",
    "#####\n",
    "summary_by_term(df)"
   ]
  },
  {
   "cell_type": "markdown",
   "metadata": {
    "jupyter": {
     "source_hidden": true
    }
   },
   "source": [
    "# SUMMARY BY TERM PER YEAR"
   ]
  },
  {
   "cell_type": "code",
   "execution_count": null,
   "metadata": {
    "jupyter": {
     "source_hidden": true
    }
   },
   "outputs": [],
   "source": [
    "def summary_by_term_per_year(x):\n",
    "    #\n",
    "    def tab_0():\n",
    "        #\n",
    "        def compute(term, analysis_type, plot_type, cmap, top_n):\n",
    "            #\n",
    "            plots = {\"Heatmap\": plt.heatmap, \"Gant\": plt.gant}\n",
    "            plot = plots[plot_type]\n",
    "            #\n",
    "            if analysis_type == \"Frequency\":\n",
    "                top = tc.documents_by_term(x, term).head(top_n)[term].tolist()\n",
    "                matrix = tc.documents_by_term_per_year(x, term, as_matrix=True)\n",
    "            else:\n",
    "                top = tc.citations_by_term(x, term).head(top_n)[term].tolist()\n",
    "                matrix = tc.citations_by_term_per_year(x, term, as_matrix=True)\n",
    "            matrix = matrix[top]\n",
    "            output.clear_output()\n",
    "            with output:\n",
    "                if plot_type == \"Heatmap\":\n",
    "                    display(plot(matrix, cmap=cmap, figsize=FIGSIZE))\n",
    "                if plot_type == \"Gant\":\n",
    "                    display(plot(matrix, figsize=FIGSIZE))\n",
    "\n",
    "        #\n",
    "        LEFT_PANEL = [\n",
    "            (\n",
    "                \"Term to analyze:\",\n",
    "                \"term\",\n",
    "                widgets.Select(\n",
    "                    options=[z for z in COLUMNS if z in x.columns],\n",
    "                    ensure_option=True,\n",
    "                    disabled=False,\n",
    "                    layout=Layout(width=WIDGET_WIDTH),\n",
    "                ),\n",
    "            ),\n",
    "            (\n",
    "                \"Analysis type:\",\n",
    "                \"analysis_type\",\n",
    "                widgets.Dropdown(\n",
    "                    options=[\"Frequency\", \"Citation\"],\n",
    "                    value=\"Frequency\",\n",
    "                    disable=False,\n",
    "                    layout=Layout(width=WIDGET_WIDTH),\n",
    "                ),\n",
    "            ),\n",
    "            (\n",
    "                \"Plot type:\",\n",
    "                \"plot_type\",\n",
    "                widgets.Dropdown(\n",
    "                    options=[\"Heatmap\", \"Gant\"],\n",
    "                    disable=False,\n",
    "                    layout=Layout(width=WIDGET_WIDTH),\n",
    "                ),\n",
    "            ),\n",
    "            (\n",
    "                \"Colormap:\",\n",
    "                \"cmap\",\n",
    "                widgets.Dropdown(\n",
    "                    options=COLORMAPS, disable=False, layout=Layout(width=WIDGET_WIDTH),\n",
    "                ),\n",
    "            ),\n",
    "            (\n",
    "                \"Top N:\",\n",
    "                \"top_n\",\n",
    "                widgets.IntSlider(\n",
    "                    value=10,\n",
    "                    min=10,\n",
    "                    max=50,\n",
    "                    step=1,\n",
    "                    disabled=False,\n",
    "                    continuous_update=False,\n",
    "                    orientation=\"horizontal\",\n",
    "                    readout=True,\n",
    "                    readout_format=\"d\",\n",
    "                    layout=Layout(width=WIDGET_WIDTH),\n",
    "                ),\n",
    "            ),\n",
    "        ]\n",
    "        #\n",
    "        args = {key: value for _, key, value in LEFT_PANEL}\n",
    "        output = widgets.Output()\n",
    "        with output:\n",
    "            display(widgets.interactive_output(compute, args,))\n",
    "        return widgets.HBox(\n",
    "            [\n",
    "                widgets.VBox(\n",
    "                    [\n",
    "                        widgets.VBox([widgets.Label(value=text), widget])\n",
    "                        for text, _, widget in LEFT_PANEL\n",
    "                    ],\n",
    "                    layout=Layout(height=LEFT_PANEL_HEIGHT, border=\"1px solid gray\"),\n",
    "                ),\n",
    "                widgets.VBox([output], layout=Layout(width=\"870px\")),\n",
    "            ]\n",
    "        )\n",
    "\n",
    "    #\n",
    "    #\n",
    "    body = widgets.Tab()\n",
    "    body.children = [tab_0()]\n",
    "    #\n",
    "    body.set_title(0, \"Heatmap\")\n",
    "\n",
    "    return AppLayout(\n",
    "        header=widgets.HTML(value=html_title(\"Summary by Term per Year\")),\n",
    "        left_sidebar=None,\n",
    "        center=body,\n",
    "        right_sidebar=None,\n",
    "        pane_heights=PANE_HEIGHTS,\n",
    "    )\n",
    "\n",
    "######\n",
    "summary_by_term_per_year(df)"
   ]
  },
  {
   "cell_type": "markdown",
   "metadata": {},
   "source": [
    "# CO-OCCURRENCE ANALYSIS"
   ]
  },
  {
   "cell_type": "code",
   "execution_count": 6,
   "metadata": {},
   "outputs": [
    {
     "data": {
      "application/vnd.jupyter.widget-view+json": {
       "model_id": "a51a966f237f496cb3706cd7b54d27db",
       "version_major": 2,
       "version_minor": 0
      },
      "text/plain": [
       "AppLayout(children=(HTML(value=\"<h1>Co-occurrence Analysis</h1><hr style='height:2px;border-width:0;color:gray…"
      ]
     },
     "metadata": {},
     "output_type": "display_data"
    }
   ],
   "source": [
    "def co_occurrence_analysis(x):\n",
    "    #\n",
    "    def tab_0():\n",
    "        #\n",
    "        def compute(column, by, min_value, cmap):\n",
    "            #\n",
    "            matrix = tc.co_occurrence(\n",
    "                x,\n",
    "                column=column,\n",
    "                by=by,\n",
    "                as_matrix=True,\n",
    "                min_value=min_value,\n",
    "                keywords=None,\n",
    "            )\n",
    "            if LEFT_PANEL[-1][2].value > matrix.max().max():\n",
    "                LEFT_PANEL[-1][2].value = matrix.max().max()\n",
    "            LEFT_PANEL[-1][2].max = matrix.max().max()\n",
    "            #\n",
    "            output.clear_output()\n",
    "            with output:\n",
    "                if len(matrix.columns) < 51 and len(matrix.index) < 51:\n",
    "                    display(matrix.style.background_gradient(cmap=cmap))\n",
    "                else:\n",
    "                    display(matrix)\n",
    "\n",
    "        #\n",
    "        LEFT_PANEL = [\n",
    "            (\n",
    "                \"Term to analyze:\",\n",
    "                \"column\",\n",
    "                widgets.Select(\n",
    "                    options=[z for z in COLUMNS if z in x.columns],\n",
    "                    ensure_option=True,\n",
    "                    disabled=False,\n",
    "                    continuous_update=True,\n",
    "                    layout=Layout(width=WIDGET_WIDTH),\n",
    "                ),\n",
    "            ),\n",
    "            (\n",
    "                \"By:\",\n",
    "                \"by\",\n",
    "                widgets.Select(\n",
    "                    options=[z for z in COLUMNS if z in x.columns],\n",
    "                    ensure_option=True,\n",
    "                    disabled=False,\n",
    "                    continuous_update=True,\n",
    "                    layout=Layout(width=WIDGET_WIDTH),\n",
    "                ),\n",
    "            ),\n",
    "            (\n",
    "                \"Colormap:\",\n",
    "                \"cmap\",\n",
    "                widgets.Dropdown(\n",
    "                    options=COLORMAPS, disable=False, layout=Layout(width=WIDGET_WIDTH),\n",
    "                ),\n",
    "            ),\n",
    "            (\n",
    "                \"Min value:\",\n",
    "                \"min_value\",\n",
    "                widgets.IntSlider(\n",
    "                    value=0,\n",
    "                    min=0,\n",
    "                    max=50,\n",
    "                    step=1,\n",
    "                    disabled=False,\n",
    "                    continuous_update=False,\n",
    "                    orientation=\"horizontal\",\n",
    "                    readout=True,\n",
    "                    readout_format=\"d\",\n",
    "                    layout=Layout(width=WIDGET_WIDTH),\n",
    "                ),\n",
    "            ),\n",
    "        ]\n",
    "        #\n",
    "        args = {key: value for _, key, value in LEFT_PANEL}\n",
    "        output = widgets.Output()\n",
    "        with output:\n",
    "            display(widgets.interactive_output(compute, args,))\n",
    "        return widgets.HBox(\n",
    "            [\n",
    "                widgets.VBox(\n",
    "                    [\n",
    "                        widgets.VBox([widgets.Label(value=text), widget])\n",
    "                        for text, _, widget in LEFT_PANEL\n",
    "                    ],\n",
    "                    layout=Layout(\n",
    "                        height=LEFT_PANEL_HEIGHT, width=\"210px\", border=\"1px solid gray\"\n",
    "                    ),\n",
    "                ),\n",
    "                widgets.VBox([output], layout=Layout(width=\"870px\")),\n",
    "            ]\n",
    "        )\n",
    "\n",
    "    #\n",
    "    #\n",
    "    body = widgets.Tab()\n",
    "    body.children = [tab_0()]\n",
    "    #\n",
    "    body.set_title(0, \"Matrix\")\n",
    "    return AppLayout(\n",
    "        header=widgets.HTML(value=html_title(\"Co-occurrence Analysis\")),\n",
    "        left_sidebar=None,\n",
    "        center=body,\n",
    "        right_sidebar=None,\n",
    "        pane_heights=PANE_HEIGHTS,\n",
    "    )\n",
    "\n",
    "\n",
    "######\n",
    "co_occurrence_analysis(df)"
   ]
  },
  {
   "cell_type": "markdown",
   "metadata": {},
   "source": [
    "# CORRELATION ANALYSIS"
   ]
  },
  {
   "cell_type": "code",
   "execution_count": null,
   "metadata": {},
   "outputs": [],
   "source": [
    "def correlation_analysis(x):\n",
    "    def tab_heatmap():\n",
    "        def compute_by_term(column, by, method, minmax, cmap, filter_type, top_n):\n",
    "            #\n",
    "            minmax = (minmax[0], minmax[1])\n",
    "            #\n",
    "            matrix, limit_values = tc.corr(\n",
    "                x,\n",
    "                column=column,\n",
    "                by=by,\n",
    "                method=method.lower(),\n",
    "                show_between=minmax,\n",
    "                cmap=cmap,\n",
    "                filter_by=filter_type,\n",
    "                top_n=top_n,\n",
    "                as_matrix=True,\n",
    "                get_minmax=True,\n",
    "            )\n",
    "            output.clear_output()\n",
    "            with output:\n",
    "                if len(matrix.columns) < 51 and len(matrix.index) < 51:\n",
    "                    display(\n",
    "                        matrix.style.format(\"{:.3f}\").background_gradient(cmap=cmap)\n",
    "                    )\n",
    "                else:\n",
    "                    display(matrix.style.format(\"{:.3f}\"))\n",
    "\n",
    "        #\n",
    "        column = widgets.Select(\n",
    "            options=[z for z in COLUMNS if z in x.columns],\n",
    "            ensure_option=True,\n",
    "            disabled=False,\n",
    "        )\n",
    "        by = widgets.Select(\n",
    "            options=[z for z in COLUMNS if z in x.columns],\n",
    "            ensure_option=True,\n",
    "            disabled=False,\n",
    "        )\n",
    "        method = widgets.Dropdown(\n",
    "            options=[\"Pearson\", \"Kendall\", \"Spearman\"], value=\"Pearson\", disable=False,\n",
    "        )\n",
    "        selection_range = widgets.FloatRangeSlider(\n",
    "            value=[-1.0, 1.0],\n",
    "            min=-1.0,\n",
    "            max=1.0,\n",
    "            step=0.1,\n",
    "            disabled=False,\n",
    "            continuous_update=False,\n",
    "            orientation=\"horizontal\",\n",
    "            readout=True,\n",
    "            readout_format=\"+.1f\",\n",
    "        )\n",
    "        filter_type = widgets.Dropdown(\n",
    "            options=[\"Frequency\", \"Citation\"], value=\"Frequency\", disable=False,\n",
    "        )\n",
    "        top_n = widgets.IntSlider(\n",
    "            value=10,\n",
    "            min=10,\n",
    "            max=50,\n",
    "            step=1,\n",
    "            disabled=False,\n",
    "            continuous_update=False,\n",
    "            orientation=\"horizontal\",\n",
    "            readout=True,\n",
    "            readout_format=\"d\",\n",
    "        )\n",
    "        cmap = widgets.Dropdown(options=COLORMAPS, disable=False,)\n",
    "        #\n",
    "        output = widgets.Output()\n",
    "        with output:\n",
    "            display(\n",
    "                widgets.interactive_output(\n",
    "                    compute_by_term,\n",
    "                    {\n",
    "                        \"column\": column,\n",
    "                        \"by\": by,\n",
    "                        \"method\": method,\n",
    "                        \"minmax\": selection_range,\n",
    "                        \"cmap\": cmap,\n",
    "                        \"filter_type\": filter_type,\n",
    "                        \"top_n\": top_n,\n",
    "                    },\n",
    "                )\n",
    "            )\n",
    "        #\n",
    "        return widgets.HBox(\n",
    "            [\n",
    "                widgets.VBox(\n",
    "                    [\n",
    "                        widgets.VBox([widgets.Label(value=\"Term:\"), column]),\n",
    "                        widgets.VBox([widgets.Label(value=\"By term:\"), by]),\n",
    "                        widgets.VBox([widgets.Label(value=\"Method:\"), method]),\n",
    "                        widgets.VBox(\n",
    "                            [widgets.Label(value=\"Filter type:\"), filter_type]\n",
    "                        ),\n",
    "                        widgets.VBox([widgets.Label(value=\"Top n:\"), top_n]),\n",
    "                        widgets.VBox([widgets.Label(value=\"Range:\"), selection_range]),\n",
    "                        widgets.VBox([widgets.Label(value=\"Colormap:\"), cmap]),\n",
    "                    ],\n",
    "                    layout=Layout(height=LEFT_PANEL_HEIGHT, border=\"1px solid gray\"),\n",
    "                ),\n",
    "                widgets.VBox([output], layout=Layout(width=\"870px\")),\n",
    "            ]\n",
    "        )\n",
    "\n",
    "    #\n",
    "    tabs = widgets.Tab()\n",
    "    tabs.children = [tab_heatmap()]\n",
    "    tabs.set_title(0, \"Heatmap\")\n",
    "\n",
    "    return AppLayout(\n",
    "        header=widgets.HTML(value=html_title(\"Correlation Analysis\")),\n",
    "        left_sidebar=None,\n",
    "        center=tabs,\n",
    "        right_sidebar=None,\n",
    "        pane_widths=PANE_WIDHTS,\n",
    "        pane_heights=PANE_HEIGHTS,\n",
    "    )\n",
    "\n",
    "\n",
    "####\n",
    "correlation_analysis(df)"
   ]
  },
  {
   "cell_type": "code",
   "execution_count": null,
   "metadata": {},
   "outputs": [],
   "source": []
  },
  {
   "cell_type": "code",
   "execution_count": null,
   "metadata": {},
   "outputs": [],
   "source": []
  },
  {
   "cell_type": "code",
   "execution_count": null,
   "metadata": {},
   "outputs": [],
   "source": []
  },
  {
   "cell_type": "code",
   "execution_count": null,
   "metadata": {},
   "outputs": [],
   "source": []
  },
  {
   "cell_type": "code",
   "execution_count": null,
   "metadata": {},
   "outputs": [],
   "source": [
    "x = pd.DataFrame(0, columns=list('abcdef'), index=list('ABCDEF'))\n",
    "x.at['A', 'a'] = 9\n",
    "x.at['B', 'b'] = 8\n",
    "x.at['C', 'c'] = 3\n",
    "x.at['D', 'd'] = 5\n",
    "x.at['E', 'e'] = 6\n",
    "x.at['F', 'f'] = 1\n",
    "x.at['C', 'a'] = 9\n",
    "x"
   ]
  },
  {
   "cell_type": "code",
   "execution_count": null,
   "metadata": {},
   "outputs": [],
   "source": [
    "x = pd.DataFrame(0, columns=list('abcdef'), index=list('ABCDEF'))\n",
    "x.at['A', 'a'] = 9\n",
    "x.at['B', 'b'] = 8\n",
    "x.at['C', 'c'] = 3\n",
    "x.at['D', 'd'] = 5\n",
    "x.at['E', 'e'] = 6\n",
    "x.at['F', 'f'] = 1\n",
    "x.at['C', 'a'] = 9\n",
    "\n",
    "\n",
    "ascending=False\n",
    "a = x.max().sort_values(ascending=ascending)\n",
    "x = x[a.index]\n",
    "x = x.sort_values(x.index.tolist(), axis=1, ascending=ascending)\n",
    "x = x.sort_values(x.columns.tolist(), axis=0, ascending=ascending)\n",
    "x"
   ]
  },
  {
   "cell_type": "code",
   "execution_count": null,
   "metadata": {},
   "outputs": [],
   "source": [
    "x.loc[x.max(axis=1).sort_values(ascending=False).index, x.max(axis=0).sort_values(ascending=False).index]"
   ]
  },
  {
   "cell_type": "code",
   "execution_count": null,
   "metadata": {},
   "outputs": [],
   "source": [
    "x.index"
   ]
  },
  {
   "cell_type": "code",
   "execution_count": null,
   "metadata": {},
   "outputs": [],
   "source": [
    "x.sort_values(x.index.tolist(), axis=1, ascending=False)"
   ]
  },
  {
   "cell_type": "code",
   "execution_count": null,
   "metadata": {},
   "outputs": [],
   "source": []
  },
  {
   "cell_type": "code",
   "execution_count": null,
   "metadata": {},
   "outputs": [],
   "source": []
  },
  {
   "cell_type": "code",
   "execution_count": null,
   "metadata": {},
   "outputs": [],
   "source": []
  }
 ],
 "metadata": {
  "kernelspec": {
   "display_name": "Python 3",
   "language": "python",
   "name": "python3"
  },
  "language_info": {
   "codemirror_mode": {
    "name": "ipython",
    "version": 3
   },
   "file_extension": ".py",
   "mimetype": "text/x-python",
   "name": "python",
   "nbconvert_exporter": "python",
   "pygments_lexer": "ipython3",
   "version": "3.6.9"
  },
  "widgets": {
   "application/vnd.jupyter.widget-state+json": {
    "state": {
     "00c9b1abb0254c269dee7a7b37105385": {
      "model_module": "@jupyter-widgets/base",
      "model_module_version": "1.2.0",
      "model_name": "LayoutModel",
      "state": {}
     },
     "00ebf6a7e3ab4e8a9ce0592c69f0acd8": {
      "model_module": "@jupyter-widgets/base",
      "model_module_version": "1.2.0",
      "model_name": "LayoutModel",
      "state": {}
     },
     "01c1ff9a2bb14b1090c244fad7405e00": {
      "model_module": "@jupyter-widgets/controls",
      "model_module_version": "1.5.0",
      "model_name": "DescriptionStyleModel",
      "state": {
       "description_width": ""
      }
     },
     "024730a75a6c44e19728b8ecc4ec5fac": {
      "model_module": "@jupyter-widgets/base",
      "model_module_version": "1.2.0",
      "model_name": "LayoutModel",
      "state": {
       "grid_template_areas": "\"header header header\"\n\"center center center\"",
       "grid_template_columns": "1fr 2fr 1fr",
       "grid_template_rows": "80px 650px"
      }
     },
     "02636a2ec0574cacad6d6e3ce4e9bc77": {
      "model_module": "@jupyter-widgets/controls",
      "model_module_version": "1.5.0",
      "model_name": "GridBoxModel",
      "state": {
       "children": [
        "IPY_MODEL_772773062f0d41c68419adbfa790b9a2",
        "IPY_MODEL_0ca0fd81ad5044c280ab849a95c15b20"
       ],
       "layout": "IPY_MODEL_024730a75a6c44e19728b8ecc4ec5fac"
      }
     },
     "03ef1f95528240998947db8fa0d0b4e7": {
      "model_module": "@jupyter-widgets/base",
      "model_module_version": "1.2.0",
      "model_name": "LayoutModel",
      "state": {}
     },
     "04a8901b668444bbb6222894b3b75d6e": {
      "model_module": "@jupyter-widgets/base",
      "model_module_version": "1.2.0",
      "model_name": "LayoutModel",
      "state": {
       "grid_area": "header"
      }
     },
     "0994835bd19b449bbd419cb6122cde6b": {
      "model_module": "@jupyter-widgets/base",
      "model_module_version": "1.2.0",
      "model_name": "LayoutModel",
      "state": {}
     },
     "09b961a4e9c04091be6578f674833e59": {
      "model_module": "@jupyter-widgets/controls",
      "model_module_version": "1.5.0",
      "model_name": "LabelModel",
      "state": {
       "layout": "IPY_MODEL_03ef1f95528240998947db8fa0d0b4e7",
       "style": "IPY_MODEL_3a0e472461294429a8940f43ac1ed099",
       "value": "By:"
      }
     },
     "0c8ab3806c934dc7aebc1677412feb4f": {
      "model_module": "@jupyter-widgets/controls",
      "model_module_version": "1.5.0",
      "model_name": "VBoxModel",
      "state": {
       "children": [
        "IPY_MODEL_7a80627193504adb9f177b666bd84596",
        "IPY_MODEL_9ed85ee2b681409eb8db69e1213f1e34",
        "IPY_MODEL_380b89e5783f4ea3aa395a73c775e3d0",
        "IPY_MODEL_713b0614e1d640e19000eeb3306be8ba"
       ],
       "layout": "IPY_MODEL_2af25a04bac14647a9cd91a6fb38e685"
      }
     },
     "0ca0fd81ad5044c280ab849a95c15b20": {
      "model_module": "@jupyter-widgets/controls",
      "model_module_version": "1.5.0",
      "model_name": "TabModel",
      "state": {
       "_titles": {
        "0": "Matrix"
       },
       "children": [
        "IPY_MODEL_614ba4ea87454472adcaf6febd825a9b"
       ],
       "layout": "IPY_MODEL_0fdba09e447141dca146d77b25365ec5"
      }
     },
     "0cc0f78fdcba45aaace08f8c5b7a8cdd": {
      "model_module": "@jupyter-widgets/controls",
      "model_module_version": "1.5.0",
      "model_name": "SelectModel",
      "state": {
       "_options_labels": [
        "Author Keywords",
        "Authors",
        "Countries",
        "Country 1st",
        "Index Keywords",
        "Keywords",
        "Source title"
       ],
       "index": 0,
       "layout": "IPY_MODEL_9bb4d02ce64e41ca9f06bb66e325d64a",
       "style": "IPY_MODEL_dc4f092033cb4e5c92ed77a9a9b7fc0a"
      }
     },
     "0fdba09e447141dca146d77b25365ec5": {
      "model_module": "@jupyter-widgets/base",
      "model_module_version": "1.2.0",
      "model_name": "LayoutModel",
      "state": {
       "grid_area": "center"
      }
     },
     "12ff1d9c903944619021310e4be6e371": {
      "model_module": "@jupyter-widgets/base",
      "model_module_version": "1.2.0",
      "model_name": "LayoutModel",
      "state": {
       "width": "200px"
      }
     },
     "15dcab76fe3b4d36bb5dc1bc840142f1": {
      "model_module": "@jupyter-widgets/controls",
      "model_module_version": "1.5.0",
      "model_name": "VBoxModel",
      "state": {
       "children": [
        "IPY_MODEL_2473410416464f75ae95b787d6472230",
        "IPY_MODEL_8537f83804be4c6fac5ca3cbd14b1108"
       ],
       "layout": "IPY_MODEL_bacb1a0f159840318ce95ba6d3636d6a"
      }
     },
     "1b540f84b29e4a6f8ba5c60945d44c3a": {
      "model_module": "@jupyter-widgets/base",
      "model_module_version": "1.2.0",
      "model_name": "LayoutModel",
      "state": {}
     },
     "1beda43f0e724786951eaf31027f5bb4": {
      "model_module": "@jupyter-widgets/base",
      "model_module_version": "1.2.0",
      "model_name": "LayoutModel",
      "state": {
       "width": "200px"
      }
     },
     "1efbf2dc2ac34923b28e45ddfcc7eb63": {
      "model_module": "@jupyter-widgets/output",
      "model_module_version": "1.0.0",
      "model_name": "OutputModel",
      "state": {
       "layout": "IPY_MODEL_9b2e07ba6d8b4f4c9073b3a3afdd6ad7",
       "outputs": [
        {
         "data": {
          "application/vnd.jupyter.widget-view+json": {
           "model_id": "",
           "version_major": 2,
           "version_minor": 0
          },
          "text/plain": "Output()"
         },
         "metadata": {},
         "output_type": "display_data"
        }
       ]
      }
     },
     "1f1dc5f27d0c4bcaa8d2e1e501dd5f46": {
      "model_module": "@jupyter-widgets/base",
      "model_module_version": "1.2.0",
      "model_name": "LayoutModel",
      "state": {}
     },
     "21c65bde032c4a28aa68fd06d3a08d28": {
      "model_module": "@jupyter-widgets/controls",
      "model_module_version": "1.5.0",
      "model_name": "LabelModel",
      "state": {
       "layout": "IPY_MODEL_50627bc6329b4f72883123da177a26f1",
       "style": "IPY_MODEL_01c1ff9a2bb14b1090c244fad7405e00",
       "value": "Colormap:"
      }
     },
     "2406d634ef94424d94fe9763c722f573": {
      "model_module": "@jupyter-widgets/base",
      "model_module_version": "1.2.0",
      "model_name": "LayoutModel",
      "state": {}
     },
     "2473410416464f75ae95b787d6472230": {
      "model_module": "@jupyter-widgets/controls",
      "model_module_version": "1.5.0",
      "model_name": "LabelModel",
      "state": {
       "layout": "IPY_MODEL_a9416906de3f4deba6adfe883f6f11c8",
       "style": "IPY_MODEL_8e57f44fc5a949ca92a4c4cf084ba4a9",
       "value": "Min value:"
      }
     },
     "24d1547998274b229ac366797c3adecc": {
      "model_module": "@jupyter-widgets/base",
      "model_module_version": "1.2.0",
      "model_name": "LayoutModel",
      "state": {}
     },
     "2849a3c0f7f949158504cb7d15f98b85": {
      "model_module": "@jupyter-widgets/base",
      "model_module_version": "1.2.0",
      "model_name": "LayoutModel",
      "state": {}
     },
     "28bfcc1187ed42edb0f34dbfeddf5afd": {
      "model_module": "@jupyter-widgets/controls",
      "model_module_version": "1.5.0",
      "model_name": "LabelModel",
      "state": {
       "layout": "IPY_MODEL_00c9b1abb0254c269dee7a7b37105385",
       "style": "IPY_MODEL_a412426a8e3046808aa7d765d4407483",
       "value": "Term to analyze:"
      }
     },
     "29361cb21c904af88ac2695519070ddd": {
      "model_module": "@jupyter-widgets/output",
      "model_module_version": "1.0.0",
      "model_name": "OutputModel",
      "state": {
       "layout": "IPY_MODEL_75b63a10c033421fa4ba1a7f71e76016",
       "outputs": [
        {
         "data": {
          "text/html": "<div>\n<style scoped>\n    .dataframe tbody tr th:only-of-type {\n        vertical-align: middle;\n    }\n\n    .dataframe tbody tr th {\n        vertical-align: top;\n    }\n\n    .dataframe thead th {\n        text-align: right;\n    }\n</style>\n<table border=\"1\" class=\"dataframe\">\n  <thead>\n    <tr style=\"text-align: right;\">\n      <th></th>\n      <th>AKIS</th>\n      <th>Acceptance</th>\n      <th>Access to nature</th>\n      <th>Accra, Ghana</th>\n      <th>Accra-Ghana</th>\n      <th>Action research system development</th>\n      <th>Activism</th>\n      <th>Adaptation process</th>\n      <th>Adaptation strategies</th>\n      <th>Adaptive re-use of buildings</th>\n      <th>...</th>\n      <th>vertical farming</th>\n      <th>water</th>\n      <th>yards</th>\n      <th>yield advantage</th>\n      <th>yoga</th>\n      <th>youth activism</th>\n      <th>β-carotene</th>\n      <th>‘Differentiation’</th>\n      <th>‘Diversification’</th>\n      <th>‘Low-cost specialization’</th>\n    </tr>\n  </thead>\n  <tbody>\n    <tr>\n      <th>AKIS</th>\n      <td>1</td>\n      <td>0</td>\n      <td>0</td>\n      <td>0</td>\n      <td>0</td>\n      <td>0</td>\n      <td>0</td>\n      <td>0</td>\n      <td>0</td>\n      <td>0</td>\n      <td>...</td>\n      <td>0</td>\n      <td>0</td>\n      <td>0</td>\n      <td>0</td>\n      <td>0</td>\n      <td>0</td>\n      <td>0</td>\n      <td>0</td>\n      <td>0</td>\n      <td>0</td>\n    </tr>\n    <tr>\n      <th>Acceptance</th>\n      <td>0</td>\n      <td>2</td>\n      <td>0</td>\n      <td>0</td>\n      <td>0</td>\n      <td>0</td>\n      <td>0</td>\n      <td>0</td>\n      <td>0</td>\n      <td>0</td>\n      <td>...</td>\n      <td>0</td>\n      <td>0</td>\n      <td>0</td>\n      <td>0</td>\n      <td>0</td>\n      <td>0</td>\n      <td>0</td>\n      <td>0</td>\n      <td>0</td>\n      <td>0</td>\n    </tr>\n    <tr>\n      <th>Access to nature</th>\n      <td>0</td>\n      <td>0</td>\n      <td>1</td>\n      <td>0</td>\n      <td>0</td>\n      <td>0</td>\n      <td>0</td>\n      <td>0</td>\n      <td>0</td>\n      <td>0</td>\n      <td>...</td>\n      <td>0</td>\n      <td>0</td>\n      <td>0</td>\n      <td>0</td>\n      <td>0</td>\n      <td>0</td>\n      <td>0</td>\n      <td>0</td>\n      <td>0</td>\n      <td>0</td>\n    </tr>\n    <tr>\n      <th>Accra, Ghana</th>\n      <td>0</td>\n      <td>0</td>\n      <td>0</td>\n      <td>1</td>\n      <td>0</td>\n      <td>0</td>\n      <td>0</td>\n      <td>0</td>\n      <td>0</td>\n      <td>0</td>\n      <td>...</td>\n      <td>0</td>\n      <td>0</td>\n      <td>0</td>\n      <td>0</td>\n      <td>0</td>\n      <td>0</td>\n      <td>0</td>\n      <td>0</td>\n      <td>0</td>\n      <td>0</td>\n    </tr>\n    <tr>\n      <th>Accra-Ghana</th>\n      <td>0</td>\n      <td>0</td>\n      <td>0</td>\n      <td>0</td>\n      <td>1</td>\n      <td>0</td>\n      <td>0</td>\n      <td>0</td>\n      <td>0</td>\n      <td>0</td>\n      <td>...</td>\n      <td>0</td>\n      <td>0</td>\n      <td>0</td>\n      <td>0</td>\n      <td>0</td>\n      <td>0</td>\n      <td>0</td>\n      <td>0</td>\n      <td>0</td>\n      <td>0</td>\n    </tr>\n    <tr>\n      <th>...</th>\n      <td>...</td>\n      <td>...</td>\n      <td>...</td>\n      <td>...</td>\n      <td>...</td>\n      <td>...</td>\n      <td>...</td>\n      <td>...</td>\n      <td>...</td>\n      <td>...</td>\n      <td>...</td>\n      <td>...</td>\n      <td>...</td>\n      <td>...</td>\n      <td>...</td>\n      <td>...</td>\n      <td>...</td>\n      <td>...</td>\n      <td>...</td>\n      <td>...</td>\n      <td>...</td>\n    </tr>\n    <tr>\n      <th>youth activism</th>\n      <td>0</td>\n      <td>0</td>\n      <td>0</td>\n      <td>0</td>\n      <td>0</td>\n      <td>0</td>\n      <td>0</td>\n      <td>0</td>\n      <td>0</td>\n      <td>0</td>\n      <td>...</td>\n      <td>0</td>\n      <td>0</td>\n      <td>0</td>\n      <td>0</td>\n      <td>0</td>\n      <td>1</td>\n      <td>0</td>\n      <td>0</td>\n      <td>0</td>\n      <td>0</td>\n    </tr>\n    <tr>\n      <th>β-carotene</th>\n      <td>0</td>\n      <td>0</td>\n      <td>0</td>\n      <td>0</td>\n      <td>0</td>\n      <td>0</td>\n      <td>0</td>\n      <td>0</td>\n      <td>0</td>\n      <td>0</td>\n      <td>...</td>\n      <td>0</td>\n      <td>0</td>\n      <td>0</td>\n      <td>0</td>\n      <td>0</td>\n      <td>0</td>\n      <td>1</td>\n      <td>0</td>\n      <td>0</td>\n      <td>0</td>\n    </tr>\n    <tr>\n      <th>‘Differentiation’</th>\n      <td>0</td>\n      <td>0</td>\n      <td>0</td>\n      <td>0</td>\n      <td>0</td>\n      <td>0</td>\n      <td>0</td>\n      <td>0</td>\n      <td>0</td>\n      <td>0</td>\n      <td>...</td>\n      <td>0</td>\n      <td>0</td>\n      <td>0</td>\n      <td>0</td>\n      <td>0</td>\n      <td>0</td>\n      <td>0</td>\n      <td>1</td>\n      <td>1</td>\n      <td>1</td>\n    </tr>\n    <tr>\n      <th>‘Diversification’</th>\n      <td>0</td>\n      <td>0</td>\n      <td>0</td>\n      <td>0</td>\n      <td>0</td>\n      <td>0</td>\n      <td>0</td>\n      <td>0</td>\n      <td>0</td>\n      <td>0</td>\n      <td>...</td>\n      <td>0</td>\n      <td>0</td>\n      <td>0</td>\n      <td>0</td>\n      <td>0</td>\n      <td>0</td>\n      <td>0</td>\n      <td>1</td>\n      <td>1</td>\n      <td>1</td>\n    </tr>\n    <tr>\n      <th>‘Low-cost specialization’</th>\n      <td>0</td>\n      <td>0</td>\n      <td>0</td>\n      <td>0</td>\n      <td>0</td>\n      <td>0</td>\n      <td>0</td>\n      <td>0</td>\n      <td>0</td>\n      <td>0</td>\n      <td>...</td>\n      <td>0</td>\n      <td>0</td>\n      <td>0</td>\n      <td>0</td>\n      <td>0</td>\n      <td>0</td>\n      <td>0</td>\n      <td>1</td>\n      <td>1</td>\n      <td>1</td>\n    </tr>\n  </tbody>\n</table>\n<p>1561 rows × 1561 columns</p>\n</div>",
          "text/plain": "                           AKIS  Acceptance  Access to nature  Accra, Ghana  \\\nAKIS                          1           0                 0             0   \nAcceptance                    0           2                 0             0   \nAccess to nature              0           0                 1             0   \nAccra, Ghana                  0           0                 0             1   \nAccra-Ghana                   0           0                 0             0   \n...                         ...         ...               ...           ...   \nyouth activism                0           0                 0             0   \nβ-carotene                    0           0                 0             0   \n‘Differentiation’             0           0                 0             0   \n‘Diversification’             0           0                 0             0   \n‘Low-cost specialization’     0           0                 0             0   \n\n                           Accra-Ghana  Action research system development  \\\nAKIS                                 0                                   0   \nAcceptance                           0                                   0   \nAccess to nature                     0                                   0   \nAccra, Ghana                         0                                   0   \nAccra-Ghana                          1                                   0   \n...                                ...                                 ...   \nyouth activism                       0                                   0   \nβ-carotene                           0                                   0   \n‘Differentiation’                    0                                   0   \n‘Diversification’                    0                                   0   \n‘Low-cost specialization’            0                                   0   \n\n                           Activism  Adaptation process  \\\nAKIS                              0                   0   \nAcceptance                        0                   0   \nAccess to nature                  0                   0   \nAccra, Ghana                      0                   0   \nAccra-Ghana                       0                   0   \n...                             ...                 ...   \nyouth activism                    0                   0   \nβ-carotene                        0                   0   \n‘Differentiation’                 0                   0   \n‘Diversification’                 0                   0   \n‘Low-cost specialization’         0                   0   \n\n                           Adaptation strategies  \\\nAKIS                                           0   \nAcceptance                                     0   \nAccess to nature                               0   \nAccra, Ghana                                   0   \nAccra-Ghana                                    0   \n...                                          ...   \nyouth activism                                 0   \nβ-carotene                                     0   \n‘Differentiation’                              0   \n‘Diversification’                              0   \n‘Low-cost specialization’                      0   \n\n                           Adaptive re-use of buildings  ...  \\\nAKIS                                                  0  ...   \nAcceptance                                            0  ...   \nAccess to nature                                      0  ...   \nAccra, Ghana                                          0  ...   \nAccra-Ghana                                           0  ...   \n...                                                 ...  ...   \nyouth activism                                        0  ...   \nβ-carotene                                            0  ...   \n‘Differentiation’                                     0  ...   \n‘Diversification’                                     0  ...   \n‘Low-cost specialization’                             0  ...   \n\n                           vertical farming  water  yards  yield advantage  \\\nAKIS                                      0      0      0                0   \nAcceptance                                0      0      0                0   \nAccess to nature                          0      0      0                0   \nAccra, Ghana                              0      0      0                0   \nAccra-Ghana                               0      0      0                0   \n...                                     ...    ...    ...              ...   \nyouth activism                            0      0      0                0   \nβ-carotene                                0      0      0                0   \n‘Differentiation’                         0      0      0                0   \n‘Diversification’                         0      0      0                0   \n‘Low-cost specialization’                 0      0      0                0   \n\n                           yoga  youth activism  β-carotene  \\\nAKIS                          0               0           0   \nAcceptance                    0               0           0   \nAccess to nature              0               0           0   \nAccra, Ghana                  0               0           0   \nAccra-Ghana                   0               0           0   \n...                         ...             ...         ...   \nyouth activism                0               1           0   \nβ-carotene                    0               0           1   \n‘Differentiation’             0               0           0   \n‘Diversification’             0               0           0   \n‘Low-cost specialization’     0               0           0   \n\n                           ‘Differentiation’  ‘Diversification’  \\\nAKIS                                       0                  0   \nAcceptance                                 0                  0   \nAccess to nature                           0                  0   \nAccra, Ghana                               0                  0   \nAccra-Ghana                                0                  0   \n...                                      ...                ...   \nyouth activism                             0                  0   \nβ-carotene                                 0                  0   \n‘Differentiation’                          1                  1   \n‘Diversification’                          1                  1   \n‘Low-cost specialization’                  1                  1   \n\n                           ‘Low-cost specialization’  \nAKIS                                               0  \nAcceptance                                         0  \nAccess to nature                                   0  \nAccra, Ghana                                       0  \nAccra-Ghana                                        0  \n...                                              ...  \nyouth activism                                     0  \nβ-carotene                                         0  \n‘Differentiation’                                  1  \n‘Diversification’                                  1  \n‘Low-cost specialization’                          1  \n\n[1561 rows x 1561 columns]"
         },
         "metadata": {},
         "output_type": "display_data"
        }
       ]
      }
     },
     "2af25a04bac14647a9cd91a6fb38e685": {
      "model_module": "@jupyter-widgets/base",
      "model_module_version": "1.2.0",
      "model_name": "LayoutModel",
      "state": {
       "border": "1px solid gray",
       "height": "588px",
       "width": "210px"
      }
     },
     "310c3243ca384f75b00f8e92526a4704": {
      "model_module": "@jupyter-widgets/controls",
      "model_module_version": "1.5.0",
      "model_name": "VBoxModel",
      "state": {
       "children": [
        "IPY_MODEL_8ae0f0c372e14c5a89057eba76cea357",
        "IPY_MODEL_0cc0f78fdcba45aaace08f8c5b7a8cdd"
       ],
       "layout": "IPY_MODEL_2406d634ef94424d94fe9763c722f573"
      }
     },
     "331b0a65db884f7195d3ecc980c8ab29": {
      "model_module": "@jupyter-widgets/controls",
      "model_module_version": "1.5.0",
      "model_name": "DropdownModel",
      "state": {
       "_options_labels": [
        "Greys",
        "Purples",
        "Blues",
        "Greens",
        "Oranges",
        "Reds",
        "YlOrBr",
        "YlOrRd",
        "OrRd",
        "PuRd",
        "RdPu",
        "BuPu",
        "GnBu",
        "PuBu",
        "YlGnBu",
        "PuBuGn",
        "BuGn",
        "YlGn",
        "Pastel1",
        "Pastel2",
        "Paired",
        "Accent",
        "Dark2",
        "Set1",
        "Set2",
        "Set3",
        "tab10",
        "tab20",
        "tab20b",
        "tab20c"
       ],
       "index": 0,
       "layout": "IPY_MODEL_f41db0cd82c346b580e3de69dba358fb",
       "style": "IPY_MODEL_7d09fa0cbd744c4fbb4688c10a455137"
      }
     },
     "380b89e5783f4ea3aa395a73c775e3d0": {
      "model_module": "@jupyter-widgets/controls",
      "model_module_version": "1.5.0",
      "model_name": "VBoxModel",
      "state": {
       "children": [
        "IPY_MODEL_21c65bde032c4a28aa68fd06d3a08d28",
        "IPY_MODEL_331b0a65db884f7195d3ecc980c8ab29"
       ],
       "layout": "IPY_MODEL_9bcc49c8dd6f49d59d91bb1eae6025cd"
      }
     },
     "3a0e472461294429a8940f43ac1ed099": {
      "model_module": "@jupyter-widgets/controls",
      "model_module_version": "1.5.0",
      "model_name": "DescriptionStyleModel",
      "state": {
       "description_width": ""
      }
     },
     "3deb6525019f439c896fcd1b5e624fda": {
      "model_module": "@jupyter-widgets/controls",
      "model_module_version": "1.5.0",
      "model_name": "IntSliderModel",
      "state": {
       "continuous_update": false,
       "layout": "IPY_MODEL_4293b4294df44fbbb8a1cb6a68ccad49",
       "max": 68,
       "style": "IPY_MODEL_5d59cbbb7fdc477f9854f8a72603aad0",
       "value": 18
      }
     },
     "3eb46d8768064b82808afe9790a56420": {
      "model_module": "@jupyter-widgets/controls",
      "model_module_version": "1.5.0",
      "model_name": "VBoxModel",
      "state": {
       "children": [
        "IPY_MODEL_4b7755173d8b43649885b7ed72389c02",
        "IPY_MODEL_5354078c940f4c91ae4942fc2b1cdb8d"
       ],
       "layout": "IPY_MODEL_00ebf6a7e3ab4e8a9ce0592c69f0acd8"
      }
     },
     "41caae6f890c4c18956a2b8651a0b375": {
      "model_module": "@jupyter-widgets/controls",
      "model_module_version": "1.5.0",
      "model_name": "HTMLModel",
      "state": {
       "layout": "IPY_MODEL_ea4a3e400c3944a3930b2e9557c3cf02",
       "style": "IPY_MODEL_65775a90724645c5b338153995dd4d6b",
       "value": "<h1>Co-occurrence Analysis</h1><hr style='height:2px;border-width:0;color:gray;background-color:gray'>"
      }
     },
     "4293b4294df44fbbb8a1cb6a68ccad49": {
      "model_module": "@jupyter-widgets/base",
      "model_module_version": "1.2.0",
      "model_name": "LayoutModel",
      "state": {
       "width": "200px"
      }
     },
     "43e236ebb5914acf8b89b7722924c64a": {
      "model_module": "@jupyter-widgets/base",
      "model_module_version": "1.2.0",
      "model_name": "LayoutModel",
      "state": {}
     },
     "4766b2b3e0aa4289b4d21efbf93716e4": {
      "model_module": "@jupyter-widgets/base",
      "model_module_version": "1.2.0",
      "model_name": "LayoutModel",
      "state": {
       "width": "870px"
      }
     },
     "4abfdee6b2a14e0881662bb88e7a2994": {
      "model_module": "@jupyter-widgets/base",
      "model_module_version": "1.2.0",
      "model_name": "LayoutModel",
      "state": {}
     },
     "4b701a69f3e746a480c687a9dd6c96e6": {
      "model_module": "@jupyter-widgets/controls",
      "model_module_version": "1.5.0",
      "model_name": "SelectModel",
      "state": {
       "_options_labels": [
        "Author Keywords",
        "Authors",
        "Countries",
        "Country 1st",
        "Index Keywords",
        "Keywords",
        "Source title"
       ],
       "index": 0,
       "layout": "IPY_MODEL_6b30169136bf4c4c8e67335ce01ae9be",
       "style": "IPY_MODEL_6ef711de387c45629a6bed7e89ed3b4b"
      }
     },
     "4b7755173d8b43649885b7ed72389c02": {
      "model_module": "@jupyter-widgets/controls",
      "model_module_version": "1.5.0",
      "model_name": "LabelModel",
      "state": {
       "layout": "IPY_MODEL_96d7592104ce4af1855966f955f0b3e3",
       "style": "IPY_MODEL_618204c87cac4238b71a10cc0fde2445",
       "value": "Colormap:"
      }
     },
     "4fad00d69e48411fa4e72a5514c8b4d7": {
      "model_module": "@jupyter-widgets/base",
      "model_module_version": "1.2.0",
      "model_name": "LayoutModel",
      "state": {
       "grid_area": "center"
      }
     },
     "50627bc6329b4f72883123da177a26f1": {
      "model_module": "@jupyter-widgets/base",
      "model_module_version": "1.2.0",
      "model_name": "LayoutModel",
      "state": {}
     },
     "52a6fa0008dc4613bcd656ed4696d7d6": {
      "model_module": "@jupyter-widgets/base",
      "model_module_version": "1.2.0",
      "model_name": "LayoutModel",
      "state": {}
     },
     "5354078c940f4c91ae4942fc2b1cdb8d": {
      "model_module": "@jupyter-widgets/controls",
      "model_module_version": "1.5.0",
      "model_name": "DropdownModel",
      "state": {
       "_options_labels": [
        "Greys",
        "Purples",
        "Blues",
        "Greens",
        "Oranges",
        "Reds",
        "YlOrBr",
        "YlOrRd",
        "OrRd",
        "PuRd",
        "RdPu",
        "BuPu",
        "GnBu",
        "PuBu",
        "YlGnBu",
        "PuBuGn",
        "BuGn",
        "YlGn",
        "Pastel1",
        "Pastel2",
        "Paired",
        "Accent",
        "Dark2",
        "Set1",
        "Set2",
        "Set3",
        "tab10",
        "tab20",
        "tab20b",
        "tab20c"
       ],
       "index": 0,
       "layout": "IPY_MODEL_1beda43f0e724786951eaf31027f5bb4",
       "style": "IPY_MODEL_6bc8b41b20e040fbab888de4d5d89aff"
      }
     },
     "542f37b9993d447381a4ddaa623c6f57": {
      "model_module": "@jupyter-widgets/controls",
      "model_module_version": "1.5.0",
      "model_name": "SelectModel",
      "state": {
       "_options_labels": [
        "Author Keywords",
        "Authors",
        "Countries",
        "Country 1st",
        "Index Keywords",
        "Keywords",
        "Source title"
       ],
       "index": 0,
       "layout": "IPY_MODEL_12ff1d9c903944619021310e4be6e371",
       "style": "IPY_MODEL_ee0c990704ce4e568df4c39f2f4cef9b"
      }
     },
     "5d59cbbb7fdc477f9854f8a72603aad0": {
      "model_module": "@jupyter-widgets/controls",
      "model_module_version": "1.5.0",
      "model_name": "SliderStyleModel",
      "state": {
       "description_width": ""
      }
     },
     "614ba4ea87454472adcaf6febd825a9b": {
      "model_module": "@jupyter-widgets/controls",
      "model_module_version": "1.5.0",
      "model_name": "HBoxModel",
      "state": {
       "children": [
        "IPY_MODEL_dc77059a8c4242d6bab3ce638efd31fd",
        "IPY_MODEL_d654311d152c4561bb2daaf7daa91743"
       ],
       "layout": "IPY_MODEL_1f1dc5f27d0c4bcaa8d2e1e501dd5f46"
      }
     },
     "618204c87cac4238b71a10cc0fde2445": {
      "model_module": "@jupyter-widgets/controls",
      "model_module_version": "1.5.0",
      "model_name": "DescriptionStyleModel",
      "state": {
       "description_width": ""
      }
     },
     "634f0e31b01c4d86bb5a6ee467491abc": {
      "model_module": "@jupyter-widgets/base",
      "model_module_version": "1.2.0",
      "model_name": "LayoutModel",
      "state": {
       "border": "1px solid gray",
       "height": "588px",
       "width": "210px"
      }
     },
     "65775a90724645c5b338153995dd4d6b": {
      "model_module": "@jupyter-widgets/controls",
      "model_module_version": "1.5.0",
      "model_name": "DescriptionStyleModel",
      "state": {
       "description_width": ""
      }
     },
     "6b30169136bf4c4c8e67335ce01ae9be": {
      "model_module": "@jupyter-widgets/base",
      "model_module_version": "1.2.0",
      "model_name": "LayoutModel",
      "state": {
       "width": "200px"
      }
     },
     "6bc8b41b20e040fbab888de4d5d89aff": {
      "model_module": "@jupyter-widgets/controls",
      "model_module_version": "1.5.0",
      "model_name": "DescriptionStyleModel",
      "state": {
       "description_width": ""
      }
     },
     "6c0dd7d1d5144f84a22c03f16e8cc2ed": {
      "model_module": "@jupyter-widgets/base",
      "model_module_version": "1.2.0",
      "model_name": "LayoutModel",
      "state": {}
     },
     "6db1eb2064094dc09e409dadcf94017f": {
      "model_module": "@jupyter-widgets/controls",
      "model_module_version": "1.5.0",
      "model_name": "LabelModel",
      "state": {
       "layout": "IPY_MODEL_4abfdee6b2a14e0881662bb88e7a2994",
       "style": "IPY_MODEL_7af31dcf521544198ce42ba909b6d4de",
       "value": "Term to analyze:"
      }
     },
     "6ef711de387c45629a6bed7e89ed3b4b": {
      "model_module": "@jupyter-widgets/controls",
      "model_module_version": "1.5.0",
      "model_name": "DescriptionStyleModel",
      "state": {
       "description_width": ""
      }
     },
     "713b0614e1d640e19000eeb3306be8ba": {
      "model_module": "@jupyter-widgets/controls",
      "model_module_version": "1.5.0",
      "model_name": "VBoxModel",
      "state": {
       "children": [
        "IPY_MODEL_f9d6eb3291d34649a012ce11d216c17b",
        "IPY_MODEL_3deb6525019f439c896fcd1b5e624fda"
       ],
       "layout": "IPY_MODEL_2849a3c0f7f949158504cb7d15f98b85"
      }
     },
     "720fa0ba7b464aca8f3f4e44db514599": {
      "model_module": "@jupyter-widgets/base",
      "model_module_version": "1.2.0",
      "model_name": "LayoutModel",
      "state": {}
     },
     "75b63a10c033421fa4ba1a7f71e76016": {
      "model_module": "@jupyter-widgets/base",
      "model_module_version": "1.2.0",
      "model_name": "LayoutModel",
      "state": {}
     },
     "772773062f0d41c68419adbfa790b9a2": {
      "model_module": "@jupyter-widgets/controls",
      "model_module_version": "1.5.0",
      "model_name": "HTMLModel",
      "state": {
       "layout": "IPY_MODEL_04a8901b668444bbb6222894b3b75d6e",
       "style": "IPY_MODEL_e4f1408e5b3d485f89de03ea70662032",
       "value": "<h1>Co-occurrence Analysis</h1><hr style='height:2px;border-width:0;color:gray;background-color:gray'>"
      }
     },
     "7a80627193504adb9f177b666bd84596": {
      "model_module": "@jupyter-widgets/controls",
      "model_module_version": "1.5.0",
      "model_name": "VBoxModel",
      "state": {
       "children": [
        "IPY_MODEL_28bfcc1187ed42edb0f34dbfeddf5afd",
        "IPY_MODEL_4b701a69f3e746a480c687a9dd6c96e6"
       ],
       "layout": "IPY_MODEL_24d1547998274b229ac366797c3adecc"
      }
     },
     "7af31dcf521544198ce42ba909b6d4de": {
      "model_module": "@jupyter-widgets/controls",
      "model_module_version": "1.5.0",
      "model_name": "DescriptionStyleModel",
      "state": {
       "description_width": ""
      }
     },
     "7d09fa0cbd744c4fbb4688c10a455137": {
      "model_module": "@jupyter-widgets/controls",
      "model_module_version": "1.5.0",
      "model_name": "DescriptionStyleModel",
      "state": {
       "description_width": ""
      }
     },
     "832c0bcd0d1a469ea39537bf36742a62": {
      "model_module": "@jupyter-widgets/base",
      "model_module_version": "1.2.0",
      "model_name": "LayoutModel",
      "state": {
       "grid_template_areas": "\"header header header\"\n\"center center center\"",
       "grid_template_columns": "1fr 2fr 1fr",
       "grid_template_rows": "80px 650px"
      }
     },
     "8537f83804be4c6fac5ca3cbd14b1108": {
      "model_module": "@jupyter-widgets/controls",
      "model_module_version": "1.5.0",
      "model_name": "IntSliderModel",
      "state": {
       "continuous_update": false,
       "layout": "IPY_MODEL_f3aaaaa6e79e431b87a04d9d4baea430",
       "max": 50,
       "style": "IPY_MODEL_a4138d78059b44a4bfdbab8957f00980"
      }
     },
     "8ae0f0c372e14c5a89057eba76cea357": {
      "model_module": "@jupyter-widgets/controls",
      "model_module_version": "1.5.0",
      "model_name": "LabelModel",
      "state": {
       "layout": "IPY_MODEL_a3b9de33dd284a9395ef99e0d665a315",
       "style": "IPY_MODEL_f44f4c02992249caa205f204881fc34b",
       "value": "By:"
      }
     },
     "8e57f44fc5a949ca92a4c4cf084ba4a9": {
      "model_module": "@jupyter-widgets/controls",
      "model_module_version": "1.5.0",
      "model_name": "DescriptionStyleModel",
      "state": {
       "description_width": ""
      }
     },
     "91d5f10182354cce9bc976c81f087944": {
      "model_module": "@jupyter-widgets/output",
      "model_module_version": "1.0.0",
      "model_name": "OutputModel",
      "state": {
       "layout": "IPY_MODEL_6c0dd7d1d5144f84a22c03f16e8cc2ed",
       "outputs": [
        {
         "ename": "UnboundLocalError",
         "evalue": "local variable 'sort' referenced before assignment",
         "output_type": "error",
         "traceback": [
          "\u001b[0;31m---------------------------------------------------------------------------\u001b[0m",
          "\u001b[0;31mUnboundLocalError\u001b[0m                         Traceback (most recent call last)",
          "\u001b[0;32m/usr/local/lib/python3.6/dist-packages/ipywidgets/widgets/interaction.py\u001b[0m in \u001b[0;36mobserver\u001b[0;34m(change)\u001b[0m\n\u001b[1;32m     77\u001b[0m         \u001b[0;32mwith\u001b[0m \u001b[0mout\u001b[0m\u001b[0;34m:\u001b[0m\u001b[0;34m\u001b[0m\u001b[0;34m\u001b[0m\u001b[0m\n\u001b[1;32m     78\u001b[0m             \u001b[0mclear_output\u001b[0m\u001b[0;34m(\u001b[0m\u001b[0mwait\u001b[0m\u001b[0;34m=\u001b[0m\u001b[0;32mTrue\u001b[0m\u001b[0;34m)\u001b[0m\u001b[0;34m\u001b[0m\u001b[0;34m\u001b[0m\u001b[0m\n\u001b[0;32m---> 79\u001b[0;31m             \u001b[0mf\u001b[0m\u001b[0;34m(\u001b[0m\u001b[0;34m**\u001b[0m\u001b[0mkwargs\u001b[0m\u001b[0;34m)\u001b[0m\u001b[0;34m\u001b[0m\u001b[0;34m\u001b[0m\u001b[0m\n\u001b[0m\u001b[1;32m     80\u001b[0m             \u001b[0mshow_inline_matplotlib_plots\u001b[0m\u001b[0;34m(\u001b[0m\u001b[0;34m)\u001b[0m\u001b[0;34m\u001b[0m\u001b[0;34m\u001b[0m\u001b[0m\n\u001b[1;32m     81\u001b[0m     \u001b[0;32mfor\u001b[0m \u001b[0mk\u001b[0m\u001b[0;34m,\u001b[0m\u001b[0mw\u001b[0m \u001b[0;32min\u001b[0m \u001b[0mcontrols\u001b[0m\u001b[0;34m.\u001b[0m\u001b[0mitems\u001b[0m\u001b[0;34m(\u001b[0m\u001b[0;34m)\u001b[0m\u001b[0;34m:\u001b[0m\u001b[0;34m\u001b[0m\u001b[0;34m\u001b[0m\u001b[0m\n",
          "\u001b[0;32m<ipython-input-5-9f67de7233ba>\u001b[0m in \u001b[0;36mcompute\u001b[0;34m(column, by, min_value, cmap)\u001b[0m\n\u001b[1;32m      5\u001b[0m         \u001b[0;32mdef\u001b[0m \u001b[0mcompute\u001b[0m\u001b[0;34m(\u001b[0m\u001b[0mcolumn\u001b[0m\u001b[0;34m,\u001b[0m \u001b[0mby\u001b[0m\u001b[0;34m,\u001b[0m \u001b[0mmin_value\u001b[0m\u001b[0;34m,\u001b[0m \u001b[0mcmap\u001b[0m\u001b[0;34m)\u001b[0m\u001b[0;34m:\u001b[0m\u001b[0;34m\u001b[0m\u001b[0;34m\u001b[0m\u001b[0m\n\u001b[1;32m      6\u001b[0m             \u001b[0;31m#\u001b[0m\u001b[0;34m\u001b[0m\u001b[0;34m\u001b[0m\u001b[0;34m\u001b[0m\u001b[0m\n\u001b[0;32m----> 7\u001b[0;31m             \u001b[0msort\u001b[0m \u001b[0;34m=\u001b[0m \u001b[0msort\u001b[0m\u001b[0;34m.\u001b[0m\u001b[0mlower\u001b[0m\u001b[0;34m(\u001b[0m\u001b[0;34m)\u001b[0m\u001b[0;34m\u001b[0m\u001b[0;34m\u001b[0m\u001b[0m\n\u001b[0m\u001b[1;32m      8\u001b[0m             \u001b[0mascending\u001b[0m \u001b[0;34m=\u001b[0m \u001b[0;32mTrue\u001b[0m \u001b[0;32mif\u001b[0m \u001b[0mascending\u001b[0m \u001b[0;34m==\u001b[0m \u001b[0;34m'True'\u001b[0m \u001b[0;32melse\u001b[0m \u001b[0;32mFalse\u001b[0m\u001b[0;34m\u001b[0m\u001b[0;34m\u001b[0m\u001b[0m\n\u001b[1;32m      9\u001b[0m             \u001b[0;31m#\u001b[0m\u001b[0;34m\u001b[0m\u001b[0;34m\u001b[0m\u001b[0;34m\u001b[0m\u001b[0m\n",
          "\u001b[0;31mUnboundLocalError\u001b[0m: local variable 'sort' referenced before assignment"
         ]
        }
       ]
      }
     },
     "96d7592104ce4af1855966f955f0b3e3": {
      "model_module": "@jupyter-widgets/base",
      "model_module_version": "1.2.0",
      "model_name": "LayoutModel",
      "state": {}
     },
     "9996db07829c45c59548ba9928a4a677": {
      "model_module": "@jupyter-widgets/controls",
      "model_module_version": "1.5.0",
      "model_name": "HBoxModel",
      "state": {
       "children": [
        "IPY_MODEL_0c8ab3806c934dc7aebc1677412feb4f",
        "IPY_MODEL_d2b212612fa649e5b057f8a3788a88f6"
       ],
       "layout": "IPY_MODEL_52a6fa0008dc4613bcd656ed4696d7d6"
      }
     },
     "9b2e07ba6d8b4f4c9073b3a3afdd6ad7": {
      "model_module": "@jupyter-widgets/base",
      "model_module_version": "1.2.0",
      "model_name": "LayoutModel",
      "state": {}
     },
     "9bb4d02ce64e41ca9f06bb66e325d64a": {
      "model_module": "@jupyter-widgets/base",
      "model_module_version": "1.2.0",
      "model_name": "LayoutModel",
      "state": {
       "width": "200px"
      }
     },
     "9bcc49c8dd6f49d59d91bb1eae6025cd": {
      "model_module": "@jupyter-widgets/base",
      "model_module_version": "1.2.0",
      "model_name": "LayoutModel",
      "state": {}
     },
     "9ed85ee2b681409eb8db69e1213f1e34": {
      "model_module": "@jupyter-widgets/controls",
      "model_module_version": "1.5.0",
      "model_name": "VBoxModel",
      "state": {
       "children": [
        "IPY_MODEL_09b961a4e9c04091be6578f674833e59",
        "IPY_MODEL_d3ec7cb3e9d64a1ea4cc0704e51475f7"
       ],
       "layout": "IPY_MODEL_720fa0ba7b464aca8f3f4e44db514599"
      }
     },
     "a1c11b074387428db258b2d5f0aeedb0": {
      "model_module": "@jupyter-widgets/base",
      "model_module_version": "1.2.0",
      "model_name": "LayoutModel",
      "state": {
       "width": "200px"
      }
     },
     "a3b9de33dd284a9395ef99e0d665a315": {
      "model_module": "@jupyter-widgets/base",
      "model_module_version": "1.2.0",
      "model_name": "LayoutModel",
      "state": {}
     },
     "a412426a8e3046808aa7d765d4407483": {
      "model_module": "@jupyter-widgets/controls",
      "model_module_version": "1.5.0",
      "model_name": "DescriptionStyleModel",
      "state": {
       "description_width": ""
      }
     },
     "a4138d78059b44a4bfdbab8957f00980": {
      "model_module": "@jupyter-widgets/controls",
      "model_module_version": "1.5.0",
      "model_name": "SliderStyleModel",
      "state": {
       "description_width": ""
      }
     },
     "a51a966f237f496cb3706cd7b54d27db": {
      "model_module": "@jupyter-widgets/controls",
      "model_module_version": "1.5.0",
      "model_name": "GridBoxModel",
      "state": {
       "children": [
        "IPY_MODEL_41caae6f890c4c18956a2b8651a0b375",
        "IPY_MODEL_e0524949ff9440dea73ddc0575a25b3a"
       ],
       "layout": "IPY_MODEL_832c0bcd0d1a469ea39537bf36742a62"
      }
     },
     "a9416906de3f4deba6adfe883f6f11c8": {
      "model_module": "@jupyter-widgets/base",
      "model_module_version": "1.2.0",
      "model_name": "LayoutModel",
      "state": {}
     },
     "aef366adf4084ac4bedb23b4b551464c": {
      "model_module": "@jupyter-widgets/controls",
      "model_module_version": "1.5.0",
      "model_name": "DescriptionStyleModel",
      "state": {
       "description_width": ""
      }
     },
     "b3d437de0fc646a2a5c6a7f102e86ed5": {
      "model_module": "@jupyter-widgets/base",
      "model_module_version": "1.2.0",
      "model_name": "LayoutModel",
      "state": {
       "width": "870px"
      }
     },
     "bacb1a0f159840318ce95ba6d3636d6a": {
      "model_module": "@jupyter-widgets/base",
      "model_module_version": "1.2.0",
      "model_name": "LayoutModel",
      "state": {}
     },
     "ce3f99f19fc341eeaeb05d758511e187": {
      "model_module": "@jupyter-widgets/output",
      "model_module_version": "1.0.0",
      "model_name": "OutputModel",
      "state": {
       "layout": "IPY_MODEL_43e236ebb5914acf8b89b7722924c64a",
       "outputs": [
        {
         "data": {
          "text/html": "<style  type=\"text/css\" >\n    #T_572449c2_a541_11ea_94f6_0242ac110002row0_col0 {\n            background-color:  #000000;\n            color:  #f1f1f1;\n        }    #T_572449c2_a541_11ea_94f6_0242ac110002row0_col1 {\n            background-color:  #f9f9f9;\n            color:  #000000;\n        }    #T_572449c2_a541_11ea_94f6_0242ac110002row0_col2 {\n            background-color:  #f3f3f3;\n            color:  #000000;\n        }    #T_572449c2_a541_11ea_94f6_0242ac110002row0_col3 {\n            background-color:  #f9f9f9;\n            color:  #000000;\n        }    #T_572449c2_a541_11ea_94f6_0242ac110002row0_col4 {\n            background-color:  #fcfcfc;\n            color:  #000000;\n        }    #T_572449c2_a541_11ea_94f6_0242ac110002row0_col5 {\n            background-color:  #ffffff;\n            color:  #000000;\n        }    #T_572449c2_a541_11ea_94f6_0242ac110002row0_col6 {\n            background-color:  #ffffff;\n            color:  #000000;\n        }    #T_572449c2_a541_11ea_94f6_0242ac110002row1_col0 {\n            background-color:  #f8f8f8;\n            color:  #000000;\n        }    #T_572449c2_a541_11ea_94f6_0242ac110002row1_col1 {\n            background-color:  #000000;\n            color:  #f1f1f1;\n        }    #T_572449c2_a541_11ea_94f6_0242ac110002row1_col2 {\n            background-color:  #f8f8f8;\n            color:  #000000;\n        }    #T_572449c2_a541_11ea_94f6_0242ac110002row1_col3 {\n            background-color:  #f3f3f3;\n            color:  #000000;\n        }    #T_572449c2_a541_11ea_94f6_0242ac110002row1_col4 {\n            background-color:  #f7f7f7;\n            color:  #000000;\n        }    #T_572449c2_a541_11ea_94f6_0242ac110002row1_col5 {\n            background-color:  #ffffff;\n            color:  #000000;\n        }    #T_572449c2_a541_11ea_94f6_0242ac110002row1_col6 {\n            background-color:  #ffffff;\n            color:  #000000;\n        }    #T_572449c2_a541_11ea_94f6_0242ac110002row2_col0 {\n            background-color:  #b9b9b9;\n            color:  #000000;\n        }    #T_572449c2_a541_11ea_94f6_0242ac110002row2_col1 {\n            background-color:  #e4e4e4;\n            color:  #000000;\n        }    #T_572449c2_a541_11ea_94f6_0242ac110002row2_col2 {\n            background-color:  #000000;\n            color:  #f1f1f1;\n        }    #T_572449c2_a541_11ea_94f6_0242ac110002row2_col3 {\n            background-color:  #eeeeee;\n            color:  #000000;\n        }    #T_572449c2_a541_11ea_94f6_0242ac110002row2_col4 {\n            background-color:  #ededed;\n            color:  #000000;\n        }    #T_572449c2_a541_11ea_94f6_0242ac110002row2_col5 {\n            background-color:  #ffffff;\n            color:  #000000;\n        }    #T_572449c2_a541_11ea_94f6_0242ac110002row2_col6 {\n            background-color:  #fafafa;\n            color:  #000000;\n        }    #T_572449c2_a541_11ea_94f6_0242ac110002row3_col0 {\n            background-color:  #e9e9e9;\n            color:  #000000;\n        }    #T_572449c2_a541_11ea_94f6_0242ac110002row3_col1 {\n            background-color:  #d1d1d1;\n            color:  #000000;\n        }    #T_572449c2_a541_11ea_94f6_0242ac110002row3_col2 {\n            background-color:  #f1f1f1;\n            color:  #000000;\n        }    #T_572449c2_a541_11ea_94f6_0242ac110002row3_col3 {\n            background-color:  #000000;\n            color:  #f1f1f1;\n        }    #T_572449c2_a541_11ea_94f6_0242ac110002row3_col4 {\n            background-color:  #fcfcfc;\n            color:  #000000;\n        }    #T_572449c2_a541_11ea_94f6_0242ac110002row3_col5 {\n            background-color:  #ffffff;\n            color:  #000000;\n        }    #T_572449c2_a541_11ea_94f6_0242ac110002row3_col6 {\n            background-color:  #ffffff;\n            color:  #000000;\n        }    #T_572449c2_a541_11ea_94f6_0242ac110002row4_col0 {\n            background-color:  #f8f8f8;\n            color:  #000000;\n        }    #T_572449c2_a541_11ea_94f6_0242ac110002row4_col1 {\n            background-color:  #ededed;\n            color:  #000000;\n        }    #T_572449c2_a541_11ea_94f6_0242ac110002row4_col2 {\n            background-color:  #f5f5f5;\n            color:  #000000;\n        }    #T_572449c2_a541_11ea_94f6_0242ac110002row4_col3 {\n            background-color:  #fdfdfd;\n            color:  #000000;\n        }    #T_572449c2_a541_11ea_94f6_0242ac110002row4_col4 {\n            background-color:  #000000;\n            color:  #f1f1f1;\n        }    #T_572449c2_a541_11ea_94f6_0242ac110002row4_col5 {\n            background-color:  #ffffff;\n            color:  #000000;\n        }    #T_572449c2_a541_11ea_94f6_0242ac110002row4_col6 {\n            background-color:  #ffffff;\n            color:  #000000;\n        }    #T_572449c2_a541_11ea_94f6_0242ac110002row5_col0 {\n            background-color:  #ffffff;\n            color:  #000000;\n        }    #T_572449c2_a541_11ea_94f6_0242ac110002row5_col1 {\n            background-color:  #ffffff;\n            color:  #000000;\n        }    #T_572449c2_a541_11ea_94f6_0242ac110002row5_col2 {\n            background-color:  #ffffff;\n            color:  #000000;\n        }    #T_572449c2_a541_11ea_94f6_0242ac110002row5_col3 {\n            background-color:  #ffffff;\n            color:  #000000;\n        }    #T_572449c2_a541_11ea_94f6_0242ac110002row5_col4 {\n            background-color:  #ffffff;\n            color:  #000000;\n        }    #T_572449c2_a541_11ea_94f6_0242ac110002row5_col5 {\n            background-color:  #000000;\n            color:  #f1f1f1;\n        }    #T_572449c2_a541_11ea_94f6_0242ac110002row5_col6 {\n            background-color:  #e2e2e2;\n            color:  #000000;\n        }    #T_572449c2_a541_11ea_94f6_0242ac110002row6_col0 {\n            background-color:  #ffffff;\n            color:  #000000;\n        }    #T_572449c2_a541_11ea_94f6_0242ac110002row6_col1 {\n            background-color:  #ffffff;\n            color:  #000000;\n        }    #T_572449c2_a541_11ea_94f6_0242ac110002row6_col2 {\n            background-color:  #fefefe;\n            color:  #000000;\n        }    #T_572449c2_a541_11ea_94f6_0242ac110002row6_col3 {\n            background-color:  #ffffff;\n            color:  #000000;\n        }    #T_572449c2_a541_11ea_94f6_0242ac110002row6_col4 {\n            background-color:  #ffffff;\n            color:  #000000;\n        }    #T_572449c2_a541_11ea_94f6_0242ac110002row6_col5 {\n            background-color:  #d6d6d6;\n            color:  #000000;\n        }    #T_572449c2_a541_11ea_94f6_0242ac110002row6_col6 {\n            background-color:  #000000;\n            color:  #f1f1f1;\n        }</style><table id=\"T_572449c2_a541_11ea_94f6_0242ac110002\" ><thead>    <tr>        <th class=\"blank level0\" ></th>        <th class=\"col_heading level0 col0\" >Food security</th>        <th class=\"col_heading level0 col1\" >Sustainability</th>        <th class=\"col_heading level0 col2\" >Urban agriculture</th>        <th class=\"col_heading level0 col3\" >Urban farming</th>        <th class=\"col_heading level0 col4\" >Urban gardening</th>        <th class=\"col_heading level0 col5\" >urban agriculture</th>        <th class=\"col_heading level0 col6\" >urban farming</th>    </tr></thead><tbody>\n                <tr>\n                        <th id=\"T_572449c2_a541_11ea_94f6_0242ac110002level0_row0\" class=\"row_heading level0 row0\" >Food security</th>\n                        <td id=\"T_572449c2_a541_11ea_94f6_0242ac110002row0_col0\" class=\"data row0 col0\" >18</td>\n                        <td id=\"T_572449c2_a541_11ea_94f6_0242ac110002row0_col1\" class=\"data row0 col1\" >1</td>\n                        <td id=\"T_572449c2_a541_11ea_94f6_0242ac110002row0_col2\" class=\"data row0 col2\" >7</td>\n                        <td id=\"T_572449c2_a541_11ea_94f6_0242ac110002row0_col3\" class=\"data row0 col3\" >3</td>\n                        <td id=\"T_572449c2_a541_11ea_94f6_0242ac110002row0_col4\" class=\"data row0 col4\" >1</td>\n                        <td id=\"T_572449c2_a541_11ea_94f6_0242ac110002row0_col5\" class=\"data row0 col5\" >0</td>\n                        <td id=\"T_572449c2_a541_11ea_94f6_0242ac110002row0_col6\" class=\"data row0 col6\" >0</td>\n            </tr>\n            <tr>\n                        <th id=\"T_572449c2_a541_11ea_94f6_0242ac110002level0_row1\" class=\"row_heading level0 row1\" >Sustainability</th>\n                        <td id=\"T_572449c2_a541_11ea_94f6_0242ac110002row1_col0\" class=\"data row1 col0\" >1</td>\n                        <td id=\"T_572449c2_a541_11ea_94f6_0242ac110002row1_col1\" class=\"data row1 col1\" >21</td>\n                        <td id=\"T_572449c2_a541_11ea_94f6_0242ac110002row1_col2\" class=\"data row1 col2\" >4</td>\n                        <td id=\"T_572449c2_a541_11ea_94f6_0242ac110002row1_col3\" class=\"data row1 col3\" >6</td>\n                        <td id=\"T_572449c2_a541_11ea_94f6_0242ac110002row1_col4\" class=\"data row1 col4\" >3</td>\n                        <td id=\"T_572449c2_a541_11ea_94f6_0242ac110002row1_col5\" class=\"data row1 col5\" >0</td>\n                        <td id=\"T_572449c2_a541_11ea_94f6_0242ac110002row1_col6\" class=\"data row1 col6\" >0</td>\n            </tr>\n            <tr>\n                        <th id=\"T_572449c2_a541_11ea_94f6_0242ac110002level0_row2\" class=\"row_heading level0 row2\" >Urban agriculture</th>\n                        <td id=\"T_572449c2_a541_11ea_94f6_0242ac110002row2_col0\" class=\"data row2 col0\" >7</td>\n                        <td id=\"T_572449c2_a541_11ea_94f6_0242ac110002row2_col1\" class=\"data row2 col1\" >4</td>\n                        <td id=\"T_572449c2_a541_11ea_94f6_0242ac110002row2_col2\" class=\"data row2 col2\" >68</td>\n                        <td id=\"T_572449c2_a541_11ea_94f6_0242ac110002row2_col3\" class=\"data row2 col3\" >8</td>\n                        <td id=\"T_572449c2_a541_11ea_94f6_0242ac110002row2_col4\" class=\"data row2 col4\" >6</td>\n                        <td id=\"T_572449c2_a541_11ea_94f6_0242ac110002row2_col5\" class=\"data row2 col5\" >0</td>\n                        <td id=\"T_572449c2_a541_11ea_94f6_0242ac110002row2_col6\" class=\"data row2 col6\" >1</td>\n            </tr>\n            <tr>\n                        <th id=\"T_572449c2_a541_11ea_94f6_0242ac110002level0_row3\" class=\"row_heading level0 row3\" >Urban farming</th>\n                        <td id=\"T_572449c2_a541_11ea_94f6_0242ac110002row3_col0\" class=\"data row3 col0\" >3</td>\n                        <td id=\"T_572449c2_a541_11ea_94f6_0242ac110002row3_col1\" class=\"data row3 col1\" >6</td>\n                        <td id=\"T_572449c2_a541_11ea_94f6_0242ac110002row3_col2\" class=\"data row3 col2\" >8</td>\n                        <td id=\"T_572449c2_a541_11ea_94f6_0242ac110002row3_col3\" class=\"data row3 col3\" >59</td>\n                        <td id=\"T_572449c2_a541_11ea_94f6_0242ac110002row3_col4\" class=\"data row3 col4\" >1</td>\n                        <td id=\"T_572449c2_a541_11ea_94f6_0242ac110002row3_col5\" class=\"data row3 col5\" >0</td>\n                        <td id=\"T_572449c2_a541_11ea_94f6_0242ac110002row3_col6\" class=\"data row3 col6\" >0</td>\n            </tr>\n            <tr>\n                        <th id=\"T_572449c2_a541_11ea_94f6_0242ac110002level0_row4\" class=\"row_heading level0 row4\" >Urban gardening</th>\n                        <td id=\"T_572449c2_a541_11ea_94f6_0242ac110002row4_col0\" class=\"data row4 col0\" >1</td>\n                        <td id=\"T_572449c2_a541_11ea_94f6_0242ac110002row4_col1\" class=\"data row4 col1\" >3</td>\n                        <td id=\"T_572449c2_a541_11ea_94f6_0242ac110002row4_col2\" class=\"data row4 col2\" >6</td>\n                        <td id=\"T_572449c2_a541_11ea_94f6_0242ac110002row4_col3\" class=\"data row4 col3\" >1</td>\n                        <td id=\"T_572449c2_a541_11ea_94f6_0242ac110002row4_col4\" class=\"data row4 col4\" >42</td>\n                        <td id=\"T_572449c2_a541_11ea_94f6_0242ac110002row4_col5\" class=\"data row4 col5\" >0</td>\n                        <td id=\"T_572449c2_a541_11ea_94f6_0242ac110002row4_col6\" class=\"data row4 col6\" >0</td>\n            </tr>\n            <tr>\n                        <th id=\"T_572449c2_a541_11ea_94f6_0242ac110002level0_row5\" class=\"row_heading level0 row5\" >urban agriculture</th>\n                        <td id=\"T_572449c2_a541_11ea_94f6_0242ac110002row5_col0\" class=\"data row5 col0\" >0</td>\n                        <td id=\"T_572449c2_a541_11ea_94f6_0242ac110002row5_col1\" class=\"data row5 col1\" >0</td>\n                        <td id=\"T_572449c2_a541_11ea_94f6_0242ac110002row5_col2\" class=\"data row5 col2\" >0</td>\n                        <td id=\"T_572449c2_a541_11ea_94f6_0242ac110002row5_col3\" class=\"data row5 col3\" >0</td>\n                        <td id=\"T_572449c2_a541_11ea_94f6_0242ac110002row5_col4\" class=\"data row5 col4\" >0</td>\n                        <td id=\"T_572449c2_a541_11ea_94f6_0242ac110002row5_col5\" class=\"data row5 col5\" >19</td>\n                        <td id=\"T_572449c2_a541_11ea_94f6_0242ac110002row5_col6\" class=\"data row5 col6\" >5</td>\n            </tr>\n            <tr>\n                        <th id=\"T_572449c2_a541_11ea_94f6_0242ac110002level0_row6\" class=\"row_heading level0 row6\" >urban farming</th>\n                        <td id=\"T_572449c2_a541_11ea_94f6_0242ac110002row6_col0\" class=\"data row6 col0\" >0</td>\n                        <td id=\"T_572449c2_a541_11ea_94f6_0242ac110002row6_col1\" class=\"data row6 col1\" >0</td>\n                        <td id=\"T_572449c2_a541_11ea_94f6_0242ac110002row6_col2\" class=\"data row6 col2\" >1</td>\n                        <td id=\"T_572449c2_a541_11ea_94f6_0242ac110002row6_col3\" class=\"data row6 col3\" >0</td>\n                        <td id=\"T_572449c2_a541_11ea_94f6_0242ac110002row6_col4\" class=\"data row6 col4\" >0</td>\n                        <td id=\"T_572449c2_a541_11ea_94f6_0242ac110002row6_col5\" class=\"data row6 col5\" >5</td>\n                        <td id=\"T_572449c2_a541_11ea_94f6_0242ac110002row6_col6\" class=\"data row6 col6\" >25</td>\n            </tr>\n    </tbody></table>",
          "text/plain": "<pandas.io.formats.style.Styler at 0x7f65494e00b8>"
         },
         "metadata": {},
         "output_type": "display_data"
        }
       ]
      }
     },
     "d2b212612fa649e5b057f8a3788a88f6": {
      "model_module": "@jupyter-widgets/controls",
      "model_module_version": "1.5.0",
      "model_name": "VBoxModel",
      "state": {
       "children": [
        "IPY_MODEL_ce3f99f19fc341eeaeb05d758511e187"
       ],
       "layout": "IPY_MODEL_b3d437de0fc646a2a5c6a7f102e86ed5"
      }
     },
     "d3ec7cb3e9d64a1ea4cc0704e51475f7": {
      "model_module": "@jupyter-widgets/controls",
      "model_module_version": "1.5.0",
      "model_name": "SelectModel",
      "state": {
       "_options_labels": [
        "Author Keywords",
        "Authors",
        "Countries",
        "Country 1st",
        "Index Keywords",
        "Keywords",
        "Source title"
       ],
       "index": 0,
       "layout": "IPY_MODEL_a1c11b074387428db258b2d5f0aeedb0",
       "style": "IPY_MODEL_eddc522f40064389be1799625e0bb196"
      }
     },
     "d654311d152c4561bb2daaf7daa91743": {
      "model_module": "@jupyter-widgets/controls",
      "model_module_version": "1.5.0",
      "model_name": "VBoxModel",
      "state": {
       "children": [
        "IPY_MODEL_1efbf2dc2ac34923b28e45ddfcc7eb63"
       ],
       "layout": "IPY_MODEL_4766b2b3e0aa4289b4d21efbf93716e4"
      }
     },
     "dc4f092033cb4e5c92ed77a9a9b7fc0a": {
      "model_module": "@jupyter-widgets/controls",
      "model_module_version": "1.5.0",
      "model_name": "DescriptionStyleModel",
      "state": {
       "description_width": ""
      }
     },
     "dc77059a8c4242d6bab3ce638efd31fd": {
      "model_module": "@jupyter-widgets/controls",
      "model_module_version": "1.5.0",
      "model_name": "VBoxModel",
      "state": {
       "children": [
        "IPY_MODEL_e72143b7dc234c0fbb6dbb2b3bc71430",
        "IPY_MODEL_310c3243ca384f75b00f8e92526a4704",
        "IPY_MODEL_3eb46d8768064b82808afe9790a56420",
        "IPY_MODEL_15dcab76fe3b4d36bb5dc1bc840142f1"
       ],
       "layout": "IPY_MODEL_634f0e31b01c4d86bb5a6ee467491abc"
      }
     },
     "e0524949ff9440dea73ddc0575a25b3a": {
      "model_module": "@jupyter-widgets/controls",
      "model_module_version": "1.5.0",
      "model_name": "TabModel",
      "state": {
       "_titles": {
        "0": "Matrix"
       },
       "children": [
        "IPY_MODEL_9996db07829c45c59548ba9928a4a677"
       ],
       "layout": "IPY_MODEL_4fad00d69e48411fa4e72a5514c8b4d7"
      }
     },
     "e4f1408e5b3d485f89de03ea70662032": {
      "model_module": "@jupyter-widgets/controls",
      "model_module_version": "1.5.0",
      "model_name": "DescriptionStyleModel",
      "state": {
       "description_width": ""
      }
     },
     "e72143b7dc234c0fbb6dbb2b3bc71430": {
      "model_module": "@jupyter-widgets/controls",
      "model_module_version": "1.5.0",
      "model_name": "VBoxModel",
      "state": {
       "children": [
        "IPY_MODEL_6db1eb2064094dc09e409dadcf94017f",
        "IPY_MODEL_542f37b9993d447381a4ddaa623c6f57"
       ],
       "layout": "IPY_MODEL_1b540f84b29e4a6f8ba5c60945d44c3a"
      }
     },
     "ea4a3e400c3944a3930b2e9557c3cf02": {
      "model_module": "@jupyter-widgets/base",
      "model_module_version": "1.2.0",
      "model_name": "LayoutModel",
      "state": {
       "grid_area": "header"
      }
     },
     "eddc522f40064389be1799625e0bb196": {
      "model_module": "@jupyter-widgets/controls",
      "model_module_version": "1.5.0",
      "model_name": "DescriptionStyleModel",
      "state": {
       "description_width": ""
      }
     },
     "ee0c990704ce4e568df4c39f2f4cef9b": {
      "model_module": "@jupyter-widgets/controls",
      "model_module_version": "1.5.0",
      "model_name": "DescriptionStyleModel",
      "state": {
       "description_width": ""
      }
     },
     "f3aaaaa6e79e431b87a04d9d4baea430": {
      "model_module": "@jupyter-widgets/base",
      "model_module_version": "1.2.0",
      "model_name": "LayoutModel",
      "state": {
       "width": "200px"
      }
     },
     "f41db0cd82c346b580e3de69dba358fb": {
      "model_module": "@jupyter-widgets/base",
      "model_module_version": "1.2.0",
      "model_name": "LayoutModel",
      "state": {
       "width": "200px"
      }
     },
     "f44f4c02992249caa205f204881fc34b": {
      "model_module": "@jupyter-widgets/controls",
      "model_module_version": "1.5.0",
      "model_name": "DescriptionStyleModel",
      "state": {
       "description_width": ""
      }
     },
     "f9d6eb3291d34649a012ce11d216c17b": {
      "model_module": "@jupyter-widgets/controls",
      "model_module_version": "1.5.0",
      "model_name": "LabelModel",
      "state": {
       "layout": "IPY_MODEL_0994835bd19b449bbd419cb6122cde6b",
       "style": "IPY_MODEL_aef366adf4084ac4bedb23b4b551464c",
       "value": "Min value:"
      }
     }
    },
    "version_major": 2,
    "version_minor": 0
   }
  }
 },
 "nbformat": 4,
 "nbformat_minor": 4
}
