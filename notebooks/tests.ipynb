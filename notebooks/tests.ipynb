{
 "cells": [
  {
   "cell_type": "code",
   "execution_count": 1,
   "metadata": {},
   "outputs": [
    {
     "name": "stderr",
     "output_type": "stream",
     "text": [
      "2020-06-03 02:23:06,759 - INFO - Renaming and selecting columns ...\n",
      "2020-06-03 02:23:12,515 - INFO - Formatting author names ...\n",
      "2020-06-03 02:23:12,521 - INFO - Disambiguating author names ...\n",
      "2020-06-03 02:23:12,602 - INFO - Removing part of titles in foreing languages ...\n",
      "2020-06-03 02:23:12,605 - INFO - Fusioning author and index keywords ...\n",
      "2020-06-03 02:23:12,622 - INFO - NumExpr defaulting to 8 threads.\n",
      "2020-06-03 02:23:12,639 - INFO - Extracting countries from affiliations ...\n",
      "2020-06-03 02:23:19,110 - INFO - Extracting institutions from affiliations ...\n",
      "2020-06-03 02:23:19,121 - INFO - Extracting country of 1st author ...\n",
      "2020-06-03 02:23:19,125 - INFO - Extracting affiliation of 1st author ...\n",
      "2020-06-03 02:23:19,129 - INFO - Counting number of authors ...\n"
     ]
    }
   ],
   "source": [
    "import ipywidgets as widgets\n",
    "import pandas as pd\n",
    "from ipywidgets import Layout, AppLayout\n",
    "\n",
    "import techminer.analytics as tc\n",
    "import techminer.plots as plt\n",
    "from techminer.analytics import load_scopus\n",
    "import techminer.dashboards as dash\n",
    "from techminer.keywords import Keywords\n",
    "\n",
    "filepath = \"../data/papers/urban-agriculture.csv\"\n",
    "df = pd.read_csv(filepath)\n",
    "df = load_scopus(df)"
   ]
  },
  {
   "cell_type": "code",
   "execution_count": 2,
   "metadata": {},
   "outputs": [],
   "source": [
    "COLORMAPS = [\n",
    "    \"Greys\",\n",
    "    \"Purples\",\n",
    "    \"Blues\",\n",
    "    \"Greens\",\n",
    "    \"Oranges\",\n",
    "    \"Reds\",\n",
    "    \"YlOrBr\",\n",
    "    \"YlOrRd\",\n",
    "    \"OrRd\",\n",
    "    \"PuRd\",\n",
    "    \"RdPu\",\n",
    "    \"BuPu\",\n",
    "    \"GnBu\",\n",
    "    \"PuBu\",\n",
    "    \"YlGnBu\",\n",
    "    \"PuBuGn\",\n",
    "    \"BuGn\",\n",
    "    \"YlGn\",\n",
    "    \"Pastel1\",\n",
    "    \"Pastel2\",\n",
    "    \"Paired\",\n",
    "    \"Accent\",\n",
    "    \"Dark2\",\n",
    "    \"Set1\",\n",
    "    \"Set2\",\n",
    "    \"Set3\",\n",
    "    \"tab10\",\n",
    "    \"tab20\",\n",
    "    \"tab20b\",\n",
    "    \"tab20c\",\n",
    "]\n",
    "\n",
    "COLUMNS = [\n",
    "    \"Author Keywords\",\n",
    "    \"Authors\",\n",
    "    \"Countries\",\n",
    "    \"Country 1st\",\n",
    "    \"Document type\",\n",
    "    \"Index Keywords\",\n",
    "    \"Institution 1st\" \"Institutions\",\n",
    "    \"Keywords\",\n",
    "    \"Source title\",\n",
    "]"
   ]
  },
  {
   "cell_type": "code",
   "execution_count": 3,
   "metadata": {},
   "outputs": [],
   "source": [
    "def html_title(x):\n",
    "    return (\n",
    "        \"<h1>{}</h1>\".format(x)\n",
    "        + \"<hr style='height:2px;border-width:0;color:gray;background-color:gray'>\"\n",
    "    )"
   ]
  },
  {
   "cell_type": "code",
   "execution_count": 4,
   "metadata": {},
   "outputs": [],
   "source": [
    "FIGSIZE = (15, 9.4) ## Summary-by-year\n",
    "FIGSIZE = (14, 8.2) ## Summary-by-term\n",
    "FIGSIZE = (14, 10.0) ## Summary-by-term-per-year \n",
    "\n",
    "FIGSIZE = (14, 10.0) ## Co-occurrente-analysis  <---- no tiene figura\n",
    "\n",
    "FIGSIZE = (14, 9.0)\n",
    "\n",
    "\n",
    "LEFT_PANEL_HEIGHT = \"588px\"\n",
    "PANE_HEIGHTS = [\"80px\", \"650px\", 0]\n",
    "WIDGET_WIDTH = \"200px\""
   ]
  },
  {
   "cell_type": "markdown",
   "metadata": {},
   "source": [
    "# SUMMARY BY YEAR"
   ]
  },
  {
   "cell_type": "code",
   "execution_count": null,
   "metadata": {},
   "outputs": [],
   "source": [
    "def summary_by_year(x):\n",
    "    \"\"\" Summary by year dashboard.\n",
    "    \n",
    "    Args:\n",
    "        df (pandas.DataFrame): bibliographic dataframe.\n",
    "    \n",
    "    \"\"\"\n",
    "\n",
    "    def tab_0():\n",
    "        #\n",
    "        def compute(selected_plot, plot_type, cmap):\n",
    "            #\n",
    "            plots = {\"bar\": plt.bar, \"barh\": plt.barh}\n",
    "            data = {\n",
    "                \"Documents by Year\": [\"Year\", \"Num Documents\"],\n",
    "                \"Cum. Documents by Year\": [\"Year\", \"Num Documents (Cum)\"],\n",
    "                \"Times Cited by Year\": [\"Year\", \"Cited by\"],\n",
    "                \"Cum. Times Cited by Year\": [\"Year\", \"Cited by (Cum)\"],\n",
    "                \"Avg. Times Cited by Year\": [\"Year\", \"Avg. Cited by\"],\n",
    "            }\n",
    "            #\n",
    "            df = tc.summary_by_year(x)\n",
    "            df = df[data[selected_plot]]\n",
    "            plot = plots[plot_type]\n",
    "            output.clear_output()\n",
    "            with output:\n",
    "                display(plot(df, cmap=cmap, figsize=FIGSIZE))\n",
    "\n",
    "        #\n",
    "        LEFT_PANEL = [\n",
    "            (\n",
    "                \"Plot:\",\n",
    "                \"selected_plot\",\n",
    "                widgets.Dropdown(\n",
    "                    options=[\n",
    "                        \"Documents by Year\",\n",
    "                        \"Cum. Documents by Year\",\n",
    "                        \"Times Cited by Year\",\n",
    "                        \"Cum. Times Cited by Year\",\n",
    "                        \"Avg. Times Cited by Year\",\n",
    "                    ],\n",
    "                    value=\"Documents by Year\",\n",
    "                    disable=False,\n",
    "                    layout=Layout(width=WIDGET_WIDTH),\n",
    "                ),\n",
    "            ),\n",
    "            (\n",
    "                \"Plot type:\",\n",
    "                \"plot_type\",\n",
    "                widgets.Dropdown(\n",
    "                    options=[\"bar\", \"barh\"],\n",
    "                    disable=False,\n",
    "                    layout=Layout(width=WIDGET_WIDTH),\n",
    "                ),\n",
    "            ),\n",
    "            (\n",
    "                \"Colormap:\",\n",
    "                \"cmap\",\n",
    "                widgets.Dropdown(\n",
    "                    options=COLORMAPS, disable=False, layout=Layout(width=WIDGET_WIDTH),\n",
    "                ),\n",
    "            ),\n",
    "        ]\n",
    "        #\n",
    "        args = {key: value for _, key, value in LEFT_PANEL}\n",
    "        output = widgets.Output()\n",
    "        with output:\n",
    "            display(widgets.interactive_output(compute, args,))\n",
    "        return widgets.HBox(\n",
    "            [\n",
    "                widgets.VBox(\n",
    "                    [\n",
    "                        widgets.VBox([widgets.Label(value=text), widget])\n",
    "                        for text, _, widget in LEFT_PANEL\n",
    "                    ],\n",
    "                    layout=Layout(height=LEFT_PANEL_HEIGHT, border=\"1px solid gray\"),\n",
    "                ),\n",
    "                widgets.VBox([output], layout=Layout(width=\"870px\")),\n",
    "            ]\n",
    "        )\n",
    "\n",
    "    #\n",
    "    #\n",
    "    body = widgets.Tab()\n",
    "    body.children = [tab_0()]\n",
    "    #\n",
    "    body.set_title(0, \"Time analysis\")\n",
    "\n",
    "    return AppLayout(\n",
    "        header=widgets.HTML(value=html_title(\"Summary by Year\")),\n",
    "        left_sidebar=None,\n",
    "        center=body,\n",
    "        right_sidebar=None,\n",
    "        pane_heights=PANE_HEIGHTS,\n",
    "    )\n",
    "\n",
    "#####\n",
    "summary_by_year(df)"
   ]
  },
  {
   "cell_type": "markdown",
   "metadata": {},
   "source": [
    "# SUMMARY BY TERM"
   ]
  },
  {
   "cell_type": "code",
   "execution_count": 7,
   "metadata": {},
   "outputs": [
    {
     "data": {
      "application/vnd.jupyter.widget-view+json": {
       "model_id": "be31ae6f513b4321ab54b689cd526974",
       "version_major": 2,
       "version_minor": 0
      },
      "text/plain": [
       "AppLayout(children=(HTML(value=\"<h1>Summary by Term</h1><hr style='height:2px;border-width:0;color:gray;backgr…"
      ]
     },
     "metadata": {},
     "output_type": "display_data"
    }
   ],
   "source": [
    "def summary_by_term(x):\n",
    "    \"\"\" Summary by Term dashboard.\n",
    "    \n",
    "    Args:\n",
    "        df (pandas.DataFrame): bibliographic dataframe.\n",
    "    \n",
    "    \"\"\"\n",
    "\n",
    "    def tab_0():\n",
    "        #\n",
    "        def compute(term, analysis_type, plot_type, cmap, top_n):\n",
    "            #\n",
    "            plots = {\"bar\": plt.bar, \"barh\": plt.barh, \"pie\": plt.pie}\n",
    "            #\n",
    "            df = tc.summary_by_term(x, term)\n",
    "            if analysis_type == \"Frequency\":\n",
    "                df = df.sort_values(\n",
    "                    [\"Num Documents\", \"Cited by\", term], ascending=False\n",
    "                )\n",
    "                df = df[[term, \"Num Documents\"]].head(top_n)\n",
    "            else:\n",
    "                df = df.sort_values(\n",
    "                    [\"Cited by\", \"Num Documents\", term], ascending=False\n",
    "                )\n",
    "                df = df[[term, \"Cited by\"]].head(top_n)\n",
    "            df = df.reset_index(drop=True)\n",
    "            plot = plots[plot_type]\n",
    "            output.clear_output()\n",
    "            with output:\n",
    "                display(plot(df, figsize=FIGSIZE, cmap=cmap))\n",
    "\n",
    "        #\n",
    "        LEFT_PANEL = [\n",
    "            (\n",
    "                \"Term to analyze:\",\n",
    "                \"term\",\n",
    "                widgets.Select(\n",
    "                    options=[z for z in COLUMNS if z in x.columns],\n",
    "                    ensure_option=True,\n",
    "                    disabled=False,\n",
    "                    layout=Layout(width=WIDGET_WIDTH),\n",
    "                ),\n",
    "            ),\n",
    "            (\n",
    "                \"Analysis type:\",\n",
    "                \"analysis_type\",\n",
    "                widgets.Dropdown(\n",
    "                    options=[\"Frequency\", \"Citation\"],\n",
    "                    value=\"Frequency\",\n",
    "                    disable=False,\n",
    "                    layout=Layout(width=WIDGET_WIDTH),\n",
    "                ),\n",
    "            ),\n",
    "            (\n",
    "                \"Plot type:\",\n",
    "                \"plot_type\",\n",
    "                widgets.Dropdown(\n",
    "                    options=[\"bar\", \"barh\", \"pie\"],\n",
    "                    disable=False,\n",
    "                    layout=Layout(width=WIDGET_WIDTH),\n",
    "                ),\n",
    "            ),\n",
    "            (\n",
    "                \"Colormap:\",\n",
    "                \"cmap\",\n",
    "                widgets.Dropdown(\n",
    "                    options=COLORMAPS, disable=False, layout=Layout(width=WIDGET_WIDTH),\n",
    "                ),\n",
    "            ),\n",
    "            (\n",
    "                \"Top N:\",\n",
    "                \"top_n\",\n",
    "                widgets.IntSlider(\n",
    "                    value=10,\n",
    "                    min=10,\n",
    "                    max=50,\n",
    "                    step=1,\n",
    "                    disabled=False,\n",
    "                    continuous_update=False,\n",
    "                    orientation=\"horizontal\",\n",
    "                    readout=True,\n",
    "                    readout_format=\"d\",\n",
    "                    layout=Layout(width=WIDGET_WIDTH),\n",
    "                ),\n",
    "            ),\n",
    "        ]\n",
    "        #\n",
    "        args = {key: value for _, key, value in LEFT_PANEL}\n",
    "        output = widgets.Output()\n",
    "        with output:\n",
    "            display(widgets.interactive_output(compute, args,))\n",
    "        return widgets.HBox(\n",
    "            [\n",
    "                widgets.VBox(\n",
    "                    [\n",
    "                        widgets.VBox([widgets.Label(value=text), widget])\n",
    "                        for text, _, widget in LEFT_PANEL\n",
    "                    ],\n",
    "                    layout=Layout(height=LEFT_PANEL_HEIGHT, border=\"1px solid gray\"),\n",
    "                ),\n",
    "                widgets.VBox([output], layout=Layout(width=\"870px\")),\n",
    "            ]\n",
    "        )\n",
    "\n",
    "    def tab_1():\n",
    "        #\n",
    "        def compute(term, analysis_type, cmap):\n",
    "            df = tc.summary_by_term(x, term)\n",
    "            if analysis_type == \"Frequency\":\n",
    "                df = df[[term, \"Num Documents\"]]\n",
    "            else:\n",
    "                df = df[[term, \"Cited by\"]]\n",
    "            df = df.reset_index(drop=True)\n",
    "            output.clear_output()\n",
    "            with output:\n",
    "                display(plt.worldmap(df, figsize=FIGSIZE, cmap=cmap))\n",
    "\n",
    "        #\n",
    "        LEFT_PANEL = [\n",
    "            (\n",
    "                \"Term to analyze:\",\n",
    "                \"term\",\n",
    "                widgets.Select(\n",
    "                    options=[\"Countries\", \"Country 1st\"],\n",
    "                    ensure_option=True,\n",
    "                    disabled=False,\n",
    "                    layout=Layout(width=WIDGET_WIDTH),\n",
    "                ),\n",
    "            ),\n",
    "            (\n",
    "                \"Analysis type:\",\n",
    "                \"analysis_type\",\n",
    "                widgets.Dropdown(\n",
    "                    options=[\"Frequency\", \"Citation\"],\n",
    "                    value=\"Frequency\",\n",
    "                    disable=False,\n",
    "                    layout=Layout(width=WIDGET_WIDTH),\n",
    "                ),\n",
    "            ),\n",
    "            (\n",
    "                \"Colormap:\",\n",
    "                \"cmap\",\n",
    "                widgets.Dropdown(\n",
    "                    options=COLORMAPS, disable=False, layout=Layout(width=WIDGET_WIDTH),\n",
    "                ),\n",
    "            ),\n",
    "        ]\n",
    "        #\n",
    "        args = {key: value for _, key, value in LEFT_PANEL}\n",
    "        output = widgets.Output()\n",
    "        with output:\n",
    "            display(widgets.interactive_output(compute, args,))\n",
    "        return widgets.HBox(\n",
    "            [\n",
    "                widgets.VBox(\n",
    "                    [\n",
    "                        widgets.VBox([widgets.Label(value=text), widget])\n",
    "                        for text, _, widget in LEFT_PANEL\n",
    "                    ],\n",
    "                    layout=Layout(height=LEFT_PANEL_HEIGHT, border=\"1px solid gray\"),\n",
    "                ),\n",
    "                widgets.VBox([output], layout=Layout(width=\"870px\")),\n",
    "            ]\n",
    "        )\n",
    "\n",
    "    #\n",
    "    #\n",
    "    body = widgets.Tab()\n",
    "    body.children = [tab_0(), tab_1()]\n",
    "    #\n",
    "    body.set_title(0, \"Time analysis\")\n",
    "    body.set_title(1, \"Worldmap\")\n",
    "\n",
    "    return AppLayout(\n",
    "        header=widgets.HTML(value=html_title(\"Summary by Term\")),\n",
    "        left_sidebar=None,\n",
    "        center=body,\n",
    "        right_sidebar=None,\n",
    "        pane_heights=PANE_HEIGHTS,\n",
    "    )\n",
    "\n",
    "\n",
    "#####\n",
    "summary_by_term(df)"
   ]
  },
  {
   "cell_type": "markdown",
   "metadata": {},
   "source": [
    "# SUMMARY BY TERM PER YEAR"
   ]
  },
  {
   "cell_type": "code",
   "execution_count": null,
   "metadata": {},
   "outputs": [],
   "source": [
    "def summary_by_term_per_year(x):\n",
    "    #\n",
    "    def tab_0():\n",
    "        #\n",
    "        def compute(term, analysis_type, plot_type, cmap, top_n):\n",
    "            #\n",
    "            plots = {\"Heatmap\": plt.heatmap, \"Gant\": plt.gant}\n",
    "            plot = plots[plot_type]\n",
    "            #\n",
    "            if analysis_type == \"Frequency\":\n",
    "                top = tc.documents_by_term(x, term).head(top_n)[term].tolist()\n",
    "                matrix = tc.documents_by_term_per_year(x, term, as_matrix=True)\n",
    "            else:\n",
    "                top = tc.citations_by_term(x, term).head(top_n)[term].tolist()\n",
    "                matrix = tc.citations_by_term_per_year(x, term, as_matrix=True)\n",
    "            matrix = matrix[top]\n",
    "            output.clear_output()\n",
    "            with output:\n",
    "                if plot_type == \"Heatmap\":\n",
    "                    display(plot(matrix, cmap=cmap, figsize=FIGSIZE))\n",
    "                if plot_type == \"Gant\":\n",
    "                    display(plot(matrix, figsize=FIGSIZE))\n",
    "\n",
    "        #\n",
    "        LEFT_PANEL = [\n",
    "            (\n",
    "                \"Term to analyze:\",\n",
    "                \"term\",\n",
    "                widgets.Select(\n",
    "                    options=[z for z in COLUMNS if z in x.columns],\n",
    "                    ensure_option=True,\n",
    "                    disabled=False,\n",
    "                    layout=Layout(width=WIDGET_WIDTH),\n",
    "                ),\n",
    "            ),\n",
    "            (\n",
    "                \"Analysis type:\",\n",
    "                \"analysis_type\",\n",
    "                widgets.Dropdown(\n",
    "                    options=[\"Frequency\", \"Citation\"],\n",
    "                    value=\"Frequency\",\n",
    "                    disable=False,\n",
    "                    layout=Layout(width=WIDGET_WIDTH),\n",
    "                ),\n",
    "            ),\n",
    "            (\n",
    "                \"Plot type:\",\n",
    "                \"plot_type\",\n",
    "                widgets.Dropdown(\n",
    "                    options=[\"Heatmap\", \"Gant\"],\n",
    "                    disable=False,\n",
    "                    layout=Layout(width=WIDGET_WIDTH),\n",
    "                ),\n",
    "            ),\n",
    "            (\n",
    "                \"Colormap:\",\n",
    "                \"cmap\",\n",
    "                widgets.Dropdown(\n",
    "                    options=COLORMAPS, disable=False, layout=Layout(width=WIDGET_WIDTH),\n",
    "                ),\n",
    "            ),\n",
    "            (\n",
    "                \"Top N:\",\n",
    "                \"top_n\",\n",
    "                widgets.IntSlider(\n",
    "                    value=10,\n",
    "                    min=10,\n",
    "                    max=50,\n",
    "                    step=1,\n",
    "                    disabled=False,\n",
    "                    continuous_update=False,\n",
    "                    orientation=\"horizontal\",\n",
    "                    readout=True,\n",
    "                    readout_format=\"d\",\n",
    "                    layout=Layout(width=WIDGET_WIDTH),\n",
    "                ),\n",
    "            ),\n",
    "        ]\n",
    "        #\n",
    "        args = {key: value for _, key, value in LEFT_PANEL}\n",
    "        output = widgets.Output()\n",
    "        with output:\n",
    "            display(widgets.interactive_output(compute, args,))\n",
    "        return widgets.HBox(\n",
    "            [\n",
    "                widgets.VBox(\n",
    "                    [\n",
    "                        widgets.VBox([widgets.Label(value=text), widget])\n",
    "                        for text, _, widget in LEFT_PANEL\n",
    "                    ],\n",
    "                    layout=Layout(height=LEFT_PANEL_HEIGHT, border=\"1px solid gray\"),\n",
    "                ),\n",
    "                widgets.VBox([output], layout=Layout(width=\"870px\")),\n",
    "            ]\n",
    "        )\n",
    "\n",
    "    #\n",
    "    #\n",
    "    body = widgets.Tab()\n",
    "    body.children = [tab_0()]\n",
    "    #\n",
    "    body.set_title(0, \"Heatmap\")\n",
    "\n",
    "    return AppLayout(\n",
    "        header=widgets.HTML(value=html_title(\"Summary by Term per Year\")),\n",
    "        left_sidebar=None,\n",
    "        center=body,\n",
    "        right_sidebar=None,\n",
    "        pane_heights=PANE_HEIGHTS,\n",
    "    )\n",
    "\n",
    "######\n",
    "summary_by_term_per_year(df)"
   ]
  },
  {
   "cell_type": "markdown",
   "metadata": {},
   "source": [
    "# CO-OCCURRENCE ANALYSIS"
   ]
  },
  {
   "cell_type": "code",
   "execution_count": 6,
   "metadata": {},
   "outputs": [
    {
     "data": {
      "application/vnd.jupyter.widget-view+json": {
       "model_id": "a51a966f237f496cb3706cd7b54d27db",
       "version_major": 2,
       "version_minor": 0
      },
      "text/plain": [
       "AppLayout(children=(HTML(value=\"<h1>Co-occurrence Analysis</h1><hr style='height:2px;border-width:0;color:gray…"
      ]
     },
     "metadata": {},
     "output_type": "display_data"
    }
   ],
   "source": [
    "def co_occurrence_analysis(x):\n",
    "    #\n",
    "    def tab_0():\n",
    "        #\n",
    "        def compute(column, by, min_value, cmap):\n",
    "            #\n",
    "            matrix = tc.co_occurrence(\n",
    "                x,\n",
    "                column=column,\n",
    "                by=by,\n",
    "                as_matrix=True,\n",
    "                min_value=min_value,\n",
    "                keywords=None,\n",
    "            )\n",
    "            \n",
    "            #\n",
    "            if LEFT_PANEL[-1][2].value > matrix.max().max():\n",
    "                LEFT_PANEL[-1][2].value = matrix.max().max()\n",
    "            LEFT_PANEL[-1][2].max = matrix.max().max()\n",
    "            #\n",
    "            output.clear_output()\n",
    "            with output:\n",
    "                if len(matrix.columns) < 51 and len(matrix.index) < 51:\n",
    "                    display(matrix.style.background_gradient(cmap=cmap))\n",
    "                else:\n",
    "                    display(matrix)\n",
    "\n",
    "        #\n",
    "        LEFT_PANEL = [\n",
    "            (\n",
    "                \"Term to analyze:\",\n",
    "                \"column\",\n",
    "                widgets.Select(\n",
    "                    options=[z for z in COLUMNS if z in x.columns],\n",
    "                    ensure_option=True,\n",
    "                    disabled=False,\n",
    "                    continuous_update=True,\n",
    "                    layout=Layout(width=WIDGET_WIDTH),\n",
    "                ),\n",
    "            ),\n",
    "            (\n",
    "                \"By:\",\n",
    "                \"by\",\n",
    "                widgets.Select(\n",
    "                    options=[z for z in COLUMNS if z in x.columns],\n",
    "                    ensure_option=True,\n",
    "                    disabled=False,\n",
    "                    continuous_update=True,\n",
    "                    layout=Layout(width=WIDGET_WIDTH),\n",
    "                ),\n",
    "            ),\n",
    "            (\n",
    "                \"Colormap:\",\n",
    "                \"cmap\",\n",
    "                widgets.Dropdown(\n",
    "                    options=COLORMAPS, disable=False, layout=Layout(width=WIDGET_WIDTH),\n",
    "                ),\n",
    "            ),\n",
    "            (\n",
    "                \"Min value:\",\n",
    "                \"min_value\",\n",
    "                widgets.IntSlider(\n",
    "                    value=0,\n",
    "                    min=0,\n",
    "                    max=50,\n",
    "                    step=1,\n",
    "                    disabled=False,\n",
    "                    continuous_update=False,\n",
    "                    orientation=\"horizontal\",\n",
    "                    readout=True,\n",
    "                    readout_format=\"d\",\n",
    "                    layout=Layout(width=WIDGET_WIDTH),\n",
    "                ),\n",
    "            ),\n",
    "        ]\n",
    "        #\n",
    "        args = {key: value for _, key, value in LEFT_PANEL}\n",
    "        output = widgets.Output()\n",
    "        with output:\n",
    "            display(widgets.interactive_output(compute, args,))\n",
    "        return widgets.HBox(\n",
    "            [\n",
    "                widgets.VBox(\n",
    "                    [\n",
    "                        widgets.VBox([widgets.Label(value=text), widget])\n",
    "                        for text, _, widget in LEFT_PANEL\n",
    "                    ],\n",
    "                    layout=Layout(\n",
    "                        height=LEFT_PANEL_HEIGHT, width=\"210px\", border=\"1px solid gray\"\n",
    "                    ),\n",
    "                ),\n",
    "                widgets.VBox([output], layout=Layout(width=\"870px\")),\n",
    "            ]\n",
    "        )\n",
    "\n",
    "    #\n",
    "    #\n",
    "    body = widgets.Tab()\n",
    "    body.children = [tab_0()]\n",
    "    #\n",
    "    body.set_title(0, \"Matrix\")\n",
    "    return AppLayout(\n",
    "        header=widgets.HTML(value=html_title(\"Co-occurrence Analysis\")),\n",
    "        left_sidebar=None,\n",
    "        center=body,\n",
    "        right_sidebar=None,\n",
    "        pane_heights=PANE_HEIGHTS,\n",
    "    )\n",
    "\n",
    "\n",
    "######\n",
    "co_occurrence_analysis(df)"
   ]
  },
  {
   "cell_type": "markdown",
   "metadata": {},
   "source": [
    "# CORRELATION ANALYSIS"
   ]
  },
  {
   "cell_type": "code",
   "execution_count": null,
   "metadata": {},
   "outputs": [],
   "source": [
    "def correlation_analysis(x):\n",
    "    def tab_heatmap():\n",
    "        def compute_by_term(column, by, method, minmax, cmap, filter_type, top_n):\n",
    "            #\n",
    "            minmax = (minmax[0], minmax[1])\n",
    "            #\n",
    "            matrix, limit_values = tc.corr(\n",
    "                x,\n",
    "                column=column,\n",
    "                by=by,\n",
    "                method=method.lower(),\n",
    "                show_between=minmax,\n",
    "                cmap=cmap,\n",
    "                filter_by=filter_type,\n",
    "                top_n=top_n,\n",
    "                as_matrix=True,\n",
    "                get_minmax=True,\n",
    "            )\n",
    "            output.clear_output()\n",
    "            with output:\n",
    "                if len(matrix.columns) < 51 and len(matrix.index) < 51:\n",
    "                    display(\n",
    "                        matrix.style.format(\"{:.3f}\").background_gradient(cmap=cmap)\n",
    "                    )\n",
    "                else:\n",
    "                    display(matrix.style.format(\"{:.3f}\"))\n",
    "\n",
    "        #\n",
    "        column = widgets.Select(\n",
    "            options=[z for z in COLUMNS if z in x.columns],\n",
    "            ensure_option=True,\n",
    "            disabled=False,\n",
    "        )\n",
    "        by = widgets.Select(\n",
    "            options=[z for z in COLUMNS if z in x.columns],\n",
    "            ensure_option=True,\n",
    "            disabled=False,\n",
    "        )\n",
    "        method = widgets.Dropdown(\n",
    "            options=[\"Pearson\", \"Kendall\", \"Spearman\"], value=\"Pearson\", disable=False,\n",
    "        )\n",
    "        selection_range = widgets.FloatRangeSlider(\n",
    "            value=[-1.0, 1.0],\n",
    "            min=-1.0,\n",
    "            max=1.0,\n",
    "            step=0.1,\n",
    "            disabled=False,\n",
    "            continuous_update=False,\n",
    "            orientation=\"horizontal\",\n",
    "            readout=True,\n",
    "            readout_format=\"+.1f\",\n",
    "        )\n",
    "        filter_type = widgets.Dropdown(\n",
    "            options=[\"Frequency\", \"Citation\"], value=\"Frequency\", disable=False,\n",
    "        )\n",
    "        top_n = widgets.IntSlider(\n",
    "            value=10,\n",
    "            min=10,\n",
    "            max=50,\n",
    "            step=1,\n",
    "            disabled=False,\n",
    "            continuous_update=False,\n",
    "            orientation=\"horizontal\",\n",
    "            readout=True,\n",
    "            readout_format=\"d\",\n",
    "        )\n",
    "        cmap = widgets.Dropdown(options=COLORMAPS, disable=False,)\n",
    "        #\n",
    "        output = widgets.Output()\n",
    "        with output:\n",
    "            display(\n",
    "                widgets.interactive_output(\n",
    "                    compute_by_term,\n",
    "                    {\n",
    "                        \"column\": column,\n",
    "                        \"by\": by,\n",
    "                        \"method\": method,\n",
    "                        \"minmax\": selection_range,\n",
    "                        \"cmap\": cmap,\n",
    "                        \"filter_type\": filter_type,\n",
    "                        \"top_n\": top_n,\n",
    "                    },\n",
    "                )\n",
    "            )\n",
    "        #\n",
    "        return widgets.HBox(\n",
    "            [\n",
    "                widgets.VBox(\n",
    "                    [\n",
    "                        widgets.VBox([widgets.Label(value=\"Term:\"), column]),\n",
    "                        widgets.VBox([widgets.Label(value=\"By term:\"), by]),\n",
    "                        widgets.VBox([widgets.Label(value=\"Method:\"), method]),\n",
    "                        widgets.VBox(\n",
    "                            [widgets.Label(value=\"Filter type:\"), filter_type]\n",
    "                        ),\n",
    "                        widgets.VBox([widgets.Label(value=\"Top n:\"), top_n]),\n",
    "                        widgets.VBox([widgets.Label(value=\"Range:\"), selection_range]),\n",
    "                        widgets.VBox([widgets.Label(value=\"Colormap:\"), cmap]),\n",
    "                    ],\n",
    "                    layout=Layout(height=LEFT_PANEL_HEIGHT, border=\"1px solid gray\"),\n",
    "                ),\n",
    "                widgets.VBox([output], layout=Layout(width=\"870px\")),\n",
    "            ]\n",
    "        )\n",
    "\n",
    "    #\n",
    "    tabs = widgets.Tab()\n",
    "    tabs.children = [tab_heatmap()]\n",
    "    tabs.set_title(0, \"Heatmap\")\n",
    "\n",
    "    return AppLayout(\n",
    "        header=widgets.HTML(value=html_title(\"Correlation Analysis\")),\n",
    "        left_sidebar=None,\n",
    "        center=tabs,\n",
    "        right_sidebar=None,\n",
    "        pane_widths=PANE_WIDHTS,\n",
    "        pane_heights=PANE_HEIGHTS,\n",
    "    )\n",
    "\n",
    "\n",
    "####\n",
    "correlation_analysis(df)"
   ]
  },
  {
   "cell_type": "code",
   "execution_count": null,
   "metadata": {},
   "outputs": [],
   "source": []
  },
  {
   "cell_type": "code",
   "execution_count": null,
   "metadata": {},
   "outputs": [],
   "source": []
  },
  {
   "cell_type": "code",
   "execution_count": null,
   "metadata": {},
   "outputs": [],
   "source": []
  },
  {
   "cell_type": "code",
   "execution_count": null,
   "metadata": {},
   "outputs": [],
   "source": []
  },
  {
   "cell_type": "code",
   "execution_count": null,
   "metadata": {},
   "outputs": [],
   "source": [
    "x = pd.DataFrame(0, columns=list('abcdef'), index=list('ABCDEF'))\n",
    "x.at['A', 'a'] = 9\n",
    "x.at['B', 'b'] = 8\n",
    "x.at['C', 'c'] = 3\n",
    "x.at['D', 'd'] = 5\n",
    "x.at['E', 'e'] = 6\n",
    "x.at['F', 'f'] = 1\n",
    "x.at['C', 'a'] = 9\n",
    "x"
   ]
  },
  {
   "cell_type": "code",
   "execution_count": null,
   "metadata": {},
   "outputs": [],
   "source": [
    "x = pd.DataFrame(0, columns=list('abcdef'), index=list('ABCDEF'))\n",
    "x.at['A', 'a'] = 9\n",
    "x.at['B', 'b'] = 8\n",
    "x.at['C', 'c'] = 3\n",
    "x.at['D', 'd'] = 5\n",
    "x.at['E', 'e'] = 6\n",
    "x.at['F', 'f'] = 1\n",
    "x.at['C', 'a'] = 9\n",
    "\n",
    "\n",
    "ascending=False\n",
    "a = x.max().sort_values(ascending=ascending)\n",
    "x = x[a.index]\n",
    "x = x.sort_values(x.index.tolist(), axis=1, ascending=ascending)\n",
    "x = x.sort_values(x.columns.tolist(), axis=0, ascending=ascending)\n",
    "x"
   ]
  },
  {
   "cell_type": "code",
   "execution_count": null,
   "metadata": {},
   "outputs": [],
   "source": [
    "x.loc[x.max(axis=1).sort_values(ascending=False).index, x.max(axis=0).sort_values(ascending=False).index]"
   ]
  },
  {
   "cell_type": "code",
   "execution_count": null,
   "metadata": {},
   "outputs": [],
   "source": [
    "x.index"
   ]
  },
  {
   "cell_type": "code",
   "execution_count": null,
   "metadata": {},
   "outputs": [],
   "source": [
    "x.sort_values(x.index.tolist(), axis=1, ascending=False)"
   ]
  },
  {
   "cell_type": "code",
   "execution_count": null,
   "metadata": {},
   "outputs": [],
   "source": []
  },
  {
   "cell_type": "code",
   "execution_count": null,
   "metadata": {},
   "outputs": [],
   "source": []
  },
  {
   "cell_type": "code",
   "execution_count": null,
   "metadata": {},
   "outputs": [],
   "source": []
  }
 ],
 "metadata": {
  "kernelspec": {
   "display_name": "Python 3",
   "language": "python",
   "name": "python3"
  },
  "language_info": {
   "codemirror_mode": {
    "name": "ipython",
    "version": 3
   },
   "file_extension": ".py",
   "mimetype": "text/x-python",
   "name": "python",
   "nbconvert_exporter": "python",
   "pygments_lexer": "ipython3",
   "version": "3.6.9"
  },
  "widgets": {
   "application/vnd.jupyter.widget-state+json": {
    "state": {
     "00c9b1abb0254c269dee7a7b37105385": {
      "model_module": "@jupyter-widgets/base",
      "model_module_version": "1.2.0",
      "model_name": "LayoutModel",
      "state": {}
     },
     "00ebf6a7e3ab4e8a9ce0592c69f0acd8": {
      "model_module": "@jupyter-widgets/base",
      "model_module_version": "1.2.0",
      "model_name": "LayoutModel",
      "state": {}
     },
     "01c1ff9a2bb14b1090c244fad7405e00": {
      "model_module": "@jupyter-widgets/controls",
      "model_module_version": "1.5.0",
      "model_name": "DescriptionStyleModel",
      "state": {
       "description_width": ""
      }
     },
     "024730a75a6c44e19728b8ecc4ec5fac": {
      "model_module": "@jupyter-widgets/base",
      "model_module_version": "1.2.0",
      "model_name": "LayoutModel",
      "state": {
       "grid_template_areas": "\"header header header\"\n\"center center center\"",
       "grid_template_columns": "1fr 2fr 1fr",
       "grid_template_rows": "80px 650px"
      }
     },
     "02636a2ec0574cacad6d6e3ce4e9bc77": {
      "model_module": "@jupyter-widgets/controls",
      "model_module_version": "1.5.0",
      "model_name": "GridBoxModel",
      "state": {
       "children": [
        "IPY_MODEL_772773062f0d41c68419adbfa790b9a2",
        "IPY_MODEL_0ca0fd81ad5044c280ab849a95c15b20"
       ],
       "layout": "IPY_MODEL_024730a75a6c44e19728b8ecc4ec5fac"
      }
     },
     "02f02e768a154f909fcbe60ddc0407aa": {
      "model_module": "@jupyter-widgets/base",
      "model_module_version": "1.2.0",
      "model_name": "LayoutModel",
      "state": {}
     },
     "03ef1f95528240998947db8fa0d0b4e7": {
      "model_module": "@jupyter-widgets/base",
      "model_module_version": "1.2.0",
      "model_name": "LayoutModel",
      "state": {}
     },
     "04a8901b668444bbb6222894b3b75d6e": {
      "model_module": "@jupyter-widgets/base",
      "model_module_version": "1.2.0",
      "model_name": "LayoutModel",
      "state": {
       "grid_area": "header"
      }
     },
     "05add9a61ed24372b27fbab55d582133": {
      "model_module": "@jupyter-widgets/base",
      "model_module_version": "1.2.0",
      "model_name": "LayoutModel",
      "state": {
       "width": "200px"
      }
     },
     "078fcdb129c846d08caee29d21fef5bf": {
      "model_module": "@jupyter-widgets/base",
      "model_module_version": "1.2.0",
      "model_name": "LayoutModel",
      "state": {}
     },
     "07e5566eb1154088b913ce6faa8cc45c": {
      "model_module": "@jupyter-widgets/controls",
      "model_module_version": "1.5.0",
      "model_name": "HBoxModel",
      "state": {
       "children": [
        "IPY_MODEL_f7a1dd52273f4bc0829ed8e9bc088642",
        "IPY_MODEL_53135721934747b3af02819705d06732"
       ],
       "layout": "IPY_MODEL_078fcdb129c846d08caee29d21fef5bf"
      }
     },
     "0994835bd19b449bbd419cb6122cde6b": {
      "model_module": "@jupyter-widgets/base",
      "model_module_version": "1.2.0",
      "model_name": "LayoutModel",
      "state": {}
     },
     "09b961a4e9c04091be6578f674833e59": {
      "model_module": "@jupyter-widgets/controls",
      "model_module_version": "1.5.0",
      "model_name": "LabelModel",
      "state": {
       "layout": "IPY_MODEL_03ef1f95528240998947db8fa0d0b4e7",
       "style": "IPY_MODEL_3a0e472461294429a8940f43ac1ed099",
       "value": "By:"
      }
     },
     "0c264aa4ac554c26963d79a23cef305b": {
      "model_module": "@jupyter-widgets/base",
      "model_module_version": "1.2.0",
      "model_name": "LayoutModel",
      "state": {}
     },
     "0c8ab3806c934dc7aebc1677412feb4f": {
      "model_module": "@jupyter-widgets/controls",
      "model_module_version": "1.5.0",
      "model_name": "VBoxModel",
      "state": {
       "children": [
        "IPY_MODEL_7a80627193504adb9f177b666bd84596",
        "IPY_MODEL_9ed85ee2b681409eb8db69e1213f1e34",
        "IPY_MODEL_380b89e5783f4ea3aa395a73c775e3d0",
        "IPY_MODEL_713b0614e1d640e19000eeb3306be8ba"
       ],
       "layout": "IPY_MODEL_2af25a04bac14647a9cd91a6fb38e685"
      }
     },
     "0ca0fd81ad5044c280ab849a95c15b20": {
      "model_module": "@jupyter-widgets/controls",
      "model_module_version": "1.5.0",
      "model_name": "TabModel",
      "state": {
       "_titles": {
        "0": "Matrix"
       },
       "children": [
        "IPY_MODEL_614ba4ea87454472adcaf6febd825a9b"
       ],
       "layout": "IPY_MODEL_0fdba09e447141dca146d77b25365ec5"
      }
     },
     "0cc0f78fdcba45aaace08f8c5b7a8cdd": {
      "model_module": "@jupyter-widgets/controls",
      "model_module_version": "1.5.0",
      "model_name": "SelectModel",
      "state": {
       "_options_labels": [
        "Author Keywords",
        "Authors",
        "Countries",
        "Country 1st",
        "Index Keywords",
        "Keywords",
        "Source title"
       ],
       "index": 0,
       "layout": "IPY_MODEL_9bb4d02ce64e41ca9f06bb66e325d64a",
       "style": "IPY_MODEL_dc4f092033cb4e5c92ed77a9a9b7fc0a"
      }
     },
     "0d0cb65719c046938efded5132face28": {
      "model_module": "@jupyter-widgets/controls",
      "model_module_version": "1.5.0",
      "model_name": "DescriptionStyleModel",
      "state": {
       "description_width": ""
      }
     },
     "0d3912c9a6564c3ebcb841468f6e78c3": {
      "model_module": "@jupyter-widgets/base",
      "model_module_version": "1.2.0",
      "model_name": "LayoutModel",
      "state": {}
     },
     "0fdba09e447141dca146d77b25365ec5": {
      "model_module": "@jupyter-widgets/base",
      "model_module_version": "1.2.0",
      "model_name": "LayoutModel",
      "state": {
       "grid_area": "center"
      }
     },
     "12ff1d9c903944619021310e4be6e371": {
      "model_module": "@jupyter-widgets/base",
      "model_module_version": "1.2.0",
      "model_name": "LayoutModel",
      "state": {
       "width": "200px"
      }
     },
     "14f54821a801417bb0758a1499e663a9": {
      "model_module": "@jupyter-widgets/base",
      "model_module_version": "1.2.0",
      "model_name": "LayoutModel",
      "state": {
       "border": "1px solid gray",
       "height": "588px"
      }
     },
     "153e342e0f494788b32a77715ec60331": {
      "model_module": "@jupyter-widgets/controls",
      "model_module_version": "1.5.0",
      "model_name": "LabelModel",
      "state": {
       "layout": "IPY_MODEL_e5c851c894064a60aa5f746b794b5b93",
       "style": "IPY_MODEL_414ca926fbef4c6f8688146d1bbea8c6",
       "value": "Analysis type:"
      }
     },
     "15dcab76fe3b4d36bb5dc1bc840142f1": {
      "model_module": "@jupyter-widgets/controls",
      "model_module_version": "1.5.0",
      "model_name": "VBoxModel",
      "state": {
       "children": [
        "IPY_MODEL_2473410416464f75ae95b787d6472230",
        "IPY_MODEL_8537f83804be4c6fac5ca3cbd14b1108"
       ],
       "layout": "IPY_MODEL_bacb1a0f159840318ce95ba6d3636d6a"
      }
     },
     "18327a806b004490b6114ea4f36762c7": {
      "model_module": "@jupyter-widgets/base",
      "model_module_version": "1.2.0",
      "model_name": "LayoutModel",
      "state": {}
     },
     "1865cac5639f44b9899cfbf57b689786": {
      "model_module": "@jupyter-widgets/controls",
      "model_module_version": "1.5.0",
      "model_name": "DescriptionStyleModel",
      "state": {
       "description_width": ""
      }
     },
     "1a225bf4067e43289e9d358d845cfac8": {
      "model_module": "@jupyter-widgets/controls",
      "model_module_version": "1.5.0",
      "model_name": "DescriptionStyleModel",
      "state": {
       "description_width": ""
      }
     },
     "1b540f84b29e4a6f8ba5c60945d44c3a": {
      "model_module": "@jupyter-widgets/base",
      "model_module_version": "1.2.0",
      "model_name": "LayoutModel",
      "state": {}
     },
     "1beda43f0e724786951eaf31027f5bb4": {
      "model_module": "@jupyter-widgets/base",
      "model_module_version": "1.2.0",
      "model_name": "LayoutModel",
      "state": {
       "width": "200px"
      }
     },
     "1efbf2dc2ac34923b28e45ddfcc7eb63": {
      "model_module": "@jupyter-widgets/output",
      "model_module_version": "1.0.0",
      "model_name": "OutputModel",
      "state": {
       "layout": "IPY_MODEL_9b2e07ba6d8b4f4c9073b3a3afdd6ad7",
       "outputs": [
        {
         "data": {
          "application/vnd.jupyter.widget-view+json": {
           "model_id": "",
           "version_major": 2,
           "version_minor": 0
          },
          "text/plain": "Output()"
         },
         "metadata": {},
         "output_type": "display_data"
        }
       ]
      }
     },
     "1f1dc5f27d0c4bcaa8d2e1e501dd5f46": {
      "model_module": "@jupyter-widgets/base",
      "model_module_version": "1.2.0",
      "model_name": "LayoutModel",
      "state": {}
     },
     "21c65bde032c4a28aa68fd06d3a08d28": {
      "model_module": "@jupyter-widgets/controls",
      "model_module_version": "1.5.0",
      "model_name": "LabelModel",
      "state": {
       "layout": "IPY_MODEL_50627bc6329b4f72883123da177a26f1",
       "style": "IPY_MODEL_01c1ff9a2bb14b1090c244fad7405e00",
       "value": "Colormap:"
      }
     },
     "23ad8b7085e340bb8a0e29c556625f8e": {
      "model_module": "@jupyter-widgets/base",
      "model_module_version": "1.2.0",
      "model_name": "LayoutModel",
      "state": {}
     },
     "2406d634ef94424d94fe9763c722f573": {
      "model_module": "@jupyter-widgets/base",
      "model_module_version": "1.2.0",
      "model_name": "LayoutModel",
      "state": {}
     },
     "2473410416464f75ae95b787d6472230": {
      "model_module": "@jupyter-widgets/controls",
      "model_module_version": "1.5.0",
      "model_name": "LabelModel",
      "state": {
       "layout": "IPY_MODEL_a9416906de3f4deba6adfe883f6f11c8",
       "style": "IPY_MODEL_8e57f44fc5a949ca92a4c4cf084ba4a9",
       "value": "Min value:"
      }
     },
     "24d1547998274b229ac366797c3adecc": {
      "model_module": "@jupyter-widgets/base",
      "model_module_version": "1.2.0",
      "model_name": "LayoutModel",
      "state": {}
     },
     "24e23f23fbe4433d9f39567cb34d6e5d": {
      "model_module": "@jupyter-widgets/controls",
      "model_module_version": "1.5.0",
      "model_name": "LabelModel",
      "state": {
       "layout": "IPY_MODEL_18327a806b004490b6114ea4f36762c7",
       "style": "IPY_MODEL_1865cac5639f44b9899cfbf57b689786",
       "value": "Top N:"
      }
     },
     "253ad27cae9d4ca68e452a19a91d018e": {
      "model_module": "@jupyter-widgets/controls",
      "model_module_version": "1.5.0",
      "model_name": "HBoxModel",
      "state": {
       "children": [
        "IPY_MODEL_ea10b7c5debc4186ad01cb0317c59c45",
        "IPY_MODEL_fb8b766206984b6086aba9db54958ccf"
       ],
       "layout": "IPY_MODEL_0c264aa4ac554c26963d79a23cef305b"
      }
     },
     "253c10dcba9f4578b6d3c57a622d43d6": {
      "model_module": "@jupyter-widgets/controls",
      "model_module_version": "1.5.0",
      "model_name": "DescriptionStyleModel",
      "state": {
       "description_width": ""
      }
     },
     "2849a3c0f7f949158504cb7d15f98b85": {
      "model_module": "@jupyter-widgets/base",
      "model_module_version": "1.2.0",
      "model_name": "LayoutModel",
      "state": {}
     },
     "28bfcc1187ed42edb0f34dbfeddf5afd": {
      "model_module": "@jupyter-widgets/controls",
      "model_module_version": "1.5.0",
      "model_name": "LabelModel",
      "state": {
       "layout": "IPY_MODEL_00c9b1abb0254c269dee7a7b37105385",
       "style": "IPY_MODEL_a412426a8e3046808aa7d765d4407483",
       "value": "Term to analyze:"
      }
     },
     "29361cb21c904af88ac2695519070ddd": {
      "model_module": "@jupyter-widgets/output",
      "model_module_version": "1.0.0",
      "model_name": "OutputModel",
      "state": {
       "layout": "IPY_MODEL_75b63a10c033421fa4ba1a7f71e76016",
       "outputs": [
        {
         "data": {
          "text/html": "<div>\n<style scoped>\n    .dataframe tbody tr th:only-of-type {\n        vertical-align: middle;\n    }\n\n    .dataframe tbody tr th {\n        vertical-align: top;\n    }\n\n    .dataframe thead th {\n        text-align: right;\n    }\n</style>\n<table border=\"1\" class=\"dataframe\">\n  <thead>\n    <tr style=\"text-align: right;\">\n      <th></th>\n      <th>AKIS</th>\n      <th>Acceptance</th>\n      <th>Access to nature</th>\n      <th>Accra, Ghana</th>\n      <th>Accra-Ghana</th>\n      <th>Action research system development</th>\n      <th>Activism</th>\n      <th>Adaptation process</th>\n      <th>Adaptation strategies</th>\n      <th>Adaptive re-use of buildings</th>\n      <th>...</th>\n      <th>vertical farming</th>\n      <th>water</th>\n      <th>yards</th>\n      <th>yield advantage</th>\n      <th>yoga</th>\n      <th>youth activism</th>\n      <th>β-carotene</th>\n      <th>‘Differentiation’</th>\n      <th>‘Diversification’</th>\n      <th>‘Low-cost specialization’</th>\n    </tr>\n  </thead>\n  <tbody>\n    <tr>\n      <th>AKIS</th>\n      <td>1</td>\n      <td>0</td>\n      <td>0</td>\n      <td>0</td>\n      <td>0</td>\n      <td>0</td>\n      <td>0</td>\n      <td>0</td>\n      <td>0</td>\n      <td>0</td>\n      <td>...</td>\n      <td>0</td>\n      <td>0</td>\n      <td>0</td>\n      <td>0</td>\n      <td>0</td>\n      <td>0</td>\n      <td>0</td>\n      <td>0</td>\n      <td>0</td>\n      <td>0</td>\n    </tr>\n    <tr>\n      <th>Acceptance</th>\n      <td>0</td>\n      <td>2</td>\n      <td>0</td>\n      <td>0</td>\n      <td>0</td>\n      <td>0</td>\n      <td>0</td>\n      <td>0</td>\n      <td>0</td>\n      <td>0</td>\n      <td>...</td>\n      <td>0</td>\n      <td>0</td>\n      <td>0</td>\n      <td>0</td>\n      <td>0</td>\n      <td>0</td>\n      <td>0</td>\n      <td>0</td>\n      <td>0</td>\n      <td>0</td>\n    </tr>\n    <tr>\n      <th>Access to nature</th>\n      <td>0</td>\n      <td>0</td>\n      <td>1</td>\n      <td>0</td>\n      <td>0</td>\n      <td>0</td>\n      <td>0</td>\n      <td>0</td>\n      <td>0</td>\n      <td>0</td>\n      <td>...</td>\n      <td>0</td>\n      <td>0</td>\n      <td>0</td>\n      <td>0</td>\n      <td>0</td>\n      <td>0</td>\n      <td>0</td>\n      <td>0</td>\n      <td>0</td>\n      <td>0</td>\n    </tr>\n    <tr>\n      <th>Accra, Ghana</th>\n      <td>0</td>\n      <td>0</td>\n      <td>0</td>\n      <td>1</td>\n      <td>0</td>\n      <td>0</td>\n      <td>0</td>\n      <td>0</td>\n      <td>0</td>\n      <td>0</td>\n      <td>...</td>\n      <td>0</td>\n      <td>0</td>\n      <td>0</td>\n      <td>0</td>\n      <td>0</td>\n      <td>0</td>\n      <td>0</td>\n      <td>0</td>\n      <td>0</td>\n      <td>0</td>\n    </tr>\n    <tr>\n      <th>Accra-Ghana</th>\n      <td>0</td>\n      <td>0</td>\n      <td>0</td>\n      <td>0</td>\n      <td>1</td>\n      <td>0</td>\n      <td>0</td>\n      <td>0</td>\n      <td>0</td>\n      <td>0</td>\n      <td>...</td>\n      <td>0</td>\n      <td>0</td>\n      <td>0</td>\n      <td>0</td>\n      <td>0</td>\n      <td>0</td>\n      <td>0</td>\n      <td>0</td>\n      <td>0</td>\n      <td>0</td>\n    </tr>\n    <tr>\n      <th>...</th>\n      <td>...</td>\n      <td>...</td>\n      <td>...</td>\n      <td>...</td>\n      <td>...</td>\n      <td>...</td>\n      <td>...</td>\n      <td>...</td>\n      <td>...</td>\n      <td>...</td>\n      <td>...</td>\n      <td>...</td>\n      <td>...</td>\n      <td>...</td>\n      <td>...</td>\n      <td>...</td>\n      <td>...</td>\n      <td>...</td>\n      <td>...</td>\n      <td>...</td>\n      <td>...</td>\n    </tr>\n    <tr>\n      <th>youth activism</th>\n      <td>0</td>\n      <td>0</td>\n      <td>0</td>\n      <td>0</td>\n      <td>0</td>\n      <td>0</td>\n      <td>0</td>\n      <td>0</td>\n      <td>0</td>\n      <td>0</td>\n      <td>...</td>\n      <td>0</td>\n      <td>0</td>\n      <td>0</td>\n      <td>0</td>\n      <td>0</td>\n      <td>1</td>\n      <td>0</td>\n      <td>0</td>\n      <td>0</td>\n      <td>0</td>\n    </tr>\n    <tr>\n      <th>β-carotene</th>\n      <td>0</td>\n      <td>0</td>\n      <td>0</td>\n      <td>0</td>\n      <td>0</td>\n      <td>0</td>\n      <td>0</td>\n      <td>0</td>\n      <td>0</td>\n      <td>0</td>\n      <td>...</td>\n      <td>0</td>\n      <td>0</td>\n      <td>0</td>\n      <td>0</td>\n      <td>0</td>\n      <td>0</td>\n      <td>1</td>\n      <td>0</td>\n      <td>0</td>\n      <td>0</td>\n    </tr>\n    <tr>\n      <th>‘Differentiation’</th>\n      <td>0</td>\n      <td>0</td>\n      <td>0</td>\n      <td>0</td>\n      <td>0</td>\n      <td>0</td>\n      <td>0</td>\n      <td>0</td>\n      <td>0</td>\n      <td>0</td>\n      <td>...</td>\n      <td>0</td>\n      <td>0</td>\n      <td>0</td>\n      <td>0</td>\n      <td>0</td>\n      <td>0</td>\n      <td>0</td>\n      <td>1</td>\n      <td>1</td>\n      <td>1</td>\n    </tr>\n    <tr>\n      <th>‘Diversification’</th>\n      <td>0</td>\n      <td>0</td>\n      <td>0</td>\n      <td>0</td>\n      <td>0</td>\n      <td>0</td>\n      <td>0</td>\n      <td>0</td>\n      <td>0</td>\n      <td>0</td>\n      <td>...</td>\n      <td>0</td>\n      <td>0</td>\n      <td>0</td>\n      <td>0</td>\n      <td>0</td>\n      <td>0</td>\n      <td>0</td>\n      <td>1</td>\n      <td>1</td>\n      <td>1</td>\n    </tr>\n    <tr>\n      <th>‘Low-cost specialization’</th>\n      <td>0</td>\n      <td>0</td>\n      <td>0</td>\n      <td>0</td>\n      <td>0</td>\n      <td>0</td>\n      <td>0</td>\n      <td>0</td>\n      <td>0</td>\n      <td>0</td>\n      <td>...</td>\n      <td>0</td>\n      <td>0</td>\n      <td>0</td>\n      <td>0</td>\n      <td>0</td>\n      <td>0</td>\n      <td>0</td>\n      <td>1</td>\n      <td>1</td>\n      <td>1</td>\n    </tr>\n  </tbody>\n</table>\n<p>1561 rows × 1561 columns</p>\n</div>",
          "text/plain": "                           AKIS  Acceptance  Access to nature  Accra, Ghana  \\\nAKIS                          1           0                 0             0   \nAcceptance                    0           2                 0             0   \nAccess to nature              0           0                 1             0   \nAccra, Ghana                  0           0                 0             1   \nAccra-Ghana                   0           0                 0             0   \n...                         ...         ...               ...           ...   \nyouth activism                0           0                 0             0   \nβ-carotene                    0           0                 0             0   \n‘Differentiation’             0           0                 0             0   \n‘Diversification’             0           0                 0             0   \n‘Low-cost specialization’     0           0                 0             0   \n\n                           Accra-Ghana  Action research system development  \\\nAKIS                                 0                                   0   \nAcceptance                           0                                   0   \nAccess to nature                     0                                   0   \nAccra, Ghana                         0                                   0   \nAccra-Ghana                          1                                   0   \n...                                ...                                 ...   \nyouth activism                       0                                   0   \nβ-carotene                           0                                   0   \n‘Differentiation’                    0                                   0   \n‘Diversification’                    0                                   0   \n‘Low-cost specialization’            0                                   0   \n\n                           Activism  Adaptation process  \\\nAKIS                              0                   0   \nAcceptance                        0                   0   \nAccess to nature                  0                   0   \nAccra, Ghana                      0                   0   \nAccra-Ghana                       0                   0   \n...                             ...                 ...   \nyouth activism                    0                   0   \nβ-carotene                        0                   0   \n‘Differentiation’                 0                   0   \n‘Diversification’                 0                   0   \n‘Low-cost specialization’         0                   0   \n\n                           Adaptation strategies  \\\nAKIS                                           0   \nAcceptance                                     0   \nAccess to nature                               0   \nAccra, Ghana                                   0   \nAccra-Ghana                                    0   \n...                                          ...   \nyouth activism                                 0   \nβ-carotene                                     0   \n‘Differentiation’                              0   \n‘Diversification’                              0   \n‘Low-cost specialization’                      0   \n\n                           Adaptive re-use of buildings  ...  \\\nAKIS                                                  0  ...   \nAcceptance                                            0  ...   \nAccess to nature                                      0  ...   \nAccra, Ghana                                          0  ...   \nAccra-Ghana                                           0  ...   \n...                                                 ...  ...   \nyouth activism                                        0  ...   \nβ-carotene                                            0  ...   \n‘Differentiation’                                     0  ...   \n‘Diversification’                                     0  ...   \n‘Low-cost specialization’                             0  ...   \n\n                           vertical farming  water  yards  yield advantage  \\\nAKIS                                      0      0      0                0   \nAcceptance                                0      0      0                0   \nAccess to nature                          0      0      0                0   \nAccra, Ghana                              0      0      0                0   \nAccra-Ghana                               0      0      0                0   \n...                                     ...    ...    ...              ...   \nyouth activism                            0      0      0                0   \nβ-carotene                                0      0      0                0   \n‘Differentiation’                         0      0      0                0   \n‘Diversification’                         0      0      0                0   \n‘Low-cost specialization’                 0      0      0                0   \n\n                           yoga  youth activism  β-carotene  \\\nAKIS                          0               0           0   \nAcceptance                    0               0           0   \nAccess to nature              0               0           0   \nAccra, Ghana                  0               0           0   \nAccra-Ghana                   0               0           0   \n...                         ...             ...         ...   \nyouth activism                0               1           0   \nβ-carotene                    0               0           1   \n‘Differentiation’             0               0           0   \n‘Diversification’             0               0           0   \n‘Low-cost specialization’     0               0           0   \n\n                           ‘Differentiation’  ‘Diversification’  \\\nAKIS                                       0                  0   \nAcceptance                                 0                  0   \nAccess to nature                           0                  0   \nAccra, Ghana                               0                  0   \nAccra-Ghana                                0                  0   \n...                                      ...                ...   \nyouth activism                             0                  0   \nβ-carotene                                 0                  0   \n‘Differentiation’                          1                  1   \n‘Diversification’                          1                  1   \n‘Low-cost specialization’                  1                  1   \n\n                           ‘Low-cost specialization’  \nAKIS                                               0  \nAcceptance                                         0  \nAccess to nature                                   0  \nAccra, Ghana                                       0  \nAccra-Ghana                                        0  \n...                                              ...  \nyouth activism                                     0  \nβ-carotene                                         0  \n‘Differentiation’                                  1  \n‘Diversification’                                  1  \n‘Low-cost specialization’                          1  \n\n[1561 rows x 1561 columns]"
         },
         "metadata": {},
         "output_type": "display_data"
        }
       ]
      }
     },
     "2af25a04bac14647a9cd91a6fb38e685": {
      "model_module": "@jupyter-widgets/base",
      "model_module_version": "1.2.0",
      "model_name": "LayoutModel",
      "state": {
       "border": "1px solid gray",
       "height": "588px",
       "width": "210px"
      }
     },
     "2b8dce8876134678a2573fe7a0ef311a": {
      "model_module": "@jupyter-widgets/base",
      "model_module_version": "1.2.0",
      "model_name": "LayoutModel",
      "state": {
       "border": "1px solid gray",
       "height": "588px"
      }
     },
     "310c3243ca384f75b00f8e92526a4704": {
      "model_module": "@jupyter-widgets/controls",
      "model_module_version": "1.5.0",
      "model_name": "VBoxModel",
      "state": {
       "children": [
        "IPY_MODEL_8ae0f0c372e14c5a89057eba76cea357",
        "IPY_MODEL_0cc0f78fdcba45aaace08f8c5b7a8cdd"
       ],
       "layout": "IPY_MODEL_2406d634ef94424d94fe9763c722f573"
      }
     },
     "331b0a65db884f7195d3ecc980c8ab29": {
      "model_module": "@jupyter-widgets/controls",
      "model_module_version": "1.5.0",
      "model_name": "DropdownModel",
      "state": {
       "_options_labels": [
        "Greys",
        "Purples",
        "Blues",
        "Greens",
        "Oranges",
        "Reds",
        "YlOrBr",
        "YlOrRd",
        "OrRd",
        "PuRd",
        "RdPu",
        "BuPu",
        "GnBu",
        "PuBu",
        "YlGnBu",
        "PuBuGn",
        "BuGn",
        "YlGn",
        "Pastel1",
        "Pastel2",
        "Paired",
        "Accent",
        "Dark2",
        "Set1",
        "Set2",
        "Set3",
        "tab10",
        "tab20",
        "tab20b",
        "tab20c"
       ],
       "index": 0,
       "layout": "IPY_MODEL_f41db0cd82c346b580e3de69dba358fb",
       "style": "IPY_MODEL_7d09fa0cbd744c4fbb4688c10a455137"
      }
     },
     "3445709d9f344d41911cc62e14f1a210": {
      "model_module": "@jupyter-widgets/output",
      "model_module_version": "1.0.0",
      "model_name": "OutputModel",
      "state": {
       "layout": "IPY_MODEL_0d3912c9a6564c3ebcb841468f6e78c3",
       "outputs": [
        {
         "data": {
          "application/vnd.jupyter.widget-view+json": {
           "model_id": "57aa053fa4b84e33988aff6fcd499d04",
           "version_major": 2,
           "version_minor": 0
          },
          "text/plain": "Output()"
         },
         "metadata": {},
         "output_type": "display_data"
        }
       ]
      }
     },
     "378147d4bb9745c2b155c410728819db": {
      "model_module": "@jupyter-widgets/base",
      "model_module_version": "1.2.0",
      "model_name": "LayoutModel",
      "state": {
       "width": "870px"
      }
     },
     "380b89e5783f4ea3aa395a73c775e3d0": {
      "model_module": "@jupyter-widgets/controls",
      "model_module_version": "1.5.0",
      "model_name": "VBoxModel",
      "state": {
       "children": [
        "IPY_MODEL_21c65bde032c4a28aa68fd06d3a08d28",
        "IPY_MODEL_331b0a65db884f7195d3ecc980c8ab29"
       ],
       "layout": "IPY_MODEL_9bcc49c8dd6f49d59d91bb1eae6025cd"
      }
     },
     "396f9c31360d4dc891cf01c387e5e28d": {
      "model_module": "@jupyter-widgets/base",
      "model_module_version": "1.2.0",
      "model_name": "LayoutModel",
      "state": {
       "width": "200px"
      }
     },
     "39f3bef4b4954fd5a2cc6944fee5b2d5": {
      "model_module": "@jupyter-widgets/controls",
      "model_module_version": "1.5.0",
      "model_name": "DescriptionStyleModel",
      "state": {
       "description_width": ""
      }
     },
     "3a0e472461294429a8940f43ac1ed099": {
      "model_module": "@jupyter-widgets/controls",
      "model_module_version": "1.5.0",
      "model_name": "DescriptionStyleModel",
      "state": {
       "description_width": ""
      }
     },
     "3deb6525019f439c896fcd1b5e624fda": {
      "model_module": "@jupyter-widgets/controls",
      "model_module_version": "1.5.0",
      "model_name": "IntSliderModel",
      "state": {
       "continuous_update": false,
       "layout": "IPY_MODEL_4293b4294df44fbbb8a1cb6a68ccad49",
       "max": 68,
       "style": "IPY_MODEL_5d59cbbb7fdc477f9854f8a72603aad0",
       "value": 18
      }
     },
     "3eb46d8768064b82808afe9790a56420": {
      "model_module": "@jupyter-widgets/controls",
      "model_module_version": "1.5.0",
      "model_name": "VBoxModel",
      "state": {
       "children": [
        "IPY_MODEL_4b7755173d8b43649885b7ed72389c02",
        "IPY_MODEL_5354078c940f4c91ae4942fc2b1cdb8d"
       ],
       "layout": "IPY_MODEL_00ebf6a7e3ab4e8a9ce0592c69f0acd8"
      }
     },
     "40156b91fa874a13894ecda64b3fc240": {
      "model_module": "@jupyter-widgets/base",
      "model_module_version": "1.2.0",
      "model_name": "LayoutModel",
      "state": {}
     },
     "414ca926fbef4c6f8688146d1bbea8c6": {
      "model_module": "@jupyter-widgets/controls",
      "model_module_version": "1.5.0",
      "model_name": "DescriptionStyleModel",
      "state": {
       "description_width": ""
      }
     },
     "41caae6f890c4c18956a2b8651a0b375": {
      "model_module": "@jupyter-widgets/controls",
      "model_module_version": "1.5.0",
      "model_name": "HTMLModel",
      "state": {
       "layout": "IPY_MODEL_ea4a3e400c3944a3930b2e9557c3cf02",
       "style": "IPY_MODEL_65775a90724645c5b338153995dd4d6b",
       "value": "<h1>Co-occurrence Analysis</h1><hr style='height:2px;border-width:0;color:gray;background-color:gray'>"
      }
     },
     "424e96cc054342be882a8b8fa51dba7f": {
      "model_module": "@jupyter-widgets/controls",
      "model_module_version": "1.5.0",
      "model_name": "SelectModel",
      "state": {
       "_options_labels": [
        "Countries",
        "Country 1st"
       ],
       "index": 0,
       "layout": "IPY_MODEL_396f9c31360d4dc891cf01c387e5e28d",
       "style": "IPY_MODEL_e6494600aca24b3397636c66c187ad80"
      }
     },
     "4293b4294df44fbbb8a1cb6a68ccad49": {
      "model_module": "@jupyter-widgets/base",
      "model_module_version": "1.2.0",
      "model_name": "LayoutModel",
      "state": {
       "width": "200px"
      }
     },
     "42dfb9a65af345b08d5b2f46eccd6efd": {
      "model_module": "@jupyter-widgets/base",
      "model_module_version": "1.2.0",
      "model_name": "LayoutModel",
      "state": {}
     },
     "4383c6345387416dbae8b6b518197f11": {
      "model_module": "@jupyter-widgets/controls",
      "model_module_version": "1.5.0",
      "model_name": "DropdownModel",
      "state": {
       "_options_labels": [
        "Greys",
        "Purples",
        "Blues",
        "Greens",
        "Oranges",
        "Reds",
        "YlOrBr",
        "YlOrRd",
        "OrRd",
        "PuRd",
        "RdPu",
        "BuPu",
        "GnBu",
        "PuBu",
        "YlGnBu",
        "PuBuGn",
        "BuGn",
        "YlGn",
        "Pastel1",
        "Pastel2",
        "Paired",
        "Accent",
        "Dark2",
        "Set1",
        "Set2",
        "Set3",
        "tab10",
        "tab20",
        "tab20b",
        "tab20c"
       ],
       "index": 0,
       "layout": "IPY_MODEL_e67fea03c1534ecd8c2500422b5cbd66",
       "style": "IPY_MODEL_b3b266cc56334669bb6d2f47838b0ffc"
      }
     },
     "43e236ebb5914acf8b89b7722924c64a": {
      "model_module": "@jupyter-widgets/base",
      "model_module_version": "1.2.0",
      "model_name": "LayoutModel",
      "state": {}
     },
     "45af5668502e4418a11e5e908679f15f": {
      "model_module": "@jupyter-widgets/base",
      "model_module_version": "1.2.0",
      "model_name": "LayoutModel",
      "state": {}
     },
     "4766b2b3e0aa4289b4d21efbf93716e4": {
      "model_module": "@jupyter-widgets/base",
      "model_module_version": "1.2.0",
      "model_name": "LayoutModel",
      "state": {
       "width": "870px"
      }
     },
     "4790495b4b664305932f06184dc4bee8": {
      "model_module": "@jupyter-widgets/controls",
      "model_module_version": "1.5.0",
      "model_name": "LabelModel",
      "state": {
       "layout": "IPY_MODEL_45af5668502e4418a11e5e908679f15f",
       "style": "IPY_MODEL_0d0cb65719c046938efded5132face28",
       "value": "Colormap:"
      }
     },
     "4abfdee6b2a14e0881662bb88e7a2994": {
      "model_module": "@jupyter-widgets/base",
      "model_module_version": "1.2.0",
      "model_name": "LayoutModel",
      "state": {}
     },
     "4b701a69f3e746a480c687a9dd6c96e6": {
      "model_module": "@jupyter-widgets/controls",
      "model_module_version": "1.5.0",
      "model_name": "SelectModel",
      "state": {
       "_options_labels": [
        "Author Keywords",
        "Authors",
        "Countries",
        "Country 1st",
        "Index Keywords",
        "Keywords",
        "Source title"
       ],
       "index": 0,
       "layout": "IPY_MODEL_6b30169136bf4c4c8e67335ce01ae9be",
       "style": "IPY_MODEL_6ef711de387c45629a6bed7e89ed3b4b"
      }
     },
     "4b7755173d8b43649885b7ed72389c02": {
      "model_module": "@jupyter-widgets/controls",
      "model_module_version": "1.5.0",
      "model_name": "LabelModel",
      "state": {
       "layout": "IPY_MODEL_96d7592104ce4af1855966f955f0b3e3",
       "style": "IPY_MODEL_618204c87cac4238b71a10cc0fde2445",
       "value": "Colormap:"
      }
     },
     "4fad00d69e48411fa4e72a5514c8b4d7": {
      "model_module": "@jupyter-widgets/base",
      "model_module_version": "1.2.0",
      "model_name": "LayoutModel",
      "state": {
       "grid_area": "center"
      }
     },
     "50627bc6329b4f72883123da177a26f1": {
      "model_module": "@jupyter-widgets/base",
      "model_module_version": "1.2.0",
      "model_name": "LayoutModel",
      "state": {}
     },
     "52a6fa0008dc4613bcd656ed4696d7d6": {
      "model_module": "@jupyter-widgets/base",
      "model_module_version": "1.2.0",
      "model_name": "LayoutModel",
      "state": {}
     },
     "53135721934747b3af02819705d06732": {
      "model_module": "@jupyter-widgets/controls",
      "model_module_version": "1.5.0",
      "model_name": "VBoxModel",
      "state": {
       "children": [
        "IPY_MODEL_3445709d9f344d41911cc62e14f1a210"
       ],
       "layout": "IPY_MODEL_378147d4bb9745c2b155c410728819db"
      }
     },
     "5354078c940f4c91ae4942fc2b1cdb8d": {
      "model_module": "@jupyter-widgets/controls",
      "model_module_version": "1.5.0",
      "model_name": "DropdownModel",
      "state": {
       "_options_labels": [
        "Greys",
        "Purples",
        "Blues",
        "Greens",
        "Oranges",
        "Reds",
        "YlOrBr",
        "YlOrRd",
        "OrRd",
        "PuRd",
        "RdPu",
        "BuPu",
        "GnBu",
        "PuBu",
        "YlGnBu",
        "PuBuGn",
        "BuGn",
        "YlGn",
        "Pastel1",
        "Pastel2",
        "Paired",
        "Accent",
        "Dark2",
        "Set1",
        "Set2",
        "Set3",
        "tab10",
        "tab20",
        "tab20b",
        "tab20c"
       ],
       "index": 0,
       "layout": "IPY_MODEL_1beda43f0e724786951eaf31027f5bb4",
       "style": "IPY_MODEL_6bc8b41b20e040fbab888de4d5d89aff"
      }
     },
     "542f37b9993d447381a4ddaa623c6f57": {
      "model_module": "@jupyter-widgets/controls",
      "model_module_version": "1.5.0",
      "model_name": "SelectModel",
      "state": {
       "_options_labels": [
        "Author Keywords",
        "Authors",
        "Countries",
        "Country 1st",
        "Index Keywords",
        "Keywords",
        "Source title"
       ],
       "index": 0,
       "layout": "IPY_MODEL_12ff1d9c903944619021310e4be6e371",
       "style": "IPY_MODEL_ee0c990704ce4e568df4c39f2f4cef9b"
      }
     },
     "571bf0c06a0e416eaeb67bd87ed00837": {
      "model_module": "@jupyter-widgets/base",
      "model_module_version": "1.2.0",
      "model_name": "LayoutModel",
      "state": {
       "width": "200px"
      }
     },
     "57aa053fa4b84e33988aff6fcd499d04": {
      "model_module": "@jupyter-widgets/output",
      "model_module_version": "1.0.0",
      "model_name": "OutputModel",
      "state": {
       "layout": "IPY_MODEL_5ad0c34b27424ceb96aa3bc612bbf7ca",
       "outputs": [
        {
         "data": {
          "image/png": "iVBORw0KGgoAAAANSUhEUgAAAxsAAAFFCAYAAACExfBnAAAABHNCSVQICAgIfAhkiAAAAAlwSFlzAAALEgAACxIB0t1+/AAAADh0RVh0U29mdHdhcmUAbWF0cGxvdGxpYiB2ZXJzaW9uMy4yLjEsIGh0dHA6Ly9tYXRwbG90bGliLm9yZy+j8jraAAAgAElEQVR4nOzdd3wU1fo/8M+Z2dmSbLLpCemBhAABhERyQw0QAekgIApiA5FruVewXIqgwEX9ehEUf4AoNsQLgogQxRA6oYMJPSEhvRLSs9ns7JTz+2M3XkAQFCLF83695sWyu7N7ZpPMznPOeZ5DKKVgGIZhGIZhGIa51bjb3QCGYRiGYRiGYe5NLNhgGIZhGIZhGKZZsGCDYRiGYRiGYZhmwYINhmEYhmEYhmGaBQs2GIZhGIZhGIZpFizYYBiGYRiGYRimWbBgg2EYhmEYhmHuUoSQzwgh5YSQ05fc9yYhpJgQctyxDXLcH3vJfScIISObvX1snQ2GYRiGYRiGuTsRQnoBMANYRSlt77jvTQBmSunCK57rBMBGKZUJIS0AnADgTymVm6t9bGSDYRiGYRiGYe5SlNK9AKpu8LmWSwILPYBmH3VgwQbDMAzDMAzD3HteIIScdEyzcm+6kxDyN0LIGQCnAExpzlENgAUbDMMwDMMwDHOvWQ6gFYBOAEoBvNf0AKX0MKU0CkAXADMIIfrmbAgLNhiGYRiGYRjmHkIpvUApVSilKoBPAMRe5TnpsOd6tG/OtrBgg2EYhmEYhmHuIY7k7yYjAZx23B9GCNE4bocAaAMgrznbomnOF2cYhmEYhmEYpvkQQtYA6A3AixBSBOANAL0JIZ1gTwDPA/Cs4+k9AEwnhEgAVADPUUorCCE3lShOKSXXbB8rfcswDMMwDMMwf13NGWywaVQMwzAMwzAMwzQLFmwwDMMwDMMwDNMsWM4GwzAMwzAMw/yFcVzzjT+wkQ2GYRiGYRiGYZoFCzYYhmEYhmEYhmkWbBoVwzAMwzAMw/yFaTTNFxKwkQ2GYRiGYRiGYZoFCzYYhmEYhmEYhmkWbBoVwzAMwzAMw/yFsWpUDMMwDMMwDMPcdViwwTAMwzAMwzBMs2DTqBiG+csjhOgBuALQOTbtFbdVAPIf3BRKKf0TD4dhGIZhfpfmrEbFgg2GuYuYzWYCwFuSpOCCgoLQ4uLiFtXV1b51dXXekiTpVFXVqKqqpZRqVFXVAqBBQUE/U0ppXV2dt8Vi8W5sbPSxWq3ukiQZeJ63aTQaqyAIVp7nLYIgNPA8b9FqtQ06nc6i1WotBoPBrNfrLUaj0ezi4mJu0aJFtaurazWAGgC1AGqMRqPttn4wVyCEEABBADoCCMH/ggXFsTXd9gPgDcAKoAqADYB4xWYDQGA/X/6RTXC0p4kVQJ5jywVwgVKq3urPgGEYhmHuBIR1uDHMncNsNvscO3Zs6PHjx/vxPG/V6/W1MTExe1u3bp28bdu25/fs2TNPp9NxlFLZ2dmZurm5wc3NjTOZTBqtVsvxPA+e56HRaMDzPCilyMzMtBFCYDKZNCaTiTOZTHB1dYXBYIAsy7BarbBarRBF8ZfNarWqVqtVFUVRFUWRiqKIxsbGpn8hyzJxXEBzAHhZlhsppRW+vr7nEhISJt1///0Ff+bnRggZBCAYQACAppNaAYBTsF/UEwA87Bf//CW3KyilF//kthpgD4BCAYTBHvAA9lEUE4BjlNJP/8w2MQzDMH9tLi4uNxUQ1NfXk2s9xoINhvkTmM1mkyRJrU6fPt0hJyenrSiKzqIoOlssloCGhoYW9fX1HpRSV0EQnNzd3eWYmBidoiior6+Xz5w5o1gsFsFgMChTp04VtFrt7T6cX6iqivz8fJw+fVpJTU3lT548iRdffPGpIUOGfEEI0QHwBOAC+xQll0s2PewBABz/Nt0uA7CTUlpPCDEBiHFsLo7HqeO5pQAyYB8ZqAXwA4DZAHb/WaMEhJBQAG8CyAdgvGJzhj14qAFQCOAi/hcEAf87XgPsAVIe7CMeJwAcoZSWNXPzGYZhGOYXbm5uNxUQ1NTUsGCDYW6n0NBQOmrUKHh5eYkBAQHEycmJNxgMvLu7O7y8vODp6QmdTne7m3lVNTU1SElJoWlpacRms4EQAp1OR1VVlUVRbHB3d88OCgpK+eSTT9xyc3OrysvLzY5dRQAVAOqvsllhv/huOgE13Q4G0BeAE+xBxM8AfqaU1jW1xzGi4gegDeyjA64A2jv2a+l4WimA6Oa8aHeMUDzhaIv5kq0egAX243eDfTqXN+wBRlOw1HRStsIeYPUGsJxSepAQogHQAoCXY/N2/OuOGyvqUQ7gE0rpHTW1jWEYhrlzsWCDYe5wZrNZEEUxdOrUqZm+vr5VVqtV4uxFq7lWrVrtDwwMzE5JSXlco9G4BQQEyI899phOr9ff7mbfkLfeeot+9tlnxGq1IiwsDH/7298qJk6c6B8bG+sN+6hDFOy9+J0AvEcp3XdbGwyAEBIGoPhOv+B2JKZ/AGAggDWwBygy7AHIRcdW4fi3hlKq/MZreQDoAGAkAC9K6WPN23rmdhNF0QD7qN9FnU7HvsxvAVEUic1ma7Np06ZhjY2NodXV1RG1tbVBFovFNTQ09GifPn1WRUZGbtXpdPW3u60McyuxYINh7lBms1l45513Pqmvrx+r0+l4s9ksTJ48Ga1atQIhBJRS7Nq1S96+fTt4nq/w9vbO1Wg0uuzs7A6urq7E3d1d6dy5s7ZVq1ZEVVVIkgRJkqAoyi+3OY6D0WiEi4sLjEYjnJ2dcXm+8a1VWFiIbdu2iQUFBeB5XrDZbGaDwZBWUFBwbMuWLdbq6uqmk0YJgGMATlNKG5utQfcwQggHwBdA2e+pWEUIaQsgFvaRnKZfhmrYc1ROASj/q1TAkiRJAOADwLewsDAoIyMjoqysLNTFxaW6W7due318fE7n5+ffl5SUNFmSJMHd3T07MDDwfKdOndJNJlMxgFxBEMTbfBiXiY+P7xQXF5dWUVGByspKyLKMwMBAuLq6NthsNrRs2fJQUVFRN57nDQBQXV2NM2fOoHfv3gnz58/febvbf7cRRTFw9+7dY44ePTq+uro6iuM4vqKiAiNHjuQDAgK4Fi1awMXFBT///LO6Z88eqaGhQeB5viwhIWFBz549V+p0uju6U4NhboSHh8dNfWdUVVWxYINhmsOrr756QVVV91mzZl03l6KxsREFBQXIz89XcnNzpfLycs5isfBlZWW8yWSqKygocM3IyIBWq4UgCNBoNNDpdHB3d4eTkxNSU1Ph7++PsWPHYvLkybf8WM6dO0dXr14tOzk5FcfFxS3t0aPH7gceeKAhNTX1XwAuANgI4AQLLJqfY6pYEoB2sFfSkmCfmrUR9sT2TAD7AOTea5WsJEkiADwkSQrLz88PDQ8P/0EQBKvjMdeUlJQJZrPZRRRFQ319vf9XX301qV27djCZTJJer1d9fX3h5+enqa2tVTIzM1VZljWCICh9+vQRnJycuJKSErmkpEQuKyuDoigcIURjs9nqXVxc8mpra3ctWrRo6m3+CNC+fftOo0aNSjWZTGZXV9e6GTNmBDz77LN49NFHkZGRQRcvXky6d+8OSqlVkiSzq6urJSIiwnzffff169ChQ8ntbv/dhBCiGT16dOPhw4c1I0eOxOzZs+Hi4nLd/SoqKrBq1SrxwoULJCoqav2YMWOmu7m5Ff0JTWaYZsGCDYa5Qy1ZsiQ5Kyur97Bhw/jY2FiO5/k/9DorV660ZWZmNlZWVprGjx+vduvWjdPr9VAUBRUVFbhw4QIiIiJgMBhuus01NTXYuXOnVFxcrFRXVxMARJZl3sXFJXPMmDHPtm/fPqXpuY6pOXGw96A35R14AfiQUpp+041hrokQEgT75+0GYDqAXZTST25vq5qHJElk3rx5qRaLJVSn0xkJIURVVVmj0RCz2WxzdXUtUFWVT05ODnvooYfg5eVFtVotKS0tpbm5uUJGRgZ8fX1JYGAgFEUhvXv3Vlu1asWZTCaYTCbo9frLRgMppbBarWhoaEBtbS2SkpKUQ4cOkaqqqozk5OSo2/hRXFVWVtagPXv2jCgtLb3Py8sro02bNge6dev2qU6nk2932+4Foii6SZIUkZKSMmDjxo1vzJ07V+Ph4XFD+yqKgi1btkibN2/mXnrppYTo6Og9jtfUAFDY9DbmbsGCDYa5Dsf6E3qj0XhDve7Tpk17MS0tbUl0dHSDJEmNWq22wc3NrdjLy+tkZGRkaqdOndIEQcgxGo1VV7yPEfb8BCuARqPRqJ48ebLP9u3bpxUWFsYLgqAtKirSnT9/HrNmzaIJCQk3NN/JYrFgzZo1dMmSJSQkJEQ1mUzcpEmT1Pj4+BtJCL6qgQMHYt8+e/rExIkTVTc3t0bHBVxdu3btvo2IiDgeGRmZp9frLwK4cOmxOpKUg2AvzRoGIBD/S06uAfDBvdajficihHQBMA7AO5TSC7e7Pc1FkiTt/Pnz8+Li4nz69et3WcTe0NCAhoYG8DwPVVXh7e39q/1FUURqairdv3+/WF1dLeTk5FCDwSB6eXlZBEGwyrKs12g0OkopUVVVUlVVEgTBqtVqGw0Gg7lLly7/7dOnz0pBENg8/L+4/fv3P7hx48Z1PM87ubi4SF27dtWFhYURX1/f31z07PXXX5fmzJkT89///vet7OzsBwRB0FdUVKj5+flifHx8avv27Tf37t07UavVntPpdOzcydxxfHx8biogKC8vZ8EGc28qKioyJSYm7s3JyenI8zxSUlIQFxeH8PBw+bnnntNfK6H26NGjXb755psj5eXliIuLw0MPPYSSkhLk5uYq58+flyoqKgjHcRpFURqGDh36ZHx8/EYAmDp1aqVer3cDAEVRyN69e20PP/zwtj59+izu3LnzTgB4/fXXz/r5+bV++OGHeScnp99sf0ZGBl27dq2ckZHBubi4cP7+/pTjOCkoKAhPPvmkzp5j/scdOHBA/uijjzTjxo17dvTo0R833X9JRaemYCIE9pWymyiwl2zNdWzFv5WczNx6hJBY2Cts/d9fIf9CkiTTf/7zn5Nms9nviSee0LZs2fL6O12+P3766Sc5PT1dbmxs1BUWFkKj0dTHxMQ8Onny5AKr1eql1+sPCILA5tcz1yWKos/Jkyf7HTx4cGRVVVXruro6b57nXQRBMACglFLKcRzXNApnMplKKysrXaKiopwfeeSRX86lqqri3LlzOHDggJiXl8dZLBbSsWPHZyZPnvzF7Ts6hvk1FmwwzFWYzWbXbdu2zVm0aNHLJpMJubm5tGXLlmpISIgSExNT+PTTT0f81kXasmXL1u3fv3+MyWSCi4uLDfa/Bx6A1LZtWy4qKkoAgJUrV2LQoEFrRowYMW7JkiW7Gxoauj7++ONak8mEuro6rFu3Dnv37hVXrVrlCfv8eufvv/9+Rlpa2tNardYEAKqqKpRS1TGVgxBCiCRJnKur6xmTydRh+/btaN++PQCII0eOFKKiov5wlKEoCrKzs3Hy5Enp7Nmz1GazKeHh4a+/8MILi5qeQwj5EPa1HU7DHkzkU0rvqCTZvzpCyGgA5yilp253W/4skiSRM2fODN60adN7NTU1Lfv164cePXpobmT64Lx586SwsLDvY2Nj10dGRqZ9/PHHH6WkpCS0atVKpZTKFouFuLq6lkRHR3/SvXv3g25ubicEQaj8Ew6LuYeIokhgX3zTGfby3A2bN29+4/vvv5/z+OOPE5PJhOrqalpZWSlVVVWpVVVVTfsQQghnsVjo3//+9y6RkZEnbuuBMMwVWLDB3PPMZjN38eLFuAMHDgyilILneclmsxkqKioiamtrW4aHh7/w+OOP7296PiGEjBw5Uq2qqsLEiRMRHh6OwsJCnDhxAtu3b8eoUaOKXnvttaA/0A5jTU1N9O7duwcWFBTEWSwWL0mSAjw9PYtee+21jmazmU9MTJyXmpr6uCzL7rW1tfKePXtMAQEBMBqN0Ov1qK6uRpcuXea8++678x3Tuwywfzm5O97G4tjqNm3a9PiKFStW9OrVS5RlWSeKIr777jtERUVh1qxZ6n333XfDQYcsy0hMTJT27dsnBQYGnggNDd3Ts2fPn7y8vPYZjcbLhu0JIfEAusK+ngXwv/UeamGfJlVzye1aSqn0ez9L5uY4VkXXUEo33+623A6VlZUR69evX1BQUJBw4sQJj169esnTpk27bB6Lqqr44IMPxMrKSk1ISEjKM88801cQBAoAS5YsaVywYIF+9erVCA8PR0NDA7755husXbsW58+fx8CBA7O3bNkSfnuOjrmXzJgxYzulNNRoNFYbDIaLzs7OJR4eHhWBgYGyJEle58+fj8jJyYlQFIX4+/sfjY6O3tGlS5dtOp0u83a3nWGa+Pn53VRAUFZWxoIN5s5jNps12dnZA5OSkl4qLS3tJggC165dO0IIgaqqVBAEEhAQIGzfvl3p2bPn1IEDB3546f6lpaVdd+zYMSwrK2ug2Wz28PHxSQ8KCjoSGxu738/PbycAyWg0Ntsv+IEDB3p/9913X1RXV7vJskwAQKvVyp6enrKfn9/Ml1566dNr7ZuUlPRUbm5uXHV1dYfExMSu69atg7u7PRZRVRWFhYWQJAnh4de/FtqyZYu4du1aHaUU0dHRNCYmZtKgQYM+u9HjcEyp6g3gbwA6wj69ygR7YrLJsWkAjKWUrrvR12X+OMfPxBPAFAD+AN6ilP4lK928++67r2/dunX+Aw88IA8ZMkQTGRn5S7L3V199ZTMYDD+MHj16iiAIFy/dr6SkpGdaWlrPvLy8DhUVFVFarbYhLCxsT+/evbd5enqmCYJQddU3ZG6YKIoc7L+n7gDcy8rKvPz8/A7qdLq/7Gebm5vbad26dcsuXrwYy/O84ufnp9533326qKgokpmZiZdffhlHjx7FlClT0KtXr7fCw8O3dOnSZf/1X5lhmhcLNph7itlsNm3evHn2kSNH/m4wGPiBAwcKnTt35pouIGRZRm5uLmpra5GamipmZ2eTf//73/E///xz58DAwJLAwMAsAAVGo9F8ldcmGzduXJyWljZRq9U6iaJo6dSp04onnnjilRtsmw6ABwDRYrG03L59+4hz584NbmxsNAmCYNmzZ4//2LFj9z711FOPvfbaa+lOTk4BQ4YMIS1atAAAlJaW0l27dimNjY38pZWpRFFUfH1998XHxz/dvn37xjFjxpQOGTIE4eHhCA8Ph6en5zWTDyVJQn19PXQ6HZydnX/1+IULF7Bu3TocP34cmZmZGDx4cO2///1vtxs5XgAghPAApsFedeonAGsopQ03uj9zaxBC3GGvOqWFfSXyKthHnEQAxyilJ29j824rSZI8Dx06NDolJeXpqqqq+/R6vQ4AdDpd1fTp04MFQWC/r81AFEU9AFfHZjKbzW6ZmZmBqampAwoKCnoC8HPklakAKM/zqK6u5uLi4iZOmDDhq9vY9GbnmBrV8uTJk11VVeU0Go3C87zzhx9+uPTpp58m999//69KE4qiiOLiYtTU1KC6uppWVVVJKSkpJDQ09GhFRUUHjf1LgMKeEwIAkGXZ5u3tfTYqKiqxT58+P2q12nSdTsfy55hbjgUbzD1j6NChr6ekpMyfMGECXn31VdhsNpSVlaGkpEQ5efKkZLPZtJIk1Xl4eKQbDIbyiIiIvKNHjz5ssVh8/Pz8pPr6eoiiyHEcp1FVVRFF0ezj45P+4IMPvhcZGflDWloav3DhwrqJEydyffv25SileOWVV+SHH374FUVRpNzc3HYGg6EuKChoV58+fbZd2b533nlnd1lZWU+9Xk8VRVHatGmDuLg4rYeHBywWCxRFwf79+6XCwsLiadOmxR46dGjUoUOHHquqqgpWFMWg0Wh0HMfpKKXk0Ucf1URGRhLAXmrz9ddfV1u3bl00ZMiQJ5KSkqYUFRW1lWVZJ8uyVpIkPSHESaPR6DmO01BKJUVRJEVRbACser3eIsuyVlEUN0EQnBzHL6mqSiilql6vzw0PD9/ar1+/79zc3I4YjUbrH/n5EEI6AhgOQA/7tKoLsF/8Nm3CFf+/dJqXCqDRsRUDOEQpZTX/b5Bjgb8usCeFG2HPo/n4t/f663Gsw6ERBIFN7btFRFH0KC0tjd2zZ8+DeXl5vevq6loaDAYj8L98MwCUEEJNJhM6deqkjYmJ4SilyMnJQVZWli07O1ttbGzkJUmyxsTEPDZu3Li7cvrf2bNnOyclJc2z2WyukiQ5S5JksNlseo1GI0VFRW0CoGRkZAyzWCzhADh3d3dFo9FAVVWoqopRo0ZpQ0NDb3j667lz5xRVVfk2bdpcdbHWpgTzgwcPirm5uURVVS4gIGDv+PHjn/Hx8cm5hYfe7ERRFHbt2vVcVlZWt4MHD8YKgqD19/e3chwn8zwv8zwvGQyGqhYtWvzcpUuXQ2FhYacA5Op0Ova3/icIDAy8qYCgqKiIBRvMnWHhwoW+wcHBC7Kzs1tWVFS0MhgMda6uroXu7u7ZXbt2TQ4NDd1jNBrrzGYz2bp166yffvrpjRdeeIEPDw+/6i8xpRRnz56liYmJNrPZzLm7u5/08fGpPHLkyAMGg0GZN2+e4PgCUIYPHy6FhIQIVqtVPXz4MHnnnXecjUbjZZVpFixYkKIoSleDwSCZzWYMHjxY065du8uGHKxWKxYsWFC3ePFik9ls1mdkZAw7evTogMLCwq4mk6l09OjR0+vr611XrFixdtKkSV6RkZEA7CMQ+/fvl86cOaNarVbOyckpVxAEiyAIjVqttsZgMFw0GAw1NTU1LSsqKtqIougtCIKO53kNIYR3TK0BpVRVFEXWaDRV8fHxX3bv3v0to9FYd6t/VoQQP9hHeWywLypnu+K2dGmFKscIiR72HJVg2Kdl+TsergbwI6X03K1u572KEPIS7KNM92zJW+bPJ4qipq6uLiY5OXm0Y9Q2hOd5nUajkTp27KiJjo7WBAYG/nLhK0kScnJykJGRIaenp8tWq5UnhPCSJFl4nq/w9vY+FxAQkBYdHX0kJCTkLICsO7m0qyiKrufOneu/a9euCfn5+V0IIXqO47Q8z2s4jhMaGxsxbNgwzsPDA3q9HgaDAQaDAY2Njdi1a5dNVVX07NlTGxT0u1MCbwlKKRITE9XU1NTMt99+u+1tacQftHLlysScnJwBCQkJmpYtWxKTyQRFUSBJEmRZhizLqK6uRlZWlpyZmSlbLBaO53nBZrNZeJ6/GBQUNO/555//PDk5+eG6uro2wcHB+Y7y7RcAlACoZ+ua/HEs2GD+clatWtXn/fff3zlgwAA5LCxMEQSBiKJIbTYbRFGkoihCkiSNLMsaURQREBCASZMmITs7GxUVFbBYLLShoYF27dqV43keFosFZrMZDQ0NSE1NtdXW1la8/PLLwUaj8bLh6MOHD7csKSkZ5e7uXiWKYvfExMTHJ02axPv4+KC+vh61tbVYt26d3LNnz9kxMTHLly5deo7jOI/777+f69ixI5+fn6+sX7+eenp6Jvbu3fu7HTt2fDpr1qxfLS1OKUVlZSVEUURjYyMaGhpQV1eHuro62c/PTxMWFobrLSpVWVmJDRs22Gpra8vmzp0bcot/BLeUY3HA9wH8i1JaervbcycjhHgDeB0AD3uwweZzMzftwIEDrps2bToFIACA0qFDB/To0UPbNAW0SX19PZKSkmzHjx8nPM9TWZarPD09zwcGBh6JjY3dHxYWdhJA3t2woKAoityuXbv+sXPnzpckSdJSSvVardbk7Ows9erVS7j//vs5rfZXp+c7Uk1NDY4ePaoeOHBAMpvNmiFDhjzRv3//r293u26UKIq6cePGWQYOHKgMHTpUcHO74Zm+aGxsxKuvvkr79+//wrBhwz4bNGhQo8lkQlhYGAwGg7J7924SHx8PSimVJKlRUZQ6T0/PD2fNmvVOMx7SPYcFG8xdy2w2a2Hv3TYCMNbV1bkWFxd7VlRUeJ4/f95z+PDh+z08PDIAlFxaMclsNnMAwktKSlofP368syRJgl6vtxgMhgYnJyfL9u3bV5aWliIwMBCdOnWC0WhERkaGNT8/n/A8L8iybJVl2UIIEXU6XaNOpzPrdLp6rVZb26JFi3MjRoyYZTQaf7PUa0FBgcvWrVvfLi0tjTGbzT56vb7OYDBU+vv7nxo1atTLq1evdsvMzDzN87wPAIUQQrVaLa2pqeHr6+uPLl26tMdnn32WUlxcHMtxHK+qqmwwGNTg4GDO399f6+npiabeM47jfhmGb8rRaNpqa2vluro6xdnZmfPz8xOMRiPy8vLkrKwsuaKiQuPn53dm+vTpnZrz53grEEJCAQyDfbHADZTSQ7e1QXcoxwjWGAD3wb7Gxi0ftWL+WkRRNBw/fvwfCxYseGf9+vW/eryoqAiJiYlicXGxhuO4ix06dFg7bNiw5a6urndttaRdu3a1Tk5OTjEYDG7PPvus1sXFBZfm0d3JKKU4fvw43bdvn3jx4kWeUgqO44pDQ0P3PvDAA6uDgoL26nS6u65UuSiKAZs3b37u2LFjTyqK4qvRaOSmUXubzdZACKEAmsoEo+m2JEl0wIABUx988MGVAFBYWNht165do3JycvqbzeaWer3e0JTkYrPZ4OzsnBEdHT112LBhybftYO9CISEhNxUQ5Ofns2CDuT0WL148/csvv3z7gQceUBzzMqnRaISzszMyMzN5Nzc3RVEUjSNPQQWgUjtVkiRrcHDw7gEDBnwQHBy8+9LKUp9//vn76enpQzmOUziOkz09PbPDw8P3duvWbY/BYDh7teTxP8JsNjvD3hOYYzQa5Uvu5wGoRqORms1mjcViGbh9+/anly1b1q9z584SANExB1UxmUwXvL29s9q0aVPk6+tbeuLECY/y8vKwhoaGwKqqKt8TJ054d+7cuZ4QohJCVEEQVK1WW6XX66v1ev1FZ2fnKhcXlyqLxeJaWVnZ0mq1evr4+JyKioo60qFDh2MAzjVn1a1bzfEtMg1ANqX0+9vdnjuFI2djBezBeSrsSbn5lNJFv7kjw1yFKIpcbm5u38TExDklJSVxPj4+6tixY3UBAQG/PCc3N5cuXbpU8fDwOPeFtbAAACAASURBVN+1a9dP+vTp85VOp7v4Gy97R3BUwfKF/dxMYJ/aKQFoOke7njhxYtDixYvfnDhxotSzZ0/hNjX1d6uqqsKoUaMgyzLGjBnT2K5du287duy42sfHp+jgwYO9VFXN69u3b1LT8x2J6tzdljQuiqJfY2NjhMFgOA97fqAGgA/s1c0ogDM3Oh3P8Rk0lZiv1+l0t+T7/6+GBRvMXctsNvM7d+78/OOPP56wdu3a37WvLMs4cuSIumPHDmqxWCx/+9vfZo0YMeK/RqPxdy/EZTabyVtvvYWKiooiWZZ1Li4ulBBCQ0JC9sXGxk7u3r17xaXPP3/+fPDmzZtX5OXlJWi1WvA8z0uSZOZ5XsPzvJYQovH29s6eNm1a+Lp1617ZunXr2/3790evXr00Li4uoJRCURTYbDZcuHABubm59O233ybR0dEZS5cubQsAeXl5nTdu3PhmWVlZlCiK7oIgODc2Nury8/OlNWvWOImiGHrkyJEHMzMzu5eVlXUWRdGfUmoMCgpKGTdu3KjPPvssta6uLpDjOKKqqqKqqqwoiqzVasvi4uJWJiQkfGo0Gu/YCwdCyHgARkrpitvdljuBIwjzhr3crZZS+vptbhJzF+vbt++YXbt2revVqxeSkpLgqBoFwJ50vGLFCtuFCxdqn3jiiUFt2rQ5dhubesNOnDjR+bPPPksxGo1OjsR15YqkakIpBSGE8jxPTSYTIiMjuQEDBtwdc6UuUV9fj/z8fJw5c0Y6d+6cIkkS5+vrS8+dO8fHxcVtPnXqVE9BEJw1Go2eEMJRSlVKqawoiqSqqiTLshgcHJzz/PPPx18rwVoUxYh//OMfZ9zd3VVJkhoBNDg7O9cQQiillPA8L0VHR6/r37//yuYKQnfs2OFVUlKSePLkyThBEFTH9xgAECcnp8z4+PhXLg2umObDgg3mrpWUlPTwhg0bVj/77LN8mzZtbrhCx8WLF5GcnCwdPXqUKy0tJY2NjSQsLIx6eHjQmpoaadCgQcN79+5dc/To0Zi6ujr3Bx988HOj0VgKAAUFBW3T0tKGJyQkfAmgbMGCBRmyLIcB4Hbt2sW7urpizpw51M3NjcyaNYs+8sgjvSZMmLAP+KX0bZvvvvvuyf/+978vLVmyBP7+/pe17cyZM/LKlSv5mJiY/VOmTOn5z3/+s/rNN990E4Rfd57V1tbi2LFjypYtW2jPnj0/HjFixDQAmg8++OBEZWVlcL9+/bgOHTrwJpMJhBA8/vjjdNq0aa9VVlbKmzdv/k9UVJTcrl07XWRkJPH29gYAbN++XUpKSqLOzs6i0WjUTZw4Uevh4QFKKSwWCyoqKpCcnEyLiopIaGho4VNPPRVyp458EEISAHSHfR2JO34O+K1GCFkG+9omOxx3VQEoApBIKbVdc0eGuQZRFJ2SkpJeTklJeVmn0zk/9thjmpYtW/7y+IkTJ5TPP/+cxsfHfzJy5Mh/NEfuRXV1dYtt27Y9n5OT08toNBZ6e3tnt2zZ8lzbtm3PC4KQp9Ppfil6IIpigCRJQYIgHL5ecm9ubu6QL7744tuZM2fqbnWb7xZFRUVISUkRH374Yd1vTQtTVRXLli2zFRYWNvA83yAIgqjVaq2CIFi0Wm2DIAhmo9HoUlpa+rfp06frAXtp3urqajgCNoiiiOTkZDE/P18jCELphAkTBrVt2/bUrTye/v37P15TU/NlQkICCCGKY8qxynEcV1BQgDZt2qTPnDmz3a18T+bqWrZseVPXCTk5OSzYYP58O3fuHPr1119/t2DBAo3RaLzu8wsKCrBmzRrxwoULQlZWFgkLC1NjYmKUbt26acPDw0EIwYULF/DEE0+ge/fuUBRF9PPzo3q9nsvOzuZ1Ol2hVqsVa2pqWoWGhioFBQWa1q1b7youLm47bNiwFlFRUZwsy9i5c6f66aefEkEQlHnz5v2tY8eOqU1tWLZs2RebNm16Ijo6GmazWVmxYgW/adMm9OzZ87J2fvvtt9a6ujrB2dm5wM3NrTQkJKRL//79BcA+33b16tW29PR0qtfrSwIDA39+6KGHXg4MDCwwm8380qVLj4eEhLQeMmTIr3rbzp49q3700Ueq0Wikb7zxhqDTXf07VRRFzJ8/X+7QocP2zz//vGe3bt10FovFmpOTo62vr9eqqkrd3NyUNm3aWGbNmtVNq9WevYMDjrawry/xKqW0/Ha3p7k5pkuNgH0htKOwV+56EMA/L63uxTB/xLJly9aVlZWN/Oc//3nZebe+vh6LFy+2GQyG/KeeempwQEBAVnO8vyiKLjNnzixp166dNjo6WltZWUlLSkrk4uJipba2llRUVGgWLVoU6erqmg0AL7zwQqHZbA6Ij4/fNG7cuId0Oh11TIvxg31qjM6xyQC4l19++ef33nvv6osSMb9CKYUkSWhsbERjYyMsFgusVusv/4+MjERTR9ZvycrKol999VX1vHnz/G5VKdpvvvlm4vHjx+dIkhTA87xM7JpK28uKothkWbYSQixGo7HaycnporOzc4nJZCrz9vYuCg0NLQwMDCwVBKES9o6a6rttOtmdhAUbzF1nx44dA9asWfPjm2++yV+v6kRdXR2WLVtmUxSlwtfXt6asrCxi6tSpwtUWsPstFy5cQENDAy7txVu4cKHUqVOnHd99992AZcuWXfaHsGjRIlv79u0XPPTQQ/Oa7ktJSWm/d+/ejysqKmJ0Oh3t06ePJi4ujr9WD9K8efPonDlzgmfMmJFpMBgEHx8fNTc3l4uOjt44duzYCVcmoaenpw9ZtmzZd2+//fY15xDbbDYIgnDVmuuXWrZsmS0rKwseHh4aSql67NgxvPfee5qIiAioqoqsrCwcOHBAzMvL4xRFsYWHh/84YsSIBYGBgXfU4nCEkFEAWgFY6MjbuacRQiIAvAJ7meB2AH4G4AxgIhvNYP6oH374oU9KSsqq6urqFlOnTuUvPQ8CwMcffyz6+/uvHjJkyDPNVR5UFEWX5cuX7wwKCup4tc4USimmT58uDxo06KX4+PjlmZmZA1asWPHl6NGjvdauXUv69u370alTp/qIohjG8zwH+9o9AEBlWSaqqtLy8nJdWFiYNHPmTOF650jm1klMTBTT0tKsc+bM8bpyNEwURTcAHjqd7net+zFr1qyz999/f+SgQYN+c9aD1WpFVVUVqqurUVVVhcrKSrmyslKpqKigjY2NTQnlHACNq6vrmcmTJ/f18PC45zuubjUWbDiIoqhdsmRJSkVFhY9Wq7WEhITs79mz54+hoaE77uSEIEKIM4B42KdHZP8VVmd+//33J+Xl5S0WBMFgNBqluLg4bXR0NGcwGC57HqUUM2bMUEaOHPnywYMH+xw+fHj4jBkz0KpVq6uulv17qaqKOXPmyF26dFGHDx9+2ZefzWbD7Nmzpf/7v//zNhqNtZc+Zjab+ZKSkvgtW7a8lJeX19fDw0OYNGmS1tXVFVarFT///LN68OBBSZKk+s6dOy/bunXrzNDQUHrx4kU4/qak2NjYj4YPH/7GpcnqZrPZ64033iibO3fuTZdFURQFHMddNygB7Pkve/bskdevX0+eeeaZ1zMyMoIrKyvb2Ww21xEjRvy9U6dOh2+2PX8EIaQXgFkA3gDQAvak6ERKadXtaE9zI4T4XDp64ygJPBH2xMZlbBFE5o9KTEycvm/fvreeeeYZEhAQcFmOBgCcOXMGa9asKZg2bdrAFi1anL2V7y2KomndunXvHjly5KmYmBj10Ucf/dWQrKIoePPNN6U2bdokqqp6+uzZs68YDAbNQw89JLi6upKvv/5aSU1N5T/88EP4+fld9X0opTh16hTdtGmT/Oijjwrh4eG38jCY37B//37b+vXrycCBA+cOGDDg7abk7crKSu+33nrrPCHESVVVq7+//wFfX9+TpaWlXS5cuNCa4zgTpbTWx8cnMyAg4LBer7cdOXJkos1m0zo7O0s7duzw27hxI9zd3W9JO1NSUqRvv/2Wtm7deme/fv2Wt27dOlmn0/2hRW7vVKIokurq6vabNm36p9FoXDZ+/PjU6+91fRERETcVEGRlZd0zwYb/jBkzip999llkZ2djw4YN+Prrr/Huu++u/Mc//vHM7W6fI8GzFYD+sFfGoABeABAFQIG9aoYG9hWWZwAoh72aRi2AOgDbKKU1f37Lm4/ZbPY+ffp0v0OHDo06e/bs4L59+2qqqqqUnJwcynGcYLPZGlq0aHHy+eef75Oenh6RmZk5Ljs7+/lvv/3W7fTp000X7ti9ezdiYmJuefu+/PJLG6V0/0MPPfSaq6vrz1ebamQ2m/kdO3ZM27t37/OqqroSQmzBwcH7evTo8c2ZM2cGZmRkPPbqq68Kl9Zrt1qtWLt2rS03N7fh+eefv79ly5a/9PgsXLgwtaysrPP+/fsxYsQIPP/887f8uK7lxIkT0qFDh5SQkBAhJCSEB0A/++wzJSIiYnd8fPzKyMjInwHkXrn+SHMihPgAiIV9USYZ9hXMjQD2Ath6L+VyEEJWAagHsJZSmnLJ/c4AZlNKp9+2xv1FSJLktGHDhnfS09P7ajQaUaPRiBzHKXV1db5Wq9VLq9U6K4qiGgyG7LZt2/4wcODAb52cnI4LgnBH/x6KomhctWrV+6WlpffX1tYGNTY2mp577jkuIiLilwuAlJQU5ccff6RGo7Fw+PDhMzt06LDuZhfg+/777x/bvn37Z9HR0XTs2LFajebqM5ysViveeecdyc/PL10QhCOnTp16aurUqXxISAgyMjLUr7/+Ws7MzNQuWbIEvr6+N9MkppmIooglS5bYqqqqFC8vr5OxsbFrdu3aNbNfv34eXbt21SiKgrS0NJqXlye3bdtWCA8Ph06ngyiKOH/+PNLT06WGhgY6fPhwrclkQn19PS5evIigoCDcyvVOFEXBzz//rG7fvl1qaGjg9Xp9bnR09FdeXl6lNTU1HvX19R4NDQ1uVqvVTRRFd1EUTTabzajT6eqMRmORm5tbYVBQ0Pnu3buv1ul09besYbdInz59LF26dDFQStG6deuPnnnmmb/fitdlwYaDKIr6RYsWpVgsFmNVVZXs6+t7Zvz48Z8HBgbuvh01pwkhYQCGAGgPoCeAlgA42AMLwB5cXCuRzQZ7MNL0A9A7/j0DINtxfwgAK4A0APsBHAeQD6CB3gE/OLPZTJpKv3799def6PX6ygceeGBpQEBA7tWeX15e3mLt2rWL/P39T8XHx+8wGAynjEaj5crnrVixYk9iYmKv2NhYVavVygBUx+J3HACOUgqdTqeEhITwwcHBmsjIyOsugHctiqIgOTlZPnz4sCrLsurt7Z3atWvXr2JjYzcajcbrrtw8b968g8OHD49r1arVVR9PT09XP/74Y/nxxx8f2rNnz19qfk+dOvV0UVFR1CuvvAJfX194eHj8qifyz0IpRUpKinL06FHJbDbzHMfxVqu1zs/P7/To0aP/ERERkdbcbSCEaAF8CKDAcZceQGfYRzq+pJR+2txtaG6EkPsAPAfgAwBtYD9nnIZ9VMMEe6fEBEpp421r5D1GkiQ/2H+XGgGI27dvn7x169a5bdu25QYNGqS12Wyw2WyQZRk+Pj5wd3f/ZaSwuLgY+/fvl06dOkUB8KqqloaGhr783HPPrbuNh3TDzp49G71y5cpdOp1ORwjREEJ4AJQQgsLCQnLhwgUkJCQEvvrqq8U38z5r1659t7q6+qWnn376hsrLzp49Wxo/fvxgjuMs77///rYpU6boO3bsyOZD3UUopcjMzMSOHTvEdu3akd69e9/R1b5KS0uRnJws1tfXUxcXF2I0GjkXFxfexcWFayrF7+TkBLPZjIsXL6K8vFzOz89XCgoKuO7du8955JFH7qjFAT/55JOfMjIyYlVVFRMSEp4eMmTILanWxYKNO4xjzvU3ADrAHlgIsAcZzUWBfaSEg31kpCmgkQGYAVwA4AH7BYsK+wXbHgA7AaRPnz499+23376pqVtmszn4p59+eiojI2NgZWVlmFardbfZbHL//v3n5ubm9snJyUno2LEjPXToENe2bdvksWPHPuXs7Fyxe/fuF7777rvXp0yZMjw2NvZASUmJe0ZGxihPT8+agICAcr1e/7PRaPxV27Kysnqkpqa+mJqa+nB1dTX0ej30ev0vizI1VV0KDAxE37591e7du9/0508pRXp6Onbu3ClWVlZqZFmuHzJkSP+EhISjjs9Au3Hjxg8OHTo0wdvbO7NLly5fHTt27CkPD4+2Dz/8sOZa0762bNmi/vDDD/WrVq36JXnFbDZrDh8+/Pjhw4cfq6ur829sbPTQaDRGjUajd5QtJMHBwVxAQADn4+ND3NzcYDKZYDKZLusBstlsqKmpQUpKii01NZUMGzaMi4mJ4a/Vu/h7Pou0tDRl/fr1tF27dtsnTJgw+NJFF281QshAAI2U0t1XeUwAEEIpPd9c79/cCCHRsE8XOwd7RwNg74yIhP1v9yCl9I3b1Lx7giRJwtmzZ4cfPHhweEFBQXdVVf05jtMAUB2jzsTV1VWeMmWKzsnJ6bJ9Dx8+jHXr1tHjx48TWZbRqVMn+sorr5CgoCDs3r1bnT59Ojd27NicoKCgqQEBAd5Go7E6Kipq892winYTR9K1AMDJsVVerZMuIyPjfo1GExAUFJQH+2hjxW/leIii6DRz5szSF1980fXK1civ5ssvv7R5eXnN8/PzS121atXmRYsWae6WxfaYv5by8nIsX778/FtvvRVxq15z06ZN03bu3Pm6IAj1rq6uFY6RlDxfX9/80NDQAqvVqqurqzNaLBZnRVE0999//8+enp6ndDpds+egtGnT5qYCgoyMDBZs3CqOKR+psM8vvz1d0TdGdmx6Z2dnPPfcczZRFOtcXFxK2rVrt6V///4rvLy88i7dIT09vcfOnTufzcnJ6UcIcZVl2cpxXL2qqiaO45zDw8PVrl27asPCwqDRaFBfX4/PPvtM7NChg6ZXr168RqMBpRTbtm2TkpOTiV6vt3p6emr9/f01ubm5OQDE8vLy8ODgYCiKQs1mM6GUagghZa1bt07s0qVLcnh4+HEA+UajUd2wYcPzW7Zs+X9jx45VunXr9qd8G/3000/ymTNnSENDg5ybm6udNWvWkM6dO29ZuHDh5sLCwgGtWrXCk08+qc3Ly8O2bdvErKwsTUNDwwUfHx89z/Muzz33nODl5fXL66Wmpqpz587lOnXqZJMkqSYiIuLgiy++OMJsNusBaI1G42WrQztK7z4wYcKExIiICKWiooLU1dURURSJKIqksbFRDQkJkXx8fGRVVW2EEIuTk1NNaGjosQcffPDjNWvWzC8pKWkry7JbaGgoN2nSJN3NBh5Lly61GY3GfU888US/5go4CCHtYe/1XwfgCIBAAF1g7+2XAQRSSp9ujvf+sxFC9AD6AegKe6fBLgB776XpYn8mSZJcN27cOOfQoUPPubq6cnFxcUJ0dDTn7u6O3NxchIWF/eb+8+fPVw8cOECmTJlChgwZAo1Ggw0bNtDnn3+eFBYWQpZlzJ07F++99x6efvppJSIiQm5oaIDZbEZ4eHjSmDFjPjSZTEWwT4utaa7k6z/DRx99NHXfvn3vhYeH26xWKwghPMdxvCRJjbIsm/39/U9GR0dv7N69+w86na5pFBLPPPNMTd++fU333XcfrjXK2+TNN9+0vvzyy/3nz5+f+K9//cvk6enZ7MfFMH9EcXEx/vOf/6jOzs4VXl5e6TU1NUGKovgIgmBwVM4iACDLss1mszXo9foqJyenGqvV6mKxWIwADL6+vucnTJjwhL+/f4YoitqxY8eKn3zyCQRBQHl5edOmlJWVyZWVlVQQBOh0Ouj1enAcRwoKCqiqqoKqqoqiKFXe3t7pUVFRyf369ftCp9OV3crjZcGGgyiKmpUrVy7q0aPHrjZt2mxpzqlTjsoG02CfyqR1bD0AhMF+8XPX1Pl2d3enBQUFRFVVlJaWYu/evbb09HSOUmr28PBId3FxKSgrK+tps9m84+Pjua5du/JNPX8WiwWCIOBqa0j8FlVVYbVa4eTkBKvVirS0NISFhcHX1/dXCc21tbXYt2+fnJ6eLlssll+m8VBKy/38/AoqKio6VFdXe4uiKHt6ehKdTke8vLyUZ5999roX0jU1NTh9+jQ9efKkePHiRU5j34GjlFJZlm0tWrSgkZGROj8/P+Lt7Y2LFy/izTffxOrVqwdpNJp8o9F4FgDefPPNAzU1NV1MJpPi6upKy8vL0bZtWz4uLk746KOPqEajOTN06NB569at+3To0KG6Hj16/GpYWZZlLFiwQE1ISJjy448/fiDLshAbG/vFmDFjpl6RRB43d+7c3W+88cavfsesViu2bNliS05O5pcsWdLew8Mj42rHbTabhRUrVtgOHTqEzz///IZ+ZldSFAUnT56ke/bssR04cED3yiuvRPTt27fZRhcIIQbY/8buh310Lg1AOuwX5a0ppV8013s3N0KIP4CBsOd02QBsg300456vvtVc6urqAr755psPTp8+PSwqKoqOGzdOq9PpkJ6ejsmTJyM3Nxd6vR6enp4YN26cGhUVxdXU1MDFxQUJCQngOA5vvfWWunXrVu7AgQOXvfbrr79Oly9fTqKiosBxHGJjY9Xx48dzbdu2/eX8paoq9u7dq+zevVuilHIcx/GEEE5RFFGW5YbQ0NC9gwcPXurv77/nzx4BEUWRs1gs9x0+fDje29u7sX379h9fLQgSRZGrqqrqcvr06S69evX67OTJk2E//PDDFpvN1mLGjBmXld6WZRmnT5/G/v37raWlpRpKqbl169abRowYsSQpKal7TU1N97y8vMEhISG6iRMnCtf6znj55ZeVyZMnP7J79+7nzp8/38PHx0cZPny40Lp1aza8wdyRrFYrzp8/j8DAQFyruialFDU1NaiuroarqytcXV2h1Wpx7NgxZe3atTQ4OPjIpEmTXkpJSXln8eLFfTZu3EiuLJhzPaIoIisrCwcPHhTz8vI0HMdVDhgwYExCQsLeW3GcLNhwEEXRf8qUKUXBwcG2hoYG3mg0pvfq1Wt59+7d/6vT6Wqv/wo3jhCyB/bFxgD7dIc7eRTjNzUFG1feb7PZUFBQgPLycoSFheFGhsD/TGazGTk5OcjKyrJJkgSTycSnpaXJDQ0NCAwMPJ6enh7j5eWlwFH2jhDCE0KgKIrk2ERJktQLFy64+fv7a5ydnVVFURRKqaqqqkan01X16NFjfU5OjnNdXV1ofX29n8VicW/Xrt2e8ePHj70yWdxsNuu3bNny/pEjR4bZbDYjz/NmSinn4eFRN3bs2NGRkZEnZ8+enTlmzJiIK8tONpkwYQLatWtne+GFF7ROTk745ptvbLm5uZVvv/22v+M9yBdffLHLzc2t64gRI646D9ZisWDatGnK7NmzH4iMjNx9rc/v888/35adnR1ntVq1HMfxgiDIAwYMEDp37szdSAWrF198UU1LS+OmTJlS/OCDD07z8vL63mg0/imlWR0jHQ8A8AJwEcCSOyFP6XocPV2esHdSBMNe2tYJ9ukoSZTS7NvYvHtCQUFB9DfffLO0uLj4/t69e8PT01Pz6quvwtXVlbZo0YJmZmZyf//735GQkIBFixapKSkpXElJCbp3746goCC1traWZGRkEFEUMWLECPW1117jrsyXGjx4MF2yZAkJDg7+Q22UZRkHDhxQdu3aJdtsNs7Nze1Uz549P46Li/tGp9NdtQhIcnIy//3332e7u7vb3Nzccj09PTNatWp15r777jtpMBiO/FYityiKmrq6uuikpKRHMjIyhkqSFMJxHCkqKtIUFxdjzpw5kWVlZX8vLCzsoKqqoCiKIIqiyWKxhPM8D3d3d1paWoq4uLiVx48ff8Td3d3lxRdfvGayt+M9sXPnTvngwYNUlmVbcHDwrqFDhy4/e/bsI4sXL56wadOmq3ZSFRcXY+nSpZK/v3/WlClT/jlz5syfXnrpJc2Vi6cyzL3kwIEDyg8//KD6+/srCQkJ+rZt2970a27ZskWtrKxcMWnSpOduQRPRvn37m/qOPX369L0TbMydOzfvjTfeEAAgNzcXiYmJYmlpKe/u7n5m6NChb7Rt2/aHW7GoCyFkDYDBsF8o3FUjGVe6VrBxt8nLy1OXL18uy7Ks7dmz5w8jRox4F/b57lSWZVpdXa3Jzc31PH36dIKqqi7jxo2bvHz58lUlJSV9Ro0apXTr1u2yb77S0lJ89NFHkiiKDVqtlgOgcXZ2zm3fvv23/fr1W6vVai8A8K+oqAguLS311Ov1ttWrVy977LHHPMPDw5GdnY3Dhw+LaWlpmrCwsPPl5eWBAHRz58695je0KIq4tLcwLS1N3bdv35EZM2Z0NZvN3ObNmz/NyMgY99prr10z4e7JJ59Un3rqqS8HDx58zWlFJ06c6PTpp58e0ev1VJZlqKoqP/bYYzN27NgxvLS0tJuHhwf3z3/+U3u9udKiKOLAgQPqvn37JFmWeUVRKt3d3fN9fHxOxsbGfhoTE3PoN1/gD3Dkb0QBWHWnLvJHCAkE8AjsCewq7B0SgL2wQwXsIzMFADIppb8qgsD8fkePHh2YmJi4rKGhIXDUqFHchg0bkJqaSrKzs8lPP/0EjUaDrKwsFBcXY8yYMZcVXDh+/DjmzZtHbTYb+fzzz6871Wf16tXykiVLNK1bt6YLFy4kNzvVJysrCz/++KN48eJFDc/zZX379v137969V1w62iCKIr9q1apN6enpgx955BEUFhbK+fn5ck5ODt+uXbuDEydO7Nv03SaKonNJSUm3HTt2jM7Jyekny3IQIUTt2LEj6dWrl+Dj44Pi4mK88sortE2bNrBarWq7du2U6OhorUajgUajgcFgwKUX+E0V9Pr376/9vRf+iqLg0KFDyvbt2+W6ujrdI488Infp0uWa58HapWJcOAAAIABJREFU2lrMnz/funDhwtCXXnqpYOrUqUJISMhd/x3FMH+mpKQk9eLFiyzYuNWuDDYude7cOaxfv15saGhQ27Rps3Hs2LGzTCZT3s2+JyHEC/bytdNgn0p11wUdHh4eND8//64/kZeWluLgwYNSfn6+Ul9fTwBwhBDa1OOt0+moi4sL2rdvr5VlWf3xxx/h5+d3rqKiIrJ///5KQkLCVX92lNJfpkYUFRVh9+7dtqysLKLRaDhKqSIIgurs7AxJkqAoCpk8ebLu0qHURx99FCNGjLCNHTv2d1fkKCoqUhcuXKgOHDjwgxMnTozW6XQtXnzxRe1vVaaqqKjA7NmzleXLl7c2Go1XXUTpX//6V84jjzwSGhERQRRFwUMPPaTOnj17cu/evT81m81cUlLSwuPHjz8/ffr039VmSZJQWFiI7OxsNTk5We3YseOPEyZMGH+1JP8/wjGiMZJSOv9WvN6t5khW/xfshRn+e6cGQ/cSSZK4DRs2fJSSkvLUtGnTNEFBQXjppZeoKIqYP38+4TgOer3++i8E4IsvvoDZbKYzZ868ofPh//t//w9vv/028vLybuYQLlNdXY2lS5fa3P8/e2ceT9X2/vFn7TNsw8GRIWSopBBJIs3dkDToFkXDbS4aVXKVEqGovg3ubZ6jedB046o0SHO3iZBIQsjMcdhn2Ov3x6GfWxIi1T3v18urztl7r/Xsc/bZaz9rPc/nUVZOnTdvnklthyM8PHxrZmbmLE9PTzYAwJo1awRisZj15s0b0bx58zQtLCyE69ate8Hn87WYTKbQwsKC0atXL+aPlPeQlZUF69atE40bN26yjIxM0blz50506dJFZvLkyT/c2CpFSmvy999/04WFhbumT5/+3TsbX5c5+h3RpUsXWLlyJSkSieDKlSvjrK2tJwwaNKhMRkZGyGAwKmVkZHgyMjKlKioq6U5OTj7q6up1yrN+DMa4AAD8EUJBALANJAW4fuiVjh8VTU1NGDNmDAskiipfghg0aBC8evWqa5cuXQDqudZrhxRpa2vDpEmTaj+AfzGOeOnSpdjCwqJJ0n/a2trEhg0biB07dsy3t7dnmpmZ1dtfeXk5/P333wIul4tAkpBaJ2ZmZsd37969jMvlQlVVFTVkyJBzPXv2DK/eTJSWlmpVVFQ0OjSQxWJBx44doWPHjoStrS1x5swZBx8fn/daWlp32Gx2CUmSpaqqqt4uLi6FjW27mokA8KyJx7Yo1asZywEgFGOc0tr2/BcQCoUKW7duvVVVVWW0adMmJkIIgoOD6by8PLRv375GT6DIyclBYWEhhv9fifosN2/epPft20fcv19/vcvakxUNQVlZGVauXMlevXq1IQBwAaC4ZptYLBbn5OQQxcXFoKysDBkZGcx58+a5mZmZ3U1MTLQ/fPjwBCUlJXVvb28CfsAx6Ny5c4IHDx5QCxYsGNahQ4dKLy+vu97e3qzvLYRXipQfgeZeLPhaMZl6226xllsJJpMJ9vb2zLCwMBCJRJyQkBCCoigoLy+HsrIySE1NtQgKCnJu167dP+PHj5+pq6ubUFc71QniXUASSuUIEplbWQCoAIBgAHADSUG+xmVOtwKNGQh/JgiCgGpHo0WxsLD4qg+YxWLBwoULPzw4xMTEVL148QLZ29uTXC4XsrKy4PXr18Lnz58jgiCKLSws9gUHB2+pnVT+MRMmTPBxdHRcCwCVtQv05eXltd26desjVVVV9YCAgC/+/sViMeTl5UFubi6w2WwwMTH5sA0hBM7OzuwhQ4awMzIybPl8PuzcuRN7eHicB4CLTfksMMbLEUI7AOB4U45vbhBCTAAYVP1HAcDSZqyDofjkyZPRqampnQsKCvTV1NSynJ2d10Cth8/KykqdioqKTqqqqg9BspqiGh0dPeP27duzKysrFQFAQFGUsKio6MDhw4dXN5Nd3wUZGRldtm/ffq9Xr15yI0eOZAMAHDx4kL5x4wY6e/Zsk35zbDYbKisb9vW1b9+eEIvFUFFR96Jdfn4+jBkzBjp16gR6enpijDFmsVgiQ0NDhqmpKUtfX7/OwTsjIwP2798vUFBQKHr8+LFzdHT0AoQQVlFRSXN0dFxXVVVldfHixR6TJ09m+/v7E2FhYX9GREQgRUVFulOnTkxnZ+cfbtyuqqqC1atXC01NTbMtLCweHzp06DpBEPSUKVO+u1xBKVJ+JBBCP0R40g8XRjVx4sRsc3PzqlevXsn4+/t/9kZFURS8fPkSunXrVuf2R48eiUNDQxlWVlably5dugQAACGkCACTAGAWSGLGa4ru1Z5BwvD/MdoESFY5vuubv4qKCn7z5s1/0+P4wcjIyMB79uyhJkyYsO7y5csOlZWV8lwuN71t27aJdnZ2+zU1NV9+Tfv+/v6pffv2bd+7d+8GKb+sW7eOYrFYGbKysimVlZXaRUVFXT08PFhqamr/2g9jDBEREYI3b94Ue3p6ajVVIhchpAwAGwFg9reWgkUIkSCZYDABgLYgSU6nQVKz5ibGWNhcffF4PLWQkJAkeXl5TocOHQhtbW1Wamoq9fz5c0aHDh1udu7c+XpcXJw7RVEabDZbDACsqqqqCgaDIde+fXvRmDFjyLZt24JIJII///xTrKmpudnV1dWruexrbW7evOly7Nix8Pnz5zO6dOlCYIzh4MGD4v379zMiIyMbXQBTIBBAWloaPH78WBwcHMzYvn27yN7envkllb2srCwYPnw4HDt2DAwMPpXaLy8vh0OHDlFv375FQ4YM+cPExORaXFzcoLdv3/bNz8/vTJJkGyyBJgiCKRKJqhQVFQu7dOlScO/ePUMul0u4uLiQLBYL0tLSxJcvX6bl5eVh2bJlrJ9pkqioqAiOHDlSVVBQgDQ1NcHNzY38mc5PipTWIDIyki4pKdk5bdq0ec3RXvfu3b/KIXj69OnPk7MxZMiQ7N69e5dqaGiUl5WVqcvJydEFBQWIJElsbGzMHD58eJ0DCJ/Phz179lDFxcUYAJBAIGAqKysn2tvbT7G0tHwCAIAQWgUAP9XsIIDU2fhRePz4sejEiRMCgUDAVlJSwioqKmlt27a97OjouElVVTWjIW3weDyZq1evLqyoqFAUiURMjDGjqqqKU1FRoU5RlNrff//df9OmTWBoaNggm3bt2kWVlZVlubi4jDU2Nn4SFxc3IiIi4oimpqaMq6srW1lZGd6/fw8bN24Ude3aNXry5MkuX5u/gRAyBknNjZ0Y4zpXHpuD6skFdwBQqH6LAoBkAHgBADkAUNZS0rQ7duzYePPmzSX6+voUh8PBurq6jDFjxrBkZGQgLi5OnJCQIBo7dixZu2bL57h165bg1KlT2NHRcaWtre0mkDhIPyRCoZBx/Pjxgw8ePHD18/NjKikpAcYYgoOD6djYWHTq1CnUGEcDYwz79u0TpKenV2ppaT3V1ta+07t376S4uLghycnJo7S0tMiFCxfWGwLp6OiIJ06ciMeMGfPZjkUiEfj6+hZt2rTpQ/IERVEskHwXWiBRKHt19OjRkbdu3ToyaNAg8ejRo1m1C3RKkSJFSmOIjIykS0tLd0ydOnV+c7TXks7Gdz0jXwcCJSUlWl9f/9LkyZMnx8XFzSJJUti9e/ekzMxM9djYWHd/f3+badOmMfX19f8VPlSd4Je6dOnShRwOpwgAskmSzP+o/UAAeAgAf4JEtvK7D5GS8nOQmZkJJ0+e5I8ePXr9o0ePfOfPn08eOnSoI0Jojr29/YLBgwfnmJqaHhsxYsReNpv98mNZXgAAHo/H2LVr1+2KigrT9u3bYwaDgQiCQAoKCkTnzp0JJSUlcHFxgYY8wNbg5uZGJiUlddi1a9cDkiTfW1lZ7QkICOgaHR09ZevWrXMFAkFbjDF/4sSJTn369LnSHJ8FxjgRIbQIADYihPwxxsVfPKiRIIQsAOA3AFjbGknec+bMWUoQBBQVFc3Kz89XuHfvHpibm4OxsTH079+f0b9//wbXHOjfvz9bT08PXF1dN3A4nGhra+v4lrS9pSgpKdHYunXrXQUFBa2NGzcya+7fCxcuxIWFhejMmTONnjAJDAwUm5qaHps5c+ZMLpcrAgCgaRpVVlYWZmVl9UhJSalXf/LQoUM0k8lE9TkaAJLwXSaT+UE0/8KFC9OvX7++nclkEiRJppmamp4eNmzYUVtb2wePHj0S9u7dmy11NKRIkdJUysrK4P79+2BqatpsK+5fUqf8Gn6olQ0AAIqiZEmSrDPolqIodlRUlNeLFy8ci4qKjJlMJunk5MRSVVWF2NhYuri4+K/FixePakg/CKFAAFgKEgUqIUjCpxBIEobFtf5f8+00KOmwNZCubHy/0DQN4eHhgpSUFNGkSZMGRUdHb3FwcOjzca5JaWkpREdHCxITE5FIJBL179/fzcnJKbz2PjExMYPXrl0bs27dOlBVVYXy8vIPuUplZWXiY8eOMQwMDAS2trYMa2trRmNDUYqKiuDChQuChIQEwsbGxnvs2LGbeDxeWwAo5XA4VV/9YXwEQmgYABRhjFtCXjcQAFa1Zu2Oo0ePTnzz5o1naWlpFyaTKcvlcgWenp5kY76XrKwsOH36tCAvL6/SyclpSs+ePc+3oMktglAoZF69enXxX3/9Fejq6sqwtrb+1yRY3759YdWqVdCvX79GtYsxhiVLltCbN2824nK5KTRNE/fv359w8eLF/wFAm+nTp7M+Vw+nhvfv38OwYcNg8eLF9Lhx4+r9YubPn0/b2tquHTZs2KkdO3ZsLC0t/cXX15eRk5MD169fFyQlJSGEEEHTNP71119pS0tLqbchRYqUBvHq1StYvHgxdO/eHRBCYgAotLCwOPDrr7+GfK52T2OxsLD4qvHwn3/++TnCqBoDRVEoOTnZNjo6ekVlZSVXSUkpb+zYsVO1tbV7AsAbAOADgBhj/Ka+dqpDLYwBQB4A8kCSvNkLADoBwCYAMAeAqyCpx/FdrhRJnY3vh/z8fNizZw9F0zQTIURUVlaKu3fvfsDZ2dnjn3/+GbFr165j27dvZ9ROLC0vL4fdu3dTGGO0ePFi9rt378DPz0/crl07Ubt27W6PGjVqnIGBQSGPx0PJyclDIyMjA6qqqjgyMjKlMjIyxSRJFsjLyxdqaWnd0tfXL7x06dLvb9++/UVGRgY5ODiwevToUWeRP5FIVGeCq1AoBG9vb5GXl5eJgYHBV+WQ1Ed1/oYvAHg2p1NQLV+7HmO8uLna/Bo2b97sfOTIkVNmZmbg5uYGOjo60LZt20/yEjDG8PLlS7hx4waVkZFBYIxpOTm5VEtLy3AHB4dNIJkU+WEQCoXE7du3Z1y6dOl/qqqqMm5ubmx5eXkAACgpKYFhw4YBSZLA5/MhIiLis5V7PwZjDH///bfwxo0byNTU9PykSZNcHz9+PDk6OnqTnJyc7OzZs9lt27ZtsJ08Hg969eoFT58+rXe/7OxsuHHjhiApKQnEYjHOzMxkh4eHI2lughQpUpqD5ORkvG3bNnBzc5tuYWFxsLnblzobzUgdmftlAPASAO5jjBfUcxwXAIxA4nQkgsTRGAWSOG95kKxsfJdhV1Jn4/ugoKAAVq1aVTl79uxp3bt3vwwAFTUVuTdv3mwaFRX1vGPHjkBRFL1y5UqipKQEzpw5Q/H5fJGtra0Pn8/XvHPnzmKSJFnVTzB0dnY2bW5uPnDJkiV3G2MLj8cj3rx5Y7NixYrLU6ZMwUOGDPnk+li9ejU8f/4chg8fLho5ciSzdlJ4YmIiffHixdeBgYGfZs02IwghKwD4FQCCmqM4HkKoLQD4gKQi+XdRzbuwsFDh7du3o1++fNk1Pz/fsKioSJ/H46mzWCwFJpNJisViEQAwhEJhhaqqakKPHj0ibG1tzwFAGkjuOz8UPB7P4Ny5cwufPXs2icPhyM2dO5dd25HAGMPQoUPxkiVLoF+/fg2+b4lEIjh79qzw8ePHyMjI6C8nJyc3TU1NauvWrZdzcnLMvby8WA11WGoTGBhIR0VFEefOnQNlZeUGHUPTNOTl5UmVlqRIkdKsFBcXQ0BAQNXatWsNuFxuVnO23atXr68aT+7fvy91NmpACE0EgIEAUA4AEwBAo3oTBgBmXQmh1asb70CycoFBElolqv73u0dVVRWnp6dLnY1WIikpCT98+FDw/PlzhrGx8bmFCxeOrWs/Ho8ny+FwKu/cuTNs3759Z3V1dRPt7e2DTExMrh88eHB/ZmamCUEQ0K5du1wXFxfPkpISRU1NzescDqfJqk1nzpxZeO/ePV+appX69OmD+vXrx6yZXQYA+Oeff8Rr165lqKiogKamJlZSUqKsrKzYDAYD7t2799TX19eiqX03FIRQO5AU0tuHMW5SDQ6EkCYAzAYAAQDsxhg3tQ7It4YJAJoguV81y1J5a1BQUNAjIiJicUpKykiEkLy5uTnt4ODA5nA4n+ybkZEB06dPxxcuXGjQPausrAzCw8Op3NxcMDMzC3N2dvbhcrkFNE2zgoODU01NTbVGjBjxVavOly5dwsHBwUhdXR2fOHFCei+VIkVKq/HkyRPR/v378cqVK3t8rnxDU2hJZ+O7DPtpSTDGRwDgSPVLT4RQG5A4XXU+fFTPrP4NklWL2s7FD+FoSGk9KIqCLVu2CAiCeNu9e/fd9vb2iW3btr3xuf05HE4lAECfPn0iu3XrJsPhcDCPx0N9+/ally9fTpuamhKHDx8GVVVVJVlZ2Qdqamo4ISHB7OzZs7s6duwYO3HixN8jIyP73rx58xhN05pCobBMUVHxrYaGxiNtbe2kjh07vr1+/fq4rKws8759++4ZPHjwTicnpz+cnJz+SEtLs7xy5crc9evXOyCEVBUUFIRWVlakgYEB4+TJkxAWFiZ8/fo17tu37/H4+Hj5rKws8xkzZkz+Fp8jxji7OmF8AUKoB8b4QBOaCQIAL4xxUTOb19KIACCztY1oKkKhkLt9+/bo9PR0cxsbGzRhwgQmSdZfi05eXh6+JElbm/Xr14uGDh3qP2/evM1cLpeqeT8zM/OXvLy8dsuXL//qrMfhw4cjBoOB165dK3U0pEiRAgkJCaITJ07QNE0Turq6Yjc3txYpsllQUAAxMTHChIQETBAEsNlsWk9PD7HZbGZiYqJNczobLcl/bmWjMSCEegLAXfjBnTLpysa35927d7Bu3TrhiBEjVtjZ2f2vLvWohsDj8dDhw4fPJSYm9uZyufmjR4+eb25ufr1mu5GRkWjz5s2MsLAw2L17N3nq1Kl1NE0vcHFxYdA0DVlZWfDy5Us6KytLUFBQAD179mQZGxszzp07R6WnpzOMjIzOjx07doG6unpOrT4VExISht+/f98xPz/flMfjtSNJUqGsrIzBYDDEW7dubbXfA0JoGgC8xBjfaeRxNgAghzFuUrFBKU3Dz8+vqGfPnpyhQ4c22HsQCoVgY2MDUVFRX9w3Pj6ejomJSfD39zf7eBtN08zly5cXeHl5KbVp06aRlv8/paWlMGnSJAwAEBYWhupajZEiRcrPA03T8O7dO5CRkalTvbGiogJ8fHwEISEhA7Zu3XpmxIgRmkZGRo1TXKkDjDHk5eXBixcv6Nu3bwtFIhGTyWS+NTY2jnBwcAiXl5cXZmZmdoqPj+8mEonYjo6OASRJNls9qr59+36VQ3D79m3pykYTCYXvVGFKyvfL+/fvYcOGDcL58+f3NTc3f/g1bXE4HOzu7v5ZBbXg4GD3qKiowFGjRm3gcDiCwYMHn9+xY8ccAGAQBAG6urqgq6tLAIBM7ePc3NxIjDFERUU5rlixYtScOXOmdO7c+REAVABAmbW19TFra+tjNfvzeDwEknoBrT07cRAAtiCE8hqZc2EKABdaxiQpn4OiKJnGOBoAEhnZNm3a4GXLlkFISEi999/jx4/TCxYsmF7XNoIgRB07dox8/Pixi62tbZMeBAICAujz588T69evhwEDBkjHAilSfkLi4+PFp0+fFhMEwaRpWiQQCMoUFRXfZWdnG2/atIlZI1NdWVkJR48eFSQmJhKjRo2a/fz5c/2Kigr1r3U0MjMz4eDBg4KKigohh8PJ0NLSejJt2rQwHR2dmyRJUrX37dSpU2KnTp1+uLFM6mzUjxMAnAWJ4lSLLJE1gRoZXmkY13dIRUUFrFmzRjhr1iybr3U0GsKvv/6699dff91b81pFReWBWCxu0MMdQgiGDRvGsrS0hO3btx+oVj9CeXl5jK1btxpwOJzXNftWr8xkN/sJNBKMMUYIeQPAnGq1qpoEOQwAVQAQgTH+V1HB6v3aYIxfg5RvilgsLqmWK2/wMQghiIiIQA2Ruu3atav4woUL+zQ0NHrVDqGqISMjo++XJGvrIi4uDhYtWgRDhw6Fu3fvglRSSoqUnw+RSAR//PGHQCAQ5Hp6eo5TVFR8QZIkr2b7+fPn/UJDQ33Gjx/PPnToEMXj8YR9+vTZZmdnF3fixIm179+/N162bFmTwzQfPnyIz5w5I1JUVCxwdHRcamZmdpwkyR+2KGt9SJ2Nj0AIEQBwEiTKU3IAkASSfA0RtOznVXOB1TcwlgLADgBQBICJ1fbR8AVHqKSkBNnb22MTExM0b948+JK2vJSmc+DAAcrR0THQ2tr6Vmv0z+Fw+CwWKyMjI6ODnp5eg45RU1MDPz+/D85rQEBAjcLaZ8nNzVX766+/Vru6uq7gcDjNXnSvPjDGVQCwGSHEAQCl6rdR9f99EUIpAHAIYyyu3jYXALZ9SxulSFBRUUl/8+aN5sd1Y77E1atXwcDA4Iu1iyZMmEBGREQY+vn55Y8cOXK2ra3t8drbO3fuHBUcHDxdRUWFXrx4MVlbypmmaUhOTob79+8L0tLSMAAggiBQbm4uIyoqirh27Rq0b9/+q0MjpEiR8v2RkJBA79q1ix46dOj/hg8f7lvXQ/7QoUMD0tLSRh08eLCNg4PDMhaLxYuIiNjz4MGDJRMmTGAaGRnVe38qLCyEyMhIQXJyMkHTNDg5OaGePXsyrl27JoiKiiL09PSeeHp6LtHW1o5ruTNtONKift8QhJAaANRUFK4Z7MYAwDQAcABJQT8MkmJ+zbXCQIFEJechAPSHf0vo4urtDADIwBgbVNuJAKALAIyu/qupBYJBsvpRU3wQamyslv1FioqK+NKlS8jM7P/DnPPz82HLli1gbGwMEydObIZT+m+yatUqcUBAgFyNpG1r8Pjx44nh4eH7AwMDm3RthoSEUOPGjRvXrVu3OpdqHz161Gvfvn03dHV1WQKBIMvT07MLh8P5ZFa5tUAI9QCAsSD53QAAJGOMj9dziJQWYv/+/TtUVFRmDRs2rMGjWFZWFowYMQL27dsHhoaGDTomPz8fPD096bCwMDaXyxXX3kbTNCsqKsr/4sWLv6uqqoowxgyEEJOiqFI1NbUXxsbGUXZ2djEsFqsUAHg0TYuio6OPLV++fOClS5dAXV29cSctRYqUVoOm6U9qFNUGYwyhoaECPp//furUqTYdOnRI+VKbJSUl7Xbv3n0hJyfH1MPDg1UjaX3p0iWquLgYtLW12bm5uaLHjx+jqqoq0NPTExcXFzOZTGZ2jx49Dg8ZMmRPaWkp5+jRo/uys7N7crnc90uWLDFXVlbObb4z/3oGDBjwVQ5BbGysNGejoWCM8xFCDAAYBADOABALAOcwxmcRQh0AwBUA/gGA1wBwC/5fOrcpVIHEmVkLAOsA4DpIHI2aUCkKJAUDYwDgDgC8qmUnBoBkAAiu/gOEEBtjLKj+PxMkqzP2IHGSumGMlQGALi0tZfbv3x9mz56N586di4YNG4azs7MRQRAYY4xSUlLA398fpJEDjYfBYAha09FISEgw27t37+4JEyY0eUa2X79+rJiYmKl1ORtZWVm6e/fuveHp6SmjqakJx48f19y1a9dtNze33hwO57soKocxfgwAj1vbDikAFhYWV8+dOzetPmeDpmk4fPgwJSMjA927dyednZ3hwIEDDXY0AAB27dolnDhxYuDHjgYAAEEQwuHDh6/o1KlTdHp6OnfFihVqT58+1aFpmgDJfZYEgGE15qirqy8dPny4/OXLlxtcV0OKFCnNj1gshsLCQsjLy4O8vDw6NzdXKBQKQVFRkeByuUxFRUWkqKgIioqKkJiYKLp69SrQNF3OZDIJFosly2AwCF9f30+ec/l8PqGkpPReS0vrbX39UxRFXLhwITgmJmbJ2LFjoV+/fh/ays3NhTt37vD69OmzOS0tzUBRUbFs/fr1Ac+ePetMUVQXKyurMyRJltXsr6SkBMuWLetFUZQ2AJTUDtf6LyBd2fgKEEJvAEAPJCFWNdAgWUmoWRURVf9b12Bb8+HbYIyvI4R+AYAQALgJklyRe81cOVkLAPYCwBDJS0RUN09DrfAtgiCwvLw87NmzBw0fPry5uv9P4O7ujlVVVd8rKirmmZiYHBg3btyWb9V3XFyc7u7du9O8vb0Zenp6TfYUBQIBzJ8/n27Xrt1bKyurfQ4ODmsAAN6+fTto165dZ8aPH69oYmLy4XoOCwsT8Pn8RHd3916t6WhJ+XqePn2qIyMjow4AxQCgKBQKGaampv80tT2hUEguX768PDg4uM48oocPH4oPHz6M+/TpE15cXGzi5+dneePGDdDV1f1i28XFxRAdHS14/vw5MjY2jpk/f77Dl45BCIUAwBkAeFYzMVMbb2/vfX///fe0CxcuIA2Nr5lHkiJFSlO4d++eKCIiApEkWSkSiSrk5eWLFBQU3ikqKr5RU1N7Q5JkVWlpqWp5eXmbyspKdYqiVCorK7nq6uppY8aM8dHU1EwEAKAoSs7d3b3C0tKSKioqwjweDyGECIIgmCKRiKqsrCxRUFDouGbNmsq67MjJydHes2dPLJPJbOfh4cGuHYKZmpqKQ0NDRb/99tvw/v37X/lGH02LM3jw4K963rx27Zq0qF9LgBCaBQALQZLXsRIk6lUC4Ii3AAAgAElEQVRVIKksngKSlSN9kIQz1eVsCAAgDwAsMMb538JmgA9F0mqcjhrbPpkJRwhBu3btcHx8PKr9Q5NSPyKRCPLy8iA0NFS0fv16LQ6H802+24yMDM7Bgwcf8fn8josWLWIpKCh8VXulpaWwbds2AUmSqSUlJTpMJpMcN24csy7ljaNHjwpKSkpS5s6dayF1OH5MLl26ZB0eHh7L5XJphBDB4/EYiYmJcOTIETlDQ8Mmh8nt3bv3RFJSklOPHj3Ejo6O7OLiYoiPj6dv3LghVlFRSZoxY8YoNTW1NxUVFYwVK1a8d3d3b9OQB/2goCDK2tp6X58+ffbLyck95nK5XxzMEEKDAGAoSGqXbP94Mqd///5FW7duVW7MqooUKVK+nsLCQti0aZNQVVU1wd3dfSSXy/1qQZKTJ0/OlZeXl9HW1s7W19fPYrFYmQDwrj65WIqi2LGxsdPPnDkTOmnSJIalpeW/nt2uXbsmiImJqXJ3d+/TqVOnF19r4/eE1Nn4wUAIyWKMKxFC6iCpPP6xo1GTg5EOAG1BkmuRBwDDMcZPv6Gd8iCppu4CknAwdvWfAgC0BwBZgiAYhoaG+N69e4Q0rKpxnD9/XsDj8S64ubnVWTG8JeDxeCguLm7aiRMndq5atYqlpqb21W0+e/YMunTpAjIyMvXud+zYMUF5efnz2bNnW3M4nE/CWaR8vzx9+rTd+vXrX7u5ubHbtm0L5eXlsG7dOtre3v7vqqqqRwRBUAoKCusmT57cpO+1rKxM+8KFC95PnjwZx+FwCtq1a3ff2tr6SLdu3WIAADIzM01v3rxprqurW3L+/PnTvr6+X1RUCwwMFPv6+srXpUL1EUpXr16dxWKxXg4cOPBimzZtFNq2bZuspKSkAgCMjh07vggKCvqtY8eO8cuXLz+Rm5s7ZufOndLZFSlSvgE0TUNYWJjg5cuXVaNGjZoycODAc9/aBoqiuGvXrr3P5/O1WSyWLIvFEnp4eLDl5T/VSfH29hZ27tz5lqGh4Zm+ffvuJUnyp5lckzobPyAIoXkgycNggiQmuGaQTgOAMAAIqH6vZlDFALANY7zgG5taJwghHZDkpTAJgsD29vb45MmTUmWWRoAxhqVLl4pmzZq1ICEhQT8vL89MVVU12d7e/jSXy73fkknVt27dsgsLC4vcsGED81uuSu3atUsgKyt7Y/LkyUObWshQyrdnw4YN25hM5kwHBwc2AMDNmzeFT58+FWtrayOSJFFUVBTL39+/V//+/ZtNzjk1NXVAenq60d27dz2Li4s7FhUVEdu2bWOsW7fulb29ffvaoXofU1VVBcHBwXmhoaH1LoFERkZ6XL58eaO+vr4oKSmJ4eTk5GljY3N74cKF9zZt2sQkCAJ27twpDg8PRyRJEg8ePIBly5bR3t7e0nudFCktzPPnz0X79u2DXr167Z4wYcLi1nhwpygKxcXFrYmNjfX08fH5oqhKZWUlxMfH4x07dtCzZ8+eM2jQoD3fws5vgZ2d3VeN2VeuXJE6G9+C6qTsqSBxJFTh/x0JCiRhSiYY4xSEEBskMdHM6vffA4D791bdGCG0EgD8AIBACBHu7u54/fr10uWNRpCWlkafPXtWYGBgwOzQoQMzIyND9PTpUzHGmIUxzu3bt+9WW1vbbRwOp+zLrTWO4ODgG7/88stAExOT5m66XubOnUsHBQX109XVvftNO5bSZKZNm1bo4eHRpq7Vq/Lycti5c2eVl5eXvKGhYbNowB8/fjzoypUr3sbGxiJLS0smRVHo0aNHGQsWLDDIyclpHxISkhwQEMCqa2YRACAiIkJAUdSJOXPmTP5cHwUFBV1WrlyZEBoayiRJEqqqqmDt2rVCjDHq37+/aMiQIZ+crEgkggEDBsD169eb4zSlSJFSB+Xl5bB582Yhi8V6OW3atBF6enoZrWXLn3/+eScvL8/i999/ZzemHlBQUFDVzJkznfX09C61oHnflJZ0NqSzN80AQoiBEOoDEgdiKwBogsTREIMkd8MTAFQxxikAANWJie1AkudhijFu9705GgAAGOMgkChapWOM6V27doGqqiqePXs2zs//ZikmPzT6+vrE0qVLZUaNGsXs1q0bjBw5kunr60uuWrWKWLhwodbr16/9vL29C86dO7ecx+M12++Rx+Mx+Hy+TkvqZtdFQUEBVFRUgFAolIZR/UCYmJhEHDx48BM1sfLycti4caPI1tZ2fHM5GgAA9+7dW7Rp0yamm5ubTI8ePZgdO3ZkxMbGdty3b99WTU3NzAkTJoSsX7/+X/akp6fDy5cvITs7Gx49eoTHjx8/v74+0tLS+mlra8OGDRvowYMHi0aNGiVKSEiA9PR02LhxI9PGxkackJAANP3/p8VkMkFFRQXv3bu3npalSJHSFDDGcPLkSSowMLCib9++U/39/U1b09HIy8szy8jI6Onr69tgR0MgEEB2djaUlJQwNTQ0sr58hBQA6cpGk6lWdjoAkpyHj69SAUhyMnwxxsHf2rbmprqmRwUAyFa/xhhjFBkZCf37929d434CKIqC7du3U2VlZQwAyDEyMoocOXJkkJqaWpNuZDwej7t///4LFEX1mjNnzjevNP/o0SPx+fPnaZIk88eMGTPRysrqxre2QUrjSE5ORps3b+bb2Niw9PX1GTUrCocPHxa+ffuWxWKxKp2dnQc4ODg8ao7+li5dyvP395cHkFz/Pj4+IhUVlVSBQKCMEFLNy8vDCQkJjLNnzyIlJSVIS0vDu3fvLtPW1n5WUVGhbmVl5T9mzJgT9fURFhY2yM/PL8re3v6mu7v7Xj6fz3zz5o1aQUFBGxMTk7TU1NQeJ0+enFBYWKg+dOhQWk5ODkVFRYFAIBALhUJKTk5OVlVVFamoqNC//PILc8yYMcBmf/OfkxQpPwUpKSn0zp07aVNT09PTpk2bQZIkv7Vt2rFjx3EdHR0nOzu7BscaL1++XMTlcpOUlZUzZs+e7UyS5HdTY+prcXBw+CqHICoqShpG1RwghGQAYBxIFKi6g0TStmZarBIkCicKAHAaADZgjHNaw86WACG0HwB+q37JJAgCh4SEoDlz5rSmWT8dZWVlEBMTI3z48CFiMpn5JEmWsVisSjabXcHhcN6pq6snOTo6ruZwOJ/MMvN4vDY3b96ccenSpcCBAwei4cOHt+qTUXZ2NoSGhor09PTudO/e/aSVldVdFouVzOFwWn2QkQIQFBTUU1FR0VFGRqZqwIABW9asWZPBZrNVFRQUBO7u7v+6drKzs/HRo0fLvby8tA0NDcu/tu/ly5e/dXV11dbX10d//vmnoGPHjocGDhy4xcvLK2H16tVITk4OFi1aRLNYLKyhoUGXl5fD/PnzzU1MTBqk/kJRFCcrK6ufs7Pz2rlz5x4dM2ZMFIfDSSRJ8pMBr6CgQLNbt27xnTp1ytyxY8e8rl273gUATFEUc9myZYeUlZXfx8fHD05OTjZ99OiRNIz0C1y9ehWHhISIaZpGmpqatLGxMWPChAlEhw4dWts0Ka1AZWUlhIaGCoRCYe6kSZNGGhoaPm9tm2pYvHhxcVBQELeheY2pqalw4sSJ9ICAgI4tbFqrIHU2WhmEkAIA7ANJVeIaaAAoB4BTALARY5zcGrZ9SxBCnQBgPQCMVlRUxAkJCUha9KrlqKyshIqKCqiqqoKKigooKiqCPXv24P3795tyOJwPD127du1anJKS8jsAqKmrq4umTp1Kfi7WvTV4+PAh/fjxY0FOTg4Si8VMTU3Nu7/99tuvmpqaha1t238RhBABAJN1dHRCrKys1IyMjERZWVniQYMGLX7x4sVMiqLMzMzMGJ06dSJqV8++du2aICsrK8nV1dWVzWa/NDQ0bPLg8fz5c7NZs2Y9ZTAYwOPxgMPhVHp4eGhqaGgM/uuvv/ZkZGS0mTp16qw+ffrcAomceDGXy/3g5PD5fNX79+873b17d3JeXl4XZWXlTGNj47ARI0ZsOXjwYFRGRoYdm80WKCgoMO/cuYNzc3OZbdu2LTt//jy3js/jKkju5zMwxpl12UtRVDszM7OsZ8+eNfWUfzr4fD7ExMTA3bt3xc+ePcOVlZUIABgcDifPy8trjomJScGpU6f6vX79etDDhw9tYmJivm1Mp5RWJy4uTujn58eaPn36qw4dOoT26dNnP0mSdda1aA18fX2TZ8yY0aWmInh9iMViiIuLw4GBgejYsWMcbW3tim9g4jdF6my0MgghWwCoKdySDgBPAWALANxqzqJ73yPnzp2b2rVr16KCggLFgoKCNyNHjoybNWtWxqxZs3SNjY1b27z/HAEBAXjVqlUytWtZbN68+UxaWtqvAQEBxI8Q5hERESEqLCy8unjx4i8WYZPSvCCEegPAeAA48ttvv/mIxeIRy5cvJ3JycmDXrl3lQUFB7f7555/f0tPTLTMyMkZ07dpVcejQoR8uqujoaMG9e/eIPn36/G/BggXLv8YWR0dHwfTp01kYYzh16hTF5/NZOjo6STIyMhG5ubnTS0tLtUiSfGViYvI/Q0PDfYMGDep86dIlj8TExNEAoKqqqiqytbUlDQ0NISsrC/bv3w8sFgsuX74MNfHXteW6Hzx4AFOmTLmxZcsWOzk5ORFCSAkANgFAGcZ4cX22UhTFdnZ2ztTX12+zbt26/4wsrkAggJSUFEhOTobU1FQ6PT1dnJ2djfh8PuLz+dC+ffuXHTp0eGhvb39l0KBBDwEgnSTJf+XaUBTF6NevH2VlZQVPnjwBOTk5PG7cOMb48eNR7fsVn8+HNWvWiDZu3Mi8desWWFpafuvTldLM5Ofnw6tXryA/P1+UmJiIuVzukzlz5vQGADh79uyG1NTUvnJycoWmpqbhdnZ2x2uO+/PPP7cVFRUNWbZsmSlJklUtZd/x48eDKYrydHV1/azUNsYY/Pz8REKhsEpHRyfWzs5uu4mJyU+TFF4bR0fHr3qevXDhgtTZ+FoQQgyM8X8q6ZXH47EXLFhApaWliX/55Rf6/fv3hTt27NB88OBBz4iIiL/k5OSU586dy/5S/QUpzceqVauE3t7eFm3bto2v/f7hw4f3VlZW/jZ+/Pjv3tvAGIOHh4e4c+fO183NzXfa29ufaW2b/gtUy3HzACAcY0yPGzduR2pqqitN0/IpKSmsI0eODBk9evSV5ORkLgBwAKBqzZo1qQsWLFBSVFT80I5QKIQNGzYIfHx81A0NDUu/1G9paSkCgI40TbM3bNjglpGRYamsrAyJiYk9x44dy27Tpg0ASPT2T5w4IdLW1qaNjIzYqqqqUFBQALGxsYLExETCxsYGrK2tYfDgwUwOh9Po86+oqIB+/frRBQUF2UVFRekgkRsPA4ADDZk0oihKbvbs2S8fPnyo/ccff/zU+Wrnz58XBQQEEPLy8nwFBYVyLpebp6Ki8kZPTy+lV69eT/v165cCAEkNjbtfsWLFcpFI1GnRokV77t69a3j27FmvV69eGV6/fp04d+4c3rZtGy0QCGhLS8vLOTk5/fLy8hQOHTpE6OjotPCZ/nf5+JL/FnW0du/eTWVmZjL4fH6Ftra2rKOjI7usrAyOHz8u7Nat28WJEye6AoBoz549//j7+5uvW7fOa8aMGf9rKXuKiorMQkJCHgQGBn523IyPj8fXrl27/fvvv/+8P/hqpM6GlFYjKCgoVVNTU0ddXZ355s2bUwsWLHAFAODxeMTNmzfX3bt3b4G3t3fD9eKkfBV//fWXqLS09Libm9tvtd/Pz8/XWbt2bXpgYOAPEapQVVUFKSkpcPDgQZGzs/P4IUOGnG5tm352EEI9AcAIYxz+8TaSJNcIBIJVSUlJdGhoaBlCiEQIMa5cuUJcuHDhk7YiIyMFVVVVkT4+PqM/19/jx4+NY2Ji1mdmZg5iMplshBA+fPgwe/ny5ZCeni7o2rUrW0lJqUG2+/n5wc6dO8HKyqoRZ/wp586dw+Hh4XlRUVFfjpuoA19f393Z2dnO586dUz5z5gz06dPnq+z5Xjly5Iho586d4rCwsM6GhoZvm7v9J0+e6E+ZMuUFSZJiLS2t7Llz53oOGjToEkmSNEVR6MCBA3O3b9++5ffff4exY8f+Z1aSWhKMMfzxxx/iixcvEjRNI4QQIIQAYwwYY2AwGNjc3Bx7eHgQWlpaLep8UBQFtdWfMMZw4MABQW5ubj6HwxGVlZVpDh48mH3x4sU3mzZtarFkH4qiCF9f36rAwMBPVjZEIhGkp6fD1q1bRbNnz57Uo0ePegUpfgZa0tmQ/oil1MuiRYu6hYWFXdi2bZuNnZ2dKY/HY3M4HAGHw6EHDhy45uzZs0vS0tJAX1+/tU39T+Dg4MD08vJyffXq1RoDA4MPeUJqamqZDAajsLy8XF1BQaE1TWwQMjIyUC0FzHj16tVQqbPR8mCMHyGEpgHAv5wNhJAKACiCZKZfp6SkRG7VqlUEQggWLKi7xqiDgwN7x44dw93c3CixWFzUu3fviTNmzLhWs720tJQVHh5+287OTnHGjBlEjQTzrVu3QFtbGzQ1NRu1AldeXg4VFV8fIt2vXz8UEhKiwefzZeTk5BoVnkFRlMzBgwdnTZ06FYeGhtJ9+vT5aaXjz549i4qKisiNGzfO37Nnz+/N3b65uXna8+fP61wSJ0kSu7u7bxs4cOCF8ePHv9bT0/tqJ/O/jlgshm7dusHgwYOJ8+fPo7rCbfl8Prp48SKaOnUqZrFYcPHiRdRS0ukfy8wihGD69OnsvXv3qickJLC2bNkCAACXLl3SoShKhSTJFsnvI0mSlpeXT87IyDDV09P78P6mTZsEBQUF5SoqKikDBw680bVr14iW6P97oyWl8n/am6WU5oHD4fAnT548dNiwYQ937txpvGfPnre1tpWMHz/eJSIi4tmSJUvEaWlprWnqfwIGgwEzZ84k9u/fH8Pj8T4ku/J4PMRkMkU8Hq81zWs0cnJyiM/n11sFWkrzgBCaCgARtV4jhFAvAAgCgJUYYzo9Pb0rm82uPHbs2Cc1Nz5qC+bOnctavHgxW0dHRxUh1KP29kuXLgVramrK9u3b94OjkZmZCTIyMlgsbnw0qo+PD3h5eX0S+tFYrK2tYcyYMRGNdTQAAGRkZEgjI6NHiYmJ+Pjx47SDg4PIxsZGvGTJkno/qx8JmqbBx8dHlJmZyXjx4oVySzgaDcXIyChzw4YN/dzd3emMjFYrxfBFRCJRa5vwRRgMBvj4+ODExMQ6HQ0AADk5OXBxcYHIyEg0ZMgQvGTJkm8e9qKgoABCofBDv2w2WwwALapC06tXr/2XLl36IF+LMYbCwkK8du1adR8fnz7jx4/3+TgPSUrjkTobUr4Ih8MRTZ8+vdf27dtnamlp/Ssp1MbG5vTq1au7q6urJ7FYn82xktKMGBsbExYWFqq///57TnR09Awej4fi4+MnYozVGqKq8T1QVlYGGzdupI4ePUq1bdu2TgUgKc0HQqgNAEwHgB4IoUkIIT8AWAOSAqRLMMalycnJrPXr1/9laWkpP3bs2Ab9mG/duiV8/fo139zc/HDNe6mpqWY3btzwmDFjxofpy3HjxuFx48bBlClTmhSboaqqCiKRCJriqNTGyclJHBMTo4EQ+hshdKPW302E0GmE0CyEkC1CSAch1LG6xhAghMYCwI27d++mJyUlFQwYMGBHcHCwS0xMTM+ysrLy6dOnt9oTp0gkgrVr14pnzZolmjZtmmjKlCmiixcv/qtYYUNZv349HRYWxpwwYcIR+H9Z91bDzs7uvqen56TRo0fTZWVlrW3OJ8ycOVNkbW0tHjBgAB0SEkI/ePAABALBlw/8xgiFQjh37hx06dKlQQ7EvHnziMePH6P4+Pgv79xMlJWVwe3bt0FOTo6umVSgabrFE0l++eWXI1lZWUwAiSDCunXrBAYGBldJkmz16/9nQpqzIaVZOHXqVEBKSoq3h4fHd5+g/LNQXl4OmzdvFlZUVFSx2WxZDw8PpqqqamubVSdCoRAePnxI379/X1BaWsrMzc2lWSwWU0dHBx07dgw9efKE4HA40ptRC4MQ4gCAFgBkYow/kaDcsWPHvKSkpI179+4lRSIR3L59G+oLy8vMzISdO3dWLFq0aEpsbOyigoICw71796pqa2sDl8sFPp8PI0aMoK9du0asXLkSmrryJhAIYPv27djS0hKHhIQ0eZIsNjYWpk6dKiwtLTWvrKz8V80OhJAxSOooqQNAB5AUa+UAAB8AtAFgGMY45eM2Z86ceeXWrVs2vXv3Fu/YsYNJEN9mDo+maVi7dq3o/PnzhJWV1S0DA4PbbDa7SiwWM2NjYyfm5uZ2IEmSdnV1JaZOnUrUriWQmZkJxcXFQFEUyMrKgomJyYdt79+/B29vb9HTp08JPz+/gS4uLnHf5ITqISQkxP/kyZO+Hh4eeOPGjWjcuHHY09OTUfNZp6WlgY6Ozjctujhz5kyRWCzOOHDggGFKSop5aGhoYFZWlnFxcbEaQRCkhoaG+Pjx460eqo4xBgcHBzxp0iRwcXFp8MN7Xl4ejBo1Cu7duwffYiJx+fLlIkdHx0kvX76cqKSkZD969Gh2eHi4gMPhbHV1dfVsyb7XrFkTr6KiYvT06VPawcEhYOjQoWv/i86Gs7PzV43Bp0+fliaIS2k5Tp48OfXRo0d+xcXF6oqKiqxevXoha2trZo3KjJSW5eNku++NR48eiY8ePUobGRn9ZW1tHZGYmPjbu3fvBs2ZM4ft7e0tmjVr1mBra+tbrW3nf53k5GTy7NmzJ1++fOng7u7O4nK5kJiYKGKxWAwZGRmUlpYmTk1NFfJ4PIQQApFIhDDGlIqKSiHGWOvZs2eswsJCtGLFCjx48OAPg46/vz+9fft24siRI41amWCxWPDkyRP6ypUrhKysLMjJyeH09HSkpKQE3bp1w5s3b27SrOeIESPEo0aN8vLw8NjclOM/hqIo2adPnzocP37cMzMz0/rIkSMt7m0cOnRIvG3bNsLc3PxRUFDQSG1t7bw67GLeuXNn6K5du/zT0tLMSJJE+vr6+MWLF4SsrGyZjIwMn8FgiAUCgUxpaalKjx496PT0dFRVVYUAJDPNUVFR2u3atfsuitN6eXkdu3Xr1sgTJ06M8PPzW5uQkNCLJEkkFotFJEmWlpaWcl1cXGDJkiWNfsB//vw5bNy4UZSbmwtz585ljBo16ovXlomJCdy6dUtXQ0Pjk5VZiqLkbGxs8o4cOcLR0Gi9KFGMMbi7u2MtLS3s4+PT6Oty3759dFJSEgoNDW3xFYZVq1bx161bJ09RlNLKlStLgoKCoKqqCvz9/XkhISFtWjKUKT09vfPp06c3z5o1azaXy81uqX6+d6TOhpTvmvDw8E2pqamLLSws6Hv37onevn3LysnJQUwmE3t4eIgGDBggja/6CYiPjxdHRESIAAAIgkAAABhjhDGmFRQUsKamJtLU1GTLycmh3NxcUU5Ojujt27cMFRWV19OnTx+ira39NjY21vHMmTOn16xZw/Ly8gIzM7O3w4YNc9DV1U1s3bOTMmPGjPeKiopqFEWJaZoWV1ZWojZt2rxlMBglYrEYa2hoPDQ2Nr5lYGCQCgCAEGK+f/9e5/Dhw0dXr17NAJCojE2YMAEsLS3pgIAAouY9Kysr2L59e4NXNh4/fiy+evUqo2fPnviPP/5AtVcLaJoGJycnSEpKAg0NDdDR0cEbNmxAKioqX2x3+vTpouTkZGLZsmUjXV1dI5vwMX0WiqI4Tk5OSQUFBVoIIQwAiKZpCA8PJ2onnzaVEydOiAICApiTJ08WXbhwgXHs2DF9AwOD9AbaRjx48GBIdHS045w5cwI/diAoilLz8fHZoqio+G7ZsmUbAUAGAHgkSRZ8teEtBEVRMgDAJEmSV/1a2cbG5p2cnBzT29ub0a9fv3ofkMvKymDp0qWixMREhoKCQqGdnd0BU1PTZ7t3716dk5OjgRBCAoFAZufOnYSRkRHUlnjn8XjQt29fPHnyZD8fH5/Autr39/cPiIyM9GEwGDBgwAAoKCigX758SWCMEUEQBMYYaJqmDQwM6C1btjDl5OQafO4lJSWwZMkSEcYYvL29mYaGhgAgcS5qq0hVVFSAjY0N3LrV9LmcQYMGQVxcXItL4/r4+BRt3LhRhaIoRmBgoMjX1xcAAP78809Bhw4d1js5Ofm2qAFSpM6GlO8bHo/H3L17d9y7d+/MhEIhy8fHhyEvLw8nTpwQxMbGihUUFFjjx49HZmZmP4Qsa1Ph8XggKyvboooOrUVUVJTg4cOH5Z6enq7y8vK5AFA1ceLEv+/du6c/ceJEEAqFPC0trXRlZeWUiooK1KZNm/R27dqlGRkZxSsrK9/mcDiYx+PJ+/j45C1ZskS+oKAADhw4ALq6unRKSkppaGhop6dPnzp27949hsPhSHM4WoE1a9bsy8rKGjh06NDFXbp0SRaJRCpMJvOBoaEhvWbNmjlisdjVxcVlQV5eXseYmJil+fn5VhwOh3ZycmLr6en9a5DZuHEjfevWLaKqqgpYLBakpaXhWbNmoR49enyu+39RXl4Of/31Fz516tRnBy+apoEgCPDx8aEfPnyI5OXl0erVq8HQ0BA+DmWiaRqGDRsmNjIyerB58+YBcnJyLZZjQVEUs7Cw0EJFRaXwyJEjfffs2bOruk4TQ05OTuzq6oomT57cqJvE+/fvwcHBQXz58uXeXl5ee4uLixUiIyM7ttQ5/KhQFMU5c+bMpA0bNvyhqKiIRCIREgqF6OTJk0RNPtvr169hyZIlooKCArCxsTm6evXqhSRJ1lkv5tChQy4HDhzYyufzSQBgM5lMNsaYLisrQxMmTNi8dOlSL5IkP/sQRVEUkZqa2mv79u1eqqqq2e7u7sfatGmTBgD5AIAAoJ2fn19gdHT0xBEjRtArV6787MQcTdOQmJgIq1evFr179w5GjBhxQF5evvD06dNLWBQeZ3EAACAASURBVCwWi8fjoeLiYjAxMcHjx49HJ0+exO/evUMLFiygnZycmrzaNm/ePJyZmQn9+/eH4cOHo27dujW74/H27Vs4fPjwi9WrV5tQFCW/evXqMj8/PwJAEkK5fPlywcaNGzVIkixu1o6l/Itx48Z9lUNw8uRJqbMh5dtw8eLF365du7ZTVlaWuXjxYvaNGzeoGzduMPh8fqW8vLzswIEDiXfv3hE/2wM5RVGwdOlSMDU1pe/cufNTCC8UFBTAsWPHqLy8PKaBgUE6SZJPs7Ky2vP5/DZCoZA9ZMiQ0NLSUo2HDx8uxBiz0tPTISMjA7y9vZe4uLj8K0SFx+MxwsLC/paVlR0wduzYD4HVWVlZODw8XFBRUcFWVFQUVlRUEOrq6k+9vb2l5YNbmdzcXDYAcDQ0NIoOHz686urVq/7y8vJiOTk5sYODA9vIyAg15KHjf//7n/jQoUMESZKoS5cuWFdXF4yMjFB9s/0sFgsOHjyIS0pK4MyZM4jLlQivvXr1CvT19f/lTAgEAhg5ciS8fv0ajIyMcGZmJuJwOMBgMAAhBEKhECiKgrKyMkhISCDk5ORaZdCjKErl7t27v7m5uW1+/vx5o46dO3eumMFgpO/evdughcz7qcjKymr75s2bAZaWli9Pnz5tP3PmzPUyMjJgbGxMEwTBc3Z2Xufu7r6hsaE5FEWxAMCguLi4vK7wqaZCUZSCq6trUnZ2tiabzQaaprGioiLW0NCA5ORkRBAEEovFAnl5+TJ7e/uDixYt8iVJUlBjU0VFRbtffvnl1cmTJ5llZWWwe/du7OLigqytrZvFvszMTIiKisJxcXHw+vVr5ODgQPv5+RHN5XTs3r2bat++/aqRI0euf/Xqlc2BAwcu+fn5kSEhIQKSJHFxcTG7Y8eOf7m5uTk2S4dS6kTqbEj5oeDxeMSdO3cWnTp1ar2hoaFo8ODBZFpaGv3o0aN3R44cUcjKylIiCOKnu/CwBEJXV5fW09NDffr0QUOHDoUePXp8MtP6vZOamkrv2LFD7OjoeO/OnTsGPB5PdcCAAWBoaMjkcrlAEASsW7dOzOVyby9dunQQRVGdb9y44Zydnd1FU1Nz3dixYz8k36akpLQJDw9/pqSkpO7m5saub4B6/vw5vW3bNqGtre2aadOm1RmeIKVl2bRpU9jr169/ZbFY8gCAaQn8goICzubNm5s8S/D+/Xu4e/cuXL58GeLi4uCPP/744jFpaWmwZcsWsLOzw0lJSUhDQwMXFBQgFosFLBYLl5aWIoQQzJgxg549e/aHh5/379/DwYMHYdiwYWBiYgLGxsbQoUOHxOjo6K719YcQQg2pJt5UxowZk9SrV6/OixYtatQNYdSoUXSPHj0Orl27dkZL2fazkZiYaB4dHT3s2LFjvqNHj2ZGRkaCm5vb0kmTJm1pbdvqgqIoAgB0QVLvhhsVFdXz6dOnXWfOnBmupqb2rL6E5TFjxqSamZnpeXp6fpOE9DVr1tDR0dHEjRs36swXrKUm1aCV/pUrV4qDgoL0SJLM3rt373YVFZXZOjo6xNWrVxMGDBiw+f79+6MrKyuzfHx85jb7yUj5gNTZkPJDwuPxNA8cODBr4cKFqxkMBsjKylI8Hi8IAPwB4Oda2vgUTBAEYIwRQgiUlZVxeXk5YjKZ2MjICPfv35+4evUqnZycTLRp0wYHBgYiFxeX7yIE68mTJ6KwsDCmvLw8qKqqUhMmTCDV1dX/tc+1a9cEV65cEY0bN250//79L9fX3oMHDwYtWrTo+vHjx+FLogFpaWnivLw8FBkZSQUFBXE4HM5/ThGktZk7d26ej4+Pem31IpFIBGVlZV/8/hqCjY0NuLm5Qdu2bevdLyMjA7Zs2QLHjx+H/Px8bGhoiNq3bw8AkjofXl5ekJmZCWfOnAGEEMTExMDp06fxs2fPkFAohIkTJ0JcXBx++/Ytev36NUybNu22QCB4b2lpGduuXbtCOzu7cwCgdfjwYef169f7JCYmyjKZzEcURQEApABAGMa43mu7MVAUJRcUFHTo3bt3v27fvr3BD4VVVVVgYmICW7dutR01alRMc9nzM8Pj8Zg9e/YUmJiYiKZNm8YcOHBgzTVA6+nppXp4eCyxsLC4yuFwqC+39n2zadOmOadOndp65cqVDw5sTk4OlJSUgJGRUYv1u3v3bjorKwuCg4MJAImDcfHiRbxt2zYQCoWouLgY5OXlIS6ufjGzK1euCOPj47OWL1/eEQDg1KlTfhUVFT6JiYloxowZtl26/B97Zx5XU/7/8dfn3Hu7LZcWpWQJhexqkKwzyTLZs06WZF+HKcTIviT7XrbB2KUGyVgSMsqeiZQtkSXayG256/v3xy2/UClKfOc8H48edM/nfD7vz+nccz7vz3urE1Zqk+B5j19++eWLFIJ9+/bxygZP2cAY04bGP1WS85ESmvou39dWf8lCHMdRTg5xBgAcxxFjjHXo0IFWr17NKleuXCaChYSEKPz9/UUAsGjRIhgYGCDvojMXLy8vuaenZ/tKlSp9Mi3m3LlzI1JTU1u0bdtWJRQKmUgk4rKyslTp6ekqc3NzYbNmzTixWIzAwECZjo4Ofv75Z/HSpUvlrVq1Gt+pU6etpTBNnkLw9fVdfufOnV8BUN26dZmTk5Mob3Ds55KSkoKnT59i6NChaN++PUVFRTEjIyOysrJi1apVQ3p6OhQKBV6/fk1RUVEQCoVMLpdTeHj4Ry+wgwcPqqdOncpVrVoV2traEAqF0NLSgru7Ozp16gSO4975lb948QIDBgzAy5cv0a9fP3V0dLQqPT2dpaamCrS1talcuXLqP/74QxgaGqry9fVVhYeHm+SkwV0DYC4R/f0l8967d28rX1/fEwAkMplMvWzZMq647i3//vsvhg0bppZIJPJKlSol79+/31osFn95SfX/EaRSKcubOlsqlRp07tw59cSJEx/dO9u2bVMdOnSIFAqFoHLlyk927txZVyKRfJQG+nth7969P8+ZMyfY2NiYMcbUcrmcOI5TaWtrZ2VkZJRbt24d16hRoxIfV61Wo127dpBINK92mUyGWrVqkbe3NzMyMoKjoyO2bt2KWrUK9vwLCgqSR0dHv5w+fXoDsVicDgCXL18ecv78+a2xsbHCWbNmWdeoUeOjdNM8pQOvbPB81zDGvAB4QZO3npCzwOb5mNwsNiYmJrR06VLWu3fvrzIuEWHjxo10/fp1FhISgrS0NAgEAqhUKowfP179YW2DoKAgpVQq/ePFixeX3d3dD0gkko8WPkeOHKnRo0ePRzdu3KgTGRk5RqVSCVUqlUipVGppaWllSiSS1OTk5ImbN282cHR0VNnY2Dy5c+dO1dmzZwv9/PxkNWvWnO/s7Lz4q1wAnvdITEzkMjMzG545c8bt4sWL4wYPHszVr1//i8xugwYNojdv3rCePXtS1apVWbNmzSCVStG2bVvY2tpCLpfD0tJSnZqaytWsWRNNmjQhlUqlHjp06EfjbtiwgdLS0tjixYvfuWwU5J7XqlUrbN68+b1aEgWxePFiZXh4+Otjx45VY4w1BbAJQP3Pca3KCWip16pVq0Ply5e3rl27Nnx8fIrbzUfMnTtXGR0dnXL06NF3OVUZYxwAKwAPiejLKh9+Z9y/f79Onz597mhrayt1dHReV6tW7fbr169rlytXzmzTpk2FWpBmzJihTExMTNi+fbvV92xFlUql5gCSARhlZmZW0dXVjZRIJKqDBw928vb2Dho8eDBGjRr11bJCjhw5kurUqUMzZswocFPx0KFD8idPniS4u7s3zqs4//XXX16pqalezZs3F23evDl75syZdc3MzJ58Hcn/2/DKBs93DWPMEJoH4X/ZmvFZdO/eHXPnzi10d6gkOH/+vPrw4cPc5cuXER0dTXkrt+ro6ODVq1fvtc/MzMT06dOzz507p+3m5hbds2fP2VWrVk3JzMzMNDc3v7pv376VGzZs+O3EiRNVJBJJgXnLfXx8Hr58+bKmg4PDeI7jMv78888/mjVrJo+Pj2fe3t4GEokkuxSnzVME7t69W33dunWRXbp0kdjY2HyWT/iwYcOocePG+O233957GSkUCmzdupUCAgJYbGwsqlWrBltbW8rMzER8fDyzsLCghg0bwsnJienq6sLHx4dSU1Px77//snHjxtHcuXMLDVJ3dXWl2rVrk5eXV5GfPSNGjFDp6uqeWrdu3WgAXQH0BdARgDM0C/r9RBSX37mMsToAfgZQHoCBvb29uFKlSqMNDAwE7dq1U/bv379EfOrt7OywevVq659++kkfgAMAAwB3AdSEpvK3CMAVIjpcEuN9ywwZMiTcysqqubu7uyA2NhZnzpwhLS0t9ciRI4ukHNvb21NERIS1RCL57nfQjx075uTr67vu5cuXlYRCoYjjOAERkVgspmPHjn0VH121Wg1HR0eEhYUVuAHw4sUL+Pr6Js2fP7+aWCx+7xm/devWjcbGxqMTEhKUlSpVEsXGxt708vIqWho7ni9i8ODBX6QQ7Nq1i1c2eMoWxlgWNLnbeYoJYwwjR45Ur1ixolSVNblcDhMTE6jV72/w5adsAMCKFSvk165dE758+ZIzMDBARkYGrK2t0bt3b89jx44tqlKlCkkkkohevXp1q1q1avqnxpdKpUwul9e5cuWKQ/Xq1cOsra1vl9zseL6EuLg40xUrVtzt2bOnXsOGDYu9YO7bty8lJCSwNWvWoEWLFtizZ4/6+fPnCAoK4vT09KBSqTBp0iS1jY3Nu3tcrVbj3r178PDwQLNmzYiIMGPGDLZ7927cuHEDaWlpMDIywvr169GkSRPIZDJs2rSJTpw4gYyMDCiVSmZra0sbNmwoliV19+7dCAoKunHw4MEKAJ5BE7S7EkAkNLEc0wG8BpDaq1evASkpKbXs7Oz+2rNnz9vnz5/fARAI4DURqcLCwlqtXr36wsaNG5mhoWFxL1uBjB07Vn3q1Km3z549GwLgAhG9lxI0RwNbSEQzS2zQbxCpVKrdtm1baWhoqCA/d89PoVQq4ejoqDx37pxWXjes7w2pVMpmzpx54ty5c44zZsxgTk5OrKySkgQGBtL58+excePGfL93crkcU6ZMUbq6ug5o2bJlwIfHb9y40X/8+PH7XV1dI27cuNHE1NQ0ZsGCBT+UvuQ8palsfJXMBTw80Lycy66U6ncMEWHz5s3ckydP1H5+flxRipcVl6ysLPTu3VsNjYvbew8MuVyOlJQUfDiuh4eHVnR0NB06dEjx6NEjob6+PqtQoYLyn3/+WTB//nzhlStXVH5+fm309fUbuLq6hn9KhpyXfWznzp1jS3JuPF9OzZo1X06dOrXnihUrTnyOsuHv789OnjyJwYMHw8rKCubm5qxatWr066+/UsuWLXPvt/dWR7GxsarQ0FCVUCjUatiwIZPL5epjx47h1q1bLCxMEzOakJCAiRMn0uvXr1lMTAzs7e3Zzp07cejQIdq5cyeKq2gAwOvXr1Vnz56t3ahRo207duwI/OGHH2oSkYyIzuU0+fXChQtOhw8fXrNhwwariIgI+Pn5DWWMCc6ePetRoUKF9snJyW9lMtnlqKioJT/++KPC0NBQq7AxiwIRYceOHbL4+HiuQoUKqvDwcJtq1aoVVNRPAED+qT4ZY5UB/ALgbyKK/lT7bwmpVCrasmXLGlNTU/ocRQMAgoODYWxsnPg9KhpSqVR8/fp1xx07dkyOiYmxNzAw0L5w4QJXlpkP5XI5li5dykJDQ/M9npaWhjlz5ii7du06LT9FAwBEItHN/v37H3Rzcxvo7OwsOX36NG/d/h+At2zwfBUYY88BVCprOb5nGGOkr6+PhISEYi+gYmNjsX79eshkMqjV6nd+7kSER48e4fr168gTtP7huGqhUMiNGzdOJhaLBRzHcU+ePOFkMhk2b94MLS2td33FxMTgzJkzshcvXgirVq16YejQoYNMTEwKdKPi+X64cOFC/5MnT+6YMGHCZ1koHz58CBcXFxw+/GnPnsjISLpw4cLTwYMHD/bx8QmNi4vjJBIJqlevTsOGDcOmTZuQlpbGOI6DhYUFGRsbk7W1NVuwYAF79OgRtLS0sHLlSvXevXu5DRs2wM7OrshyKpVKWFpaUtWqVdnbt29Rv379PXv37h2Ut82iRYuexcbGmnfv3l3RvXt3EQCkpqZi/vz5uHXrFvT19cEYQ9++feUDBgz4YkUDAJYtW6aoWrXq3wMGDJgCIE4sFr8Xm8EYcwFgnfOrFoAzRHT6gzY1AbgDaAjNpsJbAGcAOAIoB2AeEYWUhLwljVQq1fLz85sZERHR/dmzZ7UYY7p6enqqTZs2CT+V2awg1Go1unfvrpLJZKRSqbL19fWTjI2N42vXrh01ZMiQRZaWlkklPI3PYubMmUvj4uJa29vbnxg0aFCgn5/f4ICAAHddXV106NCBGzJkCGdsbPzV5bp69Srmz59P2dnZjOM4vHz5EnPnzlX37dv3I40nPj6eli9frhg8eHDPtm3bFph0YcmSJRG3b9+269Gjx4aePXv+KhKJ+EXqV8LV1fWLrvXOnTt5ywZPmWNQ1gJ87xARe/36NRQKBUSiosX6ZWdno3v37upLly5x0ATnf/QwyVE8uPwUjZzjpFAo6M2bN6O7du1qf/78eTdbW1saPHiwWCgU4vTp08p//vmHVCqV0tjY+Ia9vf0uOzu7QIlE8k28qHlKhocPH9Y2NTX97OQO8fHxqFevXpESRLx580ZVo0aNEAcHh/PPnj3b8OzZs+Z169a9d+/evQF79uwRVqxYke3ZswcSiQQREREsOTmZ/f333/Ty5ct3NW3c3d25Nm3awM3NDU2aNCFbW1tyd3f/5LavUCjE48ePmYuLCywtLZ/16NFjxYdtpkyZUjU7O/vHUaNGnWnTpg327NkjS0hI4KpUqRLZvHnzy3Z2doEhISHzIyMjW9SoUUPdvHnzLyqAtnnzZpmZmdk/AwYM6PlhxWrGWDMAlgB+JKJRn+jKF8BmAJM+CCRfyRirAGAdY2wRAF8i2vHZApcC+/bt67F06dLZ3t7e6NKlS24WpC9aw3Ach9xYhqysLElUVJQkKiqq+rVr19r07NlzYps2bU4vXbrUTSKRvCiJOXwOq1atGhkUFOQxYsQI7vz588327t0728jIiAICAoRloWDkZerUqdi8eTOrV68eAOS+mz76jl29elW5f//+7MmTJ9vVr1//TkH9KRQKUXJyctNt27axRYsWjUpNTbUeNmyYi0gkSso5LhGJRNJSmxBPqcFbNnhKHcaYGEAW+CxUXwzHcTh+/DhatWr1ybaRkZFwdHSEQqEgIvqcay+D5mV+CcC4t2/fxkyfPl0+f/58aGlp4ciRI/Lw8HBWr169o717954lkUhiv0d3BJ6isXz58l3Vq1cf2Lp168/6HqvVanTo0AHW1tY0YMAA9ZEjR8BxHJmZmanatWsnNjc3f9f2xYsX2L17d7qrq2u7Tp063QQAhUIhdnBwyN6wYQNGjx6NBQsWUPv27d+TpUWLFvDw8FD169fvXTDskydP8OuvvyI8PByJiYkfFdjMzMzE3r176eTJk8rMzEy2ceNGoVAoxLZt26Jnz55dYAormUzGdu7cue/+/futf/rpp7Xt27dfJxaL30uheufOnXYnT578/fHjx+0aNmzIBg4cWGhRy4K4du2a8vDhw289PT1rGRsbp+Q9xhgbDKAtgE1EdK2wfhhjfwMYQERvCmkjhibtbzUAXUqzyGFxkEqlnKOjo9TPz0/Hysqq1MdTKpWYMWOG6ubNm5yZmVnyrl27TMvi+TZlypSt0dHRQ/39/cu+CNMHLFu2TK2rq8smT55c4E199OhR+fXr15OmTJnS+MN790MyMjJs5s+ff2nhwoVaABAYGCiPiIjgDA0NY1UqlfTSpUst1q9f36F27drfpPXte4e3bPB879QHoIDGtM/zBRAR7dy5k32obJw7dw7Dhw+njIz/z0CblZXFcoK9i7O6kUHjOx8DYB2AA0T0NvegXC5X79u3TxEdHS2oV6/eWR8fn74SieRtQZ3xfFukpqaymzdv9g4ODl6vVqsNlEplmr6+/nOO49RExHR1dV9ZWFhEmJubP05KSjIlIqalpSUTCoUVo6KiBjg7Oxf5XlKr1e8t7DmOw9q1a9Vjx47lTExMUt3c3FoYGRm9vHTp0pg//vjDa9iwYQa5CkelSpXg7Ows+fPPP6+Gh4efmDdvXjeRSCRbtWrVTxs3bjy5YMECkZeXFzt79qx64cKFXO54derUodDQUK5fv37vxq1WrRosLCxUz549k9vb20MoFIoFAgEjTcVNZGRkkLW19Y327dsf5jiODRo0aGZiYqLOrFmzDhY2P7FYTKNGjRpQWJt69eqdr1ev3nmZTKaze/funR4eHr1MTU25xo0bc46OjvnWsMmPpk2bCrOzs8v5+vpemjVr1nup6YhoF2MsGoAtgEKVDQAqfOI5TEQyAGMYY6MAhDHGrgOoDUA3TzMBgKlEdKlIEygBJBKJ2tXVdcqvv/669vjx46W+8BYKhVi2bJkAAJycnIz8/f2Hubm5bSvtcfMilUoFhoaGaVFRUYIPv0/fAnp6epxcLi9wgern5yfPysq6PW/evJZisbjAAooKhaIcAKtLly6NzJt50dnZWcvZ2Rnx8fENgoKC1GPGjFGFh4f35JWN0qE0iwrzygbP12AR/vcrhn8tmKOj40cfHjp0iF69evWlliMZgIsAOhGRMr8G48ePbxUXF9emadOml+3s7PjKrt8R4eHheocPH76vVquNhw8fLjIzM4NcLjdLTEw0IyIwxpCamorY2FiHhw8fkr6+PmOMQaFQ4OXLl9y///4rvHnzJlq0aFHgoicmJkZ55MgRFWNMKJPJ0gQCgZZIJJIQkTorK4sMDAye7d+/vw9j7IaNjQ2FhYW1UalU17p06TIzNDR05aBBg8S5fVlaWnJTpkzh1q9f32nnzp0urq6ue5s2bXrO2Ni4wb59+3a3adOmeXBwMHfnzh3au3cv69ixo5rjuKy0tDS99evXq9evX8+NGTNGOXnyZOGKFSsE1apV0/Hx8ek1ePDgI9CkptWBZgGdCCAzd9zRo0cnV6pUKWHIkCHHS+rai8XirOHDh/dr2LBhuy5duhwRCAQCQ0NDkaGhoUAgEAiJSDVo0CDm6upaYIBvs2bNhH///bckv2NEdIMxNoAx1g2aWI3M/NpBkxa3SJs+RLSZMXYbgDEAbyJ6mXssx+VqD2NMCqDvZ9YhmQlNamE1gCsAdgD4ARqFSAYgG0ACgLjcbFupqanlY2JiBOnp6Shfvnxxh/xsli9fLhg+fLhfgwYNzjdr1uzBh0UES4Pnz5/XHDZs2GW1Wm144cKFb0rRiImJQY0aNXD58mXq3bs3W7BggVxbWxvu7u5aRITAwEDFtWvXWKNGjY6MGTNmgFgsLrCGiUKh0Fq4cOEjhUJRjohowoQJ792fRIS7d++qMjIyFGfPnhU1atSId8n+DuHdqHhKHcbYW/x/BXGez4TjOHXFihXZvXv3WO7C8MaNG/Dy8lLfuXOHY4yp1Wr1l7yRMgAYFKRo8HzfPHr0SN/Hx+fZhAkT9PK6LBWVW7duwc/Pj+Li4hgAqFQqqNVqODg4qMePH8/Fx8fDz89PtWTJkn46OjrHzMzM5ICmQCAAcwAmAG6amZkRAIwcOfKwVCrtZmRklDJixAjLjRs3PrG1tdVr0aLFewFJ6enpWLNmjaJbt26D3dzcDuR+rlAoxAEBARt9fHyGRUVFwdTUVPXixQsdHR2dSJlMVn/NmjVbwsLCusfFxZkOHDhQ9c8//yQFBARUg8bKmi+MMS0AC4jIs9gXqBgwxioBGALgQXZ29pEbN278tGbNmmV37txpqK+vTwqFglWsWFE9depUYfPmzQForreHh4fS2dl5WIcOHXbl06cAQHMAnQDcJqJD+bT5C8BkInqc8zsD8CeAGgB2AthaHMWBMRYG4KdPFRJkjK2CRpHIJQ1AFSL6IUeG/gB6A7gDTVyZCBpFsAI0940ZgJDatWt77Nu3j9WuXbuoIpYYwcHB6sWLF3MSiQSMMahUKpVSqZTr6em91dfXT3379q2+VCotD4AzNDRMbt68+TFPT8/fJRLJ64L6lEql2vHx8Xbbt28flJycXFWpVGpnZ2eXf/r0aV21Wq01ZMgQcnNz+6Y26k6dOkW//vorsrKymFAoxODBg5XdunUblpSUVD88PPxXjuOUDRs2PDhgwIAZYrH4k3F7Bw4cWJWUlDRu9OjRWkQEHx8febdu3UT169dnALB48WK5iYnJ+bZt226pU6fOJQBP+aDx0mHYsGFfdF3/+OMPvs4GT9nBGAsA0A2aFwjPZyIUChEbG4s5c+bQgQMHmFKpzM0gRSiZgokKAA8AeBBRgdlCeL5fVqxYcW3fvn0/MMZw8uRJ3L9/HwYGBjAxMSl2X1KpFLq6uvDz81P//fffnKmpKUmlUuzbt696hQoVPlnxd+TIkfL58+eLvL29VWvXrhVGRkYa/Pnnn5eJqPqgQYO08pr03759i82bNysrV64cVr58+agaNWoEuri4XAAAhUKhGxgY6D5z5szaDx8+bA5N1e/OAITly5evoqenVzsrK4sEAsG15OTk5h/Kce3aNWFsbOz0vXv3jkpLSzN4/vy5MiwsrJ6FhUViIeIb3b59u+OFCxecMzMzKxCRUK1WCxs0aHDayclpJYBP1pUBAMaYD4DpuQv8x48fG0dFRXXs2LHjtb1793Zfvny5z7hx48jV1VUgEomQkZGB6dOnK4cMGdKzdevWwQX0WQsaxcEcgB6AhwDOE5EnY8wfwAwAj6DJSjUQwGoABwDMAdALQAMiKlAh+2CsCADriGhvAcdbQGPZdgBQjYgScj6vCaAcEf1blHEePnxYv2fPnoH37t2rnZycXGCxj0xluAAAIABJREFUuK+NWq1GXFwc7t27h+rVqyNXCbp+/Tq2bdumjImJ4SwsLO79+OOPfwoEArWpqWmCk5OT/9atW6f4+/v/rlKp9Bhj6saNG8PCwkKgo6ODcuXK5Q2A/yYIDw9Xe3t7qzMzMwVisfi1WCz2DAkJ2Txs2LAnGzdutBSLxZ+9QbV27dpAW1vbXnZ2dggKClIkJydfTk5O1nv16lVDkUiE2rVrnxs6dGhHXsEofUaMGPFF13jr1q28ssFTduSY9g+CL+r3RTDGQEQFpqj9QvJmCfqbiJxKuH+eb4B+/frF2Nra1gGgPnr0qEBPT48ePXrE9uzZ88VV6oODg+U3b96UzZw5s4qRkdEnF9szZsy4bWJiUu/ly5f3fHx8rAEgMjKSO3v27NJLly5NcnZ2ZnXq1HmncRARrl+/rnr8+DGLiori5s2bZ2JjY5Oct0/G2BoAx6DZFV8PzQKXAKBcuXIXDx06NJPjOGM/P795VlZWtxYuXDjZw8Njzbp16/r5+vrCxcUFvr6+KqlUmjBgwIBJ9evXP5q3/7S0tGo7d+7c++zZsxaGhoaK1q1baxkZGXFCoRAcxyE0NFT24MEDQdWqVcN/+eWXGRUrVrwEjZvQh7B79+459OnTZ3eOpYcbMmTI7EGDBm1BTsY4xphJcHBwDWdn54vly5fnpk+frh47dqzQxcWFHj58mHjr1q06eeOp8lwDFwB7AHSHJl4uEMC4nMNmAOZDU5jwLYBf81olGGM7AGwmok/Wxclp3xzAHwDsiCgjz+f1AGyERukyA3ACGmVGN2+7TxEYGNh22bJlJ1QqldjBwYEmT54s+JYW4UVh9+7dqpCQEDUAPH36VJCZmYlKlSqply9fLqxRo0ZZi1cgBw8eVC5cuFDYvn17VUREBNe7d+8TU6dO7VOuXLlaADoCWF4SyQOCgoJ+P3DgwPy6desqHj16JFq1apVVuXLl4tPT0ytHRET0dnBw2CgSiXhr+1eAVzZ4vmsYYx0BHAGvbHyrZAE4DiAVwHkAgUSUVfgpPN8jkZGRP/v7+x+ePXu2FqCxTrRu3RpLly5Vt27duljWMSLCwYMHZffv34dKpRJVq1btHzc3t65GRkafTBjg7e3djoh+CQ0NdevcufOBKVOmDMl7/PTp03WPHj0amJWVVUetVqvc3NyEuYtMhUKBkydPKu7fv8+MjIz+dXBwmNi9e/cIAGCMTQDgD6AGx3HLd+3atefo0aPj4uPjaz948EDLwsJCVb58eXJ1dRUEBASwp0+fQkdHB0lJSQgJCYGenh5CQkIUN27cEIWFhcHOzk5Vrlw5lUqlkikUCplMJjPo27cv2rZtW2C8IxHhypUrqqCgIJVSqWR6enp3TUxMbqekpFi/fv26okQiSZPJZKYA9Nu3by80MzNjmZmZmDZtmurZs2fyBw8eXM1ZxDWGxiqhLRAIWPv27Ss9f/7csE2bNuEXL17sHRUV9Ts0LlEfKTOMsY0AxkNjTZ4L4G9orBgdASRBY8Wc+2FNDcZYY2iUBAU01tInRPRejZF8xvoVGpcwKYCUnP9fHjp06IhRo0aZDx061OvevXsq/H+RwbfQBJffyq+/JUuWjP7rr7+WAdDKqa3BbGxsChOBpxhkZGRApVIVGPOiVqvh7e2tOnXqlCogIKDFmjVrJqelpZlUrFhx9tKlS68xxnoCeExEkSUhj0KhEK1bt+7+8+fPq2ZmZlKtWrXCfvvtN4eS6JunePDKBs93DWPMF8AI8AkJvgXUeN/lSg2gBRFdLSN5eL4i6enpdRcsWPDvggULRABw//59eHp60u7du4ttKQsNDVXcvn374ciRI910dHTuFMWakYu7u/uZK1eu/DRjxgy2e/duZYcOHfoOGzbso2p/kZGRLCoqqk9oaOgubW1tNnLkyHfuVW/fvkVUVBSuXLmCKlWqhPbt27eXra3tbwAWyuVy1qhRoySZTKY/adIk9bhx4wQJCQmoWrUqJk2apBIKhQozM7ObmZmZRg8fPqxqbGys7ejoqDh69Chr1KjRv0KhUB4VFfXD0qVLxfr6+gDe1aMptgvP48eP8ejRI7K0tGRmZmZISUmBtrY2DAw+jnO1s7NT+fv7d65WrVoIY+x3aOIvHAAIs7Oz5dDEMKSIxWJijNkAGAZgLxFF5O2HMTYDGhcqlvNzmIiuFEtwTT+HAKwhogtFbD8PQP/OnTs/ePbsmZOxsbHq9u3bwtjY2OpGRkaPGWNVodl4uklEwwDg/PnzLbZv374oISGhrrGx8ePo6Ohm/v7+gqpVqxZXXJ5CSEpKgp+fn0KhUGS+efNG18vLS/Sh++T69euV+/bt42xsbCJmz57tXLNmzVd5jzPGegBoCWApERWaxraonDp1akx4ePiamTNnahERPD09lUuXLjUQiURFtoDxlAyjR4/+IoVg06ZNfOpbnjJFgnyKyfGUCQxAGIChAOK/lRz6PF+Hv/76a2zeXeLt27erW7RoARSzBk5YWJjixo0bL6dMmdLSyMgorbhytG7deotCoWhpbm6ubWtrS0lJSS0BfKRs2NjYkI2NjX+jRo0Czp07t8rHx2ecq6urwNzcnG3cuFFpZGR0Ty6XW1+5csWhXLlyC3P6mLF9+/ZMXV3d8jdv3mQcxwmICCNHjkTLli0VTZo0EQYGBmqvWLGilUgkUj958qS+t7f3zUOHDqFZs2ZUvXr1JmKxmHN0dORyFQ2g+EpGLhYWFrCwsHh3spmZWYFta9WqRQMGDDjWpUsXXwsLi2mPHz8eAeCHPIpCXrexO9BYiycwxm7kpKzNpS6AfSUQezUewCnGWMuiuD8R0ZwXL16s79y584vWrVurX716BS0tLTRp0uRhQkLCRWg2OgYTUfSRI0esNmzYcDElJcW4R48eGDFiBHfr1q1Kffv2JV7RKDmICDt27JDHxcXJevfuPZQxlr5jx47gzMzMdxtPb968wdixY1VElPzXX381zqtkMMY4AAMANALwb0knT8jOzjasXLly7lioVq2aKjQ0dFSnTp1WleQ4PGULr2zwfA3cALSCJuMJT9miAvAbET0qa0F4vi7x8fEWERERw2fOnCkCgOPHj+PgwYPcP//8U6x+iAh///03N2vWrKafo2gAgImJSYpcrvGqSUxMVNvY2MQU1t7GxkZtY2MzqWHDhke2bt16cty4ccLMzEyuYcOGYS4uLm0PHjx44IcffthARHdtbGy45cuXnzp9+jTLTRfKGEOzZs2UNjY2kWlpaTdWr159WCQSqXPm80wsFsuHDh0qtrOzK9PMP7t37xb6+vpyHh4ek+VyeVdoUvKuYIx5ALgOYCkANRFNBWAD4AgRHcunKw8AC6Fxn/psiOglY2wqgH8YY7uIaGVBbadPn77l3Llz/d++fas9fvx4LF26VCCRSJCVlQUnJ6dn3bp12+/k5HTz4sWLP/j4+Ay6cuWKm66urklgYOA7RaxJkyYAX/y1xCAiLFq0SFGnTp3DCxYsGCKRSGQTJkxIcnd31xKJRJg3b54iJ+318+zs7AchISFXjh079sMHSqongDPQKK8lvjnVpk2b8GXLlr1zBaxbt65WfHx8/ZIeh6ds4ZUNnlKHiJSMsQPQvAD5jFRflw/dphYT0Y2yEoan7Dhz5syUdu3aiXNdJ3788UcYGBgUu15BdnY2iEihq6sr/VxZJBLJy+fPn4vWrl2rTE9PF/Tv379IxeEcHR1Db968GXzmzJnOv/32m3jr1q1DZ86cObZ169bvis9cuXLl3Jw5c96mp6dLzM3N3937bm5uwlmzZjU/ePCgXd4+9fT0lPr6+tKnT59yZa1sAMCWLVuwZ88eV2dn5zkAlNAEV2/OObwBgAdjbBGAXwB4FdBNMoBsxtgwIvrjS+QholOMsdMAVjLGzgHonZ8Ljb+/v1vXrl05T09PZmZmhu7du8PIyAhCoRAHDx6sumPHjrXr1q1jEomEzMzMEBMTIyjMx5vn89m1a5c8Li5OoFKplPXr1z/Yt29fV4lEQufOnWsRExNjvHLlSujr67/p169f/3r16p3KrRnCGCsHTZayvMpGLWgsGqViBT958mSfGjVqvPueBgQEqKysrPhCsWVAaRb1+3aqxPD8r+OH/LOy8JQuud9xJYCTRDSnLIXhKTsEAoE4MzPz3YJBS0sLYrG4sFMKJC0tTev+/fsfpZEtKjY2NlHdu3cfaG9v7+Ll5aXVvHnzQi0buURGRuq8evWqkkAg0Fq7dm2mra3tR4ttkUikHD9+vK2vr6/i5ct3dehgaGgIExMT+Pv7r1YoFO8KhxkbG0tr1aoVKpVKv4mFb7NmzdQ3b95sCeBHAPEApkDzPbYDsBWaTcJfAezPLxsVAJCGSQCsSkKmnP5+AzANwBHG2LGcjFPvuH79uvWTJ0/i9+zZowYAc3NzaGtr486dO2CM4dixY8Lz588LgoODhdu2bRN6e3uzAQMGYNy4cZSeXuRwH55PkJSUhBs3bqjnzJmjt3LlSu3hw4cPyVUmdu7c+XTChAlH582b13zu3LkVmjdvfvKD4oQuAN7F52RnZxtmZWVt6tGjxy89e/aMy87O/rwHRgEoFIry4eHhowcNGqQFAIcPH5bXqlXrobu7+7SSHIen7OGVDZ6vQk4RqVbQZDnh4wS+LrmpLZeWqRQ8ZcqAAQOmJScnx3h7e8sBQKlUIi0tDZmZBRWbzp+VK1cqhg4d6mFnZ3f2S+QZOXLkgVGjRvnb2Nh89DyIjIw0GjFiRIqbm9vrIUOGvBg6dGiara2tytvbOzM8PLz5rVu32KBBgzp5eHisyK/vypUrPxwzZozz+vXrczMgwcDAAKNGjUJkZOTEgICA+XnbX716tWuzZs2+Caurnp4eUlJSqhNRAhH1JCJDImpERLKc3eV20GSVKjj44/95lzKUMdaCMbaEMbaHMXaeMXaYMWZdHNmI6AoRtQYwC4A3YyycMbYNAAwMDB70799//enTp99tKj19+hQDBw7Eli1b2MSJE9/rq2vXrrh16xb09PTYzp07iyMGTyGYmJigbt263Lx58x5u3brVTyqVCgFAKpWKx40b16ZDhw6u5ubmVyUSyXuFGHOKQnYCcLtt27aNAwMDx7Rq1epV+/btL2ZnZw+oV69e9d27d/uXlJwvXryotWDBgjvt2rUjoVCI5ORkXLx4MeO3336zFYlERarzwvP9wLtR8Xw1iOg6Y8wWQL4pD3lKDQGADUQUWtaC8JQd2trarydNmtR+7ty5LwAgIiKCKlSowHR1dYt0/uPHj8nf31+upaWVbW9vv6ak5GKMGQNIyeumkZyc3DAuLs5wzJgxzNLSUj839sLX11f+ww8/7K5YseLJ3r17FxpsUrdu3RMKhQIqlQoCgQBSqRRDhgyBvb09MjMzU/O2nTZt2g9r164N79Onj0GzZs2+uitVdHQ0kpKSYGtrCzs7O7Z9+/Zm0GwGfmQNJqJnjLE2APwYYwYAQnMrgueDgDGmB43f/U/QuGEFE9GFHMvEqhzXmdsADhBRkRRIIoqdP39+8rFjxxwfPHhg5e3tvXTo0KH+GzZsWLB69WphcnIyBg8eTM+fP2eLFy+mpk2bsm7dur07f/fu3epLly6xypUrQyaTsfDwcJo4ceI3YVn6X2DUqFFaqamplefMmTO8YcOG8QCi9u/fv08oFOpkZWWxChUq3KlUqdLtQYMGDZZIJLmxSyrG2BQA86VSaeWBAwd2/fPPP5XdunUT5BzHjBkzOp89e7b/Tz/9dKC4MikUigoAsgFknjhxYs6xY8dmjhkzhmvQoAEHADKZDEZGRk9EIlHxdj94Sozc52xpwKe+5fnqMMauQBPcyCu7Xw9Bfvn4ef5bJCYmth03bty5/v37q3bu3Cl48+YN+vTpIx8wYIC4MJeqhIQE2rBhg2z48OGDa9WqdcLIyCjfeA2mSdmkC6Bczs8baCyZgwHo5/w/HZoNh1YAdAAkAmgLzUK4ChHtiIyMZI8ePXIKCwubnZqaaqutra3q0KGDKDg4WOXm5tahXbt254sy3x07duwQi8Uuffr0EY0dO1Zpa2t7ZeTIkW1yg8Pz8vr16+peXl73165dKyzuS/fDtLhK5f/XIDt+/DhsbW1RpUoVKJVKbN26VbVv3z5SqVSMMcbFxsaymjVrvjE1NU1JSUkxfvv2bbmYmBjWvHlzt4sXL+4oaMyca10TgDM0tXL+AvCCiNSMMW0A1tAoGRUBnCaiJQX0owPN3+I3aOonjMuvXS5r164d98cff6w3NDRULVmyRDhv3jy1qamp6s6dO4IbN25wjRs3BmMMo0ePVg0fPvyd4tagQQNMnTpVvWXLFs7CwoKcnZ1ZcHAwzp49i/T0dCxZskTt4uLCe1uUIC9fvsTu3btlb9684caNGycyMzMDESEmJgZLliyh1atX21erVu3yh+dlZ2frrVu37qGlpaWhk5PTO5fDpKQkbNy48Zm3t3eV4sihUCj0PTw8XgqFQrmRkVESgCq5Qeq5xMbG4ujRo1dnzpz52e6ZPF/GhAkTvkghWL9+PV9ng+fbgTFWCcAT8MrG1yKNiIzKWgiesicsLKzczZs3l5cvX15GRHpdu3bdHhwcPOHVq1e9RowYoSWVSrFp0ya5TCYTMg0AQHK5PHvQoEGtmzZt+q6QV86OuBOAhvh/Vz0AyICmcNtbaOpCiAHsJqLnOedVg6aCdRoRzcz5rDOAvgDCiOg9n5rIyEjdpKSk1sHBwculUmn1CRMmmNnY2BRp91OhUBgtXrw4Si6Xm4jFYpG2tvbZadOmtS+o/YEDB9Zcu3Ztora2NslkMvXQoUO5evXqcYcOHZLfvHlTJBQKmba2ttzd3V1LS0uzBsvIyMDMmTOVYrFYLhKJdB49esSsrKzUu3bt4ipWrCg3MzOLT0lJMScisUqlIisrq6gJEybMfvLkSfKQIUPmZGdnpxLRu6KGd+/erXP+/Hmt0aNHbyUiu4JkzQtjrAE0CoMZNJZMGYC7ACKJ6GFR+sjp53do/g4vALgTUeyHTXr16vVw1KhRNX7++eePzi+oFgkRwd3dnTZv3swaNmwIkUgEsVhMlpaWcHd3Z6amphg5ciRZWFjQ3LlzeYWjlDh+/Lg8PDycCYXCFxYWFhFubm5DJRJJ9oftNm/evPzcuXO/ubu7qxs0aPDee3revHnw9vYulhVqy5Ytf0kkEid7e3ut5ORkVePGjT+yHs6ZM0fRr1+/Xk2aNAku/sx4SgJe2eD5n4Mx5gPNTto34Sf9P44agIi3bPDkR2pqqs7KlSsfKBQK41evXrFevXq5t27deqORkVF+lakZAHMA7aGp5XAAn5GphjE2H8DDvIoFY2wpgOmF3aeRkZEsvxiPwlAoFOzy5cv97t+/31pbWzuwT58+YSKRSPWp8x4/fmyza9eugxkZGdUNDAwee3p6NgGQcfz48RkhISFzy5cvL1KpVEqZTJbVpUuX8e3atdv94sULZw8Pj0NRUVH0+++/u7i4uOwv5BpMAGCRk8Y2v+OboanI/fvXrIeT8zd2A1CLiGYAwNmzZ+vs3Llz6/37922EQqH22bNnBcWx/pw+fRrTpk1DSEgItLW1821DRGjVqhV27NiBWrVqlcRUeHJQKBTYtWuXPCkp6bWnp6elRCIpNJPcs2fPrJcvX37L29v7ow3BhQsXwsvLi9PW1i7wnlQoFLoALAAkPH36tMby5ctvrFq1SlhYrZoZM2aovL29q4lEoufFmBpPCTJp0qQves6sWbOGVzZ4vi1yXmhHoQl01PpEc54vQw3AjIiSyloQnm+TcuXKjapRo0bnlJSUrOfPnx8D8AiaCtS3c2ot6EJT4M0ImgxJV4gosuAeC4cx5gigLxGNzvNZawDWRLT1S+ZSGFeuXOm+bNmyIz/++GO4TCZ7IxAIZI0bN74eHR0dMn78+CKl381BbGRkZJ2WlmYIoDuAbkRUCwAaN24cOnnyZD83N7eDhXXAGOsJ4KecrFH5HWfQBGL/SEQOxZDti5k0adLCAwcOzHB0dLzZokWLw7t27Zr2888/640aNYqZm5sXu7/s7Gw4ODjg9OnThbYLDQ2lTZs2ITU1lcXFxWHt2rVwcnL63GnwQBNrtXLlSmX79u3Xdu/efZZEIskqynmTJk167e3trZ9XqVQqlZg1a5bK29tbS1tb+92mgEKhEOzfv3/TrVu3OnEcV0EgEIhVKpWSMSZMTEykSZMmsfr16xeonWZlZWHq1KmK9evXW4hEohdfNGGez6Y0lQ3ejYWnTCAiYoz1AHARQFPw92JpIQcQgvcrD/PwvCPHHapmVFSUc87vrQAYQhMH0I8xVhHAGADNiCi+hIZtCeDmB5/JAbzMp22JcffuXWXNmjUzAwMDW2ZkZMDKygqTJ0/u2axZs3njx48vUmA4Y0wI4Bg01h05NIX33q3Ao6KiLnxK0chhIIDFBR3MeUYGA+hRFLlKkujo6NHBwcHc5cuXG58/f77R2LFjBUOHDv3sAO6EhATkl95WrVa/F5Tq4ODAHBwc4O7uToaGhpg7dy6ztrZGzZo1P3fo/zRqtRpLliwhLy+vDnXq1ClSnBMAZGdni7W1tcvl/m2eP3+OoKAg2e3btwUdO3Zc8YGioePn53deoVA0njlzplaehBOf3ETMzs7G0aNHFWFhYZyzs/NkXtH434W3bPCUKTlZVc5C4/PNWzhKDgU01/Q0AGciUn6iPc9/FMbYPAC+RJRYSJvfAFQgooKKyBVnPBMA5wHYEJEs57O6AMYC8CKiUi+6oFAo2OnTp8dIJBKVhYXFC3Nz86sikajA+X8IY2wYNMXO3gDYS0RPcj4XATgFQEpE3Qo53xTACSKy+cQ4NwG0z6+IXimi36JFi7RLly6VWHaoXPeovFaRe/fuYeDAgTAy0oST5VSyhlqtRvPmzdXz58/nEhIS0LdvXxw/fhzGxsYlJc5/BiLCgQMH5JGRkaxly5ZLBg4cOLso52VnZwumTp0qs7a2Vj569IiJRKLUdu3aLbW3tz+ur69/F9BYM4KDg+ecPXt2qp2dHde3b1+tlJQUhIaGKq5evQptbW1oa2vj999/FwGAXC7H8uXLFUqlUkREarVarVIqldJGjRrt6d69u0/58uWflua14Pk07u7uX6QQrFy5krds8Hyb5KRgdADgCI1LVVNoFsr5O/byfIrc/OSDAPh/TV9vnu+LnIxF4wBEF6Zo5LAZwOESGjoIQP9cRSOHzgC2QBNcXuqIRCJycnLy/dzzC6nKPQnAQQAT8jvIGLMCsBaABMDE/NrkaVsPQMJXVjSwbNmymRYWFiqUwPqgU6dOlJ2dzbKzs/Gh+9XJkyfVXbt2hZeXV37uNRwAVK1aFR07dlSfOnWKc3Fx+VJx/nMwxjBgwACtPn36wMvL6/cePXqsl0gkrz51nra2tqpz586/MMYqd+nSJdLMzCzswxiNP//88/DRo0e79urVSyWTyVSTJk1S3b59m6tQoQLXsmVLioqKYsbGxiq1Wo1Xr15hwYIFyh49enh17NhxmUgk4t9L/zH4rA88ZQ4RhRHRbCJqAU02levQ7MrzD6TiIQewEcAPRHSQVzR48oMxps8YmwxgDoAjRPRJlx8iyoAmhqMkUEBT1yEvOwG0gSZL1XcJY8zAysqqsZaWljsA2w+O2THG/gHgC8CTiNoSUaF1QgDEAKjCGKtcSiLny9OnT2tHR0eXSK0RlUrFZs2ahQsXLnx0bOzYsdyZM2c+uQZJTExkFStWLAlx/rMIhUI0adJEFRgYWCTLBgB06dLF38nJaXX16tXP51U09uzZs8jT0zPp5cuXnSZMmKAICAgQ6OvrXwkPD+cCAgJYhw4dUK1aNbWOjg41adLkqLu7u2rZsmVZY8aMcejSpctSXtH4b8JbNni+KYgoGUBrxlhjAJcAaDPGoK+vj4oVK6J8+fK4du1aGUv5zaHO+elNRMfKWhiebxfGWBVoFvRLc11/ikEyY8zmSwLDc/AFcIMx1p+I7gEAEaUC2MgY65pTh+cvAP9Ao+DEAHjyGRmvOABW0NT7uEdEb79Q7kKHGzFiRGxoaKhpzZo1M2JiYnLdwyoD2AaNpTaLiDoUtcOcmI1fAJxijE0hor9LR/T3USgUktatW6uhSaH72bi4uJBIJIKpqWm+7tpCoRB169alI0eOoEePHgW6XyxYsID1798fjo6OXyLOfx5nZ2ctT0/P0e3bt19euXLl+M/pQ6FQsJCQEI9FixaJTUxMAAD169fHvHnzmllbW6t9fX3V1tbWAYmJiUa9evU6+PPPP29zcXExA5AtEolel+B0eEqB0izqxysbPN8kRPRvgwYNtiUmJo6vW7cuiAhEhH///RcODg7EGGOXLl1CRsZX8br4llEAeAygBxHdKWtheL55ZgDwIKKPcusXgVkA/gDww5cIQER7GWMXAIQwxpp+oATEQpPudQM0QeRvAXQAYMkYywIQVBRlhzHWDppid9dy+nBgjFkA2EJE/36J/Pkhk8mso6OjTV++fAki4hhjQdAEjlcG8CsR3RAKhVfUarWE47hC047mhYhic7J0rcpJF+xa2t9zKyurqxEREe2+pI/Q0FBIpVIcOnSo0LiPVatWse7du+PcuXO0atWqj9omJCTAycmpwHS5PEVHS0sLrq6uzM/P77ynp6eVRCJRfPqs9xGJRNSvXz+PuXPnrh4xYgRsbGyEjx49UtWpUyeiXr16wdHR0T169erlJhKJsvOcU+RYKJ7/XXhlg+ebJTIy8ncPD4/Ry5cvf5ef+82bN7h69Spbv3491a9fnwkEAipXrhyLjIxEUlL+mV3r16+PypX/3xPh4cOHePiwyHWuvmWUAJYCmMW7TPF8CsZYbQDXi6NoMMaaQ+OaJ4UmnsK9JGQhogTG2ChoAsVtc8ZyAeABYGBOkPiJnOYXc47rAvBgjKmIKKoQmZtCE/s1Oe/3IsfS4c544TXtAAAgAElEQVQYGwSNIvCqU6dOW06cOEHQuBTL8Zmum/7+/tNu376N2rVr48aNGz8wxojjuCopKSmP/fz8Rjs5Of1laGhY1c7OLp3jOFnjxo0vL1y40KVixYqfrClARGkAhuZYSY7mKGil9n13d3df2KpVq892Z1MqlYiLi0ONGjUIQKHKhq6uLtq1a6c+ceIEp1QqIRS+vySpXLkyzM3NP5kyl6doNGnSRHD79m2z7du3h7q5ubWVSCTFvo9+/vnnDY0bN05auXLlnzY2NsKjR4+qx44dO6N69eqXOnfuvLw05Ob5/uGVDZ5vFpFIlN6oUaPDgYGB3Xv37q0FAIsWLVIBUNWtW1fo4OCgqly5stDHx4dq1KjBatasSfr6+pSb1ST3fRwbG8s1atSIcmBaWlqsVatWuHjxYllO70uRA1hTEtmBeP4zuAAo8mKAMXYVwHMAHXIWvCUKEZ1njCUzxioA+BNANoACF9JElMkYWwJgTU7Bu9sFZFlrC2DXh/3kFAtcDmhqWAwePHhvamrq+rlz50KtVlNWVlammZnZtQ4dOmxu1KjREWiUqwobN24MSEhIaCYUCsUymSzjxx9/3F6zZs0z1tbWpwFkp6enW584cWKoQqHAnTt3AOApEb398ccfz7Vv375igwYNVNOmTRO2bt0aHMchOztbe8mSJa07deqUULt27btz5szpWa9evXtFuF7PGGOp0MS1lWaK0AxdXd2Mtm3bihcuXMi1bdv2k74VAQEBuHbtGo4fPw59fX1oaWnRtm3bPnne7du3cfHiRS4sLCzf4xzHQSAQ4PDhw+qePXvyMaYlwKBBg7R+//13ewBVARTXlRIAcOrUqZb16tUT3r17V80Ye1u5cuXLJSslz/8afOpbnm8ahUJh8Ntvv73MKSIELy8vuYeHh6O2tna8t7d3WK9evarb2GiyRyYmJuLUqVMA/t/3kOM4GBsbo2PHju/6TEpKQr9+/WBgYKA+d+4c9526YikBiPmq4DxFhTG2iIhmFrFtOwAriKhpKcs0FZp72ZmI2hTxnIrQKBQNAYgA3IXGvSo153gnANpEdKSwfmxsbJQRERGCXBcdtVqNqKgoHD9+PDs9PV1ERK+USqVJ+/bt1U5OTloAoFKp0KNHD9ja2sqVSqWAiGTp6em6UVFR8PPzw6hRo+jixYscAKxatWrG9u3bF547d44zMDDIV4aNGzeqfH192cCBA9dMnz7dg+O4Ql/IOfEsW4hoS1Gu1Regd/bs2Wk+Pj6/nzhxotBNyeHDh9Pbt2/RuHFjNnz4cJQrV67IgwQEBNDp06exYcOGAi0gcrkcI0eOpPT0dPj5+bFKlSoVYxo8H/LixQssXLhQvWHDBnOJRPJZdW3i4uIst27dekUoFGa5urp2tLS05F14/weYPn36FykES5Ys4SuI83y/BAUFzYqOjvby8PDQ2r59u6xSpUqzu3XrtjQ4ONjz7t278yZOnCj+nH7d3d3VDx8+ZH///XeJ5ZMvJkposm4JoLEy5rpxFGU+MgA6vPsUT1FhjM0nokKz0TDGugGYC+AOgAW5AdylKJMpNHEaoUTU+zP7qA2gLzR1euIB1AAwj4hUhZ3WtGnT7H/++UeroHiA9PR0lC9fvkgy2NvbY/To0XT8+PHogwcPNsz9fPr06XfOnTtnHR4eXuAzRiqVomfPnioDA4Pna9eutalSpUqBqW4ZY5WgSa3bFYAuEZWWhUOvW7duj+3t7cvn1kkoCHt7e4SEhBR7gIiICJoyZQo7ceIE8hSCK5CrV69i1qxZ0NfXp65du+L69euYOXMmMzU1LfbY/2VGjx5NEydOHN+iRYvPTv3M879JaSobvFmS55unc+fO3mlpaRnPnz9Hq1attCIiIjwUCoVex44dVz99+pTyq0xbFFauXMm9evWK5VpGAKBOnTro2LEjOnfu/DWKSO0FMA3AagAHAKwE4AkgDhrFAzn/qqDJNpUXDkDj0haQ538KjjEm+fBDpuEHxtgOaBSNFkQ0uLQVDQAgopcAEj9X0cjp4x4RLQKwApqYlNmfUDQAoDrHcaLCAo8LUzRu3rz53ku5d+/eak9PTzZ06NBFALBs2bKJrVq1enP8+HHr0NDQQjczJBIJQkJCBPb29pW6du2auGvXroH5tWOMBUBT66QOgHsAXBljSxhjKwvr/3NwcHB4UaVKFcPCFA21Wo0dO3ZAS6v4tVgTEhIwefJkduzYsSIpGgDQrFkzBAUFITk5mfn7+6Njx44YMmQIhgwZQnK5/NMd8AAA+vfvL9+7d++KU6dOfVESAB6e4sBbNni+C65cudJ58+bNQQMHDsSbN2/U//77b/KECRMa3Lp1q3NQUNDOJUuWFLr7VhDHjx8nLy8vVrVqVTx48ADa2tro3Lmz+u3bt+yff/5hxsbGdO7cuaJaPggapeANgGhoCnfVh0Zh0IImWDKvnEOIaNeHneQEsu4H0ACagNl4ADegsXjkyqICcJKIuhRzyjz/QXIsFlWIyDfndwaNousMIAvAMwDbiCi0DGTbDOCvr5XaNXfYFi1ayEJCQkQSyUf61yfhOA7x8fGoVq0aACAzMxNGRkYYPHjwGVNT06cBAQGDT58+zX1YyO5TPHz4EP369VPb29tfnD179uKKFSu+AZBRuXLlMSkpKRlyuXwqY2wZgBm58So5f1s5EZ0s9kQKYMiQIVlBQUHa9erVg5mZGRERkpKSmI6ODiUlJTGJRAK1Wg17e3v1pEmTuNwq4EWlU6dOWLlyJaytrYt13vTp06lu3bqYOHEiAzQVsvfv369esmQJZ2VlRRs2bGCf8/csiMjISBgYGKBy5cqYNGkSDRo0CK1atSorS3iJ8eeff8rNzMzmOTs7Ly5rWXi+HX7//fcvUggWL17MVxDn+b5p3rz5iRo1atTaunXrCWNj4xqtWrUyWbFixZ158+bVOXXq1Iu4uLiqNWvWLPZLwMnJiTVs2BCTJ08mkUjEPDw81C4uLhygcaNo27Yts7KywoMHDz7VlQKaANc2+aXWZIwZAjgKoB40yogcmgXeR+TEYfT74PyWAK7g/7+zAgAdGWPViSi+iNPl+Y/BGNOBRmF9nkfRmArN/XUYGitGWe84nQfQGsDXVDbI1NT0yeXLly3bt29f7JN9fHzI09OT7du3DwCwZcsWRYcOHQR16tRxiImJUZ09e5b7nEJ0lpaWuHr1KjdlyhT7fv36BRERAwA9PT3OysqKDRs2zFFHR+eck5NTXkvnMQCrGWNnCgiYLza+vr7lnz59mjRq1KhylpaWnFgshqWlJRITE1mFChWgpaWVm4Cj2N4Rq1evVteoUYNZW1sX+3kdFhbG1q9f/+53xhh++eUXrn///jh06BDr0qULFi1ahNatWxe36/eIi4vDhAkTSFdXF0SElJQU5ubmhsmTJ7OrV69+Ud/fAnFxcejTp8+pspaD578Dr2zwfDeYmJjET5kypeHChQtjmjZtamlpaVnB1/f/2DvzuJry/4+/3ud2b6lU9sqSJfs29oRKKKIMY4jBWMZuLCFJiCzZy74Mw1gG2fdJ2cueZUa2SHbGklTqbu/fH+fml4SWW/jOeT4e90HnfM7n8zl17z2f9+e9vJae6927t0dwcPCZQYMGKSpVqpTtB1jp0qWxbdu2tOvePTzNzMwwbdo0DgoKQkxMzMf6VequOQvA/WNVe3THs5QA+5HrLxLRBQCN0h0miFV8HHLar8T/LkRUDGJY1HRmTm/YtmXmBl9mVpnSGPlraKSR4+IKAwcOpKJFi+Lq1ava6tWrC1euXJH98MMPmp49e8qRy+eqIAiYN29epn24uLjUqly58nd16tSxBeAOvBP/WwZgBLJRbexTmJiYqAICAhp7e3ufJyLD+fPnywDA0tISujFz1O+iRYs0R48eFUJCQnLkHejcubPW3t5esLGx4eXLl1Na4r0gCPjxxx9RvHhxrFixgr29valnz57aX375RchYTjeNAwcOcKFChcjOzu694ytWrNCuX79eWL58OVWuXPnd8fj4ePL29oaXlxer1WrUqFGD+/fv/82FosfHx0OtVmuNjY2jvvRcJP47SMaGxDeDSqUy/f3339c9e/bMqkSJEujZs6d8/PjxFU1MTMjHx6fB/PnzTxcoUEA2bNgww0KFCullzLZt29Lq1au5Q4cO2h07dmR8sCghhjd9r4s9z2sqZ/hZBqBSPowr8Y1AREYQFcIJoqdtLDNnFJHLUchhHlIW4ufom6FgwYL47bff1H369DEYOHAgm5iYvDx9+nShcuXKqZs1a5Znz9XQ0FCBmTFq1KjWSUlJpU1MTO4DADNfIyIHIuoLMSTtZW7HatKkybXQ0FDTNWvWLJw+fXr/9evXZ/t9k5KSgh9//JFVKhVpNBqYmpoKISEhlFOl4hEjRggjRozA0aNH4erqChsbGw4KCiJra2sQEZycnODk5ERKpRK+vr5o164dtFotBEFAcnIyXr9+jbJly7JKpdKampo+USqVsjdv3hRLTU0VSpcujRcvXpCVlRUdPnz4AzVlCwsLXLt2DZs2baK5c+fi+vXrVLt2bTRq1Ogjs/362LBhg/LGjRsvGzduPMPU1FSqZCjxHjKZLM/6lowNiW8Jg717937/66+/crFixQAAvXr14rlz50YGBgZaBwYGWp09e3bc+vXrR+a0QlVmbNu2jZo1a0atWrXKKC71GIB9PoahxACoA9HISKMIEVWT1MMldEwGsIiZ73+ijT0RVWHm6/k1qc/AEHOavim6d+9ucP78eSiVynM+Pj6dTE1NU3x9fe9Vq1bNoEiRInk2LhGhS5cu7OXldWfo0KEuNWvWPKI7tQJintcvRGQC0aOVmsn1AkSHyGe/t0xMTLhs2bKRly9fHhwXFwcbG5sszzMxMRGurq6YMGECWrVq9W74LHfwCZycnMjJyQkRERHUtWtXqNVqlC1bVlu2bFm4uroKDg4OmDNnjgCIXhhmxpIlS/DkyRNetmwZde3a9fDChQvf1UPfu3ev06BBg44EBQWhVatWmc5Rq9XiwIEDCAkJwaFDh1CsWDG0atUKwcHB34TB8eDBA9y6dSt5ypQp5UxNTbMs7CkhoQ++ORegxH8XuVweP2/evGpHjhx5PmnSJE10dDQqVqwotG7d2sDX1/fuw4cPSzRs2HDaixcv3h46dEilz7FnzJiB1NTUjA/n0/kc7+6JDxWOCcBkIpIT0Xwi8iOiu0Q0gNJk1yX+ExBRCwDn0gwNIipARIeJ6BgRHSeis0R0EsArACuJaPFX8h4xY+a4Lz2J7EJEcHFxUclkssfW1tb3zczM/u3Zs2dHf39/tVabt5vGjRo1ko8bN85g8eLFf23fvt0P0FkPzH8z8ywAawDMJaLmRGSoqzjmrhNFnAxgCRFlqdyek5PT1qFDh54ZMmRItvJB3Nzc0K9fv48u3vVBkyZNsGfPHuzcuRMDBw4UypcvL0yePJmHDBnCly5dglarBRFBEATY29vj5s2bcHBwUJ85c8axS5cuZ+3s7OKbNWv2b3Bw8B+CIGg+lug+f/58rYODA/7++282MTHhIkWKwMrKCu3bt9dmIZ/vi8PMCA4OVv/000/tJEND4ksgVaOS+CY5cOBAr3Pnzk1JTEy0HDNmjDw2NpZDQ0Mv+/n51VGpVBaLFi366/nz5/X8/f315he0t7eHpaWl9urVq0JsbCwAHGTmNvrqPyvoYrN74/2d4EMAXAH8BeA8gH8hJgUPYOZ9+Tk/ifxHZzAMhVj9LDDNACai+QAuMfNaIpIDADOriOgoMzsR0TCI76UhzBz5Bed+BUBDZn6bn2O3b9/+5rBhwyrmJEE8DWbGyJEj1UFBQdYQP3fYvHnzyvj4+B79+vXTm3f1Y6hUKvj5+WlnzpxpkFEQkIgUEPO57AGYADj48uXLqODg4OOJiYnec+fOLcfMyz7Wd1JSkjBy5MiwqKgoB2NjY54wYYLM3t4+y4bD06dP0aZNG+zduxf5rYXx+++/88mTJ/HkyRNiZgiCgKSkJJQoUQJyuVwdEBBgEB4eDg8PDyQnJ+P58+coUqQIypYt+0FfgYGB2tjYWFq3bh1lzP/w8fHRli9fXujWrVs+3VnO2L59uzI5OfngwIED23/puUh8vfj7++fKIPD395d0NiT+t2jTps2aiRMnlmnXrt3Po0ePVteuXZtevnxZQ6VSmcvl8vihQ4f2ePv2rV4t6aNHj+K7775D0aJFUbduXdSqVctVn/1nkeEQS5Wm6QgwxEpDzMwuzOzLzPMhirJ9U3HwEjmmC4CrzDwjnaERCDFhuDcRHYVokB7S/d8SAJh5AQBnAP5EtDHNIMlnKgNIzW9DQ18QEVq3bs2LFy9+p1b+448/Drtx4wY/e/Ysz8eXy+UAoFEoFA2IaAMRvSvDxMxKZg5j5inMPFapVF4ICgp6NHny5Fpjx45NAlCZiGoTUabb+ZcuXXI6f/68Y3h4uOzAgQMG2TE0AKBEiRJwd3fXHj6c79WU0bt3b1q1ahXt27cP+/fvx/79+3Hs2DHcu3cP9erV2/rLL7+o9+7dqy1WrBhsbGxQr169TA0NAIiJiaGuXbt+YGgwM86fP08fu+5rISEhAWfPntV27969+5eei8R/F8nYkPimcXBw+LNq1apnrl+/joYNG2r/+OOPEN2pOGtr67iJEyeq7t//VPh61lEoFJg4caIQERGBtWvXonPnzv/qpeNsoIvBrg0x+RcQVcjXpp0nokZEVFJneOSVurDE10WNTPQxOgJYy8xOmbzeiRsw8ytmdoFYlvm8TrMh39DljRwiIv/8HFeftG7dWh4XF1c/KirKHQAEQXjbtWtXt8mTJ+d5OBUAWFlZcaNGjZYD+BlApm6a169fW02aNCmmUaNG8i5durCFhcU5iGKiFSCKA04hogAiGk9EnYmoZnBw8Iz27dvj9u3bOHnyJA4fPsyHDh3SHjhwQPPHH3+kBgYGpvj7+6cGBQWlfuw+Bw4cKCxYsACXLl3Kq9vPElqtFlqtFg0bNlQfOnTIPSwsTPHq1SvtihUrcOHCBVy5cgV379794Lro6Gjcv3+f3N3f/1hoNBq4ublxrVq12N7ePp/uIvswM6ZOnar28PDobWpq+iY1NZXWr18/Kzw8XDI8JPIVydiQ+OYhIk5JSUHHjh0VUVFRzZ89e1ZTLpenDh8+vGLnzp2/nzVrVurz58/1OubmzZtTPTw8+ui10yyii2//CaKK8A4AR9OdHgHA7yuJxZfIY3TeCFmGY/UAxGc8/ok+WkOsYBUP4Dci+kuXYJxf+AHI13BEfePl5SVft27dxoSEhMIA0KBBgyPW1tbXb9++nedjDx8+XPHo0aPaY8aMGVuoUKHYjOfv3LlTfcKECTEeHh6F9u/fL4uOjqabN29+z8xxzLydmefrVNcnQCydGw2gyv3791Vv3ry5u3///pPXr1/fcO/evdVPnjxZ+fLly2WWlpYTu3fv3sXf379huXLl1vj7+6syMzisrKywa9cuTJo06auI175z5w5ZWFi8MjMz4x49evwcFRV1bNq0aQ/8/f0fDh06NKF58+bv3cS8efN41qxZyPh1unjxYi5btiymTJnyVa+hli5dqmzYsOEGFxeXTampqcKaNWtCY2JiRqxdu/aP1NTU0l96fhJfFzKZLFevTyFVo5L45mnQoMGk7du3h0RERJhWr15dWLhw4d7vv/++W7169SLq1Kmzv3fv3h6TJk3aO2bMGIOyZcvqZRGuUqkMqlSpcujzLfMGZt4FYFcmp+IgLhobATidr5OSyFeIyBRAAIDV6Y4NBNAXgBeAIVnsSgbgGDMP1/XREkAEEQUx8xq9TjoTmFlDRFeJ6CxE7YtBzHwxr8fVJ5aWlnB3dzdctmzZGW9v76oA1M7OzrMWLFiwesqUKQb6KsWdGUSEuXPnYsaMGQEtWrRIOH/+vOG1a9cqGxkZJZmZmSXt2rVryvDhwxXly5enoUOHIjQ0FIGBgb/5+/ufsbCwuJu+L53n9B/dKySz8TLSrVu3ga9evSp16NAhF1dXV/np06fZz8+PZDIZmBlEhBcvXnzxzY/bt2/j9u3bQufOnbcCwMiRIzcC2AgA165ds/Xx8Qn38PB4z8i+ceMGZVZp6tq1a9yyZcuv1tBQqVRYuHCh0tTU9EanTp36AsCePXsCnz596ujj4yN3cHDQAnj0hacp8R/iq/2wSEhkFWdn58NTp04tXrJkyaVXrlwxaN26dZnVq1eHP3/+vDwANGrUKHTkyJGNli9f/iY8PFwvVaqY+a1cLlfqoy894wfACYDVF56HRB6iK186DcAMZv5bd2w9ROHIhgCeIoueDYi5PeXTfmDmMAD1ADgSUbhOHDBPYeY+zNwQQAcAa4mobF6PqW+cnZ3l9+7ds718+bIHADRu3Hh9u3btxk6dOjXh4MGDefpd8f3331NkZCTt3r3b/PDhwwsNDQ2Hv3371ufOnTtTvLy8FOXLl6ft27fz8+fPYWpqip9//rnApEmTbvn6+t5btWrVuqdPn9bIzfienp5D//rrLwoMDFSPGDGCQkJCsH//fhw4cAD79+/HmTNn9HWrOaZChQqYO3cuRUdHv5cknZCQYNG5c+frgiCU7tmzpwwAKleujCZNmqBt27ZaheLDqszMjBkzZqB27drYuXNnPt1B1vjnn3803t7e6mrVqgX279//O1NTU82rV6+swsPDR4waNUp+5swZTdeuXQ8bGhpqPt+bhIR+kDwbEv8TyOVyTZcuXUaULFkyfM2aNdsHDBigWLBgQfiUKVPKAUDVqlUvzpgxo/TkyZNvmZmZFW7QoEGu3vtqtTq/DQ1TpVJZadasWb3KlSunKV68+AOFQvG2cuXK5y0tLc9BVxKXmdU6Ya98zyeRyFc6AAhh5mcAQERWAIpDrEq2CUAZAFnyDjDzYyIqmOGYBmJyeT0AB4noT2bWizr1Z3gJ4A6AMCK6DWArgD/S9CKIqCREPYlEAIOZ+UU+zCnLFCpUSFO7du1TACAIArdp02aeq6vryjFjxjxq3LixwtzcPM/GlslksLOzQ48ePQyLFv2wqu26devwxx9/wNTUFHXq1JHVqVMHiYmJpSMiIjwnTpzoOXbs2Hrly5e/kpOxixQpcnfevHlWW7ZsmdugQYNujx49EszMzL66zUytVsvIsO45evRok5SUFOHixYvUp08f9caNGw0qVKiA48ePpxn1H7B06VIBEHM6RowYwd9//32WPTf+/v5qCwsLjBgxQq/rr8TERCxcuFApk8kejR8/vlXZsmXf1eQ9c+ZMl0qVKmkNDAywb98+7cCBAyfoc2yJ/w0kUT8JiSzStGnTPTdv3twaGBjo2bFjx/fCjORyecLo0aNrTZ48+XaxYsVkOQ2pSk5OhiAISfqZ8ad58OCB7ZYtW9Y9efKkwaNHj2TPnj2DgYEBkpOTU5RKJQ4ePCjTarVv3d3df2natOkhAAU/I+gm8b9BPWb2TffzzxCTvH8FEMPMXfQxCDNfIKL6AOYRUQSAbnmhiaHLMZoIoD1EMbqtOgNqIIALRDQawAyIz6xeAMwB7CKilxBL934V7/kaNWqop0yZcnbIkCF2RYoUeQgAgiC8adeunfeSJUuCxo0bl6fihT4+Pty+fXtSKBQoUKAA16lTh5s3by44ODjg6tWr5ODg8F57U1NTuLq6Gtja2vKiRYtODh8+3MnGxiZHVexMTEye9+7d+2dHR8eAlStXnqhWrVrh9u3bf1VijW5ubjRr1qySCQkJlmZmZk+IqC6AWnXq1DlfuXLllJiYmKb79u3TlixZkgRB+OjzIS2Ho1q1arCxsUHTpk1x8uTJD9rt3r2bL1y4oFUqlXznzh2Oi4uT1a1b93JMTEzxVq1alTI2Ntbu2rUrxyu869evIzo6WhkXF8dPnjxhNzc3L0dHx2Wmpqbv5cjUr1//QlhYGCUlJUGr1SaXLFnyy7uaJP5TSMaGHiEiCwB7ASxk5s1fej7/VXr06NGzR48eU+Ry+bWM5ywsLJ4OHDjQMTg4+PT8+fNz9P5/+PAhLCws8ryuZXx8fNl58+ZdqFevnplMJlMXKFDgcb169TSbNm0qtXTpUiMbGxsULlwYb968kQcEBPwZGhpKb9684Ro1aoT37dv3e4glciX+xyAicwAZy9R6QEyyHgVAr8rgunK6I4nIFsAmnU7HOH31T0RdICaob4VoRKV56R4DmEREs3TnjgFIZOYLuksPE1FDAOuIKAXAMGa+qa955YQuXboYnj9/3iogIOBBnz592tSqVesgADg6Oi4PCwtblNfju7q6kqurWJH72bNnFBoaStu2bePp06eTWq3GP//8gxo1PoyYqlChAv38888mc+bMiVi4cGGB3MyhfPnyMS4uLr0WLVp0sH37r0/WwcLCQhseHt6yQ4cO6yFW9jt48eLF0xcvXqzQvHnzKkuWLCnm6emZpb6ICGPHjqXBgwcz0qmjL1q0SLl8+XK5sbHxS2dn5wNyuVzp6el5vkWLFuHW1tY3ASAxMbGgk5NTQnbnf/fuXZ4+fToKFCjApUqVulWhQoXtTk5ON+rUqbPD1NQ00/4KFiwYKZfL4ydOnFi0bdu20wwNDb+KhH2J/w6SsaFfzAE0AXCWiPYA2AlRWO2DCiESeYdcLlcB+MDQSKNy5coXihQpcufWrVsVK1asmG3vhq2tLR4/flxTpVJZyOXy+JzOU6VSySHGyisBGCmVSpiYmLyb9+zZs2OvX78OY2PjhAYNGgQNHz48AICscuXKXsePH3d49epV+efPn5erXbu2dujQoYYFChRA8eLFsWnTJidfX99H/fv3b162bNkvW3NSQq/oPADzAHinOzYeonL4ayI6D6A5gHX6HpuZYwA01pVHPQegT1q+SE7QhWgtBHADgF1aqFQm4yYBaENElgB+y3DuLAAnIqoGYBERyQCMzkqC+ZUrV6ItzIAAACAASURBVDSDBw9WFS1aVO8LL6VSKdu1a1dwbGxs5bSp5neFuOLFi6N79+7o3r07AcCRI0cQEBDAmzdvznQeFy9eVDVq1ChLSeGf48aNG06lS5fWMLPsayiMl5SUhBs3buDevXuqIkWKUEBAgGfHjh2bQNyQWcPMTEStbG1t/z5x4oRz3759s9y3XC7HmzdvyNPTkzt37kwrV66ElZWVQf/+/QN9fX3doqOjvZj5g7BWU1PTN9WqVbvSrFmzGh06dEDr1q2Fe/fuaerXry/LGAanUqkQHh6ujoiIgKGh4YsJEya0VSqVRSpUqHAooxcjMwwNDTXdu3f3CAkJmefs7Dw/yzcn8Z9CEPIu8lFSENczRES6L67qECt6PAVgCHGBMIOZ1V90ghIAgNjY2FqLFi26GBgYmKNP19atW1UpKSkbe/fu3Ss716lUKrPdu3f7nD17trcgCMWYWSMIAmm1Wr5//75s8uTJzWxtbU/pmhcGYA1xp/pj7xvLffv29YmKiuoSFxdXbtiwYaa1atWiO3fu8Jw5czQ2NjYXa9euvaN169ZzIRo1Et8wRFQEQMY6zgzguO7/hhDDqHpks99DAL7XLeyz0t4KwJ8QDYWBnI0HiW7RvRpAKQA9s6MHQ0T/AGjMzG8+ct4GwGKIGz++zHziE30tAbA1E40SvUBE0wH4MbMWAMaMGfPK39/fokCBXDkOckyPHj24X79+5OTk9MG5yMhI9b59+95OmzbNEkBybsdKSEignTt3Lr1w4UKfSZMmydME8aKiorT79u1TT5gwId/Cq/bu3as6evRocoUKFSKLFSt21djY+LWbm9ssMzOz974PS5cuPSQhIWGRn5+fdsyYMdl6LjAzjh07hpUrV3JoaCiVKFEC9evX/2vt2rX+AMYxc6YunsTERDpw4MD3o0ePXli3bl2lq6vr4bt37zrdvHmzwoIFC7B79+7Uu3fvCiqVKr5SpUp/dejQYZqlpaVePZcSEmkEBgbmyiDw8fH56M6C5NnQM+lCAK7qdttKAdgDYAqAKUQkS3v4SHw5Hj9+3MbExESDHFZka9u2rTwgIKCtSqUiuVye5Q/o3LlzIwsWLFhx3LhxChMTEyBdxaCRI0eqzM3N0z+EX+pen+JJ27Ztp7dt23b6tWvX7IKCgk40bNhQ06xZM8WCBQsM7ty502Dq1KkN/vnnH+/SpUtv6tKlizeATBdqEt8EpQHcBlDnYwvuHHIPQB0AHwaeZ4LOQHAiov4AoohoCDNHfu46nTfjNwBLmHllDuY5EaLX5vuPzCsOQDsiKgHR0zELwFRm3peDsXKLIYACAJIAwMXFZdKMGTPmTJky5UsotePOnTvk6Oj4wfHXr19jy5YtqVOnTrWFHgwNADAzM+OePXsOVCgUT3x9ff1MTEzUSqVSZmVldVomk5X/999/rYsVy/MiZwAAlUpF9evXX9u/f//hn2rXqFGjg/v370d2DQ1ADKcqWbIkLl26xH5+fnPv3r1bpHDhwouYOYqIzHXGPAPYzszL0q4rWLBgYwAOABrHxcXdB0QDZNy4cUpzc3ODW7duCQEBASampqZ6qaIoIfGl+OqqRfwvwczXmPkQMxsBmA6xOsxhIir/mUsl8phdu3ZNbNmyZY79+wUKFIC5ubl5SEhIthZMr1+/rti/f/80Q+Md69evT61Zs+YJCwuL4x+59LNUrVr19KRJk2ra2touHDp0KL1+/RqVKlXCypUr0blzZwulUtlv3LhxCRAXQBLfIMx8CYA9AL3lTOi4CTF+PbvzWQGx1PJiXS5JppDIYgBzAbTMoaEBiCKWpXRJ65+a11Nm/hFAawBdiOgsEWUtEF9/JKb3FLVo0WJhiRIlLgcEBCgTErIdqp8roqOjUbRoUc4Y0jRjxgzVpEmTUtq1azfY1NRU73lonp6e/rNmzSo+duzYltOmTSvu6+vbzMrKKiw6OjpfQipiY2MRERGhadas2cLPtd26desdPz+/f3bs2JFtD/DkyZO1devWRZUqVZ78+uuvY+fPn99nwoQJaYn2zQG0g1hBrm9aOB0R1QHgDMArY4EDGxubq4MHD+ZChQrdx4f5WRISeUJeivpJxkY+wczjAVSHuItxjYgqfOEp/adp2LDhosjIyFx5mLy9veURERE/R0dHt8hKe5VKVVij0XzgTWRm/P3334o+ffq4ZcdLkhnW1tbXT548Wblo0aKYP3++ytfXN2XatGm8atUq/ueff1LKlCkTuXz5chURLSGiqUQUQERhRORPRDOIqAMRmeVmDhJ5i67crb69o1cAVMnJhcz8GqJy/T4iCs1odOiSuC9ADO9yyk25Wp3nWKnrL0tzY+aeEL93HYnoHBHdJ6KjAKrhE7ldekCrU3gHIJbCHTJkiL2Li8sIHx8f9evXr/NwaECr1WLr1q3s4uLCffv2xaRJk96zNFQqFV69epUUFBRUoGXLln/k1TzMzMxeFi9e/KSZmdkrAJDJZKkaTd5KPERHR2snTpyo2rx5893evXs3qVq1asznrwL7+vo2unbt2gs/Pz/106dPP9k4Li4OHTp04Dp16uDt27d49eoVHjx4YAmgnVarfeehZpFUAHUBFALQQKdd0x1i5bV33/knT550njhxYuLjx4+r2dnZqV6/fm2zYcOGpTn5HUhIfE1IYVT5SyLELxsFRPGt2192Ov9dPDw8xi1YsKDtwoULKw4YMECRmXDT5yAiDBgwQBYSErLC19e3olwu/+gCUKVSmS1fvnxPtWrVVBDDK97rR6lUEgC9PIHHjx/fEeJiNG0+AkQXPuvGEwCEAmjGzKOI6BQz++uONwYQREQRzLxKH/OR+CaIAjA0pxcz8zEATYloOQAvIkqF+B1nDlGp2J2ZH+Z2krpdYXV2ckR080sBMEiXQB7HzE65nUsWiIT4O3iXEyIIgqpx48ZLZTLZy1mzZq2bNm2aXnetNRoNQkJCePXq1UhKSqK6deti7dq1ZG1tjYxeDV0eRd4V1v8EeZkrumLFCuWbN29if/nll141atQ4nc3Lk319fW2WLl16PS4urlyJEiU+6v0eMmQIjxgxgpo2bQqFQiEAQOfOndXly5ff2a5du98XLVr0LstcZ3RuB1CfmeOIaBCA4PQh1YmJibRly5a/Ro4caVCsWDFotVqMGjVKXbp06d3ZvAcJia8OydjIX9ZArCPfkZlzJJ4koR/kcrl22LBh9Xbv3u3v6+vr5erqilatWmXb4qhatSodO3as1Lhx456XKVPmeMuWLSdVq1btskqlKvny5ctqBw8edLt27Zq7Uqm0sbOz03bo0OG9MVQqFZ49ewYzM7NYuVyul+IBRGQIIDndA12b7pwLgMcQjY3yRNQWQEEA0D34IgBEEFFfIloEYA4z3yUiIwBGALTMnL8xIBKZodLlf+nFQGXmp0Rk8vmWn2UZgG4QBQYfMHMbPfSZnroAcqypwcwaIsrKLrc+OAZgEtIZG2nUr19/S0hIyMqUlBS5kZFRtjtOSUnBggULtBcuXNA8fvxYSBOf+/fffzVv3rwxOHv2LHQGxgeLZY1GgwULFigfPXrE5cqV+ycH95UrKlWqdOHixYs9WrRokf0b/wzr1q1TGhgYRI0aNaqpmZlZTj8bqlatWnWaP3/+2Xr16hlkFh5y7949PH/+nJydnd87PnLkSMXevXvVnTt33p/+ODOrdGKrW4joAsTv2fIQc6UAAKampmxiYiJLy2XZvXu3pkaNGvvd3Ny25fA+3kOj0QiPHz9upVAoVEWKFDkJADKZTCoaIvGOtEIOedJ3nvUs8QHMPApiHXyJrwC5XJ76ww8/jPPw8Jgxbdq0GxcvXizk4eFhWKVK9qJJBg4cqFAqlYpz5855BAUFuZmbmycRkalCoVDXrFlTNmLECHmRIkU+uO7Jkydo2LAhrKys4O/vrxdXORHNBlAUgIyIHgM4xMxhunPGEPUMYgC4AVAB2ALAiIjsAfwCMSH9LcQdT1OIBgYALAVwFUAzIrqaQVBOIv95CqAERK/BV4Ou5OxFInKHGI+ubzwAhOeyj3zJF2BmJRGdIaIZAGYy87sy2YIgsLOz87T58+dPya7Q3/Dhw1WRkZHCd999d8LFxeVA165djxobG98B8EIQBEWDBg2SzM3NP1pyNjIykuVy+ZnZs2c74+NV7vIMOzu7faGhoXrXHFm/fr0yMTHxxqBBgxxyYWgAAGxtbS+2aNFi6bJly/oPGTLEMON5BwcH7Ny5M9NrVSqVrGnTpudmzJgxu2fPnrt9fX1/u3nzZllPT8+4DRs21JLJZDMhFnqoS0R/pw8rLFq0aNSoUaO+i4mJoZYtW17s3bt31mvwfoaTJ08OXLZs2YKyZctq3rx5ozhz5gzOnTv35esSS/wnkIwNif88crk8Yfz48eUvXLjw4549e4auXbu2krGxsfHYsWPlWQ2vUigUaNKkCdWsWVOuUCgsdLuV732+unfvrn706JEMADQaDZ06dQo//vjjwu3bt0d6eHhs0tPtLAQwGP/vzWgLIAwAmDmZiLoBqAXAD6IxoYEYz94FwACI5bCVwP+Xcdb1cxbi4vYigL/0NFeJnCODnsLuvjHqIIPWRg7It3rvzLybiFoBCAHQKv05V1fXWVeuXBmwefPmkl26dFEkJyfj5cuXKFWq1Ef7W758uebu3bsvz507ZysIQmImTVJdXV03Dh06tOuaNWve+/7ZuHFj6t9//y3XarWpPXr08MIXMDQAwMzM7IFGo1FBT+sPpVKJuXPnKkuWLHli0KBBbczMzPRSualjx45jx48fPySzcz/99JN27969qFWr1gd5r8nJyWjUqNEda2tr7N69e2S1atW0ERER8uHDh5fz9PS8qdFoystksgiI39N+ROSV9j07atSo+s+fPy9z6tQpa3d39+yGgH2S8PDwUbNmzZJZW1vLUlJS4Ovrm2ONKAmJ7CIZGxISAORy+Vs7O7s/7Ozs/lCpVLRnz57J3t7ePvb29tyxY0dFVt2LZmaZ51bPnDlTc+HCBYNr166VAZA4a9YsizNnziwLCQnZBz0+9Jn5HgCfj4XYMPMTAE90Pz4DACJyBlCAmVUZ2nK6/0tJil8XVtD9/f5jmCD33px82c0lojkAGkLUyVlNRI2Y+UzaeUEQeMyYMTWnTp0adenSpUr+/v7qR48eCQqFggFoNBqNIJfLZQC0KpUK3t7esqVLlyIsLKzORwwNAMDUqVOH1KtX7yelUgmFQoFHjx5BJpPhzJkz8uDgYGMAmYon5idyufzuv//+WzW35W8vXryoXrduHbu6uk51dXWdamZmpk9D8m1KSkoigA++1AMCAoRGjRqhefPmaNy48XvnBgwYoHV3d5dZWlqmHZIBQHBwsEGTJk1KHj58uDOAzhBzOEYA6APgXX5c0aJF77m7u9+DnlEqldbW1tYAACMjIxCR6dOnTyuXKFHihr7Hkvg2yUtRP8nYkJDIgFwu544dO050d3cP3rBhw+zx48d3NTY2pjp16siaN29uULBgwWz32b17d9mOHTswYcKEBYGBgR38/PzMIIYrFQWgd5Xv7MTyM/Nb3VwkvgGIqGChQoUKvHjxonpwcHDnCxcuODo4OGz85ZdflueyayURFdSTfkdT5CK34hMU0EOeSp4bG7ry5nWZ2UH3swzANABn0rcTBCGpdevWA1auXHno/v37BhcuXKgG4LogCKzVagliQZGSW7ZscVi+fPm4kSNHDitevPjnRBDf2NraRnbs2LGxra0tm5ubx6rVanmXLl3G4CswNACgQoUKoWfOnLFt165djhPkmRmbN2+WTZw4sVyZMmXi9Dk/HSYKheK9PKbXr1/D19dX7erqqg0PD1fY29vj9OnTMDY2ftemX79+H026r1ixoubKlSuVmHkjEf0GoC+AaCJqzMynPnadPjAwMHjPTW9kZMRyuVwfeVoSEp9FKn0rIfER5HL5i169evWZOXNmwV69enVISkpaPn369MRZs2alxsTEvFdR5enTp1i+fHlqcHBw6u3b7xcZS0xMxJ49e9CjRw/8/vvv36tUKhsAZSF+/hojQ/lNnQgUEZGkhyHxASEhISXkcvmIJk2aXDp69Og4Ozs7h7Vr1y5xcHB4s2DBgkzDPrLIOQC5uR4AoNPAsGPmebntK12fhkR0AGIY37dAG6TLLdEZSMmZfaYbNmx4NDEx8biNjc0tALcFQWBA9HwIgvBSEIS/PT09F4eGhpbq3bv39s8NTEQjDxw48OfgwYP7BwYGVpw8eXKladOmlbO3t9+qx/vLFc7OzrsuX76co/LNqamp2LJli9LX11ddvXr17XlkaODq1autCxQo8G6O+/btU02cODG1b9++Q8LCwgRTU1PMnDmTe/XqlWVvSps2bYR9+/aN1Gq1JjpvcQqASgBqEpGPzijVOzNnznz96NGjd+u9s2fPagCkmpubfyufJ4lvHMmzISHxGeRyudrW1vaAra3tAZVKNeLEiRN9t2/f3u/Fixc1jYyMoFQqSS6Xv3R0dJxjbGyctGXLlsEvXryoMm7cOIMiRYqgW7dumkKFCl2Xy+WPPT09nwF4CFFYryTEqj2riehfiA8egqgjIAegJiJTAKHMfOgL3b7EV8bz588XrFy5Uuvu7v7u+3vQoEHCrVu3TDt16rTAwsLiVc+ePTdmvE630K0C0cgl3b/pXxYQE89zDBEVAjAeonifXtD1eQzAWGY+kIt+mkEs0JEfGkftAfTIcGwrgPFENCmjd2b9+vUhAP4SBCFX1YF0FcWsEhISvHPTT15TokSJ08nJyfz69WuYm39UC/ID5s+fr4yPj39dq1atTTNmzJhmZmaWq/frp0hNTb2ampr6wtfXt1hycjJXqlQpIjg4+AcAL/fv3z/k4cOHtR4+fMg2NjZAFr1lXbp0kV25csW4U6dOt7Zu3VqSmQcS0SqIeUQHAYwEMEff9xIfHy8fM2YMACAmJgZbtmx5PmHChMYymSzf8pckvn4+J8yXGyRjQ0IiG8jlcrWzs/NyZ2fn5SqVSvHgwYPmxYsXv6dQKK6nCfI5ODgsPX/+fNtJkybt8PLykj969Ih2795dWy6Xp19g3IJodLwF0PtTugFE1IWI9gLoy8x59nCV+Pq5fPmy69WrV1v179//g+/uihUrYvfu3ULbtm3XWVlZxbm4uIyHaEAoIWr7mAG4DLF4AKf7N+2VCrHqWKZoNBr5+vXr+4WGhnb38/ObzcxXq1evXgbATABpoVepAM4D2Keve4ZYQW1uLg0Nglg8wRNi3kdeY8zMT7VarXDnzp2Stra295k5moj+hKhjMyuDavR3ADIvb/QZiMgAgB3EBHQCkNtwujzHzMzsrbu7+y/z58//3d/fP0uhVGq1Gi9fvlQFBARYmpmZ6VvU8gPq1q17vW7dulYAikD87MSmnStevPiV/fv315o/f74QFRX10T4yY9q0aQZOTk5W6Q4NA7CPmVcSUUMiqs3Ml/VxD2kIgvCsSJEiNgBw7tw5lb29/arChQvHfu46CQl9IRkbEhI5RC6XK8uVK5dpZab69evvk8lkTlOmTInQaDTIYGgA4sIglZm7ZHa9bhf6DIBXED+ntgDsAezQ3x1IfEuEhIS0Xrt27YHffvvtA4G2NGxsbPD7778LXbp0OW5kZBTx9u1beyIqAuBldoXw0jN58uQ5e/fuHV64cGE4OzvL+vfvH3L16lWCuFvvpKc8j4/RDKLBkRv8APzJzNf1MJ9PQkQmJiYmcq1WaxEUFDR6+vTp4x0dHWPu3btnPXjw4MMWFhZxixcvHkJEl5n5T91l6yHeZ0g2xikDYBDEAhOnIZbXTdb7DeURLi4uGy5fvjz06NGj9ZycnD5rcOh2XZX5YWhk4IXu9Y7q1atH7N69u7ulpSUbGRllKwcoJSUFqampGt39fA/gEP6/SMhmiFUB9WpsODo6Tpk2bdoqKysrbtCggezmzZtVNBqNAMBA0tqQyA+knA0JiTyiTp06kU5OTg0fPHiwT+edUOhyMZoC2AMxTre5bjEIQEwkJaJ6APZCFIHszMxNAARCVHmW+I/SqVOnk66urlHHjh375OKgQYMGsLGx0Z48eTIIAJj5RU4NDY1GU2DMmDHbduzY4RUWFmawf/9+g9GjR9PRo0dlFStW1KrV6q4fMzSSk5MpOTnZIjk52TonY6fDFEDlXPbhimws5HNDfHx8GSJq6ODg8HLx4sXjz507h5YtW1bYuHGjceHChd3u3bs3oHz58mMcHByGEdEw3WUREL0bn4SIjIjIRqdjMhDAZGaewMz7viVDI41evXp1P378eJYW60QEQ0ND84SEhC++bmnSpMkuQRA0VapUwaRJkz5q/CQkJKBZs2ZaR0dHtre3T23SpImyZMmSePz4cRzEEs79IebsqQCAmV8jk+pXucXFxWV18+bNj4eFhZGdnZ1w9erV7319fVPHjBmTtGzZsl1JSUk2+h5T4ttDEIRcvT7Zdz7dg4TEf5J+/fqdi4+P94BYmccbwFQAf0D0UjSDqDB8koi+J6IuEHe0lgFYzMzz0oVNlWDmPEmElPg2IKLEoUOHOgcEBBh07txZ3b59e3W5cuVQq1YtODg48NixY9+VLm7SpAmtXbu2T07H2rNnT4vY2NgW7u7uD548eeJx6tQpMjU1fa9N6dKl4eXllWkukZ+f31wHBwe1i4vLSycnpwf29vaJU6dOnQYAycnJ8uTk5A/Uo5OTkw2Sk5NrJScnFwaAixcvVvT09DzXunXrhQAm5PRedFgA+DeXfWSJ9evX/+Dq6qo6fvw43bp1CzY2NhgwYABVqFABkydPFtauXWtw9uxZQalUNmzWrFkfQRAG6IxBzceKQhCRXKfXMRuAC0SvqC8zp+THPeUVxYoVu63VarOsi8HMWgC5NV71wWOtVvtmzpw5dPDgQSE+Ph7MDK1WC632/22PNm3aaDt16hR47Ngx+enTp41OnTpl+OLFC9n9+/dHAVAzsxvEPKr0Hy41EeW4StfHMDU13WdpaamdOnWq0tjYGA4ODjxkyBCDMmXKuHl5ed3RaDSF9D2mhEQaUhiVhEQ+wMyRACIBgIgWAXAE8AOAEwDqAugFsULVMGY+nP5aXbz5V1GyUuLLQkSvNRrN26tXr5poNBqUKVOGVSoVJSYmUtGiRd+18/b2ltnb27dZuHDhgF9//TVbMfwXL15s5OXldaho0aJaV1dXnjBhQqbPiT///NOgfv36zTUaTUWZTHYr7XhycjL99ddfv4aGhgo6cUvExcWZ9OrVyycsLGxAYmKiGTPLqlWrdnbq1KmD9uzZ47p27dppBgYGMo1GowEgGBsbv3r27JmFu7s7wsPDg2Uy2VUDA4OjarXaKQe/swIAUvI41OsdO3fuHDZhwoRPLhYFQcCJEycEZ2fnGs2aNetCRIkQ814MoStDTUQlAYwGkABRwDESwAg9lP792ngYHx9va2Fh8dmGunsvBOBBns/qM7Ru3Xr41KlTVzk4OAhhYWHClStXlBqNJjk+Pt5k8eLF8gcPHoCIkkeOHDk+/XWCIGiZeSd0OTo6sdX0f9NHEAuHPNTnfHfs2DG8WLFi+PfffwV/f3+3P/74Y9nq1attfvjhBzY0NBQiIyPtmjVrluO8KAmJTyEZGxIS+QwzPwawSfcCESkgJoyPz2ho6Nrzx2L09YBw584dN0tLyyhjY+PciqVJ5ANubm7qypUrIzo6WhsdHa01NzdnhUKBnTt3CjExMapffvlFXrx4cfTr108IDw8fkl1jY/369aPbtWunmTNnziefD4IgwMXFReXo6HhDrVanduvW7edhw4ZtCQ4OnmRqavrO0ADEXJLw8HDh+vXrRaytrWFmZob58+c36Ny583lTU1OEhITIihcvDugE0C5fvlzYxsYGFhYWuH79uvzNmzd1X758KUBM7k7K5q9sDPJJyO/w4cMOr169KtK0adPPthUEAfv375fVrVvXsWjRosbPnz9PBFCFiP4BUBii4RHAzC/zeNpflCpVqoQdOXLEpkOHDp/dzU9JSZEB+JzOSL7QvHnzdUeOHFlTuHBhxMbGMjPToEGDxvbu3XvZxIkTU9q3b68A8IEHLwsUBqD3v/ngwYM7/fjjjxHu7u4A8Hbs2LG2AAoEBwefePTo0Xe7d+9eGhUV9betre2Otm3brtb3+BJfP1kVL84JUhiVhMQXhpmVAOoAaEhE5TKeJ6IayJsHrNHq1atDg4KCdowfP/4OgAK6aijV8mAsCT0RERERFRQU9BTAVh8fnz59+/Yd4uHh4X316tV/S5UqtXz8+PH/du3aNWXhwoVv9+3bV46I/iAiKyLaT0RXiKjbx/peuXJl34MHD3b09fXN0lMnMDBQcezYMWrSpIkiODj4z2bNmiUfO3as/+jRoz+ooSgIAqpVqwYLCwsIgoBRo0bJjhw5ItuzZ0+aofGO2rVrI22n+/fffzcoX748GRsbY/z48Yuz9csSmQ/gqi7PIdfociYmENE/RNQ87fiqVas6//rrr0cWLlyY5eeqQqGATCYjCwuLBxC9nAsBrNPlYXhn1dAgovpEVDabt/JV0K5duwmnTp2CWq3+ZLtz585pSpUqdcrMzOx5Pk3tcxRkZh42bBht376dNBqNQalSpdZv2LChzciRI384cuTI5ZiYGOHOnTuGH+uAiByJ6BiA9IJ+RjqhVb1SvXr1UzNnzvRPTk6Ot7Ky+gcAyWSyRC8vrzojR450f/36dVFLS8t23t7ev7169aqivseX+G9DuShQIiEhoUeIyBDiwmgKMz9Jd/wHAA+Z+bQehjEFoD1//nzLzZs3b5DJZKbbtm3jWrVqvd62bVsxIloAMVlxCYD732LS6X8BIgqEWF42EoADRCXiqsxcL0M7GwBOAHpD1JiIgpgX5J4xB0ij0ZjUq1fvzZ49e8jaOuth8XPmzNEuX75c+P3336FQKNCmTRucOnUKGxpPbAAAIABJREFUOv0BvXDgwAHMmzcPlpaW17Zt25ZtY5iIBkJU9O6f27noPo/TICZ1b2fmfVqt1qBp06aJq1atMqxcOeu57D169FCXKVNmb2Bg4AKIHpgOzPzJkEldWGVBiLkLjQHUAHAJQGVm9svZXX1Z1q9fP//hw4eDBw0apPhYm7Vr16aUKVPGr3379nrTcMklMh8fnxdeXl7mdnZ2GDhw4ANvb+/S6RsULFjQNTEx0YCZ3ysFTUS1AawAEAfg17TcPF0Z42BmzrW45qcYPnw4y+VymJqaRjdo0GBk69atD+3evXvV4cOHe9evX19pamo654cffhj/+Z4k/pdYsWJFrgyC/v37f9SDLIVRSUh8JTBzKhGNAbCMiCoBOAIgGYA5gKDc9B0VFeW6a9eu4KdPn1YuXrw4q1Qq9fDhw+UtWrTghISE6J07dy4kogAAV3Xj1gUwjIhmMvO97I5HRAbM/OmtSoncMBlAS4gVy6oC8GHmsIyNdAbFWt0LAEBExyHmC72n8L1y5cqfLSwstNbW1u+8Es+ePcP+/fuRlJSEt2/fwsDAAI8fP9b+/fffZGdnx9evX8ejR4+EK1euIC1sqnHjxqxSqfQWtnTkyBEOCAggHx8fhISE5LTftwA6EVFaMnZu2A4xl4Ig5lNgz549fYyMjGTZMTQAQKlU4saNG81btmz53ZEjR95qNJpfkYmom24R6gygCcRQMg+I3w2dIL4HCkHUg/gm8fDwGD158mTPJ0+eWFpaWmbahpmhh7+dPtEUKVLkWv/+/e1KlCgBZ2fnD8ozJyYmhkLUVQllZhXwLocoTb/DLu2eiMgagC+AYL1NUKMhHx+f+9WqVdvSu3dvr7Tjz549uz9mzJjSYWFhVR88eOAze/Zs3/Pnzzuq1WokJSUpSpUq1VYyNv575GUYlWRsSEh8RTBzEhFdh1iRqhaAMgDaQRRl+zUnfZ49e7bd6tWrd/j5+RkUL14cCoWCtFqtvH79+tqePXsu8fPzIwClAPime5hHE9F2AL8R0RGIiuYlINabX8bMGp2y82iInhCCuOhNgrgIvkJEXZg5MYe/ColPoAuz2ENEkRB32Y9n43IDiIvUeQBARLYAanh6enb/8ccf3wt/Gj9+PDMzVapUCUZGRkhNTUX58uWxdetWqlq16j8RERE1b968CYXi/zek3dzcsHr1au306dNzHaablJSEsWPH0vnz5xEbG4tFixbZQMzryHKSNBHtgZhsuxni+3V2unMEoDAzv/jI5ZkRDtHzlwTAb/HixRuWLFmydMWKFdk2hJYvX24QGRlp7uXlZT5v3jyP4cOHW+rC3G4BaAoxfj+tvNFRiF5PDRHdBaBg5hjdfRTG/wsrfnOYmZlpHBwcJm/fvn3+4MGDM81zICJBEIT81tj4FPT06VO7Bw8ewNnZWVu3bt0PSivr8u0WAVhERH9D/NwZALgLMUFc0Hm0h0D8jvXR53fmqVOnur9+/brk7du32wJ4Z2yUKlWKdu/erYmMjBTi4+Obv3nzBt7e3jdWr15duXv37scFQeinrzlISACSsSEh8TXyEmKZzn8BrGDmcUQ0koiaMfOJ7HZ2+vTpQb1795aVKlXq3bEjR46gZMmS9/38/PwhlhU1y7hrqPO0DIcYsqHSzacygNlE9BriQiiImWN1i7YQAOcgVlJRAvimy3J+CzDzCyLaAGAwES3UVesxOHTo0E/BwcH+ADBgwIDu7u7uEemuGUhECbrFzwuIZWEN9+zZY3T8+HGuWLEiHB0dKS4uDgUKFICzszPatWuXflihUaNG+PXXXysVLVpUffjwYaF169bvDIsTJ06gR48eeskHDAwM1I4YMQLbt29Hamqq8PDhwwKTJ0+eNWnSpFFZuZ6IJgO4zMx+uvfoESK6wMyHdedcARQhou+Z+Wom1zcFsAjABQC/QDTQwph5ne58GT8/v+UbNmwQGjdunO37s7CwgJubGzZt2qSOjY0dxMxuROQIced7HTNnNT/BUzfPb5bmzZv/fvjw4QWZnQsKClK+ePHiTf369U9ldv4LwadOnYK9vT1KlSp1SBCETPVvmPkWEQ2BGPLmBGAuM58CAJ3GUgBEQUa9ljZ//Phx+UWLFv0BAB07dpye/lzVqlWHC4Lg9uzZs141atSQRUVFoVu3bsN37Nhx4NWrV/f69et3U59zkZCQEsQlJL4+NgDoA2AKgAlEZAwxjGoqES3M2JiIahJRgE6r471a6UlJSZaxsbGNv/vuu/d2XTdu3Kj+7rvvQgE0AnAAwBvdOO/BzC+ZOY6ZHzGzipn/YWYviHohI5g5VteOAQyHaGDcg7j7+zXtQv7PojNATwMIJCJh6NChh7y9vVcPHjy4bK9evcrOnDkzHOKuaXpuMnNNZnZi5u+YuWpiYmK59evX2/v4+Gjr16+vHTBgwPPQ0FBs27btg79jjRo1IAiCwYoVK2pOmjTp3XPk0aNHiI6OppwsvDOi1WoRFhYmeHp6ClOmTMGhQ4fOu7m57UpISNiVleuJqCaA1ml5DLr36HYADXVN2jCzHUTNm01EtIaIjhLROl3C9VSICdutAJwHcAZAUWZ+t3Bj5qD4+HgjFxeXXN3rmjVrDI4cOeK6YsWKIcx8jJl3f8bQyPjsNmLm+FxN4gtjZmaWamxsfOXOnTvvHb979y6Sk5NfzJgxo1FgYGDkli1bVjLzF1+7aLXaAtWrV9fUqVNHVa5cuYhPtWVmte5z+hNE1XAQUTGIhoaPvg2N+/fvV541a9btp0+fwtfX17l169Zr05/v06fP9vDw8B+GDBkie/XqVWrXrl1HGxoa/rVjxw7Ta9eutVqyZMkhjUZTWJ9zkvj6kUT9JCT+QzBzAjP7QAyj2ghgBoAKACwBpBLRT0RUiIjqENEMiCJfFwCUBDCAiLyIiGJiYuqMGzcutm7dusaGhu8XRDl+/LgsLi6uZadOnQ4C6ArAMDvJ4MysycQT8pCZVzPzIIgihi1y/EuQyBa64gEbatWqdS4iIsLhwoULgpubGzp16gSVSmXw6tWrJhku+YeIWmbsp3nz5qfPnTtnfunSpRJHjhwpduDAAdd79+5lajQys1C7du0bBQsWTDp37hyYGR4eHlizZg2MjT+wW7PNjh07uGnTpmxsbAxra2suWLCgZuLEif3nzp2bacgYEbkQ0W6dsRAOMfehY4ZmrgC2EJEdgBjdffwLccd5EzM7ATgIYCgAc2auw8z/MvNSZm7IzD0yG/tzD9rPoSuDKyxbtmxBmzZtHoSEhPyi1WozTZbWeWh6ANit+9kawLNcTeAroVWrVnO2b9/+LkH+6dOn2LZtmyYpKcnqr7/++rlDhw6aq1ev/rxt2za95TXklL///rtd6dKl1XXr1pUdPXp08ty5c2O1Wu3nQulqAPhb570aC9HQSNDnvGJiYmp7e3tf37FjBzw8PGbXqlXrSGbtBgwY0HvmzJlaZo53cnIKevnypcWqVasWv3r1qliJEiWaz5kz5y99zkviv41kbEhIfKXodsNuQlQcbwMxTn0WgKcQvQg1ISqQF4LoRSgBINLDwyPW2tpaHRQUdG7UqFGGPXr0+KD04q1btygmJsbGw8PDE0BvZh6j5+mHAxhERIOJKCe15iWyCTNfMjQ0rH7mzBkh/eK3WbNmGDBgwFoiGpuu+V2I3rMPkMlkSTKZ7DkAlC5d+gwzf1DGFgDUajWfOHHC0dLS8vqtW7dw4cIFlCtXjqtVy33l5BcvXmDmzJk0duxYEgQBYWFhMhMTk3o//fTTjcza6xbgs3SvIAA9mdmVmTMKo00GcAVAKMRkXABiOBozH9T9fwMz92LmT+ZIabVao507d/ZLL6aYGywtLXH+/Hlh9OjRJVesWLHUzs4uuWvXrhejoqIcMyxi10MMsYrR/fwzxE2Jb5769evvUKlUbyIjI1UAMHfuXE3Tpk2HTZs2zeLixYtd27RpI58wYYL8yJEjA589e/ZFy7OeOnWqQ4MGDRQ1a9YUZs+eTS9evLC+evWq62cuiwLQDOLm0Rh9GxoajUa2cuXKSwqFAiEhIa4jR470/ljbpk2b7hw+fPiQZ8+eyU+cODFx48aNe168eNFj9OjRQvv27WXR0dFV9Dk3if82krEhIfH1EwUxX6IggBEQPQaLmPkPAOsAbGHm3RANj/FLly49X6pUKWHRokUyGxubj+60LVu2TFi9enVwXlR40SU5+kHcIV5ERJ97CEvoAQ8Pjxv3799/75hGoxFOnTpVBqKOy0jd4e8hlsv9HCqlMtNQdLi5uWHdunV+arVaYWRkhNjYWNjY2OjlvdStWzesWbMGZcqUASDu/M+bN88gISHBLDo6uk76trq49zMAljPzSWa+kImRAQBg5rMQS8aqAWzXVQbKEYMGDQqbNm3asrlz5+q16lrz5s3x119/GURGRsocHR1r/vrrr+H29vYp7du3v1myZMnnENXQFwCAzpA3zUZux1eNmZlZ6tChQ6scOXLk9bhx4zS1atU62KpVqyVmZmavVSpVmeLFi0Mmk8HT05M2bdq04kvO1cDAoNjo0aNp+/btSgDo0qWL4sCBA58sPcwiA3QeYL1/78pkMk3NmjXXrF69ulCDBg1CP9ZOo9EUnD59+t2QkJAFXl5ehQ8ePDi+VKlSdqNGjZJVqVIFRIQ3b96YaDSazwotSvzvYGBgkKvXp5CMDQmJrxzdA2oTM5dmZl+ISaoziWgaRM2EImntAFzq06fPLRMTk8/mS9y7dw/m5uaEvFNX/hNAC2b+BYCNvkTVJD5O27ZtR8+ePVudkiLm5u/Zs0d75syZ1Pv37xcC0AtARyK6AzFs7rPCYVOmTFlSsWLFTCs/nTx5UtuxY8d1Go1GYWRkBLlcDn2UvH348CEEQUD9+vU/OFetWjXu1KnTn0R0joguEFEEgC34P/bOPK6m9I/jn+fce7ttIpG4kUwpsoSKlF1liEiyb2U3ZYhIhJItWcJk37eQMfYUIi2yhLETY7gkUmi9y3l+f9zys7Qvkzjv16vX6Jzn+Z7vae655/k+302RPxRcHPm5YYo1AQQB2FQGPevI5XKSnp5eIc8PwzAYN24cLyoqinfmzBmlevXqGWhoaKjL5fKJnw0bBYXn84dBJBKluLm5Ne7bt+/wYcOG9ck7zrLsp4IT1tbWvJCQkI65/x8rhW7dunm6ubltefTokfjEiRNSExMTJCcnN2dZtlLXVcOGDRvN4/EKzd85cuTIvFq1aol69uwpCA4Olqanp9P27dvzebz/OzGNjY1lAMqvWQ7HTw1nbHBwVDFyY8hdoajxnwFFYzcAQLdu3TZIpVKlM2fOFPlsd+7cGf/++6+mjY3N2/bt239o27ZtZt++fR8/efKkflFziwkDRcUqUEo3AuhACMk3JIejfGjVqlW4k5OTu4eHh+zChQvyefPmkZCQkM4A0gCkA3gIRU7CicLk5HH27Fnn1atX57tllZWVBVNT02cymYyvoqKC9+/fQ11dvVS7tdOnT6eTJk2icrkcnp6edNasb1oWgGVZxMfHM3K5fAMUibbdKaVWlNJulNKYbyYUzQ4A6oSQP0qj8/Hjxw2PHTumvXXrVtmtW7dKI6Ik15LduHFDEhERoZtX9YgQogRAn1Kab2hZVUZXVzfVxsZmn4aGxqdNE4ZhUtPT/18V1tLSkqLiNkqKRF9fP2H8+PFjZs6c2SIiIkIql8uhq6urvGXLlvDs7OzmxcjfKFeysrKUdu3atfz48eNFNq68cuXKyFu3bvGvXbsWaW5uvsjQ0DDh+vXrUgC4dOmSdMKECaxcLgcUPZ44OMoMZ2xwcFRRKKVLKaWr6WcdhyMiIp54eHgErF+/vtAuxACgrq6OuLg4JjAwsOaZM2eqxcbGqtja2jZ0dXW9B8VLRjX3p1FJdSOEPAAQC+D+Z4dPQhFSxcUCVyDdu3cPXr58uf6NGzcipVLpMzMzs7+BTx6yPCO1yEaNOTk5aoQQFQ0NjXzP9+jRg/j4+CzS0tJ6dePGDfbDhw+oVq1aid4pN2/exK+//gqRSES7du1Krays8Msvv1A7u2+j7pYvXy43MzO79eDBg5WU0oeU0tSSXOtrcv8efQFkEEJK1TRTJBK9HTdu3KiRI0fKDx48WOzeHyXh9OnTbGBgIN21a5dhbhhVHi5QhFH+FBgYGMRHRERIAUUzREIISwgpSX+UCoFhmPTOnTsvt7Kywrlz5wQymayzh4fH9T179hyUSCT/mcFx6NChtQ8ePJgSHh6+dv/+/YsKG2ttbd2/b9++/adOndrFyclp/uvXr3VMTU0FAHDgwAFegwYNMnJycuRQdKbn+EmoyDAqUgFhgxwcHJVLQ29v74f+/v6liredPn267OLFi3wVFRXKsixJTU2l3bt3P7Bq1apBxZlPCOkDYCSltH8+53hQlHt8DUWSLgNFV2QhgJi4uLjnenp6b3V0dLiyueUAIUQHgA+AFfT/DeDaQ9GTYS+l9Jtu1Xnk5OQ0sLKy+ic6OjrfBZNMJkPr1q2pmpraNhUVldGEEJZhGLmZmVkWADYzM7PaggUL+NWqVStQv44dO2LNmjUoqlQuy7IwNjZmY2JidGvVqvWqyBsvIYSQywAcC8r1KIr79+8bDxo06O7Vq1dJWStTfU50dDSdPHkyu2XLlmbm5uafDHdCSC0A7pRSn3K72HcOpbSmu7v7q+rVqyM7O5t06NDBy8HBIbCy9cpj7ty5t9XV1U22bNmCmzdvwszMDCNGjHju7u7eVEVFpUKbm545c2b44cOHtwUGBvIAYNKkSdlz587tbGBgcLk488PDw8cfOHBg7YwZM/ixsbFSqVQaL5VKQyZOnPhNqXWOH5f9+/eXySAYNGhQgcY119SPg+MHIz4+vj2Pxyv1l8by5cvzvhcIADg4OLANGzZ8XMiUrxED0Ltz545hkyZNUhiGeZd3giq6H8dCEQaTDEW+yZ8AZFZWVlOGDx/u1b179yw9Pb3zjo6Oww0NDd/lfwmO4kApTSKE/A5gCiEkDcDm3JCj1oSQq4SQbbSA7tlCofDfOnXqvDxy5Ejdvn37flpBv379Gnv37s15/fo14+zsfPXEiRPTL1y4MI7P53+xs3/mzJmBc+bM2b1q1Sq+oljUl/z555+0ZcuWsLS0LHL399mzZxCJRO8qwtDIZQwUvTYiKaVzSzrZ2Nj4vrGx8T89e/ZsuH37dqKjo1NmhW7duoWJEyfSVatWWX5uaOQyBcDKMl+kCkEIeTdmzBhLbW3tajo6OjGEEOl/cV2xWFxtzZo1p1RUVNK1tLTuGRgY3DQyMrqqr69/+/NxOjo6CQYGBk379etHbWxsmHnz5rE8Hq9OUFBQgru7u5GKikqFbKCMHDkyUC6Xu69atYqXZ+hOmDBBaf369VGU0oy2bdvOdHZ2LjSZ3sbGZoNIJHq4f//+zc+ePdOfMWOGh7GxcbEMFQ6O4sB5Njg4fjDevHnTMSgo6Iyfn983JW9LQ5s2bWTXrl1TB1BkaFYeVlZWs2/duuVvYmIii4mJqcYwTDYAEEL0AIQCmJNXahQAkpKSSN++fdMXLFig2rx5c5w7d04aFRUlGTFiRBcrK6sr5XEfPzuEkM5QVDLzo5RKCCGRAHpTSj/mNsDrDYWHKQ++hYVFu1q1anXetWsX8+bNGxw8eDDn48eP6XZ2dnOtrKy2C4XCQpPM165de6RevXo9e/To8Y2Xzc7ODidOnEBBYVqfk5mZia5du2bGxcWpFXGPUwHoQvH5ylc3QkgPKMre3oKiDOl7ADT3pzUAS5pPN/HCWLFihdvmzZtXjRw5komLi6OhoaGlCp9ZtmyZLCEhgWZmZiIxMZG3cOFCO0dHx4iv9LcDoEUp/SHK3X7viMViI09Pz3sjRowgYrFY9uzZM9njx4/5tra2/iNHjpyfN27fvn2BycnJv40bN+6L/ijLly+XNG/efH7fvn0Xl6dehBAGwBRNTc1F+/fvV+7QocMX5x88eCA7cOAAw+fz7/v6+poUV65cLlfm8XjZRY/k+NE4cOBAmQwCZ2dnzrPBwfGzULt27TvlVbIwPT0duQvKbwwNlmUJwzD0q2P1/Pz8fLKzs0fNnTtXtnnzZv7atWtHuru7b8gdsgOK8I+vE3oZAKotW7YEAHTv3l3QpEkTwapVq2J0dXU76unpxZbH/fzMUEojCSHPAfgSQl4CUAMwiBBiAOAugFWfN3YkhJCmTZs26NChg+eiRYuc1NTU3nTu3HlN+/bttwiFwmKVex00aNCEuXPnPm3ZsqWgTp06OHnypPT169fskydP+MrKyrziNv9jGAbv379XvnPnjoGJiUm+XjZCyEEoclH+BhBJCPkbgDel9DUhRA2KLuvpABIB9APQFcBSSunzz2TUAXCGEDIPCkOkPoBESqlXQboFBQX5bN68ed6JEycYNTU17Ny5k4wbN45t164dXFxcihVTlZmZiZ49e8p1dXUTu3Xrtr1mzZrvmjdvHmVkZHTvq3usD6AjpdS7OHI5yoWHzZo1i79z506rgQMHKgHgy2QyLFiwwFtFRUXs7Oy8CQD69u07a9asWZO+njx27FillStXjitPYyMlJUXHwsIipnXr1rujo6OJnp4ebt9WOFoaNmwIdXV1JCQkMDo6OtcHDx7csySyOUODoyLgPBscHD8YSUlJXWbMmBG+Y8cOXnnEj7dt25a9fPmyCoBPDRfWrVvXdMaMGXdatmxJtbW1nzRq1Oh+bGysDSFE0LRpU/mcOXP4enp6ePHiBZycnCTx8fFCACCEXKGUmud3nXbt2mUsWrRI9fOmcK6urjQjI4MsW7ZsgIWFxaEy3wwHAIAQ0hBARwAxnzWHqxASEhIsd+3adUAulys3adLkrI6Ozg1bW9udR48eXZGUlOTo7u4uKM7ndN++ffI9e/a8On78eH1AYexCUZrzOY/H+wVAEKW0R954QshQAEOg6E+jDUW35iNFXYcQ0grARCgaUz6FohFguFwu3/LixQtjXV3dqy9evDCLioqyiImJcTpw4EDHjRs3UltbWwIoGhLev38f+/fvp4mJiSQkJATa2toAFInNbm5u9Pr160QgEKBVq1ZsREQEqVmzZpa9vf0Wb2/vKV8b8J/ppQogAIAHpZRbEP6HiMViwebNmxNq165t6ODgoAQoqrH5+fnJunfv7jN8+PDFAODl5fV4/Pjxv9SpU+fT3OzsbPj5+YlXrFihWx66ZGVlKS1duvRxSkqKKDQ0lOnbt6/82rVrPF1dXUopxbt37xATE0O8vb3v9uzZc6C5ufntoqVycFSsZ4MzNjg4fjDevHlj4O3tfX/dunU8gaDsDo6JEyfKWJaN37Bhg1XeMZZlBc7Ozok9evSor62tjWPHjsnWrFnDV1L6IoIAQUFB8piYmCcHDhxoDACEkEAoPKrTKaVfxFzv2bNn3OrVq/84evQoD1DE6U+aNAmHDh3C9u3bExcsWGBQ5pvh+J5Q27Rp04GnT5/aLlq0qFhedlNTU3bevHmDHBwcDru5uUVdvHixnYaGBn369ClVUVEJS0xM7FXeShJCCI/H2ywUCl2aNWvGEkIIwzCstrY227BhQ+Lj48O3tbXFhQsXvpl748YNTJ06FQKBAEKhkL579464uLhQV1dXcu/ePfTr1w++vr7eo0ePLrR6UG5hheUAllFKKypvhaMQxGKx8rZt26Lfv3/f7LffflPi8/mQSqVYtmyZ1MjI6LiTk9PAhw8f9tq/f//BgIAAft5374sXL7Bz5847fn5+zcqqQ1ZWFrNx48ZYdXV10yFDhigBCmOmV69eOHjwIADg8uXLshs3btz29fVtVagwDo6vOHz4cJkMAkdHRy6MioPjJ0Fzw4YNEZMnT0Z5GBoA8ODBA2JmZvZFlR6GYaQCgeC1QCCob29vD3t7+3y/S44dO0YXLFjwecjHdCia/c2BouP5JyIiInp37Njx05fVjBkz6JYtW4ienh6ysrIasixbnWGY9+VyUxzfAxljx47t5evr++jp06cG+vr6RU4ICQlh+vXrt//SpUvR9+/ft7h58yYBQDw8POR8Pv91RShJKaUsy67o0KHDyKioqLw+MbzcHwCApqYmff36Nfl8RxsATE1Ncf78eQBAWloaSUpKgrGxMQGAefPmyQcOHHi0GIYGgeJ52cIZGpWHSCTKHj16tFl4ePiaTZs2jZ04caKSQCDA7NmzBbt37+61bdu2uNGjR5tbW1tv/fPPP0c7OzsLAEBXVxeZmZkNsrKyiIqKSokXc1lZWTUPHDiw8P79+zZSqVRUv359Js/QAIDRo0fT/v37U+S2MoiPj2ebN29+ukCBHByVANdng4PjB+HixYtDJ02a9FZfX1+nZcuW5dI8j2VZ5OTkkKysrNpfnzM3Nz8xf/58Onz4cNmHDx/ynS8UCvH3338b5v2e2+XcFYDDmjVrlB0cHF506tQppWPHjmkXLlz4tWnTpsytW7fw4MEDSCQS0rx5cwCAtra2LCoqakh53BPH90VSUpLy8+fPcefOHdy8eRMnT57Es2fP8Pz5c1y+fBmvX79GTk4OKKUwMjKCi4sLdu3a1eGvv/769Bk/f/48cXJyCqpANavl5OQUuGv322+/wdfXt9CFZI0aNWBs/P8WM8nJyXTBggVOhc0hhKgAWAIgnFLKhcNUMiKRiNrY2EzJyMhIvXPnDgsAhBAMHz5ciWXZZocPHw61sbFZGh8fLz979uwnz22NGjWU9+7du6M011y+fPk5qVQ6ZvLkyQZ+fn4q48aN+1TE4eLFi6CUYtCgQZ/WchMmTFAKCwubfvbs2fZluVcOjvKEC6Pi4PhBWLFixc1ff/21RZMmTcpVrouLC42KiiKPHj3SBvAm7zjLsoy7u3vK6dOna/z111/I77r37t3Db7/9lnL+/PlauXOEU6ZMORoREdHq3bt3qqqqqmoRERGQSqUYNmwYVVNTw7t374i1F6TgAAAgAElEQVSysjIOHTqE+vUVzcyfPXuG1atXvx4zZkyfZs2axZfrDXJUKjo6Os9MTU15LMsyN27cqNOqVSvC4ynsiGvXrpE2bdrQrKwsZGdnk2rVqlFLS0sSGxtLT58+TQDFgmvJkiUvT58+LaooHd+9e9ewSZMmT0NCQtCxY8d8x7Rr1+6TF6M4dO/eXRIbG1tgxThCiBEANwBLKKUvSqozR8Vx48YN/d27d1+qUaNGrVGjRikRQkApxfr16yWZmZlK2dnZrIqKSiqPx9OYNWuWQFlZGTNnzpQtW7asloqKSqHe2du3b4sCAgKu9+3bd1Pjxo2vrF279uCKFSvydVM7ODhQPz8/oqv7ZTrI7t27JbVr117q4uJS5j4s+/fvH+vu7r4xISFBWSQSFbsiIUfV48iRI2UyCPr27cuFUXFw/MikpqZ22rFjR4vRo0eXWVadOnU+7cASQmiHDh3o06dPSVBQ0Hx3d/fJLMuShw8fmi9btmz53bt3NR4+fFigrCZNmkAikWgOHDjwLsMwyomJiQ2aN2/OBgQECBITE6GtrU319fUJAMTHxxMAyNsA+bw3g56eHgYOHFh727ZtYYGBgZplvkmO74LcKlGbTp8+vRAA+vTp82jKlCkGXbt2BQC0bt0a7du3h46ODnVxcSHPnz8nK1euZD09PYHcPjDbtm2TdenSZU9F6fj8+fOaAwYMeOjl5SXr2LFjvu/Mt2/fIs9AKgH5vphz8zMmAxAAmPp1bhNH5WNqavq0du3aetu2bbsYExNjbmVlxSeEYOLEiUoAQClltmzZUk0qlSZ7enrWcXNz46mrq5P4+PgBnTp12lyQXLFYrLxp06Zb8fHxNQ0MDLwSEhIkw4YNYwDgyJEj7IYNG4ienh7Gjh1Lrly5Qt+9e/eNoQEAJiYm5OjRo9MaN278p7W1dUKubHLt2rURRkZGsUZGRt98aZ88efLX0NDQky1bttzk7u4+Lu94VFTUIjc3N8ybNy990KBB3bp3736xHP6EHD8ZnLHBwVGFefbsmc6RI0f2PX782NrR0ZHt0qUL4+joSGfPnk34/NI93rVr10bTpk3punXrCBQLInL79m26atWqSSoqKskXLlwYeO/ePaMBAwbQ4ODgIkMxo6KimKCgoMbZ2dl0z549X8S6I58FV34N4ADA0NCQ4fF4pepfwPF9Mm7cuCZxcXE+HTt29CWEICkpidSqVevT+fXr19OEhASybNkyMmrUKNSvXx8rVqz44jP35MkTLF68+FRF6ThjxoxoBwcH4u7uXuADNXToUOrn51fmzyYhRARgFoCNlNK/yyqPo+IQiUSy/v37D1u9evUDKyurL84RQjBmzBilzZs317a2tj4UGhraQk1N7aOWllahuRRSqbQ5y7Lqq1atotOmTWP69+8v9Pb2BsMwlBBCtmzZQq5fv47AwEBqZGREt2/fnu9nrm7duoKmTZsKZs6ceXXs2LEGNjY24t27d5/9999/2546dYoAyOTxeKlJSUmZhoaGHyUSiUZaWprxhw8foKOj88mYEIvFAh6Pp+Xi4oLTp0/j/v37/Thjg6M0cMYGB0cV5vbt2y7p6enWQUFBfEIIvL29MX36dHTp0gVjx47F3bt32Tlz5jDq6urFkrd27Vq5UCjkPX369IvjoaGh5ObNm1iwYIG3gYEB2b59O1OSsrru7u5lyiHJzMzEnDlzZC4uLoPLIofj+8LR0bGLqakpO2HChHwXTRYWFqRp06bYvXs3Cvq8UUqJhoZGoc0FSwvLsoJnz54Z7d27t0BDYunSpay+vj6xtLQs07UIIe0AOALwLKghIcf3RZMmTZ4oKyu/evfuXf2aNWt+c3706NFK8+fPH2BmZrbDwcFhskgkKrRk8d27d5vVrFmTbdasGdm3bx9CQ0OxceNG8vHjR+R1pW/fvj3at2+ftxH0DTk5OQgMDJSYmprud3V1TczOzn62d+/eiOTkZGsLCwt5cnKyTCKRqL5//16DEIL69etDQ0MDUVFRbNeuXbc5OzvvzpMlEomkMpksKzk5WfXevXuMkZFR/sl5HD8Epd2gLJbsCpPMwcFR0ZDr16+P7d+/P5PnDeDz+Vi1ahWJjIxEWFgYq6mpSaytraGqqkrnz5+PvF4ABXHt2jUSGBiIz6tC5dGyZUscPny4fEpclRCxWEwlEok8IiJiQXx8/FhNTc1/2rRps9zY2PhlZejDUT7ExcW5uri4FNrpPiQkhJqYmAAFLK4kEgkjkUiSKkI/AFo8Ho8WdG0ACA0NZfIre1sSCCFtAHQHMJNyiZRVinbt2vmtXr36jzlz5vC/rgDI4/GwYMEC3uLFi0fy+fzkcePGFdgcEgDq1q37OiMjAwCgpaWFcePGEQBQU1Mrtj4XL16UWVhY7Pn9999dAEAsFmtNmzatC8MwkgYNGmzR1dVNVFVV/VitWrWPaWlpWnfv3u3x+vVr1V69eu1u06bN9q/lVatW7eHixYtNW7VqFa2lpbX7mwsqrsEA0BCJRGnFVpTjp4IzNjg4qijp6enNPnz4IGratOk3W76dO3dG586dGQCYMWMGTExMSGBgII2KimL9/PwKdEm4ubkxw4cPx7Vr1/B1z4zKxNDQkKxZs0aYlJRk/vr1a/PIyEhWJpMZHD9+vFadOnVu9u3bd6OamtqNghqicXx/JCcnG7x79+6X/GLOP2f06NEkODgYL168wNdjZTIZeDyevGbNmv9UhI5z585dqq+vz6KQyo0lWQjmR24H9wEAvDhDo+oxaNCgTRKJRNvPz2++j48P/+vdYYZhIJVK0b17901FydLW1k5IT08v04YOwzCEEJKR9/vFixddWZaFsbFxgpOT0+Tcw3oPHjyw/Oeff1rzeLx/58yZ803n8zzMzc3X7dixY5Odnd1TR0fHR3nHxWKxslQqbRIXF9f5ypUrU7OysnQBfKxTp05869at1/Tu3ftoWe6D48eCMzY4OKomwqVLl0bZ29sXuThhGAbVq1fH6dOnSbdu3eDr68v6+Pjku3hq3bo17O3t2X379pGRI0d+V/kRKioq0NfXh76+PgghjI+PT28vLy95amqqub+/v6tMJpM0bdr0sKOjo1+NGjUeFS2RozI5derUFGtr6yLHMQyDPn36sCdOnGDGjx//6fiDBw8wcOBAtnfv3lsqSsd79+6ZDRo0iN+5c2dKKSUMw4BS+kVeUVxcHE6cOEF79epVouclIyODf+bMmVZQlIKeyhkaVZcRI0b45+Tk1Dtw4MCYz3tg5NGgQQP5rFmz/lZWVt6zc+fOcfnJAACRSPRKR0fn6uXLl9u0bdu2xOuzpKQkRERE0B49elzJOxYfHz/R29sbO3fubH306NHDDx8+7CSXy6sxDMM7fvw46dix43sABRoblpaWW6ZPn/57cnLyF7G4y5Ytu5aWlmbUtGlTmaOjo7Bhw4aQy+Uad+7c6bZ3794urVu3ri8Sibi+MFWIUhS5KDZcnw0OjqqJnFJarVOnTkW6H1avXs22aNGCAkB4eDi5ffs22bJlC1vQ+OrVqzOZmZnflaHxNc2aNcO2bdvQuXNnXr9+/fiLFi0S+Pv7q9WqVWvwokWL7q5ateoOy7KFhudwVC6WlpZ7oqOjizVWU1OTpKSkfFqMv3z5Ek5OTuycOXMG+Pv7T6goHaOiojT8/f3lADKsra3lEREROHv2LCIiIj79vHz5EiEhIbCxscH9+/eLLdvPzw8DBgy4AmAvV3Gq6tOzZ8/pjx8/ZrOyvk23cXFxUVq2bJmqqqpqoX1VAGD48OFO586dywoLCytRmdm3b99i1apVWaNHj+4yZMiQnQAgFouV5HJ5g9q1a2PatGmCpKSkX/v161fd3t6eefPmjXz16tXj/Pz8filMrkgkotOnT2/m5eXV//Pjtra2HkKhkL548YJ8+PBBCigWqy1atCANGzaU3rp1y+ZrWVFRUR2WLFmya8mSJbuPHj3qIhaLKyUsl+O/hzM2ODiqJkxGRgZDKUVycnKBg1auXCk/fvw4CQ4OJoBil3jPnj1kzZo1jEQiQVpaGoKCgpCYmIh79+4BABISEmhxdpwrEzU1NdSrV++LYwKBAPb29vwlS5bwa9asabBp06ZDLMuqsCxbrwAxHJVI48aN4wwNDaNOnDiR70K7bdu2ePRI4aA6deoU+vTp88kAdnV1lU2ZMmWOs7Pz4YrSjxAifPv2beLNmzf5J06c6HvxYv5FeDQ0NLB//36yefNmTJs2jQ4ePJgW1OQyj5SUFJw6dYodNWrUKUppTEXoz/HfIhKJsrp06eKzdetWSX7nBQIB+Hy+emRk5FixWPxNk9Q8fvnllxdeXl6Nb926VaJt5rdv30JfXz+2S5cul/KOffz40ZRSKgMUFbLGjRsnfPv2LXbu3Jnl7u7esVevXptEIlFKSa6TR69evU7PmzdP1cPDw+rQoUNsVFQUoqOjERsbC2NjY6U7d+50yRsbFxdn7OXldWfv3r3nGjVqNMzQ0HBoXFzcH35+fh83bNiwViwWa5VGB46qAxdGxcFRNZHr6Oi8GzVqlCYhBF+XQHz06BF8fHzox48fmdOnT5PPK/nw+XzMnTtXbmNjw2NZFlZWVuzvv/9OsrKyoKqqirS0NJKbkFtlMTExUZo7d+6vT58+/UgIgUwmy6xXr15cly5dtrVo0eIaACUAQgCJDMNwSY2VxNChQ/v7+fn927x5c36DBg0IAIwbN47eu3ePtGrVCi4uLmAYBiKRCM2aNQMAfPjwAampqXTMmDEBFazeAgCHCSF3+Xy+8bZt2+SFDTY0NER4eDiJiIig9vb2sLS0ZBcvXvxN1bZ79+7J1q5dS0aNGjW0c+fOIRV5Axz/LR06dAi8evWq+8OHD+s1btz4m83c8ePHCzZv3rwmNTU12MnJaXCfPn0OFiAqGSXcDE5PT6dCofCLhoFbt27d16dPHx6gyG86e/as3MbGhhcWFiZ8+fJlQwCxxZH96NGjOikpKe1TU1M1UlJS0KVLl6MikShVJBJJAVy1tbVdv3fv3ilJSUkghMDLy4tJSkqyFovFJD09veaWLVuuDRgwQNnExOTTPbVr104olUpx+PDhsUuXLp2Ynp4uOXXq1NukpCQTSmmZq14RQjwAvAQQQikt0JPP8d/AdRDn4Ki6KEVERByNjo7uOm/ePAEAZGdno1OnTtDS0qLu7u7Ezs6u2MIkEgnMzMygqamJyMjIitL5PyEzMxNSqRTVq1cHAMjlciQkJNDw8PCcrKwshipAeno606VLl1UODg5zGIbJd0eSo2J59OhR68DAwLiFCxcKtLS00KJFC1y7dq3AMozXrl2Dj4/Pi1OnTtWvSL0IIWsB9AMwY+zYsZNUVVXbBgQEFGuDjlKKoKAgdtu2bUxoaCjq1/+/qkuXLs0ZOnToKCMjo/0VpDpHJXLt2jWjoKCgW9OmTVP6vGfM53z48AGrVq2S+Pj4KItEonwXYfPnz3+QlpZmQCmVSyQSMn36dL5YLEZsbKykT58+ShoaGl+MDw4Ozraysprw66+/7gAUTfx8fX2zZ8+ercTn8zFv3jz25cuXdOPGjbyMjAwsXbpU4ufnpy0Sib7paB4QEDAnOTnZGQAzbNiwPtu3b48WCoW1VVRUcPXqVUZfX59oaGj8M3HixCYikSh7ypQpt3NycprOnj2b8Hg8UEqxdu1aSU5OTgqfz5e2bdu2rqWlZaEhU+/evYOTk1P6w4cPlwFQBnAUQHxpcpmIIqlqHICRAFIAzOb61hTNmTNnymQQFFbtkguj4uCoglBKyfHjx71/++03Ow8Pj09f4v3796c+Pj70xIkTJTI0AGDw4MF07Nix5a5rZaCqqvrJ0AAUscRmZmbEy8tL2dfXV8nPz0+4cOFCYUBAgEAsFrt7enqmxMXF9apElX9aDA0Nr48ZM8be29tb9uTJE1BKER8fX+D4ly9fUkLIf7FL5gYgUSKRHHj16pVR3bp1i31NQgimTJnCDBw4kIaE/N958ebNG6SlpbG6uronK0JhjsqnTZs2D4YOHWq3fPlyaWZmZr5jNDQ0wOPxZAUZGgAwf/58oxkzZmh4enr+0qVLlxkLFy7MDgsLu1KnTp3l69at+7h48WIaFRUloZTi8uXL8idPnii3aNHiRN58kUhEW7ZsGTxr1iwkJSVBXV2d6unpZX/8+BHq6uqQy+VKAPItpZaVlWX7/v375mKxuGlkZKQXj8dLz8jIyElKSvpQv37993K5nD1//nzDc+fOeQKAp6dny7p1615OSEjAkSNHcmJjY6Vubm5Kzs7OdU1MTHSKMjQAxTOjoaEho5T6QeFV1AXgTwjxJYR0I4QUO78jdzNpA4AuABIAHCOEjCrufI7yhwuj4uCoghw+fHjhtWvXvADFLr66ujoSExMhkUjQs2fPUiV316lThyxYsADNmzcvtK/Aj4RAIMCkSZOE7969E86dO/fI+/fvPezs7IIqW6+fDTMzszOEkB6DBw8ODwgIIO3bt8933LFjx9i5c+fSdevW9atonSillMfj0SlTplxUV1evMW3atBK/L93d3YmzszN9+PAh1q9fTw4ePJjTq1evWWpqalxztB8YW1vbyPfv3/8WGBi41tvbW/B1KF1ycjJUVFSeFSVHJBJlAMhwdnZe5ezsvCrv+KhRo7zFYnHNBQsWiCMjI6V6enp3eDyevkgkevv5/EmTJv0ulUp5t27dmkAppQMGDPBevHhxgLu7u8DOzk66adOmM2PHjm0hEom+CDNydXXtdfHixbGnT5/u5uTk5C4Sib7IeheLxWqnTp1acO/evX9z9ZSbmpqu3rVrV9vGjRunvn379t/z58+3mjBhgsDGxqZYNdRz/0YEACilEgChAEJzjYxOAFYSQjZTSm8UR14uWgDeAjgAYCQh5Byl9N8SzOcoJ7gwKg6OKgallMyYMSN94cKFqvb29jQrK4u0aNGCPnz4EG5ubnBwcCi2oXDjxg1MnTqVSqVSYmJiQgGgZcuWdOLEiT+d1zMnJwdeXl4yKyur7f3795/GMMzHytbpZ+PcuXMuJ06c2FC/fn0EBwfz+/fvT8PCwqCmpkamTJnCLlmyRLZ9+3YTExOTxxWti1Qq5WlpaUltbW3le/bs4RfUwbwoKKVYv349u3TpUsbe3j5rxYoVIjU1tdRyVpfjO2TDhg2rY2JiJo0cOZIxMjL69AG6du0a/v7771Bvb+8iq1MVhlgs1gSQIxKJ8nehANi1a5fXq1ev5onFYuLp6dk6ODg4WEtLy/rOnTvyR48e8YcPH75szJgxM8uix2f6/ALghUgkygkLC+tz8uTJ7QzD1JDJZDJ7e3tes2bNCnyI0tPTMXTo0PdXr16tkd95QggDwAPAQ0rpX8XRhxDSGoApgCYArAF4UkqjSnxjPwnnzp0rk0HQtWvXAtcenGeDg6MKwufzJZmZmarh4eEEAMaPH08HDRpEHRwcilXBhGVZDBo0iKakpGDnzp0kt1la3hfFT+HV+BqhUIjly5fzN23aNNzT03MUgDShUPhx+PDhA42Nja8UNZ+j7HTt2nXrw4cP7davX9/r+fPnT48ePVpj2rRpbn///feQlStXdjlw4EALfX39f/4LXQQCgbxp06byffv2lek9SQjBxIkTmXv37sn9/f2tOUPj52H8+PFTzM3Ng/ft2xcWHx+vM3z4cCVAsbHB5/MzippfFCKRqMjP0q1bt4Y6OTkJ9+7dmwNAaGdn5xYZGblGIpF08PHxwblz5zqUVY/P9EnM+7ednd1ROzu7mmKxmP/ixQuLY8eOrQoNDW1lYWFBbW1tBV/3dMjtYVPguyc3yTuAELKQEBJJKf0m1wQACCE2ABoAuARgFIB1APQBOFNKn+eO6QRAm1JaUII+RznDeTY4OKogMTExk8+ePRs4Z86cUvWSiI6OxurVq2lISMhPaVgUl+fPnyM4ODhj0aJF1bju5P8dhJDQ3H8OAlAfAAuA5v5XBkBCKS1Vyc6SYGFhkXH+/HlVJaViRYIUSEpKCoKCgl4uWrRIVE6qcVQhxGIxb8+ePedycnLa9evXT+nSpUuUUvpnnz59lgL4AOCRSCQqtNpZafH394999uxZmw8fPvACAwONRCLRY7FYrLp06VJxenp6tQ4dOvw+evToteV5zePHj/fdtGnTn7NmzTK1tLS8mXf88ePHdU+ePLni8ePH/WfOnPlFDkZ2djYGDBjw8fr16xrfSvw/hJAmAMYDiAJwnFKaQwiZBkAbgAT/z0NJg6KqlyGAlZRS8WcyOgM4D6A5pfR2mW/4B4HzbHBwcHzBlStX7LS1tUv9/Hp7e2P9+vWcoVEEuVWElHJycgxUVFS4ruT/HTkAWgI4C+ANFMVMyGc/BoSQuZTS0IJFlB1CSLm8I69evcrq6+ufKg9ZHFUPkUgkHzp0aNeDBw/u3rx5c5ucnByNV69eOdy/f78Xy7KMXC7Padu2baCZmdlmExOTF3nzxGKxKhRhUqU2REaNGmWVnp5upa6u/kAkEiXn6pM5c+ZMEQBlkUj0rux3+CURERFrDQwM8Pz5846fGxsGBgav3N3dB8+aNevB/fv3DYyNjT+FVfH5fBRn85tSeo8QMhWAOQBvQkgigBMARgPIAnAcQE0A3QFoUEqn5yMmGsBaAOMJIQsppa/LcLs/DIoiXhUkm/NscHBUPZ4+fWq8b9++oyzL6s2aNUvpa5d0Ybx48QIdOnTA48ePUdo49J+JnTt35mhoaCxzdHT0qWxdfhYIIRYALCil+e64EkLqAthFKe1ekXq4ubmdfvPmTfddu3aVqMHa1/z7779YunRpTu/evd169+69qbz046h6XL161TAgIOD+woULGVVVVQBARkYGDh06JNm9ezfj6uq6WV1d/Z2GhkbKpUuXFjIMIxAIBE+aNGlyqFu3blsaNWr0pJJvoUiGDh36hmEYDR8fHz1DQ8Okr89fvny5V0hIyCEPDw/lvGMsy6JPnz4ZCQkJ6sW5BiGkDoBhALpTSn/NPVYDQEcAHwFcKKy/BiGkPQA7KPI5DgF4Rim9XILb/OE4f/58mQyCLl26cKVvOTh+JPT19e97eXkZNW3adJ2Hh4esJJsG/fr1w549ezhDo5jY2NgIb9y44VzZevxMUErjAWgQQvLttEwpfQVAQAj5otcGIWQgIeQiIeQZIeQqIWQaIeTX0uqxYsWK3gzD/DNz5kxZaWUAQIMGDbB06VJhRETE8rLI4aj6REVFZdevX//uvHnz0qOjo1kAUFNTw8iRI5X++OMPvo6OzjiWZac/f/7c/9dff+XPmjWLP3z48MbZ2dnTfX197z98+LDA7uPfC69fv95qYWHhlJ+hAQC6uro3cnJyvggBLsX7iA+AyTM0AIBSmkYpPUopPV9UIz9KaQyAkwA2A3gAII4QshkACCE6JVWGo3C4MCoOjioKIYQ6OjpOe/PmzS/h4eE9bW1ti3yeHz16BJlMBktLy/9CxR+CatWqQSqVFmu3jaNcCQXQC8D2As6PhaI0ZlsowiaqAZgOwAKABhRhFTIAfgBKFcIkEAikO3bsMG/btu1blmXLZKBfuHBBZmJiwoVS/eRMnTr1OYDm8fHxjUJCQk5FRUU1BEC0tbXZd+/eQSgUUjMzM0GvXr0+eay1tbXh6OioVKtWLWlAQMBzgUDwrnr16uKWLVvu7dChw9rcTt7fDREREQVWt0pISGi6du3aG2ZmZhIAReYcEkJ4UFSS6grgKoAzlNIcSqmYEMIjhDhSSg+XRs/PPRm5BsYgQkg1ALdz88YWUUqLLFH8o1CSCImSwhkbHBxVHGdn599nzZr1q4WFBWrUyLdq4CcMDQ3B4/FQ1oXTz0RMTIy8UaNGZytbj58NSukDQsjIQs4/JITshSL+OgtAJoC9uR2H3wNYBQCEkMGEkGqU0hKVMs5ddHQE0LpOnTrpHh4e6itXriz1Q5OWlsZqaWndL+18jh8LCwuLJxYWFkZisZgA+CUuLs5OX18/MT09XSM6OnrwuXPnbAkhgrp168obN24s1NTUJPXr1xcMHjwYtWvXrvvhw4e6YWFhzSMjIxe2adNm+tixY4PFYrEAgNmaNWu2AniupaX1asiQIb+npKTUunDhwpSPHz82GDBggLdAIOAfOnRo1pMnT8y9vb0bi0SiLzx3ublK1aDIm0ooqPJTaTh06NCerl278hs3bkwCAgKkfD5f3rZtW3779u35X+cMEELaARgIIAyAPwAzALMJIQ8ppXsopUsIIX0IIRMopevLoldu3sbq3OsaAZgP4B9CyBAAFwCoUkorvOT2jwpnbHBwVHE0NTWfurq6uixfvnzrwoULi+yyOnHiRLmjoyNz5MgRLkG8GMTGxspGjRq1v7L1+EmpVthJSukq5BoVhZAOQBmKOO5iQQhpCWA/gDMAbrEsOzksLGyrra0t6+LiwndycgKfX7LXp0AgQHp6eoMSTeL44cntIv64f//+nxayHTt2PCAWi4lEIjG+fv1618TERPO7d+/WlUql1fl8fnZqampTqVSqqaKiApZlBS9fvmwBAHv37j12//59GysrKxw5csT4/fv3kMlk2f/8809vZWXluo0aNYKdnV3v2rVrQ0VFBc2bN3+fZ2iIxWKlkSNHzo6MjBQCyIbCW2gBwAdAeHndL4/Hu33t2jXhzZs3JW3btt35yy+/PDx9+rTPnTt32uRT+rYdgIWfVZ6LARBDCJlPCNGmlCZTSo8SQmYRQvTKywuRez233M2MXrmHxxNCbHMbDnKUEC5BnIPjB4BSSry9vV///vvvtWvXLjqkt2vXrjQgIIC0bt36P9Cu6vLhwwcsWLBAEhgYWJNhmDLXxecoPoSQxgC6UUqDyyjnAqW0UwnnnAAwi1L6d94xqVTK+/PPP4eHhIRMv3//fhNKKWbOnMn07dsXeYm+hSGXy+Hp6SkLDAysLRAI0kp+Jxwc/+fBgwfGycnJv//F3soAACAASURBVDRq1OhMXhiVm5vbP4SQunK5PEVbW/tmo0aNYszMzC5fvHhx+Nu3b+t8+PChtlQqVdHR0bnasmXLM82aNQsTiUSv//jjj7W3bt0au2PHDqV27dpti4yMfAPgXwC7y9OrURBisZgJDQ09GBQU1CExMTEYivDH51B4Mvy+rhaVmwjuD8Uz+pEQogJgKYD3lNK55aUXIaQmFN3LrwDYB+AApXRNecn/3oiOji6TQWBlZVXgBiZnbHBw/CDExsaOioiI2DBnzpwimwL8/vvv8kuXLvGcnZ3ZGTNmME+fPoWNjQ0CAwPh4OCQ75znz5/jwoULuH79umzgwIG8tm3b/tCeEalUiqlTp8qGDBkyzNraOqSy9fnZyA3l8KOUepVRzjYAsZTSjSWYMxlAHUppvhXI7t+/X6tTp07xWlpaKioqKtoxMTFMccISt27dKtHS0lrl5ORULh2bOTgKIyAgwGPDhg3LBw4cyIrFYrZHjx6TBg0a9EU1tMOHD48MDw/fNH36dMGMGTNk1atXd92+ffsuWomLQ0KIMhSN+O4XpEdu8YgFUORVvMg95g6gBYDZlNLkctDDFsAQAJpQ5H0FA2hMKf0hy6BzxgYHB0eRUEoZLy+vVC8vLw0NjUL7IgH4VGqQpqenE7lcjnr16tERI0aQnj17fjEuPT0dY8eOlf3zzz8yfX39O6mpqXo9e/bUcnNz+2GNDYlEAk9PT5mtre1ce3v7JZWtz88KIWQGFCVu861qU0wZBMBFSmmxOyUTQmYBSCssDpwQIgBwztXVVVCjRo02ixcvLjKuKisrC8OGDYOJiUmfxYsXHyuuPhwcpUEsFvMuXbo0OTIyctGdO3fUDA0NP27ZsuWLl8PkyZOf165dW/T48WO2Z8+e04cMGVJUWOJ3Q65HwxuKZp9vATwGYAxAB4rStyfK4RqmAIxyf60FYP9/0VC0MqhIY4PLEOXg+EEghLB2dnaz161bl1Oc8QzD4Pjx4yQyMhJRUVEQCoXQ0tJCSkoKZDJFvuDMmTOl3bp1kxsYGOyPjY3V2L9/v5mmpuYzNTW1IqRXXSQSCWbMmCHr0aOHF2doVDqboKgwVWpyd0blREFXQogdIUSziGltAEQWMUYGQDUgIGBsdHR0kYY3y7IICgqSPXnyBPv27St1OV4OjuIiEonkAwcODJozZ07N3377bejkyZMtvh7TqVMnd0NDQ29fX9/G34uhsW/fvlmLFy/+q6hxlNIsSukcAPOgCHNKAaACRc5JnfLQhVJ6g1IaQikNAdAcwFtCSK+i5lVFCCFl+ikMLkGcg+MHonPnzsFnzpzxTU5OFmpra5dobseOHdlp06bxnj9/jqysLNbIyEhWv379V5cvXzZmGCY7b5yuru69Bw8emAKouDp5lYifn5+0d+/eXra2toGVrcvPDqU0jRBSHrkyGlAYD48AWALQIYTEA7gDYEY+oRq1oai9Xxh2AK6oq6vfI4QwaWlpkEgk+Py5u3XrFhYuXCh9//49+fjxI9O4ceO7x48f76Kvr+9eDvfEwVEsRCKRxNnZeW9+55ydnf8si2wHBweBgYGBhFJKmzRpssPJyWmipqZmdtEz8yc1NVUjMjLSnxDCPnv2rI2ent61oubkPr9vcn8qsjHfNADrAZTa0/qzwhkbHBw/EIQQtm/fvhPWrFmzx8/Pr8jKVJ8zZswY3pgxY8CyLFq3bk3279/ftEGDBolfjxMKhdmXLl36Icvn/v3336yqqupTztD4saCUfqqEQAg5CkU5TTGAcQCiCSE7AdgA+IdS6gFAFYASgMK8hHYAwgUCgezWrVs5Dg4OOYQQQimtJpVKqVAoJJTSnFGjRvnXrVv3iZ2dXahAICiW15GDo6qwfft2euTIkdioqChLiUQydP78+Q7W1taBhoaGf9euXTseAMnMzDS9ceNGw+7du6/X1NQsNFTn/PnzA0QikVRVVRWXLl2arKen5/If3UqRUEozAdyobD2qIpyxwcHxg2FhYXHo1KlTgY8fP9Y1MDAocV4FwzCYPHkyO23atLBDhw4ZfH3ez89v/MyZM+u0bdu2119//cXUq1evfBSvZKRSKdavX896eXk5VbYuHAoIIRooRuOvEnIdQFdKaRCApYSQ0wD6QFFCdy4h5AIUu6NxhJA3APwppRfykRMBoCchJALA5ZiYmM4AIJVKBQAaAngsEAgKWliVyUq/cuXKr0uWLDk+YsSIMQ4ODtvKIouDozQ8evTIYPfu3X+mpaVpA2BUVVXZIUOGCN68eaN56tSpuVeuXMGHDx94lFKipqYmy8zMFH78+LGpi4uLW2FyL1265DNx4kRhtWrV4O/vP7xnz57jNDU1ZYXN4SgfuKZ+HBwcxYYQQocNG9Zv5cqVcWvWrPmmUVJxGDx4MC84OLhhfucYhmEDAgL6rFy5csbAgQO9KaWqDMPwTp8+zRSnBOj3CKUU8+bNk/bq1WthgwYN/i56BkdFk9s52A/AwjLKqQ/gVwByABRADwAz8s5TSm8CuJn7q21uQnksgIkA7KHoXJyfsTEAQBwUzQQ/IRAIpFCEaxVGmRIxw8LCFs2aNYuZNm3apj59+vxFCHlXFnkcHCVBLBbXDQgIuD1kyBC+sbExjxACJSVFEcTatWtjxIgRX28Q8I4ePSr9+PGjVlGys7Ky6qirq0MoFEJPT4/9888/17m4uIyviPvg+O/4sWIgODg4AAAGBgbXrKys9m3btq1UDYjCw8NhYGBQaLfjqVOnBkRHR9eIiYlR6tmz59Lu3btLO3fuLL9+/TpevnxZOsUrialTp9JmzZrtsbe3961sXTg+MR1AMKX0TRnlLIaiHGY9ALpQdCMu8LOdG/9tB2ALFMaG+tdjcg2SxpTS9ZRSKUqev1RqY4NSqpGcnGzYpEkTjB49Wn748GGujC7Hf8r58+d3tmjRgteyZUueUCj8ZGgUxI4dOyTXrl3LGjp06G+FjUtNTdVWUlLiKysrAwBGjBihlJCQkH8tdo4qBWdscHD8oAwePNjn5s2bpfJevnr1CmpqasWuUz579uzZMTExwpEjR7rNnDnz9cCBAzN69uwpL821/2sSExOhra19e9iwYaMrWxcOBYQQLQAMpbRQg7eYCAD8QSn1o5T6UkrnFWXAUErfU0pNKKWmuTkcX9MWQPXPqlpdIoTcIoSYlYO+BbJx40afUaNGvbezs1NSU1PDgAEDlK5cuTK0Iq/J8fORmpoqjIqKGr5o0aKIU6dOjfj8XEREhFNEREQXGxubYr9b7t27p+Tp6WmoqalZqAdOJpMZ8ni8TyFTAoEALMuWdxglRwHweLwy/RQGF0bFwfHj8pZhGJlMJlPi80v2qGdkZFAlJaUSVQFiGIa6uroGu7q6BrMsS9q3b5/Nsizve08iT0lJQfXq1Z9Uth4cXzAAwP5yksWHohRmmcj1ZvwKwAVAXSjCp2IIIfsArACwBMBZKLoeFwUvN5m8RB4OPp/fvG/fvvKePXsKAEBdXR1QNBzj4CgXjh075nrw4MHN1atXlzs4OPBOnz7d8c6dO5NdXV2tANDjx49vnTt3Lq9mzZrFkhcWFiY1NDSM1tXVLXLzis/nP6eUfr1qVV+6dOn1jIwMjalTpzbX1NTMKsVtcVQy3/cqgIODo9QQQtKtrKz+8PX1lcrlJXMy7N+/n1paWpa6azbDMLRNmzb3lixZ8t17N1RVVSGRSKpVth4cX1CPUvq0nGTxAUhLO5kQUpcQEg0gCopEcj9KqRWl1ByANRQVq85QSt8DuFnMGvzJAETF1YFSyhw+fHh1QkJCvz59+nyxGGNZVplSyhkcHGVm48aN20+ePLn+t99+w7x583ht2rSBt7e3QElJyXTx4sWP169fHy4Wi6tpahb/4xYeHg5XV9d+pdVp9OjRaNq0aTNDQ8P6gYGBD1JTU4vuWFvJEEKmEEL6VrYe3xOcscHB8QPj5OQ0rXXr1kFTpkyRvXjxolhzWJYFAIwaNWpPWa4dHR3dslmzZmUR8Z+Qa2z8uF0KqxiEECWU77upLJ4NlWXLlllqaGhkUEqtKaUTchPKAQC5nYSXAcjLjboDwLAYchtAUXq3SCil/ODg4NhHjx5NWLVq1ReewqSkJDRp0oSGhIT4FPuOODjyYf/+/fMSEhKG+vv78w0NDb8Iixk+fLjSkCFD9Kytrbs4OjqyJXHI6erqYt26dRfFYnHdYgxPp5R+8ez/8ssvfGtra4G9vb3Shw8fdNLS0loV++KVR00AbQkhVWqNXZFN/arUHwJQxPKS0pTX4eD4CSGE0H79+k2fMGFC9+Dg4JSVK1dKpNLCN3mTk5NBCJESQspUMUdPTy8xH5f4dwfDMKCUlqgnCUeFYgfgZDnKK5WxsX79eldzc/OPf/311wE1NbXu9vb2zzw8PP4EUD0f+XmhHRIAOoXJJYR0AHC1sBAqSilJTk5uvXr16vPTpk1LVVJSMvX09FT6OiRx7ty52LRpE69evXoPS3p/HBx5pKam1oqMjPTx9fUtsHqhnp4emjVrhh49ejAlCY39/fffBS1btjRetGjRcz8/vysvX74ssFZ6VFTUZJFIVGCZWzU1NTY1NbUqlDxMAuAAoFFFXoQoqBLr+Cqh5Fe8BcDtQnJwlIDmzZtf8Pf319HX1w+cNm2aNCIiQlbQWkdHRwcMwwjOnDnTpSzXHDFixLzp06fTTp06yTt16iS3traWR0ZGlkVkhXDv3j25trb21crWg+MTrQBcKUd5NwD8XpIJq1ev9ly9evXG0NBQ3qVLl3gnT54k3t7eDTIzM3s3b978zaRJkyKQa3TkVqOqRQjpAcAVwOqC5BJCRACcABwoaMylS5f6uLu7ywIDA+PatGnTYcWKFequrq75lvupU6eOdM6cOYc6dOiwuST3x8EBAJs2bRoeHh4+c/LkyW/U1NRkJc3tKy7W1taChQsX8tq2bdvKx8fnaVhYWP/8xp07d254v379CixtZWVlxY+IiBhR0PnvBUppMIDDADbm9goqVwghGoQQZwB3AZQ6RO2/pComiPemlKZXthIcHFUNQoisX79+s21tbdds375957Fjx7r069ePdu7c+ZvvAaFQiFevXjUoy/X69++/p1+/fpeg2BwQ9OnTJ0IoFNYqi8yK4NatW9JevXqdrWw9OD7BT01N1Z0/f77ny5cv67dp0+bE+PHjg0srjFI6kxByjhByg1J6rIjhZPbs2YcjIiL67Nq1i2nQQPEImJqaAgAsLS15b9++5S1ZsqRTjx49np4+fTovS3YkFN4YM0rpq2+EEqICRddyEwCzCvNqXL9+fdLgwYOJpaVlkd42iUQCc3PzdYSQUuekcPycHD16dGxYWNhGiUSCwYMHy3v06FF4/dpywNzcnGdkZMTz9/fff+bMmaTOnTvP7d2793ZA0buDZVl9La2CW3GYm5vzdu/e7Xjjxg0jU1PTBxWtbxmZD2AyynmdnRvZcwKKMMxjUOSSlQsV2dSPlLAYBgcHxw9Campqw927d297/PixtYeHB69+/foEAEJDQ9nNmze/O3XqlHZZQ6k+Z+TIkVc/fvxounv3bl5eHfXvgblz50r9/PwMGIb5t7J14QB69OhxPSUlpWXr1q3Zxo0b8w8dOsQqKSllyuVyGcuyhGVZ5rO4bkUcAcPIR48ePWvs2LHr8pM5atQo5dDQ0CtWVlYvc3Jy2mRmZqro6en96+/v393Q0PBT7oSnp+ex+Pj4X8+dO1dkFTUrKytJdHR0oWU5CSENoDBElACEUEpvFzY+NTVVf86cOQ+DgoL4RV0/MTERO3bs+NfX17cRIeS7L8TA8f2QmpqqNnv27LQ5c+bwAwIC5Pr6+tIRI0b8p1/Kqamp8PX1lXft2vUPOzu7P0JCQtaqqKh0cHJyKtTouXDhApuYmHjUw8OjSuzolxeEED6A3gC0ATwHEEspTS3Pa9y4caNM73tTU9MCUxyqomeDg4OjHNDU1PzHzc2tS3x8/JjFixcHL1++nK+qqophw4YxkyZNelyehgYAbNu2raO3t/dfw4YN63zo0KHv4ruHUgqpVMpA8eXN8R1gaWmpNH78eEZHR4cBAA8PD+bOnTvqdevWhZKSEpSUlMDn8/H5YvzFixcYMGBA0NatWwNZlpUJhUKJqqpqhoqKSsa7d+8aZGRkqCgrK+PJkyfNtm7dik2bNtGwsDBjKyurZwYGBnJCSHaDBg3+TUxMbBoXF1eimPSCIIT0B2AMYA2lNK04c4RCoW6NGjXkDMMU+XwkJSWhbt26cZyhwVEKaqmpqVFVVVXMmzePh5I3pSwzmpqa8Pf35504cWK8n5/fxJYtW7KOjo5FelesrKyYs2fPdv4PVPze8ARwGYoqdl0ppeWZ11bhVMWcDQ4OjnLE3Nx8a//+/T29vb0lbdq0weLFi+Xh4eEWHz58KE5VnWLDMEymv7//kFevXn03SeObN2/OMTc3384wDOfi/U5o3rz56V27dkk+P2ZiYoKaNWtCXV0dSkpK+NoY0NXVRWxsLBMbGyuMjf1fe3ce1dS1PQ58n3uTMGiAIETEGZE6oSjysyCCAwKiRSuoxWctjlVxxtaBOqGoVLTWAb9qUSmIsz4HBIeHqCA4z6KiIoIMSg0yJiH33t8fCk+fIlNCgOzPWlmrubn3nJ1VTLLvOWefhEYHDhwQtW/fvvnt27e/KS4u1mncuHHhsGHDznXp0iVj1qxZTPv27bdevny5W8+ePV8vXLiQf+zYMT1nZ+cusbGxlUo0UlJSgM/nF5X3OiHkRwBoxHFcQGUTDQAAHR2dLJZlK/W9nJCQIOvevfvZyraNEACARCKhjhw5ss7IyIhVdyy6urowYsQIwYoVK3ienp6fFUD4kg9l3DVx2uBNAOgH7/f4OaaKDiiKqtHja+rE3UWEkPoQQlgnJ6c/evfufTcgICByzpw5WgkJCYqwsLDxPj4+C5XZ1927d3vx+XwG6shnz4sXL8ikSZOC1B0H+q/hw4f/umnTpv5HjhzpXJk7nf+LoigwMTGBjIwMxapVqxZ6eXmtB4CPk0kaABgAgJkzZw6fO3du/PXr18m4cZXfQP7vv/9mu3TpEvu/xwkhjQDAD95XmzpS1dgB4JlCoeA4jquwlGROTg7v22+/3VuNPpAGi4yMXP3s2TP3efPm1csKfFpaWsAwjOjy5cujOnbseEAkEmnEjSKO46IBIFrdcVQXjmwghAAAQEdH5/aHeaEQEBDACw4O/nXr1q1eVW3nwyZo4wkhOwkhsR8W50YQQvR//fXXXQsXLqwzIxs0TfMB4IW640CfYGfMmGEfFxfHle75Uq1GWBYIIcXwaaIB8CHRAABwdXVN9PDwCPfw8KjSVKTMzEzWyMjok4XghBBdAAgEgD+rmWgAIYS1sLA4FRUV9dU7t0+fPgWhUPiAEFJYnX6QZoqJiXE7c+bM3FmzZvHr8w4Cs2bN4h09evTvFStWZP/nP/8Zou54UMXqxN1FhFCd8E9plZz27duDiYkJ27Zt2yo1QAhZCwA2AHABAHYBwGWO4xhCSD8AOHf37l2Ro6NjnfiWe/jwIcvn819TFFXdDd+Q6hR16NAh6ty5c0OcnZ2r9T3FsiwIBIJya/aXWrFixfhJkyZZDR06tPOxY8cqlQi7ubnxduzY4Vr6nBBiAO8391vCcVx2deItZWpqejU7O3vQ187Zv3+/zM3NbXVN+kENX0xMjOOVK1cWlJSU6Obk5HSnaVpn6dKlPIFA5YWnVEosFsOiRYsEr1+/Nt60adOR27dvnx8/frynSCTKr+1YCCF8AGA5jqv3a6dUWY0KRzYQQmU+7BkAAAAFBQW0q6vr4cpe+6G8Zz+O4/pyHLeU47hLpR/AHMed37Zt28yioiK6LnzR5efnw5YtW5iff/7ZXt2xoC8bNWqU7+nTp6t9PcMwlUo2AIDZsWNHd1NT05u9evVi4+LiKhxOOXz4MGNubn7ro0MWAHCc47isagcMABzH0YmJibP69+9fbpUrjuMgNzeXdO/evVqjJ6jhkkgkZq9fv+5x8OBBv9mzZ7/Zv39/TK9evVwHDBjgsGTJEuGSJUt4hoaGFTdUT4jFYlixYgVfLBb3XbVqlUQikahjatgfALCREDIGN5wuH45sIITKMAxTAgA6AADa2trs4cOHPT08PCIqeXlvALha3osTJ05M3L59u1Qul2uru/RtQECAwsvLa6yJickztQaCyqWvr/+8SZMmTx48eNChc+fOVb4xxjAM0dLSqkyyAQDAbt26tdeFCxeW/PLLL4sTEhLKP5FlISkpCa5evfrjR4eT4f2OwSerGufH4uLiJmhra4tat25d7jm3bt3imjVrlkAIkZd7EtIoFy9edIyMjPxbKpWasizLmpqawrx58wSNGmnG/sdDhgwRXLt2DS5dujTO3d19ey13vxIAFgHAawBYTwj5jeM4nN74P3BkAyFUhmGYsh9nQUFB9JYtW4KrcLkrAMSX9yJFURxFUay6RzY4jgOWZQscHBz2qTUQVKGxY8d6bd26la3OflAsy4KWllZVqtZwjo6OqxUKBRceHg55eXlfPGnYsGGMvb19NACUVaP6UO8+mRDSrcqBfnD16lXX8PDw4GHDhn11LsOJEyfkbm5u66rbD2o4JBKJ3t69e9eEhoaeGzNmTKtly5bx/P39BVOmTNGYRKPUggUL4MSJE1skEom4Nvv9MJq5Ht7vgREDAKEf9tepd1RZjQqTDYRQGR6Pp1P63zY2NlBcXKwHACYAAEFBQYutra2lzs7OGTNmzDialZVlvHTp0rWjR4++On78+HO6urqDAeCroyAURdFy+fsbsmlp6tna4tq1a5yenh5u4FcPtGjR4q69vX14UFBQpe/ib9u2rcTOzo5NTk7mCYXCVxVf8Qm5j4+PR2Rk5E0HBweFj48P8/TpU2BZFliWhbFjxyqMjIyS1q9f7/6Faw8CwA9V7K9MQkLCjHHjxlGdOnUqN9ngOA4KCwupDh061NuqNKjmrl696unv788tWLAgJysra05AQACvRYsW6g5LrXR0dMDS0pI9f/788oyMDNPa7JvjuBcAsBgAHAFgDwBMI4TY1mYMdR1Oo0IIldLh8XifzG9q2bIls3nz5mmNGzfODg0NXRYfH0+9ePGiWUhIiPvYsWOdsrOzG/n6+pKcnBw4efIkFx4e7goAUeV10KtXr6MDBgz4Dt5P1SoqKipqFBwcTGxta+dzOTAwsIRhmJRRo0ZV+0chql0//PDDhN9++21AdnZ2y6ZNm1Z4fkxMDMycOXPNDz/8sB4A/qlqfx4eHiclEkmnp0+fdomKiuKnpqZyOTk5pKioCIqLi7nk5OTuAPDZug6O4woJIT2q2l+poqIisbGx8VfnfD98+BCMjY1vEkI0cZ8B9MHhw4e3RUVFQVhYGL9Vq3p5E10lhg4dKpg7d+7kqKionzt06HDI19d3ZG31/WE/nXmEkO8AQAAA7gBQ/nxMDYPJBkKoVFuWZUvg/QclALwvMejt7b04Pz8f4uLiQE9PD7p27Qp//vknNXPmTK2hQ4cyY8eO5QEADBo0iHh4eJzMyMiY7ePjs+lLHfz555+flNKNj4//YdGiRWHnz59XyWdRTk4OXLx4UZGZmalQKBSUTCZLX7Zs2Teq6AupDNuyZcvzSUlJYyuTbAAAFBQU5EI1Eo2UlBSTiRMnPiKENA4NDaVbtmz5yev9+vWj8/PzeUKhsLy1IIlV7bNUixYtbty+fdvKzMys3H8Lp06dkvXv339rdftADYNMJhMcP34c9PX11R1KnaKnpwd//fUX9fr1a9iyZcsIiUTCE4lElV23pRQcx50AgBO12aeyVGZTxerCZAMhBAAASUlJlkKh8JM7tr1794bk5GTo3bs3tGnT5pPzN27c+Enlj44dO0JsbCw1cODADW/fvrVYvHjxjIr6tLW1valQKJRawUMqlcKmTZtkubm5NI/HS7WwsDhlZWX1AACgbdu2p5TZF6odfD5fKpPJWFDh1N+DBw/arFy58vKUKVPImDFjvjiVSV9fnz18+PBYb2/v8hah6la3fw8PjwA/P78Jw4cPL/cciUTCs7a2Pl7dPlD9J5FIeCzL8jDRKJ9YLAaapkueP3/e39ra+oy640GYbCCEPrh9+/a3FhYWn30mPHjwAHg8HvB4FX9ciMViuHLlCuXk5DQtKirK29zcPGnZsmWeZmZm5a2ReFFYWEhcXV0VLMuSkydPVqs0LsMwcObMGcXly5cZqVRKnJyclrq4uARRFFXva58jAG1t7cLCwkKVJhvBwcHRy5Yt4zk5OZV7zqxZs3ibN29e8pVkQ48QQrhqrGjX1dVNoygql+M4oy9V0MzNzQVCyBtCiKSqbaOG48yZM/PFYjGut63A5MmT+b///nvk0KFDJwwbNuxvdcej6fAPFiEEAADp6ek2nTp1KssoUlNTwd7eHnx9fbmdO3dWuh1tbW2Ii4ujoqOjG3fr1s162LBhKYsXLw6Hj6ZnlaIoSr5hw4bekyZNmgYA71JTU6sc97Nnz7hZs2YpMjIyjvj4+LisXbtWOGjQoEBMNBoOe3v7mPv371dlOkSlR8sePXrUzs/PL6KkpET/a4kGAEC/fv0gNzfXND8//5PvTkJII0LITABIqE6iUUpHRyfv7du3X3wtIiJC1qdPn43VbRs1DCkpKfZWVlbq2E+iXjExMYGVK1fyoqKiQsLCwtaoO576AKtRIYRULicnx7xdu3Zlz8+ePQtOTk5cdHQ0+fh4Zenp6YGvry91/fp1Kjk5eZSNjU2Rt7d34pMnTz6pFNK3b9/EESNG7CgsLNT93znyFTly5Ig8NDQ0Z968eT0nTZo0ytTU9AJFUbj/QAPTqlWrOLlcXqkhrydPnvD27du3Oj8//7Pz8/PzDfLz88lHz6kff/wxKSUlZcT+/fsrtX0uRVFM6XRDQkhrQsgSAJgHAKc5jttdZ9131QAAIABJREFUqTdUDkdHx01r1qwpkUr/u6m9VCqF6OhoRVJSEu3q6rqlJu2j+m/IkCG/RkVF4Y2UStDV1YWAgABeYmLi3H379i1VdzyaDJMNhBAAAPD5fBGf/98bZtra2iCXy6t9l7aUQCCAffv28RISEmhDQ0MbPz+/s/97DsuyLXNzc7Vv3LhR6f4uX76suH//fo6/v38rMzOzOzWNE9VpuSUlJQUKRcWDGx06dAAAoJYsWbKn9Fh+fj4ZPXr0w759+0qcnJyka9asCbx3796QpUuXnhAIBPS2bdt4enp6X22XZVlITk4GAJARQrQJIf7wvuLMBo7jlnMc97gmbxAAwMnJaWOfPn2ClixZUrhq1Sr52rVrZYsXLy569erVvgULFtgQQr68+QfSGH/++eeLli1bShISEmp14XN9RdM0LFu2jH/27NnfMjMz26g7Hk2FazYQQgAAjSmK+uTzQCAQQOmeGMrA4/GguLiYbdq0aeb/vrZx48bZCoWCmzlzJgkJCQErK6uvtiWVSmHPnj2KwMBAK4qipF89GTUI5ubmp2NiYr53dnau8HvL398ffHx8PPLz82kAgHXr1oW8fPnSIjY2Fl69eiXw8/ObGxkZObdbt25w4MCBSt10Gzx4MENRFJeVlUUAwAsAIjmOu1Kzd/UpQgg7dOjQRe7u7osvX778Y1FRUWMnJ6dtWOoWlfr2229Xb9y40TgxMRFqq2R4fcfj8cDe3p6NjIz8ZeLEiT7qjqeuwmpUCCFVM2FZVgEfras4efIkN3jwYKVVinrw4AHcvHmTvXLlymcbol29enXg0qVLiVgshi1btrA7duz46qfe/fv3oUOHDjF6enpvlBUfqts8PT03rVu3zr0yycZHBQ2+GTdu3Km8vLwWhw8fpgEAmjdvDrt3767Sd9+NGzcAAAojIyNFRkZGiYcOHXozYcKECQCg1GSjFCGE6d27925VtI3qt+Tk5PF5eXng6urKQRXWJmm67t27C44ePdpT3XFoKpxGhRCC4uLiZoSQT8rempqawqVLl5TWh5eXF7tmzRp/ACj+6DBZuHDhkcePH3f28PCAI0eOcKamFW/+qqWlBXK5HGs/ahCRSHSV47hKL4y1tLRUDBw48K65ubnp4cOHaV3dalelBT09PXj79m2ja9eu/aCvr99jxYoVxx0dHQdWu0GEqsnLy8vW3t4ehg8fjolGFchkMqBpGkcI1QRHNhBCkJSUZG5oaFj2fNeuXUxcXBx97tw5pfXh5ubG+vn5+RNC/BUKhUxXV7dQKpXqi0QiKiQkhHJwcIABAwZwy5cvr/AmSOvWrUEikTRXWnCoPpAZGBjcuXbtWlcbG5sKF3P/+eefpYlJpRZ+f0379u1h8+bN9MKFC/+eMWMGa2hoyBgbG4fVtF2Eqqpbt2533Nzc1oWHh08fN26clrrjqS8EAgFIpVITdcdRl6lyGhWObCCE4Ny5czP69esnAABIT0+HTZs20RcvXgRtbW2l9bFmzRre5cuXqfj4eCo+Pl7nr7/+MoqLi+P36NGDTJ8+HQ4dOgSrVq2q1GfS3bt3uRYtWlxTWnCoXhg3btwPISEh7Lt37+DcuXNcRkZGrfVtY2MD586do2fPns1/8eIF5+TkhJvrIbXo37//3y9fvsTfb1XQpk0bKCoqanXx4sXB6o5FE+HIBkIaLicn55usrCxLKysrCgDgX//6F4SFhal2sRiPB2ZmZjB69GhOKBSSixcvVun6s2fPlnh6eu6p+ExUn30oU0vD++8qnpaW1uuJEydOGD58eGhubi4pLi6Gu3fvlm04WVBQAPfv3yelU6Y4jgOFQvHJg2GYCo+lpKTA4MGDQUdH57OYWJaF4uJims/n17j6FELVIRAIHhoZGT2PjIxsM3jwYBzdqKTOnTtzL1686OXg4BCp7lg0DSYbCGm4EydOzO3bty8BeL+Rn0Ag4Dp37qzS+cAMw4Crqyvn7OzM+fr6VjqrYVkW1q5dKxeLxfcsLS3xznI9t2rVKi4/P7/K17Vq1QpYloWWLVuCmZkZcBwHNE2DXC6HPn36wJ497/NQQkjZYnEejwc0TX/1eXFxMSxduhQMDQ1h6dKlsH37dujdu3dZv+/evYPVq1crbG1t/xAKhVUPHCElEIlECh8fH6cFCxakuLm5wZd2nEefy8nJYbt37157w6H1DFajQgipTOPGjd9KpVIGAOhNmzax3t7eKh2e5zgO3NzcuO+++46bPn16lfraunWrrG3btkdGjhz5L4qiarwHCFKvGTNmdAaAJgCgKOfBAMCX/j9Ty5cvvz516lQDsVgMLMsCwzDw8T4xVSWXy6Fv374QGhoK3377LZw/fx7Wrl1blmxkZ2fDqlWrSn744Ycxzs7OB6rdEUJKIBKJ0i0sLM7FxsY69evXD3/LVUJGRgZ/ypQpR9UdhybCP1CENFzLli2fJyQksAAATZo0Ie/evVNZXyzLgpWVFRgZGZFp06ZV6XZcWloaZGRkFPj4+PyEiUbDIBQKH1b32qFDh44LDg4+sGzZMj5FUTW+K7d9+3bo2LEjfPvtt3DmzBlYtGgRREdHA8D7BPn3339npk6d2t/GxiauRh0hpCR6enpJhYWFTuqOoz7Iy8sDPp+fLRKJstUdiybCBUYIabhbt259Z2VlxQcAePXqFWhra6vsh3xcXBykp6ezrVq1um5jY8OmpaVV6jqO42D9+vWKMWPGfE9RFJYvRNCnT59/6+vrJ9+8eZNRRnvTp0+H/Px8GDZsGAQFBcHevXvByMgIAAD27t0rt7a2PoKJBqpLrKysLjx48EApf/8N3a1bt7jWrVsrr7xiA0QIqdHjazDZQEjDPX/+3MHR0ZHOycmBxMREMn78eJVNAN6wYYMiMDDwt927d9tMmzZt8qhRo+TW1tbs0aNH2a9dt3PnTrmlpeWZzp07K2/jD1TvjRkz5ruwsDBWJpMppb19+/bBwoULITo6Gtq3bw8AAHfu3GFSUlIko0ePHquUThBSEnNz81OFhYWK6qx70jRSqZTl8XhF6o5DU2GygZCGo2k6XyqVQmBgIDt58mSV9pWVlUVPmjTpLwCASZMmhSQmJmrt3Lmz6/bt2yUuLi5MQUHBJ+dzHAcbN26Uy2Sy2+PHj/9epcGhesfMzOz5kCFDFm/YsEGujPYoioJevXqVTclKTExUHDp0qHDatGk9hUKhVBl9IKQsIpGoxMnJyW/Xrl3KybYrkJaWBqGhobI1a9ZIAwICZAEBAfKNGzfK8vLyaqP7Grlx44bCwcEB12uoCa7ZQEjDNW3a9FFycnKLkSNHUkFBQdzkyZNVMrLxYRGvHADefHy8e/fuD6KioowDAwPX29nZzYyIiKC6dOkCb9++hYCAAEX37t2PjxkzZhRFUV8d/UCaacCAAb8nJCSsVHa7UVFR8lu3br2dP3++ZbNmzXKU3T5CyuDg4LD1woUL65XZZlpaGmRnZ4OpqSk8evRIkZCQwCoUCtDV1U3q0aNHhLu7+12RSJQLAHmXLl0asH79+gA+n69DCGFGjhwpMDc3r1PlsYqKikAqlSpatGhxXt2x1GU0XeP9T8uFyQZCGk5PTy89KyuLdXFxodLT01X9JaH40kGKoriFCxfO6dSpU7SXl9epS5cuUWvWrCkZO3bsj927d9+v4phQPXb69Onvc3NzlfZ3y3EchISEyKVS6fNFixbZCIXCgoqvQkhtWGWVvs3IyIDw8HB5enq6zNjY+J62trZQLBbfnTBhwlYTE5MEkUj02Q0fd3f3h3369AkGAJPU1NROhw4d2iSRSL7x9fUFkUiklLhqgmEYCAoKKunTp88akUiE6/3UBJMNhDTcs2fPBnp6elIAAHw+H27fvg1WVlZK7ycpKQlomv7qYkYtLa3XpecKhcI0TDRQRZo3b67Q19dn4f3mfzXy6NEjLiQkhLG2tj4+ceLEH4RCIS6+RXWdGABYqMG0+OzsbAgMDGSaNm2a3L9//zU2NjZhX0osyiMSiRgAeCUSiV5ZWVl1WL169YvIyMjmY8aM+ew35qpVq+Senp4CCwuL6oZbaXK5HBYuXMg4OjpuGzhw4GqVd4jKhckGQppNyLKsib6+PgAAHDhwADw9PaGqO3pXxty5cxULFy5c/LVzaJoWyWQyau/evdKpU6d6Kj0I1OB06dLlxOHDhytVQa2kpATkcjk0atQIOI4DqVQKjx8/Vpw/f17xzz//8EUi0YNp06aN79q16w1Vx41QTV28eNHqyJEjMW3btmWgkr/nFAoF8HifnhoSElLi4eExa8iQIVuVEdeUKVO+2bVr138iIiJsRo8eLQB4P2K4efNmOU3TiufPn9MWFhaqm7Pzwf79++X9+vXb/OOPP/qquq+GQJWbQ2KygZAGu3DhgrdYLFbAh7vCRkZGKvvAoSgKIiIi8r/77rtyz3F2dr7Zpk2bO/7+/kMNDQ1TVRIIalCEQiGXlpYmOH78OOPu7v7JD5icnBw4c+aM7OHDhzyKoooBQEpRlJQQYqxQKGhCSI6Ojo7WkCFDZlpaWkYKhUKJmt4GQlWWnp4+RCwW640dO7bcH+5SqRTWrVunIISQkpKSYoVCUSQQCAxpmqZZlpVzHKcwMzOL6d279/8pKy6RSCQbN25cvyVLlmS8ffvWiGEYWLt2LWNvb38uPj5+oJ2dncoTjby8PHj06BEbEBCwTNV91RTDMAQACE3TDXZdIuE43BsLIQ1F/Pz8sn19fY0NDQ0BAGDatGlc586dOR8fH6VXqgsICCi5cePGo+jo6BPFxcV8APgPANyD94nOKwBwB4B+AODPcdw/yu4fNVy3b982OnHixLXs7OyW3t7e9PXr1+X37t0DoVD4wtLS8ri7u/taoVD4+uNr8vPzKaFQ2GC/3FHDd//+fdMjR44cTktL6/nTTz9RnTt3LvvczsvLg+DgYPm7d+94rq6uM4YNGxZc+ppEIiEAIBCJRCqtYhUYGHhBoVDYvn37Fr777rsfc3Nz2yUnJy9LSEig169fT5WOqKvChg0bZHZ2dnNdXFyCKz5bvVasWFGoUCjo6dOnmxsbG6erK46MjIwaJQSmpqbl3qnEZAMhDZWSkuK4ffv2s6tXr+YDAOTm5oKzszNcvXpVJf1xHAd79+6V37p1SzpixIj+vXr1MgKAdvB+vnEbAIjiOO6CSjpHGuHKlSt2kZGRm9u2bXvD09NzllAoxLr6qMFLSkrqEBERcbKwsLAtj8djOY7jCgsL5S4uLpMcHBwOikSiLxbmUDWJRKJ16tSpZa9everVo0ePX5cuXXqtVatW0LVr17fGxsZCDw8Pvir6ZVkWlixZoli5cqWeSCQqVkUfyrR9+/bTmZmZztnZ2SUWFhYXvb29RxkYGNT6DbesrKwaJQQmJiaYbCCEPhUYGHjDzc2tu6WlJQEAuH//PqxcuZLbt2+fSitSHTp0iCkoKNjh7e09VZX9IISQpvgwWiGC9yPFjQEgqy790J44caLRgAED1tvY2IQEBATsbdq0qbGTkxOxtrZW+pSq4OBgefPmzf/y9vb2UXbbqsAwjMH8+fNTvb29G8fHx3M6Ojp/jR07dkptx6HKZAM39UNIMxnk5OR0LU00AACOHj3KGhkZqbxjjuOYnJwch3fv3qm/LiJCCDUAIpGIE4lEb0Ui0RuRSJRSlxINAIC//vorx8vLa6y5ufkFf3//fn369JkVHx+ftHv3bqVO5WIYBrKzsxVDhw6docx2VYmm6VxfX98eW7duLbGzs6Pv3bs3imEYla9rqU2YbCCkgSIjI2eamZmVlfX87bff2IcPH5LNmzerfDOmESNGCHR1dS2OHz++TNV9IYQQqltatmz5ePDgwcEzZ87s9vLly0Jl7kB+69Ytrnnz5heqUrq3LmjWrNmzOXPm/L/169czYrFYf/Xq1blBQUHXGYbRVXdsyoDJBkIaZu/evQtDQ0MXe3l5aZUeu3TpErV3795a2/U1LS2Na9euXWJt9YcQQqhuEYlErIWFxcH4+HilrSl58OCB3MLCIkZZ7dUmc3Pzuy4uLn81btyYOX36dOPXr19b37lzZ3ht9U9RVI0eX227lt4DQqiOSEtLG7Jy5UqegYFB2TFCCCeVSmul/4MHD8pbt2592c7Obm+tdIgQQqhOcnR0/L/Tp09Dbm5uheeWt8Y4JSUFrly5AmfPnmVv3bpF6+rqJik7ztoyYsSIWampqdSZM2dg+PDhbEhIyOaoqKhFUqn0240bN17y9fV9e/z48e/VHWdV4T4bCGmYRo0aZfzzz6eFLpycnLitW7fCnDlzVDa6oVAoICoqSnHz5s2i1atXu6mqH4QQQvVDp06dbv/444/fr1279oiBgQHr6OgoaN++PRGJ/rukLyYmpiQsLIw/atQo1tXVtewmeUJCQsmJEydIkyZNHurr6z/S0tLK/+WXX/7s0qXLPbW8GeWQUxTFCAQCysbGhmrfvr3+/v37l1y4cGFJnz59KD6fz/H5fNVvv65kmGwgpGEsLS3jrl279p2trW3ZNKqCggK4f/9+jdqVSqWQlpYGTZs2BT6fDxkZGfDq1StIT0+XP3z4EORyuaJDhw5H582bNx8AsCQpQgghcHJyOmltba3/6NEjt0uXLo09c+aMpUKhaNmoUSOGz+dTfD7/+fDhw08mJCTMevHiRclPP/2kFRYWJi8qKkpbvHhxX1NTU7XtTaFsb9686a1QKMpu+hkYGMDPP/9c9l09b948xeTJk1UyK6CiqVA1gaVvEdI8TRcsWJCxZs0aCgBg586d3OnTp2H//v01GtV4+fIlzJ49W9GxY8eXCoWCb2BgkGlgYPBMLBYnW1tbx7Zp0+YCvN9TAyGEECqXRCLRSkpKGvzy5ctOLi4uq0UiESORSARnzpxZcP78+V9sbGwODh8+fLK69hBRhbCwsK3Xr1+f+PPPP5NvvvmmrBoVwzAQFBQkk0gkVNOmTe/Pmzevhyr6z8nJqVFCYGRkVO5vCBzZQEjDHD9+fHaTJk0UACAAAIiIiABl7K3RvHlzMDMzKwoICGhX4yARQghpLJFIJLOzsztiZ2d35KNj8lGjRvmPGjXKX52xqYpUKjWhaZrLzs4mFhYWQMj7r+XExETQ09O7OX/+/DkAUC+niOECcYQ0TFxc3Kw5c+YISp9LpVKijP01Hj58CCYmJndr3BBCCCGkIRiG4QMAjB8/fvj8+fNt7927d3Xbtm1l+48EBwczOjo6V2iavkLTtMqmIGM1KoSQshgKBAIBj/d+UDM3Nxe0tbWrPHQql8vhxo0bn1QH4fP5kJmZaaa8UBFCCCGAoKCgyMWLF187evToPIlEoi+RSJqdPn365ylTpkQeOHBgprrjq65jx44t9fb2Lj506FBgYWGhWEtLK7V///5LkpOTeQAAN27cUHTp0iXN29vbV92x1gROo0JIg2RnZ1vTNF0CADQAQFFREQgEggqu+pyfn5+iWbNmt/bu3dtNIBAQHo9HUxSVOWnSpJHKjhkhhJBmS0lJcZ4wYQLv7NmzlrGxsYE0TXNGRkYlPXr00I6KinIdOHDgXpFI9EbdcVZFcXFx55MnT/4WHBxMz5gxwzcmJmZu48aNi/Pz89lZs2bRmZmZsHv3btbf39+Bpul6vd4Rkw2ENEhsbKxz586dyxaemZqaQmFhYZXXa/D5fHbu3LneAPAcAJoCQDoAMF+9CCGEEKqGbt267YuPjx85efJkrY8O0wAAT548UQCAPgDUm2QjNze3ydq1ay96eXmxurq6sGrVKtrY2Bj8/Px0Bg8evDEoKGiuWCx+PXbsWC8jI6O02ohJldWoMNlASIM8ffrUafjw4fypU6eWeHt7U7GxsUQoFBIAqFLC0aNHD27hwoVxNE2X6OrqcosWLWqhopARQghpuBEjRkxctGjRcJZlBR//KJbJZJCTk0MDQIn6oqu68PDwA7a2tkJHR0c+AEDTpk0hLi5OIRQKMwcNGjR/0KBBywCggKbpBlEyFtdsIKRB8vLy2qenp7N9+/a9HRERAQkJCWTdunVVHtnw9PTUmjJliojjOPGTJ0/EhYWFNV9hjhBCCH2BSCSSmZqa3rpz507ZdCKO4+D8+fNsz54994lEolR1xldZDMOQ/fv3b0tPT3cYNGgQv/T448eP2X//+9/FM2fOtKZpWkHTdH5DSTQAMNlASJPoZGZm6oaGhnJdunRJat68ecnAgQPhwIEDVf5Au3nzpmLt2rXyAQMG/LJ7927DRo0aZakiYIQQQggAwMPDY0J4eDgjk8mA4zgICAgo2b17N2VmZhat7tgqIzU1tevKlStfpKameq9cubJsZlFiYqJ8x44d0jlz5vTU19dX21QwQkiNHl9tGzf1Q0hzpKWlOdy+fdv2+fPnLr179+5rYWFB7OzsICIiArp27VrpdqZOnSoPCAgwNzQ0rJW5pAghhNCBAwd8Ll269DvLsjo9e/YMGTZs2NS6vLEfwzDUu3fvrMPCwtbu3r3bYc+ePdw333xTdqP/yZMnsHnzZq59+/bnZs+e7azOWN+9e1ejhEBfXx839UNI08lksm/8/f3PmZiYvMrMzDSZPn06oWka8vLyIDMzs9LJRn5+PhgaGmZiooEQQqg2jRw5csvIkSO3SCQSIhKJ6vTd8pycnJbBwcFXioqKmri4uFDXr18vWx8pkUhgxYoVjLGxcVLPnj0v8Hi8ejE6U12YbCCkIWJiYob16tWLc3d3b/P48WOGpt8XpYqIiICpU6eCi4tLpdo5f/68wtzc/JIqY0UIIYTKU9cTjYSEhCHh4eGHvL296R49enz2Wzs0NFTm7u7uN2DAgHXqiO9LsBoVQqjGHj58OMjZ2VkgFotBLBaXlb/99ddfYc+ePV+99vr164pdu3aBrq5urkAgKPbz85uv8oARQgiheubu3bt9d+3adTQgIIBnaGj42esFBQWQnp7Ozp49O1gN4akFJhsIaYB3796Jnj17ZtOxY8fPXhMKhZxYLC53rmVqaiqEh4e/W7lypXV9qfiBEEII1TaGYUh4ePjJpUuXfjHR4DgO1q9fL3dzc/uVpuliNYSoFphsINTAFRUVNQsMDHwwYsQIPo/3+T/5goICYmJiUu71e/bskX3//ffbMdFACCGEvoo0atRIFhwczOc4jnNzc+PZ2trSAAAPHjxgd+zYwXbr1u10//7969yoRkUVpWoCkw2EGrjdu3f/kpqaKoqPj5fJ5XLG2dmZLv1QycrKAh0dHQ6+sqnfzz//rLV8+fJfsrOzTUaOHLkU3u8WXqfnyyKEEEK1jaZp9rfffmsFAK2kUql427Ztq0+cONGDx+NROjo6L+bNm+fZunXru+qOs7Zh6VuENEOHzZs3X3r58qV+YGAgvzTZGDhwIOfv709sbW2/ejHHcbBz507Zs2fPaG1t7YwlS5a0ro2gEUIIIaR6BQUFNUoIGjduXO5NS9zUD6GGj6xatSrWzMxM//fffy9LNB4/fgwcx0FFiQbA++HVCRMmaE2cOJFHCClUdcAIIYQQqj2q3NQPp1Eh1MA9ePBgSHFxscjNzY3/8fEmTZoAwzCVaoPjOIiOji45duwYmTBhAlaiQgghhFCl4MgGQg1cdHS0r4eHh+DjYyzLwujRo7l58+ZVeD3LsjBjxgwmPT391Pr169vY2NicUFmwCKF6jRAiIIRICCGTCCGWhJBG6o4JIaRemGwg1MDx+fyCj0cwioqKoGvXrjBkyBBu8ODBFZaf+Pvvv2V2dnahkyZNGqarq/tKpcEihOo7ewAYAQAXAOAbAKhzVXcQQp+jKKpGj6/BaVQINXBCofDVmzdvWPhwc4HH44GxsTE3c+bMCm823Llzh71z5w73xx9/zFR5oAihhuAdAIwDgBx4/xsjXL3hIITUDZMNhBo4Y2PjtLS0NAUACAAABAIBFBYWfnVEIy8vDxYvXsyYmpre8fHxmQQAuCgcIVQhjuNuAMANdceBEKo7cBoVQg1c3759t927d4998+bNx8dYe3t7cHFx+WKpuzVr1sh/+umnafPnz7c2Nze/qYw4iCp3DEIIIYRQtWE1KoRQtTVu3PhNy5YtH6anp1sZGxtTAAC///47BQBgb2//xU+Izp07k5SUFPMePXpUu19CiB0ADAWAtwDAAEAbQsgLANjEcZys2g0jhBBCqN7AkQ2ENMDr16/bWVhYfPbvXUdHhwsICICjR49CQkICpKamglwuhyFDhvDPnTs3/fXr1+2q2hchRJsQ8hIAWgPAYwBIBIDTAPBvAOgCAAY1fDsIIYQQqidwB3GENEBUVNS848ePr/bx8aG7dOlSNppRVFQEGzZs4HJycri3b9+SrKwsEhsbCzKZDAwMDGDAgAFw6NChKk9/IoS4AYAzAIQCgB0ANAaAqwBwjeO4AmW9L4QQQgjVnEwmq1FCoKWlVe5vBUw2ENIQO3bs2BcTEzOKYRh2+fLl0LFjx7KRDpZlwc/PT3H79m2qXbt2nIODA+vl5cWPjo7+98CBA79XZ9wIIYQQUi1VJhs4jQohDTF06NBNYrEYWJalpk2bRqZOncpmZ2cDAMDz589BJpO9++mnn5jNmzfTI0eO5Nvb28PJkyeHPX78uLeaQ0cIIYRQPYUjGwhpFoOgoKBEjuPa83g8OHXqFCWTyUBbW5sTi8VcaGgoRdM0AAD07dsXwsPDYfny5VJPT8/lLi4ufwAALuxGCCGEGhi5XF6jhEAgEOA0KoRQGfrYsWMBsbGxc7p27QoeHh6CO3fucLa2toTH+2+Bur59+0JsbCzk5+dDSEiI7OXLl2BqaprYrl27iw4ODiebNGlyVY3vASGEEEJKgskGQkgVhAcPHlx15cqViU2bNiUuLi5a7dq1g0aNGgEAQP/+/TmWZQnHcSCXy2HlypWMiYkJffHiRTY6Olpx7NgxbQDADxCEEEKonsNkAyGkSvwLFy5MvHHjhsebN28sSkpKmpmZmTGWlpZvjL5OAAAB00lEQVRaWlpacPbsWVZLS4thWfbZ27dvWygUCpmHh8ckW1vbo+oOHCGEEEI1V1JSUqOEgM/nY7KBEKq0JufOnRv39OlTa5lMpj9gwIC/unTpchwAFOoODCGEEELKh8kGQgghhBBCSCVUmWzwynsBIYQQQggh1PBRlOp2w8B9NhBCCCGEEEIqgckGQgghhBBCSCVwGhVCCCGEEEIajJByl1zUGI5sIIQQQgghhFQCkw2EEEIIIYQ0CCHElRDymBDylBCyQJV9YbKBEEIIIYSQhiCE0ACwBQAGAUAnAPBKSkoCQki1H1+DyQZCCCGEEEKa4/8BwFOO455zHCcHgH3Hjh1TWWeYbCCEEEIIIaQ5mgNA2kfP01+9eqWyzrAaFUIIIYQQQhqsMtOhqgtHNhBCCCGEENIcrwCg5UfPWzRv3lxlnWGygRBCCCGEkOa4BgDtCSFtCSECAPjB3d1dZZ0RjuNU1jhCCCGEEEKobiGEuAHABgCgAWAnx3EBKusLkw2EEEIIIYSQKuA0KoQQQgghhJBKYLKBEEIIIYQQUglMNhBCCCGEEEIqgckGQgghhBBCSCUw2UAIIYQQQgipBCYbCCGEEEIIIZXAZAMhhBBCCCGkEv8fR3yzs/18dP0AAAAASUVORK5CYII=\n",
          "text/plain": "<Figure size 1008x648 with 1 Axes>"
         },
         "metadata": {},
         "output_type": "display_data"
        }
       ]
      }
     },
     "59b3392483c84a8f9c26d525ec3a4162": {
      "model_module": "@jupyter-widgets/controls",
      "model_module_version": "1.5.0",
      "model_name": "LabelModel",
      "state": {
       "layout": "IPY_MODEL_6af15523b7214a14828ac436945406d9",
       "style": "IPY_MODEL_7c3193a6ecf346ce9cc361d7c1e4395d",
       "value": "Term to analyze:"
      }
     },
     "5ad0c34b27424ceb96aa3bc612bbf7ca": {
      "model_module": "@jupyter-widgets/base",
      "model_module_version": "1.2.0",
      "model_name": "LayoutModel",
      "state": {}
     },
     "5d59cbbb7fdc477f9854f8a72603aad0": {
      "model_module": "@jupyter-widgets/controls",
      "model_module_version": "1.5.0",
      "model_name": "SliderStyleModel",
      "state": {
       "description_width": ""
      }
     },
     "5dfd06b0b3e04163a62e7784ad59dabb": {
      "model_module": "@jupyter-widgets/controls",
      "model_module_version": "1.5.0",
      "model_name": "LabelModel",
      "state": {
       "layout": "IPY_MODEL_ffec9985056742a68af0c9e6841cfb21",
       "style": "IPY_MODEL_8bd0ed0dbbab445db7b3b06c83e637f6",
       "value": "Plot type:"
      }
     },
     "611eaab6e95749eb8b603abc97cb0340": {
      "model_module": "@jupyter-widgets/output",
      "model_module_version": "1.0.0",
      "model_name": "OutputModel",
      "state": {
       "layout": "IPY_MODEL_23ad8b7085e340bb8a0e29c556625f8e",
       "outputs": [
        {
         "data": {
          "application/vnd.jupyter.widget-view+json": {
           "model_id": "873dc270caf64d7db32901f6b1e90d80",
           "version_major": 2,
           "version_minor": 0
          },
          "text/plain": "Output()"
         },
         "metadata": {},
         "output_type": "display_data"
        }
       ]
      }
     },
     "614ba4ea87454472adcaf6febd825a9b": {
      "model_module": "@jupyter-widgets/controls",
      "model_module_version": "1.5.0",
      "model_name": "HBoxModel",
      "state": {
       "children": [
        "IPY_MODEL_dc77059a8c4242d6bab3ce638efd31fd",
        "IPY_MODEL_d654311d152c4561bb2daaf7daa91743"
       ],
       "layout": "IPY_MODEL_1f1dc5f27d0c4bcaa8d2e1e501dd5f46"
      }
     },
     "618204c87cac4238b71a10cc0fde2445": {
      "model_module": "@jupyter-widgets/controls",
      "model_module_version": "1.5.0",
      "model_name": "DescriptionStyleModel",
      "state": {
       "description_width": ""
      }
     },
     "634f0e31b01c4d86bb5a6ee467491abc": {
      "model_module": "@jupyter-widgets/base",
      "model_module_version": "1.2.0",
      "model_name": "LayoutModel",
      "state": {
       "border": "1px solid gray",
       "height": "588px",
       "width": "210px"
      }
     },
     "65775a90724645c5b338153995dd4d6b": {
      "model_module": "@jupyter-widgets/controls",
      "model_module_version": "1.5.0",
      "model_name": "DescriptionStyleModel",
      "state": {
       "description_width": ""
      }
     },
     "65a5f1c8453946499ba173d20708691e": {
      "model_module": "@jupyter-widgets/controls",
      "model_module_version": "1.5.0",
      "model_name": "DescriptionStyleModel",
      "state": {
       "description_width": ""
      }
     },
     "6ae6f984d11742e1b045d1399ade7dad": {
      "model_module": "@jupyter-widgets/controls",
      "model_module_version": "1.5.0",
      "model_name": "VBoxModel",
      "state": {
       "children": [
        "IPY_MODEL_4790495b4b664305932f06184dc4bee8",
        "IPY_MODEL_ed710c8edbdc4cacb1edd54b558417d4"
       ],
       "layout": "IPY_MODEL_42dfb9a65af345b08d5b2f46eccd6efd"
      }
     },
     "6af15523b7214a14828ac436945406d9": {
      "model_module": "@jupyter-widgets/base",
      "model_module_version": "1.2.0",
      "model_name": "LayoutModel",
      "state": {}
     },
     "6b30169136bf4c4c8e67335ce01ae9be": {
      "model_module": "@jupyter-widgets/base",
      "model_module_version": "1.2.0",
      "model_name": "LayoutModel",
      "state": {
       "width": "200px"
      }
     },
     "6bc8b41b20e040fbab888de4d5d89aff": {
      "model_module": "@jupyter-widgets/controls",
      "model_module_version": "1.5.0",
      "model_name": "DescriptionStyleModel",
      "state": {
       "description_width": ""
      }
     },
     "6c0dd7d1d5144f84a22c03f16e8cc2ed": {
      "model_module": "@jupyter-widgets/base",
      "model_module_version": "1.2.0",
      "model_name": "LayoutModel",
      "state": {}
     },
     "6cea00cdc87449a5bf3690301532ad28": {
      "model_module": "@jupyter-widgets/controls",
      "model_module_version": "1.5.0",
      "model_name": "VBoxModel",
      "state": {
       "children": [
        "IPY_MODEL_24e23f23fbe4433d9f39567cb34d6e5d",
        "IPY_MODEL_883652d6048a46eb83cd6c1aa872db10"
       ],
       "layout": "IPY_MODEL_bb323fb8bbdd486aab821a52a80fc66b"
      }
     },
     "6d3087bff45f4153a8aa59be4fb00736": {
      "model_module": "@jupyter-widgets/base",
      "model_module_version": "1.2.0",
      "model_name": "LayoutModel",
      "state": {}
     },
     "6db1eb2064094dc09e409dadcf94017f": {
      "model_module": "@jupyter-widgets/controls",
      "model_module_version": "1.5.0",
      "model_name": "LabelModel",
      "state": {
       "layout": "IPY_MODEL_4abfdee6b2a14e0881662bb88e7a2994",
       "style": "IPY_MODEL_7af31dcf521544198ce42ba909b6d4de",
       "value": "Term to analyze:"
      }
     },
     "6e576f027c8a4a4fbea0feee4255a359": {
      "model_module": "@jupyter-widgets/base",
      "model_module_version": "1.2.0",
      "model_name": "LayoutModel",
      "state": {
       "grid_area": "center"
      }
     },
     "6ef711de387c45629a6bed7e89ed3b4b": {
      "model_module": "@jupyter-widgets/controls",
      "model_module_version": "1.5.0",
      "model_name": "DescriptionStyleModel",
      "state": {
       "description_width": ""
      }
     },
     "7133ac1149f54442b405185604671eb3": {
      "model_module": "@jupyter-widgets/controls",
      "model_module_version": "1.5.0",
      "model_name": "LabelModel",
      "state": {
       "layout": "IPY_MODEL_fd826cb9035f4bc885534b8ce2ac8e0a",
       "style": "IPY_MODEL_1a225bf4067e43289e9d358d845cfac8",
       "value": "Analysis type:"
      }
     },
     "713b0614e1d640e19000eeb3306be8ba": {
      "model_module": "@jupyter-widgets/controls",
      "model_module_version": "1.5.0",
      "model_name": "VBoxModel",
      "state": {
       "children": [
        "IPY_MODEL_f9d6eb3291d34649a012ce11d216c17b",
        "IPY_MODEL_3deb6525019f439c896fcd1b5e624fda"
       ],
       "layout": "IPY_MODEL_2849a3c0f7f949158504cb7d15f98b85"
      }
     },
     "720fa0ba7b464aca8f3f4e44db514599": {
      "model_module": "@jupyter-widgets/base",
      "model_module_version": "1.2.0",
      "model_name": "LayoutModel",
      "state": {}
     },
     "734274b854754bb784d9d2a0ddd7f446": {
      "model_module": "@jupyter-widgets/controls",
      "model_module_version": "1.5.0",
      "model_name": "VBoxModel",
      "state": {
       "children": [
        "IPY_MODEL_5dfd06b0b3e04163a62e7784ad59dabb",
        "IPY_MODEL_b3dbe6d63a134a6eb158a4b030bcbd1f"
       ],
       "layout": "IPY_MODEL_6d3087bff45f4153a8aa59be4fb00736"
      }
     },
     "75b63a10c033421fa4ba1a7f71e76016": {
      "model_module": "@jupyter-widgets/base",
      "model_module_version": "1.2.0",
      "model_name": "LayoutModel",
      "state": {}
     },
     "772773062f0d41c68419adbfa790b9a2": {
      "model_module": "@jupyter-widgets/controls",
      "model_module_version": "1.5.0",
      "model_name": "HTMLModel",
      "state": {
       "layout": "IPY_MODEL_04a8901b668444bbb6222894b3b75d6e",
       "style": "IPY_MODEL_e4f1408e5b3d485f89de03ea70662032",
       "value": "<h1>Co-occurrence Analysis</h1><hr style='height:2px;border-width:0;color:gray;background-color:gray'>"
      }
     },
     "77d7077434824d9b9d69be78142adca5": {
      "model_module": "@jupyter-widgets/controls",
      "model_module_version": "1.5.0",
      "model_name": "LabelModel",
      "state": {
       "layout": "IPY_MODEL_993ef43904d0484586e7b0890b52c7ef",
       "style": "IPY_MODEL_253c10dcba9f4578b6d3c57a622d43d6",
       "value": "Colormap:"
      }
     },
     "7a80627193504adb9f177b666bd84596": {
      "model_module": "@jupyter-widgets/controls",
      "model_module_version": "1.5.0",
      "model_name": "VBoxModel",
      "state": {
       "children": [
        "IPY_MODEL_28bfcc1187ed42edb0f34dbfeddf5afd",
        "IPY_MODEL_4b701a69f3e746a480c687a9dd6c96e6"
       ],
       "layout": "IPY_MODEL_24d1547998274b229ac366797c3adecc"
      }
     },
     "7ab880944271453c873e6035adc5484d": {
      "model_module": "@jupyter-widgets/base",
      "model_module_version": "1.2.0",
      "model_name": "LayoutModel",
      "state": {
       "grid_template_areas": "\"header header header\"\n\"center center center\"",
       "grid_template_columns": "1fr 2fr 1fr",
       "grid_template_rows": "80px 650px"
      }
     },
     "7af31dcf521544198ce42ba909b6d4de": {
      "model_module": "@jupyter-widgets/controls",
      "model_module_version": "1.5.0",
      "model_name": "DescriptionStyleModel",
      "state": {
       "description_width": ""
      }
     },
     "7c3193a6ecf346ce9cc361d7c1e4395d": {
      "model_module": "@jupyter-widgets/controls",
      "model_module_version": "1.5.0",
      "model_name": "DescriptionStyleModel",
      "state": {
       "description_width": ""
      }
     },
     "7d09fa0cbd744c4fbb4688c10a455137": {
      "model_module": "@jupyter-widgets/controls",
      "model_module_version": "1.5.0",
      "model_name": "DescriptionStyleModel",
      "state": {
       "description_width": ""
      }
     },
     "832c0bcd0d1a469ea39537bf36742a62": {
      "model_module": "@jupyter-widgets/base",
      "model_module_version": "1.2.0",
      "model_name": "LayoutModel",
      "state": {
       "grid_template_areas": "\"header header header\"\n\"center center center\"",
       "grid_template_columns": "1fr 2fr 1fr",
       "grid_template_rows": "80px 650px"
      }
     },
     "84c0e3c73df44b64a5d462c3016acb75": {
      "model_module": "@jupyter-widgets/controls",
      "model_module_version": "1.5.0",
      "model_name": "VBoxModel",
      "state": {
       "children": [
        "IPY_MODEL_59b3392483c84a8f9c26d525ec3a4162",
        "IPY_MODEL_a48c1e361eb2401d83c680eaace17aa6"
       ],
       "layout": "IPY_MODEL_40156b91fa874a13894ecda64b3fc240"
      }
     },
     "8502c3d6fca044c58bd4868652e0cdc7": {
      "model_module": "@jupyter-widgets/controls",
      "model_module_version": "1.5.0",
      "model_name": "VBoxModel",
      "state": {
       "children": [
        "IPY_MODEL_153e342e0f494788b32a77715ec60331",
        "IPY_MODEL_b851168d117a49e2bf44a1ede95f8678"
       ],
       "layout": "IPY_MODEL_ac0d293a5129409badd643c3f2fb6c10"
      }
     },
     "8537f83804be4c6fac5ca3cbd14b1108": {
      "model_module": "@jupyter-widgets/controls",
      "model_module_version": "1.5.0",
      "model_name": "IntSliderModel",
      "state": {
       "continuous_update": false,
       "layout": "IPY_MODEL_f3aaaaa6e79e431b87a04d9d4baea430",
       "max": 50,
       "style": "IPY_MODEL_a4138d78059b44a4bfdbab8957f00980"
      }
     },
     "873dc270caf64d7db32901f6b1e90d80": {
      "model_module": "@jupyter-widgets/output",
      "model_module_version": "1.0.0",
      "model_name": "OutputModel",
      "state": {
       "layout": "IPY_MODEL_cdf450d7acdf43d89ee7dff5dec87ee3",
       "outputs": [
        {
         "data": {
          "image/png": "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\n",
          "text/plain": "<Figure size 1008x648 with 1 Axes>"
         },
         "metadata": {},
         "output_type": "display_data"
        }
       ]
      }
     },
     "883652d6048a46eb83cd6c1aa872db10": {
      "model_module": "@jupyter-widgets/controls",
      "model_module_version": "1.5.0",
      "model_name": "IntSliderModel",
      "state": {
       "continuous_update": false,
       "layout": "IPY_MODEL_bb3731bdac3a44cf8729e4a4064238b3",
       "max": 50,
       "min": 10,
       "style": "IPY_MODEL_b50f9780cff147c1b5cd58fc4d5e35fa",
       "value": 10
      }
     },
     "883cc24c270c4077b0c306fafe534d6a": {
      "model_module": "@jupyter-widgets/controls",
      "model_module_version": "1.5.0",
      "model_name": "DropdownModel",
      "state": {
       "_options_labels": [
        "Frequency",
        "Citation"
       ],
       "index": 0,
       "layout": "IPY_MODEL_d51f9c5374704cf78798825249f34500",
       "style": "IPY_MODEL_39f3bef4b4954fd5a2cc6944fee5b2d5"
      }
     },
     "8ae0f0c372e14c5a89057eba76cea357": {
      "model_module": "@jupyter-widgets/controls",
      "model_module_version": "1.5.0",
      "model_name": "LabelModel",
      "state": {
       "layout": "IPY_MODEL_a3b9de33dd284a9395ef99e0d665a315",
       "style": "IPY_MODEL_f44f4c02992249caa205f204881fc34b",
       "value": "By:"
      }
     },
     "8b344e63b6134f3b817e52d2c9488441": {
      "model_module": "@jupyter-widgets/controls",
      "model_module_version": "1.5.0",
      "model_name": "DescriptionStyleModel",
      "state": {
       "description_width": ""
      }
     },
     "8bd0ed0dbbab445db7b3b06c83e637f6": {
      "model_module": "@jupyter-widgets/controls",
      "model_module_version": "1.5.0",
      "model_name": "DescriptionStyleModel",
      "state": {
       "description_width": ""
      }
     },
     "8bf839f9e8824ef79b41fceb979c4513": {
      "model_module": "@jupyter-widgets/controls",
      "model_module_version": "1.5.0",
      "model_name": "DescriptionStyleModel",
      "state": {
       "description_width": ""
      }
     },
     "8e57f44fc5a949ca92a4c4cf084ba4a9": {
      "model_module": "@jupyter-widgets/controls",
      "model_module_version": "1.5.0",
      "model_name": "DescriptionStyleModel",
      "state": {
       "description_width": ""
      }
     },
     "8ea3cdf820174f08b326d2a8b1ecebf3": {
      "model_module": "@jupyter-widgets/controls",
      "model_module_version": "1.5.0",
      "model_name": "TabModel",
      "state": {
       "_titles": {
        "0": "Time analysis",
        "1": "Worldmap"
       },
       "children": [
        "IPY_MODEL_253ad27cae9d4ca68e452a19a91d018e",
        "IPY_MODEL_07e5566eb1154088b913ce6faa8cc45c"
       ],
       "layout": "IPY_MODEL_6e576f027c8a4a4fbea0feee4255a359"
      }
     },
     "91d5f10182354cce9bc976c81f087944": {
      "model_module": "@jupyter-widgets/output",
      "model_module_version": "1.0.0",
      "model_name": "OutputModel",
      "state": {
       "layout": "IPY_MODEL_6c0dd7d1d5144f84a22c03f16e8cc2ed",
       "outputs": [
        {
         "ename": "UnboundLocalError",
         "evalue": "local variable 'sort' referenced before assignment",
         "output_type": "error",
         "traceback": [
          "\u001b[0;31m---------------------------------------------------------------------------\u001b[0m",
          "\u001b[0;31mUnboundLocalError\u001b[0m                         Traceback (most recent call last)",
          "\u001b[0;32m/usr/local/lib/python3.6/dist-packages/ipywidgets/widgets/interaction.py\u001b[0m in \u001b[0;36mobserver\u001b[0;34m(change)\u001b[0m\n\u001b[1;32m     77\u001b[0m         \u001b[0;32mwith\u001b[0m \u001b[0mout\u001b[0m\u001b[0;34m:\u001b[0m\u001b[0;34m\u001b[0m\u001b[0;34m\u001b[0m\u001b[0m\n\u001b[1;32m     78\u001b[0m             \u001b[0mclear_output\u001b[0m\u001b[0;34m(\u001b[0m\u001b[0mwait\u001b[0m\u001b[0;34m=\u001b[0m\u001b[0;32mTrue\u001b[0m\u001b[0;34m)\u001b[0m\u001b[0;34m\u001b[0m\u001b[0;34m\u001b[0m\u001b[0m\n\u001b[0;32m---> 79\u001b[0;31m             \u001b[0mf\u001b[0m\u001b[0;34m(\u001b[0m\u001b[0;34m**\u001b[0m\u001b[0mkwargs\u001b[0m\u001b[0;34m)\u001b[0m\u001b[0;34m\u001b[0m\u001b[0;34m\u001b[0m\u001b[0m\n\u001b[0m\u001b[1;32m     80\u001b[0m             \u001b[0mshow_inline_matplotlib_plots\u001b[0m\u001b[0;34m(\u001b[0m\u001b[0;34m)\u001b[0m\u001b[0;34m\u001b[0m\u001b[0;34m\u001b[0m\u001b[0m\n\u001b[1;32m     81\u001b[0m     \u001b[0;32mfor\u001b[0m \u001b[0mk\u001b[0m\u001b[0;34m,\u001b[0m\u001b[0mw\u001b[0m \u001b[0;32min\u001b[0m \u001b[0mcontrols\u001b[0m\u001b[0;34m.\u001b[0m\u001b[0mitems\u001b[0m\u001b[0;34m(\u001b[0m\u001b[0;34m)\u001b[0m\u001b[0;34m:\u001b[0m\u001b[0;34m\u001b[0m\u001b[0;34m\u001b[0m\u001b[0m\n",
          "\u001b[0;32m<ipython-input-5-9f67de7233ba>\u001b[0m in \u001b[0;36mcompute\u001b[0;34m(column, by, min_value, cmap)\u001b[0m\n\u001b[1;32m      5\u001b[0m         \u001b[0;32mdef\u001b[0m \u001b[0mcompute\u001b[0m\u001b[0;34m(\u001b[0m\u001b[0mcolumn\u001b[0m\u001b[0;34m,\u001b[0m \u001b[0mby\u001b[0m\u001b[0;34m,\u001b[0m \u001b[0mmin_value\u001b[0m\u001b[0;34m,\u001b[0m \u001b[0mcmap\u001b[0m\u001b[0;34m)\u001b[0m\u001b[0;34m:\u001b[0m\u001b[0;34m\u001b[0m\u001b[0;34m\u001b[0m\u001b[0m\n\u001b[1;32m      6\u001b[0m             \u001b[0;31m#\u001b[0m\u001b[0;34m\u001b[0m\u001b[0;34m\u001b[0m\u001b[0;34m\u001b[0m\u001b[0m\n\u001b[0;32m----> 7\u001b[0;31m             \u001b[0msort\u001b[0m \u001b[0;34m=\u001b[0m \u001b[0msort\u001b[0m\u001b[0;34m.\u001b[0m\u001b[0mlower\u001b[0m\u001b[0;34m(\u001b[0m\u001b[0;34m)\u001b[0m\u001b[0;34m\u001b[0m\u001b[0;34m\u001b[0m\u001b[0m\n\u001b[0m\u001b[1;32m      8\u001b[0m             \u001b[0mascending\u001b[0m \u001b[0;34m=\u001b[0m \u001b[0;32mTrue\u001b[0m \u001b[0;32mif\u001b[0m \u001b[0mascending\u001b[0m \u001b[0;34m==\u001b[0m \u001b[0;34m'True'\u001b[0m \u001b[0;32melse\u001b[0m \u001b[0;32mFalse\u001b[0m\u001b[0;34m\u001b[0m\u001b[0;34m\u001b[0m\u001b[0m\n\u001b[1;32m      9\u001b[0m             \u001b[0;31m#\u001b[0m\u001b[0;34m\u001b[0m\u001b[0;34m\u001b[0m\u001b[0;34m\u001b[0m\u001b[0m\n",
          "\u001b[0;31mUnboundLocalError\u001b[0m: local variable 'sort' referenced before assignment"
         ]
        }
       ]
      }
     },
     "9204e7b6a41f42c58d5dc0deb27a9ae7": {
      "model_module": "@jupyter-widgets/base",
      "model_module_version": "1.2.0",
      "model_name": "LayoutModel",
      "state": {}
     },
     "92320f92313e4598a925361786f9970d": {
      "model_module": "@jupyter-widgets/controls",
      "model_module_version": "1.5.0",
      "model_name": "DescriptionStyleModel",
      "state": {
       "description_width": ""
      }
     },
     "96d7592104ce4af1855966f955f0b3e3": {
      "model_module": "@jupyter-widgets/base",
      "model_module_version": "1.2.0",
      "model_name": "LayoutModel",
      "state": {}
     },
     "993ef43904d0484586e7b0890b52c7ef": {
      "model_module": "@jupyter-widgets/base",
      "model_module_version": "1.2.0",
      "model_name": "LayoutModel",
      "state": {}
     },
     "9996db07829c45c59548ba9928a4a677": {
      "model_module": "@jupyter-widgets/controls",
      "model_module_version": "1.5.0",
      "model_name": "HBoxModel",
      "state": {
       "children": [
        "IPY_MODEL_0c8ab3806c934dc7aebc1677412feb4f",
        "IPY_MODEL_d2b212612fa649e5b057f8a3788a88f6"
       ],
       "layout": "IPY_MODEL_52a6fa0008dc4613bcd656ed4696d7d6"
      }
     },
     "9b2e07ba6d8b4f4c9073b3a3afdd6ad7": {
      "model_module": "@jupyter-widgets/base",
      "model_module_version": "1.2.0",
      "model_name": "LayoutModel",
      "state": {}
     },
     "9bb4d02ce64e41ca9f06bb66e325d64a": {
      "model_module": "@jupyter-widgets/base",
      "model_module_version": "1.2.0",
      "model_name": "LayoutModel",
      "state": {
       "width": "200px"
      }
     },
     "9bcc49c8dd6f49d59d91bb1eae6025cd": {
      "model_module": "@jupyter-widgets/base",
      "model_module_version": "1.2.0",
      "model_name": "LayoutModel",
      "state": {}
     },
     "9ed85ee2b681409eb8db69e1213f1e34": {
      "model_module": "@jupyter-widgets/controls",
      "model_module_version": "1.5.0",
      "model_name": "VBoxModel",
      "state": {
       "children": [
        "IPY_MODEL_09b961a4e9c04091be6578f674833e59",
        "IPY_MODEL_d3ec7cb3e9d64a1ea4cc0704e51475f7"
       ],
       "layout": "IPY_MODEL_720fa0ba7b464aca8f3f4e44db514599"
      }
     },
     "a1c11b074387428db258b2d5f0aeedb0": {
      "model_module": "@jupyter-widgets/base",
      "model_module_version": "1.2.0",
      "model_name": "LayoutModel",
      "state": {
       "width": "200px"
      }
     },
     "a3b9de33dd284a9395ef99e0d665a315": {
      "model_module": "@jupyter-widgets/base",
      "model_module_version": "1.2.0",
      "model_name": "LayoutModel",
      "state": {}
     },
     "a412426a8e3046808aa7d765d4407483": {
      "model_module": "@jupyter-widgets/controls",
      "model_module_version": "1.5.0",
      "model_name": "DescriptionStyleModel",
      "state": {
       "description_width": ""
      }
     },
     "a4138d78059b44a4bfdbab8957f00980": {
      "model_module": "@jupyter-widgets/controls",
      "model_module_version": "1.5.0",
      "model_name": "SliderStyleModel",
      "state": {
       "description_width": ""
      }
     },
     "a48c1e361eb2401d83c680eaace17aa6": {
      "model_module": "@jupyter-widgets/controls",
      "model_module_version": "1.5.0",
      "model_name": "SelectModel",
      "state": {
       "_options_labels": [
        "Author Keywords",
        "Authors",
        "Countries",
        "Country 1st",
        "Index Keywords",
        "Keywords",
        "Source title"
       ],
       "index": 0,
       "layout": "IPY_MODEL_05add9a61ed24372b27fbab55d582133",
       "style": "IPY_MODEL_92320f92313e4598a925361786f9970d"
      }
     },
     "a4aab1e04a494e8285eb9454966da9f5": {
      "model_module": "@jupyter-widgets/controls",
      "model_module_version": "1.5.0",
      "model_name": "VBoxModel",
      "state": {
       "children": [
        "IPY_MODEL_d3702aade50341f5a20d8210ead7cbce",
        "IPY_MODEL_424e96cc054342be882a8b8fa51dba7f"
       ],
       "layout": "IPY_MODEL_9204e7b6a41f42c58d5dc0deb27a9ae7"
      }
     },
     "a51a966f237f496cb3706cd7b54d27db": {
      "model_module": "@jupyter-widgets/controls",
      "model_module_version": "1.5.0",
      "model_name": "GridBoxModel",
      "state": {
       "children": [
        "IPY_MODEL_41caae6f890c4c18956a2b8651a0b375",
        "IPY_MODEL_e0524949ff9440dea73ddc0575a25b3a"
       ],
       "layout": "IPY_MODEL_832c0bcd0d1a469ea39537bf36742a62"
      }
     },
     "a647192217bf47d2903615aa17dc56bd": {
      "model_module": "@jupyter-widgets/base",
      "model_module_version": "1.2.0",
      "model_name": "LayoutModel",
      "state": {}
     },
     "a9416906de3f4deba6adfe883f6f11c8": {
      "model_module": "@jupyter-widgets/base",
      "model_module_version": "1.2.0",
      "model_name": "LayoutModel",
      "state": {}
     },
     "ac0d293a5129409badd643c3f2fb6c10": {
      "model_module": "@jupyter-widgets/base",
      "model_module_version": "1.2.0",
      "model_name": "LayoutModel",
      "state": {}
     },
     "aef366adf4084ac4bedb23b4b551464c": {
      "model_module": "@jupyter-widgets/controls",
      "model_module_version": "1.5.0",
      "model_name": "DescriptionStyleModel",
      "state": {
       "description_width": ""
      }
     },
     "b2ad2966c7fa4aeebbae13f167871a6c": {
      "model_module": "@jupyter-widgets/controls",
      "model_module_version": "1.5.0",
      "model_name": "HTMLModel",
      "state": {
       "layout": "IPY_MODEL_c450a3c450fb4983a32945eda6323b29",
       "style": "IPY_MODEL_8b344e63b6134f3b817e52d2c9488441",
       "value": "<h1>Summary by Term</h1><hr style='height:2px;border-width:0;color:gray;background-color:gray'>"
      }
     },
     "b3b266cc56334669bb6d2f47838b0ffc": {
      "model_module": "@jupyter-widgets/controls",
      "model_module_version": "1.5.0",
      "model_name": "DescriptionStyleModel",
      "state": {
       "description_width": ""
      }
     },
     "b3d437de0fc646a2a5c6a7f102e86ed5": {
      "model_module": "@jupyter-widgets/base",
      "model_module_version": "1.2.0",
      "model_name": "LayoutModel",
      "state": {
       "width": "870px"
      }
     },
     "b3dbe6d63a134a6eb158a4b030bcbd1f": {
      "model_module": "@jupyter-widgets/controls",
      "model_module_version": "1.5.0",
      "model_name": "DropdownModel",
      "state": {
       "_options_labels": [
        "bar",
        "barh",
        "pie"
       ],
       "index": 0,
       "layout": "IPY_MODEL_c09945b44a8d4935a8ede4270862a358",
       "style": "IPY_MODEL_65a5f1c8453946499ba173d20708691e"
      }
     },
     "b50f9780cff147c1b5cd58fc4d5e35fa": {
      "model_module": "@jupyter-widgets/controls",
      "model_module_version": "1.5.0",
      "model_name": "SliderStyleModel",
      "state": {
       "description_width": ""
      }
     },
     "b851168d117a49e2bf44a1ede95f8678": {
      "model_module": "@jupyter-widgets/controls",
      "model_module_version": "1.5.0",
      "model_name": "DropdownModel",
      "state": {
       "_options_labels": [
        "Frequency",
        "Citation"
       ],
       "index": 0,
       "layout": "IPY_MODEL_571bf0c06a0e416eaeb67bd87ed00837",
       "style": "IPY_MODEL_e5861e42f2e74b87af3e04112c9eeb11"
      }
     },
     "bacb1a0f159840318ce95ba6d3636d6a": {
      "model_module": "@jupyter-widgets/base",
      "model_module_version": "1.2.0",
      "model_name": "LayoutModel",
      "state": {}
     },
     "bb323fb8bbdd486aab821a52a80fc66b": {
      "model_module": "@jupyter-widgets/base",
      "model_module_version": "1.2.0",
      "model_name": "LayoutModel",
      "state": {}
     },
     "bb3731bdac3a44cf8729e4a4064238b3": {
      "model_module": "@jupyter-widgets/base",
      "model_module_version": "1.2.0",
      "model_name": "LayoutModel",
      "state": {
       "width": "200px"
      }
     },
     "bcbfa71f56dd48ea9abcb8f2542af142": {
      "model_module": "@jupyter-widgets/base",
      "model_module_version": "1.2.0",
      "model_name": "LayoutModel",
      "state": {
       "width": "870px"
      }
     },
     "be31ae6f513b4321ab54b689cd526974": {
      "model_module": "@jupyter-widgets/controls",
      "model_module_version": "1.5.0",
      "model_name": "GridBoxModel",
      "state": {
       "children": [
        "IPY_MODEL_b2ad2966c7fa4aeebbae13f167871a6c",
        "IPY_MODEL_8ea3cdf820174f08b326d2a8b1ecebf3"
       ],
       "layout": "IPY_MODEL_7ab880944271453c873e6035adc5484d"
      }
     },
     "c09945b44a8d4935a8ede4270862a358": {
      "model_module": "@jupyter-widgets/base",
      "model_module_version": "1.2.0",
      "model_name": "LayoutModel",
      "state": {
       "width": "200px"
      }
     },
     "c386d9e4ad1f4f2da3c47f150ef4d6c7": {
      "model_module": "@jupyter-widgets/base",
      "model_module_version": "1.2.0",
      "model_name": "LayoutModel",
      "state": {}
     },
     "c450a3c450fb4983a32945eda6323b29": {
      "model_module": "@jupyter-widgets/base",
      "model_module_version": "1.2.0",
      "model_name": "LayoutModel",
      "state": {
       "grid_area": "header"
      }
     },
     "c623d57d19174eedb2315b79c91ce663": {
      "model_module": "@jupyter-widgets/controls",
      "model_module_version": "1.5.0",
      "model_name": "DescriptionStyleModel",
      "state": {
       "description_width": ""
      }
     },
     "cdf450d7acdf43d89ee7dff5dec87ee3": {
      "model_module": "@jupyter-widgets/base",
      "model_module_version": "1.2.0",
      "model_name": "LayoutModel",
      "state": {}
     },
     "ce3f99f19fc341eeaeb05d758511e187": {
      "model_module": "@jupyter-widgets/output",
      "model_module_version": "1.0.0",
      "model_name": "OutputModel",
      "state": {
       "layout": "IPY_MODEL_43e236ebb5914acf8b89b7722924c64a",
       "outputs": [
        {
         "data": {
          "text/html": "<style  type=\"text/css\" >\n    #T_572449c2_a541_11ea_94f6_0242ac110002row0_col0 {\n            background-color:  #000000;\n            color:  #f1f1f1;\n        }    #T_572449c2_a541_11ea_94f6_0242ac110002row0_col1 {\n            background-color:  #f9f9f9;\n            color:  #000000;\n        }    #T_572449c2_a541_11ea_94f6_0242ac110002row0_col2 {\n            background-color:  #f3f3f3;\n            color:  #000000;\n        }    #T_572449c2_a541_11ea_94f6_0242ac110002row0_col3 {\n            background-color:  #f9f9f9;\n            color:  #000000;\n        }    #T_572449c2_a541_11ea_94f6_0242ac110002row0_col4 {\n            background-color:  #fcfcfc;\n            color:  #000000;\n        }    #T_572449c2_a541_11ea_94f6_0242ac110002row0_col5 {\n            background-color:  #ffffff;\n            color:  #000000;\n        }    #T_572449c2_a541_11ea_94f6_0242ac110002row0_col6 {\n            background-color:  #ffffff;\n            color:  #000000;\n        }    #T_572449c2_a541_11ea_94f6_0242ac110002row1_col0 {\n            background-color:  #f8f8f8;\n            color:  #000000;\n        }    #T_572449c2_a541_11ea_94f6_0242ac110002row1_col1 {\n            background-color:  #000000;\n            color:  #f1f1f1;\n        }    #T_572449c2_a541_11ea_94f6_0242ac110002row1_col2 {\n            background-color:  #f8f8f8;\n            color:  #000000;\n        }    #T_572449c2_a541_11ea_94f6_0242ac110002row1_col3 {\n            background-color:  #f3f3f3;\n            color:  #000000;\n        }    #T_572449c2_a541_11ea_94f6_0242ac110002row1_col4 {\n            background-color:  #f7f7f7;\n            color:  #000000;\n        }    #T_572449c2_a541_11ea_94f6_0242ac110002row1_col5 {\n            background-color:  #ffffff;\n            color:  #000000;\n        }    #T_572449c2_a541_11ea_94f6_0242ac110002row1_col6 {\n            background-color:  #ffffff;\n            color:  #000000;\n        }    #T_572449c2_a541_11ea_94f6_0242ac110002row2_col0 {\n            background-color:  #b9b9b9;\n            color:  #000000;\n        }    #T_572449c2_a541_11ea_94f6_0242ac110002row2_col1 {\n            background-color:  #e4e4e4;\n            color:  #000000;\n        }    #T_572449c2_a541_11ea_94f6_0242ac110002row2_col2 {\n            background-color:  #000000;\n            color:  #f1f1f1;\n        }    #T_572449c2_a541_11ea_94f6_0242ac110002row2_col3 {\n            background-color:  #eeeeee;\n            color:  #000000;\n        }    #T_572449c2_a541_11ea_94f6_0242ac110002row2_col4 {\n            background-color:  #ededed;\n            color:  #000000;\n        }    #T_572449c2_a541_11ea_94f6_0242ac110002row2_col5 {\n            background-color:  #ffffff;\n            color:  #000000;\n        }    #T_572449c2_a541_11ea_94f6_0242ac110002row2_col6 {\n            background-color:  #fafafa;\n            color:  #000000;\n        }    #T_572449c2_a541_11ea_94f6_0242ac110002row3_col0 {\n            background-color:  #e9e9e9;\n            color:  #000000;\n        }    #T_572449c2_a541_11ea_94f6_0242ac110002row3_col1 {\n            background-color:  #d1d1d1;\n            color:  #000000;\n        }    #T_572449c2_a541_11ea_94f6_0242ac110002row3_col2 {\n            background-color:  #f1f1f1;\n            color:  #000000;\n        }    #T_572449c2_a541_11ea_94f6_0242ac110002row3_col3 {\n            background-color:  #000000;\n            color:  #f1f1f1;\n        }    #T_572449c2_a541_11ea_94f6_0242ac110002row3_col4 {\n            background-color:  #fcfcfc;\n            color:  #000000;\n        }    #T_572449c2_a541_11ea_94f6_0242ac110002row3_col5 {\n            background-color:  #ffffff;\n            color:  #000000;\n        }    #T_572449c2_a541_11ea_94f6_0242ac110002row3_col6 {\n            background-color:  #ffffff;\n            color:  #000000;\n        }    #T_572449c2_a541_11ea_94f6_0242ac110002row4_col0 {\n            background-color:  #f8f8f8;\n            color:  #000000;\n        }    #T_572449c2_a541_11ea_94f6_0242ac110002row4_col1 {\n            background-color:  #ededed;\n            color:  #000000;\n        }    #T_572449c2_a541_11ea_94f6_0242ac110002row4_col2 {\n            background-color:  #f5f5f5;\n            color:  #000000;\n        }    #T_572449c2_a541_11ea_94f6_0242ac110002row4_col3 {\n            background-color:  #fdfdfd;\n            color:  #000000;\n        }    #T_572449c2_a541_11ea_94f6_0242ac110002row4_col4 {\n            background-color:  #000000;\n            color:  #f1f1f1;\n        }    #T_572449c2_a541_11ea_94f6_0242ac110002row4_col5 {\n            background-color:  #ffffff;\n            color:  #000000;\n        }    #T_572449c2_a541_11ea_94f6_0242ac110002row4_col6 {\n            background-color:  #ffffff;\n            color:  #000000;\n        }    #T_572449c2_a541_11ea_94f6_0242ac110002row5_col0 {\n            background-color:  #ffffff;\n            color:  #000000;\n        }    #T_572449c2_a541_11ea_94f6_0242ac110002row5_col1 {\n            background-color:  #ffffff;\n            color:  #000000;\n        }    #T_572449c2_a541_11ea_94f6_0242ac110002row5_col2 {\n            background-color:  #ffffff;\n            color:  #000000;\n        }    #T_572449c2_a541_11ea_94f6_0242ac110002row5_col3 {\n            background-color:  #ffffff;\n            color:  #000000;\n        }    #T_572449c2_a541_11ea_94f6_0242ac110002row5_col4 {\n            background-color:  #ffffff;\n            color:  #000000;\n        }    #T_572449c2_a541_11ea_94f6_0242ac110002row5_col5 {\n            background-color:  #000000;\n            color:  #f1f1f1;\n        }    #T_572449c2_a541_11ea_94f6_0242ac110002row5_col6 {\n            background-color:  #e2e2e2;\n            color:  #000000;\n        }    #T_572449c2_a541_11ea_94f6_0242ac110002row6_col0 {\n            background-color:  #ffffff;\n            color:  #000000;\n        }    #T_572449c2_a541_11ea_94f6_0242ac110002row6_col1 {\n            background-color:  #ffffff;\n            color:  #000000;\n        }    #T_572449c2_a541_11ea_94f6_0242ac110002row6_col2 {\n            background-color:  #fefefe;\n            color:  #000000;\n        }    #T_572449c2_a541_11ea_94f6_0242ac110002row6_col3 {\n            background-color:  #ffffff;\n            color:  #000000;\n        }    #T_572449c2_a541_11ea_94f6_0242ac110002row6_col4 {\n            background-color:  #ffffff;\n            color:  #000000;\n        }    #T_572449c2_a541_11ea_94f6_0242ac110002row6_col5 {\n            background-color:  #d6d6d6;\n            color:  #000000;\n        }    #T_572449c2_a541_11ea_94f6_0242ac110002row6_col6 {\n            background-color:  #000000;\n            color:  #f1f1f1;\n        }</style><table id=\"T_572449c2_a541_11ea_94f6_0242ac110002\" ><thead>    <tr>        <th class=\"blank level0\" ></th>        <th class=\"col_heading level0 col0\" >Food security</th>        <th class=\"col_heading level0 col1\" >Sustainability</th>        <th class=\"col_heading level0 col2\" >Urban agriculture</th>        <th class=\"col_heading level0 col3\" >Urban farming</th>        <th class=\"col_heading level0 col4\" >Urban gardening</th>        <th class=\"col_heading level0 col5\" >urban agriculture</th>        <th class=\"col_heading level0 col6\" >urban farming</th>    </tr></thead><tbody>\n                <tr>\n                        <th id=\"T_572449c2_a541_11ea_94f6_0242ac110002level0_row0\" class=\"row_heading level0 row0\" >Food security</th>\n                        <td id=\"T_572449c2_a541_11ea_94f6_0242ac110002row0_col0\" class=\"data row0 col0\" >18</td>\n                        <td id=\"T_572449c2_a541_11ea_94f6_0242ac110002row0_col1\" class=\"data row0 col1\" >1</td>\n                        <td id=\"T_572449c2_a541_11ea_94f6_0242ac110002row0_col2\" class=\"data row0 col2\" >7</td>\n                        <td id=\"T_572449c2_a541_11ea_94f6_0242ac110002row0_col3\" class=\"data row0 col3\" >3</td>\n                        <td id=\"T_572449c2_a541_11ea_94f6_0242ac110002row0_col4\" class=\"data row0 col4\" >1</td>\n                        <td id=\"T_572449c2_a541_11ea_94f6_0242ac110002row0_col5\" class=\"data row0 col5\" >0</td>\n                        <td id=\"T_572449c2_a541_11ea_94f6_0242ac110002row0_col6\" class=\"data row0 col6\" >0</td>\n            </tr>\n            <tr>\n                        <th id=\"T_572449c2_a541_11ea_94f6_0242ac110002level0_row1\" class=\"row_heading level0 row1\" >Sustainability</th>\n                        <td id=\"T_572449c2_a541_11ea_94f6_0242ac110002row1_col0\" class=\"data row1 col0\" >1</td>\n                        <td id=\"T_572449c2_a541_11ea_94f6_0242ac110002row1_col1\" class=\"data row1 col1\" >21</td>\n                        <td id=\"T_572449c2_a541_11ea_94f6_0242ac110002row1_col2\" class=\"data row1 col2\" >4</td>\n                        <td id=\"T_572449c2_a541_11ea_94f6_0242ac110002row1_col3\" class=\"data row1 col3\" >6</td>\n                        <td id=\"T_572449c2_a541_11ea_94f6_0242ac110002row1_col4\" class=\"data row1 col4\" >3</td>\n                        <td id=\"T_572449c2_a541_11ea_94f6_0242ac110002row1_col5\" class=\"data row1 col5\" >0</td>\n                        <td id=\"T_572449c2_a541_11ea_94f6_0242ac110002row1_col6\" class=\"data row1 col6\" >0</td>\n            </tr>\n            <tr>\n                        <th id=\"T_572449c2_a541_11ea_94f6_0242ac110002level0_row2\" class=\"row_heading level0 row2\" >Urban agriculture</th>\n                        <td id=\"T_572449c2_a541_11ea_94f6_0242ac110002row2_col0\" class=\"data row2 col0\" >7</td>\n                        <td id=\"T_572449c2_a541_11ea_94f6_0242ac110002row2_col1\" class=\"data row2 col1\" >4</td>\n                        <td id=\"T_572449c2_a541_11ea_94f6_0242ac110002row2_col2\" class=\"data row2 col2\" >68</td>\n                        <td id=\"T_572449c2_a541_11ea_94f6_0242ac110002row2_col3\" class=\"data row2 col3\" >8</td>\n                        <td id=\"T_572449c2_a541_11ea_94f6_0242ac110002row2_col4\" class=\"data row2 col4\" >6</td>\n                        <td id=\"T_572449c2_a541_11ea_94f6_0242ac110002row2_col5\" class=\"data row2 col5\" >0</td>\n                        <td id=\"T_572449c2_a541_11ea_94f6_0242ac110002row2_col6\" class=\"data row2 col6\" >1</td>\n            </tr>\n            <tr>\n                        <th id=\"T_572449c2_a541_11ea_94f6_0242ac110002level0_row3\" class=\"row_heading level0 row3\" >Urban farming</th>\n                        <td id=\"T_572449c2_a541_11ea_94f6_0242ac110002row3_col0\" class=\"data row3 col0\" >3</td>\n                        <td id=\"T_572449c2_a541_11ea_94f6_0242ac110002row3_col1\" class=\"data row3 col1\" >6</td>\n                        <td id=\"T_572449c2_a541_11ea_94f6_0242ac110002row3_col2\" class=\"data row3 col2\" >8</td>\n                        <td id=\"T_572449c2_a541_11ea_94f6_0242ac110002row3_col3\" class=\"data row3 col3\" >59</td>\n                        <td id=\"T_572449c2_a541_11ea_94f6_0242ac110002row3_col4\" class=\"data row3 col4\" >1</td>\n                        <td id=\"T_572449c2_a541_11ea_94f6_0242ac110002row3_col5\" class=\"data row3 col5\" >0</td>\n                        <td id=\"T_572449c2_a541_11ea_94f6_0242ac110002row3_col6\" class=\"data row3 col6\" >0</td>\n            </tr>\n            <tr>\n                        <th id=\"T_572449c2_a541_11ea_94f6_0242ac110002level0_row4\" class=\"row_heading level0 row4\" >Urban gardening</th>\n                        <td id=\"T_572449c2_a541_11ea_94f6_0242ac110002row4_col0\" class=\"data row4 col0\" >1</td>\n                        <td id=\"T_572449c2_a541_11ea_94f6_0242ac110002row4_col1\" class=\"data row4 col1\" >3</td>\n                        <td id=\"T_572449c2_a541_11ea_94f6_0242ac110002row4_col2\" class=\"data row4 col2\" >6</td>\n                        <td id=\"T_572449c2_a541_11ea_94f6_0242ac110002row4_col3\" class=\"data row4 col3\" >1</td>\n                        <td id=\"T_572449c2_a541_11ea_94f6_0242ac110002row4_col4\" class=\"data row4 col4\" >42</td>\n                        <td id=\"T_572449c2_a541_11ea_94f6_0242ac110002row4_col5\" class=\"data row4 col5\" >0</td>\n                        <td id=\"T_572449c2_a541_11ea_94f6_0242ac110002row4_col6\" class=\"data row4 col6\" >0</td>\n            </tr>\n            <tr>\n                        <th id=\"T_572449c2_a541_11ea_94f6_0242ac110002level0_row5\" class=\"row_heading level0 row5\" >urban agriculture</th>\n                        <td id=\"T_572449c2_a541_11ea_94f6_0242ac110002row5_col0\" class=\"data row5 col0\" >0</td>\n                        <td id=\"T_572449c2_a541_11ea_94f6_0242ac110002row5_col1\" class=\"data row5 col1\" >0</td>\n                        <td id=\"T_572449c2_a541_11ea_94f6_0242ac110002row5_col2\" class=\"data row5 col2\" >0</td>\n                        <td id=\"T_572449c2_a541_11ea_94f6_0242ac110002row5_col3\" class=\"data row5 col3\" >0</td>\n                        <td id=\"T_572449c2_a541_11ea_94f6_0242ac110002row5_col4\" class=\"data row5 col4\" >0</td>\n                        <td id=\"T_572449c2_a541_11ea_94f6_0242ac110002row5_col5\" class=\"data row5 col5\" >19</td>\n                        <td id=\"T_572449c2_a541_11ea_94f6_0242ac110002row5_col6\" class=\"data row5 col6\" >5</td>\n            </tr>\n            <tr>\n                        <th id=\"T_572449c2_a541_11ea_94f6_0242ac110002level0_row6\" class=\"row_heading level0 row6\" >urban farming</th>\n                        <td id=\"T_572449c2_a541_11ea_94f6_0242ac110002row6_col0\" class=\"data row6 col0\" >0</td>\n                        <td id=\"T_572449c2_a541_11ea_94f6_0242ac110002row6_col1\" class=\"data row6 col1\" >0</td>\n                        <td id=\"T_572449c2_a541_11ea_94f6_0242ac110002row6_col2\" class=\"data row6 col2\" >1</td>\n                        <td id=\"T_572449c2_a541_11ea_94f6_0242ac110002row6_col3\" class=\"data row6 col3\" >0</td>\n                        <td id=\"T_572449c2_a541_11ea_94f6_0242ac110002row6_col4\" class=\"data row6 col4\" >0</td>\n                        <td id=\"T_572449c2_a541_11ea_94f6_0242ac110002row6_col5\" class=\"data row6 col5\" >5</td>\n                        <td id=\"T_572449c2_a541_11ea_94f6_0242ac110002row6_col6\" class=\"data row6 col6\" >25</td>\n            </tr>\n    </tbody></table>",
          "text/plain": "<pandas.io.formats.style.Styler at 0x7f65494e00b8>"
         },
         "metadata": {},
         "output_type": "display_data"
        }
       ]
      }
     },
     "d2b212612fa649e5b057f8a3788a88f6": {
      "model_module": "@jupyter-widgets/controls",
      "model_module_version": "1.5.0",
      "model_name": "VBoxModel",
      "state": {
       "children": [
        "IPY_MODEL_ce3f99f19fc341eeaeb05d758511e187"
       ],
       "layout": "IPY_MODEL_b3d437de0fc646a2a5c6a7f102e86ed5"
      }
     },
     "d3702aade50341f5a20d8210ead7cbce": {
      "model_module": "@jupyter-widgets/controls",
      "model_module_version": "1.5.0",
      "model_name": "LabelModel",
      "state": {
       "layout": "IPY_MODEL_c386d9e4ad1f4f2da3c47f150ef4d6c7",
       "style": "IPY_MODEL_8bf839f9e8824ef79b41fceb979c4513",
       "value": "Term to analyze:"
      }
     },
     "d3ec7cb3e9d64a1ea4cc0704e51475f7": {
      "model_module": "@jupyter-widgets/controls",
      "model_module_version": "1.5.0",
      "model_name": "SelectModel",
      "state": {
       "_options_labels": [
        "Author Keywords",
        "Authors",
        "Countries",
        "Country 1st",
        "Index Keywords",
        "Keywords",
        "Source title"
       ],
       "index": 0,
       "layout": "IPY_MODEL_a1c11b074387428db258b2d5f0aeedb0",
       "style": "IPY_MODEL_eddc522f40064389be1799625e0bb196"
      }
     },
     "d51f9c5374704cf78798825249f34500": {
      "model_module": "@jupyter-widgets/base",
      "model_module_version": "1.2.0",
      "model_name": "LayoutModel",
      "state": {
       "width": "200px"
      }
     },
     "d654311d152c4561bb2daaf7daa91743": {
      "model_module": "@jupyter-widgets/controls",
      "model_module_version": "1.5.0",
      "model_name": "VBoxModel",
      "state": {
       "children": [
        "IPY_MODEL_1efbf2dc2ac34923b28e45ddfcc7eb63"
       ],
       "layout": "IPY_MODEL_4766b2b3e0aa4289b4d21efbf93716e4"
      }
     },
     "db1f7318e7c943d3a49df7d885ba8a7d": {
      "model_module": "@jupyter-widgets/controls",
      "model_module_version": "1.5.0",
      "model_name": "VBoxModel",
      "state": {
       "children": [
        "IPY_MODEL_77d7077434824d9b9d69be78142adca5",
        "IPY_MODEL_4383c6345387416dbae8b6b518197f11"
       ],
       "layout": "IPY_MODEL_a647192217bf47d2903615aa17dc56bd"
      }
     },
     "dc4f092033cb4e5c92ed77a9a9b7fc0a": {
      "model_module": "@jupyter-widgets/controls",
      "model_module_version": "1.5.0",
      "model_name": "DescriptionStyleModel",
      "state": {
       "description_width": ""
      }
     },
     "dc77059a8c4242d6bab3ce638efd31fd": {
      "model_module": "@jupyter-widgets/controls",
      "model_module_version": "1.5.0",
      "model_name": "VBoxModel",
      "state": {
       "children": [
        "IPY_MODEL_e72143b7dc234c0fbb6dbb2b3bc71430",
        "IPY_MODEL_310c3243ca384f75b00f8e92526a4704",
        "IPY_MODEL_3eb46d8768064b82808afe9790a56420",
        "IPY_MODEL_15dcab76fe3b4d36bb5dc1bc840142f1"
       ],
       "layout": "IPY_MODEL_634f0e31b01c4d86bb5a6ee467491abc"
      }
     },
     "e0524949ff9440dea73ddc0575a25b3a": {
      "model_module": "@jupyter-widgets/controls",
      "model_module_version": "1.5.0",
      "model_name": "TabModel",
      "state": {
       "_titles": {
        "0": "Matrix"
       },
       "children": [
        "IPY_MODEL_9996db07829c45c59548ba9928a4a677"
       ],
       "layout": "IPY_MODEL_4fad00d69e48411fa4e72a5514c8b4d7"
      }
     },
     "e4f1408e5b3d485f89de03ea70662032": {
      "model_module": "@jupyter-widgets/controls",
      "model_module_version": "1.5.0",
      "model_name": "DescriptionStyleModel",
      "state": {
       "description_width": ""
      }
     },
     "e5861e42f2e74b87af3e04112c9eeb11": {
      "model_module": "@jupyter-widgets/controls",
      "model_module_version": "1.5.0",
      "model_name": "DescriptionStyleModel",
      "state": {
       "description_width": ""
      }
     },
     "e5c851c894064a60aa5f746b794b5b93": {
      "model_module": "@jupyter-widgets/base",
      "model_module_version": "1.2.0",
      "model_name": "LayoutModel",
      "state": {}
     },
     "e6494600aca24b3397636c66c187ad80": {
      "model_module": "@jupyter-widgets/controls",
      "model_module_version": "1.5.0",
      "model_name": "DescriptionStyleModel",
      "state": {
       "description_width": ""
      }
     },
     "e67fea03c1534ecd8c2500422b5cbd66": {
      "model_module": "@jupyter-widgets/base",
      "model_module_version": "1.2.0",
      "model_name": "LayoutModel",
      "state": {
       "width": "200px"
      }
     },
     "e72143b7dc234c0fbb6dbb2b3bc71430": {
      "model_module": "@jupyter-widgets/controls",
      "model_module_version": "1.5.0",
      "model_name": "VBoxModel",
      "state": {
       "children": [
        "IPY_MODEL_6db1eb2064094dc09e409dadcf94017f",
        "IPY_MODEL_542f37b9993d447381a4ddaa623c6f57"
       ],
       "layout": "IPY_MODEL_1b540f84b29e4a6f8ba5c60945d44c3a"
      }
     },
     "e8ab0592b97844d0b01f3c83ab7b0acd": {
      "model_module": "@jupyter-widgets/base",
      "model_module_version": "1.2.0",
      "model_name": "LayoutModel",
      "state": {
       "width": "200px"
      }
     },
     "ea10b7c5debc4186ad01cb0317c59c45": {
      "model_module": "@jupyter-widgets/controls",
      "model_module_version": "1.5.0",
      "model_name": "VBoxModel",
      "state": {
       "children": [
        "IPY_MODEL_84c0e3c73df44b64a5d462c3016acb75",
        "IPY_MODEL_fa65c8020d5b442c9b9d24a5334869d5",
        "IPY_MODEL_734274b854754bb784d9d2a0ddd7f446",
        "IPY_MODEL_6ae6f984d11742e1b045d1399ade7dad",
        "IPY_MODEL_6cea00cdc87449a5bf3690301532ad28"
       ],
       "layout": "IPY_MODEL_14f54821a801417bb0758a1499e663a9"
      }
     },
     "ea4a3e400c3944a3930b2e9557c3cf02": {
      "model_module": "@jupyter-widgets/base",
      "model_module_version": "1.2.0",
      "model_name": "LayoutModel",
      "state": {
       "grid_area": "header"
      }
     },
     "ed710c8edbdc4cacb1edd54b558417d4": {
      "model_module": "@jupyter-widgets/controls",
      "model_module_version": "1.5.0",
      "model_name": "DropdownModel",
      "state": {
       "_options_labels": [
        "Greys",
        "Purples",
        "Blues",
        "Greens",
        "Oranges",
        "Reds",
        "YlOrBr",
        "YlOrRd",
        "OrRd",
        "PuRd",
        "RdPu",
        "BuPu",
        "GnBu",
        "PuBu",
        "YlGnBu",
        "PuBuGn",
        "BuGn",
        "YlGn",
        "Pastel1",
        "Pastel2",
        "Paired",
        "Accent",
        "Dark2",
        "Set1",
        "Set2",
        "Set3",
        "tab10",
        "tab20",
        "tab20b",
        "tab20c"
       ],
       "index": 0,
       "layout": "IPY_MODEL_e8ab0592b97844d0b01f3c83ab7b0acd",
       "style": "IPY_MODEL_c623d57d19174eedb2315b79c91ce663"
      }
     },
     "eddc522f40064389be1799625e0bb196": {
      "model_module": "@jupyter-widgets/controls",
      "model_module_version": "1.5.0",
      "model_name": "DescriptionStyleModel",
      "state": {
       "description_width": ""
      }
     },
     "ee0c990704ce4e568df4c39f2f4cef9b": {
      "model_module": "@jupyter-widgets/controls",
      "model_module_version": "1.5.0",
      "model_name": "DescriptionStyleModel",
      "state": {
       "description_width": ""
      }
     },
     "f3aaaaa6e79e431b87a04d9d4baea430": {
      "model_module": "@jupyter-widgets/base",
      "model_module_version": "1.2.0",
      "model_name": "LayoutModel",
      "state": {
       "width": "200px"
      }
     },
     "f41db0cd82c346b580e3de69dba358fb": {
      "model_module": "@jupyter-widgets/base",
      "model_module_version": "1.2.0",
      "model_name": "LayoutModel",
      "state": {
       "width": "200px"
      }
     },
     "f44f4c02992249caa205f204881fc34b": {
      "model_module": "@jupyter-widgets/controls",
      "model_module_version": "1.5.0",
      "model_name": "DescriptionStyleModel",
      "state": {
       "description_width": ""
      }
     },
     "f7a1dd52273f4bc0829ed8e9bc088642": {
      "model_module": "@jupyter-widgets/controls",
      "model_module_version": "1.5.0",
      "model_name": "VBoxModel",
      "state": {
       "children": [
        "IPY_MODEL_a4aab1e04a494e8285eb9454966da9f5",
        "IPY_MODEL_8502c3d6fca044c58bd4868652e0cdc7",
        "IPY_MODEL_db1f7318e7c943d3a49df7d885ba8a7d"
       ],
       "layout": "IPY_MODEL_2b8dce8876134678a2573fe7a0ef311a"
      }
     },
     "f9d6eb3291d34649a012ce11d216c17b": {
      "model_module": "@jupyter-widgets/controls",
      "model_module_version": "1.5.0",
      "model_name": "LabelModel",
      "state": {
       "layout": "IPY_MODEL_0994835bd19b449bbd419cb6122cde6b",
       "style": "IPY_MODEL_aef366adf4084ac4bedb23b4b551464c",
       "value": "Min value:"
      }
     },
     "fa65c8020d5b442c9b9d24a5334869d5": {
      "model_module": "@jupyter-widgets/controls",
      "model_module_version": "1.5.0",
      "model_name": "VBoxModel",
      "state": {
       "children": [
        "IPY_MODEL_7133ac1149f54442b405185604671eb3",
        "IPY_MODEL_883cc24c270c4077b0c306fafe534d6a"
       ],
       "layout": "IPY_MODEL_02f02e768a154f909fcbe60ddc0407aa"
      }
     },
     "fb8b766206984b6086aba9db54958ccf": {
      "model_module": "@jupyter-widgets/controls",
      "model_module_version": "1.5.0",
      "model_name": "VBoxModel",
      "state": {
       "children": [
        "IPY_MODEL_611eaab6e95749eb8b603abc97cb0340"
       ],
       "layout": "IPY_MODEL_bcbfa71f56dd48ea9abcb8f2542af142"
      }
     },
     "fd826cb9035f4bc885534b8ce2ac8e0a": {
      "model_module": "@jupyter-widgets/base",
      "model_module_version": "1.2.0",
      "model_name": "LayoutModel",
      "state": {}
     },
     "ffec9985056742a68af0c9e6841cfb21": {
      "model_module": "@jupyter-widgets/base",
      "model_module_version": "1.2.0",
      "model_name": "LayoutModel",
      "state": {}
     }
    },
    "version_major": 2,
    "version_minor": 0
   }
  }
 },
 "nbformat": 4,
 "nbformat_minor": 4
}
