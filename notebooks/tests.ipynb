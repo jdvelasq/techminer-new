{
 "cells": [
  {
   "cell_type": "code",
   "execution_count": 131,
   "metadata": {},
   "outputs": [
    {
     "name": "stderr",
     "output_type": "stream",
     "text": [
      "100%|██████████| 8/8 [00:12<00:00,  1.54s/it]\n"
     ]
    }
   ],
   "source": [
    "import pandas as pd\n",
    "\n",
    "# import techminer.jupyter as jpl\n",
    "from techminer.analytics import load_scopus\n",
    "\n",
    "filepath = \"../data/papers/urban-agriculture.csv\"\n",
    "df = pd.read_csv(filepath)\n",
    "df = load_scopus(df)\n",
    "\n",
    "# df = load_scopus(df)\n",
    "# df.info()\n",
    "# df = df.applymap(lambda x: None if pd.isna(x) is True else x)\n",
    "# df = DataFrame(df).generate_ID()"
   ]
  },
  {
   "cell_type": "code",
   "execution_count": null,
   "metadata": {},
   "outputs": [],
   "source": []
  },
  {
   "cell_type": "code",
   "execution_count": null,
   "metadata": {},
   "outputs": [],
   "source": []
  },
  {
   "cell_type": "code",
   "execution_count": 135,
   "metadata": {},
   "outputs": [],
   "source": [
    "import ipywidgets as widgets\n",
    "from ipywidgets import Layout\n",
    "\n",
    "import techminer.analytics as tc\n",
    "import techminer.plots as plt\n",
    "\n",
    "# import matplotlib.pyplot as plt"
   ]
  },
  {
   "cell_type": "code",
   "execution_count": 136,
   "metadata": {},
   "outputs": [],
   "source": [
    "COLORMAPS = [\n",
    "    \"Greys\",\n",
    "    \"Purples\",\n",
    "    \"Blues\",\n",
    "    \"Greens\",\n",
    "    \"Oranges\",\n",
    "    \"Reds\",\n",
    "    \"YlOrBr\",\n",
    "    \"YlOrRd\",\n",
    "    \"OrRd\",\n",
    "    \"PuRd\",\n",
    "    \"RdPu\",\n",
    "    \"BuPu\",\n",
    "    \"GnBu\",\n",
    "    \"PuBu\",\n",
    "    \"YlGnBu\",\n",
    "    \"PuBuGn\",\n",
    "    \"BuGn\",\n",
    "    \"YlGn\",\n",
    "    \"Pastel1\",\n",
    "    \"Pastel2\",\n",
    "    \"Paired\",\n",
    "    \"Accent\",\n",
    "    \"Dark2\",\n",
    "    \"Set1\",\n",
    "    \"Set2\",\n",
    "    \"Set3\",\n",
    "    \"tab10\",\n",
    "    \"tab20\",\n",
    "    \"tab20b\",\n",
    "    \"tab20c\",\n",
    "]"
   ]
  },
  {
   "cell_type": "code",
   "execution_count": 137,
   "metadata": {},
   "outputs": [],
   "source": [
    "def menu_descriptive_stats(x):\n",
    "    return widgets.Text(\"TO-DO\")"
   ]
  },
  {
   "cell_type": "code",
   "execution_count": 139,
   "metadata": {},
   "outputs": [],
   "source": [
    "def menu_analysis_by_term_per_year(x):\n",
    "    return widgets.Text(\"TO-DO\")"
   ]
  },
  {
   "cell_type": "code",
   "execution_count": 140,
   "metadata": {},
   "outputs": [],
   "source": [
    "def menu_analysis_by_term_per_term_per_year(x):\n",
    "    return widgets.Text(\"TO-DO\")"
   ]
  },
  {
   "cell_type": "code",
   "execution_count": 141,
   "metadata": {},
   "outputs": [],
   "source": [
    "def menu_occurrence(x):\n",
    "    return widgets.Text(\"TO-DO\")"
   ]
  },
  {
   "cell_type": "code",
   "execution_count": 142,
   "metadata": {},
   "outputs": [],
   "source": [
    "def menu_co_occurrence(x):\n",
    "    return widgets.Text(\"TO-DO\")"
   ]
  },
  {
   "cell_type": "code",
   "execution_count": 143,
   "metadata": {},
   "outputs": [],
   "source": [
    "def menu_autocorrelation(x):\n",
    "    return widgets.Text(\"TO-DO\")"
   ]
  },
  {
   "cell_type": "code",
   "execution_count": 144,
   "metadata": {},
   "outputs": [],
   "source": [
    "def menu_correlation(x):\n",
    "    return widgets.Text(\"TO-DO\")"
   ]
  },
  {
   "cell_type": "code",
   "execution_count": 145,
   "metadata": {},
   "outputs": [],
   "source": [
    "def menu_factor_analysis(x):\n",
    "    return widgets.Text(\"TO-DO\")"
   ]
  },
  {
   "cell_type": "code",
   "execution_count": 168,
   "metadata": {},
   "outputs": [],
   "source": [
    "def menu_analysis_by_year(x):\n",
    "    def compute(selected, plot_type, cmap):\n",
    "        df = tc.summary_by_year(x)\n",
    "        df = df[data[selected]]\n",
    "        plot = plots[plot_type]\n",
    "        output.clear_output()\n",
    "        with output:\n",
    "            display(plot(df, cmap=cmap))\n",
    "    #\n",
    "    # Options\n",
    "    #\n",
    "    data = {\n",
    "        \"Documents by Year\": [\"Year\", \"Num Documents\"],\n",
    "        \"Cum. Documents by Year\": [\"Year\", \"Num Documents (Cum)\"],\n",
    "        \"Times Cited by Year\": [\"Year\", \"Times Cited\"],\n",
    "        \"Cum. Times Cited by Year\": [\"Year\", \"Times Cited (Cum)\"],\n",
    "        \"Avg. Times Cited by Year\": [\"Year\", \"Avg. Times Cited\"],\n",
    "    }\n",
    "    plots = {'bar': plt.bar, \"barh\": plt.bar}\n",
    "    #\n",
    "    selected = widgets.Dropdown(\n",
    "        options=list(data.keys()), value=list(data.keys())[0], description=\"Plot:\", disable=False,\n",
    "    )\n",
    "    plot_type = widgets.Dropdown(\n",
    "        options=[\"bar\", \"barh\"], description=\"Plot type:\", disable=False,\n",
    "    )\n",
    "    cmap = widgets.Dropdown(options=COLORMAPS, description=\"Colormap:\", disable=False,)\n",
    "    #\n",
    "    output = widgets.Output()\n",
    "    with output:\n",
    "        display(\n",
    "            widgets.interactive_output(\n",
    "                compute, {\"selected\": selected, \"plot_type\": plot_type, \"cmap\": cmap}\n",
    "            )\n",
    "        )\n",
    "    #\n",
    "    left_box = widgets.VBox(\n",
    "        [selected, plot_type, cmap], layout=Layout(height=\"350px\", border=\"1px solid gray\"),\n",
    "    )\n",
    "    right_box = widgets.VBox([output])\n",
    "    return widgets.HBox([left_box, right_box])"
   ]
  },
  {
   "cell_type": "code",
   "execution_count": 138,
   "metadata": {},
   "outputs": [],
   "source": [
    "def menu_analysis_by_term(x):\n",
    "    def compute(selected, plot_type, cmap):\n",
    "        df = tc.summary_by_year(x)\n",
    "        df = df[data[selected]]\n",
    "        plot = plots[plot_type]\n",
    "        output.clear_output()\n",
    "        with output:\n",
    "            display(plot(df, cmap=cmap))\n",
    "    #\n",
    "    # Options\n",
    "    #\n",
    "    data = {\n",
    "        \"Documents by Year\": [\"Year\", \"Num Documents\"],\n",
    "        \"Cum. Documents by Year\": [\"Year\", \"Num Documents (Cum)\"],\n",
    "        \"Times Cited by Year\": [\"Year\", \"Times Cited\"],\n",
    "        \"Cum. Times Cited by Year\": [\"Year\", \"Times Cited (Cum)\"],\n",
    "        \"Avg. Times Cited by Year\": [\"Year\", \"Avg. Times Cited\"],\n",
    "    }\n",
    "    plots = {'bar': plt.bar, \"barh\": plt.bar}\n",
    "    #\n",
    "    selected = widgets.Dropdown(\n",
    "        options=list(data.keys()), value=list(data.keys())[0], description=\"Plot:\", disable=False,\n",
    "    )\n",
    "    plot_type = widgets.Dropdown(\n",
    "        options=[\"bar\", \"barh\"], description=\"Plot type:\", disable=False,\n",
    "    )\n",
    "    cmap = widgets.Dropdown(options=COLORMAPS, description=\"Colormap:\", disable=False,)\n",
    "    #\n",
    "    output = widgets.Output()\n",
    "    with output:\n",
    "        display(\n",
    "            widgets.interactive_output(\n",
    "                compute, {\"selected\": selected, \"plot_type\": plot_type, \"cmap\": cmap}\n",
    "            )\n",
    "        )\n",
    "    #\n",
    "    left_box = widgets.VBox(\n",
    "        [selected, plot_type, cmap], layout=Layout(height=\"350px\", border=\"1px solid gray\"),\n",
    "    )\n",
    "    right_box = widgets.VBox([output])\n",
    "    return widgets.HBox([left_box, right_box])"
   ]
  },
  {
   "cell_type": "code",
   "execution_count": 170,
   "metadata": {},
   "outputs": [
    {
     "data": {
      "application/vnd.jupyter.widget-view+json": {
       "model_id": "6164e06533f74b6ea7cc46b0c01a2dc9",
       "version_major": 2,
       "version_minor": 0
      },
      "text/plain": [
       "Accordion(children=(Text(value='TO-DO'), HBox(children=(VBox(children=(Dropdown(description='Plot:', options=(…"
      ]
     },
     "metadata": {},
     "output_type": "display_data"
    }
   ],
   "source": [
    "def dashboard(x):\n",
    "    m = [\n",
    "        (menu_descriptive_stats, \"Descriptive statistics\"),\n",
    "        (menu_analysis_by_year, \"Analysis by year\"),\n",
    "        (menu_analysis_by_term, \"Analysis by term\"),\n",
    "        (menu_analysis_by_term_per_year, \"Analysis by term per year\"),\n",
    "        (menu_occurrence, \"Occurrence analysis\"),\n",
    "        (menu_co_occurrence, \"Co-occurrence analysis\"),\n",
    "        (menu_autocorrelation, \"Autocorrelation analysis\"),\n",
    "        (menu_correlation, \"Correlation analysis\"),\n",
    "        (menu_factor_analysis, \"Factor analysis\"),\n",
    "    ]\n",
    "    accordion = widgets.Accordion()\n",
    "    widget_list = []\n",
    "    for f, _ in m:\n",
    "        widget_list.append(f(x))\n",
    "    accordion.children = widget_list\n",
    "    for index, t in enumerate(m):\n",
    "        accordion.set_title(index, t[1])\n",
    "    return accordion\n",
    "\n",
    "\n",
    "dashboard(df)"
   ]
  },
  {
   "cell_type": "code",
   "execution_count": null,
   "metadata": {},
   "outputs": [],
   "source": []
  },
  {
   "cell_type": "code",
   "execution_count": null,
   "metadata": {},
   "outputs": [],
   "source": []
  },
  {
   "cell_type": "code",
   "execution_count": 96,
   "metadata": {},
   "outputs": [
    {
     "data": {
      "application/vnd.jupyter.widget-view+json": {
       "model_id": "76a8c84f11fc44cc8032c91b85cf11cc",
       "version_major": 2,
       "version_minor": 0
      },
      "text/plain": [
       "DescriptionStyle()"
      ]
     },
     "metadata": {},
     "output_type": "display_data"
    }
   ],
   "source": [
    "widgets.Dropdown(\n",
    "        options=[\"1\", \"2\", \"3\"], value=\"1\", description=\"Descrption:\", disable=False,\n",
    "    ).style"
   ]
  },
  {
   "cell_type": "code",
   "execution_count": null,
   "metadata": {},
   "outputs": [],
   "source": []
  },
  {
   "cell_type": "code",
   "execution_count": null,
   "metadata": {},
   "outputs": [],
   "source": []
  },
  {
   "cell_type": "code",
   "execution_count": null,
   "metadata": {},
   "outputs": [],
   "source": [
    "def f(m, n, o):\n",
    "    print('{}*{}*{}={}'.format(m, n, o, m*n*o))\n",
    "\n",
    "\n",
    "\n",
    "a = widgets.IntSlider(description='a')\n",
    "b = widgets.IntSlider(description='b')\n",
    "c = widgets.IntSlider(description='c')\n",
    "\n",
    "out = widgets.interactive_output(f, {'m': a, 'n': b, 'o': c})\n",
    "\n",
    "widgets.HBox([widgets.VBox([a, b, c]), out])"
   ]
  },
  {
   "cell_type": "code",
   "execution_count": null,
   "metadata": {},
   "outputs": [],
   "source": []
  },
  {
   "cell_type": "code",
   "execution_count": null,
   "metadata": {},
   "outputs": [],
   "source": [
    "print(widgets.Dropdown.on_click.__doc__)"
   ]
  },
  {
   "cell_type": "code",
   "execution_count": null,
   "metadata": {},
   "outputs": [],
   "source": []
  },
  {
   "cell_type": "code",
   "execution_count": null,
   "metadata": {},
   "outputs": [],
   "source": [
    "jpl.summary_by_term(df, cmap=\"Blues\")"
   ]
  },
  {
   "cell_type": "code",
   "execution_count": null,
   "metadata": {},
   "outputs": [],
   "source": [
    "button = widgets.Button(description='Click here')\n",
    "slider = widgets.IntSlider()\n",
    "stacked = widgets.Stacked([button, slider])\n",
    "stacked"
   ]
  },
  {
   "cell_type": "code",
   "execution_count": null,
   "metadata": {},
   "outputs": [],
   "source": []
  },
  {
   "cell_type": "code",
   "execution_count": null,
   "metadata": {},
   "outputs": [],
   "source": [
    "import ipywidgets as widgets\n",
    "\n",
    "button = widgets.Button(description=\"Click here\")\n",
    "slider = widgets.IntSlider()\n",
    "stacked = widgets.Stacked([button, slider])\n",
    "stacked  # will show only the button"
   ]
  },
  {
   "cell_type": "code",
   "execution_count": null,
   "metadata": {},
   "outputs": [],
   "source": [
    "tab_nest = widgets.Tab()\n",
    "tab_nest.children = [accordion, accordion]\n",
    "tab_nest.titles = (\"An accordion\", \"Copy of the accordion\")\n",
    "tab_nest"
   ]
  },
  {
   "cell_type": "code",
   "execution_count": null,
   "metadata": {},
   "outputs": [],
   "source": [
    "tab_contents = [\"P0\", \"P1\", \"P2\", \"P3\", \"P4\"]\n",
    "children = [widgets.Text(description=name) for name in tab_contents]\n",
    "tab = widgets.Tab()\n",
    "tab.children = children\n",
    "tab.titles = [str(i) for i in range(len(children))]\n",
    "tab"
   ]
  },
  {
   "cell_type": "code",
   "execution_count": null,
   "metadata": {},
   "outputs": [],
   "source": [
    "accordion = widgets.Accordion(\n",
    "    children=[widgets.IntSlider(), widgets.Text()], titles=(\"Slider\", \"Text\")\n",
    ")\n",
    "accordion"
   ]
  },
  {
   "cell_type": "code",
   "execution_count": null,
   "metadata": {},
   "outputs": [],
   "source": [
    "# jpl.summary_by_year(df, cmap='Blues')"
   ]
  },
  {
   "cell_type": "code",
   "execution_count": null,
   "metadata": {},
   "outputs": [],
   "source": []
  },
  {
   "cell_type": "code",
   "execution_count": 173,
   "metadata": {},
   "outputs": [
    {
     "name": "stdout",
     "output_type": "stream",
     "text": [
      "\"J9\": \"Abbreviated Source Title\"\n",
      "\"AB\": \"Abstract\"\n",
      "\"OA\": \"Access Type\"\n",
      "\"C1\": \"Affiliations\"\n",
      "\"AR\": \"Art. No.\"\n",
      "\"DE\": \"Author Keywords\"\n",
      "\"AU_CO\": \"Author(s) Country\"\n",
      "\"RI\": \"Author(s) ID\"\n",
      "\"AU_IN\": \"Author(s) Institution\"\n",
      "\"AU_C1\": \"Authors with affiliations\"\n",
      "\"AU\": \"Authors\"\n",
      "\"TC\": \"Cited by\"\n",
      "\"CR\": \"Cited references\"\n",
      "\"DOI\": \"DI\"\n",
      "\"DT\": \"Document type\"\n",
      "\"BE\": \"Editors\"\n",
      "\"UT\": \"EID\"\n",
      "\"ID\": \"Index Keywords\"\n",
      "\"BN\": \"ISBN\"\n",
      "\"SN\": \"ISSN\"\n",
      "\"IS\": \"Issue\"\n",
      "\"AU_ID\": \"Keywords\"\n",
      "\"LA\": \"Language of Original Document\"\n",
      "\"PG\": \"Page count\"\n",
      "\"EP\": \"Page end\"\n",
      "\"BP\": \"Page start\"\n",
      "\"PU\": \"Publisher\"\n",
      "\"PM\": \"PubMed ID\"\n",
      "\"SO\": \"Source title\"\n",
      "\"FN\": \"Source\"\n",
      "\"SC\": \"Subject\"\n",
      "\"TI\": \"Title\"\n",
      "\"VL\": \"Volume\"\n",
      "\"PY\": \"Year\"\n"
     ]
    }
   ],
   "source": [
    "x = {\n",
    "    \"Abbreviated Source Title\": \"J9\",\n",
    "    \"Abstract\": \"AB\",\n",
    "    \"Access Type\": \"OA\",\n",
    "    \"Affiliations\": \"C1\",\n",
    "    \"Art. No.\": \"AR\",\n",
    "    \"Author Keywords\": \"DE\",\n",
    "    \"Author(s) Country\": \"AU_CO\",\n",
    "    \"Author(s) ID\": \"RI\",\n",
    "    \"Author(s) Institution\": \"AU_IN\",\n",
    "    \"Authors with affiliations\": \"AU_C1\",\n",
    "    \"Authors\": \"AU\",\n",
    "    \"Cited by\": \"TC\",\n",
    "    \"Cited references\": \"CR\",\n",
    "    \"DI\": \"DOI\",\n",
    "    \"Document type\": \"DT\",\n",
    "    \"Editors\": \"BE\",\n",
    "    \"EID\": \"UT\",\n",
    "    \"Index Keywords\": \"ID\",\n",
    "    \"ISBN\": \"BN\",\n",
    "    \"ISSN\": \"SN\",\n",
    "    \"Issue\": \"IS\",\n",
    "    \"Keywords\": \"AU_ID\",\n",
    "    \"Language of Original Document\": \"LA\",\n",
    "    \"Page count\": \"PG\",\n",
    "    \"Page end\": \"EP\",\n",
    "    \"Page start\": \"BP\",\n",
    "    \"Publisher\": \"PU\",\n",
    "    \"PubMed ID\": \"PM\",\n",
    "    \"Source title\": \"SO\",\n",
    "    \"Source\": \"FN\",\n",
    "    \"Subject\": \"SC\",\n",
    "    \"Title\": \"TI\",\n",
    "    \"Volume\": \"VL\",\n",
    "    \"Year\": \"PY\",\n",
    "}\n",
    "\n",
    "for a in x.keys():\n",
    "    print('\"', x[a],'\": \"', a,'\"', sep=\"\")"
   ]
  },
  {
   "cell_type": "code",
   "execution_count": 174,
   "metadata": {},
   "outputs": [],
   "source": [
    "z = [\"AU\", \"DE\", \"ID\", \"RI\", \"C1\", \"DE_ID\", \"AU_CO\", \"AU_IN\", \"AU_C1\"]"
   ]
  },
  {
   "cell_type": "code",
   "execution_count": 177,
   "metadata": {},
   "outputs": [],
   "source": [
    "NORMALIZED_NAMES = {\n",
    "    \"J9\": \"Abbreviated Source Title\",\n",
    "    \"AB\": \"Abstract\",\n",
    "    \"OA\": \"Access Type\",\n",
    "    \"C1\": \"Affiliations\",\n",
    "    \"AR\": \"Art. No.\",\n",
    "    \"DE\": \"Author Keywords\",\n",
    "    \"AU_CO\": \"Author(s) Country\",\n",
    "    \"RI\": \"Author(s) ID\",\n",
    "    \"AU_IN\": \"Author(s) Institution\",\n",
    "    \"AU_C1\": \"Authors with affiliations\",\n",
    "    \"AU\": \"Authors\",\n",
    "    \"TC\": \"Cited by\",\n",
    "    \"CR\": \"Cited references\",\n",
    "    \"DOI\": \"DI\",\n",
    "    \"DT\": \"Document type\",\n",
    "    \"BE\": \"Editors\",\n",
    "    \"UT\": \"EID\",\n",
    "    \"ID\": \"Index Keywords\",\n",
    "    \"BN\": \"ISBN\",\n",
    "    \"SN\": \"ISSN\",\n",
    "    \"IS\": \"Issue\",\n",
    "    \"DE_ID\": \"Keywords\",\n",
    "    \"LA\": \"Language of Original Document\",\n",
    "    \"PG\": \"Page count\",\n",
    "    \"EP\": \"Page end\",\n",
    "    \"BP\": \"Page start\",\n",
    "    \"PU\": \"Publisher\",\n",
    "    \"PM\": \"PubMed ID\",\n",
    "    \"SO\": \"Source title\",\n",
    "    \"FN\": \"Source\",\n",
    "    \"SC\": \"Subject\",\n",
    "    \"TI\": \"Title\",\n",
    "    \"VL\": \"Volume\",\n",
    "    \"PY\": \"Year\",\n",
    "}\n"
   ]
  },
  {
   "cell_type": "code",
   "execution_count": 180,
   "metadata": {},
   "outputs": [
    {
     "name": "stdout",
     "output_type": "stream",
     "text": [
      "\"Authors\",\n",
      "\"Author Keywords\",\n",
      "\"Index Keywords\",\n",
      "\"Author(s) ID\",\n",
      "\"Affiliations\",\n",
      "\"Keywords\",\n",
      "\"Author(s) Country\",\n",
      "\"Author(s) Institution\",\n",
      "\"Authors with affiliations\",\n"
     ]
    }
   ],
   "source": [
    "for e in z:\n",
    "    print('\"', NORMALIZED_NAMES[e],'\",', sep='')"
   ]
  },
  {
   "cell_type": "code",
   "execution_count": null,
   "metadata": {},
   "outputs": [],
   "source": [
    "NORMALIZED_NAMES = {\n",
    "    \"J9\": \"Abbreviated Source Title\",\n",
    "    \"AB\": \"Abstract\",\n",
    "    \"OA\": \"Access Type\",\n",
    "    \"C1\": \"Affiliations\",\n",
    "    \"AR\": \"Art. No.\",\n",
    "    \"DE\": \"Author Keywords\",\n",
    "    \"AU_CO\": \"Author(s) Country\",\n",
    "    \"RI\": \"Author(s) ID\",\n",
    "    \"AU_IN\": \"Author(s) Institution\",\n",
    "    \"AU_C1\": \"Authors with affiliations\",\n",
    "    \"AU\": \"Authors\",\n",
    "    \"TC\": \"Cited by\",\n",
    "    \"CR\": \"Cited references\",\n",
    "    \"DOI\": \"DI\",\n",
    "    \"DT\": \"Document type\",\n",
    "    \"BE\": \"Editors\",\n",
    "    \"UT\": \"EID\",\n",
    "    \"ID\": \"Index Keywords\",\n",
    "    \"BN\": \"ISBN\",\n",
    "    \"SN\": \"ISSN\",\n",
    "    \"IS\": \"Issue\",\n",
    "    \"DE_ID\": \"Keywords\",\n",
    "    \"LA\": \"Language of Original Document\",\n",
    "    \"PG\": \"Page count\",\n",
    "    \"EP\": \"Page end\",\n",
    "    \"BP\": \"Page start\",\n",
    "    \"PU\": \"Publisher\",\n",
    "    \"PM\": \"PubMed ID\",\n",
    "    \"SO\": \"Source title\",\n",
    "    \"FN\": \"Source\",\n",
    "    \"SC\": \"Subject\",\n",
    "    \"TI\": \"Title\",\n",
    "    \"VL\": \"Volume\",\n",
    "    \"PT\": \"Year\",\n",
    "}"
   ]
  }
 ],
 "metadata": {
  "kernelspec": {
   "display_name": "Python 3",
   "language": "python",
   "name": "python3"
  },
  "language_info": {
   "codemirror_mode": {
    "name": "ipython",
    "version": 3
   },
   "file_extension": ".py",
   "mimetype": "text/x-python",
   "name": "python",
   "nbconvert_exporter": "python",
   "pygments_lexer": "ipython3",
   "version": "3.6.9"
  }
 },
 "nbformat": 4,
 "nbformat_minor": 4
}
