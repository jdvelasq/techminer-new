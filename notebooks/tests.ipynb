{
 "cells": [
  {
   "cell_type": "code",
   "execution_count": 1,
   "metadata": {},
   "outputs": [
    {
     "name": "stderr",
     "output_type": "stream",
     "text": [
      "2020-06-02 00:05:38,804 - INFO - Renaming and selecting columns ...\n",
      "2020-06-02 00:05:44,545 - INFO - Formatting author names ...\n",
      "2020-06-02 00:05:44,551 - INFO - Disambiguating author names ...\n",
      "2020-06-02 00:05:44,620 - INFO - Removing part of titles in foreing languages ...\n",
      "2020-06-02 00:05:44,623 - INFO - Fusioning author and index keywords ...\n",
      "2020-06-02 00:05:44,636 - INFO - NumExpr defaulting to 8 threads.\n",
      "2020-06-02 00:05:44,653 - INFO - Extracting countries from affiliations ...\n",
      "2020-06-02 00:05:51,012 - INFO - Extracting institutions from affiliations ...\n",
      "2020-06-02 00:05:51,024 - INFO - Extracting country of 1st author ...\n",
      "2020-06-02 00:05:51,028 - INFO - Extracting affiliation of 1st author ...\n",
      "2020-06-02 00:05:51,033 - INFO - Counting number of authors ...\n"
     ]
    }
   ],
   "source": [
    "import ipywidgets as widgets\n",
    "import pandas as pd\n",
    "from ipywidgets import Layout, AppLayout\n",
    "\n",
    "import techminer.analytics as tc\n",
    "import techminer.plots as plt\n",
    "from techminer.analytics import load_scopus\n",
    "import techminer.dashboards as dash\n",
    "from techminer.keywords import Keywords\n",
    "\n",
    "filepath = \"../data/papers/urban-agriculture.csv\"\n",
    "df = pd.read_csv(filepath)\n",
    "\n",
    "df = load_scopus(df)"
   ]
  },
  {
   "cell_type": "code",
   "execution_count": 2,
   "metadata": {},
   "outputs": [],
   "source": [
    "COLORMAPS = [\n",
    "    \"Greys\",\n",
    "    \"Purples\",\n",
    "    \"Blues\",\n",
    "    \"Greens\",\n",
    "    \"Oranges\",\n",
    "    \"Reds\",\n",
    "    \"YlOrBr\",\n",
    "    \"YlOrRd\",\n",
    "    \"OrRd\",\n",
    "    \"PuRd\",\n",
    "    \"RdPu\",\n",
    "    \"BuPu\",\n",
    "    \"GnBu\",\n",
    "    \"PuBu\",\n",
    "    \"YlGnBu\",\n",
    "    \"PuBuGn\",\n",
    "    \"BuGn\",\n",
    "    \"YlGn\",\n",
    "    \"Pastel1\",\n",
    "    \"Pastel2\",\n",
    "    \"Paired\",\n",
    "    \"Accent\",\n",
    "    \"Dark2\",\n",
    "    \"Set1\",\n",
    "    \"Set2\",\n",
    "    \"Set3\",\n",
    "    \"tab10\",\n",
    "    \"tab20\",\n",
    "    \"tab20b\",\n",
    "    \"tab20c\",\n",
    "]\n",
    "\n",
    "COLUMNS = [\n",
    "    \"Author Keywords\",\n",
    "    \"Authors\",\n",
    "    \"Countries\",\n",
    "    \"Country 1st\",\n",
    "    \"Document type\",\n",
    "    \"Index Keywords\",\n",
    "    \"Institution 1st\" \"Institutions\",\n",
    "    \"Keywords\",\n",
    "    \"Source title\",\n",
    "]"
   ]
  },
  {
   "cell_type": "code",
   "execution_count": 3,
   "metadata": {},
   "outputs": [
    {
     "data": {
      "text/html": [
       "<div>\n",
       "<style scoped>\n",
       "    .dataframe tbody tr th:only-of-type {\n",
       "        vertical-align: middle;\n",
       "    }\n",
       "\n",
       "    .dataframe tbody tr th {\n",
       "        vertical-align: top;\n",
       "    }\n",
       "\n",
       "    .dataframe thead th {\n",
       "        text-align: right;\n",
       "    }\n",
       "</style>\n",
       "<table border=\"1\" class=\"dataframe\">\n",
       "  <thead>\n",
       "    <tr style=\"text-align: right;\">\n",
       "      <th></th>\n",
       "      <th>value</th>\n",
       "    </tr>\n",
       "  </thead>\n",
       "  <tbody>\n",
       "    <tr>\n",
       "      <th>Articles</th>\n",
       "      <td>688</td>\n",
       "    </tr>\n",
       "    <tr>\n",
       "      <th>Years</th>\n",
       "      <td>1984-2020</td>\n",
       "    </tr>\n",
       "    <tr>\n",
       "      <th>Average citations per article</th>\n",
       "      <td>15.32</td>\n",
       "    </tr>\n",
       "    <tr>\n",
       "      <th>Authors</th>\n",
       "      <td>1857</td>\n",
       "    </tr>\n",
       "    <tr>\n",
       "      <th>Author(s) ID</th>\n",
       "      <td>1857</td>\n",
       "    </tr>\n",
       "    <tr>\n",
       "      <th>Articles per author</th>\n",
       "      <td>0.37</td>\n",
       "    </tr>\n",
       "    <tr>\n",
       "      <th>Authors per article</th>\n",
       "      <td>2.7</td>\n",
       "    </tr>\n",
       "    <tr>\n",
       "      <th>Author Keywords</th>\n",
       "      <td>2135</td>\n",
       "    </tr>\n",
       "    <tr>\n",
       "      <th>Index Keywords</th>\n",
       "      <td>3494</td>\n",
       "    </tr>\n",
       "    <tr>\n",
       "      <th>Source titles</th>\n",
       "      <td>419</td>\n",
       "    </tr>\n",
       "    <tr>\n",
       "      <th>Authors of single authored articles</th>\n",
       "      <td>184</td>\n",
       "    </tr>\n",
       "    <tr>\n",
       "      <th>Authors of multi authored articles</th>\n",
       "      <td>496</td>\n",
       "    </tr>\n",
       "    <tr>\n",
       "      <th>Co-authors per article</th>\n",
       "      <td>3.11</td>\n",
       "    </tr>\n",
       "    <tr>\n",
       "      <th>Average articles per Source title</th>\n",
       "      <td>2</td>\n",
       "    </tr>\n",
       "    <tr>\n",
       "      <th>Compound annual growth rate</th>\n",
       "      <td>9.2 %</td>\n",
       "    </tr>\n",
       "  </tbody>\n",
       "</table>\n",
       "</div>"
      ],
      "text/plain": [
       "                                         value\n",
       "Articles                                   688\n",
       "Years                                1984-2020\n",
       "Average citations per article            15.32\n",
       "Authors                                   1857\n",
       "Author(s) ID                              1857\n",
       "Articles per author                       0.37\n",
       "Authors per article                        2.7\n",
       "Author Keywords                           2135\n",
       "Index Keywords                            3494\n",
       "Source titles                              419\n",
       "Authors of single authored articles        184\n",
       "Authors of multi authored articles         496\n",
       "Co-authors per article                    3.11\n",
       "Average articles per Source title            2\n",
       "Compound annual growth rate              9.2 %"
      ]
     },
     "execution_count": 3,
     "metadata": {},
     "output_type": "execute_result"
    }
   ],
   "source": [
    "\n",
    "\n",
    "##\n",
    "##\n",
    "##\n",
    "FIGSIZE = (12, 6)\n",
    "PANEL_HEIGHT = \"410px\"\n",
    "\n",
    "\n",
    "def html_title(x):\n",
    "    return (\n",
    "        \"<h1>{}</h1>\".format(x)\n",
    "        + \"<hr style='height:2px;border-width:0;color:gray;background-color:gray'>\"\n",
    "    )\n",
    "\n",
    "\n",
    "tc.descriptive_stats(df)"
   ]
  },
  {
   "cell_type": "code",
   "execution_count": null,
   "metadata": {},
   "outputs": [],
   "source": []
  },
  {
   "cell_type": "code",
   "execution_count": null,
   "metadata": {},
   "outputs": [],
   "source": []
  },
  {
   "cell_type": "code",
   "execution_count": null,
   "metadata": {},
   "outputs": [],
   "source": []
  },
  {
   "cell_type": "code",
   "execution_count": null,
   "metadata": {},
   "outputs": [],
   "source": [
    "def correlation_analysis(x):\n",
    "    def compute_by_term(\n",
    "        column, by, method, minmax, cmap, filter_type, top_n\n",
    "    ):\n",
    "        #\n",
    "        minmax = (minmax[0], minmax[1])\n",
    "        #\n",
    "        matrix, limit_values = tc.corr(\n",
    "            x,\n",
    "            column=column,\n",
    "            by=by,\n",
    "            method=method.lower(),\n",
    "            show_between=minmax,\n",
    "            cmap=cmap,\n",
    "            filter_by=filter_type,\n",
    "            top_n=top_n,\n",
    "            as_matrix=True,\n",
    "            get_minmax=True,\n",
    "        )\n",
    "        output.clear_output()\n",
    "        with output:\n",
    "            if len(matrix.columns) < 51 and len(matrix.index) < 51:\n",
    "                display(matrix.style.format(\"{:.3f}\").background_gradient(cmap=cmap))\n",
    "            else:\n",
    "                display(matrix.style.format(\"{:.3f}\"))\n",
    "    #\n",
    "    PANEL_HEIGHT = \"580px\"\n",
    "    #\n",
    "    column = widgets.Select(\n",
    "        options=[z for z in COLUMNS if z in x.columns],\n",
    "        ensure_option=True,\n",
    "        disabled=False,\n",
    "    )\n",
    "    by = widgets.Select(\n",
    "        options=[z for z in COLUMNS if z in x.columns],\n",
    "        ensure_option=True,\n",
    "        disabled=False,\n",
    "    )\n",
    "    method = widgets.Dropdown(\n",
    "        options=[\"Pearson\", \"Kendall\", \"Spearman\"], value=\"Pearson\", disable=False,\n",
    "    )\n",
    "    selection_range = widgets.FloatRangeSlider(\n",
    "        value=[-1.0, 1.0],\n",
    "        min=-1.0,\n",
    "        max=1.0,\n",
    "        step=0.1,\n",
    "        disabled=False,\n",
    "        continuous_update=False,\n",
    "        orientation=\"horizontal\",\n",
    "        readout=True,\n",
    "        readout_format=\"+.1f\",\n",
    "    )\n",
    "    filter_type = widgets.Dropdown(\n",
    "        options=[\"Frequency\", \"Citation\"], value=\"Frequency\", disable=False,\n",
    "    )\n",
    "    top_n = widgets.IntSlider(\n",
    "        value=10,\n",
    "        min=10,\n",
    "        max=50,\n",
    "        step=1,\n",
    "        disabled=False,\n",
    "        continuous_update=False,\n",
    "        orientation=\"horizontal\",\n",
    "        readout=True,\n",
    "        readout_format=\"d\",\n",
    "    )\n",
    "    cmap = widgets.Dropdown(options=COLORMAPS, disable=False,)\n",
    "    #\n",
    "    output = widgets.Output()\n",
    "    with output:\n",
    "        display(\n",
    "            widgets.interactive_output(\n",
    "                compute_by_term,\n",
    "                {\n",
    "                    \"column\": column,\n",
    "                    \"by\": by,\n",
    "                    \"method\": method,\n",
    "                    \"minmax\": selection_range,\n",
    "                    \"cmap\": cmap,\n",
    "                    \"filter_type\": filter_type,\n",
    "                    \"top_n\": top_n,\n",
    "                },\n",
    "            )\n",
    "        )\n",
    "    #\n",
    "    left_box = widgets.VBox(\n",
    "        [\n",
    "            widgets.VBox([widgets.Label(value=\"Term:\"), column]),\n",
    "            widgets.VBox([widgets.Label(value=\"By term:\"), by]),\n",
    "            widgets.VBox([widgets.Label(value=\"Method:\"), method]),\n",
    "            widgets.VBox([widgets.Label(value=\"Filter type:\"), filter_type]),\n",
    "            widgets.VBox([widgets.Label(value=\"Top n:\"), top_n]),\n",
    "            widgets.VBox([widgets.Label(value=\"Range:\"), selection_range]),\n",
    "            widgets.VBox([widgets.Label(value=\"Colormap:\"), cmap]),\n",
    "        ],\n",
    "        layout=Layout(height=PANEL_HEIGHT, border=\"1px solid gray\"),\n",
    "    )\n",
    "    right_box = widgets.VBox([output])\n",
    "\n",
    "    return AppLayout(\n",
    "        header=widgets.HTML(value=html_title(\"Correlation analysis\")),\n",
    "        left_sidebar=left_box,\n",
    "        center=right_box,\n",
    "        right_sidebar=None,\n",
    "        pane_widths=[2, 5, 0],\n",
    "        pane_heights=[\"85px\", 5, 0],\n",
    "    )\n",
    "\n",
    "\n",
    "##\n",
    "## Debug\n",
    "##\n",
    "FIGSIZE = (12, 6)\n",
    "PANEL_HEIGHT = \"410px\"\n",
    "\n",
    "\n",
    "def html_title(x):\n",
    "    return (\n",
    "        \"<h1>{}</h1>\".format(x)\n",
    "        + \"<hr style='height:2px;border-width:0;color:gray;background-color:gray'>\"\n",
    "    )\n",
    "\n",
    "\n",
    "correlation_analysis(df)"
   ]
  },
  {
   "cell_type": "code",
   "execution_count": null,
   "metadata": {},
   "outputs": [],
   "source": []
  },
  {
   "cell_type": "code",
   "execution_count": null,
   "metadata": {},
   "outputs": [],
   "source": [
    "dash.summary_by_term(df)"
   ]
  },
  {
   "cell_type": "code",
   "execution_count": null,
   "metadata": {},
   "outputs": [],
   "source": [
    "df.columns"
   ]
  },
  {
   "cell_type": "code",
   "execution_count": null,
   "metadata": {},
   "outputs": [],
   "source": []
  },
  {
   "cell_type": "code",
   "execution_count": null,
   "metadata": {},
   "outputs": [],
   "source": []
  },
  {
   "cell_type": "code",
   "execution_count": null,
   "metadata": {},
   "outputs": [],
   "source": []
  },
  {
   "cell_type": "code",
   "execution_count": null,
   "metadata": {},
   "outputs": [],
   "source": []
  },
  {
   "cell_type": "code",
   "execution_count": null,
   "metadata": {},
   "outputs": [],
   "source": [
    "caption = widgets.Label(value='Changes in source_range values are reflected in target_range1')\n",
    "source_range, target_range1 = widgets.IntSlider(description='Source range'),\\\n",
    "                              widgets.IntSlider(description='Target range 1')\n",
    "dl = widgets.jsdlink((source_range, 'value'), (target_range1, 'value'))\n",
    "display(caption, source_range, target_range1)"
   ]
  },
  {
   "cell_type": "code",
   "execution_count": null,
   "metadata": {},
   "outputs": [],
   "source": [
    "a = widgets.IntSlider(description=\"Delayed\", continuous_update=False)\n",
    "b = widgets.IntText(description=\"Delayed\", continuous_update=False)\n",
    "c = widgets.IntSlider(description=\"Continuous\", continuous_update=True)\n",
    "d = widgets.IntText(description=\"Continuous\", continuous_update=True)\n",
    "\n",
    "widgets.link((a, 'value'), (b, 'value'))\n",
    "widgets.link((a, 'value'), (c, 'value'))\n",
    "widgets.link((a, 'value'), (d, 'value'))\n",
    "widgets.VBox([a,b,c,d])"
   ]
  },
  {
   "cell_type": "code",
   "execution_count": null,
   "metadata": {},
   "outputs": [],
   "source": [
    "caption = widgets.Label(value='The values of range1 and range2 are synchronized')\n",
    "slider = widgets.IntSlider(min=-5, max=5, value=1, description='Slider')\n",
    "\n",
    "def handle_slider_change(change):\n",
    "    caption.value = 'The slider value is ' + (\n",
    "        'negative' if change.new < 0 else 'nonnegative'\n",
    "    )\n",
    "\n",
    "slider.observe(handle_slider_change, names='value')\n",
    "\n",
    "display(caption, slider)"
   ]
  },
  {
   "cell_type": "code",
   "execution_count": null,
   "metadata": {},
   "outputs": [],
   "source": []
  },
  {
   "cell_type": "code",
   "execution_count": null,
   "metadata": {},
   "outputs": [],
   "source": []
  },
  {
   "cell_type": "code",
   "execution_count": null,
   "metadata": {},
   "outputs": [],
   "source": []
  },
  {
   "cell_type": "code",
   "execution_count": null,
   "metadata": {},
   "outputs": [],
   "source": []
  },
  {
   "cell_type": "code",
   "execution_count": null,
   "metadata": {},
   "outputs": [],
   "source": [
    "def menu_descriptive_stats(x):\n",
    "    return widgets.Text(\"TO-DO\")"
   ]
  },
  {
   "cell_type": "code",
   "execution_count": null,
   "metadata": {},
   "outputs": [],
   "source": [
    "def menu_analysis_by_term_per_term_per_year(x):\n",
    "    return widgets.Text(\"TO-DO\")"
   ]
  },
  {
   "cell_type": "code",
   "execution_count": null,
   "metadata": {},
   "outputs": [],
   "source": [
    "def menu_occurrence(x):\n",
    "    return widgets.Text(\"TO-DO\")"
   ]
  },
  {
   "cell_type": "code",
   "execution_count": null,
   "metadata": {},
   "outputs": [],
   "source": [
    "def menu_co_occurrence(x):\n",
    "    return widgets.Text(\"TO-DO\")"
   ]
  },
  {
   "cell_type": "code",
   "execution_count": null,
   "metadata": {},
   "outputs": [],
   "source": [
    "def menu_autocorrelation(x):\n",
    "    return widgets.Text(\"TO-DO\")"
   ]
  },
  {
   "cell_type": "code",
   "execution_count": null,
   "metadata": {},
   "outputs": [],
   "source": [
    "def menu_correlation(x):\n",
    "    return widgets.Text(\"TO-DO\")"
   ]
  },
  {
   "cell_type": "code",
   "execution_count": null,
   "metadata": {},
   "outputs": [],
   "source": [
    "def menu_factor_analysis(x):\n",
    "    return widgets.Text(\"TO-DO\")"
   ]
  },
  {
   "cell_type": "code",
   "execution_count": null,
   "metadata": {},
   "outputs": [],
   "source": []
  },
  {
   "cell_type": "code",
   "execution_count": null,
   "metadata": {},
   "outputs": [],
   "source": []
  },
  {
   "cell_type": "code",
   "execution_count": null,
   "metadata": {},
   "outputs": [],
   "source": []
  },
  {
   "cell_type": "code",
   "execution_count": null,
   "metadata": {},
   "outputs": [],
   "source": []
  },
  {
   "cell_type": "code",
   "execution_count": null,
   "metadata": {},
   "outputs": [],
   "source": []
  },
  {
   "cell_type": "code",
   "execution_count": null,
   "metadata": {},
   "outputs": [],
   "source": []
  },
  {
   "cell_type": "code",
   "execution_count": null,
   "metadata": {},
   "outputs": [],
   "source": [
    "def dashboard(x):\n",
    "    m = [\n",
    "        (menu_descriptive_stats, \"Descriptive statistics\"),\n",
    "        (menu_analysis_by_year, \"Analysis by year\"),\n",
    "        (menu_analysis_by_term, \"Analysis by term\"),\n",
    "        (menu_analysis_by_term_per_year, \"Analysis by term per year\"),\n",
    "        (menu_occurrence, \"Occurrence analysis\"),\n",
    "        (menu_co_occurrence, \"Co-occurrence analysis\"),\n",
    "        (menu_autocorrelation, \"Autocorrelation analysis\"),\n",
    "        (menu_correlation, \"Correlation analysis\"),\n",
    "        (menu_factor_analysis, \"Factor analysis\"),\n",
    "    ]\n",
    "    accordion = widgets.Accordion()\n",
    "    widget_list = []\n",
    "    for f, _ in m:\n",
    "        widget_list.append(f(x))\n",
    "    accordion.children = widget_list\n",
    "    for index, t in enumerate(m):\n",
    "        accordion.set_title(index, t[1])\n",
    "    return accordion"
   ]
  },
  {
   "cell_type": "code",
   "execution_count": null,
   "metadata": {},
   "outputs": [],
   "source": []
  },
  {
   "cell_type": "code",
   "execution_count": null,
   "metadata": {},
   "outputs": [],
   "source": [
    "dashboard(df)"
   ]
  },
  {
   "cell_type": "code",
   "execution_count": null,
   "metadata": {},
   "outputs": [],
   "source": []
  },
  {
   "cell_type": "code",
   "execution_count": null,
   "metadata": {},
   "outputs": [],
   "source": []
  },
  {
   "cell_type": "code",
   "execution_count": null,
   "metadata": {},
   "outputs": [],
   "source": []
  },
  {
   "cell_type": "code",
   "execution_count": null,
   "metadata": {},
   "outputs": [],
   "source": [
    "df.columns"
   ]
  },
  {
   "cell_type": "code",
   "execution_count": null,
   "metadata": {},
   "outputs": [],
   "source": []
  },
  {
   "cell_type": "code",
   "execution_count": null,
   "metadata": {},
   "outputs": [],
   "source": []
  }
 ],
 "metadata": {
  "kernelspec": {
   "display_name": "Python 3",
   "language": "python",
   "name": "python3"
  },
  "language_info": {
   "codemirror_mode": {
    "name": "ipython",
    "version": 3
   },
   "file_extension": ".py",
   "mimetype": "text/x-python",
   "name": "python",
   "nbconvert_exporter": "python",
   "pygments_lexer": "ipython3",
   "version": "3.6.9"
  },
  "widgets": {
   "application/vnd.jupyter.widget-state+json": {
    "state": {},
    "version_major": 2,
    "version_minor": 0
   }
  }
 },
 "nbformat": 4,
 "nbformat_minor": 4
}
