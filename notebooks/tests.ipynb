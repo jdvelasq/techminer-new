{
 "cells": [
  {
   "cell_type": "code",
   "execution_count": 1,
   "metadata": {},
   "outputs": [
    {
     "name": "stderr",
     "output_type": "stream",
     "text": [
      "2020-06-04 01:36:42,434 - INFO - Renaming and selecting columns ...\n",
      "2020-06-04 01:36:48,242 - INFO - Formatting author names ...\n",
      "2020-06-04 01:36:48,247 - INFO - Disambiguating author names ...\n",
      "2020-06-04 01:36:48,317 - INFO - Removing part of titles in foreing languages ...\n",
      "2020-06-04 01:36:48,322 - INFO - Fusioning author and index keywords ...\n",
      "2020-06-04 01:36:48,340 - INFO - NumExpr defaulting to 8 threads.\n",
      "2020-06-04 01:36:48,364 - INFO - Extracting countries from affiliations ...\n",
      "2020-06-04 01:36:54,727 - INFO - Extracting institutions from affiliations ...\n",
      "2020-06-04 01:36:54,738 - INFO - Extracting country of 1st author ...\n",
      "2020-06-04 01:36:54,742 - INFO - Extracting affiliation of 1st author ...\n",
      "2020-06-04 01:36:54,746 - INFO - Counting number of authors ...\n"
     ]
    }
   ],
   "source": [
    "import ipywidgets as widgets\n",
    "import pandas as pd\n",
    "from ipywidgets import Layout, AppLayout\n",
    "\n",
    "import techminer.analytics as tc\n",
    "# import techminer.plots as plt\n",
    "from techminer.analytics import load_scopus\n",
    "#import techminer.dashboards as dash\n",
    "#from techminer.keywords import Keywords\n",
    "\n",
    "filepath = \"../data/papers/urban-agriculture.csv\"\n",
    "df = pd.read_csv(filepath)\n",
    "df = load_scopus(df)"
   ]
  },
  {
   "cell_type": "code",
   "execution_count": null,
   "metadata": {},
   "outputs": [],
   "source": [
    "\n",
    "COLUMNS = [\n",
    "    \"Author Keywords\",\n",
    "    \"Authors\",\n",
    "    \"Countries\",\n",
    "    \"Country 1st\",\n",
    "    \"Document type\",\n",
    "    \"Index Keywords\",\n",
    "    \"Institution 1st\",\n",
    "    \"Institutions\",\n",
    "    \"Keywords\",\n",
    "    \"Source title\",\n",
    "]"
   ]
  },
  {
   "cell_type": "code",
   "execution_count": null,
   "metadata": {},
   "outputs": [],
   "source": [
    "FIGSIZE = (14, 10.0) ## Co-occurrente-analysis  <---- no tiene figura\n",
    "FIGSIZE = (14, 9.0)"
   ]
  },
  {
   "cell_type": "markdown",
   "metadata": {},
   "source": [
    "# NUEVA INTERFAZ"
   ]
  },
  {
   "cell_type": "code",
   "execution_count": null,
   "metadata": {},
   "outputs": [],
   "source": [
    "from techminer.summary_by_term_per_year import documents_by_term_per_year, citations_by_term_per_year"
   ]
  },
  {
   "cell_type": "code",
   "execution_count": null,
   "metadata": {},
   "outputs": [],
   "source": []
  },
  {
   "cell_type": "code",
   "execution_count": 3,
   "metadata": {},
   "outputs": [],
   "source": [
    "import techminer.plots as plt\n",
    "from techminer.plots import COLORMAPS\n",
    "from techminer.summary_by_term import citations_by_term, documents_by_term\n",
    "\n",
    "WIDGET_WIDTH = \"200px\"\n",
    "LEFT_PANEL_HEIGHT = \"588px\"\n",
    "RIGHT_PANEL_WIDTH = \"870px\"\n",
    "FIGSIZE = (14, 10.0)\n",
    "PANE_HEIGHTS = [\"80px\", \"650px\", 0]\n",
    "\n",
    "COLUMNS = [\n",
    "    \"Author Keywords\",\n",
    "    \"Authors\",\n",
    "    \"Countries\",\n",
    "    \"Country 1st\",\n",
    "    \"Document type\",\n",
    "    \"Index Keywords\",\n",
    "    \"Institution 1st\",\n",
    "    \"Institutions\",\n",
    "    \"Keywords\",\n",
    "    \"Source title\",\n",
    "]\n",
    "\n"
   ]
  },
  {
   "cell_type": "code",
   "execution_count": 5,
   "metadata": {},
   "outputs": [
    {
     "data": {
      "application/vnd.jupyter.widget-view+json": {
       "model_id": "59f4ba320ff84ca9b634c483b448e450",
       "version_major": 2,
       "version_minor": 0
      },
      "text/plain": [
       "AppLayout(children=(HTML(value=\"<h1>Correlation Analysis</h1><hr style='height:2px;border-width:0;color:gray;b…"
      ]
     },
     "metadata": {},
     "output_type": "display_data"
    }
   ],
   "source": [
    "from techminer.correlation import corr\n",
    "\n",
    "\n",
    "def body_0(x):\n",
    "    #\n",
    "    def server(**kwargs):\n",
    "        #\n",
    "        # Logic\n",
    "        #\n",
    "        column = kwargs[\"term\"]\n",
    "        by = kwargs[\"by\"]\n",
    "        method = kwargs[\"method\"]\n",
    "        min_link_value = kwargs[\"min_link_value\"]\n",
    "        cmap = kwargs[\"cmap\"]\n",
    "        #\n",
    "        matrix = corr(\n",
    "                x,\n",
    "                column=column,\n",
    "                by=by,\n",
    "                method=method,\n",
    "                min_link_value=min_link_value,\n",
    "                cmap=cmap,\n",
    "                as_matrix=True,\n",
    "                filter_by=None,\n",
    "            )\n",
    "        #\n",
    "        output.clear_output()\n",
    "        with output:\n",
    "            if len(matrix.columns) < 51 and len(matrix.index) < 51:\n",
    "                display(matrix.style.background_gradient(cmap=cmap))\n",
    "            else:\n",
    "                display(matrix)\n",
    "                \n",
    "    #\n",
    "    # UI\n",
    "    #\n",
    "    controls = [\n",
    "        {\n",
    "            \"arg\": \"term\",\n",
    "            \"desc\": \"Term to analyze:\",\n",
    "            \"widget\": widgets.Select(\n",
    "                options=[z for z in COLUMNS if z in x.columns],\n",
    "                ensure_option=True,\n",
    "                disabled=False,\n",
    "                layout=Layout(width=WIDGET_WIDTH),\n",
    "            ),\n",
    "        },\n",
    "        {\n",
    "            \"arg\": \"by\",\n",
    "            \"desc\": \"By Term:\",\n",
    "            \"widget\": widgets.Select(\n",
    "                options=[z for z in COLUMNS if z in x.columns],\n",
    "                ensure_option=True,\n",
    "                disabled=False,\n",
    "                layout=Layout(width=WIDGET_WIDTH),\n",
    "            ),\n",
    "        },\n",
    "        {\n",
    "            \"arg\": \"method\",\n",
    "            \"desc\": \"Method:\",\n",
    "            \"widget\": widgets.Select(\n",
    "                options=['pearson', 'kendall', 'spearman'],\n",
    "                ensure_option=True,\n",
    "                disabled=False,\n",
    "                continuous_update=True,\n",
    "                layout=Layout(width=WIDGET_WIDTH),\n",
    "            ),\n",
    "        },\n",
    "        {\n",
    "            \"arg\": \"cmap\",\n",
    "            \"desc\": \"Colormap:\",\n",
    "            \"widget\": widgets.Dropdown(\n",
    "                options=COLORMAPS, disable=False, layout=Layout(width=WIDGET_WIDTH),\n",
    "            ),\n",
    "        },\n",
    "        {\n",
    "            \"arg\": \"min_link_value\",\n",
    "            \"desc\": \"Min link value:\",\n",
    "            \"widget\": widgets.FloatSlider(\n",
    "                value=-1,\n",
    "                min=-1,\n",
    "                max=1.0,\n",
    "                step=0.01,\n",
    "                disabled=False,\n",
    "                continuous_update=True,\n",
    "                orientation='horizontal',\n",
    "                readout=True,\n",
    "                readout_format='.1f',\n",
    "                layout=Layout(width=WIDGET_WIDTH),\n",
    "            ),\n",
    "        },                    \n",
    "        {\n",
    "            \"arg\": \"top_n\",\n",
    "            \"desc\": \"Top N:\",\n",
    "            \"widget\": widgets.IntSlider(\n",
    "                value=10,\n",
    "                min=10,\n",
    "                max=50,\n",
    "                step=1,\n",
    "                disabled=False,\n",
    "                continuous_update=False,\n",
    "                orientation=\"horizontal\",\n",
    "                readout=True,\n",
    "                readout_format=\"d\",\n",
    "                layout=Layout(width=WIDGET_WIDTH),\n",
    "            ),\n",
    "        },\n",
    "    ]\n",
    "    #\n",
    "    args = {control[\"arg\"]: control[\"widget\"] for control in controls}\n",
    "    output = widgets.Output()\n",
    "    with output:\n",
    "        display(widgets.interactive_output(server, args,))\n",
    "    return widgets.HBox(\n",
    "        [\n",
    "            widgets.VBox(\n",
    "                [\n",
    "                    widgets.VBox(\n",
    "                        [widgets.Label(value=control[\"desc\"]), control[\"widget\"]]\n",
    "                    )\n",
    "                    for control in controls\n",
    "                ],\n",
    "                layout=Layout(height=LEFT_PANEL_HEIGHT, border=\"1px solid gray\"),\n",
    "            ),\n",
    "            widgets.VBox([output], layout=Layout(width=RIGHT_PANEL_WIDTH)),\n",
    "        ]\n",
    "    )\n",
    "\n",
    "\n",
    "def app(df):\n",
    "    #\n",
    "    body = widgets.Tab()\n",
    "    body.children = [body_0(df)]\n",
    "    body.set_title(0, \"Matrix\")\n",
    "    #\n",
    "    return AppLayout(\n",
    "        header=widgets.HTML(\n",
    "            value=\"<h1>{}</h1><hr style='height:2px;border-width:0;color:gray;background-color:gray'>\".format(\n",
    "                \"Correlation Analysis\"\n",
    "            )\n",
    "        ),\n",
    "        center=body,\n",
    "        pane_heights=PANE_HEIGHTS,\n",
    "    )\n",
    "\n",
    "\n",
    "#####\n",
    "app(df)"
   ]
  },
  {
   "cell_type": "code",
   "execution_count": null,
   "metadata": {},
   "outputs": [],
   "source": []
  },
  {
   "cell_type": "code",
   "execution_count": null,
   "metadata": {},
   "outputs": [],
   "source": []
  },
  {
   "cell_type": "code",
   "execution_count": null,
   "metadata": {},
   "outputs": [],
   "source": []
  },
  {
   "cell_type": "code",
   "execution_count": null,
   "metadata": {},
   "outputs": [],
   "source": []
  },
  {
   "cell_type": "code",
   "execution_count": null,
   "metadata": {},
   "outputs": [],
   "source": []
  }
 ],
 "metadata": {
  "kernelspec": {
   "display_name": "Python 3",
   "language": "python",
   "name": "python3"
  },
  "language_info": {
   "codemirror_mode": {
    "name": "ipython",
    "version": 3
   },
   "file_extension": ".py",
   "mimetype": "text/x-python",
   "name": "python",
   "nbconvert_exporter": "python",
   "pygments_lexer": "ipython3",
   "version": "3.6.9"
  },
  "widgets": {
   "application/vnd.jupyter.widget-state+json": {
    "state": {
     "053b9fbbc8c74f0da515bda7e1e6c0c3": {
      "model_module": "@jupyter-widgets/controls",
      "model_module_version": "1.5.0",
      "model_name": "VBoxModel",
      "state": {
       "children": [
        "IPY_MODEL_328b117d058a4c7fae3d75282886cbbf"
       ],
       "layout": "IPY_MODEL_bbe438bb5542434f9bfcd3e5380b5ee4"
      }
     },
     "0addcc292fba491cb8dfc05a206ae043": {
      "model_module": "@jupyter-widgets/controls",
      "model_module_version": "1.5.0",
      "model_name": "HTMLModel",
      "state": {
       "layout": "IPY_MODEL_d26e9dbba3574f8abf8a6bc7f9053d30",
       "style": "IPY_MODEL_6733a9cae902409096e41d9e75b174cb",
       "value": "<h1>Correlation Analysis</h1><hr style='height:2px;border-width:0;color:gray;background-color:gray'>"
      }
     },
     "0d10fd4e6ff242229f199360c0d0bc9d": {
      "model_module": "@jupyter-widgets/base",
      "model_module_version": "1.2.0",
      "model_name": "LayoutModel",
      "state": {}
     },
     "0ecb2a71fefd4687a76361461e816621": {
      "model_module": "@jupyter-widgets/controls",
      "model_module_version": "1.5.0",
      "model_name": "LabelModel",
      "state": {
       "layout": "IPY_MODEL_da7ca015d4b5467e9e1f9b5d90fbac54",
       "style": "IPY_MODEL_79685b2fca4b4a05bac25eae5594e326",
       "value": "Method:"
      }
     },
     "0f92d6b3daab4d3190c2039af54704d0": {
      "model_module": "@jupyter-widgets/base",
      "model_module_version": "1.2.0",
      "model_name": "LayoutModel",
      "state": {
       "border": "1px solid gray",
       "height": "588px"
      }
     },
     "0fc5cc2115cb47109df40ca30857002b": {
      "model_module": "@jupyter-widgets/output",
      "model_module_version": "1.0.0",
      "model_name": "OutputModel",
      "state": {
       "layout": "IPY_MODEL_845f4e5897e74a42b475dc0ea891ce9f",
       "outputs": [
        {
         "ename": "AttributeError",
         "evalue": "module 'techminer.analytics' has no attribute 'corr'",
         "output_type": "error",
         "traceback": [
          "\u001b[0;31m---------------------------------------------------------------------------\u001b[0m",
          "\u001b[0;31mAttributeError\u001b[0m                            Traceback (most recent call last)",
          "\u001b[0;32m/usr/local/lib/python3.6/dist-packages/ipywidgets/widgets/interaction.py\u001b[0m in \u001b[0;36mobserver\u001b[0;34m(change)\u001b[0m\n\u001b[1;32m     77\u001b[0m         \u001b[0;32mwith\u001b[0m \u001b[0mout\u001b[0m\u001b[0;34m:\u001b[0m\u001b[0;34m\u001b[0m\u001b[0;34m\u001b[0m\u001b[0m\n\u001b[1;32m     78\u001b[0m             \u001b[0mclear_output\u001b[0m\u001b[0;34m(\u001b[0m\u001b[0mwait\u001b[0m\u001b[0;34m=\u001b[0m\u001b[0;32mTrue\u001b[0m\u001b[0;34m)\u001b[0m\u001b[0;34m\u001b[0m\u001b[0;34m\u001b[0m\u001b[0m\n\u001b[0;32m---> 79\u001b[0;31m             \u001b[0mf\u001b[0m\u001b[0;34m(\u001b[0m\u001b[0;34m**\u001b[0m\u001b[0mkwargs\u001b[0m\u001b[0;34m)\u001b[0m\u001b[0;34m\u001b[0m\u001b[0;34m\u001b[0m\u001b[0m\n\u001b[0m\u001b[1;32m     80\u001b[0m             \u001b[0mshow_inline_matplotlib_plots\u001b[0m\u001b[0;34m(\u001b[0m\u001b[0;34m)\u001b[0m\u001b[0;34m\u001b[0m\u001b[0;34m\u001b[0m\u001b[0m\n\u001b[1;32m     81\u001b[0m     \u001b[0;32mfor\u001b[0m \u001b[0mk\u001b[0m\u001b[0;34m,\u001b[0m\u001b[0mw\u001b[0m \u001b[0;32min\u001b[0m \u001b[0mcontrols\u001b[0m\u001b[0;34m.\u001b[0m\u001b[0mitems\u001b[0m\u001b[0;34m(\u001b[0m\u001b[0;34m)\u001b[0m\u001b[0;34m:\u001b[0m\u001b[0;34m\u001b[0m\u001b[0;34m\u001b[0m\u001b[0m\n",
          "\u001b[0;32m<ipython-input-4-f7ed3a063767>\u001b[0m in \u001b[0;36mserver\u001b[0;34m(**kwargs)\u001b[0m\n\u001b[1;32m     14\u001b[0m         \u001b[0mcmap\u001b[0m \u001b[0;34m=\u001b[0m \u001b[0mkwargs\u001b[0m\u001b[0;34m[\u001b[0m\u001b[0;34m\"cmap\"\u001b[0m\u001b[0;34m]\u001b[0m\u001b[0;34m\u001b[0m\u001b[0;34m\u001b[0m\u001b[0m\n\u001b[1;32m     15\u001b[0m         \u001b[0;31m#\u001b[0m\u001b[0;34m\u001b[0m\u001b[0;34m\u001b[0m\u001b[0;34m\u001b[0m\u001b[0m\n\u001b[0;32m---> 16\u001b[0;31m         matrix = tc.corr(\n\u001b[0m\u001b[1;32m     17\u001b[0m                 \u001b[0mx\u001b[0m\u001b[0;34m,\u001b[0m\u001b[0;34m\u001b[0m\u001b[0;34m\u001b[0m\u001b[0m\n\u001b[1;32m     18\u001b[0m                 \u001b[0mcolumn\u001b[0m\u001b[0;34m=\u001b[0m\u001b[0mcolumn\u001b[0m\u001b[0;34m,\u001b[0m\u001b[0;34m\u001b[0m\u001b[0;34m\u001b[0m\u001b[0m\n",
          "\u001b[0;31mAttributeError\u001b[0m: module 'techminer.analytics' has no attribute 'corr'"
         ]
        }
       ]
      }
     },
     "103b788dfbda4667bffb3d2c2ff49a20": {
      "model_module": "@jupyter-widgets/base",
      "model_module_version": "1.2.0",
      "model_name": "LayoutModel",
      "state": {
       "width": "200px"
      }
     },
     "10a1dcd499794c129c58a38b16ad168d": {
      "model_module": "@jupyter-widgets/base",
      "model_module_version": "1.2.0",
      "model_name": "LayoutModel",
      "state": {
       "width": "200px"
      }
     },
     "10c89b700e3a4cc2b93b3d95e64d2731": {
      "model_module": "@jupyter-widgets/base",
      "model_module_version": "1.2.0",
      "model_name": "LayoutModel",
      "state": {
       "grid_area": "header"
      }
     },
     "137b2f9e63184de7b91f59a678debff2": {
      "model_module": "@jupyter-widgets/base",
      "model_module_version": "1.2.0",
      "model_name": "LayoutModel",
      "state": {}
     },
     "14d0b60b21d14c57a47c2ab503836854": {
      "model_module": "@jupyter-widgets/controls",
      "model_module_version": "1.5.0",
      "model_name": "SliderStyleModel",
      "state": {
       "description_width": ""
      }
     },
     "1629747ca276426cba9949049804a20e": {
      "model_module": "@jupyter-widgets/base",
      "model_module_version": "1.2.0",
      "model_name": "LayoutModel",
      "state": {}
     },
     "1a551a78b6694a638c41c33e2a4b9f2a": {
      "model_module": "@jupyter-widgets/controls",
      "model_module_version": "1.5.0",
      "model_name": "DescriptionStyleModel",
      "state": {
       "description_width": ""
      }
     },
     "1b897e7f34684ab082d7a65eb0a583c4": {
      "model_module": "@jupyter-widgets/base",
      "model_module_version": "1.2.0",
      "model_name": "LayoutModel",
      "state": {
       "width": "200px"
      }
     },
     "1deee0d26adb4245a07504382986e9a7": {
      "model_module": "@jupyter-widgets/controls",
      "model_module_version": "1.5.0",
      "model_name": "VBoxModel",
      "state": {
       "children": [
        "IPY_MODEL_84e98e59144949b7986c7c77d3e6bf99",
        "IPY_MODEL_323212a0ca514c439c3662216365db8c"
       ],
       "layout": "IPY_MODEL_3d71a5853f6b42dcaeb0588ac164ef24"
      }
     },
     "1f6e4c0be39545f2beba630b0579b07a": {
      "model_module": "@jupyter-widgets/controls",
      "model_module_version": "1.5.0",
      "model_name": "DescriptionStyleModel",
      "state": {
       "description_width": ""
      }
     },
     "2257110497594b4aada1c1b6887ed98d": {
      "model_module": "@jupyter-widgets/base",
      "model_module_version": "1.2.0",
      "model_name": "LayoutModel",
      "state": {
       "width": "200px"
      }
     },
     "257cc001439947e2a7c252a6571e1751": {
      "model_module": "@jupyter-widgets/controls",
      "model_module_version": "1.5.0",
      "model_name": "LabelModel",
      "state": {
       "layout": "IPY_MODEL_1629747ca276426cba9949049804a20e",
       "style": "IPY_MODEL_2b6e6c7fe2364c00ba38297119efdcb1",
       "value": "Min link value:"
      }
     },
     "286abbf9f5a3402498121b50339a3f8c": {
      "model_module": "@jupyter-widgets/controls",
      "model_module_version": "1.5.0",
      "model_name": "VBoxModel",
      "state": {
       "children": [
        "IPY_MODEL_6d96580e840543bfbff918c372b92106",
        "IPY_MODEL_5f02df2814524f9db5719c7e8ef83f20"
       ],
       "layout": "IPY_MODEL_f22bb07b8c1740a5be295c63ae11b330"
      }
     },
     "2a93475babe947cf8a1eee514b6dd0c9": {
      "model_module": "@jupyter-widgets/base",
      "model_module_version": "1.2.0",
      "model_name": "LayoutModel",
      "state": {
       "width": "870px"
      }
     },
     "2b6e6c7fe2364c00ba38297119efdcb1": {
      "model_module": "@jupyter-widgets/controls",
      "model_module_version": "1.5.0",
      "model_name": "DescriptionStyleModel",
      "state": {
       "description_width": ""
      }
     },
     "2c0b673402cf4469b40d06cd9b861300": {
      "model_module": "@jupyter-widgets/controls",
      "model_module_version": "1.5.0",
      "model_name": "SliderStyleModel",
      "state": {
       "description_width": ""
      }
     },
     "2da81889187a45f98a03beba9923c166": {
      "model_module": "@jupyter-widgets/base",
      "model_module_version": "1.2.0",
      "model_name": "LayoutModel",
      "state": {}
     },
     "2dad804c06a04e2faad5efb836870153": {
      "model_module": "@jupyter-widgets/controls",
      "model_module_version": "1.5.0",
      "model_name": "DropdownModel",
      "state": {
       "_options_labels": [
        "Greys",
        "Purples",
        "Blues",
        "Greens",
        "Oranges",
        "Reds",
        "YlOrBr",
        "YlOrRd",
        "OrRd",
        "PuRd",
        "RdPu",
        "BuPu",
        "GnBu",
        "PuBu",
        "YlGnBu",
        "PuBuGn",
        "BuGn",
        "YlGn",
        "Pastel1",
        "Pastel2",
        "Paired",
        "Accent",
        "Dark2",
        "Set1",
        "Set2",
        "Set3",
        "tab10",
        "tab20",
        "tab20b",
        "tab20c"
       ],
       "index": 2,
       "layout": "IPY_MODEL_a8009233f54f47d790ccdf21fdeb7c15",
       "style": "IPY_MODEL_f62d63b069db4e299bc4604bcfdc68cd"
      }
     },
     "323212a0ca514c439c3662216365db8c": {
      "model_module": "@jupyter-widgets/controls",
      "model_module_version": "1.5.0",
      "model_name": "SelectModel",
      "state": {
       "_options_labels": [
        "pearson",
        "kendall",
        "spearman"
       ],
       "index": 0,
       "layout": "IPY_MODEL_e52b21199f8447b6844223960f1c711b",
       "style": "IPY_MODEL_99f0187c003e4edda116cef6cb0ae261"
      }
     },
     "32815ce3982644d0bbf0cab0ff3962b4": {
      "model_module": "@jupyter-widgets/base",
      "model_module_version": "1.2.0",
      "model_name": "LayoutModel",
      "state": {}
     },
     "328b117d058a4c7fae3d75282886cbbf": {
      "model_module": "@jupyter-widgets/output",
      "model_module_version": "1.0.0",
      "model_name": "OutputModel",
      "state": {
       "layout": "IPY_MODEL_9969800d97ae40e392246fed3438179f",
       "outputs": [
        {
         "data": {
          "text/html": "<style  type=\"text/css\" >\n    #T_51a9a17c_a604_11ea_99c5_0242ac110002row0_col0 {\n            background-color:  #3f007d;\n            color:  #f1f1f1;\n        }    #T_51a9a17c_a604_11ea_99c5_0242ac110002row0_col1 {\n            background-color:  #fcfbfd;\n            color:  #000000;\n        }    #T_51a9a17c_a604_11ea_99c5_0242ac110002row1_col0 {\n            background-color:  #fcfbfd;\n            color:  #000000;\n        }    #T_51a9a17c_a604_11ea_99c5_0242ac110002row1_col1 {\n            background-color:  #3f007d;\n            color:  #f1f1f1;\n        }</style><table id=\"T_51a9a17c_a604_11ea_99c5_0242ac110002\" ><thead>    <tr>        <th class=\"blank level0\" ></th>        <th class=\"col_heading level0 col0\" >Namibia</th>        <th class=\"col_heading level0 col1\" >Sri Lanka</th>    </tr></thead><tbody>\n                <tr>\n                        <th id=\"T_51a9a17c_a604_11ea_99c5_0242ac110002level0_row0\" class=\"row_heading level0 row0\" >Namibia</th>\n                        <td id=\"T_51a9a17c_a604_11ea_99c5_0242ac110002row0_col0\" class=\"data row0 col0\" >1.000000</td>\n                        <td id=\"T_51a9a17c_a604_11ea_99c5_0242ac110002row0_col1\" class=\"data row0 col1\" >0.706565</td>\n            </tr>\n            <tr>\n                        <th id=\"T_51a9a17c_a604_11ea_99c5_0242ac110002level0_row1\" class=\"row_heading level0 row1\" >Sri Lanka</th>\n                        <td id=\"T_51a9a17c_a604_11ea_99c5_0242ac110002row1_col0\" class=\"data row1 col0\" >0.706565</td>\n                        <td id=\"T_51a9a17c_a604_11ea_99c5_0242ac110002row1_col1\" class=\"data row1 col1\" >1.000000</td>\n            </tr>\n    </tbody></table>",
          "text/plain": "<pandas.io.formats.style.Styler at 0x7f6889ce10f0>"
         },
         "metadata": {},
         "output_type": "display_data"
        }
       ]
      }
     },
     "33be8c8d98a44e4297a16c6253f9cd67": {
      "model_module": "@jupyter-widgets/controls",
      "model_module_version": "1.5.0",
      "model_name": "DescriptionStyleModel",
      "state": {
       "description_width": ""
      }
     },
     "350d447d77e943d69baba8303e079117": {
      "model_module": "@jupyter-widgets/base",
      "model_module_version": "1.2.0",
      "model_name": "LayoutModel",
      "state": {}
     },
     "36c90016f49149d286126c6c2d92fab5": {
      "model_module": "@jupyter-widgets/base",
      "model_module_version": "1.2.0",
      "model_name": "LayoutModel",
      "state": {}
     },
     "36d0d68ce45644858df67bd6732b8945": {
      "model_module": "@jupyter-widgets/base",
      "model_module_version": "1.2.0",
      "model_name": "LayoutModel",
      "state": {}
     },
     "396cdddd52a44b7a998c0d45502ed72a": {
      "model_module": "@jupyter-widgets/controls",
      "model_module_version": "1.5.0",
      "model_name": "SelectModel",
      "state": {
       "_options_labels": [
        "Author Keywords",
        "Authors",
        "Countries",
        "Country 1st",
        "Index Keywords",
        "Institution 1st",
        "Institutions",
        "Keywords",
        "Source title"
       ],
       "index": 0,
       "layout": "IPY_MODEL_1b897e7f34684ab082d7a65eb0a583c4",
       "style": "IPY_MODEL_1f6e4c0be39545f2beba630b0579b07a"
      }
     },
     "3d71a5853f6b42dcaeb0588ac164ef24": {
      "model_module": "@jupyter-widgets/base",
      "model_module_version": "1.2.0",
      "model_name": "LayoutModel",
      "state": {}
     },
     "42d487c9a25e4d51b4c50ddd1718cdbd": {
      "model_module": "@jupyter-widgets/base",
      "model_module_version": "1.2.0",
      "model_name": "LayoutModel",
      "state": {
       "width": "200px"
      }
     },
     "465a6bc7035b413da72c4e1c632f6f11": {
      "model_module": "@jupyter-widgets/controls",
      "model_module_version": "1.5.0",
      "model_name": "HBoxModel",
      "state": {
       "children": [
        "IPY_MODEL_a59ac73f4b2e494fb1906f31e0637e42",
        "IPY_MODEL_f97e0e1566ca47179628aceeffe343e1"
       ],
       "layout": "IPY_MODEL_36c90016f49149d286126c6c2d92fab5"
      }
     },
     "490dada24e344530a34e65f7de5bb61e": {
      "model_module": "@jupyter-widgets/base",
      "model_module_version": "1.2.0",
      "model_name": "LayoutModel",
      "state": {}
     },
     "4b174a56f3624f58b988f29e741d4238": {
      "model_module": "@jupyter-widgets/controls",
      "model_module_version": "1.5.0",
      "model_name": "DropdownModel",
      "state": {
       "_options_labels": [
        "Greys",
        "Purples",
        "Blues",
        "Greens",
        "Oranges",
        "Reds",
        "YlOrBr",
        "YlOrRd",
        "OrRd",
        "PuRd",
        "RdPu",
        "BuPu",
        "GnBu",
        "PuBu",
        "YlGnBu",
        "PuBuGn",
        "BuGn",
        "YlGn",
        "Pastel1",
        "Pastel2",
        "Paired",
        "Accent",
        "Dark2",
        "Set1",
        "Set2",
        "Set3",
        "tab10",
        "tab20",
        "tab20b",
        "tab20c"
       ],
       "index": 0,
       "layout": "IPY_MODEL_edb128cf1aaa4ebf81ebdac99df3e939",
       "style": "IPY_MODEL_812f33f1b2334fe0b07617a499d1671d"
      }
     },
     "59f4ba320ff84ca9b634c483b448e450": {
      "model_module": "@jupyter-widgets/controls",
      "model_module_version": "1.5.0",
      "model_name": "GridBoxModel",
      "state": {
       "children": [
        "IPY_MODEL_0addcc292fba491cb8dfc05a206ae043",
        "IPY_MODEL_cef0660a4c18460a94d97158df2eb5ed"
       ],
       "layout": "IPY_MODEL_b4c8b77220f04c71afd500dfd1aa66de"
      }
     },
     "5b0b731235d649fbb006d9dfbad893d0": {
      "model_module": "@jupyter-widgets/controls",
      "model_module_version": "1.5.0",
      "model_name": "VBoxModel",
      "state": {
       "children": [
        "IPY_MODEL_bbe5653db01f47c9bf9dc4f579e8b134",
        "IPY_MODEL_a3f021eeae9446108d85141898b8c771"
       ],
       "layout": "IPY_MODEL_dd841ca2abde4d34bf023667fd04b4a2"
      }
     },
     "5cc48b63e3a5401b987485f112dfa74c": {
      "model_module": "@jupyter-widgets/controls",
      "model_module_version": "1.5.0",
      "model_name": "DescriptionStyleModel",
      "state": {
       "description_width": ""
      }
     },
     "5d341ab62c8f49b0aa194ca3f437339f": {
      "model_module": "@jupyter-widgets/controls",
      "model_module_version": "1.5.0",
      "model_name": "SelectModel",
      "state": {
       "_options_labels": [
        "Author Keywords",
        "Authors",
        "Countries",
        "Country 1st",
        "Index Keywords",
        "Institution 1st",
        "Institutions",
        "Keywords",
        "Source title"
       ],
       "index": 0,
       "layout": "IPY_MODEL_c08715f462404e48935eb283f7399d71",
       "style": "IPY_MODEL_65d203fced6442ff9058062a9f2f6193"
      }
     },
     "5dd004269d704765acb27ebf6fc6b340": {
      "model_module": "@jupyter-widgets/base",
      "model_module_version": "1.2.0",
      "model_name": "LayoutModel",
      "state": {}
     },
     "5f02df2814524f9db5719c7e8ef83f20": {
      "model_module": "@jupyter-widgets/controls",
      "model_module_version": "1.5.0",
      "model_name": "SelectModel",
      "state": {
       "_options_labels": [
        "Author Keywords",
        "Authors",
        "Countries",
        "Country 1st",
        "Index Keywords",
        "Institution 1st",
        "Institutions",
        "Keywords",
        "Source title"
       ],
       "index": 2,
       "layout": "IPY_MODEL_10a1dcd499794c129c58a38b16ad168d",
       "style": "IPY_MODEL_800067e9bf7b4371bfb07e58bf9c5715"
      }
     },
     "60394e9547594fefa9edaa76be4dd361": {
      "model_module": "@jupyter-widgets/base",
      "model_module_version": "1.2.0",
      "model_name": "LayoutModel",
      "state": {
       "width": "200px"
      }
     },
     "613399a44bca48f4acb58e62f4abc280": {
      "model_module": "@jupyter-widgets/controls",
      "model_module_version": "1.5.0",
      "model_name": "SliderStyleModel",
      "state": {
       "description_width": ""
      }
     },
     "6445a7f0659b45bab86eb27308d6b4af": {
      "model_module": "@jupyter-widgets/base",
      "model_module_version": "1.2.0",
      "model_name": "LayoutModel",
      "state": {}
     },
     "64b3e9ed49b04b1087dffc79cd3b09d6": {
      "model_module": "@jupyter-widgets/controls",
      "model_module_version": "1.5.0",
      "model_name": "DescriptionStyleModel",
      "state": {
       "description_width": ""
      }
     },
     "65988e3bb9e94e55995d998dba96f1e3": {
      "model_module": "@jupyter-widgets/controls",
      "model_module_version": "1.5.0",
      "model_name": "HBoxModel",
      "state": {
       "children": [
        "IPY_MODEL_6e19db15fcdd487caff311dc26ca21cf",
        "IPY_MODEL_053b9fbbc8c74f0da515bda7e1e6c0c3"
       ],
       "layout": "IPY_MODEL_32815ce3982644d0bbf0cab0ff3962b4"
      }
     },
     "65d203fced6442ff9058062a9f2f6193": {
      "model_module": "@jupyter-widgets/controls",
      "model_module_version": "1.5.0",
      "model_name": "DescriptionStyleModel",
      "state": {
       "description_width": ""
      }
     },
     "66799fb0ea764d30b3be71beab9d189d": {
      "model_module": "@jupyter-widgets/base",
      "model_module_version": "1.2.0",
      "model_name": "LayoutModel",
      "state": {
       "width": "200px"
      }
     },
     "6733a9cae902409096e41d9e75b174cb": {
      "model_module": "@jupyter-widgets/controls",
      "model_module_version": "1.5.0",
      "model_name": "DescriptionStyleModel",
      "state": {
       "description_width": ""
      }
     },
     "6991c7bd71974d8595fbc9fe63eebf23": {
      "model_module": "@jupyter-widgets/controls",
      "model_module_version": "1.5.0",
      "model_name": "VBoxModel",
      "state": {
       "children": [
        "IPY_MODEL_7cecbe3225de4ef9860bb49223b2d4da",
        "IPY_MODEL_b1d23e0a63b34c52bb4abe9517b91dad"
       ],
       "layout": "IPY_MODEL_d03c62fd83514466b38d4f660553321d"
      }
     },
     "6d96580e840543bfbff918c372b92106": {
      "model_module": "@jupyter-widgets/controls",
      "model_module_version": "1.5.0",
      "model_name": "LabelModel",
      "state": {
       "layout": "IPY_MODEL_5dd004269d704765acb27ebf6fc6b340",
       "style": "IPY_MODEL_33be8c8d98a44e4297a16c6253f9cd67",
       "value": "By Term:"
      }
     },
     "6e19db15fcdd487caff311dc26ca21cf": {
      "model_module": "@jupyter-widgets/controls",
      "model_module_version": "1.5.0",
      "model_name": "VBoxModel",
      "state": {
       "children": [
        "IPY_MODEL_6991c7bd71974d8595fbc9fe63eebf23",
        "IPY_MODEL_286abbf9f5a3402498121b50339a3f8c",
        "IPY_MODEL_1deee0d26adb4245a07504382986e9a7",
        "IPY_MODEL_71bf46bc02ae44d8821ddd087d1a5197",
        "IPY_MODEL_875a7a6ce9f4496b8ef8af6a35fce871",
        "IPY_MODEL_f1ff35b9bc8742ea916d810a3c9afe3b"
       ],
       "layout": "IPY_MODEL_0f92d6b3daab4d3190c2039af54704d0"
      }
     },
     "71bf46bc02ae44d8821ddd087d1a5197": {
      "model_module": "@jupyter-widgets/controls",
      "model_module_version": "1.5.0",
      "model_name": "VBoxModel",
      "state": {
       "children": [
        "IPY_MODEL_e63e86a561204b8d8ff940ee9a619039",
        "IPY_MODEL_2dad804c06a04e2faad5efb836870153"
       ],
       "layout": "IPY_MODEL_6445a7f0659b45bab86eb27308d6b4af"
      }
     },
     "753de5c0d72c4013ad0bd6378e29998f": {
      "model_module": "@jupyter-widgets/base",
      "model_module_version": "1.2.0",
      "model_name": "LayoutModel",
      "state": {}
     },
     "79685b2fca4b4a05bac25eae5594e326": {
      "model_module": "@jupyter-widgets/controls",
      "model_module_version": "1.5.0",
      "model_name": "DescriptionStyleModel",
      "state": {
       "description_width": ""
      }
     },
     "7bc59952abb64b3fbc6dc18a434be887": {
      "model_module": "@jupyter-widgets/controls",
      "model_module_version": "1.5.0",
      "model_name": "VBoxModel",
      "state": {
       "children": [
        "IPY_MODEL_257cc001439947e2a7c252a6571e1751",
        "IPY_MODEL_efe28b73b57842a080fc64ae9264dd55"
       ],
       "layout": "IPY_MODEL_fa2c20afa6e546b1936943203c8e8f8f"
      }
     },
     "7c7246c543114b529f006099a95e1c37": {
      "model_module": "@jupyter-widgets/controls",
      "model_module_version": "1.5.0",
      "model_name": "DescriptionStyleModel",
      "state": {
       "description_width": ""
      }
     },
     "7cecbe3225de4ef9860bb49223b2d4da": {
      "model_module": "@jupyter-widgets/controls",
      "model_module_version": "1.5.0",
      "model_name": "LabelModel",
      "state": {
       "layout": "IPY_MODEL_753de5c0d72c4013ad0bd6378e29998f",
       "style": "IPY_MODEL_d2c42c5fefaf4e0f9619fb6a46bcb875",
       "value": "Term to analyze:"
      }
     },
     "7f07ba9bec3c4087b50c23f9fcc96b8c": {
      "model_module": "@jupyter-widgets/controls",
      "model_module_version": "1.5.0",
      "model_name": "FloatSliderModel",
      "state": {
       "layout": "IPY_MODEL_42d487c9a25e4d51b4c50ddd1718cdbd",
       "max": 1,
       "min": -1,
       "readout_format": ".1f",
       "step": 0.01,
       "style": "IPY_MODEL_bb6f1a8b4d3a42d890dd8e0e626cb25e",
       "value": 0.63
      }
     },
     "7f711750a5b04f0c90ba10e0b1b6b82f": {
      "model_module": "@jupyter-widgets/controls",
      "model_module_version": "1.5.0",
      "model_name": "DescriptionStyleModel",
      "state": {
       "description_width": ""
      }
     },
     "800067e9bf7b4371bfb07e58bf9c5715": {
      "model_module": "@jupyter-widgets/controls",
      "model_module_version": "1.5.0",
      "model_name": "DescriptionStyleModel",
      "state": {
       "description_width": ""
      }
     },
     "812f33f1b2334fe0b07617a499d1671d": {
      "model_module": "@jupyter-widgets/controls",
      "model_module_version": "1.5.0",
      "model_name": "DescriptionStyleModel",
      "state": {
       "description_width": ""
      }
     },
     "8152743e4caf45b1959e26acea7df10b": {
      "model_module": "@jupyter-widgets/controls",
      "model_module_version": "1.5.0",
      "model_name": "DescriptionStyleModel",
      "state": {
       "description_width": ""
      }
     },
     "8177d317b44f4f1e9df3b2bb1f7d9431": {
      "model_module": "@jupyter-widgets/controls",
      "model_module_version": "1.5.0",
      "model_name": "VBoxModel",
      "state": {
       "children": [
        "IPY_MODEL_0ecb2a71fefd4687a76361461e816621",
        "IPY_MODEL_f1f4a9332d904cb9ae1cf4c59e6d6078"
       ],
       "layout": "IPY_MODEL_b3e4d598ac034d1d8dc7504264bc2b57"
      }
     },
     "845f4e5897e74a42b475dc0ea891ce9f": {
      "model_module": "@jupyter-widgets/base",
      "model_module_version": "1.2.0",
      "model_name": "LayoutModel",
      "state": {}
     },
     "84d3356101074de88de31efe904dc743": {
      "model_module": "@jupyter-widgets/output",
      "model_module_version": "1.0.0",
      "model_name": "OutputModel",
      "state": {
       "layout": "IPY_MODEL_a6455cb8e1524cca86bd3a918efee471",
       "outputs": [
        {
         "data": {
          "application/vnd.jupyter.widget-view+json": {
           "model_id": "",
           "version_major": 2,
           "version_minor": 0
          },
          "text/plain": "Output()"
         },
         "metadata": {},
         "output_type": "display_data"
        }
       ]
      }
     },
     "84e98e59144949b7986c7c77d3e6bf99": {
      "model_module": "@jupyter-widgets/controls",
      "model_module_version": "1.5.0",
      "model_name": "LabelModel",
      "state": {
       "layout": "IPY_MODEL_cb7cab9e28994aa2b481a57cdbb2a4da",
       "style": "IPY_MODEL_8a7a0493b741497e946c9990942b747c",
       "value": "Method:"
      }
     },
     "875a7a6ce9f4496b8ef8af6a35fce871": {
      "model_module": "@jupyter-widgets/controls",
      "model_module_version": "1.5.0",
      "model_name": "VBoxModel",
      "state": {
       "children": [
        "IPY_MODEL_c23054538a7f4522acfb361508ed4e08",
        "IPY_MODEL_7f07ba9bec3c4087b50c23f9fcc96b8c"
       ],
       "layout": "IPY_MODEL_aeb6997fb3ac4d8b987a7ab7fa0fa964"
      }
     },
     "8a7a0493b741497e946c9990942b747c": {
      "model_module": "@jupyter-widgets/controls",
      "model_module_version": "1.5.0",
      "model_name": "DescriptionStyleModel",
      "state": {
       "description_width": ""
      }
     },
     "8c608ee455d0463abd9c1f9ff0f8a37a": {
      "model_module": "@jupyter-widgets/controls",
      "model_module_version": "1.5.0",
      "model_name": "VBoxModel",
      "state": {
       "children": [
        "IPY_MODEL_a8e8e2e52f804857b8bd50d14a58d57c",
        "IPY_MODEL_396cdddd52a44b7a998c0d45502ed72a"
       ],
       "layout": "IPY_MODEL_c8d479ae70b44f49a6dda5a26edf57a6"
      }
     },
     "91c6cb7079614cfc9154988d5e8fcf58": {
      "model_module": "@jupyter-widgets/controls",
      "model_module_version": "1.5.0",
      "model_name": "LabelModel",
      "state": {
       "layout": "IPY_MODEL_f962a65f794e4166b5f424c81a9863f4",
       "style": "IPY_MODEL_5cc48b63e3a5401b987485f112dfa74c",
       "value": "By Term:"
      }
     },
     "949a6e7cee8542308c34b6956db65fe9": {
      "model_module": "@jupyter-widgets/base",
      "model_module_version": "1.2.0",
      "model_name": "LayoutModel",
      "state": {
       "grid_template_areas": "\"header header header\"\n\"center center center\"",
       "grid_template_columns": "1fr 2fr 1fr",
       "grid_template_rows": "80px 650px"
      }
     },
     "9969800d97ae40e392246fed3438179f": {
      "model_module": "@jupyter-widgets/base",
      "model_module_version": "1.2.0",
      "model_name": "LayoutModel",
      "state": {}
     },
     "99f0187c003e4edda116cef6cb0ae261": {
      "model_module": "@jupyter-widgets/controls",
      "model_module_version": "1.5.0",
      "model_name": "DescriptionStyleModel",
      "state": {
       "description_width": ""
      }
     },
     "99fd7cd6b6184e77b56914602751d55b": {
      "model_module": "@jupyter-widgets/controls",
      "model_module_version": "1.5.0",
      "model_name": "DescriptionStyleModel",
      "state": {
       "description_width": ""
      }
     },
     "a3f021eeae9446108d85141898b8c771": {
      "model_module": "@jupyter-widgets/controls",
      "model_module_version": "1.5.0",
      "model_name": "IntSliderModel",
      "state": {
       "continuous_update": false,
       "layout": "IPY_MODEL_2257110497594b4aada1c1b6887ed98d",
       "max": 50,
       "min": 10,
       "style": "IPY_MODEL_14d0b60b21d14c57a47c2ab503836854",
       "value": 10
      }
     },
     "a59ac73f4b2e494fb1906f31e0637e42": {
      "model_module": "@jupyter-widgets/controls",
      "model_module_version": "1.5.0",
      "model_name": "VBoxModel",
      "state": {
       "children": [
        "IPY_MODEL_8c608ee455d0463abd9c1f9ff0f8a37a",
        "IPY_MODEL_fe96f90980964c6f8cd6fc5afe18813b",
        "IPY_MODEL_8177d317b44f4f1e9df3b2bb1f7d9431",
        "IPY_MODEL_c184f00edacf4295baa65cf7c4218e45",
        "IPY_MODEL_7bc59952abb64b3fbc6dc18a434be887",
        "IPY_MODEL_5b0b731235d649fbb006d9dfbad893d0"
       ],
       "layout": "IPY_MODEL_dd6cdd1143d6401cb17f8e79a61e93b5"
      }
     },
     "a6455cb8e1524cca86bd3a918efee471": {
      "model_module": "@jupyter-widgets/base",
      "model_module_version": "1.2.0",
      "model_name": "LayoutModel",
      "state": {}
     },
     "a8009233f54f47d790ccdf21fdeb7c15": {
      "model_module": "@jupyter-widgets/base",
      "model_module_version": "1.2.0",
      "model_name": "LayoutModel",
      "state": {
       "width": "200px"
      }
     },
     "a8e8e2e52f804857b8bd50d14a58d57c": {
      "model_module": "@jupyter-widgets/controls",
      "model_module_version": "1.5.0",
      "model_name": "LabelModel",
      "state": {
       "layout": "IPY_MODEL_36d0d68ce45644858df67bd6732b8945",
       "style": "IPY_MODEL_d114b047d4a44ac79a2b10fc9d12340c",
       "value": "Term to analyze:"
      }
     },
     "aa93459f242c46cdb53d7b7c7a4fdaa2": {
      "model_module": "@jupyter-widgets/controls",
      "model_module_version": "1.5.0",
      "model_name": "HTMLModel",
      "state": {
       "layout": "IPY_MODEL_10c89b700e3a4cc2b93b3d95e64d2731",
       "style": "IPY_MODEL_99fd7cd6b6184e77b56914602751d55b",
       "value": "<h1>Correlation Analysis</h1><hr style='height:2px;border-width:0;color:gray;background-color:gray'>"
      }
     },
     "ad568dac3e4b464690a267c764824633": {
      "model_module": "@jupyter-widgets/base",
      "model_module_version": "1.2.0",
      "model_name": "LayoutModel",
      "state": {}
     },
     "ae6afa201b634050a24e6925877d351f": {
      "model_module": "@jupyter-widgets/controls",
      "model_module_version": "1.5.0",
      "model_name": "GridBoxModel",
      "state": {
       "children": [
        "IPY_MODEL_aa93459f242c46cdb53d7b7c7a4fdaa2",
        "IPY_MODEL_cac68c99daca4d49a455deeba9d4f6e6"
       ],
       "layout": "IPY_MODEL_949a6e7cee8542308c34b6956db65fe9"
      }
     },
     "aeb6997fb3ac4d8b987a7ab7fa0fa964": {
      "model_module": "@jupyter-widgets/base",
      "model_module_version": "1.2.0",
      "model_name": "LayoutModel",
      "state": {}
     },
     "b012423d509d4868ad178bfe54a8b685": {
      "model_module": "@jupyter-widgets/output",
      "model_module_version": "1.0.0",
      "model_name": "OutputModel",
      "state": {
       "layout": "IPY_MODEL_490dada24e344530a34e65f7de5bb61e",
       "outputs": [
        {
         "ename": "NameError",
         "evalue": "name 'co_occurrence' is not defined",
         "output_type": "error",
         "traceback": [
          "\u001b[0;31m---------------------------------------------------------------------------\u001b[0m",
          "\u001b[0;31mNameError\u001b[0m                                 Traceback (most recent call last)",
          "\u001b[0;32m/usr/local/lib/python3.6/dist-packages/ipywidgets/widgets/interaction.py\u001b[0m in \u001b[0;36mobserver\u001b[0;34m(change)\u001b[0m\n\u001b[1;32m     77\u001b[0m         \u001b[0;32mwith\u001b[0m \u001b[0mout\u001b[0m\u001b[0;34m:\u001b[0m\u001b[0;34m\u001b[0m\u001b[0;34m\u001b[0m\u001b[0m\n\u001b[1;32m     78\u001b[0m             \u001b[0mclear_output\u001b[0m\u001b[0;34m(\u001b[0m\u001b[0mwait\u001b[0m\u001b[0;34m=\u001b[0m\u001b[0;32mTrue\u001b[0m\u001b[0;34m)\u001b[0m\u001b[0;34m\u001b[0m\u001b[0;34m\u001b[0m\u001b[0m\n\u001b[0;32m---> 79\u001b[0;31m             \u001b[0mf\u001b[0m\u001b[0;34m(\u001b[0m\u001b[0;34m**\u001b[0m\u001b[0mkwargs\u001b[0m\u001b[0;34m)\u001b[0m\u001b[0;34m\u001b[0m\u001b[0;34m\u001b[0m\u001b[0m\n\u001b[0m\u001b[1;32m     80\u001b[0m             \u001b[0mshow_inline_matplotlib_plots\u001b[0m\u001b[0;34m(\u001b[0m\u001b[0;34m)\u001b[0m\u001b[0;34m\u001b[0m\u001b[0;34m\u001b[0m\u001b[0m\n\u001b[1;32m     81\u001b[0m     \u001b[0;32mfor\u001b[0m \u001b[0mk\u001b[0m\u001b[0;34m,\u001b[0m\u001b[0mw\u001b[0m \u001b[0;32min\u001b[0m \u001b[0mcontrols\u001b[0m\u001b[0;34m.\u001b[0m\u001b[0mitems\u001b[0m\u001b[0;34m(\u001b[0m\u001b[0;34m)\u001b[0m\u001b[0;34m:\u001b[0m\u001b[0;34m\u001b[0m\u001b[0;34m\u001b[0m\u001b[0m\n",
          "\u001b[0;32m<ipython-input-5-e2d7982647d4>\u001b[0m in \u001b[0;36mserver\u001b[0;34m(**kwargs)\u001b[0m\n\u001b[1;32m     22\u001b[0m                 \u001b[0mcmap\u001b[0m\u001b[0;34m=\u001b[0m\u001b[0mcmap\u001b[0m\u001b[0;34m,\u001b[0m\u001b[0;34m\u001b[0m\u001b[0;34m\u001b[0m\u001b[0m\n\u001b[1;32m     23\u001b[0m                 \u001b[0mas_matrix\u001b[0m\u001b[0;34m=\u001b[0m\u001b[0;32mTrue\u001b[0m\u001b[0;34m,\u001b[0m\u001b[0;34m\u001b[0m\u001b[0;34m\u001b[0m\u001b[0m\n\u001b[0;32m---> 24\u001b[0;31m                 \u001b[0mfilter_by\u001b[0m\u001b[0;34m=\u001b[0m\u001b[0;32mNone\u001b[0m\u001b[0;34m,\u001b[0m\u001b[0;34m\u001b[0m\u001b[0;34m\u001b[0m\u001b[0m\n\u001b[0m\u001b[1;32m     25\u001b[0m             )\n\u001b[1;32m     26\u001b[0m         \u001b[0;31m#\u001b[0m\u001b[0;34m\u001b[0m\u001b[0;34m\u001b[0m\u001b[0;34m\u001b[0m\u001b[0m\n",
          "\u001b[0;32m/usr/local/lib/python3.6/dist-packages/techminer-0.0.0-py3.6.egg/techminer/correlation.py\u001b[0m in \u001b[0;36mcorr\u001b[0;34m(x, column, by, method, min_link_value, cmap, as_matrix, filter_by)\u001b[0m\n\u001b[1;32m    303\u001b[0m         \u001b[0mresult\u001b[0m \u001b[0;34m=\u001b[0m \u001b[0mtfm\u001b[0m\u001b[0;34m.\u001b[0m\u001b[0mcorr\u001b[0m\u001b[0;34m(\u001b[0m\u001b[0mmethod\u001b[0m\u001b[0;34m=\u001b[0m\u001b[0mmethod\u001b[0m\u001b[0;34m)\u001b[0m\u001b[0;34m\u001b[0m\u001b[0;34m\u001b[0m\u001b[0m\n\u001b[1;32m    304\u001b[0m     \u001b[0;32melse\u001b[0m\u001b[0;34m:\u001b[0m\u001b[0;34m\u001b[0m\u001b[0;34m\u001b[0m\u001b[0m\n\u001b[0;32m--> 305\u001b[0;31m         \u001b[0mtfm\u001b[0m \u001b[0;34m=\u001b[0m \u001b[0mco_occurrence\u001b[0m\u001b[0;34m(\u001b[0m\u001b[0mx\u001b[0m\u001b[0;34m,\u001b[0m \u001b[0mcolumn\u001b[0m\u001b[0;34m=\u001b[0m\u001b[0mcolumn\u001b[0m\u001b[0;34m,\u001b[0m \u001b[0mby\u001b[0m\u001b[0;34m=\u001b[0m\u001b[0mby\u001b[0m\u001b[0;34m,\u001b[0m \u001b[0mas_matrix\u001b[0m\u001b[0;34m=\u001b[0m\u001b[0;32mTrue\u001b[0m\u001b[0;34m,\u001b[0m \u001b[0mkeywords\u001b[0m\u001b[0;34m=\u001b[0m\u001b[0;32mNone\u001b[0m\u001b[0;34m,\u001b[0m\u001b[0;34m)\u001b[0m\u001b[0;34m\u001b[0m\u001b[0;34m\u001b[0m\u001b[0m\n\u001b[0m\u001b[1;32m    306\u001b[0m         \u001b[0mresult\u001b[0m \u001b[0;34m=\u001b[0m \u001b[0mtfm\u001b[0m\u001b[0;34m.\u001b[0m\u001b[0mcorr\u001b[0m\u001b[0;34m(\u001b[0m\u001b[0mmethod\u001b[0m\u001b[0;34m=\u001b[0m\u001b[0mmethod\u001b[0m\u001b[0;34m)\u001b[0m\u001b[0;34m\u001b[0m\u001b[0;34m\u001b[0m\u001b[0m\n\u001b[1;32m    307\u001b[0m \u001b[0;34m\u001b[0m\u001b[0m\n",
          "\u001b[0;31mNameError\u001b[0m: name 'co_occurrence' is not defined"
         ]
        }
       ]
      }
     },
     "b1d23e0a63b34c52bb4abe9517b91dad": {
      "model_module": "@jupyter-widgets/controls",
      "model_module_version": "1.5.0",
      "model_name": "SelectModel",
      "state": {
       "_options_labels": [
        "Author Keywords",
        "Authors",
        "Countries",
        "Country 1st",
        "Index Keywords",
        "Institution 1st",
        "Institutions",
        "Keywords",
        "Source title"
       ],
       "index": 1,
       "layout": "IPY_MODEL_60394e9547594fefa9edaa76be4dd361",
       "style": "IPY_MODEL_1a551a78b6694a638c41c33e2a4b9f2a"
      }
     },
     "b3e4d598ac034d1d8dc7504264bc2b57": {
      "model_module": "@jupyter-widgets/base",
      "model_module_version": "1.2.0",
      "model_name": "LayoutModel",
      "state": {}
     },
     "b4c8b77220f04c71afd500dfd1aa66de": {
      "model_module": "@jupyter-widgets/base",
      "model_module_version": "1.2.0",
      "model_name": "LayoutModel",
      "state": {
       "grid_template_areas": "\"header header header\"\n\"center center center\"",
       "grid_template_columns": "1fr 2fr 1fr",
       "grid_template_rows": "80px 650px"
      }
     },
     "b924386f4d9e4f958ede2568fa2cee0a": {
      "model_module": "@jupyter-widgets/base",
      "model_module_version": "1.2.0",
      "model_name": "LayoutModel",
      "state": {}
     },
     "babf2f3001d04bbcb5586e91de683a25": {
      "model_module": "@jupyter-widgets/controls",
      "model_module_version": "1.5.0",
      "model_name": "LabelModel",
      "state": {
       "layout": "IPY_MODEL_cb6b511669d14305baae2000e5952c86",
       "style": "IPY_MODEL_7f711750a5b04f0c90ba10e0b1b6b82f",
       "value": "Top N:"
      }
     },
     "bb6f1a8b4d3a42d890dd8e0e626cb25e": {
      "model_module": "@jupyter-widgets/controls",
      "model_module_version": "1.5.0",
      "model_name": "SliderStyleModel",
      "state": {
       "description_width": ""
      }
     },
     "bbe438bb5542434f9bfcd3e5380b5ee4": {
      "model_module": "@jupyter-widgets/base",
      "model_module_version": "1.2.0",
      "model_name": "LayoutModel",
      "state": {
       "width": "870px"
      }
     },
     "bbe5653db01f47c9bf9dc4f579e8b134": {
      "model_module": "@jupyter-widgets/controls",
      "model_module_version": "1.5.0",
      "model_name": "LabelModel",
      "state": {
       "layout": "IPY_MODEL_ad568dac3e4b464690a267c764824633",
       "style": "IPY_MODEL_7c7246c543114b529f006099a95e1c37",
       "value": "Top N:"
      }
     },
     "c08715f462404e48935eb283f7399d71": {
      "model_module": "@jupyter-widgets/base",
      "model_module_version": "1.2.0",
      "model_name": "LayoutModel",
      "state": {
       "width": "200px"
      }
     },
     "c184f00edacf4295baa65cf7c4218e45": {
      "model_module": "@jupyter-widgets/controls",
      "model_module_version": "1.5.0",
      "model_name": "VBoxModel",
      "state": {
       "children": [
        "IPY_MODEL_dc18fc7d33c942ce9d1244f0b1e90caa",
        "IPY_MODEL_4b174a56f3624f58b988f29e741d4238"
       ],
       "layout": "IPY_MODEL_c76524efc3c64dcc884d44c572f46aff"
      }
     },
     "c23054538a7f4522acfb361508ed4e08": {
      "model_module": "@jupyter-widgets/controls",
      "model_module_version": "1.5.0",
      "model_name": "LabelModel",
      "state": {
       "layout": "IPY_MODEL_137b2f9e63184de7b91f59a678debff2",
       "style": "IPY_MODEL_c236f8c7201a4681bce2abcb18074d3d",
       "value": "Min link value:"
      }
     },
     "c236f8c7201a4681bce2abcb18074d3d": {
      "model_module": "@jupyter-widgets/controls",
      "model_module_version": "1.5.0",
      "model_name": "DescriptionStyleModel",
      "state": {
       "description_width": ""
      }
     },
     "c2d7e5536e7e4a6dafdcda6d55aadeaa": {
      "model_module": "@jupyter-widgets/controls",
      "model_module_version": "1.5.0",
      "model_name": "TabModel",
      "state": {
       "layout": "IPY_MODEL_b924386f4d9e4f958ede2568fa2cee0a"
      }
     },
     "c76524efc3c64dcc884d44c572f46aff": {
      "model_module": "@jupyter-widgets/base",
      "model_module_version": "1.2.0",
      "model_name": "LayoutModel",
      "state": {}
     },
     "c8d479ae70b44f49a6dda5a26edf57a6": {
      "model_module": "@jupyter-widgets/base",
      "model_module_version": "1.2.0",
      "model_name": "LayoutModel",
      "state": {}
     },
     "cac68c99daca4d49a455deeba9d4f6e6": {
      "model_module": "@jupyter-widgets/controls",
      "model_module_version": "1.5.0",
      "model_name": "TabModel",
      "state": {
       "_titles": {
        "0": "Matrix"
       },
       "children": [
        "IPY_MODEL_465a6bc7035b413da72c4e1c632f6f11"
       ],
       "layout": "IPY_MODEL_f0b1d9ae1bac48f8a67d0c04ca6161cc"
      }
     },
     "cb6b511669d14305baae2000e5952c86": {
      "model_module": "@jupyter-widgets/base",
      "model_module_version": "1.2.0",
      "model_name": "LayoutModel",
      "state": {}
     },
     "cb7cab9e28994aa2b481a57cdbb2a4da": {
      "model_module": "@jupyter-widgets/base",
      "model_module_version": "1.2.0",
      "model_name": "LayoutModel",
      "state": {}
     },
     "cef0660a4c18460a94d97158df2eb5ed": {
      "model_module": "@jupyter-widgets/controls",
      "model_module_version": "1.5.0",
      "model_name": "TabModel",
      "state": {
       "_titles": {
        "0": "Matrix"
       },
       "children": [
        "IPY_MODEL_65988e3bb9e94e55995d998dba96f1e3"
       ],
       "layout": "IPY_MODEL_f9b2e387c88c4aab8ab6a5d73cb5bb6e"
      }
     },
     "d03c62fd83514466b38d4f660553321d": {
      "model_module": "@jupyter-widgets/base",
      "model_module_version": "1.2.0",
      "model_name": "LayoutModel",
      "state": {}
     },
     "d114b047d4a44ac79a2b10fc9d12340c": {
      "model_module": "@jupyter-widgets/controls",
      "model_module_version": "1.5.0",
      "model_name": "DescriptionStyleModel",
      "state": {
       "description_width": ""
      }
     },
     "d26e9dbba3574f8abf8a6bc7f9053d30": {
      "model_module": "@jupyter-widgets/base",
      "model_module_version": "1.2.0",
      "model_name": "LayoutModel",
      "state": {
       "grid_area": "header"
      }
     },
     "d2c42c5fefaf4e0f9619fb6a46bcb875": {
      "model_module": "@jupyter-widgets/controls",
      "model_module_version": "1.5.0",
      "model_name": "DescriptionStyleModel",
      "state": {
       "description_width": ""
      }
     },
     "da7ca015d4b5467e9e1f9b5d90fbac54": {
      "model_module": "@jupyter-widgets/base",
      "model_module_version": "1.2.0",
      "model_name": "LayoutModel",
      "state": {}
     },
     "dafcd056ba9648318a419b06bd04e5e5": {
      "model_module": "@jupyter-widgets/controls",
      "model_module_version": "1.5.0",
      "model_name": "IntSliderModel",
      "state": {
       "continuous_update": false,
       "layout": "IPY_MODEL_eae0386078c44014b60b730b917564f4",
       "max": 50,
       "min": 10,
       "style": "IPY_MODEL_613399a44bca48f4acb58e62f4abc280",
       "value": 50
      }
     },
     "dc18fc7d33c942ce9d1244f0b1e90caa": {
      "model_module": "@jupyter-widgets/controls",
      "model_module_version": "1.5.0",
      "model_name": "LabelModel",
      "state": {
       "layout": "IPY_MODEL_ea817792ae1b4429ac435a9565e1b258",
       "style": "IPY_MODEL_8152743e4caf45b1959e26acea7df10b",
       "value": "Colormap:"
      }
     },
     "dd6cdd1143d6401cb17f8e79a61e93b5": {
      "model_module": "@jupyter-widgets/base",
      "model_module_version": "1.2.0",
      "model_name": "LayoutModel",
      "state": {
       "border": "1px solid gray",
       "height": "588px"
      }
     },
     "dd841ca2abde4d34bf023667fd04b4a2": {
      "model_module": "@jupyter-widgets/base",
      "model_module_version": "1.2.0",
      "model_name": "LayoutModel",
      "state": {}
     },
     "e52b21199f8447b6844223960f1c711b": {
      "model_module": "@jupyter-widgets/base",
      "model_module_version": "1.2.0",
      "model_name": "LayoutModel",
      "state": {
       "width": "200px"
      }
     },
     "e63e86a561204b8d8ff940ee9a619039": {
      "model_module": "@jupyter-widgets/controls",
      "model_module_version": "1.5.0",
      "model_name": "LabelModel",
      "state": {
       "layout": "IPY_MODEL_0d10fd4e6ff242229f199360c0d0bc9d",
       "style": "IPY_MODEL_f6ff4c89f05b45f98262a91789973bba",
       "value": "Colormap:"
      }
     },
     "ea817792ae1b4429ac435a9565e1b258": {
      "model_module": "@jupyter-widgets/base",
      "model_module_version": "1.2.0",
      "model_name": "LayoutModel",
      "state": {}
     },
     "eae0386078c44014b60b730b917564f4": {
      "model_module": "@jupyter-widgets/base",
      "model_module_version": "1.2.0",
      "model_name": "LayoutModel",
      "state": {
       "width": "200px"
      }
     },
     "edb128cf1aaa4ebf81ebdac99df3e939": {
      "model_module": "@jupyter-widgets/base",
      "model_module_version": "1.2.0",
      "model_name": "LayoutModel",
      "state": {
       "width": "200px"
      }
     },
     "efe28b73b57842a080fc64ae9264dd55": {
      "model_module": "@jupyter-widgets/controls",
      "model_module_version": "1.5.0",
      "model_name": "FloatSliderModel",
      "state": {
       "layout": "IPY_MODEL_103b788dfbda4667bffb3d2c2ff49a20",
       "max": 1,
       "min": -1,
       "readout_format": ".1f",
       "step": 0.01,
       "style": "IPY_MODEL_2c0b673402cf4469b40d06cd9b861300",
       "value": -1
      }
     },
     "f0b1d9ae1bac48f8a67d0c04ca6161cc": {
      "model_module": "@jupyter-widgets/base",
      "model_module_version": "1.2.0",
      "model_name": "LayoutModel",
      "state": {
       "grid_area": "center"
      }
     },
     "f1f4a9332d904cb9ae1cf4c59e6d6078": {
      "model_module": "@jupyter-widgets/controls",
      "model_module_version": "1.5.0",
      "model_name": "SelectModel",
      "state": {
       "_options_labels": [
        "pearson",
        "kendall",
        "spearman"
       ],
       "index": 0,
       "layout": "IPY_MODEL_66799fb0ea764d30b3be71beab9d189d",
       "style": "IPY_MODEL_64b3e9ed49b04b1087dffc79cd3b09d6"
      }
     },
     "f1ff35b9bc8742ea916d810a3c9afe3b": {
      "model_module": "@jupyter-widgets/controls",
      "model_module_version": "1.5.0",
      "model_name": "VBoxModel",
      "state": {
       "children": [
        "IPY_MODEL_babf2f3001d04bbcb5586e91de683a25",
        "IPY_MODEL_dafcd056ba9648318a419b06bd04e5e5"
       ],
       "layout": "IPY_MODEL_2da81889187a45f98a03beba9923c166"
      }
     },
     "f22bb07b8c1740a5be295c63ae11b330": {
      "model_module": "@jupyter-widgets/base",
      "model_module_version": "1.2.0",
      "model_name": "LayoutModel",
      "state": {}
     },
     "f62d63b069db4e299bc4604bcfdc68cd": {
      "model_module": "@jupyter-widgets/controls",
      "model_module_version": "1.5.0",
      "model_name": "DescriptionStyleModel",
      "state": {
       "description_width": ""
      }
     },
     "f6ff4c89f05b45f98262a91789973bba": {
      "model_module": "@jupyter-widgets/controls",
      "model_module_version": "1.5.0",
      "model_name": "DescriptionStyleModel",
      "state": {
       "description_width": ""
      }
     },
     "f962a65f794e4166b5f424c81a9863f4": {
      "model_module": "@jupyter-widgets/base",
      "model_module_version": "1.2.0",
      "model_name": "LayoutModel",
      "state": {}
     },
     "f97e0e1566ca47179628aceeffe343e1": {
      "model_module": "@jupyter-widgets/controls",
      "model_module_version": "1.5.0",
      "model_name": "VBoxModel",
      "state": {
       "children": [
        "IPY_MODEL_84d3356101074de88de31efe904dc743"
       ],
       "layout": "IPY_MODEL_2a93475babe947cf8a1eee514b6dd0c9"
      }
     },
     "f9b2e387c88c4aab8ab6a5d73cb5bb6e": {
      "model_module": "@jupyter-widgets/base",
      "model_module_version": "1.2.0",
      "model_name": "LayoutModel",
      "state": {
       "grid_area": "center"
      }
     },
     "fa2c20afa6e546b1936943203c8e8f8f": {
      "model_module": "@jupyter-widgets/base",
      "model_module_version": "1.2.0",
      "model_name": "LayoutModel",
      "state": {}
     },
     "fe96f90980964c6f8cd6fc5afe18813b": {
      "model_module": "@jupyter-widgets/controls",
      "model_module_version": "1.5.0",
      "model_name": "VBoxModel",
      "state": {
       "children": [
        "IPY_MODEL_91c6cb7079614cfc9154988d5e8fcf58",
        "IPY_MODEL_5d341ab62c8f49b0aa194ca3f437339f"
       ],
       "layout": "IPY_MODEL_350d447d77e943d69baba8303e079117"
      }
     }
    },
    "version_major": 2,
    "version_minor": 0
   }
  }
 },
 "nbformat": 4,
 "nbformat_minor": 4
}
