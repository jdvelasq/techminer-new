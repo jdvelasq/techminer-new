{
 "cells": [
  {
   "cell_type": "code",
   "execution_count": 1,
   "metadata": {},
   "outputs": [
    {
     "name": "stderr",
     "output_type": "stream",
     "text": [
      "2020-06-01 03:25:37,587 - INFO - Renaming and selecting columns ...\n",
      "2020-06-01 03:25:37,596 - INFO - Formatting author names ...\n",
      "2020-06-01 03:25:43,139 - INFO - Removing part of titles in foreing languages ...\n",
      "2020-06-01 03:25:43,143 - INFO - Fusioning author and index keywords ...\n",
      "2020-06-01 03:25:43,157 - INFO - NumExpr defaulting to 8 threads.\n",
      "2020-06-01 03:25:43,174 - INFO - Extracting countries from affiliations ...\n",
      "2020-06-01 03:25:49,155 - INFO - Extracting institutions from affiliations ...\n",
      "2020-06-01 03:25:49,165 - INFO - Extracting country of 1st author ...\n",
      "2020-06-01 03:25:49,168 - INFO - Extracting affiliation of 1st author ...\n",
      "2020-06-01 03:25:49,173 - INFO - Counting number of authors ...\n"
     ]
    }
   ],
   "source": [
    "import ipywidgets as widgets\n",
    "import pandas as pd\n",
    "from ipywidgets import Layout, AppLayout\n",
    "\n",
    "import techminer.analytics as tc\n",
    "import techminer.plots as plt\n",
    "from techminer.analytics import load_scopus\n",
    "\n",
    "filepath = \"../data/papers/urban-agriculture.csv\"\n",
    "df = pd.read_csv(filepath)\n",
    "\n",
    "df = load_scopus(df)"
   ]
  },
  {
   "cell_type": "code",
   "execution_count": 2,
   "metadata": {},
   "outputs": [],
   "source": [
    "COLORMAPS = [\n",
    "    \"Greys\",\n",
    "    \"Purples\",\n",
    "    \"Blues\",\n",
    "    \"Greens\",\n",
    "    \"Oranges\",\n",
    "    \"Reds\",\n",
    "    \"YlOrBr\",\n",
    "    \"YlOrRd\",\n",
    "    \"OrRd\",\n",
    "    \"PuRd\",\n",
    "    \"RdPu\",\n",
    "    \"BuPu\",\n",
    "    \"GnBu\",\n",
    "    \"PuBu\",\n",
    "    \"YlGnBu\",\n",
    "    \"PuBuGn\",\n",
    "    \"BuGn\",\n",
    "    \"YlGn\",\n",
    "    \"Pastel1\",\n",
    "    \"Pastel2\",\n",
    "    \"Paired\",\n",
    "    \"Accent\",\n",
    "    \"Dark2\",\n",
    "    \"Set1\",\n",
    "    \"Set2\",\n",
    "    \"Set3\",\n",
    "    \"tab10\",\n",
    "    \"tab20\",\n",
    "    \"tab20b\",\n",
    "    \"tab20c\",\n",
    "]\n",
    "\n",
    "COLUMNS = [\n",
    "    \"Author Keywords\",\n",
    "    \"Authors\",\n",
    "    \"Countries\",\n",
    "    \"Country 1st\",\n",
    "    \"Document type\",\n",
    "    \"Index Keywords\",\n",
    "    \"Institution 1st\" \"Institutions\",\n",
    "    \"Keywords\",\n",
    "    \"Source title\",\n",
    "]"
   ]
  },
  {
   "cell_type": "code",
   "execution_count": 6,
   "metadata": {},
   "outputs": [
    {
     "data": {
      "application/vnd.jupyter.widget-view+json": {
       "model_id": "aa1695be35bd4f28a9cadb2e646f6bef",
       "version_major": 2,
       "version_minor": 0
      },
      "text/plain": [
       "AppLayout(children=(HTML(value=\"<h1>Co-occurrence analysis</h1><hr style='height:2px;border-width:0;color:gray…"
      ]
     },
     "metadata": {},
     "output_type": "display_data"
    }
   ],
   "source": [
    "def co_occurrence_analysis(x):\n",
    "    def compute_by_term(\n",
    "        rows, columns, analysis_type, row_order, column_order, cmap, minmax\n",
    "    ):\n",
    "        #\n",
    "        if analysis_type == \"Frequency\":\n",
    "            matrix, limit_value = tc.co_occurrence(\n",
    "                x,\n",
    "                rows,\n",
    "                columns,\n",
    "                as_matrix=True,\n",
    "                minmax=(selection_range.value[0], selection_range.value[1]),\n",
    "                keywords=None,\n",
    "                retmaxval=True,\n",
    "            )\n",
    "        else:\n",
    "            matrix, limit_value = tc.co_citation(\n",
    "                x,\n",
    "                rows,\n",
    "                columns,\n",
    "                as_matrix=True,\n",
    "                minmax=(selection_range.value[0], selection_range.value[1]),\n",
    "                keywords=None,\n",
    "                retmaxval=True,\n",
    "            )\n",
    "        #\n",
    "        values = selection_range.value        \n",
    "        if values[1] > limit_value or selection_range.max < limit_value:\n",
    "            selection_range.max = limit_value\n",
    "            if values[0] > limit_value:\n",
    "                selection_range.min = 0\n",
    "            #selection_range.value = [0, limit_value]\n",
    "        #\n",
    "        output.clear_output()\n",
    "        with output:\n",
    "            if len(matrix.columns) < 21 and len(matrix.index) < 21:\n",
    "                display(matrix.style.background_gradient(cmap=cmap))\n",
    "            else:\n",
    "                display(matrix)  # .style.background_gradient(cmap=cmap)\n",
    "\n",
    "    #\n",
    "    PANEL_HEIGHT = \"570px\"\n",
    "    #\n",
    "    rows = widgets.Select(\n",
    "        options=[z for z in COLUMNS if z in x.columns],\n",
    "        ensure_option=True,\n",
    "        disabled=False,\n",
    "    )\n",
    "    columns = widgets.Select(\n",
    "        options=[z for z in COLUMNS if z in x.columns],\n",
    "        ensure_option=True,\n",
    "        disabled=False,\n",
    "    )\n",
    "    analysis_type = widgets.Dropdown(\n",
    "        options=[\"Frequency\", \"Citation\"], value=\"Frequency\", disable=False,\n",
    "    )\n",
    "    selection_range = widgets.IntRangeSlider(\n",
    "        value=[0, 1000],\n",
    "        min=0,\n",
    "        max=1000,\n",
    "        step=1,\n",
    "        disabled=False,\n",
    "        continuous_update=False,\n",
    "        orientation=\"horizontal\",\n",
    "        readout=True,\n",
    "        readout_format=\"d\",\n",
    "    )\n",
    "    row_order = widgets.Dropdown(\n",
    "        options=[\"Alphabetic asc.\", \"Alphabetic desc.\", \"F/C asc.\", \"F/C desc.\"],\n",
    "        value=\"F/C desc.\",\n",
    "        disable=False,\n",
    "    )\n",
    "    column_order = widgets.Dropdown(\n",
    "        options=[\"Alphabetic asc.\", \"Alphabetic desc.\", \"F/C asc.\", \"F/C desc.\"],\n",
    "        value=\"F/C desc.\",\n",
    "        disable=False,\n",
    "    )\n",
    "    cmap = widgets.Dropdown(options=COLORMAPS, disable=False,)\n",
    "    #\n",
    "    output = widgets.Output()\n",
    "    with output:\n",
    "        display(\n",
    "            widgets.interactive_output(\n",
    "                compute_by_term,\n",
    "                {\n",
    "                    \"rows\": rows,\n",
    "                    \"columns\": columns,\n",
    "                    \"analysis_type\": analysis_type,\n",
    "                    \"row_order\": row_order,\n",
    "                    \"column_order\": column_order,\n",
    "                    \"cmap\": cmap,\n",
    "                    \"minmax\": selection_range,\n",
    "                },\n",
    "            )\n",
    "        )\n",
    "    #\n",
    "    left_box = widgets.VBox(\n",
    "        [\n",
    "            widgets.VBox([widgets.Label(value=\"Rows:\"), rows]),\n",
    "            widgets.VBox([widgets.Label(value=\"Columns:\"), columns]),\n",
    "            widgets.VBox([widgets.Label(value=\"Analysis type:\"), analysis_type]),\n",
    "            widgets.VBox([widgets.Label(value=\"Range:\"), selection_range]),\n",
    "            widgets.VBox([widgets.Label(value=\"Row order:\"), row_order]),\n",
    "            widgets.VBox([widgets.Label(value=\"Column order:\"), column_order]),\n",
    "            widgets.VBox([widgets.Label(value=\"Colormap:\"), cmap]),\n",
    "        ],\n",
    "        layout=Layout(height=PANEL_HEIGHT, border=\"1px solid gray\"),\n",
    "    )\n",
    "    right_box = widgets.VBox([output])\n",
    "\n",
    "    return AppLayout(\n",
    "        header=widgets.HTML(value=html_title(\"Co-occurrence analysis\")),\n",
    "        left_sidebar=left_box,\n",
    "        center=right_box,\n",
    "        right_sidebar=None,\n",
    "        pane_widths=[2, 5, 0],\n",
    "        pane_heights=[\"85px\", 5, 0],\n",
    "    )\n",
    "\n",
    "\n",
    "##\n",
    "## Debug\n",
    "##\n",
    "FIGSIZE = (12, 6)\n",
    "PANEL_HEIGHT = \"400px\"\n",
    "\n",
    "\n",
    "def html_title(x):\n",
    "    return (\n",
    "        \"<h1>{}</h1>\".format(x)\n",
    "        + \"<hr style='height:2px;border-width:0;color:gray;background-color:gray'>\"\n",
    "    )\n",
    "\n",
    "\n",
    "co_occurrence_analysis(df)"
   ]
  },
  {
   "cell_type": "code",
   "execution_count": null,
   "metadata": {},
   "outputs": [],
   "source": []
  },
  {
   "cell_type": "code",
   "execution_count": null,
   "metadata": {},
   "outputs": [],
   "source": [
    "caption = widgets.Label(value='Changes in source_range values are reflected in target_range1')\n",
    "source_range, target_range1 = widgets.IntSlider(description='Source range'),\\\n",
    "                              widgets.IntSlider(description='Target range 1')\n",
    "dl = widgets.jsdlink((source_range, 'value'), (target_range1, 'value'))\n",
    "display(caption, source_range, target_range1)"
   ]
  },
  {
   "cell_type": "code",
   "execution_count": null,
   "metadata": {},
   "outputs": [],
   "source": [
    "a = widgets.IntSlider(description=\"Delayed\", continuous_update=False)\n",
    "b = widgets.IntText(description=\"Delayed\", continuous_update=False)\n",
    "c = widgets.IntSlider(description=\"Continuous\", continuous_update=True)\n",
    "d = widgets.IntText(description=\"Continuous\", continuous_update=True)\n",
    "\n",
    "widgets.link((a, 'value'), (b, 'value'))\n",
    "widgets.link((a, 'value'), (c, 'value'))\n",
    "widgets.link((a, 'value'), (d, 'value'))\n",
    "widgets.VBox([a,b,c,d])"
   ]
  },
  {
   "cell_type": "code",
   "execution_count": null,
   "metadata": {},
   "outputs": [],
   "source": [
    "caption = widgets.Label(value='The values of range1 and range2 are synchronized')\n",
    "slider = widgets.IntSlider(min=-5, max=5, value=1, description='Slider')\n",
    "\n",
    "def handle_slider_change(change):\n",
    "    caption.value = 'The slider value is ' + (\n",
    "        'negative' if change.new < 0 else 'nonnegative'\n",
    "    )\n",
    "\n",
    "slider.observe(handle_slider_change, names='value')\n",
    "\n",
    "display(caption, slider)"
   ]
  },
  {
   "cell_type": "code",
   "execution_count": null,
   "metadata": {},
   "outputs": [],
   "source": []
  },
  {
   "cell_type": "code",
   "execution_count": null,
   "metadata": {},
   "outputs": [],
   "source": []
  },
  {
   "cell_type": "code",
   "execution_count": null,
   "metadata": {},
   "outputs": [],
   "source": []
  },
  {
   "cell_type": "code",
   "execution_count": null,
   "metadata": {},
   "outputs": [],
   "source": []
  },
  {
   "cell_type": "code",
   "execution_count": null,
   "metadata": {},
   "outputs": [],
   "source": [
    "def menu_descriptive_stats(x):\n",
    "    return widgets.Text(\"TO-DO\")"
   ]
  },
  {
   "cell_type": "code",
   "execution_count": null,
   "metadata": {},
   "outputs": [],
   "source": [
    "def menu_analysis_by_term_per_term_per_year(x):\n",
    "    return widgets.Text(\"TO-DO\")"
   ]
  },
  {
   "cell_type": "code",
   "execution_count": null,
   "metadata": {},
   "outputs": [],
   "source": [
    "def menu_occurrence(x):\n",
    "    return widgets.Text(\"TO-DO\")"
   ]
  },
  {
   "cell_type": "code",
   "execution_count": null,
   "metadata": {},
   "outputs": [],
   "source": [
    "def menu_co_occurrence(x):\n",
    "    return widgets.Text(\"TO-DO\")"
   ]
  },
  {
   "cell_type": "code",
   "execution_count": null,
   "metadata": {},
   "outputs": [],
   "source": [
    "def menu_autocorrelation(x):\n",
    "    return widgets.Text(\"TO-DO\")"
   ]
  },
  {
   "cell_type": "code",
   "execution_count": null,
   "metadata": {},
   "outputs": [],
   "source": [
    "def menu_correlation(x):\n",
    "    return widgets.Text(\"TO-DO\")"
   ]
  },
  {
   "cell_type": "code",
   "execution_count": null,
   "metadata": {},
   "outputs": [],
   "source": [
    "def menu_factor_analysis(x):\n",
    "    return widgets.Text(\"TO-DO\")"
   ]
  },
  {
   "cell_type": "code",
   "execution_count": null,
   "metadata": {},
   "outputs": [],
   "source": []
  },
  {
   "cell_type": "code",
   "execution_count": null,
   "metadata": {},
   "outputs": [],
   "source": []
  },
  {
   "cell_type": "code",
   "execution_count": null,
   "metadata": {},
   "outputs": [],
   "source": []
  },
  {
   "cell_type": "code",
   "execution_count": null,
   "metadata": {},
   "outputs": [],
   "source": []
  },
  {
   "cell_type": "code",
   "execution_count": null,
   "metadata": {},
   "outputs": [],
   "source": []
  },
  {
   "cell_type": "code",
   "execution_count": null,
   "metadata": {},
   "outputs": [],
   "source": []
  },
  {
   "cell_type": "code",
   "execution_count": null,
   "metadata": {},
   "outputs": [],
   "source": [
    "def dashboard(x):\n",
    "    m = [\n",
    "        (menu_descriptive_stats, \"Descriptive statistics\"),\n",
    "        (menu_analysis_by_year, \"Analysis by year\"),\n",
    "        (menu_analysis_by_term, \"Analysis by term\"),\n",
    "        (menu_analysis_by_term_per_year, \"Analysis by term per year\"),\n",
    "        (menu_occurrence, \"Occurrence analysis\"),\n",
    "        (menu_co_occurrence, \"Co-occurrence analysis\"),\n",
    "        (menu_autocorrelation, \"Autocorrelation analysis\"),\n",
    "        (menu_correlation, \"Correlation analysis\"),\n",
    "        (menu_factor_analysis, \"Factor analysis\"),\n",
    "    ]\n",
    "    accordion = widgets.Accordion()\n",
    "    widget_list = []\n",
    "    for f, _ in m:\n",
    "        widget_list.append(f(x))\n",
    "    accordion.children = widget_list\n",
    "    for index, t in enumerate(m):\n",
    "        accordion.set_title(index, t[1])\n",
    "    return accordion"
   ]
  },
  {
   "cell_type": "code",
   "execution_count": null,
   "metadata": {},
   "outputs": [],
   "source": []
  },
  {
   "cell_type": "code",
   "execution_count": null,
   "metadata": {},
   "outputs": [],
   "source": [
    "dashboard(df)"
   ]
  },
  {
   "cell_type": "code",
   "execution_count": null,
   "metadata": {},
   "outputs": [],
   "source": []
  },
  {
   "cell_type": "code",
   "execution_count": null,
   "metadata": {},
   "outputs": [],
   "source": []
  },
  {
   "cell_type": "code",
   "execution_count": null,
   "metadata": {},
   "outputs": [],
   "source": []
  },
  {
   "cell_type": "code",
   "execution_count": null,
   "metadata": {},
   "outputs": [],
   "source": [
    "df.columns"
   ]
  },
  {
   "cell_type": "code",
   "execution_count": null,
   "metadata": {},
   "outputs": [],
   "source": []
  },
  {
   "cell_type": "code",
   "execution_count": null,
   "metadata": {},
   "outputs": [],
   "source": []
  }
 ],
 "metadata": {
  "kernelspec": {
   "display_name": "Python 3",
   "language": "python",
   "name": "python3"
  },
  "language_info": {
   "codemirror_mode": {
    "name": "ipython",
    "version": 3
   },
   "file_extension": ".py",
   "mimetype": "text/x-python",
   "name": "python",
   "nbconvert_exporter": "python",
   "pygments_lexer": "ipython3",
   "version": "3.6.9"
  }
 },
 "nbformat": 4,
 "nbformat_minor": 4
}
