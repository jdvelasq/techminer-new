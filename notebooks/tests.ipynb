{
 "cells": [
  {
   "cell_type": "code",
   "execution_count": null,
   "metadata": {},
   "outputs": [],
   "source": [
    "import pandas as pd\n",
    "\n",
    "# import techminer.jupyter as jpl\n",
    "from techminer.analytics import load_scopus\n",
    "\n",
    "filepath = \"../data/papers/urban-agriculture.csv\"\n",
    "df = pd.read_csv(filepath)\n",
    "df = load_scopus(df)\n"
   ]
  },
  {
   "cell_type": "code",
   "execution_count": null,
   "metadata": {},
   "outputs": [],
   "source": [
    "import ipywidgets as widgets\n",
    "from ipywidgets import Layout\n",
    "\n",
    "import techminer.analytics as tc\n",
    "import techminer.plots as plt\n",
    "\n",
    "# import matplotlib.pyplot as plt"
   ]
  },
  {
   "cell_type": "code",
   "execution_count": null,
   "metadata": {},
   "outputs": [],
   "source": [
    "COLORMAPS = [\n",
    "    \"Greys\",\n",
    "    \"Purples\",\n",
    "    \"Blues\",\n",
    "    \"Greens\",\n",
    "    \"Oranges\",\n",
    "    \"Reds\",\n",
    "    \"YlOrBr\",\n",
    "    \"YlOrRd\",\n",
    "    \"OrRd\",\n",
    "    \"PuRd\",\n",
    "    \"RdPu\",\n",
    "    \"BuPu\",\n",
    "    \"GnBu\",\n",
    "    \"PuBu\",\n",
    "    \"YlGnBu\",\n",
    "    \"PuBuGn\",\n",
    "    \"BuGn\",\n",
    "    \"YlGn\",\n",
    "    \"Pastel1\",\n",
    "    \"Pastel2\",\n",
    "    \"Paired\",\n",
    "    \"Accent\",\n",
    "    \"Dark2\",\n",
    "    \"Set1\",\n",
    "    \"Set2\",\n",
    "    \"Set3\",\n",
    "    \"tab10\",\n",
    "    \"tab20\",\n",
    "    \"tab20b\",\n",
    "    \"tab20c\",\n",
    "]"
   ]
  },
  {
   "cell_type": "code",
   "execution_count": null,
   "metadata": {},
   "outputs": [],
   "source": [
    "COLUMNS = [\n",
    "    \"Author Keywords\",\n",
    "    \"Authors\",\n",
    "    \"Countries\",\n",
    "    \"Country 1st\",\n",
    "    \"Document type\",\n",
    "    \"Index Keywords\",\n",
    "    \"Institution 1st\"\n",
    "    \"Institutions\",\n",
    "    \"Keywords\",\n",
    "    \"Source title\",\n",
    "]"
   ]
  },
  {
   "cell_type": "code",
   "execution_count": null,
   "metadata": {},
   "outputs": [],
   "source": []
  },
  {
   "cell_type": "code",
   "execution_count": null,
   "metadata": {},
   "outputs": [],
   "source": [
    "def menu_descriptive_stats(x):\n",
    "    return widgets.Text(\"TO-DO\")"
   ]
  },
  {
   "cell_type": "code",
   "execution_count": null,
   "metadata": {},
   "outputs": [],
   "source": [
    "def menu_analysis_by_term_per_term_per_year(x):\n",
    "    return widgets.Text(\"TO-DO\")"
   ]
  },
  {
   "cell_type": "code",
   "execution_count": null,
   "metadata": {},
   "outputs": [],
   "source": [
    "def menu_occurrence(x):\n",
    "    return widgets.Text(\"TO-DO\")"
   ]
  },
  {
   "cell_type": "code",
   "execution_count": null,
   "metadata": {},
   "outputs": [],
   "source": [
    "def menu_co_occurrence(x):\n",
    "    return widgets.Text(\"TO-DO\")"
   ]
  },
  {
   "cell_type": "code",
   "execution_count": null,
   "metadata": {},
   "outputs": [],
   "source": [
    "def menu_autocorrelation(x):\n",
    "    return widgets.Text(\"TO-DO\")"
   ]
  },
  {
   "cell_type": "code",
   "execution_count": null,
   "metadata": {},
   "outputs": [],
   "source": [
    "def menu_correlation(x):\n",
    "    return widgets.Text(\"TO-DO\")"
   ]
  },
  {
   "cell_type": "code",
   "execution_count": null,
   "metadata": {},
   "outputs": [],
   "source": [
    "def menu_factor_analysis(x):\n",
    "    return widgets.Text(\"TO-DO\")"
   ]
  },
  {
   "cell_type": "code",
   "execution_count": null,
   "metadata": {},
   "outputs": [],
   "source": [
    "def menu_analysis_by_year(x):\n",
    "    def compute(selected, plot_type, cmap):\n",
    "        df = tc.summary_by_year(x)\n",
    "        df = df[data[selected]]\n",
    "        plot = plots[plot_type]\n",
    "        output.clear_output()\n",
    "        with output:\n",
    "            display(plot(df, cmap=cmap))\n",
    "\n",
    "    #\n",
    "    # Options\n",
    "    #\n",
    "    data = {\n",
    "        \"Documents by Year\": [\"Year\", \"Num Documents\"],\n",
    "        \"Cum. Documents by Year\": [\"Year\", \"Num Documents (Cum)\"],\n",
    "        \"Times Cited by Year\": [\"Year\", \"Times Cited\"],\n",
    "        \"Cum. Times Cited by Year\": [\"Year\", \"Times Cited (Cum)\"],\n",
    "        \"Avg. Times Cited by Year\": [\"Year\", \"Avg. Times Cited\"],\n",
    "    }\n",
    "    plots = {\"bar\": plt.bar, \"barh\": plt.bar}\n",
    "    #\n",
    "    selected = widgets.Dropdown(\n",
    "        options=list(data.keys()),\n",
    "        value=list(data.keys())[0],\n",
    "        disable=False,\n",
    "    )\n",
    "    plot_type = widgets.Dropdown(\n",
    "        options=[\"bar\", \"barh\"], disable=False,\n",
    "    )\n",
    "    cmap = widgets.Dropdown(options=COLORMAPS, disable=False,)\n",
    "    #\n",
    "    output = widgets.Output()\n",
    "    with output:\n",
    "        display(\n",
    "            widgets.interactive_output(\n",
    "                compute, {\"selected\": selected, \"plot_type\": plot_type, \"cmap\": cmap}\n",
    "            )\n",
    "        )\n",
    "    #\n",
    "    left_box = widgets.VBox(\n",
    "        [\n",
    "            widgets.VBox([widgets.Label(value=\"Plot:\"), selected]),\n",
    "            widgets.VBox([widgets.Label(value=\"Plot type:\"), plot_type]),\n",
    "            widgets.VBox([widgets.Label(value=\"Colormap:\"), cmap]),\n",
    "        ],\n",
    "        layout=Layout(height=\"350px\", border=\"1px solid gray\"),\n",
    "    )\n",
    "    right_box = widgets.VBox([output])\n",
    "    return widgets.HBox([left_box, right_box])"
   ]
  },
  {
   "cell_type": "code",
   "execution_count": null,
   "metadata": {},
   "outputs": [],
   "source": [
    "def menu_analysis_by_term(x):\n",
    "    def tab_term_plots():\n",
    "        def compute_by_term(term, top_n, analysis_type, plot_type, cmap):\n",
    "            df = tc.summary_by_term(x, term)\n",
    "            if analysis_type == \"Frequency\":\n",
    "                df = df.sort_values(\n",
    "                    [\"Num Documents\", \"Cited by\", term], ascending=False\n",
    "                )\n",
    "                df = df[[term, \"Num Documents\"]].head(top_n)\n",
    "            else:\n",
    "                df = df.sort_values(\n",
    "                    [\"Cited by\", \"Num Documents\", term], ascending=False\n",
    "                )\n",
    "                df = df[[term, \"Cited by\"]].head(top_n)\n",
    "            df = df.reset_index(drop=True)\n",
    "            plot = plots[plot_type]\n",
    "            output.clear_output()\n",
    "            with output:\n",
    "                display(plot(df, cmap=cmap))\n",
    "\n",
    "        columns = [z for z in COLUMNS if z in x.columns]\n",
    "        term = widgets.Select(options=columns, ensure_option=True, disabled=False,)\n",
    "\n",
    "        analysis_type = widgets.Dropdown(\n",
    "            options=[\"Frequency\", \"Citation\"], value=\"Frequency\", disable=False,\n",
    "        )\n",
    "        #\n",
    "        plots = {\"bar\": plt.bar, \"barh\": plt.bar}\n",
    "        plot_type = widgets.Dropdown(options=list(plots.keys()), disable=False,)\n",
    "        cmap = widgets.Dropdown(options=COLORMAPS, disable=False,)\n",
    "        #\n",
    "        top_n = widgets.IntSlider(\n",
    "            value=10,\n",
    "            min=10,\n",
    "            max=50,\n",
    "            step=1,\n",
    "            disabled=False,\n",
    "            continuous_update=False,\n",
    "            orientation=\"horizontal\",\n",
    "            readout=True,\n",
    "            readout_format=\"d\",\n",
    "        )\n",
    "        #\n",
    "        output = widgets.Output()\n",
    "        with output:\n",
    "            display(\n",
    "                widgets.interactive_output(\n",
    "                    compute_by_term,\n",
    "                    {\n",
    "                        \"term\": term,\n",
    "                        \"top_n\": top_n,\n",
    "                        \"analysis_type\": analysis_type,\n",
    "                        \"plot_type\": plot_type,\n",
    "                        \"cmap\": cmap,\n",
    "                    },\n",
    "                )\n",
    "            )\n",
    "        #\n",
    "        left_box = widgets.VBox(\n",
    "            [\n",
    "                widgets.VBox([widgets.Label(value=\"Term to analyze:\"), term]),\n",
    "                widgets.VBox([widgets.Label(value=\"Analysis type:\"), analysis_type]),\n",
    "                widgets.VBox([widgets.Label(value=\"Top n terms:\"), top_n]),\n",
    "                widgets.VBox([widgets.Label(value=\"Plot type:\"), plot_type]),\n",
    "                widgets.VBox([widgets.Label(value=\"Colormap:\"), cmap]),\n",
    "            ],\n",
    "            layout=Layout(height=\"400px\", border=\"1px solid gray\"),\n",
    "        )\n",
    "        right_box = widgets.VBox([output])\n",
    "        return widgets.HBox([left_box, right_box])\n",
    "\n",
    "    def tab_worldmap():\n",
    "        def compute_worldmap(term, analysis_type, cmap):\n",
    "            df = tc.summary_by_term(x, term)\n",
    "            if analysis_type == \"Frequency\":\n",
    "                df = df[[term, \"Num Documents\"]]\n",
    "            else:\n",
    "                df = df[[term, \"Cited by\"]]\n",
    "            df = df.reset_index(drop=True)\n",
    "            output.clear_output()\n",
    "            with output:\n",
    "                display(plt.worldmap(df, cmap=cmap))\n",
    "\n",
    "        term = widgets.Select(\n",
    "            options=[\"Countries\", \"Country 1st\"], ensure_option=True, disabled=False,\n",
    "        )\n",
    "        analysis_type = widgets.Dropdown(\n",
    "            options=[\"Frequency\", \"Citation\"], value=\"Frequency\", disable=False,\n",
    "        )\n",
    "        cmap = widgets.Dropdown(options=COLORMAPS, disable=False,)\n",
    "        #\n",
    "        output = widgets.Output()\n",
    "        with output:\n",
    "            display(\n",
    "                widgets.interactive_output(\n",
    "                    compute_worldmap,\n",
    "                    {\"term\": term, \"analysis_type\": analysis_type, \"cmap\": cmap,},\n",
    "                )\n",
    "            )\n",
    "        #\n",
    "        left_box = widgets.VBox(\n",
    "            [\n",
    "                widgets.VBox([widgets.Label(value=\"Term to analyze:\"), term]),\n",
    "                widgets.VBox([widgets.Label(value=\"Analysis type:\"), analysis_type]),\n",
    "                widgets.VBox([widgets.Label(value=\"Colormap:\"), cmap]),\n",
    "            ],\n",
    "            layout=Layout(height=\"400px\", border=\"1px solid gray\"),\n",
    "        )\n",
    "        right_box = widgets.VBox([output])\n",
    "        return widgets.HBox([left_box, right_box])\n",
    "\n",
    "    #\n",
    "\n",
    "    tab_nest = widgets.Tab()\n",
    "    tab_nest.children = [tab_term_plots(), tab_worldmap()]\n",
    "    tab_nest.set_title(0, \"Term analysis\")\n",
    "    tab_nest.set_title(1, \"Worldmap\")\n",
    "    return tab_nest"
   ]
  },
  {
   "cell_type": "code",
   "execution_count": null,
   "metadata": {},
   "outputs": [],
   "source": [
    "def dashboard(x):\n",
    "    m = [\n",
    "        (menu_descriptive_stats, \"Descriptive statistics\"),\n",
    "        (menu_analysis_by_year, \"Analysis by year\"),\n",
    "        (menu_analysis_by_term, \"Analysis by term\"),\n",
    "        (menu_analysis_by_term_per_year, \"Analysis by term per year\"),\n",
    "        (menu_occurrence, \"Occurrence analysis\"),\n",
    "        (menu_co_occurrence, \"Co-occurrence analysis\"),\n",
    "        (menu_autocorrelation, \"Autocorrelation analysis\"),\n",
    "        (menu_correlation, \"Correlation analysis\"),\n",
    "        (menu_factor_analysis, \"Factor analysis\"),\n",
    "    ]\n",
    "    accordion = widgets.Accordion()\n",
    "    widget_list = []\n",
    "    for f, _ in m:\n",
    "        widget_list.append(f(x))\n",
    "    accordion.children = widget_list\n",
    "    for index, t in enumerate(m):\n",
    "        accordion.set_title(index, t[1])\n",
    "    return accordion"
   ]
  },
  {
   "cell_type": "code",
   "execution_count": null,
   "metadata": {},
   "outputs": [],
   "source": [
    "def menu_analysis_by_term_per_year(x):\n",
    "    def compute(selected, plot_type, cmap):\n",
    "        df = tc.summary_by_term_per_year(x)\n",
    "        df = df[data[selected]]\n",
    "        plot = plots[plot_type]\n",
    "        output.clear_output()\n",
    "        with output:\n",
    "            display(plot(df, cmap=cmap))\n",
    "\n",
    "    #\n",
    "    # Options\n",
    "    #\n",
    "    data = {\n",
    "        \"Documents by Year\": [\"Year\", \"Num Documents\"],\n",
    "        \"Cum. Documents by Year\": [\"Year\", \"Num Documents (Cum)\"],\n",
    "        \"Times Cited by Year\": [\"Year\", \"Times Cited\"],\n",
    "        \"Cum. Times Cited by Year\": [\"Year\", \"Times Cited (Cum)\"],\n",
    "        \"Avg. Times Cited by Year\": [\"Year\", \"Avg. Times Cited\"],\n",
    "    }\n",
    "    plots = {\"bar\": plt.bar, \"barh\": plt.bar}\n",
    "    #\n",
    "    selected = widgets.Dropdown(\n",
    "        options=list(data.keys()),\n",
    "        value=list(data.keys())[0],\n",
    "        disable=False,\n",
    "    )\n",
    "    plot_type = widgets.Dropdown(\n",
    "        options=[\"bar\", \"barh\"], disable=False,\n",
    "    )\n",
    "    cmap = widgets.Dropdown(options=COLORMAPS, disable=False,)\n",
    "    #\n",
    "    output = widgets.Output()\n",
    "    with output:\n",
    "        display(\n",
    "            widgets.interactive_output(\n",
    "                compute, {\"selected\": selected, \"plot_type\": plot_type, \"cmap\": cmap}\n",
    "            )\n",
    "        )\n",
    "    #\n",
    "    left_box = widgets.VBox(\n",
    "        [\n",
    "            widgets.VBox([widgets.Label(value=\"Plot:\"), selected]),\n",
    "            widgets.VBox([widgets.Label(value=\"Plot type:\"), plot_type]),\n",
    "            widgets.VBox([widgets.Label(value=\"Colormap:\"), cmap]),\n",
    "        ],\n",
    "        layout=Layout(height=\"350px\", border=\"1px solid gray\"),\n",
    "    )\n",
    "    right_box = widgets.VBox([output])\n",
    "    return widgets.HBox([left_box, right_box])"
   ]
  },
  {
   "cell_type": "code",
   "execution_count": null,
   "metadata": {},
   "outputs": [],
   "source": [
    "dashboard(df)"
   ]
  },
  {
   "cell_type": "code",
   "execution_count": null,
   "metadata": {},
   "outputs": [],
   "source": []
  },
  {
   "cell_type": "code",
   "execution_count": null,
   "metadata": {},
   "outputs": [],
   "source": []
  },
  {
   "cell_type": "code",
   "execution_count": null,
   "metadata": {},
   "outputs": [],
   "source": []
  },
  {
   "cell_type": "code",
   "execution_count": null,
   "metadata": {},
   "outputs": [],
   "source": [
    "df.columns"
   ]
  },
  {
   "cell_type": "code",
   "execution_count": null,
   "metadata": {},
   "outputs": [],
   "source": []
  },
  {
   "cell_type": "code",
   "execution_count": null,
   "metadata": {},
   "outputs": [],
   "source": [
    "def f(m, n, o):\n",
    "    print('{}*{}*{}={}'.format(m, n, o, m*n*o))\n",
    "\n",
    "\n",
    "\n",
    "a = widgets.IntSlider(description='a')\n",
    "b = widgets.IntSlider(description='b')\n",
    "c = widgets.IntSlider(description='c')\n",
    "\n",
    "out = widgets.interactive_output(f, {'m': a, 'n': b, 'o': c})\n",
    "\n",
    "widgets.HBox([widgets.VBox([a, b, c]), out])"
   ]
  },
  {
   "cell_type": "code",
   "execution_count": null,
   "metadata": {},
   "outputs": [],
   "source": [
    "widgets.Select(\n",
    "    # value='John',\n",
    "    placeholder='Choose Someone',\n",
    "    options=['Paul', 'John', 'George', 'Ringo'],\n",
    "    description='Combobox:',\n",
    "    ensure_option=True,\n",
    "    disabled=False\n",
    ")"
   ]
  },
  {
   "cell_type": "code",
   "execution_count": null,
   "metadata": {},
   "outputs": [],
   "source": [
    "print(widgets.Dropdown.on_click.__doc__)"
   ]
  },
  {
   "cell_type": "code",
   "execution_count": null,
   "metadata": {},
   "outputs": [],
   "source": []
  },
  {
   "cell_type": "code",
   "execution_count": null,
   "metadata": {},
   "outputs": [],
   "source": [
    "jpl.summary_by_term(df, cmap=\"Blues\")"
   ]
  },
  {
   "cell_type": "code",
   "execution_count": null,
   "metadata": {},
   "outputs": [],
   "source": [
    "button = widgets.Button(description='Click here')\n",
    "slider = widgets.IntSlider()\n",
    "stacked = widgets.Stacked([button, slider])\n",
    "stacked"
   ]
  },
  {
   "cell_type": "code",
   "execution_count": null,
   "metadata": {},
   "outputs": [],
   "source": [
    "widgets.VBox([widgets.Label(value=\"The $m$ in $E=mc^2$:\"), widgets.FloatSlider()])"
   ]
  },
  {
   "cell_type": "code",
   "execution_count": null,
   "metadata": {},
   "outputs": [],
   "source": [
    "import ipywidgets as widgets\n",
    "\n",
    "button = widgets.Button(description=\"Click here\")\n",
    "slider = widgets.IntSlider()\n",
    "stacked = widgets.Stacked([button, slider])\n",
    "stacked  # will show only the button"
   ]
  },
  {
   "cell_type": "code",
   "execution_count": null,
   "metadata": {},
   "outputs": [],
   "source": [
    "tab_nest = widgets.Tab()\n",
    "tab_nest.children = [accordion, accordion]\n",
    "tab_nest.titles = (\"An accordion\", \"Copy of the accordion\")\n",
    "tab_nest"
   ]
  },
  {
   "cell_type": "code",
   "execution_count": null,
   "metadata": {},
   "outputs": [],
   "source": [
    "tab_contents = [\"P0\", \"P1\", \"P2\", \"P3\", \"P4\"]\n",
    "children = [widgets.Text(description=name) for name in tab_contents]\n",
    "tab = widgets.Tab()\n",
    "tab.children = children\n",
    "tab.titles = [str(i) for i in range(len(children))]\n",
    "tab"
   ]
  },
  {
   "cell_type": "code",
   "execution_count": null,
   "metadata": {},
   "outputs": [],
   "source": [
    "accordion = widgets.Accordion(\n",
    "    children=[widgets.IntSlider(), widgets.Text()], titles=(\"Slider\", \"Text\")\n",
    ")\n",
    "accordion"
   ]
  },
  {
   "cell_type": "code",
   "execution_count": null,
   "metadata": {},
   "outputs": [],
   "source": [
    "# jpl.summary_by_year(df, cmap='Blues')"
   ]
  },
  {
   "cell_type": "code",
   "execution_count": 3,
   "metadata": {},
   "outputs": [
    {
     "data": {
      "image/png": "[encoded data removed]",
      "text/plain": [
       "<Figure size 576x576 with 1 Axes>"
      ]
     },
     "execution_count": 3,
     "metadata": {},
     "output_type": "execute_result"
    }
   ],
   "source": [
    "import textwrap\n",
    "import matplotlib.pyplot as plt\n",
    "\n",
    "TEXTLEN = 30\n",
    "\n",
    "def heatmap(x, figsize=(8,8), **kwargs):\n",
    "    \n",
    "    fig = plt.Figure(figsize=figsize)\n",
    "    ax = fig.subplots()\n",
    "    x = x.copy()\n",
    "    result = ax.pcolor(np.transpose(x.values), **kwargs,)\n",
    "    x.columns = [textwrap.shorten(text=w, width=TEXTLEN) for w in x.columns]\n",
    "    x.index = [textwrap.shorten(text=w, width=TEXTLEN) for w in x.index]\n",
    "    ax.set_xticks(np.arange(len(x.index))+ 0.5)\n",
    "    ax.set_xticklabels(x.index)\n",
    "    ax.tick_params(axis=\"x\", labelrotation=90)\n",
    "    ax.set_yticks(np.arange(len(x.columns))+ 0.5)\n",
    "    ax.set_yticklabels(x.columns)\n",
    "    ax.invert_yaxis()\n",
    "\n",
    "    if \"cmap\" in kwargs:\n",
    "        cmap = plt.cm.get_cmap(kwargs[\"cmap\"])\n",
    "    else:\n",
    "        cmap = plt.cm.get_cmap()\n",
    "\n",
    "    if all(x.dtypes == \"int64\"):\n",
    "        fmt = \"{:3.0f}\"\n",
    "    else:\n",
    "        fmt = \"{:3.2f}\"\n",
    "\n",
    "    for idx_row, row in enumerate(x.index):\n",
    "        for idx_col, col in enumerate(x.columns):\n",
    "            if abs(x.at[row, col]) > x.values.max().max() / 2.0:\n",
    "                color = cmap(0.0)\n",
    "            else:\n",
    "                color = cmap(1.0)\n",
    "            ax.text(\n",
    "                idx_row + 0.5,\n",
    "                idx_col + 0.5,\n",
    "                fmt.format(x.at[row, col]),\n",
    "                ha=\"center\",\n",
    "                va=\"center\",\n",
    "                color=color,\n",
    "            )\n",
    "    ax.xaxis.tick_top()\n",
    "\n",
    "    return fig\n",
    "\n",
    "\n",
    "df = pd.DataFrame(\n",
    "    {\n",
    "       'word 0': [1.00, 0.80, 0.70, 0.00,-0.30],\n",
    "        'word 1': [0.80, 1.00, 0.70, 0.50, 0.00],\n",
    "        'word 2': [0.70, 0.70, 1.00, 0.00, 0.00],\n",
    "        'word 3': [0.00, 0.50, 0.00, 1.00, 0.30],\n",
    "        'word 4': [-0.30, 0.00, 0.00, 0.30, 1.00],\n",
    "    },\n",
    "    index=['word {:d}'.format(i) for i in range(5)]\n",
    ")\n",
    "heatmap(df)"
   ]
  },
  {
   "cell_type": "code",
   "execution_count": null,
   "metadata": {},
   "outputs": [],
   "source": []
  }
 ],
 "metadata": {
  "kernelspec": {
   "display_name": "Python 3",
   "language": "python",
   "name": "python3"
  },
  "language_info": {
   "codemirror_mode": {
    "name": "ipython",
    "version": 3
   },
   "file_extension": ".py",
   "mimetype": "text/x-python",
   "name": "python",
   "nbconvert_exporter": "python",
   "pygments_lexer": "ipython3",
   "version": "3.6.9"
  }
 },
 "nbformat": 4,
 "nbformat_minor": 4
}
