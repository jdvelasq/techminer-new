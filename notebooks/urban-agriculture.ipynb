{
 "cells": [
  {
   "cell_type": "code",
   "execution_count": null,
   "metadata": {},
   "outputs": [],
   "source": [
    "# Install latest version from GitHub\n",
    "# !pip install -q -U git+https://github.com/jdvelasq/techminer"
   ]
  },
  {
   "cell_type": "code",
   "execution_count": null,
   "metadata": {},
   "outputs": [],
   "source": [
    "import pandas as pd\n",
    "\n",
    "import techminer.jupyter as jpl\n",
    "\n",
    "filepath = \"../data/papers/urban-agriculture.csv\"\n",
    "df = pd.read_csv(filepath)"
   ]
  },
  {
   "cell_type": "code",
   "execution_count": null,
   "metadata": {},
   "outputs": [],
   "source": [
    "#\n",
    "# conversion de datos\n",
    "#\n",
    "from techminer.analytics import load_scopus\n",
    "\n",
    "df = load_scopus(df)"
   ]
  },
  {
   "cell_type": "code",
   "execution_count": null,
   "metadata": {},
   "outputs": [],
   "source": [
    "from techminer.analytics import coverage\n",
    "\n",
    "coverage(df)"
   ]
  },
  {
   "cell_type": "code",
   "execution_count": null,
   "metadata": {},
   "outputs": [],
   "source": [
    "from techminer.analytics import descriptive_stats\n",
    "\n",
    "descriptive_stats(df)"
   ]
  },
  {
   "cell_type": "code",
   "execution_count": null,
   "metadata": {},
   "outputs": [],
   "source": []
  },
  {
   "cell_type": "code",
   "execution_count": null,
   "metadata": {},
   "outputs": [],
   "source": [
    "jpl.summary_by_year(df, cmap='Blues')"
   ]
  },
  {
   "cell_type": "code",
   "execution_count": null,
   "metadata": {},
   "outputs": [],
   "source": []
  },
  {
   "cell_type": "code",
   "execution_count": null,
   "metadata": {},
   "outputs": [],
   "source": []
  },
  {
   "cell_type": "code",
   "execution_count": null,
   "metadata": {},
   "outputs": [],
   "source": []
  },
  {
   "cell_type": "code",
   "execution_count": null,
   "metadata": {},
   "outputs": [],
   "source": []
  },
  {
   "cell_type": "code",
   "execution_count": null,
   "metadata": {},
   "outputs": [],
   "source": []
  },
  {
   "cell_type": "code",
   "execution_count": null,
   "metadata": {},
   "outputs": [],
   "source": [
    "import json\n",
    "\n",
    "import matplotlib.pyplot as plt\n",
    "import pandas as pd"
   ]
  },
  {
   "cell_type": "markdown",
   "metadata": {},
   "source": [
    "# Data preparation"
   ]
  },
  {
   "cell_type": "code",
   "execution_count": 2,
   "metadata": {},
   "outputs": [
    {
     "name": "stdout",
     "output_type": "stream",
     "text": [
      "<class 'pandas.core.frame.DataFrame'>\n",
      "RangeIndex: 688 entries, 0 to 687\n",
      "Data columns (total 33 columns):\n",
      " #   Column                         Non-Null Count  Dtype  \n",
      "---  ------                         --------------  -----  \n",
      " 0   Authors                        688 non-null    object \n",
      " 1   Author(s) ID                   688 non-null    object \n",
      " 2   Title                          688 non-null    object \n",
      " 3   Year                           688 non-null    int64  \n",
      " 4   Source title                   688 non-null    object \n",
      " 5   Volume                         602 non-null    object \n",
      " 6   Issue                          444 non-null    object \n",
      " 7   Art. No.                       132 non-null    object \n",
      " 8   Page start                     544 non-null    object \n",
      " 9   Page end                       542 non-null    object \n",
      " 10  Page count                     9 non-null      float64\n",
      " 11  Cited by                       453 non-null    float64\n",
      " 12  DOI                            574 non-null    object \n",
      " 13  Link                           688 non-null    object \n",
      " 14  Affiliations                   655 non-null    object \n",
      " 15  Authors with affiliations      680 non-null    object \n",
      " 16  Abstract                       688 non-null    object \n",
      " 17  Author Keywords                554 non-null    object \n",
      " 18  Index Keywords                 390 non-null    object \n",
      " 19  Correspondence Address         550 non-null    object \n",
      " 20  Editors                        55 non-null     object \n",
      " 21  Publisher                      563 non-null    object \n",
      " 22  ISSN                           614 non-null    object \n",
      " 23  ISBN                           109 non-null    object \n",
      " 24  CODEN                          131 non-null    object \n",
      " 25  PubMed ID                      66 non-null     float64\n",
      " 26  Language of Original Document  687 non-null    object \n",
      " 27  Abbreviated Source Title       680 non-null    object \n",
      " 28  Document Type                  688 non-null    object \n",
      " 29  Publication Stage              688 non-null    object \n",
      " 30  Access Type                    185 non-null    object \n",
      " 31  Source                         688 non-null    object \n",
      " 32  EID                            688 non-null    object \n",
      "dtypes: float64(3), int64(1), object(29)\n",
      "memory usage: 177.5+ KB\n"
     ]
    }
   ],
   "source": [
    "#\n",
    "# Carga de datos\n",
    "#\n",
    "filepath = (\n",
    "    \"https://raw.githubusercontent.com/jdvelasq/techminer/master/data/papers\"\n",
    "    + \"urban-agriculture.csv\"\n",
    ")\n",
    "filepath = \"../data/papers/urban-agriculture.csv\"\n",
    "df = pd.read_csv(filepath)\n",
    "df = df.applymap(lambda x: None if pd.isna(x) is True else x)\n",
    "df.info()"
   ]
  },
  {
   "cell_type": "code",
   "execution_count": null,
   "metadata": {},
   "outputs": [],
   "source": [
    "#\n",
    "# Scopus data preparation\n",
    "#\n",
    "#   1. Change ',' by ';' and remove '.' in author names\n",
    "#   2. Remove part of title in foreign language\n",
    "#   3. Keywords = Author Keywords + Index Keywords\n",
    "#   4. Extract country and affiliation\n",
    "#\n",
    "df = prepare_scopus_data(df)"
   ]
  },
  {
   "cell_type": "code",
   "execution_count": null,
   "metadata": {},
   "outputs": [],
   "source": [
    "#\n",
    "# Author desambiguation\n",
    "#\n",
    "df = DataFrame(df).disambiguate_authors()"
   ]
  },
  {
   "cell_type": "code",
   "execution_count": null,
   "metadata": {},
   "outputs": [],
   "source": [
    "#\n",
    "# Number of records without Keywords\n",
    "#\n",
    "len(df[df.Keywords.map(lambda x: x is None)])"
   ]
  },
  {
   "cell_type": "code",
   "execution_count": null,
   "metadata": {},
   "outputs": [],
   "source": [
    "#\n",
    "# Titles of documents without keywords\n",
    "#\n",
    "df[df.Keywords.map(lambda x: x is None)][\"Title\"]"
   ]
  },
  {
   "cell_type": "code",
   "execution_count": null,
   "metadata": {},
   "outputs": [],
   "source": [
    "#\n",
    "# Build keywords from other papers\n",
    "#\n",
    "keywords = Keywords(df.Keywords[df.Keywords.map(lambda w: w is not None)], sep=\";\")\n",
    "keywords = keywords.compile()\n",
    "title_abstract = df.Title + df.Abstract\n",
    "opt_keywords = title_abstract.map(lambda w: keywords.extract_from_text(w))\n",
    "\n",
    "# check\n",
    "opt_keywords[df.Keywords.map(lambda w: w is None)].head()"
   ]
  },
  {
   "cell_type": "code",
   "execution_count": null,
   "metadata": {},
   "outputs": [],
   "source": [
    "#\n",
    "# Assign new keywords\n",
    "#\n",
    "df.at[df.Keywords.map(lambda w: w is None), \"Keywords\"] = opt_keywords[\n",
    "    df.Keywords.map(lambda w: w is None)\n",
    "]\n",
    "\n",
    "#\n",
    "# Check: Number of records without Keywords\n",
    "#\n",
    "len(df[df.Keywords.map(lambda x: x is None)])"
   ]
  },
  {
   "cell_type": "code",
   "execution_count": null,
   "metadata": {},
   "outputs": [],
   "source": [
    "#\n",
    "# Text clustering of keywords.\n",
    "#   Keyword strings with the same number of words\n",
    "#\n",
    "thesaurus = text_clustering(df.Keywords, sep=\";\", transformer=lambda x: x.lower())\n",
    "with open(\"urban-agriculture-raw.json\", \"w\") as f:\n",
    "    f.write(thesaurus.__repr__())"
   ]
  },
  {
   "cell_type": "code",
   "execution_count": null,
   "metadata": {},
   "outputs": [],
   "source": [
    "!head -n 20 urban-agriculture-raw.json"
   ]
  },
  {
   "cell_type": "code",
   "execution_count": null,
   "metadata": {},
   "outputs": [],
   "source": [
    "#\n",
    "# Keywords cleaning\n",
    "#\n",
    "f = thesaurus.to_dict()\n",
    "df[\"Keywords\"] = df.Keywords.map(\n",
    "    lambda x: \";\".join([f[w] for w in x.split(\";\") if w in f])\n",
    ")\n",
    "\n",
    "#\n",
    "#   Remove extra blanks between keywords if exists\n",
    "#\n",
    "df[\"Keywords\"] = df.Keywords.map(\n",
    "    lambda x: \";\".join(set([w.strip() for w in x.split(\";\")]))\n",
    ")\n",
    "\n",
    "#\n",
    "#   Replace empty strings by None\n",
    "#\n",
    "df[\"Keywords\"] = df.Keywords.map(lambda x: x if x != \"\" else None)\n",
    "\n",
    "#\n",
    "#   Number of unique of strings\n",
    "#\n",
    "len(set([w.strip() for x in df.Keywords if x is not None for w in x.split(\";\")]))"
   ]
  },
  {
   "cell_type": "code",
   "execution_count": null,
   "metadata": {},
   "outputs": [],
   "source": [
    "#\n",
    "# A column for identify each record is added to the dataframe.\n",
    "#\n",
    "df = DataFrame(df).generate_ID()"
   ]
  },
  {
   "cell_type": "markdown",
   "metadata": {},
   "source": [
    "# Descriptive Statistics"
   ]
  },
  {
   "cell_type": "code",
   "execution_count": 1,
   "metadata": {},
   "outputs": [
    {
     "data": {
      "application/vnd.jupyter.widget-view+json": {
       "model_id": "dc61314abd71444182415a61fa570644",
       "version_major": 2,
       "version_minor": 0
      },
      "text/plain": [
       "Tab(children=(Output(), Output()), _titles={'0': 'Documents by year', '1': 'Citations by year'})"
      ]
     },
     "metadata": {},
     "output_type": "display_data"
    }
   ],
   "source": [
    "import pandas as pd\n",
    "\n",
    "import techminer.jupyter as jpl\n",
    "from techminer import DataFrame\n",
    "\n",
    "filepath = \"../data/papers/urban-agriculture.csv\"\n",
    "df = pd.read_csv(filepath)\n",
    "df = df.applymap(lambda x: None if pd.isna(x) is True else x)\n",
    "df = DataFrame(df).generate_ID()\n",
    "\n",
    "jpl.summary_by_year(df, cmap=\"Blues\")"
   ]
  },
  {
   "cell_type": "code",
   "execution_count": null,
   "metadata": {},
   "outputs": [],
   "source": []
  },
  {
   "cell_type": "code",
   "execution_count": null,
   "metadata": {},
   "outputs": [],
   "source": [
    "def my_figure():\n",
    "    fig = plt.Figure()\n",
    "    ax = fig.subplots()\n",
    "    ax.bar([0, 1, 2], [10, 20, 30])\n",
    "    years = [2000, 2001, 2002]\n",
    "    ax.set_xticks([0, 1, 2])\n",
    "    ax.set_xticklabels(years)\n",
    "    ax.tick_params(axis=\"x\", labelrotation=90)\n",
    "    print(type(ax))\n",
    "    return fig\n",
    "\n",
    "\n",
    "my_figure()"
   ]
  },
  {
   "cell_type": "code",
   "execution_count": null,
   "metadata": {},
   "outputs": [],
   "source": []
  },
  {
   "cell_type": "code",
   "execution_count": null,
   "metadata": {},
   "outputs": [],
   "source": []
  },
  {
   "cell_type": "code",
   "execution_count": null,
   "metadata": {},
   "outputs": [],
   "source": []
  },
  {
   "cell_type": "code",
   "execution_count": null,
   "metadata": {},
   "outputs": [],
   "source": [
    "def my_figure():\n",
    "    fig = plt.Figure()\n",
    "    ax = fig.subplots()\n",
    "    ax.plot([1, 2])\n",
    "    return fig\n",
    "\n",
    "\n",
    "my_figure()"
   ]
  },
  {
   "cell_type": "code",
   "execution_count": null,
   "metadata": {},
   "outputs": [],
   "source": []
  },
  {
   "cell_type": "code",
   "execution_count": null,
   "metadata": {},
   "outputs": [],
   "source": [
    "def my_figure():\n",
    "    fig = plt.Figure()\n",
    "    ax = fig.subplots()\n",
    "    plt.gca().plot([1, 2])\n",
    "    return fig\n",
    "\n",
    "\n",
    "def my_figure2():\n",
    "    fig = plt.Figure()\n",
    "    ax = fig.subplots()\n",
    "    ax.plot([2, 1])\n",
    "    return fig\n",
    "\n",
    "\n",
    "def basic_info():\n",
    "    docs_by_year = widgets.Output()\n",
    "    with docs_by_year:\n",
    "        display(my_figure())\n",
    "\n",
    "    citations_by_year = widgets.Output()\n",
    "    with citations_by_year:\n",
    "        display(my_figure2())\n",
    "\n",
    "    accordion = widgets.Accordion(children=[docs_by_year, citations_by_year])\n",
    "    accordion.set_title(0, \"Documents by year\")\n",
    "    accordion.set_title(1, \"Citations by year\")\n",
    "    return accordion\n",
    "\n",
    "\n",
    "basic_info()"
   ]
  },
  {
   "cell_type": "code",
   "execution_count": 6,
   "metadata": {},
   "outputs": [
    {
     "data": {
      "application/vnd.jupyter.widget-view+json": {
       "model_id": "746055d4c2644b41b27245fc79de2938",
       "version_major": 2,
       "version_minor": 0
      },
      "text/plain": [
       "Tab(children=(Output(), Output(), Output()), _titles={'0': 'docs by year', '1': 'citations by year', '2': 'pan…"
      ]
     },
     "metadata": {},
     "output_type": "display_data"
    }
   ],
   "source": [
    "import ipywidgets as widgets\n",
    "import matplotlib.pyplot as plt\n",
    "import pandas as pd\n",
    "from IPython.display import HTML, clear_output, display\n",
    "from matplotlib.figure import Figure\n",
    "\n",
    "\n",
    "def my_figure():\n",
    "    fig = plt.Figure()\n",
    "    ax = fig.subplots()\n",
    "    ax.plot([1, 2])\n",
    "    return fig\n",
    "\n",
    "\n",
    "def my_figure2():\n",
    "    fig = plt.Figure()\n",
    "    ax = fig.subplots()\n",
    "    ax.plot([2, 1])\n",
    "    return fig\n",
    "\n",
    "\n",
    "def basic_info():\n",
    "    ##\n",
    "    docs_by_year = widgets.Output()\n",
    "    with docs_by_year:\n",
    "        display(my_figure())\n",
    "    ##\n",
    "    citations_by_year = widgets.Output()\n",
    "    with citations_by_year:\n",
    "        display(my_figure2())\n",
    "    ##\n",
    "    table = widgets.Output()\n",
    "    x = pd.DataFrame(0, columns=list(\"ABC\"), index=list(\"abcde\"))\n",
    "    with table:\n",
    "        display(x)\n",
    "    ##\n",
    "    tab = widgets.Tab()\n",
    "    tab.children = [docs_by_year, citations_by_year, table]\n",
    "    tab.set_title(0, \"docs by year\")\n",
    "    tab.set_title(1, \"citations by year\")\n",
    "    tab.set_title(2, \"pandas\")\n",
    "    return tab\n",
    "\n",
    "\n",
    "basic_info()"
   ]
  },
  {
   "cell_type": "code",
   "execution_count": null,
   "metadata": {},
   "outputs": [],
   "source": [
    "my_figure()"
   ]
  },
  {
   "cell_type": "code",
   "execution_count": 3,
   "metadata": {},
   "outputs": [
    {
     "data": {
      "application/vnd.jupyter.widget-view+json": {
       "model_id": "49c9a6ffd6fd49758bf432f153e92676",
       "version_major": 2,
       "version_minor": 0
      },
      "text/plain": [
       "Tab(children=(Text(value='', description='P0'), Text(value='', description='P1'), Text(value='', description='…"
      ]
     },
     "metadata": {},
     "output_type": "display_data"
    }
   ],
   "source": [
    "tab_contents = [\"P0\", \"P1\", \"P2\", \"P3\", \"P4\"]\n",
    "children = [widgets.Text(description=name) for name in tab_contents]\n",
    "tab = widgets.Tab()\n",
    "tab.children = children\n",
    "tab.titles = [str(i) for i in range(len(children))]\n",
    "tab"
   ]
  },
  {
   "cell_type": "code",
   "execution_count": null,
   "metadata": {},
   "outputs": [],
   "source": []
  },
  {
   "cell_type": "code",
   "execution_count": null,
   "metadata": {},
   "outputs": [],
   "source": [
    "#\n",
    "# Number of terms\n",
    "#\n",
    "df.descriptive_stats()"
   ]
  },
  {
   "cell_type": "markdown",
   "metadata": {},
   "source": [
    "# First Frequency Analysis"
   ]
  },
  {
   "cell_type": "code",
   "execution_count": null,
   "metadata": {},
   "outputs": [],
   "source": [
    "#\n",
    "# Documents by year\n",
    "#\n",
    "plt.figure(figsize=(10, 5))\n",
    "Plot(df.documents_by_year()).bar(cmap=plt.cm.Greys)"
   ]
  },
  {
   "cell_type": "code",
   "execution_count": null,
   "metadata": {},
   "outputs": [],
   "source": [
    "#\n",
    "# Cumulative number of documents by year\n",
    "#\n",
    "plt.figure(figsize=(10, 5))\n",
    "Plot(df.documents_by_year(cumulative=True)).bar(cmap=plt.cm.Greys)"
   ]
  },
  {
   "cell_type": "code",
   "execution_count": null,
   "metadata": {},
   "outputs": [],
   "source": [
    "#\n",
    "# Document Types\n",
    "#\n",
    "df.documents_by_term(\"Document Type\")"
   ]
  },
  {
   "cell_type": "code",
   "execution_count": null,
   "metadata": {},
   "outputs": [],
   "source": [
    "#\n",
    "#  Most frequent authors\n",
    "#\n",
    "df.documents_by_term(\"Authors\").head(10)"
   ]
  },
  {
   "cell_type": "code",
   "execution_count": null,
   "metadata": {},
   "outputs": [],
   "source": [
    "#\n",
    "# Top 10 most frequent authors\n",
    "#\n",
    "sorted(df.documents_by_term(\"Authors\").head(10).Authors)"
   ]
  },
  {
   "cell_type": "code",
   "execution_count": null,
   "metadata": {},
   "outputs": [],
   "source": [
    "#\n",
    "#  Most frequent sources\n",
    "#\n",
    "df.documents_by_term(\"Source title\").head(10)"
   ]
  },
  {
   "cell_type": "code",
   "execution_count": null,
   "metadata": {},
   "outputs": [],
   "source": [
    "#\n",
    "#  Most frequent institutions\n",
    "#\n",
    "df.documents_by_term(\"Institution\").head(10)"
   ]
  },
  {
   "cell_type": "code",
   "execution_count": null,
   "metadata": {},
   "outputs": [],
   "source": [
    "#\n",
    "#  Most frequent countries\n",
    "#\n",
    "df.documents_by_term(\"Country\").head(10)"
   ]
  },
  {
   "cell_type": "code",
   "execution_count": null,
   "metadata": {},
   "outputs": [],
   "source": [
    "#\n",
    "# Most frequent countries\n",
    "#\n",
    "plt.figure(figsize=(12, 5))\n",
    "Plot(df.documents_by_term(\"Country\", sep=\";\")).worldmap()\n",
    "plt.show()"
   ]
  },
  {
   "cell_type": "code",
   "execution_count": null,
   "metadata": {},
   "outputs": [],
   "source": [
    "#\n",
    "#  Most frequent keywords\n",
    "#\n",
    "df.documents_by_term(\"Keywords\").head(10)"
   ]
  },
  {
   "cell_type": "markdown",
   "metadata": {},
   "source": [
    "# First level citation analysis"
   ]
  },
  {
   "cell_type": "code",
   "execution_count": null,
   "metadata": {},
   "outputs": [],
   "source": [
    "#\n",
    "# Most cited documents\n",
    "#\n",
    "df.most_cited_documents().head(10)"
   ]
  },
  {
   "cell_type": "code",
   "execution_count": null,
   "metadata": {},
   "outputs": [],
   "source": [
    "#\n",
    "# Top 10 most cited authors\n",
    "#\n",
    "df.citations_by_term(\"Authors\").head(10)"
   ]
  },
  {
   "cell_type": "code",
   "execution_count": null,
   "metadata": {},
   "outputs": [],
   "source": [
    "#\n",
    "#  Most cited sources\n",
    "#\n",
    "df.citations_by_term(\"Source title\").head(10)"
   ]
  },
  {
   "cell_type": "code",
   "execution_count": null,
   "metadata": {},
   "outputs": [],
   "source": [
    "#\n",
    "#  Most cited institutions\n",
    "#\n",
    "df.citations_by_term(\"Institution\").head(10)"
   ]
  },
  {
   "cell_type": "code",
   "execution_count": null,
   "metadata": {},
   "outputs": [],
   "source": [
    "#\n",
    "#  Most cited countries\n",
    "#\n",
    "df.citations_by_term(\"Country\", sep=\";\").head(10)"
   ]
  },
  {
   "cell_type": "code",
   "execution_count": null,
   "metadata": {},
   "outputs": [],
   "source": [
    "#\n",
    "# Most frequent countries\n",
    "#\n",
    "plt.figure(figsize=(12, 5))\n",
    "Plot(df.citations_by_term(\"Country\", sep=\";\")).worldmap()\n",
    "plt.show()"
   ]
  },
  {
   "cell_type": "code",
   "execution_count": null,
   "metadata": {},
   "outputs": [],
   "source": [
    "#\n",
    "#  Most cited keywords\n",
    "#\n",
    "df.citations_by_term(\"Keywords\").head(10)"
   ]
  },
  {
   "cell_type": "markdown",
   "metadata": {},
   "source": [
    "# Second level frequency analysis"
   ]
  },
  {
   "cell_type": "code",
   "execution_count": null,
   "metadata": {},
   "outputs": [],
   "source": [
    "#\n",
    "# Top 10 frequent tems\n",
    "#\n",
    "top_10_freq_authors = Keywords(df.documents_by_term(\"Authors\").head(10).Authors)\n",
    "top_10_freq_sources = Keywords(\n",
    "    df.documents_by_term(\"Source title\").head(10)[\"Source title\"]\n",
    ")\n",
    "top_10_freq_institutions = Keywords(\n",
    "    df.documents_by_term(\"Institution\", sep=\";\").head(10)[\"Institution\"]\n",
    ")\n",
    "top_10_freq_country = Keywords(\n",
    "    df.documents_by_term(\"Country\", sep=\";\").head(10).Country\n",
    ")\n",
    "top_10_freq_keywords = Keywords(df.documents_by_term(\"Keywords\").head(10).Keywords)"
   ]
  },
  {
   "cell_type": "markdown",
   "metadata": {},
   "source": [
    "## Frequency by year"
   ]
  },
  {
   "cell_type": "code",
   "execution_count": null,
   "metadata": {},
   "outputs": [],
   "source": [
    "df.documents_by_term_per_year(\"Authors\", as_matrix=True, keywords=top_10_freq_authors)"
   ]
  },
  {
   "cell_type": "code",
   "execution_count": null,
   "metadata": {},
   "outputs": [],
   "source": [
    "df.documents_by_term_per_year(\n",
    "    \"Source title\", as_matrix=True, keywords=top_10_freq_sources\n",
    ")"
   ]
  },
  {
   "cell_type": "code",
   "execution_count": null,
   "metadata": {},
   "outputs": [],
   "source": [
    "df.documents_by_term_per_year(\n",
    "    \"Institution\", sep=\";\", as_matrix=True, keywords=top_10_freq_institutions\n",
    ")"
   ]
  },
  {
   "cell_type": "code",
   "execution_count": null,
   "metadata": {},
   "outputs": [],
   "source": [
    "df.documents_by_term_per_year(\n",
    "    \"Country\", sep=\";\", as_matrix=True, keywords=top_10_freq_country\n",
    ")"
   ]
  },
  {
   "cell_type": "code",
   "execution_count": null,
   "metadata": {},
   "outputs": [],
   "source": [
    "df.documents_by_term_per_year(\n",
    "    \"Keywords\", sep=\";\", as_matrix=True, keywords=top_10_freq_keywords\n",
    ")"
   ]
  },
  {
   "cell_type": "markdown",
   "metadata": {},
   "source": [
    "## Occurrence Matrices"
   ]
  },
  {
   "cell_type": "code",
   "execution_count": null,
   "metadata": {},
   "outputs": [],
   "source": [
    "plt.figure(figsize=(10, 10))\n",
    "Plot(df.occurrence(\"Authors\", as_matrix=True, keywords=top_10_freq_authors)).heatmap(\n",
    "    cmap=\"Blues\"\n",
    ")"
   ]
  },
  {
   "cell_type": "code",
   "execution_count": null,
   "metadata": {},
   "outputs": [],
   "source": [
    "#  df.occurrence('Source title', as_matrix=True, keywords=top_10_freq_sources)"
   ]
  },
  {
   "cell_type": "code",
   "execution_count": null,
   "metadata": {},
   "outputs": [],
   "source": [
    "# df.occurrence('Institution', sep=';', as_matrix=True, keywords=top_10_freq_institutions)"
   ]
  },
  {
   "cell_type": "code",
   "execution_count": null,
   "metadata": {},
   "outputs": [],
   "source": [
    "# df.occurrence('Country', sep=';', as_matrix=True, keywords=top_10_freq_country)"
   ]
  },
  {
   "cell_type": "code",
   "execution_count": null,
   "metadata": {},
   "outputs": [],
   "source": [
    "#  df.occurrence('Keywords', as_matrix=True, keywords=top_10_freq_keywords)"
   ]
  },
  {
   "cell_type": "markdown",
   "metadata": {},
   "source": [
    "## Autocorrelations"
   ]
  },
  {
   "cell_type": "code",
   "execution_count": null,
   "metadata": {},
   "outputs": [],
   "source": [
    "Map().correlation_map(**df.autocorr_map(\"Authors\", keywords=top_10_freq_authors))"
   ]
  },
  {
   "cell_type": "code",
   "execution_count": null,
   "metadata": {},
   "outputs": [],
   "source": [
    "Map().correlation_map(\n",
    "    **df.autocorr_map(\"Institution\", keywords=top_10_freq_institutions)\n",
    ")"
   ]
  },
  {
   "cell_type": "code",
   "execution_count": null,
   "metadata": {},
   "outputs": [],
   "source": [
    "Map().correlation_map(\n",
    "    **df.autocorr_map(\"Country\", sep=\";\", keywords=top_10_freq_country)\n",
    ")"
   ]
  },
  {
   "cell_type": "code",
   "execution_count": null,
   "metadata": {},
   "outputs": [],
   "source": [
    "nxmap.correlation_map(\n",
    "    **df.autocorr_map(\"Keywords\", sep=\";\", keywords=top_10_freq_keywords)\n",
    ")"
   ]
  },
  {
   "cell_type": "markdown",
   "metadata": {},
   "source": [
    "## Factor Analysis"
   ]
  },
  {
   "cell_type": "code",
   "execution_count": null,
   "metadata": {},
   "outputs": [],
   "source": [
    "df.factor_analysis(\"Authors\", n_components=5, keywords=top_10_freq_authors)"
   ]
  },
  {
   "cell_type": "code",
   "execution_count": null,
   "metadata": {},
   "outputs": [],
   "source": [
    "#  df.factor_analysis('Institutions', n_components=5, keywords = top_10_freq_institutions)"
   ]
  },
  {
   "cell_type": "code",
   "execution_count": null,
   "metadata": {},
   "outputs": [],
   "source": [
    "#  df.factor_analysis('Countries', n_components=5, keywords = top_10_freq_institutions)"
   ]
  },
  {
   "cell_type": "code",
   "execution_count": null,
   "metadata": {},
   "outputs": [],
   "source": [
    "#  df.factor_analysis('Keywords', n_components=5, keywords = top_10_freq_keywords)"
   ]
  },
  {
   "cell_type": "markdown",
   "metadata": {},
   "source": [
    "# Gant Diagram"
   ]
  },
  {
   "cell_type": "code",
   "execution_count": null,
   "metadata": {},
   "outputs": [],
   "source": [
    "plt.figure(figsize=(10, 6))\n",
    "Plot(df.gant(\"Authors\", keywords=top_10_freq_authors)).gant()"
   ]
  },
  {
   "cell_type": "code",
   "execution_count": null,
   "metadata": {},
   "outputs": [],
   "source": [
    "plt.figure(figsize=(10, 6))\n",
    "Plot(df.gant(\"Source title\", keywords=top_10_freq_sources)).gant()"
   ]
  },
  {
   "cell_type": "code",
   "execution_count": null,
   "metadata": {},
   "outputs": [],
   "source": [
    "plt.figure(figsize=(10, 6))\n",
    "Plot(df.gant(\"Country\", sep=\";\", keywords=top_10_freq_country)).gant()"
   ]
  },
  {
   "cell_type": "code",
   "execution_count": null,
   "metadata": {},
   "outputs": [],
   "source": [
    "plt.figure(figsize=(10, 6))\n",
    "Plot(df.gant(\"Keywords\", sep=\";\", keywords=top_10_freq_keywords)).gant()"
   ]
  },
  {
   "cell_type": "code",
   "execution_count": null,
   "metadata": {},
   "outputs": [],
   "source": [
    "import ipywidgets as widgets"
   ]
  },
  {
   "cell_type": "code",
   "execution_count": null,
   "metadata": {},
   "outputs": [],
   "source": [
    "accordion = widgets.Accordion(children=[widgets.IntSlider(), widgets.Text()])\n",
    "accordion.set_title(0, \"Slider\")\n",
    "accordion.set_title(1, \"Text\")\n",
    "accordion"
   ]
  },
  {
   "cell_type": "code",
   "execution_count": null,
   "metadata": {},
   "outputs": [],
   "source": []
  }
 ],
 "metadata": {
  "kernelspec": {
   "display_name": "Python 3",
   "language": "python",
   "name": "python3"
  },
  "language_info": {
   "codemirror_mode": {
    "name": "ipython",
    "version": 3
   },
   "file_extension": ".py",
   "mimetype": "text/x-python",
   "name": "python",
   "nbconvert_exporter": "python",
   "pygments_lexer": "ipython3",
   "version": "3.6.9"
  }
 },
 "nbformat": 4,
 "nbformat_minor": 4
}
