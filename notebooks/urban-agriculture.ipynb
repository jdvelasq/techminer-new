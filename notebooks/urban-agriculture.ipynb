{
 "cells": [
  {
   "cell_type": "code",
   "execution_count": null,
   "metadata": {},
   "outputs": [],
   "source": [
    "# Install latest version from GitHub\n",
    "# !pip install -q -U git+https://github.com/jdvelasq/techminer"
   ]
  },
  {
   "cell_type": "code",
   "execution_count": 1,
   "metadata": {},
   "outputs": [],
   "source": [
    "import json\n",
    "\n",
    "import matplotlib.pyplot as plt\n",
    "import pandas as pd\n",
    "\n",
    "from techminer import (\n",
    "    DataFrame,\n",
    "    Keywords,\n",
    "    Plot,\n",
    "    Thesaurus,\n",
    "    extract_country,\n",
    "    heatmap,\n",
    "    text_clustering,\n",
    "    prepare_scopus_data,\n",
    ")"
   ]
  },
  {
   "cell_type": "code",
   "execution_count": 2,
   "metadata": {},
   "outputs": [
    {
     "name": "stdout",
     "output_type": "stream",
     "text": [
      "<class 'pandas.core.frame.DataFrame'>\n",
      "RangeIndex: 688 entries, 0 to 687\n",
      "Data columns (total 33 columns):\n",
      " #   Column                         Non-Null Count  Dtype  \n",
      "---  ------                         --------------  -----  \n",
      " 0   Authors                        688 non-null    object \n",
      " 1   Author(s) ID                   688 non-null    object \n",
      " 2   Title                          688 non-null    object \n",
      " 3   Year                           688 non-null    int64  \n",
      " 4   Source title                   688 non-null    object \n",
      " 5   Volume                         602 non-null    object \n",
      " 6   Issue                          444 non-null    object \n",
      " 7   Art. No.                       132 non-null    object \n",
      " 8   Page start                     544 non-null    object \n",
      " 9   Page end                       542 non-null    object \n",
      " 10  Page count                     9 non-null      float64\n",
      " 11  Cited by                       453 non-null    float64\n",
      " 12  DOI                            574 non-null    object \n",
      " 13  Link                           688 non-null    object \n",
      " 14  Affiliations                   655 non-null    object \n",
      " 15  Authors with affiliations      680 non-null    object \n",
      " 16  Abstract                       688 non-null    object \n",
      " 17  Author Keywords                554 non-null    object \n",
      " 18  Index Keywords                 390 non-null    object \n",
      " 19  Correspondence Address         550 non-null    object \n",
      " 20  Editors                        55 non-null     object \n",
      " 21  Publisher                      563 non-null    object \n",
      " 22  ISSN                           614 non-null    object \n",
      " 23  ISBN                           109 non-null    object \n",
      " 24  CODEN                          131 non-null    object \n",
      " 25  PubMed ID                      66 non-null     float64\n",
      " 26  Language of Original Document  687 non-null    object \n",
      " 27  Abbreviated Source Title       680 non-null    object \n",
      " 28  Document Type                  688 non-null    object \n",
      " 29  Publication Stage              688 non-null    object \n",
      " 30  Access Type                    185 non-null    object \n",
      " 31  Source                         688 non-null    object \n",
      " 32  EID                            688 non-null    object \n",
      "dtypes: float64(3), int64(1), object(29)\n",
      "memory usage: 177.5+ KB\n"
     ]
    }
   ],
   "source": [
    "#\n",
    "# Carga de datos\n",
    "#\n",
    "filepath = (\n",
    "    \"https://raw.githubusercontent.com/jdvelasq/techminer/master/data/papers\"\n",
    "    + \"urban-agriculture.csv\"\n",
    ")\n",
    "filepath = \"../data/papers/urban-agriculture.csv\"\n",
    "df = pd.read_csv(filepath)\n",
    "df = df.applymap(lambda x: None if pd.isna(x) is True else x)\n",
    "df.info()"
   ]
  },
  {
   "cell_type": "code",
   "execution_count": 3,
   "metadata": {},
   "outputs": [],
   "source": [
    "#\n",
    "# Scopus data preparation\n",
    "#\n",
    "#   1. Change ',' by ';' and remove '.' in author names\n",
    "#   2. Remove part of title in foreign language\n",
    "#   3. Keywords = Author Keywords + Index Keywords\n",
    "#   4. Extract country and affiliation\n",
    "#\n",
    "df = prepare_scopus_data(df)"
   ]
  },
  {
   "cell_type": "code",
   "execution_count": 4,
   "metadata": {},
   "outputs": [
    {
     "data": {
      "text/plain": [
       "59"
      ]
     },
     "execution_count": 4,
     "metadata": {},
     "output_type": "execute_result"
    }
   ],
   "source": [
    "#\n",
    "# Number of records without Keywords\n",
    "#\n",
    "len(df[df.Keywords.map(lambda x: x is None)])"
   ]
  },
  {
   "cell_type": "code",
   "execution_count": 5,
   "metadata": {},
   "outputs": [
    {
     "data": {
      "text/plain": [
       "11     Structure of urban bioecoagrocentres in contex...\n",
       "43     Gardening in Times of Urban Transitions: Emerg...\n",
       "47     Chinampas: An urban farming model of the aztec...\n",
       "58     Direct and indirect effects of urban gardening...\n",
       "77     IOP Conference Series: Earth and Environmental...\n",
       "94     Use-Based Welfare: Property Experiments in Chi...\n",
       "141                                       Toward sitopia\n",
       "206    IOP Conference Series: Earth and Environmental...\n",
       "225                          Politics of urban gardening\n",
       "275    Integrated vertical aeroponic farming systems ...\n",
       "284    Brucellosis in livestock and wildlife: Zoonoti...\n",
       "286    Urban gardening between agency and structure: ...\n",
       "322    Land tenure for urban farming: Toward a scalab...\n",
       "335    Political consumers as digital food activists?...\n",
       "336                     Urban sustainability transitions\n",
       "341    Good food, strong communities: Promoting socia...\n",
       "359                               Urban farming movement\n",
       "384         Low lead poisoning risk from urban gardening\n",
       "387    \"What kind of green in the city?\" Political ne...\n",
       "388    Urban farming in Tokyo: Toward an urban-rural ...\n",
       "399                Urban gardening practices and culture\n",
       "401    From the commons to urban agriculture: Smalles...\n",
       "405    A case study: Advancing public health through ...\n",
       "417    A case study: Legalizing commercial agricultur...\n",
       "423    An outlandish idea or a staple of growth? Cont...\n",
       "441    \"Plant some plants, plant some hope, plant som...\n",
       "443         Urban Farming ™ (http://wwwurbanfarming.org)\n",
       "445    Analysis of sustainable development urban farm...\n",
       "479    Food security through urban gardening? Experie...\n",
       "480    Food security through urban gardening? Experie...\n",
       "539                 Local food, urban gardening, and art\n",
       "553    Looking back dOCUMENTA 13 - a new experience f...\n",
       "556    2013 Energy and Sustainability Conference, IES...\n",
       "557    Sustainable Community Centre and Urban Farming...\n",
       "561    Extreme environments: Urban farming, Technolog...\n",
       "574    Building healthy soils: Urban farming grows in...\n",
       "577    Agriculture in urban planning: Generating live...\n",
       "578    Aeroponics: Experiences from Singapore on a gr...\n",
       "581    Community Gardens and Urban: Agriculture as an...\n",
       "582                   The unreal estate guide to Detroit\n",
       "589                Sustainable urban agriculture in Cuba\n",
       "603                            The rise of Urban farming\n",
       "614                       Vacant lots sprout urban farms\n",
       "615        A serious with urban farming makes a comeback\n",
       "616                                         Lawn be gone\n",
       "618                           Climate change connections\n",
       "621                                Growing edible cities\n",
       "632    Urban agriculture and the urban poor in East A...\n",
       "646    Ancient settlement, urban gardening, and envir...\n",
       "650                                  Farming in the city\n",
       "654    Agropolis: The social, political, and environm...\n",
       "660    Urban agriculture, an environmentally sustaina...\n",
       "661    Training and supporting volunteer mentors for ...\n",
       "667    Reusing organic solid waste in urban farming i...\n",
       "669    Cultivating biological and cultural diversity:...\n",
       "680    A dietary, social and economic evaluation of t...\n",
       "685    THE JOYS OF GARDENING: COLLECTIVIST AND BUREAU...\n",
       "686                Urban farming for developed countries\n",
       "687    (Propositions for a balance sheet of research ...\n",
       "Name: Title, dtype: object"
      ]
     },
     "execution_count": 5,
     "metadata": {},
     "output_type": "execute_result"
    }
   ],
   "source": [
    "#\n",
    "# Titles of documents without keywords\n",
    "#\n",
    "df[df.Keywords.map(lambda x: x is None)]['Title']"
   ]
  },
  {
   "cell_type": "code",
   "execution_count": 6,
   "metadata": {},
   "outputs": [
    {
     "data": {
      "text/plain": [
       "11    accessibility;air;article;cities;city;context;...\n",
       "43    Cultivation;Entrepreneur;Garden;Gardening;New ...\n",
       "47    China;City;Farmers;Horticultural;Science;Urban...\n",
       "58    Soil moisture;Switzerland;Urban gardens;abunda...\n",
       "77    Environment;Environmental;Environmental Scienc...\n",
       "dtype: object"
      ]
     },
     "execution_count": 6,
     "metadata": {},
     "output_type": "execute_result"
    }
   ],
   "source": [
    "#\n",
    "# Build keywords from other papers\n",
    "#\n",
    "keywords = Keywords(df.Keywords[df.Keywords.map(lambda w: w is not None)], sep=';')\n",
    "keywords = keywords.compile()\n",
    "title_abstract = df.Title + df.Abstract\n",
    "opt_keywords = title_abstract.map(lambda w: keywords.extract_from_text(w))\n",
    "\n",
    "# check\n",
    "opt_keywords[df.Keywords.map(lambda w: w is None)].head()"
   ]
  },
  {
   "cell_type": "code",
   "execution_count": 7,
   "metadata": {},
   "outputs": [
    {
     "data": {
      "text/plain": [
       "0"
      ]
     },
     "execution_count": 7,
     "metadata": {},
     "output_type": "execute_result"
    }
   ],
   "source": [
    "#\n",
    "# Assign new keywords\n",
    "#\n",
    "df.at[df.Keywords.map(lambda w: w is None), 'Keywords'] = opt_keywords[df.Keywords.map(lambda w: w is None)]\n",
    "\n",
    "#\n",
    "# Check: Number of records without Keywords\n",
    "#\n",
    "len(df[df.Keywords.map(lambda x: x is None)])"
   ]
  },
  {
   "cell_type": "code",
   "execution_count": 8,
   "metadata": {},
   "outputs": [],
   "source": [
    "#\n",
    "# Text clustering of keywords.\n",
    "#   Keyword strings with the same number of words\n",
    "#\n",
    "thesaurus = text_clustering(df.Keywords, sep=\";\", transformer=lambda x: x.lower())\n",
    "with open(\"urban-agriculture-raw.json\", \"w\") as f:\n",
    "    f.write(thesaurus.__repr__())"
   ]
  },
  {
   "cell_type": "code",
   "execution_count": 9,
   "metadata": {},
   "outputs": [
    {
     "name": "stdout",
     "output_type": "stream",
     "text": [
      "{\n",
      "  \"abiotic factors\": [\n",
      "    \"Abiotic factors\",\n",
      "    \"abiotic factor\"\n",
      "  ],\n",
      "  \"abortion, veterinary\": [\n",
      "    \"Abortion, Veterinary\",\n",
      "    \"veterinary abortion\"\n",
      "  ],\n",
      "  \"acceptance\": [\n",
      "    \"Acceptance\",\n",
      "    \"acceptance\"\n",
      "  ],\n",
      "  \"accra, ghana\": [\n",
      "    \"Accra, Ghana\",\n",
      "    \"Accra-Ghana\"\n",
      "  ],\n",
      "  \"action research\": [\n",
      "    \"Action research\",\n",
      "    \"action research\",\n"
     ]
    }
   ],
   "source": [
    "!head -n 20 urban-agriculture-raw.json"
   ]
  },
  {
   "cell_type": "code",
   "execution_count": 10,
   "metadata": {},
   "outputs": [
    {
     "data": {
      "text/plain": [
       "848"
      ]
     },
     "execution_count": 10,
     "metadata": {},
     "output_type": "execute_result"
    }
   ],
   "source": [
    "#\n",
    "# Keywords cleaning\n",
    "#\n",
    "f = thesaurus.to_dict()\n",
    "df['Keywords'] = df.Keywords.map(lambda x: ';'.join([f[w] for w in x.split(';') if w in f]))\n",
    "\n",
    "#\n",
    "#   Remove extra blanks between keywords if exists\n",
    "#\n",
    "df[\"Keywords\"] = df.Keywords.map(\n",
    "    lambda x: \";\".join(set([w.strip() for w in x.split(\";\")]))\n",
    ")\n",
    "\n",
    "#\n",
    "#   Replace empty strings by None\n",
    "#\n",
    "df[\"Keywords\"] = df.Keywords.map(lambda x: x if x != \"\" else None)\n",
    "\n",
    "#\n",
    "#   Number of unique of strings\n",
    "#\n",
    "len(\n",
    "    set([w.strip() for x in df.Keywords if x is not None for w in x.split(\";\")])\n",
    ")"
   ]
  },
  {
   "cell_type": "code",
   "execution_count": 11,
   "metadata": {},
   "outputs": [],
   "source": [
    "#\n",
    "# A column for identify each record is added to the dataframe.\n",
    "#\n",
    "df = DataFrame(df).generate_ID()"
   ]
  },
  {
   "cell_type": "code",
   "execution_count": 12,
   "metadata": {},
   "outputs": [
    {
     "data": {
      "text/html": [
       "<div>\n",
       "<style scoped>\n",
       "    .dataframe tbody tr th:only-of-type {\n",
       "        vertical-align: middle;\n",
       "    }\n",
       "\n",
       "    .dataframe tbody tr th {\n",
       "        vertical-align: top;\n",
       "    }\n",
       "\n",
       "    .dataframe thead th {\n",
       "        text-align: right;\n",
       "    }\n",
       "</style>\n",
       "<table border=\"1\" class=\"dataframe\">\n",
       "  <thead>\n",
       "    <tr style=\"text-align: right;\">\n",
       "      <th></th>\n",
       "      <th>Value</th>\n",
       "    </tr>\n",
       "    <tr>\n",
       "      <th>Description</th>\n",
       "      <th></th>\n",
       "    </tr>\n",
       "  </thead>\n",
       "  <tbody>\n",
       "    <tr>\n",
       "      <th>Articles</th>\n",
       "      <td>688.000000</td>\n",
       "    </tr>\n",
       "    <tr>\n",
       "      <th>First year</th>\n",
       "      <td>1984.000000</td>\n",
       "    </tr>\n",
       "    <tr>\n",
       "      <th>Last year</th>\n",
       "      <td>2020.000000</td>\n",
       "    </tr>\n",
       "    <tr>\n",
       "      <th>Average citations per article</th>\n",
       "      <td>15.320088</td>\n",
       "    </tr>\n",
       "    <tr>\n",
       "      <th>Authors</th>\n",
       "      <td>1870.000000</td>\n",
       "    </tr>\n",
       "    <tr>\n",
       "      <th>Author(s) ID</th>\n",
       "      <td>1859.000000</td>\n",
       "    </tr>\n",
       "    <tr>\n",
       "      <th>Authors of single authored articles</th>\n",
       "      <td>192.000000</td>\n",
       "    </tr>\n",
       "    <tr>\n",
       "      <th>Authors of multi authored articles</th>\n",
       "      <td>496.000000</td>\n",
       "    </tr>\n",
       "    <tr>\n",
       "      <th>Articles per author</th>\n",
       "      <td>0.370000</td>\n",
       "    </tr>\n",
       "    <tr>\n",
       "      <th>Authors per article</th>\n",
       "      <td>2.720000</td>\n",
       "    </tr>\n",
       "    <tr>\n",
       "      <th>Co-authors per article</th>\n",
       "      <td>3.950000</td>\n",
       "    </tr>\n",
       "    <tr>\n",
       "      <th>Author Keywords</th>\n",
       "      <td>2135.000000</td>\n",
       "    </tr>\n",
       "    <tr>\n",
       "      <th>Index Keywords</th>\n",
       "      <td>3494.000000</td>\n",
       "    </tr>\n",
       "    <tr>\n",
       "      <th>Source titles</th>\n",
       "      <td>419.000000</td>\n",
       "    </tr>\n",
       "    <tr>\n",
       "      <th>Average articles per Source title</th>\n",
       "      <td>2.000000</td>\n",
       "    </tr>\n",
       "  </tbody>\n",
       "</table>\n",
       "</div>"
      ],
      "text/plain": [
       "                                           Value\n",
       "Description                                     \n",
       "Articles                              688.000000\n",
       "First year                           1984.000000\n",
       "Last year                            2020.000000\n",
       "Average citations per article          15.320088\n",
       "Authors                              1870.000000\n",
       "Author(s) ID                         1859.000000\n",
       "Authors of single authored articles   192.000000\n",
       "Authors of multi authored articles    496.000000\n",
       "Articles per author                     0.370000\n",
       "Authors per article                     2.720000\n",
       "Co-authors per article                  3.950000\n",
       "Author Keywords                      2135.000000\n",
       "Index Keywords                       3494.000000\n",
       "Source titles                         419.000000\n",
       "Average articles per Source title       2.000000"
      ]
     },
     "execution_count": 12,
     "metadata": {},
     "output_type": "execute_result"
    }
   ],
   "source": [
    "#\n",
    "# Number of terms\n",
    "#\n",
    "df.descriptive_stats()"
   ]
  },
  {
   "cell_type": "code",
   "execution_count": 13,
   "metadata": {},
   "outputs": [],
   "source": [
    "#\n",
    "# Author desambiguation\n",
    "#\n",
    "df = DataFrame(df).disambiguate_authors()"
   ]
  },
  {
   "cell_type": "code",
   "execution_count": 14,
   "metadata": {},
   "outputs": [
    {
     "data": {
      "text/plain": [
       "['Asomani-Boateng R',\n",
       " 'Certoma C',\n",
       " 'Cisse G',\n",
       " 'Lehmann S',\n",
       " 'Polling B',\n",
       " 'Randhawa MA',\n",
       " 'Specht K',\n",
       " 'Tan HTW',\n",
       " 'Utzinger J',\n",
       " '[No author name available]']"
      ]
     },
     "execution_count": 14,
     "metadata": {},
     "output_type": "execute_result"
    }
   ],
   "source": [
    "#\n",
    "# Top 10 most frequent authors\n",
    "#\n",
    "sorted(df.documents_by_term('Authors').head(10).Authors)"
   ]
  },
  {
   "cell_type": "code",
   "execution_count": 15,
   "metadata": {},
   "outputs": [
    {
     "data": {
      "text/plain": [
       "['Barthel S',\n",
       " 'Cisse G',\n",
       " 'Gianquinto G',\n",
       " 'Matthys B',\n",
       " 'McClintock N',\n",
       " \"N'Goran EK\",\n",
       " 'Nasr J',\n",
       " 'Smit J',\n",
       " 'Utzinger J',\n",
       " 'Vounatsou P']"
      ]
     },
     "execution_count": 15,
     "metadata": {},
     "output_type": "execute_result"
    }
   ],
   "source": [
    "#\n",
    "# Top 10 most cited authors\n",
    "#\n",
    "sorted(df.citations_by_term('Authors').head(10).Authors)"
   ]
  },
  {
   "cell_type": "code",
   "execution_count": 16,
   "metadata": {},
   "outputs": [
    {
     "data": {
      "text/html": [
       "<div>\n",
       "<style scoped>\n",
       "    .dataframe tbody tr th:only-of-type {\n",
       "        vertical-align: middle;\n",
       "    }\n",
       "\n",
       "    .dataframe tbody tr th {\n",
       "        vertical-align: top;\n",
       "    }\n",
       "\n",
       "    .dataframe thead th {\n",
       "        text-align: right;\n",
       "    }\n",
       "</style>\n",
       "<table border=\"1\" class=\"dataframe\">\n",
       "  <thead>\n",
       "    <tr style=\"text-align: right;\">\n",
       "      <th></th>\n",
       "      <th>Keywords</th>\n",
       "      <th>Num Documents</th>\n",
       "      <th>ID</th>\n",
       "    </tr>\n",
       "  </thead>\n",
       "  <tbody>\n",
       "    <tr>\n",
       "      <th>0</th>\n",
       "      <td>urban agriculture</td>\n",
       "      <td>203</td>\n",
       "      <td>[0, 3, 4, 7, 8, 9, 20, 26, 27, 31, 32, 36, 46,...</td>\n",
       "    </tr>\n",
       "    <tr>\n",
       "      <th>1</th>\n",
       "      <td>urban farm</td>\n",
       "      <td>180</td>\n",
       "      <td>[9, 17, 21, 22, 24, 26, 33, 34, 35, 43, 47, 49...</td>\n",
       "    </tr>\n",
       "    <tr>\n",
       "      <th>2</th>\n",
       "      <td>urban garden</td>\n",
       "      <td>112</td>\n",
       "      <td>[1, 7, 13, 14, 20, 32, 39, 43, 58, 77, 89, 96,...</td>\n",
       "    </tr>\n",
       "    <tr>\n",
       "      <th>3</th>\n",
       "      <td>garden</td>\n",
       "      <td>101</td>\n",
       "      <td>[4, 6, 19, 20, 40, 43, 58, 64, 77, 85, 89, 91,...</td>\n",
       "    </tr>\n",
       "    <tr>\n",
       "      <th>4</th>\n",
       "      <td>urban</td>\n",
       "      <td>99</td>\n",
       "      <td>[11, 43, 47, 58, 67, 77, 81, 85, 94, 118, 141,...</td>\n",
       "    </tr>\n",
       "    <tr>\n",
       "      <th>5</th>\n",
       "      <td>urban areas</td>\n",
       "      <td>99</td>\n",
       "      <td>[3, 4, 5, 6, 13, 16, 28, 44, 60, 64, 85, 88, 1...</td>\n",
       "    </tr>\n",
       "    <tr>\n",
       "      <th>6</th>\n",
       "      <td>agriculture</td>\n",
       "      <td>93</td>\n",
       "      <td>[7, 24, 27, 29, 42, 47, 49, 53, 62, 70, 95, 10...</td>\n",
       "    </tr>\n",
       "    <tr>\n",
       "      <th>7</th>\n",
       "      <td>sustainability</td>\n",
       "      <td>70</td>\n",
       "      <td>[9, 23, 38, 45, 47, 57, 62, 67, 74, 78, 79, 81...</td>\n",
       "    </tr>\n",
       "    <tr>\n",
       "      <th>8</th>\n",
       "      <td>article</td>\n",
       "      <td>62</td>\n",
       "      <td>[3, 4, 11, 19, 28, 60, 64, 88, 94, 106, 121, 1...</td>\n",
       "    </tr>\n",
       "    <tr>\n",
       "      <th>9</th>\n",
       "      <td>food security</td>\n",
       "      <td>61</td>\n",
       "      <td>[9, 38, 48, 49, 53, 63, 65, 82, 124, 131, 154,...</td>\n",
       "    </tr>\n",
       "  </tbody>\n",
       "</table>\n",
       "</div>"
      ],
      "text/plain": [
       "            Keywords  Num Documents  \\\n",
       "0  urban agriculture            203   \n",
       "1         urban farm            180   \n",
       "2       urban garden            112   \n",
       "3             garden            101   \n",
       "4              urban             99   \n",
       "5        urban areas             99   \n",
       "6        agriculture             93   \n",
       "7     sustainability             70   \n",
       "8            article             62   \n",
       "9      food security             61   \n",
       "\n",
       "                                                  ID  \n",
       "0  [0, 3, 4, 7, 8, 9, 20, 26, 27, 31, 32, 36, 46,...  \n",
       "1  [9, 17, 21, 22, 24, 26, 33, 34, 35, 43, 47, 49...  \n",
       "2  [1, 7, 13, 14, 20, 32, 39, 43, 58, 77, 89, 96,...  \n",
       "3  [4, 6, 19, 20, 40, 43, 58, 64, 77, 85, 89, 91,...  \n",
       "4  [11, 43, 47, 58, 67, 77, 81, 85, 94, 118, 141,...  \n",
       "5  [3, 4, 5, 6, 13, 16, 28, 44, 60, 64, 85, 88, 1...  \n",
       "6  [7, 24, 27, 29, 42, 47, 49, 53, 62, 70, 95, 10...  \n",
       "7  [9, 23, 38, 45, 47, 57, 62, 67, 74, 78, 79, 81...  \n",
       "8  [3, 4, 11, 19, 28, 60, 64, 88, 94, 106, 121, 1...  \n",
       "9  [9, 38, 48, 49, 53, 63, 65, 82, 124, 131, 154,...  "
      ]
     },
     "execution_count": 16,
     "metadata": {},
     "output_type": "execute_result"
    }
   ],
   "source": [
    "#\n",
    "# Top 10 most frequent keywords\n",
    "#\n",
    "df.documents_by_term(\"Keywords\", sep=\";\").head(10)"
   ]
  },
  {
   "cell_type": "code",
   "execution_count": 17,
   "metadata": {},
   "outputs": [
    {
     "data": {
      "text/html": [
       "<div>\n",
       "<style scoped>\n",
       "    .dataframe tbody tr th:only-of-type {\n",
       "        vertical-align: middle;\n",
       "    }\n",
       "\n",
       "    .dataframe tbody tr th {\n",
       "        vertical-align: top;\n",
       "    }\n",
       "\n",
       "    .dataframe thead th {\n",
       "        text-align: right;\n",
       "    }\n",
       "</style>\n",
       "<table border=\"1\" class=\"dataframe\">\n",
       "  <thead>\n",
       "    <tr style=\"text-align: right;\">\n",
       "      <th></th>\n",
       "      <th>Keywords</th>\n",
       "      <th>Cited by</th>\n",
       "      <th>ID</th>\n",
       "    </tr>\n",
       "  </thead>\n",
       "  <tbody>\n",
       "    <tr>\n",
       "      <th>0</th>\n",
       "      <td>urban agriculture</td>\n",
       "      <td>3125</td>\n",
       "      <td>[0, 3, 4, 7, 8, 9, 20, 26, 27, 31, 32, 36, 46,...</td>\n",
       "    </tr>\n",
       "    <tr>\n",
       "      <th>1</th>\n",
       "      <td>urban farm</td>\n",
       "      <td>1509</td>\n",
       "      <td>[9, 17, 21, 22, 24, 26, 33, 34, 35, 43, 47, 49...</td>\n",
       "    </tr>\n",
       "    <tr>\n",
       "      <th>2</th>\n",
       "      <td>urban areas</td>\n",
       "      <td>1327</td>\n",
       "      <td>[3, 4, 5, 6, 13, 16, 28, 44, 60, 64, 85, 88, 1...</td>\n",
       "    </tr>\n",
       "    <tr>\n",
       "      <th>3</th>\n",
       "      <td>food security</td>\n",
       "      <td>1208</td>\n",
       "      <td>[9, 38, 48, 49, 53, 63, 65, 82, 124, 131, 154,...</td>\n",
       "    </tr>\n",
       "    <tr>\n",
       "      <th>4</th>\n",
       "      <td>garden</td>\n",
       "      <td>1198</td>\n",
       "      <td>[4, 6, 19, 20, 40, 43, 58, 64, 77, 85, 89, 91,...</td>\n",
       "    </tr>\n",
       "    <tr>\n",
       "      <th>5</th>\n",
       "      <td>article</td>\n",
       "      <td>1139</td>\n",
       "      <td>[3, 4, 11, 19, 28, 60, 64, 88, 94, 106, 121, 1...</td>\n",
       "    </tr>\n",
       "    <tr>\n",
       "      <th>6</th>\n",
       "      <td>urban</td>\n",
       "      <td>1090</td>\n",
       "      <td>[11, 43, 47, 58, 67, 77, 81, 85, 94, 118, 141,...</td>\n",
       "    </tr>\n",
       "    <tr>\n",
       "      <th>7</th>\n",
       "      <td>urban garden</td>\n",
       "      <td>1087</td>\n",
       "      <td>[1, 7, 13, 14, 20, 32, 39, 43, 58, 77, 89, 96,...</td>\n",
       "    </tr>\n",
       "    <tr>\n",
       "      <th>8</th>\n",
       "      <td>agriculture</td>\n",
       "      <td>991</td>\n",
       "      <td>[7, 24, 27, 29, 42, 47, 49, 53, 62, 70, 95, 10...</td>\n",
       "    </tr>\n",
       "    <tr>\n",
       "      <th>9</th>\n",
       "      <td>sustainability</td>\n",
       "      <td>934</td>\n",
       "      <td>[9, 23, 38, 45, 47, 57, 62, 67, 74, 78, 79, 81...</td>\n",
       "    </tr>\n",
       "  </tbody>\n",
       "</table>\n",
       "</div>"
      ],
      "text/plain": [
       "            Keywords  Cited by  \\\n",
       "0  urban agriculture      3125   \n",
       "1         urban farm      1509   \n",
       "2        urban areas      1327   \n",
       "3      food security      1208   \n",
       "4             garden      1198   \n",
       "5            article      1139   \n",
       "6              urban      1090   \n",
       "7       urban garden      1087   \n",
       "8        agriculture       991   \n",
       "9     sustainability       934   \n",
       "\n",
       "                                                  ID  \n",
       "0  [0, 3, 4, 7, 8, 9, 20, 26, 27, 31, 32, 36, 46,...  \n",
       "1  [9, 17, 21, 22, 24, 26, 33, 34, 35, 43, 47, 49...  \n",
       "2  [3, 4, 5, 6, 13, 16, 28, 44, 60, 64, 85, 88, 1...  \n",
       "3  [9, 38, 48, 49, 53, 63, 65, 82, 124, 131, 154,...  \n",
       "4  [4, 6, 19, 20, 40, 43, 58, 64, 77, 85, 89, 91,...  \n",
       "5  [3, 4, 11, 19, 28, 60, 64, 88, 94, 106, 121, 1...  \n",
       "6  [11, 43, 47, 58, 67, 77, 81, 85, 94, 118, 141,...  \n",
       "7  [1, 7, 13, 14, 20, 32, 39, 43, 58, 77, 89, 96,...  \n",
       "8  [7, 24, 27, 29, 42, 47, 49, 53, 62, 70, 95, 10...  \n",
       "9  [9, 23, 38, 45, 47, 57, 62, 67, 74, 78, 79, 81...  "
      ]
     },
     "execution_count": 17,
     "metadata": {},
     "output_type": "execute_result"
    }
   ],
   "source": [
    "#\n",
    "# Top 10 most cited keywords\n",
    "#\n",
    "df.citations_by_term(\"Keywords\", sep=\";\").head(10)"
   ]
  },
  {
   "cell_type": "code",
   "execution_count": 21,
   "metadata": {},
   "outputs": [
    {
     "data": {
      "text/plain": [
       "<matplotlib.axes._subplots.AxesSubplot at 0x7ff84f6b5c50>"
      ]
     },
     "execution_count": 21,
     "metadata": {},
     "output_type": "execute_result"
    },
    {
     "data": {
      "image/png": "[encoded data removed]",
      "text/plain": [
       "<Figure size 720x360 with 1 Axes>"
      ]
     },
     "metadata": {
      "needs_background": "light"
     },
     "output_type": "display_data"
    }
   ],
   "source": [
    "#\n",
    "# Documents by year\n",
    "#\n",
    "plt.figure(figsize=(10,5))\n",
    "Plot(df.documents_by_year()).bar(cmap=plt.cm.Blues)"
   ]
  },
  {
   "cell_type": "code",
   "execution_count": 25,
   "metadata": {},
   "outputs": [
    {
     "data": {
      "text/plain": [
       "<matplotlib.axes._subplots.AxesSubplot at 0x7ff7c32cd2b0>"
      ]
     },
     "execution_count": 25,
     "metadata": {},
     "output_type": "execute_result"
    },
    {
     "data": {
      "image/png": "[encoded data removed]",
      "text/plain": [
       "<Figure size 720x360 with 1 Axes>"
      ]
     },
     "metadata": {
      "needs_background": "light"
     },
     "output_type": "display_data"
    }
   ],
   "source": [
    "#\n",
    "# Cumulative number of documents by year\n",
    "#\n",
    "plt.figure(figsize=(10,5))\n",
    "Plot(df.documents_by_year(cumulative=True)).bar(cmap=plt.cm.Blues)"
   ]
  },
  {
   "cell_type": "code",
   "execution_count": 26,
   "metadata": {},
   "outputs": [
    {
     "data": {
      "image/png": "[encoded data removed]",
      "text/plain": [
       "<Figure size 864x360 with 1 Axes>"
      ]
     },
     "metadata": {
      "needs_background": "light"
     },
     "output_type": "display_data"
    }
   ],
   "source": [
    "#\n",
    "# Worldmap with the number of documents by country\n",
    "#\n",
    "df[\"Country\"] = df[\"Affiliations\"].map(lambda x: extract_country(x, sep=\";\"))\n",
    "plt.figure(figsize=(12,5))\n",
    "Plot(df.documents_by_term(\"Country\", sep=\";\")).worldmap()\n",
    "plt.show()"
   ]
  },
  {
   "cell_type": "code",
   "execution_count": 30,
   "metadata": {},
   "outputs": [
    {
     "data": {
      "text/html": [
       "<div>\n",
       "<style scoped>\n",
       "    .dataframe tbody tr th:only-of-type {\n",
       "        vertical-align: middle;\n",
       "    }\n",
       "\n",
       "    .dataframe tbody tr th {\n",
       "        vertical-align: top;\n",
       "    }\n",
       "\n",
       "    .dataframe thead th {\n",
       "        text-align: right;\n",
       "    }\n",
       "</style>\n",
       "<table border=\"1\" class=\"dataframe\">\n",
       "  <thead>\n",
       "    <tr style=\"text-align: right;\">\n",
       "      <th></th>\n",
       "      <th>Country</th>\n",
       "      <th>Num Documents</th>\n",
       "      <th>ID</th>\n",
       "    </tr>\n",
       "  </thead>\n",
       "  <tbody>\n",
       "    <tr>\n",
       "      <th>0</th>\n",
       "      <td>United States</td>\n",
       "      <td>153</td>\n",
       "      <td>[4, 5, 27, 31, 38, 40, 42, 43, 46, 47, 48, 62,...</td>\n",
       "    </tr>\n",
       "    <tr>\n",
       "      <th>1</th>\n",
       "      <td>Germany</td>\n",
       "      <td>68</td>\n",
       "      <td>[7, 19, 20, 27, 37, 42, 54, 57, 58, 60, 68, 79...</td>\n",
       "    </tr>\n",
       "    <tr>\n",
       "      <th>2</th>\n",
       "      <td>Italy</td>\n",
       "      <td>46</td>\n",
       "      <td>[42, 44, 45, 51, 79, 97, 119, 134, 136, 152, 1...</td>\n",
       "    </tr>\n",
       "    <tr>\n",
       "      <th>3</th>\n",
       "      <td>United Kingdom</td>\n",
       "      <td>40</td>\n",
       "      <td>[26, 42, 49, 53, 67, 116, 128, 135, 137, 154, ...</td>\n",
       "    </tr>\n",
       "    <tr>\n",
       "      <th>4</th>\n",
       "      <td>Indonesia</td>\n",
       "      <td>29</td>\n",
       "      <td>[12, 15, 17, 18, 24, 52, 61, 63, 113, 131, 151...</td>\n",
       "    </tr>\n",
       "    <tr>\n",
       "      <th>5</th>\n",
       "      <td>France</td>\n",
       "      <td>27</td>\n",
       "      <td>[8, 86, 87, 147, 164, 168, 190, 210, 219, 223,...</td>\n",
       "    </tr>\n",
       "    <tr>\n",
       "      <th>6</th>\n",
       "      <td>Switzerland</td>\n",
       "      <td>25</td>\n",
       "      <td>[6, 58, 70, 73, 106, 160, 181, 194, 198, 217, ...</td>\n",
       "    </tr>\n",
       "    <tr>\n",
       "      <th>7</th>\n",
       "      <td>Spain</td>\n",
       "      <td>22</td>\n",
       "      <td>[1, 13, 59, 74, 91, 99, 101, 126, 153, 169, 20...</td>\n",
       "    </tr>\n",
       "    <tr>\n",
       "      <th>8</th>\n",
       "      <td>Australia</td>\n",
       "      <td>21</td>\n",
       "      <td>[2, 3, 9, 53, 124, 161, 187, 204, 333, 336, 36...</td>\n",
       "    </tr>\n",
       "    <tr>\n",
       "      <th>9</th>\n",
       "      <td>Sweden</td>\n",
       "      <td>20</td>\n",
       "      <td>[56, 78, 93, 273, 301, 311, 376, 429, 434, 446...</td>\n",
       "    </tr>\n",
       "    <tr>\n",
       "      <th>10</th>\n",
       "      <td>Belgium</td>\n",
       "      <td>19</td>\n",
       "      <td>[13, 16, 97, 132, 165, 171, 265, 291, 311, 316...</td>\n",
       "    </tr>\n",
       "    <tr>\n",
       "      <th>11</th>\n",
       "      <td>Netherlands</td>\n",
       "      <td>19</td>\n",
       "      <td>[71, 88, 96, 186, 192, 200, 273, 274, 276, 336...</td>\n",
       "    </tr>\n",
       "    <tr>\n",
       "      <th>12</th>\n",
       "      <td>India</td>\n",
       "      <td>18</td>\n",
       "      <td>[10, 42, 49, 57, 82, 83, 108, 146, 148, 161, 1...</td>\n",
       "    </tr>\n",
       "    <tr>\n",
       "      <th>13</th>\n",
       "      <td>South Africa</td>\n",
       "      <td>17</td>\n",
       "      <td>[28, 32, 54, 67, 79, 144, 220, 409, 414, 447, ...</td>\n",
       "    </tr>\n",
       "    <tr>\n",
       "      <th>14</th>\n",
       "      <td>Canada</td>\n",
       "      <td>16</td>\n",
       "      <td>[93, 107, 225, 373, 403, 438, 473, 510, 526, 5...</td>\n",
       "    </tr>\n",
       "    <tr>\n",
       "      <th>15</th>\n",
       "      <td>China</td>\n",
       "      <td>15</td>\n",
       "      <td>[2, 3, 22, 117, 123, 150, 208, 247, 362, 394, ...</td>\n",
       "    </tr>\n",
       "    <tr>\n",
       "      <th>16</th>\n",
       "      <td>Denmark</td>\n",
       "      <td>15</td>\n",
       "      <td>[23, 35, 158, 186, 198, 249, 272, 282, 288, 38...</td>\n",
       "    </tr>\n",
       "    <tr>\n",
       "      <th>17</th>\n",
       "      <td>Austria</td>\n",
       "      <td>14</td>\n",
       "      <td>[25, 39, 69, 85, 116, 145, 192, 227, 329, 360,...</td>\n",
       "    </tr>\n",
       "    <tr>\n",
       "      <th>18</th>\n",
       "      <td>Kenya</td>\n",
       "      <td>14</td>\n",
       "      <td>[162, 256, 301, 344, 477, 508, 533, 550, 570, ...</td>\n",
       "    </tr>\n",
       "    <tr>\n",
       "      <th>19</th>\n",
       "      <td>Pakistan</td>\n",
       "      <td>14</td>\n",
       "      <td>[68, 103, 147, 149, 150, 247, 368, 370, 430, 4...</td>\n",
       "    </tr>\n",
       "  </tbody>\n",
       "</table>\n",
       "</div>"
      ],
      "text/plain": [
       "           Country  Num Documents  \\\n",
       "0    United States            153   \n",
       "1          Germany             68   \n",
       "2            Italy             46   \n",
       "3   United Kingdom             40   \n",
       "4        Indonesia             29   \n",
       "5           France             27   \n",
       "6      Switzerland             25   \n",
       "7            Spain             22   \n",
       "8        Australia             21   \n",
       "9           Sweden             20   \n",
       "10         Belgium             19   \n",
       "11     Netherlands             19   \n",
       "12           India             18   \n",
       "13    South Africa             17   \n",
       "14          Canada             16   \n",
       "15           China             15   \n",
       "16         Denmark             15   \n",
       "17         Austria             14   \n",
       "18           Kenya             14   \n",
       "19        Pakistan             14   \n",
       "\n",
       "                                                   ID  \n",
       "0   [4, 5, 27, 31, 38, 40, 42, 43, 46, 47, 48, 62,...  \n",
       "1   [7, 19, 20, 27, 37, 42, 54, 57, 58, 60, 68, 79...  \n",
       "2   [42, 44, 45, 51, 79, 97, 119, 134, 136, 152, 1...  \n",
       "3   [26, 42, 49, 53, 67, 116, 128, 135, 137, 154, ...  \n",
       "4   [12, 15, 17, 18, 24, 52, 61, 63, 113, 131, 151...  \n",
       "5   [8, 86, 87, 147, 164, 168, 190, 210, 219, 223,...  \n",
       "6   [6, 58, 70, 73, 106, 160, 181, 194, 198, 217, ...  \n",
       "7   [1, 13, 59, 74, 91, 99, 101, 126, 153, 169, 20...  \n",
       "8   [2, 3, 9, 53, 124, 161, 187, 204, 333, 336, 36...  \n",
       "9   [56, 78, 93, 273, 301, 311, 376, 429, 434, 446...  \n",
       "10  [13, 16, 97, 132, 165, 171, 265, 291, 311, 316...  \n",
       "11  [71, 88, 96, 186, 192, 200, 273, 274, 276, 336...  \n",
       "12  [10, 42, 49, 57, 82, 83, 108, 146, 148, 161, 1...  \n",
       "13  [28, 32, 54, 67, 79, 144, 220, 409, 414, 447, ...  \n",
       "14  [93, 107, 225, 373, 403, 438, 473, 510, 526, 5...  \n",
       "15  [2, 3, 22, 117, 123, 150, 208, 247, 362, 394, ...  \n",
       "16  [23, 35, 158, 186, 198, 249, 272, 282, 288, 38...  \n",
       "17  [25, 39, 69, 85, 116, 145, 192, 227, 329, 360,...  \n",
       "18  [162, 256, 301, 344, 477, 508, 533, 550, 570, ...  \n",
       "19  [68, 103, 147, 149, 150, 247, 368, 370, 430, 4...  "
      ]
     },
     "execution_count": 30,
     "metadata": {},
     "output_type": "execute_result"
    }
   ],
   "source": [
    "df.documents_by_term('Country', sep=';').head(20)"
   ]
  },
  {
   "cell_type": "code",
   "execution_count": 33,
   "metadata": {},
   "outputs": [
    {
     "data": {
      "text/html": [
       "<div>\n",
       "<style scoped>\n",
       "    .dataframe tbody tr th:only-of-type {\n",
       "        vertical-align: middle;\n",
       "    }\n",
       "\n",
       "    .dataframe tbody tr th {\n",
       "        vertical-align: top;\n",
       "    }\n",
       "\n",
       "    .dataframe thead th {\n",
       "        text-align: right;\n",
       "    }\n",
       "</style>\n",
       "<table border=\"1\" class=\"dataframe\">\n",
       "  <thead>\n",
       "    <tr style=\"text-align: right;\">\n",
       "      <th></th>\n",
       "      <th>Institution</th>\n",
       "      <th>Num Documents</th>\n",
       "      <th>ID</th>\n",
       "    </tr>\n",
       "  </thead>\n",
       "  <tbody>\n",
       "    <tr>\n",
       "      <th>0</th>\n",
       "      <td></td>\n",
       "      <td>420</td>\n",
       "      <td>[8, 9, 11, 12, 15, 17, 18, 19, 22, 23, 24, 28,...</td>\n",
       "    </tr>\n",
       "    <tr>\n",
       "      <th>1</th>\n",
       "      <td>Institute of Biology</td>\n",
       "      <td>5</td>\n",
       "      <td>[58, 106, 160, 194, 307]</td>\n",
       "    </tr>\n",
       "    <tr>\n",
       "      <th>2</th>\n",
       "      <td>Institute of Terrestrial Ecosystems</td>\n",
       "      <td>4</td>\n",
       "      <td>[58, 106, 160, 194]</td>\n",
       "    </tr>\n",
       "    <tr>\n",
       "      <th>3</th>\n",
       "      <td>National Institute of Food Science and Technology</td>\n",
       "      <td>4</td>\n",
       "      <td>[247, 370, 430, 517]</td>\n",
       "    </tr>\n",
       "    <tr>\n",
       "      <th>4</th>\n",
       "      <td>Research Institute of Organic Agriculture (FiBL)</td>\n",
       "      <td>4</td>\n",
       "      <td>[58, 106, 160, 194]</td>\n",
       "    </tr>\n",
       "    <tr>\n",
       "      <th>5</th>\n",
       "      <td>Swiss Federal Research Institute WSL</td>\n",
       "      <td>4</td>\n",
       "      <td>[58, 106, 160, 194]</td>\n",
       "    </tr>\n",
       "    <tr>\n",
       "      <th>6</th>\n",
       "      <td>Swiss Tropical Institute</td>\n",
       "      <td>4</td>\n",
       "      <td>[607, 610, 641, 648]</td>\n",
       "    </tr>\n",
       "    <tr>\n",
       "      <th>7</th>\n",
       "      <td>COMSATS Institute of Information Technology</td>\n",
       "      <td>3</td>\n",
       "      <td>[370, 430, 516]</td>\n",
       "    </tr>\n",
       "    <tr>\n",
       "      <th>8</th>\n",
       "      <td>Institute of Socio-Economics</td>\n",
       "      <td>3</td>\n",
       "      <td>[383, 412, 451]</td>\n",
       "    </tr>\n",
       "    <tr>\n",
       "      <th>9</th>\n",
       "      <td>International Livestock Research Institute</td>\n",
       "      <td>3</td>\n",
       "      <td>[162, 256, 358]</td>\n",
       "    </tr>\n",
       "  </tbody>\n",
       "</table>\n",
       "</div>"
      ],
      "text/plain": [
       "                                         Institution  Num Documents  \\\n",
       "0                                                               420   \n",
       "1                               Institute of Biology              5   \n",
       "2                Institute of Terrestrial Ecosystems              4   \n",
       "3  National Institute of Food Science and Technology              4   \n",
       "4   Research Institute of Organic Agriculture (FiBL)              4   \n",
       "5               Swiss Federal Research Institute WSL              4   \n",
       "6                           Swiss Tropical Institute              4   \n",
       "7        COMSATS Institute of Information Technology              3   \n",
       "8                       Institute of Socio-Economics              3   \n",
       "9         International Livestock Research Institute              3   \n",
       "\n",
       "                                                  ID  \n",
       "0  [8, 9, 11, 12, 15, 17, 18, 19, 22, 23, 24, 28,...  \n",
       "1                           [58, 106, 160, 194, 307]  \n",
       "2                                [58, 106, 160, 194]  \n",
       "3                               [247, 370, 430, 517]  \n",
       "4                                [58, 106, 160, 194]  \n",
       "5                                [58, 106, 160, 194]  \n",
       "6                               [607, 610, 641, 648]  \n",
       "7                                    [370, 430, 516]  \n",
       "8                                    [383, 412, 451]  \n",
       "9                                    [162, 256, 358]  "
      ]
     },
     "execution_count": 33,
     "metadata": {},
     "output_type": "execute_result"
    }
   ],
   "source": [
    "df.documents_by_term('Institution', sep=';').head(10)"
   ]
  },
  {
   "cell_type": "code",
   "execution_count": null,
   "metadata": {},
   "outputs": [],
   "source": []
  },
  {
   "cell_type": "code",
   "execution_count": null,
   "metadata": {},
   "outputs": [],
   "source": []
  },
  {
   "cell_type": "code",
   "execution_count": null,
   "metadata": {},
   "outputs": [],
   "source": []
  }
 ],
 "metadata": {
  "kernelspec": {
   "display_name": "Python 3",
   "language": "python",
   "name": "python3"
  },
  "language_info": {
   "codemirror_mode": {
    "name": "ipython",
    "version": 3
   },
   "file_extension": ".py",
   "mimetype": "text/x-python",
   "name": "python",
   "nbconvert_exporter": "python",
   "pygments_lexer": "ipython3",
   "version": "3.6.9"
  }
 },
 "nbformat": 4,
 "nbformat_minor": 4
}
