{
 "cells": [
  {
   "cell_type": "code",
   "execution_count": null,
   "metadata": {},
   "outputs": [],
   "source": [
    "# Install latest version from GitHub\n",
    "# !pip install -q -U git+https://github.com/jdvelasq/techminer"
   ]
  },
  {
   "cell_type": "code",
   "execution_count": 1,
   "metadata": {},
   "outputs": [],
   "source": [
    "import pandas as pd\n",
    "from techminer.analytics import load_scopus, coverage, descriptive_stats\n",
    "from techminer.thesaurus import Thesaurus, text_clustering\n",
    "import techminer.dashboards as dash"
   ]
  },
  {
   "cell_type": "code",
   "execution_count": 2,
   "metadata": {},
   "outputs": [
    {
     "name": "stderr",
     "output_type": "stream",
     "text": [
      "2020-06-01 17:29:44,932 - INFO - Renaming and selecting columns ...\n",
      "2020-06-01 17:29:50,675 - INFO - Formatting author names ...\n",
      "2020-06-01 17:29:50,681 - INFO - Disambiguating author names ...\n",
      "2020-06-01 17:29:50,746 - INFO - Removing part of titles in foreing languages ...\n",
      "2020-06-01 17:29:50,748 - INFO - Fusioning author and index keywords ...\n",
      "2020-06-01 17:29:50,761 - INFO - NumExpr defaulting to 8 threads.\n",
      "2020-06-01 17:29:50,781 - INFO - Extracting countries from affiliations ...\n",
      "2020-06-01 17:29:57,033 - INFO - Extracting institutions from affiliations ...\n",
      "2020-06-01 17:29:57,048 - INFO - Extracting country of 1st author ...\n",
      "2020-06-01 17:29:57,052 - INFO - Extracting affiliation of 1st author ...\n",
      "2020-06-01 17:29:57,057 - INFO - Counting number of authors ...\n"
     ]
    }
   ],
   "source": [
    "filepath = \"../data/papers/urban-agriculture.csv\"\n",
    "df = pd.read_csv(filepath)\n",
    "df = load_scopus(df)"
   ]
  },
  {
   "cell_type": "code",
   "execution_count": 3,
   "metadata": {},
   "outputs": [],
   "source": [
    "thesaurus = text_clustering(\n",
    "    x=df.Keywords, sep=\";\", name_strategy=\"mostfrequent\", key=\"porter\"\n",
    ")\n",
    "thesaurus = thesaurus.compile()\n",
    "df['Keywords'] = df['Keywords'].map(lambda w: thesaurus.apply(w, sep=';'))\n",
    "df['Author Keywords'] = df['Author Keywords'].map(lambda w: thesaurus.apply(w, sep=';'))\n",
    "df['Index Keywords'] = df['Index Keywords'].map(lambda w: thesaurus.apply(w, sep=';'))"
   ]
  },
  {
   "cell_type": "code",
   "execution_count": 4,
   "metadata": {},
   "outputs": [
    {
     "data": {
      "text/html": [
       "<div>\n",
       "<style scoped>\n",
       "    .dataframe tbody tr th:only-of-type {\n",
       "        vertical-align: middle;\n",
       "    }\n",
       "\n",
       "    .dataframe tbody tr th {\n",
       "        vertical-align: top;\n",
       "    }\n",
       "\n",
       "    .dataframe thead th {\n",
       "        text-align: right;\n",
       "    }\n",
       "</style>\n",
       "<table border=\"1\" class=\"dataframe\">\n",
       "  <thead>\n",
       "    <tr style=\"text-align: right;\">\n",
       "      <th></th>\n",
       "      <th>Column</th>\n",
       "      <th>Number of items</th>\n",
       "      <th>Coverage (%)</th>\n",
       "    </tr>\n",
       "  </thead>\n",
       "  <tbody>\n",
       "    <tr>\n",
       "      <th>0</th>\n",
       "      <td>Authors</td>\n",
       "      <td>680</td>\n",
       "      <td>98.84%</td>\n",
       "    </tr>\n",
       "    <tr>\n",
       "      <th>1</th>\n",
       "      <td>Author(s) ID</td>\n",
       "      <td>680</td>\n",
       "      <td>98.84%</td>\n",
       "    </tr>\n",
       "    <tr>\n",
       "      <th>2</th>\n",
       "      <td>Title</td>\n",
       "      <td>688</td>\n",
       "      <td>100.00%</td>\n",
       "    </tr>\n",
       "    <tr>\n",
       "      <th>3</th>\n",
       "      <td>Year</td>\n",
       "      <td>688</td>\n",
       "      <td>100.00%</td>\n",
       "    </tr>\n",
       "    <tr>\n",
       "      <th>4</th>\n",
       "      <td>Source title</td>\n",
       "      <td>688</td>\n",
       "      <td>100.00%</td>\n",
       "    </tr>\n",
       "    <tr>\n",
       "      <th>5</th>\n",
       "      <td>Volume</td>\n",
       "      <td>602</td>\n",
       "      <td>87.50%</td>\n",
       "    </tr>\n",
       "    <tr>\n",
       "      <th>6</th>\n",
       "      <td>Issue</td>\n",
       "      <td>444</td>\n",
       "      <td>64.53%</td>\n",
       "    </tr>\n",
       "    <tr>\n",
       "      <th>7</th>\n",
       "      <td>Art. No.</td>\n",
       "      <td>132</td>\n",
       "      <td>19.19%</td>\n",
       "    </tr>\n",
       "    <tr>\n",
       "      <th>8</th>\n",
       "      <td>Page start</td>\n",
       "      <td>544</td>\n",
       "      <td>79.07%</td>\n",
       "    </tr>\n",
       "    <tr>\n",
       "      <th>9</th>\n",
       "      <td>Page end</td>\n",
       "      <td>542</td>\n",
       "      <td>78.78%</td>\n",
       "    </tr>\n",
       "    <tr>\n",
       "      <th>10</th>\n",
       "      <td>Page count</td>\n",
       "      <td>9</td>\n",
       "      <td>1.31%</td>\n",
       "    </tr>\n",
       "    <tr>\n",
       "      <th>11</th>\n",
       "      <td>Cited by</td>\n",
       "      <td>453</td>\n",
       "      <td>65.84%</td>\n",
       "    </tr>\n",
       "    <tr>\n",
       "      <th>12</th>\n",
       "      <td>DI</td>\n",
       "      <td>574</td>\n",
       "      <td>83.43%</td>\n",
       "    </tr>\n",
       "    <tr>\n",
       "      <th>13</th>\n",
       "      <td>Affiliations</td>\n",
       "      <td>655</td>\n",
       "      <td>95.20%</td>\n",
       "    </tr>\n",
       "    <tr>\n",
       "      <th>14</th>\n",
       "      <td>Authors with affiliations</td>\n",
       "      <td>680</td>\n",
       "      <td>98.84%</td>\n",
       "    </tr>\n",
       "    <tr>\n",
       "      <th>15</th>\n",
       "      <td>Abstract</td>\n",
       "      <td>688</td>\n",
       "      <td>100.00%</td>\n",
       "    </tr>\n",
       "    <tr>\n",
       "      <th>16</th>\n",
       "      <td>Author Keywords</td>\n",
       "      <td>554</td>\n",
       "      <td>80.52%</td>\n",
       "    </tr>\n",
       "    <tr>\n",
       "      <th>17</th>\n",
       "      <td>Index Keywords</td>\n",
       "      <td>390</td>\n",
       "      <td>56.69%</td>\n",
       "    </tr>\n",
       "    <tr>\n",
       "      <th>18</th>\n",
       "      <td>Editors</td>\n",
       "      <td>55</td>\n",
       "      <td>7.99%</td>\n",
       "    </tr>\n",
       "    <tr>\n",
       "      <th>19</th>\n",
       "      <td>Publisher</td>\n",
       "      <td>563</td>\n",
       "      <td>81.83%</td>\n",
       "    </tr>\n",
       "    <tr>\n",
       "      <th>20</th>\n",
       "      <td>ISSN</td>\n",
       "      <td>614</td>\n",
       "      <td>89.24%</td>\n",
       "    </tr>\n",
       "    <tr>\n",
       "      <th>21</th>\n",
       "      <td>ISBN</td>\n",
       "      <td>109</td>\n",
       "      <td>15.84%</td>\n",
       "    </tr>\n",
       "    <tr>\n",
       "      <th>22</th>\n",
       "      <td>PubMed ID</td>\n",
       "      <td>66</td>\n",
       "      <td>9.59%</td>\n",
       "    </tr>\n",
       "    <tr>\n",
       "      <th>23</th>\n",
       "      <td>Language of Original Document</td>\n",
       "      <td>687</td>\n",
       "      <td>99.85%</td>\n",
       "    </tr>\n",
       "    <tr>\n",
       "      <th>24</th>\n",
       "      <td>Abbreviated Source Title</td>\n",
       "      <td>680</td>\n",
       "      <td>98.84%</td>\n",
       "    </tr>\n",
       "    <tr>\n",
       "      <th>25</th>\n",
       "      <td>Access Type</td>\n",
       "      <td>185</td>\n",
       "      <td>26.89%</td>\n",
       "    </tr>\n",
       "    <tr>\n",
       "      <th>26</th>\n",
       "      <td>Source</td>\n",
       "      <td>688</td>\n",
       "      <td>100.00%</td>\n",
       "    </tr>\n",
       "    <tr>\n",
       "      <th>27</th>\n",
       "      <td>EID</td>\n",
       "      <td>688</td>\n",
       "      <td>100.00%</td>\n",
       "    </tr>\n",
       "    <tr>\n",
       "      <th>28</th>\n",
       "      <td>Keywords</td>\n",
       "      <td>629</td>\n",
       "      <td>91.42%</td>\n",
       "    </tr>\n",
       "    <tr>\n",
       "      <th>29</th>\n",
       "      <td>Countries</td>\n",
       "      <td>654</td>\n",
       "      <td>95.06%</td>\n",
       "    </tr>\n",
       "    <tr>\n",
       "      <th>30</th>\n",
       "      <td>Institutions</td>\n",
       "      <td>630</td>\n",
       "      <td>91.57%</td>\n",
       "    </tr>\n",
       "    <tr>\n",
       "      <th>31</th>\n",
       "      <td>Country 1st</td>\n",
       "      <td>654</td>\n",
       "      <td>95.06%</td>\n",
       "    </tr>\n",
       "    <tr>\n",
       "      <th>32</th>\n",
       "      <td>Institution 1st</td>\n",
       "      <td>630</td>\n",
       "      <td>91.57%</td>\n",
       "    </tr>\n",
       "    <tr>\n",
       "      <th>33</th>\n",
       "      <td>Num Authors</td>\n",
       "      <td>688</td>\n",
       "      <td>100.00%</td>\n",
       "    </tr>\n",
       "    <tr>\n",
       "      <th>34</th>\n",
       "      <td>ID</td>\n",
       "      <td>688</td>\n",
       "      <td>100.00%</td>\n",
       "    </tr>\n",
       "  </tbody>\n",
       "</table>\n",
       "</div>"
      ],
      "text/plain": [
       "                           Column  Number of items Coverage (%)\n",
       "0                         Authors              680       98.84%\n",
       "1                    Author(s) ID              680       98.84%\n",
       "2                           Title              688      100.00%\n",
       "3                            Year              688      100.00%\n",
       "4                    Source title              688      100.00%\n",
       "5                          Volume              602       87.50%\n",
       "6                           Issue              444       64.53%\n",
       "7                        Art. No.              132       19.19%\n",
       "8                      Page start              544       79.07%\n",
       "9                        Page end              542       78.78%\n",
       "10                     Page count                9        1.31%\n",
       "11                       Cited by              453       65.84%\n",
       "12                             DI              574       83.43%\n",
       "13                   Affiliations              655       95.20%\n",
       "14      Authors with affiliations              680       98.84%\n",
       "15                       Abstract              688      100.00%\n",
       "16                Author Keywords              554       80.52%\n",
       "17                 Index Keywords              390       56.69%\n",
       "18                        Editors               55        7.99%\n",
       "19                      Publisher              563       81.83%\n",
       "20                           ISSN              614       89.24%\n",
       "21                           ISBN              109       15.84%\n",
       "22                      PubMed ID               66        9.59%\n",
       "23  Language of Original Document              687       99.85%\n",
       "24       Abbreviated Source Title              680       98.84%\n",
       "25                    Access Type              185       26.89%\n",
       "26                         Source              688      100.00%\n",
       "27                            EID              688      100.00%\n",
       "28                       Keywords              629       91.42%\n",
       "29                      Countries              654       95.06%\n",
       "30                   Institutions              630       91.57%\n",
       "31                    Country 1st              654       95.06%\n",
       "32                Institution 1st              630       91.57%\n",
       "33                    Num Authors              688      100.00%\n",
       "34                             ID              688      100.00%"
      ]
     },
     "execution_count": 4,
     "metadata": {},
     "output_type": "execute_result"
    }
   ],
   "source": [
    "coverage(df)"
   ]
  },
  {
   "cell_type": "code",
   "execution_count": 5,
   "metadata": {},
   "outputs": [
    {
     "data": {
      "text/html": [
       "<div>\n",
       "<style scoped>\n",
       "    .dataframe tbody tr th:only-of-type {\n",
       "        vertical-align: middle;\n",
       "    }\n",
       "\n",
       "    .dataframe tbody tr th {\n",
       "        vertical-align: top;\n",
       "    }\n",
       "\n",
       "    .dataframe thead th {\n",
       "        text-align: right;\n",
       "    }\n",
       "</style>\n",
       "<table border=\"1\" class=\"dataframe\">\n",
       "  <thead>\n",
       "    <tr style=\"text-align: right;\">\n",
       "      <th></th>\n",
       "      <th>value</th>\n",
       "    </tr>\n",
       "  </thead>\n",
       "  <tbody>\n",
       "    <tr>\n",
       "      <th>Articles</th>\n",
       "      <td>688</td>\n",
       "    </tr>\n",
       "    <tr>\n",
       "      <th>Years</th>\n",
       "      <td>1984-2020</td>\n",
       "    </tr>\n",
       "    <tr>\n",
       "      <th>Average citations per article</th>\n",
       "      <td>15.32</td>\n",
       "    </tr>\n",
       "    <tr>\n",
       "      <th>Authors</th>\n",
       "      <td>1857</td>\n",
       "    </tr>\n",
       "    <tr>\n",
       "      <th>Author(s) ID</th>\n",
       "      <td>1857</td>\n",
       "    </tr>\n",
       "    <tr>\n",
       "      <th>Articles per author</th>\n",
       "      <td>0.37</td>\n",
       "    </tr>\n",
       "    <tr>\n",
       "      <th>Authors per article</th>\n",
       "      <td>2.7</td>\n",
       "    </tr>\n",
       "    <tr>\n",
       "      <th>Author Keywords</th>\n",
       "      <td>1924</td>\n",
       "    </tr>\n",
       "    <tr>\n",
       "      <th>Index Keywords</th>\n",
       "      <td>3004</td>\n",
       "    </tr>\n",
       "    <tr>\n",
       "      <th>Source titles</th>\n",
       "      <td>419</td>\n",
       "    </tr>\n",
       "    <tr>\n",
       "      <th>Authors of single authored articles</th>\n",
       "      <td>184</td>\n",
       "    </tr>\n",
       "    <tr>\n",
       "      <th>Authors of multi authored articles</th>\n",
       "      <td>496</td>\n",
       "    </tr>\n",
       "    <tr>\n",
       "      <th>Co-authors per article</th>\n",
       "      <td>3.11</td>\n",
       "    </tr>\n",
       "    <tr>\n",
       "      <th>Average articles per Source title</th>\n",
       "      <td>2</td>\n",
       "    </tr>\n",
       "    <tr>\n",
       "      <th>Compound annual growth rate</th>\n",
       "      <td>2.259507956245084e+54 %</td>\n",
       "    </tr>\n",
       "  </tbody>\n",
       "</table>\n",
       "</div>"
      ],
      "text/plain": [
       "                                                       value\n",
       "Articles                                                 688\n",
       "Years                                              1984-2020\n",
       "Average citations per article                          15.32\n",
       "Authors                                                 1857\n",
       "Author(s) ID                                            1857\n",
       "Articles per author                                     0.37\n",
       "Authors per article                                      2.7\n",
       "Author Keywords                                         1924\n",
       "Index Keywords                                          3004\n",
       "Source titles                                            419\n",
       "Authors of single authored articles                      184\n",
       "Authors of multi authored articles                       496\n",
       "Co-authors per article                                  3.11\n",
       "Average articles per Source title                          2\n",
       "Compound annual growth rate          2.259507956245084e+54 %"
      ]
     },
     "execution_count": 5,
     "metadata": {},
     "output_type": "execute_result"
    }
   ],
   "source": [
    "descriptive_stats(df)"
   ]
  },
  {
   "cell_type": "code",
   "execution_count": 6,
   "metadata": {},
   "outputs": [
    {
     "data": {
      "application/vnd.jupyter.widget-view+json": {
       "model_id": "674f56280264420ebbb1f94d4c611ccf",
       "version_major": 2,
       "version_minor": 0
      },
      "text/plain": [
       "AppLayout(children=(HTML(value=\"<h1>Summary by Year</h1><hr style='height:2px;border-width:0;color:gray;backgr…"
      ]
     },
     "metadata": {},
     "output_type": "display_data"
    }
   ],
   "source": [
    "dash.summary_by_year(df)"
   ]
  },
  {
   "cell_type": "code",
   "execution_count": 7,
   "metadata": {},
   "outputs": [
    {
     "data": {
      "application/vnd.jupyter.widget-view+json": {
       "model_id": "7d7045640e4e4cac8f2dc0fcc0719eb1",
       "version_major": 2,
       "version_minor": 0
      },
      "text/plain": [
       "AppLayout(children=(HTML(value=\"<h1>Summary by Term</h1><hr style='height:2px;border-width:0;color:gray;backgr…"
      ]
     },
     "metadata": {},
     "output_type": "display_data"
    }
   ],
   "source": [
    "dash.summary_by_term(df)"
   ]
  },
  {
   "cell_type": "code",
   "execution_count": 8,
   "metadata": {},
   "outputs": [
    {
     "data": {
      "application/vnd.jupyter.widget-view+json": {
       "model_id": "224c99f9e29b4408a8128b4a1915a0e9",
       "version_major": 2,
       "version_minor": 0
      },
      "text/plain": [
       "AppLayout(children=(HTML(value=\"<h1>Summary by Term per Year</h1><hr style='height:2px;border-width:0;color:gr…"
      ]
     },
     "metadata": {},
     "output_type": "display_data"
    }
   ],
   "source": [
    "dash.summary_by_term_per_year(df)"
   ]
  },
  {
   "cell_type": "code",
   "execution_count": 9,
   "metadata": {},
   "outputs": [
    {
     "data": {
      "application/vnd.jupyter.widget-view+json": {
       "model_id": "cdcb693a61ca4a7285b0bf4af11392f0",
       "version_major": 2,
       "version_minor": 0
      },
      "text/plain": [
       "AppLayout(children=(HTML(value=\"<h1>Co-occurrence analysis</h1><hr style='height:2px;border-width:0;color:gray…"
      ]
     },
     "metadata": {},
     "output_type": "display_data"
    }
   ],
   "source": [
    "dash.co_occurrence_analysis(df)"
   ]
  },
  {
   "cell_type": "code",
   "execution_count": 10,
   "metadata": {},
   "outputs": [
    {
     "data": {
      "application/vnd.jupyter.widget-view+json": {
       "model_id": "ed5e456356904a5480954e70fe11006f",
       "version_major": 2,
       "version_minor": 0
      },
      "text/plain": [
       "AppLayout(children=(HTML(value=\"<h1>Correlation analysis</h1><hr style='height:2px;border-width:0;color:gray;b…"
      ]
     },
     "metadata": {},
     "output_type": "display_data"
    }
   ],
   "source": [
    "dash.correlation_analysis(df)"
   ]
  },
  {
   "cell_type": "code",
   "execution_count": null,
   "metadata": {},
   "outputs": [],
   "source": []
  },
  {
   "cell_type": "code",
   "execution_count": null,
   "metadata": {},
   "outputs": [],
   "source": []
  },
  {
   "cell_type": "code",
   "execution_count": null,
   "metadata": {},
   "outputs": [],
   "source": []
  }
 ],
 "metadata": {
  "kernelspec": {
   "display_name": "Python 3",
   "language": "python",
   "name": "python3"
  },
  "language_info": {
   "codemirror_mode": {
    "name": "ipython",
    "version": 3
   },
   "file_extension": ".py",
   "mimetype": "text/x-python",
   "name": "python",
   "nbconvert_exporter": "python",
   "pygments_lexer": "ipython3",
   "version": "3.6.9"
  }
 },
 "nbformat": 4,
 "nbformat_minor": 4
}
