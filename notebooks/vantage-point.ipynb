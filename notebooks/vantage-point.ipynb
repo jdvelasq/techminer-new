{
 "cells": [
  {
   "cell_type": "code",
   "execution_count": 1,
   "metadata": {},
   "outputs": [
    {
     "name": "stderr",
     "output_type": "stream",
     "text": [
      "2020-06-05 05:34:37,151 - INFO - Renaming and selecting columns ...\n",
      "2020-06-05 05:34:42,952 - INFO - Formatting author names ...\n",
      "2020-06-05 05:34:42,958 - INFO - Disambiguating author names ...\n",
      "2020-06-05 05:34:43,035 - INFO - Removing part of titles in foreing languages ...\n",
      "2020-06-05 05:34:43,038 - INFO - Fusioning author and index keywords ...\n",
      "2020-06-05 05:34:43,051 - INFO - NumExpr defaulting to 8 threads.\n",
      "2020-06-05 05:34:43,071 - INFO - Extracting countries from affiliations ...\n",
      "2020-06-05 05:34:49,338 - INFO - Extracting institutions from affiliations ...\n",
      "2020-06-05 05:34:49,353 - INFO - Extracting country of 1st author ...\n",
      "2020-06-05 05:34:49,357 - INFO - Extracting affiliation of 1st author ...\n",
      "2020-06-05 05:34:49,361 - INFO - Counting number of authors ...\n"
     ]
    }
   ],
   "source": [
    "import pandas as pd\n",
    "\n",
    "import techminer.data as data\n",
    "\n",
    "filepath = \"../data/papers/urban-agriculture.csv\"\n",
    "df = pd.read_csv(filepath)\n",
    "df = data.load_scopus(df)"
   ]
  },
  {
   "cell_type": "code",
   "execution_count": null,
   "metadata": {},
   "outputs": [],
   "source": [
    "data.coverage(df)"
   ]
  },
  {
   "cell_type": "markdown",
   "metadata": {},
   "source": [
    "### Keywords"
   ]
  },
  {
   "cell_type": "code",
   "execution_count": null,
   "metadata": {},
   "outputs": [],
   "source": []
  },
  {
   "cell_type": "markdown",
   "metadata": {},
   "source": [
    "### FindString Dialog Box pag. 69"
   ]
  },
  {
   "cell_type": "code",
   "execution_count": null,
   "metadata": {},
   "outputs": [],
   "source": []
  },
  {
   "cell_type": "markdown",
   "metadata": {},
   "source": [
    "### Cleaning a list pag. 102"
   ]
  },
  {
   "cell_type": "code",
   "execution_count": null,
   "metadata": {},
   "outputs": [],
   "source": []
  },
  {
   "cell_type": "markdown",
   "metadata": {},
   "source": [
    "### Fuzzy match editor pag.126"
   ]
  },
  {
   "cell_type": "code",
   "execution_count": null,
   "metadata": {},
   "outputs": [],
   "source": []
  },
  {
   "cell_type": "markdown",
   "metadata": {},
   "source": [
    "### Stemming And / Stemming Or"
   ]
  },
  {
   "cell_type": "code",
   "execution_count": null,
   "metadata": {},
   "outputs": [],
   "source": []
  },
  {
   "cell_type": "markdown",
   "metadata": {},
   "source": [
    "### APPS"
   ]
  },
  {
   "cell_type": "code",
   "execution_count": null,
   "metadata": {},
   "outputs": [],
   "source": [
    "import techminer.by_year as year\n",
    "year.app(df)"
   ]
  },
  {
   "cell_type": "code",
   "execution_count": null,
   "metadata": {},
   "outputs": [],
   "source": [
    "import techminer.by_term as term\n",
    "term.app(df)"
   ]
  },
  {
   "cell_type": "code",
   "execution_count": null,
   "metadata": {},
   "outputs": [],
   "source": [
    "import techminer.by_term_per_year as term_year\n",
    "term_year.app(df)"
   ]
  },
  {
   "cell_type": "code",
   "execution_count": null,
   "metadata": {},
   "outputs": [],
   "source": [
    "import techminer.co_occurrence as co_occurrence\n",
    "co_occurrence.app(df)"
   ]
  },
  {
   "cell_type": "code",
   "execution_count": 2,
   "metadata": {},
   "outputs": [
    {
     "data": {
      "application/vnd.jupyter.widget-view+json": {
       "model_id": "e860f7950c9e4d93ad3a505499dc9ead",
       "version_major": 2,
       "version_minor": 0
      },
      "text/plain": [
       "AppLayout(children=(HTML(value=\"<h1>Correlation Analysis</h1><hr style='height:2px;border-width:0;color:gray;b…"
      ]
     },
     "metadata": {},
     "output_type": "display_data"
    }
   ],
   "source": [
    "import techminer.correlation as correlation\n",
    "correlation.app(df)"
   ]
  },
  {
   "cell_type": "code",
   "execution_count": null,
   "metadata": {},
   "outputs": [],
   "source": []
  },
  {
   "cell_type": "code",
   "execution_count": null,
   "metadata": {},
   "outputs": [],
   "source": []
  },
  {
   "cell_type": "code",
   "execution_count": null,
   "metadata": {},
   "outputs": [],
   "source": []
  },
  {
   "cell_type": "code",
   "execution_count": null,
   "metadata": {},
   "outputs": [],
   "source": []
  },
  {
   "cell_type": "code",
   "execution_count": null,
   "metadata": {},
   "outputs": [],
   "source": []
  },
  {
   "cell_type": "code",
   "execution_count": null,
   "metadata": {},
   "outputs": [],
   "source": [
    "import ipywidgets as widgets\n",
    "from ipywidgets import Layout, AppLayout"
   ]
  },
  {
   "cell_type": "code",
   "execution_count": null,
   "metadata": {},
   "outputs": [],
   "source": [
    "\n",
    "COLUMNS = [\n",
    "    \"Author Keywords\",\n",
    "    \"Authors\",\n",
    "    \"Countries\",\n",
    "    \"Country 1st\",\n",
    "    \"Document type\",\n",
    "    \"Index Keywords\",\n",
    "    \"Institution 1st\",\n",
    "    \"Institutions\",\n",
    "    \"Keywords\",\n",
    "    \"Source title\",\n",
    "]"
   ]
  },
  {
   "cell_type": "code",
   "execution_count": null,
   "metadata": {},
   "outputs": [],
   "source": [
    "FIGSIZE = (14, 10.0) ## Co-occurrente-analysis  <---- no tiene figura\n",
    "FIGSIZE = (14, 9.0)"
   ]
  },
  {
   "cell_type": "markdown",
   "metadata": {},
   "source": [
    "# NUEVA INTERFAZ"
   ]
  },
  {
   "cell_type": "code",
   "execution_count": null,
   "metadata": {},
   "outputs": [],
   "source": [
    "from techminer.summary_by_term_per_year import documents_by_term_per_year, citations_by_term_per_year"
   ]
  },
  {
   "cell_type": "code",
   "execution_count": null,
   "metadata": {},
   "outputs": [],
   "source": []
  },
  {
   "cell_type": "code",
   "execution_count": null,
   "metadata": {},
   "outputs": [],
   "source": [
    "import techminer.plots as plt\n",
    "from techminer.plots import COLORMAPS\n",
    "from techminer.summary_by_term import citations_by_term, documents_by_term\n",
    "\n",
    "WIDGET_WIDTH = \"200px\"\n",
    "LEFT_PANEL_HEIGHT = \"588px\"\n",
    "RIGHT_PANEL_WIDTH = \"870px\"\n",
    "FIGSIZE = (14, 10.0)\n",
    "PANE_HEIGHTS = [\"80px\", \"650px\", 0]\n",
    "\n",
    "COLUMNS = [\n",
    "    \"Author Keywords\",\n",
    "    \"Authors\",\n",
    "    \"Countries\",\n",
    "    \"Country 1st\",\n",
    "    \"Document type\",\n",
    "    \"Index Keywords\",\n",
    "    \"Institution 1st\",\n",
    "    \"Institutions\",\n",
    "    \"Keywords\",\n",
    "    \"Source title\",\n",
    "]\n",
    "\n"
   ]
  },
  {
   "cell_type": "code",
   "execution_count": null,
   "metadata": {},
   "outputs": [],
   "source": [
    "#################\n",
    "import ipywidgets as widgets\n",
    "import numpy as np\n",
    "from ipywidgets import AppLayout, Layout\n",
    "\n",
    "from techminer.by_term import summary_by_term\n",
    "from techminer.correlation import corr, corr_map\n",
    "from techminer.maps import Map\n",
    "from techminer.plots import COLORMAPS, chord_diagram\n",
    "\n",
    "WIDGET_WIDTH = \"200px\"\n",
    "LEFT_PANEL_HEIGHT = \"650px\"\n",
    "RIGHT_PANEL_WIDTH = \"870px\"\n",
    "FIGSIZE = (14, 10.0)\n",
    "PANE_HEIGHTS = [\"80px\", \"750px\", 0]\n",
    "\n",
    "COLUMNS = [\n",
    "    \"Author Keywords\",\n",
    "    \"Authors\",\n",
    "    \"Countries\",\n",
    "    \"Country 1st\",\n",
    "    \"Document type\",\n",
    "    \"Index Keywords\",\n",
    "    \"Institution 1st\",\n",
    "    \"Institutions\",\n",
    "    \"Keywords\",\n",
    "    \"Source title\",\n",
    "]\n",
    "\n",
    "\n",
    "#################\n",
    "\n",
    "\n",
    "#\n",
    "#\n",
    "#  Correlation Analysis\n",
    "#\n",
    "#\n",
    "def __body_0(x):\n",
    "    #\n",
    "    def server(**kwargs):\n",
    "        #\n",
    "        # Logic\n",
    "        #\n",
    "        column = kwargs[\"term\"]\n",
    "        by = kwargs[\"by\"]\n",
    "        method = kwargs[\"method\"]\n",
    "        min_link_value = float(kwargs[\"min_link_value\"].split(' ')[0])\n",
    "        cmap = kwargs[\"cmap\"]\n",
    "        filter_by = kwargs[\"filter_by\"]\n",
    "        filter_value = int(kwargs[\"filter_value\"].split()[0])\n",
    "        view = kwargs[\"view\"]\n",
    "        sort_by = kwargs[\"sort_by\"]\n",
    "        layout = kwargs[\"layout\"]\n",
    "        #\n",
    "        #\n",
    "        #\n",
    "        s = summary_by_term(x, column)\n",
    "        if filter_by == \"Frequency\":\n",
    "            s = s[[column, \"Num Documents\"]]\n",
    "            n_columns = len(s[s[\"Num Documents\"] > filter_value])\n",
    "            new_names = {\n",
    "                a: \"{} [{:d}]\".format(a, b)\n",
    "                for a, b in zip(s[column].tolist(), s[\"Num Documents\"].tolist())\n",
    "            }\n",
    "        if filter_by == \"Cited by\":\n",
    "            s = s[[column, \"Cited by\"]]\n",
    "            n_columns = len(s[s[\"Cited by\"] > filter_value])\n",
    "            new_names = {\n",
    "                a: \"{} [{:d}]\".format(a, b)\n",
    "                for a, b in zip(s[column].tolist(), s[\"Cited by\"].tolist())\n",
    "            }\n",
    "        #\n",
    "        a = s[s.columns[1]].value_counts().sort_index(ascending=False)\n",
    "        a = a.cumsum()\n",
    "        a = a.sort_index(ascending=True)\n",
    "        current_value = controls[4][\"widget\"].value\n",
    "        controls[4][\"widget\"].options = [\n",
    "            \"{:d} [{:d}]\".format(idx, w) for w, idx in zip(a, a.index)\n",
    "        ]\n",
    "        if current_value not in controls[4][\"widget\"].options:\n",
    "            controls[4][\"widget\"].value = controls[4][\"widget\"].options[0]\n",
    "        #\n",
    "        #\n",
    "        #\n",
    "        if n_columns > 50:\n",
    "            output.clear_output()\n",
    "            with output:\n",
    "                display(widgets.HTML(\"<h3>Matrix exceeds the maximum shape</h3>\"))\n",
    "                return\n",
    "        #\n",
    "        #\n",
    "        #\n",
    "        matrix = corr(\n",
    "            x,\n",
    "            column=column,\n",
    "            by=by,\n",
    "            method=method,\n",
    "            # min_link_value=min_link_value,\n",
    "            cmap=cmap,\n",
    "            filter_by=filter_by,\n",
    "            filter_value=filter_value,\n",
    "            as_matrix=True,\n",
    "            keywords=None,\n",
    "        )\n",
    "        #\n",
    "        #\n",
    "        #\n",
    "        matrix = matrix.rename(columns=new_names, index=new_names)\n",
    "        #\n",
    "        output.clear_output()\n",
    "        with output:\n",
    "            if view == \"Matrix\":\n",
    "                #\n",
    "                # Sort order\n",
    "                #\n",
    "                if sort_by == \"Frequency/Cited by asc.\":\n",
    "                    g = lambda m: int(m[m.find(\"[\") + 1 : m.find(\"]\")])\n",
    "                    names = sorted(matrix.columns, key=g, reverse=False)\n",
    "                    matrix = matrix.loc[names, names]\n",
    "                if sort_by == \"Frequency/Cited by desc.\":\n",
    "                    g = lambda m: int(m[m.find(\"[\") + 1 : m.find(\"]\")])\n",
    "                    names = sorted(matrix.columns, key=g, reverse=True)\n",
    "                    matrix = matrix.loc[names, names]\n",
    "                if sort_by == \"Alphabetic asc.\":\n",
    "                    matrix = matrix.sort_index(axis=0, ascending=True).sort_index(\n",
    "                        axis=1, ascending=True\n",
    "                    )\n",
    "                if sort_by == \"Alphabetic desc.\":\n",
    "                    matrix = matrix.sort_index(axis=0, ascending=False).sort_index(\n",
    "                        axis=1, ascending=False\n",
    "                    )\n",
    "                #\n",
    "                # View\n",
    "                #\n",
    "                display(\n",
    "                    matrix.style.format(\n",
    "                        lambda q: \"{:+4.3f}\".format(q) if q >= min_link_value else \"\"\n",
    "                    ).background_gradient(cmap=cmap)\n",
    "                )\n",
    "                #\n",
    "            if view == \"Correlation map\":\n",
    "                #\n",
    "                display(correlation_map(matrix=matrix, layout=layout, figsize=(10, 10), min_link_value=min_link_value))\n",
    "                #\n",
    "            if view == \"Chord diagram\":\n",
    "                #\n",
    "                display(chord_diagram(matrix, minval=min_link_value))\n",
    "                #\n",
    "\n",
    "    #\n",
    "    # UI\n",
    "    #\n",
    "    controls = [\n",
    "        {\n",
    "            \"arg\": \"term\",\n",
    "            \"desc\": \"Term to analyze:\",\n",
    "            \"widget\": widgets.Dropdown(\n",
    "                options=[z for z in COLUMNS if z in x.columns],\n",
    "                ensure_option=True,\n",
    "                disabled=False,\n",
    "                layout=Layout(width=WIDGET_WIDTH),\n",
    "            ),\n",
    "        },\n",
    "        {\n",
    "            \"arg\": \"by\",\n",
    "            \"desc\": \"By Term:\",\n",
    "            \"widget\": widgets.Dropdown(\n",
    "                options=[z for z in COLUMNS if z in x.columns],\n",
    "                ensure_option=True,\n",
    "                disabled=False,\n",
    "                layout=Layout(width=WIDGET_WIDTH),\n",
    "            ),\n",
    "        },\n",
    "        {\n",
    "            \"arg\": \"method\",\n",
    "            \"desc\": \"Method:\",\n",
    "            \"widget\": widgets.Dropdown(\n",
    "                options=[\"pearson\", \"kendall\", \"spearman\"],\n",
    "                ensure_option=True,\n",
    "                disabled=False,\n",
    "                continuous_update=True,\n",
    "                layout=Layout(width=WIDGET_WIDTH),\n",
    "            ),\n",
    "        },\n",
    "        {\n",
    "            \"arg\": \"filter_by\",\n",
    "            \"desc\": \"Filter by:\",\n",
    "            \"widget\": widgets.Dropdown(\n",
    "                options=[\"Frequency\", \"Cited by\"],\n",
    "                disable=False,\n",
    "                layout=Layout(width=WIDGET_WIDTH),\n",
    "            ),\n",
    "        },\n",
    "        {\n",
    "            \"arg\": \"filter_value\",\n",
    "            \"desc\": \"Filter value:\",\n",
    "            \"widget\": widgets.Dropdown(\n",
    "                options=[str(i) for i in range(10)],\n",
    "                disable=False,\n",
    "                layout=Layout(width=WIDGET_WIDTH),\n",
    "            ),\n",
    "        },\n",
    "        {\n",
    "            \"arg\": \"min_link_value\",\n",
    "            \"desc\": \"Min link value:\",\n",
    "            \"widget\": widgets.Dropdown(\n",
    "                options=\"-1.00 -0.25 0.00 0.125 0.250 0.375 0.500 0.625 0.750 0.875\".split(\n",
    "                    \" \"\n",
    "                ),\n",
    "                ensure_option=True,\n",
    "                disabled=False,\n",
    "                continuous_update=True,\n",
    "                layout=Layout(width=WIDGET_WIDTH),\n",
    "            ),\n",
    "        },\n",
    "        {\n",
    "            \"arg\": \"view\",\n",
    "            \"desc\": \"View:\",\n",
    "            \"widget\": widgets.Dropdown(\n",
    "                options=[\"Matrix\", \"Correlation map\", \"Chord diagram\"],\n",
    "                ensure_option=True,\n",
    "                disabled=False,\n",
    "                continuous_update=True,\n",
    "                layout=Layout(width=WIDGET_WIDTH),\n",
    "            ),\n",
    "        },\n",
    "        {\n",
    "            \"arg\": \"cmap\",\n",
    "            \"desc\": \"Matrix colormap:\",\n",
    "            \"widget\": widgets.Dropdown(\n",
    "                options=COLORMAPS, disable=False, layout=Layout(width=WIDGET_WIDTH),\n",
    "            ),\n",
    "        },\n",
    "        {\n",
    "            \"arg\": \"sort_by\",\n",
    "            \"desc\": \"Sort order:\",\n",
    "            \"widget\": widgets.Dropdown(\n",
    "                options=[\n",
    "                    \"Alphabetic asc.\",\n",
    "                    \"Alphabetic desc.\",\n",
    "                    \"Frequency/Cited by asc.\",\n",
    "                    \"Frequency/Cited by desc.\",\n",
    "                ],\n",
    "                disable=False,\n",
    "                layout=Layout(width=WIDGET_WIDTH),\n",
    "            ),\n",
    "        },\n",
    "        {\n",
    "            \"arg\": \"layout\",\n",
    "            \"desc\": \"Map layout:\",\n",
    "            \"widget\": widgets.Dropdown(\n",
    "                options=[\n",
    "                    \"Circular\",\n",
    "                    \"Kamada Kawai\",\n",
    "                    \"Planar\",\n",
    "                    \"Random\",\n",
    "                    \"Spectral\",\n",
    "                    \"Spring\",\n",
    "                    \"Shell\",\n",
    "                ],\n",
    "                disable=False,\n",
    "                layout=Layout(width=WIDGET_WIDTH),\n",
    "            ),\n",
    "        },\n",
    "    ]\n",
    "    #\n",
    "    args = {control[\"arg\"]: control[\"widget\"] for control in controls}\n",
    "    output = widgets.Output()\n",
    "    with output:\n",
    "        display(widgets.interactive_output(server, args,))\n",
    "    return widgets.HBox(\n",
    "        [\n",
    "            widgets.VBox(\n",
    "                [\n",
    "                    widgets.VBox(\n",
    "                        [widgets.Label(value=control[\"desc\"]), control[\"widget\"]]\n",
    "                    )\n",
    "                    for control in controls\n",
    "                ],\n",
    "                layout=Layout(height=LEFT_PANEL_HEIGHT, border=\"1px solid gray\"),\n",
    "            ),\n",
    "            widgets.VBox([output], layout=Layout(width=RIGHT_PANEL_WIDTH, align_items=\"center\")),\n",
    "        ]\n",
    "    )\n",
    "\n",
    "\n",
    "#\n",
    "#\n",
    "# APP\n",
    "#\n",
    "#\n",
    "\n",
    "\n",
    "def app(df):\n",
    "    #\n",
    "    body = widgets.Tab()\n",
    "    body.children = [__body_0(df)]\n",
    "    body.set_title(0, \"Matrix\")\n",
    "    #\n",
    "    return AppLayout(\n",
    "        header=widgets.HTML(\n",
    "            value=\"<h1>{}</h1><hr style='height:2px;border-width:0;color:gray;background-color:gray'>\".format(\n",
    "                \"Correlation Analysis\"\n",
    "            )\n",
    "        ),\n",
    "        center=body,\n",
    "        pane_heights=PANE_HEIGHTS,\n",
    "    )\n",
    "\n",
    "\n",
    "#####\n",
    "app(df)"
   ]
  },
  {
   "cell_type": "code",
   "execution_count": null,
   "metadata": {},
   "outputs": [],
   "source": [
    "import matplotlib.pyplot as plt\n",
    "import networkx as nx\n",
    "\n",
    "\n",
    "def correlation_map(matrix, layout=\"Kamada Kawai\", figsize=(11, 11), min_link_value=0):\n",
    "    \"\"\"Computes the correlation map directly using networkx.\n",
    "    \"\"\"\n",
    "\n",
    "    if len(matrix.columns) > 50:\n",
    "        return \"Maximum number of nodex exceded!\"\n",
    "\n",
    "    #\n",
    "    # Data preparation\n",
    "    #\n",
    "    terms = matrix.columns.tolist()\n",
    "\n",
    "    n = len(matrix.columns)\n",
    "    edges_75 = []\n",
    "    edges_50 = []\n",
    "    edges_25 = []\n",
    "    other_edges = []\n",
    "\n",
    "    for icol in range(n):\n",
    "        for irow in range(icol + 1, n):\n",
    "            if (\n",
    "                min_link_value is None\n",
    "                or matrix[terms[icol]][terms[irow]] >= min_link_value\n",
    "            ):\n",
    "                if matrix[terms[icol]][terms[irow]] > 0.75:\n",
    "                    edges_75.append((terms[icol], terms[irow]))\n",
    "                elif matrix[terms[icol]][terms[irow]] > 0.50:\n",
    "                    edges_50.append((terms[icol], terms[irow]))\n",
    "                elif matrix[terms[icol]][terms[irow]] > 0.25:\n",
    "                    edges_25.append((terms[icol], terms[irow]))\n",
    "                elif matrix[terms[icol]][terms[irow]] > 0.0:\n",
    "                    other_edges.append((terms[icol], terms[irow]))\n",
    "\n",
    "    if len(edges_75) == 0:\n",
    "        edges_75 = None\n",
    "    if len(edges_50) == 0:\n",
    "        edges_50 = None\n",
    "    if len(edges_25) == 0:\n",
    "        edges_25 = None\n",
    "    if len(other_edges) == 0:\n",
    "        other_edges = None\n",
    "\n",
    "    #\n",
    "    # Network drawing\n",
    "    #\n",
    "    fig = plt.Figure(figsize=figsize)\n",
    "    ax = fig.subplots()\n",
    "    #\n",
    "    draw_dict = {\n",
    "        \"Circular\": nx.draw_circular,\n",
    "        \"Kamada Kawai\": nx.draw_kamada_kawai,\n",
    "        \"Planar\": nx.draw_planar,\n",
    "        \"Random\": nx.draw_random,\n",
    "        \"Spectral\": nx.draw_spectral,\n",
    "        \"Spring\": nx.draw_spring,\n",
    "        \"Shell\": nx.draw_shell,\n",
    "    }\n",
    "    draw = draw_dict[layout]\n",
    "\n",
    "    G = nx.Graph(ax=ax)\n",
    "    G.clear()\n",
    "    #\n",
    "    G.add_nodes_from(terms)\n",
    "    #\n",
    "    if edges_75 is not None:\n",
    "        G.add_edges_from(edges_75)\n",
    "    if edges_50 is not None:\n",
    "        G.add_edges_from(edges_50)\n",
    "    if edges_25 is not None:\n",
    "        G.add_edges_from(edges_25)\n",
    "    if other_edges is not None:\n",
    "        G.add_edges_from(other_edges)\n",
    "    #\n",
    "    with_labels = True\n",
    "    if edges_75 is not None:\n",
    "        draw(\n",
    "            G,\n",
    "            ax=ax,\n",
    "            edgelist=edges_75,\n",
    "            width=3,\n",
    "            edge_color=\"k\",\n",
    "            with_labels=with_labels,\n",
    "            font_weight=\"bold\",\n",
    "            node_color='lightgray',\n",
    "            node_size = 1,\n",
    "            bbox=dict(facecolor='white', alpha=1.0),\n",
    "        )\n",
    "        with_labels = False\n",
    "    #\n",
    "    if edges_50 is not None:\n",
    "        draw(\n",
    "            G,\n",
    "            ax=ax,\n",
    "            edgelist=edges_50,\n",
    "            edge_color=\"k\",\n",
    "            width=1,\n",
    "            with_labels=with_labels,\n",
    "            font_weight=with_labels,\n",
    "            node_color='lightgray',\n",
    "            node_size = 1,\n",
    "            bbox=dict(facecolor='white', alpha=1.0),\n",
    "        )\n",
    "        with_labels = False\n",
    "    #\n",
    "    if edges_25 is not None:\n",
    "        draw(\n",
    "            G,\n",
    "            ax=ax,\n",
    "            edgelist=edges_25,\n",
    "            edge_color=\"red\",\n",
    "            width=1,\n",
    "            style=\"dashed\",\n",
    "            alpha=1.0,\n",
    "            with_labels=with_labels,\n",
    "            font_weight=with_labels,\n",
    "            node_color='lightgray',\n",
    "            node_size = 1,\n",
    "            bbox=dict(facecolor='white', alpha=1.0),\n",
    "        )\n",
    "        with_labels = False\n",
    "    if other_edges is not None:\n",
    "        draw(\n",
    "            G,\n",
    "            ax=ax,\n",
    "            edgelist=other_edges,\n",
    "            edge_color=\"red\",\n",
    "            width=1,\n",
    "            alpha=1.0,\n",
    "            style=\"dotted\",\n",
    "            with_labels=with_labels,\n",
    "            font_weight=with_labels,\n",
    "            node_color='lightgray',\n",
    "            node_size = 1,\n",
    "            bbox=dict(facecolor='white', alpha=1.0),\n",
    "        )\n",
    "        with_labels = False\n",
    "\n",
    "    xlim = ax.get_xlim()\n",
    "    ylim = ax.get_ylim()\n",
    "    ax.set_xlim(\n",
    "        xlim[0] - 0.15 * (xlim[1] - xlim[0]), xlim[1] + 0.15 * (xlim[1] - xlim[0])\n",
    "    )\n",
    "    ax.set_ylim(\n",
    "        ylim[0] - 0.15 * (ylim[1] - ylim[0]), ylim[1] + 0.15 * (ylim[1] - ylim[0])\n",
    "    )\n",
    "    return fig\n",
    "\n",
    "\n",
    "matrix = pd.DataFrame(\n",
    "    [\n",
    "        [1.00, 0.70, 0.26, 0.70, 1.00, 0.20],\n",
    "        [0.70, 1.00, 0.20, 1.00, 0.70, 0.26],\n",
    "        [0.26, 0.20, 1.00, 0.70, 1.00, 0.20],\n",
    "        [1.00, 0.70, 0.26, 0.70, 1.00, 0.20],\n",
    "        [0.70, 1.00, 0.20, 1.00, 0.70, 0.26],\n",
    "        [0.26, 0.20, 1.00, 0.70, 1.00, 0.20],\n",
    "    ],\n",
    "    columns=list(\"abcdef\"),\n",
    "    index=list(\"abcdef\"),\n",
    ")\n",
    "\n",
    "correlation_map(matrix, figsize=(10, 10), min_link_value=0)"
   ]
  },
  {
   "cell_type": "code",
   "execution_count": null,
   "metadata": {},
   "outputs": [],
   "source": []
  },
  {
   "cell_type": "code",
   "execution_count": null,
   "metadata": {},
   "outputs": [],
   "source": []
  },
  {
   "cell_type": "code",
   "execution_count": null,
   "metadata": {},
   "outputs": [],
   "source": []
  },
  {
   "cell_type": "code",
   "execution_count": null,
   "metadata": {},
   "outputs": [],
   "source": []
  },
  {
   "cell_type": "code",
   "execution_count": null,
   "metadata": {},
   "outputs": [],
   "source": []
  },
  {
   "cell_type": "code",
   "execution_count": null,
   "metadata": {},
   "outputs": [],
   "source": []
  },
  {
   "cell_type": "code",
   "execution_count": null,
   "metadata": {},
   "outputs": [],
   "source": []
  },
  {
   "cell_type": "code",
   "execution_count": null,
   "metadata": {},
   "outputs": [],
   "source": [
    "from ipywidgets import interact, interactive, fixed, interact_manual\n",
    "interact(slow_function,i=widgets.FloatSlider(min=1e5, max=1e7, step=1e5, continuous_update=True));"
   ]
  },
  {
   "cell_type": "code",
   "execution_count": null,
   "metadata": {},
   "outputs": [],
   "source": [
    "def slow_function(i):\n",
    "    print(int(i),list(x for x in range(int(i)) if\n",
    "                str(x)==str(x)[::-1] and\n",
    "                str(x**2)==str(x**2)[::-1]))\n",
    "    return"
   ]
  },
  {
   "cell_type": "code",
   "execution_count": null,
   "metadata": {},
   "outputs": [],
   "source": []
  },
  {
   "cell_type": "code",
   "execution_count": null,
   "metadata": {},
   "outputs": [],
   "source": [
    "x = \"hola\"\n",
    "x[:-1]"
   ]
  },
  {
   "cell_type": "code",
   "execution_count": null,
   "metadata": {},
   "outputs": [],
   "source": [
    "import pandas as pd\n",
    "x = pd.DataFrame({'a': [1, 2, 3, 4, 5], 'b': list('ABCDE')})\n",
    "\n",
    "x.values.ravel().tolist()"
   ]
  },
  {
   "cell_type": "code",
   "execution_count": null,
   "metadata": {},
   "outputs": [],
   "source": [
    "x"
   ]
  },
  {
   "cell_type": "code",
   "execution_count": null,
   "metadata": {},
   "outputs": [],
   "source": [
    "x.values.shape"
   ]
  },
  {
   "cell_type": "code",
   "execution_count": null,
   "metadata": {},
   "outputs": [],
   "source": [
    "print('hola')"
   ]
  },
  {
   "cell_type": "code",
   "execution_count": null,
   "metadata": {},
   "outputs": [],
   "source": [
    "m = \"abcdefg [1000]\"\n",
    "m[m.find('[')+1:m.find(']')]\n"
   ]
  },
  {
   "cell_type": "code",
   "execution_count": null,
   "metadata": {},
   "outputs": [],
   "source": []
  },
  {
   "cell_type": "code",
   "execution_count": null,
   "metadata": {},
   "outputs": [],
   "source": [
    "import networkx as nx\n",
    "G = nx.petersen_graph()\n",
    "nx.draw(G, with_labels=True, font_weight='bold')"
   ]
  },
  {
   "cell_type": "code",
   "execution_count": null,
   "metadata": {},
   "outputs": [],
   "source": [
    "nx.draw_shell(G, nlist=[range(5, 10), range(5)], with_labels=True, font_weight='bold')"
   ]
  },
  {
   "cell_type": "code",
   "execution_count": null,
   "metadata": {},
   "outputs": [],
   "source": [
    "nx.draw_circular(G, nlist=[range(5, 10), range(5)], with_labels=True, font_weight='bold')"
   ]
  },
  {
   "cell_type": "code",
   "execution_count": null,
   "metadata": {},
   "outputs": [],
   "source": [
    "nx.draw_kamada_kawai(G, nlist=[range(5, 10), range(5)], with_labels=True, font_weight='bold')"
   ]
  },
  {
   "cell_type": "code",
   "execution_count": null,
   "metadata": {},
   "outputs": [],
   "source": [
    "nx.draw_spectral(G, nlist=[range(5, 10), range(5)], with_labels=True, font_weight='bold')"
   ]
  },
  {
   "cell_type": "code",
   "execution_count": null,
   "metadata": {},
   "outputs": [],
   "source": [
    "nx.draw_spring(G, nlist=[range(5, 10), range(5)], with_labels=True, font_weight='bold')"
   ]
  },
  {
   "cell_type": "code",
   "execution_count": null,
   "metadata": {},
   "outputs": [],
   "source": [
    "nx.draw_shell(G, nlist=[range(5, 10), range(5)], with_labels=True, font_weight='bold')"
   ]
  },
  {
   "cell_type": "code",
   "execution_count": null,
   "metadata": {},
   "outputs": [],
   "source": []
  }
 ],
 "metadata": {
  "kernelspec": {
   "display_name": "Python 3",
   "language": "python",
   "name": "python3"
  },
  "language_info": {
   "codemirror_mode": {
    "name": "ipython",
    "version": 3
   },
   "file_extension": ".py",
   "mimetype": "text/x-python",
   "name": "python",
   "nbconvert_exporter": "python",
   "pygments_lexer": "ipython3",
   "version": "3.6.9"
  },
  "widgets": {
   "application/vnd.jupyter.widget-state+json": {
    "state": {
     "02ef7e5bf2284f6997ef3fc64c9c9859": {
      "model_module": "@jupyter-widgets/controls",
      "model_module_version": "1.5.0",
      "model_name": "VBoxModel",
      "state": {
       "children": [
        "IPY_MODEL_8da8d715f4bf4d0bb182be269bc773b9",
        "IPY_MODEL_e5eb55e4831c43dba09e5d0e756d2a3c"
       ],
       "layout": "IPY_MODEL_800ecf3ad8df4d0988efabf53631f3ab"
      }
     },
     "044e671250c44dca807c085c48dea59e": {
      "model_module": "@jupyter-widgets/base",
      "model_module_version": "1.2.0",
      "model_name": "LayoutModel",
      "state": {
       "grid_template_areas": "\"header header header\"\n\"center center center\"",
       "grid_template_columns": "1fr 2fr 1fr",
       "grid_template_rows": "80px 750px"
      }
     },
     "087712695ac84cbaa0d6c5cbe93354a5": {
      "model_module": "@jupyter-widgets/controls",
      "model_module_version": "1.5.0",
      "model_name": "HTMLModel",
      "state": {
       "layout": "IPY_MODEL_9b51f1c7abcd4244ae642d9dde50486e",
       "style": "IPY_MODEL_592e32b91c104a898c2fc910a26d3b7f",
       "value": "<h3>Matrix exceeds the maximum shape</h3>"
      }
     },
     "089aa02580ec49f9be2bd2304b981129": {
      "model_module": "@jupyter-widgets/base",
      "model_module_version": "1.2.0",
      "model_name": "LayoutModel",
      "state": {}
     },
     "0c38ce2484e447c1bdcd2338a3194292": {
      "model_module": "@jupyter-widgets/controls",
      "model_module_version": "1.5.0",
      "model_name": "LabelModel",
      "state": {
       "layout": "IPY_MODEL_828a2188fd79435a8fa515d191be83a7",
       "style": "IPY_MODEL_b6ac5f831e1b41769d9dbce3f443b9f9",
       "value": "Sort order:"
      }
     },
     "0e968eca9c1f4faa8e807470f9c2a8c6": {
      "model_module": "@jupyter-widgets/base",
      "model_module_version": "1.2.0",
      "model_name": "LayoutModel",
      "state": {
       "border": "1px solid gray",
       "height": "650px"
      }
     },
     "0eed99db999e4f83980bae844513b1f6": {
      "model_module": "@jupyter-widgets/controls",
      "model_module_version": "1.5.0",
      "model_name": "DescriptionStyleModel",
      "state": {
       "description_width": ""
      }
     },
     "0f7919e578bd4b1791f2b5b09b1e0f54": {
      "model_module": "@jupyter-widgets/controls",
      "model_module_version": "1.5.0",
      "model_name": "LabelModel",
      "state": {
       "layout": "IPY_MODEL_d66743a0514c46c2a938d247874e06c8",
       "style": "IPY_MODEL_ee1936f49d764b59bfe8fcfb7a2cc9f5",
       "value": "By Term:"
      }
     },
     "178542a632c64189a1631ece887562c7": {
      "model_module": "@jupyter-widgets/base",
      "model_module_version": "1.2.0",
      "model_name": "LayoutModel",
      "state": {}
     },
     "185bb4e3101642479f7552421731cae4": {
      "model_module": "@jupyter-widgets/base",
      "model_module_version": "1.2.0",
      "model_name": "LayoutModel",
      "state": {}
     },
     "1debd5e6e41d434fa42e383c50cf014f": {
      "model_module": "@jupyter-widgets/controls",
      "model_module_version": "1.5.0",
      "model_name": "DescriptionStyleModel",
      "state": {
       "description_width": ""
      }
     },
     "2ca7487e4cdd41a6a6de4f2b9891486a": {
      "model_module": "@jupyter-widgets/base",
      "model_module_version": "1.2.0",
      "model_name": "LayoutModel",
      "state": {}
     },
     "32d951cf8d654db7b013f9c2849838c5": {
      "model_module": "@jupyter-widgets/controls",
      "model_module_version": "1.5.0",
      "model_name": "VBoxModel",
      "state": {
       "children": [
        "IPY_MODEL_48313d3cb21749309069e6e50baac525",
        "IPY_MODEL_85f9baa155fa4bc6a61f44511f46f8b6"
       ],
       "layout": "IPY_MODEL_78493bbbe4e04346b01ae8458d0e30a9"
      }
     },
     "35ec0949860941c0bbb09e7b6c013b2a": {
      "model_module": "@jupyter-widgets/controls",
      "model_module_version": "1.5.0",
      "model_name": "VBoxModel",
      "state": {
       "children": [
        "IPY_MODEL_4068920c188e4d17a2ba747ca5d14240"
       ],
       "layout": "IPY_MODEL_9288479f18b84f349c368f28c7330a5c"
      }
     },
     "37e3e8fe1a824bdb88963ed0fab77316": {
      "model_module": "@jupyter-widgets/controls",
      "model_module_version": "1.5.0",
      "model_name": "LabelModel",
      "state": {
       "layout": "IPY_MODEL_f563c94614e547b98f594e35c4e567aa",
       "style": "IPY_MODEL_ee2da9312f23443ea62b3615638dfbcc",
       "value": "Min link value:"
      }
     },
     "38b83385f55240b88b78981b7ac76a1f": {
      "model_module": "@jupyter-widgets/controls",
      "model_module_version": "1.5.0",
      "model_name": "DescriptionStyleModel",
      "state": {
       "description_width": ""
      }
     },
     "3ae87baba9954c87b905cde6f2cf2530": {
      "model_module": "@jupyter-widgets/controls",
      "model_module_version": "1.5.0",
      "model_name": "DescriptionStyleModel",
      "state": {
       "description_width": ""
      }
     },
     "4068920c188e4d17a2ba747ca5d14240": {
      "model_module": "@jupyter-widgets/output",
      "model_module_version": "1.0.0",
      "model_name": "OutputModel",
      "state": {
       "layout": "IPY_MODEL_cf336df5a1514df988d3018164f7fa26",
       "outputs": [
        {
         "data": {
          "image/png": "iVBORw0KGgoAAAANSUhEUgAAAjwAAAIuCAYAAAC7EdIKAAAABHNCSVQICAgIfAhkiAAAAAlwSFlzAAALEgAACxIB0t1+/AAAADh0RVh0U29mdHdhcmUAbWF0cGxvdGxpYiB2ZXJzaW9uMy4yLjEsIGh0dHA6Ly9tYXRwbG90bGliLm9yZy+j8jraAAAgAElEQVR4nOzdeVyVdf7//+cBle0Ahy0BxYNaLplipVMqqS0uaZopoiJu0zJ+qslm/EzTgrK4zFjW1Nin+LQKijZqjX5wyU/2CZdJ0ds0ehv3JUEENRBBjoognt8ffbt+HnEBRZHLx/1243bjut7v6/1+nXOo8/R9Xec6FqfT6RQAAICJudV3AQAAADcagQcAAJgegQcAAJgegQcAAJgegQcAAJgegQcAAJgegQcAAJgegQcAAJgegQcAAJgegQcAAJgegQcAAJgegQcAAJgegQcAAJgegQcAAJgegQcAAJgegQcAAJgegQcAAJgegQcAAJgegQcAAJgegQcAAJgegQcAAJgegQcAAJgegQcAAJgegQcAAJgegQcAAJgegQcAAJgegQcAAJgegQcAAJgegQcAAJgegQcAAJgegQcAAJgegQcAAJgegQcAAJgegQcAAJgegQcAAJgegQcAAJgegQcAAJgegQcAAJgegQcAAJgegQcAAJgegQcAAJgegQcAAJgegQcAAJgegQcAAJgegQcAAJgegQcAAJgegQcAAJgegQcAAJgegQcAAJgegQcAAJgegQcAAJgegQcAAJgegQcAAJgegQcAAJgegQcAAJgegQcAAJgegQcAAJgegQcAAJgegQcAAJgegQcAAJgegQcAAJgegQcAAJgegQcAAJgegQcAAJgegQcAAJgegQcAAJgegQcAAJgegQcAAJgegQcAAJgegQcAAJgegQcAAJgegQcAAJgegQcAAJgegQcAAJgegQcAAJgegQcAAJgegQcAAJheo/ouAEDdiYyMVG5ubn2XgQbGbrcrJyenvssAbiiL0+l01ncRAOqGxWIR/0mjtvi7we2AU1oAAMD0CDwAAMD0CDwAqsnKylLz5s3ru4xrMnPmTD3zzDPXPY7FYtH+/fvroKLamzt3rtzd3WW1WrVr167rHu/s2bOyWq1q3LixEhIS6qBCoOEh8AAmd6k37qSkJMXHx9dTRTfW66+/rk8++aROxxw/fvxNDwrdunWTw+FQ+/btJUlOp1MJCQlq1qyZ/P391bt3b+3YscPo36FDB1mtVuOnUaNGGjRokCTJw8NDDodDo0ePvqmPAbiVEHgAuDh37lx9l3DNbtXa66KuxYsX67PPPtP69etVXFysbt26acyYMUb7jh075HA45HA4VFZWpoiICA0fPvy65wXMgsAD3OZ+OX01a9YshYaGasKECUbbzJkzFRwcrMjISGVkZBj7V6xYoXvvvVd+fn6KiIhQUlKS0ZaTkyOLxaK0tDS1aNFCwcHBmjFjxmXnv9JYkpSeni673a6goCBNmzZNkZGRWrNmjaSfV6piYmIUHx8vPz8/zZ07t9rq1YYNG9S9e3fZbDZFRERo7ty5kqTevXu7rATNnTtX0dHR1er76KOPlJGRoTfffFNWq9VYNbl45ezCVaBLPafnz5/Xn//8Z7Vu3VpBQUGKjY1VcXHxZZ+Xix08eFDR0dFq1aqV3N3dFR8fr507d16y77p161RUVKRhw4bVeHzA7Ag8AHT06FEVFxcrNzdXH330kbGvqKhI+fn5SktL03PPPac9e/ZIknx8fJSenq6SkhKtWLFCH374oZYuXeoy5oYNG7Rnzx59++23SklJuey1KFcaa+fOnXr++eeVkZGhI0eOqLS0VPn5+S7HL1u2TDExMSopKal2yiY3N1ePP/64fvvb36qwsFBbt25V586da/XcPPfccxo9erReeeUVORwOZWZm1ui4i5/TOXPmaOnSpVq7dq0KCgoUEBCgF154ocZ1jBw5UgcOHNDevXtVWVmptLQ09e/f/5J909LSNGzYMPn4+NR4fMDsCDwA5ObmpuTkZHl4eMjLy8vYP23aNHl4eKhXr14aOHCgFi1aJOnn1ZGOHTvKzc1NnTp10qhRo7R27VqXMRMTE+Xl5aWoqChFRUVp27Ztl5z7SmMtWbJEgwYNUnR0tJo0aaKUlBRZLBaX47t166YhQ4bIzc3NpXZJWrBggR577DGNGjVKjRs3VlBQUK0Dz7W6+DlNTU3VjBkz1Lx5c3l4eCgpKUlLliyp8emusLAwRUdHq23btvLy8tLixYv1l7/8pVq/06dPa8mSJRo/fnwdPyKgYSPwACbn7u6uyspKl32VlZVq3LixsR0SEiJPT0+XPgEBAS4rBHa7XQUFBZKk7OxsPfzwwwoJCZG/v79SU1NVVFTkcnxoaKjxu7e3txwOxyXru9JYBQUFioiIcBknKCjI5fgL2y+Wl5en1q1bX7b9Rrr4Oc3NzdVTTz0lm80mm82m9u3by93dXceOHavReCkpKdqyZYvy8vJUXl6uxMREPfLIIzp9+rRLv6+++kqBgYHq1atXnT4eoKEj8AAm16JFi2pfG3Dw4EHZ7XZj++JVE0k6ceKETp06ZWwfOnRI4eHhkqS4uDgNHjxYeXl5Ki0t1cSJE6/5Tr1XGissLEyHDx82+p45c0bHjx93Of5Stf8iIiJCBw4cuGSbj4+PS1g4evToZce51Bze3t5XPP7iYyIiIrRq1SqVlJQYP+Xl5WrWrNll573Q1q1bNWLECDVv3lyNGjXS+PHjdeLEiWrX8aSlpWns2LFXfF6A2xGBBzC5ESNGaPr06Tp8+LDOnz+vNWvWKDMzUzExMVc9NjExURUVFVq/fr2WL19ufOqnrKxMgYGB8vT01ObNm7VgwYJrru9KY8XExCgzM1Pff/+9KioqlJSUVKtgNXr0aK1Zs0aLFi3SuXPndPz4cW3dulWS1LlzZ3311Vc6ffq09u/fr08//fSy4zRt2lQ//vijy77OnTtrwYIFqqqq0tdff13tlN7FJk6cqDfeeMP4rrPCwkItW7asxo+la9euWrx4sY4dO6bz589r3rx5qqys1J133mn0OXz4sL777juNGzeuxuMCtwsCD2ByU6dOVffu3RUdHa2AgAC98sorysjI0D333HPF40JDQxUQEKDw8HCNHj1aqampateunSTpgw8+0NSpU+Xr66uUlBTFxsZec31XGqtDhw6aM2eORo4cqbCwMFmtVt1xxx3y8PCo0dgtWrTQypUr9fbbbyswMFCdO3c2riX63e9+pyZNmqhp06YaN27cFe9R8/TTT2vnzp2y2WwaMmSIJOm9995TZmambDabMjIyjP2XM2nSJA0ePFh9+/aVr6+vHnzwQWVnZ9focUjSH//4R0VFRalz586y2Wz6y1/+oi+//FI2m83oM2/ePHXr1q3eTuMBtzK+PBQwEbN/CaTD4ZDNZtO+ffvUsmXL+i7nhpk3b55+85vfqEmTJtq4caNx88FrdfbsWTVt2lSVlZV65ZVXlJiY6NJu9r8bQCLwAKZixjeuzMxMPfroo3I6nZo8ebKys7P1ww8/cI1KHTLj3w1wMU5pAbilLVu2TOHh4QoPD9e+ffv0xRdfEHYA1BorPICJ8C91XAv+bnA7YIUHAACYHoEHAACYHoEHAACYXqP6LgBA3bHb7VzQi1q78K7bgFlx0TIAADA9VnhMKjIy0riFPczNbrdX+64sAIArVnhMio+Z3j54rQHg6rhoGQAAmB6BBwAAmB6BB1eUlZWl5s2b35S5zpw5o0GDBsnf31/Dhw+/4fNlZGSob9++N2Rsi8UiHx8fvfHGG3UyXuvWrdWkSRPFx8fXyXgAcLsh8NxGLBaL9u/f77IvKSnplnkTXbJkiY4dO6bjx49r8eLFN3y+0aNH63//939v2Pjbtm3TjBkzjO3MzEzdc889slqt6t69u3bu3Gm0zZ07V+7u7rJarcZPVlaW0X7gwAG9/vrrN6xWADA7Ag8u69y5czd1vtzcXLVp00aNGtX+w4M3u9ba2rdvn0aPHq3U1FSVlJRo0KBBGjx4sEvd3bp1k8PhMH569+5dfwUDgMkQeGD45fTVrFmzFBoaqgkTJhhtM2fOVHBwsCIjI5WRkWHsX7Fihe699175+fkpIiJCSUlJRltOTo4sFovS0tLUokULBQcHu6x4XCgxMVEpKSn629/+JqvVqk8//VQHDhzQI488oqCgIAUHB2v06NEqKSkxjomMjNSsWbPUqVMn+fj4aP/+/bJYLPr8888VERGhgIAApaamasuWLerUqZNsNptefPFF4/i5c+cqOjra2LZYLEpNTdVdd90lm82mF154wfj0U1VVlSZPnqzg4GC1bNlS77//viwWS42D1urVq/XQQw8pOjpajRo10h//+Efl5+dr7dq1NToeAHB9uA8PXBw9elTFxcXKzc3V+fPnlZ2draNHj6qoqEj5+fnatGmTBgwYoC5duqht27by8fFRenq6OnTooO3bt6tPnz7q3LmzhgwZYoy5YcMG7dmzR3v37tWvfvUrDR06VO3bt3eZNzk52TjlNn/+fEnS/v379dprr6lnz546efKkhg0bpqSkJL377rvGcQsXLtSKFSsUHBysY8eOSZKys7O1b98+rVu3ToMHD1b//v21Zs0aVVZW6t5779Xw4cPVq1evSz7+5cuXa8uWLTp58qTuv/9+DRo0SP3799fHH3+sVatWaevWrfLx8bmma4wu/Oi40+mU0+nU9u3b9eijj0qS/vWvfyk4OFiBgYEaM2aMXnvttWta7QIAVMcKD1y4ubkpOTlZHh4e8vLyMvZPmzZNHh4e6tWrlwYOHKhFixZJknr37q2OHTvKzc1NnTp10qhRo6qtWiQmJsrLy0tRUVGKiorStm3balTLnXfeqT59+sjDw0MhISH6/e9/X23sl156SRERES61TpkyRZ6enurbt698fHw0atQo3XHHHWrWrJkeeugh/etf/7rsnK+++qpsNptatGihhx9+WFu3bpUkLVq0SJMmTVLz5s0VEBCgV199tUaP4RePPfaY1q5dq6ysLFVUVGjmzJmqqKjQ6dOnJUk9e/bU9u3b9dNPP+nLL7/UwoUL9dZbb9VqDgDA5RF4biPu7u6qrKx02VdZWanGjRsb2yEhIfL09HTpExAQIB8fH2PbbreroKBA0s+rKQ8//LBCQkLk7++v1NRUFRUVuRwfGhpq/O7t7S2Hw1Gjeo8dO6aRI0eqWbNm8vPzU3x8fLWxIyIiqh3XtGlT43cvL69q21ea/3K1FhQUuMx1qXmvpF27dkpLS9OLL76osLAwFRUV6e677zY+AdeqVSu1bNlSbm5u6tixo6ZOnaolS5bUag4AwOUReG4jLVq0qPYVBAcPHnT54sBLffHkiRMndOrUKWP70KFDCg8PlyTFxcVp8ODBysvLU2lpqSZOnFhnd/19/fXXZbFY9O9//1snT57U/Pnzq419s74oMywsTIcPHza28/Lyaj1GTEyMtm/fruPHjys5OVk5OTnq2rXrJfty92QAqFsEntvIiBEjNH36dB0+fFjnz5/XmjVrlJmZqZiYmKsem5iYqIqKCq1fv17Lly83rmEpKytTYGCgPD09tXnzZi1YsKDO6i0rK5PVapW/v7/y8/Pr9RRPbGys3nvvPeXn56ukpESzZs2q9Rj//Oc/VVVVpcLCQj333HMaPHiw2rVrJ0latWqVcQ3S7t27NW3aND355JN1+hgA4HZG4LmNTJ06Vd27d1d0dLQCAgL0yiuvKCMjQ/fcc88VjwsNDVVAQIDCw8ONj1b/8kb9wQcfaOrUqfL19VVKSopiY2PrrN7ExET98MMP8vf318CBAzV06NA6G7u2nn32WfXt21edOnXSvffeqwEDBqhRo0Zyd3ev8RiTJk2SzWZT27ZtFRAQoI8//tho+/bbb41Pmw0YMEBDhw7lvjsAUIf48lCT4pTIjbVq1SpNnDjxst9I7+npKQ8PD7300kuaNm3adc/Xtm1b5efnKzY2Vp999plLG681AFwdn3kFauDMmTP67rvv1LdvXx07dkzJycl66qmnLtu/vLy8Tuffs2dPnY4HALcbVnhMin/1163Tp0+rV69e2r17t7y8vDRw4EC999578vPzq+/SeK0BoAYIPCbFm+Dtg9caAK6Oi5YBAIDpEXgAAIDpEXgAAIDp8Sktk7Lb7TftLsSoXxfeKRsAcGlctAwAAEyPU1oAAMD0CDwAAMD0CDwAAMD0CDwAAMD0CDwAAMD0CDwAAMD0CDwAAMD0CDwAAMD0CDwAAMD0CDwAAMD0CDwAAMD0CDwAAMD0CDwAAMD0CDwAAMD0CDwAAMD0CDwAAMD0CDwAAMD0CDwAAMD0CDwAAMD0CDwAAMD0GtV3AQCAuhcZGanc3Nz6LgM3gN1uV05OTn2X0eBYnE6ns76LAADULYvFIv73bk68tteGU1oAAMD0CDwAAMD0CDwAgJvm0KFDslqtqqqquu6xxo8fr4SEhMu2W61W/fjjj9X6rl+/Xm3btr3u+SUpKytLbm5uslqt+vrrr+tkzNatW6tJkyaKj4+vk/HwMwIPANwmNmzYoO7du8vf31+BgYHq0aOHtmzZcl1jzp07V9HR0TXu36JFCzkcDrm7u1/XvDXhcDjUqlWravsfeugh7dmzx9iOjIzUmjVrrnme8PBwORwO9e/fX5K0YsUKRUdHy2azKTQ0VM8884zKysqM/sXFxRoxYoSCgoIUHBys0aNH6+TJk0b7gQMH9Prrr19zPbg0Ag8A3AZOnjypJ554Qr/97W9VXFys/Px8JSYmysPDo75LM53S0lIlJCSooKBAu3btUn5+vv7whz8Y7QkJCTpx4oQOHjyoAwcO6NixY0pKSqq/gm8TBB4AuA3s3btXkjRq1Ci5u7vLy8tLffv2VadOnSRJSUlJLqdQcnJyZLFYdO7cOUk/r+S0atVKvr6+atmypTIyMrRr1y5NnDhRGzdulNVqlc1mk/TzCse9994rPz8/RUREuLyZXzxu7969NWXKFPXo0UO+vr7q27evioqKjP7Dhw9XaGio/P391bNnT+3YscPlcRUVFalPnz7y9fVVr169XD6Kb7FYtH///mrPRVZWlpo3by5JGjNmjA4dOqRBgwbJarXqzTff1MCBAzVnzhyXYzp16qS///3vNXqu4+Li1L9/f3l7eysgIEDPPvus/vGPfxjtBw8e1JAhQ+Tn5yd/f3899dRT1R4X6h6BBwBuA23atJG7u7vGjRunVatW6cSJEzU+9tSpU3rppZe0atUqlZWV6fvvv1fnzp3Vvn17paamqlu3bnI4HCopKZEk+fj4KD09XSUlJVqxYoU+/PBDLV269LLjL1iwQJ9//rl++uknVVRUaPbs2Ubb448/rn379umnn37Sfffdp9GjR7scm5GRoSlTpqioqEidO3eu1n418+bNU4sWLZSZmSmHw6FXXnlF48aN0/z5840+27ZtU35+vgYOHFirsX+xbt06dejQwdh+4YUXtHz5cp04cUInTpzQl19+qccff/yaxkbNEXgA4Dbg5+enDRs2yGKx6Nlnn1VISIgGDx6sY8eO1eh4Nzc3bd++XWfOnFFYWJjLG/jFevfurY4dO8rNzU2dOnXSqFGjtHbt2sv2nzBhgtq0aSMvLy/FxsZq69atRtuvf/1r+fr6ysPDQ0lJSdq2bZtKS0uN9oEDB6pnz57y8PDQjBkztHHjRuXl5dXoMV3O4MGDtXfvXu3bt0/Sz6FoxIgRatKkSa3H+uabb5SWlqaUlBRj33333aeKigoFBQUpKChI7u7uev7556+rZlwdgQcAbhPt27fX3LlzdfjwYW3fvl0FBQV6+eWXr3qcj4+P/va3vyk1NVVhYWEaOHCgdu/efdn+2dnZevjhhxUSEiJ/f3+lpqa6nKa6WGhoqPG7t7e3HA6HJKmqqkqvvvqqWrduLT8/P0VGRkqSy1gRERHG71arVYGBgSooKLjqY7oST09PjRgxQvPnz9f58+e1cOFCjRkzptbjbNq0SXFxcVqyZInatGlj7I+NjVWbNm1UVlamkydPqnXr1nwi6yYg8ADAbahdu3YaP368tm/fLunnUHP69Gmj/ejRoy79+/Xrp2+++UZHjhxRu3bt9Oyzz0r6+TqZi8XFxWnw4MHKy8tTaWmpJk6ceE13Bl6wYIGWLVumNWvWqLS01Pg6hQvHunA1x+FwqLi4WOHh4bWa51KPYdy4ccrIyNC3334rb29vdevWrVZj/utf/9LgwYP12Wef6dFHH3Vp27p1q37zm9/Ix8dHVqtVEydO1MqVK2s1PmqPwAMAt4Hdu3fr7bff1uHDhyX9HBQWLlyoBx98UJLUuXNnrVu3TocOHVJpaan+9Kc/GcceO3ZMy5Yt06lTp+Th4SGr1So3t5/fPpo2barDhw+roqLC6F9WVqbAwEB5enpq8+bNWrBgwTXVXFZWJg8PDwUFBen06dOX/Kj2ypUrtWHDBlVUVGjKlCl68MEHXVZ9aqJp06bG/Xp+0a1bN7m5uWny5Mm1Xt3Zvn27+vfvrzlz5mjQoEHV2rt27apPPvlEZ86c0ZkzZ/TRRx8ZF4/jxiHwAMBtwNfXV9nZ2XrggQfk4+OjBx98UPfcc4/efvttSVKfPn00YsQIderUSffff7+eeOIJ49jz58/rnXfeUXh4uAIDA7V27Vp9+OGHkqRHHnlEHTp0UGhoqIKDgyVJH3zwgaZOnSpfX1+lpKQoNjb2mmoeO3as7Ha7mjVrprvvvtsIZxeKi4tTcnKyAgMD9c9//tPlYuOaeu211zR9+nTZbDaXC6bHjh2rf//737U+3fT222+rsLBQTz/9tKxWq6xWq8s1T5999plycnLUvHlzNWvWTD/++KPS0tJqXTdqhy8PBQAT4gsmr196ero++ugjbdiw4bJ91q1bp379+snDw0N/+9vf1K9fv+uet23btsrPz1dsbKw+++yzau28tteGwAMAJsSb4vU5ffq0HnnkET3//PMaO3ZsfZfjgtf22nBKCwCAC6xevVohISFq2rSp4uLi6rsc1BFWeADAhFgFMC9e22vDCg8AADA9Ag8AADA9Ag8AADC9RvVdAACg7tnt9kveQRgNn91ur+8SGiQuWgYAAKbHKS0AAGB6BB4AAGB6BB4AAGB6BB4AAGB6BB4AAGB6BB4AAGB6BB4AAGB6BB4AAGB6BB4AAGB6BB4AAGB6BB4AAGB6BB4AAGB6BB4AAGB6BB4AAGB6BB4AAGB6BB4AAGB6BB4AAGB6BB4AAGB6BB4AAGB6BB4AAGB6BB4AAGB6BB4AAGB6BB4AAGB6BB4AAGB6BB4AAGB6BB4AAGB6BB4AAGB6BB4AAGB6BB4AAGB6BB4AAGB6BB4AAGB6BB4AAGB6BB4AAGB6BB4AAGB6BB4AAGB6BB4AAGB6jW7UwJGRkcrNzb1Rw8Mk7Ha7cnJy6rsMAIDJWZxOp/OGDGyx6AYNDRPh7wQAcDNwSgsAAJjeLR94srKy1Lx58/ouo04kJSUpPj7+usc5dOiQrFarqqqq6qAqV71795anp6d69uxZJ+MlJibKx8dHFotF586dq5MxAQCorZsaeCwWi/bv3++yr65CwO2kRYsWcjgccnd3vyHjv//++1q3bp2x/UsIslqtslqtatu2rUv/OXPmqGXLlvLz81OXLl20YcMGoy05OVk7duy4IXUCAFBTt/QKT0NeEWjItV/K+++/L4fDIYfDoT179hj7s7Oz9eqrr2rJkiUqLS3V008/raeeeuqGrD4BAHCtbqnA88vpq1mzZik0NFQTJkww2mbOnKng4GBFRkYqIyPD2L9ixQrde++98vPzU0REhJKSkoy2nJwcWSwWpaWlqUWLFgoODtaMGTMuO//x48c1aNAg+fn5qWvXrkpISFB0dLTRPmnSJEVERMjPz0/333+/1q9fb7QlJSUpJiZG8fHx8vPz09y5c3Xw4EH16tVLvr6+6tOnj4qKilzm27Rpk7p37y6bzaaoqChlZWUZbb1799aUKVPUo0cP+fr6qm/fvsbxvzyuX0LVlfpKUnp6uux2u4KCgjRt2jRFRkZqzZo1NXxVriwnJ0cdOnTQ/fffL4vForFjx6qoqEg//fRTnYwPAEBduKUCjyQdPXpUxcXFys3N1UcffWTsKyoqUn5+vtLS0vTcc88Zqww+Pj5KT09XSUmJVqxYoQ8//FBLly51GXPDhg3as2ePvv32W6WkpGjXrl2XnPuFF16Qj4+Pjh49qrS0NKWlpbm0d+3aVVu3blVxcbHi4uI0fPhwlZeXG+3Lli1TTEyMSkpKNHr0aMXFxen+++9XUVGRpkyZ4jJefn6+Bg4cqISEBBUXF2v27NkaNmyYCgsLjT4LFizQ559/rp9++kkVFRWaPXv2ZZ+3y/XduXOnnn/+eWVkZOjIkSMqLS1Vfn5+TV4KF6+99pqCg4PVo0cPl2D2+OOPq6qqStnZ2aqqqtJnn32mzp07KzQ0tNZzAABwo9xygcfNzU3Jycny8PCQl5eXsX/atGny8PBQr169NHDgQC1atEjSz6sbHTt2lJubmzp16qRRo0Zp7dq1LmMmJibKy8tLUVFRioqK0rZt26rNW1VVpS+//FLJycny9vbW3XffrXHjxrn0iY+PV1BQkBo1aqTJkyfr7NmzLqd3unXrpiFDhsjNzU2FhYXasmWLUXfPnj01aNAgo+/8+fM1YMAADRgwQG5uburTp4+6dOmilStXGn0mTJigNm3ayMvLS7Gxsdq6detln7fL9V2yZIkGDRqk6OhoNWnSRCkpKbJYLDV5KQyzZs3Sjz/+qPz8fD333HMaNGiQDhw4IEny9fXVsGHDFB0dLQ8PDyUnJ+ujjz6q9RwAANxINzXwuLu7q7Ky0mVfZWWlGjdubGyHhITI09PTpU9AQIB8fHyMbbvdroKCAkk/X0Py8MMPKyQkRP7+/kpNTa126ujC1QZvb285HI5qtRUWFurcuXOKiIgw9l34uyTNnj1b7du3l7+/v2w2m0pLS13murB/QUHBJev+RW5urhYvXiybzWb8bNiwQUeOHKlV3VfrW1BQ4FKXt7e3goKCLjvOpTzwwAPy9fWVh4eHxo0bpx49ehjB7NNPP/mEIKcAACAASURBVNXnn3+uHTt2qKKiQvPnz9cTTzxhvD4AANwKbmrgadGiRbW76h48eNAlCFxqZeDEiRM6deqUsX3o0CGFh4dLkuLi4jR48GDl5eWptLRUEydOvKYb2YWEhKhRo0Y6fPiwsS8vL8/4ff369XrzzTe1aNEinThxQiUlJfL393eZ68Law8LCLln3LyIiIjRmzBiVlJQYP6dOndKrr75a69qvJCwszOUxnTlzRsePH7+uMS+8WeDWrVv1xBNPqE2bNnJzc1P//v0VFham77///rrmAACgLt3UwDNixAhNnz5dhw8f1vnz57VmzRplZmYqJibmqscmJiaqoqJC69ev1/LlyzV8+HBJUllZmQIDA+Xp6anNmzdrwYIF11Sbu7u7hg4dqqSkJJ0+fVq7d+9Wenq60V5WVqZGjRopJCRE586dU0pKik6ePHnZ8ex2u7p06WLUvWHDBmVmZhrt8fHxyszM1OrVq1VVVaXy8nJlZWW5hJO6EBMTo8zMTH3//feqqKhQUlJSrQJhSUmJVq9erfLycp07d04ZGRlat26d+vfvL+nn65pWrFihH3/8UU6nU99884327t2re+65p04fBwAA1+OmBp6pU6eqe/fuio6OVkBAgF555RVlZGRc9c0xNDRUAQEBCg8P1+jRo5Wamqp27dpJkj744ANNnTpVvr6+SklJUWxs7DXX9/7776u0tFShoaEaM2aMRo0aJQ8PD0lSv3791L9/f7Vp00Z2u12enp7VTnldbMGCBcrOzlZgYKCSk5M1duxYoy0iIkLLli3TzJkzFRISooiICL311ls6f/78Ndd/KR06dNCcOXM0cuRIhYWFyWq16o477jAe19VUVlYqISFBISEhCg4O1pw5c7R06VK1adNGkjR27FiNHDlSvXv3lp+fn1566SX993//t/H6AABwK+C7tK7gj3/8o/GJLbNwOByy2Wzat2+fWrZsWa29b9++2rhxo7p06aLvvvvuuudLTk7WO++8o7Nnz+rUqVPVbpZohr8TAMCtj8Bzgd27d6uiokIdO3bUli1bNGDAAH3yyScaMmRIfZd2XTIzM/Xoo4/K6XRq8uTJys7O1g8//HBLfJKqIf6dAAAanlvuY+n1qaysTEOHDpWPj49GjBihyZMn68knn6zvsq7bsmXLFB4ervDwcO3bt09ffPHFLRF2AAC4WVjhQb3i7wQAcDOwwgMAAEyPwAMAAEyPwAMAAEyv0Y0a2G63c2EsrurCu2wDAHCj3LCLlgEAAG4VnNICAACmR+ABAACmR+ABAACmR+ABAACmR+ABAACmR+ABAACmR+ABAACmR+ABAACmR+ABAACmR+ABAACmR+ABAACmR+ABAACmR+ABAACmR+ABAACmR+ABAACmR+ABAACmR+ABAACmR+ABAACmR+ABAACmR+ABAACmR+ABAACmR+ABAACmR+ABAACmR+ABAACmR+ABAACmR+ABAACmR+ABAACmR+ABAACmR+ABAACmR+ABAACmR+ABAACmR+ABAACmR+ABAACmR+ABAACmR+ABAACmR+ABAACmR+ABAACmR+ABAACmR+ABAACmR+ABAACmR+ABAACmR+ABAACmR+ABAACmR+ABAACm16i+CwAA4GKRkZHKzc2t7zJQh+x2u3JycuptfovT6XTW2+wAAFyCxWIRb0/mUt+vKae0AACA6RF4AACA6RF4AAD4f3r37q1PPvmkvsu4rIkTJ2ratGl1Mtb48ePVpEkTRUZG1sl4iYmJ8vHxkcVi0blz5+pkzLpE4AEANAiRkZHy8vKS1Wo1fgoKCuq7rJsqNTVVU6ZMkSRlZWWpefPm1zXeK6+84nIh8X/+53/qrrvukq+vr9q1a6f09HSX/haLRT4+Psbz/8wzzxhtycnJ2rFjx3XVcyPxKS0AQIORmZmpxx57rL7LqBdVVVVyd3e/oXP4+PgoMzNTbdq00ZYtW9S/f3/deeed6t69u9Fn27ZtuvPOO29oHTcCKzwAgAbt7NmzevnllxUeHq7w8HC9/PLLOnv2rNH+8ccf684771RgYKAGDx7ssir0zTffqF27dvL399eLL754xU8Rbd68WV26dJGfn5+aNm2q3//+90bbpk2b1L17d9lsNkVFRSkrK8toKy4u1oQJExQeHq6AgAANGTJEkjR37lxFR0e7zGGxWLR//35JP59y+o//+A8NGDBAPj4++u677zR+/HglJCTo1KlTevzxx1VQUOCy2uXt7a3jx48b4/3www8KCQlRZWVljZ7L5ORktWvXTm5ubnrggQf00EMPaePGjTU69lZH4AEANGgzZszQpk2btHXrVm3btk2bN2/W9OnTJUn/93//p9dee02LFi3SkSNHZLfbNXLkSElSUVGRhg4dqunTp6uoqEitW7fWP/7xj8vOM2nSJE2aNEknT57UgQMHFBsbK0nKz8/XwIEDlZCQoOLiYs2ePVvDhg1TYWGhJGnMmDE6ffq0duzYoZ9++km/+93vavzYFixYoDfeeENlZWUu4cjHx0erVq1SeHi4HA6HHA6HwsPD1bt3by1atMjoN2/ePI0cOVKNGzeu+RP6/5w5c0ZbtmxRhw4dXPb37NlToaGhGjp0aL3eV6e2CDwAgAZjyJAhstlsstlsxkpJRkaGpk6dqjvuuEMhISFKTEzUvHnzjLZf//rXuu++++Th4aE//elP2rhxo3JycrRy5Up16NBBMTExaty4sV5++WWFhoZedu7GjRtr//79KioqktVq1YMPPihJmj9/vgYMGKABAwbIzc1Nffr0UZcuXbRy5UodOXJEq1atUmpqqgICAtS4cWP16tWrxo/3ySefVI8ePeTm5iZPT8+r9h83bpzmz58v6edTYAsXLtSYMWNqPN+FJk6cqKioKPXr18/Yt3btWuXk5Gj37t0KDw/XE088cUteoHwpBB4AQIOxdOlSlZSUqKSkREuXLpUkFRQUyG63G33sdrtx2uriNqvVqqCgIOXn56ugoEARERFGm8Vicdm+2Keffqq9e/eqXbt26tq1q5YvXy5Jys3N1eLFi40gZrPZtGHDBh05ckR5eXkKDAxUQEDANT3eK9VzKU8++aR27typgwcP6ptvvpG/v79+9atf1XreP/zhD9q+fbsWLVoki8Vi7O/Zs6eaNGkim82m9957TwcPHtSuXbtqPX594KJlAECDFh4ertzcXOPUy6FDhxQeHu7S9otTp07p+PHjatasmcLCwpSXl2e0OZ1Ol+2L3XXXXVq4cKHOnz+vr776SjExMTp+/LgiIiI0ZswYffzxx9WOOXLkiIqLi1VSUiKbzebS5uPjo9OnTxvbR48erXb8hWGjJm2enp6KjY3V/PnztXv37mta3UlMTNSqVau0du1a+fn5XbFvfd89uTZY4QEANGijRo3S9OnTVVhYqKKiIqWkpCg+Pt5o+/zzz7V161adPXtWr7/+uh544AFFRkZq4MCB2rFjh7766iudO3dOf/3rXy8ZOn4xf/58FRYWys3NzQgvbm5uio+PV2ZmplavXq2qqiqVl5crKytLhw8fVlhYmB5//HE9//zzOnHihCorK7Vu3TpJUlRUlHbs2KGtW7eqvLxcSUlJtXrcTZs21fHjx1VaWuqyf+zYsZo7d67+53/+p9aB509/+pMWLFigNWvWKCgoyKXtl1qrqqrkcDg0efJkNWvWTO3bt6/VHPWFwAMAaNASEhLUpUsXderUSR07dtR9992nhIQESdJjjz2madOmadiwYQoLC9OBAwf0xRdfSJKCg4O1ePFivfrqqwoKCtK+ffvUo0ePy87z9ddfq0OHDrJarZo0aZK++OILeXl5KSIiQsuWLdPMmTMVEhKiiIgIvfXWWzp//rykny8cbty4sdq1a6c77rhD7777riSpTZs2mjp1qh577DHddddd1T6xdTXt2rXTqFGj1KpVK9lsNuM03i/X/Nx3330up/Nq4vXXX9ehQ4d05513Gp/+mjlzpiTp2LFjGjFihPz8/NSqVSvl5ORo+fLl13RBdH3gy0MBALechnSq5Fb0yCOPKC4uzuXGgBd79tlntXDhQjVt2lQHDhy47jmTk5P1zjvv6OzZszp16lS1ewbV92tK4AEA3HLq+82xIduyZYv69OmjvLw8+fr61nc5hvp+TTmlBQCASYwbN06PPfaY3n333Vsq7NwKWOEBANxy6ns1AHWvvl9TVngAAIDpEXgAAIDpceNBAMAtx263X/Gme2h4avsR+brGNTwAAMD0OKUFAABMj8ADAABMj8ADAABMj8ADAABMj8ADAABMj8ADAABMj8ADAABMj8ADAABMj8ADAABMj8ADAABMj8ADAABMj8ADAABMj8ADAABMj8ADAABMj8ADAABMj8ADAABMj8ADAABMj8ADAABMj8ADAABMj8ADAABMj8ADAABMj8ADAABMj8ADAABMj8ADAABMj8ADAABMj8ADAABMj8ADAABMj8ADAABMj8ADAABMj8ADAABMj8ADAABMj8ADAABMj8ADAABMj8ADAABMj8ADAABMj8ADAABMj8ADAABMj8ADAABMj8ADAABMj8ADAABMj8ADAABMj8ADAABMj8ADAABMj8ADAABMr1F9F3A1kZGRys3Nre8ycAl2u105OTn1XQYAAFdlcTqdzvou4kosFotu8RJvW7w2AICGglNaAADA9Ag8AADA9Ag8N0hkZKTWrFlzybasrCw1b968TuebO3eu3N3dZbVatWvXruseb82aNbJarXJzc7vs4wAAoKFoUIGnf//+mjp1arX9y5YtU2hoqM6dO3dD5s3JyZHFYrlh49eVbt26yeFwqH379pKk7du3q1+/fgoODpbFYqnWv3fv3vL09JTVapXValXbtm2Ntscee0wOh0MtWrS4afUDAHCjNKjAM27cOM2fP7/ahbLz5s3T6NGj1ajRLf+hs5uqcePGio2N1aeffnrZPu+//74cDoccDof27NlzE6sDAODmaVCBZ8iQITp+/LjWr19v7Dtx4oSWL1+usWPH6vz58/rzn/+s1q1bKygoSLGxsSouLjb6pqeny263KygoSNOmTXM57XSlY3v27ClJstlsslqt2rhxow4cOKBHHnlEQUFBCg4O1ujRo1VSUuJS75YtW3T33XcrICBAEyZMUHl5+SUfV0FBgYYNG6aQkBC1bNlSf/3rX422zZs3q0uXLvLz81PTpk31+9//vsbPV9u2bfX000+rQ4cONT4GAAAzalCBx8vLS7GxsUpPTzf2LVq0SO3atVNUVJTmzJmjpUuXau3atSooKFBAQIBeeOEFSdLOnTv1/PPPKyMjQ0eOHFFpaany8/ONca507Lp16yRJJSUlcjgc6tatm5xOp1577TUVFBRo165dysvLU1JSkku9GRkZWr16tQ4cOKC9e/dq+vTp1R7T+fPnNWjQIEVFRSk/P1/ffvut3n33Xa1evVqSNGnSJE2aNEknT57UgQMHFBsbW6fP6Wuvvabg4GD16NFDWVlZdTo2AAC3DOct7uIS169f7/T393eeOXPG6XQ6nd27d3e+8847TqfT6WzXrp1zzZo1Rt+CggJno0aNnJWVlc7k5GTnyJEjjbZTp045Gzdu7Pzmm2+ueuzBgwedkpyVlZWXrfPvf/+7s3Pnzsa23W53fvjhh8b2ihUrnK1atXI6nU7nd99952zWrJnT6XQ6N23a5IyIiHAZa+bMmc7x48c7nU6n86GHHnJOnTrVWVhYeMXn6fPPP3f26NHjkm379u2r9jz+MvfJkyed5eXlzrlz5zqtVqtz//79Ln3sdrvxHF2sAfz5AADgdDqdzga1wiNJ0dHRCg4O1tKlS3XgwAFt3rxZcXFxkqTc3Fw99dRTstlsstlsat++vdzd3XXs2DEVFBQoIiLCGMfb21tBQUHG9pWOvZRjx45p5MiRatasmfz8/BQfH6+ioiKXPhfOZ7fbVVBQUG2c3NxcFRQUGPPabDbNnDnTmPfTTz/V3r171a5dO3Xt2lXLly+/9ifvIg888IB8fX3l4eGhcePGqUePHlq5cmWdjQ8AwK2iQV7lO3bsWKWnp2vPnj3q16+fmjZtKunngPHZZ5+pR48e1Y4JCwtzuSj3zJkzOn78uLF9pWMv9dUWr7/+uiwWi/79738rMDBQS5cu1YsvvujSJy8vz/j90KFDCg8PrzZORESEWrZsqX379l3ysd51111auHChzp8/r6+++koxMTE6fvy4fHx8Ltn/enDnZACAWTW4FR7p58CzZs0affzxxxo3bpyxf+LEiXrjjTeMgFJYWKhly5ZJkmJiYpSZmanvv/9eFRUVSkpKcnlzv9KxISEhcnNz048//mj0Lysrk9Vqlb+/v/Lz8/XWW29Vq/O//uu/dPjwYRUXF2vGjBkaMWJEtT6/+tWv5Ovrq1mzZunMmTOqqqrS9u3btWXLFknS/PnzVVhYKDc3N9lsNkmSm1vNXjan06ny8nJVVFRIksrLy3X27FlJP1+PtHr1apWXl+vcuXPKyMjQunXr1L9//xqNDQBAQ9IgA09kZKS6d++uU6dOafDgwcb+SZMmafDgwerbt698fX314IMPKjs7W5LUoUMHzZkzRyNHjlRYWJisVqvuuOMOeXh4XPVYb29vvfHGG+rRo4dsNps2bdqkxMRE/fDDD/L399fAgQM1dOjQanXGxcWpb9++atWqlVq3bq2EhIRqfdzd3bV8+XJt3bpVLVu2VHBwsJ555hmVlpZKkr7++mt16NBBVqtVkyZN0hdffCEvL68aPU+5ubny8vIyPqXl5eVl3GunsrJSCQkJCgkJUXBwsHHRdps2bWr6MgAA0GDctl8e6nA4ZLPZtG/fPrVs2bLOx7/Z5s2bp9/85jdq0qSJNm7caNx88Fp9++23GjZsmM6ePauVK1fq4YcfrtaHU2AAgIbitgo8mZmZevTRR+V0OjV58mRlZ2frhx9+uORdiHF1BB4AQEPRIE9pXatly5YpPDxc4eHh2rdvn7744gvCDgAAt4HbaoUHdYvXBgDQUNxWKzwAAOD2ROABAACmd8vfeNBut3OdzS3KbrfXdwkAANTILX8NDwAAwPXilBYAADA9Ag8AADA9Ag8AADA9Ag8AADA9Ag8AADA9Ag8AADA9Ag8AADA9Ag8AADA9Ag8AADA9Ag8AADA9Ag8AADA9Ag8AADA9Ag8AADA9Ag8AADA9Ag8AADA9Ag8AADA9Ag8AADA9Ag8AADA9Ag8AADA9Ag8AADA9Ag8AADA9Ag8AADA9Ag8AADA9Ag8AADA9Ag8AADA9Ag8AADA9Ag8AADA9Ag8AADA9Ag8AADA9Ag8AADA9Ag8AADA9Ag8AADA9Ag8AADA9Ag8AADA9Ag8AADA9Ag8AADC9RvVdAACgdiIjI5Wbm1vfZeAWZrfblZOTU99l3FIsTqfTWd9FAABqzmKxiP9140r4G6mOU1oAAMD0CDwAAMD0CDwAcBvKyspS8+bN67uMOpGUlKT4+PjrHufQoUOyWq2qqqqqg6pc9e7dW56enurZs2edjJeYmCgfHx9ZLBadO3euTsY0OwIPAACSWrRoIYfDIXd39xsy/vvvv69169a5bHfp0kUeHh4aP368S9+MjAxZrVbjx9vbWxaLRf/85z8lScnJydqxY8cNqdOsCDwAcJtpyCsCDbn2i4WHhyshIUG//vWvq7WNHj1aDofD+Pnggw/UqlUr3XffffVQqTkQeADABCwWi/bv329sjx8/XgkJCZL+/9NXs2bNUmhoqCZMmGD0mzlzpoKDgxUZGamMjAxj/4oVK3TvvffKz89PERERSkpKMtpycnJksViUlpamFi1aKDg4WDNmzLhsbcePH9egQYPk5+enrl27KiEhQdHR0Ub7pEmTFBERIT8/P91///1av3690ZaUlKSYmBjFx8fLz89Pc+fO1cGDB9WrVy/5+vqqT58+Kioqcplv06ZN6t69u2w2m6KiopSVlWW09e7dW1OmTFGPHj3k6+urvn37Gsf/8rh+CVVX6itJ6enpstvtCgoK0rRp0xQZGak1a9Zc8XW60NChQzVkyBAFBQVdtW9aWprGjh0ri8VS4/HhisADALeBo0ePqri4WLm5ufroo4+MfUVFRcrPz1daWpqee+457dmzR5Lk4+Oj9PR0lZSUaMWKFfrwww+1dOlSlzE3bNigPXv26Ntvv1VKSop27dp1yblfeOEF+fj46OjRo0pLS1NaWppLe9euXbV161YVFxcrLi5Ow4cPV3l5udG+bNkyxcTEqKSkRKNHj1ZcXJzuv/9+FRUVacqUKS7j5efna+DAgUpISFBxcbFmz56tYcOGqbCw0OizYMECff755/rpp59UUVGh2bNnX/Z5u1zfnTt36vnnn1dGRoaOHDmi0tJS5efn1+SlqLXc3FytW7dOY8eOvSHj3y4IPABwG3Bzc1NycrI8PDzk5eVl7J82bZo8PDzUq1cvDRw4UIsWLZL08+pGx44d5ebmpk6dOmnUqFFau3aty5iJiYny8vJSVFSUoqKitG3btmrzVlVV6csvv1RycrK8vb119913a9y4cS594uPjFRQUpEaNGmny5Mk6e/asEbwkqVu3bhoyZIjc3NxUWFioLVu2GHX37NlTgwYNMvrOnz9fAwYM0IABA+Tm5qY+ffqoS5cuWrlypdFnwoQJatOmjby8vBQbG6utW7de9nm7XN8lS5Zo0KBBio6OVpMmTZSSknLDVl/S09P10EMPqWXLljdk/NsFgQcAbgMhISHy9PR02RcQECAfHx9j2263q6CgQJKUnZ2thx9+WCEhIfL391dqamq1U0ehoaHG797e3nI4HNXmLSws1Llz5xQREWHsu/B3SZo9e7bat28vf39/2Ww2lZaWusx1Yf+CgoJL1v2L3NxcLV68WDabzfjZsGGDjhw5Uqu6r9a3oKDApS5vb+8anZq6Funp6dVCImqPwAMAJuDt7a3Tp08b20ePHnVpv9Tqw4kTJ3Tq1Clj+9ChQwoPD5ckxcXFafDgwcrLy1NpaakmTpx4TXfuDQkJUaNGjXT48GFjX15envH7+vXr9eabb2rRokU6ceKESkpK5O/v7zLXhbWHhYVdsu5fREREaMyYMSopKTF+Tp06pVdffbXWtV9JWFiYy2M6c+aMjh8/XqdzSNI//vEPFRQUKCYmps7Hvt0QeADABDp37qwFCxaoqqpKX3/9dbXTT5eTmJioiooKrV+/XsuXL9fw4cMlSWVlZQoMDJSnp6c2b96sBQsWXFNd7u7uGjp0qJKSknT69Gnt3r1b6enpRntZWZkaNWqkkJAQnTt3TikpKTp58uRlx7Pb7erSpYtR94YNG5SZmWm0x8fHKzMzU6tXr1ZVVZXKy8uVlZXlEk7qQkxMjDIzM/X999+roqJCSUlJtQ6E586dU3l5uaqqqoxaL/4UWlpamoYNGyZfX9+6LP+2ROABABN47733lJmZKZvNpoyMDA0ZMuSqx4SGhiogIEDh4eEaPXq0UlNT1a5dO0nSBx98oKlTp8rX11cpKSmKjY295tref/99lZaWKjQ0VGPGjNGoUaPk4eEhSerXr5/69++vNm3ayG63y9PTs9opr4stWLBA2dnZCgwMVHJyssvFvBEREVq2bJlmzpypkJAQRURE6K233tL58+evuf5L6dChg+bMmaORI0cqLCxMVqtVd9xxh/G4amL69Ony8vLSn//8Z82fP19eXl6aPn260V5eXq5FixZxOquO8OWhANDANPQvhvzjH/9ofGLLLBwOh2w2m/bt23fJi4v79u2rjRs3qkuXLvruu++ue77k5GS98847Onv2rE6dOlXtZokN/W/kRiDwAEAD09DezHbv3q2Kigp17NhRW7Zs0YABA/TJJ5/UaBXqVpaZmalHH31UTqdTkydPVnZ2tn744Ydb4l45De1v5GbglBYA4IYqKyvT0KFD5ePjoxEjRmjy5Ml68skn67us67Zs2TKFh4crPDxc+/bt0xdffHFLhB1cGis8ANDA8K93XA1/I9WxwgMAAEyPwAMAAEyPwAMAAEyvUX0XAACoHbvdzsWxuKILv24DP+OiZQAAYHqc0gIAAKZH4AEAAKZH4AEAAKZH4AEAAKZH4AEAAKZH4AEAAKZH4AEAAKZH4AEAAKZH4AEAAKZH4AEAAKZH4AEAAKZH4AEAAKZH4AEAAKZH4AEAAKZH4AEAAKZH4AEAAKZH4AEAAKZH4AEAAKZH4AEAAKZH4AEAAKbXqL4LQO1FRkYqNze3vstAA2K325WTk1PfZQBAvbE4nU5nfReB2rFYLOJlQ23wNwPgdscpLQAAYHoEHgAAYHoEnttUVlaWmjdvXt9lXJOZ/1979x4UVfnHcfyzULC4CyyyKILr4liZYyJOZVmaacmkiJkpIy2NOpZRlk2XsewG4k8nuszo6BhdNDShMm00RJxGK28F2gWr0VRyJIVgRAVFLLz9/nDaWhECw8yH92vGGc559nyf55zdmfPxnGf3zJqlBx544B/XsVgsKikpaYURtVx2drb8/f1lt9u1Y8eOf1xv165dstvt8vf31zvvvNMKIwQAsxB4cNl57rnnWv2kPn78eL3wwgutWvPv9OvXT7W1terRo4ckadGiRbr++usVEhKizp07a+rUqTp58qQk6ffff9fEiRPldrsVHBysuLg4FRQUeGtdc801qq2t1YABA/7VfQCAywWBpw364yR6Ofqvjr01xlVXV6fZs2erqqpKRUVFWrdunV577TVvfZfLpfXr16umpkb/+9//lJSUxDevAKCZCDyGOPf2zF+vWPxx+yozM1ORkZGaMGGC93WzZs2S0+lUTEyMcnJyvOvz8/PVp08fhYSEyOVyKT093du2d+9eWSwWLVq0SF26dJHT6dTMmTMbHVtTtSRp8eLFcrvdCg8P14wZMxQTE6O1a9dKktLT0zV69GilpKQoJCRE2dnZSk9PV0pKinf7TZs2hyaW4gAADvZJREFU6ZZbbpHD4ZDL5VJ2drYk6fbbb/e5EpSdna3+/fs3GN9bb72lnJwcvfLKK7Lb7UpMTLygY3r69Gm9/PLL6tatm8LDw5WUlKRDhw41elzO9fDDD2vAgAEKCAhQdHS0PB6PNm/eLEmy2WxKT09XTEyM/Pz8NHz4cHXt2lXffPNNs+sDQFtG4GkjKioqdOjQIZWWluqtt97yrquqqlJZWZkWLVqkSZMmaefOnZLOnmAXL16s6upq5efn64033tCKFSt8am7atEk7d+7UunXrlJGR0ehclKZqbd++XY888ohycnL066+/qqamRmVlZT7br1y5UqNHj1Z1dbU8Ho9PW2lpqYYOHarHHntMBw4cUHFxseLi4lp0bCZNmiSPx6OpU6eqtrZWeXl5zdru3GM6d+5crVixQuvXr1d5ebnCwsI0efLkFo3lrzZs2KCePXuet62yslK7du1qtB0A4IvA00b4+flp+vTpCgwMVFBQkHf9jBkzFBgYqIEDByohIUFLly6VdPbqSK9eveTn56fY2FglJydr/fr1PjXT0tIUFBSk3r17q3fv3tq2bdt5+26q1rJly5SYmKj+/fsrICBAGRkZslgsPtv369dPI0eOlJ+fn8/YJSk3N1d33nmnkpOTdeWVVyo8PLzFgedCnXtMs7KyNHPmTHXu3FmBgYFKT0/XsmXLLuh218KFC/X111/r6aefbtB24sQJeTwejRs3Ttdee21r7AoAGI/A00ZERETIarX6rAsLC5PNZvMuu91ulZeXS5KKioo0aNAgRUREKDQ0VFlZWaqqqvLZPjIy0vt3u3btVFtbe96+m6pVXl4ul8vlUyc8PNxn+7+2n2vfvn3q1q1bU7t+0Zx7TEtLS3XPPffI4XDI4XCoR48e8vf3V2VlZYvqrlixQtOmTVNBQYGcTqdP2+nTp3X//fcrICBA8+bNa5X9AIC2gMBjiHbt2qmurs67XFFR4dN+7lUTSTp8+LCOHTvmXf7ll18UFRUlSbrvvvs0YsQI7du3TzU1NUpNTb3gX+ptqlanTp20f/9+72uPHz+ugwcP/u3Y/+ByufTzzz+ft81mszV5TP6uj5YeU5fLpYKCAlVXV3v//fbbb4qOjm6033OtWbNGDz74oPLy8tSrVy+ftjNnzmjixImqrKzU8uXLdeWVVza7LgC0dQQeQ8TFxSk3N1enTp3SmjVrGtx+akxaWprq6+u1ceNGrVq1SmPGjJEkHT16VO3bt5fVatWWLVuUm5t7wWNrqtbo0aOVl5enL7/8UvX19UpPT29RsPJ4PFq7dq2WLl2qkydP6uDBgyouLpZ09ph8/PHHqqurU0lJiRYsWNBonY4dO2rPnj0+61p6TFNTU/X88897n3N24MABrVy5stn78tlnn8nj8Wj58uXq27dvg/aHH35YO3bsUF5eXoNbewCAphF4DDFnzhzl5eXJ4XAoJydHI0eO/NttIiMjFRYWpqioKHk8HmVlZXnnhMyfP18vvfSSgoODlZGRoaSkpAseW1O1evbsqblz52rs2LHq1KmT7Ha7OnTooMDAwGbV7tKli1avXq3XX39d7du3V1xcnHcu0RNPPKGAgAB17NhR48aNazDh+a8mTpyo7du3y+FweI9dS4/p448/rhEjRig+Pl7BwcG6+eabVVRU1Kz9kM7Op6qpqdGwYcNkt9tlt9s1dOhQSWdvl7355psqLi5WZGSkt/2v36wDADSOh4dehkx+EGRtba0cDod2796trl27XurhXDTvvfeeHnroIQUEBOirr77y/vjghdq9e7duvPFG1dfXa/78+Ro/frxPu8mfGQBoDgLPZci0k1deXp7uuOMOnTlzRk899ZSKior07bffNjl3By1j2mcGAFqKW1q45FauXKmoqChFRUVp9+7d+uCDDwg7AIBWxRWeyxD/W0dL8ZkB0NZxhQcAABiPwAMAAIxH4AEAAMa74lIPAC3ndruZ1IsWcbvdl3oIAHBJMWkZAAAYjys8QBsUExPjfQQGzOV2u7V3795LPQzgP4ErPEAbxNfU2wbeZ+BPTFoGAADGI/AAAADjEXgAXJAvvvhCnTt3/lf6On78uBITExUaGqoxY8Zc9P5ycnIUHx9/UWpbLBbZbDY9//zzrVJv8ODBslqt6t+/f6vUA0xF4AHwn7ds2TJVVlbq4MGD+uijjy56fx6PR59++ulFq79t2zbNnDlTklRVVaVbb71V4eHhcjgc6tevnzZv3uzz+j179mj48OEKDg6W0+nU1KlTvW2fffaZsrKyLtpYAVMQeAC02MmTJ//V/kpLS3XNNdfoiita/sXSf3usLWW327Vw4UIdOHBAhw8f1jPPPKPExETvuOvr6zVkyBANHjxYFRUV2r9/v1JSUi7xqIHLD4EHgKSzt1pKSkq8y+PHj9cLL7wg6c/bV5mZmYqMjNSECRO8r5s1a5acTqdiYmKUk5PjXZ+fn68+ffooJCRELpdL6enp3ra9e/fKYrFo0aJF6tKli5xOp/eKx7nS0tKUkZGhDz/8UHa7XQsWLNDPP/+swYMHKzw8XE6nUx6PR9XV1d5tYmJilJmZqdjYWNlsNpWUlMhisejdd9+Vy+VSWFiYsrKytHXrVsXGxsrhcOjRRx/1bp+dne1zi8hisSgrK0tXX321HA6HJk+e7P3206lTp/TUU0/J6XSqa9eumjdvniwWS7ODltVqVffu3eXn56czZ87I399fhw8f1qFDh7xjiYqK0pNPPimbzSar1arY2Nhm1QbwJ36HB0CzVFRU6NChQyotLdXp06dVVFSkiooKVVVVqaysTIWFhRo2bJhuuOEGde/eXTabTYsXL1bPnj31448/asiQIYqLi9PIkSO9NTdt2qSdO3dq165d6tu3r0aNGqUePXr49Dt9+nRvGFuyZIkkqaSkRNOmTdNtt92mI0eO6N5771V6erpmz57t3e79999Xfn6+nE6nKisrJUlFRUXavXu3NmzYoBEjRuiuu+7S2rVrdeLECfXp00djxozRwIEDz7v/q1at0tatW3XkyBFdf/31SkxM1F133aW3335bBQUFKi4uls1mu+A5RrGxsfrpp5904sQJPfDAA+rQoYMkqbCwUDExMRo6dKi2bt2q6667TnPnzlWvXr0uqB+greIKD4Bm8fPz0/Tp0xUYGKigoCDv+hkzZigwMFADBw5UQkKCli5dKkm6/fbb1atXL/n5+Sk2NlbJyclav369T820tDQFBQWpd+/e6t27t7Zt29assVx11VUaMmSIAgMDFRERoSeffLJB7SlTpsjlcvmM9cUXX5TValV8fLxsNpuSk5PVoUMHRUdHa8CAAfruu+8a7fPZZ5+Vw+FQly5dNGjQIBUXF0uSli5dqscff1ydO3dWWFiYnn322Wbtw7m+//57HTlyRLm5uT5Xl/bv368PPvhAU6ZMUXl5uRISEnT33Xervr7+gvoB2ioCD4BmiYiIkNVq9VkXFhYmm83mXXa73SovL5d09mrKoEGDFBERodDQUGVlZamqqspn+8jISO/f7dq1U21tbbPGUllZqbFjxyo6OlohISFKSUlpUNvlcjXYrmPHjt6/g4KCGiw31X9jYy0vL/fp63z9NpfValVycrJefvllb/gLCgpS//79NXToUAUEBOjpp5/WwYMHtWPHjgvuB2iLCDwAJJ09idfV1XmXKyoqfNrP98Daw4cP69ixY97lX375RVFRUZKk++67TyNGjNC+fftUU1Oj1NTUVvvV3+eee04Wi0U//PCDjhw5oiVLljSo/W89YLdTp07av3+/d3nfvn3/uOaJEye0Z88eSWdvdfGwYOCfI/AAkCTFxcUpNzdXp06d0po1axrcImpMWlqa6uvrtXHjRq1atco7h+Xo0aNq3769rFartmzZotzc3FYb69GjR2W32xUaGqqysjK9+uqrrVa7pZKSkjRnzhyVlZWpurpamZmZLdq+sLBQmzZtUn19vY4fP67MzExVVlbqpptukiSlpKSosLBQa9eu1alTpzR79mw5nc4Gc50ANI3AA0CSNGfOHOXl5cnhcCgnJ8dncnFjIiMjFRYWpqioKHk8HmVlZenaa6+VJM2fP18vvfSSgoODlZGRoaSkpFYba1pamr799luFhoYqISFBo0aNarXaLfXggw8qPj5esbGx6tOnj4YNG6YrrrhC/v7+zdr+999/1+TJkxUeHq7o6GitXr1a+fn53itl3bt315IlS5SamqqwsDCtXLlSn3zyiQICAi7mbgHG4eGhQBvEQyUvnoKCAqWmpjb6NHqr1arAwEBNmTJFM2bM+Mf9DRkyRIWFherbt6/WrVvn08b7DPyJwAO0QZwIW8/x48f1+eefKz4+XpWVlbr33nt18803+3xF/lLhfQb+ROAB2iBOhK2nrq5OAwcO1E8//aSgoCAlJCRozpw5CgkJudRD430G/oLAA7RBnAjbBt5n4E9MWgYAAMYj8AAAAOMReAAAgPF4eCjQBrndbn69tw1wu92XegjAfwaTlgEAgPG4pQUAAIxH4AEAAMYj8AAAAOMReAAAgPEIPAAAwHgEHgAAYDwCDwAAMB6BBwAAGI/AAwAAjEfgAQAAxiPwAAAA4xF4AACA8Qg8AADAeAQeAABgPAIPAAAwHoEHAAAYj8ADAACMR+ABAADGI/AAAADjEXgAAIDxCDwAAMB4BB4AAGA8Ag8AADAegQcAABiPwAMAAIxH4AEAAMYj8AAAAOMReAAAgPEIPAAAwHgEHgAAYDwCDwAAMB6BBwAAGI/AAwAAjEfgAQAAxiPwAAAA4xF4AACA8Qg8AADAeAQeAABgPAIPAAAwHoEHAAAYj8ADAACMR+ABAADGI/AAAADjEXgAAIDxCDwAAMB4BB4AAGA8Ag8AADAegQcAABiPwAMAAIxH4AEAAMYj8AAAAOMReAAAgPEIPAAAwHgEHgAAYDwCDwAAMB6BBwAAGI/AAwAAjEfgAQAAxiPwAAAA4xF4AACA8Qg8AADAeAQeAABgPAIPAAAwHoEHAAAYj8ADAACMR+ABAADGI/AAAADjEXgAAIDxCDwAAMB4BB4AAGA8Ag8AADAegQcAABiPwAMAAIxH4AEAAMYj8AAAAOMReAAAgPH+D2xO7x8QTqtrAAAAAElFTkSuQmCC\n",
          "text/plain": "<Figure size 720x720 with 1 Axes>"
         },
         "metadata": {},
         "output_type": "display_data"
        }
       ]
      }
     },
     "408c75ef39f84534aa0e7c85b4246444": {
      "model_module": "@jupyter-widgets/controls",
      "model_module_version": "1.5.0",
      "model_name": "DescriptionStyleModel",
      "state": {
       "description_width": ""
      }
     },
     "41b6299fa15f430bb818922169a1505a": {
      "model_module": "@jupyter-widgets/controls",
      "model_module_version": "1.5.0",
      "model_name": "HTMLModel",
      "state": {
       "layout": "IPY_MODEL_86fd9a434b3c4ac0b6223e1ec02b6971",
       "style": "IPY_MODEL_8969a6730e4346a6b7d2428ac0b231f2",
       "value": "<h3>Matrix exceeds the maximum shape</h3>"
      }
     },
     "429f8d4fbc5e4b4f88bf5336d4cfcc2b": {
      "model_module": "@jupyter-widgets/base",
      "model_module_version": "1.2.0",
      "model_name": "LayoutModel",
      "state": {}
     },
     "44d0222c9d684e53a094e0d5a31e6698": {
      "model_module": "@jupyter-widgets/base",
      "model_module_version": "1.2.0",
      "model_name": "LayoutModel",
      "state": {}
     },
     "48313d3cb21749309069e6e50baac525": {
      "model_module": "@jupyter-widgets/controls",
      "model_module_version": "1.5.0",
      "model_name": "LabelModel",
      "state": {
       "layout": "IPY_MODEL_089aa02580ec49f9be2bd2304b981129",
       "style": "IPY_MODEL_408c75ef39f84534aa0e7c85b4246444",
       "value": "Map layout:"
      }
     },
     "49ad0d572da14b119dc905c64000ca23": {
      "model_module": "@jupyter-widgets/controls",
      "model_module_version": "1.5.0",
      "model_name": "DropdownModel",
      "state": {
       "_options_labels": [
        "Matrix",
        "Correlation map",
        "Chord diagram"
       ],
       "index": 1,
       "layout": "IPY_MODEL_95a1e3adeb96413387509dcdbd2c46c1",
       "style": "IPY_MODEL_38b83385f55240b88b78981b7ac76a1f"
      }
     },
     "4b8cb6dbb43c4e14bbae94e028a6dde7": {
      "model_module": "@jupyter-widgets/controls",
      "model_module_version": "1.5.0",
      "model_name": "VBoxModel",
      "state": {
       "children": [
        "IPY_MODEL_88ae4c56a06c48278ec23621682cfbd3",
        "IPY_MODEL_733df602cbbe4d9088260771acdbb757"
       ],
       "layout": "IPY_MODEL_94af8152da93447abd0f8233aa2edf16"
      }
     },
     "4db628c74696480da3b290b6f78a35d6": {
      "model_module": "@jupyter-widgets/controls",
      "model_module_version": "1.5.0",
      "model_name": "DropdownModel",
      "state": {
       "_options_labels": [
        "Greys",
        "Purples",
        "Blues",
        "Greens",
        "Oranges",
        "Reds",
        "YlOrBr",
        "YlOrRd",
        "OrRd",
        "PuRd",
        "RdPu",
        "BuPu",
        "GnBu",
        "PuBu",
        "YlGnBu",
        "PuBuGn",
        "BuGn",
        "YlGn",
        "Pastel1",
        "Pastel2",
        "Paired",
        "Accent",
        "Dark2",
        "Set1",
        "Set2",
        "Set3",
        "tab10",
        "tab20",
        "tab20b",
        "tab20c"
       ],
       "index": 0,
       "layout": "IPY_MODEL_d871ecf81d7443749a57ccfb30dde7fe",
       "style": "IPY_MODEL_cd03114fb4354a6887db714062c29597"
      }
     },
     "55041a43a9bd4a889afec83400b57352": {
      "model_module": "@jupyter-widgets/controls",
      "model_module_version": "1.5.0",
      "model_name": "DescriptionStyleModel",
      "state": {
       "description_width": ""
      }
     },
     "559b725069c04125ac7a445af6af01e5": {
      "model_module": "@jupyter-widgets/controls",
      "model_module_version": "1.5.0",
      "model_name": "VBoxModel",
      "state": {
       "children": [
        "IPY_MODEL_ec1b6a1f5f6a41aa8de7a7d1b9ac1417",
        "IPY_MODEL_5b8e74068a9748198600a9a258b21c0e"
       ],
       "layout": "IPY_MODEL_185bb4e3101642479f7552421731cae4"
      }
     },
     "565d1d81f1ef4737a5c3bed5c7f3763d": {
      "model_module": "@jupyter-widgets/controls",
      "model_module_version": "1.5.0",
      "model_name": "VBoxModel",
      "state": {
       "children": [
        "IPY_MODEL_0f7919e578bd4b1791f2b5b09b1e0f54",
        "IPY_MODEL_83725da6012f48948e5e94b0711d158c"
       ],
       "layout": "IPY_MODEL_44d0222c9d684e53a094e0d5a31e6698"
      }
     },
     "572757e9bb384732b36dc759f5ab73ba": {
      "model_module": "@jupyter-widgets/base",
      "model_module_version": "1.2.0",
      "model_name": "LayoutModel",
      "state": {}
     },
     "592e32b91c104a898c2fc910a26d3b7f": {
      "model_module": "@jupyter-widgets/controls",
      "model_module_version": "1.5.0",
      "model_name": "DescriptionStyleModel",
      "state": {
       "description_width": ""
      }
     },
     "5b8e74068a9748198600a9a258b21c0e": {
      "model_module": "@jupyter-widgets/controls",
      "model_module_version": "1.5.0",
      "model_name": "DropdownModel",
      "state": {
       "_options_labels": [
        "Author Keywords",
        "Authors",
        "Countries",
        "Country 1st",
        "Index Keywords",
        "Institution 1st",
        "Institutions",
        "Keywords",
        "Source title"
       ],
       "index": 0,
       "layout": "IPY_MODEL_ecc997ea62b444959ca3b20d44d475c1",
       "style": "IPY_MODEL_5db44203b4d5419996adac44f9512b7f"
      }
     },
     "5c579aa2afc34c87b7f60033cbb3f507": {
      "model_module": "@jupyter-widgets/controls",
      "model_module_version": "1.5.0",
      "model_name": "DescriptionStyleModel",
      "state": {
       "description_width": ""
      }
     },
     "5db44203b4d5419996adac44f9512b7f": {
      "model_module": "@jupyter-widgets/controls",
      "model_module_version": "1.5.0",
      "model_name": "DescriptionStyleModel",
      "state": {
       "description_width": ""
      }
     },
     "5e6c18492a0a4be29cbccc6127a524a0": {
      "model_module": "@jupyter-widgets/base",
      "model_module_version": "1.2.0",
      "model_name": "LayoutModel",
      "state": {
       "width": "200px"
      }
     },
     "5e7512bb491e4b218d422e741c010869": {
      "model_module": "@jupyter-widgets/base",
      "model_module_version": "1.2.0",
      "model_name": "LayoutModel",
      "state": {}
     },
     "6157495a092d4992ad079dfc840988cc": {
      "model_module": "@jupyter-widgets/controls",
      "model_module_version": "1.5.0",
      "model_name": "LabelModel",
      "state": {
       "layout": "IPY_MODEL_7e8b170494d54a38802045fe7f0caa7e",
       "style": "IPY_MODEL_b7be3525aa8744219beddfe0fa4cd3d4",
       "value": "View:"
      }
     },
     "64a1882df6bd46bab49631f8ec744e27": {
      "model_module": "@jupyter-widgets/controls",
      "model_module_version": "1.5.0",
      "model_name": "HBoxModel",
      "state": {
       "children": [
        "IPY_MODEL_73dbad43ee57490c9fe67f39df50b72d",
        "IPY_MODEL_35ec0949860941c0bbb09e7b6c013b2a"
       ],
       "layout": "IPY_MODEL_178542a632c64189a1631ece887562c7"
      }
     },
     "6c980f9f77804ada86b42649c00f6570": {
      "model_module": "@jupyter-widgets/controls",
      "model_module_version": "1.5.0",
      "model_name": "DescriptionStyleModel",
      "state": {
       "description_width": ""
      }
     },
     "6d9a115a64fd43d99ecb9f08c7fbbfb0": {
      "model_module": "@jupyter-widgets/base",
      "model_module_version": "1.2.0",
      "model_name": "LayoutModel",
      "state": {}
     },
     "6de7edc4e89c4c9fb64128e393113b6d": {
      "model_module": "@jupyter-widgets/controls",
      "model_module_version": "1.5.0",
      "model_name": "LabelModel",
      "state": {
       "layout": "IPY_MODEL_572757e9bb384732b36dc759f5ab73ba",
       "style": "IPY_MODEL_9293702d8ffe490083acb63313a97001",
       "value": "Filter by:"
      }
     },
     "702b039d74004af79a2f3cbd007adb2e": {
      "model_module": "@jupyter-widgets/controls",
      "model_module_version": "1.5.0",
      "model_name": "VBoxModel",
      "state": {
       "children": [
        "IPY_MODEL_6157495a092d4992ad079dfc840988cc",
        "IPY_MODEL_49ad0d572da14b119dc905c64000ca23"
       ],
       "layout": "IPY_MODEL_9182d956b1434bd6b0ebe64f264da4a2"
      }
     },
     "732a341fcbda40dda653fd0cb8d825cc": {
      "model_module": "@jupyter-widgets/output",
      "model_module_version": "1.0.0",
      "model_name": "OutputModel",
      "state": {
       "layout": "IPY_MODEL_a1c69c5de9d642bba78338d46bb148cb",
       "outputs": [
        {
         "data": {
          "application/vnd.jupyter.widget-view+json": {
           "model_id": "",
           "version_major": 2,
           "version_minor": 0
          },
          "text/plain": "HTML(value='<h3>Matrix exceeds the maximum shape</h3>')"
         },
         "metadata": {},
         "output_type": "display_data"
        }
       ]
      }
     },
     "733df602cbbe4d9088260771acdbb757": {
      "model_module": "@jupyter-widgets/controls",
      "model_module_version": "1.5.0",
      "model_name": "DropdownModel",
      "state": {
       "_options_labels": [
        "1 [2135]",
        "2 [311]",
        "3 [122]",
        "4 [70]",
        "5 [51]",
        "6 [34]",
        "7 [23]",
        "8 [20]",
        "9 [13]",
        "12 [12]",
        "13 [10]",
        "15 [9]",
        "17 [8]",
        "22 [7]",
        "25 [6]",
        "28 [5]",
        "36 [4]",
        "58 [3]",
        "87 [2]",
        "95 [1]"
       ],
       "index": 11,
       "layout": "IPY_MODEL_9b89a79ad65441efbc83fea4f3accb2c",
       "style": "IPY_MODEL_bd523366105d4a00b525c907ee1a976d"
      }
     },
     "73dbad43ee57490c9fe67f39df50b72d": {
      "model_module": "@jupyter-widgets/controls",
      "model_module_version": "1.5.0",
      "model_name": "VBoxModel",
      "state": {
       "children": [
        "IPY_MODEL_559b725069c04125ac7a445af6af01e5",
        "IPY_MODEL_565d1d81f1ef4737a5c3bed5c7f3763d",
        "IPY_MODEL_02ef7e5bf2284f6997ef3fc64c9c9859",
        "IPY_MODEL_761535229f434a62ae5548de85cbaa52",
        "IPY_MODEL_4b8cb6dbb43c4e14bbae94e028a6dde7",
        "IPY_MODEL_9fc81061ae884e80851ce7fb4da2baa3",
        "IPY_MODEL_702b039d74004af79a2f3cbd007adb2e",
        "IPY_MODEL_ff119355ed7b4eb395c1a2b0216f9e7d",
        "IPY_MODEL_b59ee4d7473c40a38251d5cb2e4f2c64",
        "IPY_MODEL_32d951cf8d654db7b013f9c2849838c5"
       ],
       "layout": "IPY_MODEL_0e968eca9c1f4faa8e807470f9c2a8c6"
      }
     },
     "74d2391adb2c4bbf954b1af6c5352cd4": {
      "model_module": "@jupyter-widgets/base",
      "model_module_version": "1.2.0",
      "model_name": "LayoutModel",
      "state": {
       "width": "200px"
      }
     },
     "75b0f4b79dc244ac82af54a9b13a070b": {
      "model_module": "@jupyter-widgets/controls",
      "model_module_version": "1.5.0",
      "model_name": "DescriptionStyleModel",
      "state": {
       "description_width": ""
      }
     },
     "761535229f434a62ae5548de85cbaa52": {
      "model_module": "@jupyter-widgets/controls",
      "model_module_version": "1.5.0",
      "model_name": "VBoxModel",
      "state": {
       "children": [
        "IPY_MODEL_6de7edc4e89c4c9fb64128e393113b6d",
        "IPY_MODEL_dc6025c72aa241e39ea8916d1abffd20"
       ],
       "layout": "IPY_MODEL_a078966969394dd5bea4366dbebe02e5"
      }
     },
     "78493bbbe4e04346b01ae8458d0e30a9": {
      "model_module": "@jupyter-widgets/base",
      "model_module_version": "1.2.0",
      "model_name": "LayoutModel",
      "state": {}
     },
     "7e01aeb11116404cb8a46751b7a5587e": {
      "model_module": "@jupyter-widgets/controls",
      "model_module_version": "1.5.0",
      "model_name": "HTMLModel",
      "state": {
       "layout": "IPY_MODEL_e405accb8e214b3883b0cbc2d695e37e",
       "style": "IPY_MODEL_0eed99db999e4f83980bae844513b1f6",
       "value": "<h1>Correlation Analysis</h1><hr style='height:2px;border-width:0;color:gray;background-color:gray'>"
      }
     },
     "7e8b170494d54a38802045fe7f0caa7e": {
      "model_module": "@jupyter-widgets/base",
      "model_module_version": "1.2.0",
      "model_name": "LayoutModel",
      "state": {}
     },
     "800ecf3ad8df4d0988efabf53631f3ab": {
      "model_module": "@jupyter-widgets/base",
      "model_module_version": "1.2.0",
      "model_name": "LayoutModel",
      "state": {}
     },
     "828a2188fd79435a8fa515d191be83a7": {
      "model_module": "@jupyter-widgets/base",
      "model_module_version": "1.2.0",
      "model_name": "LayoutModel",
      "state": {}
     },
     "83725da6012f48948e5e94b0711d158c": {
      "model_module": "@jupyter-widgets/controls",
      "model_module_version": "1.5.0",
      "model_name": "DropdownModel",
      "state": {
       "_options_labels": [
        "Author Keywords",
        "Authors",
        "Countries",
        "Country 1st",
        "Index Keywords",
        "Institution 1st",
        "Institutions",
        "Keywords",
        "Source title"
       ],
       "index": 0,
       "layout": "IPY_MODEL_8ee36667ccde4832ad595a71f43c3182",
       "style": "IPY_MODEL_bde1c238d12c4dbdafa2da4dc711f8e7"
      }
     },
     "85f9baa155fa4bc6a61f44511f46f8b6": {
      "model_module": "@jupyter-widgets/controls",
      "model_module_version": "1.5.0",
      "model_name": "DropdownModel",
      "state": {
       "_options_labels": [
        "Circular",
        "Kamada Kawai",
        "Planar",
        "Random",
        "Spectral",
        "Spring",
        "Shell"
       ],
       "index": 0,
       "layout": "IPY_MODEL_935925fb5cc44bfca97d1e5fae14b795",
       "style": "IPY_MODEL_3ae87baba9954c87b905cde6f2cf2530"
      }
     },
     "86fd9a434b3c4ac0b6223e1ec02b6971": {
      "model_module": "@jupyter-widgets/base",
      "model_module_version": "1.2.0",
      "model_name": "LayoutModel",
      "state": {}
     },
     "88ae4c56a06c48278ec23621682cfbd3": {
      "model_module": "@jupyter-widgets/controls",
      "model_module_version": "1.5.0",
      "model_name": "LabelModel",
      "state": {
       "layout": "IPY_MODEL_5e7512bb491e4b218d422e741c010869",
       "style": "IPY_MODEL_5c579aa2afc34c87b7f60033cbb3f507",
       "value": "Filter value:"
      }
     },
     "8969a6730e4346a6b7d2428ac0b231f2": {
      "model_module": "@jupyter-widgets/controls",
      "model_module_version": "1.5.0",
      "model_name": "DescriptionStyleModel",
      "state": {
       "description_width": ""
      }
     },
     "8c0860464bb2481586f6dfd90ebf890e": {
      "model_module": "@jupyter-widgets/controls",
      "model_module_version": "1.5.0",
      "model_name": "DescriptionStyleModel",
      "state": {
       "description_width": ""
      }
     },
     "8da8d715f4bf4d0bb182be269bc773b9": {
      "model_module": "@jupyter-widgets/controls",
      "model_module_version": "1.5.0",
      "model_name": "LabelModel",
      "state": {
       "layout": "IPY_MODEL_2ca7487e4cdd41a6a6de4f2b9891486a",
       "style": "IPY_MODEL_1debd5e6e41d434fa42e383c50cf014f",
       "value": "Method:"
      }
     },
     "8ee36667ccde4832ad595a71f43c3182": {
      "model_module": "@jupyter-widgets/base",
      "model_module_version": "1.2.0",
      "model_name": "LayoutModel",
      "state": {
       "width": "200px"
      }
     },
     "9182d956b1434bd6b0ebe64f264da4a2": {
      "model_module": "@jupyter-widgets/base",
      "model_module_version": "1.2.0",
      "model_name": "LayoutModel",
      "state": {}
     },
     "9288479f18b84f349c368f28c7330a5c": {
      "model_module": "@jupyter-widgets/base",
      "model_module_version": "1.2.0",
      "model_name": "LayoutModel",
      "state": {
       "align_items": "center",
       "width": "870px"
      }
     },
     "9293702d8ffe490083acb63313a97001": {
      "model_module": "@jupyter-widgets/controls",
      "model_module_version": "1.5.0",
      "model_name": "DescriptionStyleModel",
      "state": {
       "description_width": ""
      }
     },
     "935925fb5cc44bfca97d1e5fae14b795": {
      "model_module": "@jupyter-widgets/base",
      "model_module_version": "1.2.0",
      "model_name": "LayoutModel",
      "state": {
       "width": "200px"
      }
     },
     "94af8152da93447abd0f8233aa2edf16": {
      "model_module": "@jupyter-widgets/base",
      "model_module_version": "1.2.0",
      "model_name": "LayoutModel",
      "state": {}
     },
     "95a1e3adeb96413387509dcdbd2c46c1": {
      "model_module": "@jupyter-widgets/base",
      "model_module_version": "1.2.0",
      "model_name": "LayoutModel",
      "state": {
       "width": "200px"
      }
     },
     "9b51f1c7abcd4244ae642d9dde50486e": {
      "model_module": "@jupyter-widgets/base",
      "model_module_version": "1.2.0",
      "model_name": "LayoutModel",
      "state": {}
     },
     "9b89a79ad65441efbc83fea4f3accb2c": {
      "model_module": "@jupyter-widgets/base",
      "model_module_version": "1.2.0",
      "model_name": "LayoutModel",
      "state": {
       "width": "200px"
      }
     },
     "9f4582e58625476e84ea4717ab374436": {
      "model_module": "@jupyter-widgets/base",
      "model_module_version": "1.2.0",
      "model_name": "LayoutModel",
      "state": {
       "width": "200px"
      }
     },
     "9fc81061ae884e80851ce7fb4da2baa3": {
      "model_module": "@jupyter-widgets/controls",
      "model_module_version": "1.5.0",
      "model_name": "VBoxModel",
      "state": {
       "children": [
        "IPY_MODEL_37e3e8fe1a824bdb88963ed0fab77316",
        "IPY_MODEL_b704dd2b0235445094b21bf7ec7f9be7"
       ],
       "layout": "IPY_MODEL_429f8d4fbc5e4b4f88bf5336d4cfcc2b"
      }
     },
     "a078966969394dd5bea4366dbebe02e5": {
      "model_module": "@jupyter-widgets/base",
      "model_module_version": "1.2.0",
      "model_name": "LayoutModel",
      "state": {}
     },
     "a1c69c5de9d642bba78338d46bb148cb": {
      "model_module": "@jupyter-widgets/base",
      "model_module_version": "1.2.0",
      "model_name": "LayoutModel",
      "state": {}
     },
     "b59ee4d7473c40a38251d5cb2e4f2c64": {
      "model_module": "@jupyter-widgets/controls",
      "model_module_version": "1.5.0",
      "model_name": "VBoxModel",
      "state": {
       "children": [
        "IPY_MODEL_0c38ce2484e447c1bdcd2338a3194292",
        "IPY_MODEL_fc52c0c13ecb43218f6f57127eb05830"
       ],
       "layout": "IPY_MODEL_6d9a115a64fd43d99ecb9f08c7fbbfb0"
      }
     },
     "b6ac5f831e1b41769d9dbce3f443b9f9": {
      "model_module": "@jupyter-widgets/controls",
      "model_module_version": "1.5.0",
      "model_name": "DescriptionStyleModel",
      "state": {
       "description_width": ""
      }
     },
     "b704dd2b0235445094b21bf7ec7f9be7": {
      "model_module": "@jupyter-widgets/controls",
      "model_module_version": "1.5.0",
      "model_name": "DropdownModel",
      "state": {
       "_options_labels": [
        "-1.00",
        "-0.25",
        "0.00",
        "0.125",
        "0.250",
        "0.375",
        "0.500",
        "0.625",
        "0.750",
        "0.875"
       ],
       "index": 5,
       "layout": "IPY_MODEL_cfd256e69bf8495abeca82c57b927949",
       "style": "IPY_MODEL_55041a43a9bd4a889afec83400b57352"
      }
     },
     "b7be3525aa8744219beddfe0fa4cd3d4": {
      "model_module": "@jupyter-widgets/controls",
      "model_module_version": "1.5.0",
      "model_name": "DescriptionStyleModel",
      "state": {
       "description_width": ""
      }
     },
     "bcfdf5fad99a4640b90dbb7d72d89cf3": {
      "model_module": "@jupyter-widgets/base",
      "model_module_version": "1.2.0",
      "model_name": "LayoutModel",
      "state": {}
     },
     "bd523366105d4a00b525c907ee1a976d": {
      "model_module": "@jupyter-widgets/controls",
      "model_module_version": "1.5.0",
      "model_name": "DescriptionStyleModel",
      "state": {
       "description_width": ""
      }
     },
     "bde1c238d12c4dbdafa2da4dc711f8e7": {
      "model_module": "@jupyter-widgets/controls",
      "model_module_version": "1.5.0",
      "model_name": "DescriptionStyleModel",
      "state": {
       "description_width": ""
      }
     },
     "c200f40e10074710bd46b0f64a445238": {
      "model_module": "@jupyter-widgets/controls",
      "model_module_version": "1.5.0",
      "model_name": "DescriptionStyleModel",
      "state": {
       "description_width": ""
      }
     },
     "cab83bfe362f4542a3100b515fb01572": {
      "model_module": "@jupyter-widgets/base",
      "model_module_version": "1.2.0",
      "model_name": "LayoutModel",
      "state": {}
     },
     "cd03114fb4354a6887db714062c29597": {
      "model_module": "@jupyter-widgets/controls",
      "model_module_version": "1.5.0",
      "model_name": "DescriptionStyleModel",
      "state": {
       "description_width": ""
      }
     },
     "cf336df5a1514df988d3018164f7fa26": {
      "model_module": "@jupyter-widgets/base",
      "model_module_version": "1.2.0",
      "model_name": "LayoutModel",
      "state": {}
     },
     "cfd256e69bf8495abeca82c57b927949": {
      "model_module": "@jupyter-widgets/base",
      "model_module_version": "1.2.0",
      "model_name": "LayoutModel",
      "state": {
       "width": "200px"
      }
     },
     "d2db99dbee5e47d891d02cd9ff3105b3": {
      "model_module": "@jupyter-widgets/controls",
      "model_module_version": "1.5.0",
      "model_name": "TabModel",
      "state": {
       "_titles": {
        "0": "Matrix"
       },
       "children": [
        "IPY_MODEL_64a1882df6bd46bab49631f8ec744e27"
       ],
       "layout": "IPY_MODEL_ee856649c9644cc28d2c3224733f5650"
      }
     },
     "d66743a0514c46c2a938d247874e06c8": {
      "model_module": "@jupyter-widgets/base",
      "model_module_version": "1.2.0",
      "model_name": "LayoutModel",
      "state": {}
     },
     "d871ecf81d7443749a57ccfb30dde7fe": {
      "model_module": "@jupyter-widgets/base",
      "model_module_version": "1.2.0",
      "model_name": "LayoutModel",
      "state": {
       "width": "200px"
      }
     },
     "dc2370c2f9f94d239daaa2234484dc68": {
      "model_module": "@jupyter-widgets/base",
      "model_module_version": "1.2.0",
      "model_name": "LayoutModel",
      "state": {}
     },
     "dc6025c72aa241e39ea8916d1abffd20": {
      "model_module": "@jupyter-widgets/controls",
      "model_module_version": "1.5.0",
      "model_name": "DropdownModel",
      "state": {
       "_options_labels": [
        "Frequency",
        "Cited by"
       ],
       "index": 0,
       "layout": "IPY_MODEL_9f4582e58625476e84ea4717ab374436",
       "style": "IPY_MODEL_6c980f9f77804ada86b42649c00f6570"
      }
     },
     "e405accb8e214b3883b0cbc2d695e37e": {
      "model_module": "@jupyter-widgets/base",
      "model_module_version": "1.2.0",
      "model_name": "LayoutModel",
      "state": {
       "grid_area": "header"
      }
     },
     "e5eb55e4831c43dba09e5d0e756d2a3c": {
      "model_module": "@jupyter-widgets/controls",
      "model_module_version": "1.5.0",
      "model_name": "DropdownModel",
      "state": {
       "_options_labels": [
        "pearson",
        "kendall",
        "spearman"
       ],
       "index": 0,
       "layout": "IPY_MODEL_74d2391adb2c4bbf954b1af6c5352cd4",
       "style": "IPY_MODEL_c200f40e10074710bd46b0f64a445238"
      }
     },
     "e73e6b9bf66d4af5aee5e3453099601d": {
      "model_module": "@jupyter-widgets/controls",
      "model_module_version": "1.5.0",
      "model_name": "LabelModel",
      "state": {
       "layout": "IPY_MODEL_cab83bfe362f4542a3100b515fb01572",
       "style": "IPY_MODEL_75b0f4b79dc244ac82af54a9b13a070b",
       "value": "Matrix colormap:"
      }
     },
     "e860f7950c9e4d93ad3a505499dc9ead": {
      "model_module": "@jupyter-widgets/controls",
      "model_module_version": "1.5.0",
      "model_name": "GridBoxModel",
      "state": {
       "children": [
        "IPY_MODEL_7e01aeb11116404cb8a46751b7a5587e",
        "IPY_MODEL_d2db99dbee5e47d891d02cd9ff3105b3"
       ],
       "layout": "IPY_MODEL_044e671250c44dca807c085c48dea59e"
      }
     },
     "ebe3dfc495174ac9acc0bf5cb9310f45": {
      "model_module": "@jupyter-widgets/controls",
      "model_module_version": "1.5.0",
      "model_name": "DescriptionStyleModel",
      "state": {
       "description_width": ""
      }
     },
     "ec1b6a1f5f6a41aa8de7a7d1b9ac1417": {
      "model_module": "@jupyter-widgets/controls",
      "model_module_version": "1.5.0",
      "model_name": "LabelModel",
      "state": {
       "layout": "IPY_MODEL_bcfdf5fad99a4640b90dbb7d72d89cf3",
       "style": "IPY_MODEL_ebe3dfc495174ac9acc0bf5cb9310f45",
       "value": "Term to analyze:"
      }
     },
     "ecc997ea62b444959ca3b20d44d475c1": {
      "model_module": "@jupyter-widgets/base",
      "model_module_version": "1.2.0",
      "model_name": "LayoutModel",
      "state": {
       "width": "200px"
      }
     },
     "ee1936f49d764b59bfe8fcfb7a2cc9f5": {
      "model_module": "@jupyter-widgets/controls",
      "model_module_version": "1.5.0",
      "model_name": "DescriptionStyleModel",
      "state": {
       "description_width": ""
      }
     },
     "ee2da9312f23443ea62b3615638dfbcc": {
      "model_module": "@jupyter-widgets/controls",
      "model_module_version": "1.5.0",
      "model_name": "DescriptionStyleModel",
      "state": {
       "description_width": ""
      }
     },
     "ee856649c9644cc28d2c3224733f5650": {
      "model_module": "@jupyter-widgets/base",
      "model_module_version": "1.2.0",
      "model_name": "LayoutModel",
      "state": {
       "grid_area": "center"
      }
     },
     "f563c94614e547b98f594e35c4e567aa": {
      "model_module": "@jupyter-widgets/base",
      "model_module_version": "1.2.0",
      "model_name": "LayoutModel",
      "state": {}
     },
     "fc52c0c13ecb43218f6f57127eb05830": {
      "model_module": "@jupyter-widgets/controls",
      "model_module_version": "1.5.0",
      "model_name": "DropdownModel",
      "state": {
       "_options_labels": [
        "Alphabetic asc.",
        "Alphabetic desc.",
        "Frequency/Cited by asc.",
        "Frequency/Cited by desc."
       ],
       "index": 0,
       "layout": "IPY_MODEL_5e6c18492a0a4be29cbccc6127a524a0",
       "style": "IPY_MODEL_8c0860464bb2481586f6dfd90ebf890e"
      }
     },
     "ff119355ed7b4eb395c1a2b0216f9e7d": {
      "model_module": "@jupyter-widgets/controls",
      "model_module_version": "1.5.0",
      "model_name": "VBoxModel",
      "state": {
       "children": [
        "IPY_MODEL_e73e6b9bf66d4af5aee5e3453099601d",
        "IPY_MODEL_4db628c74696480da3b290b6f78a35d6"
       ],
       "layout": "IPY_MODEL_dc2370c2f9f94d239daaa2234484dc68"
      }
     }
    },
    "version_major": 2,
    "version_minor": 0
   }
  }
 },
 "nbformat": 4,
 "nbformat_minor": 4
}
