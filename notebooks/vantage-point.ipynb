{
 "cells": [
  {
   "cell_type": "code",
   "execution_count": 1,
   "metadata": {},
   "outputs": [
    {
     "name": "stderr",
     "output_type": "stream",
     "text": [
      "2020-06-04 02:19:37,903 - INFO - Renaming and selecting columns ...\n",
      "2020-06-04 02:19:43,935 - INFO - Formatting author names ...\n",
      "2020-06-04 02:19:43,940 - INFO - Disambiguating author names ...\n",
      "2020-06-04 02:19:44,013 - INFO - Removing part of titles in foreing languages ...\n",
      "2020-06-04 02:19:44,017 - INFO - Fusioning author and index keywords ...\n",
      "2020-06-04 02:19:44,035 - INFO - NumExpr defaulting to 8 threads.\n",
      "2020-06-04 02:19:44,053 - INFO - Extracting countries from affiliations ...\n",
      "2020-06-04 02:19:50,539 - INFO - Extracting institutions from affiliations ...\n",
      "2020-06-04 02:19:50,549 - INFO - Extracting country of 1st author ...\n",
      "2020-06-04 02:19:50,553 - INFO - Extracting affiliation of 1st author ...\n",
      "2020-06-04 02:19:50,556 - INFO - Counting number of authors ...\n"
     ]
    }
   ],
   "source": [
    "import pandas as pd\n",
    "\n",
    "import techminer.data as data\n",
    "\n",
    "filepath = \"../data/papers/urban-agriculture.csv\"\n",
    "df = pd.read_csv(filepath)\n",
    "df = data.load_scopus(df)"
   ]
  },
  {
   "cell_type": "code",
   "execution_count": 2,
   "metadata": {},
   "outputs": [
    {
     "data": {
      "text/html": [
       "<div>\n",
       "<style scoped>\n",
       "    .dataframe tbody tr th:only-of-type {\n",
       "        vertical-align: middle;\n",
       "    }\n",
       "\n",
       "    .dataframe tbody tr th {\n",
       "        vertical-align: top;\n",
       "    }\n",
       "\n",
       "    .dataframe thead th {\n",
       "        text-align: right;\n",
       "    }\n",
       "</style>\n",
       "<table border=\"1\" class=\"dataframe\">\n",
       "  <thead>\n",
       "    <tr style=\"text-align: right;\">\n",
       "      <th></th>\n",
       "      <th>Column</th>\n",
       "      <th>Number of items</th>\n",
       "      <th>Coverage (%)</th>\n",
       "    </tr>\n",
       "  </thead>\n",
       "  <tbody>\n",
       "    <tr>\n",
       "      <th>0</th>\n",
       "      <td>Authors</td>\n",
       "      <td>680</td>\n",
       "      <td>98.84%</td>\n",
       "    </tr>\n",
       "    <tr>\n",
       "      <th>1</th>\n",
       "      <td>Author(s) ID</td>\n",
       "      <td>680</td>\n",
       "      <td>98.84%</td>\n",
       "    </tr>\n",
       "    <tr>\n",
       "      <th>2</th>\n",
       "      <td>Title</td>\n",
       "      <td>688</td>\n",
       "      <td>100.00%</td>\n",
       "    </tr>\n",
       "    <tr>\n",
       "      <th>3</th>\n",
       "      <td>Year</td>\n",
       "      <td>688</td>\n",
       "      <td>100.00%</td>\n",
       "    </tr>\n",
       "    <tr>\n",
       "      <th>4</th>\n",
       "      <td>Source title</td>\n",
       "      <td>688</td>\n",
       "      <td>100.00%</td>\n",
       "    </tr>\n",
       "    <tr>\n",
       "      <th>5</th>\n",
       "      <td>Volume</td>\n",
       "      <td>602</td>\n",
       "      <td>87.50%</td>\n",
       "    </tr>\n",
       "    <tr>\n",
       "      <th>6</th>\n",
       "      <td>Issue</td>\n",
       "      <td>444</td>\n",
       "      <td>64.53%</td>\n",
       "    </tr>\n",
       "    <tr>\n",
       "      <th>7</th>\n",
       "      <td>Art. No.</td>\n",
       "      <td>132</td>\n",
       "      <td>19.19%</td>\n",
       "    </tr>\n",
       "    <tr>\n",
       "      <th>8</th>\n",
       "      <td>Page start</td>\n",
       "      <td>544</td>\n",
       "      <td>79.07%</td>\n",
       "    </tr>\n",
       "    <tr>\n",
       "      <th>9</th>\n",
       "      <td>Page end</td>\n",
       "      <td>542</td>\n",
       "      <td>78.78%</td>\n",
       "    </tr>\n",
       "    <tr>\n",
       "      <th>10</th>\n",
       "      <td>Page count</td>\n",
       "      <td>9</td>\n",
       "      <td>1.31%</td>\n",
       "    </tr>\n",
       "    <tr>\n",
       "      <th>11</th>\n",
       "      <td>Cited by</td>\n",
       "      <td>453</td>\n",
       "      <td>65.84%</td>\n",
       "    </tr>\n",
       "    <tr>\n",
       "      <th>12</th>\n",
       "      <td>DI</td>\n",
       "      <td>574</td>\n",
       "      <td>83.43%</td>\n",
       "    </tr>\n",
       "    <tr>\n",
       "      <th>13</th>\n",
       "      <td>Affiliations</td>\n",
       "      <td>655</td>\n",
       "      <td>95.20%</td>\n",
       "    </tr>\n",
       "    <tr>\n",
       "      <th>14</th>\n",
       "      <td>Authors with affiliations</td>\n",
       "      <td>680</td>\n",
       "      <td>98.84%</td>\n",
       "    </tr>\n",
       "    <tr>\n",
       "      <th>15</th>\n",
       "      <td>Abstract</td>\n",
       "      <td>688</td>\n",
       "      <td>100.00%</td>\n",
       "    </tr>\n",
       "    <tr>\n",
       "      <th>16</th>\n",
       "      <td>Author Keywords</td>\n",
       "      <td>554</td>\n",
       "      <td>80.52%</td>\n",
       "    </tr>\n",
       "    <tr>\n",
       "      <th>17</th>\n",
       "      <td>Index Keywords</td>\n",
       "      <td>390</td>\n",
       "      <td>56.69%</td>\n",
       "    </tr>\n",
       "    <tr>\n",
       "      <th>18</th>\n",
       "      <td>Editors</td>\n",
       "      <td>55</td>\n",
       "      <td>7.99%</td>\n",
       "    </tr>\n",
       "    <tr>\n",
       "      <th>19</th>\n",
       "      <td>Publisher</td>\n",
       "      <td>563</td>\n",
       "      <td>81.83%</td>\n",
       "    </tr>\n",
       "    <tr>\n",
       "      <th>20</th>\n",
       "      <td>ISSN</td>\n",
       "      <td>614</td>\n",
       "      <td>89.24%</td>\n",
       "    </tr>\n",
       "    <tr>\n",
       "      <th>21</th>\n",
       "      <td>ISBN</td>\n",
       "      <td>109</td>\n",
       "      <td>15.84%</td>\n",
       "    </tr>\n",
       "    <tr>\n",
       "      <th>22</th>\n",
       "      <td>PubMed ID</td>\n",
       "      <td>66</td>\n",
       "      <td>9.59%</td>\n",
       "    </tr>\n",
       "    <tr>\n",
       "      <th>23</th>\n",
       "      <td>Language of Original Document</td>\n",
       "      <td>687</td>\n",
       "      <td>99.85%</td>\n",
       "    </tr>\n",
       "    <tr>\n",
       "      <th>24</th>\n",
       "      <td>Abbreviated Source Title</td>\n",
       "      <td>680</td>\n",
       "      <td>98.84%</td>\n",
       "    </tr>\n",
       "    <tr>\n",
       "      <th>25</th>\n",
       "      <td>Access Type</td>\n",
       "      <td>185</td>\n",
       "      <td>26.89%</td>\n",
       "    </tr>\n",
       "    <tr>\n",
       "      <th>26</th>\n",
       "      <td>Source</td>\n",
       "      <td>688</td>\n",
       "      <td>100.00%</td>\n",
       "    </tr>\n",
       "    <tr>\n",
       "      <th>27</th>\n",
       "      <td>EID</td>\n",
       "      <td>688</td>\n",
       "      <td>100.00%</td>\n",
       "    </tr>\n",
       "    <tr>\n",
       "      <th>28</th>\n",
       "      <td>Keywords</td>\n",
       "      <td>629</td>\n",
       "      <td>91.42%</td>\n",
       "    </tr>\n",
       "    <tr>\n",
       "      <th>29</th>\n",
       "      <td>Countries</td>\n",
       "      <td>654</td>\n",
       "      <td>95.06%</td>\n",
       "    </tr>\n",
       "    <tr>\n",
       "      <th>30</th>\n",
       "      <td>Institutions</td>\n",
       "      <td>630</td>\n",
       "      <td>91.57%</td>\n",
       "    </tr>\n",
       "    <tr>\n",
       "      <th>31</th>\n",
       "      <td>Country 1st</td>\n",
       "      <td>654</td>\n",
       "      <td>95.06%</td>\n",
       "    </tr>\n",
       "    <tr>\n",
       "      <th>32</th>\n",
       "      <td>Institution 1st</td>\n",
       "      <td>630</td>\n",
       "      <td>91.57%</td>\n",
       "    </tr>\n",
       "    <tr>\n",
       "      <th>33</th>\n",
       "      <td>Num Authors</td>\n",
       "      <td>688</td>\n",
       "      <td>100.00%</td>\n",
       "    </tr>\n",
       "    <tr>\n",
       "      <th>34</th>\n",
       "      <td>ID</td>\n",
       "      <td>688</td>\n",
       "      <td>100.00%</td>\n",
       "    </tr>\n",
       "  </tbody>\n",
       "</table>\n",
       "</div>"
      ],
      "text/plain": [
       "                           Column  Number of items Coverage (%)\n",
       "0                         Authors              680       98.84%\n",
       "1                    Author(s) ID              680       98.84%\n",
       "2                           Title              688      100.00%\n",
       "3                            Year              688      100.00%\n",
       "4                    Source title              688      100.00%\n",
       "5                          Volume              602       87.50%\n",
       "6                           Issue              444       64.53%\n",
       "7                        Art. No.              132       19.19%\n",
       "8                      Page start              544       79.07%\n",
       "9                        Page end              542       78.78%\n",
       "10                     Page count                9        1.31%\n",
       "11                       Cited by              453       65.84%\n",
       "12                             DI              574       83.43%\n",
       "13                   Affiliations              655       95.20%\n",
       "14      Authors with affiliations              680       98.84%\n",
       "15                       Abstract              688      100.00%\n",
       "16                Author Keywords              554       80.52%\n",
       "17                 Index Keywords              390       56.69%\n",
       "18                        Editors               55        7.99%\n",
       "19                      Publisher              563       81.83%\n",
       "20                           ISSN              614       89.24%\n",
       "21                           ISBN              109       15.84%\n",
       "22                      PubMed ID               66        9.59%\n",
       "23  Language of Original Document              687       99.85%\n",
       "24       Abbreviated Source Title              680       98.84%\n",
       "25                    Access Type              185       26.89%\n",
       "26                         Source              688      100.00%\n",
       "27                            EID              688      100.00%\n",
       "28                       Keywords              629       91.42%\n",
       "29                      Countries              654       95.06%\n",
       "30                   Institutions              630       91.57%\n",
       "31                    Country 1st              654       95.06%\n",
       "32                Institution 1st              630       91.57%\n",
       "33                    Num Authors              688      100.00%\n",
       "34                             ID              688      100.00%"
      ]
     },
     "execution_count": 2,
     "metadata": {},
     "output_type": "execute_result"
    }
   ],
   "source": [
    "data.coverage(df)"
   ]
  },
  {
   "cell_type": "markdown",
   "metadata": {},
   "source": [
    "### My Keywords"
   ]
  },
  {
   "cell_type": "code",
   "execution_count": null,
   "metadata": {},
   "outputs": [],
   "source": []
  },
  {
   "cell_type": "code",
   "execution_count": null,
   "metadata": {},
   "outputs": [],
   "source": []
  },
  {
   "cell_type": "markdown",
   "metadata": {},
   "source": [
    "### FindString Dialog Box pag. 69"
   ]
  },
  {
   "cell_type": "code",
   "execution_count": null,
   "metadata": {},
   "outputs": [],
   "source": []
  },
  {
   "cell_type": "code",
   "execution_count": null,
   "metadata": {},
   "outputs": [],
   "source": []
  },
  {
   "cell_type": "markdown",
   "metadata": {},
   "source": [
    "### Cleaning a list pag. 102"
   ]
  },
  {
   "cell_type": "code",
   "execution_count": null,
   "metadata": {},
   "outputs": [],
   "source": []
  },
  {
   "cell_type": "code",
   "execution_count": null,
   "metadata": {},
   "outputs": [],
   "source": []
  },
  {
   "cell_type": "markdown",
   "metadata": {},
   "source": [
    "### Fuzzy match editor pag.126"
   ]
  },
  {
   "cell_type": "code",
   "execution_count": null,
   "metadata": {},
   "outputs": [],
   "source": []
  },
  {
   "cell_type": "code",
   "execution_count": null,
   "metadata": {},
   "outputs": [],
   "source": []
  },
  {
   "cell_type": "markdown",
   "metadata": {},
   "source": [
    "### Stemming And / Stemming Or"
   ]
  },
  {
   "cell_type": "code",
   "execution_count": null,
   "metadata": {},
   "outputs": [],
   "source": []
  },
  {
   "cell_type": "code",
   "execution_count": null,
   "metadata": {},
   "outputs": [],
   "source": []
  },
  {
   "cell_type": "markdown",
   "metadata": {},
   "source": [
    "### APPS"
   ]
  },
  {
   "cell_type": "code",
   "execution_count": 3,
   "metadata": {},
   "outputs": [
    {
     "data": {
      "application/vnd.jupyter.widget-view+json": {
       "model_id": "7eb0e8970ffb415e9be27454d3fe2018",
       "version_major": 2,
       "version_minor": 0
      },
      "text/plain": [
       "AppLayout(children=(HTML(value=\"<h1>Summary by Year</h1><hr style='height:2px;border-width:0;color:gray;backgr…"
      ]
     },
     "metadata": {},
     "output_type": "display_data"
    }
   ],
   "source": [
    "import techminer.summary_by_year as year\n",
    "year.app(df)"
   ]
  },
  {
   "cell_type": "code",
   "execution_count": null,
   "metadata": {},
   "outputs": [],
   "source": []
  },
  {
   "cell_type": "code",
   "execution_count": null,
   "metadata": {},
   "outputs": [],
   "source": []
  },
  {
   "cell_type": "code",
   "execution_count": null,
   "metadata": {},
   "outputs": [],
   "source": []
  },
  {
   "cell_type": "code",
   "execution_count": null,
   "metadata": {},
   "outputs": [],
   "source": []
  },
  {
   "cell_type": "code",
   "execution_count": null,
   "metadata": {},
   "outputs": [],
   "source": []
  },
  {
   "cell_type": "code",
   "execution_count": null,
   "metadata": {},
   "outputs": [],
   "source": []
  },
  {
   "cell_type": "code",
   "execution_count": null,
   "metadata": {},
   "outputs": [],
   "source": [
    "import ipywidgets as widgets\n",
    "from ipywidgets import Layout, AppLayout"
   ]
  },
  {
   "cell_type": "code",
   "execution_count": null,
   "metadata": {},
   "outputs": [],
   "source": [
    "\n",
    "COLUMNS = [\n",
    "    \"Author Keywords\",\n",
    "    \"Authors\",\n",
    "    \"Countries\",\n",
    "    \"Country 1st\",\n",
    "    \"Document type\",\n",
    "    \"Index Keywords\",\n",
    "    \"Institution 1st\",\n",
    "    \"Institutions\",\n",
    "    \"Keywords\",\n",
    "    \"Source title\",\n",
    "]"
   ]
  },
  {
   "cell_type": "code",
   "execution_count": null,
   "metadata": {},
   "outputs": [],
   "source": [
    "FIGSIZE = (14, 10.0) ## Co-occurrente-analysis  <---- no tiene figura\n",
    "FIGSIZE = (14, 9.0)"
   ]
  },
  {
   "cell_type": "markdown",
   "metadata": {},
   "source": [
    "# NUEVA INTERFAZ"
   ]
  },
  {
   "cell_type": "code",
   "execution_count": null,
   "metadata": {},
   "outputs": [],
   "source": [
    "from techminer.summary_by_term_per_year import documents_by_term_per_year, citations_by_term_per_year"
   ]
  },
  {
   "cell_type": "code",
   "execution_count": null,
   "metadata": {},
   "outputs": [],
   "source": []
  },
  {
   "cell_type": "code",
   "execution_count": null,
   "metadata": {},
   "outputs": [],
   "source": [
    "import techminer.plots as plt\n",
    "from techminer.plots import COLORMAPS\n",
    "from techminer.summary_by_term import citations_by_term, documents_by_term\n",
    "\n",
    "WIDGET_WIDTH = \"200px\"\n",
    "LEFT_PANEL_HEIGHT = \"588px\"\n",
    "RIGHT_PANEL_WIDTH = \"870px\"\n",
    "FIGSIZE = (14, 10.0)\n",
    "PANE_HEIGHTS = [\"80px\", \"650px\", 0]\n",
    "\n",
    "COLUMNS = [\n",
    "    \"Author Keywords\",\n",
    "    \"Authors\",\n",
    "    \"Countries\",\n",
    "    \"Country 1st\",\n",
    "    \"Document type\",\n",
    "    \"Index Keywords\",\n",
    "    \"Institution 1st\",\n",
    "    \"Institutions\",\n",
    "    \"Keywords\",\n",
    "    \"Source title\",\n",
    "]\n",
    "\n"
   ]
  },
  {
   "cell_type": "code",
   "execution_count": null,
   "metadata": {},
   "outputs": [],
   "source": [
    "from techminer.correlation import corr\n",
    "\n",
    "\n",
    "def body_0(x):\n",
    "    #\n",
    "    def server(**kwargs):\n",
    "        #\n",
    "        # Logic\n",
    "        #\n",
    "        column = kwargs[\"term\"]\n",
    "        by = kwargs[\"by\"]\n",
    "        method = kwargs[\"method\"]\n",
    "        min_link_value = kwargs[\"min_link_value\"]\n",
    "        cmap = kwargs[\"cmap\"]\n",
    "        #\n",
    "        matrix = corr(\n",
    "                x,\n",
    "                column=column,\n",
    "                by=by,\n",
    "                method=method,\n",
    "                min_link_value=min_link_value,\n",
    "                cmap=cmap,\n",
    "                as_matrix=True,\n",
    "                filter_by=None,\n",
    "            )\n",
    "        #\n",
    "        output.clear_output()\n",
    "        with output:\n",
    "            if len(matrix.columns) < 51 and len(matrix.index) < 51:\n",
    "                display(matrix.style.background_gradient(cmap=cmap))\n",
    "            else:\n",
    "                display(matrix)\n",
    "                \n",
    "    #\n",
    "    # UI\n",
    "    #\n",
    "    controls = [\n",
    "        {\n",
    "            \"arg\": \"term\",\n",
    "            \"desc\": \"Term to analyze:\",\n",
    "            \"widget\": widgets.Select(\n",
    "                options=[z for z in COLUMNS if z in x.columns],\n",
    "                ensure_option=True,\n",
    "                disabled=False,\n",
    "                layout=Layout(width=WIDGET_WIDTH),\n",
    "            ),\n",
    "        },\n",
    "        {\n",
    "            \"arg\": \"by\",\n",
    "            \"desc\": \"By Term:\",\n",
    "            \"widget\": widgets.Select(\n",
    "                options=[z for z in COLUMNS if z in x.columns],\n",
    "                ensure_option=True,\n",
    "                disabled=False,\n",
    "                layout=Layout(width=WIDGET_WIDTH),\n",
    "            ),\n",
    "        },\n",
    "        {\n",
    "            \"arg\": \"method\",\n",
    "            \"desc\": \"Method:\",\n",
    "            \"widget\": widgets.Select(\n",
    "                options=['pearson', 'kendall', 'spearman'],\n",
    "                ensure_option=True,\n",
    "                disabled=False,\n",
    "                continuous_update=True,\n",
    "                layout=Layout(width=WIDGET_WIDTH),\n",
    "            ),\n",
    "        },\n",
    "        {\n",
    "            \"arg\": \"cmap\",\n",
    "            \"desc\": \"Colormap:\",\n",
    "            \"widget\": widgets.Dropdown(\n",
    "                options=COLORMAPS, disable=False, layout=Layout(width=WIDGET_WIDTH),\n",
    "            ),\n",
    "        },\n",
    "        {\n",
    "            \"arg\": \"min_link_value\",\n",
    "            \"desc\": \"Min link value:\",\n",
    "            \"widget\": widgets.FloatSlider(\n",
    "                value=-1,\n",
    "                min=-1,\n",
    "                max=1.0,\n",
    "                step=0.01,\n",
    "                disabled=False,\n",
    "                continuous_update=True,\n",
    "                orientation='horizontal',\n",
    "                readout=True,\n",
    "                readout_format='.1f',\n",
    "                layout=Layout(width=WIDGET_WIDTH),\n",
    "            ),\n",
    "        },                    \n",
    "        {\n",
    "            \"arg\": \"top_n\",\n",
    "            \"desc\": \"Top N:\",\n",
    "            \"widget\": widgets.IntSlider(\n",
    "                value=10,\n",
    "                min=10,\n",
    "                max=50,\n",
    "                step=1,\n",
    "                disabled=False,\n",
    "                continuous_update=False,\n",
    "                orientation=\"horizontal\",\n",
    "                readout=True,\n",
    "                readout_format=\"d\",\n",
    "                layout=Layout(width=WIDGET_WIDTH),\n",
    "            ),\n",
    "        },\n",
    "    ]\n",
    "    #\n",
    "    args = {control[\"arg\"]: control[\"widget\"] for control in controls}\n",
    "    output = widgets.Output()\n",
    "    with output:\n",
    "        display(widgets.interactive_output(server, args,))\n",
    "    return widgets.HBox(\n",
    "        [\n",
    "            widgets.VBox(\n",
    "                [\n",
    "                    widgets.VBox(\n",
    "                        [widgets.Label(value=control[\"desc\"]), control[\"widget\"]]\n",
    "                    )\n",
    "                    for control in controls\n",
    "                ],\n",
    "                layout=Layout(height=LEFT_PANEL_HEIGHT, border=\"1px solid gray\"),\n",
    "            ),\n",
    "            widgets.VBox([output], layout=Layout(width=RIGHT_PANEL_WIDTH)),\n",
    "        ]\n",
    "    )\n",
    "\n",
    "\n",
    "def app(df):\n",
    "    #\n",
    "    body = widgets.Tab()\n",
    "    body.children = [body_0(df)]\n",
    "    body.set_title(0, \"Matrix\")\n",
    "    #\n",
    "    return AppLayout(\n",
    "        header=widgets.HTML(\n",
    "            value=\"<h1>{}</h1><hr style='height:2px;border-width:0;color:gray;background-color:gray'>\".format(\n",
    "                \"Correlation Analysis\"\n",
    "            )\n",
    "        ),\n",
    "        center=body,\n",
    "        pane_heights=PANE_HEIGHTS,\n",
    "    )\n",
    "\n",
    "\n",
    "#####\n",
    "app(df)"
   ]
  },
  {
   "cell_type": "code",
   "execution_count": null,
   "metadata": {},
   "outputs": [],
   "source": []
  },
  {
   "cell_type": "code",
   "execution_count": null,
   "metadata": {},
   "outputs": [],
   "source": []
  },
  {
   "cell_type": "code",
   "execution_count": null,
   "metadata": {},
   "outputs": [],
   "source": []
  },
  {
   "cell_type": "code",
   "execution_count": null,
   "metadata": {},
   "outputs": [],
   "source": []
  },
  {
   "cell_type": "code",
   "execution_count": null,
   "metadata": {},
   "outputs": [],
   "source": []
  }
 ],
 "metadata": {
  "kernelspec": {
   "display_name": "Python 3",
   "language": "python",
   "name": "python3"
  },
  "language_info": {
   "codemirror_mode": {
    "name": "ipython",
    "version": 3
   },
   "file_extension": ".py",
   "mimetype": "text/x-python",
   "name": "python",
   "nbconvert_exporter": "python",
   "pygments_lexer": "ipython3",
   "version": "3.6.9"
  },
  "widgets": {
   "application/vnd.jupyter.widget-state+json": {
    "state": {
     "042183c2955c4049837bb1289ee2d7de": {
      "model_module": "@jupyter-widgets/controls",
      "model_module_version": "1.5.0",
      "model_name": "VBoxModel",
      "state": {
       "children": [
        "IPY_MODEL_40a5c4f9f8334bda87ba3425ed1c943f",
        "IPY_MODEL_ac05df3e031d4f4bba856c19efb3abc5",
        "IPY_MODEL_f753bf9d08434599911d58b83218a2a9"
       ],
       "layout": "IPY_MODEL_d45cd328a11d40d4a8b32f0a4e8ac7c6"
      }
     },
     "04bc8813cd9d4bf2b2e01273934f069d": {
      "model_module": "@jupyter-widgets/controls",
      "model_module_version": "1.5.0",
      "model_name": "DescriptionStyleModel",
      "state": {
       "description_width": ""
      }
     },
     "0e5ddd5285074e24a94fef654e188799": {
      "model_module": "@jupyter-widgets/base",
      "model_module_version": "1.2.0",
      "model_name": "LayoutModel",
      "state": {
       "grid_template_areas": "\"header header header\"\n\"center center center\"",
       "grid_template_columns": "1fr 2fr 1fr",
       "grid_template_rows": "80px 650px"
      }
     },
     "12552ef698e04597b319a59fae2043b6": {
      "model_module": "@jupyter-widgets/base",
      "model_module_version": "1.2.0",
      "model_name": "LayoutModel",
      "state": {
       "width": "200px"
      }
     },
     "134509e915eb44619b517069216da21c": {
      "model_module": "@jupyter-widgets/controls",
      "model_module_version": "1.5.0",
      "model_name": "LabelModel",
      "state": {
       "layout": "IPY_MODEL_7cc84c9257ed435c8379d0eedb30fdee",
       "style": "IPY_MODEL_25c048d51acd4a2d9633bab5dbe62334",
       "value": "Plot type:"
      }
     },
     "1800c2a3109d4c579b706d2c61c19d01": {
      "model_module": "@jupyter-widgets/controls",
      "model_module_version": "1.5.0",
      "model_name": "HTMLModel",
      "state": {
       "layout": "IPY_MODEL_9e018500182c430b92eec17254af5dec",
       "style": "IPY_MODEL_04bc8813cd9d4bf2b2e01273934f069d",
       "value": "<h1>Summary by Year</h1><hr style='height:2px;border-width:0;color:gray;background-color:gray'>"
      }
     },
     "22506295053a4122a06fbcacc5f27d24": {
      "model_module": "@jupyter-widgets/controls",
      "model_module_version": "1.5.0",
      "model_name": "TabModel",
      "state": {
       "_titles": {
        "0": "Time Analysis"
       },
       "children": [
        "IPY_MODEL_4b6eaa5b77fe4cefbb5a043a2f45e11a"
       ],
       "layout": "IPY_MODEL_d764cdd6b9884f64bae270cb69c8fe18"
      }
     },
     "259078c8559a47cb848df9adbaa76536": {
      "model_module": "@jupyter-widgets/output",
      "model_module_version": "1.0.0",
      "model_name": "OutputModel",
      "state": {
       "layout": "IPY_MODEL_91bafc5d919741b7b38d33290796e8b3",
       "outputs": [
        {
         "data": {
          "image/png": "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\n",
          "text/plain": "<Figure size 1080x676.8 with 1 Axes>"
         },
         "metadata": {},
         "output_type": "display_data"
        }
       ]
      }
     },
     "25c048d51acd4a2d9633bab5dbe62334": {
      "model_module": "@jupyter-widgets/controls",
      "model_module_version": "1.5.0",
      "model_name": "DescriptionStyleModel",
      "state": {
       "description_width": ""
      }
     },
     "297d3e5c4b2142c89d3aa6d8da191cb0": {
      "model_module": "@jupyter-widgets/controls",
      "model_module_version": "1.5.0",
      "model_name": "DropdownModel",
      "state": {
       "_options_labels": [
        "bar",
        "barh"
       ],
       "index": 0,
       "layout": "IPY_MODEL_12552ef698e04597b319a59fae2043b6",
       "style": "IPY_MODEL_396858a991e044d785ef538e6ef5730d"
      }
     },
     "2ed2ddf4a5d74252a5cca27e104d20d7": {
      "model_module": "@jupyter-widgets/base",
      "model_module_version": "1.2.0",
      "model_name": "LayoutModel",
      "state": {}
     },
     "396858a991e044d785ef538e6ef5730d": {
      "model_module": "@jupyter-widgets/controls",
      "model_module_version": "1.5.0",
      "model_name": "DescriptionStyleModel",
      "state": {
       "description_width": ""
      }
     },
     "40a5c4f9f8334bda87ba3425ed1c943f": {
      "model_module": "@jupyter-widgets/controls",
      "model_module_version": "1.5.0",
      "model_name": "VBoxModel",
      "state": {
       "children": [
        "IPY_MODEL_f54cf4c13a8d4a64adb74c137e22eb18",
        "IPY_MODEL_bee503369eb443eda800194293a9aece"
       ],
       "layout": "IPY_MODEL_d75f61a0648c41189cf0f09955461451"
      }
     },
     "45d2d9e8dc814349b92bfd4151f55b7a": {
      "model_module": "@jupyter-widgets/controls",
      "model_module_version": "1.5.0",
      "model_name": "DescriptionStyleModel",
      "state": {
       "description_width": ""
      }
     },
     "472d8447979e47a38488560925c73d82": {
      "model_module": "@jupyter-widgets/controls",
      "model_module_version": "1.5.0",
      "model_name": "DropdownModel",
      "state": {
       "_options_labels": [
        "Greys",
        "Purples",
        "Blues",
        "Greens",
        "Oranges",
        "Reds",
        "YlOrBr",
        "YlOrRd",
        "OrRd",
        "PuRd",
        "RdPu",
        "BuPu",
        "GnBu",
        "PuBu",
        "YlGnBu",
        "PuBuGn",
        "BuGn",
        "YlGn",
        "Pastel1",
        "Pastel2",
        "Paired",
        "Accent",
        "Dark2",
        "Set1",
        "Set2",
        "Set3",
        "tab10",
        "tab20",
        "tab20b",
        "tab20c"
       ],
       "index": 3,
       "layout": "IPY_MODEL_a130b6f186194311a9ce6d01c34cdba2",
       "style": "IPY_MODEL_bab339a743f44c398ff523636573759b"
      }
     },
     "4b6eaa5b77fe4cefbb5a043a2f45e11a": {
      "model_module": "@jupyter-widgets/controls",
      "model_module_version": "1.5.0",
      "model_name": "HBoxModel",
      "state": {
       "children": [
        "IPY_MODEL_042183c2955c4049837bb1289ee2d7de",
        "IPY_MODEL_83bc40b5d29c492090d132d58f776962"
       ],
       "layout": "IPY_MODEL_57227484338e438ca1f82d2bcbac60f5"
      }
     },
     "57227484338e438ca1f82d2bcbac60f5": {
      "model_module": "@jupyter-widgets/base",
      "model_module_version": "1.2.0",
      "model_name": "LayoutModel",
      "state": {}
     },
     "5c0910552be449c289adb905488e5dd5": {
      "model_module": "@jupyter-widgets/output",
      "model_module_version": "1.0.0",
      "model_name": "OutputModel",
      "state": {
       "layout": "IPY_MODEL_2ed2ddf4a5d74252a5cca27e104d20d7"
      }
     },
     "62d98194be1447cc858f51495d2a8e36": {
      "model_module": "@jupyter-widgets/base",
      "model_module_version": "1.2.0",
      "model_name": "LayoutModel",
      "state": {
       "width": "200px"
      }
     },
     "78fad9e65c244899978292492cff1e98": {
      "model_module": "@jupyter-widgets/base",
      "model_module_version": "1.2.0",
      "model_name": "LayoutModel",
      "state": {}
     },
     "7c8c114837fb4a64aa6ebeeb075ddab8": {
      "model_module": "@jupyter-widgets/base",
      "model_module_version": "1.2.0",
      "model_name": "LayoutModel",
      "state": {}
     },
     "7cc84c9257ed435c8379d0eedb30fdee": {
      "model_module": "@jupyter-widgets/base",
      "model_module_version": "1.2.0",
      "model_name": "LayoutModel",
      "state": {}
     },
     "7eb0e8970ffb415e9be27454d3fe2018": {
      "model_module": "@jupyter-widgets/controls",
      "model_module_version": "1.5.0",
      "model_name": "GridBoxModel",
      "state": {
       "children": [
        "IPY_MODEL_1800c2a3109d4c579b706d2c61c19d01",
        "IPY_MODEL_22506295053a4122a06fbcacc5f27d24"
       ],
       "layout": "IPY_MODEL_0e5ddd5285074e24a94fef654e188799"
      }
     },
     "83bc40b5d29c492090d132d58f776962": {
      "model_module": "@jupyter-widgets/controls",
      "model_module_version": "1.5.0",
      "model_name": "VBoxModel",
      "state": {
       "children": [
        "IPY_MODEL_259078c8559a47cb848df9adbaa76536"
       ],
       "layout": "IPY_MODEL_8580f8a0a27249c48d4f67f7228c15cc"
      }
     },
     "8580f8a0a27249c48d4f67f7228c15cc": {
      "model_module": "@jupyter-widgets/base",
      "model_module_version": "1.2.0",
      "model_name": "LayoutModel",
      "state": {
       "width": "870px"
      }
     },
     "90675f76fb3c4d5ab8016b07dbd14c4b": {
      "model_module": "@jupyter-widgets/base",
      "model_module_version": "1.2.0",
      "model_name": "LayoutModel",
      "state": {}
     },
     "91bafc5d919741b7b38d33290796e8b3": {
      "model_module": "@jupyter-widgets/base",
      "model_module_version": "1.2.0",
      "model_name": "LayoutModel",
      "state": {}
     },
     "9e018500182c430b92eec17254af5dec": {
      "model_module": "@jupyter-widgets/base",
      "model_module_version": "1.2.0",
      "model_name": "LayoutModel",
      "state": {
       "grid_area": "header"
      }
     },
     "a130b6f186194311a9ce6d01c34cdba2": {
      "model_module": "@jupyter-widgets/base",
      "model_module_version": "1.2.0",
      "model_name": "LayoutModel",
      "state": {
       "width": "200px"
      }
     },
     "ac05df3e031d4f4bba856c19efb3abc5": {
      "model_module": "@jupyter-widgets/controls",
      "model_module_version": "1.5.0",
      "model_name": "VBoxModel",
      "state": {
       "children": [
        "IPY_MODEL_134509e915eb44619b517069216da21c",
        "IPY_MODEL_297d3e5c4b2142c89d3aa6d8da191cb0"
       ],
       "layout": "IPY_MODEL_78fad9e65c244899978292492cff1e98"
      }
     },
     "b6da992d5a4742889a1fb6ed0f36cc41": {
      "model_module": "@jupyter-widgets/controls",
      "model_module_version": "1.5.0",
      "model_name": "DescriptionStyleModel",
      "state": {
       "description_width": ""
      }
     },
     "bab339a743f44c398ff523636573759b": {
      "model_module": "@jupyter-widgets/controls",
      "model_module_version": "1.5.0",
      "model_name": "DescriptionStyleModel",
      "state": {
       "description_width": ""
      }
     },
     "bd686f91c58f4347bc60679f2ff920e3": {
      "model_module": "@jupyter-widgets/controls",
      "model_module_version": "1.5.0",
      "model_name": "LabelModel",
      "state": {
       "layout": "IPY_MODEL_dfcba0dd9e4b44e3adcd1e0154a1a51b",
       "style": "IPY_MODEL_b6da992d5a4742889a1fb6ed0f36cc41",
       "value": "Colormap:"
      }
     },
     "bee503369eb443eda800194293a9aece": {
      "model_module": "@jupyter-widgets/controls",
      "model_module_version": "1.5.0",
      "model_name": "DropdownModel",
      "state": {
       "_options_labels": [
        "Documents by Year",
        "Cum. Documents by Year",
        "Times Cited by Year",
        "Cum. Times Cited by Year",
        "Avg. Times Cited by Year"
       ],
       "index": 2,
       "layout": "IPY_MODEL_62d98194be1447cc858f51495d2a8e36",
       "style": "IPY_MODEL_45d2d9e8dc814349b92bfd4151f55b7a"
      }
     },
     "c309ebdfa02440c8af202fa083e3be63": {
      "model_module": "@jupyter-widgets/controls",
      "model_module_version": "1.5.0",
      "model_name": "DescriptionStyleModel",
      "state": {
       "description_width": ""
      }
     },
     "d45cd328a11d40d4a8b32f0a4e8ac7c6": {
      "model_module": "@jupyter-widgets/base",
      "model_module_version": "1.2.0",
      "model_name": "LayoutModel",
      "state": {
       "border": "1px solid gray",
       "height": "588px"
      }
     },
     "d75f61a0648c41189cf0f09955461451": {
      "model_module": "@jupyter-widgets/base",
      "model_module_version": "1.2.0",
      "model_name": "LayoutModel",
      "state": {}
     },
     "d764cdd6b9884f64bae270cb69c8fe18": {
      "model_module": "@jupyter-widgets/base",
      "model_module_version": "1.2.0",
      "model_name": "LayoutModel",
      "state": {
       "grid_area": "center"
      }
     },
     "dfcba0dd9e4b44e3adcd1e0154a1a51b": {
      "model_module": "@jupyter-widgets/base",
      "model_module_version": "1.2.0",
      "model_name": "LayoutModel",
      "state": {}
     },
     "f54cf4c13a8d4a64adb74c137e22eb18": {
      "model_module": "@jupyter-widgets/controls",
      "model_module_version": "1.5.0",
      "model_name": "LabelModel",
      "state": {
       "layout": "IPY_MODEL_90675f76fb3c4d5ab8016b07dbd14c4b",
       "style": "IPY_MODEL_c309ebdfa02440c8af202fa083e3be63",
       "value": "Plot:"
      }
     },
     "f753bf9d08434599911d58b83218a2a9": {
      "model_module": "@jupyter-widgets/controls",
      "model_module_version": "1.5.0",
      "model_name": "VBoxModel",
      "state": {
       "children": [
        "IPY_MODEL_bd686f91c58f4347bc60679f2ff920e3",
        "IPY_MODEL_472d8447979e47a38488560925c73d82"
       ],
       "layout": "IPY_MODEL_7c8c114837fb4a64aa6ebeeb075ddab8"
      }
     }
    },
    "version_major": 2,
    "version_minor": 0
   }
  }
 },
 "nbformat": 4,
 "nbformat_minor": 4
}
