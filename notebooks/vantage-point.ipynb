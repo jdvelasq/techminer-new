{
 "cells": [
  {
   "cell_type": "code",
   "execution_count": 1,
   "metadata": {},
   "outputs": [
    {
     "name": "stderr",
     "output_type": "stream",
     "text": [
      "2020-06-05 03:32:43,150 - INFO - Renaming and selecting columns ...\n",
      "2020-06-05 03:32:48,731 - INFO - Formatting author names ...\n",
      "2020-06-05 03:32:48,736 - INFO - Disambiguating author names ...\n",
      "2020-06-05 03:32:48,803 - INFO - Removing part of titles in foreing languages ...\n",
      "2020-06-05 03:32:48,806 - INFO - Fusioning author and index keywords ...\n",
      "2020-06-05 03:32:48,820 - INFO - NumExpr defaulting to 8 threads.\n",
      "2020-06-05 03:32:48,836 - INFO - Extracting countries from affiliations ...\n",
      "2020-06-05 03:32:54,978 - INFO - Extracting institutions from affiliations ...\n",
      "2020-06-05 03:32:54,989 - INFO - Extracting country of 1st author ...\n",
      "2020-06-05 03:32:54,992 - INFO - Extracting affiliation of 1st author ...\n",
      "2020-06-05 03:32:54,995 - INFO - Counting number of authors ...\n"
     ]
    }
   ],
   "source": [
    "import pandas as pd\n",
    "\n",
    "import techminer.data as data\n",
    "\n",
    "filepath = \"../data/papers/urban-agriculture.csv\"\n",
    "df = pd.read_csv(filepath)\n",
    "df = data.load_scopus(df)"
   ]
  },
  {
   "cell_type": "code",
   "execution_count": null,
   "metadata": {},
   "outputs": [],
   "source": [
    "data.coverage(df)"
   ]
  },
  {
   "cell_type": "markdown",
   "metadata": {},
   "source": [
    "### Keywords"
   ]
  },
  {
   "cell_type": "code",
   "execution_count": null,
   "metadata": {},
   "outputs": [],
   "source": []
  },
  {
   "cell_type": "markdown",
   "metadata": {},
   "source": [
    "### FindString Dialog Box pag. 69"
   ]
  },
  {
   "cell_type": "code",
   "execution_count": null,
   "metadata": {},
   "outputs": [],
   "source": []
  },
  {
   "cell_type": "markdown",
   "metadata": {},
   "source": [
    "### Cleaning a list pag. 102"
   ]
  },
  {
   "cell_type": "code",
   "execution_count": null,
   "metadata": {},
   "outputs": [],
   "source": []
  },
  {
   "cell_type": "markdown",
   "metadata": {},
   "source": [
    "### Fuzzy match editor pag.126"
   ]
  },
  {
   "cell_type": "code",
   "execution_count": null,
   "metadata": {},
   "outputs": [],
   "source": []
  },
  {
   "cell_type": "markdown",
   "metadata": {},
   "source": [
    "### Stemming And / Stemming Or"
   ]
  },
  {
   "cell_type": "code",
   "execution_count": null,
   "metadata": {},
   "outputs": [],
   "source": []
  },
  {
   "cell_type": "markdown",
   "metadata": {},
   "source": [
    "### APPS"
   ]
  },
  {
   "cell_type": "code",
   "execution_count": null,
   "metadata": {},
   "outputs": [],
   "source": [
    "import techminer.by_year as year\n",
    "year.app(df)"
   ]
  },
  {
   "cell_type": "code",
   "execution_count": null,
   "metadata": {},
   "outputs": [],
   "source": [
    "import techminer.by_term as term\n",
    "term.app(df)"
   ]
  },
  {
   "cell_type": "code",
   "execution_count": null,
   "metadata": {},
   "outputs": [],
   "source": [
    "import techminer.by_term_per_year as term_year\n",
    "term_year.app(df)"
   ]
  },
  {
   "cell_type": "code",
   "execution_count": null,
   "metadata": {},
   "outputs": [],
   "source": [
    "import techminer.co_occurrence as co_occurrence\n",
    "co_occurrence.app(df)"
   ]
  },
  {
   "cell_type": "code",
   "execution_count": null,
   "metadata": {},
   "outputs": [],
   "source": [
    "import techminer.correlation as correlation\n",
    "correlation.app(df)"
   ]
  },
  {
   "cell_type": "code",
   "execution_count": null,
   "metadata": {},
   "outputs": [],
   "source": []
  },
  {
   "cell_type": "code",
   "execution_count": null,
   "metadata": {},
   "outputs": [],
   "source": []
  },
  {
   "cell_type": "code",
   "execution_count": null,
   "metadata": {},
   "outputs": [],
   "source": []
  },
  {
   "cell_type": "code",
   "execution_count": null,
   "metadata": {},
   "outputs": [],
   "source": []
  },
  {
   "cell_type": "code",
   "execution_count": null,
   "metadata": {},
   "outputs": [],
   "source": []
  },
  {
   "cell_type": "code",
   "execution_count": null,
   "metadata": {},
   "outputs": [],
   "source": [
    "import ipywidgets as widgets\n",
    "from ipywidgets import Layout, AppLayout"
   ]
  },
  {
   "cell_type": "code",
   "execution_count": null,
   "metadata": {},
   "outputs": [],
   "source": [
    "\n",
    "COLUMNS = [\n",
    "    \"Author Keywords\",\n",
    "    \"Authors\",\n",
    "    \"Countries\",\n",
    "    \"Country 1st\",\n",
    "    \"Document type\",\n",
    "    \"Index Keywords\",\n",
    "    \"Institution 1st\",\n",
    "    \"Institutions\",\n",
    "    \"Keywords\",\n",
    "    \"Source title\",\n",
    "]"
   ]
  },
  {
   "cell_type": "code",
   "execution_count": null,
   "metadata": {},
   "outputs": [],
   "source": [
    "FIGSIZE = (14, 10.0) ## Co-occurrente-analysis  <---- no tiene figura\n",
    "FIGSIZE = (14, 9.0)"
   ]
  },
  {
   "cell_type": "markdown",
   "metadata": {},
   "source": [
    "# NUEVA INTERFAZ"
   ]
  },
  {
   "cell_type": "code",
   "execution_count": null,
   "metadata": {},
   "outputs": [],
   "source": [
    "from techminer.summary_by_term_per_year import documents_by_term_per_year, citations_by_term_per_year"
   ]
  },
  {
   "cell_type": "code",
   "execution_count": null,
   "metadata": {},
   "outputs": [],
   "source": []
  },
  {
   "cell_type": "code",
   "execution_count": null,
   "metadata": {},
   "outputs": [],
   "source": [
    "import techminer.plots as plt\n",
    "from techminer.plots import COLORMAPS\n",
    "from techminer.summary_by_term import citations_by_term, documents_by_term\n",
    "\n",
    "WIDGET_WIDTH = \"200px\"\n",
    "LEFT_PANEL_HEIGHT = \"588px\"\n",
    "RIGHT_PANEL_WIDTH = \"870px\"\n",
    "FIGSIZE = (14, 10.0)\n",
    "PANE_HEIGHTS = [\"80px\", \"650px\", 0]\n",
    "\n",
    "COLUMNS = [\n",
    "    \"Author Keywords\",\n",
    "    \"Authors\",\n",
    "    \"Countries\",\n",
    "    \"Country 1st\",\n",
    "    \"Document type\",\n",
    "    \"Index Keywords\",\n",
    "    \"Institution 1st\",\n",
    "    \"Institutions\",\n",
    "    \"Keywords\",\n",
    "    \"Source title\",\n",
    "]\n",
    "\n"
   ]
  },
  {
   "cell_type": "code",
   "execution_count": null,
   "metadata": {},
   "outputs": [],
   "source": [
    "#################\n",
    "import ipywidgets as widgets\n",
    "import numpy as np\n",
    "from ipywidgets import AppLayout, Layout\n",
    "\n",
    "from techminer.by_term import summary_by_term\n",
    "from techminer.correlation import corr, corr_map\n",
    "from techminer.maps import Map\n",
    "from techminer.plots import COLORMAPS, chord_diagram\n",
    "\n",
    "WIDGET_WIDTH = \"200px\"\n",
    "LEFT_PANEL_HEIGHT = \"650px\"\n",
    "RIGHT_PANEL_WIDTH = \"870px\"\n",
    "FIGSIZE = (14, 10.0)\n",
    "PANE_HEIGHTS = [\"80px\", \"750px\", 0]\n",
    "\n",
    "COLUMNS = [\n",
    "    \"Author Keywords\",\n",
    "    \"Authors\",\n",
    "    \"Countries\",\n",
    "    \"Country 1st\",\n",
    "    \"Document type\",\n",
    "    \"Index Keywords\",\n",
    "    \"Institution 1st\",\n",
    "    \"Institutions\",\n",
    "    \"Keywords\",\n",
    "    \"Source title\",\n",
    "]\n",
    "\n",
    "\n",
    "#################\n",
    "\n",
    "\n",
    "#\n",
    "#\n",
    "#  Correlation Analysis\n",
    "#\n",
    "#\n",
    "def body_0(x):\n",
    "    #\n",
    "    def server(**kwargs):\n",
    "        #\n",
    "        # Logic\n",
    "        #\n",
    "        column = kwargs[\"term\"]\n",
    "        by = kwargs[\"by\"]\n",
    "        method = kwargs[\"method\"]\n",
    "        min_link_value = float(kwargs[\"min_link_value\"].split(' ')[0])\n",
    "        cmap = kwargs[\"cmap\"]\n",
    "        filter_by = kwargs[\"filter_by\"]\n",
    "        filter_value = int(kwargs[\"filter_value\"].split()[0])\n",
    "        view = kwargs[\"view\"]\n",
    "        sort_by = kwargs[\"sort_by\"]\n",
    "        #\n",
    "        #\n",
    "        #\n",
    "        s = summary_by_term(x, column)\n",
    "        if filter_by == \"Frequency\":\n",
    "            s = s[[column, \"Num Documents\"]]\n",
    "            n_columns = len(s[s[\"Num Documents\"] > filter_value])\n",
    "            new_names = {\n",
    "                a: \"{} [{:d}]\".format(a, b)\n",
    "                for a, b in zip(s[column].tolist(), s[\"Num Documents\"].tolist())\n",
    "            }\n",
    "        if filter_by == \"Cited by\":\n",
    "            s = s[[column, \"Cited by\"]]\n",
    "            n_columns = len(s[s[\"Cited by\"] > filter_value])\n",
    "            new_names = {\n",
    "                a: \"{} [{:d}]\".format(a, b)\n",
    "                for a, b in zip(s[column].tolist(), s[\"Cited by\"].tolist())\n",
    "            }\n",
    "        #\n",
    "        a = s[s.columns[1]].value_counts().sort_index(ascending=False)\n",
    "        a = a.cumsum()\n",
    "        a = a.sort_index(ascending=True)\n",
    "        current_value = controls[4][\"widget\"].value\n",
    "        controls[4][\"widget\"].options = [\n",
    "            \"{:d} [{:d}]\".format(idx, w) for w, idx in zip(a, a.index)\n",
    "        ]\n",
    "        if current_value not in controls[4][\"widget\"].options:\n",
    "            controls[4][\"widget\"].value = controls[4][\"widget\"].options[0]\n",
    "        #\n",
    "        #\n",
    "        #\n",
    "        if n_columns > 50:\n",
    "            output.clear_output()\n",
    "            with output:\n",
    "                display(widgets.HTML(\"<h3>Matrix exceeds the maximum shape</h3>\"))\n",
    "                return\n",
    "        #\n",
    "        #\n",
    "        #\n",
    "        matrix = corr(\n",
    "            x,\n",
    "            column=column,\n",
    "            by=by,\n",
    "            method=method,\n",
    "            # min_link_value=min_link_value,\n",
    "            cmap=cmap,\n",
    "            filter_by=filter_by,\n",
    "            filter_value=filter_value,\n",
    "            as_matrix=True,\n",
    "            keywords=None,\n",
    "        )\n",
    "        #\n",
    "        #\n",
    "        #\n",
    "        matrix = matrix.rename(columns=new_names, index=new_names)\n",
    "        #\n",
    "        output.clear_output()\n",
    "        with output:\n",
    "            if view == \"Matrix\":\n",
    "                #\n",
    "                # Sort order\n",
    "                #\n",
    "                if sort_by == \"Frequency/Cited by asc.\":\n",
    "                    g = lambda m: int(m[m.find(\"[\") + 1 : m.find(\"]\")])\n",
    "                    names = sorted(matrix.columns, key=g, reverse=False)\n",
    "                    matrix = matrix.loc[names, names]\n",
    "                if sort_by == \"Frequency/Cited by desc.\":\n",
    "                    g = lambda m: int(m[m.find(\"[\") + 1 : m.find(\"]\")])\n",
    "                    names = sorted(matrix.columns, key=g, reverse=True)\n",
    "                    matrix = matrix.loc[names, names]\n",
    "                if sort_by == \"Alphabetic asc.\":\n",
    "                    matrix = matrix.sort_index(axis=0, ascending=True).sort_index(\n",
    "                        axis=1, ascending=True\n",
    "                    )\n",
    "                if sort_by == \"Alphabetic desc.\":\n",
    "                    matrix = matrix.sort_index(axis=0, ascending=False).sort_index(\n",
    "                        axis=1, ascending=False\n",
    "                    )\n",
    "                #\n",
    "                # View\n",
    "                #\n",
    "                display(\n",
    "                    matrix.style.format(\n",
    "                        lambda q: \"{:+4.3f}\".format(q) if q >= min_link_value else \"\"\n",
    "                    ).background_gradient(cmap=cmap)\n",
    "                )\n",
    "                #\n",
    "            if view == \"Correlation map\":\n",
    "                #\n",
    "                display(Map().correlation_map(figsize=(10, 10), **corr_map(matrix, minval=min_link_value)))\n",
    "                #\n",
    "            if view == \"Chord diagram\":\n",
    "                #\n",
    "                display(chord_diagram(matrix, minval=min_link_value))\n",
    "                #\n",
    "\n",
    "    #\n",
    "    # UI\n",
    "    #\n",
    "    controls = [\n",
    "        {\n",
    "            \"arg\": \"term\",\n",
    "            \"desc\": \"Term to analyze:\",\n",
    "            \"widget\": widgets.Dropdown(\n",
    "                options=[z for z in COLUMNS if z in x.columns],\n",
    "                ensure_option=True,\n",
    "                disabled=False,\n",
    "                layout=Layout(width=WIDGET_WIDTH),\n",
    "            ),\n",
    "        },\n",
    "        {\n",
    "            \"arg\": \"by\",\n",
    "            \"desc\": \"By Term:\",\n",
    "            \"widget\": widgets.Dropdown(\n",
    "                options=[z for z in COLUMNS if z in x.columns],\n",
    "                ensure_option=True,\n",
    "                disabled=False,\n",
    "                layout=Layout(width=WIDGET_WIDTH),\n",
    "            ),\n",
    "        },\n",
    "        {\n",
    "            \"arg\": \"method\",\n",
    "            \"desc\": \"Method:\",\n",
    "            \"widget\": widgets.Dropdown(\n",
    "                options=[\"pearson\", \"kendall\", \"spearman\"],\n",
    "                ensure_option=True,\n",
    "                disabled=False,\n",
    "                continuous_update=True,\n",
    "                layout=Layout(width=WIDGET_WIDTH),\n",
    "            ),\n",
    "        },\n",
    "        {\n",
    "            \"arg\": \"filter_by\",\n",
    "            \"desc\": \"Filter by:\",\n",
    "            \"widget\": widgets.Dropdown(\n",
    "                options=[\"Frequency\", \"Cited by\"],\n",
    "                disable=False,\n",
    "                layout=Layout(width=WIDGET_WIDTH),\n",
    "            ),\n",
    "        },\n",
    "        {\n",
    "            \"arg\": \"filter_value\",\n",
    "            \"desc\": \"Filter value:\",\n",
    "            \"widget\": widgets.Dropdown(\n",
    "                options=[str(i) for i in range(10)],\n",
    "                disable=False,\n",
    "                layout=Layout(width=WIDGET_WIDTH),\n",
    "            ),\n",
    "        },\n",
    "        {\n",
    "            \"arg\": \"min_link_value\",\n",
    "            \"desc\": \"Min link value:\",\n",
    "            \"widget\": widgets.Dropdown(\n",
    "                options=\"-1.00 -0.25 0.00 0.125 0.250 0.375 0.500 0.625 0.750 0.875\".split(\n",
    "                    \" \"\n",
    "                ),\n",
    "                ensure_option=True,\n",
    "                disabled=False,\n",
    "                continuous_update=True,\n",
    "                layout=Layout(width=WIDGET_WIDTH),\n",
    "            ),\n",
    "        },\n",
    "        {\n",
    "            \"arg\": \"view\",\n",
    "            \"desc\": \"View:\",\n",
    "            \"widget\": widgets.Dropdown(\n",
    "                options=[\"Matrix\", \"Correlation map\", \"Chord diagram\"],\n",
    "                ensure_option=True,\n",
    "                disabled=False,\n",
    "                continuous_update=True,\n",
    "                layout=Layout(width=WIDGET_WIDTH),\n",
    "            ),\n",
    "        },\n",
    "        {\n",
    "            \"arg\": \"cmap\",\n",
    "            \"desc\": \"Matrix colormap:\",\n",
    "            \"widget\": widgets.Dropdown(\n",
    "                options=COLORMAPS, disable=False, layout=Layout(width=WIDGET_WIDTH),\n",
    "            ),\n",
    "        },\n",
    "        {\n",
    "            \"arg\": \"sort_by\",\n",
    "            \"desc\": \"Sort order:\",\n",
    "            \"widget\": widgets.Dropdown(\n",
    "                options=[\n",
    "                    \"Alphabetic asc.\",\n",
    "                    \"Alphabetic desc.\",\n",
    "                    \"Frequency/Cited by asc.\",\n",
    "                    \"Frequency/Cited by desc.\",\n",
    "                ],\n",
    "                disable=False,\n",
    "                layout=Layout(width=WIDGET_WIDTH),\n",
    "            ),\n",
    "        },\n",
    "    ]\n",
    "    #\n",
    "    args = {control[\"arg\"]: control[\"widget\"] for control in controls}\n",
    "    output = widgets.Output()\n",
    "    with output:\n",
    "        display(widgets.interactive_output(server, args,))\n",
    "    return widgets.HBox(\n",
    "        [\n",
    "            widgets.VBox(\n",
    "                [\n",
    "                    widgets.VBox(\n",
    "                        [widgets.Label(value=control[\"desc\"]), control[\"widget\"]]\n",
    "                    )\n",
    "                    for control in controls\n",
    "                ],\n",
    "                layout=Layout(height=LEFT_PANEL_HEIGHT, border=\"1px solid gray\"),\n",
    "            ),\n",
    "            widgets.VBox([output], layout=Layout(width=RIGHT_PANEL_WIDTH)),\n",
    "        ]\n",
    "    )\n",
    "\n",
    "\n",
    "#\n",
    "#\n",
    "# APP\n",
    "#\n",
    "#\n",
    "\n",
    "\n",
    "def app(df):\n",
    "    #\n",
    "    body = widgets.Tab()\n",
    "    body.children = [body_0(df)]\n",
    "    body.set_title(0, \"Matrix\")\n",
    "    #\n",
    "    return AppLayout(\n",
    "        header=widgets.HTML(\n",
    "            value=\"<h1>{}</h1><hr style='height:2px;border-width:0;color:gray;background-color:gray'>\".format(\n",
    "                \"Correlation Analysis\"\n",
    "            )\n",
    "        ),\n",
    "        center=body,\n",
    "        pane_heights=PANE_HEIGHTS,\n",
    "    )\n",
    "\n",
    "\n",
    "#####\n",
    "app(df)"
   ]
  },
  {
   "cell_type": "code",
   "execution_count": null,
   "metadata": {},
   "outputs": [],
   "source": []
  },
  {
   "cell_type": "code",
   "execution_count": null,
   "metadata": {},
   "outputs": [],
   "source": [
    "from ipywidgets import interact, interactive, fixed, interact_manual\n",
    "interact(slow_function,i=widgets.FloatSlider(min=1e5, max=1e7, step=1e5, continuous_update=True));"
   ]
  },
  {
   "cell_type": "code",
   "execution_count": null,
   "metadata": {},
   "outputs": [],
   "source": [
    "def slow_function(i):\n",
    "    print(int(i),list(x for x in range(int(i)) if\n",
    "                str(x)==str(x)[::-1] and\n",
    "                str(x**2)==str(x**2)[::-1]))\n",
    "    return"
   ]
  },
  {
   "cell_type": "code",
   "execution_count": null,
   "metadata": {},
   "outputs": [],
   "source": []
  },
  {
   "cell_type": "code",
   "execution_count": null,
   "metadata": {},
   "outputs": [],
   "source": [
    "x = \"hola\"\n",
    "x[:-1]"
   ]
  },
  {
   "cell_type": "code",
   "execution_count": null,
   "metadata": {},
   "outputs": [],
   "source": [
    "import pandas as pd\n",
    "x = pd.DataFrame({'a': [1, 2, 3, 4, 5], 'b': list('ABCDE')})\n",
    "\n",
    "x.values.ravel().tolist()"
   ]
  },
  {
   "cell_type": "code",
   "execution_count": null,
   "metadata": {},
   "outputs": [],
   "source": [
    "x"
   ]
  },
  {
   "cell_type": "code",
   "execution_count": null,
   "metadata": {},
   "outputs": [],
   "source": [
    "x.values.shape"
   ]
  },
  {
   "cell_type": "code",
   "execution_count": null,
   "metadata": {},
   "outputs": [],
   "source": [
    "print('hola')"
   ]
  },
  {
   "cell_type": "code",
   "execution_count": null,
   "metadata": {},
   "outputs": [],
   "source": [
    "m = \"abcdefg [1000]\"\n",
    "m[m.find('[')+1:m.find(']')]\n"
   ]
  },
  {
   "cell_type": "code",
   "execution_count": null,
   "metadata": {},
   "outputs": [],
   "source": []
  }
 ],
 "metadata": {
  "kernelspec": {
   "display_name": "Python 3",
   "language": "python",
   "name": "python3"
  },
  "language_info": {
   "codemirror_mode": {
    "name": "ipython",
    "version": 3
   },
   "file_extension": ".py",
   "mimetype": "text/x-python",
   "name": "python",
   "nbconvert_exporter": "python",
   "pygments_lexer": "ipython3",
   "version": "3.6.9"
  },
  "widgets": {
   "application/vnd.jupyter.widget-state+json": {
    "state": {
     "006cbab1fbf34c9db3b3fea74b798bb7": {
      "model_module": "@jupyter-widgets/controls",
      "model_module_version": "1.5.0",
      "model_name": "DropdownModel",
      "state": {
       "_options_labels": [
        "Matrix",
        "Correlation map",
        "Chord diagram"
       ],
       "index": 2,
       "layout": "IPY_MODEL_6c4b3e6d9ad64aa0b44b6b8b5c923538",
       "style": "IPY_MODEL_63f6f3ebc01a46f88f35552b00553f95"
      }
     },
     "029ede16d44c4436bed236c98b953789": {
      "model_module": "@jupyter-widgets/base",
      "model_module_version": "1.2.0",
      "model_name": "LayoutModel",
      "state": {}
     },
     "0dff689ae85d4431859c3de07837dbbd": {
      "model_module": "@jupyter-widgets/controls",
      "model_module_version": "1.5.0",
      "model_name": "VBoxModel",
      "state": {
       "children": [
        "IPY_MODEL_19a5cde722b94a1da35fca858a593e93",
        "IPY_MODEL_006cbab1fbf34c9db3b3fea74b798bb7"
       ],
       "layout": "IPY_MODEL_8822eaecb5094677ba259f67d97227a2"
      }
     },
     "146263afec5f475c8ef4471a5115edd3": {
      "model_module": "@jupyter-widgets/base",
      "model_module_version": "1.2.0",
      "model_name": "LayoutModel",
      "state": {}
     },
     "153bf3c9e59646b0ace5172254905293": {
      "model_module": "@jupyter-widgets/base",
      "model_module_version": "1.2.0",
      "model_name": "LayoutModel",
      "state": {}
     },
     "1556515035d245aeb08fe774497c34ea": {
      "model_module": "@jupyter-widgets/base",
      "model_module_version": "1.2.0",
      "model_name": "LayoutModel",
      "state": {
       "width": "200px"
      }
     },
     "185324d546d4431dacb6169c63269912": {
      "model_module": "@jupyter-widgets/base",
      "model_module_version": "1.2.0",
      "model_name": "LayoutModel",
      "state": {
       "width": "200px"
      }
     },
     "19a5cde722b94a1da35fca858a593e93": {
      "model_module": "@jupyter-widgets/controls",
      "model_module_version": "1.5.0",
      "model_name": "LabelModel",
      "state": {
       "layout": "IPY_MODEL_5251ca5957d74e22af3cf3a48c182486",
       "style": "IPY_MODEL_c9c2c9f27f934ec394863de148c4b6e2",
       "value": "View:"
      }
     },
     "1ac93f5382b4480abcc8c68200a5943e": {
      "model_module": "@jupyter-widgets/controls",
      "model_module_version": "1.5.0",
      "model_name": "HTMLModel",
      "state": {
       "layout": "IPY_MODEL_98982010ceb64f02bc35aaad44d0526c",
       "style": "IPY_MODEL_ba3a80ae1c5e4f92a6560254bc8b5311",
       "value": "<h3>Matrix exceeds the maximum shape</h3>"
      }
     },
     "1d8eb637d1e64447bfe794c331789aab": {
      "model_module": "@jupyter-widgets/controls",
      "model_module_version": "1.5.0",
      "model_name": "DropdownModel",
      "state": {
       "_options_labels": [
        "-1.00",
        "-0.25",
        "0.00",
        "0.125",
        "0.250",
        "0.375",
        "0.500",
        "0.625",
        "0.750",
        "0.875"
       ],
       "index": 3,
       "layout": "IPY_MODEL_4583f886e98f490ba68fffc84fab102b",
       "style": "IPY_MODEL_90c1b9aac0d54ac0b6a141982ce96230"
      }
     },
     "1de2dad6e1c8429d9b520f787a52db77": {
      "model_module": "@jupyter-widgets/controls",
      "model_module_version": "1.5.0",
      "model_name": "DescriptionStyleModel",
      "state": {
       "description_width": ""
      }
     },
     "2762ea3bcd00431c96e1927b357dccb0": {
      "model_module": "@jupyter-widgets/base",
      "model_module_version": "1.2.0",
      "model_name": "LayoutModel",
      "state": {
       "grid_template_areas": "\"header header header\"\n\"center center center\"",
       "grid_template_columns": "1fr 2fr 1fr",
       "grid_template_rows": "80px 750px"
      }
     },
     "34acdc56c28a434788ad04530d6bcfd9": {
      "model_module": "@jupyter-widgets/controls",
      "model_module_version": "1.5.0",
      "model_name": "LabelModel",
      "state": {
       "layout": "IPY_MODEL_bd34027781854b908c03e7de3728684e",
       "style": "IPY_MODEL_70a815a5b5f8400bb2d4ca2535adea0d",
       "value": "Filter by:"
      }
     },
     "37791ac0631e4047a8f80170c7346465": {
      "model_module": "@jupyter-widgets/base",
      "model_module_version": "1.2.0",
      "model_name": "LayoutModel",
      "state": {}
     },
     "379c3cd798ec488d9dbd2dcb209a8f33": {
      "model_module": "@jupyter-widgets/controls",
      "model_module_version": "1.5.0",
      "model_name": "VBoxModel",
      "state": {
       "children": [
        "IPY_MODEL_7a3f4cd276cb42e3985d2f33bcdac0d9",
        "IPY_MODEL_873046244df24d7d872486fa912a3d3c"
       ],
       "layout": "IPY_MODEL_d684c8616805464f84dac8102d3468d7"
      }
     },
     "3d8b9009ae3440f99782428e374836ad": {
      "model_module": "@jupyter-widgets/base",
      "model_module_version": "1.2.0",
      "model_name": "LayoutModel",
      "state": {}
     },
     "3fdbfea3c04645028665abcb6b858f94": {
      "model_module": "@jupyter-widgets/base",
      "model_module_version": "1.2.0",
      "model_name": "LayoutModel",
      "state": {
       "width": "200px"
      }
     },
     "3fedbfc1091b4212a848821b55d49bcc": {
      "model_module": "@jupyter-widgets/controls",
      "model_module_version": "1.5.0",
      "model_name": "VBoxModel",
      "state": {
       "children": [
        "IPY_MODEL_b1a8cd3bea7b4c04849c5229f140ecba",
        "IPY_MODEL_95d92f27eb7e406699d62a1624ff15d8"
       ],
       "layout": "IPY_MODEL_59d0284f76ce4cc885dc443370995cd3"
      }
     },
     "44dea5da8d63410c97ab3eae8bcb751b": {
      "model_module": "@jupyter-widgets/controls",
      "model_module_version": "1.5.0",
      "model_name": "HTMLModel",
      "state": {
       "layout": "IPY_MODEL_146263afec5f475c8ef4471a5115edd3",
       "style": "IPY_MODEL_501be4d7d43f4444afc29ec61ed4dc43",
       "value": "<h3>Matrix exceeds the maximum shape</h3>"
      }
     },
     "4583f886e98f490ba68fffc84fab102b": {
      "model_module": "@jupyter-widgets/base",
      "model_module_version": "1.2.0",
      "model_name": "LayoutModel",
      "state": {
       "width": "200px"
      }
     },
     "494c0f9780b4471f88ab4795a7b28e08": {
      "model_module": "@jupyter-widgets/base",
      "model_module_version": "1.2.0",
      "model_name": "LayoutModel",
      "state": {
       "width": "200px"
      }
     },
     "498090892e944be1a74983399897853e": {
      "model_module": "@jupyter-widgets/controls",
      "model_module_version": "1.5.0",
      "model_name": "VBoxModel",
      "state": {
       "children": [
        "IPY_MODEL_710969d7487b425b90c1dda5b956adb9",
        "IPY_MODEL_8353c351704246f0a2323e8bdc05ed51"
       ],
       "layout": "IPY_MODEL_dc713071747d477188456052bf80d404"
      }
     },
     "49a96276b2bf45b3807bde7bd4e99938": {
      "model_module": "@jupyter-widgets/base",
      "model_module_version": "1.2.0",
      "model_name": "LayoutModel",
      "state": {}
     },
     "4b83f62aaa6d4adb8c31ee0ee19d6660": {
      "model_module": "@jupyter-widgets/controls",
      "model_module_version": "1.5.0",
      "model_name": "VBoxModel",
      "state": {
       "children": [
        "IPY_MODEL_8baa15497d6948a78f7b9bdb49c4e6f3",
        "IPY_MODEL_1d8eb637d1e64447bfe794c331789aab"
       ],
       "layout": "IPY_MODEL_029ede16d44c4436bed236c98b953789"
      }
     },
     "4c1ad16f10774ac79b22c1ec59aabafe": {
      "model_module": "@jupyter-widgets/controls",
      "model_module_version": "1.5.0",
      "model_name": "VBoxModel",
      "state": {
       "children": [
        "IPY_MODEL_85e2febb448b45d5b15bff9eba25dbc4",
        "IPY_MODEL_aed00d8c6beb4673a56b532fb8ef0460"
       ],
       "layout": "IPY_MODEL_153bf3c9e59646b0ace5172254905293"
      }
     },
     "4f604e95f7f944e3ac050b87da246c7b": {
      "model_module": "@jupyter-widgets/base",
      "model_module_version": "1.2.0",
      "model_name": "LayoutModel",
      "state": {
       "grid_area": "center"
      }
     },
     "501be4d7d43f4444afc29ec61ed4dc43": {
      "model_module": "@jupyter-widgets/controls",
      "model_module_version": "1.5.0",
      "model_name": "DescriptionStyleModel",
      "state": {
       "description_width": ""
      }
     },
     "50b3c17e9aea4063844333ad6720b75d": {
      "model_module": "@jupyter-widgets/base",
      "model_module_version": "1.2.0",
      "model_name": "LayoutModel",
      "state": {}
     },
     "5251ca5957d74e22af3cf3a48c182486": {
      "model_module": "@jupyter-widgets/base",
      "model_module_version": "1.2.0",
      "model_name": "LayoutModel",
      "state": {}
     },
     "52795ac7e8884bee9f3bb5cc8ef204ac": {
      "model_module": "@jupyter-widgets/controls",
      "model_module_version": "1.5.0",
      "model_name": "TabModel",
      "state": {
       "_titles": {
        "0": "Matrix"
       },
       "children": [
        "IPY_MODEL_b04c82a406de41078d54a6662b8a5b55"
       ],
       "layout": "IPY_MODEL_4f604e95f7f944e3ac050b87da246c7b"
      }
     },
     "59d0284f76ce4cc885dc443370995cd3": {
      "model_module": "@jupyter-widgets/base",
      "model_module_version": "1.2.0",
      "model_name": "LayoutModel",
      "state": {}
     },
     "5af595e51c8b4b16bd895f03931f95e5": {
      "model_module": "@jupyter-widgets/controls",
      "model_module_version": "1.5.0",
      "model_name": "GridBoxModel",
      "state": {
       "children": [
        "IPY_MODEL_a3e81791731449b8aa8586588747cc99",
        "IPY_MODEL_52795ac7e8884bee9f3bb5cc8ef204ac"
       ],
       "layout": "IPY_MODEL_2762ea3bcd00431c96e1927b357dccb0"
      }
     },
     "5ba2da97c5484579a993d6c38614eabf": {
      "model_module": "@jupyter-widgets/base",
      "model_module_version": "1.2.0",
      "model_name": "LayoutModel",
      "state": {}
     },
     "5efda149d078475298e14659b7f98c69": {
      "model_module": "@jupyter-widgets/controls",
      "model_module_version": "1.5.0",
      "model_name": "LabelModel",
      "state": {
       "layout": "IPY_MODEL_98ff02f8060e48cca2828ed4f144c802",
       "style": "IPY_MODEL_9330489c1aa440ff9c0e82fe00846dd9",
       "value": "Term to analyze:"
      }
     },
     "63f6f3ebc01a46f88f35552b00553f95": {
      "model_module": "@jupyter-widgets/controls",
      "model_module_version": "1.5.0",
      "model_name": "DescriptionStyleModel",
      "state": {
       "description_width": ""
      }
     },
     "65f41a4a2fb54514b5fde0b79cd6a0cb": {
      "model_module": "@jupyter-widgets/base",
      "model_module_version": "1.2.0",
      "model_name": "LayoutModel",
      "state": {
       "grid_area": "header"
      }
     },
     "66a47081c8ca4bb0bef3db6f3f289012": {
      "model_module": "@jupyter-widgets/controls",
      "model_module_version": "1.5.0",
      "model_name": "DescriptionStyleModel",
      "state": {
       "description_width": ""
      }
     },
     "68a76d00d80f42ab81550da3dc852a59": {
      "model_module": "@jupyter-widgets/controls",
      "model_module_version": "1.5.0",
      "model_name": "DescriptionStyleModel",
      "state": {
       "description_width": ""
      }
     },
     "6c4b3e6d9ad64aa0b44b6b8b5c923538": {
      "model_module": "@jupyter-widgets/base",
      "model_module_version": "1.2.0",
      "model_name": "LayoutModel",
      "state": {
       "width": "200px"
      }
     },
     "6c7aa16bb9ad470fb755c72399689586": {
      "model_module": "@jupyter-widgets/base",
      "model_module_version": "1.2.0",
      "model_name": "LayoutModel",
      "state": {
       "width": "200px"
      }
     },
     "70a815a5b5f8400bb2d4ca2535adea0d": {
      "model_module": "@jupyter-widgets/controls",
      "model_module_version": "1.5.0",
      "model_name": "DescriptionStyleModel",
      "state": {
       "description_width": ""
      }
     },
     "710969d7487b425b90c1dda5b956adb9": {
      "model_module": "@jupyter-widgets/controls",
      "model_module_version": "1.5.0",
      "model_name": "LabelModel",
      "state": {
       "layout": "IPY_MODEL_7d2cf8555d504b19933bbe1869b43a86",
       "style": "IPY_MODEL_8d03e02dd5374cfcb5d2f3e12ec2adcd",
       "value": "Matrix colormap:"
      }
     },
     "7a3f4cd276cb42e3985d2f33bcdac0d9": {
      "model_module": "@jupyter-widgets/controls",
      "model_module_version": "1.5.0",
      "model_name": "LabelModel",
      "state": {
       "layout": "IPY_MODEL_d15b7a14882c46ccbbca086648a280ee",
       "style": "IPY_MODEL_c53f79cf16f34352ab43d1e2c0cca8d2",
       "value": "Sort order:"
      }
     },
     "7d2cf8555d504b19933bbe1869b43a86": {
      "model_module": "@jupyter-widgets/base",
      "model_module_version": "1.2.0",
      "model_name": "LayoutModel",
      "state": {}
     },
     "8353c351704246f0a2323e8bdc05ed51": {
      "model_module": "@jupyter-widgets/controls",
      "model_module_version": "1.5.0",
      "model_name": "DropdownModel",
      "state": {
       "_options_labels": [
        "Greys",
        "Purples",
        "Blues",
        "Greens",
        "Oranges",
        "Reds",
        "YlOrBr",
        "YlOrRd",
        "OrRd",
        "PuRd",
        "RdPu",
        "BuPu",
        "GnBu",
        "PuBu",
        "YlGnBu",
        "PuBuGn",
        "BuGn",
        "YlGn",
        "Pastel1",
        "Pastel2",
        "Paired",
        "Accent",
        "Dark2",
        "Set1",
        "Set2",
        "Set3",
        "tab10",
        "tab20",
        "tab20b",
        "tab20c"
       ],
       "index": 0,
       "layout": "IPY_MODEL_e6b16abfbd9548f6a6cc0b1dedad3549",
       "style": "IPY_MODEL_68a76d00d80f42ab81550da3dc852a59"
      }
     },
     "85e2febb448b45d5b15bff9eba25dbc4": {
      "model_module": "@jupyter-widgets/controls",
      "model_module_version": "1.5.0",
      "model_name": "LabelModel",
      "state": {
       "layout": "IPY_MODEL_defb1b20f95449b6822044653e7f0146",
       "style": "IPY_MODEL_fa4acdf334b54c11934a16844c918bab",
       "value": "By Term:"
      }
     },
     "86a3a8030b4b492486a742ea6034b1a6": {
      "model_module": "@jupyter-widgets/controls",
      "model_module_version": "1.5.0",
      "model_name": "DropdownModel",
      "state": {
       "_options_labels": [
        "Author Keywords",
        "Authors",
        "Countries",
        "Country 1st",
        "Index Keywords",
        "Institution 1st",
        "Institutions",
        "Keywords",
        "Source title"
       ],
       "index": 0,
       "layout": "IPY_MODEL_3fdbfea3c04645028665abcb6b858f94",
       "style": "IPY_MODEL_e9b51a77028c4dd69988d4bc7c692b0f"
      }
     },
     "873046244df24d7d872486fa912a3d3c": {
      "model_module": "@jupyter-widgets/controls",
      "model_module_version": "1.5.0",
      "model_name": "DropdownModel",
      "state": {
       "_options_labels": [
        "Alphabetic asc.",
        "Alphabetic desc.",
        "Frequency/Cited by asc.",
        "Frequency/Cited by desc."
       ],
       "index": 0,
       "layout": "IPY_MODEL_185324d546d4431dacb6169c63269912",
       "style": "IPY_MODEL_fe5c23dc98484faf952c0486af256c62"
      }
     },
     "8822eaecb5094677ba259f67d97227a2": {
      "model_module": "@jupyter-widgets/base",
      "model_module_version": "1.2.0",
      "model_name": "LayoutModel",
      "state": {}
     },
     "896e4c5abf8744bc92faaac028b9a22c": {
      "model_module": "@jupyter-widgets/base",
      "model_module_version": "1.2.0",
      "model_name": "LayoutModel",
      "state": {}
     },
     "8a1fc50777304fcbac5b12977b3db805": {
      "model_module": "@jupyter-widgets/controls",
      "model_module_version": "1.5.0",
      "model_name": "DescriptionStyleModel",
      "state": {
       "description_width": ""
      }
     },
     "8baa15497d6948a78f7b9bdb49c4e6f3": {
      "model_module": "@jupyter-widgets/controls",
      "model_module_version": "1.5.0",
      "model_name": "LabelModel",
      "state": {
       "layout": "IPY_MODEL_5ba2da97c5484579a993d6c38614eabf",
       "style": "IPY_MODEL_e1d021c8bb6b407a84b4b4f36dc03888",
       "value": "Min link value:"
      }
     },
     "8d03e02dd5374cfcb5d2f3e12ec2adcd": {
      "model_module": "@jupyter-widgets/controls",
      "model_module_version": "1.5.0",
      "model_name": "DescriptionStyleModel",
      "state": {
       "description_width": ""
      }
     },
     "8f8527e4ce65443c9c18f87f9b80b6ed": {
      "model_module": "@jupyter-widgets/controls",
      "model_module_version": "1.5.0",
      "model_name": "DescriptionStyleModel",
      "state": {
       "description_width": ""
      }
     },
     "90c1b9aac0d54ac0b6a141982ce96230": {
      "model_module": "@jupyter-widgets/controls",
      "model_module_version": "1.5.0",
      "model_name": "DescriptionStyleModel",
      "state": {
       "description_width": ""
      }
     },
     "9330489c1aa440ff9c0e82fe00846dd9": {
      "model_module": "@jupyter-widgets/controls",
      "model_module_version": "1.5.0",
      "model_name": "DescriptionStyleModel",
      "state": {
       "description_width": ""
      }
     },
     "95d92f27eb7e406699d62a1624ff15d8": {
      "model_module": "@jupyter-widgets/controls",
      "model_module_version": "1.5.0",
      "model_name": "DropdownModel",
      "state": {
       "_options_labels": [
        "pearson",
        "kendall",
        "spearman"
       ],
       "index": 0,
       "layout": "IPY_MODEL_1556515035d245aeb08fe774497c34ea",
       "style": "IPY_MODEL_66a47081c8ca4bb0bef3db6f3f289012"
      }
     },
     "98982010ceb64f02bc35aaad44d0526c": {
      "model_module": "@jupyter-widgets/base",
      "model_module_version": "1.2.0",
      "model_name": "LayoutModel",
      "state": {}
     },
     "98ff02f8060e48cca2828ed4f144c802": {
      "model_module": "@jupyter-widgets/base",
      "model_module_version": "1.2.0",
      "model_name": "LayoutModel",
      "state": {}
     },
     "a144f2a2980945b195857685ee9973f0": {
      "model_module": "@jupyter-widgets/base",
      "model_module_version": "1.2.0",
      "model_name": "LayoutModel",
      "state": {}
     },
     "a3e81791731449b8aa8586588747cc99": {
      "model_module": "@jupyter-widgets/controls",
      "model_module_version": "1.5.0",
      "model_name": "HTMLModel",
      "state": {
       "layout": "IPY_MODEL_65f41a4a2fb54514b5fde0b79cd6a0cb",
       "style": "IPY_MODEL_8a1fc50777304fcbac5b12977b3db805",
       "value": "<h1>Correlation Analysis</h1><hr style='height:2px;border-width:0;color:gray;background-color:gray'>"
      }
     },
     "a70e28258ba54c6ba3cc4547f2e8394a": {
      "model_module": "@jupyter-widgets/controls",
      "model_module_version": "1.5.0",
      "model_name": "VBoxModel",
      "state": {
       "children": [
        "IPY_MODEL_ea7039e629f74da0b3536b4b107e2277",
        "IPY_MODEL_c8f879edabd946929323b5e73949815a"
       ],
       "layout": "IPY_MODEL_cab1e4900ec34873af6e6eb0848d3a33"
      }
     },
     "adb1f5df0b2d4e24b9ed12aa5fbe69ac": {
      "model_module": "@jupyter-widgets/output",
      "model_module_version": "1.0.0",
      "model_name": "OutputModel",
      "state": {
       "layout": "IPY_MODEL_49a96276b2bf45b3807bde7bd4e99938",
       "outputs": [
        {
         "data": {
          "application/vnd.jupyter.widget-view+json": {
           "model_id": "",
           "version_major": 2,
           "version_minor": 0
          },
          "text/plain": "HTML(value='<h3>Matrix exceeds the maximum shape</h3>')"
         },
         "metadata": {},
         "output_type": "display_data"
        }
       ]
      }
     },
     "aed00d8c6beb4673a56b532fb8ef0460": {
      "model_module": "@jupyter-widgets/controls",
      "model_module_version": "1.5.0",
      "model_name": "DropdownModel",
      "state": {
       "_options_labels": [
        "Author Keywords",
        "Authors",
        "Countries",
        "Country 1st",
        "Index Keywords",
        "Institution 1st",
        "Institutions",
        "Keywords",
        "Source title"
       ],
       "index": 0,
       "layout": "IPY_MODEL_6c7aa16bb9ad470fb755c72399689586",
       "style": "IPY_MODEL_b76f6d202e9d426ea48f6d3d9956e1a8"
      }
     },
     "b04c82a406de41078d54a6662b8a5b55": {
      "model_module": "@jupyter-widgets/controls",
      "model_module_version": "1.5.0",
      "model_name": "HBoxModel",
      "state": {
       "children": [
        "IPY_MODEL_c77ebfd9ba294e4098aea02157b4e948",
        "IPY_MODEL_b8ad7d5baf914ebab5a6c98a4d3c49ed"
       ],
       "layout": "IPY_MODEL_fc3e415a6a9e4422b092e79e6292f64e"
      }
     },
     "b0b4046fd61d4298b10b4c3f4f69c8e8": {
      "model_module": "@jupyter-widgets/controls",
      "model_module_version": "1.5.0",
      "model_name": "DropdownModel",
      "state": {
       "_options_labels": [
        "Frequency",
        "Cited by"
       ],
       "index": 0,
       "layout": "IPY_MODEL_494c0f9780b4471f88ab4795a7b28e08",
       "style": "IPY_MODEL_8f8527e4ce65443c9c18f87f9b80b6ed"
      }
     },
     "b1a8cd3bea7b4c04849c5229f140ecba": {
      "model_module": "@jupyter-widgets/controls",
      "model_module_version": "1.5.0",
      "model_name": "LabelModel",
      "state": {
       "layout": "IPY_MODEL_50b3c17e9aea4063844333ad6720b75d",
       "style": "IPY_MODEL_1de2dad6e1c8429d9b520f787a52db77",
       "value": "Method:"
      }
     },
     "b1fbaaf39d90494c9f04e8c8fbc61534": {
      "model_module": "@jupyter-widgets/base",
      "model_module_version": "1.2.0",
      "model_name": "LayoutModel",
      "state": {
       "width": "200px"
      }
     },
     "b76f6d202e9d426ea48f6d3d9956e1a8": {
      "model_module": "@jupyter-widgets/controls",
      "model_module_version": "1.5.0",
      "model_name": "DescriptionStyleModel",
      "state": {
       "description_width": ""
      }
     },
     "b81c909b32d742568ce1eddb3d68096b": {
      "model_module": "@jupyter-widgets/base",
      "model_module_version": "1.2.0",
      "model_name": "LayoutModel",
      "state": {
       "width": "870px"
      }
     },
     "b8ad7d5baf914ebab5a6c98a4d3c49ed": {
      "model_module": "@jupyter-widgets/controls",
      "model_module_version": "1.5.0",
      "model_name": "VBoxModel",
      "state": {
       "children": [
        "IPY_MODEL_bf2b852ef3ac45c791f63ba60bbaa3c3"
       ],
       "layout": "IPY_MODEL_b81c909b32d742568ce1eddb3d68096b"
      }
     },
     "ba3a80ae1c5e4f92a6560254bc8b5311": {
      "model_module": "@jupyter-widgets/controls",
      "model_module_version": "1.5.0",
      "model_name": "DescriptionStyleModel",
      "state": {
       "description_width": ""
      }
     },
     "bd069244e897432abd2db286309aac20": {
      "model_module": "@jupyter-widgets/base",
      "model_module_version": "1.2.0",
      "model_name": "LayoutModel",
      "state": {
       "border": "1px solid gray",
       "height": "650px"
      }
     },
     "bd34027781854b908c03e7de3728684e": {
      "model_module": "@jupyter-widgets/base",
      "model_module_version": "1.2.0",
      "model_name": "LayoutModel",
      "state": {}
     },
     "bf2b852ef3ac45c791f63ba60bbaa3c3": {
      "model_module": "@jupyter-widgets/output",
      "model_module_version": "1.0.0",
      "model_name": "OutputModel",
      "state": {
       "layout": "IPY_MODEL_896e4c5abf8744bc92faaac028b9a22c",
       "outputs": [
        {
         "data": {
          "image/png": "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\n",
          "text/plain": "<Figure size 720x720 with 1 Axes>"
         },
         "metadata": {},
         "output_type": "display_data"
        }
       ]
      }
     },
     "c53f79cf16f34352ab43d1e2c0cca8d2": {
      "model_module": "@jupyter-widgets/controls",
      "model_module_version": "1.5.0",
      "model_name": "DescriptionStyleModel",
      "state": {
       "description_width": ""
      }
     },
     "c77ebfd9ba294e4098aea02157b4e948": {
      "model_module": "@jupyter-widgets/controls",
      "model_module_version": "1.5.0",
      "model_name": "VBoxModel",
      "state": {
       "children": [
        "IPY_MODEL_e87846b9fee548b68269ddcd26b2aa63",
        "IPY_MODEL_4c1ad16f10774ac79b22c1ec59aabafe",
        "IPY_MODEL_3fedbfc1091b4212a848821b55d49bcc",
        "IPY_MODEL_e69f2d1ac6c34b43ad265d7f19b76fc1",
        "IPY_MODEL_a70e28258ba54c6ba3cc4547f2e8394a",
        "IPY_MODEL_4b83f62aaa6d4adb8c31ee0ee19d6660",
        "IPY_MODEL_0dff689ae85d4431859c3de07837dbbd",
        "IPY_MODEL_498090892e944be1a74983399897853e",
        "IPY_MODEL_379c3cd798ec488d9dbd2dcb209a8f33"
       ],
       "layout": "IPY_MODEL_bd069244e897432abd2db286309aac20"
      }
     },
     "c8f879edabd946929323b5e73949815a": {
      "model_module": "@jupyter-widgets/controls",
      "model_module_version": "1.5.0",
      "model_name": "DropdownModel",
      "state": {
       "_options_labels": [
        "1 [2135]",
        "2 [311]",
        "3 [122]",
        "4 [70]",
        "5 [51]",
        "6 [34]",
        "7 [23]",
        "8 [20]",
        "9 [13]",
        "12 [12]",
        "13 [10]",
        "15 [9]",
        "17 [8]",
        "22 [7]",
        "25 [6]",
        "28 [5]",
        "36 [4]",
        "58 [3]",
        "87 [2]",
        "95 [1]"
       ],
       "index": 7,
       "layout": "IPY_MODEL_b1fbaaf39d90494c9f04e8c8fbc61534",
       "style": "IPY_MODEL_f4a77c63ab494ba6b9b0d7ca1c7b74d2"
      }
     },
     "c9c2c9f27f934ec394863de148c4b6e2": {
      "model_module": "@jupyter-widgets/controls",
      "model_module_version": "1.5.0",
      "model_name": "DescriptionStyleModel",
      "state": {
       "description_width": ""
      }
     },
     "cab1e4900ec34873af6e6eb0848d3a33": {
      "model_module": "@jupyter-widgets/base",
      "model_module_version": "1.2.0",
      "model_name": "LayoutModel",
      "state": {}
     },
     "d15b7a14882c46ccbbca086648a280ee": {
      "model_module": "@jupyter-widgets/base",
      "model_module_version": "1.2.0",
      "model_name": "LayoutModel",
      "state": {}
     },
     "d684c8616805464f84dac8102d3468d7": {
      "model_module": "@jupyter-widgets/base",
      "model_module_version": "1.2.0",
      "model_name": "LayoutModel",
      "state": {}
     },
     "dc713071747d477188456052bf80d404": {
      "model_module": "@jupyter-widgets/base",
      "model_module_version": "1.2.0",
      "model_name": "LayoutModel",
      "state": {}
     },
     "defb1b20f95449b6822044653e7f0146": {
      "model_module": "@jupyter-widgets/base",
      "model_module_version": "1.2.0",
      "model_name": "LayoutModel",
      "state": {}
     },
     "e1d021c8bb6b407a84b4b4f36dc03888": {
      "model_module": "@jupyter-widgets/controls",
      "model_module_version": "1.5.0",
      "model_name": "DescriptionStyleModel",
      "state": {
       "description_width": ""
      }
     },
     "e69f2d1ac6c34b43ad265d7f19b76fc1": {
      "model_module": "@jupyter-widgets/controls",
      "model_module_version": "1.5.0",
      "model_name": "VBoxModel",
      "state": {
       "children": [
        "IPY_MODEL_34acdc56c28a434788ad04530d6bcfd9",
        "IPY_MODEL_b0b4046fd61d4298b10b4c3f4f69c8e8"
       ],
       "layout": "IPY_MODEL_a144f2a2980945b195857685ee9973f0"
      }
     },
     "e6b16abfbd9548f6a6cc0b1dedad3549": {
      "model_module": "@jupyter-widgets/base",
      "model_module_version": "1.2.0",
      "model_name": "LayoutModel",
      "state": {
       "width": "200px"
      }
     },
     "e80a526f27074f0cb0eb5b50193a7f05": {
      "model_module": "@jupyter-widgets/controls",
      "model_module_version": "1.5.0",
      "model_name": "DescriptionStyleModel",
      "state": {
       "description_width": ""
      }
     },
     "e87846b9fee548b68269ddcd26b2aa63": {
      "model_module": "@jupyter-widgets/controls",
      "model_module_version": "1.5.0",
      "model_name": "VBoxModel",
      "state": {
       "children": [
        "IPY_MODEL_5efda149d078475298e14659b7f98c69",
        "IPY_MODEL_86a3a8030b4b492486a742ea6034b1a6"
       ],
       "layout": "IPY_MODEL_3d8b9009ae3440f99782428e374836ad"
      }
     },
     "e9b51a77028c4dd69988d4bc7c692b0f": {
      "model_module": "@jupyter-widgets/controls",
      "model_module_version": "1.5.0",
      "model_name": "DescriptionStyleModel",
      "state": {
       "description_width": ""
      }
     },
     "ea7039e629f74da0b3536b4b107e2277": {
      "model_module": "@jupyter-widgets/controls",
      "model_module_version": "1.5.0",
      "model_name": "LabelModel",
      "state": {
       "layout": "IPY_MODEL_37791ac0631e4047a8f80170c7346465",
       "style": "IPY_MODEL_e80a526f27074f0cb0eb5b50193a7f05",
       "value": "Filter value:"
      }
     },
     "f4a77c63ab494ba6b9b0d7ca1c7b74d2": {
      "model_module": "@jupyter-widgets/controls",
      "model_module_version": "1.5.0",
      "model_name": "DescriptionStyleModel",
      "state": {
       "description_width": ""
      }
     },
     "fa4acdf334b54c11934a16844c918bab": {
      "model_module": "@jupyter-widgets/controls",
      "model_module_version": "1.5.0",
      "model_name": "DescriptionStyleModel",
      "state": {
       "description_width": ""
      }
     },
     "fc3e415a6a9e4422b092e79e6292f64e": {
      "model_module": "@jupyter-widgets/base",
      "model_module_version": "1.2.0",
      "model_name": "LayoutModel",
      "state": {}
     },
     "fe5c23dc98484faf952c0486af256c62": {
      "model_module": "@jupyter-widgets/controls",
      "model_module_version": "1.5.0",
      "model_name": "DescriptionStyleModel",
      "state": {
       "description_width": ""
      }
     }
    },
    "version_major": 2,
    "version_minor": 0
   }
  }
 },
 "nbformat": 4,
 "nbformat_minor": 4
}
