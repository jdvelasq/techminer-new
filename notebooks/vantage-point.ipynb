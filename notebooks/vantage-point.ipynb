{
 "cells": [
  {
   "cell_type": "code",
   "execution_count": 1,
   "metadata": {},
   "outputs": [
    {
     "name": "stderr",
     "output_type": "stream",
     "text": [
      "2020-06-04 16:53:47,324 - INFO - Renaming and selecting columns ...\n",
      "2020-06-04 16:53:53,011 - INFO - Formatting author names ...\n",
      "2020-06-04 16:53:53,015 - INFO - Disambiguating author names ...\n",
      "2020-06-04 16:53:53,074 - INFO - Removing part of titles in foreing languages ...\n",
      "2020-06-04 16:53:53,077 - INFO - Fusioning author and index keywords ...\n",
      "2020-06-04 16:53:53,090 - INFO - NumExpr defaulting to 8 threads.\n",
      "2020-06-04 16:53:53,105 - INFO - Extracting countries from affiliations ...\n",
      "2020-06-04 16:53:59,229 - INFO - Extracting institutions from affiliations ...\n",
      "2020-06-04 16:53:59,239 - INFO - Extracting country of 1st author ...\n",
      "2020-06-04 16:53:59,243 - INFO - Extracting affiliation of 1st author ...\n",
      "2020-06-04 16:53:59,247 - INFO - Counting number of authors ...\n"
     ]
    }
   ],
   "source": [
    "import pandas as pd\n",
    "\n",
    "import techminer.data as data\n",
    "\n",
    "filepath = \"../data/papers/urban-agriculture.csv\"\n",
    "df = pd.read_csv(filepath)\n",
    "df = data.load_scopus(df)"
   ]
  },
  {
   "cell_type": "code",
   "execution_count": null,
   "metadata": {},
   "outputs": [],
   "source": [
    "data.coverage(df)"
   ]
  },
  {
   "cell_type": "markdown",
   "metadata": {},
   "source": [
    "### Keywords"
   ]
  },
  {
   "cell_type": "code",
   "execution_count": null,
   "metadata": {},
   "outputs": [],
   "source": []
  },
  {
   "cell_type": "code",
   "execution_count": null,
   "metadata": {},
   "outputs": [],
   "source": []
  },
  {
   "cell_type": "markdown",
   "metadata": {},
   "source": [
    "### FindString Dialog Box pag. 69"
   ]
  },
  {
   "cell_type": "code",
   "execution_count": null,
   "metadata": {},
   "outputs": [],
   "source": []
  },
  {
   "cell_type": "code",
   "execution_count": null,
   "metadata": {},
   "outputs": [],
   "source": []
  },
  {
   "cell_type": "markdown",
   "metadata": {},
   "source": [
    "### Cleaning a list pag. 102"
   ]
  },
  {
   "cell_type": "code",
   "execution_count": null,
   "metadata": {},
   "outputs": [],
   "source": []
  },
  {
   "cell_type": "code",
   "execution_count": null,
   "metadata": {},
   "outputs": [],
   "source": []
  },
  {
   "cell_type": "markdown",
   "metadata": {},
   "source": [
    "### Fuzzy match editor pag.126"
   ]
  },
  {
   "cell_type": "code",
   "execution_count": null,
   "metadata": {},
   "outputs": [],
   "source": []
  },
  {
   "cell_type": "code",
   "execution_count": null,
   "metadata": {},
   "outputs": [],
   "source": []
  },
  {
   "cell_type": "markdown",
   "metadata": {},
   "source": [
    "### Stemming And / Stemming Or"
   ]
  },
  {
   "cell_type": "code",
   "execution_count": null,
   "metadata": {},
   "outputs": [],
   "source": []
  },
  {
   "cell_type": "code",
   "execution_count": null,
   "metadata": {},
   "outputs": [],
   "source": []
  },
  {
   "cell_type": "markdown",
   "metadata": {},
   "source": [
    "### APPS"
   ]
  },
  {
   "cell_type": "code",
   "execution_count": 3,
   "metadata": {},
   "outputs": [
    {
     "data": {
      "application/vnd.jupyter.widget-view+json": {
       "model_id": "6400e8b989af4435b04fd1e4c00fe8b5",
       "version_major": 2,
       "version_minor": 0
      },
      "text/plain": [
       "AppLayout(children=(HTML(value=\"<h1>Summary by Year</h1><hr style='height:2px;border-width:0;color:gray;backgr…"
      ]
     },
     "metadata": {},
     "output_type": "display_data"
    }
   ],
   "source": [
    "import techminer.by_year as year\n",
    "year.app(df)"
   ]
  },
  {
   "cell_type": "code",
   "execution_count": 4,
   "metadata": {},
   "outputs": [
    {
     "data": {
      "application/vnd.jupyter.widget-view+json": {
       "model_id": "77da6f2515574a6a83830029fa598f13",
       "version_major": 2,
       "version_minor": 0
      },
      "text/plain": [
       "AppLayout(children=(HTML(value=\"<h1>Summary by Term</h1><hr style='height:2px;border-width:0;color:gray;backgr…"
      ]
     },
     "metadata": {},
     "output_type": "display_data"
    }
   ],
   "source": [
    "import techminer.by_term as term\n",
    "term.app(df)"
   ]
  },
  {
   "cell_type": "code",
   "execution_count": 5,
   "metadata": {},
   "outputs": [
    {
     "data": {
      "application/vnd.jupyter.widget-view+json": {
       "model_id": "c76c95db5f314facbbec2a3ca506f3c4",
       "version_major": 2,
       "version_minor": 0
      },
      "text/plain": [
       "AppLayout(children=(HTML(value=\"<h1>Summary by Term per Year</h1><hr style='height:2px;border-width:0;color:gr…"
      ]
     },
     "metadata": {},
     "output_type": "display_data"
    }
   ],
   "source": [
    "import techminer.by_term_per_year as term_year\n",
    "term_year.app(df)"
   ]
  },
  {
   "cell_type": "code",
   "execution_count": 6,
   "metadata": {},
   "outputs": [
    {
     "data": {
      "application/vnd.jupyter.widget-view+json": {
       "model_id": "80e30071472a4cf1b79ed847e799b0bd",
       "version_major": 2,
       "version_minor": 0
      },
      "text/plain": [
       "AppLayout(children=(HTML(value=\"<h1>Co-occurrence Analysis</h1><hr style='height:2px;border-width:0;color:gray…"
      ]
     },
     "metadata": {},
     "output_type": "display_data"
    }
   ],
   "source": [
    "import techminer.co_occurrence as co_occurrence\n",
    "co_occurrence.app(df)"
   ]
  },
  {
   "cell_type": "code",
   "execution_count": null,
   "metadata": {},
   "outputs": [],
   "source": []
  },
  {
   "cell_type": "code",
   "execution_count": null,
   "metadata": {},
   "outputs": [],
   "source": []
  },
  {
   "cell_type": "code",
   "execution_count": null,
   "metadata": {},
   "outputs": [],
   "source": []
  },
  {
   "cell_type": "code",
   "execution_count": null,
   "metadata": {},
   "outputs": [],
   "source": []
  },
  {
   "cell_type": "code",
   "execution_count": null,
   "metadata": {},
   "outputs": [],
   "source": []
  },
  {
   "cell_type": "code",
   "execution_count": null,
   "metadata": {},
   "outputs": [],
   "source": []
  },
  {
   "cell_type": "code",
   "execution_count": null,
   "metadata": {},
   "outputs": [],
   "source": [
    "import ipywidgets as widgets\n",
    "from ipywidgets import Layout, AppLayout"
   ]
  },
  {
   "cell_type": "code",
   "execution_count": null,
   "metadata": {},
   "outputs": [],
   "source": [
    "\n",
    "COLUMNS = [\n",
    "    \"Author Keywords\",\n",
    "    \"Authors\",\n",
    "    \"Countries\",\n",
    "    \"Country 1st\",\n",
    "    \"Document type\",\n",
    "    \"Index Keywords\",\n",
    "    \"Institution 1st\",\n",
    "    \"Institutions\",\n",
    "    \"Keywords\",\n",
    "    \"Source title\",\n",
    "]"
   ]
  },
  {
   "cell_type": "code",
   "execution_count": null,
   "metadata": {},
   "outputs": [],
   "source": [
    "FIGSIZE = (14, 10.0) ## Co-occurrente-analysis  <---- no tiene figura\n",
    "FIGSIZE = (14, 9.0)"
   ]
  },
  {
   "cell_type": "markdown",
   "metadata": {},
   "source": [
    "# NUEVA INTERFAZ"
   ]
  },
  {
   "cell_type": "code",
   "execution_count": null,
   "metadata": {},
   "outputs": [],
   "source": [
    "from techminer.summary_by_term_per_year import documents_by_term_per_year, citations_by_term_per_year"
   ]
  },
  {
   "cell_type": "code",
   "execution_count": null,
   "metadata": {},
   "outputs": [],
   "source": []
  },
  {
   "cell_type": "code",
   "execution_count": null,
   "metadata": {},
   "outputs": [],
   "source": [
    "import techminer.plots as plt\n",
    "from techminer.plots import COLORMAPS\n",
    "from techminer.summary_by_term import citations_by_term, documents_by_term\n",
    "\n",
    "WIDGET_WIDTH = \"200px\"\n",
    "LEFT_PANEL_HEIGHT = \"588px\"\n",
    "RIGHT_PANEL_WIDTH = \"870px\"\n",
    "FIGSIZE = (14, 10.0)\n",
    "PANE_HEIGHTS = [\"80px\", \"650px\", 0]\n",
    "\n",
    "COLUMNS = [\n",
    "    \"Author Keywords\",\n",
    "    \"Authors\",\n",
    "    \"Countries\",\n",
    "    \"Country 1st\",\n",
    "    \"Document type\",\n",
    "    \"Index Keywords\",\n",
    "    \"Institution 1st\",\n",
    "    \"Institutions\",\n",
    "    \"Keywords\",\n",
    "    \"Source title\",\n",
    "]\n",
    "\n"
   ]
  },
  {
   "cell_type": "code",
   "execution_count": null,
   "metadata": {},
   "outputs": [],
   "source": [
    "from techminer.correlation import corr\n",
    "\n",
    "\n",
    "def body_0(x):\n",
    "    #\n",
    "    def server(**kwargs):\n",
    "        #\n",
    "        # Logic\n",
    "        #\n",
    "        column = kwargs[\"term\"]\n",
    "        by = kwargs[\"by\"]\n",
    "        method = kwargs[\"method\"]\n",
    "        min_link_value = kwargs[\"min_link_value\"]\n",
    "        cmap = kwargs[\"cmap\"]\n",
    "        #\n",
    "        matrix = corr(\n",
    "                x,\n",
    "                column=column,\n",
    "                by=by,\n",
    "                method=method,\n",
    "                min_link_value=min_link_value,\n",
    "                cmap=cmap,\n",
    "                as_matrix=True,\n",
    "                filter_by=None,\n",
    "            )\n",
    "        #\n",
    "        output.clear_output()\n",
    "        with output:\n",
    "            if len(matrix.columns) < 51 and len(matrix.index) < 51:\n",
    "                display(matrix.style.background_gradient(cmap=cmap))\n",
    "            else:\n",
    "                display(matrix)\n",
    "                \n",
    "    #\n",
    "    # UI\n",
    "    #\n",
    "    controls = [\n",
    "        {\n",
    "            \"arg\": \"term\",\n",
    "            \"desc\": \"Term to analyze:\",\n",
    "            \"widget\": widgets.Select(\n",
    "                options=[z for z in COLUMNS if z in x.columns],\n",
    "                ensure_option=True,\n",
    "                disabled=False,\n",
    "                layout=Layout(width=WIDGET_WIDTH),\n",
    "            ),\n",
    "        },\n",
    "        {\n",
    "            \"arg\": \"by\",\n",
    "            \"desc\": \"By Term:\",\n",
    "            \"widget\": widgets.Select(\n",
    "                options=[z for z in COLUMNS if z in x.columns],\n",
    "                ensure_option=True,\n",
    "                disabled=False,\n",
    "                layout=Layout(width=WIDGET_WIDTH),\n",
    "            ),\n",
    "        },\n",
    "        {\n",
    "            \"arg\": \"method\",\n",
    "            \"desc\": \"Method:\",\n",
    "            \"widget\": widgets.Select(\n",
    "                options=['pearson', 'kendall', 'spearman'],\n",
    "                ensure_option=True,\n",
    "                disabled=False,\n",
    "                continuous_update=True,\n",
    "                layout=Layout(width=WIDGET_WIDTH),\n",
    "            ),\n",
    "        },\n",
    "        {\n",
    "            \"arg\": \"cmap\",\n",
    "            \"desc\": \"Colormap:\",\n",
    "            \"widget\": widgets.Dropdown(\n",
    "                options=COLORMAPS, disable=False, layout=Layout(width=WIDGET_WIDTH),\n",
    "            ),\n",
    "        },\n",
    "        {\n",
    "            \"arg\": \"min_link_value\",\n",
    "            \"desc\": \"Min link value:\",\n",
    "            \"widget\": widgets.FloatSlider(\n",
    "                value=-1,\n",
    "                min=-1,\n",
    "                max=1.0,\n",
    "                step=0.01,\n",
    "                disabled=False,\n",
    "                continuous_update=True,\n",
    "                orientation='horizontal',\n",
    "                readout=True,\n",
    "                readout_format='.1f',\n",
    "                layout=Layout(width=WIDGET_WIDTH),\n",
    "            ),\n",
    "        },                    \n",
    "        {\n",
    "            \"arg\": \"top_n\",\n",
    "            \"desc\": \"Top N:\",\n",
    "            \"widget\": widgets.IntSlider(\n",
    "                value=10,\n",
    "                min=10,\n",
    "                max=50,\n",
    "                step=1,\n",
    "                disabled=False,\n",
    "                continuous_update=False,\n",
    "                orientation=\"horizontal\",\n",
    "                readout=True,\n",
    "                readout_format=\"d\",\n",
    "                layout=Layout(width=WIDGET_WIDTH),\n",
    "            ),\n",
    "        },\n",
    "    ]\n",
    "    #\n",
    "    args = {control[\"arg\"]: control[\"widget\"] for control in controls}\n",
    "    output = widgets.Output()\n",
    "    with output:\n",
    "        display(widgets.interactive_output(server, args,))\n",
    "    return widgets.HBox(\n",
    "        [\n",
    "            widgets.VBox(\n",
    "                [\n",
    "                    widgets.VBox(\n",
    "                        [widgets.Label(value=control[\"desc\"]), control[\"widget\"]]\n",
    "                    )\n",
    "                    for control in controls\n",
    "                ],\n",
    "                layout=Layout(height=LEFT_PANEL_HEIGHT, border=\"1px solid gray\"),\n",
    "            ),\n",
    "            widgets.VBox([output], layout=Layout(width=RIGHT_PANEL_WIDTH)),\n",
    "        ]\n",
    "    )\n",
    "\n",
    "\n",
    "def app(df):\n",
    "    #\n",
    "    body = widgets.Tab()\n",
    "    body.children = [body_0(df)]\n",
    "    body.set_title(0, \"Matrix\")\n",
    "    #\n",
    "    return AppLayout(\n",
    "        header=widgets.HTML(\n",
    "            value=\"<h1>{}</h1><hr style='height:2px;border-width:0;color:gray;background-color:gray'>\".format(\n",
    "                \"Correlation Analysis\"\n",
    "            )\n",
    "        ),\n",
    "        center=body,\n",
    "        pane_heights=PANE_HEIGHTS,\n",
    "    )\n",
    "\n",
    "\n",
    "#####\n",
    "app(df)"
   ]
  },
  {
   "cell_type": "code",
   "execution_count": null,
   "metadata": {},
   "outputs": [],
   "source": []
  },
  {
   "cell_type": "code",
   "execution_count": null,
   "metadata": {},
   "outputs": [],
   "source": []
  },
  {
   "cell_type": "code",
   "execution_count": null,
   "metadata": {},
   "outputs": [],
   "source": []
  },
  {
   "cell_type": "code",
   "execution_count": null,
   "metadata": {},
   "outputs": [],
   "source": []
  },
  {
   "cell_type": "code",
   "execution_count": null,
   "metadata": {},
   "outputs": [],
   "source": []
  }
 ],
 "metadata": {
  "kernelspec": {
   "display_name": "Python 3",
   "language": "python",
   "name": "python3"
  },
  "language_info": {
   "codemirror_mode": {
    "name": "ipython",
    "version": 3
   },
   "file_extension": ".py",
   "mimetype": "text/x-python",
   "name": "python",
   "nbconvert_exporter": "python",
   "pygments_lexer": "ipython3",
   "version": "3.6.9"
  },
  "widgets": {
   "application/vnd.jupyter.widget-state+json": {
    "state": {
     "0093c0158d52497ba68cf154bc6eb9a6": {
      "model_module": "@jupyter-widgets/controls",
      "model_module_version": "1.5.0",
      "model_name": "DescriptionStyleModel",
      "state": {
       "description_width": ""
      }
     },
     "009496d1272343c9a3a694c14997edfe": {
      "model_module": "@jupyter-widgets/controls",
      "model_module_version": "1.5.0",
      "model_name": "HTMLModel",
      "state": {
       "layout": "IPY_MODEL_c094bdd5e35b443ebcd5c155d2c83149",
       "style": "IPY_MODEL_88c3ecb0ec3947929298027cb2b56e32",
       "value": "<h1>Summary by Year</h1><hr style='height:2px;border-width:0;color:gray;background-color:gray'>"
      }
     },
     "01d93a4a6e4943d18683e2978fb367ae": {
      "model_module": "@jupyter-widgets/base",
      "model_module_version": "1.2.0",
      "model_name": "LayoutModel",
      "state": {}
     },
     "03335bbf5cb9465ea1d11734ff741dd2": {
      "model_module": "@jupyter-widgets/controls",
      "model_module_version": "1.5.0",
      "model_name": "HBoxModel",
      "state": {
       "children": [
        "IPY_MODEL_94e4ebfb90934efd955d70abdfdd1c38",
        "IPY_MODEL_196d07db8b0446d8a164dd97bb3ab95c"
       ],
       "layout": "IPY_MODEL_8a43c1d30a6b467095f12edfe4ab0ccf"
      }
     },
     "0444f89b3a1c4662a57f38bd39b1cd7c": {
      "model_module": "@jupyter-widgets/controls",
      "model_module_version": "1.5.0",
      "model_name": "LabelModel",
      "state": {
       "layout": "IPY_MODEL_654ffb2f928c4704b7e617e07cc43b3c",
       "style": "IPY_MODEL_09a467605c7f4de682fbd64aff99080b",
       "value": "Colormap:"
      }
     },
     "0544ebf89306412fac3e032f5d2f909c": {
      "model_module": "@jupyter-widgets/base",
      "model_module_version": "1.2.0",
      "model_name": "LayoutModel",
      "state": {}
     },
     "05d82d163edd4a34ae487452dff08ca1": {
      "model_module": "@jupyter-widgets/controls",
      "model_module_version": "1.5.0",
      "model_name": "IntSliderModel",
      "state": {
       "continuous_update": false,
       "layout": "IPY_MODEL_ec99384ecdad421994f4094f876143e0",
       "max": 50,
       "min": 10,
       "style": "IPY_MODEL_0e94c62582844ff5ae6cdc529ab88021",
       "value": 15
      }
     },
     "0680ef69b8ea4e4db1083aca002f805e": {
      "model_module": "@jupyter-widgets/controls",
      "model_module_version": "1.5.0",
      "model_name": "TabModel",
      "state": {
       "_titles": {
        "0": "Term Analysis",
        "1": "Worldmap"
       },
       "children": [
        "IPY_MODEL_03335bbf5cb9465ea1d11734ff741dd2",
        "IPY_MODEL_6fdb380937954bf5a43739c56a74108b"
       ],
       "layout": "IPY_MODEL_ab86cd9897494730946ec23724c6e568"
      }
     },
     "06fb4718ce2341258a7909835827cf28": {
      "model_module": "@jupyter-widgets/base",
      "model_module_version": "1.2.0",
      "model_name": "LayoutModel",
      "state": {
       "grid_template_areas": "\"header header header\"\n\"center center center\"",
       "grid_template_columns": "1fr 2fr 1fr",
       "grid_template_rows": "80px 650px"
      }
     },
     "0914a07f595e41b48e633804e33cd441": {
      "model_module": "@jupyter-widgets/base",
      "model_module_version": "1.2.0",
      "model_name": "LayoutModel",
      "state": {}
     },
     "09a467605c7f4de682fbd64aff99080b": {
      "model_module": "@jupyter-widgets/controls",
      "model_module_version": "1.5.0",
      "model_name": "DescriptionStyleModel",
      "state": {
       "description_width": ""
      }
     },
     "0a29134a57f64b0782356e031671c0a3": {
      "model_module": "@jupyter-widgets/controls",
      "model_module_version": "1.5.0",
      "model_name": "DescriptionStyleModel",
      "state": {
       "description_width": ""
      }
     },
     "0b8f66ff68c94225ae1b3b837805305e": {
      "model_module": "@jupyter-widgets/base",
      "model_module_version": "1.2.0",
      "model_name": "LayoutModel",
      "state": {}
     },
     "0e27e2421a8e45e1b0528c0be6827a96": {
      "model_module": "@jupyter-widgets/controls",
      "model_module_version": "1.5.0",
      "model_name": "LabelModel",
      "state": {
       "layout": "IPY_MODEL_90411b8726bb487581f638109805ab7d",
       "style": "IPY_MODEL_ba61d6a15024415e8b8ee9aa5d7dfd1f",
       "value": "Term to analyze:"
      }
     },
     "0e94c62582844ff5ae6cdc529ab88021": {
      "model_module": "@jupyter-widgets/controls",
      "model_module_version": "1.5.0",
      "model_name": "SliderStyleModel",
      "state": {
       "description_width": ""
      }
     },
     "0e99f73a4f5d47efa9f40876d8782daa": {
      "model_module": "@jupyter-widgets/controls",
      "model_module_version": "1.5.0",
      "model_name": "LabelModel",
      "state": {
       "layout": "IPY_MODEL_e9b1a35164d347d9b31009de5db85f5c",
       "style": "IPY_MODEL_c7b4dfddb17b47c8a1e28b60af418b85",
       "value": "Plot type:"
      }
     },
     "0eaf025436144e5db79bba2f97a3800d": {
      "model_module": "@jupyter-widgets/controls",
      "model_module_version": "1.5.0",
      "model_name": "DescriptionStyleModel",
      "state": {
       "description_width": ""
      }
     },
     "110f124dd84849a99870ef46104fcc06": {
      "model_module": "@jupyter-widgets/controls",
      "model_module_version": "1.5.0",
      "model_name": "VBoxModel",
      "state": {
       "children": [
        "IPY_MODEL_1637bd7d99cb4a038eb10e40269010ba",
        "IPY_MODEL_d685e27c4bd64269b89d26e4818c13ac"
       ],
       "layout": "IPY_MODEL_fd742dd258da440ca001a8ae5f172d00"
      }
     },
     "11a3f098be924e3ea261d18bd6aec1c1": {
      "model_module": "@jupyter-widgets/base",
      "model_module_version": "1.2.0",
      "model_name": "LayoutModel",
      "state": {
       "width": "200px"
      }
     },
     "11d8b0dcf0064ab7b8cc9c75010f816c": {
      "model_module": "@jupyter-widgets/controls",
      "model_module_version": "1.5.0",
      "model_name": "LabelModel",
      "state": {
       "layout": "IPY_MODEL_eaa8aa7dfb264221b5e72c58dde3f588",
       "style": "IPY_MODEL_40c6ef024c9e468394a87108d28a9f2f",
       "value": "Analysis type:"
      }
     },
     "131434df5dde44b39b3b0d93727931e6": {
      "model_module": "@jupyter-widgets/base",
      "model_module_version": "1.2.0",
      "model_name": "LayoutModel",
      "state": {}
     },
     "1549b179e0d948d6b2115a032c4e2634": {
      "model_module": "@jupyter-widgets/base",
      "model_module_version": "1.2.0",
      "model_name": "LayoutModel",
      "state": {
       "border": "1px solid gray",
       "height": "588px"
      }
     },
     "15fa33be04254a0ba83ba81ed34c843f": {
      "model_module": "@jupyter-widgets/controls",
      "model_module_version": "1.5.0",
      "model_name": "SliderStyleModel",
      "state": {
       "description_width": ""
      }
     },
     "1637bd7d99cb4a038eb10e40269010ba": {
      "model_module": "@jupyter-widgets/controls",
      "model_module_version": "1.5.0",
      "model_name": "LabelModel",
      "state": {
       "layout": "IPY_MODEL_804e5237bd1b4662a855eb89cb7ca096",
       "style": "IPY_MODEL_3d8b953b112641fab6172c99f9306a44",
       "value": "Analysis type:"
      }
     },
     "165a8880cbcb47c1beb8424eacb99098": {
      "model_module": "@jupyter-widgets/controls",
      "model_module_version": "1.5.0",
      "model_name": "DescriptionStyleModel",
      "state": {
       "description_width": ""
      }
     },
     "1770073e82f848a7a6106a6afdc95690": {
      "model_module": "@jupyter-widgets/base",
      "model_module_version": "1.2.0",
      "model_name": "LayoutModel",
      "state": {}
     },
     "17b42155a74c4c68a5554b5e4256ec87": {
      "model_module": "@jupyter-widgets/controls",
      "model_module_version": "1.5.0",
      "model_name": "VBoxModel",
      "state": {
       "children": [
        "IPY_MODEL_0e27e2421a8e45e1b0528c0be6827a96",
        "IPY_MODEL_4268864d84bb4e9c9722df0c71a8e267"
       ],
       "layout": "IPY_MODEL_47b4e0d7973b4bc9b08c59c0ed57d2a2"
      }
     },
     "181c6a79e6a9474bbbcfdeea2b35dbac": {
      "model_module": "@jupyter-widgets/controls",
      "model_module_version": "1.5.0",
      "model_name": "DescriptionStyleModel",
      "state": {
       "description_width": ""
      }
     },
     "18b7136c26584330802738575c134347": {
      "model_module": "@jupyter-widgets/base",
      "model_module_version": "1.2.0",
      "model_name": "LayoutModel",
      "state": {}
     },
     "196d07db8b0446d8a164dd97bb3ab95c": {
      "model_module": "@jupyter-widgets/controls",
      "model_module_version": "1.5.0",
      "model_name": "VBoxModel",
      "state": {
       "children": [
        "IPY_MODEL_1f4d8f0bd3884eac822875d62d39ceec"
       ],
       "layout": "IPY_MODEL_ffbddea715d141a9852be35a646b3624"
      }
     },
     "1a3c6f440009418f8663e16773479400": {
      "model_module": "@jupyter-widgets/controls",
      "model_module_version": "1.5.0",
      "model_name": "LabelModel",
      "state": {
       "layout": "IPY_MODEL_7de39d5c76424936a0f7b61a1678d488",
       "style": "IPY_MODEL_bb2deca20e154bb29e0004c4626f6a4f",
       "value": "Colormap:"
      }
     },
     "1b3d6089f89b46f9893de5a291e20f98": {
      "model_module": "@jupyter-widgets/controls",
      "model_module_version": "1.5.0",
      "model_name": "VBoxModel",
      "state": {
       "children": [
        "IPY_MODEL_5fa25a58e363440ea9dceedfcb7e7967"
       ],
       "layout": "IPY_MODEL_910644bc08f449e2b59cff93ca6d7aed"
      }
     },
     "1c0d63415c244b5e88d1a5700b09ca0c": {
      "model_module": "@jupyter-widgets/base",
      "model_module_version": "1.2.0",
      "model_name": "LayoutModel",
      "state": {
       "width": "200px"
      }
     },
     "1c25504f6d0b49f8a17a4f91e715e131": {
      "model_module": "@jupyter-widgets/base",
      "model_module_version": "1.2.0",
      "model_name": "LayoutModel",
      "state": {
       "width": "200px"
      }
     },
     "1c8abeb67b7743b7bcbda4bc05a4e71b": {
      "model_module": "@jupyter-widgets/controls",
      "model_module_version": "1.5.0",
      "model_name": "LabelModel",
      "state": {
       "layout": "IPY_MODEL_c0ad85ad9a834c69b3bf5a114856b66d",
       "style": "IPY_MODEL_49e32291a9964218b07772f7fff8e251",
       "value": "By Term:"
      }
     },
     "1d0e3ab6eb7345cfa0207534c17c052e": {
      "model_module": "@jupyter-widgets/controls",
      "model_module_version": "1.5.0",
      "model_name": "VBoxModel",
      "state": {
       "children": [
        "IPY_MODEL_491360971d344791b36e82d94f3dde2c",
        "IPY_MODEL_5a325355a0b84b2eb43817705ac3e548",
        "IPY_MODEL_64be416e0089468790b549e31507bbbe",
        "IPY_MODEL_7c4e91006f38487da6e00b97b7ec5699"
       ],
       "layout": "IPY_MODEL_1549b179e0d948d6b2115a032c4e2634"
      }
     },
     "1d1da8e6260442d2bb17bb1fe16fb314": {
      "model_module": "@jupyter-widgets/controls",
      "model_module_version": "1.5.0",
      "model_name": "HTMLModel",
      "state": {
       "layout": "IPY_MODEL_546e495dac1e4393960a1cd092db7e09",
       "style": "IPY_MODEL_ec384474e2dc4ed18f1df3f1c965a08a",
       "value": "<h1>Summary by Term per Year</h1><hr style='height:2px;border-width:0;color:gray;background-color:gray'>"
      }
     },
     "1ecadec0e7c34c0cbfefdcaf66ed9d38": {
      "model_module": "@jupyter-widgets/controls",
      "model_module_version": "1.5.0",
      "model_name": "DescriptionStyleModel",
      "state": {
       "description_width": ""
      }
     },
     "1ee52f299ea54a5ba4955d2c0fb3e7ce": {
      "model_module": "@jupyter-widgets/base",
      "model_module_version": "1.2.0",
      "model_name": "LayoutModel",
      "state": {}
     },
     "1ef9f1baf23f4011ad1dc617c3832742": {
      "model_module": "@jupyter-widgets/controls",
      "model_module_version": "1.5.0",
      "model_name": "VBoxModel",
      "state": {
       "children": [
        "IPY_MODEL_668e83b7863345e38c4b75f1913569e8",
        "IPY_MODEL_572e1e663fdd4e3a94b9fb0ff959c547",
        "IPY_MODEL_316755cfdc0146cb9c86cbd3d156dace"
       ],
       "layout": "IPY_MODEL_87850b64f1a5418b9e3483f3ff6dd341"
      }
     },
     "1f4d8f0bd3884eac822875d62d39ceec": {
      "model_module": "@jupyter-widgets/output",
      "model_module_version": "1.0.0",
      "model_name": "OutputModel",
      "state": {
       "layout": "IPY_MODEL_131434df5dde44b39b3b0d93727931e6",
       "outputs": [
        {
         "data": {
          "image/png": "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\n",
          "text/plain": "<Figure size 1008x590.4 with 1 Axes>"
         },
         "metadata": {},
         "output_type": "display_data"
        }
       ]
      }
     },
     "204d28c285fc4d51aa4f18c4e1a3711c": {
      "model_module": "@jupyter-widgets/base",
      "model_module_version": "1.2.0",
      "model_name": "LayoutModel",
      "state": {}
     },
     "20b5a491de0a403f8067657ba5a6f3e3": {
      "model_module": "@jupyter-widgets/controls",
      "model_module_version": "1.5.0",
      "model_name": "TabModel",
      "state": {
       "_titles": {
        "0": "Time Analysis"
       },
       "children": [
        "IPY_MODEL_6ef3f1c1287f4abe85ac46d77e0eefea"
       ],
       "layout": "IPY_MODEL_dda79c33eeb14524b5084d4c7712944f"
      }
     },
     "21f0d66dc6924a8a992ad0e5a31dd7b1": {
      "model_module": "@jupyter-widgets/base",
      "model_module_version": "1.2.0",
      "model_name": "LayoutModel",
      "state": {}
     },
     "233bcc545fc14ea5832de669783dcc53": {
      "model_module": "@jupyter-widgets/base",
      "model_module_version": "1.2.0",
      "model_name": "LayoutModel",
      "state": {
       "width": "200px"
      }
     },
     "2403929b8a384d178bf357d6b9cc4bbe": {
      "model_module": "@jupyter-widgets/controls",
      "model_module_version": "1.5.0",
      "model_name": "DescriptionStyleModel",
      "state": {
       "description_width": ""
      }
     },
     "2503013cc4724c56917b89c3c2467602": {
      "model_module": "@jupyter-widgets/base",
      "model_module_version": "1.2.0",
      "model_name": "LayoutModel",
      "state": {}
     },
     "254a9631bd964a6f8d28672c0829d62d": {
      "model_module": "@jupyter-widgets/base",
      "model_module_version": "1.2.0",
      "model_name": "LayoutModel",
      "state": {}
     },
     "274fc413386a4a4e925fa4c519f239f2": {
      "model_module": "@jupyter-widgets/controls",
      "model_module_version": "1.5.0",
      "model_name": "LabelModel",
      "state": {
       "layout": "IPY_MODEL_21f0d66dc6924a8a992ad0e5a31dd7b1",
       "style": "IPY_MODEL_181c6a79e6a9474bbbcfdeea2b35dbac",
       "value": "Term to analyze:"
      }
     },
     "280a2d08c5be4439902fe49a80ce13b8": {
      "model_module": "@jupyter-widgets/controls",
      "model_module_version": "1.5.0",
      "model_name": "DropdownModel",
      "state": {
       "_options_labels": [
        "Greys",
        "Purples",
        "Blues",
        "Greens",
        "Oranges",
        "Reds",
        "YlOrBr",
        "YlOrRd",
        "OrRd",
        "PuRd",
        "RdPu",
        "BuPu",
        "GnBu",
        "PuBu",
        "YlGnBu",
        "PuBuGn",
        "BuGn",
        "YlGn",
        "Pastel1",
        "Pastel2",
        "Paired",
        "Accent",
        "Dark2",
        "Set1",
        "Set2",
        "Set3",
        "tab10",
        "tab20",
        "tab20b",
        "tab20c"
       ],
       "index": 0,
       "layout": "IPY_MODEL_bb6b4f9e726e484fbf41b9e27d6394cf",
       "style": "IPY_MODEL_1ecadec0e7c34c0cbfefdcaf66ed9d38"
      }
     },
     "2a1a1af148b742308c4c228cb576f30f": {
      "model_module": "@jupyter-widgets/base",
      "model_module_version": "1.2.0",
      "model_name": "LayoutModel",
      "state": {
       "border": "1px solid gray",
       "height": "588px"
      }
     },
     "2cb4876ed06b43c5b0dc9922a5c0be9e": {
      "model_module": "@jupyter-widgets/base",
      "model_module_version": "1.2.0",
      "model_name": "LayoutModel",
      "state": {}
     },
     "2ce7eb88954a41f1828602d8918ce2bf": {
      "model_module": "@jupyter-widgets/controls",
      "model_module_version": "1.5.0",
      "model_name": "LabelModel",
      "state": {
       "layout": "IPY_MODEL_839bfe6b0f4e4bc2a39951b65e12d1e7",
       "style": "IPY_MODEL_ee42b4fce45f4e1e89f7d9a9656929f0",
       "value": "Top N:"
      }
     },
     "306f62c7d0a546e2ade9d333620eff5d": {
      "model_module": "@jupyter-widgets/controls",
      "model_module_version": "1.5.0",
      "model_name": "HBoxModel",
      "state": {
       "children": [
        "IPY_MODEL_95e0a7f919b84636906092a48f77f4c8",
        "IPY_MODEL_8854d7df86dd4fb0b8be3c3ed3bbb208"
       ],
       "layout": "IPY_MODEL_fe4f4f4f5d3340cfb6b47897989f44fa"
      }
     },
     "308f22031f4642f4bcd2e46ed700ce4b": {
      "model_module": "@jupyter-widgets/output",
      "model_module_version": "1.0.0",
      "model_name": "OutputModel",
      "state": {
       "layout": "IPY_MODEL_5c379de636b64f26b412682fbb47c7e6"
      }
     },
     "30ef047b4f9b41e28d26ee37a66830d2": {
      "model_module": "@jupyter-widgets/controls",
      "model_module_version": "1.5.0",
      "model_name": "DescriptionStyleModel",
      "state": {
       "description_width": ""
      }
     },
     "31001d5c9c3e49a1a81c9035eef2b0b7": {
      "model_module": "@jupyter-widgets/controls",
      "model_module_version": "1.5.0",
      "model_name": "HTMLModel",
      "state": {
       "layout": "IPY_MODEL_f561d7c79e3d41398cdd2d5c13619ff3",
       "style": "IPY_MODEL_e84c05799e384ef28678132c438075c4",
       "value": "<h1>Summary by Term</h1><hr style='height:2px;border-width:0;color:gray;background-color:gray'>"
      }
     },
     "31500b1337304caf98c9e98ab427dbe9": {
      "model_module": "@jupyter-widgets/controls",
      "model_module_version": "1.5.0",
      "model_name": "HBoxModel",
      "state": {
       "children": [
        "IPY_MODEL_1d0e3ab6eb7345cfa0207534c17c052e",
        "IPY_MODEL_6867e68b5cba4b61aaf4e4fe7abd8037"
       ],
       "layout": "IPY_MODEL_f8b8a345911242f18e0c7456988e8caa"
      }
     },
     "316755cfdc0146cb9c86cbd3d156dace": {
      "model_module": "@jupyter-widgets/controls",
      "model_module_version": "1.5.0",
      "model_name": "VBoxModel",
      "state": {
       "children": [
        "IPY_MODEL_80cb41368fed4fb38a947dee1f1577f8",
        "IPY_MODEL_da46e64db31f46b9b3fd8220fe78fb77"
       ],
       "layout": "IPY_MODEL_e71d70fe1864410fa2d724dea6c08a62"
      }
     },
     "32f909cbd4e54ad1b148d49bdf54f734": {
      "model_module": "@jupyter-widgets/controls",
      "model_module_version": "1.5.0",
      "model_name": "DescriptionStyleModel",
      "state": {
       "description_width": ""
      }
     },
     "33c961fdf33f4f51ba5ed90fe5cc695b": {
      "model_module": "@jupyter-widgets/base",
      "model_module_version": "1.2.0",
      "model_name": "LayoutModel",
      "state": {
       "width": "870px"
      }
     },
     "343d48163b1d4fec960f806962a5af16": {
      "model_module": "@jupyter-widgets/controls",
      "model_module_version": "1.5.0",
      "model_name": "DescriptionStyleModel",
      "state": {
       "description_width": ""
      }
     },
     "373f72c6c4494017ab92053bdfda3417": {
      "model_module": "@jupyter-widgets/controls",
      "model_module_version": "1.5.0",
      "model_name": "DescriptionStyleModel",
      "state": {
       "description_width": ""
      }
     },
     "375f6121610347508548a30e07365a1e": {
      "model_module": "@jupyter-widgets/base",
      "model_module_version": "1.2.0",
      "model_name": "LayoutModel",
      "state": {
       "width": "200px"
      }
     },
     "38ff90e46ba04abeb8e1dfd461f1f4ba": {
      "model_module": "@jupyter-widgets/controls",
      "model_module_version": "1.5.0",
      "model_name": "LabelModel",
      "state": {
       "layout": "IPY_MODEL_982d27ea79f5465b90ce877b97332517",
       "style": "IPY_MODEL_4d72e4595d7b4625974ac05183af980c",
       "value": "Term to analyze:"
      }
     },
     "3a1002bb76e8495bbc02c5c24d15a20b": {
      "model_module": "@jupyter-widgets/output",
      "model_module_version": "1.0.0",
      "model_name": "OutputModel",
      "state": {
       "layout": "IPY_MODEL_db00bf4f3f2047fba7d9fa5c93f69ed0",
       "outputs": [
        {
         "data": {
          "text/html": "<div>\n<style scoped>\n    .dataframe tbody tr th:only-of-type {\n        vertical-align: middle;\n    }\n\n    .dataframe tbody tr th {\n        vertical-align: top;\n    }\n\n    .dataframe thead th {\n        text-align: right;\n    }\n</style>\n<table border=\"1\" class=\"dataframe\">\n  <thead>\n    <tr style=\"text-align: right;\">\n      <th></th>\n      <th>AKIS</th>\n      <th>Acceptance</th>\n      <th>Access to nature</th>\n      <th>Accra, Ghana</th>\n      <th>Accra-Ghana</th>\n      <th>Action research system development</th>\n      <th>Activism</th>\n      <th>Adaptation process</th>\n      <th>Adaptation strategies</th>\n      <th>Adaptive re-use of buildings</th>\n      <th>...</th>\n      <th>vertical farming</th>\n      <th>water</th>\n      <th>yards</th>\n      <th>yield advantage</th>\n      <th>yoga</th>\n      <th>youth activism</th>\n      <th>β-carotene</th>\n      <th>‘Differentiation’</th>\n      <th>‘Diversification’</th>\n      <th>‘Low-cost specialization’</th>\n    </tr>\n  </thead>\n  <tbody>\n    <tr>\n      <th>AKIS</th>\n      <td>1</td>\n      <td>0</td>\n      <td>0</td>\n      <td>0</td>\n      <td>0</td>\n      <td>0</td>\n      <td>0</td>\n      <td>0</td>\n      <td>0</td>\n      <td>0</td>\n      <td>...</td>\n      <td>0</td>\n      <td>0</td>\n      <td>0</td>\n      <td>0</td>\n      <td>0</td>\n      <td>0</td>\n      <td>0</td>\n      <td>0</td>\n      <td>0</td>\n      <td>0</td>\n    </tr>\n    <tr>\n      <th>Acceptance</th>\n      <td>0</td>\n      <td>2</td>\n      <td>0</td>\n      <td>0</td>\n      <td>0</td>\n      <td>0</td>\n      <td>0</td>\n      <td>0</td>\n      <td>0</td>\n      <td>0</td>\n      <td>...</td>\n      <td>0</td>\n      <td>0</td>\n      <td>0</td>\n      <td>0</td>\n      <td>0</td>\n      <td>0</td>\n      <td>0</td>\n      <td>0</td>\n      <td>0</td>\n      <td>0</td>\n    </tr>\n    <tr>\n      <th>Access to nature</th>\n      <td>0</td>\n      <td>0</td>\n      <td>1</td>\n      <td>0</td>\n      <td>0</td>\n      <td>0</td>\n      <td>0</td>\n      <td>0</td>\n      <td>0</td>\n      <td>0</td>\n      <td>...</td>\n      <td>0</td>\n      <td>0</td>\n      <td>0</td>\n      <td>0</td>\n      <td>0</td>\n      <td>0</td>\n      <td>0</td>\n      <td>0</td>\n      <td>0</td>\n      <td>0</td>\n    </tr>\n    <tr>\n      <th>Accra, Ghana</th>\n      <td>0</td>\n      <td>0</td>\n      <td>0</td>\n      <td>1</td>\n      <td>0</td>\n      <td>0</td>\n      <td>0</td>\n      <td>0</td>\n      <td>0</td>\n      <td>0</td>\n      <td>...</td>\n      <td>0</td>\n      <td>0</td>\n      <td>0</td>\n      <td>0</td>\n      <td>0</td>\n      <td>0</td>\n      <td>0</td>\n      <td>0</td>\n      <td>0</td>\n      <td>0</td>\n    </tr>\n    <tr>\n      <th>Accra-Ghana</th>\n      <td>0</td>\n      <td>0</td>\n      <td>0</td>\n      <td>0</td>\n      <td>1</td>\n      <td>0</td>\n      <td>0</td>\n      <td>0</td>\n      <td>0</td>\n      <td>0</td>\n      <td>...</td>\n      <td>0</td>\n      <td>0</td>\n      <td>0</td>\n      <td>0</td>\n      <td>0</td>\n      <td>0</td>\n      <td>0</td>\n      <td>0</td>\n      <td>0</td>\n      <td>0</td>\n    </tr>\n    <tr>\n      <th>...</th>\n      <td>...</td>\n      <td>...</td>\n      <td>...</td>\n      <td>...</td>\n      <td>...</td>\n      <td>...</td>\n      <td>...</td>\n      <td>...</td>\n      <td>...</td>\n      <td>...</td>\n      <td>...</td>\n      <td>...</td>\n      <td>...</td>\n      <td>...</td>\n      <td>...</td>\n      <td>...</td>\n      <td>...</td>\n      <td>...</td>\n      <td>...</td>\n      <td>...</td>\n      <td>...</td>\n    </tr>\n    <tr>\n      <th>youth activism</th>\n      <td>0</td>\n      <td>0</td>\n      <td>0</td>\n      <td>0</td>\n      <td>0</td>\n      <td>0</td>\n      <td>0</td>\n      <td>0</td>\n      <td>0</td>\n      <td>0</td>\n      <td>...</td>\n      <td>0</td>\n      <td>0</td>\n      <td>0</td>\n      <td>0</td>\n      <td>0</td>\n      <td>1</td>\n      <td>0</td>\n      <td>0</td>\n      <td>0</td>\n      <td>0</td>\n    </tr>\n    <tr>\n      <th>β-carotene</th>\n      <td>0</td>\n      <td>0</td>\n      <td>0</td>\n      <td>0</td>\n      <td>0</td>\n      <td>0</td>\n      <td>0</td>\n      <td>0</td>\n      <td>0</td>\n      <td>0</td>\n      <td>...</td>\n      <td>0</td>\n      <td>0</td>\n      <td>0</td>\n      <td>0</td>\n      <td>0</td>\n      <td>0</td>\n      <td>1</td>\n      <td>0</td>\n      <td>0</td>\n      <td>0</td>\n    </tr>\n    <tr>\n      <th>‘Differentiation’</th>\n      <td>0</td>\n      <td>0</td>\n      <td>0</td>\n      <td>0</td>\n      <td>0</td>\n      <td>0</td>\n      <td>0</td>\n      <td>0</td>\n      <td>0</td>\n      <td>0</td>\n      <td>...</td>\n      <td>0</td>\n      <td>0</td>\n      <td>0</td>\n      <td>0</td>\n      <td>0</td>\n      <td>0</td>\n      <td>0</td>\n      <td>1</td>\n      <td>1</td>\n      <td>1</td>\n    </tr>\n    <tr>\n      <th>‘Diversification’</th>\n      <td>0</td>\n      <td>0</td>\n      <td>0</td>\n      <td>0</td>\n      <td>0</td>\n      <td>0</td>\n      <td>0</td>\n      <td>0</td>\n      <td>0</td>\n      <td>0</td>\n      <td>...</td>\n      <td>0</td>\n      <td>0</td>\n      <td>0</td>\n      <td>0</td>\n      <td>0</td>\n      <td>0</td>\n      <td>0</td>\n      <td>1</td>\n      <td>1</td>\n      <td>1</td>\n    </tr>\n    <tr>\n      <th>‘Low-cost specialization’</th>\n      <td>0</td>\n      <td>0</td>\n      <td>0</td>\n      <td>0</td>\n      <td>0</td>\n      <td>0</td>\n      <td>0</td>\n      <td>0</td>\n      <td>0</td>\n      <td>0</td>\n      <td>...</td>\n      <td>0</td>\n      <td>0</td>\n      <td>0</td>\n      <td>0</td>\n      <td>0</td>\n      <td>0</td>\n      <td>0</td>\n      <td>1</td>\n      <td>1</td>\n      <td>1</td>\n    </tr>\n  </tbody>\n</table>\n<p>1561 rows × 1561 columns</p>\n</div>",
          "text/plain": "                           AKIS  Acceptance  Access to nature  Accra, Ghana  \\\nAKIS                          1           0                 0             0   \nAcceptance                    0           2                 0             0   \nAccess to nature              0           0                 1             0   \nAccra, Ghana                  0           0                 0             1   \nAccra-Ghana                   0           0                 0             0   \n...                         ...         ...               ...           ...   \nyouth activism                0           0                 0             0   \nβ-carotene                    0           0                 0             0   \n‘Differentiation’             0           0                 0             0   \n‘Diversification’             0           0                 0             0   \n‘Low-cost specialization’     0           0                 0             0   \n\n                           Accra-Ghana  Action research system development  \\\nAKIS                                 0                                   0   \nAcceptance                           0                                   0   \nAccess to nature                     0                                   0   \nAccra, Ghana                         0                                   0   \nAccra-Ghana                          1                                   0   \n...                                ...                                 ...   \nyouth activism                       0                                   0   \nβ-carotene                           0                                   0   \n‘Differentiation’                    0                                   0   \n‘Diversification’                    0                                   0   \n‘Low-cost specialization’            0                                   0   \n\n                           Activism  Adaptation process  \\\nAKIS                              0                   0   \nAcceptance                        0                   0   \nAccess to nature                  0                   0   \nAccra, Ghana                      0                   0   \nAccra-Ghana                       0                   0   \n...                             ...                 ...   \nyouth activism                    0                   0   \nβ-carotene                        0                   0   \n‘Differentiation’                 0                   0   \n‘Diversification’                 0                   0   \n‘Low-cost specialization’         0                   0   \n\n                           Adaptation strategies  \\\nAKIS                                           0   \nAcceptance                                     0   \nAccess to nature                               0   \nAccra, Ghana                                   0   \nAccra-Ghana                                    0   \n...                                          ...   \nyouth activism                                 0   \nβ-carotene                                     0   \n‘Differentiation’                              0   \n‘Diversification’                              0   \n‘Low-cost specialization’                      0   \n\n                           Adaptive re-use of buildings  ...  \\\nAKIS                                                  0  ...   \nAcceptance                                            0  ...   \nAccess to nature                                      0  ...   \nAccra, Ghana                                          0  ...   \nAccra-Ghana                                           0  ...   \n...                                                 ...  ...   \nyouth activism                                        0  ...   \nβ-carotene                                            0  ...   \n‘Differentiation’                                     0  ...   \n‘Diversification’                                     0  ...   \n‘Low-cost specialization’                             0  ...   \n\n                           vertical farming  water  yards  yield advantage  \\\nAKIS                                      0      0      0                0   \nAcceptance                                0      0      0                0   \nAccess to nature                          0      0      0                0   \nAccra, Ghana                              0      0      0                0   \nAccra-Ghana                               0      0      0                0   \n...                                     ...    ...    ...              ...   \nyouth activism                            0      0      0                0   \nβ-carotene                                0      0      0                0   \n‘Differentiation’                         0      0      0                0   \n‘Diversification’                         0      0      0                0   \n‘Low-cost specialization’                 0      0      0                0   \n\n                           yoga  youth activism  β-carotene  \\\nAKIS                          0               0           0   \nAcceptance                    0               0           0   \nAccess to nature              0               0           0   \nAccra, Ghana                  0               0           0   \nAccra-Ghana                   0               0           0   \n...                         ...             ...         ...   \nyouth activism                0               1           0   \nβ-carotene                    0               0           1   \n‘Differentiation’             0               0           0   \n‘Diversification’             0               0           0   \n‘Low-cost specialization’     0               0           0   \n\n                           ‘Differentiation’  ‘Diversification’  \\\nAKIS                                       0                  0   \nAcceptance                                 0                  0   \nAccess to nature                           0                  0   \nAccra, Ghana                               0                  0   \nAccra-Ghana                                0                  0   \n...                                      ...                ...   \nyouth activism                             0                  0   \nβ-carotene                                 0                  0   \n‘Differentiation’                          1                  1   \n‘Diversification’                          1                  1   \n‘Low-cost specialization’                  1                  1   \n\n                           ‘Low-cost specialization’  \nAKIS                                               0  \nAcceptance                                         0  \nAccess to nature                                   0  \nAccra, Ghana                                       0  \nAccra-Ghana                                        0  \n...                                              ...  \nyouth activism                                     0  \nβ-carotene                                         0  \n‘Differentiation’                                  1  \n‘Diversification’                                  1  \n‘Low-cost specialization’                          1  \n\n[1561 rows x 1561 columns]"
         },
         "metadata": {},
         "output_type": "display_data"
        }
       ]
      }
     },
     "3ae81f12f2304dbea577549d3c302a81": {
      "model_module": "@jupyter-widgets/controls",
      "model_module_version": "1.5.0",
      "model_name": "DropdownModel",
      "state": {
       "_options_labels": [
        "Documents by Year",
        "Cum. Documents by Year",
        "Times Cited by Year",
        "Cum. Times Cited by Year",
        "Avg. Times Cited by Year"
       ],
       "index": 0,
       "layout": "IPY_MODEL_1c0d63415c244b5e88d1a5700b09ca0c",
       "style": "IPY_MODEL_e0ccde045e054c3f922b920d0a953819"
      }
     },
     "3ca369564477432db6004745d501527e": {
      "model_module": "@jupyter-widgets/base",
      "model_module_version": "1.2.0",
      "model_name": "LayoutModel",
      "state": {
       "width": "200px"
      }
     },
     "3d1f9820411b4f628a6dfa0c3557ec2d": {
      "model_module": "@jupyter-widgets/controls",
      "model_module_version": "1.5.0",
      "model_name": "VBoxModel",
      "state": {
       "children": [
        "IPY_MODEL_430ef1b6f1e24246af79dc7fa13f0660",
        "IPY_MODEL_280a2d08c5be4439902fe49a80ce13b8"
       ],
       "layout": "IPY_MODEL_8799d5e6d5884e1f9d6d4dda7b85d99f"
      }
     },
     "3d8b953b112641fab6172c99f9306a44": {
      "model_module": "@jupyter-widgets/controls",
      "model_module_version": "1.5.0",
      "model_name": "DescriptionStyleModel",
      "state": {
       "description_width": ""
      }
     },
     "3eabda3faa5e41619aded6ae52f46802": {
      "model_module": "@jupyter-widgets/controls",
      "model_module_version": "1.5.0",
      "model_name": "VBoxModel",
      "state": {
       "children": [
        "IPY_MODEL_11d8b0dcf0064ab7b8cc9c75010f816c",
        "IPY_MODEL_e84db7985ada407797910ecee91bcacd"
       ],
       "layout": "IPY_MODEL_eb1904d5e0c241dea84de1738307e3d4"
      }
     },
     "40c6ef024c9e468394a87108d28a9f2f": {
      "model_module": "@jupyter-widgets/controls",
      "model_module_version": "1.5.0",
      "model_name": "DescriptionStyleModel",
      "state": {
       "description_width": ""
      }
     },
     "40e765295ca24b4cb8b4af40e3a801f7": {
      "model_module": "@jupyter-widgets/base",
      "model_module_version": "1.2.0",
      "model_name": "LayoutModel",
      "state": {
       "grid_area": "header"
      }
     },
     "4268864d84bb4e9c9722df0c71a8e267": {
      "model_module": "@jupyter-widgets/controls",
      "model_module_version": "1.5.0",
      "model_name": "SelectModel",
      "state": {
       "_options_labels": [
        "Countries",
        "Country 1st"
       ],
       "index": 0,
       "layout": "IPY_MODEL_c6f4742d1aa0420e96e9f7d73f591c10",
       "style": "IPY_MODEL_929e160518fb427ebf1422d91184ac31"
      }
     },
     "42dfd067edac43ba8cc4074debea9c24": {
      "model_module": "@jupyter-widgets/base",
      "model_module_version": "1.2.0",
      "model_name": "LayoutModel",
      "state": {}
     },
     "430ef1b6f1e24246af79dc7fa13f0660": {
      "model_module": "@jupyter-widgets/controls",
      "model_module_version": "1.5.0",
      "model_name": "LabelModel",
      "state": {
       "layout": "IPY_MODEL_a0f060e4671544c6b47e40591a4673cd",
       "style": "IPY_MODEL_0093c0158d52497ba68cf154bc6eb9a6",
       "value": "Colormap:"
      }
     },
     "43a75c1e50514701ac98d8d655ec2b8a": {
      "model_module": "@jupyter-widgets/controls",
      "model_module_version": "1.5.0",
      "model_name": "HTMLModel",
      "state": {
       "layout": "IPY_MODEL_6c9646c4189e4d62a047a7cd6f7019b3",
       "style": "IPY_MODEL_4689802900a14658a16397243b52e8b0",
       "value": "<h1>Co-occurrence Analysis</h1><hr style='height:2px;border-width:0;color:gray;background-color:gray'>"
      }
     },
     "43b5e71c05494133a0063088512d0b71": {
      "model_module": "@jupyter-widgets/base",
      "model_module_version": "1.2.0",
      "model_name": "LayoutModel",
      "state": {
       "width": "200px"
      }
     },
     "4689802900a14658a16397243b52e8b0": {
      "model_module": "@jupyter-widgets/controls",
      "model_module_version": "1.5.0",
      "model_name": "DescriptionStyleModel",
      "state": {
       "description_width": ""
      }
     },
     "4773c27a0da149e7a160e9b94d63a98b": {
      "model_module": "@jupyter-widgets/base",
      "model_module_version": "1.2.0",
      "model_name": "LayoutModel",
      "state": {}
     },
     "47b4e0d7973b4bc9b08c59c0ed57d2a2": {
      "model_module": "@jupyter-widgets/base",
      "model_module_version": "1.2.0",
      "model_name": "LayoutModel",
      "state": {}
     },
     "48091dfdcfcc4223b2b079ac164c2c01": {
      "model_module": "@jupyter-widgets/output",
      "model_module_version": "1.0.0",
      "model_name": "OutputModel",
      "state": {
       "layout": "IPY_MODEL_0544ebf89306412fac3e032f5d2f909c",
       "outputs": [
        {
         "data": {
          "image/png": "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\n",
          "text/plain": "<Figure size 1008x720 with 1 Axes>"
         },
         "metadata": {},
         "output_type": "display_data"
        }
       ]
      }
     },
     "491360971d344791b36e82d94f3dde2c": {
      "model_module": "@jupyter-widgets/controls",
      "model_module_version": "1.5.0",
      "model_name": "VBoxModel",
      "state": {
       "children": [
        "IPY_MODEL_274fc413386a4a4e925fa4c519f239f2",
        "IPY_MODEL_8c703d4716ad46d1bd59d6f0b0c842ea"
       ],
       "layout": "IPY_MODEL_85acee4c594247b9a8ecaf07c59b3519"
      }
     },
     "49435e487fcf45249f93ce0b4ae0ad75": {
      "model_module": "@jupyter-widgets/controls",
      "model_module_version": "1.5.0",
      "model_name": "DescriptionStyleModel",
      "state": {
       "description_width": ""
      }
     },
     "49e32291a9964218b07772f7fff8e251": {
      "model_module": "@jupyter-widgets/controls",
      "model_module_version": "1.5.0",
      "model_name": "DescriptionStyleModel",
      "state": {
       "description_width": ""
      }
     },
     "4cdf21c82db84ed0aecee3908f0b68a3": {
      "model_module": "@jupyter-widgets/controls",
      "model_module_version": "1.5.0",
      "model_name": "DescriptionStyleModel",
      "state": {
       "description_width": ""
      }
     },
     "4ce09dad90c94fabbdb9e0257b6500a3": {
      "model_module": "@jupyter-widgets/controls",
      "model_module_version": "1.5.0",
      "model_name": "VBoxModel",
      "state": {
       "children": [
        "IPY_MODEL_1a3c6f440009418f8663e16773479400",
        "IPY_MODEL_73147e823b71484cbb0e77de71149e90"
       ],
       "layout": "IPY_MODEL_8589467af6dd44e2b0d238964014273e"
      }
     },
     "4d72e4595d7b4625974ac05183af980c": {
      "model_module": "@jupyter-widgets/controls",
      "model_module_version": "1.5.0",
      "model_name": "DescriptionStyleModel",
      "state": {
       "description_width": ""
      }
     },
     "4f706b521c90440c81af88d4f51027ba": {
      "model_module": "@jupyter-widgets/controls",
      "model_module_version": "1.5.0",
      "model_name": "SelectModel",
      "state": {
       "_options_labels": [
        "Author Keywords",
        "Authors",
        "Countries",
        "Country 1st",
        "Index Keywords",
        "Institution 1st",
        "Institutions",
        "Keywords",
        "Source title"
       ],
       "index": 0,
       "layout": "IPY_MODEL_6e8674f27cd9457099f492ec40e8bad5",
       "style": "IPY_MODEL_32f909cbd4e54ad1b148d49bdf54f734"
      }
     },
     "4fe892032ed245df96ef784565222aa0": {
      "model_module": "@jupyter-widgets/controls",
      "model_module_version": "1.5.0",
      "model_name": "DescriptionStyleModel",
      "state": {
       "description_width": ""
      }
     },
     "512d872f32ba483b8ccdd280fe670f43": {
      "model_module": "@jupyter-widgets/controls",
      "model_module_version": "1.5.0",
      "model_name": "DescriptionStyleModel",
      "state": {
       "description_width": ""
      }
     },
     "51acb03b0ce048b98ab3316c1c1ab87d": {
      "model_module": "@jupyter-widgets/base",
      "model_module_version": "1.2.0",
      "model_name": "LayoutModel",
      "state": {}
     },
     "546e495dac1e4393960a1cd092db7e09": {
      "model_module": "@jupyter-widgets/base",
      "model_module_version": "1.2.0",
      "model_name": "LayoutModel",
      "state": {
       "grid_area": "header"
      }
     },
     "566909c36b3a49f39ae1ee3c4d7122c9": {
      "model_module": "@jupyter-widgets/base",
      "model_module_version": "1.2.0",
      "model_name": "LayoutModel",
      "state": {}
     },
     "572e1e663fdd4e3a94b9fb0ff959c547": {
      "model_module": "@jupyter-widgets/controls",
      "model_module_version": "1.5.0",
      "model_name": "VBoxModel",
      "state": {
       "children": [
        "IPY_MODEL_703fbf4c19cf419fa1f9e1ea6940f256",
        "IPY_MODEL_ac3594dd7df44549b2f7b3699b131668"
       ],
       "layout": "IPY_MODEL_8f39a312c1bf482c9d51d437ee519eb0"
      }
     },
     "5856a34983a74105b842892502429b3d": {
      "model_module": "@jupyter-widgets/base",
      "model_module_version": "1.2.0",
      "model_name": "LayoutModel",
      "state": {}
     },
     "58eca9de37234976865d15aeca1af02a": {
      "model_module": "@jupyter-widgets/base",
      "model_module_version": "1.2.0",
      "model_name": "LayoutModel",
      "state": {}
     },
     "5a325355a0b84b2eb43817705ac3e548": {
      "model_module": "@jupyter-widgets/controls",
      "model_module_version": "1.5.0",
      "model_name": "VBoxModel",
      "state": {
       "children": [
        "IPY_MODEL_1c8abeb67b7743b7bcbda4bc05a4e71b",
        "IPY_MODEL_70effb3718454b159c22af11fe08ca7c"
       ],
       "layout": "IPY_MODEL_8d3e419f7dd04c6886025eacf94293ed"
      }
     },
     "5ac7891c246d43198af4d3f2d44a38b6": {
      "model_module": "@jupyter-widgets/controls",
      "model_module_version": "1.5.0",
      "model_name": "LabelModel",
      "state": {
       "layout": "IPY_MODEL_a5b0b834812548d7be110b2efdbc1cab",
       "style": "IPY_MODEL_30ef047b4f9b41e28d26ee37a66830d2",
       "value": "Colormap:"
      }
     },
     "5afd3c898f804903ad8fac2a56dd4258": {
      "model_module": "@jupyter-widgets/controls",
      "model_module_version": "1.5.0",
      "model_name": "VBoxModel",
      "state": {
       "children": [
        "IPY_MODEL_f8e5963e04f448a8b36f3eb403de9295",
        "IPY_MODEL_7e624420a82e47d5ac2ae811415265df"
       ],
       "layout": "IPY_MODEL_f1a5bb7f12f84329ac8704c90417648d"
      }
     },
     "5b1d6bdebe4843dba373dd13c2cce39d": {
      "model_module": "@jupyter-widgets/controls",
      "model_module_version": "1.5.0",
      "model_name": "DescriptionStyleModel",
      "state": {
       "description_width": ""
      }
     },
     "5be4df84e3944e14a3cef144c4add647": {
      "model_module": "@jupyter-widgets/base",
      "model_module_version": "1.2.0",
      "model_name": "LayoutModel",
      "state": {}
     },
     "5c379de636b64f26b412682fbb47c7e6": {
      "model_module": "@jupyter-widgets/base",
      "model_module_version": "1.2.0",
      "model_name": "LayoutModel",
      "state": {}
     },
     "5c94a2b592f74791bc5f7d9031147e49": {
      "model_module": "@jupyter-widgets/controls",
      "model_module_version": "1.5.0",
      "model_name": "DropdownModel",
      "state": {
       "_options_labels": [
        "bar",
        "barh"
       ],
       "index": 0,
       "layout": "IPY_MODEL_3ca369564477432db6004745d501527e",
       "style": "IPY_MODEL_ae4b834e27694d80b4f795dda48a9b4c"
      }
     },
     "5e4e34553b7b424587e4a8643862369d": {
      "model_module": "@jupyter-widgets/output",
      "model_module_version": "1.0.0",
      "model_name": "OutputModel",
      "state": {
       "layout": "IPY_MODEL_9fd71ceedde84b01aa05ab5afe494320",
       "outputs": [
        {
         "data": {
          "image/png": "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\n",
          "text/plain": "<Figure size 1008x590.4 with 1 Axes>"
         },
         "metadata": {},
         "output_type": "display_data"
        }
       ]
      }
     },
     "5fa25a58e363440ea9dceedfcb7e7967": {
      "model_module": "@jupyter-widgets/output",
      "model_module_version": "1.0.0",
      "model_name": "OutputModel",
      "state": {
       "layout": "IPY_MODEL_9f69d2d706134c51a66f26f514644f2f",
       "outputs": [
        {
         "data": {
          "application/vnd.jupyter.widget-view+json": {
           "model_id": "5e4e34553b7b424587e4a8643862369d",
           "version_major": 2,
           "version_minor": 0
          },
          "text/plain": "Output()"
         },
         "metadata": {},
         "output_type": "display_data"
        }
       ]
      }
     },
     "612b0a3d3fa5416fb76abbd45959ddb0": {
      "model_module": "@jupyter-widgets/controls",
      "model_module_version": "1.5.0",
      "model_name": "VBoxModel",
      "state": {
       "children": [
        "IPY_MODEL_38ff90e46ba04abeb8e1dfd461f1f4ba",
        "IPY_MODEL_4f706b521c90440c81af88d4f51027ba"
       ],
       "layout": "IPY_MODEL_69136bdb7265494e8ad14e433fe599e6"
      }
     },
     "6400e8b989af4435b04fd1e4c00fe8b5": {
      "model_module": "@jupyter-widgets/controls",
      "model_module_version": "1.5.0",
      "model_name": "GridBoxModel",
      "state": {
       "children": [
        "IPY_MODEL_009496d1272343c9a3a694c14997edfe",
        "IPY_MODEL_20b5a491de0a403f8067657ba5a6f3e3"
       ],
       "layout": "IPY_MODEL_a7bb528527074639a80b92ba45dcb391"
      }
     },
     "64be416e0089468790b549e31507bbbe": {
      "model_module": "@jupyter-widgets/controls",
      "model_module_version": "1.5.0",
      "model_name": "VBoxModel",
      "state": {
       "children": [
        "IPY_MODEL_da1e23d56a614dc7940dca90b7859d82",
        "IPY_MODEL_81d51e7ce8954820ae37f680a2bee00e"
       ],
       "layout": "IPY_MODEL_c76690223bf4448c8bd35e7f0be4ea3a"
      }
     },
     "654ffb2f928c4704b7e617e07cc43b3c": {
      "model_module": "@jupyter-widgets/base",
      "model_module_version": "1.2.0",
      "model_name": "LayoutModel",
      "state": {}
     },
     "65ffbe4d14974bf0965c26e727dc146a": {
      "model_module": "@jupyter-widgets/base",
      "model_module_version": "1.2.0",
      "model_name": "LayoutModel",
      "state": {}
     },
     "668e83b7863345e38c4b75f1913569e8": {
      "model_module": "@jupyter-widgets/controls",
      "model_module_version": "1.5.0",
      "model_name": "VBoxModel",
      "state": {
       "children": [
        "IPY_MODEL_68d3b8efca2c45748b6698c6cf133258",
        "IPY_MODEL_3ae81f12f2304dbea577549d3c302a81"
       ],
       "layout": "IPY_MODEL_8d95ea7834d04991b4598b555da51cc8"
      }
     },
     "6867e68b5cba4b61aaf4e4fe7abd8037": {
      "model_module": "@jupyter-widgets/controls",
      "model_module_version": "1.5.0",
      "model_name": "VBoxModel",
      "state": {
       "children": [
        "IPY_MODEL_b0624b2113574f17b61ce09b5dc181ff"
       ],
       "layout": "IPY_MODEL_33c961fdf33f4f51ba5ed90fe5cc695b"
      }
     },
     "68d3b8efca2c45748b6698c6cf133258": {
      "model_module": "@jupyter-widgets/controls",
      "model_module_version": "1.5.0",
      "model_name": "LabelModel",
      "state": {
       "layout": "IPY_MODEL_c18280f0e6314f1992611b6edc82cfb4",
       "style": "IPY_MODEL_efe029de08e7423593d01bdd0e1c1967",
       "value": "Plot:"
      }
     },
     "69136bdb7265494e8ad14e433fe599e6": {
      "model_module": "@jupyter-widgets/base",
      "model_module_version": "1.2.0",
      "model_name": "LayoutModel",
      "state": {}
     },
     "6a3fe11004d04d22848a282334c235e3": {
      "model_module": "@jupyter-widgets/base",
      "model_module_version": "1.2.0",
      "model_name": "LayoutModel",
      "state": {
       "border": "1px solid gray",
       "height": "588px"
      }
     },
     "6b367cd5cc3247a5a14b21d193109f8e": {
      "model_module": "@jupyter-widgets/base",
      "model_module_version": "1.2.0",
      "model_name": "LayoutModel",
      "state": {}
     },
     "6c9646c4189e4d62a047a7cd6f7019b3": {
      "model_module": "@jupyter-widgets/base",
      "model_module_version": "1.2.0",
      "model_name": "LayoutModel",
      "state": {
       "grid_area": "header"
      }
     },
     "6d28e779d4d444a58b89ac38b28415f4": {
      "model_module": "@jupyter-widgets/controls",
      "model_module_version": "1.5.0",
      "model_name": "TabModel",
      "state": {
       "_titles": {
        "0": "Time Analysis"
       },
       "children": [
        "IPY_MODEL_306f62c7d0a546e2ade9d333620eff5d"
       ],
       "layout": "IPY_MODEL_deccaba47d784391bd7f617aeb53b694"
      }
     },
     "6e8674f27cd9457099f492ec40e8bad5": {
      "model_module": "@jupyter-widgets/base",
      "model_module_version": "1.2.0",
      "model_name": "LayoutModel",
      "state": {
       "width": "200px"
      }
     },
     "6ef3f1c1287f4abe85ac46d77e0eefea": {
      "model_module": "@jupyter-widgets/controls",
      "model_module_version": "1.5.0",
      "model_name": "HBoxModel",
      "state": {
       "children": [
        "IPY_MODEL_1ef9f1baf23f4011ad1dc617c3832742",
        "IPY_MODEL_7319c35c8ece475fae1c43885b0045a9"
       ],
       "layout": "IPY_MODEL_2cb4876ed06b43c5b0dc9922a5c0be9e"
      }
     },
     "6fdb380937954bf5a43739c56a74108b": {
      "model_module": "@jupyter-widgets/controls",
      "model_module_version": "1.5.0",
      "model_name": "HBoxModel",
      "state": {
       "children": [
        "IPY_MODEL_d04a64a7bf1e4201828734accfe2849e",
        "IPY_MODEL_1b3d6089f89b46f9893de5a291e20f98"
       ],
       "layout": "IPY_MODEL_f50c6c010f884ec3b8e196507186ab09"
      }
     },
     "703fbf4c19cf419fa1f9e1ea6940f256": {
      "model_module": "@jupyter-widgets/controls",
      "model_module_version": "1.5.0",
      "model_name": "LabelModel",
      "state": {
       "layout": "IPY_MODEL_5be4df84e3944e14a3cef144c4add647",
       "style": "IPY_MODEL_2403929b8a384d178bf357d6b9cc4bbe",
       "value": "Plot type:"
      }
     },
     "70effb3718454b159c22af11fe08ca7c": {
      "model_module": "@jupyter-widgets/controls",
      "model_module_version": "1.5.0",
      "model_name": "SelectModel",
      "state": {
       "_options_labels": [
        "Author Keywords",
        "Authors",
        "Countries",
        "Country 1st",
        "Index Keywords",
        "Institution 1st",
        "Institutions",
        "Keywords",
        "Source title"
       ],
       "index": 0,
       "layout": "IPY_MODEL_a6c697cfd29a45b4910dda744e11579b",
       "style": "IPY_MODEL_373f72c6c4494017ab92053bdfda3417"
      }
     },
     "714c0d6340fc4e2f913205f52465a7c8": {
      "model_module": "@jupyter-widgets/base",
      "model_module_version": "1.2.0",
      "model_name": "LayoutModel",
      "state": {}
     },
     "7251a5df694e458cb3ed6e141b244d61": {
      "model_module": "@jupyter-widgets/controls",
      "model_module_version": "1.5.0",
      "model_name": "HTMLModel",
      "state": {
       "layout": "IPY_MODEL_40e765295ca24b4cb8b4af40e3a801f7",
       "style": "IPY_MODEL_b58edcd5a49e4bab937c55cc537d9913",
       "value": "<h1>Summary by Year</h1><hr style='height:2px;border-width:0;color:gray;background-color:gray'>"
      }
     },
     "73147e823b71484cbb0e77de71149e90": {
      "model_module": "@jupyter-widgets/controls",
      "model_module_version": "1.5.0",
      "model_name": "DropdownModel",
      "state": {
       "_options_labels": [
        "Greys",
        "Purples",
        "Blues",
        "Greens",
        "Oranges",
        "Reds",
        "YlOrBr",
        "YlOrRd",
        "OrRd",
        "PuRd",
        "RdPu",
        "BuPu",
        "GnBu",
        "PuBu",
        "YlGnBu",
        "PuBuGn",
        "BuGn",
        "YlGn",
        "Pastel1",
        "Pastel2",
        "Paired",
        "Accent",
        "Dark2",
        "Set1",
        "Set2",
        "Set3",
        "tab10",
        "tab20",
        "tab20b",
        "tab20c"
       ],
       "index": 0,
       "layout": "IPY_MODEL_f4857141819d47fdbc4bfa245efd85c9",
       "style": "IPY_MODEL_4fe892032ed245df96ef784565222aa0"
      }
     },
     "7319c35c8ece475fae1c43885b0045a9": {
      "model_module": "@jupyter-widgets/controls",
      "model_module_version": "1.5.0",
      "model_name": "VBoxModel",
      "state": {
       "children": [
        "IPY_MODEL_7d552590000b4e67ae347c7d9a473c50"
       ],
       "layout": "IPY_MODEL_fba21740d86d4f3d97da0ff2284ba884"
      }
     },
     "73297db23eef4be0bf53444872e6e029": {
      "model_module": "@jupyter-widgets/base",
      "model_module_version": "1.2.0",
      "model_name": "LayoutModel",
      "state": {
       "width": "200px"
      }
     },
     "77da6f2515574a6a83830029fa598f13": {
      "model_module": "@jupyter-widgets/controls",
      "model_module_version": "1.5.0",
      "model_name": "GridBoxModel",
      "state": {
       "children": [
        "IPY_MODEL_31001d5c9c3e49a1a81c9035eef2b0b7",
        "IPY_MODEL_0680ef69b8ea4e4db1083aca002f805e"
       ],
       "layout": "IPY_MODEL_d23808b23ac84b63a3ded3663530f9a1"
      }
     },
     "7c4e91006f38487da6e00b97b7ec5699": {
      "model_module": "@jupyter-widgets/controls",
      "model_module_version": "1.5.0",
      "model_name": "VBoxModel",
      "state": {
       "children": [
        "IPY_MODEL_bd08f6afc50c4b248acdf8169cc83d9f",
        "IPY_MODEL_b5d7e219d37644b6b11d604c3dc41cfe"
       ],
       "layout": "IPY_MODEL_1ee52f299ea54a5ba4955d2c0fb3e7ce"
      }
     },
     "7cd632e8aa4f4e50b97d31c0501a7b11": {
      "model_module": "@jupyter-widgets/base",
      "model_module_version": "1.2.0",
      "model_name": "LayoutModel",
      "state": {
       "grid_template_areas": "\"header header header\"\n\"center center center\"",
       "grid_template_columns": "1fr 2fr 1fr",
       "grid_template_rows": "80px 650px"
      }
     },
     "7d552590000b4e67ae347c7d9a473c50": {
      "model_module": "@jupyter-widgets/output",
      "model_module_version": "1.0.0",
      "model_name": "OutputModel",
      "state": {
       "layout": "IPY_MODEL_65ffbe4d14974bf0965c26e727dc146a",
       "outputs": [
        {
         "data": {
          "image/png": "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\n",
          "text/plain": "<Figure size 1080x676.8 with 1 Axes>"
         },
         "metadata": {},
         "output_type": "display_data"
        }
       ]
      }
     },
     "7de39d5c76424936a0f7b61a1678d488": {
      "model_module": "@jupyter-widgets/base",
      "model_module_version": "1.2.0",
      "model_name": "LayoutModel",
      "state": {}
     },
     "7df679352de340a5a9cdb4478dabda69": {
      "model_module": "@jupyter-widgets/base",
      "model_module_version": "1.2.0",
      "model_name": "LayoutModel",
      "state": {
       "border": "1px solid gray",
       "height": "588px"
      }
     },
     "7e624420a82e47d5ac2ae811415265df": {
      "model_module": "@jupyter-widgets/controls",
      "model_module_version": "1.5.0",
      "model_name": "IntSliderModel",
      "state": {
       "continuous_update": false,
       "layout": "IPY_MODEL_e18bde947b204ae3af5bba6f2e9fd56f",
       "max": 50,
       "min": 10,
       "style": "IPY_MODEL_15fa33be04254a0ba83ba81ed34c843f",
       "value": 10
      }
     },
     "7f87685915a34370999994559aa306ce": {
      "model_module": "@jupyter-widgets/controls",
      "model_module_version": "1.5.0",
      "model_name": "HBoxModel",
      "state": {
       "children": [
        "IPY_MODEL_d1bc982339be46a6be2af588ae4fedff",
        "IPY_MODEL_9343de70cb614dd4ba5ca1e700da1b97"
       ],
       "layout": "IPY_MODEL_1770073e82f848a7a6106a6afdc95690"
      }
     },
     "7f8fb6ed8b37413586803fa51e9f3cee": {
      "model_module": "@jupyter-widgets/controls",
      "model_module_version": "1.5.0",
      "model_name": "DropdownModel",
      "state": {
       "_options_labels": [
        "Heatmap",
        "Gant"
       ],
       "index": 0,
       "layout": "IPY_MODEL_ac26e1ce13ae4645a947a4f6d3031da0",
       "style": "IPY_MODEL_4cdf21c82db84ed0aecee3908f0b68a3"
      }
     },
     "7fd9d8e53e244da785849a125e9cdf9a": {
      "model_module": "@jupyter-widgets/controls",
      "model_module_version": "1.5.0",
      "model_name": "DropdownModel",
      "state": {
       "_options_labels": [
        "Frequency",
        "Citation"
       ],
       "index": 0,
       "layout": "IPY_MODEL_233bcc545fc14ea5832de669783dcc53",
       "style": "IPY_MODEL_343d48163b1d4fec960f806962a5af16"
      }
     },
     "804e5237bd1b4662a855eb89cb7ca096": {
      "model_module": "@jupyter-widgets/base",
      "model_module_version": "1.2.0",
      "model_name": "LayoutModel",
      "state": {}
     },
     "80cb41368fed4fb38a947dee1f1577f8": {
      "model_module": "@jupyter-widgets/controls",
      "model_module_version": "1.5.0",
      "model_name": "LabelModel",
      "state": {
       "layout": "IPY_MODEL_ed4d258e46724560a5b7c5f5352e45e4",
       "style": "IPY_MODEL_c88b62ce6619410ba8a20b81ccb8b9b8",
       "value": "Colormap:"
      }
     },
     "80e30071472a4cf1b79ed847e799b0bd": {
      "model_module": "@jupyter-widgets/controls",
      "model_module_version": "1.5.0",
      "model_name": "GridBoxModel",
      "state": {
       "children": [
        "IPY_MODEL_43a75c1e50514701ac98d8d655ec2b8a",
        "IPY_MODEL_dac0b6760c6c4de9aefe0190d52f4bcb"
       ],
       "layout": "IPY_MODEL_7cd632e8aa4f4e50b97d31c0501a7b11"
      }
     },
     "81d51e7ce8954820ae37f680a2bee00e": {
      "model_module": "@jupyter-widgets/controls",
      "model_module_version": "1.5.0",
      "model_name": "DropdownModel",
      "state": {
       "_options_labels": [
        "Greys",
        "Purples",
        "Blues",
        "Greens",
        "Oranges",
        "Reds",
        "YlOrBr",
        "YlOrRd",
        "OrRd",
        "PuRd",
        "RdPu",
        "BuPu",
        "GnBu",
        "PuBu",
        "YlGnBu",
        "PuBuGn",
        "BuGn",
        "YlGn",
        "Pastel1",
        "Pastel2",
        "Paired",
        "Accent",
        "Dark2",
        "Set1",
        "Set2",
        "Set3",
        "tab10",
        "tab20",
        "tab20b",
        "tab20c"
       ],
       "index": 0,
       "layout": "IPY_MODEL_b92e15b0c1a74943a4981ad6d29cdeff",
       "style": "IPY_MODEL_d1947f3a286349c4b5a1bda2b2dde0e2"
      }
     },
     "82b7975110ac436eaef81648d4e4a35f": {
      "model_module": "@jupyter-widgets/controls",
      "model_module_version": "1.5.0",
      "model_name": "DescriptionStyleModel",
      "state": {
       "description_width": ""
      }
     },
     "839bfe6b0f4e4bc2a39951b65e12d1e7": {
      "model_module": "@jupyter-widgets/base",
      "model_module_version": "1.2.0",
      "model_name": "LayoutModel",
      "state": {}
     },
     "85821bd7a02d46a8be5a44446d8a4728": {
      "model_module": "@jupyter-widgets/controls",
      "model_module_version": "1.5.0",
      "model_name": "DropdownModel",
      "state": {
       "_options_labels": [
        "bar",
        "barh",
        "pie"
       ],
       "index": 0,
       "layout": "IPY_MODEL_c60343dad7c64ccab801a6d6599cdb9c",
       "style": "IPY_MODEL_8ed15454fbe74441812ba83aff6fd3ca"
      }
     },
     "8589467af6dd44e2b0d238964014273e": {
      "model_module": "@jupyter-widgets/base",
      "model_module_version": "1.2.0",
      "model_name": "LayoutModel",
      "state": {}
     },
     "85acee4c594247b9a8ecaf07c59b3519": {
      "model_module": "@jupyter-widgets/base",
      "model_module_version": "1.2.0",
      "model_name": "LayoutModel",
      "state": {}
     },
     "8660336c34714342ba7fefeab4435add": {
      "model_module": "@jupyter-widgets/controls",
      "model_module_version": "1.5.0",
      "model_name": "DescriptionStyleModel",
      "state": {
       "description_width": ""
      }
     },
     "87850b64f1a5418b9e3483f3ff6dd341": {
      "model_module": "@jupyter-widgets/base",
      "model_module_version": "1.2.0",
      "model_name": "LayoutModel",
      "state": {
       "border": "1px solid gray",
       "height": "588px"
      }
     },
     "8799d5e6d5884e1f9d6d4dda7b85d99f": {
      "model_module": "@jupyter-widgets/base",
      "model_module_version": "1.2.0",
      "model_name": "LayoutModel",
      "state": {}
     },
     "8854d7df86dd4fb0b8be3c3ed3bbb208": {
      "model_module": "@jupyter-widgets/controls",
      "model_module_version": "1.5.0",
      "model_name": "VBoxModel",
      "state": {
       "children": [
        "IPY_MODEL_bc22f0139d52440397cfc6b2bc8ebd71"
       ],
       "layout": "IPY_MODEL_dcf14e2b84344c3ea1f1a354ca17452b"
      }
     },
     "88c3ecb0ec3947929298027cb2b56e32": {
      "model_module": "@jupyter-widgets/controls",
      "model_module_version": "1.5.0",
      "model_name": "DescriptionStyleModel",
      "state": {
       "description_width": ""
      }
     },
     "8a43c1d30a6b467095f12edfe4ab0ccf": {
      "model_module": "@jupyter-widgets/base",
      "model_module_version": "1.2.0",
      "model_name": "LayoutModel",
      "state": {}
     },
     "8be097eb922844f9966285b8b872da9e": {
      "model_module": "@jupyter-widgets/controls",
      "model_module_version": "1.5.0",
      "model_name": "LabelModel",
      "state": {
       "layout": "IPY_MODEL_566909c36b3a49f39ae1ee3c4d7122c9",
       "style": "IPY_MODEL_cb5694ba23ff48dc859a742fc1243781",
       "value": "Term to analyze:"
      }
     },
     "8c703d4716ad46d1bd59d6f0b0c842ea": {
      "model_module": "@jupyter-widgets/controls",
      "model_module_version": "1.5.0",
      "model_name": "SelectModel",
      "state": {
       "_options_labels": [
        "Author Keywords",
        "Authors",
        "Countries",
        "Country 1st",
        "Index Keywords",
        "Institution 1st",
        "Institutions",
        "Keywords",
        "Source title"
       ],
       "index": 0,
       "layout": "IPY_MODEL_11a3f098be924e3ea261d18bd6aec1c1",
       "style": "IPY_MODEL_5b1d6bdebe4843dba373dd13c2cce39d"
      }
     },
     "8cb8240940ae4a57acee8f680bcd5775": {
      "model_module": "@jupyter-widgets/output",
      "model_module_version": "1.0.0",
      "model_name": "OutputModel",
      "state": {
       "layout": "IPY_MODEL_51acb03b0ce048b98ab3316c1c1ab87d",
       "outputs": [
        {
         "data": {
          "image/png": "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\n",
          "text/plain": "<Figure size 1008x590.4 with 1 Axes>"
         },
         "metadata": {},
         "output_type": "display_data"
        }
       ]
      }
     },
     "8d08228f461e4486bc643370e08e95a7": {
      "model_module": "@jupyter-widgets/controls",
      "model_module_version": "1.5.0",
      "model_name": "VBoxModel",
      "state": {
       "children": [
        "IPY_MODEL_0444f89b3a1c4662a57f38bd39b1cd7c",
        "IPY_MODEL_be014540f47541dbaf2a412047cbd986"
       ],
       "layout": "IPY_MODEL_6b367cd5cc3247a5a14b21d193109f8e"
      }
     },
     "8d3e419f7dd04c6886025eacf94293ed": {
      "model_module": "@jupyter-widgets/base",
      "model_module_version": "1.2.0",
      "model_name": "LayoutModel",
      "state": {}
     },
     "8d95ea7834d04991b4598b555da51cc8": {
      "model_module": "@jupyter-widgets/base",
      "model_module_version": "1.2.0",
      "model_name": "LayoutModel",
      "state": {}
     },
     "8ed15454fbe74441812ba83aff6fd3ca": {
      "model_module": "@jupyter-widgets/controls",
      "model_module_version": "1.5.0",
      "model_name": "DescriptionStyleModel",
      "state": {
       "description_width": ""
      }
     },
     "8f39a312c1bf482c9d51d437ee519eb0": {
      "model_module": "@jupyter-widgets/base",
      "model_module_version": "1.2.0",
      "model_name": "LayoutModel",
      "state": {}
     },
     "90411b8726bb487581f638109805ab7d": {
      "model_module": "@jupyter-widgets/base",
      "model_module_version": "1.2.0",
      "model_name": "LayoutModel",
      "state": {}
     },
     "910644bc08f449e2b59cff93ca6d7aed": {
      "model_module": "@jupyter-widgets/base",
      "model_module_version": "1.2.0",
      "model_name": "LayoutModel",
      "state": {
       "width": "870px"
      }
     },
     "914b1df1fbe943ad9dec9a0b0e5bb19a": {
      "model_module": "@jupyter-widgets/base",
      "model_module_version": "1.2.0",
      "model_name": "LayoutModel",
      "state": {}
     },
     "929e160518fb427ebf1422d91184ac31": {
      "model_module": "@jupyter-widgets/controls",
      "model_module_version": "1.5.0",
      "model_name": "DescriptionStyleModel",
      "state": {
       "description_width": ""
      }
     },
     "930813d683034ca0a1eb775429c566a9": {
      "model_module": "@jupyter-widgets/base",
      "model_module_version": "1.2.0",
      "model_name": "LayoutModel",
      "state": {
       "grid_area": "center"
      }
     },
     "9343de70cb614dd4ba5ca1e700da1b97": {
      "model_module": "@jupyter-widgets/controls",
      "model_module_version": "1.5.0",
      "model_name": "VBoxModel",
      "state": {
       "children": [
        "IPY_MODEL_ba1c6b08faaf4259a404bcaeebc30267"
       ],
       "layout": "IPY_MODEL_e82c428e2304479291968472f4d8da0d"
      }
     },
     "94e4ebfb90934efd955d70abdfdd1c38": {
      "model_module": "@jupyter-widgets/controls",
      "model_module_version": "1.5.0",
      "model_name": "VBoxModel",
      "state": {
       "children": [
        "IPY_MODEL_eb39fd3064904b4291a46434085e5cca",
        "IPY_MODEL_3eabda3faa5e41619aded6ae52f46802",
        "IPY_MODEL_a68a1117cf164e5f93ae11c6cdf15d5f",
        "IPY_MODEL_8d08228f461e4486bc643370e08e95a7",
        "IPY_MODEL_5afd3c898f804903ad8fac2a56dd4258"
       ],
       "layout": "IPY_MODEL_2a1a1af148b742308c4c228cb576f30f"
      }
     },
     "95e0a7f919b84636906092a48f77f4c8": {
      "model_module": "@jupyter-widgets/controls",
      "model_module_version": "1.5.0",
      "model_name": "VBoxModel",
      "state": {
       "children": [
        "IPY_MODEL_e7980e385b914c40b8211da9d425cd53",
        "IPY_MODEL_9758e815baba488592b0f9e3e694154c",
        "IPY_MODEL_4ce09dad90c94fabbdb9e0257b6500a3"
       ],
       "layout": "IPY_MODEL_fa9798ead4394935aefc6653c39ff8b1"
      }
     },
     "95f9d47b21774fc587b85229cda404fa": {
      "model_module": "@jupyter-widgets/controls",
      "model_module_version": "1.5.0",
      "model_name": "LabelModel",
      "state": {
       "layout": "IPY_MODEL_5856a34983a74105b842892502429b3d",
       "style": "IPY_MODEL_b8f97304cba1499380d5dd0f088f4174",
       "value": "Plot:"
      }
     },
     "96b939a940354cf28a4f72f670ad4a7e": {
      "model_module": "@jupyter-widgets/controls",
      "model_module_version": "1.5.0",
      "model_name": "DropdownModel",
      "state": {
       "_options_labels": [
        "Greys",
        "Purples",
        "Blues",
        "Greens",
        "Oranges",
        "Reds",
        "YlOrBr",
        "YlOrRd",
        "OrRd",
        "PuRd",
        "RdPu",
        "BuPu",
        "GnBu",
        "PuBu",
        "YlGnBu",
        "PuBuGn",
        "BuGn",
        "YlGn",
        "Pastel1",
        "Pastel2",
        "Paired",
        "Accent",
        "Dark2",
        "Set1",
        "Set2",
        "Set3",
        "tab10",
        "tab20",
        "tab20b",
        "tab20c"
       ],
       "index": 0,
       "layout": "IPY_MODEL_375f6121610347508548a30e07365a1e",
       "style": "IPY_MODEL_97f4af39447b4366a22b2316b59e3c9d"
      }
     },
     "9758e815baba488592b0f9e3e694154c": {
      "model_module": "@jupyter-widgets/controls",
      "model_module_version": "1.5.0",
      "model_name": "VBoxModel",
      "state": {
       "children": [
        "IPY_MODEL_b8add2814f8f43d8ac1f9732ce36ba0d",
        "IPY_MODEL_5c94a2b592f74791bc5f7d9031147e49"
       ],
       "layout": "IPY_MODEL_914b1df1fbe943ad9dec9a0b0e5bb19a"
      }
     },
     "97f4af39447b4366a22b2316b59e3c9d": {
      "model_module": "@jupyter-widgets/controls",
      "model_module_version": "1.5.0",
      "model_name": "DescriptionStyleModel",
      "state": {
       "description_width": ""
      }
     },
     "9827f10fedf340808f516a2175a6b005": {
      "model_module": "@jupyter-widgets/controls",
      "model_module_version": "1.5.0",
      "model_name": "GridBoxModel",
      "state": {
       "children": [
        "IPY_MODEL_7251a5df694e458cb3ed6e141b244d61",
        "IPY_MODEL_6d28e779d4d444a58b89ac38b28415f4"
       ],
       "layout": "IPY_MODEL_06fb4718ce2341258a7909835827cf28"
      }
     },
     "982d27ea79f5465b90ce877b97332517": {
      "model_module": "@jupyter-widgets/base",
      "model_module_version": "1.2.0",
      "model_name": "LayoutModel",
      "state": {}
     },
     "990b1c5030754d3e9150706a1cb6b088": {
      "model_module": "@jupyter-widgets/base",
      "model_module_version": "1.2.0",
      "model_name": "LayoutModel",
      "state": {}
     },
     "9ca29437fe4b48b9867eb953351d881e": {
      "model_module": "@jupyter-widgets/base",
      "model_module_version": "1.2.0",
      "model_name": "LayoutModel",
      "state": {
       "width": "200px"
      }
     },
     "9e04c8d55edf4a5ea25aed3ac4a2456e": {
      "model_module": "@jupyter-widgets/controls",
      "model_module_version": "1.5.0",
      "model_name": "LabelModel",
      "state": {
       "layout": "IPY_MODEL_254a9631bd964a6f8d28672c0829d62d",
       "style": "IPY_MODEL_82b7975110ac436eaef81648d4e4a35f",
       "value": "Analysis type:"
      }
     },
     "9f29c37109ba4a9b8b8894b7aba711e1": {
      "model_module": "@jupyter-widgets/controls",
      "model_module_version": "1.5.0",
      "model_name": "DescriptionStyleModel",
      "state": {
       "description_width": ""
      }
     },
     "9f69d2d706134c51a66f26f514644f2f": {
      "model_module": "@jupyter-widgets/base",
      "model_module_version": "1.2.0",
      "model_name": "LayoutModel",
      "state": {}
     },
     "9fd71ceedde84b01aa05ab5afe494320": {
      "model_module": "@jupyter-widgets/base",
      "model_module_version": "1.2.0",
      "model_name": "LayoutModel",
      "state": {}
     },
     "a0f060e4671544c6b47e40591a4673cd": {
      "model_module": "@jupyter-widgets/base",
      "model_module_version": "1.2.0",
      "model_name": "LayoutModel",
      "state": {}
     },
     "a1dc7f6518c3446a821ae6fbe559ace9": {
      "model_module": "@jupyter-widgets/controls",
      "model_module_version": "1.5.0",
      "model_name": "SliderStyleModel",
      "state": {
       "description_width": ""
      }
     },
     "a22c9b2c14d3496b9181047ad34164ec": {
      "model_module": "@jupyter-widgets/controls",
      "model_module_version": "1.5.0",
      "model_name": "DescriptionStyleModel",
      "state": {
       "description_width": ""
      }
     },
     "a5b0b834812548d7be110b2efdbc1cab": {
      "model_module": "@jupyter-widgets/base",
      "model_module_version": "1.2.0",
      "model_name": "LayoutModel",
      "state": {}
     },
     "a68a1117cf164e5f93ae11c6cdf15d5f": {
      "model_module": "@jupyter-widgets/controls",
      "model_module_version": "1.5.0",
      "model_name": "VBoxModel",
      "state": {
       "children": [
        "IPY_MODEL_0e99f73a4f5d47efa9f40876d8782daa",
        "IPY_MODEL_85821bd7a02d46a8be5a44446d8a4728"
       ],
       "layout": "IPY_MODEL_2503013cc4724c56917b89c3c2467602"
      }
     },
     "a6c697cfd29a45b4910dda744e11579b": {
      "model_module": "@jupyter-widgets/base",
      "model_module_version": "1.2.0",
      "model_name": "LayoutModel",
      "state": {
       "width": "200px"
      }
     },
     "a7bb528527074639a80b92ba45dcb391": {
      "model_module": "@jupyter-widgets/base",
      "model_module_version": "1.2.0",
      "model_name": "LayoutModel",
      "state": {
       "grid_template_areas": "\"header header header\"\n\"center center center\"",
       "grid_template_columns": "1fr 2fr 1fr",
       "grid_template_rows": "80px 650px"
      }
     },
     "a9604ca5295142268586f484de145728": {
      "model_module": "@jupyter-widgets/controls",
      "model_module_version": "1.5.0",
      "model_name": "LabelModel",
      "state": {
       "layout": "IPY_MODEL_b716b198921849ff8bc232c82edecb2a",
       "style": "IPY_MODEL_df67464e049a4d6aa1a9e2db3b7c83e6",
       "value": "Plot type:"
      }
     },
     "ab45d44f053e402a87a2d07f0ab4f24d": {
      "model_module": "@jupyter-widgets/controls",
      "model_module_version": "1.5.0",
      "model_name": "VBoxModel",
      "state": {
       "children": [
        "IPY_MODEL_2ce7eb88954a41f1828602d8918ce2bf",
        "IPY_MODEL_05d82d163edd4a34ae487452dff08ca1"
       ],
       "layout": "IPY_MODEL_eeb1ae5b8b474590b65007ea901dbb36"
      }
     },
     "ab86cd9897494730946ec23724c6e568": {
      "model_module": "@jupyter-widgets/base",
      "model_module_version": "1.2.0",
      "model_name": "LayoutModel",
      "state": {
       "grid_area": "center"
      }
     },
     "ac26e1ce13ae4645a947a4f6d3031da0": {
      "model_module": "@jupyter-widgets/base",
      "model_module_version": "1.2.0",
      "model_name": "LayoutModel",
      "state": {
       "width": "200px"
      }
     },
     "ac3594dd7df44549b2f7b3699b131668": {
      "model_module": "@jupyter-widgets/controls",
      "model_module_version": "1.5.0",
      "model_name": "DropdownModel",
      "state": {
       "_options_labels": [
        "bar",
        "barh"
       ],
       "index": 0,
       "layout": "IPY_MODEL_e4473f63cfbf4b84bb8cbd8b8fca0ca1",
       "style": "IPY_MODEL_8660336c34714342ba7fefeab4435add"
      }
     },
     "ae4b834e27694d80b4f795dda48a9b4c": {
      "model_module": "@jupyter-widgets/controls",
      "model_module_version": "1.5.0",
      "model_name": "DescriptionStyleModel",
      "state": {
       "description_width": ""
      }
     },
     "b04eabbbfc2a413a9dfa676542482d90": {
      "model_module": "@jupyter-widgets/output",
      "model_module_version": "1.0.0",
      "model_name": "OutputModel",
      "state": {
       "layout": "IPY_MODEL_18b7136c26584330802738575c134347"
      }
     },
     "b0624b2113574f17b61ce09b5dc181ff": {
      "model_module": "@jupyter-widgets/output",
      "model_module_version": "1.0.0",
      "model_name": "OutputModel",
      "state": {
       "layout": "IPY_MODEL_01d93a4a6e4943d18683e2978fb367ae",
       "outputs": [
        {
         "data": {
          "text/html": "<div>\n<style scoped>\n    .dataframe tbody tr th:only-of-type {\n        vertical-align: middle;\n    }\n\n    .dataframe tbody tr th {\n        vertical-align: top;\n    }\n\n    .dataframe thead th {\n        text-align: right;\n    }\n</style>\n<table border=\"1\" class=\"dataframe\">\n  <thead>\n    <tr style=\"text-align: right;\">\n      <th></th>\n      <th>AKIS</th>\n      <th>Acceptance</th>\n      <th>Access to nature</th>\n      <th>Accra, Ghana</th>\n      <th>Accra-Ghana</th>\n      <th>Action research system development</th>\n      <th>Activism</th>\n      <th>Adaptation process</th>\n      <th>Adaptation strategies</th>\n      <th>Adaptive re-use of buildings</th>\n      <th>...</th>\n      <th>vertical farming</th>\n      <th>water</th>\n      <th>yards</th>\n      <th>yield advantage</th>\n      <th>yoga</th>\n      <th>youth activism</th>\n      <th>β-carotene</th>\n      <th>‘Differentiation’</th>\n      <th>‘Diversification’</th>\n      <th>‘Low-cost specialization’</th>\n    </tr>\n  </thead>\n  <tbody>\n    <tr>\n      <th>AKIS</th>\n      <td>1</td>\n      <td>0</td>\n      <td>0</td>\n      <td>0</td>\n      <td>0</td>\n      <td>0</td>\n      <td>0</td>\n      <td>0</td>\n      <td>0</td>\n      <td>0</td>\n      <td>...</td>\n      <td>0</td>\n      <td>0</td>\n      <td>0</td>\n      <td>0</td>\n      <td>0</td>\n      <td>0</td>\n      <td>0</td>\n      <td>0</td>\n      <td>0</td>\n      <td>0</td>\n    </tr>\n    <tr>\n      <th>Acceptance</th>\n      <td>0</td>\n      <td>2</td>\n      <td>0</td>\n      <td>0</td>\n      <td>0</td>\n      <td>0</td>\n      <td>0</td>\n      <td>0</td>\n      <td>0</td>\n      <td>0</td>\n      <td>...</td>\n      <td>0</td>\n      <td>0</td>\n      <td>0</td>\n      <td>0</td>\n      <td>0</td>\n      <td>0</td>\n      <td>0</td>\n      <td>0</td>\n      <td>0</td>\n      <td>0</td>\n    </tr>\n    <tr>\n      <th>Access to nature</th>\n      <td>0</td>\n      <td>0</td>\n      <td>1</td>\n      <td>0</td>\n      <td>0</td>\n      <td>0</td>\n      <td>0</td>\n      <td>0</td>\n      <td>0</td>\n      <td>0</td>\n      <td>...</td>\n      <td>0</td>\n      <td>0</td>\n      <td>0</td>\n      <td>0</td>\n      <td>0</td>\n      <td>0</td>\n      <td>0</td>\n      <td>0</td>\n      <td>0</td>\n      <td>0</td>\n    </tr>\n    <tr>\n      <th>Accra, Ghana</th>\n      <td>0</td>\n      <td>0</td>\n      <td>0</td>\n      <td>1</td>\n      <td>0</td>\n      <td>0</td>\n      <td>0</td>\n      <td>0</td>\n      <td>0</td>\n      <td>0</td>\n      <td>...</td>\n      <td>0</td>\n      <td>0</td>\n      <td>0</td>\n      <td>0</td>\n      <td>0</td>\n      <td>0</td>\n      <td>0</td>\n      <td>0</td>\n      <td>0</td>\n      <td>0</td>\n    </tr>\n    <tr>\n      <th>Accra-Ghana</th>\n      <td>0</td>\n      <td>0</td>\n      <td>0</td>\n      <td>0</td>\n      <td>1</td>\n      <td>0</td>\n      <td>0</td>\n      <td>0</td>\n      <td>0</td>\n      <td>0</td>\n      <td>...</td>\n      <td>0</td>\n      <td>0</td>\n      <td>0</td>\n      <td>0</td>\n      <td>0</td>\n      <td>0</td>\n      <td>0</td>\n      <td>0</td>\n      <td>0</td>\n      <td>0</td>\n    </tr>\n    <tr>\n      <th>...</th>\n      <td>...</td>\n      <td>...</td>\n      <td>...</td>\n      <td>...</td>\n      <td>...</td>\n      <td>...</td>\n      <td>...</td>\n      <td>...</td>\n      <td>...</td>\n      <td>...</td>\n      <td>...</td>\n      <td>...</td>\n      <td>...</td>\n      <td>...</td>\n      <td>...</td>\n      <td>...</td>\n      <td>...</td>\n      <td>...</td>\n      <td>...</td>\n      <td>...</td>\n      <td>...</td>\n    </tr>\n    <tr>\n      <th>youth activism</th>\n      <td>0</td>\n      <td>0</td>\n      <td>0</td>\n      <td>0</td>\n      <td>0</td>\n      <td>0</td>\n      <td>0</td>\n      <td>0</td>\n      <td>0</td>\n      <td>0</td>\n      <td>...</td>\n      <td>0</td>\n      <td>0</td>\n      <td>0</td>\n      <td>0</td>\n      <td>0</td>\n      <td>1</td>\n      <td>0</td>\n      <td>0</td>\n      <td>0</td>\n      <td>0</td>\n    </tr>\n    <tr>\n      <th>β-carotene</th>\n      <td>0</td>\n      <td>0</td>\n      <td>0</td>\n      <td>0</td>\n      <td>0</td>\n      <td>0</td>\n      <td>0</td>\n      <td>0</td>\n      <td>0</td>\n      <td>0</td>\n      <td>...</td>\n      <td>0</td>\n      <td>0</td>\n      <td>0</td>\n      <td>0</td>\n      <td>0</td>\n      <td>0</td>\n      <td>1</td>\n      <td>0</td>\n      <td>0</td>\n      <td>0</td>\n    </tr>\n    <tr>\n      <th>‘Differentiation’</th>\n      <td>0</td>\n      <td>0</td>\n      <td>0</td>\n      <td>0</td>\n      <td>0</td>\n      <td>0</td>\n      <td>0</td>\n      <td>0</td>\n      <td>0</td>\n      <td>0</td>\n      <td>...</td>\n      <td>0</td>\n      <td>0</td>\n      <td>0</td>\n      <td>0</td>\n      <td>0</td>\n      <td>0</td>\n      <td>0</td>\n      <td>1</td>\n      <td>1</td>\n      <td>1</td>\n    </tr>\n    <tr>\n      <th>‘Diversification’</th>\n      <td>0</td>\n      <td>0</td>\n      <td>0</td>\n      <td>0</td>\n      <td>0</td>\n      <td>0</td>\n      <td>0</td>\n      <td>0</td>\n      <td>0</td>\n      <td>0</td>\n      <td>...</td>\n      <td>0</td>\n      <td>0</td>\n      <td>0</td>\n      <td>0</td>\n      <td>0</td>\n      <td>0</td>\n      <td>0</td>\n      <td>1</td>\n      <td>1</td>\n      <td>1</td>\n    </tr>\n    <tr>\n      <th>‘Low-cost specialization’</th>\n      <td>0</td>\n      <td>0</td>\n      <td>0</td>\n      <td>0</td>\n      <td>0</td>\n      <td>0</td>\n      <td>0</td>\n      <td>0</td>\n      <td>0</td>\n      <td>0</td>\n      <td>...</td>\n      <td>0</td>\n      <td>0</td>\n      <td>0</td>\n      <td>0</td>\n      <td>0</td>\n      <td>0</td>\n      <td>0</td>\n      <td>1</td>\n      <td>1</td>\n      <td>1</td>\n    </tr>\n  </tbody>\n</table>\n<p>1561 rows × 1561 columns</p>\n</div>",
          "text/plain": "                           AKIS  Acceptance  Access to nature  Accra, Ghana  \\\nAKIS                          1           0                 0             0   \nAcceptance                    0           2                 0             0   \nAccess to nature              0           0                 1             0   \nAccra, Ghana                  0           0                 0             1   \nAccra-Ghana                   0           0                 0             0   \n...                         ...         ...               ...           ...   \nyouth activism                0           0                 0             0   \nβ-carotene                    0           0                 0             0   \n‘Differentiation’             0           0                 0             0   \n‘Diversification’             0           0                 0             0   \n‘Low-cost specialization’     0           0                 0             0   \n\n                           Accra-Ghana  Action research system development  \\\nAKIS                                 0                                   0   \nAcceptance                           0                                   0   \nAccess to nature                     0                                   0   \nAccra, Ghana                         0                                   0   \nAccra-Ghana                          1                                   0   \n...                                ...                                 ...   \nyouth activism                       0                                   0   \nβ-carotene                           0                                   0   \n‘Differentiation’                    0                                   0   \n‘Diversification’                    0                                   0   \n‘Low-cost specialization’            0                                   0   \n\n                           Activism  Adaptation process  \\\nAKIS                              0                   0   \nAcceptance                        0                   0   \nAccess to nature                  0                   0   \nAccra, Ghana                      0                   0   \nAccra-Ghana                       0                   0   \n...                             ...                 ...   \nyouth activism                    0                   0   \nβ-carotene                        0                   0   \n‘Differentiation’                 0                   0   \n‘Diversification’                 0                   0   \n‘Low-cost specialization’         0                   0   \n\n                           Adaptation strategies  \\\nAKIS                                           0   \nAcceptance                                     0   \nAccess to nature                               0   \nAccra, Ghana                                   0   \nAccra-Ghana                                    0   \n...                                          ...   \nyouth activism                                 0   \nβ-carotene                                     0   \n‘Differentiation’                              0   \n‘Diversification’                              0   \n‘Low-cost specialization’                      0   \n\n                           Adaptive re-use of buildings  ...  \\\nAKIS                                                  0  ...   \nAcceptance                                            0  ...   \nAccess to nature                                      0  ...   \nAccra, Ghana                                          0  ...   \nAccra-Ghana                                           0  ...   \n...                                                 ...  ...   \nyouth activism                                        0  ...   \nβ-carotene                                            0  ...   \n‘Differentiation’                                     0  ...   \n‘Diversification’                                     0  ...   \n‘Low-cost specialization’                             0  ...   \n\n                           vertical farming  water  yards  yield advantage  \\\nAKIS                                      0      0      0                0   \nAcceptance                                0      0      0                0   \nAccess to nature                          0      0      0                0   \nAccra, Ghana                              0      0      0                0   \nAccra-Ghana                               0      0      0                0   \n...                                     ...    ...    ...              ...   \nyouth activism                            0      0      0                0   \nβ-carotene                                0      0      0                0   \n‘Differentiation’                         0      0      0                0   \n‘Diversification’                         0      0      0                0   \n‘Low-cost specialization’                 0      0      0                0   \n\n                           yoga  youth activism  β-carotene  \\\nAKIS                          0               0           0   \nAcceptance                    0               0           0   \nAccess to nature              0               0           0   \nAccra, Ghana                  0               0           0   \nAccra-Ghana                   0               0           0   \n...                         ...             ...         ...   \nyouth activism                0               1           0   \nβ-carotene                    0               0           1   \n‘Differentiation’             0               0           0   \n‘Diversification’             0               0           0   \n‘Low-cost specialization’     0               0           0   \n\n                           ‘Differentiation’  ‘Diversification’  \\\nAKIS                                       0                  0   \nAcceptance                                 0                  0   \nAccess to nature                           0                  0   \nAccra, Ghana                               0                  0   \nAccra-Ghana                                0                  0   \n...                                      ...                ...   \nyouth activism                             0                  0   \nβ-carotene                                 0                  0   \n‘Differentiation’                          1                  1   \n‘Diversification’                          1                  1   \n‘Low-cost specialization’                  1                  1   \n\n                           ‘Low-cost specialization’  \nAKIS                                               0  \nAcceptance                                         0  \nAccess to nature                                   0  \nAccra, Ghana                                       0  \nAccra-Ghana                                        0  \n...                                              ...  \nyouth activism                                     0  \nβ-carotene                                         0  \n‘Differentiation’                                  1  \n‘Diversification’                                  1  \n‘Low-cost specialization’                          1  \n\n[1561 rows x 1561 columns]"
         },
         "metadata": {},
         "output_type": "display_data"
        }
       ]
      }
     },
     "b442d4ce47234a90be647c4dffd6666a": {
      "model_module": "@jupyter-widgets/base",
      "model_module_version": "1.2.0",
      "model_name": "LayoutModel",
      "state": {
       "width": "200px"
      }
     },
     "b58edcd5a49e4bab937c55cc537d9913": {
      "model_module": "@jupyter-widgets/controls",
      "model_module_version": "1.5.0",
      "model_name": "DescriptionStyleModel",
      "state": {
       "description_width": ""
      }
     },
     "b5d7e219d37644b6b11d604c3dc41cfe": {
      "model_module": "@jupyter-widgets/controls",
      "model_module_version": "1.5.0",
      "model_name": "IntSliderModel",
      "state": {
       "continuous_update": false,
       "layout": "IPY_MODEL_73297db23eef4be0bf53444872e6e029",
       "max": 68,
       "style": "IPY_MODEL_a1dc7f6518c3446a821ae6fbe559ace9",
       "value": 1
      }
     },
     "b716b198921849ff8bc232c82edecb2a": {
      "model_module": "@jupyter-widgets/base",
      "model_module_version": "1.2.0",
      "model_name": "LayoutModel",
      "state": {}
     },
     "b8add2814f8f43d8ac1f9732ce36ba0d": {
      "model_module": "@jupyter-widgets/controls",
      "model_module_version": "1.5.0",
      "model_name": "LabelModel",
      "state": {
       "layout": "IPY_MODEL_990b1c5030754d3e9150706a1cb6b088",
       "style": "IPY_MODEL_49435e487fcf45249f93ce0b4ae0ad75",
       "value": "Plot type:"
      }
     },
     "b8f97304cba1499380d5dd0f088f4174": {
      "model_module": "@jupyter-widgets/controls",
      "model_module_version": "1.5.0",
      "model_name": "DescriptionStyleModel",
      "state": {
       "description_width": ""
      }
     },
     "b92e15b0c1a74943a4981ad6d29cdeff": {
      "model_module": "@jupyter-widgets/base",
      "model_module_version": "1.2.0",
      "model_name": "LayoutModel",
      "state": {
       "width": "200px"
      }
     },
     "b95db1376c41424a951034db39047f93": {
      "model_module": "@jupyter-widgets/controls",
      "model_module_version": "1.5.0",
      "model_name": "DescriptionStyleModel",
      "state": {
       "description_width": ""
      }
     },
     "ba1c6b08faaf4259a404bcaeebc30267": {
      "model_module": "@jupyter-widgets/output",
      "model_module_version": "1.0.0",
      "model_name": "OutputModel",
      "state": {
       "layout": "IPY_MODEL_be54a43d0ebf4fd68b94bfb9c14bfeeb",
       "outputs": [
        {
         "data": {
          "image/png": "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\n",
          "text/plain": "<Figure size 1008x720 with 1 Axes>"
         },
         "metadata": {},
         "output_type": "display_data"
        }
       ]
      }
     },
     "ba61d6a15024415e8b8ee9aa5d7dfd1f": {
      "model_module": "@jupyter-widgets/controls",
      "model_module_version": "1.5.0",
      "model_name": "DescriptionStyleModel",
      "state": {
       "description_width": ""
      }
     },
     "bb2deca20e154bb29e0004c4626f6a4f": {
      "model_module": "@jupyter-widgets/controls",
      "model_module_version": "1.5.0",
      "model_name": "DescriptionStyleModel",
      "state": {
       "description_width": ""
      }
     },
     "bb6b4f9e726e484fbf41b9e27d6394cf": {
      "model_module": "@jupyter-widgets/base",
      "model_module_version": "1.2.0",
      "model_name": "LayoutModel",
      "state": {
       "width": "200px"
      }
     },
     "bc22f0139d52440397cfc6b2bc8ebd71": {
      "model_module": "@jupyter-widgets/output",
      "model_module_version": "1.0.0",
      "model_name": "OutputModel",
      "state": {
       "layout": "IPY_MODEL_0914a07f595e41b48e633804e33cd441",
       "outputs": [
        {
         "data": {
          "image/png": "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\n",
          "text/plain": "<Figure size 1080x676.8 with 1 Axes>"
         },
         "metadata": {},
         "output_type": "display_data"
        }
       ]
      }
     },
     "bd08f6afc50c4b248acdf8169cc83d9f": {
      "model_module": "@jupyter-widgets/controls",
      "model_module_version": "1.5.0",
      "model_name": "LabelModel",
      "state": {
       "layout": "IPY_MODEL_204d28c285fc4d51aa4f18c4e1a3711c",
       "style": "IPY_MODEL_b95db1376c41424a951034db39047f93",
       "value": "Lower value"
      }
     },
     "bd908144f60a42438b85a79ebd68bc49": {
      "model_module": "@jupyter-widgets/base",
      "model_module_version": "1.2.0",
      "model_name": "LayoutModel",
      "state": {
       "grid_area": "center"
      }
     },
     "be014540f47541dbaf2a412047cbd986": {
      "model_module": "@jupyter-widgets/controls",
      "model_module_version": "1.5.0",
      "model_name": "DropdownModel",
      "state": {
       "_options_labels": [
        "Greys",
        "Purples",
        "Blues",
        "Greens",
        "Oranges",
        "Reds",
        "YlOrBr",
        "YlOrRd",
        "OrRd",
        "PuRd",
        "RdPu",
        "BuPu",
        "GnBu",
        "PuBu",
        "YlGnBu",
        "PuBuGn",
        "BuGn",
        "YlGn",
        "Pastel1",
        "Pastel2",
        "Paired",
        "Accent",
        "Dark2",
        "Set1",
        "Set2",
        "Set3",
        "tab10",
        "tab20",
        "tab20b",
        "tab20c"
       ],
       "index": 0,
       "layout": "IPY_MODEL_e1649013512145968c3ce6fe4e8ea5d4",
       "style": "IPY_MODEL_0a29134a57f64b0782356e031671c0a3"
      }
     },
     "be54a43d0ebf4fd68b94bfb9c14bfeeb": {
      "model_module": "@jupyter-widgets/base",
      "model_module_version": "1.2.0",
      "model_name": "LayoutModel",
      "state": {}
     },
     "c072b90787134a84b0d00975706c0e64": {
      "model_module": "@jupyter-widgets/base",
      "model_module_version": "1.2.0",
      "model_name": "LayoutModel",
      "state": {}
     },
     "c094bdd5e35b443ebcd5c155d2c83149": {
      "model_module": "@jupyter-widgets/base",
      "model_module_version": "1.2.0",
      "model_name": "LayoutModel",
      "state": {
       "grid_area": "header"
      }
     },
     "c0ad85ad9a834c69b3bf5a114856b66d": {
      "model_module": "@jupyter-widgets/base",
      "model_module_version": "1.2.0",
      "model_name": "LayoutModel",
      "state": {}
     },
     "c18280f0e6314f1992611b6edc82cfb4": {
      "model_module": "@jupyter-widgets/base",
      "model_module_version": "1.2.0",
      "model_name": "LayoutModel",
      "state": {}
     },
     "c327f0e4b8a54b959ae7e69f02d37a30": {
      "model_module": "@jupyter-widgets/controls",
      "model_module_version": "1.5.0",
      "model_name": "VBoxModel",
      "state": {
       "children": [
        "IPY_MODEL_9e04c8d55edf4a5ea25aed3ac4a2456e",
        "IPY_MODEL_7fd9d8e53e244da785849a125e9cdf9a"
       ],
       "layout": "IPY_MODEL_42dfd067edac43ba8cc4074debea9c24"
      }
     },
     "c60343dad7c64ccab801a6d6599cdb9c": {
      "model_module": "@jupyter-widgets/base",
      "model_module_version": "1.2.0",
      "model_name": "LayoutModel",
      "state": {
       "width": "200px"
      }
     },
     "c658ceb27e914755908ec2c68744e5ad": {
      "model_module": "@jupyter-widgets/base",
      "model_module_version": "1.2.0",
      "model_name": "LayoutModel",
      "state": {
       "width": "200px"
      }
     },
     "c6f4742d1aa0420e96e9f7d73f591c10": {
      "model_module": "@jupyter-widgets/base",
      "model_module_version": "1.2.0",
      "model_name": "LayoutModel",
      "state": {
       "width": "200px"
      }
     },
     "c76690223bf4448c8bd35e7f0be4ea3a": {
      "model_module": "@jupyter-widgets/base",
      "model_module_version": "1.2.0",
      "model_name": "LayoutModel",
      "state": {}
     },
     "c76c95db5f314facbbec2a3ca506f3c4": {
      "model_module": "@jupyter-widgets/controls",
      "model_module_version": "1.5.0",
      "model_name": "GridBoxModel",
      "state": {
       "children": [
        "IPY_MODEL_1d1da8e6260442d2bb17bb1fe16fb314",
        "IPY_MODEL_eee0803c0720429c96f6f5026b1838d2"
       ],
       "layout": "IPY_MODEL_e77a50a621c14b68b2ead8f8814b4cb2"
      }
     },
     "c7b4dfddb17b47c8a1e28b60af418b85": {
      "model_module": "@jupyter-widgets/controls",
      "model_module_version": "1.5.0",
      "model_name": "DescriptionStyleModel",
      "state": {
       "description_width": ""
      }
     },
     "c88b62ce6619410ba8a20b81ccb8b9b8": {
      "model_module": "@jupyter-widgets/controls",
      "model_module_version": "1.5.0",
      "model_name": "DescriptionStyleModel",
      "state": {
       "description_width": ""
      }
     },
     "cb5694ba23ff48dc859a742fc1243781": {
      "model_module": "@jupyter-widgets/controls",
      "model_module_version": "1.5.0",
      "model_name": "DescriptionStyleModel",
      "state": {
       "description_width": ""
      }
     },
     "d04a64a7bf1e4201828734accfe2849e": {
      "model_module": "@jupyter-widgets/controls",
      "model_module_version": "1.5.0",
      "model_name": "VBoxModel",
      "state": {
       "children": [
        "IPY_MODEL_17b42155a74c4c68a5554b5e4256ec87",
        "IPY_MODEL_c327f0e4b8a54b959ae7e69f02d37a30",
        "IPY_MODEL_f75db6e7612a43f7ba7d8fa8959af470"
       ],
       "layout": "IPY_MODEL_6a3fe11004d04d22848a282334c235e3"
      }
     },
     "d1947f3a286349c4b5a1bda2b2dde0e2": {
      "model_module": "@jupyter-widgets/controls",
      "model_module_version": "1.5.0",
      "model_name": "DescriptionStyleModel",
      "state": {
       "description_width": ""
      }
     },
     "d1bc982339be46a6be2af588ae4fedff": {
      "model_module": "@jupyter-widgets/controls",
      "model_module_version": "1.5.0",
      "model_name": "VBoxModel",
      "state": {
       "children": [
        "IPY_MODEL_612b0a3d3fa5416fb76abbd45959ddb0",
        "IPY_MODEL_110f124dd84849a99870ef46104fcc06",
        "IPY_MODEL_d2f90071fcf94817a67ef7ab0c15b945",
        "IPY_MODEL_3d1f9820411b4f628a6dfa0c3557ec2d",
        "IPY_MODEL_ab45d44f053e402a87a2d07f0ab4f24d"
       ],
       "layout": "IPY_MODEL_7df679352de340a5a9cdb4478dabda69"
      }
     },
     "d23808b23ac84b63a3ded3663530f9a1": {
      "model_module": "@jupyter-widgets/base",
      "model_module_version": "1.2.0",
      "model_name": "LayoutModel",
      "state": {
       "grid_template_areas": "\"header header header\"\n\"center center center\"",
       "grid_template_columns": "1fr 2fr 1fr",
       "grid_template_rows": "80px 650px"
      }
     },
     "d2f90071fcf94817a67ef7ab0c15b945": {
      "model_module": "@jupyter-widgets/controls",
      "model_module_version": "1.5.0",
      "model_name": "VBoxModel",
      "state": {
       "children": [
        "IPY_MODEL_a9604ca5295142268586f484de145728",
        "IPY_MODEL_7f8fb6ed8b37413586803fa51e9f3cee"
       ],
       "layout": "IPY_MODEL_714c0d6340fc4e2f913205f52465a7c8"
      }
     },
     "d4ab8959b3214db48bdaa89657079337": {
      "model_module": "@jupyter-widgets/base",
      "model_module_version": "1.2.0",
      "model_name": "LayoutModel",
      "state": {}
     },
     "d685e27c4bd64269b89d26e4818c13ac": {
      "model_module": "@jupyter-widgets/controls",
      "model_module_version": "1.5.0",
      "model_name": "DropdownModel",
      "state": {
       "_options_labels": [
        "Frequency",
        "Citation"
       ],
       "index": 0,
       "layout": "IPY_MODEL_9ca29437fe4b48b9867eb953351d881e",
       "style": "IPY_MODEL_0eaf025436144e5db79bba2f97a3800d"
      }
     },
     "d7f244a3cbff4680acd715ffca07b83d": {
      "model_module": "@jupyter-widgets/controls",
      "model_module_version": "1.5.0",
      "model_name": "DescriptionStyleModel",
      "state": {
       "description_width": ""
      }
     },
     "da1e23d56a614dc7940dca90b7859d82": {
      "model_module": "@jupyter-widgets/controls",
      "model_module_version": "1.5.0",
      "model_name": "LabelModel",
      "state": {
       "layout": "IPY_MODEL_c072b90787134a84b0d00975706c0e64",
       "style": "IPY_MODEL_512d872f32ba483b8ccdd280fe670f43",
       "value": "Colormap:"
      }
     },
     "da46e64db31f46b9b3fd8220fe78fb77": {
      "model_module": "@jupyter-widgets/controls",
      "model_module_version": "1.5.0",
      "model_name": "DropdownModel",
      "state": {
       "_options_labels": [
        "Greys",
        "Purples",
        "Blues",
        "Greens",
        "Oranges",
        "Reds",
        "YlOrBr",
        "YlOrRd",
        "OrRd",
        "PuRd",
        "RdPu",
        "BuPu",
        "GnBu",
        "PuBu",
        "YlGnBu",
        "PuBuGn",
        "BuGn",
        "YlGn",
        "Pastel1",
        "Pastel2",
        "Paired",
        "Accent",
        "Dark2",
        "Set1",
        "Set2",
        "Set3",
        "tab10",
        "tab20",
        "tab20b",
        "tab20c"
       ],
       "index": 0,
       "layout": "IPY_MODEL_c658ceb27e914755908ec2c68744e5ad",
       "style": "IPY_MODEL_f182d27af6a941b79a9940a82adb0030"
      }
     },
     "dac0b6760c6c4de9aefe0190d52f4bcb": {
      "model_module": "@jupyter-widgets/controls",
      "model_module_version": "1.5.0",
      "model_name": "TabModel",
      "state": {
       "_titles": {
        "0": "Matrix"
       },
       "children": [
        "IPY_MODEL_31500b1337304caf98c9e98ab427dbe9"
       ],
       "layout": "IPY_MODEL_930813d683034ca0a1eb775429c566a9"
      }
     },
     "db00bf4f3f2047fba7d9fa5c93f69ed0": {
      "model_module": "@jupyter-widgets/base",
      "model_module_version": "1.2.0",
      "model_name": "LayoutModel",
      "state": {}
     },
     "dcf14e2b84344c3ea1f1a354ca17452b": {
      "model_module": "@jupyter-widgets/base",
      "model_module_version": "1.2.0",
      "model_name": "LayoutModel",
      "state": {
       "width": "870px"
      }
     },
     "dda79c33eeb14524b5084d4c7712944f": {
      "model_module": "@jupyter-widgets/base",
      "model_module_version": "1.2.0",
      "model_name": "LayoutModel",
      "state": {
       "grid_area": "center"
      }
     },
     "deccaba47d784391bd7f617aeb53b694": {
      "model_module": "@jupyter-widgets/base",
      "model_module_version": "1.2.0",
      "model_name": "LayoutModel",
      "state": {
       "grid_area": "center"
      }
     },
     "df67464e049a4d6aa1a9e2db3b7c83e6": {
      "model_module": "@jupyter-widgets/controls",
      "model_module_version": "1.5.0",
      "model_name": "DescriptionStyleModel",
      "state": {
       "description_width": ""
      }
     },
     "dfcace7b746a4f0d8a9b18b97433886a": {
      "model_module": "@jupyter-widgets/controls",
      "model_module_version": "1.5.0",
      "model_name": "DropdownModel",
      "state": {
       "_options_labels": [
        "Documents by Year",
        "Cum. Documents by Year",
        "Times Cited by Year",
        "Cum. Times Cited by Year",
        "Avg. Times Cited by Year"
       ],
       "index": 0,
       "layout": "IPY_MODEL_b442d4ce47234a90be647c4dffd6666a",
       "style": "IPY_MODEL_9f29c37109ba4a9b8b8894b7aba711e1"
      }
     },
     "e0ccde045e054c3f922b920d0a953819": {
      "model_module": "@jupyter-widgets/controls",
      "model_module_version": "1.5.0",
      "model_name": "DescriptionStyleModel",
      "state": {
       "description_width": ""
      }
     },
     "e1649013512145968c3ce6fe4e8ea5d4": {
      "model_module": "@jupyter-widgets/base",
      "model_module_version": "1.2.0",
      "model_name": "LayoutModel",
      "state": {
       "width": "200px"
      }
     },
     "e18bde947b204ae3af5bba6f2e9fd56f": {
      "model_module": "@jupyter-widgets/base",
      "model_module_version": "1.2.0",
      "model_name": "LayoutModel",
      "state": {
       "width": "200px"
      }
     },
     "e4473f63cfbf4b84bb8cbd8b8fca0ca1": {
      "model_module": "@jupyter-widgets/base",
      "model_module_version": "1.2.0",
      "model_name": "LayoutModel",
      "state": {
       "width": "200px"
      }
     },
     "e71d70fe1864410fa2d724dea6c08a62": {
      "model_module": "@jupyter-widgets/base",
      "model_module_version": "1.2.0",
      "model_name": "LayoutModel",
      "state": {}
     },
     "e77a50a621c14b68b2ead8f8814b4cb2": {
      "model_module": "@jupyter-widgets/base",
      "model_module_version": "1.2.0",
      "model_name": "LayoutModel",
      "state": {
       "grid_template_areas": "\"header header header\"\n\"center center center\"",
       "grid_template_columns": "1fr 2fr 1fr",
       "grid_template_rows": "80px 650px"
      }
     },
     "e7980e385b914c40b8211da9d425cd53": {
      "model_module": "@jupyter-widgets/controls",
      "model_module_version": "1.5.0",
      "model_name": "VBoxModel",
      "state": {
       "children": [
        "IPY_MODEL_95f9d47b21774fc587b85229cda404fa",
        "IPY_MODEL_dfcace7b746a4f0d8a9b18b97433886a"
       ],
       "layout": "IPY_MODEL_d4ab8959b3214db48bdaa89657079337"
      }
     },
     "e82c428e2304479291968472f4d8da0d": {
      "model_module": "@jupyter-widgets/base",
      "model_module_version": "1.2.0",
      "model_name": "LayoutModel",
      "state": {
       "width": "870px"
      }
     },
     "e84c05799e384ef28678132c438075c4": {
      "model_module": "@jupyter-widgets/controls",
      "model_module_version": "1.5.0",
      "model_name": "DescriptionStyleModel",
      "state": {
       "description_width": ""
      }
     },
     "e84db7985ada407797910ecee91bcacd": {
      "model_module": "@jupyter-widgets/controls",
      "model_module_version": "1.5.0",
      "model_name": "DropdownModel",
      "state": {
       "_options_labels": [
        "Frequency",
        "Citation"
       ],
       "index": 0,
       "layout": "IPY_MODEL_1c25504f6d0b49f8a17a4f91e715e131",
       "style": "IPY_MODEL_d7f244a3cbff4680acd715ffca07b83d"
      }
     },
     "e9b1a35164d347d9b31009de5db85f5c": {
      "model_module": "@jupyter-widgets/base",
      "model_module_version": "1.2.0",
      "model_name": "LayoutModel",
      "state": {}
     },
     "eaa8aa7dfb264221b5e72c58dde3f588": {
      "model_module": "@jupyter-widgets/base",
      "model_module_version": "1.2.0",
      "model_name": "LayoutModel",
      "state": {}
     },
     "eb1904d5e0c241dea84de1738307e3d4": {
      "model_module": "@jupyter-widgets/base",
      "model_module_version": "1.2.0",
      "model_name": "LayoutModel",
      "state": {}
     },
     "eb39fd3064904b4291a46434085e5cca": {
      "model_module": "@jupyter-widgets/controls",
      "model_module_version": "1.5.0",
      "model_name": "VBoxModel",
      "state": {
       "children": [
        "IPY_MODEL_8be097eb922844f9966285b8b872da9e",
        "IPY_MODEL_f1e7ab3a50be4b88b2d3d493106382ca"
       ],
       "layout": "IPY_MODEL_58eca9de37234976865d15aeca1af02a"
      }
     },
     "ec384474e2dc4ed18f1df3f1c965a08a": {
      "model_module": "@jupyter-widgets/controls",
      "model_module_version": "1.5.0",
      "model_name": "DescriptionStyleModel",
      "state": {
       "description_width": ""
      }
     },
     "ec99384ecdad421994f4094f876143e0": {
      "model_module": "@jupyter-widgets/base",
      "model_module_version": "1.2.0",
      "model_name": "LayoutModel",
      "state": {
       "width": "200px"
      }
     },
     "ed4d258e46724560a5b7c5f5352e45e4": {
      "model_module": "@jupyter-widgets/base",
      "model_module_version": "1.2.0",
      "model_name": "LayoutModel",
      "state": {}
     },
     "ee42b4fce45f4e1e89f7d9a9656929f0": {
      "model_module": "@jupyter-widgets/controls",
      "model_module_version": "1.5.0",
      "model_name": "DescriptionStyleModel",
      "state": {
       "description_width": ""
      }
     },
     "eeb1ae5b8b474590b65007ea901dbb36": {
      "model_module": "@jupyter-widgets/base",
      "model_module_version": "1.2.0",
      "model_name": "LayoutModel",
      "state": {}
     },
     "eee0803c0720429c96f6f5026b1838d2": {
      "model_module": "@jupyter-widgets/controls",
      "model_module_version": "1.5.0",
      "model_name": "TabModel",
      "state": {
       "_titles": {
        "0": "Time Analysis"
       },
       "children": [
        "IPY_MODEL_7f87685915a34370999994559aa306ce"
       ],
       "layout": "IPY_MODEL_bd908144f60a42438b85a79ebd68bc49"
      }
     },
     "efe029de08e7423593d01bdd0e1c1967": {
      "model_module": "@jupyter-widgets/controls",
      "model_module_version": "1.5.0",
      "model_name": "DescriptionStyleModel",
      "state": {
       "description_width": ""
      }
     },
     "f182d27af6a941b79a9940a82adb0030": {
      "model_module": "@jupyter-widgets/controls",
      "model_module_version": "1.5.0",
      "model_name": "DescriptionStyleModel",
      "state": {
       "description_width": ""
      }
     },
     "f1a5bb7f12f84329ac8704c90417648d": {
      "model_module": "@jupyter-widgets/base",
      "model_module_version": "1.2.0",
      "model_name": "LayoutModel",
      "state": {}
     },
     "f1e7ab3a50be4b88b2d3d493106382ca": {
      "model_module": "@jupyter-widgets/controls",
      "model_module_version": "1.5.0",
      "model_name": "SelectModel",
      "state": {
       "_options_labels": [
        "Author Keywords",
        "Authors",
        "Countries",
        "Country 1st",
        "Index Keywords",
        "Institution 1st",
        "Institutions",
        "Keywords",
        "Source title"
       ],
       "index": 0,
       "layout": "IPY_MODEL_43b5e71c05494133a0063088512d0b71",
       "style": "IPY_MODEL_a22c9b2c14d3496b9181047ad34164ec"
      }
     },
     "f4857141819d47fdbc4bfa245efd85c9": {
      "model_module": "@jupyter-widgets/base",
      "model_module_version": "1.2.0",
      "model_name": "LayoutModel",
      "state": {
       "width": "200px"
      }
     },
     "f50c6c010f884ec3b8e196507186ab09": {
      "model_module": "@jupyter-widgets/base",
      "model_module_version": "1.2.0",
      "model_name": "LayoutModel",
      "state": {}
     },
     "f561d7c79e3d41398cdd2d5c13619ff3": {
      "model_module": "@jupyter-widgets/base",
      "model_module_version": "1.2.0",
      "model_name": "LayoutModel",
      "state": {
       "grid_area": "header"
      }
     },
     "f75db6e7612a43f7ba7d8fa8959af470": {
      "model_module": "@jupyter-widgets/controls",
      "model_module_version": "1.5.0",
      "model_name": "VBoxModel",
      "state": {
       "children": [
        "IPY_MODEL_5ac7891c246d43198af4d3f2d44a38b6",
        "IPY_MODEL_96b939a940354cf28a4f72f670ad4a7e"
       ],
       "layout": "IPY_MODEL_0b8f66ff68c94225ae1b3b837805305e"
      }
     },
     "f8b8a345911242f18e0c7456988e8caa": {
      "model_module": "@jupyter-widgets/base",
      "model_module_version": "1.2.0",
      "model_name": "LayoutModel",
      "state": {}
     },
     "f8e5963e04f448a8b36f3eb403de9295": {
      "model_module": "@jupyter-widgets/controls",
      "model_module_version": "1.5.0",
      "model_name": "LabelModel",
      "state": {
       "layout": "IPY_MODEL_4773c27a0da149e7a160e9b94d63a98b",
       "style": "IPY_MODEL_165a8880cbcb47c1beb8424eacb99098",
       "value": "Top N:"
      }
     },
     "fa9798ead4394935aefc6653c39ff8b1": {
      "model_module": "@jupyter-widgets/base",
      "model_module_version": "1.2.0",
      "model_name": "LayoutModel",
      "state": {
       "border": "1px solid gray",
       "height": "588px"
      }
     },
     "fba21740d86d4f3d97da0ff2284ba884": {
      "model_module": "@jupyter-widgets/base",
      "model_module_version": "1.2.0",
      "model_name": "LayoutModel",
      "state": {
       "width": "870px"
      }
     },
     "fd742dd258da440ca001a8ae5f172d00": {
      "model_module": "@jupyter-widgets/base",
      "model_module_version": "1.2.0",
      "model_name": "LayoutModel",
      "state": {}
     },
     "fe4f4f4f5d3340cfb6b47897989f44fa": {
      "model_module": "@jupyter-widgets/base",
      "model_module_version": "1.2.0",
      "model_name": "LayoutModel",
      "state": {}
     },
     "ffbddea715d141a9852be35a646b3624": {
      "model_module": "@jupyter-widgets/base",
      "model_module_version": "1.2.0",
      "model_name": "LayoutModel",
      "state": {
       "width": "870px"
      }
     }
    },
    "version_major": 2,
    "version_minor": 0
   }
  }
 },
 "nbformat": 4,
 "nbformat_minor": 4
}
