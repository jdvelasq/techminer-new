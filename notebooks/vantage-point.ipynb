{
 "cells": [
  {
   "cell_type": "code",
   "execution_count": 1,
   "metadata": {},
   "outputs": [
    {
     "name": "stderr",
     "output_type": "stream",
     "text": [
      "2020-06-05 17:26:59,029 - INFO - Renaming and selecting columns ...\n",
      "2020-06-05 17:27:04,685 - INFO - Formatting author names ...\n",
      "2020-06-05 17:27:04,690 - INFO - Disambiguating author names ...\n",
      "2020-06-05 17:27:04,757 - INFO - Removing part of titles in foreing languages ...\n",
      "2020-06-05 17:27:04,760 - INFO - Fusioning author and index keywords ...\n",
      "2020-06-05 17:27:04,771 - INFO - NumExpr defaulting to 8 threads.\n",
      "2020-06-05 17:27:04,789 - INFO - Extracting countries from affiliations ...\n",
      "2020-06-05 17:27:10,855 - INFO - Extracting institutions from affiliations ...\n",
      "2020-06-05 17:27:10,867 - INFO - Extracting country of 1st author ...\n",
      "2020-06-05 17:27:10,870 - INFO - Extracting affiliation of 1st author ...\n",
      "2020-06-05 17:27:10,874 - INFO - Counting number of authors ...\n"
     ]
    }
   ],
   "source": [
    "import pandas as pd\n",
    "\n",
    "import techminer.data as data\n",
    "\n",
    "filepath = \"../data/papers/urban-agriculture.csv\"\n",
    "df = pd.read_csv(filepath)\n",
    "df = data.load_scopus(df)"
   ]
  },
  {
   "cell_type": "code",
   "execution_count": null,
   "metadata": {},
   "outputs": [],
   "source": [
    "data.coverage(df)"
   ]
  },
  {
   "cell_type": "markdown",
   "metadata": {},
   "source": [
    "### Keywords"
   ]
  },
  {
   "cell_type": "code",
   "execution_count": null,
   "metadata": {},
   "outputs": [],
   "source": []
  },
  {
   "cell_type": "markdown",
   "metadata": {},
   "source": [
    "### FindString Dialog Box pag. 69"
   ]
  },
  {
   "cell_type": "code",
   "execution_count": null,
   "metadata": {},
   "outputs": [],
   "source": []
  },
  {
   "cell_type": "markdown",
   "metadata": {},
   "source": [
    "### Cleaning a list pag. 102"
   ]
  },
  {
   "cell_type": "code",
   "execution_count": null,
   "metadata": {},
   "outputs": [],
   "source": []
  },
  {
   "cell_type": "markdown",
   "metadata": {},
   "source": [
    "### Fuzzy match editor pag.126"
   ]
  },
  {
   "cell_type": "code",
   "execution_count": null,
   "metadata": {},
   "outputs": [],
   "source": []
  },
  {
   "cell_type": "markdown",
   "metadata": {},
   "source": [
    "### Stemming And / Stemming Or"
   ]
  },
  {
   "cell_type": "code",
   "execution_count": null,
   "metadata": {},
   "outputs": [],
   "source": []
  },
  {
   "cell_type": "markdown",
   "metadata": {},
   "source": [
    "### APPS"
   ]
  },
  {
   "cell_type": "code",
   "execution_count": null,
   "metadata": {},
   "outputs": [],
   "source": [
    "import techminer.by_year as year\n",
    "year.app(df)"
   ]
  },
  {
   "cell_type": "code",
   "execution_count": null,
   "metadata": {},
   "outputs": [],
   "source": [
    "import techminer.by_term as term\n",
    "term.app(df)"
   ]
  },
  {
   "cell_type": "code",
   "execution_count": null,
   "metadata": {},
   "outputs": [],
   "source": [
    "import techminer.by_term_per_year as term_year\n",
    "term_year.app(df)"
   ]
  },
  {
   "cell_type": "code",
   "execution_count": null,
   "metadata": {},
   "outputs": [],
   "source": [
    "import techminer.co_occurrence as co_occurrence\n",
    "co_occurrence.app(df)"
   ]
  },
  {
   "cell_type": "code",
   "execution_count": 2,
   "metadata": {},
   "outputs": [
    {
     "data": {
      "application/vnd.jupyter.widget-view+json": {
       "model_id": "1aa59e62721b471cab2c233eb1c7abc6",
       "version_major": 2,
       "version_minor": 0
      },
      "text/plain": [
       "AppLayout(children=(HTML(value=\"<h1>Correlation Analysis</h1><hr style='height:2px;border-width:0;color:gray;b…"
      ]
     },
     "metadata": {},
     "output_type": "display_data"
    }
   ],
   "source": [
    "import techminer.correlation as correlation\n",
    "correlation.app(df)"
   ]
  },
  {
   "cell_type": "code",
   "execution_count": null,
   "metadata": {},
   "outputs": [],
   "source": []
  },
  {
   "cell_type": "code",
   "execution_count": null,
   "metadata": {},
   "outputs": [],
   "source": []
  },
  {
   "cell_type": "code",
   "execution_count": null,
   "metadata": {},
   "outputs": [],
   "source": []
  },
  {
   "cell_type": "code",
   "execution_count": null,
   "metadata": {},
   "outputs": [],
   "source": []
  },
  {
   "cell_type": "code",
   "execution_count": null,
   "metadata": {},
   "outputs": [],
   "source": []
  },
  {
   "cell_type": "code",
   "execution_count": null,
   "metadata": {},
   "outputs": [],
   "source": [
    "import ipywidgets as widgets\n",
    "from ipywidgets import Layout, AppLayout"
   ]
  },
  {
   "cell_type": "code",
   "execution_count": null,
   "metadata": {},
   "outputs": [],
   "source": [
    "\n",
    "COLUMNS = [\n",
    "    \"Author Keywords\",\n",
    "    \"Authors\",\n",
    "    \"Countries\",\n",
    "    \"Country 1st\",\n",
    "    \"Document type\",\n",
    "    \"Index Keywords\",\n",
    "    \"Institution 1st\",\n",
    "    \"Institutions\",\n",
    "    \"Keywords\",\n",
    "    \"Source title\",\n",
    "]"
   ]
  },
  {
   "cell_type": "code",
   "execution_count": null,
   "metadata": {},
   "outputs": [],
   "source": [
    "FIGSIZE = (14, 10.0) ## Co-occurrente-analysis  <---- no tiene figura\n",
    "FIGSIZE = (14, 9.0)"
   ]
  },
  {
   "cell_type": "markdown",
   "metadata": {},
   "source": [
    "# NUEVA INTERFAZ"
   ]
  },
  {
   "cell_type": "code",
   "execution_count": null,
   "metadata": {},
   "outputs": [],
   "source": [
    "from techminer.summary_by_term_per_year import documents_by_term_per_year, citations_by_term_per_year"
   ]
  },
  {
   "cell_type": "code",
   "execution_count": null,
   "metadata": {},
   "outputs": [],
   "source": []
  },
  {
   "cell_type": "code",
   "execution_count": null,
   "metadata": {},
   "outputs": [],
   "source": [
    "import techminer.plots as plt\n",
    "from techminer.plots import COLORMAPS\n",
    "from techminer.summary_by_term import citations_by_term, documents_by_term\n",
    "\n",
    "WIDGET_WIDTH = \"200px\"\n",
    "LEFT_PANEL_HEIGHT = \"588px\"\n",
    "RIGHT_PANEL_WIDTH = \"870px\"\n",
    "FIGSIZE = (14, 10.0)\n",
    "PANE_HEIGHTS = [\"80px\", \"650px\", 0]\n",
    "\n",
    "COLUMNS = [\n",
    "    \"Author Keywords\",\n",
    "    \"Authors\",\n",
    "    \"Countries\",\n",
    "    \"Country 1st\",\n",
    "    \"Document type\",\n",
    "    \"Index Keywords\",\n",
    "    \"Institution 1st\",\n",
    "    \"Institutions\",\n",
    "    \"Keywords\",\n",
    "    \"Source title\",\n",
    "]\n",
    "\n"
   ]
  },
  {
   "cell_type": "code",
   "execution_count": null,
   "metadata": {},
   "outputs": [],
   "source": [
    "#################\n",
    "import ipywidgets as widgets\n",
    "import numpy as np\n",
    "from ipywidgets import AppLayout, Layout\n",
    "\n",
    "from techminer.by_term import summary_by_term\n",
    "from techminer.correlation import corr\n",
    "from techminer.maps import Map\n",
    "from techminer.plots import COLORMAPS\n",
    "\n",
    "WIDGET_WIDTH = \"200px\"\n",
    "LEFT_PANEL_HEIGHT = \"650px\"\n",
    "RIGHT_PANEL_WIDTH = \"870px\"\n",
    "FIGSIZE = (14, 10.0)\n",
    "PANE_HEIGHTS = [\"80px\", \"750px\", 0]\n",
    "\n",
    "COLUMNS = [\n",
    "    \"Author Keywords\",\n",
    "    \"Authors\",\n",
    "    \"Countries\",\n",
    "    \"Country 1st\",\n",
    "    \"Document type\",\n",
    "    \"Index Keywords\",\n",
    "    \"Institution 1st\",\n",
    "    \"Institutions\",\n",
    "    \"Keywords\",\n",
    "    \"Source title\",\n",
    "]\n",
    "\n",
    "\n",
    "#################\n",
    "\n",
    "\n",
    "#\n",
    "#\n",
    "#  Correlation Analysis\n",
    "#\n",
    "#\n",
    "def __body_0(x):\n",
    "    #\n",
    "    def server(**kwargs):\n",
    "        #\n",
    "        # Logic\n",
    "        #\n",
    "        column = kwargs[\"term\"]\n",
    "        by = kwargs[\"by\"]\n",
    "        method = kwargs[\"method\"]\n",
    "        min_link_value = float(kwargs[\"min_link_value\"].split(\" \")[0])\n",
    "        cmap = kwargs[\"cmap\"]\n",
    "        filter_by = kwargs[\"filter_by\"]\n",
    "        filter_value = int(kwargs[\"filter_value\"].split()[0])\n",
    "        view = kwargs[\"view\"]\n",
    "        sort_by = kwargs[\"sort_by\"]\n",
    "        layout = kwargs[\"layout\"]\n",
    "        #\n",
    "        #\n",
    "        #\n",
    "        s = summary_by_term(x, column)\n",
    "        if filter_by == \"Frequency\":\n",
    "            s = s[[column, \"Num Documents\"]]\n",
    "            n_columns = len(s[s[\"Num Documents\"] > filter_value])\n",
    "            new_names = {\n",
    "                a: \"{} [{:d}]\".format(a, b)\n",
    "                for a, b in zip(s[column].tolist(), s[\"Num Documents\"].tolist())\n",
    "            }\n",
    "        if filter_by == \"Cited by\":\n",
    "            s = s[[column, \"Cited by\"]]\n",
    "            n_columns = len(s[s[\"Cited by\"] > filter_value])\n",
    "            new_names = {\n",
    "                a: \"{} [{:d}]\".format(a, b)\n",
    "                for a, b in zip(s[column].tolist(), s[\"Cited by\"].tolist())\n",
    "            }\n",
    "        #\n",
    "        a = s[s.columns[1]].value_counts().sort_index(ascending=False)\n",
    "        a = a.cumsum()\n",
    "        a = a.sort_index(ascending=True)\n",
    "        current_value = controls[4][\"widget\"].value\n",
    "        controls[4][\"widget\"].options = [\n",
    "            \"{:d} [{:d}]\".format(idx, w) for w, idx in zip(a, a.index)\n",
    "        ]\n",
    "        if current_value not in controls[4][\"widget\"].options:\n",
    "            controls[4][\"widget\"].value = controls[4][\"widget\"].options[0]\n",
    "        #\n",
    "        #\n",
    "        if view == \"Matrix\":\n",
    "            controls[7][\"widget\"].disabled = False\n",
    "            controls[8][\"widget\"].disabled = False\n",
    "            controls[9][\"widget\"].disabled = True    \n",
    "        if view == \"Correlation map\":\n",
    "            controls[7][\"widget\"].disabled = False\n",
    "            controls[8][\"widget\"].disabled = True\n",
    "            controls[9][\"widget\"].disabled = False\n",
    "        if view == \"Chord diagram\":\n",
    "            controls[7][\"widget\"].disabled = False\n",
    "            controls[8][\"widget\"].disabled = True\n",
    "            controls[9][\"widget\"].disabled = True\n",
    "        #\n",
    "        #\n",
    "        if n_columns > 50:\n",
    "            controls[7][\"widget\"].disabled = True\n",
    "            controls[8][\"widget\"].disabled = True\n",
    "            output.clear_output()\n",
    "            with output:\n",
    "                display(widgets.HTML(\"<h3>Matrix exceeds the maximum shape</h3>\"))\n",
    "                return\n",
    "        #\n",
    "        #\n",
    "        #\n",
    "        matrix = corr(\n",
    "            x,\n",
    "            column=column,\n",
    "            by=by,\n",
    "            method=method,\n",
    "            cmap=cmap,\n",
    "            filter_by=filter_by,\n",
    "            filter_value=filter_value,\n",
    "            as_matrix=True,\n",
    "            keywords=None,\n",
    "        )\n",
    "        #\n",
    "        #\n",
    "        #\n",
    "        matrix = matrix.rename(columns=new_names, index=new_names)\n",
    "        #\n",
    "        output.clear_output()\n",
    "        with output:\n",
    "            if view == \"Matrix\":\n",
    "                #\n",
    "                # Sort order\n",
    "                #\n",
    "                if sort_by == \"Frequency/Cited by asc.\":\n",
    "                    g = lambda m: int(m[m.find(\"[\") + 1 : m.find(\"]\")])\n",
    "                    names = sorted(matrix.columns, key=g, reverse=False)\n",
    "                    matrix = matrix.loc[names, names]\n",
    "                if sort_by == \"Frequency/Cited by desc.\":\n",
    "                    g = lambda m: int(m[m.find(\"[\") + 1 : m.find(\"]\")])\n",
    "                    names = sorted(matrix.columns, key=g, reverse=True)\n",
    "                    matrix = matrix.loc[names, names]\n",
    "                if sort_by == \"Alphabetic asc.\":\n",
    "                    matrix = matrix.sort_index(axis=0, ascending=True).sort_index(\n",
    "                        axis=1, ascending=True\n",
    "                    )\n",
    "                if sort_by == \"Alphabetic desc.\":\n",
    "                    matrix = matrix.sort_index(axis=0, ascending=False).sort_index(\n",
    "                        axis=1, ascending=False\n",
    "                    )\n",
    "                #\n",
    "                # View\n",
    "                #\n",
    "                display(\n",
    "                    matrix.style.format(\n",
    "                        lambda q: \"{:+4.3f}\".format(q) if q >= min_link_value else \"\"\n",
    "                    ).background_gradient(cmap=cmap)\n",
    "                )\n",
    "                #\n",
    "            if view == \"Correlation map\":\n",
    "                #\n",
    "                display(\n",
    "                    correlation_map(\n",
    "                        matrix=matrix,\n",
    "                        layout=layout,\n",
    "                        cmap=cmap,\n",
    "                        figsize=(10, 10),\n",
    "                        min_link_value=min_link_value,\n",
    "                    )\n",
    "                )\n",
    "                #\n",
    "            if view == \"Chord diagram\":\n",
    "                #\n",
    "                display(chord_diagram(matrix, cmap=cmap, minval=min_link_value))\n",
    "\n",
    "    #\n",
    "    # UI\n",
    "    #\n",
    "    controls = [\n",
    "        # 0\n",
    "        {\n",
    "            \"arg\": \"term\",\n",
    "            \"desc\": \"Term to analyze:\",\n",
    "            \"widget\": widgets.Dropdown(\n",
    "                options=[z for z in COLUMNS if z in x.columns],\n",
    "                ensure_option=True,\n",
    "                disabled=False,\n",
    "                layout=Layout(width=WIDGET_WIDTH),\n",
    "            ),\n",
    "        },\n",
    "        # 1\n",
    "        {\n",
    "            \"arg\": \"by\",\n",
    "            \"desc\": \"By Term:\",\n",
    "            \"widget\": widgets.Dropdown(\n",
    "                options=[z for z in COLUMNS if z in x.columns],\n",
    "                ensure_option=True,\n",
    "                disabled=False,\n",
    "                layout=Layout(width=WIDGET_WIDTH),\n",
    "            ),\n",
    "        },\n",
    "        # 2\n",
    "        {\n",
    "            \"arg\": \"method\",\n",
    "            \"desc\": \"Method:\",\n",
    "            \"widget\": widgets.Dropdown(\n",
    "                options=[\"pearson\", \"kendall\", \"spearman\"],\n",
    "                ensure_option=True,\n",
    "                disabled=False,\n",
    "                continuous_update=True,\n",
    "                layout=Layout(width=WIDGET_WIDTH),\n",
    "            ),\n",
    "        },\n",
    "        # 3\n",
    "        {\n",
    "            \"arg\": \"filter_by\",\n",
    "            \"desc\": \"Filter by:\",\n",
    "            \"widget\": widgets.Dropdown(\n",
    "                options=[\"Frequency\", \"Cited by\"],\n",
    "                disable=False,\n",
    "                layout=Layout(width=WIDGET_WIDTH),\n",
    "            ),\n",
    "        },\n",
    "        # 4\n",
    "        {\n",
    "            \"arg\": \"filter_value\",\n",
    "            \"desc\": \"Filter value:\",\n",
    "            \"widget\": widgets.Dropdown(\n",
    "                options=[str(i) for i in range(10)],\n",
    "                disable=False,\n",
    "                layout=Layout(width=WIDGET_WIDTH),\n",
    "            ),\n",
    "        },\n",
    "        # 5\n",
    "        {\n",
    "            \"arg\": \"min_link_value\",\n",
    "            \"desc\": \"Min link value:\",\n",
    "            \"widget\": widgets.Dropdown(\n",
    "                options=\"-1.00 -0.25 0.00 0.125 0.250 0.375 0.500 0.625 0.750 0.875\".split(\n",
    "                    \" \"\n",
    "                ),\n",
    "                ensure_option=True,\n",
    "                disabled=False,\n",
    "                continuous_update=True,\n",
    "                layout=Layout(width=WIDGET_WIDTH),\n",
    "            ),\n",
    "        },\n",
    "        # 6\n",
    "        {\n",
    "            \"arg\": \"view\",\n",
    "            \"desc\": \"View:\",\n",
    "            \"widget\": widgets.Dropdown(\n",
    "                options=[\"Matrix\", \"Correlation map\", \"Chord diagram\"],\n",
    "                ensure_option=True,\n",
    "                disabled=False,\n",
    "                continuous_update=True,\n",
    "                layout=Layout(width=WIDGET_WIDTH),\n",
    "            ),\n",
    "        },\n",
    "        # 7\n",
    "        {\n",
    "            \"arg\": \"cmap\",\n",
    "            \"desc\": \"Matrix colormap:\",\n",
    "            \"widget\": widgets.Dropdown(\n",
    "                options=COLORMAPS,\n",
    "                disable=False,\n",
    "                layout=Layout(width=WIDGET_WIDTH),\n",
    "                disabled=False,\n",
    "            ),\n",
    "        },\n",
    "        # 8\n",
    "        {\n",
    "            \"arg\": \"sort_by\",\n",
    "            \"desc\": \"Sort order:\",\n",
    "            \"widget\": widgets.Dropdown(\n",
    "                options=[\n",
    "                    \"Alphabetic asc.\",\n",
    "                    \"Alphabetic desc.\",\n",
    "                    \"Frequency/Cited by asc.\",\n",
    "                    \"Frequency/Cited by desc.\",\n",
    "                ],\n",
    "                disable=False,\n",
    "                layout=Layout(width=WIDGET_WIDTH),\n",
    "            ),\n",
    "        },\n",
    "        # 9\n",
    "        {\n",
    "            \"arg\": \"layout\",\n",
    "            \"desc\": \"Map layout:\",\n",
    "            \"widget\": widgets.Dropdown(\n",
    "                options=[\n",
    "                    \"Circular\",\n",
    "                    \"Kamada Kawai\",\n",
    "                    \"Planar\",\n",
    "                    \"Random\",\n",
    "                    \"Spectral\",\n",
    "                    \"Spring\",\n",
    "                    \"Shell\",\n",
    "                ],\n",
    "                disable=True,\n",
    "                layout=Layout(width=WIDGET_WIDTH),\n",
    "            ),\n",
    "        },\n",
    "    ]\n",
    "    #\n",
    "    args = {control[\"arg\"]: control[\"widget\"] for control in controls}\n",
    "    output = widgets.Output()\n",
    "    with output:\n",
    "        display(widgets.interactive_output(server, args,))\n",
    "    return widgets.HBox(\n",
    "        [\n",
    "            widgets.VBox(\n",
    "                [\n",
    "                    widgets.VBox(\n",
    "                        [widgets.Label(value=control[\"desc\"]), control[\"widget\"]]\n",
    "                    )\n",
    "                    for control in controls\n",
    "                ],\n",
    "                layout=Layout(height=LEFT_PANEL_HEIGHT, border=\"1px solid gray\"),\n",
    "            ),\n",
    "            widgets.VBox(\n",
    "                [output], layout=Layout(width=RIGHT_PANEL_WIDTH, align_items=\"baseline\")\n",
    "            ),\n",
    "        ]\n",
    "    )\n",
    "\n",
    "\n",
    "#\n",
    "#\n",
    "# APP\n",
    "#\n",
    "#\n",
    "\n",
    "\n",
    "def app(df):\n",
    "    #\n",
    "    body = widgets.Tab()\n",
    "    body.children = [__body_0(df)]\n",
    "    body.set_title(0, \"Matrix\")\n",
    "    #\n",
    "    return AppLayout(\n",
    "        header=widgets.HTML(\n",
    "            value=\"<h1>{}</h1><hr style='height:2px;border-width:0;color:gray;background-color:gray'>\".format(\n",
    "                \"Correlation Analysis\"\n",
    "            )\n",
    "        ),\n",
    "        center=body,\n",
    "        pane_heights=PANE_HEIGHTS,\n",
    "    )\n",
    "\n",
    "\n",
    "#####\n",
    "app(df)"
   ]
  },
  {
   "cell_type": "code",
   "execution_count": null,
   "metadata": {},
   "outputs": [],
   "source": [
    "import textwrap\n",
    "\n",
    "import matplotlib.pyplot as pyplot\n",
    "import numpy as np\n",
    "\n",
    "from techminer.chord_diagram import ChordDiagram\n",
    "\n",
    "TEXTLEN = 20\n",
    "\n",
    "#############\n",
    "def chord_diagram(\n",
    "    x, figsize=(10, 10), cmap='Grays', alpha=1.0, minval=0.0, top_n_links=None, solid_lines=False\n",
    "):\n",
    "    \"\"\"Creates a chord diagram from a correlation or an auto-correlation matrix.\n",
    "\n",
    "\n",
    "    Examples\n",
    "    ----------------------------------------------------------------------------------------------\n",
    "\n",
    "    >>> df = pd.DataFrame(\n",
    "    ...     {\n",
    "    ...         'word 0': [1.00, 0.80, 0.70, 0.00,-0.30],\n",
    "    ...         'word 1': [0.80, 1.00, 0.70, 0.50, 0.00],\n",
    "    ...         'word 2': [0.70, 0.70, 1.00, 0.00, 0.00],\n",
    "    ...         'word 3': [0.00, 0.50, 0.00, 1.00, 0.30],\n",
    "    ...         'word 4': [-0.30, 0.00, 0.00, 0.30, 1.00],\n",
    "    ...     },\n",
    "    ...     index=['word {:d}'.format(i) for i in range(5)]\n",
    "    ... )\n",
    "    >>> df\n",
    "            word 0  word 1  word 2  word 3  word 4\n",
    "    word 0     1.0     0.8     0.7     0.0    -0.3\n",
    "    word 1     0.8     1.0     0.7     0.5     0.0\n",
    "    word 2     0.7     0.7     1.0     0.0     0.0\n",
    "    word 3     0.0     0.5     0.0     1.0     0.3\n",
    "    word 4    -0.3     0.0     0.0     0.3     1.0\n",
    "    >>> fig = chord_diagram(df)\n",
    "    >>> fig.savefig('sphinx/images/plotcd1.png')\n",
    "\n",
    "    .. image:: images/plotcd1.png\n",
    "        :width: 400px\n",
    "        :align: center\n",
    "\n",
    "    >>> fig = chord_diagram(df, top_n_links=5)\n",
    "    >>> fig.savefig('sphinx/images/plotcd2.png')\n",
    "\n",
    "    .. image:: images/plotcd2.png\n",
    "        :width: 400px\n",
    "        :align: center\n",
    "\n",
    "    >>> fig = chord_diagram(df, solid_lines=True)\n",
    "    >>> fig.savefig('sphinx/images/plotcd3.png')\n",
    "\n",
    "    .. image:: images/plotcd3.png\n",
    "        :width: 400px\n",
    "        :align: center\n",
    "\n",
    "    \"\"\"\n",
    "\n",
    "    x = x.copy()\n",
    "    #\n",
    "    \n",
    "    # ---------------------------------------------------\n",
    "    #\n",
    "    # Node sizes\n",
    "    #\n",
    "    terms = x.columns\n",
    "    node_sizes = [int(w[w.find(\"[\") + 1 : w.find(\"]\")]) for w in terms if \"[\" in w]\n",
    "    if len(node_sizes) == 0:\n",
    "        node_sizes = [10] * len(terms)\n",
    "    else:\n",
    "        max_size = max(node_sizes)\n",
    "        min_size = min(node_sizes)\n",
    "        if min_size == max_size:\n",
    "            node_sizes = [300] * len(terms)\n",
    "        else:\n",
    "            node_sizes = [\n",
    "                30 + int(50 * (w - min_size) / (max_size - min_size))\n",
    "                for w in node_sizes\n",
    "            ]\n",
    "\n",
    "    #\n",
    "    # Node colors\n",
    "    #\n",
    "    cmap = pyplot.cm.get_cmap(cmap)\n",
    "    node_colors = [\n",
    "        cmap(0.2 + 0.75 * node_sizes[i] / max(node_sizes))\n",
    "        for i in range(len(node_sizes))\n",
    "    ]\n",
    "    #    \n",
    "    # ---------------------------------------------------\n",
    "    \n",
    "    \n",
    "    #\n",
    "    cd = ChordDiagram()\n",
    "    for idx, term in enumerate(x.columns):\n",
    "        cd.add_node(term, color=node_colors[idx], s=node_sizes[idx])\n",
    "\n",
    "    if top_n_links is not None and top_n_links <= len(x.columns):\n",
    "        values = []\n",
    "        for idx_col in range(len(x.columns) - 1):\n",
    "            for idx_row in range(idx_col + 1, len(x.columns)):\n",
    "                node_a = x.index[idx_row]\n",
    "                node_b = x.columns[idx_col]\n",
    "                value = x[node_b][node_a]\n",
    "                values.append(value)\n",
    "        values = sorted(values, reverse=True)\n",
    "        minval = values[top_n_links - 1]\n",
    "\n",
    "    style = ['-', '-', '--', ':']\n",
    "    if solid_lines is True:\n",
    "        style = list(\"----\")\n",
    "\n",
    "    width = [4, 2, 1, 1]\n",
    "    if solid_lines is True:\n",
    "        width = [4, 2, 1, 1]\n",
    "\n",
    "    links = 0\n",
    "    for idx_col in range(len(x.columns) - 1):\n",
    "        for idx_row in range(idx_col + 1, len(x.columns)):\n",
    "\n",
    "            node_a = x.index[idx_row]\n",
    "            node_b = x.columns[idx_col]\n",
    "            value = x[node_b][node_a]\n",
    "\n",
    "            if value > 0.75 and value >= minval:\n",
    "                cd.add_edge(\n",
    "                    node_a,\n",
    "                    node_b,\n",
    "                    linestyle=style[0],\n",
    "                    linewidth=width[0],\n",
    "                    color=\"black\",\n",
    "                )\n",
    "                links += 1\n",
    "            elif value > 0.50 and value >= minval:\n",
    "                cd.add_edge(\n",
    "                    node_a,\n",
    "                    node_b,\n",
    "                    linestyle=style[1],\n",
    "                    linewidth=width[1],\n",
    "                    color=\"black\",\n",
    "                )\n",
    "                links += 1\n",
    "            elif value > 0.25 and value >= minval:\n",
    "                cd.add_edge(\n",
    "                    node_a,\n",
    "                    node_b,\n",
    "                    linestyle=style[2],\n",
    "                    linewidth=width[2],\n",
    "                    color=\"black\",\n",
    "                )\n",
    "                links += 1\n",
    "            elif value <= 0.25 and value >= minval and value > 0.0:\n",
    "                cd.add_edge(\n",
    "                    node_a, node_b, linestyle=style[3], linewidth=width[3], color=\"black\",\n",
    "                )\n",
    "                links += 1\n",
    "\n",
    "            if top_n_links is not None and links >= top_n_links:\n",
    "                continue\n",
    "\n",
    "    return cd.plot(figsize=figsize)\n",
    "\n"
   ]
  },
  {
   "cell_type": "code",
   "execution_count": null,
   "metadata": {},
   "outputs": [],
   "source": []
  },
  {
   "cell_type": "code",
   "execution_count": null,
   "metadata": {},
   "outputs": [],
   "source": []
  },
  {
   "cell_type": "code",
   "execution_count": null,
   "metadata": {},
   "outputs": [],
   "source": []
  },
  {
   "cell_type": "code",
   "execution_count": null,
   "metadata": {},
   "outputs": [],
   "source": []
  },
  {
   "cell_type": "code",
   "execution_count": null,
   "metadata": {},
   "outputs": [],
   "source": []
  },
  {
   "cell_type": "code",
   "execution_count": null,
   "metadata": {},
   "outputs": [],
   "source": []
  },
  {
   "cell_type": "code",
   "execution_count": null,
   "metadata": {},
   "outputs": [],
   "source": []
  },
  {
   "cell_type": "code",
   "execution_count": null,
   "metadata": {},
   "outputs": [],
   "source": [
    "from ipywidgets import interact, interactive, fixed, interact_manual\n",
    "interact(slow_function,i=widgets.FloatSlider(min=1e5, max=1e7, step=1e5, continuous_update=True));"
   ]
  },
  {
   "cell_type": "code",
   "execution_count": null,
   "metadata": {},
   "outputs": [],
   "source": [
    "def slow_function(i):\n",
    "    print(int(i),list(x for x in range(int(i)) if\n",
    "                str(x)==str(x)[::-1] and\n",
    "                str(x**2)==str(x**2)[::-1]))\n",
    "    return"
   ]
  },
  {
   "cell_type": "code",
   "execution_count": null,
   "metadata": {},
   "outputs": [],
   "source": []
  },
  {
   "cell_type": "code",
   "execution_count": null,
   "metadata": {},
   "outputs": [],
   "source": [
    "x = \"hola\"\n",
    "x[:-1]"
   ]
  },
  {
   "cell_type": "code",
   "execution_count": null,
   "metadata": {},
   "outputs": [],
   "source": [
    "import pandas as pd\n",
    "x = pd.DataFrame({'a': [1, 2, 3, 4, 5], 'b': list('ABCDE')})\n",
    "\n",
    "x.values.ravel().tolist()"
   ]
  },
  {
   "cell_type": "code",
   "execution_count": null,
   "metadata": {},
   "outputs": [],
   "source": [
    "x"
   ]
  },
  {
   "cell_type": "code",
   "execution_count": null,
   "metadata": {},
   "outputs": [],
   "source": [
    "x.values.shape"
   ]
  },
  {
   "cell_type": "code",
   "execution_count": null,
   "metadata": {},
   "outputs": [],
   "source": [
    "print('hola')"
   ]
  },
  {
   "cell_type": "code",
   "execution_count": null,
   "metadata": {},
   "outputs": [],
   "source": [
    "m = \"abcdefg [1000]\"\n",
    "m[m.find('[')+1:m.find(']')]\n"
   ]
  },
  {
   "cell_type": "code",
   "execution_count": null,
   "metadata": {},
   "outputs": [],
   "source": []
  },
  {
   "cell_type": "code",
   "execution_count": null,
   "metadata": {},
   "outputs": [],
   "source": [
    "import networkx as nx\n",
    "G = nx.petersen_graph()\n",
    "nx.draw(G, with_labels=True, font_weight='bold')"
   ]
  },
  {
   "cell_type": "code",
   "execution_count": null,
   "metadata": {},
   "outputs": [],
   "source": [
    "nx.draw_shell(G, nlist=[range(5, 10), range(5)], with_labels=True, font_weight='bold')"
   ]
  },
  {
   "cell_type": "code",
   "execution_count": null,
   "metadata": {},
   "outputs": [],
   "source": [
    "nx.draw_circular(G, nlist=[range(5, 10), range(5)], with_labels=True, font_weight='bold')"
   ]
  },
  {
   "cell_type": "code",
   "execution_count": null,
   "metadata": {},
   "outputs": [],
   "source": [
    "nx.draw_kamada_kawai(G, nlist=[range(5, 10), range(5)], with_labels=True, font_weight='bold')"
   ]
  },
  {
   "cell_type": "code",
   "execution_count": null,
   "metadata": {},
   "outputs": [],
   "source": [
    "nx.draw_spectral(G, nlist=[range(5, 10), range(5)], with_labels=True, font_weight='bold')"
   ]
  },
  {
   "cell_type": "code",
   "execution_count": null,
   "metadata": {},
   "outputs": [],
   "source": [
    "nx.draw_spring(G, nlist=[range(5, 10), range(5)], with_labels=True, font_weight='bold')"
   ]
  },
  {
   "cell_type": "code",
   "execution_count": null,
   "metadata": {},
   "outputs": [],
   "source": [
    "nx.draw_shell(G, nlist=[range(5, 10), range(5)], with_labels=True, font_weight='bold')"
   ]
  },
  {
   "cell_type": "code",
   "execution_count": null,
   "metadata": {},
   "outputs": [],
   "source": [
    "[12]*5"
   ]
  },
  {
   "cell_type": "code",
   "execution_count": null,
   "metadata": {},
   "outputs": [],
   "source": []
  }
 ],
 "metadata": {
  "kernelspec": {
   "display_name": "Python 3",
   "language": "python",
   "name": "python3"
  },
  "language_info": {
   "codemirror_mode": {
    "name": "ipython",
    "version": 3
   },
   "file_extension": ".py",
   "mimetype": "text/x-python",
   "name": "python",
   "nbconvert_exporter": "python",
   "pygments_lexer": "ipython3",
   "version": "3.6.9"
  },
  "widgets": {
   "application/vnd.jupyter.widget-state+json": {
    "state": {
     "021020abed4d4c3bb1ed22a177fb200a": {
      "model_module": "@jupyter-widgets/controls",
      "model_module_version": "1.5.0",
      "model_name": "DropdownModel",
      "state": {
       "_options_labels": [
        "pearson",
        "kendall",
        "spearman"
       ],
       "index": 0,
       "layout": "IPY_MODEL_74cb139ee27940e4a73c6187c6255054",
       "style": "IPY_MODEL_7387c15d2e184bc3a1a53daa23d57998"
      }
     },
     "04479e40bb5e41248322aac5dd524e38": {
      "model_module": "@jupyter-widgets/controls",
      "model_module_version": "1.5.0",
      "model_name": "VBoxModel",
      "state": {
       "children": [
        "IPY_MODEL_9e958c9945404ef29a589f1a72a2b970",
        "IPY_MODEL_b78a1c88ecdf449da49b9682552bdd56"
       ],
       "layout": "IPY_MODEL_a6c2b3ab543142d79416fb06ff0848b2"
      }
     },
     "075e3b6057c64a308a94221446bf311c": {
      "model_module": "@jupyter-widgets/controls",
      "model_module_version": "1.5.0",
      "model_name": "DescriptionStyleModel",
      "state": {
       "description_width": ""
      }
     },
     "098bd9ab0ad5450eaa901f5f5d81d5db": {
      "model_module": "@jupyter-widgets/controls",
      "model_module_version": "1.5.0",
      "model_name": "VBoxModel",
      "state": {
       "children": [
        "IPY_MODEL_32af1c7299b84cd19d509be794c6d0e4",
        "IPY_MODEL_43b0cd696b624b1b86021eb54598ec28"
       ],
       "layout": "IPY_MODEL_9294085d6b27480aa0c08ea06e794bf1"
      }
     },
     "0c5674612410426d96e5d7ce67e95627": {
      "model_module": "@jupyter-widgets/controls",
      "model_module_version": "1.5.0",
      "model_name": "LabelModel",
      "state": {
       "layout": "IPY_MODEL_19b18e5fffe743a5907ac45217cf894b",
       "style": "IPY_MODEL_141a409cec054bd39a41d12a0c1c038a",
       "value": "Term to analyze:"
      }
     },
     "10a0302d9c184cc08f90b0d391312b4e": {
      "model_module": "@jupyter-widgets/controls",
      "model_module_version": "1.5.0",
      "model_name": "DescriptionStyleModel",
      "state": {
       "description_width": ""
      }
     },
     "141a409cec054bd39a41d12a0c1c038a": {
      "model_module": "@jupyter-widgets/controls",
      "model_module_version": "1.5.0",
      "model_name": "DescriptionStyleModel",
      "state": {
       "description_width": ""
      }
     },
     "19082f8ebdc74072970cba786093c572": {
      "model_module": "@jupyter-widgets/controls",
      "model_module_version": "1.5.0",
      "model_name": "VBoxModel",
      "state": {
       "children": [
        "IPY_MODEL_543ddd27bf034f73a492ad9f84d86d44",
        "IPY_MODEL_021020abed4d4c3bb1ed22a177fb200a"
       ],
       "layout": "IPY_MODEL_c62e909e37a748c4afc19b883256611a"
      }
     },
     "19b18e5fffe743a5907ac45217cf894b": {
      "model_module": "@jupyter-widgets/base",
      "model_module_version": "1.2.0",
      "model_name": "LayoutModel",
      "state": {}
     },
     "1aa59e62721b471cab2c233eb1c7abc6": {
      "model_module": "@jupyter-widgets/controls",
      "model_module_version": "1.5.0",
      "model_name": "GridBoxModel",
      "state": {
       "children": [
        "IPY_MODEL_95c5c7f33a8d4f0094264aef0460a622",
        "IPY_MODEL_78f661a548a64da6aabbc092a24da70e"
       ],
       "layout": "IPY_MODEL_95aceb3c3033451ea351368b837eab26"
      }
     },
     "1ab3a63fb14b4fcb946ee3c014738858": {
      "model_module": "@jupyter-widgets/controls",
      "model_module_version": "1.5.0",
      "model_name": "LabelModel",
      "state": {
       "layout": "IPY_MODEL_9c5cfd78849147a780079f80544514e8",
       "style": "IPY_MODEL_b2d6af34feeb456fa86bbb6e310b6a06",
       "value": "Matrix colormap:"
      }
     },
     "1f0336aac4234bfbb252dde5158ff983": {
      "model_module": "@jupyter-widgets/controls",
      "model_module_version": "1.5.0",
      "model_name": "DropdownModel",
      "state": {
       "_options_labels": [
        "1 [2135]",
        "2 [311]",
        "3 [122]",
        "4 [70]",
        "5 [51]",
        "6 [34]",
        "7 [23]",
        "8 [20]",
        "9 [13]",
        "12 [12]",
        "13 [10]",
        "15 [9]",
        "17 [8]",
        "22 [7]",
        "25 [6]",
        "28 [5]",
        "36 [4]",
        "58 [3]",
        "87 [2]",
        "95 [1]"
       ],
       "index": 0,
       "layout": "IPY_MODEL_42e37be460e546caaf66d61a2cca316f",
       "style": "IPY_MODEL_c7ac15297c3044a79d77dbcd09929140"
      }
     },
     "20caf9c20e064eddb908b57211f7bdfc": {
      "model_module": "@jupyter-widgets/controls",
      "model_module_version": "1.5.0",
      "model_name": "VBoxModel",
      "state": {
       "children": [
        "IPY_MODEL_4331658ea04f4825b9ab5a9b7daccc70",
        "IPY_MODEL_84d6abf2a69948629695e6a4c3dcbddc"
       ],
       "layout": "IPY_MODEL_bce68bbb8ce64fec8963f7c4d62c9f91"
      }
     },
     "29521a5464cd46f58005c9035999fcc8": {
      "model_module": "@jupyter-widgets/controls",
      "model_module_version": "1.5.0",
      "model_name": "DescriptionStyleModel",
      "state": {
       "description_width": ""
      }
     },
     "2ecb6c671ed34cbfaebf327d496a3784": {
      "model_module": "@jupyter-widgets/base",
      "model_module_version": "1.2.0",
      "model_name": "LayoutModel",
      "state": {}
     },
     "32af1c7299b84cd19d509be794c6d0e4": {
      "model_module": "@jupyter-widgets/controls",
      "model_module_version": "1.5.0",
      "model_name": "LabelModel",
      "state": {
       "layout": "IPY_MODEL_ebd272d9e273438d9b507f130ed864bb",
       "style": "IPY_MODEL_10a0302d9c184cc08f90b0d391312b4e",
       "value": "Map layout:"
      }
     },
     "3528e1ef91744a1aa92fcaec7de728ff": {
      "model_module": "@jupyter-widgets/controls",
      "model_module_version": "1.5.0",
      "model_name": "VBoxModel",
      "state": {
       "children": [
        "IPY_MODEL_ad4ff8a161534b9aadda4bec1321d7ee",
        "IPY_MODEL_b5eeca1de934465faa0ffa3dcd75bc32"
       ],
       "layout": "IPY_MODEL_35473ceaec004817b5bd5411e3b95da3"
      }
     },
     "35473ceaec004817b5bd5411e3b95da3": {
      "model_module": "@jupyter-widgets/base",
      "model_module_version": "1.2.0",
      "model_name": "LayoutModel",
      "state": {}
     },
     "3813afc3589e406bab8aadba512c6bd7": {
      "model_module": "@jupyter-widgets/controls",
      "model_module_version": "1.5.0",
      "model_name": "VBoxModel",
      "state": {
       "children": [
        "IPY_MODEL_7a8d537400214b868c18bbeb8887f706",
        "IPY_MODEL_1f0336aac4234bfbb252dde5158ff983"
       ],
       "layout": "IPY_MODEL_ac61a408e078437f93e5bce83d922715"
      }
     },
     "3aa9c2c76ce843f8add0521e6a0e1539": {
      "model_module": "@jupyter-widgets/base",
      "model_module_version": "1.2.0",
      "model_name": "LayoutModel",
      "state": {}
     },
     "3da61bea8f4c4938bdaa770309609a8f": {
      "model_module": "@jupyter-widgets/base",
      "model_module_version": "1.2.0",
      "model_name": "LayoutModel",
      "state": {
       "align_items": "baseline",
       "width": "870px"
      }
     },
     "3e64042168e74b6ba46c7a08b828fc5c": {
      "model_module": "@jupyter-widgets/controls",
      "model_module_version": "1.5.0",
      "model_name": "DescriptionStyleModel",
      "state": {
       "description_width": ""
      }
     },
     "42e37be460e546caaf66d61a2cca316f": {
      "model_module": "@jupyter-widgets/base",
      "model_module_version": "1.2.0",
      "model_name": "LayoutModel",
      "state": {
       "width": "200px"
      }
     },
     "4331658ea04f4825b9ab5a9b7daccc70": {
      "model_module": "@jupyter-widgets/controls",
      "model_module_version": "1.5.0",
      "model_name": "LabelModel",
      "state": {
       "layout": "IPY_MODEL_b362a975e1f44c35a4288e417d4ecc67",
       "style": "IPY_MODEL_60bd514afce94ea5822249b898dd187a",
       "value": "By Term:"
      }
     },
     "43b0cd696b624b1b86021eb54598ec28": {
      "model_module": "@jupyter-widgets/controls",
      "model_module_version": "1.5.0",
      "model_name": "DropdownModel",
      "state": {
       "_options_labels": [
        "Circular",
        "Kamada Kawai",
        "Planar",
        "Random",
        "Spectral",
        "Spring",
        "Shell"
       ],
       "disabled": true,
       "index": 0,
       "layout": "IPY_MODEL_72bc33104a53456ba6eca1a1767c31aa",
       "style": "IPY_MODEL_62fd08104e92432789f342e8cd2ae46a"
      }
     },
     "43cccaf504844b60955aa67417c539e0": {
      "model_module": "@jupyter-widgets/output",
      "model_module_version": "1.0.0",
      "model_name": "OutputModel",
      "state": {
       "layout": "IPY_MODEL_3aa9c2c76ce843f8add0521e6a0e1539",
       "outputs": [
        {
         "data": {
          "application/vnd.jupyter.widget-view+json": {
           "model_id": "7516c9049d7e42469c087002c81c2684",
           "version_major": 2,
           "version_minor": 0
          },
          "text/plain": "Output()"
         },
         "metadata": {},
         "output_type": "display_data"
        }
       ]
      }
     },
     "47a74328a9804c36852773a5666aeeb7": {
      "model_module": "@jupyter-widgets/controls",
      "model_module_version": "1.5.0",
      "model_name": "DropdownModel",
      "state": {
       "_options_labels": [
        "Author Keywords",
        "Authors",
        "Countries",
        "Country 1st",
        "Index Keywords",
        "Institution 1st",
        "Institutions",
        "Keywords",
        "Source title"
       ],
       "index": 0,
       "layout": "IPY_MODEL_d2fd4b99200d4106bcc497222090b59a",
       "style": "IPY_MODEL_b806ea963d8b4822bdd2d1eba89e6e8b"
      }
     },
     "5124c9c8f24541878263fd596cbc137a": {
      "model_module": "@jupyter-widgets/base",
      "model_module_version": "1.2.0",
      "model_name": "LayoutModel",
      "state": {}
     },
     "543ddd27bf034f73a492ad9f84d86d44": {
      "model_module": "@jupyter-widgets/controls",
      "model_module_version": "1.5.0",
      "model_name": "LabelModel",
      "state": {
       "layout": "IPY_MODEL_b82d4cd7e1864b81b88d9856e790da32",
       "style": "IPY_MODEL_fddaedf0edd84800ab680dc309f40435",
       "value": "Method:"
      }
     },
     "5b1fe41e3a1f4c4c8bb7cd8eef05da02": {
      "model_module": "@jupyter-widgets/controls",
      "model_module_version": "1.5.0",
      "model_name": "DescriptionStyleModel",
      "state": {
       "description_width": ""
      }
     },
     "5ecd86dc387f4f66a85ab5c674a65201": {
      "model_module": "@jupyter-widgets/base",
      "model_module_version": "1.2.0",
      "model_name": "LayoutModel",
      "state": {}
     },
     "60bd514afce94ea5822249b898dd187a": {
      "model_module": "@jupyter-widgets/controls",
      "model_module_version": "1.5.0",
      "model_name": "DescriptionStyleModel",
      "state": {
       "description_width": ""
      }
     },
     "62fd08104e92432789f342e8cd2ae46a": {
      "model_module": "@jupyter-widgets/controls",
      "model_module_version": "1.5.0",
      "model_name": "DescriptionStyleModel",
      "state": {
       "description_width": ""
      }
     },
     "65195910c3de4748bde0e6da520e6cac": {
      "model_module": "@jupyter-widgets/controls",
      "model_module_version": "1.5.0",
      "model_name": "LabelModel",
      "state": {
       "layout": "IPY_MODEL_787bbb697cfc4799b3b431622bb142c8",
       "style": "IPY_MODEL_91fbec9ecb2e4ce18f6464172f3e3987",
       "value": "Min link value:"
      }
     },
     "663b4cfe930c41b9b73b1fb94e8b2ee4": {
      "model_module": "@jupyter-widgets/controls",
      "model_module_version": "1.5.0",
      "model_name": "VBoxModel",
      "state": {
       "children": [
        "IPY_MODEL_92d93a8a183f48a49263c8a32dfba296",
        "IPY_MODEL_905fb6d7970c41f9a18d782652a2106a"
       ],
       "layout": "IPY_MODEL_5ecd86dc387f4f66a85ab5c674a65201"
      }
     },
     "67e61c5966b7444c98eaee42d5a271cb": {
      "model_module": "@jupyter-widgets/base",
      "model_module_version": "1.2.0",
      "model_name": "LayoutModel",
      "state": {
       "width": "200px"
      }
     },
     "6b95d847b94f4765b7ddec4de1340e80": {
      "model_module": "@jupyter-widgets/base",
      "model_module_version": "1.2.0",
      "model_name": "LayoutModel",
      "state": {}
     },
     "6e6a08809c4b4fc2937b054d398dd52a": {
      "model_module": "@jupyter-widgets/controls",
      "model_module_version": "1.5.0",
      "model_name": "DescriptionStyleModel",
      "state": {
       "description_width": ""
      }
     },
     "72bc33104a53456ba6eca1a1767c31aa": {
      "model_module": "@jupyter-widgets/base",
      "model_module_version": "1.2.0",
      "model_name": "LayoutModel",
      "state": {
       "width": "200px"
      }
     },
     "7387c15d2e184bc3a1a53daa23d57998": {
      "model_module": "@jupyter-widgets/controls",
      "model_module_version": "1.5.0",
      "model_name": "DescriptionStyleModel",
      "state": {
       "description_width": ""
      }
     },
     "74cb139ee27940e4a73c6187c6255054": {
      "model_module": "@jupyter-widgets/base",
      "model_module_version": "1.2.0",
      "model_name": "LayoutModel",
      "state": {
       "width": "200px"
      }
     },
     "7516c9049d7e42469c087002c81c2684": {
      "model_module": "@jupyter-widgets/output",
      "model_module_version": "1.0.0",
      "model_name": "OutputModel",
      "state": {
       "layout": "IPY_MODEL_766cf65cca534f7f87ce95fdb275b98e",
       "outputs": [
        {
         "data": {
          "application/vnd.jupyter.widget-view+json": {
           "model_id": "86f1b327435e4376aeb6da881143be42",
           "version_major": 2,
           "version_minor": 0
          },
          "text/plain": "HTML(value='<h3>Matrix exceeds the maximum shape</h3>')"
         },
         "metadata": {},
         "output_type": "display_data"
        }
       ]
      }
     },
     "766cf65cca534f7f87ce95fdb275b98e": {
      "model_module": "@jupyter-widgets/base",
      "model_module_version": "1.2.0",
      "model_name": "LayoutModel",
      "state": {}
     },
     "787bbb697cfc4799b3b431622bb142c8": {
      "model_module": "@jupyter-widgets/base",
      "model_module_version": "1.2.0",
      "model_name": "LayoutModel",
      "state": {}
     },
     "78f661a548a64da6aabbc092a24da70e": {
      "model_module": "@jupyter-widgets/controls",
      "model_module_version": "1.5.0",
      "model_name": "TabModel",
      "state": {
       "_titles": {
        "0": "Matrix"
       },
       "children": [
        "IPY_MODEL_b4e6a6f8a6dc421d822aaa8aa66035c3"
       ],
       "layout": "IPY_MODEL_f6a5707b15a746069a3e3410b1289357"
      }
     },
     "79a09b42eec7464f9663a19b639fe528": {
      "model_module": "@jupyter-widgets/base",
      "model_module_version": "1.2.0",
      "model_name": "LayoutModel",
      "state": {
       "width": "200px"
      }
     },
     "7a8d537400214b868c18bbeb8887f706": {
      "model_module": "@jupyter-widgets/controls",
      "model_module_version": "1.5.0",
      "model_name": "LabelModel",
      "state": {
       "layout": "IPY_MODEL_90a5ee141c004c28866ea9243c4362c8",
       "style": "IPY_MODEL_caa37fe5d22c4476b541611076a16c9b",
       "value": "Filter value:"
      }
     },
     "7ac091e66e984e6eb30210afff221890": {
      "model_module": "@jupyter-widgets/base",
      "model_module_version": "1.2.0",
      "model_name": "LayoutModel",
      "state": {
       "border": "1px solid gray",
       "height": "650px"
      }
     },
     "7cd316a2a2c64d88935db5e51226fa71": {
      "model_module": "@jupyter-widgets/controls",
      "model_module_version": "1.5.0",
      "model_name": "DescriptionStyleModel",
      "state": {
       "description_width": ""
      }
     },
     "80c1aa80df32433498755404cc5c3e40": {
      "model_module": "@jupyter-widgets/controls",
      "model_module_version": "1.5.0",
      "model_name": "DropdownModel",
      "state": {
       "_options_labels": [
        "-1.00",
        "-0.25",
        "0.00",
        "0.125",
        "0.250",
        "0.375",
        "0.500",
        "0.625",
        "0.750",
        "0.875"
       ],
       "index": 0,
       "layout": "IPY_MODEL_79a09b42eec7464f9663a19b639fe528",
       "style": "IPY_MODEL_5b1fe41e3a1f4c4c8bb7cd8eef05da02"
      }
     },
     "84d6abf2a69948629695e6a4c3dcbddc": {
      "model_module": "@jupyter-widgets/controls",
      "model_module_version": "1.5.0",
      "model_name": "DropdownModel",
      "state": {
       "_options_labels": [
        "Author Keywords",
        "Authors",
        "Countries",
        "Country 1st",
        "Index Keywords",
        "Institution 1st",
        "Institutions",
        "Keywords",
        "Source title"
       ],
       "index": 0,
       "layout": "IPY_MODEL_a422671da72043999399f12b87c3702b",
       "style": "IPY_MODEL_075e3b6057c64a308a94221446bf311c"
      }
     },
     "86f1b327435e4376aeb6da881143be42": {
      "model_module": "@jupyter-widgets/controls",
      "model_module_version": "1.5.0",
      "model_name": "HTMLModel",
      "state": {
       "layout": "IPY_MODEL_6b95d847b94f4765b7ddec4de1340e80",
       "style": "IPY_MODEL_3e64042168e74b6ba46c7a08b828fc5c",
       "value": "<h3>Matrix exceeds the maximum shape</h3>"
      }
     },
     "899946cb87f44e358cdd4055ef0afea0": {
      "model_module": "@jupyter-widgets/base",
      "model_module_version": "1.2.0",
      "model_name": "LayoutModel",
      "state": {}
     },
     "8e231730e00b4391a017f5911eb40321": {
      "model_module": "@jupyter-widgets/base",
      "model_module_version": "1.2.0",
      "model_name": "LayoutModel",
      "state": {
       "width": "200px"
      }
     },
     "905fb6d7970c41f9a18d782652a2106a": {
      "model_module": "@jupyter-widgets/controls",
      "model_module_version": "1.5.0",
      "model_name": "DropdownModel",
      "state": {
       "_options_labels": [
        "Matrix",
        "Correlation map",
        "Chord diagram"
       ],
       "index": 0,
       "layout": "IPY_MODEL_b1ba056499bc4e8d8553acc5c5f88e18",
       "style": "IPY_MODEL_cb237ee4681a4cd09341782cc0cda0bc"
      }
     },
     "90a5ee141c004c28866ea9243c4362c8": {
      "model_module": "@jupyter-widgets/base",
      "model_module_version": "1.2.0",
      "model_name": "LayoutModel",
      "state": {}
     },
     "91fbec9ecb2e4ce18f6464172f3e3987": {
      "model_module": "@jupyter-widgets/controls",
      "model_module_version": "1.5.0",
      "model_name": "DescriptionStyleModel",
      "state": {
       "description_width": ""
      }
     },
     "9294085d6b27480aa0c08ea06e794bf1": {
      "model_module": "@jupyter-widgets/base",
      "model_module_version": "1.2.0",
      "model_name": "LayoutModel",
      "state": {}
     },
     "92d93a8a183f48a49263c8a32dfba296": {
      "model_module": "@jupyter-widgets/controls",
      "model_module_version": "1.5.0",
      "model_name": "LabelModel",
      "state": {
       "layout": "IPY_MODEL_d56525b246ec4c27a60e97ffb34fa0d3",
       "style": "IPY_MODEL_db33aa7234824c51974168a7034006f4",
       "value": "View:"
      }
     },
     "93b5c40f81124fa59fabcc1f27b688f1": {
      "model_module": "@jupyter-widgets/base",
      "model_module_version": "1.2.0",
      "model_name": "LayoutModel",
      "state": {}
     },
     "95aceb3c3033451ea351368b837eab26": {
      "model_module": "@jupyter-widgets/base",
      "model_module_version": "1.2.0",
      "model_name": "LayoutModel",
      "state": {
       "grid_template_areas": "\"header header header\"\n\"center center center\"",
       "grid_template_columns": "1fr 2fr 1fr",
       "grid_template_rows": "80px 750px"
      }
     },
     "95c5c7f33a8d4f0094264aef0460a622": {
      "model_module": "@jupyter-widgets/controls",
      "model_module_version": "1.5.0",
      "model_name": "HTMLModel",
      "state": {
       "layout": "IPY_MODEL_bcb4fcc165304a8bafc43b73be3d2a77",
       "style": "IPY_MODEL_fe61f6709e354f4d91dbfa38c88cdbc0",
       "value": "<h1>Correlation Analysis</h1><hr style='height:2px;border-width:0;color:gray;background-color:gray'>"
      }
     },
     "9b9b851c9a3d4fe9b53e7d1082f7aa36": {
      "model_module": "@jupyter-widgets/controls",
      "model_module_version": "1.5.0",
      "model_name": "VBoxModel",
      "state": {
       "children": [
        "IPY_MODEL_0c5674612410426d96e5d7ce67e95627",
        "IPY_MODEL_47a74328a9804c36852773a5666aeeb7"
       ],
       "layout": "IPY_MODEL_d64e7dd8f4bd4038a6d3535296a36c71"
      }
     },
     "9c5cfd78849147a780079f80544514e8": {
      "model_module": "@jupyter-widgets/base",
      "model_module_version": "1.2.0",
      "model_name": "LayoutModel",
      "state": {}
     },
     "9e958c9945404ef29a589f1a72a2b970": {
      "model_module": "@jupyter-widgets/controls",
      "model_module_version": "1.5.0",
      "model_name": "LabelModel",
      "state": {
       "layout": "IPY_MODEL_cf809af0f95e4858a62a0c97610f99c9",
       "style": "IPY_MODEL_cea1379d5831427f90a7587e5d2a57aa",
       "value": "Filter by:"
      }
     },
     "a422671da72043999399f12b87c3702b": {
      "model_module": "@jupyter-widgets/base",
      "model_module_version": "1.2.0",
      "model_name": "LayoutModel",
      "state": {
       "width": "200px"
      }
     },
     "a6c2b3ab543142d79416fb06ff0848b2": {
      "model_module": "@jupyter-widgets/base",
      "model_module_version": "1.2.0",
      "model_name": "LayoutModel",
      "state": {}
     },
     "ac61a408e078437f93e5bce83d922715": {
      "model_module": "@jupyter-widgets/base",
      "model_module_version": "1.2.0",
      "model_name": "LayoutModel",
      "state": {}
     },
     "ad4ff8a161534b9aadda4bec1321d7ee": {
      "model_module": "@jupyter-widgets/controls",
      "model_module_version": "1.5.0",
      "model_name": "LabelModel",
      "state": {
       "layout": "IPY_MODEL_899946cb87f44e358cdd4055ef0afea0",
       "style": "IPY_MODEL_b7af8f43ef214aff92610f430fa9cdbb",
       "value": "Sort order:"
      }
     },
     "af59cf23219f464c941a0446ff8dae1b": {
      "model_module": "@jupyter-widgets/controls",
      "model_module_version": "1.5.0",
      "model_name": "HTMLModel",
      "state": {
       "layout": "IPY_MODEL_93b5c40f81124fa59fabcc1f27b688f1",
       "style": "IPY_MODEL_7cd316a2a2c64d88935db5e51226fa71",
       "value": "<h3>Matrix exceeds the maximum shape</h3>"
      }
     },
     "b1ba056499bc4e8d8553acc5c5f88e18": {
      "model_module": "@jupyter-widgets/base",
      "model_module_version": "1.2.0",
      "model_name": "LayoutModel",
      "state": {
       "width": "200px"
      }
     },
     "b1dfc16dd1064136903528e693bc826f": {
      "model_module": "@jupyter-widgets/controls",
      "model_module_version": "1.5.0",
      "model_name": "VBoxModel",
      "state": {
       "children": [
        "IPY_MODEL_65195910c3de4748bde0e6da520e6cac",
        "IPY_MODEL_80c1aa80df32433498755404cc5c3e40"
       ],
       "layout": "IPY_MODEL_e5ae7418f1604c649452060a4c3ed5b4"
      }
     },
     "b2d6af34feeb456fa86bbb6e310b6a06": {
      "model_module": "@jupyter-widgets/controls",
      "model_module_version": "1.5.0",
      "model_name": "DescriptionStyleModel",
      "state": {
       "description_width": ""
      }
     },
     "b362a975e1f44c35a4288e417d4ecc67": {
      "model_module": "@jupyter-widgets/base",
      "model_module_version": "1.2.0",
      "model_name": "LayoutModel",
      "state": {}
     },
     "b4e6a6f8a6dc421d822aaa8aa66035c3": {
      "model_module": "@jupyter-widgets/controls",
      "model_module_version": "1.5.0",
      "model_name": "HBoxModel",
      "state": {
       "children": [
        "IPY_MODEL_d5e59d0734fa4231ba063b8baeec1db7",
        "IPY_MODEL_f91e273b514c4449b4426f02892d438f"
       ],
       "layout": "IPY_MODEL_2ecb6c671ed34cbfaebf327d496a3784"
      }
     },
     "b5eeca1de934465faa0ffa3dcd75bc32": {
      "model_module": "@jupyter-widgets/controls",
      "model_module_version": "1.5.0",
      "model_name": "DropdownModel",
      "state": {
       "_options_labels": [
        "Alphabetic asc.",
        "Alphabetic desc.",
        "Frequency/Cited by asc.",
        "Frequency/Cited by desc."
       ],
       "disabled": true,
       "index": 0,
       "layout": "IPY_MODEL_ca33b15f49c048508e7d32652e6f780a",
       "style": "IPY_MODEL_6e6a08809c4b4fc2937b054d398dd52a"
      }
     },
     "b78a1c88ecdf449da49b9682552bdd56": {
      "model_module": "@jupyter-widgets/controls",
      "model_module_version": "1.5.0",
      "model_name": "DropdownModel",
      "state": {
       "_options_labels": [
        "Frequency",
        "Cited by"
       ],
       "index": 0,
       "layout": "IPY_MODEL_67e61c5966b7444c98eaee42d5a271cb",
       "style": "IPY_MODEL_f1cdd9357c0e436ca732f61832e52caf"
      }
     },
     "b7af8f43ef214aff92610f430fa9cdbb": {
      "model_module": "@jupyter-widgets/controls",
      "model_module_version": "1.5.0",
      "model_name": "DescriptionStyleModel",
      "state": {
       "description_width": ""
      }
     },
     "b806ea963d8b4822bdd2d1eba89e6e8b": {
      "model_module": "@jupyter-widgets/controls",
      "model_module_version": "1.5.0",
      "model_name": "DescriptionStyleModel",
      "state": {
       "description_width": ""
      }
     },
     "b82d4cd7e1864b81b88d9856e790da32": {
      "model_module": "@jupyter-widgets/base",
      "model_module_version": "1.2.0",
      "model_name": "LayoutModel",
      "state": {}
     },
     "bcb4fcc165304a8bafc43b73be3d2a77": {
      "model_module": "@jupyter-widgets/base",
      "model_module_version": "1.2.0",
      "model_name": "LayoutModel",
      "state": {
       "grid_area": "header"
      }
     },
     "bce68bbb8ce64fec8963f7c4d62c9f91": {
      "model_module": "@jupyter-widgets/base",
      "model_module_version": "1.2.0",
      "model_name": "LayoutModel",
      "state": {}
     },
     "c62e909e37a748c4afc19b883256611a": {
      "model_module": "@jupyter-widgets/base",
      "model_module_version": "1.2.0",
      "model_name": "LayoutModel",
      "state": {}
     },
     "c7ac15297c3044a79d77dbcd09929140": {
      "model_module": "@jupyter-widgets/controls",
      "model_module_version": "1.5.0",
      "model_name": "DescriptionStyleModel",
      "state": {
       "description_width": ""
      }
     },
     "ca33b15f49c048508e7d32652e6f780a": {
      "model_module": "@jupyter-widgets/base",
      "model_module_version": "1.2.0",
      "model_name": "LayoutModel",
      "state": {
       "width": "200px"
      }
     },
     "caa37fe5d22c4476b541611076a16c9b": {
      "model_module": "@jupyter-widgets/controls",
      "model_module_version": "1.5.0",
      "model_name": "DescriptionStyleModel",
      "state": {
       "description_width": ""
      }
     },
     "cb237ee4681a4cd09341782cc0cda0bc": {
      "model_module": "@jupyter-widgets/controls",
      "model_module_version": "1.5.0",
      "model_name": "DescriptionStyleModel",
      "state": {
       "description_width": ""
      }
     },
     "cea1379d5831427f90a7587e5d2a57aa": {
      "model_module": "@jupyter-widgets/controls",
      "model_module_version": "1.5.0",
      "model_name": "DescriptionStyleModel",
      "state": {
       "description_width": ""
      }
     },
     "cf809af0f95e4858a62a0c97610f99c9": {
      "model_module": "@jupyter-widgets/base",
      "model_module_version": "1.2.0",
      "model_name": "LayoutModel",
      "state": {}
     },
     "d26fb2777a9c404c8218d2d6188d783d": {
      "model_module": "@jupyter-widgets/controls",
      "model_module_version": "1.5.0",
      "model_name": "DropdownModel",
      "state": {
       "_options_labels": [
        "Greys",
        "Purples",
        "Blues",
        "Greens",
        "Oranges",
        "Reds",
        "YlOrBr",
        "YlOrRd",
        "OrRd",
        "PuRd",
        "RdPu",
        "BuPu",
        "GnBu",
        "PuBu",
        "YlGnBu",
        "PuBuGn",
        "BuGn",
        "YlGn",
        "Pastel1",
        "Pastel2",
        "Paired",
        "Accent",
        "Dark2",
        "Set1",
        "Set2",
        "Set3",
        "tab10",
        "tab20",
        "tab20b",
        "tab20c"
       ],
       "disabled": true,
       "index": 0,
       "layout": "IPY_MODEL_8e231730e00b4391a017f5911eb40321",
       "style": "IPY_MODEL_29521a5464cd46f58005c9035999fcc8"
      }
     },
     "d2fd4b99200d4106bcc497222090b59a": {
      "model_module": "@jupyter-widgets/base",
      "model_module_version": "1.2.0",
      "model_name": "LayoutModel",
      "state": {
       "width": "200px"
      }
     },
     "d56525b246ec4c27a60e97ffb34fa0d3": {
      "model_module": "@jupyter-widgets/base",
      "model_module_version": "1.2.0",
      "model_name": "LayoutModel",
      "state": {}
     },
     "d5e59d0734fa4231ba063b8baeec1db7": {
      "model_module": "@jupyter-widgets/controls",
      "model_module_version": "1.5.0",
      "model_name": "VBoxModel",
      "state": {
       "children": [
        "IPY_MODEL_9b9b851c9a3d4fe9b53e7d1082f7aa36",
        "IPY_MODEL_20caf9c20e064eddb908b57211f7bdfc",
        "IPY_MODEL_19082f8ebdc74072970cba786093c572",
        "IPY_MODEL_04479e40bb5e41248322aac5dd524e38",
        "IPY_MODEL_3813afc3589e406bab8aadba512c6bd7",
        "IPY_MODEL_b1dfc16dd1064136903528e693bc826f",
        "IPY_MODEL_663b4cfe930c41b9b73b1fb94e8b2ee4",
        "IPY_MODEL_d8a1ce8617de40288bdb04360093e553",
        "IPY_MODEL_3528e1ef91744a1aa92fcaec7de728ff",
        "IPY_MODEL_098bd9ab0ad5450eaa901f5f5d81d5db"
       ],
       "layout": "IPY_MODEL_7ac091e66e984e6eb30210afff221890"
      }
     },
     "d64e7dd8f4bd4038a6d3535296a36c71": {
      "model_module": "@jupyter-widgets/base",
      "model_module_version": "1.2.0",
      "model_name": "LayoutModel",
      "state": {}
     },
     "d8a1ce8617de40288bdb04360093e553": {
      "model_module": "@jupyter-widgets/controls",
      "model_module_version": "1.5.0",
      "model_name": "VBoxModel",
      "state": {
       "children": [
        "IPY_MODEL_1ab3a63fb14b4fcb946ee3c014738858",
        "IPY_MODEL_d26fb2777a9c404c8218d2d6188d783d"
       ],
       "layout": "IPY_MODEL_5124c9c8f24541878263fd596cbc137a"
      }
     },
     "db33aa7234824c51974168a7034006f4": {
      "model_module": "@jupyter-widgets/controls",
      "model_module_version": "1.5.0",
      "model_name": "DescriptionStyleModel",
      "state": {
       "description_width": ""
      }
     },
     "e5ae7418f1604c649452060a4c3ed5b4": {
      "model_module": "@jupyter-widgets/base",
      "model_module_version": "1.2.0",
      "model_name": "LayoutModel",
      "state": {}
     },
     "ebd272d9e273438d9b507f130ed864bb": {
      "model_module": "@jupyter-widgets/base",
      "model_module_version": "1.2.0",
      "model_name": "LayoutModel",
      "state": {}
     },
     "f1cdd9357c0e436ca732f61832e52caf": {
      "model_module": "@jupyter-widgets/controls",
      "model_module_version": "1.5.0",
      "model_name": "DescriptionStyleModel",
      "state": {
       "description_width": ""
      }
     },
     "f6a5707b15a746069a3e3410b1289357": {
      "model_module": "@jupyter-widgets/base",
      "model_module_version": "1.2.0",
      "model_name": "LayoutModel",
      "state": {
       "grid_area": "center"
      }
     },
     "f91e273b514c4449b4426f02892d438f": {
      "model_module": "@jupyter-widgets/controls",
      "model_module_version": "1.5.0",
      "model_name": "VBoxModel",
      "state": {
       "children": [
        "IPY_MODEL_43cccaf504844b60955aa67417c539e0"
       ],
       "layout": "IPY_MODEL_3da61bea8f4c4938bdaa770309609a8f"
      }
     },
     "fddaedf0edd84800ab680dc309f40435": {
      "model_module": "@jupyter-widgets/controls",
      "model_module_version": "1.5.0",
      "model_name": "DescriptionStyleModel",
      "state": {
       "description_width": ""
      }
     },
     "fe61f6709e354f4d91dbfa38c88cdbc0": {
      "model_module": "@jupyter-widgets/controls",
      "model_module_version": "1.5.0",
      "model_name": "DescriptionStyleModel",
      "state": {
       "description_width": ""
      }
     }
    },
    "version_major": 2,
    "version_minor": 0
   }
  }
 },
 "nbformat": 4,
 "nbformat_minor": 4
}
