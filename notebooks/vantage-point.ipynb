{
 "cells": [
  {
   "cell_type": "code",
   "execution_count": 1,
   "metadata": {},
   "outputs": [
    {
     "name": "stderr",
     "output_type": "stream",
     "text": [
      "2020-06-04 21:21:31,874 - INFO - Renaming and selecting columns ...\n",
      "2020-06-04 21:21:37,445 - INFO - Formatting author names ...\n",
      "2020-06-04 21:21:37,453 - INFO - Disambiguating author names ...\n",
      "2020-06-04 21:21:37,513 - INFO - Removing part of titles in foreing languages ...\n",
      "2020-06-04 21:21:37,516 - INFO - Fusioning author and index keywords ...\n",
      "2020-06-04 21:21:37,527 - INFO - NumExpr defaulting to 8 threads.\n",
      "2020-06-04 21:21:37,542 - INFO - Extracting countries from affiliations ...\n",
      "2020-06-04 21:21:43,807 - INFO - Extracting institutions from affiliations ...\n",
      "2020-06-04 21:21:43,818 - INFO - Extracting country of 1st author ...\n",
      "2020-06-04 21:21:43,821 - INFO - Extracting affiliation of 1st author ...\n",
      "2020-06-04 21:21:43,824 - INFO - Counting number of authors ...\n"
     ]
    }
   ],
   "source": [
    "import pandas as pd\n",
    "\n",
    "import techminer.data as data\n",
    "\n",
    "filepath = \"../data/papers/urban-agriculture.csv\"\n",
    "df = pd.read_csv(filepath)\n",
    "df = data.load_scopus(df)"
   ]
  },
  {
   "cell_type": "code",
   "execution_count": null,
   "metadata": {},
   "outputs": [],
   "source": [
    "data.coverage(df)"
   ]
  },
  {
   "cell_type": "markdown",
   "metadata": {},
   "source": [
    "### Keywords"
   ]
  },
  {
   "cell_type": "code",
   "execution_count": null,
   "metadata": {},
   "outputs": [],
   "source": []
  },
  {
   "cell_type": "markdown",
   "metadata": {},
   "source": [
    "### FindString Dialog Box pag. 69"
   ]
  },
  {
   "cell_type": "code",
   "execution_count": null,
   "metadata": {},
   "outputs": [],
   "source": []
  },
  {
   "cell_type": "markdown",
   "metadata": {},
   "source": [
    "### Cleaning a list pag. 102"
   ]
  },
  {
   "cell_type": "code",
   "execution_count": null,
   "metadata": {},
   "outputs": [],
   "source": []
  },
  {
   "cell_type": "markdown",
   "metadata": {},
   "source": [
    "### Fuzzy match editor pag.126"
   ]
  },
  {
   "cell_type": "code",
   "execution_count": null,
   "metadata": {},
   "outputs": [],
   "source": []
  },
  {
   "cell_type": "markdown",
   "metadata": {},
   "source": [
    "### Stemming And / Stemming Or"
   ]
  },
  {
   "cell_type": "code",
   "execution_count": null,
   "metadata": {},
   "outputs": [],
   "source": []
  },
  {
   "cell_type": "markdown",
   "metadata": {},
   "source": [
    "### APPS"
   ]
  },
  {
   "cell_type": "code",
   "execution_count": null,
   "metadata": {},
   "outputs": [],
   "source": [
    "import techminer.by_year as year\n",
    "year.app(df)"
   ]
  },
  {
   "cell_type": "code",
   "execution_count": null,
   "metadata": {},
   "outputs": [],
   "source": [
    "import techminer.by_term as term\n",
    "term.app(df)"
   ]
  },
  {
   "cell_type": "code",
   "execution_count": null,
   "metadata": {},
   "outputs": [],
   "source": [
    "import techminer.by_term_per_year as term_year\n",
    "term_year.app(df)"
   ]
  },
  {
   "cell_type": "code",
   "execution_count": null,
   "metadata": {},
   "outputs": [],
   "source": [
    "import techminer.co_occurrence as co_occurrence\n",
    "co_occurrence.app(df)"
   ]
  },
  {
   "cell_type": "code",
   "execution_count": null,
   "metadata": {},
   "outputs": [],
   "source": [
    "import techminer.correlation as correlation\n",
    "correlation.app(df)"
   ]
  },
  {
   "cell_type": "code",
   "execution_count": null,
   "metadata": {},
   "outputs": [],
   "source": []
  },
  {
   "cell_type": "code",
   "execution_count": null,
   "metadata": {},
   "outputs": [],
   "source": []
  },
  {
   "cell_type": "code",
   "execution_count": null,
   "metadata": {},
   "outputs": [],
   "source": []
  },
  {
   "cell_type": "code",
   "execution_count": null,
   "metadata": {},
   "outputs": [],
   "source": []
  },
  {
   "cell_type": "code",
   "execution_count": null,
   "metadata": {},
   "outputs": [],
   "source": []
  },
  {
   "cell_type": "code",
   "execution_count": null,
   "metadata": {},
   "outputs": [],
   "source": [
    "import ipywidgets as widgets\n",
    "from ipywidgets import Layout, AppLayout"
   ]
  },
  {
   "cell_type": "code",
   "execution_count": null,
   "metadata": {},
   "outputs": [],
   "source": [
    "\n",
    "COLUMNS = [\n",
    "    \"Author Keywords\",\n",
    "    \"Authors\",\n",
    "    \"Countries\",\n",
    "    \"Country 1st\",\n",
    "    \"Document type\",\n",
    "    \"Index Keywords\",\n",
    "    \"Institution 1st\",\n",
    "    \"Institutions\",\n",
    "    \"Keywords\",\n",
    "    \"Source title\",\n",
    "]"
   ]
  },
  {
   "cell_type": "code",
   "execution_count": null,
   "metadata": {},
   "outputs": [],
   "source": [
    "FIGSIZE = (14, 10.0) ## Co-occurrente-analysis  <---- no tiene figura\n",
    "FIGSIZE = (14, 9.0)"
   ]
  },
  {
   "cell_type": "markdown",
   "metadata": {},
   "source": [
    "# NUEVA INTERFAZ"
   ]
  },
  {
   "cell_type": "code",
   "execution_count": null,
   "metadata": {},
   "outputs": [],
   "source": [
    "from techminer.summary_by_term_per_year import documents_by_term_per_year, citations_by_term_per_year"
   ]
  },
  {
   "cell_type": "code",
   "execution_count": null,
   "metadata": {},
   "outputs": [],
   "source": []
  },
  {
   "cell_type": "code",
   "execution_count": null,
   "metadata": {},
   "outputs": [],
   "source": [
    "import techminer.plots as plt\n",
    "from techminer.plots import COLORMAPS\n",
    "from techminer.summary_by_term import citations_by_term, documents_by_term\n",
    "\n",
    "WIDGET_WIDTH = \"200px\"\n",
    "LEFT_PANEL_HEIGHT = \"588px\"\n",
    "RIGHT_PANEL_WIDTH = \"870px\"\n",
    "FIGSIZE = (14, 10.0)\n",
    "PANE_HEIGHTS = [\"80px\", \"650px\", 0]\n",
    "\n",
    "COLUMNS = [\n",
    "    \"Author Keywords\",\n",
    "    \"Authors\",\n",
    "    \"Countries\",\n",
    "    \"Country 1st\",\n",
    "    \"Document type\",\n",
    "    \"Index Keywords\",\n",
    "    \"Institution 1st\",\n",
    "    \"Institutions\",\n",
    "    \"Keywords\",\n",
    "    \"Source title\",\n",
    "]\n",
    "\n"
   ]
  },
  {
   "cell_type": "code",
   "execution_count": 3,
   "metadata": {},
   "outputs": [
    {
     "data": {
      "application/vnd.jupyter.widget-view+json": {
       "model_id": "a87cd0e939b7467b861cfd5e40ee9644",
       "version_major": 2,
       "version_minor": 0
      },
      "text/plain": [
       "AppLayout(children=(HTML(value=\"<h1>Correlation Analysis</h1><hr style='height:2px;border-width:0;color:gray;b…"
      ]
     },
     "metadata": {},
     "output_type": "display_data"
    }
   ],
   "source": [
    "#################\n",
    "\n",
    "import ipywidgets as widgets\n",
    "from ipywidgets import AppLayout, Layout\n",
    "\n",
    "from techminer.correlation import corr, corr_map\n",
    "from techminer.plots import COLORMAPS\n",
    "from techminer.plots import chord_diagram\n",
    "from techminer.by_term import summary_by_term\n",
    "\n",
    "WIDGET_WIDTH = \"200px\"\n",
    "LEFT_PANEL_HEIGHT = \"700px\"\n",
    "RIGHT_PANEL_WIDTH = \"870px\"\n",
    "FIGSIZE = (14, 10.0)\n",
    "PANE_HEIGHTS = [\"80px\", \"750px\", 0]\n",
    "\n",
    "COLUMNS = [\n",
    "    \"Author Keywords\",\n",
    "    \"Authors\",\n",
    "    \"Countries\",\n",
    "    \"Country 1st\",\n",
    "    \"Document type\",\n",
    "    \"Index Keywords\",\n",
    "    \"Institution 1st\",\n",
    "    \"Institutions\",\n",
    "    \"Keywords\",\n",
    "    \"Source title\",\n",
    "]\n",
    "\n",
    "\n",
    "#################\n",
    "\n",
    "\n",
    "#\n",
    "#\n",
    "#  Correlation Analysis\n",
    "#\n",
    "#\n",
    "def body_0(x):\n",
    "    #\n",
    "    def server(**kwargs):\n",
    "        #\n",
    "        # Logic\n",
    "        #\n",
    "        column = kwargs[\"term\"]\n",
    "        by = kwargs[\"by\"]\n",
    "        method = kwargs[\"method\"]\n",
    "        min_link_value = kwargs[\"min_link_value\"]\n",
    "        cmap = kwargs[\"cmap\"]\n",
    "        filter_by = kwargs[\"filter_by\"]\n",
    "        filter_value = kwargs[\"filter_value\"]\n",
    "        view = kwargs[\"view\"]\n",
    "        #\n",
    "        s = summary_by_term(x, column)\n",
    "        if filter_by == \"Frequency\" and controls[-1]['widget'].max != s[\"Num Documents\"].max():\n",
    "            controls[-1]['widget'].max = s[\"Num Documents\"].max()\n",
    "            controls[-1]['widget'].value = 1\n",
    "        if filter_by == \"Cited by\" and controls[-1]['widget'].max != s[\"Cited by\"].max():\n",
    "            controls[-1]['widget'].max = s[\"Cited by\"].max()\n",
    "            controls[-1]['widget'].value = 0\n",
    "        #\n",
    "        matrix = corr(\n",
    "            x,\n",
    "            column=column,\n",
    "            by=by,\n",
    "            method=method,\n",
    "            min_link_value=min_link_value,\n",
    "            cmap=cmap,\n",
    "            filter_by=filter_by,\n",
    "            filter_value=filter_value,\n",
    "            as_matrix=True,\n",
    "            keywords=None,\n",
    "        )\n",
    "        #\n",
    "        if filter_by == \"Frequency\":\n",
    "            s = s[[column, \"Num Documents\"]]\n",
    "            d = {}\n",
    "            for row in s.iterrows():\n",
    "                d[row[1][column]] = row[1][column] +' [' + str(row[1][\"Num Documents\"]) + ']'\n",
    "            matrix.columns = [d[w] for w in matrix.columns]\n",
    "            matrix.index = [d[w] for w in matrix.index]\n",
    "        if filter_by == \"Cited by\":\n",
    "            s = s[[column, \"Cited by\"]]\n",
    "            d = {}\n",
    "            for row in s.iterrows():\n",
    "                d[row[1][column]] = row[1][column] +' [' + str(row[1][\"Cited by\"]) + ']'\n",
    "            matrix.columns = [d[w] for w in matrix.columns]\n",
    "            matrix.index = [d[w] for w in matrix.index]\n",
    "\n",
    "        #\n",
    "        output.clear_output()\n",
    "        with output:\n",
    "            if view == \"Matrix\":\n",
    "                if len(matrix.columns) <= 50 and len(matrix.index) <= 50:\n",
    "                    display(matrix.style.background_gradient(cmap=cmap))\n",
    "                else:\n",
    "                    display(matrix)\n",
    "            if view == \"Correlatio map\":\n",
    "                pass\n",
    "            if view == \"Chord diagram\":\n",
    "                display(chord_diagram(matrix))\n",
    "\n",
    "    #\n",
    "    # UI\n",
    "    #\n",
    "    controls = [\n",
    "        {\n",
    "            \"arg\": \"term\",\n",
    "            \"desc\": \"Term to analyze:\",\n",
    "            \"widget\": widgets.Select(\n",
    "                options=[z for z in COLUMNS if z in x.columns],\n",
    "                ensure_option=True,\n",
    "                disabled=False,\n",
    "                layout=Layout(width=WIDGET_WIDTH),\n",
    "            ),\n",
    "        },\n",
    "        {\n",
    "            \"arg\": \"by\",\n",
    "            \"desc\": \"By Term:\",\n",
    "            \"widget\": widgets.Select(\n",
    "                options=[z for z in COLUMNS if z in x.columns],\n",
    "                ensure_option=True,\n",
    "                disabled=False,\n",
    "                layout=Layout(width=WIDGET_WIDTH),\n",
    "            ),\n",
    "        },\n",
    "        {\n",
    "            \"arg\": \"method\",\n",
    "            \"desc\": \"Method:\",\n",
    "            \"widget\": widgets.Dropdown(\n",
    "                options=[\"pearson\", \"kendall\", \"spearman\"],\n",
    "                ensure_option=True,\n",
    "                disabled=False,\n",
    "                continuous_update=True,\n",
    "                layout=Layout(width=WIDGET_WIDTH),\n",
    "            ),\n",
    "        },\n",
    "        {\n",
    "            \"arg\": \"min_link_value\",\n",
    "            \"desc\": \"Min link value:\",\n",
    "            \"widget\": widgets.FloatSlider(\n",
    "                value=-1,\n",
    "                min=-1,\n",
    "                max=1.0,\n",
    "                step=0.01,\n",
    "                disabled=False,\n",
    "                continuous_update=False,\n",
    "                orientation=\"horizontal\",\n",
    "                readout=True,\n",
    "                readout_format=\".1f\",\n",
    "                layout=Layout(width=WIDGET_WIDTH),\n",
    "            ),\n",
    "        },     \n",
    "        {\n",
    "            \"arg\": \"view\",\n",
    "            \"desc\": \"View:\",\n",
    "            \"widget\": widgets.Dropdown(\n",
    "                options=[\"Matrix\", \"Correlation map\", \"Chord diagram\"],\n",
    "                ensure_option=True,\n",
    "                disabled=False,\n",
    "                continuous_update=True,\n",
    "                layout=Layout(width=WIDGET_WIDTH),\n",
    "            ),\n",
    "        },        \n",
    "        {\n",
    "            \"arg\": \"cmap\",\n",
    "            \"desc\": \"Matrix colormap:\",\n",
    "            \"widget\": widgets.Dropdown(\n",
    "                options=COLORMAPS, disable=False, layout=Layout(width=WIDGET_WIDTH),\n",
    "            ),\n",
    "        },\n",
    "        {\n",
    "            \"arg\": \"filter_by\",\n",
    "            \"desc\": \"Filter by:\",\n",
    "            \"widget\": widgets.Dropdown(\n",
    "                options=[\"Frequency\", \"Cited by\"], disable=False, layout=Layout(width=WIDGET_WIDTH),\n",
    "            ),\n",
    "        },        \n",
    "        {\n",
    "            \"arg\": \"filter_value\",\n",
    "            \"desc\": \"Filter value\",\n",
    "            \"widget\": widgets.IntSlider(\n",
    "                value=0,\n",
    "                min=0,\n",
    "                max=50,\n",
    "                step=1,\n",
    "                disabled=False,\n",
    "                continuous_update=False,\n",
    "                orientation=\"horizontal\",\n",
    "                readout=True,\n",
    "                readout_format=\"d\",\n",
    "                layout=Layout(width=WIDGET_WIDTH),\n",
    "            ),\n",
    "        },\n",
    "    ]\n",
    "    #\n",
    "    args = {control[\"arg\"]: control[\"widget\"] for control in controls}\n",
    "    output = widgets.Output()\n",
    "    with output:\n",
    "        display(widgets.interactive_output(server, args,))\n",
    "    return widgets.HBox(\n",
    "        [\n",
    "            widgets.VBox(\n",
    "                [\n",
    "                    widgets.VBox(\n",
    "                        [widgets.Label(value=control[\"desc\"]), control[\"widget\"]]\n",
    "                    )\n",
    "                    for control in controls\n",
    "                ],\n",
    "                layout=Layout(height=LEFT_PANEL_HEIGHT, border=\"1px solid gray\"),\n",
    "            ),\n",
    "            widgets.VBox([output], layout=Layout(width=RIGHT_PANEL_WIDTH)),\n",
    "        ]\n",
    "    )\n",
    "\n",
    "\n",
    "#\n",
    "#\n",
    "# APP \n",
    "#\n",
    "#\n",
    "\n",
    "def app(df):\n",
    "    #\n",
    "    body = widgets.Tab()\n",
    "    body.children = [body_0(df)]\n",
    "    body.set_title(0, \"Matrix\")\n",
    "    #\n",
    "    return AppLayout(\n",
    "        header=widgets.HTML(\n",
    "            value=\"<h1>{}</h1><hr style='height:2px;border-width:0;color:gray;background-color:gray'>\".format(\n",
    "                \"Correlation Analysis\"\n",
    "            )\n",
    "        ),\n",
    "        center=body,\n",
    "        pane_heights=PANE_HEIGHTS,\n",
    "    )\n",
    "\n",
    "\n",
    "#####\n",
    "app(df)"
   ]
  },
  {
   "cell_type": "code",
   "execution_count": null,
   "metadata": {},
   "outputs": [],
   "source": []
  },
  {
   "cell_type": "code",
   "execution_count": null,
   "metadata": {},
   "outputs": [],
   "source": [
    "from ipywidgets import interact, interactive, fixed, interact_manual\n",
    "interact(slow_function,i=widgets.FloatSlider(min=1e5, max=1e7, step=1e5, continuous_update=True));"
   ]
  },
  {
   "cell_type": "code",
   "execution_count": null,
   "metadata": {},
   "outputs": [],
   "source": [
    "def slow_function(i):\n",
    "    print(int(i),list(x for x in range(int(i)) if\n",
    "                str(x)==str(x)[::-1] and\n",
    "                str(x**2)==str(x**2)[::-1]))\n",
    "    return"
   ]
  },
  {
   "cell_type": "code",
   "execution_count": null,
   "metadata": {},
   "outputs": [],
   "source": []
  },
  {
   "cell_type": "code",
   "execution_count": null,
   "metadata": {},
   "outputs": [],
   "source": [
    "x = \"hola\"\n",
    "x[:-1]"
   ]
  },
  {
   "cell_type": "code",
   "execution_count": null,
   "metadata": {},
   "outputs": [],
   "source": [
    "import pandas as pd\n",
    "x = pd.DataFrame({'a': [1, 2, 3, 4, 5], 'b': list('ABCDE')})\n",
    "for row in x.iterrows():\n",
    "    print(row[1]['b'])"
   ]
  },
  {
   "cell_type": "code",
   "execution_count": null,
   "metadata": {},
   "outputs": [],
   "source": []
  }
 ],
 "metadata": {
  "kernelspec": {
   "display_name": "Python 3",
   "language": "python",
   "name": "python3"
  },
  "language_info": {
   "codemirror_mode": {
    "name": "ipython",
    "version": 3
   },
   "file_extension": ".py",
   "mimetype": "text/x-python",
   "name": "python",
   "nbconvert_exporter": "python",
   "pygments_lexer": "ipython3",
   "version": "3.6.9"
  },
  "widgets": {
   "application/vnd.jupyter.widget-state+json": {
    "state": {
     "027b6902d95143fc8a62ae3aeca2b3f0": {
      "model_module": "@jupyter-widgets/controls",
      "model_module_version": "1.5.0",
      "model_name": "DescriptionStyleModel",
      "state": {
       "description_width": ""
      }
     },
     "0316aca895f043f2b626fc809057bf5c": {
      "model_module": "@jupyter-widgets/controls",
      "model_module_version": "1.5.0",
      "model_name": "SelectModel",
      "state": {
       "_options_labels": [
        "Author Keywords",
        "Authors",
        "Countries",
        "Country 1st",
        "Index Keywords",
        "Institution 1st",
        "Institutions",
        "Keywords",
        "Source title"
       ],
       "index": 1,
       "layout": "IPY_MODEL_6bcf7187d4e14790b08265861dbd91eb",
       "style": "IPY_MODEL_d18d97c7f45846788896f2a46589da5f"
      }
     },
     "06d3138ecc3e4d02b639e8291efa15c7": {
      "model_module": "@jupyter-widgets/base",
      "model_module_version": "1.2.0",
      "model_name": "LayoutModel",
      "state": {}
     },
     "06f89d5241c949ed8b1dee02a7297619": {
      "model_module": "@jupyter-widgets/controls",
      "model_module_version": "1.5.0",
      "model_name": "LabelModel",
      "state": {
       "layout": "IPY_MODEL_c1ca8362a7cf44d6a897e07c11670c26",
       "style": "IPY_MODEL_67cc2664621e4af285ac5fa7276399bd",
       "value": "Term to analyze:"
      }
     },
     "09326162dfae4188a37e3c52ebaec6c7": {
      "model_module": "@jupyter-widgets/base",
      "model_module_version": "1.2.0",
      "model_name": "LayoutModel",
      "state": {}
     },
     "0e4f8c5a48de4875a22de69d2234acd6": {
      "model_module": "@jupyter-widgets/base",
      "model_module_version": "1.2.0",
      "model_name": "LayoutModel",
      "state": {}
     },
     "0e53df4ee2b94b719854115277042e1c": {
      "model_module": "@jupyter-widgets/base",
      "model_module_version": "1.2.0",
      "model_name": "LayoutModel",
      "state": {
       "width": "200px"
      }
     },
     "12d4220e5cbf4f6dab079b3ddbbbbad6": {
      "model_module": "@jupyter-widgets/controls",
      "model_module_version": "1.5.0",
      "model_name": "DropdownModel",
      "state": {
       "_options_labels": [
        "Matrix",
        "Correlation map",
        "Chord diagram"
       ],
       "index": 2,
       "layout": "IPY_MODEL_ec5be07aa87c49e7912ada1aa7bbb813",
       "style": "IPY_MODEL_69317e0934064c4f82633ff9988d4779"
      }
     },
     "13dd225070744d4e80c7d215fc246786": {
      "model_module": "@jupyter-widgets/controls",
      "model_module_version": "1.5.0",
      "model_name": "DescriptionStyleModel",
      "state": {
       "description_width": ""
      }
     },
     "15d15b9f00fc42e8a281223c0198f2c1": {
      "model_module": "@jupyter-widgets/controls",
      "model_module_version": "1.5.0",
      "model_name": "VBoxModel",
      "state": {
       "children": [
        "IPY_MODEL_6bd57ba3f490492b88d1301a05f71c83"
       ],
       "layout": "IPY_MODEL_c4509e3b16154e15a0c07d501561fb6e"
      }
     },
     "19e36fd4b7aa40bfaa355b45a9161faf": {
      "model_module": "@jupyter-widgets/base",
      "model_module_version": "1.2.0",
      "model_name": "LayoutModel",
      "state": {}
     },
     "1adde0315f9f4224b9cd387e079326fa": {
      "model_module": "@jupyter-widgets/controls",
      "model_module_version": "1.5.0",
      "model_name": "DescriptionStyleModel",
      "state": {
       "description_width": ""
      }
     },
     "1c0cecf085ce45bfbcf779559cc83605": {
      "model_module": "@jupyter-widgets/controls",
      "model_module_version": "1.5.0",
      "model_name": "VBoxModel",
      "state": {
       "children": [
        "IPY_MODEL_8635d4b71a68439695d0ddc9605ff95a",
        "IPY_MODEL_1e8c25c0c7494886963a08986e5defc6"
       ],
       "layout": "IPY_MODEL_f96212c794de4b00a5bb1fba54602db0"
      }
     },
     "1cd2affdbc64462b86e8c38bf426751b": {
      "model_module": "@jupyter-widgets/controls",
      "model_module_version": "1.5.0",
      "model_name": "VBoxModel",
      "state": {
       "children": [
        "IPY_MODEL_3e32fde87ee843c78a8fe24c170b5673",
        "IPY_MODEL_0316aca895f043f2b626fc809057bf5c"
       ],
       "layout": "IPY_MODEL_f90f5b94d75145f4b74c604f777d26dc"
      }
     },
     "1cf419526956486c94d075640a2598c3": {
      "model_module": "@jupyter-widgets/base",
      "model_module_version": "1.2.0",
      "model_name": "LayoutModel",
      "state": {}
     },
     "1e8c25c0c7494886963a08986e5defc6": {
      "model_module": "@jupyter-widgets/controls",
      "model_module_version": "1.5.0",
      "model_name": "DropdownModel",
      "state": {
       "_options_labels": [
        "pearson",
        "kendall",
        "spearman"
       ],
       "index": 0,
       "layout": "IPY_MODEL_428a1b6465b941b1bee037135f41cb99",
       "style": "IPY_MODEL_5715b58b74db4e5583df28e69aa4cb84"
      }
     },
     "2269e6c0a41c4547817f25f18cb303f3": {
      "model_module": "@jupyter-widgets/controls",
      "model_module_version": "1.5.0",
      "model_name": "DescriptionStyleModel",
      "state": {
       "description_width": ""
      }
     },
     "22c4661ffc774c1c8a5e78a26f99a12d": {
      "model_module": "@jupyter-widgets/controls",
      "model_module_version": "1.5.0",
      "model_name": "SliderStyleModel",
      "state": {
       "description_width": ""
      }
     },
     "25c094502c2741c7aebde585ec4253ed": {
      "model_module": "@jupyter-widgets/controls",
      "model_module_version": "1.5.0",
      "model_name": "LabelModel",
      "state": {
       "layout": "IPY_MODEL_6c88fd9ddb314c9e961454c5379c1d03",
       "style": "IPY_MODEL_28ac8271815c424a89afce38a8f44934",
       "value": "Filter value"
      }
     },
     "28ac8271815c424a89afce38a8f44934": {
      "model_module": "@jupyter-widgets/controls",
      "model_module_version": "1.5.0",
      "model_name": "DescriptionStyleModel",
      "state": {
       "description_width": ""
      }
     },
     "29ce365f07b74c1f8ca2482e1acd2047": {
      "model_module": "@jupyter-widgets/controls",
      "model_module_version": "1.5.0",
      "model_name": "IntSliderModel",
      "state": {
       "continuous_update": false,
       "layout": "IPY_MODEL_d3792c70fb3546fbaddfbef73f418aa1",
       "max": 6,
       "style": "IPY_MODEL_4c9a3d89433d4e2f923b4e5a10216571",
       "value": 4
      }
     },
     "2a4937f76cd1498fbc45a85321ee45c2": {
      "model_module": "@jupyter-widgets/controls",
      "model_module_version": "1.5.0",
      "model_name": "DescriptionStyleModel",
      "state": {
       "description_width": ""
      }
     },
     "2c83a37f110b4a978d2f0a05d3b9bd9a": {
      "model_module": "@jupyter-widgets/base",
      "model_module_version": "1.2.0",
      "model_name": "LayoutModel",
      "state": {
       "width": "200px"
      }
     },
     "2ddb6bacdbe14a41a3deb0a213309c0c": {
      "model_module": "@jupyter-widgets/controls",
      "model_module_version": "1.5.0",
      "model_name": "DescriptionStyleModel",
      "state": {
       "description_width": ""
      }
     },
     "2e43d069f4ba4a01abd29732a3951a3b": {
      "model_module": "@jupyter-widgets/controls",
      "model_module_version": "1.5.0",
      "model_name": "DescriptionStyleModel",
      "state": {
       "description_width": ""
      }
     },
     "302676cf52144a439473675c784382da": {
      "model_module": "@jupyter-widgets/controls",
      "model_module_version": "1.5.0",
      "model_name": "DescriptionStyleModel",
      "state": {
       "description_width": ""
      }
     },
     "330e15426426464688d4ad21f5c14ece": {
      "model_module": "@jupyter-widgets/base",
      "model_module_version": "1.2.0",
      "model_name": "LayoutModel",
      "state": {
       "grid_area": "center"
      }
     },
     "352af32497ad43ddaab5b548be99e06a": {
      "model_module": "@jupyter-widgets/controls",
      "model_module_version": "1.5.0",
      "model_name": "DescriptionStyleModel",
      "state": {
       "description_width": ""
      }
     },
     "3540a313afce4a56ace18cb040a23bad": {
      "model_module": "@jupyter-widgets/controls",
      "model_module_version": "1.5.0",
      "model_name": "IntSliderModel",
      "state": {
       "continuous_update": false,
       "layout": "IPY_MODEL_db5fb48eeaaa4ed980e202c99c7a0505",
       "max": 6,
       "style": "IPY_MODEL_c0c8a6d3876b4c3aa9a5e0a49f7ad6c9",
       "value": 4
      }
     },
     "364c4046009548ebba2ee55f0a0903f2": {
      "model_module": "@jupyter-widgets/controls",
      "model_module_version": "1.5.0",
      "model_name": "SliderStyleModel",
      "state": {
       "description_width": ""
      }
     },
     "379e1b36611c411eb33ce4f93b186cdc": {
      "model_module": "@jupyter-widgets/controls",
      "model_module_version": "1.5.0",
      "model_name": "LabelModel",
      "state": {
       "layout": "IPY_MODEL_a85e9eebc65b4f23b6d7878fb7a0e008",
       "style": "IPY_MODEL_69d475a06fa148659276504b8ce56876",
       "value": "View:"
      }
     },
     "39d033e819a8405993884e2d7215325b": {
      "model_module": "@jupyter-widgets/base",
      "model_module_version": "1.2.0",
      "model_name": "LayoutModel",
      "state": {
       "grid_area": "header"
      }
     },
     "3a8c3d7b43ca4c119df3792c7171c4e5": {
      "model_module": "@jupyter-widgets/controls",
      "model_module_version": "1.5.0",
      "model_name": "LabelModel",
      "state": {
       "layout": "IPY_MODEL_560af95947e64063b54ab0b7d0f9e923",
       "style": "IPY_MODEL_4d69ff71b5ed415f8246f9165070ff1a",
       "value": "Filter by:"
      }
     },
     "3da4bfa335f24c8c969b0ab59af03d6f": {
      "model_module": "@jupyter-widgets/base",
      "model_module_version": "1.2.0",
      "model_name": "LayoutModel",
      "state": {}
     },
     "3e32fde87ee843c78a8fe24c170b5673": {
      "model_module": "@jupyter-widgets/controls",
      "model_module_version": "1.5.0",
      "model_name": "LabelModel",
      "state": {
       "layout": "IPY_MODEL_f42c5e58bdfd43d18894637f49006c57",
       "style": "IPY_MODEL_302676cf52144a439473675c784382da",
       "value": "Term to analyze:"
      }
     },
     "40197f6cb1ee49a49cc42d746e5e25f8": {
      "model_module": "@jupyter-widgets/controls",
      "model_module_version": "1.5.0",
      "model_name": "VBoxModel",
      "state": {
       "children": [
        "IPY_MODEL_1cd2affdbc64462b86e8c38bf426751b",
        "IPY_MODEL_527e3dd21f34492ea5844584daccc403",
        "IPY_MODEL_1c0cecf085ce45bfbcf779559cc83605",
        "IPY_MODEL_87546f7074804f6fbf2e1a9bf5ace4a8",
        "IPY_MODEL_8eaaf85690664643b439e36d264947ec",
        "IPY_MODEL_7de93167f9e24b78993a18c32cded733",
        "IPY_MODEL_a010714a94844916be3aacaea62bb218",
        "IPY_MODEL_e73fcf59a0d3479195d949a62b76fa63"
       ],
       "layout": "IPY_MODEL_d0e92b32f7664fcf9a49604ad11eba45"
      }
     },
     "41671333f7064af0ada3f5b6e389af37": {
      "model_module": "@jupyter-widgets/controls",
      "model_module_version": "1.5.0",
      "model_name": "DescriptionStyleModel",
      "state": {
       "description_width": ""
      }
     },
     "417d9eb4f80c40cfbb21d0b92ef67929": {
      "model_module": "@jupyter-widgets/base",
      "model_module_version": "1.2.0",
      "model_name": "LayoutModel",
      "state": {}
     },
     "428a1b6465b941b1bee037135f41cb99": {
      "model_module": "@jupyter-widgets/base",
      "model_module_version": "1.2.0",
      "model_name": "LayoutModel",
      "state": {
       "width": "200px"
      }
     },
     "430d9775dc424ef1bf79f921e3d55971": {
      "model_module": "@jupyter-widgets/controls",
      "model_module_version": "1.5.0",
      "model_name": "VBoxModel",
      "state": {
       "children": [
        "IPY_MODEL_c4bef826074a4d109103fcc68cef70ef",
        "IPY_MODEL_838ee217ac2f4a208e7ce49a9659920a"
       ],
       "layout": "IPY_MODEL_d0361f0bac214ce4967a11d79273cdb3"
      }
     },
     "45ec27b3c91d48358f612766d5ed1e68": {
      "model_module": "@jupyter-widgets/base",
      "model_module_version": "1.2.0",
      "model_name": "LayoutModel",
      "state": {}
     },
     "4600dc29773841249ae59b1c9fb0660c": {
      "model_module": "@jupyter-widgets/base",
      "model_module_version": "1.2.0",
      "model_name": "LayoutModel",
      "state": {}
     },
     "49074c1f9c044a45aab05dd22a773df4": {
      "model_module": "@jupyter-widgets/controls",
      "model_module_version": "1.5.0",
      "model_name": "VBoxModel",
      "state": {
       "children": [
        "IPY_MODEL_52a749b95d4640cea9ec08c8d867405a",
        "IPY_MODEL_af372d166c164da89c6e6e72ca60e085"
       ],
       "layout": "IPY_MODEL_d13e9615c933414a8d24976bde8c3525"
      }
     },
     "49ec0fa3eec04aa38e21f71a4a949fd3": {
      "model_module": "@jupyter-widgets/controls",
      "model_module_version": "1.5.0",
      "model_name": "DescriptionStyleModel",
      "state": {
       "description_width": ""
      }
     },
     "4a504326081a47b59058ba8004bf4e6d": {
      "model_module": "@jupyter-widgets/base",
      "model_module_version": "1.2.0",
      "model_name": "LayoutModel",
      "state": {}
     },
     "4c1c63ce8d834f6cb952da6610f80aed": {
      "model_module": "@jupyter-widgets/controls",
      "model_module_version": "1.5.0",
      "model_name": "DescriptionStyleModel",
      "state": {
       "description_width": ""
      }
     },
     "4c9a3d89433d4e2f923b4e5a10216571": {
      "model_module": "@jupyter-widgets/controls",
      "model_module_version": "1.5.0",
      "model_name": "SliderStyleModel",
      "state": {
       "description_width": ""
      }
     },
     "4ca8bdf3c2bf4071b12f79cd002276a7": {
      "model_module": "@jupyter-widgets/controls",
      "model_module_version": "1.5.0",
      "model_name": "DropdownModel",
      "state": {
       "_options_labels": [
        "Frequency",
        "Cited by"
       ],
       "index": 0,
       "layout": "IPY_MODEL_b5351f2444f24badab0cbf432f6f6cc0",
       "style": "IPY_MODEL_534562616b33450ba2c17e6e46fb3847"
      }
     },
     "4d69ff71b5ed415f8246f9165070ff1a": {
      "model_module": "@jupyter-widgets/controls",
      "model_module_version": "1.5.0",
      "model_name": "DescriptionStyleModel",
      "state": {
       "description_width": ""
      }
     },
     "4d8c4375b22a435dac15c0f817ab58b3": {
      "model_module": "@jupyter-widgets/controls",
      "model_module_version": "1.5.0",
      "model_name": "DropdownModel",
      "state": {
       "_options_labels": [
        "Frequency",
        "Cited by"
       ],
       "index": 0,
       "layout": "IPY_MODEL_a2750e98175e47b8809990259ae57640",
       "style": "IPY_MODEL_41671333f7064af0ada3f5b6e389af37"
      }
     },
     "4e1a8fc61401481a90b440e355241a4d": {
      "model_module": "@jupyter-widgets/base",
      "model_module_version": "1.2.0",
      "model_name": "LayoutModel",
      "state": {}
     },
     "4f6e476153654fa1b2c642ada8610d56": {
      "model_module": "@jupyter-widgets/controls",
      "model_module_version": "1.5.0",
      "model_name": "LabelModel",
      "state": {
       "layout": "IPY_MODEL_af1d4db305614003941232a463d53dc7",
       "style": "IPY_MODEL_49ec0fa3eec04aa38e21f71a4a949fd3",
       "value": "Min link value:"
      }
     },
     "527e3dd21f34492ea5844584daccc403": {
      "model_module": "@jupyter-widgets/controls",
      "model_module_version": "1.5.0",
      "model_name": "VBoxModel",
      "state": {
       "children": [
        "IPY_MODEL_7eb9be46ce8c4726b5bbf39f8b86e079",
        "IPY_MODEL_bfd1198fab494e28bcd6435e41bf5d6e"
       ],
       "layout": "IPY_MODEL_a8b786f6b7f84e2d84be0db877d6ef00"
      }
     },
     "52a749b95d4640cea9ec08c8d867405a": {
      "model_module": "@jupyter-widgets/controls",
      "model_module_version": "1.5.0",
      "model_name": "LabelModel",
      "state": {
       "layout": "IPY_MODEL_09326162dfae4188a37e3c52ebaec6c7",
       "style": "IPY_MODEL_b4dd3efc838847859d8d3e685ced0d37",
       "value": "By Term:"
      }
     },
     "534562616b33450ba2c17e6e46fb3847": {
      "model_module": "@jupyter-widgets/controls",
      "model_module_version": "1.5.0",
      "model_name": "DescriptionStyleModel",
      "state": {
       "description_width": ""
      }
     },
     "5553222b6d0b4662b3cd6bfd2b80e831": {
      "model_module": "@jupyter-widgets/controls",
      "model_module_version": "1.5.0",
      "model_name": "DescriptionStyleModel",
      "state": {
       "description_width": ""
      }
     },
     "555b1ec2fce147d6bf2778def9dc82dc": {
      "model_module": "@jupyter-widgets/base",
      "model_module_version": "1.2.0",
      "model_name": "LayoutModel",
      "state": {
       "width": "200px"
      }
     },
     "558c5b2f51004238bb4f3fcd3e1384eb": {
      "model_module": "@jupyter-widgets/controls",
      "model_module_version": "1.5.0",
      "model_name": "DescriptionStyleModel",
      "state": {
       "description_width": ""
      }
     },
     "560af95947e64063b54ab0b7d0f9e923": {
      "model_module": "@jupyter-widgets/base",
      "model_module_version": "1.2.0",
      "model_name": "LayoutModel",
      "state": {}
     },
     "5715b58b74db4e5583df28e69aa4cb84": {
      "model_module": "@jupyter-widgets/controls",
      "model_module_version": "1.5.0",
      "model_name": "DescriptionStyleModel",
      "state": {
       "description_width": ""
      }
     },
     "57f4b21f1aa44aa484702d76e3bfbebd": {
      "model_module": "@jupyter-widgets/controls",
      "model_module_version": "1.5.0",
      "model_name": "DescriptionStyleModel",
      "state": {
       "description_width": ""
      }
     },
     "5aea6e91aa5641e18737be0cdee14b86": {
      "model_module": "@jupyter-widgets/controls",
      "model_module_version": "1.5.0",
      "model_name": "VBoxModel",
      "state": {
       "children": [
        "IPY_MODEL_06f89d5241c949ed8b1dee02a7297619",
        "IPY_MODEL_62b4be4a81d148f993e1ae2856373289"
       ],
       "layout": "IPY_MODEL_9aff4f7f2d5840d68eaa5353529dc61c"
      }
     },
     "5bccacb0b9f84f2980ced4dd3de28a25": {
      "model_module": "@jupyter-widgets/base",
      "model_module_version": "1.2.0",
      "model_name": "LayoutModel",
      "state": {
       "grid_area": "center"
      }
     },
     "5c9fcd30630343c8b893a9afef0ecf16": {
      "model_module": "@jupyter-widgets/base",
      "model_module_version": "1.2.0",
      "model_name": "LayoutModel",
      "state": {
       "width": "870px"
      }
     },
     "5e74bf0076af4f9eaad6dbe5267305de": {
      "model_module": "@jupyter-widgets/controls",
      "model_module_version": "1.5.0",
      "model_name": "LabelModel",
      "state": {
       "layout": "IPY_MODEL_06d3138ecc3e4d02b639e8291efa15c7",
       "style": "IPY_MODEL_71118249cca24535a2ea8d78ec58f53a",
       "value": "Matrix colormap:"
      }
     },
     "5f010bd43b384dd1bd19276836b7aa09": {
      "model_module": "@jupyter-widgets/controls",
      "model_module_version": "1.5.0",
      "model_name": "LabelModel",
      "state": {
       "layout": "IPY_MODEL_bfe6797515cb4a6a8891b14580a0d9df",
       "style": "IPY_MODEL_e1fc140ee5474d7193cc5149d37e16bb",
       "value": "View:"
      }
     },
     "6277bf7eb0654e5394da87b7f230a6c8": {
      "model_module": "@jupyter-widgets/controls",
      "model_module_version": "1.5.0",
      "model_name": "LabelModel",
      "state": {
       "layout": "IPY_MODEL_3da4bfa335f24c8c969b0ab59af03d6f",
       "style": "IPY_MODEL_558c5b2f51004238bb4f3fcd3e1384eb",
       "value": "Filter by:"
      }
     },
     "627ec3bbda68432db4cc08c7949a571c": {
      "model_module": "@jupyter-widgets/base",
      "model_module_version": "1.2.0",
      "model_name": "LayoutModel",
      "state": {}
     },
     "62b4be4a81d148f993e1ae2856373289": {
      "model_module": "@jupyter-widgets/controls",
      "model_module_version": "1.5.0",
      "model_name": "SelectModel",
      "state": {
       "_options_labels": [
        "Author Keywords",
        "Authors",
        "Countries",
        "Country 1st",
        "Index Keywords",
        "Institution 1st",
        "Institutions",
        "Keywords",
        "Source title"
       ],
       "index": 1,
       "layout": "IPY_MODEL_2c83a37f110b4a978d2f0a05d3b9bd9a",
       "style": "IPY_MODEL_2269e6c0a41c4547817f25f18cb303f3"
      }
     },
     "6441844de49a47df9593df3bcae9de5b": {
      "model_module": "@jupyter-widgets/controls",
      "model_module_version": "1.5.0",
      "model_name": "DescriptionStyleModel",
      "state": {
       "description_width": ""
      }
     },
     "6520a4a6dbda400a8676134a4a137d57": {
      "model_module": "@jupyter-widgets/base",
      "model_module_version": "1.2.0",
      "model_name": "LayoutModel",
      "state": {}
     },
     "6732be37a4ec4855ab14f8e0a59569e8": {
      "model_module": "@jupyter-widgets/base",
      "model_module_version": "1.2.0",
      "model_name": "LayoutModel",
      "state": {
       "border": "1px solid gray",
       "height": "700px"
      }
     },
     "67cc2664621e4af285ac5fa7276399bd": {
      "model_module": "@jupyter-widgets/controls",
      "model_module_version": "1.5.0",
      "model_name": "DescriptionStyleModel",
      "state": {
       "description_width": ""
      }
     },
     "691438afc7f548678752961d3762758d": {
      "model_module": "@jupyter-widgets/base",
      "model_module_version": "1.2.0",
      "model_name": "LayoutModel",
      "state": {}
     },
     "69317e0934064c4f82633ff9988d4779": {
      "model_module": "@jupyter-widgets/controls",
      "model_module_version": "1.5.0",
      "model_name": "DescriptionStyleModel",
      "state": {
       "description_width": ""
      }
     },
     "69d475a06fa148659276504b8ce56876": {
      "model_module": "@jupyter-widgets/controls",
      "model_module_version": "1.5.0",
      "model_name": "DescriptionStyleModel",
      "state": {
       "description_width": ""
      }
     },
     "6b383d9b44ed4ad2ada01e6c3b1a8142": {
      "model_module": "@jupyter-widgets/controls",
      "model_module_version": "1.5.0",
      "model_name": "VBoxModel",
      "state": {
       "children": [
        "IPY_MODEL_25c094502c2741c7aebde585ec4253ed",
        "IPY_MODEL_29ce365f07b74c1f8ca2482e1acd2047"
       ],
       "layout": "IPY_MODEL_691438afc7f548678752961d3762758d"
      }
     },
     "6bcf7187d4e14790b08265861dbd91eb": {
      "model_module": "@jupyter-widgets/base",
      "model_module_version": "1.2.0",
      "model_name": "LayoutModel",
      "state": {
       "width": "200px"
      }
     },
     "6bd57ba3f490492b88d1301a05f71c83": {
      "model_module": "@jupyter-widgets/output",
      "model_module_version": "1.0.0",
      "model_name": "OutputModel",
      "state": {
       "layout": "IPY_MODEL_e6640f69ceb84f4fb76ffb7d0902339d",
       "msg_id": "b9b3b4ea-07a1-4cbe-876c-e87788f86ded"
      }
     },
     "6c88fd9ddb314c9e961454c5379c1d03": {
      "model_module": "@jupyter-widgets/base",
      "model_module_version": "1.2.0",
      "model_name": "LayoutModel",
      "state": {}
     },
     "71118249cca24535a2ea8d78ec58f53a": {
      "model_module": "@jupyter-widgets/controls",
      "model_module_version": "1.5.0",
      "model_name": "DescriptionStyleModel",
      "state": {
       "description_width": ""
      }
     },
     "714b4cebaa2b4411b7e1c045adb5028d": {
      "model_module": "@jupyter-widgets/controls",
      "model_module_version": "1.5.0",
      "model_name": "GridBoxModel",
      "state": {
       "children": [
        "IPY_MODEL_995a674ca77349a7aa1bd84277ce815a",
        "IPY_MODEL_e1991074347f48598d013e7a0b1c5285"
       ],
       "layout": "IPY_MODEL_e94ff4fed70348e7b06fbb915112a975"
      }
     },
     "71cd272991da4df982b61db3dce97753": {
      "model_module": "@jupyter-widgets/controls",
      "model_module_version": "1.5.0",
      "model_name": "DropdownModel",
      "state": {
       "_options_labels": [
        "Greys",
        "Purples",
        "Blues",
        "Greens",
        "Oranges",
        "Reds",
        "YlOrBr",
        "YlOrRd",
        "OrRd",
        "PuRd",
        "RdPu",
        "BuPu",
        "GnBu",
        "PuBu",
        "YlGnBu",
        "PuBuGn",
        "BuGn",
        "YlGn",
        "Pastel1",
        "Pastel2",
        "Paired",
        "Accent",
        "Dark2",
        "Set1",
        "Set2",
        "Set3",
        "tab10",
        "tab20",
        "tab20b",
        "tab20c"
       ],
       "index": 0,
       "layout": "IPY_MODEL_b41f89dd035141acbada950bca321c34",
       "style": "IPY_MODEL_1adde0315f9f4224b9cd387e079326fa"
      }
     },
     "74114c5d37cd4a9aadb68df24f9b9317": {
      "model_module": "@jupyter-widgets/base",
      "model_module_version": "1.2.0",
      "model_name": "LayoutModel",
      "state": {
       "width": "200px"
      }
     },
     "7c3b6c42bda342f79318fe67aa26cc5e": {
      "model_module": "@jupyter-widgets/base",
      "model_module_version": "1.2.0",
      "model_name": "LayoutModel",
      "state": {}
     },
     "7de93167f9e24b78993a18c32cded733": {
      "model_module": "@jupyter-widgets/controls",
      "model_module_version": "1.5.0",
      "model_name": "VBoxModel",
      "state": {
       "children": [
        "IPY_MODEL_ac3922ae026a4f29936b97644e503012",
        "IPY_MODEL_71cd272991da4df982b61db3dce97753"
       ],
       "layout": "IPY_MODEL_417d9eb4f80c40cfbb21d0b92ef67929"
      }
     },
     "7eb9be46ce8c4726b5bbf39f8b86e079": {
      "model_module": "@jupyter-widgets/controls",
      "model_module_version": "1.5.0",
      "model_name": "LabelModel",
      "state": {
       "layout": "IPY_MODEL_4e1a8fc61401481a90b440e355241a4d",
       "style": "IPY_MODEL_57f4b21f1aa44aa484702d76e3bfbebd",
       "value": "By Term:"
      }
     },
     "81742cb138ed4a4ca34877394253f26e": {
      "model_module": "@jupyter-widgets/controls",
      "model_module_version": "1.5.0",
      "model_name": "DropdownModel",
      "state": {
       "_options_labels": [
        "Greys",
        "Purples",
        "Blues",
        "Greens",
        "Oranges",
        "Reds",
        "YlOrBr",
        "YlOrRd",
        "OrRd",
        "PuRd",
        "RdPu",
        "BuPu",
        "GnBu",
        "PuBu",
        "YlGnBu",
        "PuBuGn",
        "BuGn",
        "YlGn",
        "Pastel1",
        "Pastel2",
        "Paired",
        "Accent",
        "Dark2",
        "Set1",
        "Set2",
        "Set3",
        "tab10",
        "tab20",
        "tab20b",
        "tab20c"
       ],
       "index": 0,
       "layout": "IPY_MODEL_a60b2ee13bf14600982b9f7c0d3020a7",
       "style": "IPY_MODEL_ae0d05b3c34846a8a0d8207c1ade4e1c"
      }
     },
     "838ee217ac2f4a208e7ce49a9659920a": {
      "model_module": "@jupyter-widgets/controls",
      "model_module_version": "1.5.0",
      "model_name": "DropdownModel",
      "state": {
       "_options_labels": [
        "pearson",
        "kendall",
        "spearman"
       ],
       "index": 0,
       "layout": "IPY_MODEL_ac6b882fa0af4b7d98fe91c3bea1f10b",
       "style": "IPY_MODEL_2a4937f76cd1498fbc45a85321ee45c2"
      }
     },
     "845c3bc8e07744db98898c2399a00738": {
      "model_module": "@jupyter-widgets/controls",
      "model_module_version": "1.5.0",
      "model_name": "VBoxModel",
      "state": {
       "children": [
        "IPY_MODEL_3a8c3d7b43ca4c119df3792c7171c4e5",
        "IPY_MODEL_4ca8bdf3c2bf4071b12f79cd002276a7"
       ],
       "layout": "IPY_MODEL_f7ca8f1f62f84422a4b5a9c72d6b8325"
      }
     },
     "8635d4b71a68439695d0ddc9605ff95a": {
      "model_module": "@jupyter-widgets/controls",
      "model_module_version": "1.5.0",
      "model_name": "LabelModel",
      "state": {
       "layout": "IPY_MODEL_7c3b6c42bda342f79318fe67aa26cc5e",
       "style": "IPY_MODEL_027b6902d95143fc8a62ae3aeca2b3f0",
       "value": "Method:"
      }
     },
     "87546f7074804f6fbf2e1a9bf5ace4a8": {
      "model_module": "@jupyter-widgets/controls",
      "model_module_version": "1.5.0",
      "model_name": "VBoxModel",
      "state": {
       "children": [
        "IPY_MODEL_4f6e476153654fa1b2c642ada8610d56",
        "IPY_MODEL_e752bc26cc664213a715eaa1f572c6f0"
       ],
       "layout": "IPY_MODEL_19e36fd4b7aa40bfaa355b45a9161faf"
      }
     },
     "8eaaf85690664643b439e36d264947ec": {
      "model_module": "@jupyter-widgets/controls",
      "model_module_version": "1.5.0",
      "model_name": "VBoxModel",
      "state": {
       "children": [
        "IPY_MODEL_379e1b36611c411eb33ce4f93b186cdc",
        "IPY_MODEL_d4b4ac6bd6a847eeb24969bc58bc8273"
       ],
       "layout": "IPY_MODEL_f785fbf32fa1434ba34dc286b1b1b966"
      }
     },
     "995a674ca77349a7aa1bd84277ce815a": {
      "model_module": "@jupyter-widgets/controls",
      "model_module_version": "1.5.0",
      "model_name": "HTMLModel",
      "state": {
       "layout": "IPY_MODEL_d624ab2667714614980f37381c43b931",
       "style": "IPY_MODEL_352af32497ad43ddaab5b548be99e06a",
       "value": "<h1>Correlation Analysis</h1><hr style='height:2px;border-width:0;color:gray;background-color:gray'>"
      }
     },
     "9aff4f7f2d5840d68eaa5353529dc61c": {
      "model_module": "@jupyter-widgets/base",
      "model_module_version": "1.2.0",
      "model_name": "LayoutModel",
      "state": {}
     },
     "9b68f7e401fd4019ab6d103ef187c4c9": {
      "model_module": "@jupyter-widgets/controls",
      "model_module_version": "1.5.0",
      "model_name": "HBoxModel",
      "state": {
       "children": [
        "IPY_MODEL_a4d7de6ba76f482aa9db293c2547a361",
        "IPY_MODEL_b45da2212ad24feb81478b50b18f297b"
       ],
       "layout": "IPY_MODEL_6520a4a6dbda400a8676134a4a137d57"
      }
     },
     "a010714a94844916be3aacaea62bb218": {
      "model_module": "@jupyter-widgets/controls",
      "model_module_version": "1.5.0",
      "model_name": "VBoxModel",
      "state": {
       "children": [
        "IPY_MODEL_6277bf7eb0654e5394da87b7f230a6c8",
        "IPY_MODEL_4d8c4375b22a435dac15c0f817ab58b3"
       ],
       "layout": "IPY_MODEL_c6c1fe1852864e0a8697f4a044c93d9e"
      }
     },
     "a2750e98175e47b8809990259ae57640": {
      "model_module": "@jupyter-widgets/base",
      "model_module_version": "1.2.0",
      "model_name": "LayoutModel",
      "state": {
       "width": "200px"
      }
     },
     "a4d7de6ba76f482aa9db293c2547a361": {
      "model_module": "@jupyter-widgets/controls",
      "model_module_version": "1.5.0",
      "model_name": "VBoxModel",
      "state": {
       "children": [
        "IPY_MODEL_5aea6e91aa5641e18737be0cdee14b86",
        "IPY_MODEL_49074c1f9c044a45aab05dd22a773df4",
        "IPY_MODEL_430d9775dc424ef1bf79f921e3d55971",
        "IPY_MODEL_be0a33dc9a0345c291f410cbb0cafbab",
        "IPY_MODEL_b0786816bb874cd195a964c3d2972709",
        "IPY_MODEL_c9daf81d83894c81b31a5a04241be309",
        "IPY_MODEL_845c3bc8e07744db98898c2399a00738",
        "IPY_MODEL_6b383d9b44ed4ad2ada01e6c3b1a8142"
       ],
       "layout": "IPY_MODEL_6732be37a4ec4855ab14f8e0a59569e8"
      }
     },
     "a60b2ee13bf14600982b9f7c0d3020a7": {
      "model_module": "@jupyter-widgets/base",
      "model_module_version": "1.2.0",
      "model_name": "LayoutModel",
      "state": {
       "width": "200px"
      }
     },
     "a85e9eebc65b4f23b6d7878fb7a0e008": {
      "model_module": "@jupyter-widgets/base",
      "model_module_version": "1.2.0",
      "model_name": "LayoutModel",
      "state": {}
     },
     "a87cd0e939b7467b861cfd5e40ee9644": {
      "model_module": "@jupyter-widgets/controls",
      "model_module_version": "1.5.0",
      "model_name": "GridBoxModel",
      "state": {
       "children": [
        "IPY_MODEL_e970ee629a994f63865e5e84cbf41c88",
        "IPY_MODEL_ea0c16abd39e450f832754fcbe2a5310"
       ],
       "layout": "IPY_MODEL_b2f2692828ce41fcb2dbfe9785431714"
      }
     },
     "a8b786f6b7f84e2d84be0db877d6ef00": {
      "model_module": "@jupyter-widgets/base",
      "model_module_version": "1.2.0",
      "model_name": "LayoutModel",
      "state": {}
     },
     "a8ff60b97efe4dbabb4a74f7b82c3fc0": {
      "model_module": "@jupyter-widgets/controls",
      "model_module_version": "1.5.0",
      "model_name": "FloatSliderModel",
      "state": {
       "continuous_update": false,
       "layout": "IPY_MODEL_0e53df4ee2b94b719854115277042e1c",
       "max": 1,
       "min": -1,
       "readout_format": ".1f",
       "step": 0.01,
       "style": "IPY_MODEL_364c4046009548ebba2ee55f0a0903f2",
       "value": -1
      }
     },
     "ac3922ae026a4f29936b97644e503012": {
      "model_module": "@jupyter-widgets/controls",
      "model_module_version": "1.5.0",
      "model_name": "LabelModel",
      "state": {
       "layout": "IPY_MODEL_4600dc29773841249ae59b1c9fb0660c",
       "style": "IPY_MODEL_13dd225070744d4e80c7d215fc246786",
       "value": "Matrix colormap:"
      }
     },
     "ac6b882fa0af4b7d98fe91c3bea1f10b": {
      "model_module": "@jupyter-widgets/base",
      "model_module_version": "1.2.0",
      "model_name": "LayoutModel",
      "state": {
       "width": "200px"
      }
     },
     "ae0d05b3c34846a8a0d8207c1ade4e1c": {
      "model_module": "@jupyter-widgets/controls",
      "model_module_version": "1.5.0",
      "model_name": "DescriptionStyleModel",
      "state": {
       "description_width": ""
      }
     },
     "af1d4db305614003941232a463d53dc7": {
      "model_module": "@jupyter-widgets/base",
      "model_module_version": "1.2.0",
      "model_name": "LayoutModel",
      "state": {}
     },
     "af372d166c164da89c6e6e72ca60e085": {
      "model_module": "@jupyter-widgets/controls",
      "model_module_version": "1.5.0",
      "model_name": "SelectModel",
      "state": {
       "_options_labels": [
        "Author Keywords",
        "Authors",
        "Countries",
        "Country 1st",
        "Index Keywords",
        "Institution 1st",
        "Institutions",
        "Keywords",
        "Source title"
       ],
       "index": 0,
       "layout": "IPY_MODEL_74114c5d37cd4a9aadb68df24f9b9317",
       "style": "IPY_MODEL_5553222b6d0b4662b3cd6bfd2b80e831"
      }
     },
     "aff0332bb6f649cb9098371b317675bf": {
      "model_module": "@jupyter-widgets/controls",
      "model_module_version": "1.5.0",
      "model_name": "LabelModel",
      "state": {
       "layout": "IPY_MODEL_b378361ac5174d7888e1f0b5d83cf48c",
       "style": "IPY_MODEL_2e43d069f4ba4a01abd29732a3951a3b",
       "value": "Filter value"
      }
     },
     "b0786816bb874cd195a964c3d2972709": {
      "model_module": "@jupyter-widgets/controls",
      "model_module_version": "1.5.0",
      "model_name": "VBoxModel",
      "state": {
       "children": [
        "IPY_MODEL_5f010bd43b384dd1bd19276836b7aa09",
        "IPY_MODEL_12d4220e5cbf4f6dab079b3ddbbbbad6"
       ],
       "layout": "IPY_MODEL_4a504326081a47b59058ba8004bf4e6d"
      }
     },
     "b2f2692828ce41fcb2dbfe9785431714": {
      "model_module": "@jupyter-widgets/base",
      "model_module_version": "1.2.0",
      "model_name": "LayoutModel",
      "state": {
       "grid_template_areas": "\"header header header\"\n\"center center center\"",
       "grid_template_columns": "1fr 2fr 1fr",
       "grid_template_rows": "80px 750px"
      }
     },
     "b378361ac5174d7888e1f0b5d83cf48c": {
      "model_module": "@jupyter-widgets/base",
      "model_module_version": "1.2.0",
      "model_name": "LayoutModel",
      "state": {}
     },
     "b41f89dd035141acbada950bca321c34": {
      "model_module": "@jupyter-widgets/base",
      "model_module_version": "1.2.0",
      "model_name": "LayoutModel",
      "state": {
       "width": "200px"
      }
     },
     "b45da2212ad24feb81478b50b18f297b": {
      "model_module": "@jupyter-widgets/controls",
      "model_module_version": "1.5.0",
      "model_name": "VBoxModel",
      "state": {
       "children": [
        "IPY_MODEL_e5acbf01851247138f37876947956175"
       ],
       "layout": "IPY_MODEL_5c9fcd30630343c8b893a9afef0ecf16"
      }
     },
     "b4dd3efc838847859d8d3e685ced0d37": {
      "model_module": "@jupyter-widgets/controls",
      "model_module_version": "1.5.0",
      "model_name": "DescriptionStyleModel",
      "state": {
       "description_width": ""
      }
     },
     "b5351f2444f24badab0cbf432f6f6cc0": {
      "model_module": "@jupyter-widgets/base",
      "model_module_version": "1.2.0",
      "model_name": "LayoutModel",
      "state": {
       "width": "200px"
      }
     },
     "b5de4063e5bb463b9a16b454761afb1a": {
      "model_module": "@jupyter-widgets/base",
      "model_module_version": "1.2.0",
      "model_name": "LayoutModel",
      "state": {}
     },
     "bc335641172549b8ad03b7c98dd1a0d4": {
      "model_module": "@jupyter-widgets/base",
      "model_module_version": "1.2.0",
      "model_name": "LayoutModel",
      "state": {
       "width": "200px"
      }
     },
     "be0a33dc9a0345c291f410cbb0cafbab": {
      "model_module": "@jupyter-widgets/controls",
      "model_module_version": "1.5.0",
      "model_name": "VBoxModel",
      "state": {
       "children": [
        "IPY_MODEL_de18cc6f7a964d5bb086110219034f09",
        "IPY_MODEL_a8ff60b97efe4dbabb4a74f7b82c3fc0"
       ],
       "layout": "IPY_MODEL_d29fb488f7994f19ac49b1bd0ab1efc2"
      }
     },
     "bfd1198fab494e28bcd6435e41bf5d6e": {
      "model_module": "@jupyter-widgets/controls",
      "model_module_version": "1.5.0",
      "model_name": "SelectModel",
      "state": {
       "_options_labels": [
        "Author Keywords",
        "Authors",
        "Countries",
        "Country 1st",
        "Index Keywords",
        "Institution 1st",
        "Institutions",
        "Keywords",
        "Source title"
       ],
       "index": 0,
       "layout": "IPY_MODEL_d799e88b63994faa961424373c2dbc8b",
       "style": "IPY_MODEL_c579465f43da4f22b4cf2c86482b58e5"
      }
     },
     "bfe6797515cb4a6a8891b14580a0d9df": {
      "model_module": "@jupyter-widgets/base",
      "model_module_version": "1.2.0",
      "model_name": "LayoutModel",
      "state": {}
     },
     "c0c8a6d3876b4c3aa9a5e0a49f7ad6c9": {
      "model_module": "@jupyter-widgets/controls",
      "model_module_version": "1.5.0",
      "model_name": "SliderStyleModel",
      "state": {
       "description_width": ""
      }
     },
     "c1ca8362a7cf44d6a897e07c11670c26": {
      "model_module": "@jupyter-widgets/base",
      "model_module_version": "1.2.0",
      "model_name": "LayoutModel",
      "state": {}
     },
     "c27866379f8f4a299f234b156ac7b4f3": {
      "model_module": "@jupyter-widgets/output",
      "model_module_version": "1.0.0",
      "model_name": "OutputModel",
      "state": {
       "layout": "IPY_MODEL_f298e461e4ec416198c138395fa47c92",
       "msg_id": "b9b3b4ea-07a1-4cbe-876c-e87788f86ded",
       "outputs": [
        {
         "data": {
          "text/html": "<div>\n<style scoped>\n    .dataframe tbody tr th:only-of-type {\n        vertical-align: middle;\n    }\n\n    .dataframe tbody tr th {\n        vertical-align: top;\n    }\n\n    .dataframe thead th {\n        text-align: right;\n    }\n</style>\n<table border=\"1\" class=\"dataframe\">\n  <thead>\n    <tr style=\"text-align: right;\">\n      <th></th>\n      <th>AKIS [1]</th>\n      <th>Abiotic factors [1]</th>\n      <th>Abiotic stresses [1]</th>\n      <th>Acceptance [2]</th>\n      <th>Access to nature [1]</th>\n      <th>Accra, Ghana [1]</th>\n      <th>Accra-Ghana [1]</th>\n      <th>Action research system development [1]</th>\n      <th>Actions and Nigeria [1]</th>\n      <th>Activism [1]</th>\n      <th>...</th>\n      <th>water [2]</th>\n      <th>yards [2]</th>\n      <th>yield advantage [1]</th>\n      <th>yoga [1]</th>\n      <th>youth activism [1]</th>\n      <th>β-carotene [1]</th>\n      <th>‘Differentiation’ [1]</th>\n      <th>‘Diversification’ [1]</th>\n      <th>‘Low-cost specialization’ [1]</th>\n      <th>“Green Godfathers” [1]</th>\n    </tr>\n  </thead>\n  <tbody>\n    <tr>\n      <th>AKIS [1]</th>\n      <td>1.000000</td>\n      <td>-0.001808</td>\n      <td>-0.001808</td>\n      <td>-0.00256</td>\n      <td>-0.001808</td>\n      <td>-0.001808</td>\n      <td>-0.001808</td>\n      <td>-0.001808</td>\n      <td>-0.001808</td>\n      <td>-0.001808</td>\n      <td>...</td>\n      <td>-0.002560</td>\n      <td>-0.002560</td>\n      <td>-0.001808</td>\n      <td>-0.001808</td>\n      <td>-0.001808</td>\n      <td>-0.001808</td>\n      <td>-0.001808</td>\n      <td>-0.001808</td>\n      <td>-0.001808</td>\n      <td>-0.001808</td>\n    </tr>\n    <tr>\n      <th>Abiotic factors [1]</th>\n      <td>-0.001808</td>\n      <td>1.000000</td>\n      <td>-0.001808</td>\n      <td>-0.00256</td>\n      <td>-0.001808</td>\n      <td>-0.001808</td>\n      <td>-0.001808</td>\n      <td>-0.001808</td>\n      <td>-0.001808</td>\n      <td>-0.001808</td>\n      <td>...</td>\n      <td>-0.002560</td>\n      <td>-0.002560</td>\n      <td>-0.001808</td>\n      <td>-0.001808</td>\n      <td>-0.001808</td>\n      <td>-0.001808</td>\n      <td>-0.001808</td>\n      <td>-0.001808</td>\n      <td>-0.001808</td>\n      <td>-0.001808</td>\n    </tr>\n    <tr>\n      <th>Abiotic stresses [1]</th>\n      <td>-0.001808</td>\n      <td>-0.001808</td>\n      <td>1.000000</td>\n      <td>-0.00256</td>\n      <td>-0.001808</td>\n      <td>-0.001808</td>\n      <td>-0.001808</td>\n      <td>-0.001808</td>\n      <td>-0.001808</td>\n      <td>-0.001808</td>\n      <td>...</td>\n      <td>-0.002560</td>\n      <td>-0.002560</td>\n      <td>-0.001808</td>\n      <td>-0.001808</td>\n      <td>-0.001808</td>\n      <td>-0.001808</td>\n      <td>-0.001808</td>\n      <td>-0.001808</td>\n      <td>-0.001808</td>\n      <td>-0.001808</td>\n    </tr>\n    <tr>\n      <th>Acceptance [2]</th>\n      <td>-0.002560</td>\n      <td>-0.002560</td>\n      <td>-0.002560</td>\n      <td>1.00000</td>\n      <td>-0.002560</td>\n      <td>-0.002560</td>\n      <td>-0.002560</td>\n      <td>-0.002560</td>\n      <td>-0.002560</td>\n      <td>-0.002560</td>\n      <td>...</td>\n      <td>-0.003623</td>\n      <td>-0.003623</td>\n      <td>-0.002560</td>\n      <td>-0.002560</td>\n      <td>-0.002560</td>\n      <td>-0.002560</td>\n      <td>-0.002560</td>\n      <td>-0.002560</td>\n      <td>-0.002560</td>\n      <td>-0.002560</td>\n    </tr>\n    <tr>\n      <th>Access to nature [1]</th>\n      <td>-0.001808</td>\n      <td>-0.001808</td>\n      <td>-0.001808</td>\n      <td>-0.00256</td>\n      <td>1.000000</td>\n      <td>-0.001808</td>\n      <td>-0.001808</td>\n      <td>-0.001808</td>\n      <td>-0.001808</td>\n      <td>-0.001808</td>\n      <td>...</td>\n      <td>-0.002560</td>\n      <td>-0.002560</td>\n      <td>-0.001808</td>\n      <td>-0.001808</td>\n      <td>-0.001808</td>\n      <td>-0.001808</td>\n      <td>-0.001808</td>\n      <td>-0.001808</td>\n      <td>-0.001808</td>\n      <td>-0.001808</td>\n    </tr>\n    <tr>\n      <th>...</th>\n      <td>...</td>\n      <td>...</td>\n      <td>...</td>\n      <td>...</td>\n      <td>...</td>\n      <td>...</td>\n      <td>...</td>\n      <td>...</td>\n      <td>...</td>\n      <td>...</td>\n      <td>...</td>\n      <td>...</td>\n      <td>...</td>\n      <td>...</td>\n      <td>...</td>\n      <td>...</td>\n      <td>...</td>\n      <td>...</td>\n      <td>...</td>\n      <td>...</td>\n      <td>...</td>\n    </tr>\n    <tr>\n      <th>β-carotene [1]</th>\n      <td>-0.001808</td>\n      <td>-0.001808</td>\n      <td>-0.001808</td>\n      <td>-0.00256</td>\n      <td>-0.001808</td>\n      <td>-0.001808</td>\n      <td>-0.001808</td>\n      <td>-0.001808</td>\n      <td>-0.001808</td>\n      <td>-0.001808</td>\n      <td>...</td>\n      <td>-0.002560</td>\n      <td>-0.002560</td>\n      <td>-0.001808</td>\n      <td>-0.001808</td>\n      <td>-0.001808</td>\n      <td>1.000000</td>\n      <td>-0.001808</td>\n      <td>-0.001808</td>\n      <td>-0.001808</td>\n      <td>-0.001808</td>\n    </tr>\n    <tr>\n      <th>‘Differentiation’ [1]</th>\n      <td>-0.001808</td>\n      <td>-0.001808</td>\n      <td>-0.001808</td>\n      <td>-0.00256</td>\n      <td>-0.001808</td>\n      <td>-0.001808</td>\n      <td>-0.001808</td>\n      <td>-0.001808</td>\n      <td>-0.001808</td>\n      <td>-0.001808</td>\n      <td>...</td>\n      <td>-0.002560</td>\n      <td>-0.002560</td>\n      <td>-0.001808</td>\n      <td>-0.001808</td>\n      <td>-0.001808</td>\n      <td>-0.001808</td>\n      <td>1.000000</td>\n      <td>1.000000</td>\n      <td>1.000000</td>\n      <td>-0.001808</td>\n    </tr>\n    <tr>\n      <th>‘Diversification’ [1]</th>\n      <td>-0.001808</td>\n      <td>-0.001808</td>\n      <td>-0.001808</td>\n      <td>-0.00256</td>\n      <td>-0.001808</td>\n      <td>-0.001808</td>\n      <td>-0.001808</td>\n      <td>-0.001808</td>\n      <td>-0.001808</td>\n      <td>-0.001808</td>\n      <td>...</td>\n      <td>-0.002560</td>\n      <td>-0.002560</td>\n      <td>-0.001808</td>\n      <td>-0.001808</td>\n      <td>-0.001808</td>\n      <td>-0.001808</td>\n      <td>1.000000</td>\n      <td>1.000000</td>\n      <td>1.000000</td>\n      <td>-0.001808</td>\n    </tr>\n    <tr>\n      <th>‘Low-cost specialization’ [1]</th>\n      <td>-0.001808</td>\n      <td>-0.001808</td>\n      <td>-0.001808</td>\n      <td>-0.00256</td>\n      <td>-0.001808</td>\n      <td>-0.001808</td>\n      <td>-0.001808</td>\n      <td>-0.001808</td>\n      <td>-0.001808</td>\n      <td>-0.001808</td>\n      <td>...</td>\n      <td>-0.002560</td>\n      <td>-0.002560</td>\n      <td>-0.001808</td>\n      <td>-0.001808</td>\n      <td>-0.001808</td>\n      <td>-0.001808</td>\n      <td>1.000000</td>\n      <td>1.000000</td>\n      <td>1.000000</td>\n      <td>-0.001808</td>\n    </tr>\n    <tr>\n      <th>“Green Godfathers” [1]</th>\n      <td>-0.001808</td>\n      <td>-0.001808</td>\n      <td>-0.001808</td>\n      <td>-0.00256</td>\n      <td>-0.001808</td>\n      <td>-0.001808</td>\n      <td>-0.001808</td>\n      <td>-0.001808</td>\n      <td>-0.001808</td>\n      <td>-0.001808</td>\n      <td>...</td>\n      <td>-0.002560</td>\n      <td>-0.002560</td>\n      <td>-0.001808</td>\n      <td>-0.001808</td>\n      <td>-0.001808</td>\n      <td>-0.001808</td>\n      <td>-0.001808</td>\n      <td>-0.001808</td>\n      <td>-0.001808</td>\n      <td>1.000000</td>\n    </tr>\n  </tbody>\n</table>\n<p>2135 rows × 2135 columns</p>\n</div>",
          "text/plain": "                               AKIS [1]  Abiotic factors [1]  \\\nAKIS [1]                       1.000000            -0.001808   \nAbiotic factors [1]           -0.001808             1.000000   \nAbiotic stresses [1]          -0.001808            -0.001808   \nAcceptance [2]                -0.002560            -0.002560   \nAccess to nature [1]          -0.001808            -0.001808   \n...                                 ...                  ...   \nβ-carotene [1]                -0.001808            -0.001808   \n‘Differentiation’ [1]         -0.001808            -0.001808   \n‘Diversification’ [1]         -0.001808            -0.001808   \n‘Low-cost specialization’ [1] -0.001808            -0.001808   \n“Green Godfathers” [1]        -0.001808            -0.001808   \n\n                               Abiotic stresses [1]  Acceptance [2]  \\\nAKIS [1]                                  -0.001808        -0.00256   \nAbiotic factors [1]                       -0.001808        -0.00256   \nAbiotic stresses [1]                       1.000000        -0.00256   \nAcceptance [2]                            -0.002560         1.00000   \nAccess to nature [1]                      -0.001808        -0.00256   \n...                                             ...             ...   \nβ-carotene [1]                            -0.001808        -0.00256   \n‘Differentiation’ [1]                     -0.001808        -0.00256   \n‘Diversification’ [1]                     -0.001808        -0.00256   \n‘Low-cost specialization’ [1]             -0.001808        -0.00256   \n“Green Godfathers” [1]                    -0.001808        -0.00256   \n\n                               Access to nature [1]  Accra, Ghana [1]  \\\nAKIS [1]                                  -0.001808         -0.001808   \nAbiotic factors [1]                       -0.001808         -0.001808   \nAbiotic stresses [1]                      -0.001808         -0.001808   \nAcceptance [2]                            -0.002560         -0.002560   \nAccess to nature [1]                       1.000000         -0.001808   \n...                                             ...               ...   \nβ-carotene [1]                            -0.001808         -0.001808   \n‘Differentiation’ [1]                     -0.001808         -0.001808   \n‘Diversification’ [1]                     -0.001808         -0.001808   \n‘Low-cost specialization’ [1]             -0.001808         -0.001808   \n“Green Godfathers” [1]                    -0.001808         -0.001808   \n\n                               Accra-Ghana [1]  \\\nAKIS [1]                             -0.001808   \nAbiotic factors [1]                  -0.001808   \nAbiotic stresses [1]                 -0.001808   \nAcceptance [2]                       -0.002560   \nAccess to nature [1]                 -0.001808   \n...                                        ...   \nβ-carotene [1]                       -0.001808   \n‘Differentiation’ [1]                -0.001808   \n‘Diversification’ [1]                -0.001808   \n‘Low-cost specialization’ [1]        -0.001808   \n“Green Godfathers” [1]               -0.001808   \n\n                               Action research system development [1]  \\\nAKIS [1]                                                    -0.001808   \nAbiotic factors [1]                                         -0.001808   \nAbiotic stresses [1]                                        -0.001808   \nAcceptance [2]                                              -0.002560   \nAccess to nature [1]                                        -0.001808   \n...                                                               ...   \nβ-carotene [1]                                              -0.001808   \n‘Differentiation’ [1]                                       -0.001808   \n‘Diversification’ [1]                                       -0.001808   \n‘Low-cost specialization’ [1]                               -0.001808   \n“Green Godfathers” [1]                                      -0.001808   \n\n                               Actions and Nigeria [1]  Activism [1]  ...  \\\nAKIS [1]                                     -0.001808     -0.001808  ...   \nAbiotic factors [1]                          -0.001808     -0.001808  ...   \nAbiotic stresses [1]                         -0.001808     -0.001808  ...   \nAcceptance [2]                               -0.002560     -0.002560  ...   \nAccess to nature [1]                         -0.001808     -0.001808  ...   \n...                                                ...           ...  ...   \nβ-carotene [1]                               -0.001808     -0.001808  ...   \n‘Differentiation’ [1]                        -0.001808     -0.001808  ...   \n‘Diversification’ [1]                        -0.001808     -0.001808  ...   \n‘Low-cost specialization’ [1]                -0.001808     -0.001808  ...   \n“Green Godfathers” [1]                       -0.001808     -0.001808  ...   \n\n                               water [2]  yards [2]  yield advantage [1]  \\\nAKIS [1]                       -0.002560  -0.002560            -0.001808   \nAbiotic factors [1]            -0.002560  -0.002560            -0.001808   \nAbiotic stresses [1]           -0.002560  -0.002560            -0.001808   \nAcceptance [2]                 -0.003623  -0.003623            -0.002560   \nAccess to nature [1]           -0.002560  -0.002560            -0.001808   \n...                                  ...        ...                  ...   \nβ-carotene [1]                 -0.002560  -0.002560            -0.001808   \n‘Differentiation’ [1]          -0.002560  -0.002560            -0.001808   \n‘Diversification’ [1]          -0.002560  -0.002560            -0.001808   \n‘Low-cost specialization’ [1]  -0.002560  -0.002560            -0.001808   \n“Green Godfathers” [1]         -0.002560  -0.002560            -0.001808   \n\n                               yoga [1]  youth activism [1]  β-carotene [1]  \\\nAKIS [1]                      -0.001808           -0.001808       -0.001808   \nAbiotic factors [1]           -0.001808           -0.001808       -0.001808   \nAbiotic stresses [1]          -0.001808           -0.001808       -0.001808   \nAcceptance [2]                -0.002560           -0.002560       -0.002560   \nAccess to nature [1]          -0.001808           -0.001808       -0.001808   \n...                                 ...                 ...             ...   \nβ-carotene [1]                -0.001808           -0.001808        1.000000   \n‘Differentiation’ [1]         -0.001808           -0.001808       -0.001808   \n‘Diversification’ [1]         -0.001808           -0.001808       -0.001808   \n‘Low-cost specialization’ [1] -0.001808           -0.001808       -0.001808   \n“Green Godfathers” [1]        -0.001808           -0.001808       -0.001808   \n\n                               ‘Differentiation’ [1]  ‘Diversification’ [1]  \\\nAKIS [1]                                   -0.001808              -0.001808   \nAbiotic factors [1]                        -0.001808              -0.001808   \nAbiotic stresses [1]                       -0.001808              -0.001808   \nAcceptance [2]                             -0.002560              -0.002560   \nAccess to nature [1]                       -0.001808              -0.001808   \n...                                              ...                    ...   \nβ-carotene [1]                             -0.001808              -0.001808   \n‘Differentiation’ [1]                       1.000000               1.000000   \n‘Diversification’ [1]                       1.000000               1.000000   \n‘Low-cost specialization’ [1]               1.000000               1.000000   \n“Green Godfathers” [1]                     -0.001808              -0.001808   \n\n                               ‘Low-cost specialization’ [1]  \\\nAKIS [1]                                           -0.001808   \nAbiotic factors [1]                                -0.001808   \nAbiotic stresses [1]                               -0.001808   \nAcceptance [2]                                     -0.002560   \nAccess to nature [1]                               -0.001808   \n...                                                      ...   \nβ-carotene [1]                                     -0.001808   \n‘Differentiation’ [1]                               1.000000   \n‘Diversification’ [1]                               1.000000   \n‘Low-cost specialization’ [1]                       1.000000   \n“Green Godfathers” [1]                             -0.001808   \n\n                               “Green Godfathers” [1]  \nAKIS [1]                                    -0.001808  \nAbiotic factors [1]                         -0.001808  \nAbiotic stresses [1]                        -0.001808  \nAcceptance [2]                              -0.002560  \nAccess to nature [1]                        -0.001808  \n...                                               ...  \nβ-carotene [1]                              -0.001808  \n‘Differentiation’ [1]                       -0.001808  \n‘Diversification’ [1]                       -0.001808  \n‘Low-cost specialization’ [1]               -0.001808  \n“Green Godfathers” [1]                       1.000000  \n\n[2135 rows x 2135 columns]"
         },
         "metadata": {},
         "output_type": "display_data"
        }
       ]
      }
     },
     "c4509e3b16154e15a0c07d501561fb6e": {
      "model_module": "@jupyter-widgets/base",
      "model_module_version": "1.2.0",
      "model_name": "LayoutModel",
      "state": {
       "width": "870px"
      }
     },
     "c4bef826074a4d109103fcc68cef70ef": {
      "model_module": "@jupyter-widgets/controls",
      "model_module_version": "1.5.0",
      "model_name": "LabelModel",
      "state": {
       "layout": "IPY_MODEL_eaecdc6593de410da125efe5604eb004",
       "style": "IPY_MODEL_6441844de49a47df9593df3bcae9de5b",
       "value": "Method:"
      }
     },
     "c579465f43da4f22b4cf2c86482b58e5": {
      "model_module": "@jupyter-widgets/controls",
      "model_module_version": "1.5.0",
      "model_name": "DescriptionStyleModel",
      "state": {
       "description_width": ""
      }
     },
     "c6c1fe1852864e0a8697f4a044c93d9e": {
      "model_module": "@jupyter-widgets/base",
      "model_module_version": "1.2.0",
      "model_name": "LayoutModel",
      "state": {}
     },
     "c9daf81d83894c81b31a5a04241be309": {
      "model_module": "@jupyter-widgets/controls",
      "model_module_version": "1.5.0",
      "model_name": "VBoxModel",
      "state": {
       "children": [
        "IPY_MODEL_5e74bf0076af4f9eaad6dbe5267305de",
        "IPY_MODEL_81742cb138ed4a4ca34877394253f26e"
       ],
       "layout": "IPY_MODEL_45ec27b3c91d48358f612766d5ed1e68"
      }
     },
     "d0361f0bac214ce4967a11d79273cdb3": {
      "model_module": "@jupyter-widgets/base",
      "model_module_version": "1.2.0",
      "model_name": "LayoutModel",
      "state": {}
     },
     "d0e92b32f7664fcf9a49604ad11eba45": {
      "model_module": "@jupyter-widgets/base",
      "model_module_version": "1.2.0",
      "model_name": "LayoutModel",
      "state": {
       "border": "1px solid gray",
       "height": "700px"
      }
     },
     "d13e9615c933414a8d24976bde8c3525": {
      "model_module": "@jupyter-widgets/base",
      "model_module_version": "1.2.0",
      "model_name": "LayoutModel",
      "state": {}
     },
     "d18d97c7f45846788896f2a46589da5f": {
      "model_module": "@jupyter-widgets/controls",
      "model_module_version": "1.5.0",
      "model_name": "DescriptionStyleModel",
      "state": {
       "description_width": ""
      }
     },
     "d29fb488f7994f19ac49b1bd0ab1efc2": {
      "model_module": "@jupyter-widgets/base",
      "model_module_version": "1.2.0",
      "model_name": "LayoutModel",
      "state": {}
     },
     "d3792c70fb3546fbaddfbef73f418aa1": {
      "model_module": "@jupyter-widgets/base",
      "model_module_version": "1.2.0",
      "model_name": "LayoutModel",
      "state": {
       "width": "200px"
      }
     },
     "d4b4ac6bd6a847eeb24969bc58bc8273": {
      "model_module": "@jupyter-widgets/controls",
      "model_module_version": "1.5.0",
      "model_name": "DropdownModel",
      "state": {
       "_options_labels": [
        "Matrix",
        "Correlation map",
        "Chord diagram"
       ],
       "index": 2,
       "layout": "IPY_MODEL_bc335641172549b8ad03b7c98dd1a0d4",
       "style": "IPY_MODEL_fce2da6e3a064a5291e4226c47b8201a"
      }
     },
     "d624ab2667714614980f37381c43b931": {
      "model_module": "@jupyter-widgets/base",
      "model_module_version": "1.2.0",
      "model_name": "LayoutModel",
      "state": {
       "grid_area": "header"
      }
     },
     "d799e88b63994faa961424373c2dbc8b": {
      "model_module": "@jupyter-widgets/base",
      "model_module_version": "1.2.0",
      "model_name": "LayoutModel",
      "state": {
       "width": "200px"
      }
     },
     "db5fb48eeaaa4ed980e202c99c7a0505": {
      "model_module": "@jupyter-widgets/base",
      "model_module_version": "1.2.0",
      "model_name": "LayoutModel",
      "state": {
       "width": "200px"
      }
     },
     "de18cc6f7a964d5bb086110219034f09": {
      "model_module": "@jupyter-widgets/controls",
      "model_module_version": "1.5.0",
      "model_name": "LabelModel",
      "state": {
       "layout": "IPY_MODEL_e62079b153b148d198943550c2bf76d0",
       "style": "IPY_MODEL_4c1c63ce8d834f6cb952da6610f80aed",
       "value": "Min link value:"
      }
     },
     "e1991074347f48598d013e7a0b1c5285": {
      "model_module": "@jupyter-widgets/controls",
      "model_module_version": "1.5.0",
      "model_name": "TabModel",
      "state": {
       "_titles": {
        "0": "Matrix"
       },
       "children": [
        "IPY_MODEL_9b68f7e401fd4019ab6d103ef187c4c9"
       ],
       "layout": "IPY_MODEL_330e15426426464688d4ad21f5c14ece"
      }
     },
     "e1fc140ee5474d7193cc5149d37e16bb": {
      "model_module": "@jupyter-widgets/controls",
      "model_module_version": "1.5.0",
      "model_name": "DescriptionStyleModel",
      "state": {
       "description_width": ""
      }
     },
     "e5acbf01851247138f37876947956175": {
      "model_module": "@jupyter-widgets/output",
      "model_module_version": "1.0.0",
      "model_name": "OutputModel",
      "state": {
       "layout": "IPY_MODEL_1cf419526956486c94d075640a2598c3",
       "outputs": [
        {
         "ename": "AttributeError",
         "evalue": "'dict' object has no attribute 'columns'",
         "output_type": "error",
         "traceback": [
          "\u001b[0;31m---------------------------------------------------------------------------\u001b[0m",
          "\u001b[0;31mAttributeError\u001b[0m                            Traceback (most recent call last)",
          "\u001b[0;32m<ipython-input-2-822e09b714a3>\u001b[0m in \u001b[0;36mserver\u001b[0;34m(**kwargs)\u001b[0m\n\u001b[1;32m     99\u001b[0m                 \u001b[0;32mpass\u001b[0m\u001b[0;34m\u001b[0m\u001b[0;34m\u001b[0m\u001b[0m\n\u001b[1;32m    100\u001b[0m             \u001b[0;32mif\u001b[0m \u001b[0mview\u001b[0m \u001b[0;34m==\u001b[0m \u001b[0;34m\"Chord diagram\"\u001b[0m\u001b[0;34m:\u001b[0m\u001b[0;34m\u001b[0m\u001b[0;34m\u001b[0m\u001b[0m\n\u001b[0;32m--> 101\u001b[0;31m                 \u001b[0mdisplay\u001b[0m\u001b[0;34m(\u001b[0m\u001b[0mchord_diagram\u001b[0m\u001b[0;34m(\u001b[0m\u001b[0mcorr_map\u001b[0m\u001b[0;34m(\u001b[0m\u001b[0mmatrix\u001b[0m\u001b[0;34m)\u001b[0m\u001b[0;34m)\u001b[0m\u001b[0;34m)\u001b[0m\u001b[0;34m\u001b[0m\u001b[0;34m\u001b[0m\u001b[0m\n\u001b[0m\u001b[1;32m    102\u001b[0m \u001b[0;34m\u001b[0m\u001b[0m\n\u001b[1;32m    103\u001b[0m     \u001b[0;31m#\u001b[0m\u001b[0;34m\u001b[0m\u001b[0;34m\u001b[0m\u001b[0;34m\u001b[0m\u001b[0m\n",
          "\u001b[0;32m/usr/local/lib/python3.6/dist-packages/techminer-0.0.0-py3.6.egg/techminer/plots.py\u001b[0m in \u001b[0;36mchord_diagram\u001b[0;34m(x, figsize, alpha, minval, top_n_links, solid_lines)\u001b[0m\n\u001b[1;32m    586\u001b[0m \u001b[0;34m\u001b[0m\u001b[0m\n\u001b[1;32m    587\u001b[0m     \u001b[0mcd\u001b[0m \u001b[0;34m=\u001b[0m \u001b[0mChordDiagram\u001b[0m\u001b[0;34m(\u001b[0m\u001b[0;34m)\u001b[0m\u001b[0;34m\u001b[0m\u001b[0;34m\u001b[0m\u001b[0m\n\u001b[0;32m--> 588\u001b[0;31m     \u001b[0mcd\u001b[0m\u001b[0;34m.\u001b[0m\u001b[0madd_nodes_from\u001b[0m\u001b[0;34m(\u001b[0m\u001b[0mx\u001b[0m\u001b[0;34m.\u001b[0m\u001b[0mcolumns\u001b[0m\u001b[0;34m,\u001b[0m \u001b[0mcolor\u001b[0m\u001b[0;34m=\u001b[0m\u001b[0;34m\"black\"\u001b[0m\u001b[0;34m,\u001b[0m \u001b[0ms\u001b[0m\u001b[0;34m=\u001b[0m\u001b[0;36m40\u001b[0m\u001b[0;34m)\u001b[0m\u001b[0;34m\u001b[0m\u001b[0;34m\u001b[0m\u001b[0m\n\u001b[0m\u001b[1;32m    589\u001b[0m \u001b[0;34m\u001b[0m\u001b[0m\n\u001b[1;32m    590\u001b[0m     \u001b[0;32mif\u001b[0m \u001b[0mtop_n_links\u001b[0m \u001b[0;32mis\u001b[0m \u001b[0;32mnot\u001b[0m \u001b[0;32mNone\u001b[0m \u001b[0;32mand\u001b[0m \u001b[0mtop_n_links\u001b[0m \u001b[0;34m<=\u001b[0m \u001b[0mlen\u001b[0m\u001b[0;34m(\u001b[0m\u001b[0mx\u001b[0m\u001b[0;34m.\u001b[0m\u001b[0mcolumns\u001b[0m\u001b[0;34m)\u001b[0m\u001b[0;34m:\u001b[0m\u001b[0;34m\u001b[0m\u001b[0;34m\u001b[0m\u001b[0m\n",
          "\u001b[0;31mAttributeError\u001b[0m: 'dict' object has no attribute 'columns'"
         ]
        }
       ]
      }
     },
     "e62079b153b148d198943550c2bf76d0": {
      "model_module": "@jupyter-widgets/base",
      "model_module_version": "1.2.0",
      "model_name": "LayoutModel",
      "state": {}
     },
     "e6640f69ceb84f4fb76ffb7d0902339d": {
      "model_module": "@jupyter-widgets/base",
      "model_module_version": "1.2.0",
      "model_name": "LayoutModel",
      "state": {}
     },
     "e73fcf59a0d3479195d949a62b76fa63": {
      "model_module": "@jupyter-widgets/controls",
      "model_module_version": "1.5.0",
      "model_name": "VBoxModel",
      "state": {
       "children": [
        "IPY_MODEL_aff0332bb6f649cb9098371b317675bf",
        "IPY_MODEL_3540a313afce4a56ace18cb040a23bad"
       ],
       "layout": "IPY_MODEL_627ec3bbda68432db4cc08c7949a571c"
      }
     },
     "e752bc26cc664213a715eaa1f572c6f0": {
      "model_module": "@jupyter-widgets/controls",
      "model_module_version": "1.5.0",
      "model_name": "FloatSliderModel",
      "state": {
       "continuous_update": false,
       "layout": "IPY_MODEL_555b1ec2fce147d6bf2778def9dc82dc",
       "max": 1,
       "min": -1,
       "readout_format": ".1f",
       "step": 0.01,
       "style": "IPY_MODEL_22c4661ffc774c1c8a5e78a26f99a12d",
       "value": 0.57
      }
     },
     "e94ff4fed70348e7b06fbb915112a975": {
      "model_module": "@jupyter-widgets/base",
      "model_module_version": "1.2.0",
      "model_name": "LayoutModel",
      "state": {
       "grid_template_areas": "\"header header header\"\n\"center center center\"",
       "grid_template_columns": "1fr 2fr 1fr",
       "grid_template_rows": "80px 750px"
      }
     },
     "e970ee629a994f63865e5e84cbf41c88": {
      "model_module": "@jupyter-widgets/controls",
      "model_module_version": "1.5.0",
      "model_name": "HTMLModel",
      "state": {
       "layout": "IPY_MODEL_39d033e819a8405993884e2d7215325b",
       "style": "IPY_MODEL_2ddb6bacdbe14a41a3deb0a213309c0c",
       "value": "<h1>Correlation Analysis</h1><hr style='height:2px;border-width:0;color:gray;background-color:gray'>"
      }
     },
     "ea0c16abd39e450f832754fcbe2a5310": {
      "model_module": "@jupyter-widgets/controls",
      "model_module_version": "1.5.0",
      "model_name": "TabModel",
      "state": {
       "_titles": {
        "0": "Matrix"
       },
       "children": [
        "IPY_MODEL_fd67daba4d6f4a6f9b2c0b0e9d90e410"
       ],
       "layout": "IPY_MODEL_5bccacb0b9f84f2980ced4dd3de28a25"
      }
     },
     "eaecdc6593de410da125efe5604eb004": {
      "model_module": "@jupyter-widgets/base",
      "model_module_version": "1.2.0",
      "model_name": "LayoutModel",
      "state": {}
     },
     "ec5be07aa87c49e7912ada1aa7bbb813": {
      "model_module": "@jupyter-widgets/base",
      "model_module_version": "1.2.0",
      "model_name": "LayoutModel",
      "state": {
       "width": "200px"
      }
     },
     "f298e461e4ec416198c138395fa47c92": {
      "model_module": "@jupyter-widgets/base",
      "model_module_version": "1.2.0",
      "model_name": "LayoutModel",
      "state": {}
     },
     "f42c5e58bdfd43d18894637f49006c57": {
      "model_module": "@jupyter-widgets/base",
      "model_module_version": "1.2.0",
      "model_name": "LayoutModel",
      "state": {}
     },
     "f4f101e982854e5b922cade1791b3fd7": {
      "model_module": "@jupyter-widgets/output",
      "model_module_version": "1.0.0",
      "model_name": "OutputModel",
      "state": {
       "layout": "IPY_MODEL_0e4f8c5a48de4875a22de69d2234acd6",
       "outputs": [
        {
         "ename": "KeyError",
         "evalue": "'Passing list-likes to .loc or [] with any missing labels is no longer supported, see https://pandas.pydata.org/pandas-docs/stable/user_guide/indexing.html#deprecate-loc-reindex-listlike'",
         "output_type": "error",
         "traceback": [
          "\u001b[0;31m---------------------------------------------------------------------------\u001b[0m",
          "\u001b[0;31mKeyError\u001b[0m                                  Traceback (most recent call last)",
          "\u001b[0;32m/usr/local/lib/python3.6/dist-packages/ipywidgets/widgets/interaction.py\u001b[0m in \u001b[0;36mobserver\u001b[0;34m(change)\u001b[0m\n\u001b[1;32m     77\u001b[0m         \u001b[0;32mwith\u001b[0m \u001b[0mout\u001b[0m\u001b[0;34m:\u001b[0m\u001b[0;34m\u001b[0m\u001b[0;34m\u001b[0m\u001b[0m\n\u001b[1;32m     78\u001b[0m             \u001b[0mclear_output\u001b[0m\u001b[0;34m(\u001b[0m\u001b[0mwait\u001b[0m\u001b[0;34m=\u001b[0m\u001b[0;32mTrue\u001b[0m\u001b[0;34m)\u001b[0m\u001b[0;34m\u001b[0m\u001b[0;34m\u001b[0m\u001b[0m\n\u001b[0;32m---> 79\u001b[0;31m             \u001b[0mf\u001b[0m\u001b[0;34m(\u001b[0m\u001b[0;34m**\u001b[0m\u001b[0mkwargs\u001b[0m\u001b[0;34m)\u001b[0m\u001b[0;34m\u001b[0m\u001b[0;34m\u001b[0m\u001b[0m\n\u001b[0m\u001b[1;32m     80\u001b[0m             \u001b[0mshow_inline_matplotlib_plots\u001b[0m\u001b[0;34m(\u001b[0m\u001b[0;34m)\u001b[0m\u001b[0;34m\u001b[0m\u001b[0;34m\u001b[0m\u001b[0m\n\u001b[1;32m     81\u001b[0m     \u001b[0;32mfor\u001b[0m \u001b[0mk\u001b[0m\u001b[0;34m,\u001b[0m\u001b[0mw\u001b[0m \u001b[0;32min\u001b[0m \u001b[0mcontrols\u001b[0m\u001b[0;34m.\u001b[0m\u001b[0mitems\u001b[0m\u001b[0;34m(\u001b[0m\u001b[0;34m)\u001b[0m\u001b[0;34m:\u001b[0m\u001b[0;34m\u001b[0m\u001b[0;34m\u001b[0m\u001b[0m\n",
          "\u001b[0;32m<ipython-input-2-822e09b714a3>\u001b[0m in \u001b[0;36mserver\u001b[0;34m(**kwargs)\u001b[0m\n\u001b[1;32m     70\u001b[0m             \u001b[0mfilter_value\u001b[0m\u001b[0;34m=\u001b[0m\u001b[0mfilter_value\u001b[0m\u001b[0;34m,\u001b[0m\u001b[0;34m\u001b[0m\u001b[0;34m\u001b[0m\u001b[0m\n\u001b[1;32m     71\u001b[0m             \u001b[0mas_matrix\u001b[0m\u001b[0;34m=\u001b[0m\u001b[0;32mTrue\u001b[0m\u001b[0;34m,\u001b[0m\u001b[0;34m\u001b[0m\u001b[0;34m\u001b[0m\u001b[0m\n\u001b[0;32m---> 72\u001b[0;31m             \u001b[0mkeywords\u001b[0m\u001b[0;34m=\u001b[0m\u001b[0;32mNone\u001b[0m\u001b[0;34m,\u001b[0m\u001b[0;34m\u001b[0m\u001b[0;34m\u001b[0m\u001b[0m\n\u001b[0m\u001b[1;32m     73\u001b[0m         )\n\u001b[1;32m     74\u001b[0m         \u001b[0;31m#\u001b[0m\u001b[0;34m\u001b[0m\u001b[0;34m\u001b[0m\u001b[0;34m\u001b[0m\u001b[0m\n",
          "\u001b[0;32m/usr/local/lib/python3.6/dist-packages/techminer-0.0.0-py3.6.egg/techminer/correlation.py\u001b[0m in \u001b[0;36mcorr\u001b[0;34m(x, column, by, method, min_link_value, filter_by, filter_value, cmap, as_matrix, keywords)\u001b[0m\n\u001b[1;32m    318\u001b[0m         \u001b[0mdf\u001b[0m \u001b[0;34m=\u001b[0m \u001b[0mdf\u001b[0m\u001b[0;34m[\u001b[0m\u001b[0mdf\u001b[0m\u001b[0;34m[\u001b[0m\u001b[0;34m\"Num Documents\"\u001b[0m\u001b[0;34m]\u001b[0m \u001b[0;34m>=\u001b[0m \u001b[0mfilter_value\u001b[0m\u001b[0;34m]\u001b[0m\u001b[0;34m\u001b[0m\u001b[0;34m\u001b[0m\u001b[0m\n\u001b[1;32m    319\u001b[0m         \u001b[0mfiltered_terms\u001b[0m \u001b[0;34m=\u001b[0m \u001b[0mdf\u001b[0m\u001b[0;34m[\u001b[0m\u001b[0mcolumn\u001b[0m\u001b[0;34m]\u001b[0m\u001b[0;34m.\u001b[0m\u001b[0mtolist\u001b[0m\u001b[0;34m(\u001b[0m\u001b[0;34m)\u001b[0m\u001b[0;34m\u001b[0m\u001b[0;34m\u001b[0m\u001b[0m\n\u001b[0;32m--> 320\u001b[0;31m         \u001b[0mresult\u001b[0m \u001b[0;34m=\u001b[0m \u001b[0mresult\u001b[0m\u001b[0;34m.\u001b[0m\u001b[0mloc\u001b[0m\u001b[0;34m[\u001b[0m\u001b[0mfiltered_terms\u001b[0m\u001b[0;34m,\u001b[0m \u001b[0mfiltered_terms\u001b[0m\u001b[0;34m]\u001b[0m\u001b[0;34m\u001b[0m\u001b[0;34m\u001b[0m\u001b[0m\n\u001b[0m\u001b[1;32m    321\u001b[0m     \u001b[0;32mif\u001b[0m \u001b[0;34m(\u001b[0m\u001b[0mfilter_by\u001b[0m \u001b[0;34m==\u001b[0m \u001b[0;36m1\u001b[0m \u001b[0;32mor\u001b[0m \u001b[0mfilter_by\u001b[0m \u001b[0;34m==\u001b[0m \u001b[0;34m\"Cited by\"\u001b[0m\u001b[0;34m)\u001b[0m \u001b[0;32mand\u001b[0m \u001b[0mfilter_value\u001b[0m \u001b[0;34m>\u001b[0m \u001b[0;36m0\u001b[0m\u001b[0;34m:\u001b[0m\u001b[0;34m\u001b[0m\u001b[0;34m\u001b[0m\u001b[0m\n\u001b[1;32m    322\u001b[0m         \u001b[0mdf\u001b[0m \u001b[0;34m=\u001b[0m \u001b[0msummary_by_term\u001b[0m\u001b[0;34m(\u001b[0m\u001b[0mx\u001b[0m\u001b[0;34m,\u001b[0m \u001b[0mcolumn\u001b[0m\u001b[0;34m)\u001b[0m\u001b[0;34m\u001b[0m\u001b[0;34m\u001b[0m\u001b[0m\n",
          "\u001b[0;32m/usr/local/lib/python3.6/dist-packages/pandas/core/indexing.py\u001b[0m in \u001b[0;36m__getitem__\u001b[0;34m(self, key)\u001b[0m\n\u001b[1;32m   1760\u001b[0m                 \u001b[0;32mexcept\u001b[0m \u001b[0;34m(\u001b[0m\u001b[0mKeyError\u001b[0m\u001b[0;34m,\u001b[0m \u001b[0mIndexError\u001b[0m\u001b[0;34m,\u001b[0m \u001b[0mAttributeError\u001b[0m\u001b[0;34m)\u001b[0m\u001b[0;34m:\u001b[0m\u001b[0;34m\u001b[0m\u001b[0;34m\u001b[0m\u001b[0m\n\u001b[1;32m   1761\u001b[0m                     \u001b[0;32mpass\u001b[0m\u001b[0;34m\u001b[0m\u001b[0;34m\u001b[0m\u001b[0m\n\u001b[0;32m-> 1762\u001b[0;31m             \u001b[0;32mreturn\u001b[0m \u001b[0mself\u001b[0m\u001b[0;34m.\u001b[0m\u001b[0m_getitem_tuple\u001b[0m\u001b[0;34m(\u001b[0m\u001b[0mkey\u001b[0m\u001b[0;34m)\u001b[0m\u001b[0;34m\u001b[0m\u001b[0;34m\u001b[0m\u001b[0m\n\u001b[0m\u001b[1;32m   1763\u001b[0m         \u001b[0;32melse\u001b[0m\u001b[0;34m:\u001b[0m\u001b[0;34m\u001b[0m\u001b[0;34m\u001b[0m\u001b[0m\n\u001b[1;32m   1764\u001b[0m             \u001b[0;31m# we by definition only have the 0th axis\u001b[0m\u001b[0;34m\u001b[0m\u001b[0;34m\u001b[0m\u001b[0;34m\u001b[0m\u001b[0m\n",
          "\u001b[0;32m/usr/local/lib/python3.6/dist-packages/pandas/core/indexing.py\u001b[0m in \u001b[0;36m_getitem_tuple\u001b[0;34m(self, tup)\u001b[0m\n\u001b[1;32m   1279\u001b[0m         \u001b[0;31m# ugly hack for GH #836\u001b[0m\u001b[0;34m\u001b[0m\u001b[0;34m\u001b[0m\u001b[0;34m\u001b[0m\u001b[0m\n\u001b[1;32m   1280\u001b[0m         \u001b[0;32mif\u001b[0m \u001b[0mself\u001b[0m\u001b[0;34m.\u001b[0m\u001b[0m_multi_take_opportunity\u001b[0m\u001b[0;34m(\u001b[0m\u001b[0mtup\u001b[0m\u001b[0;34m)\u001b[0m\u001b[0;34m:\u001b[0m\u001b[0;34m\u001b[0m\u001b[0;34m\u001b[0m\u001b[0m\n\u001b[0;32m-> 1281\u001b[0;31m             \u001b[0;32mreturn\u001b[0m \u001b[0mself\u001b[0m\u001b[0;34m.\u001b[0m\u001b[0m_multi_take\u001b[0m\u001b[0;34m(\u001b[0m\u001b[0mtup\u001b[0m\u001b[0;34m)\u001b[0m\u001b[0;34m\u001b[0m\u001b[0;34m\u001b[0m\u001b[0m\n\u001b[0m\u001b[1;32m   1282\u001b[0m \u001b[0;34m\u001b[0m\u001b[0m\n\u001b[1;32m   1283\u001b[0m         \u001b[0;31m# no shortcut needed\u001b[0m\u001b[0;34m\u001b[0m\u001b[0;34m\u001b[0m\u001b[0;34m\u001b[0m\u001b[0m\n",
          "\u001b[0;32m/usr/local/lib/python3.6/dist-packages/pandas/core/indexing.py\u001b[0m in \u001b[0;36m_multi_take\u001b[0;34m(self, tup)\u001b[0m\n\u001b[1;32m   1338\u001b[0m         d = {\n\u001b[1;32m   1339\u001b[0m             \u001b[0maxis\u001b[0m\u001b[0;34m:\u001b[0m \u001b[0mself\u001b[0m\u001b[0;34m.\u001b[0m\u001b[0m_get_listlike_indexer\u001b[0m\u001b[0;34m(\u001b[0m\u001b[0mkey\u001b[0m\u001b[0;34m,\u001b[0m \u001b[0maxis\u001b[0m\u001b[0;34m)\u001b[0m\u001b[0;34m\u001b[0m\u001b[0;34m\u001b[0m\u001b[0m\n\u001b[0;32m-> 1340\u001b[0;31m             \u001b[0;32mfor\u001b[0m \u001b[0;34m(\u001b[0m\u001b[0mkey\u001b[0m\u001b[0;34m,\u001b[0m \u001b[0maxis\u001b[0m\u001b[0;34m)\u001b[0m \u001b[0;32min\u001b[0m \u001b[0mzip\u001b[0m\u001b[0;34m(\u001b[0m\u001b[0mtup\u001b[0m\u001b[0;34m,\u001b[0m \u001b[0mo\u001b[0m\u001b[0;34m.\u001b[0m\u001b[0m_AXIS_ORDERS\u001b[0m\u001b[0;34m)\u001b[0m\u001b[0;34m\u001b[0m\u001b[0;34m\u001b[0m\u001b[0m\n\u001b[0m\u001b[1;32m   1341\u001b[0m         }\n\u001b[1;32m   1342\u001b[0m         \u001b[0;32mreturn\u001b[0m \u001b[0mo\u001b[0m\u001b[0;34m.\u001b[0m\u001b[0m_reindex_with_indexers\u001b[0m\u001b[0;34m(\u001b[0m\u001b[0md\u001b[0m\u001b[0;34m,\u001b[0m \u001b[0mcopy\u001b[0m\u001b[0;34m=\u001b[0m\u001b[0;32mTrue\u001b[0m\u001b[0;34m,\u001b[0m \u001b[0mallow_dups\u001b[0m\u001b[0;34m=\u001b[0m\u001b[0;32mTrue\u001b[0m\u001b[0;34m)\u001b[0m\u001b[0;34m\u001b[0m\u001b[0;34m\u001b[0m\u001b[0m\n",
          "\u001b[0;32m/usr/local/lib/python3.6/dist-packages/pandas/core/indexing.py\u001b[0m in \u001b[0;36m<dictcomp>\u001b[0;34m(.0)\u001b[0m\n\u001b[1;32m   1338\u001b[0m         d = {\n\u001b[1;32m   1339\u001b[0m             \u001b[0maxis\u001b[0m\u001b[0;34m:\u001b[0m \u001b[0mself\u001b[0m\u001b[0;34m.\u001b[0m\u001b[0m_get_listlike_indexer\u001b[0m\u001b[0;34m(\u001b[0m\u001b[0mkey\u001b[0m\u001b[0;34m,\u001b[0m \u001b[0maxis\u001b[0m\u001b[0;34m)\u001b[0m\u001b[0;34m\u001b[0m\u001b[0;34m\u001b[0m\u001b[0m\n\u001b[0;32m-> 1340\u001b[0;31m             \u001b[0;32mfor\u001b[0m \u001b[0;34m(\u001b[0m\u001b[0mkey\u001b[0m\u001b[0;34m,\u001b[0m \u001b[0maxis\u001b[0m\u001b[0;34m)\u001b[0m \u001b[0;32min\u001b[0m \u001b[0mzip\u001b[0m\u001b[0;34m(\u001b[0m\u001b[0mtup\u001b[0m\u001b[0;34m,\u001b[0m \u001b[0mo\u001b[0m\u001b[0;34m.\u001b[0m\u001b[0m_AXIS_ORDERS\u001b[0m\u001b[0;34m)\u001b[0m\u001b[0;34m\u001b[0m\u001b[0;34m\u001b[0m\u001b[0m\n\u001b[0m\u001b[1;32m   1341\u001b[0m         }\n\u001b[1;32m   1342\u001b[0m         \u001b[0;32mreturn\u001b[0m \u001b[0mo\u001b[0m\u001b[0;34m.\u001b[0m\u001b[0m_reindex_with_indexers\u001b[0m\u001b[0;34m(\u001b[0m\u001b[0md\u001b[0m\u001b[0;34m,\u001b[0m \u001b[0mcopy\u001b[0m\u001b[0;34m=\u001b[0m\u001b[0;32mTrue\u001b[0m\u001b[0;34m,\u001b[0m \u001b[0mallow_dups\u001b[0m\u001b[0;34m=\u001b[0m\u001b[0;32mTrue\u001b[0m\u001b[0;34m)\u001b[0m\u001b[0;34m\u001b[0m\u001b[0;34m\u001b[0m\u001b[0m\n",
          "\u001b[0;32m/usr/local/lib/python3.6/dist-packages/pandas/core/indexing.py\u001b[0m in \u001b[0;36m_get_listlike_indexer\u001b[0;34m(self, key, axis, raise_missing)\u001b[0m\n\u001b[1;32m   1551\u001b[0m \u001b[0;34m\u001b[0m\u001b[0m\n\u001b[1;32m   1552\u001b[0m         self._validate_read_indexer(\n\u001b[0;32m-> 1553\u001b[0;31m             \u001b[0mkeyarr\u001b[0m\u001b[0;34m,\u001b[0m \u001b[0mindexer\u001b[0m\u001b[0;34m,\u001b[0m \u001b[0mo\u001b[0m\u001b[0;34m.\u001b[0m\u001b[0m_get_axis_number\u001b[0m\u001b[0;34m(\u001b[0m\u001b[0maxis\u001b[0m\u001b[0;34m)\u001b[0m\u001b[0;34m,\u001b[0m \u001b[0mraise_missing\u001b[0m\u001b[0;34m=\u001b[0m\u001b[0mraise_missing\u001b[0m\u001b[0;34m\u001b[0m\u001b[0;34m\u001b[0m\u001b[0m\n\u001b[0m\u001b[1;32m   1554\u001b[0m         )\n\u001b[1;32m   1555\u001b[0m         \u001b[0;32mreturn\u001b[0m \u001b[0mkeyarr\u001b[0m\u001b[0;34m,\u001b[0m \u001b[0mindexer\u001b[0m\u001b[0;34m\u001b[0m\u001b[0;34m\u001b[0m\u001b[0m\n",
          "\u001b[0;32m/usr/local/lib/python3.6/dist-packages/pandas/core/indexing.py\u001b[0m in \u001b[0;36m_validate_read_indexer\u001b[0;34m(self, key, indexer, axis, raise_missing)\u001b[0m\n\u001b[1;32m   1653\u001b[0m             \u001b[0;32mif\u001b[0m \u001b[0;32mnot\u001b[0m \u001b[0;34m(\u001b[0m\u001b[0max\u001b[0m\u001b[0;34m.\u001b[0m\u001b[0mis_categorical\u001b[0m\u001b[0;34m(\u001b[0m\u001b[0;34m)\u001b[0m \u001b[0;32mor\u001b[0m \u001b[0max\u001b[0m\u001b[0;34m.\u001b[0m\u001b[0mis_interval\u001b[0m\u001b[0;34m(\u001b[0m\u001b[0;34m)\u001b[0m\u001b[0;34m)\u001b[0m\u001b[0;34m:\u001b[0m\u001b[0;34m\u001b[0m\u001b[0;34m\u001b[0m\u001b[0m\n\u001b[1;32m   1654\u001b[0m                 raise KeyError(\n\u001b[0;32m-> 1655\u001b[0;31m                     \u001b[0;34m\"Passing list-likes to .loc or [] with any missing labels \"\u001b[0m\u001b[0;34m\u001b[0m\u001b[0;34m\u001b[0m\u001b[0m\n\u001b[0m\u001b[1;32m   1656\u001b[0m                     \u001b[0;34m\"is no longer supported, see \"\u001b[0m\u001b[0;34m\u001b[0m\u001b[0;34m\u001b[0m\u001b[0m\n\u001b[1;32m   1657\u001b[0m                     \u001b[0;34m\"https://pandas.pydata.org/pandas-docs/stable/user_guide/indexing.html#deprecate-loc-reindex-listlike\"\u001b[0m  \u001b[0;31m# noqa:E501\u001b[0m\u001b[0;34m\u001b[0m\u001b[0;34m\u001b[0m\u001b[0m\n",
          "\u001b[0;31mKeyError\u001b[0m: 'Passing list-likes to .loc or [] with any missing labels is no longer supported, see https://pandas.pydata.org/pandas-docs/stable/user_guide/indexing.html#deprecate-loc-reindex-listlike'"
         ]
        }
       ]
      }
     },
     "f785fbf32fa1434ba34dc286b1b1b966": {
      "model_module": "@jupyter-widgets/base",
      "model_module_version": "1.2.0",
      "model_name": "LayoutModel",
      "state": {}
     },
     "f7ca8f1f62f84422a4b5a9c72d6b8325": {
      "model_module": "@jupyter-widgets/base",
      "model_module_version": "1.2.0",
      "model_name": "LayoutModel",
      "state": {}
     },
     "f90f5b94d75145f4b74c604f777d26dc": {
      "model_module": "@jupyter-widgets/base",
      "model_module_version": "1.2.0",
      "model_name": "LayoutModel",
      "state": {}
     },
     "f96212c794de4b00a5bb1fba54602db0": {
      "model_module": "@jupyter-widgets/base",
      "model_module_version": "1.2.0",
      "model_name": "LayoutModel",
      "state": {}
     },
     "fce2da6e3a064a5291e4226c47b8201a": {
      "model_module": "@jupyter-widgets/controls",
      "model_module_version": "1.5.0",
      "model_name": "DescriptionStyleModel",
      "state": {
       "description_width": ""
      }
     },
     "fd67daba4d6f4a6f9b2c0b0e9d90e410": {
      "model_module": "@jupyter-widgets/controls",
      "model_module_version": "1.5.0",
      "model_name": "HBoxModel",
      "state": {
       "children": [
        "IPY_MODEL_40197f6cb1ee49a49cc42d746e5e25f8",
        "IPY_MODEL_15d15b9f00fc42e8a281223c0198f2c1"
       ],
       "layout": "IPY_MODEL_b5de4063e5bb463b9a16b454761afb1a"
      }
     }
    },
    "version_major": 2,
    "version_minor": 0
   }
  }
 },
 "nbformat": 4,
 "nbformat_minor": 4
}
