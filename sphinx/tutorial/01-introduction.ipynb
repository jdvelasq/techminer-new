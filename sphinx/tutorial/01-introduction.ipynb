{
 "cells": [
  {
   "cell_type": "code",
   "execution_count": 3,
   "metadata": {},
   "outputs": [],
   "source": [
    "# Install latest version from GitHub\n",
    "!pip install -q -U git+https://github.com/jdvelasq/techminer"
   ]
  },
  {
   "cell_type": "markdown",
   "metadata": {},
   "source": [
    "# Introduction"
   ]
  },
  {
   "cell_type": "markdown",
   "metadata": {},
   "source": [
    "This tutorial describes the process of analyzing bibliographic information using **TechMiner**. \n",
    "\n",
    "The library can be installed using:\n",
    "\n",
    "```\n",
    "!pip3 install techminer\n",
    "```\n",
    "\n",
    "directly in a Jupyter notebook.\n",
    "\n",
    "\n",
    "Also, the library can be installed directly from the GitHub repo with:\n",
    "\n",
    "\n",
    "    !pip install -U git+https://github.com/jdvelasq/techminer\n",
    "\n"
   ]
  },
  {
   "cell_type": "markdown",
   "metadata": {},
   "source": [
    "For creating a worldmap plot the computer must have installed [GeoPandas](http://geopandas.org/install.html).\n",
    "\n",
    "For the appropiate use of the library, the user must have a basic knowledge of:\n",
    "\n",
    "* Python.\n",
    "\n",
    "* Matplotlib.\n",
    "\n",
    "* Pandas.\n",
    "\n",
    "* Seaborn (optional for some plots).\n",
    "\n",
    "* Altair (optional for some plots).\n",
    "\n",
    "Please refer to the documentation of these tools in case of any doubt."
   ]
  }
 ],
 "metadata": {
  "kernelspec": {
   "display_name": "Python 3",
   "language": "python",
   "name": "python3"
  },
  "language_info": {
   "codemirror_mode": {
    "name": "ipython",
    "version": 3
   },
   "file_extension": ".py",
   "mimetype": "text/x-python",
   "name": "python",
   "nbconvert_exporter": "python",
   "pygments_lexer": "ipython3",
   "version": "3.6.9"
  }
 },
 "nbformat": 4,
 "nbformat_minor": 4
}
