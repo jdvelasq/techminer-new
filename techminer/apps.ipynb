{
 "cells": [
  {
   "cell_type": "code",
   "execution_count": 1,
   "metadata": {},
   "outputs": [
    {
     "name": "stderr",
     "output_type": "stream",
     "text": [
      "2020-06-06 01:19:37,135 - INFO - Renaming and selecting columns ...\n",
      "2020-06-06 01:19:42,931 - INFO - Formatting author names ...\n",
      "2020-06-06 01:19:42,936 - INFO - Disambiguating author names ...\n",
      "2020-06-06 01:19:42,995 - INFO - Removing part of titles in foreing languages ...\n",
      "2020-06-06 01:19:42,997 - INFO - Fusioning author and index keywords ...\n",
      "2020-06-06 01:19:43,009 - INFO - NumExpr defaulting to 8 threads.\n",
      "2020-06-06 01:19:43,023 - INFO - Extracting countries from affiliations ...\n",
      "2020-06-06 01:19:49,136 - INFO - Extracting institutions from affiliations ...\n",
      "2020-06-06 01:19:49,147 - INFO - Extracting country of 1st author ...\n",
      "2020-06-06 01:19:49,150 - INFO - Extracting affiliation of 1st author ...\n",
      "2020-06-06 01:19:49,155 - INFO - Counting number of authors ...\n"
     ]
    }
   ],
   "source": [
    "import pandas as pd\n",
    "import data\n",
    "\n",
    "filepath = \"../data/papers/urban-agriculture.csv\"\n",
    "df = pd.read_csv(filepath)\n",
    "df = data.load_scopus(df)"
   ]
  },
  {
   "cell_type": "markdown",
   "metadata": {},
   "source": [
    "### Basic info"
   ]
  },
  {
   "cell_type": "code",
   "execution_count": null,
   "metadata": {},
   "outputs": [],
   "source": [
    "data.coverage(df)"
   ]
  },
  {
   "cell_type": "code",
   "execution_count": null,
   "metadata": {},
   "outputs": [],
   "source": []
  },
  {
   "cell_type": "markdown",
   "metadata": {},
   "source": [
    "### Keywords"
   ]
  },
  {
   "cell_type": "code",
   "execution_count": null,
   "metadata": {},
   "outputs": [],
   "source": []
  },
  {
   "cell_type": "markdown",
   "metadata": {},
   "source": [
    "### FindString Dialog Box pag. 69"
   ]
  },
  {
   "cell_type": "code",
   "execution_count": null,
   "metadata": {},
   "outputs": [],
   "source": []
  },
  {
   "cell_type": "markdown",
   "metadata": {},
   "source": [
    "### Cleaning a list pag. 102"
   ]
  },
  {
   "cell_type": "code",
   "execution_count": null,
   "metadata": {},
   "outputs": [],
   "source": []
  },
  {
   "cell_type": "markdown",
   "metadata": {},
   "source": [
    "### Fuzzy match editor pag.126"
   ]
  },
  {
   "cell_type": "code",
   "execution_count": null,
   "metadata": {},
   "outputs": [],
   "source": []
  },
  {
   "cell_type": "markdown",
   "metadata": {},
   "source": [
    "### Stemming And / Stemming Or"
   ]
  },
  {
   "cell_type": "code",
   "execution_count": null,
   "metadata": {},
   "outputs": [],
   "source": []
  },
  {
   "cell_type": "markdown",
   "metadata": {},
   "source": [
    "### APPS"
   ]
  },
  {
   "cell_type": "code",
   "execution_count": null,
   "metadata": {},
   "outputs": [],
   "source": [
    "import by_year as year\n",
    "year.app(df)"
   ]
  },
  {
   "cell_type": "code",
   "execution_count": 2,
   "metadata": {},
   "outputs": [
    {
     "data": {
      "application/vnd.jupyter.widget-view+json": {
       "model_id": "b67bd7d323434134a03affe0abed62dd",
       "version_major": 2,
       "version_minor": 0
      },
      "text/plain": [
       "AppLayout(children=(HTML(value=\"<h1>Summary by Term</h1><hr style='height:2px;border-width:0;color:gray;backgr…"
      ]
     },
     "metadata": {},
     "output_type": "display_data"
    }
   ],
   "source": [
    "import by_term as term\n",
    "term.app(df)"
   ]
  },
  {
   "cell_type": "code",
   "execution_count": null,
   "metadata": {},
   "outputs": [],
   "source": [
    "import by_term_per_year as term_year\n",
    "term_year.app(df)"
   ]
  },
  {
   "cell_type": "code",
   "execution_count": null,
   "metadata": {},
   "outputs": [],
   "source": [
    "import co_occurrence as co_occurrence\n",
    "co_occurrence.app(df)"
   ]
  },
  {
   "cell_type": "code",
   "execution_count": null,
   "metadata": {},
   "outputs": [],
   "source": [
    "import correlation as correlation\n",
    "correlation.app(df)"
   ]
  },
  {
   "cell_type": "code",
   "execution_count": null,
   "metadata": {},
   "outputs": [],
   "source": [
    "import factor_analysis\n",
    "\n",
    "factor_analysis.app(df)"
   ]
  },
  {
   "cell_type": "code",
   "execution_count": null,
   "metadata": {},
   "outputs": [],
   "source": []
  },
  {
   "cell_type": "code",
   "execution_count": null,
   "metadata": {},
   "outputs": [],
   "source": []
  },
  {
   "cell_type": "code",
   "execution_count": null,
   "metadata": {},
   "outputs": [],
   "source": []
  },
  {
   "cell_type": "code",
   "execution_count": null,
   "metadata": {},
   "outputs": [],
   "source": []
  },
  {
   "cell_type": "code",
   "execution_count": null,
   "metadata": {},
   "outputs": [],
   "source": []
  }
 ],
 "metadata": {
  "kernelspec": {
   "display_name": "Python 3",
   "language": "python",
   "name": "python3"
  },
  "language_info": {
   "codemirror_mode": {
    "name": "ipython",
    "version": 3
   },
   "file_extension": ".py",
   "mimetype": "text/x-python",
   "name": "python",
   "nbconvert_exporter": "python",
   "pygments_lexer": "ipython3",
   "version": "3.6.9"
  },
  "widgets": {
   "application/vnd.jupyter.widget-state+json": {
    "state": {
     "02ca61997ea54dffbde573bd627341ec": {
      "model_module": "@jupyter-widgets/controls",
      "model_module_version": "1.5.0",
      "model_name": "LabelModel",
      "state": {
       "layout": "IPY_MODEL_ef1f82595b94487d90d36f7550d7a829",
       "style": "IPY_MODEL_3952089450994b0789db3eb0411eba03",
       "value": "Analysis type:"
      }
     },
     "02f880fb5ef748bf910b2bccbe01fb3a": {
      "model_module": "@jupyter-widgets/controls",
      "model_module_version": "1.5.0",
      "model_name": "IntSliderModel",
      "state": {
       "continuous_update": false,
       "layout": "IPY_MODEL_49aa84a78d044fb89fb03eaa4b860c7f",
       "max": 50,
       "min": 10,
       "style": "IPY_MODEL_4afc855f240f44adbc2d80c7283b06d1",
       "value": 10
      }
     },
     "08611af1210f49419ee2026d3a167697": {
      "model_module": "@jupyter-widgets/controls",
      "model_module_version": "1.5.0",
      "model_name": "DescriptionStyleModel",
      "state": {
       "description_width": ""
      }
     },
     "12ddc1c1f1154c639d6574c6db670c1c": {
      "model_module": "@jupyter-widgets/base",
      "model_module_version": "1.2.0",
      "model_name": "LayoutModel",
      "state": {}
     },
     "1372e2508cc54e1caa2cd68c13a925cd": {
      "model_module": "@jupyter-widgets/controls",
      "model_module_version": "1.5.0",
      "model_name": "DescriptionStyleModel",
      "state": {
       "description_width": ""
      }
     },
     "1a025fbc81dd417591806632ea65bcbc": {
      "model_module": "@jupyter-widgets/controls",
      "model_module_version": "1.5.0",
      "model_name": "LabelModel",
      "state": {
       "layout": "IPY_MODEL_12ddc1c1f1154c639d6574c6db670c1c",
       "style": "IPY_MODEL_51b64e837f7848c6b3879bf129c00eee",
       "value": "Term to analyze:"
      }
     },
     "1c9f870a823144e9bf83e6c68c545186": {
      "model_module": "@jupyter-widgets/controls",
      "model_module_version": "1.5.0",
      "model_name": "VBoxModel",
      "state": {
       "children": [
        "IPY_MODEL_8190d4d9fe494b72a8205345903ddeb8",
        "IPY_MODEL_27f1692881704fb1b31409e3b7bc438e"
       ],
       "layout": "IPY_MODEL_e08a9002bc2b42609eebc784ece06b0a"
      }
     },
     "1f40ebf2ffff4460bea0a6e68c6183b9": {
      "model_module": "@jupyter-widgets/controls",
      "model_module_version": "1.5.0",
      "model_name": "DescriptionStyleModel",
      "state": {
       "description_width": ""
      }
     },
     "20890afdc440472b9d1fdcebc1a11661": {
      "model_module": "@jupyter-widgets/base",
      "model_module_version": "1.2.0",
      "model_name": "LayoutModel",
      "state": {
       "align_items": "baseline",
       "width": "870px"
      }
     },
     "24069e01c27646179a9069a540e7e11c": {
      "model_module": "@jupyter-widgets/base",
      "model_module_version": "1.2.0",
      "model_name": "LayoutModel",
      "state": {
       "grid_area": "center"
      }
     },
     "27b02bc761de4fd78a586a187a9ceb6e": {
      "model_module": "@jupyter-widgets/controls",
      "model_module_version": "1.5.0",
      "model_name": "VBoxModel",
      "state": {
       "children": [
        "IPY_MODEL_02ca61997ea54dffbde573bd627341ec",
        "IPY_MODEL_39f8f6cd057d4102a68edd928429c51e"
       ],
       "layout": "IPY_MODEL_5dcb6f3141e1483e99f36a6bab4e0d48"
      }
     },
     "27f1692881704fb1b31409e3b7bc438e": {
      "model_module": "@jupyter-widgets/controls",
      "model_module_version": "1.5.0",
      "model_name": "DropdownModel",
      "state": {
       "_options_labels": [
        "Greys",
        "Purples",
        "Blues",
        "Greens",
        "Oranges",
        "Reds",
        "YlOrBr",
        "YlOrRd",
        "OrRd",
        "PuRd",
        "RdPu",
        "BuPu",
        "GnBu",
        "PuBu",
        "YlGnBu",
        "PuBuGn",
        "BuGn",
        "YlGn",
        "Pastel1",
        "Pastel2",
        "Paired",
        "Accent",
        "Dark2",
        "Set1",
        "Set2",
        "Set3",
        "tab10",
        "tab20",
        "tab20b",
        "tab20c"
       ],
       "index": 0,
       "layout": "IPY_MODEL_ebb0f33c4dac44e9a8bb17731fd3b0a2",
       "style": "IPY_MODEL_bf4b68a262684f0ebe7493883be6e82b"
      }
     },
     "2f5e2ef662ce45f7b52f666bd8808653": {
      "model_module": "@jupyter-widgets/output",
      "model_module_version": "1.0.0",
      "model_name": "OutputModel",
      "state": {
       "layout": "IPY_MODEL_498c20f49ab74c03a53280344aaa9569",
       "outputs": [
        {
         "data": {
          "application/vnd.jupyter.widget-view+json": {
           "model_id": "8b74220dc2f945a5bedb6d33e7a62960",
           "version_major": 2,
           "version_minor": 0
          },
          "text/plain": "Output()"
         },
         "metadata": {},
         "output_type": "display_data"
        }
       ]
      }
     },
     "3193852161cb48709d8334abf3fa5e2f": {
      "model_module": "@jupyter-widgets/controls",
      "model_module_version": "1.5.0",
      "model_name": "VBoxModel",
      "state": {
       "children": [
        "IPY_MODEL_1a025fbc81dd417591806632ea65bcbc",
        "IPY_MODEL_8810c979784e4d7dae5cb841beef5dbc"
       ],
       "layout": "IPY_MODEL_90d4f99ec0cd42d4b627479841e4fde8"
      }
     },
     "32ed89f4815b4fb5bfada58955df1331": {
      "model_module": "@jupyter-widgets/base",
      "model_module_version": "1.2.0",
      "model_name": "LayoutModel",
      "state": {
       "grid_template_areas": "\"header header header\"\n\"center center center\"",
       "grid_template_columns": "1fr 2fr 1fr",
       "grid_template_rows": "80px 650px"
      }
     },
     "3367b4f48ec940259b24b361f0884b3b": {
      "model_module": "@jupyter-widgets/controls",
      "model_module_version": "1.5.0",
      "model_name": "HBoxModel",
      "state": {
       "children": [
        "IPY_MODEL_700fb3cf13d34069ae6455d92694c05b",
        "IPY_MODEL_a56ba5a7deab4d63b9d600dbee20dbf9"
       ],
       "layout": "IPY_MODEL_c2e9988269ba45ecb22954c9466c7a34"
      }
     },
     "3417f71bcaad4d9d9b8816badab1788d": {
      "model_module": "@jupyter-widgets/controls",
      "model_module_version": "1.5.0",
      "model_name": "DropdownModel",
      "state": {
       "_options_labels": [
        "Frequency",
        "Citation"
       ],
       "index": 0,
       "layout": "IPY_MODEL_79d32605389941eab3aa7f51b1e08a64",
       "style": "IPY_MODEL_35231433292c4bd7a4dd0904d37a829d"
      }
     },
     "35231433292c4bd7a4dd0904d37a829d": {
      "model_module": "@jupyter-widgets/controls",
      "model_module_version": "1.5.0",
      "model_name": "DescriptionStyleModel",
      "state": {
       "description_width": ""
      }
     },
     "3952089450994b0789db3eb0411eba03": {
      "model_module": "@jupyter-widgets/controls",
      "model_module_version": "1.5.0",
      "model_name": "DescriptionStyleModel",
      "state": {
       "description_width": ""
      }
     },
     "39b64f0566204a048c453e47fc16277a": {
      "model_module": "@jupyter-widgets/controls",
      "model_module_version": "1.5.0",
      "model_name": "LabelModel",
      "state": {
       "layout": "IPY_MODEL_90182abe9a0a4bc29486b519bfbce4e1",
       "style": "IPY_MODEL_c256c145acb8408cb77c355fc7d22167",
       "value": "Colormap:"
      }
     },
     "39f8f6cd057d4102a68edd928429c51e": {
      "model_module": "@jupyter-widgets/controls",
      "model_module_version": "1.5.0",
      "model_name": "DropdownModel",
      "state": {
       "_options_labels": [
        "Frequency",
        "Citation"
       ],
       "index": 0,
       "layout": "IPY_MODEL_3aabbf81a23c445ea895d417d0453281",
       "style": "IPY_MODEL_728fa8b24c1a487db430e5ba32c55bf8"
      }
     },
     "3aabbf81a23c445ea895d417d0453281": {
      "model_module": "@jupyter-widgets/base",
      "model_module_version": "1.2.0",
      "model_name": "LayoutModel",
      "state": {
       "width": "200px"
      }
     },
     "41320960a2ad4416bb2027cb5250fc0a": {
      "model_module": "@jupyter-widgets/base",
      "model_module_version": "1.2.0",
      "model_name": "LayoutModel",
      "state": {}
     },
     "4447fcc4a4a04f19912bad503cc78e30": {
      "model_module": "@jupyter-widgets/controls",
      "model_module_version": "1.5.0",
      "model_name": "VBoxModel",
      "state": {
       "children": [
        "IPY_MODEL_e3ace84751c3490da19a4c2b67f69954",
        "IPY_MODEL_e33c407c754240df8b0a7cd94c70030d",
        "IPY_MODEL_7925b28774874044838f0022978d4caa",
        "IPY_MODEL_673ec457ea734531a99c295dbe9d7c76",
        "IPY_MODEL_c06da3939834417e991ead26432704b7"
       ],
       "layout": "IPY_MODEL_b46d4b32e0254d619ed28ae1694a3d67"
      }
     },
     "498c20f49ab74c03a53280344aaa9569": {
      "model_module": "@jupyter-widgets/base",
      "model_module_version": "1.2.0",
      "model_name": "LayoutModel",
      "state": {}
     },
     "49aa84a78d044fb89fb03eaa4b860c7f": {
      "model_module": "@jupyter-widgets/base",
      "model_module_version": "1.2.0",
      "model_name": "LayoutModel",
      "state": {
       "width": "200px"
      }
     },
     "4a4438d0517e4797b5f124031e895c57": {
      "model_module": "@jupyter-widgets/base",
      "model_module_version": "1.2.0",
      "model_name": "LayoutModel",
      "state": {}
     },
     "4a8d5e4663d5443e95460903040858a9": {
      "model_module": "@jupyter-widgets/controls",
      "model_module_version": "1.5.0",
      "model_name": "DescriptionStyleModel",
      "state": {
       "description_width": ""
      }
     },
     "4afc855f240f44adbc2d80c7283b06d1": {
      "model_module": "@jupyter-widgets/controls",
      "model_module_version": "1.5.0",
      "model_name": "SliderStyleModel",
      "state": {
       "description_width": ""
      }
     },
     "4dd992bd3a324e779b8c2673a4462125": {
      "model_module": "@jupyter-widgets/base",
      "model_module_version": "1.2.0",
      "model_name": "LayoutModel",
      "state": {
       "border": "1px solid gray",
       "height": "588px"
      }
     },
     "51b64e837f7848c6b3879bf129c00eee": {
      "model_module": "@jupyter-widgets/controls",
      "model_module_version": "1.5.0",
      "model_name": "DescriptionStyleModel",
      "state": {
       "description_width": ""
      }
     },
     "5691100708274477a34187bceaa8bf5e": {
      "model_module": "@jupyter-widgets/output",
      "model_module_version": "1.0.0",
      "model_name": "OutputModel",
      "state": {
       "layout": "IPY_MODEL_eb519eca03044b7e8420139242523b38",
       "outputs": [
        {
         "data": {
          "image/png": "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\n",
          "text/plain": "<Figure size 1008x590.4 with 1 Axes>"
         },
         "metadata": {},
         "output_type": "display_data"
        }
       ]
      }
     },
     "5c3957cee160448581f94d85eb99328d": {
      "model_module": "@jupyter-widgets/controls",
      "model_module_version": "1.5.0",
      "model_name": "LabelModel",
      "state": {
       "layout": "IPY_MODEL_66102dd572c3422496cb71249873270a",
       "style": "IPY_MODEL_1f40ebf2ffff4460bea0a6e68c6183b9",
       "value": "Analysis type:"
      }
     },
     "5d5db93a67f644f48169405cf4706410": {
      "model_module": "@jupyter-widgets/base",
      "model_module_version": "1.2.0",
      "model_name": "LayoutModel",
      "state": {
       "width": "200px"
      }
     },
     "5dcb6f3141e1483e99f36a6bab4e0d48": {
      "model_module": "@jupyter-widgets/base",
      "model_module_version": "1.2.0",
      "model_name": "LayoutModel",
      "state": {}
     },
     "5e20bb7fb45d4c8a985d051a93b16f2a": {
      "model_module": "@jupyter-widgets/controls",
      "model_module_version": "1.5.0",
      "model_name": "DescriptionStyleModel",
      "state": {
       "description_width": ""
      }
     },
     "66102dd572c3422496cb71249873270a": {
      "model_module": "@jupyter-widgets/base",
      "model_module_version": "1.2.0",
      "model_name": "LayoutModel",
      "state": {}
     },
     "66dd7dd4a3da40848a0a01376e75a0fa": {
      "model_module": "@jupyter-widgets/base",
      "model_module_version": "1.2.0",
      "model_name": "LayoutModel",
      "state": {}
     },
     "673ec457ea734531a99c295dbe9d7c76": {
      "model_module": "@jupyter-widgets/controls",
      "model_module_version": "1.5.0",
      "model_name": "VBoxModel",
      "state": {
       "children": [
        "IPY_MODEL_39b64f0566204a048c453e47fc16277a",
        "IPY_MODEL_b8a18658dc714df49af0c3f0765a10b7"
       ],
       "layout": "IPY_MODEL_f6057cb0687740c69899b3a4539015af"
      }
     },
     "6757a763424e460e9e8aa58721232345": {
      "model_module": "@jupyter-widgets/controls",
      "model_module_version": "1.5.0",
      "model_name": "HTMLModel",
      "state": {
       "layout": "IPY_MODEL_a45e2afd57ce491a9b35b6ad86333e12",
       "style": "IPY_MODEL_08611af1210f49419ee2026d3a167697",
       "value": "<h1>Summary by Term</h1><hr style='height:2px;border-width:0;color:gray;background-color:gray'>"
      }
     },
     "700fb3cf13d34069ae6455d92694c05b": {
      "model_module": "@jupyter-widgets/controls",
      "model_module_version": "1.5.0",
      "model_name": "VBoxModel",
      "state": {
       "children": [
        "IPY_MODEL_3193852161cb48709d8334abf3fa5e2f",
        "IPY_MODEL_27b02bc761de4fd78a586a187a9ceb6e",
        "IPY_MODEL_1c9f870a823144e9bf83e6c68c545186"
       ],
       "layout": "IPY_MODEL_4dd992bd3a324e779b8c2673a4462125"
      }
     },
     "726c0117e27849c882cb87176ba28309": {
      "model_module": "@jupyter-widgets/base",
      "model_module_version": "1.2.0",
      "model_name": "LayoutModel",
      "state": {}
     },
     "728fa8b24c1a487db430e5ba32c55bf8": {
      "model_module": "@jupyter-widgets/controls",
      "model_module_version": "1.5.0",
      "model_name": "DescriptionStyleModel",
      "state": {
       "description_width": ""
      }
     },
     "7925b28774874044838f0022978d4caa": {
      "model_module": "@jupyter-widgets/controls",
      "model_module_version": "1.5.0",
      "model_name": "VBoxModel",
      "state": {
       "children": [
        "IPY_MODEL_8a8d7cf313114e8f9da3b4548f661e94",
        "IPY_MODEL_95567ac80d1446329a3011a5cdf25886"
       ],
       "layout": "IPY_MODEL_9ffea6cc3a6345059b2e071e55588335"
      }
     },
     "79d32605389941eab3aa7f51b1e08a64": {
      "model_module": "@jupyter-widgets/base",
      "model_module_version": "1.2.0",
      "model_name": "LayoutModel",
      "state": {
       "width": "200px"
      }
     },
     "7c02c1b63bbb4473ade4c243c34aa09d": {
      "model_module": "@jupyter-widgets/controls",
      "model_module_version": "1.5.0",
      "model_name": "DescriptionStyleModel",
      "state": {
       "description_width": ""
      }
     },
     "7f4e63595cbc46d587623b9af382564e": {
      "model_module": "@jupyter-widgets/controls",
      "model_module_version": "1.5.0",
      "model_name": "DescriptionStyleModel",
      "state": {
       "description_width": ""
      }
     },
     "815b2759bacc42aeb9315c772bd64047": {
      "model_module": "@jupyter-widgets/controls",
      "model_module_version": "1.5.0",
      "model_name": "LabelModel",
      "state": {
       "layout": "IPY_MODEL_fa006a11131e4a4da0dc9d10d5db672d",
       "style": "IPY_MODEL_5e20bb7fb45d4c8a985d051a93b16f2a",
       "value": "Top N:"
      }
     },
     "8190d4d9fe494b72a8205345903ddeb8": {
      "model_module": "@jupyter-widgets/controls",
      "model_module_version": "1.5.0",
      "model_name": "LabelModel",
      "state": {
       "layout": "IPY_MODEL_4a4438d0517e4797b5f124031e895c57",
       "style": "IPY_MODEL_7c02c1b63bbb4473ade4c243c34aa09d",
       "value": "Colormap:"
      }
     },
     "864908bf071b4d86b22edea35f3b62b5": {
      "model_module": "@jupyter-widgets/controls",
      "model_module_version": "1.5.0",
      "model_name": "DescriptionStyleModel",
      "state": {
       "description_width": ""
      }
     },
     "8810c979784e4d7dae5cb841beef5dbc": {
      "model_module": "@jupyter-widgets/controls",
      "model_module_version": "1.5.0",
      "model_name": "SelectModel",
      "state": {
       "_options_labels": [
        "Countries",
        "Country 1st"
       ],
       "index": 0,
       "layout": "IPY_MODEL_5d5db93a67f644f48169405cf4706410",
       "style": "IPY_MODEL_4a8d5e4663d5443e95460903040858a9"
      }
     },
     "8a8d7cf313114e8f9da3b4548f661e94": {
      "model_module": "@jupyter-widgets/controls",
      "model_module_version": "1.5.0",
      "model_name": "LabelModel",
      "state": {
       "layout": "IPY_MODEL_41320960a2ad4416bb2027cb5250fc0a",
       "style": "IPY_MODEL_c1fc3df9d7a4438baa817bbc244cb2c3",
       "value": "Plot type:"
      }
     },
     "8b74220dc2f945a5bedb6d33e7a62960": {
      "model_module": "@jupyter-widgets/output",
      "model_module_version": "1.0.0",
      "model_name": "OutputModel",
      "state": {
       "layout": "IPY_MODEL_bb26f1675b954d8f81b82e3d55a035b4",
       "outputs": [
        {
         "data": {
          "image/png": "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\n",
          "text/plain": "<Figure size 1008x590.4 with 1 Axes>"
         },
         "metadata": {},
         "output_type": "display_data"
        }
       ]
      }
     },
     "8ecc5cf2d4c24e0394aff6e55127a2ce": {
      "model_module": "@jupyter-widgets/base",
      "model_module_version": "1.2.0",
      "model_name": "LayoutModel",
      "state": {}
     },
     "90182abe9a0a4bc29486b519bfbce4e1": {
      "model_module": "@jupyter-widgets/base",
      "model_module_version": "1.2.0",
      "model_name": "LayoutModel",
      "state": {}
     },
     "90d4f99ec0cd42d4b627479841e4fde8": {
      "model_module": "@jupyter-widgets/base",
      "model_module_version": "1.2.0",
      "model_name": "LayoutModel",
      "state": {}
     },
     "95567ac80d1446329a3011a5cdf25886": {
      "model_module": "@jupyter-widgets/controls",
      "model_module_version": "1.5.0",
      "model_name": "DropdownModel",
      "state": {
       "_options_labels": [
        "bar",
        "barh",
        "pie"
       ],
       "index": 0,
       "layout": "IPY_MODEL_ff08fde704314c89ae9505b1c61d4f6c",
       "style": "IPY_MODEL_eec0c38c899f49458c868e69100584c9"
      }
     },
     "9d19bfab9a464f37afe3ce4db7497040": {
      "model_module": "@jupyter-widgets/base",
      "model_module_version": "1.2.0",
      "model_name": "LayoutModel",
      "state": {}
     },
     "9e00fa7c58634edeb1e8b7292fef7679": {
      "model_module": "@jupyter-widgets/controls",
      "model_module_version": "1.5.0",
      "model_name": "LabelModel",
      "state": {
       "layout": "IPY_MODEL_66dd7dd4a3da40848a0a01376e75a0fa",
       "style": "IPY_MODEL_7f4e63595cbc46d587623b9af382564e",
       "value": "Term to analyze:"
      }
     },
     "9ffea6cc3a6345059b2e071e55588335": {
      "model_module": "@jupyter-widgets/base",
      "model_module_version": "1.2.0",
      "model_name": "LayoutModel",
      "state": {}
     },
     "a45e2afd57ce491a9b35b6ad86333e12": {
      "model_module": "@jupyter-widgets/base",
      "model_module_version": "1.2.0",
      "model_name": "LayoutModel",
      "state": {
       "grid_area": "header"
      }
     },
     "a56ba5a7deab4d63b9d600dbee20dbf9": {
      "model_module": "@jupyter-widgets/controls",
      "model_module_version": "1.5.0",
      "model_name": "VBoxModel",
      "state": {
       "children": [
        "IPY_MODEL_c6b1d484295a484e9e658d3b5d51ca75"
       ],
       "layout": "IPY_MODEL_b927e1d1bece4bc08117520671bd6a58"
      }
     },
     "b46d4b32e0254d619ed28ae1694a3d67": {
      "model_module": "@jupyter-widgets/base",
      "model_module_version": "1.2.0",
      "model_name": "LayoutModel",
      "state": {
       "border": "1px solid gray",
       "height": "588px"
      }
     },
     "b67bd7d323434134a03affe0abed62dd": {
      "model_module": "@jupyter-widgets/controls",
      "model_module_version": "1.5.0",
      "model_name": "GridBoxModel",
      "state": {
       "children": [
        "IPY_MODEL_6757a763424e460e9e8aa58721232345",
        "IPY_MODEL_f50640c6e817491cb3672d6dc6013883"
       ],
       "layout": "IPY_MODEL_32ed89f4815b4fb5bfada58955df1331"
      }
     },
     "b8a18658dc714df49af0c3f0765a10b7": {
      "model_module": "@jupyter-widgets/controls",
      "model_module_version": "1.5.0",
      "model_name": "DropdownModel",
      "state": {
       "_options_labels": [
        "Greys",
        "Purples",
        "Blues",
        "Greens",
        "Oranges",
        "Reds",
        "YlOrBr",
        "YlOrRd",
        "OrRd",
        "PuRd",
        "RdPu",
        "BuPu",
        "GnBu",
        "PuBu",
        "YlGnBu",
        "PuBuGn",
        "BuGn",
        "YlGn",
        "Pastel1",
        "Pastel2",
        "Paired",
        "Accent",
        "Dark2",
        "Set1",
        "Set2",
        "Set3",
        "tab10",
        "tab20",
        "tab20b",
        "tab20c"
       ],
       "index": 0,
       "layout": "IPY_MODEL_fd463fdb99654d21b1fa858c5c1244cd",
       "style": "IPY_MODEL_1372e2508cc54e1caa2cd68c13a925cd"
      }
     },
     "b927e1d1bece4bc08117520671bd6a58": {
      "model_module": "@jupyter-widgets/base",
      "model_module_version": "1.2.0",
      "model_name": "LayoutModel",
      "state": {
       "align_items": "baseline",
       "width": "870px"
      }
     },
     "b940b36d1e2e44509875393d830f7a29": {
      "model_module": "@jupyter-widgets/controls",
      "model_module_version": "1.5.0",
      "model_name": "HBoxModel",
      "state": {
       "children": [
        "IPY_MODEL_4447fcc4a4a04f19912bad503cc78e30",
        "IPY_MODEL_bde0a6ca0c6e484b8e062e21e3f3a413"
       ],
       "layout": "IPY_MODEL_c06cffc1babb45a2a64ec1cc0119b7d3"
      }
     },
     "bb26f1675b954d8f81b82e3d55a035b4": {
      "model_module": "@jupyter-widgets/base",
      "model_module_version": "1.2.0",
      "model_name": "LayoutModel",
      "state": {}
     },
     "bde0a6ca0c6e484b8e062e21e3f3a413": {
      "model_module": "@jupyter-widgets/controls",
      "model_module_version": "1.5.0",
      "model_name": "VBoxModel",
      "state": {
       "children": [
        "IPY_MODEL_2f5e2ef662ce45f7b52f666bd8808653"
       ],
       "layout": "IPY_MODEL_20890afdc440472b9d1fdcebc1a11661"
      }
     },
     "bf4b68a262684f0ebe7493883be6e82b": {
      "model_module": "@jupyter-widgets/controls",
      "model_module_version": "1.5.0",
      "model_name": "DescriptionStyleModel",
      "state": {
       "description_width": ""
      }
     },
     "c06cffc1babb45a2a64ec1cc0119b7d3": {
      "model_module": "@jupyter-widgets/base",
      "model_module_version": "1.2.0",
      "model_name": "LayoutModel",
      "state": {}
     },
     "c06da3939834417e991ead26432704b7": {
      "model_module": "@jupyter-widgets/controls",
      "model_module_version": "1.5.0",
      "model_name": "VBoxModel",
      "state": {
       "children": [
        "IPY_MODEL_815b2759bacc42aeb9315c772bd64047",
        "IPY_MODEL_02f880fb5ef748bf910b2bccbe01fb3a"
       ],
       "layout": "IPY_MODEL_8ecc5cf2d4c24e0394aff6e55127a2ce"
      }
     },
     "c1fc3df9d7a4438baa817bbc244cb2c3": {
      "model_module": "@jupyter-widgets/controls",
      "model_module_version": "1.5.0",
      "model_name": "DescriptionStyleModel",
      "state": {
       "description_width": ""
      }
     },
     "c256c145acb8408cb77c355fc7d22167": {
      "model_module": "@jupyter-widgets/controls",
      "model_module_version": "1.5.0",
      "model_name": "DescriptionStyleModel",
      "state": {
       "description_width": ""
      }
     },
     "c2e9988269ba45ecb22954c9466c7a34": {
      "model_module": "@jupyter-widgets/base",
      "model_module_version": "1.2.0",
      "model_name": "LayoutModel",
      "state": {}
     },
     "c6b1d484295a484e9e658d3b5d51ca75": {
      "model_module": "@jupyter-widgets/output",
      "model_module_version": "1.0.0",
      "model_name": "OutputModel",
      "state": {
       "layout": "IPY_MODEL_ebb25c5553f940b4a6530a4c46b8f6c5",
       "outputs": [
        {
         "data": {
          "application/vnd.jupyter.widget-view+json": {
           "model_id": "5691100708274477a34187bceaa8bf5e",
           "version_major": 2,
           "version_minor": 0
          },
          "text/plain": "Output()"
         },
         "metadata": {},
         "output_type": "display_data"
        }
       ]
      }
     },
     "cd62b14228e2448a8397aca21793c9d7": {
      "model_module": "@jupyter-widgets/controls",
      "model_module_version": "1.5.0",
      "model_name": "SelectModel",
      "state": {
       "_options_labels": [
        "Author Keywords",
        "Authors",
        "Countries",
        "Country 1st",
        "Index Keywords",
        "Institution 1st",
        "Institutions",
        "Keywords",
        "Source title"
       ],
       "index": 0,
       "layout": "IPY_MODEL_d928e4ca0fbe4b9ba170c59df526f0f5",
       "style": "IPY_MODEL_864908bf071b4d86b22edea35f3b62b5"
      }
     },
     "d928e4ca0fbe4b9ba170c59df526f0f5": {
      "model_module": "@jupyter-widgets/base",
      "model_module_version": "1.2.0",
      "model_name": "LayoutModel",
      "state": {
       "width": "200px"
      }
     },
     "e08a9002bc2b42609eebc784ece06b0a": {
      "model_module": "@jupyter-widgets/base",
      "model_module_version": "1.2.0",
      "model_name": "LayoutModel",
      "state": {}
     },
     "e33c407c754240df8b0a7cd94c70030d": {
      "model_module": "@jupyter-widgets/controls",
      "model_module_version": "1.5.0",
      "model_name": "VBoxModel",
      "state": {
       "children": [
        "IPY_MODEL_5c3957cee160448581f94d85eb99328d",
        "IPY_MODEL_3417f71bcaad4d9d9b8816badab1788d"
       ],
       "layout": "IPY_MODEL_9d19bfab9a464f37afe3ce4db7497040"
      }
     },
     "e3ace84751c3490da19a4c2b67f69954": {
      "model_module": "@jupyter-widgets/controls",
      "model_module_version": "1.5.0",
      "model_name": "VBoxModel",
      "state": {
       "children": [
        "IPY_MODEL_9e00fa7c58634edeb1e8b7292fef7679",
        "IPY_MODEL_cd62b14228e2448a8397aca21793c9d7"
       ],
       "layout": "IPY_MODEL_726c0117e27849c882cb87176ba28309"
      }
     },
     "eb519eca03044b7e8420139242523b38": {
      "model_module": "@jupyter-widgets/base",
      "model_module_version": "1.2.0",
      "model_name": "LayoutModel",
      "state": {}
     },
     "ebb0f33c4dac44e9a8bb17731fd3b0a2": {
      "model_module": "@jupyter-widgets/base",
      "model_module_version": "1.2.0",
      "model_name": "LayoutModel",
      "state": {
       "width": "200px"
      }
     },
     "ebb25c5553f940b4a6530a4c46b8f6c5": {
      "model_module": "@jupyter-widgets/base",
      "model_module_version": "1.2.0",
      "model_name": "LayoutModel",
      "state": {}
     },
     "eec0c38c899f49458c868e69100584c9": {
      "model_module": "@jupyter-widgets/controls",
      "model_module_version": "1.5.0",
      "model_name": "DescriptionStyleModel",
      "state": {
       "description_width": ""
      }
     },
     "ef1f82595b94487d90d36f7550d7a829": {
      "model_module": "@jupyter-widgets/base",
      "model_module_version": "1.2.0",
      "model_name": "LayoutModel",
      "state": {}
     },
     "f50640c6e817491cb3672d6dc6013883": {
      "model_module": "@jupyter-widgets/controls",
      "model_module_version": "1.5.0",
      "model_name": "TabModel",
      "state": {
       "_titles": {
        "0": "Term Analysis",
        "1": "Worldmap"
       },
       "children": [
        "IPY_MODEL_b940b36d1e2e44509875393d830f7a29",
        "IPY_MODEL_3367b4f48ec940259b24b361f0884b3b"
       ],
       "layout": "IPY_MODEL_24069e01c27646179a9069a540e7e11c"
      }
     },
     "f6057cb0687740c69899b3a4539015af": {
      "model_module": "@jupyter-widgets/base",
      "model_module_version": "1.2.0",
      "model_name": "LayoutModel",
      "state": {}
     },
     "fa006a11131e4a4da0dc9d10d5db672d": {
      "model_module": "@jupyter-widgets/base",
      "model_module_version": "1.2.0",
      "model_name": "LayoutModel",
      "state": {}
     },
     "fd463fdb99654d21b1fa858c5c1244cd": {
      "model_module": "@jupyter-widgets/base",
      "model_module_version": "1.2.0",
      "model_name": "LayoutModel",
      "state": {
       "width": "200px"
      }
     },
     "ff08fde704314c89ae9505b1c61d4f6c": {
      "model_module": "@jupyter-widgets/base",
      "model_module_version": "1.2.0",
      "model_name": "LayoutModel",
      "state": {
       "width": "200px"
      }
     }
    },
    "version_major": 2,
    "version_minor": 0
   }
  }
 },
 "nbformat": 4,
 "nbformat_minor": 4
}
