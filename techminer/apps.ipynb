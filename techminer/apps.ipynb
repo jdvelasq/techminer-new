{
 "cells": [
  {
   "cell_type": "code",
   "execution_count": 1,
   "metadata": {},
   "outputs": [
    {
     "name": "stderr",
     "output_type": "stream",
     "text": [
      "2020-06-05 17:26:59,029 - INFO - Renaming and selecting columns ...\n",
      "2020-06-05 17:27:04,685 - INFO - Formatting author names ...\n",
      "2020-06-05 17:27:04,690 - INFO - Disambiguating author names ...\n",
      "2020-06-05 17:27:04,757 - INFO - Removing part of titles in foreing languages ...\n",
      "2020-06-05 17:27:04,760 - INFO - Fusioning author and index keywords ...\n",
      "2020-06-05 17:27:04,771 - INFO - NumExpr defaulting to 8 threads.\n",
      "2020-06-05 17:27:04,789 - INFO - Extracting countries from affiliations ...\n",
      "2020-06-05 17:27:10,855 - INFO - Extracting institutions from affiliations ...\n",
      "2020-06-05 17:27:10,867 - INFO - Extracting country of 1st author ...\n",
      "2020-06-05 17:27:10,870 - INFO - Extracting affiliation of 1st author ...\n",
      "2020-06-05 17:27:10,874 - INFO - Counting number of authors ...\n"
     ]
    }
   ],
   "source": [
    "import pandas as pd\n",
    "\n",
    "import techminer.data as data\n",
    "\n",
    "filepath = \"../data/papers/urban-agriculture.csv\"\n",
    "df = pd.read_csv(filepath)\n",
    "df = data.load_scopus(df)"
   ]
  },
  {
   "cell_type": "code",
   "execution_count": null,
   "metadata": {},
   "outputs": [],
   "source": [
    "data.coverage(df)"
   ]
  },
  {
   "cell_type": "markdown",
   "metadata": {},
   "source": [
    "### Keywords"
   ]
  },
  {
   "cell_type": "code",
   "execution_count": null,
   "metadata": {},
   "outputs": [],
   "source": []
  },
  {
   "cell_type": "markdown",
   "metadata": {},
   "source": [
    "### FindString Dialog Box pag. 69"
   ]
  },
  {
   "cell_type": "code",
   "execution_count": null,
   "metadata": {},
   "outputs": [],
   "source": []
  },
  {
   "cell_type": "markdown",
   "metadata": {},
   "source": [
    "### Cleaning a list pag. 102"
   ]
  },
  {
   "cell_type": "code",
   "execution_count": null,
   "metadata": {},
   "outputs": [],
   "source": []
  },
  {
   "cell_type": "markdown",
   "metadata": {},
   "source": [
    "### Fuzzy match editor pag.126"
   ]
  },
  {
   "cell_type": "code",
   "execution_count": null,
   "metadata": {},
   "outputs": [],
   "source": []
  },
  {
   "cell_type": "markdown",
   "metadata": {},
   "source": [
    "### Stemming And / Stemming Or"
   ]
  },
  {
   "cell_type": "code",
   "execution_count": null,
   "metadata": {},
   "outputs": [],
   "source": []
  },
  {
   "cell_type": "markdown",
   "metadata": {},
   "source": [
    "### APPS"
   ]
  },
  {
   "cell_type": "code",
   "execution_count": null,
   "metadata": {},
   "outputs": [],
   "source": [
    "import techminer.by_year as year\n",
    "year.app(df)"
   ]
  },
  {
   "cell_type": "code",
   "execution_count": null,
   "metadata": {},
   "outputs": [],
   "source": [
    "import techminer.by_term as term\n",
    "term.app(df)"
   ]
  },
  {
   "cell_type": "code",
   "execution_count": null,
   "metadata": {},
   "outputs": [],
   "source": [
    "import techminer.by_term_per_year as term_year\n",
    "term_year.app(df)"
   ]
  },
  {
   "cell_type": "code",
   "execution_count": null,
   "metadata": {},
   "outputs": [],
   "source": [
    "import techminer.co_occurrence as co_occurrence\n",
    "co_occurrence.app(df)"
   ]
  },
  {
   "cell_type": "code",
   "execution_count": 2,
   "metadata": {},
   "outputs": [
    {
     "data": {
      "application/vnd.jupyter.widget-view+json": {
       "model_id": "1aa59e62721b471cab2c233eb1c7abc6",
       "version_major": 2,
       "version_minor": 0
      },
      "text/plain": [
       "AppLayout(children=(HTML(value=\"<h1>Correlation Analysis</h1><hr style='height:2px;border-width:0;color:gray;b…"
      ]
     },
     "metadata": {},
     "output_type": "display_data"
    }
   ],
   "source": [
    "import techminer.correlation as correlation\n",
    "correlation.app(df)"
   ]
  },
  {
   "cell_type": "code",
   "execution_count": null,
   "metadata": {},
   "outputs": [],
   "source": []
  },
  {
   "cell_type": "code",
   "execution_count": null,
   "metadata": {},
   "outputs": [],
   "source": []
  },
  {
   "cell_type": "code",
   "execution_count": null,
   "metadata": {},
   "outputs": [],
   "source": []
  },
  {
   "cell_type": "code",
   "execution_count": null,
   "metadata": {},
   "outputs": [],
   "source": []
  },
  {
   "cell_type": "code",
   "execution_count": null,
   "metadata": {},
   "outputs": [],
   "source": []
  },
  {
   "cell_type": "code",
   "execution_count": null,
   "metadata": {},
   "outputs": [],
   "source": [
    "import ipywidgets as widgets\n",
    "from ipywidgets import Layout, AppLayout"
   ]
  },
  {
   "cell_type": "code",
   "execution_count": null,
   "metadata": {},
   "outputs": [],
   "source": [
    "\n",
    "COLUMNS = [\n",
    "    \"Author Keywords\",\n",
    "    \"Authors\",\n",
    "    \"Countries\",\n",
    "    \"Country 1st\",\n",
    "    \"Document type\",\n",
    "    \"Index Keywords\",\n",
    "    \"Institution 1st\",\n",
    "    \"Institutions\",\n",
    "    \"Keywords\",\n",
    "    \"Source title\",\n",
    "]"
   ]
  },
  {
   "cell_type": "code",
   "execution_count": null,
   "metadata": {},
   "outputs": [],
   "source": [
    "FIGSIZE = (14, 10.0) ## Co-occurrente-analysis  <---- no tiene figura\n",
    "FIGSIZE = (14, 9.0)"
   ]
  },
  {
   "cell_type": "markdown",
   "metadata": {},
   "source": [
    "# NUEVA INTERFAZ"
   ]
  },
  {
   "cell_type": "code",
   "execution_count": null,
   "metadata": {},
   "outputs": [],
   "source": [
    "from techminer.summary_by_term_per_year import documents_by_term_per_year, citations_by_term_per_year"
   ]
  },
  {
   "cell_type": "code",
   "execution_count": null,
   "metadata": {},
   "outputs": [],
   "source": []
  },
  {
   "cell_type": "code",
   "execution_count": null,
   "metadata": {},
   "outputs": [],
   "source": [
    "import techminer.plots as plt\n",
    "from techminer.plots import COLORMAPS\n",
    "from techminer.summary_by_term import citations_by_term, documents_by_term\n",
    "\n",
    "WIDGET_WIDTH = \"200px\"\n",
    "LEFT_PANEL_HEIGHT = \"588px\"\n",
    "RIGHT_PANEL_WIDTH = \"870px\"\n",
    "FIGSIZE = (14, 10.0)\n",
    "PANE_HEIGHTS = [\"80px\", \"650px\", 0]\n",
    "\n",
    "COLUMNS = [\n",
    "    \"Author Keywords\",\n",
    "    \"Authors\",\n",
    "    \"Countries\",\n",
    "    \"Country 1st\",\n",
    "    \"Document type\",\n",
    "    \"Index Keywords\",\n",
    "    \"Institution 1st\",\n",
    "    \"Institutions\",\n",
    "    \"Keywords\",\n",
    "    \"Source title\",\n",
    "]\n",
    "\n"
   ]
  },
  {
   "cell_type": "code",
   "execution_count": null,
   "metadata": {},
   "outputs": [],
   "source": [
    "#################\n",
    "import ipywidgets as widgets\n",
    "import numpy as np\n",
    "from ipywidgets import AppLayout, Layout\n",
    "\n",
    "from techminer.by_term import summary_by_term\n",
    "from techminer.correlation import corr\n",
    "from techminer.maps import Map\n",
    "from techminer.plots import COLORMAPS\n",
    "\n",
    "WIDGET_WIDTH = \"200px\"\n",
    "LEFT_PANEL_HEIGHT = \"650px\"\n",
    "RIGHT_PANEL_WIDTH = \"870px\"\n",
    "FIGSIZE = (14, 10.0)\n",
    "PANE_HEIGHTS = [\"80px\", \"750px\", 0]\n",
    "\n",
    "COLUMNS = [\n",
    "    \"Author Keywords\",\n",
    "    \"Authors\",\n",
    "    \"Countries\",\n",
    "    \"Country 1st\",\n",
    "    \"Document type\",\n",
    "    \"Index Keywords\",\n",
    "    \"Institution 1st\",\n",
    "    \"Institutions\",\n",
    "    \"Keywords\",\n",
    "    \"Source title\",\n",
    "]\n",
    "\n",
    "\n",
    "#################\n",
    "\n",
    "\n",
    "#\n",
    "#\n",
    "#  Correlation Analysis\n",
    "#\n",
    "#\n",
    "def __body_0(x):\n",
    "    #\n",
    "    def server(**kwargs):\n",
    "        #\n",
    "        # Logic\n",
    "        #\n",
    "        column = kwargs[\"term\"]\n",
    "        by = kwargs[\"by\"]\n",
    "        method = kwargs[\"method\"]\n",
    "        min_link_value = float(kwargs[\"min_link_value\"].split(\" \")[0])\n",
    "        cmap = kwargs[\"cmap\"]\n",
    "        filter_by = kwargs[\"filter_by\"]\n",
    "        filter_value = int(kwargs[\"filter_value\"].split()[0])\n",
    "        view = kwargs[\"view\"]\n",
    "        sort_by = kwargs[\"sort_by\"]\n",
    "        layout = kwargs[\"layout\"]\n",
    "        #\n",
    "        #\n",
    "        #\n",
    "        s = summary_by_term(x, column)\n",
    "        if filter_by == \"Frequency\":\n",
    "            s = s[[column, \"Num Documents\"]]\n",
    "            n_columns = len(s[s[\"Num Documents\"] > filter_value])\n",
    "            new_names = {\n",
    "                a: \"{} [{:d}]\".format(a, b)\n",
    "                for a, b in zip(s[column].tolist(), s[\"Num Documents\"].tolist())\n",
    "            }\n",
    "        if filter_by == \"Cited by\":\n",
    "            s = s[[column, \"Cited by\"]]\n",
    "            n_columns = len(s[s[\"Cited by\"] > filter_value])\n",
    "            new_names = {\n",
    "                a: \"{} [{:d}]\".format(a, b)\n",
    "                for a, b in zip(s[column].tolist(), s[\"Cited by\"].tolist())\n",
    "            }\n",
    "        #\n",
    "        a = s[s.columns[1]].value_counts().sort_index(ascending=False)\n",
    "        a = a.cumsum()\n",
    "        a = a.sort_index(ascending=True)\n",
    "        current_value = controls[4][\"widget\"].value\n",
    "        controls[4][\"widget\"].options = [\n",
    "            \"{:d} [{:d}]\".format(idx, w) for w, idx in zip(a, a.index)\n",
    "        ]\n",
    "        if current_value not in controls[4][\"widget\"].options:\n",
    "            controls[4][\"widget\"].value = controls[4][\"widget\"].options[0]\n",
    "        #\n",
    "        #\n",
    "        if view == \"Matrix\":\n",
    "            controls[7][\"widget\"].disabled = False\n",
    "            controls[8][\"widget\"].disabled = False\n",
    "            controls[9][\"widget\"].disabled = True    \n",
    "        if view == \"Correlation map\":\n",
    "            controls[7][\"widget\"].disabled = False\n",
    "            controls[8][\"widget\"].disabled = True\n",
    "            controls[9][\"widget\"].disabled = False\n",
    "        if view == \"Chord diagram\":\n",
    "            controls[7][\"widget\"].disabled = False\n",
    "            controls[8][\"widget\"].disabled = True\n",
    "            controls[9][\"widget\"].disabled = True\n",
    "        #\n",
    "        #\n",
    "        if n_columns > 50:\n",
    "            controls[7][\"widget\"].disabled = True\n",
    "            controls[8][\"widget\"].disabled = True\n",
    "            output.clear_output()\n",
    "            with output:\n",
    "                display(widgets.HTML(\"<h3>Matrix exceeds the maximum shape</h3>\"))\n",
    "                return\n",
    "        #\n",
    "        #\n",
    "        #\n",
    "        matrix = corr(\n",
    "            x,\n",
    "            column=column,\n",
    "            by=by,\n",
    "            method=method,\n",
    "            cmap=cmap,\n",
    "            filter_by=filter_by,\n",
    "            filter_value=filter_value,\n",
    "            as_matrix=True,\n",
    "            keywords=None,\n",
    "        )\n",
    "        #\n",
    "        #\n",
    "        #\n",
    "        matrix = matrix.rename(columns=new_names, index=new_names)\n",
    "        #\n",
    "        output.clear_output()\n",
    "        with output:\n",
    "            if view == \"Matrix\":\n",
    "                #\n",
    "                # Sort order\n",
    "                #\n",
    "                if sort_by == \"Frequency/Cited by asc.\":\n",
    "                    g = lambda m: int(m[m.find(\"[\") + 1 : m.find(\"]\")])\n",
    "                    names = sorted(matrix.columns, key=g, reverse=False)\n",
    "                    matrix = matrix.loc[names, names]\n",
    "                if sort_by == \"Frequency/Cited by desc.\":\n",
    "                    g = lambda m: int(m[m.find(\"[\") + 1 : m.find(\"]\")])\n",
    "                    names = sorted(matrix.columns, key=g, reverse=True)\n",
    "                    matrix = matrix.loc[names, names]\n",
    "                if sort_by == \"Alphabetic asc.\":\n",
    "                    matrix = matrix.sort_index(axis=0, ascending=True).sort_index(\n",
    "                        axis=1, ascending=True\n",
    "                    )\n",
    "                if sort_by == \"Alphabetic desc.\":\n",
    "                    matrix = matrix.sort_index(axis=0, ascending=False).sort_index(\n",
    "                        axis=1, ascending=False\n",
    "                    )\n",
    "                #\n",
    "                # View\n",
    "                #\n",
    "                display(\n",
    "                    matrix.style.format(\n",
    "                        lambda q: \"{:+4.3f}\".format(q) if q >= min_link_value else \"\"\n",
    "                    ).background_gradient(cmap=cmap)\n",
    "                )\n",
    "                #\n",
    "            if view == \"Correlation map\":\n",
    "                #\n",
    "                display(\n",
    "                    correlation_map(\n",
    "                        matrix=matrix,\n",
    "                        layout=layout,\n",
    "                        cmap=cmap,\n",
    "                        figsize=(10, 10),\n",
    "                        min_link_value=min_link_value,\n",
    "                    )\n",
    "                )\n",
    "                #\n",
    "            if view == \"Chord diagram\":\n",
    "                #\n",
    "                display(chord_diagram(matrix, cmap=cmap, minval=min_link_value))\n",
    "\n",
    "    #\n",
    "    # UI\n",
    "    #\n",
    "    controls = [\n",
    "        # 0\n",
    "        {\n",
    "            \"arg\": \"term\",\n",
    "            \"desc\": \"Term to analyze:\",\n",
    "            \"widget\": widgets.Dropdown(\n",
    "                options=[z for z in COLUMNS if z in x.columns],\n",
    "                ensure_option=True,\n",
    "                disabled=False,\n",
    "                layout=Layout(width=WIDGET_WIDTH),\n",
    "            ),\n",
    "        },\n",
    "        # 1\n",
    "        {\n",
    "            \"arg\": \"by\",\n",
    "            \"desc\": \"By Term:\",\n",
    "            \"widget\": widgets.Dropdown(\n",
    "                options=[z for z in COLUMNS if z in x.columns],\n",
    "                ensure_option=True,\n",
    "                disabled=False,\n",
    "                layout=Layout(width=WIDGET_WIDTH),\n",
    "            ),\n",
    "        },\n",
    "        # 2\n",
    "        {\n",
    "            \"arg\": \"method\",\n",
    "            \"desc\": \"Method:\",\n",
    "            \"widget\": widgets.Dropdown(\n",
    "                options=[\"pearson\", \"kendall\", \"spearman\"],\n",
    "                ensure_option=True,\n",
    "                disabled=False,\n",
    "                continuous_update=True,\n",
    "                layout=Layout(width=WIDGET_WIDTH),\n",
    "            ),\n",
    "        },\n",
    "        # 3\n",
    "        {\n",
    "            \"arg\": \"filter_by\",\n",
    "            \"desc\": \"Filter by:\",\n",
    "            \"widget\": widgets.Dropdown(\n",
    "                options=[\"Frequency\", \"Cited by\"],\n",
    "                disable=False,\n",
    "                layout=Layout(width=WIDGET_WIDTH),\n",
    "            ),\n",
    "        },\n",
    "        # 4\n",
    "        {\n",
    "            \"arg\": \"filter_value\",\n",
    "            \"desc\": \"Filter value:\",\n",
    "            \"widget\": widgets.Dropdown(\n",
    "                options=[str(i) for i in range(10)],\n",
    "                disable=False,\n",
    "                layout=Layout(width=WIDGET_WIDTH),\n",
    "            ),\n",
    "        },\n",
    "        # 5\n",
    "        {\n",
    "            \"arg\": \"min_link_value\",\n",
    "            \"desc\": \"Min link value:\",\n",
    "            \"widget\": widgets.Dropdown(\n",
    "                options=\"-1.00 -0.25 0.00 0.125 0.250 0.375 0.500 0.625 0.750 0.875\".split(\n",
    "                    \" \"\n",
    "                ),\n",
    "                ensure_option=True,\n",
    "                disabled=False,\n",
    "                continuous_update=True,\n",
    "                layout=Layout(width=WIDGET_WIDTH),\n",
    "            ),\n",
    "        },\n",
    "        # 6\n",
    "        {\n",
    "            \"arg\": \"view\",\n",
    "            \"desc\": \"View:\",\n",
    "            \"widget\": widgets.Dropdown(\n",
    "                options=[\"Matrix\", \"Correlation map\", \"Chord diagram\"],\n",
    "                ensure_option=True,\n",
    "                disabled=False,\n",
    "                continuous_update=True,\n",
    "                layout=Layout(width=WIDGET_WIDTH),\n",
    "            ),\n",
    "        },\n",
    "        # 7\n",
    "        {\n",
    "            \"arg\": \"cmap\",\n",
    "            \"desc\": \"Matrix colormap:\",\n",
    "            \"widget\": widgets.Dropdown(\n",
    "                options=COLORMAPS,\n",
    "                disable=False,\n",
    "                layout=Layout(width=WIDGET_WIDTH),\n",
    "                disabled=False,\n",
    "            ),\n",
    "        },\n",
    "        # 8\n",
    "        {\n",
    "            \"arg\": \"sort_by\",\n",
    "            \"desc\": \"Sort order:\",\n",
    "            \"widget\": widgets.Dropdown(\n",
    "                options=[\n",
    "                    \"Alphabetic asc.\",\n",
    "                    \"Alphabetic desc.\",\n",
    "                    \"Frequency/Cited by asc.\",\n",
    "                    \"Frequency/Cited by desc.\",\n",
    "                ],\n",
    "                disable=False,\n",
    "                layout=Layout(width=WIDGET_WIDTH),\n",
    "            ),\n",
    "        },\n",
    "        # 9\n",
    "        {\n",
    "            \"arg\": \"layout\",\n",
    "            \"desc\": \"Map layout:\",\n",
    "            \"widget\": widgets.Dropdown(\n",
    "                options=[\n",
    "                    \"Circular\",\n",
    "                    \"Kamada Kawai\",\n",
    "                    \"Planar\",\n",
    "                    \"Random\",\n",
    "                    \"Spectral\",\n",
    "                    \"Spring\",\n",
    "                    \"Shell\",\n",
    "                ],\n",
    "                disable=True,\n",
    "                layout=Layout(width=WIDGET_WIDTH),\n",
    "            ),\n",
    "        },\n",
    "    ]\n",
    "    #\n",
    "    args = {control[\"arg\"]: control[\"widget\"] for control in controls}\n",
    "    output = widgets.Output()\n",
    "    with output:\n",
    "        display(widgets.interactive_output(server, args,))\n",
    "    return widgets.HBox(\n",
    "        [\n",
    "            widgets.VBox(\n",
    "                [\n",
    "                    widgets.VBox(\n",
    "                        [widgets.Label(value=control[\"desc\"]), control[\"widget\"]]\n",
    "                    )\n",
    "                    for control in controls\n",
    "                ],\n",
    "                layout=Layout(height=LEFT_PANEL_HEIGHT, border=\"1px solid gray\"),\n",
    "            ),\n",
    "            widgets.VBox(\n",
    "                [output], layout=Layout(width=RIGHT_PANEL_WIDTH, align_items=\"baseline\")\n",
    "            ),\n",
    "        ]\n",
    "    )\n",
    "\n",
    "\n",
    "#\n",
    "#\n",
    "# APP\n",
    "#\n",
    "#\n",
    "\n",
    "\n",
    "def app(df):\n",
    "    #\n",
    "    body = widgets.Tab()\n",
    "    body.children = [__body_0(df)]\n",
    "    body.set_title(0, \"Matrix\")\n",
    "    #\n",
    "    return AppLayout(\n",
    "        header=widgets.HTML(\n",
    "            value=\"<h1>{}</h1><hr style='height:2px;border-width:0;color:gray;background-color:gray'>\".format(\n",
    "                \"Correlation Analysis\"\n",
    "            )\n",
    "        ),\n",
    "        center=body,\n",
    "        pane_heights=PANE_HEIGHTS,\n",
    "    )\n",
    "\n",
    "\n",
    "#####\n",
    "app(df)"
   ]
  },
  {
   "cell_type": "code",
   "execution_count": null,
   "metadata": {},
   "outputs": [],
   "source": [
    "import textwrap\n",
    "\n",
    "import matplotlib.pyplot as pyplot\n",
    "import numpy as np\n",
    "\n",
    "from techminer.chord_diagram import ChordDiagram\n",
    "\n",
    "TEXTLEN = 20\n",
    "\n",
    "#############\n",
    "def chord_diagram(\n",
    "    x, figsize=(10, 10), cmap='Grays', alpha=1.0, minval=0.0, top_n_links=None, solid_lines=False\n",
    "):\n",
    "    \"\"\"Creates a chord diagram from a correlation or an auto-correlation matrix.\n",
    "\n",
    "\n",
    "    Examples\n",
    "    ----------------------------------------------------------------------------------------------\n",
    "\n",
    "    >>> df = pd.DataFrame(\n",
    "    ...     {\n",
    "    ...         'word 0': [1.00, 0.80, 0.70, 0.00,-0.30],\n",
    "    ...         'word 1': [0.80, 1.00, 0.70, 0.50, 0.00],\n",
    "    ...         'word 2': [0.70, 0.70, 1.00, 0.00, 0.00],\n",
    "    ...         'word 3': [0.00, 0.50, 0.00, 1.00, 0.30],\n",
    "    ...         'word 4': [-0.30, 0.00, 0.00, 0.30, 1.00],\n",
    "    ...     },\n",
    "    ...     index=['word {:d}'.format(i) for i in range(5)]\n",
    "    ... )\n",
    "    >>> df\n",
    "            word 0  word 1  word 2  word 3  word 4\n",
    "    word 0     1.0     0.8     0.7     0.0    -0.3\n",
    "    word 1     0.8     1.0     0.7     0.5     0.0\n",
    "    word 2     0.7     0.7     1.0     0.0     0.0\n",
    "    word 3     0.0     0.5     0.0     1.0     0.3\n",
    "    word 4    -0.3     0.0     0.0     0.3     1.0\n",
    "    >>> fig = chord_diagram(df)\n",
    "    >>> fig.savefig('sphinx/images/plotcd1.png')\n",
    "\n",
    "    .. image:: images/plotcd1.png\n",
    "        :width: 400px\n",
    "        :align: center\n",
    "\n",
    "    >>> fig = chord_diagram(df, top_n_links=5)\n",
    "    >>> fig.savefig('sphinx/images/plotcd2.png')\n",
    "\n",
    "    .. image:: images/plotcd2.png\n",
    "        :width: 400px\n",
    "        :align: center\n",
    "\n",
    "    >>> fig = chord_diagram(df, solid_lines=True)\n",
    "    >>> fig.savefig('sphinx/images/plotcd3.png')\n",
    "\n",
    "    .. image:: images/plotcd3.png\n",
    "        :width: 400px\n",
    "        :align: center\n",
    "\n",
    "    \"\"\"\n",
    "\n",
    "    x = x.copy()\n",
    "    #\n",
    "    \n",
    "    # ---------------------------------------------------\n",
    "    #\n",
    "    # Node sizes\n",
    "    #\n",
    "    terms = x.columns\n",
    "    node_sizes = [int(w[w.find(\"[\") + 1 : w.find(\"]\")]) for w in terms if \"[\" in w]\n",
    "    if len(node_sizes) == 0:\n",
    "        node_sizes = [10] * len(terms)\n",
    "    else:\n",
    "        max_size = max(node_sizes)\n",
    "        min_size = min(node_sizes)\n",
    "        if min_size == max_size:\n",
    "            node_sizes = [300] * len(terms)\n",
    "        else:\n",
    "            node_sizes = [\n",
    "                30 + int(50 * (w - min_size) / (max_size - min_size))\n",
    "                for w in node_sizes\n",
    "            ]\n",
    "\n",
    "    #\n",
    "    # Node colors\n",
    "    #\n",
    "    cmap = pyplot.cm.get_cmap(cmap)\n",
    "    node_colors = [\n",
    "        cmap(0.2 + 0.75 * node_sizes[i] / max(node_sizes))\n",
    "        for i in range(len(node_sizes))\n",
    "    ]\n",
    "    #    \n",
    "    # ---------------------------------------------------\n",
    "    \n",
    "    \n",
    "    #\n",
    "    cd = ChordDiagram()\n",
    "    for idx, term in enumerate(x.columns):\n",
    "        cd.add_node(term, color=node_colors[idx], s=node_sizes[idx])\n",
    "\n",
    "    if top_n_links is not None and top_n_links <= len(x.columns):\n",
    "        values = []\n",
    "        for idx_col in range(len(x.columns) - 1):\n",
    "            for idx_row in range(idx_col + 1, len(x.columns)):\n",
    "                node_a = x.index[idx_row]\n",
    "                node_b = x.columns[idx_col]\n",
    "                value = x[node_b][node_a]\n",
    "                values.append(value)\n",
    "        values = sorted(values, reverse=True)\n",
    "        minval = values[top_n_links - 1]\n",
    "\n",
    "    style = ['-', '-', '--', ':']\n",
    "    if solid_lines is True:\n",
    "        style = list(\"----\")\n",
    "\n",
    "    width = [4, 2, 1, 1]\n",
    "    if solid_lines is True:\n",
    "        width = [4, 2, 1, 1]\n",
    "\n",
    "    links = 0\n",
    "    for idx_col in range(len(x.columns) - 1):\n",
    "        for idx_row in range(idx_col + 1, len(x.columns)):\n",
    "\n",
    "            node_a = x.index[idx_row]\n",
    "            node_b = x.columns[idx_col]\n",
    "            value = x[node_b][node_a]\n",
    "\n",
    "            if value > 0.75 and value >= minval:\n",
    "                cd.add_edge(\n",
    "                    node_a,\n",
    "                    node_b,\n",
    "                    linestyle=style[0],\n",
    "                    linewidth=width[0],\n",
    "                    color=\"black\",\n",
    "                )\n",
    "                links += 1\n",
    "            elif value > 0.50 and value >= minval:\n",
    "                cd.add_edge(\n",
    "                    node_a,\n",
    "                    node_b,\n",
    "                    linestyle=style[1],\n",
    "                    linewidth=width[1],\n",
    "                    color=\"black\",\n",
    "                )\n",
    "                links += 1\n",
    "            elif value > 0.25 and value >= minval:\n",
    "                cd.add_edge(\n",
    "                    node_a,\n",
    "                    node_b,\n",
    "                    linestyle=style[2],\n",
    "                    linewidth=width[2],\n",
    "                    color=\"black\",\n",
    "                )\n",
    "                links += 1\n",
    "            elif value <= 0.25 and value >= minval and value > 0.0:\n",
    "                cd.add_edge(\n",
    "                    node_a, node_b, linestyle=style[3], linewidth=width[3], color=\"black\",\n",
    "                )\n",
    "                links += 1\n",
    "\n",
    "            if top_n_links is not None and links >= top_n_links:\n",
    "                continue\n",
    "\n",
    "    return cd.plot(figsize=figsize)\n",
    "\n"
   ]
  },
  {
   "cell_type": "code",
   "execution_count": null,
   "metadata": {},
   "outputs": [],
   "source": []
  },
  {
   "cell_type": "code",
   "execution_count": null,
   "metadata": {},
   "outputs": [],
   "source": []
  },
  {
   "cell_type": "code",
   "execution_count": null,
   "metadata": {},
   "outputs": [],
   "source": []
  },
  {
   "cell_type": "code",
   "execution_count": null,
   "metadata": {},
   "outputs": [],
   "source": []
  },
  {
   "cell_type": "code",
   "execution_count": null,
   "metadata": {},
   "outputs": [],
   "source": []
  },
  {
   "cell_type": "code",
   "execution_count": null,
   "metadata": {},
   "outputs": [],
   "source": []
  },
  {
   "cell_type": "code",
   "execution_count": null,
   "metadata": {},
   "outputs": [],
   "source": []
  },
  {
   "cell_type": "code",
   "execution_count": null,
   "metadata": {},
   "outputs": [],
   "source": [
    "from ipywidgets import interact, interactive, fixed, interact_manual\n",
    "interact(slow_function,i=widgets.FloatSlider(min=1e5, max=1e7, step=1e5, continuous_update=True));"
   ]
  },
  {
   "cell_type": "code",
   "execution_count": null,
   "metadata": {},
   "outputs": [],
   "source": [
    "def slow_function(i):\n",
    "    print(int(i),list(x for x in range(int(i)) if\n",
    "                str(x)==str(x)[::-1] and\n",
    "                str(x**2)==str(x**2)[::-1]))\n",
    "    return"
   ]
  },
  {
   "cell_type": "code",
   "execution_count": null,
   "metadata": {},
   "outputs": [],
   "source": []
  },
  {
   "cell_type": "code",
   "execution_count": null,
   "metadata": {},
   "outputs": [],
   "source": [
    "x = \"hola\"\n",
    "x[:-1]"
   ]
  },
  {
   "cell_type": "code",
   "execution_count": null,
   "metadata": {},
   "outputs": [],
   "source": [
    "import pandas as pd\n",
    "x = pd.DataFrame({'a': [1, 2, 3, 4, 5], 'b': list('ABCDE')})\n",
    "\n",
    "x.values.ravel().tolist()"
   ]
  },
  {
   "cell_type": "code",
   "execution_count": null,
   "metadata": {},
   "outputs": [],
   "source": [
    "x"
   ]
  },
  {
   "cell_type": "code",
   "execution_count": null,
   "metadata": {},
   "outputs": [],
   "source": [
    "x.values.shape"
   ]
  },
  {
   "cell_type": "code",
   "execution_count": null,
   "metadata": {},
   "outputs": [],
   "source": [
    "print('hola')"
   ]
  },
  {
   "cell_type": "code",
   "execution_count": null,
   "metadata": {},
   "outputs": [],
   "source": [
    "m = \"abcdefg [1000]\"\n",
    "m[m.find('[')+1:m.find(']')]\n"
   ]
  },
  {
   "cell_type": "code",
   "execution_count": null,
   "metadata": {},
   "outputs": [],
   "source": []
  },
  {
   "cell_type": "code",
   "execution_count": null,
   "metadata": {},
   "outputs": [],
   "source": [
    "import networkx as nx\n",
    "G = nx.petersen_graph()\n",
    "nx.draw(G, with_labels=True, font_weight='bold')"
   ]
  },
  {
   "cell_type": "code",
   "execution_count": null,
   "metadata": {},
   "outputs": [],
   "source": [
    "nx.draw_shell(G, nlist=[range(5, 10), range(5)], with_labels=True, font_weight='bold')"
   ]
  },
  {
   "cell_type": "code",
   "execution_count": null,
   "metadata": {},
   "outputs": [],
   "source": [
    "nx.draw_circular(G, nlist=[range(5, 10), range(5)], with_labels=True, font_weight='bold')"
   ]
  },
  {
   "cell_type": "code",
   "execution_count": null,
   "metadata": {},
   "outputs": [],
   "source": [
    "nx.draw_kamada_kawai(G, nlist=[range(5, 10), range(5)], with_labels=True, font_weight='bold')"
   ]
  },
  {
   "cell_type": "code",
   "execution_count": null,
   "metadata": {},
   "outputs": [],
   "source": [
    "nx.draw_spectral(G, nlist=[range(5, 10), range(5)], with_labels=True, font_weight='bold')"
   ]
  },
  {
   "cell_type": "code",
   "execution_count": null,
   "metadata": {},
   "outputs": [],
   "source": [
    "nx.draw_spring(G, nlist=[range(5, 10), range(5)], with_labels=True, font_weight='bold')"
   ]
  },
  {
   "cell_type": "code",
   "execution_count": null,
   "metadata": {},
   "outputs": [],
   "source": [
    "nx.draw_shell(G, nlist=[range(5, 10), range(5)], with_labels=True, font_weight='bold')"
   ]
  },
  {
   "cell_type": "code",
   "execution_count": null,
   "metadata": {},
   "outputs": [],
   "source": [
    "[12]*5"
   ]
  },
  {
   "cell_type": "code",
   "execution_count": null,
   "metadata": {},
   "outputs": [],
   "source": []
  }
 ],
 "metadata": {
  "kernelspec": {
   "display_name": "Python 3",
   "language": "python",
   "name": "python3"
  },
  "language_info": {
   "codemirror_mode": {
    "name": "ipython",
    "version": 3
   },
   "file_extension": ".py",
   "mimetype": "text/x-python",
   "name": "python",
   "nbconvert_exporter": "python",
   "pygments_lexer": "ipython3",
   "version": "3.6.9"
  },
  "widgets": {
   "application/vnd.jupyter.widget-state+json": {
    "state": {
     "021020abed4d4c3bb1ed22a177fb200a": {
      "model_module": "@jupyter-widgets/controls",
      "model_module_version": "1.5.0",
      "model_name": "DropdownModel",
      "state": {
       "_options_labels": [
        "pearson",
        "kendall",
        "spearman"
       ],
       "index": 0,
       "layout": "IPY_MODEL_74cb139ee27940e4a73c6187c6255054",
       "style": "IPY_MODEL_7387c15d2e184bc3a1a53daa23d57998"
      }
     },
     "04479e40bb5e41248322aac5dd524e38": {
      "model_module": "@jupyter-widgets/controls",
      "model_module_version": "1.5.0",
      "model_name": "VBoxModel",
      "state": {
       "children": [
        "IPY_MODEL_9e958c9945404ef29a589f1a72a2b970",
        "IPY_MODEL_b78a1c88ecdf449da49b9682552bdd56"
       ],
       "layout": "IPY_MODEL_a6c2b3ab543142d79416fb06ff0848b2"
      }
     },
     "075e3b6057c64a308a94221446bf311c": {
      "model_module": "@jupyter-widgets/controls",
      "model_module_version": "1.5.0",
      "model_name": "DescriptionStyleModel",
      "state": {
       "description_width": ""
      }
     },
     "098bd9ab0ad5450eaa901f5f5d81d5db": {
      "model_module": "@jupyter-widgets/controls",
      "model_module_version": "1.5.0",
      "model_name": "VBoxModel",
      "state": {
       "children": [
        "IPY_MODEL_32af1c7299b84cd19d509be794c6d0e4",
        "IPY_MODEL_43b0cd696b624b1b86021eb54598ec28"
       ],
       "layout": "IPY_MODEL_9294085d6b27480aa0c08ea06e794bf1"
      }
     },
     "0c5674612410426d96e5d7ce67e95627": {
      "model_module": "@jupyter-widgets/controls",
      "model_module_version": "1.5.0",
      "model_name": "LabelModel",
      "state": {
       "layout": "IPY_MODEL_19b18e5fffe743a5907ac45217cf894b",
       "style": "IPY_MODEL_141a409cec054bd39a41d12a0c1c038a",
       "value": "Term to analyze:"
      }
     },
     "10a0302d9c184cc08f90b0d391312b4e": {
      "model_module": "@jupyter-widgets/controls",
      "model_module_version": "1.5.0",
      "model_name": "DescriptionStyleModel",
      "state": {
       "description_width": ""
      }
     },
     "141a409cec054bd39a41d12a0c1c038a": {
      "model_module": "@jupyter-widgets/controls",
      "model_module_version": "1.5.0",
      "model_name": "DescriptionStyleModel",
      "state": {
       "description_width": ""
      }
     },
     "19082f8ebdc74072970cba786093c572": {
      "model_module": "@jupyter-widgets/controls",
      "model_module_version": "1.5.0",
      "model_name": "VBoxModel",
      "state": {
       "children": [
        "IPY_MODEL_543ddd27bf034f73a492ad9f84d86d44",
        "IPY_MODEL_021020abed4d4c3bb1ed22a177fb200a"
       ],
       "layout": "IPY_MODEL_c62e909e37a748c4afc19b883256611a"
      }
     },
     "19b18e5fffe743a5907ac45217cf894b": {
      "model_module": "@jupyter-widgets/base",
      "model_module_version": "1.2.0",
      "model_name": "LayoutModel",
      "state": {}
     },
     "1aa59e62721b471cab2c233eb1c7abc6": {
      "model_module": "@jupyter-widgets/controls",
      "model_module_version": "1.5.0",
      "model_name": "GridBoxModel",
      "state": {
       "children": [
        "IPY_MODEL_95c5c7f33a8d4f0094264aef0460a622",
        "IPY_MODEL_78f661a548a64da6aabbc092a24da70e"
       ],
       "layout": "IPY_MODEL_95aceb3c3033451ea351368b837eab26"
      }
     },
     "1ab3a63fb14b4fcb946ee3c014738858": {
      "model_module": "@jupyter-widgets/controls",
      "model_module_version": "1.5.0",
      "model_name": "LabelModel",
      "state": {
       "layout": "IPY_MODEL_9c5cfd78849147a780079f80544514e8",
       "style": "IPY_MODEL_b2d6af34feeb456fa86bbb6e310b6a06",
       "value": "Matrix colormap:"
      }
     },
     "1f0336aac4234bfbb252dde5158ff983": {
      "model_module": "@jupyter-widgets/controls",
      "model_module_version": "1.5.0",
      "model_name": "DropdownModel",
      "state": {
       "_options_labels": [
        "1 [2135]",
        "2 [311]",
        "3 [122]",
        "4 [70]",
        "5 [51]",
        "6 [34]",
        "7 [23]",
        "8 [20]",
        "9 [13]",
        "12 [12]",
        "13 [10]",
        "15 [9]",
        "17 [8]",
        "22 [7]",
        "25 [6]",
        "28 [5]",
        "36 [4]",
        "58 [3]",
        "87 [2]",
        "95 [1]"
       ],
       "index": 7,
       "layout": "IPY_MODEL_42e37be460e546caaf66d61a2cca316f",
       "style": "IPY_MODEL_c7ac15297c3044a79d77dbcd09929140"
      }
     },
     "20caf9c20e064eddb908b57211f7bdfc": {
      "model_module": "@jupyter-widgets/controls",
      "model_module_version": "1.5.0",
      "model_name": "VBoxModel",
      "state": {
       "children": [
        "IPY_MODEL_4331658ea04f4825b9ab5a9b7daccc70",
        "IPY_MODEL_84d6abf2a69948629695e6a4c3dcbddc"
       ],
       "layout": "IPY_MODEL_bce68bbb8ce64fec8963f7c4d62c9f91"
      }
     },
     "29521a5464cd46f58005c9035999fcc8": {
      "model_module": "@jupyter-widgets/controls",
      "model_module_version": "1.5.0",
      "model_name": "DescriptionStyleModel",
      "state": {
       "description_width": ""
      }
     },
     "2ecb6c671ed34cbfaebf327d496a3784": {
      "model_module": "@jupyter-widgets/base",
      "model_module_version": "1.2.0",
      "model_name": "LayoutModel",
      "state": {}
     },
     "32af1c7299b84cd19d509be794c6d0e4": {
      "model_module": "@jupyter-widgets/controls",
      "model_module_version": "1.5.0",
      "model_name": "LabelModel",
      "state": {
       "layout": "IPY_MODEL_ebd272d9e273438d9b507f130ed864bb",
       "style": "IPY_MODEL_10a0302d9c184cc08f90b0d391312b4e",
       "value": "Map layout:"
      }
     },
     "3528e1ef91744a1aa92fcaec7de728ff": {
      "model_module": "@jupyter-widgets/controls",
      "model_module_version": "1.5.0",
      "model_name": "VBoxModel",
      "state": {
       "children": [
        "IPY_MODEL_ad4ff8a161534b9aadda4bec1321d7ee",
        "IPY_MODEL_b5eeca1de934465faa0ffa3dcd75bc32"
       ],
       "layout": "IPY_MODEL_35473ceaec004817b5bd5411e3b95da3"
      }
     },
     "35473ceaec004817b5bd5411e3b95da3": {
      "model_module": "@jupyter-widgets/base",
      "model_module_version": "1.2.0",
      "model_name": "LayoutModel",
      "state": {}
     },
     "3813afc3589e406bab8aadba512c6bd7": {
      "model_module": "@jupyter-widgets/controls",
      "model_module_version": "1.5.0",
      "model_name": "VBoxModel",
      "state": {
       "children": [
        "IPY_MODEL_7a8d537400214b868c18bbeb8887f706",
        "IPY_MODEL_1f0336aac4234bfbb252dde5158ff983"
       ],
       "layout": "IPY_MODEL_ac61a408e078437f93e5bce83d922715"
      }
     },
     "3aa9c2c76ce843f8add0521e6a0e1539": {
      "model_module": "@jupyter-widgets/base",
      "model_module_version": "1.2.0",
      "model_name": "LayoutModel",
      "state": {}
     },
     "3da61bea8f4c4938bdaa770309609a8f": {
      "model_module": "@jupyter-widgets/base",
      "model_module_version": "1.2.0",
      "model_name": "LayoutModel",
      "state": {
       "align_items": "baseline",
       "width": "870px"
      }
     },
     "3e64042168e74b6ba46c7a08b828fc5c": {
      "model_module": "@jupyter-widgets/controls",
      "model_module_version": "1.5.0",
      "model_name": "DescriptionStyleModel",
      "state": {
       "description_width": ""
      }
     },
     "42e37be460e546caaf66d61a2cca316f": {
      "model_module": "@jupyter-widgets/base",
      "model_module_version": "1.2.0",
      "model_name": "LayoutModel",
      "state": {
       "width": "200px"
      }
     },
     "4331658ea04f4825b9ab5a9b7daccc70": {
      "model_module": "@jupyter-widgets/controls",
      "model_module_version": "1.5.0",
      "model_name": "LabelModel",
      "state": {
       "layout": "IPY_MODEL_b362a975e1f44c35a4288e417d4ecc67",
       "style": "IPY_MODEL_60bd514afce94ea5822249b898dd187a",
       "value": "By Term:"
      }
     },
     "43b0cd696b624b1b86021eb54598ec28": {
      "model_module": "@jupyter-widgets/controls",
      "model_module_version": "1.5.0",
      "model_name": "DropdownModel",
      "state": {
       "_options_labels": [
        "Circular",
        "Kamada Kawai",
        "Planar",
        "Random",
        "Spectral",
        "Spring",
        "Shell"
       ],
       "disabled": true,
       "index": 0,
       "layout": "IPY_MODEL_72bc33104a53456ba6eca1a1767c31aa",
       "style": "IPY_MODEL_62fd08104e92432789f342e8cd2ae46a"
      }
     },
     "43cccaf504844b60955aa67417c539e0": {
      "model_module": "@jupyter-widgets/output",
      "model_module_version": "1.0.0",
      "model_name": "OutputModel",
      "state": {
       "layout": "IPY_MODEL_3aa9c2c76ce843f8add0521e6a0e1539",
       "outputs": [
        {
         "data": {
          "image/png": "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\n",
          "text/plain": "<Figure size 720x720 with 1 Axes>"
         },
         "metadata": {},
         "output_type": "display_data"
        }
       ]
      }
     },
     "47a74328a9804c36852773a5666aeeb7": {
      "model_module": "@jupyter-widgets/controls",
      "model_module_version": "1.5.0",
      "model_name": "DropdownModel",
      "state": {
       "_options_labels": [
        "Author Keywords",
        "Authors",
        "Countries",
        "Country 1st",
        "Index Keywords",
        "Institution 1st",
        "Institutions",
        "Keywords",
        "Source title"
       ],
       "index": 0,
       "layout": "IPY_MODEL_d2fd4b99200d4106bcc497222090b59a",
       "style": "IPY_MODEL_b806ea963d8b4822bdd2d1eba89e6e8b"
      }
     },
     "5124c9c8f24541878263fd596cbc137a": {
      "model_module": "@jupyter-widgets/base",
      "model_module_version": "1.2.0",
      "model_name": "LayoutModel",
      "state": {}
     },
     "543ddd27bf034f73a492ad9f84d86d44": {
      "model_module": "@jupyter-widgets/controls",
      "model_module_version": "1.5.0",
      "model_name": "LabelModel",
      "state": {
       "layout": "IPY_MODEL_b82d4cd7e1864b81b88d9856e790da32",
       "style": "IPY_MODEL_fddaedf0edd84800ab680dc309f40435",
       "value": "Method:"
      }
     },
     "5b1fe41e3a1f4c4c8bb7cd8eef05da02": {
      "model_module": "@jupyter-widgets/controls",
      "model_module_version": "1.5.0",
      "model_name": "DescriptionStyleModel",
      "state": {
       "description_width": ""
      }
     },
     "5ecd86dc387f4f66a85ab5c674a65201": {
      "model_module": "@jupyter-widgets/base",
      "model_module_version": "1.2.0",
      "model_name": "LayoutModel",
      "state": {}
     },
     "60bd514afce94ea5822249b898dd187a": {
      "model_module": "@jupyter-widgets/controls",
      "model_module_version": "1.5.0",
      "model_name": "DescriptionStyleModel",
      "state": {
       "description_width": ""
      }
     },
     "62fd08104e92432789f342e8cd2ae46a": {
      "model_module": "@jupyter-widgets/controls",
      "model_module_version": "1.5.0",
      "model_name": "DescriptionStyleModel",
      "state": {
       "description_width": ""
      }
     },
     "65195910c3de4748bde0e6da520e6cac": {
      "model_module": "@jupyter-widgets/controls",
      "model_module_version": "1.5.0",
      "model_name": "LabelModel",
      "state": {
       "layout": "IPY_MODEL_787bbb697cfc4799b3b431622bb142c8",
       "style": "IPY_MODEL_91fbec9ecb2e4ce18f6464172f3e3987",
       "value": "Min link value:"
      }
     },
     "663b4cfe930c41b9b73b1fb94e8b2ee4": {
      "model_module": "@jupyter-widgets/controls",
      "model_module_version": "1.5.0",
      "model_name": "VBoxModel",
      "state": {
       "children": [
        "IPY_MODEL_92d93a8a183f48a49263c8a32dfba296",
        "IPY_MODEL_905fb6d7970c41f9a18d782652a2106a"
       ],
       "layout": "IPY_MODEL_5ecd86dc387f4f66a85ab5c674a65201"
      }
     },
     "67e61c5966b7444c98eaee42d5a271cb": {
      "model_module": "@jupyter-widgets/base",
      "model_module_version": "1.2.0",
      "model_name": "LayoutModel",
      "state": {
       "width": "200px"
      }
     },
     "6b95d847b94f4765b7ddec4de1340e80": {
      "model_module": "@jupyter-widgets/base",
      "model_module_version": "1.2.0",
      "model_name": "LayoutModel",
      "state": {}
     },
     "6e6a08809c4b4fc2937b054d398dd52a": {
      "model_module": "@jupyter-widgets/controls",
      "model_module_version": "1.5.0",
      "model_name": "DescriptionStyleModel",
      "state": {
       "description_width": ""
      }
     },
     "72bc33104a53456ba6eca1a1767c31aa": {
      "model_module": "@jupyter-widgets/base",
      "model_module_version": "1.2.0",
      "model_name": "LayoutModel",
      "state": {
       "width": "200px"
      }
     },
     "7387c15d2e184bc3a1a53daa23d57998": {
      "model_module": "@jupyter-widgets/controls",
      "model_module_version": "1.5.0",
      "model_name": "DescriptionStyleModel",
      "state": {
       "description_width": ""
      }
     },
     "74cb139ee27940e4a73c6187c6255054": {
      "model_module": "@jupyter-widgets/base",
      "model_module_version": "1.2.0",
      "model_name": "LayoutModel",
      "state": {
       "width": "200px"
      }
     },
     "7516c9049d7e42469c087002c81c2684": {
      "model_module": "@jupyter-widgets/output",
      "model_module_version": "1.0.0",
      "model_name": "OutputModel",
      "state": {
       "layout": "IPY_MODEL_766cf65cca534f7f87ce95fdb275b98e",
       "outputs": [
        {
         "data": {
          "application/vnd.jupyter.widget-view+json": {
           "model_id": "",
           "version_major": 2,
           "version_minor": 0
          },
          "text/plain": "HTML(value='<h3>Matrix exceeds the maximum shape</h3>')"
         },
         "metadata": {},
         "output_type": "display_data"
        }
       ]
      }
     },
     "766cf65cca534f7f87ce95fdb275b98e": {
      "model_module": "@jupyter-widgets/base",
      "model_module_version": "1.2.0",
      "model_name": "LayoutModel",
      "state": {}
     },
     "787bbb697cfc4799b3b431622bb142c8": {
      "model_module": "@jupyter-widgets/base",
      "model_module_version": "1.2.0",
      "model_name": "LayoutModel",
      "state": {}
     },
     "78f661a548a64da6aabbc092a24da70e": {
      "model_module": "@jupyter-widgets/controls",
      "model_module_version": "1.5.0",
      "model_name": "TabModel",
      "state": {
       "_titles": {
        "0": "Matrix"
       },
       "children": [
        "IPY_MODEL_b4e6a6f8a6dc421d822aaa8aa66035c3"
       ],
       "layout": "IPY_MODEL_f6a5707b15a746069a3e3410b1289357"
      }
     },
     "79a09b42eec7464f9663a19b639fe528": {
      "model_module": "@jupyter-widgets/base",
      "model_module_version": "1.2.0",
      "model_name": "LayoutModel",
      "state": {
       "width": "200px"
      }
     },
     "7a8d537400214b868c18bbeb8887f706": {
      "model_module": "@jupyter-widgets/controls",
      "model_module_version": "1.5.0",
      "model_name": "LabelModel",
      "state": {
       "layout": "IPY_MODEL_90a5ee141c004c28866ea9243c4362c8",
       "style": "IPY_MODEL_caa37fe5d22c4476b541611076a16c9b",
       "value": "Filter value:"
      }
     },
     "7ac091e66e984e6eb30210afff221890": {
      "model_module": "@jupyter-widgets/base",
      "model_module_version": "1.2.0",
      "model_name": "LayoutModel",
      "state": {
       "border": "1px solid gray",
       "height": "650px"
      }
     },
     "7cd316a2a2c64d88935db5e51226fa71": {
      "model_module": "@jupyter-widgets/controls",
      "model_module_version": "1.5.0",
      "model_name": "DescriptionStyleModel",
      "state": {
       "description_width": ""
      }
     },
     "80c1aa80df32433498755404cc5c3e40": {
      "model_module": "@jupyter-widgets/controls",
      "model_module_version": "1.5.0",
      "model_name": "DropdownModel",
      "state": {
       "_options_labels": [
        "-1.00",
        "-0.25",
        "0.00",
        "0.125",
        "0.250",
        "0.375",
        "0.500",
        "0.625",
        "0.750",
        "0.875"
       ],
       "index": 3,
       "layout": "IPY_MODEL_79a09b42eec7464f9663a19b639fe528",
       "style": "IPY_MODEL_5b1fe41e3a1f4c4c8bb7cd8eef05da02"
      }
     },
     "84d6abf2a69948629695e6a4c3dcbddc": {
      "model_module": "@jupyter-widgets/controls",
      "model_module_version": "1.5.0",
      "model_name": "DropdownModel",
      "state": {
       "_options_labels": [
        "Author Keywords",
        "Authors",
        "Countries",
        "Country 1st",
        "Index Keywords",
        "Institution 1st",
        "Institutions",
        "Keywords",
        "Source title"
       ],
       "index": 0,
       "layout": "IPY_MODEL_a422671da72043999399f12b87c3702b",
       "style": "IPY_MODEL_075e3b6057c64a308a94221446bf311c"
      }
     },
     "86f1b327435e4376aeb6da881143be42": {
      "model_module": "@jupyter-widgets/controls",
      "model_module_version": "1.5.0",
      "model_name": "HTMLModel",
      "state": {
       "layout": "IPY_MODEL_6b95d847b94f4765b7ddec4de1340e80",
       "style": "IPY_MODEL_3e64042168e74b6ba46c7a08b828fc5c",
       "value": "<h3>Matrix exceeds the maximum shape</h3>"
      }
     },
     "899946cb87f44e358cdd4055ef0afea0": {
      "model_module": "@jupyter-widgets/base",
      "model_module_version": "1.2.0",
      "model_name": "LayoutModel",
      "state": {}
     },
     "8e231730e00b4391a017f5911eb40321": {
      "model_module": "@jupyter-widgets/base",
      "model_module_version": "1.2.0",
      "model_name": "LayoutModel",
      "state": {
       "width": "200px"
      }
     },
     "905fb6d7970c41f9a18d782652a2106a": {
      "model_module": "@jupyter-widgets/controls",
      "model_module_version": "1.5.0",
      "model_name": "DropdownModel",
      "state": {
       "_options_labels": [
        "Matrix",
        "Correlation map",
        "Chord diagram"
       ],
       "index": 2,
       "layout": "IPY_MODEL_b1ba056499bc4e8d8553acc5c5f88e18",
       "style": "IPY_MODEL_cb237ee4681a4cd09341782cc0cda0bc"
      }
     },
     "90a5ee141c004c28866ea9243c4362c8": {
      "model_module": "@jupyter-widgets/base",
      "model_module_version": "1.2.0",
      "model_name": "LayoutModel",
      "state": {}
     },
     "91fbec9ecb2e4ce18f6464172f3e3987": {
      "model_module": "@jupyter-widgets/controls",
      "model_module_version": "1.5.0",
      "model_name": "DescriptionStyleModel",
      "state": {
       "description_width": ""
      }
     },
     "9294085d6b27480aa0c08ea06e794bf1": {
      "model_module": "@jupyter-widgets/base",
      "model_module_version": "1.2.0",
      "model_name": "LayoutModel",
      "state": {}
     },
     "92d93a8a183f48a49263c8a32dfba296": {
      "model_module": "@jupyter-widgets/controls",
      "model_module_version": "1.5.0",
      "model_name": "LabelModel",
      "state": {
       "layout": "IPY_MODEL_d56525b246ec4c27a60e97ffb34fa0d3",
       "style": "IPY_MODEL_db33aa7234824c51974168a7034006f4",
       "value": "View:"
      }
     },
     "93b5c40f81124fa59fabcc1f27b688f1": {
      "model_module": "@jupyter-widgets/base",
      "model_module_version": "1.2.0",
      "model_name": "LayoutModel",
      "state": {}
     },
     "95aceb3c3033451ea351368b837eab26": {
      "model_module": "@jupyter-widgets/base",
      "model_module_version": "1.2.0",
      "model_name": "LayoutModel",
      "state": {
       "grid_template_areas": "\"header header header\"\n\"center center center\"",
       "grid_template_columns": "1fr 2fr 1fr",
       "grid_template_rows": "80px 750px"
      }
     },
     "95c5c7f33a8d4f0094264aef0460a622": {
      "model_module": "@jupyter-widgets/controls",
      "model_module_version": "1.5.0",
      "model_name": "HTMLModel",
      "state": {
       "layout": "IPY_MODEL_bcb4fcc165304a8bafc43b73be3d2a77",
       "style": "IPY_MODEL_fe61f6709e354f4d91dbfa38c88cdbc0",
       "value": "<h1>Correlation Analysis</h1><hr style='height:2px;border-width:0;color:gray;background-color:gray'>"
      }
     },
     "9b9b851c9a3d4fe9b53e7d1082f7aa36": {
      "model_module": "@jupyter-widgets/controls",
      "model_module_version": "1.5.0",
      "model_name": "VBoxModel",
      "state": {
       "children": [
        "IPY_MODEL_0c5674612410426d96e5d7ce67e95627",
        "IPY_MODEL_47a74328a9804c36852773a5666aeeb7"
       ],
       "layout": "IPY_MODEL_d64e7dd8f4bd4038a6d3535296a36c71"
      }
     },
     "9c5cfd78849147a780079f80544514e8": {
      "model_module": "@jupyter-widgets/base",
      "model_module_version": "1.2.0",
      "model_name": "LayoutModel",
      "state": {}
     },
     "9e958c9945404ef29a589f1a72a2b970": {
      "model_module": "@jupyter-widgets/controls",
      "model_module_version": "1.5.0",
      "model_name": "LabelModel",
      "state": {
       "layout": "IPY_MODEL_cf809af0f95e4858a62a0c97610f99c9",
       "style": "IPY_MODEL_cea1379d5831427f90a7587e5d2a57aa",
       "value": "Filter by:"
      }
     },
     "a422671da72043999399f12b87c3702b": {
      "model_module": "@jupyter-widgets/base",
      "model_module_version": "1.2.0",
      "model_name": "LayoutModel",
      "state": {
       "width": "200px"
      }
     },
     "a6c2b3ab543142d79416fb06ff0848b2": {
      "model_module": "@jupyter-widgets/base",
      "model_module_version": "1.2.0",
      "model_name": "LayoutModel",
      "state": {}
     },
     "ac61a408e078437f93e5bce83d922715": {
      "model_module": "@jupyter-widgets/base",
      "model_module_version": "1.2.0",
      "model_name": "LayoutModel",
      "state": {}
     },
     "ad4ff8a161534b9aadda4bec1321d7ee": {
      "model_module": "@jupyter-widgets/controls",
      "model_module_version": "1.5.0",
      "model_name": "LabelModel",
      "state": {
       "layout": "IPY_MODEL_899946cb87f44e358cdd4055ef0afea0",
       "style": "IPY_MODEL_b7af8f43ef214aff92610f430fa9cdbb",
       "value": "Sort order:"
      }
     },
     "af59cf23219f464c941a0446ff8dae1b": {
      "model_module": "@jupyter-widgets/controls",
      "model_module_version": "1.5.0",
      "model_name": "HTMLModel",
      "state": {
       "layout": "IPY_MODEL_93b5c40f81124fa59fabcc1f27b688f1",
       "style": "IPY_MODEL_7cd316a2a2c64d88935db5e51226fa71",
       "value": "<h3>Matrix exceeds the maximum shape</h3>"
      }
     },
     "b1ba056499bc4e8d8553acc5c5f88e18": {
      "model_module": "@jupyter-widgets/base",
      "model_module_version": "1.2.0",
      "model_name": "LayoutModel",
      "state": {
       "width": "200px"
      }
     },
     "b1dfc16dd1064136903528e693bc826f": {
      "model_module": "@jupyter-widgets/controls",
      "model_module_version": "1.5.0",
      "model_name": "VBoxModel",
      "state": {
       "children": [
        "IPY_MODEL_65195910c3de4748bde0e6da520e6cac",
        "IPY_MODEL_80c1aa80df32433498755404cc5c3e40"
       ],
       "layout": "IPY_MODEL_e5ae7418f1604c649452060a4c3ed5b4"
      }
     },
     "b2d6af34feeb456fa86bbb6e310b6a06": {
      "model_module": "@jupyter-widgets/controls",
      "model_module_version": "1.5.0",
      "model_name": "DescriptionStyleModel",
      "state": {
       "description_width": ""
      }
     },
     "b362a975e1f44c35a4288e417d4ecc67": {
      "model_module": "@jupyter-widgets/base",
      "model_module_version": "1.2.0",
      "model_name": "LayoutModel",
      "state": {}
     },
     "b4e6a6f8a6dc421d822aaa8aa66035c3": {
      "model_module": "@jupyter-widgets/controls",
      "model_module_version": "1.5.0",
      "model_name": "HBoxModel",
      "state": {
       "children": [
        "IPY_MODEL_d5e59d0734fa4231ba063b8baeec1db7",
        "IPY_MODEL_f91e273b514c4449b4426f02892d438f"
       ],
       "layout": "IPY_MODEL_2ecb6c671ed34cbfaebf327d496a3784"
      }
     },
     "b5eeca1de934465faa0ffa3dcd75bc32": {
      "model_module": "@jupyter-widgets/controls",
      "model_module_version": "1.5.0",
      "model_name": "DropdownModel",
      "state": {
       "_options_labels": [
        "Alphabetic asc.",
        "Alphabetic desc.",
        "Frequency/Cited by asc.",
        "Frequency/Cited by desc."
       ],
       "disabled": true,
       "index": 0,
       "layout": "IPY_MODEL_ca33b15f49c048508e7d32652e6f780a",
       "style": "IPY_MODEL_6e6a08809c4b4fc2937b054d398dd52a"
      }
     },
     "b78a1c88ecdf449da49b9682552bdd56": {
      "model_module": "@jupyter-widgets/controls",
      "model_module_version": "1.5.0",
      "model_name": "DropdownModel",
      "state": {
       "_options_labels": [
        "Frequency",
        "Cited by"
       ],
       "index": 0,
       "layout": "IPY_MODEL_67e61c5966b7444c98eaee42d5a271cb",
       "style": "IPY_MODEL_f1cdd9357c0e436ca732f61832e52caf"
      }
     },
     "b7af8f43ef214aff92610f430fa9cdbb": {
      "model_module": "@jupyter-widgets/controls",
      "model_module_version": "1.5.0",
      "model_name": "DescriptionStyleModel",
      "state": {
       "description_width": ""
      }
     },
     "b806ea963d8b4822bdd2d1eba89e6e8b": {
      "model_module": "@jupyter-widgets/controls",
      "model_module_version": "1.5.0",
      "model_name": "DescriptionStyleModel",
      "state": {
       "description_width": ""
      }
     },
     "b82d4cd7e1864b81b88d9856e790da32": {
      "model_module": "@jupyter-widgets/base",
      "model_module_version": "1.2.0",
      "model_name": "LayoutModel",
      "state": {}
     },
     "bcb4fcc165304a8bafc43b73be3d2a77": {
      "model_module": "@jupyter-widgets/base",
      "model_module_version": "1.2.0",
      "model_name": "LayoutModel",
      "state": {
       "grid_area": "header"
      }
     },
     "bce68bbb8ce64fec8963f7c4d62c9f91": {
      "model_module": "@jupyter-widgets/base",
      "model_module_version": "1.2.0",
      "model_name": "LayoutModel",
      "state": {}
     },
     "c62e909e37a748c4afc19b883256611a": {
      "model_module": "@jupyter-widgets/base",
      "model_module_version": "1.2.0",
      "model_name": "LayoutModel",
      "state": {}
     },
     "c7ac15297c3044a79d77dbcd09929140": {
      "model_module": "@jupyter-widgets/controls",
      "model_module_version": "1.5.0",
      "model_name": "DescriptionStyleModel",
      "state": {
       "description_width": ""
      }
     },
     "ca33b15f49c048508e7d32652e6f780a": {
      "model_module": "@jupyter-widgets/base",
      "model_module_version": "1.2.0",
      "model_name": "LayoutModel",
      "state": {
       "width": "200px"
      }
     },
     "caa37fe5d22c4476b541611076a16c9b": {
      "model_module": "@jupyter-widgets/controls",
      "model_module_version": "1.5.0",
      "model_name": "DescriptionStyleModel",
      "state": {
       "description_width": ""
      }
     },
     "cb237ee4681a4cd09341782cc0cda0bc": {
      "model_module": "@jupyter-widgets/controls",
      "model_module_version": "1.5.0",
      "model_name": "DescriptionStyleModel",
      "state": {
       "description_width": ""
      }
     },
     "cea1379d5831427f90a7587e5d2a57aa": {
      "model_module": "@jupyter-widgets/controls",
      "model_module_version": "1.5.0",
      "model_name": "DescriptionStyleModel",
      "state": {
       "description_width": ""
      }
     },
     "cf809af0f95e4858a62a0c97610f99c9": {
      "model_module": "@jupyter-widgets/base",
      "model_module_version": "1.2.0",
      "model_name": "LayoutModel",
      "state": {}
     },
     "d26fb2777a9c404c8218d2d6188d783d": {
      "model_module": "@jupyter-widgets/controls",
      "model_module_version": "1.5.0",
      "model_name": "DropdownModel",
      "state": {
       "_options_labels": [
        "Greys",
        "Purples",
        "Blues",
        "Greens",
        "Oranges",
        "Reds",
        "YlOrBr",
        "YlOrRd",
        "OrRd",
        "PuRd",
        "RdPu",
        "BuPu",
        "GnBu",
        "PuBu",
        "YlGnBu",
        "PuBuGn",
        "BuGn",
        "YlGn",
        "Pastel1",
        "Pastel2",
        "Paired",
        "Accent",
        "Dark2",
        "Set1",
        "Set2",
        "Set3",
        "tab10",
        "tab20",
        "tab20b",
        "tab20c"
       ],
       "index": 2,
       "layout": "IPY_MODEL_8e231730e00b4391a017f5911eb40321",
       "style": "IPY_MODEL_29521a5464cd46f58005c9035999fcc8"
      }
     },
     "d2fd4b99200d4106bcc497222090b59a": {
      "model_module": "@jupyter-widgets/base",
      "model_module_version": "1.2.0",
      "model_name": "LayoutModel",
      "state": {
       "width": "200px"
      }
     },
     "d56525b246ec4c27a60e97ffb34fa0d3": {
      "model_module": "@jupyter-widgets/base",
      "model_module_version": "1.2.0",
      "model_name": "LayoutModel",
      "state": {}
     },
     "d5e59d0734fa4231ba063b8baeec1db7": {
      "model_module": "@jupyter-widgets/controls",
      "model_module_version": "1.5.0",
      "model_name": "VBoxModel",
      "state": {
       "children": [
        "IPY_MODEL_9b9b851c9a3d4fe9b53e7d1082f7aa36",
        "IPY_MODEL_20caf9c20e064eddb908b57211f7bdfc",
        "IPY_MODEL_19082f8ebdc74072970cba786093c572",
        "IPY_MODEL_04479e40bb5e41248322aac5dd524e38",
        "IPY_MODEL_3813afc3589e406bab8aadba512c6bd7",
        "IPY_MODEL_b1dfc16dd1064136903528e693bc826f",
        "IPY_MODEL_663b4cfe930c41b9b73b1fb94e8b2ee4",
        "IPY_MODEL_d8a1ce8617de40288bdb04360093e553",
        "IPY_MODEL_3528e1ef91744a1aa92fcaec7de728ff",
        "IPY_MODEL_098bd9ab0ad5450eaa901f5f5d81d5db"
       ],
       "layout": "IPY_MODEL_7ac091e66e984e6eb30210afff221890"
      }
     },
     "d64e7dd8f4bd4038a6d3535296a36c71": {
      "model_module": "@jupyter-widgets/base",
      "model_module_version": "1.2.0",
      "model_name": "LayoutModel",
      "state": {}
     },
     "d8a1ce8617de40288bdb04360093e553": {
      "model_module": "@jupyter-widgets/controls",
      "model_module_version": "1.5.0",
      "model_name": "VBoxModel",
      "state": {
       "children": [
        "IPY_MODEL_1ab3a63fb14b4fcb946ee3c014738858",
        "IPY_MODEL_d26fb2777a9c404c8218d2d6188d783d"
       ],
       "layout": "IPY_MODEL_5124c9c8f24541878263fd596cbc137a"
      }
     },
     "db33aa7234824c51974168a7034006f4": {
      "model_module": "@jupyter-widgets/controls",
      "model_module_version": "1.5.0",
      "model_name": "DescriptionStyleModel",
      "state": {
       "description_width": ""
      }
     },
     "e5ae7418f1604c649452060a4c3ed5b4": {
      "model_module": "@jupyter-widgets/base",
      "model_module_version": "1.2.0",
      "model_name": "LayoutModel",
      "state": {}
     },
     "ebd272d9e273438d9b507f130ed864bb": {
      "model_module": "@jupyter-widgets/base",
      "model_module_version": "1.2.0",
      "model_name": "LayoutModel",
      "state": {}
     },
     "f1cdd9357c0e436ca732f61832e52caf": {
      "model_module": "@jupyter-widgets/controls",
      "model_module_version": "1.5.0",
      "model_name": "DescriptionStyleModel",
      "state": {
       "description_width": ""
      }
     },
     "f6a5707b15a746069a3e3410b1289357": {
      "model_module": "@jupyter-widgets/base",
      "model_module_version": "1.2.0",
      "model_name": "LayoutModel",
      "state": {
       "grid_area": "center"
      }
     },
     "f91e273b514c4449b4426f02892d438f": {
      "model_module": "@jupyter-widgets/controls",
      "model_module_version": "1.5.0",
      "model_name": "VBoxModel",
      "state": {
       "children": [
        "IPY_MODEL_43cccaf504844b60955aa67417c539e0"
       ],
       "layout": "IPY_MODEL_3da61bea8f4c4938bdaa770309609a8f"
      }
     },
     "fddaedf0edd84800ab680dc309f40435": {
      "model_module": "@jupyter-widgets/controls",
      "model_module_version": "1.5.0",
      "model_name": "DescriptionStyleModel",
      "state": {
       "description_width": ""
      }
     },
     "fe61f6709e354f4d91dbfa38c88cdbc0": {
      "model_module": "@jupyter-widgets/controls",
      "model_module_version": "1.5.0",
      "model_name": "DescriptionStyleModel",
      "state": {
       "description_width": ""
      }
     }
    },
    "version_major": 2,
    "version_minor": 0
   }
  }
 },
 "nbformat": 4,
 "nbformat_minor": 4
}
