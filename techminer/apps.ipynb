{
 "cells": [
  {
   "cell_type": "code",
   "execution_count": 1,
   "metadata": {},
   "outputs": [
    {
     "name": "stderr",
     "output_type": "stream",
     "text": [
      "2020-06-07 01:44:52,567 - INFO - Renaming and selecting columns ...\n",
      "2020-06-07 01:44:58,356 - INFO - Formatting author names ...\n",
      "2020-06-07 01:44:58,362 - INFO - Disambiguating author names ...\n",
      "2020-06-07 01:44:58,432 - INFO - Removing part of titles in foreing languages ...\n",
      "2020-06-07 01:44:58,440 - INFO - Building thesaurus for author and index keywords ...\n",
      "2020-06-07 01:45:00,039 - INFO - Cleaning Author Keywords ...\n",
      "2020-06-07 01:45:00,544 - INFO - Cleaning Index Keywords ...\n",
      "2020-06-07 01:45:01,759 - INFO - Fusioning cleaned author and index keywords ...\n",
      "2020-06-07 01:45:01,770 - INFO - NumExpr defaulting to 8 threads.\n",
      "2020-06-07 01:45:01,784 - INFO - Extracting countries from affiliations ...\n",
      "2020-06-07 01:45:07,857 - INFO - Extracting institutions from affiliations ...\n",
      "2020-06-07 01:45:07,874 - INFO - Counting number of authors ...\n"
     ]
    }
   ],
   "source": [
    "import pandas as pd\n",
    "import data\n",
    "\n",
    "filepath = \"../data/papers/urban-agriculture.csv\"\n",
    "df = pd.read_csv(filepath)\n",
    "df = data.load_scopus(df)"
   ]
  },
  {
   "cell_type": "code",
   "execution_count": 2,
   "metadata": {},
   "outputs": [
    {
     "data": {
      "application/vnd.jupyter.widget-view+json": {
       "model_id": "bd2db1ab89314cda91a081f680409d43",
       "version_major": 2,
       "version_minor": 0
      },
      "text/plain": [
       "GridspecLayout(children=(HTML(value=\"<h1>Matrix Explorer (Top 50 terms)</h1><hr style='height:2px;border-width…"
      ]
     },
     "metadata": {},
     "output_type": "display_data"
    }
   ],
   "source": [
    "import viewers\n",
    "\n",
    "viewers.matrix(df, top_n=50)"
   ]
  },
  {
   "cell_type": "code",
   "execution_count": null,
   "metadata": {},
   "outputs": [],
   "source": [
    "df.columns"
   ]
  },
  {
   "cell_type": "code",
   "execution_count": null,
   "metadata": {},
   "outputs": [],
   "source": [
    "df['Author Keywords (Cleaned)']"
   ]
  },
  {
   "cell_type": "code",
   "execution_count": null,
   "metadata": {},
   "outputs": [],
   "source": []
  },
  {
   "cell_type": "code",
   "execution_count": null,
   "metadata": {},
   "outputs": [],
   "source": []
  },
  {
   "cell_type": "code",
   "execution_count": null,
   "metadata": {},
   "outputs": [],
   "source": [
    "import viewers\n",
    "\n",
    "viewers.column(df, top_n=50)"
   ]
  },
  {
   "cell_type": "markdown",
   "metadata": {},
   "source": [
    "### Basic info"
   ]
  },
  {
   "cell_type": "code",
   "execution_count": null,
   "metadata": {},
   "outputs": [],
   "source": [
    "data.coverage(df)"
   ]
  },
  {
   "cell_type": "code",
   "execution_count": null,
   "metadata": {},
   "outputs": [],
   "source": []
  },
  {
   "cell_type": "code",
   "execution_count": null,
   "metadata": {},
   "outputs": [],
   "source": []
  },
  {
   "cell_type": "code",
   "execution_count": null,
   "metadata": {},
   "outputs": [],
   "source": [
    "data.app(df)"
   ]
  },
  {
   "cell_type": "code",
   "execution_count": null,
   "metadata": {},
   "outputs": [],
   "source": []
  },
  {
   "cell_type": "code",
   "execution_count": null,
   "metadata": {},
   "outputs": [],
   "source": []
  },
  {
   "cell_type": "code",
   "execution_count": null,
   "metadata": {},
   "outputs": [],
   "source": []
  },
  {
   "cell_type": "markdown",
   "metadata": {},
   "source": [
    "### Keywords"
   ]
  },
  {
   "cell_type": "code",
   "execution_count": null,
   "metadata": {},
   "outputs": [],
   "source": []
  },
  {
   "cell_type": "markdown",
   "metadata": {},
   "source": [
    "### FindString Dialog Box pag. 69"
   ]
  },
  {
   "cell_type": "code",
   "execution_count": null,
   "metadata": {},
   "outputs": [],
   "source": []
  },
  {
   "cell_type": "markdown",
   "metadata": {},
   "source": [
    "### Cleaning a list pag. 102"
   ]
  },
  {
   "cell_type": "code",
   "execution_count": null,
   "metadata": {},
   "outputs": [],
   "source": []
  },
  {
   "cell_type": "markdown",
   "metadata": {},
   "source": [
    "### Fuzzy match editor pag.126"
   ]
  },
  {
   "cell_type": "code",
   "execution_count": null,
   "metadata": {},
   "outputs": [],
   "source": []
  },
  {
   "cell_type": "markdown",
   "metadata": {},
   "source": [
    "### Stemming And / Stemming Or"
   ]
  },
  {
   "cell_type": "code",
   "execution_count": null,
   "metadata": {},
   "outputs": [],
   "source": []
  },
  {
   "cell_type": "markdown",
   "metadata": {},
   "source": [
    "### APPS"
   ]
  },
  {
   "cell_type": "code",
   "execution_count": null,
   "metadata": {},
   "outputs": [],
   "source": [
    "import by_year as year\n",
    "year.app(df)"
   ]
  },
  {
   "cell_type": "code",
   "execution_count": null,
   "metadata": {},
   "outputs": [],
   "source": [
    "import by_term as term\n",
    "term.app(df)"
   ]
  },
  {
   "cell_type": "code",
   "execution_count": null,
   "metadata": {},
   "outputs": [],
   "source": [
    "import by_term_per_year as term_year\n",
    "term_year.app(df)"
   ]
  },
  {
   "cell_type": "code",
   "execution_count": null,
   "metadata": {},
   "outputs": [],
   "source": [
    "import co_occurrence as co_occurrence\n",
    "co_occurrence.app(df)"
   ]
  },
  {
   "cell_type": "code",
   "execution_count": null,
   "metadata": {},
   "outputs": [],
   "source": [
    "import correlation as correlation\n",
    "correlation.app(df)"
   ]
  },
  {
   "cell_type": "code",
   "execution_count": null,
   "metadata": {},
   "outputs": [],
   "source": [
    "import factor_analysis\n",
    "\n",
    "factor_analysis.app(df)"
   ]
  },
  {
   "cell_type": "code",
   "execution_count": 3,
   "metadata": {},
   "outputs": [
    {
     "data": {
      "text/plain": [
       "['hola undo']"
      ]
     },
     "execution_count": 3,
     "metadata": {},
     "output_type": "execute_result"
    }
   ],
   "source": [
    "'hola undo'.split(';')"
   ]
  },
  {
   "cell_type": "code",
   "execution_count": null,
   "metadata": {},
   "outputs": [],
   "source": [
    "s = df[['Author Keywords (Cleaned)']]\n",
    "s = s['Author Keywords (Cleaned)'].map(lambda w: w.split(';') if pd.isna(w) is False else pd.NA)\n",
    "s = pd.Series(s.explode().unique()).sort_values()\n",
    "s[400:450]"
   ]
  },
  {
   "cell_type": "code",
   "execution_count": null,
   "metadata": {},
   "outputs": [],
   "source": []
  }
 ],
 "metadata": {
  "kernelspec": {
   "display_name": "Python 3",
   "language": "python",
   "name": "python3"
  },
  "language_info": {
   "codemirror_mode": {
    "name": "ipython",
    "version": 3
   },
   "file_extension": ".py",
   "mimetype": "text/x-python",
   "name": "python",
   "nbconvert_exporter": "python",
   "pygments_lexer": "ipython3",
   "version": "3.6.9"
  },
  "widgets": {
   "application/vnd.jupyter.widget-state+json": {
    "state": {
     "00de96f9cc1d4021987864a191bd166c": {
      "model_module": "@jupyter-widgets/base",
      "model_module_version": "1.2.0",
      "model_name": "LayoutModel",
      "state": {
       "grid_area": "widget006"
      }
     },
     "03459c3388d443c98eb2e8c681ce0e44": {
      "model_module": "@jupyter-widgets/base",
      "model_module_version": "1.2.0",
      "model_name": "LayoutModel",
      "state": {}
     },
     "0464c6dd413647a58a7a4e2ccd034e30": {
      "model_module": "@jupyter-widgets/controls",
      "model_module_version": "1.5.0",
      "model_name": "LabelModel",
      "state": {
       "layout": "IPY_MODEL_33daa3803dba4ec8b2e9dbb7f0936990",
       "style": "IPY_MODEL_63a9bf7c0f094e3a8d348c70b733e21f",
       "value": "By column:"
      }
     },
     "0bbdc4fbef534282a0a899e8b005a464": {
      "model_module": "@jupyter-widgets/controls",
      "model_module_version": "1.5.0",
      "model_name": "HTMLModel",
      "state": {
       "layout": "IPY_MODEL_fe86b505c65849e98f924076ab0b33fc",
       "style": "IPY_MODEL_6b2779c4ecdc41a69b9b2687a344f6dd",
       "value": "<pre>                   Title: Drivers of plant biodiversity and ecosystem service production in home gardens across the Beijing Municipality of China<br>                 Authors: Clarke LW<br>                          Li L<br>                          Jenerette GD<br>                          Yu Z<br>         Author Keywords: agriculture<br>                          biodiversity<br>                          ecosystem services<br>                          food security<br>                          socioeconomics<br>                          species-area relationship<br>Author Keywords (Cleaned): agriculture<br>                          biodiversity<br>                          ecosystem service<br>                          food security<br>                          socioeconomics<br>                          species-area relationship<br>            Source title: Urban Ecosystems<br>                    Year: 2014<br>               Countries: China<br>                          United States<br>            Institutions: college of agricultural resources and environmental sciences<br>                          department of botany and plant sciences<br>                Keywords: agriculture<br>                          biodiversity<br>                          ecosystem services<br>                          food security<br>                          socioeconomics<br>                          species-area relationship<br></pre>"
      }
     },
     "0d159159595943eabe265246e2502e69": {
      "model_module": "@jupyter-widgets/base",
      "model_module_version": "1.2.0",
      "model_name": "LayoutModel",
      "state": {
       "grid_area": "widget003"
      }
     },
     "1005f455c120426089b2b20a1f0152b8": {
      "model_module": "@jupyter-widgets/base",
      "model_module_version": "1.2.0",
      "model_name": "LayoutModel",
      "state": {
       "grid_area": "widget004"
      }
     },
     "14814e0bb9ba42a28afc7c3ac141f9cb": {
      "model_module": "@jupyter-widgets/controls",
      "model_module_version": "1.5.0",
      "model_name": "HTMLModel",
      "state": {
       "layout": "IPY_MODEL_58fe5241dda04424ab92f7dcaa75f094",
       "style": "IPY_MODEL_98a240dd1b10469ba75a249eac163e45",
       "value": "<h1>Matrix Explorer (Top 50 terms)</h1><hr style='height:2px;border-width:0;color:gray;background-color:gray'>"
      }
     },
     "14f2ce95d1b14250aa92e7ee4ff4dc8b": {
      "model_module": "@jupyter-widgets/controls",
      "model_module_version": "1.5.0",
      "model_name": "DescriptionStyleModel",
      "state": {
       "description_width": ""
      }
     },
     "15621087afa24a2881a4af1c4bc61254": {
      "model_module": "@jupyter-widgets/base",
      "model_module_version": "1.2.0",
      "model_name": "LayoutModel",
      "state": {}
     },
     "1a57da70a70049168eed4cc0234a0ef6": {
      "model_module": "@jupyter-widgets/controls",
      "model_module_version": "1.5.0",
      "model_name": "VBoxModel",
      "state": {
       "children": [
        "IPY_MODEL_6a660dcafd0948a68c93df1d02c99ab3"
       ],
       "layout": "IPY_MODEL_476968ff6e9240d88d05109ce4e389a0"
      }
     },
     "1bc303884b3b46b8921755a1a6052058": {
      "model_module": "@jupyter-widgets/controls",
      "model_module_version": "1.5.0",
      "model_name": "DescriptionStyleModel",
      "state": {
       "description_width": ""
      }
     },
     "1bebc15540084bfdb686a6f81dc34df5": {
      "model_module": "@jupyter-widgets/base",
      "model_module_version": "1.2.0",
      "model_name": "LayoutModel",
      "state": {}
     },
     "1cf5467c71b04c0eaf621f7a38e889a2": {
      "model_module": "@jupyter-widgets/base",
      "model_module_version": "1.2.0",
      "model_name": "LayoutModel",
      "state": {}
     },
     "1dace040eb694e449bfcffd85da75c6d": {
      "model_module": "@jupyter-widgets/controls",
      "model_module_version": "1.5.0",
      "model_name": "VBoxModel",
      "state": {
       "children": [
        "IPY_MODEL_a72e38b94c64488fbd6057599e9a943b",
        "IPY_MODEL_5b732716ec664886b2c11602bfa508ba"
       ],
       "layout": "IPY_MODEL_8d2217dee4504747b85be569c2d9f856"
      }
     },
     "232fcfa6e1e843deb791116e05a6ac19": {
      "model_module": "@jupyter-widgets/controls",
      "model_module_version": "1.5.0",
      "model_name": "HTMLModel",
      "state": {
       "layout": "IPY_MODEL_9ae087f0121541eb8c831eeba24e0927",
       "style": "IPY_MODEL_b7227b463f8b4da2b8f3f6a505bfcd45",
       "value": "<pre>                   Title: Why farm the city? Theorizing urban agriculture through a lens of metabolic rift<br>                 Authors: McClintock N<br>         Author Keywords: alienation<br>                          commodification<br>                          metabolism<br>                          scale<br>                          the commons<br>                          urban farming<br>Author Keywords (Cleaned): alienation<br>                          commodification<br>                          metabolism<br>                          scale<br>                          the commons<br>                          urban farming<br>            Source title: Cambridge Journal of Regions, Economy and Society<br>                    Year: 2010<br>               Countries: United States<br>            Institutions: department of geography<br>                Keywords: alienation<br>                          commodification<br>                          metabolism<br>                          scale<br>                          the commons<br>                          urban farming<br></pre>"
      }
     },
     "2966525c368a4b02a863ae84aff4b9e8": {
      "model_module": "@jupyter-widgets/controls",
      "model_module_version": "1.5.0",
      "model_name": "DescriptionStyleModel",
      "state": {
       "description_width": ""
      }
     },
     "2a4f0d266e9245f8a13fcb9ffb133e84": {
      "model_module": "@jupyter-widgets/base",
      "model_module_version": "1.2.0",
      "model_name": "LayoutModel",
      "state": {}
     },
     "300c053b9e39451c92c8f73055deb56d": {
      "model_module": "@jupyter-widgets/controls",
      "model_module_version": "1.5.0",
      "model_name": "HTMLModel",
      "state": {
       "layout": "IPY_MODEL_9b59162131bd4e63892085b7d3061607",
       "style": "IPY_MODEL_ae01f09ed0b74b618bb420241235db59",
       "value": "<pre>                   Title: Drivers of plant biodiversity and ecosystem service production in home gardens across the Beijing Municipality of China<br>                 Authors: Clarke LW<br>                          Li L<br>                          Jenerette GD<br>                          Yu Z<br>         Author Keywords: agriculture<br>                          biodiversity<br>                          ecosystem services<br>                          food security<br>                          socioeconomics<br>                          species-area relationship<br>Author Keywords (Cleaned): agriculture<br>                          biodiversity<br>                          ecosystem service<br>                          food security<br>                          socioeconomics<br>                          species-area relationship<br>            Source title: Urban Ecosystems<br>                    Year: 2014<br>               Countries: China<br>                          United States<br>            Institutions: college of agricultural resources and environmental sciences<br>                          department of botany and plant sciences<br>                Keywords: agriculture<br>                          biodiversity<br>                          ecosystem services<br>                          food security<br>                          socioeconomics<br>                          species-area relationship<br></pre>"
      }
     },
     "3145333c930e402f8468aece4184782b": {
      "model_module": "@jupyter-widgets/controls",
      "model_module_version": "1.5.0",
      "model_name": "VBoxModel",
      "state": {
       "children": [
        "IPY_MODEL_0464c6dd413647a58a7a4e2ccd034e30",
        "IPY_MODEL_3a309c63863d4a7a8685f55353a6d4e9"
       ],
       "layout": "IPY_MODEL_1005f455c120426089b2b20a1f0152b8"
      }
     },
     "31515df4e65b450f819d43bf1626a3f3": {
      "model_module": "@jupyter-widgets/controls",
      "model_module_version": "1.5.0",
      "model_name": "DescriptionStyleModel",
      "state": {
       "description_width": ""
      }
     },
     "33daa3803dba4ec8b2e9dbb7f0936990": {
      "model_module": "@jupyter-widgets/base",
      "model_module_version": "1.2.0",
      "model_name": "LayoutModel",
      "state": {}
     },
     "3a309c63863d4a7a8685f55353a6d4e9": {
      "model_module": "@jupyter-widgets/controls",
      "model_module_version": "1.5.0",
      "model_name": "DropdownModel",
      "state": {
       "_options_labels": [
        "Author Keywords",
        "Author Keywords (Cleaned)",
        "Authors",
        "Countries",
        "Country 1st",
        "Index Keywords",
        "Index Keywords (Cleaned)",
        "Institution 1st",
        "Institutions",
        "Keywords",
        "Source title",
        "Title",
        "Year"
       ],
       "index": 0,
       "layout": "IPY_MODEL_b9c9c02b06e541feb442f245bc35daf9",
       "style": "IPY_MODEL_3cbc31fbd84b44fca8ef8829e22814dd"
      }
     },
     "3cbc31fbd84b44fca8ef8829e22814dd": {
      "model_module": "@jupyter-widgets/controls",
      "model_module_version": "1.5.0",
      "model_name": "DescriptionStyleModel",
      "state": {
       "description_width": ""
      }
     },
     "3d8ea045e8d44ec596c473be62e7b22f": {
      "model_module": "@jupyter-widgets/controls",
      "model_module_version": "1.5.0",
      "model_name": "LabelModel",
      "state": {
       "layout": "IPY_MODEL_2a4f0d266e9245f8a13fcb9ffb133e84",
       "style": "IPY_MODEL_5d7337b2211143c4ab6ef5628ab61bbb",
       "value": "Title:"
      }
     },
     "3de9747e7917480fbd8a8d631f02f5cc": {
      "model_module": "@jupyter-widgets/base",
      "model_module_version": "1.2.0",
      "model_name": "LayoutModel",
      "state": {}
     },
     "3f294a8782c144848dc17ffe1e25ea40": {
      "model_module": "@jupyter-widgets/base",
      "model_module_version": "1.2.0",
      "model_name": "LayoutModel",
      "state": {}
     },
     "410f55c0a52549fc928d4cf4f65b12c4": {
      "model_module": "@jupyter-widgets/base",
      "model_module_version": "1.2.0",
      "model_name": "LayoutModel",
      "state": {}
     },
     "43f4f5f086ed440b9a1d4e73f655d183": {
      "model_module": "@jupyter-widgets/controls",
      "model_module_version": "1.5.0",
      "model_name": "DescriptionStyleModel",
      "state": {
       "description_width": ""
      }
     },
     "476968ff6e9240d88d05109ce4e389a0": {
      "model_module": "@jupyter-widgets/base",
      "model_module_version": "1.2.0",
      "model_name": "LayoutModel",
      "state": {
       "grid_area": "widget007"
      }
     },
     "491de71bf45a4383aa6c28834c0f21bc": {
      "model_module": "@jupyter-widgets/controls",
      "model_module_version": "1.5.0",
      "model_name": "LabelModel",
      "state": {
       "layout": "IPY_MODEL_a397198789df41489d71b771862ee02f",
       "style": "IPY_MODEL_b879303994ed44f5910d944c02ce25a8",
       "value": "Term in By column:"
      }
     },
     "4f28c5ac8c5c46fe9616092ceb3f7fd9": {
      "model_module": "@jupyter-widgets/controls",
      "model_module_version": "1.5.0",
      "model_name": "HTMLModel",
      "state": {
       "layout": "IPY_MODEL_03459c3388d443c98eb2e8c681ce0e44",
       "style": "IPY_MODEL_14f2ce95d1b14250aa92e7ee4ff4dc8b",
       "value": "<pre>                   Title: Energy, water and nutrient impacts of California-grown vegetables compared to controlled environmental agriculture systems in Atlanta, GA<br>                 Authors: Van Ginkel SW<br>                          Igou T<br>                          Chen Y<br>         Author Keywords: agriculture<br>                          aquaponics<br>                          controlled environment agriculture<br>                          few<br>                          food, energy, water nexus<br>                          hydroponics<br>                          low impact development<br>                          nutrient recovery<br>                          resilience<br>                          sustainability<br>                          urban farming<br>                          urban resource management<br>          Index Keywords: agriculture<br>                          energy utilization<br>                          eutrophication<br>                          fruits<br>                          nitrogen<br>                          nutrients<br>                          sustainable development<br>                          aquaponics<br>                          controlled environment agricultures<br>                          hydroponics<br>                          low impact development<br>                          nutrient recovery<br>                          resilience<br>                          resource management<br>                          urban farming<br>                          vegetables<br>                          nitrogen<br>                          rain<br>                          water<br>                          energy resource<br>                          fruit<br>                          hydroponics<br>                          nutrient<br>                          resource management<br>                          sustainability<br>                          urban agriculture<br>                          vegetable<br>                          water resource<br>                          agricultural procedures<br>                          aquaponics<br>                          article<br>                          california<br>                          controlled environment agriculture<br>                          controlled study<br>                          energy<br>                          energy consumption<br>                          eutrophication<br>                          food industry<br>                          fruit<br>                          georgia (u.s.)<br>                          hydroponics<br>                          intermethod comparison<br>                          nitrogen utilization<br>                          nutrient<br>                          plant growth<br>                          plant water use<br>                          plant yield<br>                          runoff<br>                          vegetable<br>                          waste water<br>                          water supply<br>                          atlanta<br>                          georgia<br>                          united states<br>Author Keywords (Cleaned): agriculture<br>                          aquaponic<br>                          controlled environment agriculture<br>                          few<br>                          food, energy, water nexus<br>                          hydroponic<br>                          low impact development<br>                          nutrient recovery<br>                          resilience<br>                          sustainability<br>                          urban farming<br>                          urban resource management<br>Index Keywords (Cleaned): agriculture<br>                          energy utilization<br>                          eutrophication<br>                          fruit<br>                          nitrogen<br>                          nutrient<br>                          sustainable development<br>                          aquaponic<br>                          controlled environment agriculture<br>                          hydroponic<br>                          low impact development<br>                          nutrient recovery<br>                          resilience<br>                          resource management<br>                          urban farming<br>                          vegetable<br>                          nitrogen<br>                          rain<br>                          water<br>                          energy resource<br>                          fruit<br>                          hydroponic<br>                          nutrient<br>                          resource management<br>                          sustainability<br>                          urban agriculture<br>                          vegetable<br>                          water resource<br>                          agricultural procedures<br>                          aquaponic<br>                          article<br>                          california<br>                          controlled environment agriculture<br>                          controlled study<br>                          energy<br>                          energy consumption<br>                          eutrophication<br>                          food industry<br>                          fruit<br>                          georgia (u.s.)<br>                          hydroponic<br>                          intermethod comparison<br>                          nitrogen utilization<br>                          nutrient<br>                          plant growth<br>                          plant water use<br>                          plant yield<br>                          runoff<br>                          vegetable<br>                          waste water<br>                          water supply<br>                          atlanta<br>                          georgia<br>                          united states<br>            Source title: Resources, Conservation and Recycling<br>                    Year: 2017<br>               Countries: United States<br>            Institutions: school of civil and environmental engineering<br>                Keywords: agricultural procedures<br>                          agriculture<br>                          aquaponics<br>                          article<br>                          atlanta<br>                          california<br>                          controlled environment agriculture<br>                          controlled environment agricultures<br>                          controlled study<br>                          energy<br>                          energy consumption<br>                          energy resource<br>                          energy utilization<br>                          eutrophication<br>                          few<br>                          food industry<br>                          food, energy, water nexus<br>                          fruit<br>                          fruits<br>                          georgia<br>                          georgia (u.s.)<br>                          hydroponics<br>                          intermethod comparison<br>                          low impact development<br>                          nitrogen<br>                          nitrogen utilization<br>                          nutrient<br>                          nutrient recovery<br>                          nutrients<br>                          plant growth<br>                          plant water use<br>                          plant yield<br>                          rain<br>                          resilience<br>                          resource management<br>                          runoff<br>                          sustainability<br>                          sustainable development<br>                          united states<br>                          urban agriculture<br>                          urban farming<br>                          urban resource management<br>                          vegetable<br>                          vegetables<br>                          waste water<br>                          water<br>                          water resource<br>                          water supply<br></pre>"
      }
     },
     "4f81c79f894642ee96463f3ef00c77f4": {
      "model_module": "@jupyter-widgets/controls",
      "model_module_version": "1.5.0",
      "model_name": "DescriptionStyleModel",
      "state": {
       "description_width": ""
      }
     },
     "520b24e2bfc44301a6b08badd024bd42": {
      "model_module": "@jupyter-widgets/base",
      "model_module_version": "1.2.0",
      "model_name": "LayoutModel",
      "state": {}
     },
     "550fdb8ebc9f44e1bcdbcc593f23712a": {
      "model_module": "@jupyter-widgets/controls",
      "model_module_version": "1.5.0",
      "model_name": "DropdownModel",
      "state": {
       "_options_labels": [
        "agriculture",
        "aquaculture",
        "aquaponics",
        "automation and control",
        "biofilter",
        "controlled environment agriculture",
        "ecology",
        "engineering",
        "few",
        "food production",
        "food sustainability",
        "food, energy, water nexus",
        "grow lights",
        "hydroponics",
        "internet of things",
        "iot",
        "low impact development",
        "nutrient cycling",
        "nutrient recovery",
        "nutrient solubilization",
        "pest management",
        "ph stabilization",
        "phosphorus",
        "recirculating aquaculture systems (ras)",
        "resilience",
        "sustainability",
        "sustainable farming.",
        "urban farming",
        "urban resource management",
        "water reuse",
        "water scarcity"
       ],
       "index": 0,
       "layout": "IPY_MODEL_e98d84a1bb3746dc8b3992a2b5b21e7b",
       "style": "IPY_MODEL_e44df0f80a064e4d8b5f043ccb1ec24c"
      }
     },
     "58fe5241dda04424ab92f7dcaa75f094": {
      "model_module": "@jupyter-widgets/base",
      "model_module_version": "1.2.0",
      "model_name": "LayoutModel",
      "state": {
       "grid_area": "widget001"
      }
     },
     "5b732716ec664886b2c11602bfa508ba": {
      "model_module": "@jupyter-widgets/controls",
      "model_module_version": "1.5.0",
      "model_name": "DropdownModel",
      "state": {
       "_options_labels": [
        "Author Keywords",
        "Author Keywords (Cleaned)",
        "Authors",
        "Countries",
        "Country 1st",
        "Index Keywords",
        "Index Keywords (Cleaned)",
        "Institution 1st",
        "Institutions",
        "Keywords",
        "Source title",
        "Title",
        "Year"
       ],
       "index": 0,
       "layout": "IPY_MODEL_6b99845833a14655ba250425c56e50c1",
       "style": "IPY_MODEL_783bc1e56aa74bf594296869facddff4"
      }
     },
     "5d7337b2211143c4ab6ef5628ab61bbb": {
      "model_module": "@jupyter-widgets/controls",
      "model_module_version": "1.5.0",
      "model_name": "DescriptionStyleModel",
      "state": {
       "description_width": ""
      }
     },
     "5e614a11be434dbe8e29ad027491ef18": {
      "model_module": "@jupyter-widgets/base",
      "model_module_version": "1.2.0",
      "model_name": "LayoutModel",
      "state": {
       "width": "200px"
      }
     },
     "63a9bf7c0f094e3a8d348c70b733e21f": {
      "model_module": "@jupyter-widgets/controls",
      "model_module_version": "1.5.0",
      "model_name": "DescriptionStyleModel",
      "state": {
       "description_width": ""
      }
     },
     "6a660dcafd0948a68c93df1d02c99ab3": {
      "model_module": "@jupyter-widgets/output",
      "model_module_version": "1.0.0",
      "model_name": "OutputModel",
      "state": {
       "layout": "IPY_MODEL_6ef249f34604433498f9841a8ed648f7",
       "outputs": [
        {
         "data": {
          "application/vnd.jupyter.widget-view+json": {
           "model_id": "4f28c5ac8c5c46fe9616092ceb3f7fd9",
           "version_major": 2,
           "version_minor": 0
          },
          "text/plain": "HTML(value='<pre>                   Title: Energy, water and nutrient impacts of California-grown vegetables c…"
         },
         "metadata": {},
         "output_type": "display_data"
        }
       ]
      }
     },
     "6b2779c4ecdc41a69b9b2687a344f6dd": {
      "model_module": "@jupyter-widgets/controls",
      "model_module_version": "1.5.0",
      "model_name": "DescriptionStyleModel",
      "state": {
       "description_width": ""
      }
     },
     "6b99845833a14655ba250425c56e50c1": {
      "model_module": "@jupyter-widgets/base",
      "model_module_version": "1.2.0",
      "model_name": "LayoutModel",
      "state": {
       "width": "200px"
      }
     },
     "6ef249f34604433498f9841a8ed648f7": {
      "model_module": "@jupyter-widgets/base",
      "model_module_version": "1.2.0",
      "model_name": "LayoutModel",
      "state": {}
     },
     "70fa0a276c8249b6a45b4b70dc6722cb": {
      "model_module": "@jupyter-widgets/output",
      "model_module_version": "1.0.0",
      "model_name": "OutputModel",
      "state": {
       "layout": "IPY_MODEL_3de9747e7917480fbd8a8d631f02f5cc"
      }
     },
     "783bc1e56aa74bf594296869facddff4": {
      "model_module": "@jupyter-widgets/controls",
      "model_module_version": "1.5.0",
      "model_name": "DescriptionStyleModel",
      "state": {
       "description_width": ""
      }
     },
     "7b95b6a6d12b4d89876b52d5110ef69d": {
      "model_module": "@jupyter-widgets/controls",
      "model_module_version": "1.5.0",
      "model_name": "VBoxModel",
      "state": {
       "children": [
        "IPY_MODEL_3d8ea045e8d44ec596c473be62e7b22f",
        "IPY_MODEL_d85a1ec66f3544da8a8567595c399cef"
       ],
       "layout": "IPY_MODEL_00de96f9cc1d4021987864a191bd166c"
      }
     },
     "7da2a41d277d463aaf04fde9df618e45": {
      "model_module": "@jupyter-widgets/controls",
      "model_module_version": "1.5.0",
      "model_name": "HTMLModel",
      "state": {
       "layout": "IPY_MODEL_3f294a8782c144848dc17ffe1e25ea40",
       "style": "IPY_MODEL_878923e23ad141edb5c1ff2b63019547",
       "value": "<pre>                   Title: Drivers of plant biodiversity and ecosystem service production in home gardens across the Beijing Municipality of China<br>                 Authors: Clarke LW<br>                          Li L<br>                          Jenerette GD<br>                          Yu Z<br>         Author Keywords: agriculture<br>                          biodiversity<br>                          ecosystem services<br>                          food security<br>                          socioeconomics<br>                          species-area relationship<br>Author Keywords (Cleaned): agriculture<br>                          biodiversity<br>                          ecosystem service<br>                          food security<br>                          socioeconomics<br>                          species-area relationship<br>            Source title: Urban Ecosystems<br>                    Year: 2014<br>               Countries: China<br>                          United States<br>            Institutions: college of agricultural resources and environmental sciences<br>                          department of botany and plant sciences<br>                Keywords: agriculture<br>                          biodiversity<br>                          ecosystem services<br>                          food security<br>                          socioeconomics<br>                          species-area relationship<br></pre>"
      }
     },
     "7fa42977955d4ee8a6f2ccc9fcd64017": {
      "model_module": "@jupyter-widgets/controls",
      "model_module_version": "1.5.0",
      "model_name": "HTMLModel",
      "state": {
       "layout": "IPY_MODEL_1cf5467c71b04c0eaf621f7a38e889a2",
       "style": "IPY_MODEL_2966525c368a4b02a863ae84aff4b9e8",
       "value": "<pre>                   Title: Drivers of plant biodiversity and ecosystem service production in home gardens across the Beijing Municipality of China<br>                 Authors: Clarke LW<br>                          Li L<br>                          Jenerette GD<br>                          Yu Z<br>         Author Keywords: agriculture<br>                          biodiversity<br>                          ecosystem services<br>                          food security<br>                          socioeconomics<br>                          species-area relationship<br>Author Keywords (Cleaned): agriculture<br>                          biodiversity<br>                          ecosystem service<br>                          food security<br>                          socioeconomics<br>                          species-area relationship<br>            Source title: Urban Ecosystems<br>                    Year: 2014<br>               Countries: China<br>                          United States<br>            Institutions: college of agricultural resources and environmental sciences<br>                          department of botany and plant sciences<br>                Keywords: agriculture<br>                          biodiversity<br>                          ecosystem services<br>                          food security<br>                          socioeconomics<br>                          species-area relationship<br></pre>"
      }
     },
     "81889c366435441bae8bcd4208f3f05f": {
      "model_module": "@jupyter-widgets/base",
      "model_module_version": "1.2.0",
      "model_name": "LayoutModel",
      "state": {}
     },
     "87112562dab447f2a5ec38253f7ece15": {
      "model_module": "@jupyter-widgets/controls",
      "model_module_version": "1.5.0",
      "model_name": "LabelModel",
      "state": {
       "layout": "IPY_MODEL_520b24e2bfc44301a6b08badd024bd42",
       "style": "IPY_MODEL_fcfdbd67377c42459a0d6c00aba71a6b",
       "value": "Term in Column:"
      }
     },
     "878923e23ad141edb5c1ff2b63019547": {
      "model_module": "@jupyter-widgets/controls",
      "model_module_version": "1.5.0",
      "model_name": "DescriptionStyleModel",
      "state": {
       "description_width": ""
      }
     },
     "88c7c278ee8a400a9d76ad875335b3dc": {
      "model_module": "@jupyter-widgets/base",
      "model_module_version": "1.2.0",
      "model_name": "LayoutModel",
      "state": {}
     },
     "8d2217dee4504747b85be569c2d9f856": {
      "model_module": "@jupyter-widgets/base",
      "model_module_version": "1.2.0",
      "model_name": "LayoutModel",
      "state": {
       "grid_area": "widget002"
      }
     },
     "8df71bc8927f4f27afa72b691952eb4d": {
      "model_module": "@jupyter-widgets/controls",
      "model_module_version": "1.5.0",
      "model_name": "HTMLModel",
      "state": {
       "layout": "IPY_MODEL_81889c366435441bae8bcd4208f3f05f",
       "style": "IPY_MODEL_4f81c79f894642ee96463f3ef00c77f4",
       "value": "<pre>                   Title: Why farm the city? Theorizing urban agriculture through a lens of metabolic rift<br>                 Authors: McClintock N<br>         Author Keywords: alienation<br>                          commodification<br>                          metabolism<br>                          scale<br>                          the commons<br>                          urban farming<br>Author Keywords (Cleaned): alienation<br>                          commodification<br>                          metabolism<br>                          scale<br>                          the commons<br>                          urban farming<br>            Source title: Cambridge Journal of Regions, Economy and Society<br>                    Year: 2010<br>               Countries: United States<br>            Institutions: department of geography<br>                Keywords: alienation<br>                          commodification<br>                          metabolism<br>                          scale<br>                          the commons<br>                          urban farming<br></pre>"
      }
     },
     "8ffde47d61b0436bacbcb4d66fa73bbf": {
      "model_module": "@jupyter-widgets/controls",
      "model_module_version": "1.5.0",
      "model_name": "DescriptionStyleModel",
      "state": {
       "description_width": ""
      }
     },
     "98a240dd1b10469ba75a249eac163e45": {
      "model_module": "@jupyter-widgets/controls",
      "model_module_version": "1.5.0",
      "model_name": "DescriptionStyleModel",
      "state": {
       "description_width": ""
      }
     },
     "9ae087f0121541eb8c831eeba24e0927": {
      "model_module": "@jupyter-widgets/base",
      "model_module_version": "1.2.0",
      "model_name": "LayoutModel",
      "state": {}
     },
     "9b59162131bd4e63892085b7d3061607": {
      "model_module": "@jupyter-widgets/base",
      "model_module_version": "1.2.0",
      "model_name": "LayoutModel",
      "state": {}
     },
     "a397198789df41489d71b771862ee02f": {
      "model_module": "@jupyter-widgets/base",
      "model_module_version": "1.2.0",
      "model_name": "LayoutModel",
      "state": {}
     },
     "a72e38b94c64488fbd6057599e9a943b": {
      "model_module": "@jupyter-widgets/controls",
      "model_module_version": "1.5.0",
      "model_name": "LabelModel",
      "state": {
       "layout": "IPY_MODEL_1bebc15540084bfdb686a6f81dc34df5",
       "style": "IPY_MODEL_43f4f5f086ed440b9a1d4e73f655d183",
       "value": "Column:"
      }
     },
     "a836d1d75378493d9d30f55be9b5b3c1": {
      "model_module": "@jupyter-widgets/controls",
      "model_module_version": "1.5.0",
      "model_name": "HTMLModel",
      "state": {
       "layout": "IPY_MODEL_88c7c278ee8a400a9d76ad875335b3dc",
       "style": "IPY_MODEL_e02e4eb268884cc1bb0be63181c1aeca",
       "value": "<pre>                   Title: Energy, water and nutrient impacts of California-grown vegetables compared to controlled environmental agriculture systems in Atlanta, GA<br>                 Authors: Van Ginkel SW<br>                          Igou T<br>                          Chen Y<br>         Author Keywords: agriculture<br>                          aquaponics<br>                          controlled environment agriculture<br>                          few<br>                          food, energy, water nexus<br>                          hydroponics<br>                          low impact development<br>                          nutrient recovery<br>                          resilience<br>                          sustainability<br>                          urban farming<br>                          urban resource management<br>          Index Keywords: agriculture<br>                          energy utilization<br>                          eutrophication<br>                          fruits<br>                          nitrogen<br>                          nutrients<br>                          sustainable development<br>                          aquaponics<br>                          controlled environment agricultures<br>                          hydroponics<br>                          low impact development<br>                          nutrient recovery<br>                          resilience<br>                          resource management<br>                          urban farming<br>                          vegetables<br>                          nitrogen<br>                          rain<br>                          water<br>                          energy resource<br>                          fruit<br>                          hydroponics<br>                          nutrient<br>                          resource management<br>                          sustainability<br>                          urban agriculture<br>                          vegetable<br>                          water resource<br>                          agricultural procedures<br>                          aquaponics<br>                          article<br>                          california<br>                          controlled environment agriculture<br>                          controlled study<br>                          energy<br>                          energy consumption<br>                          eutrophication<br>                          food industry<br>                          fruit<br>                          georgia (u.s.)<br>                          hydroponics<br>                          intermethod comparison<br>                          nitrogen utilization<br>                          nutrient<br>                          plant growth<br>                          plant water use<br>                          plant yield<br>                          runoff<br>                          vegetable<br>                          waste water<br>                          water supply<br>                          atlanta<br>                          georgia<br>                          united states<br>Author Keywords (Cleaned): agriculture<br>                          aquaponic<br>                          controlled environment agriculture<br>                          few<br>                          food, energy, water nexus<br>                          hydroponic<br>                          low impact development<br>                          nutrient recovery<br>                          resilience<br>                          sustainability<br>                          urban farming<br>                          urban resource management<br>Index Keywords (Cleaned): agriculture<br>                          energy utilization<br>                          eutrophication<br>                          fruit<br>                          nitrogen<br>                          nutrient<br>                          sustainable development<br>                          aquaponic<br>                          controlled environment agriculture<br>                          hydroponic<br>                          low impact development<br>                          nutrient recovery<br>                          resilience<br>                          resource management<br>                          urban farming<br>                          vegetable<br>                          nitrogen<br>                          rain<br>                          water<br>                          energy resource<br>                          fruit<br>                          hydroponic<br>                          nutrient<br>                          resource management<br>                          sustainability<br>                          urban agriculture<br>                          vegetable<br>                          water resource<br>                          agricultural procedures<br>                          aquaponic<br>                          article<br>                          california<br>                          controlled environment agriculture<br>                          controlled study<br>                          energy<br>                          energy consumption<br>                          eutrophication<br>                          food industry<br>                          fruit<br>                          georgia (u.s.)<br>                          hydroponic<br>                          intermethod comparison<br>                          nitrogen utilization<br>                          nutrient<br>                          plant growth<br>                          plant water use<br>                          plant yield<br>                          runoff<br>                          vegetable<br>                          waste water<br>                          water supply<br>                          atlanta<br>                          georgia<br>                          united states<br>            Source title: Resources, Conservation and Recycling<br>                    Year: 2017<br>               Countries: United States<br>            Institutions: school of civil and environmental engineering<br>                Keywords: agricultural procedures<br>                          agriculture<br>                          aquaponics<br>                          article<br>                          atlanta<br>                          california<br>                          controlled environment agriculture<br>                          controlled environment agricultures<br>                          controlled study<br>                          energy<br>                          energy consumption<br>                          energy resource<br>                          energy utilization<br>                          eutrophication<br>                          few<br>                          food industry<br>                          food, energy, water nexus<br>                          fruit<br>                          fruits<br>                          georgia<br>                          georgia (u.s.)<br>                          hydroponics<br>                          intermethod comparison<br>                          low impact development<br>                          nitrogen<br>                          nitrogen utilization<br>                          nutrient<br>                          nutrient recovery<br>                          nutrients<br>                          plant growth<br>                          plant water use<br>                          plant yield<br>                          rain<br>                          resilience<br>                          resource management<br>                          runoff<br>                          sustainability<br>                          sustainable development<br>                          united states<br>                          urban agriculture<br>                          urban farming<br>                          urban resource management<br>                          vegetable<br>                          vegetables<br>                          waste water<br>                          water<br>                          water resource<br>                          water supply<br></pre>"
      }
     },
     "ae01f09ed0b74b618bb420241235db59": {
      "model_module": "@jupyter-widgets/controls",
      "model_module_version": "1.5.0",
      "model_name": "DescriptionStyleModel",
      "state": {
       "description_width": ""
      }
     },
     "af33fec7754d45f3a3a39f601e28a8fd": {
      "model_module": "@jupyter-widgets/controls",
      "model_module_version": "1.5.0",
      "model_name": "HTMLModel",
      "state": {
       "layout": "IPY_MODEL_410f55c0a52549fc928d4cf4f65b12c4",
       "style": "IPY_MODEL_c5e9db0ce0a443ee9102ca86d37d1444",
       "value": "<pre>                   Title: Energy, water and nutrient impacts of California-grown vegetables compared to controlled environmental agriculture systems in Atlanta, GA<br>                 Authors: Van Ginkel SW<br>                          Igou T<br>                          Chen Y<br>         Author Keywords: agriculture<br>                          aquaponics<br>                          controlled environment agriculture<br>                          few<br>                          food, energy, water nexus<br>                          hydroponics<br>                          low impact development<br>                          nutrient recovery<br>                          resilience<br>                          sustainability<br>                          urban farming<br>                          urban resource management<br>          Index Keywords: agriculture<br>                          energy utilization<br>                          eutrophication<br>                          fruits<br>                          nitrogen<br>                          nutrients<br>                          sustainable development<br>                          aquaponics<br>                          controlled environment agricultures<br>                          hydroponics<br>                          low impact development<br>                          nutrient recovery<br>                          resilience<br>                          resource management<br>                          urban farming<br>                          vegetables<br>                          nitrogen<br>                          rain<br>                          water<br>                          energy resource<br>                          fruit<br>                          hydroponics<br>                          nutrient<br>                          resource management<br>                          sustainability<br>                          urban agriculture<br>                          vegetable<br>                          water resource<br>                          agricultural procedures<br>                          aquaponics<br>                          article<br>                          california<br>                          controlled environment agriculture<br>                          controlled study<br>                          energy<br>                          energy consumption<br>                          eutrophication<br>                          food industry<br>                          fruit<br>                          georgia (u.s.)<br>                          hydroponics<br>                          intermethod comparison<br>                          nitrogen utilization<br>                          nutrient<br>                          plant growth<br>                          plant water use<br>                          plant yield<br>                          runoff<br>                          vegetable<br>                          waste water<br>                          water supply<br>                          atlanta<br>                          georgia<br>                          united states<br>Author Keywords (Cleaned): agriculture<br>                          aquaponic<br>                          controlled environment agriculture<br>                          few<br>                          food, energy, water nexus<br>                          hydroponic<br>                          low impact development<br>                          nutrient recovery<br>                          resilience<br>                          sustainability<br>                          urban farming<br>                          urban resource management<br>Index Keywords (Cleaned): agriculture<br>                          energy utilization<br>                          eutrophication<br>                          fruit<br>                          nitrogen<br>                          nutrient<br>                          sustainable development<br>                          aquaponic<br>                          controlled environment agriculture<br>                          hydroponic<br>                          low impact development<br>                          nutrient recovery<br>                          resilience<br>                          resource management<br>                          urban farming<br>                          vegetable<br>                          nitrogen<br>                          rain<br>                          water<br>                          energy resource<br>                          fruit<br>                          hydroponic<br>                          nutrient<br>                          resource management<br>                          sustainability<br>                          urban agriculture<br>                          vegetable<br>                          water resource<br>                          agricultural procedures<br>                          aquaponic<br>                          article<br>                          california<br>                          controlled environment agriculture<br>                          controlled study<br>                          energy<br>                          energy consumption<br>                          eutrophication<br>                          food industry<br>                          fruit<br>                          georgia (u.s.)<br>                          hydroponic<br>                          intermethod comparison<br>                          nitrogen utilization<br>                          nutrient<br>                          plant growth<br>                          plant water use<br>                          plant yield<br>                          runoff<br>                          vegetable<br>                          waste water<br>                          water supply<br>                          atlanta<br>                          georgia<br>                          united states<br>            Source title: Resources, Conservation and Recycling<br>                    Year: 2017<br>               Countries: United States<br>            Institutions: school of civil and environmental engineering<br>                Keywords: agricultural procedures<br>                          agriculture<br>                          aquaponics<br>                          article<br>                          atlanta<br>                          california<br>                          controlled environment agriculture<br>                          controlled environment agricultures<br>                          controlled study<br>                          energy<br>                          energy consumption<br>                          energy resource<br>                          energy utilization<br>                          eutrophication<br>                          few<br>                          food industry<br>                          food, energy, water nexus<br>                          fruit<br>                          fruits<br>                          georgia<br>                          georgia (u.s.)<br>                          hydroponics<br>                          intermethod comparison<br>                          low impact development<br>                          nitrogen<br>                          nitrogen utilization<br>                          nutrient<br>                          nutrient recovery<br>                          nutrients<br>                          plant growth<br>                          plant water use<br>                          plant yield<br>                          rain<br>                          resilience<br>                          resource management<br>                          runoff<br>                          sustainability<br>                          sustainable development<br>                          united states<br>                          urban agriculture<br>                          urban farming<br>                          urban resource management<br>                          vegetable<br>                          vegetables<br>                          waste water<br>                          water<br>                          water resource<br>                          water supply<br></pre>"
      }
     },
     "b7227b463f8b4da2b8f3f6a505bfcd45": {
      "model_module": "@jupyter-widgets/controls",
      "model_module_version": "1.5.0",
      "model_name": "DescriptionStyleModel",
      "state": {
       "description_width": ""
      }
     },
     "b879303994ed44f5910d944c02ce25a8": {
      "model_module": "@jupyter-widgets/controls",
      "model_module_version": "1.5.0",
      "model_name": "DescriptionStyleModel",
      "state": {
       "description_width": ""
      }
     },
     "b87df6543cb940c7b5c5a4632f408f58": {
      "model_module": "@jupyter-widgets/controls",
      "model_module_version": "1.5.0",
      "model_name": "HTMLModel",
      "state": {
       "layout": "IPY_MODEL_15621087afa24a2881a4af1c4bc61254",
       "style": "IPY_MODEL_8ffde47d61b0436bacbcb4d66fa73bbf",
       "value": "<pre>                   Title: Why farm the city? Theorizing urban agriculture through a lens of metabolic rift<br>                 Authors: McClintock N<br>         Author Keywords: alienation<br>                          commodification<br>                          metabolism<br>                          scale<br>                          the commons<br>                          urban farming<br>Author Keywords (Cleaned): alienation<br>                          commodification<br>                          metabolism<br>                          scale<br>                          the commons<br>                          urban farming<br>            Source title: Cambridge Journal of Regions, Economy and Society<br>                    Year: 2010<br>               Countries: United States<br>            Institutions: department of geography<br>                Keywords: alienation<br>                          commodification<br>                          metabolism<br>                          scale<br>                          the commons<br>                          urban farming<br></pre>"
      }
     },
     "b9c9c02b06e541feb442f245bc35daf9": {
      "model_module": "@jupyter-widgets/base",
      "model_module_version": "1.2.0",
      "model_name": "LayoutModel",
      "state": {
       "width": "200px"
      }
     },
     "bd2db1ab89314cda91a081f680409d43": {
      "model_module": "@jupyter-widgets/controls",
      "model_module_version": "1.5.0",
      "model_name": "GridBoxModel",
      "state": {
       "children": [
        "IPY_MODEL_14814e0bb9ba42a28afc7c3ac141f9cb",
        "IPY_MODEL_1dace040eb694e449bfcffd85da75c6d",
        "IPY_MODEL_e77f6dca54824cf09a0ed4978c368011",
        "IPY_MODEL_3145333c930e402f8468aece4184782b",
        "IPY_MODEL_decc21471ac247bd8a155da63d479f27",
        "IPY_MODEL_7b95b6a6d12b4d89876b52d5110ef69d",
        "IPY_MODEL_1a57da70a70049168eed4cc0234a0ef6"
       ],
       "layout": "IPY_MODEL_eb6b007409354038b0fdf04fe1f80296"
      }
     },
     "c5e9db0ce0a443ee9102ca86d37d1444": {
      "model_module": "@jupyter-widgets/controls",
      "model_module_version": "1.5.0",
      "model_name": "DescriptionStyleModel",
      "state": {
       "description_width": ""
      }
     },
     "c617a0ea2e03408fae0b1400acf96d2b": {
      "model_module": "@jupyter-widgets/base",
      "model_module_version": "1.2.0",
      "model_name": "LayoutModel",
      "state": {
       "width": "500px"
      }
     },
     "ce6770052a2a4a5b9c5a4870606029e6": {
      "model_module": "@jupyter-widgets/base",
      "model_module_version": "1.2.0",
      "model_name": "LayoutModel",
      "state": {
       "grid_area": "widget005"
      }
     },
     "d85a1ec66f3544da8a8567595c399cef": {
      "model_module": "@jupyter-widgets/controls",
      "model_module_version": "1.5.0",
      "model_name": "SelectModel",
      "state": {
       "_options_labels": [
        "Energy, water and nutrient impacts of California-grown vegetables compared to controlled environmental agriculture systems in Atlanta, GA"
       ],
       "index": 0,
       "layout": "IPY_MODEL_c617a0ea2e03408fae0b1400acf96d2b",
       "style": "IPY_MODEL_1bc303884b3b46b8921755a1a6052058"
      }
     },
     "decc21471ac247bd8a155da63d479f27": {
      "model_module": "@jupyter-widgets/controls",
      "model_module_version": "1.5.0",
      "model_name": "VBoxModel",
      "state": {
       "children": [
        "IPY_MODEL_491de71bf45a4383aa6c28834c0f21bc",
        "IPY_MODEL_550fdb8ebc9f44e1bcdbcc593f23712a"
       ],
       "layout": "IPY_MODEL_ce6770052a2a4a5b9c5a4870606029e6"
      }
     },
     "e02e4eb268884cc1bb0be63181c1aeca": {
      "model_module": "@jupyter-widgets/controls",
      "model_module_version": "1.5.0",
      "model_name": "DescriptionStyleModel",
      "state": {
       "description_width": ""
      }
     },
     "e44df0f80a064e4d8b5f043ccb1ec24c": {
      "model_module": "@jupyter-widgets/controls",
      "model_module_version": "1.5.0",
      "model_name": "DescriptionStyleModel",
      "state": {
       "description_width": ""
      }
     },
     "e6b8d7f46e0641b2b1b59eea6bfe8c20": {
      "model_module": "@jupyter-widgets/controls",
      "model_module_version": "1.5.0",
      "model_name": "DropdownModel",
      "state": {
       "_options_labels": [
        "agriculture",
        "agriculture and food systems",
        "agricultures and gardens",
        "alienation",
        "allotment gardens",
        "alternative food networks",
        "aquaponics",
        "biodiversity",
        "blue-green infrastructure",
        "business models",
        "circular economy",
        "civic engagement",
        "climate change",
        "commodification",
        "commons",
        "communities of practice",
        "community",
        "community gardening",
        "community gardens",
        "constantinople",
        "critical geography",
        "economics",
        "ecosystem services",
        "environment",
        "environmental justice",
        "environmental learning",
        "extinction of experience",
        "food",
        "food and nutrition security",
        "food city supply",
        "food production",
        "food safety",
        "food security",
        "food-growing",
        "gardening",
        "gender",
        "governance",
        "heavy metals",
        "helminths",
        "hydroponics",
        "innovation",
        "iot",
        "kenya",
        "land use",
        "lead",
        "lettuce",
        "metabolism",
        "neoliberalism",
        "nutrient cycling",
        "peri-urban",
        "peri-urban agriculture",
        "peri-urban farming",
        "phosphorus",
        "place-making",
        "polanyi",
        "poverty",
        "pre-columbian maya",
        "public space",
        "public-access community gardens",
        "resilience",
        "rooftop farming",
        "scale",
        "simplified hydroponics",
        "social justice",
        "social-ecological resilience",
        "soil",
        "sustainability",
        "sustainable development",
        "the commons",
        "urban",
        "urban agriculture",
        "urban farming",
        "urban gardening",
        "urban gardens",
        "urban horticulture",
        "urban planning",
        "urbanization",
        "vegetables",
        "vertical farming",
        "wastewater",
        "water and waste management",
        "west africa",
        "zero-acreage farming"
       ],
       "index": 6,
       "layout": "IPY_MODEL_5e614a11be434dbe8e29ad027491ef18",
       "style": "IPY_MODEL_31515df4e65b450f819d43bf1626a3f3"
      }
     },
     "e77f6dca54824cf09a0ed4978c368011": {
      "model_module": "@jupyter-widgets/controls",
      "model_module_version": "1.5.0",
      "model_name": "VBoxModel",
      "state": {
       "children": [
        "IPY_MODEL_87112562dab447f2a5ec38253f7ece15",
        "IPY_MODEL_e6b8d7f46e0641b2b1b59eea6bfe8c20"
       ],
       "layout": "IPY_MODEL_0d159159595943eabe265246e2502e69"
      }
     },
     "e98d84a1bb3746dc8b3992a2b5b21e7b": {
      "model_module": "@jupyter-widgets/base",
      "model_module_version": "1.2.0",
      "model_name": "LayoutModel",
      "state": {
       "width": "200px"
      }
     },
     "eb6b007409354038b0fdf04fe1f80296": {
      "model_module": "@jupyter-widgets/base",
      "model_module_version": "1.2.0",
      "model_name": "LayoutModel",
      "state": {
       "grid_template_areas": "\"widget001 widget001 widget001 widget001 widget001\"\n\"widget002 widget004 widget006 widget006 widget006\"\n\"widget003 widget005 widget006 widget006 widget006\"\n\"widget007 widget007 widget007 widget007 widget007\"\n\"widget007 widget007 widget007 widget007 widget007\"\n\"widget007 widget007 widget007 widget007 widget007\"\n\"widget007 widget007 widget007 widget007 widget007\"\n\"widget007 widget007 widget007 widget007 widget007\"\n\"widget007 widget007 widget007 widget007 widget007\"\n\"widget007 widget007 widget007 widget007 widget007\"",
       "grid_template_columns": "repeat(5, 1fr)",
       "grid_template_rows": "repeat(10, 1fr)",
       "height": "800px"
      }
     },
     "fcfdbd67377c42459a0d6c00aba71a6b": {
      "model_module": "@jupyter-widgets/controls",
      "model_module_version": "1.5.0",
      "model_name": "DescriptionStyleModel",
      "state": {
       "description_width": ""
      }
     },
     "fe86b505c65849e98f924076ab0b33fc": {
      "model_module": "@jupyter-widgets/base",
      "model_module_version": "1.2.0",
      "model_name": "LayoutModel",
      "state": {}
     }
    },
    "version_major": 2,
    "version_minor": 0
   }
  }
 },
 "nbformat": 4,
 "nbformat_minor": 4
}
