{
 "cells": [
  {
   "cell_type": "code",
   "execution_count": 1,
   "metadata": {},
   "outputs": [
    {
     "name": "stderr",
     "output_type": "stream",
     "text": [
      "2020-06-05 22:37:19,092 - INFO - Renaming and selecting columns ...\n",
      "2020-06-05 22:37:24,840 - INFO - Formatting author names ...\n",
      "2020-06-05 22:37:24,845 - INFO - Disambiguating author names ...\n",
      "2020-06-05 22:37:24,914 - INFO - Removing part of titles in foreing languages ...\n",
      "2020-06-05 22:37:24,918 - INFO - Fusioning author and index keywords ...\n",
      "2020-06-05 22:37:24,930 - INFO - NumExpr defaulting to 8 threads.\n",
      "2020-06-05 22:37:24,954 - INFO - Extracting countries from affiliations ...\n",
      "2020-06-05 22:37:31,272 - INFO - Extracting institutions from affiliations ...\n",
      "2020-06-05 22:37:31,285 - INFO - Extracting country of 1st author ...\n",
      "2020-06-05 22:37:31,291 - INFO - Extracting affiliation of 1st author ...\n",
      "2020-06-05 22:37:31,295 - INFO - Counting number of authors ...\n"
     ]
    }
   ],
   "source": [
    "import pandas as pd\n",
    "import data\n",
    "\n",
    "filepath = \"../data/papers/urban-agriculture.csv\"\n",
    "df = pd.read_csv(filepath)\n",
    "df = data.load_scopus(df)"
   ]
  },
  {
   "cell_type": "code",
   "execution_count": 2,
   "metadata": {},
   "outputs": [
    {
     "data": {
      "application/vnd.jupyter.widget-view+json": {
       "model_id": "a9c110e7b15443c1b326fd19a2cba875",
       "version_major": 2,
       "version_minor": 0
      },
      "text/plain": [
       "AppLayout(children=(HTML(value=\"<h1>Co-occurrence Analysis</h1><hr style='height:2px;border-width:0;color:gray…"
      ]
     },
     "metadata": {},
     "output_type": "display_data"
    }
   ],
   "source": [
    "import co_occurrence\n",
    "\n",
    "co_occurrence.app(df)"
   ]
  },
  {
   "cell_type": "code",
   "execution_count": null,
   "metadata": {},
   "outputs": [],
   "source": []
  },
  {
   "cell_type": "code",
   "execution_count": null,
   "metadata": {},
   "outputs": [],
   "source": []
  },
  {
   "cell_type": "code",
   "execution_count": null,
   "metadata": {},
   "outputs": [],
   "source": []
  },
  {
   "cell_type": "code",
   "execution_count": null,
   "metadata": {},
   "outputs": [],
   "source": []
  },
  {
   "cell_type": "code",
   "execution_count": null,
   "metadata": {},
   "outputs": [],
   "source": [
    "import correlation\n",
    "\n",
    "correlation.app(df)"
   ]
  },
  {
   "cell_type": "code",
   "execution_count": null,
   "metadata": {},
   "outputs": [],
   "source": []
  },
  {
   "cell_type": "code",
   "execution_count": null,
   "metadata": {},
   "outputs": [],
   "source": []
  },
  {
   "cell_type": "code",
   "execution_count": null,
   "metadata": {},
   "outputs": [],
   "source": [
    "data.coverage(df)"
   ]
  },
  {
   "cell_type": "markdown",
   "metadata": {},
   "source": [
    "### Keywords"
   ]
  },
  {
   "cell_type": "code",
   "execution_count": null,
   "metadata": {},
   "outputs": [],
   "source": []
  },
  {
   "cell_type": "markdown",
   "metadata": {},
   "source": [
    "### FindString Dialog Box pag. 69"
   ]
  },
  {
   "cell_type": "code",
   "execution_count": null,
   "metadata": {},
   "outputs": [],
   "source": []
  },
  {
   "cell_type": "markdown",
   "metadata": {},
   "source": [
    "### Cleaning a list pag. 102"
   ]
  },
  {
   "cell_type": "code",
   "execution_count": null,
   "metadata": {},
   "outputs": [],
   "source": []
  },
  {
   "cell_type": "markdown",
   "metadata": {},
   "source": [
    "### Fuzzy match editor pag.126"
   ]
  },
  {
   "cell_type": "code",
   "execution_count": null,
   "metadata": {},
   "outputs": [],
   "source": []
  },
  {
   "cell_type": "markdown",
   "metadata": {},
   "source": [
    "### Stemming And / Stemming Or"
   ]
  },
  {
   "cell_type": "code",
   "execution_count": null,
   "metadata": {},
   "outputs": [],
   "source": []
  },
  {
   "cell_type": "markdown",
   "metadata": {},
   "source": [
    "### APPS"
   ]
  },
  {
   "cell_type": "code",
   "execution_count": null,
   "metadata": {},
   "outputs": [],
   "source": [
    "import techminer.by_year as year\n",
    "year.app(df)"
   ]
  },
  {
   "cell_type": "code",
   "execution_count": null,
   "metadata": {},
   "outputs": [],
   "source": [
    "import techminer.by_term as term\n",
    "term.app(df)"
   ]
  },
  {
   "cell_type": "code",
   "execution_count": null,
   "metadata": {},
   "outputs": [],
   "source": [
    "import techminer.by_term_per_year as term_year\n",
    "term_year.app(df)"
   ]
  },
  {
   "cell_type": "code",
   "execution_count": null,
   "metadata": {},
   "outputs": [],
   "source": [
    "import techminer.co_occurrence as co_occurrence\n",
    "co_occurrence.app(df)"
   ]
  },
  {
   "cell_type": "code",
   "execution_count": null,
   "metadata": {},
   "outputs": [],
   "source": [
    "import techminer.correlation as correlation\n",
    "correlation.app(df)"
   ]
  },
  {
   "cell_type": "code",
   "execution_count": null,
   "metadata": {},
   "outputs": [],
   "source": []
  },
  {
   "cell_type": "code",
   "execution_count": null,
   "metadata": {},
   "outputs": [],
   "source": []
  },
  {
   "cell_type": "code",
   "execution_count": null,
   "metadata": {},
   "outputs": [],
   "source": []
  },
  {
   "cell_type": "code",
   "execution_count": null,
   "metadata": {},
   "outputs": [],
   "source": []
  },
  {
   "cell_type": "code",
   "execution_count": null,
   "metadata": {},
   "outputs": [],
   "source": []
  },
  {
   "cell_type": "code",
   "execution_count": null,
   "metadata": {},
   "outputs": [],
   "source": [
    "import ipywidgets as widgets\n",
    "from ipywidgets import Layout, AppLayout"
   ]
  },
  {
   "cell_type": "code",
   "execution_count": null,
   "metadata": {},
   "outputs": [],
   "source": [
    "\n",
    "COLUMNS = [\n",
    "    \"Author Keywords\",\n",
    "    \"Authors\",\n",
    "    \"Countries\",\n",
    "    \"Country 1st\",\n",
    "    \"Document type\",\n",
    "    \"Index Keywords\",\n",
    "    \"Institution 1st\",\n",
    "    \"Institutions\",\n",
    "    \"Keywords\",\n",
    "    \"Source title\",\n",
    "]"
   ]
  },
  {
   "cell_type": "code",
   "execution_count": null,
   "metadata": {},
   "outputs": [],
   "source": [
    "FIGSIZE = (14, 10.0) ## Co-occurrente-analysis  <---- no tiene figura\n",
    "FIGSIZE = (14, 9.0)"
   ]
  },
  {
   "cell_type": "markdown",
   "metadata": {},
   "source": [
    "# NUEVA INTERFAZ"
   ]
  },
  {
   "cell_type": "code",
   "execution_count": null,
   "metadata": {},
   "outputs": [],
   "source": [
    "from techminer.summary_by_term_per_year import documents_by_term_per_year, citations_by_term_per_year"
   ]
  },
  {
   "cell_type": "code",
   "execution_count": null,
   "metadata": {},
   "outputs": [],
   "source": []
  },
  {
   "cell_type": "code",
   "execution_count": null,
   "metadata": {},
   "outputs": [],
   "source": [
    "import techminer.plots as plt\n",
    "from techminer.plots import COLORMAPS\n",
    "from techminer.summary_by_term import citations_by_term, documents_by_term\n",
    "\n",
    "WIDGET_WIDTH = \"200px\"\n",
    "LEFT_PANEL_HEIGHT = \"588px\"\n",
    "RIGHT_PANEL_WIDTH = \"870px\"\n",
    "FIGSIZE = (14, 10.0)\n",
    "PANE_HEIGHTS = [\"80px\", \"650px\", 0]\n",
    "\n",
    "COLUMNS = [\n",
    "    \"Author Keywords\",\n",
    "    \"Authors\",\n",
    "    \"Countries\",\n",
    "    \"Country 1st\",\n",
    "    \"Document type\",\n",
    "    \"Index Keywords\",\n",
    "    \"Institution 1st\",\n",
    "    \"Institutions\",\n",
    "    \"Keywords\",\n",
    "    \"Source title\",\n",
    "]\n",
    "\n"
   ]
  },
  {
   "cell_type": "code",
   "execution_count": null,
   "metadata": {},
   "outputs": [],
   "source": []
  },
  {
   "cell_type": "code",
   "execution_count": null,
   "metadata": {},
   "outputs": [],
   "source": []
  },
  {
   "cell_type": "code",
   "execution_count": null,
   "metadata": {},
   "outputs": [],
   "source": []
  },
  {
   "cell_type": "code",
   "execution_count": null,
   "metadata": {},
   "outputs": [],
   "source": []
  },
  {
   "cell_type": "code",
   "execution_count": null,
   "metadata": {},
   "outputs": [],
   "source": [
    "import co_occurrence"
   ]
  },
  {
   "cell_type": "code",
   "execution_count": null,
   "metadata": {},
   "outputs": [],
   "source": []
  },
  {
   "cell_type": "code",
   "execution_count": null,
   "metadata": {},
   "outputs": [],
   "source": []
  },
  {
   "cell_type": "code",
   "execution_count": null,
   "metadata": {},
   "outputs": [],
   "source": []
  },
  {
   "cell_type": "code",
   "execution_count": null,
   "metadata": {},
   "outputs": [],
   "source": []
  },
  {
   "cell_type": "code",
   "execution_count": null,
   "metadata": {},
   "outputs": [],
   "source": []
  },
  {
   "cell_type": "code",
   "execution_count": null,
   "metadata": {},
   "outputs": [],
   "source": []
  },
  {
   "cell_type": "code",
   "execution_count": null,
   "metadata": {},
   "outputs": [],
   "source": [
    "from ipywidgets import interact, interactive, fixed, interact_manual\n",
    "interact(slow_function,i=widgets.FloatSlider(min=1e5, max=1e7, step=1e5, continuous_update=True));"
   ]
  },
  {
   "cell_type": "code",
   "execution_count": null,
   "metadata": {},
   "outputs": [],
   "source": [
    "def slow_function(i):\n",
    "    print(int(i),list(x for x in range(int(i)) if\n",
    "                str(x)==str(x)[::-1] and\n",
    "                str(x**2)==str(x**2)[::-1]))\n",
    "    return"
   ]
  },
  {
   "cell_type": "code",
   "execution_count": null,
   "metadata": {},
   "outputs": [],
   "source": []
  },
  {
   "cell_type": "code",
   "execution_count": null,
   "metadata": {},
   "outputs": [],
   "source": [
    "x = \"hola\"\n",
    "x[:-1]"
   ]
  },
  {
   "cell_type": "code",
   "execution_count": null,
   "metadata": {},
   "outputs": [],
   "source": [
    "import pandas as pd\n",
    "x = pd.DataFrame({'a': [1, 2, 3, 4, 5], 'b': [1, 2, 3, 4, 5]})\n",
    "\n",
    "pd.Series(x.values.ravel()).value_counts()"
   ]
  },
  {
   "cell_type": "code",
   "execution_count": null,
   "metadata": {},
   "outputs": [],
   "source": [
    "pd.melt(x)"
   ]
  },
  {
   "cell_type": "code",
   "execution_count": null,
   "metadata": {},
   "outputs": [],
   "source": [
    "x.values.shape"
   ]
  },
  {
   "cell_type": "code",
   "execution_count": null,
   "metadata": {},
   "outputs": [],
   "source": [
    "print('hola')"
   ]
  },
  {
   "cell_type": "code",
   "execution_count": null,
   "metadata": {},
   "outputs": [],
   "source": [
    "m = \"abcdefg [1000]\"\n",
    "m[m.find('[')+1:m.find(']')]\n"
   ]
  },
  {
   "cell_type": "code",
   "execution_count": null,
   "metadata": {},
   "outputs": [],
   "source": [
    "[1, 2, 3] == (1, 2, 3)"
   ]
  },
  {
   "cell_type": "code",
   "execution_count": null,
   "metadata": {},
   "outputs": [],
   "source": [
    "import networkx as nx\n",
    "G = nx.petersen_graph()\n",
    "nx.draw(G, with_labels=True, font_weight='bold')"
   ]
  },
  {
   "cell_type": "code",
   "execution_count": null,
   "metadata": {},
   "outputs": [],
   "source": [
    "nx.draw_shell(G, nlist=[range(5, 10), range(5)], with_labels=True, font_weight='bold')"
   ]
  },
  {
   "cell_type": "code",
   "execution_count": null,
   "metadata": {},
   "outputs": [],
   "source": [
    "nx.draw_circular(G, nlist=[range(5, 10), range(5)], with_labels=True, font_weight='bold')"
   ]
  },
  {
   "cell_type": "code",
   "execution_count": null,
   "metadata": {},
   "outputs": [],
   "source": [
    "nx.draw_kamada_kawai(G, nlist=[range(5, 10), range(5)], with_labels=True, font_weight='bold')"
   ]
  },
  {
   "cell_type": "code",
   "execution_count": null,
   "metadata": {},
   "outputs": [],
   "source": [
    "nx.draw_spectral(G, nlist=[range(5, 10), range(5)], with_labels=True, font_weight='bold')"
   ]
  },
  {
   "cell_type": "code",
   "execution_count": null,
   "metadata": {},
   "outputs": [],
   "source": [
    "nx.draw_spring(G, nlist=[range(5, 10), range(5)], with_labels=True, font_weight='bold')"
   ]
  },
  {
   "cell_type": "code",
   "execution_count": null,
   "metadata": {},
   "outputs": [],
   "source": [
    "nx.draw_shell(G, nlist=[range(5, 10), range(5)], with_labels=True, font_weight='bold')"
   ]
  },
  {
   "cell_type": "code",
   "execution_count": null,
   "metadata": {},
   "outputs": [],
   "source": [
    "[12]*5"
   ]
  },
  {
   "cell_type": "code",
   "execution_count": null,
   "metadata": {},
   "outputs": [],
   "source": []
  }
 ],
 "metadata": {
  "kernelspec": {
   "display_name": "Python 3",
   "language": "python",
   "name": "python3"
  },
  "language_info": {
   "codemirror_mode": {
    "name": "ipython",
    "version": 3
   },
   "file_extension": ".py",
   "mimetype": "text/x-python",
   "name": "python",
   "nbconvert_exporter": "python",
   "pygments_lexer": "ipython3",
   "version": "3.6.9"
  },
  "widgets": {
   "application/vnd.jupyter.widget-state+json": {
    "state": {
     "015bc5c4b67641f59049cba660021ebd": {
      "model_module": "@jupyter-widgets/controls",
      "model_module_version": "1.5.0",
      "model_name": "DescriptionStyleModel",
      "state": {
       "description_width": ""
      }
     },
     "0188974dc6cb4ac387477eeaa6a1b716": {
      "model_module": "@jupyter-widgets/controls",
      "model_module_version": "1.5.0",
      "model_name": "VBoxModel",
      "state": {
       "children": [
        "IPY_MODEL_fe1c82196df64fc08dd21444f8c0c771",
        "IPY_MODEL_b6a343f628d74190beec1ab17ee10aa6"
       ],
       "layout": "IPY_MODEL_adaf37153b3d4fafaab685e747713b69"
      }
     },
     "135078a8c50249618887389d67857c1b": {
      "model_module": "@jupyter-widgets/base",
      "model_module_version": "1.2.0",
      "model_name": "LayoutModel",
      "state": {}
     },
     "135a77936152419e8b416f8eb3f852ad": {
      "model_module": "@jupyter-widgets/base",
      "model_module_version": "1.2.0",
      "model_name": "LayoutModel",
      "state": {
       "grid_area": "header"
      }
     },
     "14a110807ccb494c9fcff33bf9366b54": {
      "model_module": "@jupyter-widgets/controls",
      "model_module_version": "1.5.0",
      "model_name": "LabelModel",
      "state": {
       "layout": "IPY_MODEL_1865440e4e3b4079a9baabb29e689cc2",
       "style": "IPY_MODEL_171320d734c44b53ae886cb328e4f949",
       "value": "By Term:"
      }
     },
     "171320d734c44b53ae886cb328e4f949": {
      "model_module": "@jupyter-widgets/controls",
      "model_module_version": "1.5.0",
      "model_name": "DescriptionStyleModel",
      "state": {
       "description_width": ""
      }
     },
     "1865440e4e3b4079a9baabb29e689cc2": {
      "model_module": "@jupyter-widgets/base",
      "model_module_version": "1.2.0",
      "model_name": "LayoutModel",
      "state": {}
     },
     "1b93052cf79f4b00b23f3b4f097e8808": {
      "model_module": "@jupyter-widgets/controls",
      "model_module_version": "1.5.0",
      "model_name": "VBoxModel",
      "state": {
       "children": [
        "IPY_MODEL_2a55b5be158b4b3e9d9d35a703cd6b04"
       ],
       "layout": "IPY_MODEL_3802e43e053742758fb620615e18eb1c"
      }
     },
     "1fa6bb963a3e47509f5ac7a574fbdab3": {
      "model_module": "@jupyter-widgets/base",
      "model_module_version": "1.2.0",
      "model_name": "LayoutModel",
      "state": {}
     },
     "2114b5018e55457b8e47f9b17e156285": {
      "model_module": "@jupyter-widgets/base",
      "model_module_version": "1.2.0",
      "model_name": "LayoutModel",
      "state": {
       "width": "200px"
      }
     },
     "2785d30ca1e24995bf465a3c481ff8a6": {
      "model_module": "@jupyter-widgets/base",
      "model_module_version": "1.2.0",
      "model_name": "LayoutModel",
      "state": {}
     },
     "29775753c8db49099915acbde7954cc4": {
      "model_module": "@jupyter-widgets/controls",
      "model_module_version": "1.5.0",
      "model_name": "DropdownModel",
      "state": {
       "_options_labels": [
        "Greys",
        "Purples",
        "Blues",
        "Greens",
        "Oranges",
        "Reds",
        "YlOrBr",
        "YlOrRd",
        "OrRd",
        "PuRd",
        "RdPu",
        "BuPu",
        "GnBu",
        "PuBu",
        "YlGnBu",
        "PuBuGn",
        "BuGn",
        "YlGn",
        "Pastel1",
        "Pastel2",
        "Paired",
        "Accent",
        "Dark2",
        "Set1",
        "Set2",
        "Set3",
        "tab10",
        "tab20",
        "tab20b",
        "tab20c"
       ],
       "index": 0,
       "layout": "IPY_MODEL_86c2626416554138a63c01be8e3fea8c",
       "style": "IPY_MODEL_d8ea0954c5d44314a5a2c78aa79c81fc"
      }
     },
     "2a4b127a8dc6415b9de7ccc6dce8a65f": {
      "model_module": "@jupyter-widgets/controls",
      "model_module_version": "1.5.0",
      "model_name": "DescriptionStyleModel",
      "state": {
       "description_width": ""
      }
     },
     "2a55b5be158b4b3e9d9d35a703cd6b04": {
      "model_module": "@jupyter-widgets/output",
      "model_module_version": "1.0.0",
      "model_name": "OutputModel",
      "state": {
       "layout": "IPY_MODEL_41a22186f6ef48209a3853221c7cd83a",
       "outputs": [
        {
         "data": {
          "text/html": "<style  type=\"text/css\" >\n    #T_3e335ca8_a77d_11ea_8e33_0242ac110002row0_col0 {\n            background-color:  #272727;\n            color:  #f1f1f1;\n        }    #T_3e335ca8_a77d_11ea_8e33_0242ac110002row0_col1 {\n            background-color:  #f1f1f1;\n            color:  #000000;\n        }    #T_3e335ca8_a77d_11ea_8e33_0242ac110002row0_col2 {\n            background-color:  #fefefe;\n            color:  #000000;\n        }    #T_3e335ca8_a77d_11ea_8e33_0242ac110002row0_col3 {\n            background-color:  #ffffff;\n            color:  #000000;\n        }    #T_3e335ca8_a77d_11ea_8e33_0242ac110002row0_col4 {\n            background-color:  #f5f5f5;\n            color:  #000000;\n        }    #T_3e335ca8_a77d_11ea_8e33_0242ac110002row0_col5 {\n            background-color:  #fafafa;\n            color:  #000000;\n        }    #T_3e335ca8_a77d_11ea_8e33_0242ac110002row0_col6 {\n            background-color:  #ffffff;\n            color:  #000000;\n        }    #T_3e335ca8_a77d_11ea_8e33_0242ac110002row0_col7 {\n            background-color:  #ffffff;\n            color:  #000000;\n        }    #T_3e335ca8_a77d_11ea_8e33_0242ac110002row1_col0 {\n            background-color:  #f1f1f1;\n            color:  #000000;\n        }    #T_3e335ca8_a77d_11ea_8e33_0242ac110002row1_col1 {\n            background-color:  #000000;\n            color:  #f1f1f1;\n        }    #T_3e335ca8_a77d_11ea_8e33_0242ac110002row1_col2 {\n            background-color:  #f5f5f5;\n            color:  #000000;\n        }    #T_3e335ca8_a77d_11ea_8e33_0242ac110002row1_col3 {\n            background-color:  #fefefe;\n            color:  #000000;\n        }    #T_3e335ca8_a77d_11ea_8e33_0242ac110002row1_col4 {\n            background-color:  #f8f8f8;\n            color:  #000000;\n        }    #T_3e335ca8_a77d_11ea_8e33_0242ac110002row1_col5 {\n            background-color:  #f3f3f3;\n            color:  #000000;\n        }    #T_3e335ca8_a77d_11ea_8e33_0242ac110002row1_col6 {\n            background-color:  #ffffff;\n            color:  #000000;\n        }    #T_3e335ca8_a77d_11ea_8e33_0242ac110002row1_col7 {\n            background-color:  #ffffff;\n            color:  #000000;\n        }    #T_3e335ca8_a77d_11ea_8e33_0242ac110002row2_col0 {\n            background-color:  #fefefe;\n            color:  #000000;\n        }    #T_3e335ca8_a77d_11ea_8e33_0242ac110002row2_col1 {\n            background-color:  #f5f5f5;\n            color:  #000000;\n        }    #T_3e335ca8_a77d_11ea_8e33_0242ac110002row2_col2 {\n            background-color:  #757575;\n            color:  #000000;\n        }    #T_3e335ca8_a77d_11ea_8e33_0242ac110002row2_col3 {\n            background-color:  #ffffff;\n            color:  #000000;\n        }    #T_3e335ca8_a77d_11ea_8e33_0242ac110002row2_col4 {\n            background-color:  #fafafa;\n            color:  #000000;\n        }    #T_3e335ca8_a77d_11ea_8e33_0242ac110002row2_col5 {\n            background-color:  #fefefe;\n            color:  #000000;\n        }    #T_3e335ca8_a77d_11ea_8e33_0242ac110002row2_col6 {\n            background-color:  #ffffff;\n            color:  #000000;\n        }    #T_3e335ca8_a77d_11ea_8e33_0242ac110002row2_col7 {\n            background-color:  #ffffff;\n            color:  #000000;\n        }    #T_3e335ca8_a77d_11ea_8e33_0242ac110002row3_col0 {\n            background-color:  #ffffff;\n            color:  #000000;\n        }    #T_3e335ca8_a77d_11ea_8e33_0242ac110002row3_col1 {\n            background-color:  #fefefe;\n            color:  #000000;\n        }    #T_3e335ca8_a77d_11ea_8e33_0242ac110002row3_col2 {\n            background-color:  #ffffff;\n            color:  #000000;\n        }    #T_3e335ca8_a77d_11ea_8e33_0242ac110002row3_col3 {\n            background-color:  #bebebe;\n            color:  #000000;\n        }    #T_3e335ca8_a77d_11ea_8e33_0242ac110002row3_col4 {\n            background-color:  #ffffff;\n            color:  #000000;\n        }    #T_3e335ca8_a77d_11ea_8e33_0242ac110002row3_col5 {\n            background-color:  #ffffff;\n            color:  #000000;\n        }    #T_3e335ca8_a77d_11ea_8e33_0242ac110002row3_col6 {\n            background-color:  #f7f7f7;\n            color:  #000000;\n        }    #T_3e335ca8_a77d_11ea_8e33_0242ac110002row3_col7 {\n            background-color:  #fefefe;\n            color:  #000000;\n        }    #T_3e335ca8_a77d_11ea_8e33_0242ac110002row4_col0 {\n            background-color:  #f5f5f5;\n            color:  #000000;\n        }    #T_3e335ca8_a77d_11ea_8e33_0242ac110002row4_col1 {\n            background-color:  #f8f8f8;\n            color:  #000000;\n        }    #T_3e335ca8_a77d_11ea_8e33_0242ac110002row4_col2 {\n            background-color:  #fafafa;\n            color:  #000000;\n        }    #T_3e335ca8_a77d_11ea_8e33_0242ac110002row4_col3 {\n            background-color:  #ffffff;\n            color:  #000000;\n        }    #T_3e335ca8_a77d_11ea_8e33_0242ac110002row4_col4 {\n            background-color:  #cccccc;\n            color:  #000000;\n        }    #T_3e335ca8_a77d_11ea_8e33_0242ac110002row4_col5 {\n            background-color:  #fefefe;\n            color:  #000000;\n        }    #T_3e335ca8_a77d_11ea_8e33_0242ac110002row4_col6 {\n            background-color:  #ffffff;\n            color:  #000000;\n        }    #T_3e335ca8_a77d_11ea_8e33_0242ac110002row4_col7 {\n            background-color:  #ffffff;\n            color:  #000000;\n        }    #T_3e335ca8_a77d_11ea_8e33_0242ac110002row5_col0 {\n            background-color:  #fafafa;\n            color:  #000000;\n        }    #T_3e335ca8_a77d_11ea_8e33_0242ac110002row5_col1 {\n            background-color:  #f3f3f3;\n            color:  #000000;\n        }    #T_3e335ca8_a77d_11ea_8e33_0242ac110002row5_col2 {\n            background-color:  #fefefe;\n            color:  #000000;\n        }    #T_3e335ca8_a77d_11ea_8e33_0242ac110002row5_col3 {\n            background-color:  #ffffff;\n            color:  #000000;\n        }    #T_3e335ca8_a77d_11ea_8e33_0242ac110002row5_col4 {\n            background-color:  #fefefe;\n            color:  #000000;\n        }    #T_3e335ca8_a77d_11ea_8e33_0242ac110002row5_col5 {\n            background-color:  #d6d6d6;\n            color:  #000000;\n        }    #T_3e335ca8_a77d_11ea_8e33_0242ac110002row5_col6 {\n            background-color:  #ffffff;\n            color:  #000000;\n        }    #T_3e335ca8_a77d_11ea_8e33_0242ac110002row5_col7 {\n            background-color:  #ffffff;\n            color:  #000000;\n        }    #T_3e335ca8_a77d_11ea_8e33_0242ac110002row6_col0 {\n            background-color:  #ffffff;\n            color:  #000000;\n        }    #T_3e335ca8_a77d_11ea_8e33_0242ac110002row6_col1 {\n            background-color:  #ffffff;\n            color:  #000000;\n        }    #T_3e335ca8_a77d_11ea_8e33_0242ac110002row6_col2 {\n            background-color:  #ffffff;\n            color:  #000000;\n        }    #T_3e335ca8_a77d_11ea_8e33_0242ac110002row6_col3 {\n            background-color:  #f7f7f7;\n            color:  #000000;\n        }    #T_3e335ca8_a77d_11ea_8e33_0242ac110002row6_col4 {\n            background-color:  #ffffff;\n            color:  #000000;\n        }    #T_3e335ca8_a77d_11ea_8e33_0242ac110002row6_col5 {\n            background-color:  #ffffff;\n            color:  #000000;\n        }    #T_3e335ca8_a77d_11ea_8e33_0242ac110002row6_col6 {\n            background-color:  #d3d3d3;\n            color:  #000000;\n        }    #T_3e335ca8_a77d_11ea_8e33_0242ac110002row6_col7 {\n            background-color:  #f8f8f8;\n            color:  #000000;\n        }    #T_3e335ca8_a77d_11ea_8e33_0242ac110002row7_col0 {\n            background-color:  #ffffff;\n            color:  #000000;\n        }    #T_3e335ca8_a77d_11ea_8e33_0242ac110002row7_col1 {\n            background-color:  #ffffff;\n            color:  #000000;\n        }    #T_3e335ca8_a77d_11ea_8e33_0242ac110002row7_col2 {\n            background-color:  #ffffff;\n            color:  #000000;\n        }    #T_3e335ca8_a77d_11ea_8e33_0242ac110002row7_col3 {\n            background-color:  #fefefe;\n            color:  #000000;\n        }    #T_3e335ca8_a77d_11ea_8e33_0242ac110002row7_col4 {\n            background-color:  #ffffff;\n            color:  #000000;\n        }    #T_3e335ca8_a77d_11ea_8e33_0242ac110002row7_col5 {\n            background-color:  #ffffff;\n            color:  #000000;\n        }    #T_3e335ca8_a77d_11ea_8e33_0242ac110002row7_col6 {\n            background-color:  #f8f8f8;\n            color:  #000000;\n        }    #T_3e335ca8_a77d_11ea_8e33_0242ac110002row7_col7 {\n            background-color:  #dfdfdf;\n            color:  #000000;\n        }</style><table id=\"T_3e335ca8_a77d_11ea_8e33_0242ac110002\" ><thead>    <tr>        <th class=\"blank level0\" ></th>        <th class=\"col_heading level0 col0\" >Urban farming [95]</th>        <th class=\"col_heading level0 col1\" >Urban agriculture [87]</th>        <th class=\"col_heading level0 col2\" >Urban gardening [58]</th>        <th class=\"col_heading level0 col3\" >urban farming [36]</th>        <th class=\"col_heading level0 col4\" >Sustainability [28]</th>        <th class=\"col_heading level0 col5\" >Food security [25]</th>        <th class=\"col_heading level0 col6\" >urban agriculture [22]</th>        <th class=\"col_heading level0 col7\" >urban gardening [17]</th>    </tr></thead><tbody>\n                <tr>\n                        <th id=\"T_3e335ca8_a77d_11ea_8e33_0242ac110002level0_row0\" class=\"row_heading level0 row0\" >Urban farming [95]</th>\n                        <td id=\"T_3e335ca8_a77d_11ea_8e33_0242ac110002row0_col0\" class=\"data row0 col0\" >59</td>\n                        <td id=\"T_3e335ca8_a77d_11ea_8e33_0242ac110002row0_col1\" class=\"data row0 col1\" ></td>\n                        <td id=\"T_3e335ca8_a77d_11ea_8e33_0242ac110002row0_col2\" class=\"data row0 col2\" ></td>\n                        <td id=\"T_3e335ca8_a77d_11ea_8e33_0242ac110002row0_col3\" class=\"data row0 col3\" ></td>\n                        <td id=\"T_3e335ca8_a77d_11ea_8e33_0242ac110002row0_col4\" class=\"data row0 col4\" ></td>\n                        <td id=\"T_3e335ca8_a77d_11ea_8e33_0242ac110002row0_col5\" class=\"data row0 col5\" ></td>\n                        <td id=\"T_3e335ca8_a77d_11ea_8e33_0242ac110002row0_col6\" class=\"data row0 col6\" ></td>\n                        <td id=\"T_3e335ca8_a77d_11ea_8e33_0242ac110002row0_col7\" class=\"data row0 col7\" ></td>\n            </tr>\n            <tr>\n                        <th id=\"T_3e335ca8_a77d_11ea_8e33_0242ac110002level0_row1\" class=\"row_heading level0 row1\" >Urban agriculture [87]</th>\n                        <td id=\"T_3e335ca8_a77d_11ea_8e33_0242ac110002row1_col0\" class=\"data row1 col0\" ></td>\n                        <td id=\"T_3e335ca8_a77d_11ea_8e33_0242ac110002row1_col1\" class=\"data row1 col1\" >68</td>\n                        <td id=\"T_3e335ca8_a77d_11ea_8e33_0242ac110002row1_col2\" class=\"data row1 col2\" ></td>\n                        <td id=\"T_3e335ca8_a77d_11ea_8e33_0242ac110002row1_col3\" class=\"data row1 col3\" ></td>\n                        <td id=\"T_3e335ca8_a77d_11ea_8e33_0242ac110002row1_col4\" class=\"data row1 col4\" ></td>\n                        <td id=\"T_3e335ca8_a77d_11ea_8e33_0242ac110002row1_col5\" class=\"data row1 col5\" ></td>\n                        <td id=\"T_3e335ca8_a77d_11ea_8e33_0242ac110002row1_col6\" class=\"data row1 col6\" ></td>\n                        <td id=\"T_3e335ca8_a77d_11ea_8e33_0242ac110002row1_col7\" class=\"data row1 col7\" ></td>\n            </tr>\n            <tr>\n                        <th id=\"T_3e335ca8_a77d_11ea_8e33_0242ac110002level0_row2\" class=\"row_heading level0 row2\" >Urban gardening [58]</th>\n                        <td id=\"T_3e335ca8_a77d_11ea_8e33_0242ac110002row2_col0\" class=\"data row2 col0\" ></td>\n                        <td id=\"T_3e335ca8_a77d_11ea_8e33_0242ac110002row2_col1\" class=\"data row2 col1\" ></td>\n                        <td id=\"T_3e335ca8_a77d_11ea_8e33_0242ac110002row2_col2\" class=\"data row2 col2\" >42</td>\n                        <td id=\"T_3e335ca8_a77d_11ea_8e33_0242ac110002row2_col3\" class=\"data row2 col3\" ></td>\n                        <td id=\"T_3e335ca8_a77d_11ea_8e33_0242ac110002row2_col4\" class=\"data row2 col4\" ></td>\n                        <td id=\"T_3e335ca8_a77d_11ea_8e33_0242ac110002row2_col5\" class=\"data row2 col5\" ></td>\n                        <td id=\"T_3e335ca8_a77d_11ea_8e33_0242ac110002row2_col6\" class=\"data row2 col6\" ></td>\n                        <td id=\"T_3e335ca8_a77d_11ea_8e33_0242ac110002row2_col7\" class=\"data row2 col7\" ></td>\n            </tr>\n            <tr>\n                        <th id=\"T_3e335ca8_a77d_11ea_8e33_0242ac110002level0_row3\" class=\"row_heading level0 row3\" >urban farming [36]</th>\n                        <td id=\"T_3e335ca8_a77d_11ea_8e33_0242ac110002row3_col0\" class=\"data row3 col0\" ></td>\n                        <td id=\"T_3e335ca8_a77d_11ea_8e33_0242ac110002row3_col1\" class=\"data row3 col1\" ></td>\n                        <td id=\"T_3e335ca8_a77d_11ea_8e33_0242ac110002row3_col2\" class=\"data row3 col2\" ></td>\n                        <td id=\"T_3e335ca8_a77d_11ea_8e33_0242ac110002row3_col3\" class=\"data row3 col3\" >25</td>\n                        <td id=\"T_3e335ca8_a77d_11ea_8e33_0242ac110002row3_col4\" class=\"data row3 col4\" ></td>\n                        <td id=\"T_3e335ca8_a77d_11ea_8e33_0242ac110002row3_col5\" class=\"data row3 col5\" ></td>\n                        <td id=\"T_3e335ca8_a77d_11ea_8e33_0242ac110002row3_col6\" class=\"data row3 col6\" ></td>\n                        <td id=\"T_3e335ca8_a77d_11ea_8e33_0242ac110002row3_col7\" class=\"data row3 col7\" ></td>\n            </tr>\n            <tr>\n                        <th id=\"T_3e335ca8_a77d_11ea_8e33_0242ac110002level0_row4\" class=\"row_heading level0 row4\" >Sustainability [28]</th>\n                        <td id=\"T_3e335ca8_a77d_11ea_8e33_0242ac110002row4_col0\" class=\"data row4 col0\" ></td>\n                        <td id=\"T_3e335ca8_a77d_11ea_8e33_0242ac110002row4_col1\" class=\"data row4 col1\" ></td>\n                        <td id=\"T_3e335ca8_a77d_11ea_8e33_0242ac110002row4_col2\" class=\"data row4 col2\" ></td>\n                        <td id=\"T_3e335ca8_a77d_11ea_8e33_0242ac110002row4_col3\" class=\"data row4 col3\" ></td>\n                        <td id=\"T_3e335ca8_a77d_11ea_8e33_0242ac110002row4_col4\" class=\"data row4 col4\" >21</td>\n                        <td id=\"T_3e335ca8_a77d_11ea_8e33_0242ac110002row4_col5\" class=\"data row4 col5\" ></td>\n                        <td id=\"T_3e335ca8_a77d_11ea_8e33_0242ac110002row4_col6\" class=\"data row4 col6\" ></td>\n                        <td id=\"T_3e335ca8_a77d_11ea_8e33_0242ac110002row4_col7\" class=\"data row4 col7\" ></td>\n            </tr>\n            <tr>\n                        <th id=\"T_3e335ca8_a77d_11ea_8e33_0242ac110002level0_row5\" class=\"row_heading level0 row5\" >Food security [25]</th>\n                        <td id=\"T_3e335ca8_a77d_11ea_8e33_0242ac110002row5_col0\" class=\"data row5 col0\" ></td>\n                        <td id=\"T_3e335ca8_a77d_11ea_8e33_0242ac110002row5_col1\" class=\"data row5 col1\" ></td>\n                        <td id=\"T_3e335ca8_a77d_11ea_8e33_0242ac110002row5_col2\" class=\"data row5 col2\" ></td>\n                        <td id=\"T_3e335ca8_a77d_11ea_8e33_0242ac110002row5_col3\" class=\"data row5 col3\" ></td>\n                        <td id=\"T_3e335ca8_a77d_11ea_8e33_0242ac110002row5_col4\" class=\"data row5 col4\" ></td>\n                        <td id=\"T_3e335ca8_a77d_11ea_8e33_0242ac110002row5_col5\" class=\"data row5 col5\" >18</td>\n                        <td id=\"T_3e335ca8_a77d_11ea_8e33_0242ac110002row5_col6\" class=\"data row5 col6\" ></td>\n                        <td id=\"T_3e335ca8_a77d_11ea_8e33_0242ac110002row5_col7\" class=\"data row5 col7\" ></td>\n            </tr>\n            <tr>\n                        <th id=\"T_3e335ca8_a77d_11ea_8e33_0242ac110002level0_row6\" class=\"row_heading level0 row6\" >urban agriculture [22]</th>\n                        <td id=\"T_3e335ca8_a77d_11ea_8e33_0242ac110002row6_col0\" class=\"data row6 col0\" ></td>\n                        <td id=\"T_3e335ca8_a77d_11ea_8e33_0242ac110002row6_col1\" class=\"data row6 col1\" ></td>\n                        <td id=\"T_3e335ca8_a77d_11ea_8e33_0242ac110002row6_col2\" class=\"data row6 col2\" ></td>\n                        <td id=\"T_3e335ca8_a77d_11ea_8e33_0242ac110002row6_col3\" class=\"data row6 col3\" ></td>\n                        <td id=\"T_3e335ca8_a77d_11ea_8e33_0242ac110002row6_col4\" class=\"data row6 col4\" ></td>\n                        <td id=\"T_3e335ca8_a77d_11ea_8e33_0242ac110002row6_col5\" class=\"data row6 col5\" ></td>\n                        <td id=\"T_3e335ca8_a77d_11ea_8e33_0242ac110002row6_col6\" class=\"data row6 col6\" >19</td>\n                        <td id=\"T_3e335ca8_a77d_11ea_8e33_0242ac110002row6_col7\" class=\"data row6 col7\" ></td>\n            </tr>\n            <tr>\n                        <th id=\"T_3e335ca8_a77d_11ea_8e33_0242ac110002level0_row7\" class=\"row_heading level0 row7\" >urban gardening [17]</th>\n                        <td id=\"T_3e335ca8_a77d_11ea_8e33_0242ac110002row7_col0\" class=\"data row7 col0\" ></td>\n                        <td id=\"T_3e335ca8_a77d_11ea_8e33_0242ac110002row7_col1\" class=\"data row7 col1\" ></td>\n                        <td id=\"T_3e335ca8_a77d_11ea_8e33_0242ac110002row7_col2\" class=\"data row7 col2\" ></td>\n                        <td id=\"T_3e335ca8_a77d_11ea_8e33_0242ac110002row7_col3\" class=\"data row7 col3\" ></td>\n                        <td id=\"T_3e335ca8_a77d_11ea_8e33_0242ac110002row7_col4\" class=\"data row7 col4\" ></td>\n                        <td id=\"T_3e335ca8_a77d_11ea_8e33_0242ac110002row7_col5\" class=\"data row7 col5\" ></td>\n                        <td id=\"T_3e335ca8_a77d_11ea_8e33_0242ac110002row7_col6\" class=\"data row7 col6\" ></td>\n                        <td id=\"T_3e335ca8_a77d_11ea_8e33_0242ac110002row7_col7\" class=\"data row7 col7\" >15</td>\n            </tr>\n    </tbody></table>",
          "text/plain": "<pandas.io.formats.style.Styler at 0x7febf4e1ed68>"
         },
         "metadata": {},
         "output_type": "display_data"
        }
       ]
      }
     },
     "2effcbe7c4f8432bac4f3f93c6452914": {
      "model_module": "@jupyter-widgets/controls",
      "model_module_version": "1.5.0",
      "model_name": "DescriptionStyleModel",
      "state": {
       "description_width": ""
      }
     },
     "31500f265656479eaaaa0f8e2e098de6": {
      "model_module": "@jupyter-widgets/base",
      "model_module_version": "1.2.0",
      "model_name": "LayoutModel",
      "state": {
       "border": "1px solid gray",
       "height": "588px"
      }
     },
     "3802e43e053742758fb620615e18eb1c": {
      "model_module": "@jupyter-widgets/base",
      "model_module_version": "1.2.0",
      "model_name": "LayoutModel",
      "state": {
       "align_items": "baseline",
       "width": "870px"
      }
     },
     "3a1f550b22004d6f9937bac2fbdd87a9": {
      "model_module": "@jupyter-widgets/controls",
      "model_module_version": "1.5.0",
      "model_name": "DropdownModel",
      "state": {
       "_options_labels": [
        "Author Keywords",
        "Authors",
        "Countries",
        "Country 1st",
        "Index Keywords",
        "Institution 1st",
        "Institutions",
        "Keywords",
        "Source title"
       ],
       "index": 0,
       "layout": "IPY_MODEL_6ac8bd6a8e17403e9862c3bf84f3f5ce",
       "style": "IPY_MODEL_2effcbe7c4f8432bac4f3f93c6452914"
      }
     },
     "3f28f49612714270a6cb2ab9c3f2037c": {
      "model_module": "@jupyter-widgets/controls",
      "model_module_version": "1.5.0",
      "model_name": "VBoxModel",
      "state": {
       "children": [
        "IPY_MODEL_801f6014b22f44fa8888a018fcbd2bd1",
        "IPY_MODEL_29775753c8db49099915acbde7954cc4"
       ],
       "layout": "IPY_MODEL_59dc44bc58eb4ff198f4441448e080a1"
      }
     },
     "41a22186f6ef48209a3853221c7cd83a": {
      "model_module": "@jupyter-widgets/base",
      "model_module_version": "1.2.0",
      "model_name": "LayoutModel",
      "state": {}
     },
     "47333243ea9b40ab91eea3e1cccc835b": {
      "model_module": "@jupyter-widgets/controls",
      "model_module_version": "1.5.0",
      "model_name": "VBoxModel",
      "state": {
       "children": [
        "IPY_MODEL_14a110807ccb494c9fcff33bf9366b54",
        "IPY_MODEL_7b60c22d53f548d6a61bd32957b7bd7b"
       ],
       "layout": "IPY_MODEL_8f26ffeacb4941bc9bef832673cba33c"
      }
     },
     "4b72303f57e240d5ad0d09d0133f1fa7": {
      "model_module": "@jupyter-widgets/controls",
      "model_module_version": "1.5.0",
      "model_name": "LabelModel",
      "state": {
       "layout": "IPY_MODEL_135078a8c50249618887389d67857c1b",
       "style": "IPY_MODEL_71faddc34e8445a2875f2c7763cab1cb",
       "value": "Sort order:"
      }
     },
     "5170f2a65c0349b9ab0509bf5791c0c5": {
      "model_module": "@jupyter-widgets/base",
      "model_module_version": "1.2.0",
      "model_name": "LayoutModel",
      "state": {
       "width": "200px"
      }
     },
     "59dc44bc58eb4ff198f4441448e080a1": {
      "model_module": "@jupyter-widgets/base",
      "model_module_version": "1.2.0",
      "model_name": "LayoutModel",
      "state": {}
     },
     "5eba68ec9c114757996c434296d3a4c5": {
      "model_module": "@jupyter-widgets/controls",
      "model_module_version": "1.5.0",
      "model_name": "DescriptionStyleModel",
      "state": {
       "description_width": ""
      }
     },
     "6591f106d377494a91979321f6d7cfd6": {
      "model_module": "@jupyter-widgets/controls",
      "model_module_version": "1.5.0",
      "model_name": "DropdownModel",
      "state": {
       "_options_labels": [
        "Alphabetic asc.",
        "Alphabetic desc.",
        "Frequency/Cited by asc.",
        "Frequency/Cited by desc."
       ],
       "index": 3,
       "layout": "IPY_MODEL_2114b5018e55457b8e47f9b17e156285",
       "style": "IPY_MODEL_8e34f7e1d0aa4d25a14d536247a8c9d7"
      }
     },
     "6ac8bd6a8e17403e9862c3bf84f3f5ce": {
      "model_module": "@jupyter-widgets/base",
      "model_module_version": "1.2.0",
      "model_name": "LayoutModel",
      "state": {
       "width": "200px"
      }
     },
     "71faddc34e8445a2875f2c7763cab1cb": {
      "model_module": "@jupyter-widgets/controls",
      "model_module_version": "1.5.0",
      "model_name": "DescriptionStyleModel",
      "state": {
       "description_width": ""
      }
     },
     "7223385d47fc4d8594d267568de12c96": {
      "model_module": "@jupyter-widgets/controls",
      "model_module_version": "1.5.0",
      "model_name": "HTMLModel",
      "state": {
       "layout": "IPY_MODEL_135a77936152419e8b416f8eb3f852ad",
       "style": "IPY_MODEL_5eba68ec9c114757996c434296d3a4c5",
       "value": "<h1>Co-occurrence Analysis</h1><hr style='height:2px;border-width:0;color:gray;background-color:gray'>"
      }
     },
     "74ae8bfd9ed44810922e2e3f58ef79de": {
      "model_module": "@jupyter-widgets/base",
      "model_module_version": "1.2.0",
      "model_name": "LayoutModel",
      "state": {
       "width": "200px"
      }
     },
     "7aefa492af3a4546ae5f10b5c43be1cd": {
      "model_module": "@jupyter-widgets/base",
      "model_module_version": "1.2.0",
      "model_name": "LayoutModel",
      "state": {}
     },
     "7b60c22d53f548d6a61bd32957b7bd7b": {
      "model_module": "@jupyter-widgets/controls",
      "model_module_version": "1.5.0",
      "model_name": "DropdownModel",
      "state": {
       "_options_labels": [
        "Author Keywords",
        "Authors",
        "Countries",
        "Country 1st",
        "Index Keywords",
        "Institution 1st",
        "Institutions",
        "Keywords",
        "Source title"
       ],
       "index": 0,
       "layout": "IPY_MODEL_5170f2a65c0349b9ab0509bf5791c0c5",
       "style": "IPY_MODEL_2a4b127a8dc6415b9de7ccc6dce8a65f"
      }
     },
     "7be4de67aa484a85a5f40cc0c61f9ba4": {
      "model_module": "@jupyter-widgets/controls",
      "model_module_version": "1.5.0",
      "model_name": "DescriptionStyleModel",
      "state": {
       "description_width": ""
      }
     },
     "801f6014b22f44fa8888a018fcbd2bd1": {
      "model_module": "@jupyter-widgets/controls",
      "model_module_version": "1.5.0",
      "model_name": "LabelModel",
      "state": {
       "layout": "IPY_MODEL_8799ce07f5fe497f93fdebd4a62a7106",
       "style": "IPY_MODEL_b346be825ed449a982abdfb89a7ca559",
       "value": "Colormap:"
      }
     },
     "86c2626416554138a63c01be8e3fea8c": {
      "model_module": "@jupyter-widgets/base",
      "model_module_version": "1.2.0",
      "model_name": "LayoutModel",
      "state": {
       "width": "200px"
      }
     },
     "8799ce07f5fe497f93fdebd4a62a7106": {
      "model_module": "@jupyter-widgets/base",
      "model_module_version": "1.2.0",
      "model_name": "LayoutModel",
      "state": {}
     },
     "8e34f7e1d0aa4d25a14d536247a8c9d7": {
      "model_module": "@jupyter-widgets/controls",
      "model_module_version": "1.5.0",
      "model_name": "DescriptionStyleModel",
      "state": {
       "description_width": ""
      }
     },
     "8ee6d02cdf9649449cd99dbe50627708": {
      "model_module": "@jupyter-widgets/controls",
      "model_module_version": "1.5.0",
      "model_name": "HBoxModel",
      "state": {
       "children": [
        "IPY_MODEL_d5d2031255e94bf7afe9d4f29251d6a4",
        "IPY_MODEL_1b93052cf79f4b00b23f3b4f097e8808"
       ],
       "layout": "IPY_MODEL_1fa6bb963a3e47509f5ac7a574fbdab3"
      }
     },
     "8f26ffeacb4941bc9bef832673cba33c": {
      "model_module": "@jupyter-widgets/base",
      "model_module_version": "1.2.0",
      "model_name": "LayoutModel",
      "state": {}
     },
     "9396de65e047499fbb4a8807cfdd494e": {
      "model_module": "@jupyter-widgets/controls",
      "model_module_version": "1.5.0",
      "model_name": "DescriptionStyleModel",
      "state": {
       "description_width": ""
      }
     },
     "942ff876f13c4650835725d77c395113": {
      "model_module": "@jupyter-widgets/base",
      "model_module_version": "1.2.0",
      "model_name": "LayoutModel",
      "state": {
       "grid_area": "center"
      }
     },
     "952d1776afba42c0a81774e916fa4815": {
      "model_module": "@jupyter-widgets/controls",
      "model_module_version": "1.5.0",
      "model_name": "LabelModel",
      "state": {
       "layout": "IPY_MODEL_2785d30ca1e24995bf465a3c481ff8a6",
       "style": "IPY_MODEL_015bc5c4b67641f59049cba660021ebd",
       "value": "Term to analyze:"
      }
     },
     "9f58ba8996b448ee91e814ad1c68037d": {
      "model_module": "@jupyter-widgets/controls",
      "model_module_version": "1.5.0",
      "model_name": "TabModel",
      "state": {
       "_titles": {
        "0": "Matrix"
       },
       "children": [
        "IPY_MODEL_8ee6d02cdf9649449cd99dbe50627708"
       ],
       "layout": "IPY_MODEL_942ff876f13c4650835725d77c395113"
      }
     },
     "a4fb62562de449c882c5572d658d0838": {
      "model_module": "@jupyter-widgets/base",
      "model_module_version": "1.2.0",
      "model_name": "LayoutModel",
      "state": {}
     },
     "a569da8b33794032b8eed27579ee2070": {
      "model_module": "@jupyter-widgets/controls",
      "model_module_version": "1.5.0",
      "model_name": "VBoxModel",
      "state": {
       "children": [
        "IPY_MODEL_952d1776afba42c0a81774e916fa4815",
        "IPY_MODEL_3a1f550b22004d6f9937bac2fbdd87a9"
       ],
       "layout": "IPY_MODEL_aedd3097f7514685b234e952f3fee43f"
      }
     },
     "a9c110e7b15443c1b326fd19a2cba875": {
      "model_module": "@jupyter-widgets/controls",
      "model_module_version": "1.5.0",
      "model_name": "GridBoxModel",
      "state": {
       "children": [
        "IPY_MODEL_7223385d47fc4d8594d267568de12c96",
        "IPY_MODEL_9f58ba8996b448ee91e814ad1c68037d"
       ],
       "layout": "IPY_MODEL_cc5172622eca4835928bfe30cbeca2b6"
      }
     },
     "ac5b63d630634d74bff4cf3bccc7f525": {
      "model_module": "@jupyter-widgets/output",
      "model_module_version": "1.0.0",
      "model_name": "OutputModel",
      "state": {
       "layout": "IPY_MODEL_7aefa492af3a4546ae5f10b5c43be1cd",
       "outputs": [
        {
         "data": {
          "application/vnd.jupyter.widget-view+json": {
           "model_id": "",
           "version_major": 2,
           "version_minor": 0
          },
          "text/plain": "HTML(value='<h3>Matrix exceeds the maximum shape</h3>')"
         },
         "metadata": {},
         "output_type": "display_data"
        }
       ]
      }
     },
     "adaf37153b3d4fafaab685e747713b69": {
      "model_module": "@jupyter-widgets/base",
      "model_module_version": "1.2.0",
      "model_name": "LayoutModel",
      "state": {}
     },
     "aedd3097f7514685b234e952f3fee43f": {
      "model_module": "@jupyter-widgets/base",
      "model_module_version": "1.2.0",
      "model_name": "LayoutModel",
      "state": {}
     },
     "af9a407c56d5411f9c3d4d9ccfacab77": {
      "model_module": "@jupyter-widgets/base",
      "model_module_version": "1.2.0",
      "model_name": "LayoutModel",
      "state": {}
     },
     "b346be825ed449a982abdfb89a7ca559": {
      "model_module": "@jupyter-widgets/controls",
      "model_module_version": "1.5.0",
      "model_name": "DescriptionStyleModel",
      "state": {
       "description_width": ""
      }
     },
     "b6a343f628d74190beec1ab17ee10aa6": {
      "model_module": "@jupyter-widgets/controls",
      "model_module_version": "1.5.0",
      "model_name": "DropdownModel",
      "state": {
       "_options_labels": [
        "1",
        "2",
        "3",
        "4",
        "5",
        "6",
        "7",
        "8",
        "10",
        "15",
        "18",
        "19",
        "21",
        "25",
        "42",
        "59",
        "68"
       ],
       "index": 9,
       "layout": "IPY_MODEL_74ae8bfd9ed44810922e2e3f58ef79de",
       "style": "IPY_MODEL_bebfa2406d714f88b66da9d1a10ef732"
      }
     },
     "b77ba0b03e2243b080ba1215a8993937": {
      "model_module": "@jupyter-widgets/controls",
      "model_module_version": "1.5.0",
      "model_name": "HTMLModel",
      "state": {
       "layout": "IPY_MODEL_a4fb62562de449c882c5572d658d0838",
       "style": "IPY_MODEL_9396de65e047499fbb4a8807cfdd494e",
       "value": "<h3>Matrix exceeds the maximum shape</h3>"
      }
     },
     "bebfa2406d714f88b66da9d1a10ef732": {
      "model_module": "@jupyter-widgets/controls",
      "model_module_version": "1.5.0",
      "model_name": "DescriptionStyleModel",
      "state": {
       "description_width": ""
      }
     },
     "cc5172622eca4835928bfe30cbeca2b6": {
      "model_module": "@jupyter-widgets/base",
      "model_module_version": "1.2.0",
      "model_name": "LayoutModel",
      "state": {
       "grid_template_areas": "\"header header header\"\n\"center center center\"",
       "grid_template_columns": "1fr 2fr 1fr",
       "grid_template_rows": "80px 650px"
      }
     },
     "d5d2031255e94bf7afe9d4f29251d6a4": {
      "model_module": "@jupyter-widgets/controls",
      "model_module_version": "1.5.0",
      "model_name": "VBoxModel",
      "state": {
       "children": [
        "IPY_MODEL_a569da8b33794032b8eed27579ee2070",
        "IPY_MODEL_47333243ea9b40ab91eea3e1cccc835b",
        "IPY_MODEL_3f28f49612714270a6cb2ab9c3f2037c",
        "IPY_MODEL_0188974dc6cb4ac387477eeaa6a1b716",
        "IPY_MODEL_fd52d7962cdc473fb11e22867232309b"
       ],
       "layout": "IPY_MODEL_31500f265656479eaaaa0f8e2e098de6"
      }
     },
     "d8ea0954c5d44314a5a2c78aa79c81fc": {
      "model_module": "@jupyter-widgets/controls",
      "model_module_version": "1.5.0",
      "model_name": "DescriptionStyleModel",
      "state": {
       "description_width": ""
      }
     },
     "e9fa9e7147474cdd8307808ef6092fe3": {
      "model_module": "@jupyter-widgets/base",
      "model_module_version": "1.2.0",
      "model_name": "LayoutModel",
      "state": {}
     },
     "fd52d7962cdc473fb11e22867232309b": {
      "model_module": "@jupyter-widgets/controls",
      "model_module_version": "1.5.0",
      "model_name": "VBoxModel",
      "state": {
       "children": [
        "IPY_MODEL_4b72303f57e240d5ad0d09d0133f1fa7",
        "IPY_MODEL_6591f106d377494a91979321f6d7cfd6"
       ],
       "layout": "IPY_MODEL_af9a407c56d5411f9c3d4d9ccfacab77"
      }
     },
     "fe1c82196df64fc08dd21444f8c0c771": {
      "model_module": "@jupyter-widgets/controls",
      "model_module_version": "1.5.0",
      "model_name": "LabelModel",
      "state": {
       "layout": "IPY_MODEL_e9fa9e7147474cdd8307808ef6092fe3",
       "style": "IPY_MODEL_7be4de67aa484a85a5f40cc0c61f9ba4",
       "value": "Min occurrence value:"
      }
     }
    },
    "version_major": 2,
    "version_minor": 0
   }
  }
 },
 "nbformat": 4,
 "nbformat_minor": 4
}
