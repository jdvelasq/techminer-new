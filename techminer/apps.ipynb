{
 "cells": [
  {
   "cell_type": "code",
   "execution_count": 1,
   "metadata": {},
   "outputs": [
    {
     "name": "stderr",
     "output_type": "stream",
     "text": [
      "2020-06-06 05:53:45,550 - INFO - Renaming and selecting columns ...\n",
      "2020-06-06 05:53:51,267 - INFO - Formatting author names ...\n",
      "2020-06-06 05:53:51,272 - INFO - Disambiguating author names ...\n",
      "2020-06-06 05:53:51,342 - INFO - Removing part of titles in foreing languages ...\n",
      "2020-06-06 05:53:51,345 - INFO - Fusioning author and index keywords ...\n",
      "2020-06-06 05:53:51,360 - INFO - NumExpr defaulting to 8 threads.\n",
      "2020-06-06 05:53:51,379 - INFO - Extracting countries from affiliations ...\n",
      "2020-06-06 05:53:57,920 - INFO - Extracting institutions from affiliations ...\n",
      "2020-06-06 05:53:57,931 - INFO - Extracting country of 1st author ...\n",
      "2020-06-06 05:53:57,936 - INFO - Extracting affiliation of 1st author ...\n",
      "2020-06-06 05:53:57,939 - INFO - Counting number of authors ...\n"
     ]
    }
   ],
   "source": [
    "import pandas as pd\n",
    "import data\n",
    "\n",
    "filepath = \"../data/papers/urban-agriculture.csv\"\n",
    "df = pd.read_csv(filepath)\n",
    "df = data.load_scopus(df)"
   ]
  },
  {
   "cell_type": "code",
   "execution_count": 2,
   "metadata": {},
   "outputs": [
    {
     "data": {
      "application/vnd.jupyter.widget-view+json": {
       "model_id": "a639590cdb2a4cf9b2abad8b86230638",
       "version_major": 2,
       "version_minor": 0
      },
      "text/plain": [
       "AppLayout(children=(HTML(value=\"<h1>Data Viewer</h1><hr style='height:2px;border-width:0;color:gray;background…"
      ]
     },
     "metadata": {},
     "output_type": "display_data"
    }
   ],
   "source": [
    "data.app(df)"
   ]
  },
  {
   "cell_type": "markdown",
   "metadata": {},
   "source": [
    "### Basic info"
   ]
  },
  {
   "cell_type": "code",
   "execution_count": null,
   "metadata": {},
   "outputs": [],
   "source": [
    "data.coverage(df)"
   ]
  },
  {
   "cell_type": "code",
   "execution_count": null,
   "metadata": {},
   "outputs": [],
   "source": []
  },
  {
   "cell_type": "code",
   "execution_count": null,
   "metadata": {},
   "outputs": [],
   "source": []
  },
  {
   "cell_type": "code",
   "execution_count": null,
   "metadata": {},
   "outputs": [],
   "source": [
    "data.app(df)"
   ]
  },
  {
   "cell_type": "code",
   "execution_count": null,
   "metadata": {},
   "outputs": [],
   "source": []
  },
  {
   "cell_type": "code",
   "execution_count": null,
   "metadata": {},
   "outputs": [],
   "source": []
  },
  {
   "cell_type": "code",
   "execution_count": null,
   "metadata": {},
   "outputs": [],
   "source": []
  },
  {
   "cell_type": "markdown",
   "metadata": {},
   "source": [
    "### Keywords"
   ]
  },
  {
   "cell_type": "code",
   "execution_count": null,
   "metadata": {},
   "outputs": [],
   "source": []
  },
  {
   "cell_type": "markdown",
   "metadata": {},
   "source": [
    "### FindString Dialog Box pag. 69"
   ]
  },
  {
   "cell_type": "code",
   "execution_count": null,
   "metadata": {},
   "outputs": [],
   "source": []
  },
  {
   "cell_type": "markdown",
   "metadata": {},
   "source": [
    "### Cleaning a list pag. 102"
   ]
  },
  {
   "cell_type": "code",
   "execution_count": null,
   "metadata": {},
   "outputs": [],
   "source": []
  },
  {
   "cell_type": "markdown",
   "metadata": {},
   "source": [
    "### Fuzzy match editor pag.126"
   ]
  },
  {
   "cell_type": "code",
   "execution_count": null,
   "metadata": {},
   "outputs": [],
   "source": []
  },
  {
   "cell_type": "markdown",
   "metadata": {},
   "source": [
    "### Stemming And / Stemming Or"
   ]
  },
  {
   "cell_type": "code",
   "execution_count": null,
   "metadata": {},
   "outputs": [],
   "source": []
  },
  {
   "cell_type": "markdown",
   "metadata": {},
   "source": [
    "### APPS"
   ]
  },
  {
   "cell_type": "code",
   "execution_count": null,
   "metadata": {},
   "outputs": [],
   "source": [
    "import by_year as year\n",
    "year.app(df)"
   ]
  },
  {
   "cell_type": "code",
   "execution_count": null,
   "metadata": {},
   "outputs": [],
   "source": [
    "import by_term as term\n",
    "term.app(df)"
   ]
  },
  {
   "cell_type": "code",
   "execution_count": null,
   "metadata": {},
   "outputs": [],
   "source": [
    "import by_term_per_year as term_year\n",
    "term_year.app(df)"
   ]
  },
  {
   "cell_type": "code",
   "execution_count": null,
   "metadata": {},
   "outputs": [],
   "source": [
    "import co_occurrence as co_occurrence\n",
    "co_occurrence.app(df)"
   ]
  },
  {
   "cell_type": "code",
   "execution_count": null,
   "metadata": {},
   "outputs": [],
   "source": [
    "import correlation as correlation\n",
    "correlation.app(df)"
   ]
  },
  {
   "cell_type": "code",
   "execution_count": null,
   "metadata": {},
   "outputs": [],
   "source": [
    "import factor_analysis\n",
    "\n",
    "factor_analysis.app(df)"
   ]
  },
  {
   "cell_type": "code",
   "execution_count": null,
   "metadata": {},
   "outputs": [],
   "source": []
  },
  {
   "cell_type": "code",
   "execution_count": null,
   "metadata": {},
   "outputs": [],
   "source": []
  },
  {
   "cell_type": "code",
   "execution_count": null,
   "metadata": {},
   "outputs": [],
   "source": [
    "\n",
    "x = pd.Series(df['Authors'].unique())\n",
    "x = x[x.map(lambda w: not pd.isna(w))]\n",
    "x = x.sort_values()\n",
    "x"
   ]
  },
  {
   "cell_type": "code",
   "execution_count": null,
   "metadata": {},
   "outputs": [],
   "source": [
    "df.iloc[2]['Authors']"
   ]
  },
  {
   "cell_type": "code",
   "execution_count": null,
   "metadata": {},
   "outputs": [],
   "source": []
  }
 ],
 "metadata": {
  "kernelspec": {
   "display_name": "Python 3",
   "language": "python",
   "name": "python3"
  },
  "language_info": {
   "codemirror_mode": {
    "name": "ipython",
    "version": 3
   },
   "file_extension": ".py",
   "mimetype": "text/x-python",
   "name": "python",
   "nbconvert_exporter": "python",
   "pygments_lexer": "ipython3",
   "version": "3.6.9"
  },
  "widgets": {
   "application/vnd.jupyter.widget-state+json": {
    "state": {
     "02589a23d24f44898303644e2185ae53": {
      "model_module": "@jupyter-widgets/controls",
      "model_module_version": "1.5.0",
      "model_name": "HTMLModel",
      "state": {
       "layout": "IPY_MODEL_3506138a43f2460d9205f5e52cab14d2",
       "style": "IPY_MODEL_7f8a90ee2ef444f3a27325c3a6c918df",
       "value": "<pre>         Authors: Hedlund A<br>                  Witter E<br>                  An BX<br>           Title: Assessment of N, P and K management by nutrient balances and flows on peri-urban smallholder farms in southern Vietnam<br> Author Keywords: Annual crops<br>                  Nutrient balance<br>                  Nutrient management<br>                  Nutrient use efficiency<br>                  Orchard<br>                  Peri-urban farming<br>                  Pig production<br>                  Smallholder farms<br>                  Vietnam<br>  Index Keywords: nitrogen<br>                  nutrient budget<br>                  periurban area<br>                  phosphorus<br>                  potassium<br>                  smallholder<br>                  Asia<br>                  Eurasia<br>                  Southeast Asia<br>                  Viet Nam<br>                  Fraxinus<br>                  Sus scrofa<br>    Source title: European Journal of Agronomy<br>            Year: 2003<br>       Countries: Sweden<br>                  <br>    Institutions: department of soil sciences<br>                  univ. of agriculture and forestry<br>        Keywords: Annual crops<br>                  Asia<br>                  Eurasia<br>                  Fraxinus<br>                  Nutrient balance<br>                  Nutrient management<br>                  Nutrient use efficiency<br>                  Orchard<br>                  Peri-urban farming<br>                  Pig production<br>                  Smallholder farms<br>                  Southeast Asia<br>                  Sus scrofa<br>                  Viet Nam<br>                  Vietnam<br>                  nitrogen<br>                  nutrient budget<br>                  periurban area<br>                  phosphorus<br>                  potassium<br>                  smallholder<br></pre>"
      }
     },
     "03584d0501f3469d9afc2778be32de3d": {
      "model_module": "@jupyter-widgets/base",
      "model_module_version": "1.2.0",
      "model_name": "LayoutModel",
      "state": {}
     },
     "05e48906257d48f3bde0e7d6652227ab": {
      "model_module": "@jupyter-widgets/controls",
      "model_module_version": "1.5.0",
      "model_name": "DescriptionStyleModel",
      "state": {
       "description_width": ""
      }
     },
     "084e20323328464cb49b3add1abae477": {
      "model_module": "@jupyter-widgets/controls",
      "model_module_version": "1.5.0",
      "model_name": "DescriptionStyleModel",
      "state": {
       "description_width": ""
      }
     },
     "08dd26ac17e64f689e6d72ae2628a07b": {
      "model_module": "@jupyter-widgets/output",
      "model_module_version": "1.0.0",
      "model_name": "OutputModel",
      "state": {
       "layout": "IPY_MODEL_88e1cb933a44484fa1d71060f3f447fc",
       "outputs": [
        {
         "data": {
          "application/vnd.jupyter.widget-view+json": {
           "model_id": "b648ee81e6144bc3aa2148260760f83e",
           "version_major": 2,
           "version_minor": 0
          },
          "text/plain": "HTML(value='<pre>         Authors: Grace EJ<br>                  MacFarlane GR<br>           Title: Assessment…"
         },
         "metadata": {},
         "output_type": "display_data"
        }
       ]
      }
     },
     "14d4dacc0385400fa5979a14ca797a6f": {
      "model_module": "@jupyter-widgets/controls",
      "model_module_version": "1.5.0",
      "model_name": "LabelModel",
      "state": {
       "layout": "IPY_MODEL_8dc92f20d40143d39596655630fb2a1f",
       "style": "IPY_MODEL_a408c3aa6f7d45b99abd1212bf9c6244",
       "value": "Value:"
      }
     },
     "16a19afa9dc0474898abfbb6d172cfa9": {
      "model_module": "@jupyter-widgets/controls",
      "model_module_version": "1.5.0",
      "model_name": "HTMLModel",
      "state": {
       "layout": "IPY_MODEL_bde8d454866241fca3a8e88c95a8542a",
       "style": "IPY_MODEL_e30a1a0aacae43ea8f4baf8786e30c35",
       "value": "<pre>         Authors: Bortolini L<br>                  Semenzato P<br>                  Almasi B<br>                  Csizmadia D<br>                  Kowalski P<br>                  Racon-Leja K<br>                  Aarrevaara E<br>                  Scherzer C<br>           Title: Multidisciplinary approaches for programming ecosystem services of urban green spaces<br> Author Keywords: Climate change<br>                  Historical estates<br>                  Stakeholders<br>                  Urban forestry<br>                  Urban gardening<br>    Source title: Acta Horticulturae<br>            Year: 2018<br>       Countries: Italy<br>                  Hungary<br>                  Poland<br>                  Poland<br>                  Finland<br>                  Germany<br>    Institutions: department of land<br>                  department of garden and open space design<br>                  cracow university of technology<br>                  cracow university of technology<br>                  lahti university of applied science<br>        Keywords: Climate change<br>                  Historical estates<br>                  Stakeholders<br>                  Urban forestry<br>                  Urban gardening<br></pre>"
      }
     },
     "1c6b17deaea34b3aa7cc5dcdc78fb1f4": {
      "model_module": "@jupyter-widgets/controls",
      "model_module_version": "1.5.0",
      "model_name": "HTMLModel",
      "state": {
       "layout": "IPY_MODEL_c96e273a752e42d2bff13d032337ea45",
       "style": "IPY_MODEL_680f5453864a4707b9fcd1a205571aef",
       "value": "<pre>         Authors: Safi Z<br>                  Predotova M<br>                  Schlecht E<br>                  Buerkert A<br>           Title: Horizontal matter fluxes and leaching losses in urban and peri-urban agriculture of Kabul, Afghanistan<br> Author Keywords: Ion-exchange resins<br>                  Partial nutrient balance<br>                  Urban farming<br>                  Vegetable production<br>    Source title: Journal of Plant Nutrition and Soil Science<br>            Year: 2011<br>       Countries: Afghanistan<br>                  Germany<br>                  Germany<br>                  Germany<br>    Institutions: kabul university<br>                  university of kassel<br>                  university of kassel<br>                  university of gottingen<br>        Keywords: Ion-exchange resins<br>                  Partial nutrient balance<br>                  Urban farming<br>                  Vegetable production<br></pre>"
      }
     },
     "20b875c767ae4ce1829e233ccf998d66": {
      "model_module": "@jupyter-widgets/controls",
      "model_module_version": "1.5.0",
      "model_name": "LabelModel",
      "state": {
       "layout": "IPY_MODEL_d82afe5be0d9458185c6f4bc582f283e",
       "style": "IPY_MODEL_943642a329574bd5a655476a533d4f8e",
       "value": "Title:"
      }
     },
     "2b51174c4f634dedb0623ba7004a6b16": {
      "model_module": "@jupyter-widgets/base",
      "model_module_version": "1.2.0",
      "model_name": "LayoutModel",
      "state": {
       "width": "200px"
      }
     },
     "2d723501179d4d1b8f2c6d340ff2ca6c": {
      "model_module": "@jupyter-widgets/controls",
      "model_module_version": "1.5.0",
      "model_name": "HTMLModel",
      "state": {
       "layout": "IPY_MODEL_8d4be2a95d604f459602bb0e3683cd79",
       "style": "IPY_MODEL_38da55bee93240399247c54e89dccc79",
       "value": "<pre>         Authors: Richardson A<br>           Title: A New World Ordure? Thoughts on the use of Humanure in Developed Cities<br> Author Keywords: human waste<br>                  humanure<br>                  niche (demonstration) technology<br>                  sewerage systems<br>                  urban farming<br>                  urine diversion<br>    Source title: City<br>            Year: 2012<br>       Countries: Australia<br>    Institutions: department of global<br>        Keywords: human waste<br>                  humanure<br>                  niche (demonstration) technology<br>                  sewerage systems<br>                  urban farming<br>                  urine diversion<br></pre>"
      }
     },
     "2de398c89f9543cd81f18d611f5aae0e": {
      "model_module": "@jupyter-widgets/controls",
      "model_module_version": "1.5.0",
      "model_name": "DescriptionStyleModel",
      "state": {
       "description_width": ""
      }
     },
     "2fca45209cbe4e70b59dc20496ff50cf": {
      "model_module": "@jupyter-widgets/base",
      "model_module_version": "1.2.0",
      "model_name": "LayoutModel",
      "state": {
       "grid_template_areas": "\"header header header\"\n\"left-sidebar center center\"\n\"footer footer footer\"",
       "grid_template_columns": "1fr 2fr 1fr",
       "grid_template_rows": "80px 130px 600px"
      }
     },
     "30b72c6ce07e4bc3b437b2cc6b0b18e2": {
      "model_module": "@jupyter-widgets/controls",
      "model_module_version": "1.5.0",
      "model_name": "DescriptionStyleModel",
      "state": {
       "description_width": ""
      }
     },
     "32b38a15b7304abe9db84dce023c70af": {
      "model_module": "@jupyter-widgets/controls",
      "model_module_version": "1.5.0",
      "model_name": "VBoxModel",
      "state": {
       "children": [
        "IPY_MODEL_08dd26ac17e64f689e6d72ae2628a07b"
       ],
       "layout": "IPY_MODEL_61d3c4bd7750457d8c9f805cecaa102f"
      }
     },
     "3506138a43f2460d9205f5e52cab14d2": {
      "model_module": "@jupyter-widgets/base",
      "model_module_version": "1.2.0",
      "model_name": "LayoutModel",
      "state": {}
     },
     "38da55bee93240399247c54e89dccc79": {
      "model_module": "@jupyter-widgets/controls",
      "model_module_version": "1.5.0",
      "model_name": "DescriptionStyleModel",
      "state": {
       "description_width": ""
      }
     },
     "400a370378d241ad9e6b1120cff92335": {
      "model_module": "@jupyter-widgets/controls",
      "model_module_version": "1.5.0",
      "model_name": "DescriptionStyleModel",
      "state": {
       "description_width": ""
      }
     },
     "43e1a068d3d54f41a235ab26681e8dc8": {
      "model_module": "@jupyter-widgets/controls",
      "model_module_version": "1.5.0",
      "model_name": "HTMLModel",
      "state": {
       "layout": "IPY_MODEL_ec2875c70f5c41d9b7f0c4fa6abfc2bb",
       "style": "IPY_MODEL_e30bda4016524ee0beee23a8771aa7c8",
       "value": "<pre>         Authors: Safi Z<br>                  Predotova M<br>                  Schlecht E<br>                  Buerkert A<br>           Title: Horizontal matter fluxes and leaching losses in urban and peri-urban agriculture of Kabul, Afghanistan<br> Author Keywords: Ion-exchange resins<br>                  Partial nutrient balance<br>                  Urban farming<br>                  Vegetable production<br>    Source title: Journal of Plant Nutrition and Soil Science<br>            Year: 2011<br>       Countries: Afghanistan<br>                  Germany<br>                  Germany<br>                  Germany<br>    Institutions: kabul university<br>                  university of kassel<br>                  university of kassel<br>                  university of gottingen<br>        Keywords: Ion-exchange resins<br>                  Partial nutrient balance<br>                  Urban farming<br>                  Vegetable production<br></pre>"
      }
     },
     "4b772876d3024c059d7b9d1d9ace12d7": {
      "model_module": "@jupyter-widgets/controls",
      "model_module_version": "1.5.0",
      "model_name": "HTMLModel",
      "state": {
       "layout": "IPY_MODEL_bc82eb3e7b804e678b100df3a8c3eff8",
       "style": "IPY_MODEL_b1291620166940d09929f3792bcdbdbb",
       "value": "<pre>         Authors: Richardson A<br>           Title: A New World Ordure? Thoughts on the use of Humanure in Developed Cities<br> Author Keywords: human waste<br>                  humanure<br>                  niche (demonstration) technology<br>                  sewerage systems<br>                  urban farming<br>                  urine diversion<br>    Source title: City<br>            Year: 2012<br>       Countries: Australia<br>    Institutions: department of global<br>        Keywords: human waste<br>                  humanure<br>                  niche (demonstration) technology<br>                  sewerage systems<br>                  urban farming<br>                  urine diversion<br></pre>"
      }
     },
     "4f836f64913c44c4a64d69e042ac672e": {
      "model_module": "@jupyter-widgets/output",
      "model_module_version": "1.0.0",
      "model_name": "OutputModel",
      "state": {
       "layout": "IPY_MODEL_a3081d7aea614589bd9cac5c134ad129"
      }
     },
     "4fd52f21e97b499e8588685d43bc7d54": {
      "model_module": "@jupyter-widgets/base",
      "model_module_version": "1.2.0",
      "model_name": "LayoutModel",
      "state": {
       "width": "700px"
      }
     },
     "514d2db5ba404b5298745cd712d2da0a": {
      "model_module": "@jupyter-widgets/base",
      "model_module_version": "1.2.0",
      "model_name": "LayoutModel",
      "state": {}
     },
     "606cea0ff5be44e0bb0082ece5db9068": {
      "model_module": "@jupyter-widgets/base",
      "model_module_version": "1.2.0",
      "model_name": "LayoutModel",
      "state": {}
     },
     "61d3c4bd7750457d8c9f805cecaa102f": {
      "model_module": "@jupyter-widgets/base",
      "model_module_version": "1.2.0",
      "model_name": "LayoutModel",
      "state": {
       "grid_area": "footer"
      }
     },
     "659c499bb9b54d23a32790376c774ee6": {
      "model_module": "@jupyter-widgets/controls",
      "model_module_version": "1.5.0",
      "model_name": "HTMLModel",
      "state": {
       "layout": "IPY_MODEL_c7aa5a7426524960869548e5ad80b057",
       "style": "IPY_MODEL_b215bd4ec0f94d048d9eeaf57a7d9a8b",
       "value": "<pre>         Authors: Talib MH<br>                  Abd Rahman KAA<br>                  Dollah MS<br>           Title: Analyzing hydroponic rack design for apartment house<br> Author Keywords: Compact rack system<br>                  Deep water culture system<br>                  Hydroponic<br>                  Urban farming<br>                  Urban lifestyle<br>                  Vertical farming<br>    Source title: International Journal of Engineering and Technology(UAE)<br>            Year: 2018<br>       Countries: Malaysia<br>    Institutions: department of industrial design<br>        Keywords: Compact rack system<br>                  Deep water culture system<br>                  Hydroponic<br>                  Urban farming<br>                  Urban lifestyle<br>                  Vertical farming<br></pre>"
      }
     },
     "668b321df4ae4075a6458fc43679d88a": {
      "model_module": "@jupyter-widgets/base",
      "model_module_version": "1.2.0",
      "model_name": "LayoutModel",
      "state": {
       "width": "200px"
      }
     },
     "680f5453864a4707b9fcd1a205571aef": {
      "model_module": "@jupyter-widgets/controls",
      "model_module_version": "1.5.0",
      "model_name": "DescriptionStyleModel",
      "state": {
       "description_width": ""
      }
     },
     "750128038c1a44a4be59333ba1e8e546": {
      "model_module": "@jupyter-widgets/controls",
      "model_module_version": "1.5.0",
      "model_name": "HTMLModel",
      "state": {
       "layout": "IPY_MODEL_03584d0501f3469d9afc2778be32de3d",
       "style": "IPY_MODEL_affdbd46c1fa40b9adb2d08c186fe2bd",
       "value": "<pre>         Authors: Bortolini L<br>                  Semenzato P<br>                  Almasi B<br>                  Csizmadia D<br>                  Kowalski P<br>                  Racon-Leja K<br>                  Aarrevaara E<br>                  Scherzer C<br>           Title: Multidisciplinary approaches for programming ecosystem services of urban green spaces<br> Author Keywords: Climate change<br>                  Historical estates<br>                  Stakeholders<br>                  Urban forestry<br>                  Urban gardening<br>    Source title: Acta Horticulturae<br>            Year: 2018<br>       Countries: Italy<br>                  Hungary<br>                  Poland<br>                  Poland<br>                  Finland<br>                  Germany<br>    Institutions: department of land<br>                  department of garden and open space design<br>                  cracow university of technology<br>                  cracow university of technology<br>                  lahti university of applied science<br>        Keywords: Climate change<br>                  Historical estates<br>                  Stakeholders<br>                  Urban forestry<br>                  Urban gardening<br></pre>"
      }
     },
     "77559f314eef42ce9757ec60f01c260f": {
      "model_module": "@jupyter-widgets/base",
      "model_module_version": "1.2.0",
      "model_name": "LayoutModel",
      "state": {}
     },
     "791cfdb5062a43e59c36ad7e18e654ea": {
      "model_module": "@jupyter-widgets/base",
      "model_module_version": "1.2.0",
      "model_name": "LayoutModel",
      "state": {
       "grid_area": "center"
      }
     },
     "7961b913af1f42feb411db1305cf549f": {
      "model_module": "@jupyter-widgets/controls",
      "model_module_version": "1.5.0",
      "model_name": "DropdownModel",
      "state": {
       "_options_labels": [
        "",
        "Afghanistan",
        "Argentina",
        "Australia",
        "Austria",
        "Belgium",
        "Benin",
        "Bosnia and Herz.",
        "Brazil",
        "Burkina Faso",
        "Cameroon",
        "Canada",
        "Chile",
        "China",
        "Colombia",
        "Congo",
        "Croatia",
        "Cuba",
        "Czechia",
        "Denmark",
        "Ecuador",
        "Egypt",
        "Ethiopia",
        "Finland",
        "France",
        "Gabon",
        "Germany",
        "Ghana",
        "Greece",
        "Hungary",
        "Iceland",
        "India",
        "Indonesia",
        "Israel",
        "Italy",
        "Japan",
        "Kenya",
        "Latvia",
        "Madagascar",
        "Malaysia",
        "Mexico",
        "Myanmar",
        "Namibia",
        "Nepal",
        "Netherlands",
        "New Zealand",
        "Nigeria",
        "Norway",
        "Oman",
        "Pakistan",
        "Palestine",
        "Peru",
        "Philippines",
        "Poland",
        "Portugal",
        "Romania",
        "Russia",
        "Saudi Arabia",
        "Senegal",
        "Serbia",
        "Sierra Leone",
        "Singapore",
        "Slovakia",
        "Slovenia",
        "South Africa",
        "South Korea",
        "Spain",
        "Sri Lanka",
        "Sweden",
        "Switzerland",
        "Taiwan",
        "Tajikistan",
        "Tanzania",
        "Thailand",
        "Turkey",
        "Uganda",
        "United Arab Emirates",
        "United Kingdom",
        "United States",
        "Zimbabwe"
       ],
       "index": 3,
       "layout": "IPY_MODEL_668b321df4ae4075a6458fc43679d88a",
       "style": "IPY_MODEL_05e48906257d48f3bde0e7d6652227ab"
      }
     },
     "7cdba148dd964b869c2d38f38aa0dbf0": {
      "model_module": "@jupyter-widgets/controls",
      "model_module_version": "1.5.0",
      "model_name": "SelectModel",
      "state": {
       "_options_labels": [
        "A New World Ordure? Thoughts on the use of Humanure in Developed Cities",
        "Assessment of the bioaccumulation of metals to chicken eggs from residential backyards",
        "Best Practice Irrigation Management and Extension in Peri-Urban Landscapes – Experiences and Insights from the Hawkesbury–Nepean Catchment, Australia",
        "Biochar for urban agriculture: Impacts on soil chemical characteristics and on Brassica rapa growth, nutrient content and metabolism over multiple growth cycles",
        "Design patterns for urban gardening",
        "Finding common ground in weed management: Peri-urban farming, environmental and lifestyle values and practices in southeast Queensland, Australia",
        "Future food-production systems: Vertical farming and controlled-environment agriculture",
        "Impacts of biochar concentration on the growth performance of a leafy vegetable in a tropical city and its global warming potential",
        "Near Real Time - Sensing System for Hydroponics Based Urban Farming",
        "Optimizing Urban material flows and waste streams in urban development through principles of zero waste and sustainable consumption",
        "Optimizing urban material flows and waste streams in urban development through principles of zero waste and sustainable consumption",
        "Resource recovery and materials flow in the city: Zero waste and sustainable consumption as paradigm in urban development",
        "Risk factors for Schistosoma mansoni and hookworm in urban farming communities in western Cote d'Ivoire",
        "Seed to feed: Leveraging hci and capitalising on office environments to grow food",
        "Simultaneous phosphorous and nitrogen recovery from source-separated urine: A novel application for fertiliser drawn forward osmosis",
        "Small-scale urban agriculture results in high yields but requires judicious management of inputs to achieve sustainability",
        "Typically diverse: The nature of urban agriculture in South Australia",
        "Understanding social media-enabled participation and resilience in urban farming communities",
        "Urban agriculture could provide 15% of food supply to Sydney, Australia, under expanded land use scenarios",
        "Urban farming and malaria risk factors in a medium-sized town in Cote d'Ivoire",
        "Urban sustainability transitions"
       ],
       "index": 1,
       "layout": "IPY_MODEL_4fd52f21e97b499e8588685d43bc7d54",
       "style": "IPY_MODEL_e22ff530d9ea484180ff28ce4ddaf69d"
      }
     },
     "7f8a90ee2ef444f3a27325c3a6c918df": {
      "model_module": "@jupyter-widgets/controls",
      "model_module_version": "1.5.0",
      "model_name": "DescriptionStyleModel",
      "state": {
       "description_width": ""
      }
     },
     "86a2acda908342deaa20f67b8f65b4cb": {
      "model_module": "@jupyter-widgets/base",
      "model_module_version": "1.2.0",
      "model_name": "LayoutModel",
      "state": {}
     },
     "86cbc80f7ade48ff8c83debb124aec92": {
      "model_module": "@jupyter-widgets/controls",
      "model_module_version": "1.5.0",
      "model_name": "VBoxModel",
      "state": {
       "children": [
        "IPY_MODEL_20b875c767ae4ce1829e233ccf998d66",
        "IPY_MODEL_7cdba148dd964b869c2d38f38aa0dbf0"
       ],
       "layout": "IPY_MODEL_791cfdb5062a43e59c36ad7e18e654ea"
      }
     },
     "887231f4a7bf4a79a37cfaf95eca39af": {
      "model_module": "@jupyter-widgets/controls",
      "model_module_version": "1.5.0",
      "model_name": "DropdownModel",
      "state": {
       "_options_labels": [
        "Author Keywords",
        "Authors",
        "Countries",
        "Country 1st",
        "Index Keywords",
        "Institution 1st",
        "Institutions",
        "Keywords",
        "Source title"
       ],
       "index": 2,
       "layout": "IPY_MODEL_2b51174c4f634dedb0623ba7004a6b16",
       "style": "IPY_MODEL_30b72c6ce07e4bc3b437b2cc6b0b18e2"
      }
     },
     "88e1cb933a44484fa1d71060f3f447fc": {
      "model_module": "@jupyter-widgets/base",
      "model_module_version": "1.2.0",
      "model_name": "LayoutModel",
      "state": {}
     },
     "893d3d5e414f4de0b2313b57b8484a8b": {
      "model_module": "@jupyter-widgets/controls",
      "model_module_version": "1.5.0",
      "model_name": "HTMLModel",
      "state": {
       "layout": "IPY_MODEL_e1530dee00764bdebe5b820051592dbb",
       "style": "IPY_MODEL_f7d2f08d6ad946d5abebd6620bf886bf",
       "value": "<pre>         Authors: Bortolini L<br>                  Semenzato P<br>                  Almasi B<br>                  Csizmadia D<br>                  Kowalski P<br>                  Racon-Leja K<br>                  Aarrevaara E<br>                  Scherzer C<br>           Title: Multidisciplinary approaches for programming ecosystem services of urban green spaces<br> Author Keywords: Climate change<br>                  Historical estates<br>                  Stakeholders<br>                  Urban forestry<br>                  Urban gardening<br>    Source title: Acta Horticulturae<br>            Year: 2018<br>       Countries: Italy<br>                  Hungary<br>                  Poland<br>                  Poland<br>                  Finland<br>                  Germany<br>    Institutions: department of land<br>                  department of garden and open space design<br>                  cracow university of technology<br>                  cracow university of technology<br>                  lahti university of applied science<br>        Keywords: Climate change<br>                  Historical estates<br>                  Stakeholders<br>                  Urban forestry<br>                  Urban gardening<br></pre>"
      }
     },
     "895b1a2cd79d4d4aa6f90fb07f086a34": {
      "model_module": "@jupyter-widgets/base",
      "model_module_version": "1.2.0",
      "model_name": "LayoutModel",
      "state": {}
     },
     "8d4be2a95d604f459602bb0e3683cd79": {
      "model_module": "@jupyter-widgets/base",
      "model_module_version": "1.2.0",
      "model_name": "LayoutModel",
      "state": {}
     },
     "8dc92f20d40143d39596655630fb2a1f": {
      "model_module": "@jupyter-widgets/base",
      "model_module_version": "1.2.0",
      "model_name": "LayoutModel",
      "state": {}
     },
     "8dd055237d52446398296bb37c54aab5": {
      "model_module": "@jupyter-widgets/controls",
      "model_module_version": "1.5.0",
      "model_name": "DescriptionStyleModel",
      "state": {
       "description_width": ""
      }
     },
     "943642a329574bd5a655476a533d4f8e": {
      "model_module": "@jupyter-widgets/controls",
      "model_module_version": "1.5.0",
      "model_name": "DescriptionStyleModel",
      "state": {
       "description_width": ""
      }
     },
     "a0ae1b5f697d4c7f91495ed0ea14c9cc": {
      "model_module": "@jupyter-widgets/base",
      "model_module_version": "1.2.0",
      "model_name": "LayoutModel",
      "state": {
       "grid_area": "left-sidebar",
       "width": "200px"
      }
     },
     "a3081d7aea614589bd9cac5c134ad129": {
      "model_module": "@jupyter-widgets/base",
      "model_module_version": "1.2.0",
      "model_name": "LayoutModel",
      "state": {}
     },
     "a408c3aa6f7d45b99abd1212bf9c6244": {
      "model_module": "@jupyter-widgets/controls",
      "model_module_version": "1.5.0",
      "model_name": "DescriptionStyleModel",
      "state": {
       "description_width": ""
      }
     },
     "a639590cdb2a4cf9b2abad8b86230638": {
      "model_module": "@jupyter-widgets/controls",
      "model_module_version": "1.5.0",
      "model_name": "GridBoxModel",
      "state": {
       "children": [
        "IPY_MODEL_db505becd72a40689a5da04e2826ef11",
        "IPY_MODEL_32b38a15b7304abe9db84dce023c70af",
        "IPY_MODEL_ac74f4e4fdf845578bc073904e8103ab",
        "IPY_MODEL_86cbc80f7ade48ff8c83debb124aec92"
       ],
       "layout": "IPY_MODEL_2fca45209cbe4e70b59dc20496ff50cf"
      }
     },
     "ab2bef41b7d54760b56ff3d84341d4db": {
      "model_module": "@jupyter-widgets/base",
      "model_module_version": "1.2.0",
      "model_name": "LayoutModel",
      "state": {
       "grid_area": "header"
      }
     },
     "ac74f4e4fdf845578bc073904e8103ab": {
      "model_module": "@jupyter-widgets/controls",
      "model_module_version": "1.5.0",
      "model_name": "VBoxModel",
      "state": {
       "children": [
        "IPY_MODEL_dacc222c3ddd4666bef2e0d3bb137e91",
        "IPY_MODEL_887231f4a7bf4a79a37cfaf95eca39af",
        "IPY_MODEL_14d4dacc0385400fa5979a14ca797a6f",
        "IPY_MODEL_7961b913af1f42feb411db1305cf549f"
       ],
       "layout": "IPY_MODEL_a0ae1b5f697d4c7f91495ed0ea14c9cc"
      }
     },
     "ae9ae989848e43b4883778beddfb05f1": {
      "model_module": "@jupyter-widgets/controls",
      "model_module_version": "1.5.0",
      "model_name": "HTMLModel",
      "state": {
       "layout": "IPY_MODEL_895b1a2cd79d4d4aa6f90fb07f086a34",
       "style": "IPY_MODEL_2de398c89f9543cd81f18d611f5aae0e",
       "value": "<pre>         Authors: Talib MH<br>                  Abd Rahman KAA<br>                  Dollah MS<br>           Title: Analyzing hydroponic rack design for apartment house<br> Author Keywords: Compact rack system<br>                  Deep water culture system<br>                  Hydroponic<br>                  Urban farming<br>                  Urban lifestyle<br>                  Vertical farming<br>    Source title: International Journal of Engineering and Technology(UAE)<br>            Year: 2018<br>       Countries: Malaysia<br>    Institutions: department of industrial design<br>        Keywords: Compact rack system<br>                  Deep water culture system<br>                  Hydroponic<br>                  Urban farming<br>                  Urban lifestyle<br>                  Vertical farming<br></pre>"
      }
     },
     "affdbd46c1fa40b9adb2d08c186fe2bd": {
      "model_module": "@jupyter-widgets/controls",
      "model_module_version": "1.5.0",
      "model_name": "DescriptionStyleModel",
      "state": {
       "description_width": ""
      }
     },
     "b1291620166940d09929f3792bcdbdbb": {
      "model_module": "@jupyter-widgets/controls",
      "model_module_version": "1.5.0",
      "model_name": "DescriptionStyleModel",
      "state": {
       "description_width": ""
      }
     },
     "b215bd4ec0f94d048d9eeaf57a7d9a8b": {
      "model_module": "@jupyter-widgets/controls",
      "model_module_version": "1.5.0",
      "model_name": "DescriptionStyleModel",
      "state": {
       "description_width": ""
      }
     },
     "b648ee81e6144bc3aa2148260760f83e": {
      "model_module": "@jupyter-widgets/controls",
      "model_module_version": "1.5.0",
      "model_name": "HTMLModel",
      "state": {
       "layout": "IPY_MODEL_86a2acda908342deaa20f67b8f65b4cb",
       "style": "IPY_MODEL_400a370378d241ad9e6b1120cff92335",
       "value": "<pre>         Authors: Grace EJ<br>                  MacFarlane GR<br>           Title: Assessment of the bioaccumulation of metals to chicken eggs from residential backyards<br> Author Keywords: Bioaccumulation<br>                  Chicken<br>                  Egg<br>                  Lead<br>                  Metals<br>                  Soil<br>  Index Keywords: Animals<br>                  Arsenic<br>                  Bioaccumulation<br>                  Biochemistry<br>                  Cadmium<br>                  Chemical contamination<br>                  Copper<br>                  Health<br>                  Land use<br>                  Lead<br>                  Metals<br>                  Soils<br>                  Vegetables<br>                  Zinc<br>                  Chicken<br>                  Chicken eggs<br>                  Copper and zinc<br>                  Fruit and vegetables<br>                  Health standards<br>                  Metal contamination<br>                  Soil disturbances<br>                  Urban areas<br>                  Soil pollution<br>                  arsenic<br>                  cadmium<br>                  copper<br>                  lead<br>                  metal<br>                  zinc<br>                  metal<br>                  arsenic<br>                  bioaccumulation<br>                  cadmium<br>                  concentration (composition)<br>                  copper<br>                  egg<br>                  lead<br>                  pollution effect<br>                  pollution exposure<br>                  soil pollution<br>                  zinc<br>                  Article<br>                  Australia<br>                  bioaccumulation<br>                  chicken<br>                  concentration (parameters)<br>                  controlled study<br>                  egg<br>                  food analysis<br>                  food contamination<br>                  health investigation level<br>                  human<br>                  nonhuman<br>                  pollution monitoring<br>                  pollution transport<br>                  poultry<br>                  priority journal<br>                  residential area<br>                  soil analysis<br>                  soil pollution<br>                  standard<br>                  analysis<br>                  animal<br>                  animal housing<br>                  animal husbandry<br>                  chemistry<br>                  egg<br>                  metabolism<br>                  New South Wales<br>                  ovum<br>                  procedures<br>                  soil pollutant<br>                  Australia<br>                  Hunter Valley<br>                  New South Wales<br>                  Gallus gallus<br>                  Animal Husbandry<br>                  Animals<br>                  Chickens<br>                  Eggs<br>                  Food Contamination<br>                  Housing, Animal<br>                  Metals<br>                  New South Wales<br>                  Ovum<br>                  Soil Pollutants<br>    Source title: Science of the Total Environment<br>            Year: 2016<br>       Countries: Australia<br>    Institutions: school of environmental and life sciences<br>        Keywords: Animal Husbandry<br>                  Animals<br>                  Arsenic<br>                  Article<br>                  Australia<br>                  Bioaccumulation<br>                  Biochemistry<br>                  Cadmium<br>                  Chemical contamination<br>                  Chicken<br>                  Chicken eggs<br>                  Chickens<br>                  Copper<br>                  Copper and zinc<br>                  Egg<br>                  Eggs<br>                  Food Contamination<br>                  Fruit and vegetables<br>                  Gallus gallus<br>                  Health<br>                  Health standards<br>                  Housing, Animal<br>                  Hunter Valley<br>                  Land use<br>                  Lead<br>                  Metal contamination<br>                  Metals<br>                  New South Wales<br>                  Ovum<br>                  Soil<br>                  Soil Pollutants<br>                  Soil disturbances<br>                  Soil pollution<br>                  Soils<br>                  Urban areas<br>                  Vegetables<br>                  Zinc<br>                  analysis<br>                  animal<br>                  animal housing<br>                  animal husbandry<br>                  arsenic<br>                  bioaccumulation<br>                  cadmium<br>                  chemistry<br>                  chicken<br>                  concentration (composition)<br>                  concentration (parameters)<br>                  controlled study<br>                  copper<br>                  egg<br>                  food analysis<br>                  food contamination<br>                  health investigation level<br>                  human<br>                  lead<br>                  metabolism<br>                  metal<br>                  nonhuman<br>                  ovum<br>                  pollution effect<br>                  pollution exposure<br>                  pollution monitoring<br>                  pollution transport<br>                  poultry<br>                  priority journal<br>                  procedures<br>                  residential area<br>                  soil analysis<br>                  soil pollutant<br>                  soil pollution<br>                  standard<br>                  zinc<br></pre>"
      }
     },
     "bc82eb3e7b804e678b100df3a8c3eff8": {
      "model_module": "@jupyter-widgets/base",
      "model_module_version": "1.2.0",
      "model_name": "LayoutModel",
      "state": {}
     },
     "bde8d454866241fca3a8e88c95a8542a": {
      "model_module": "@jupyter-widgets/base",
      "model_module_version": "1.2.0",
      "model_name": "LayoutModel",
      "state": {}
     },
     "c7aa5a7426524960869548e5ad80b057": {
      "model_module": "@jupyter-widgets/base",
      "model_module_version": "1.2.0",
      "model_name": "LayoutModel",
      "state": {}
     },
     "c96e273a752e42d2bff13d032337ea45": {
      "model_module": "@jupyter-widgets/base",
      "model_module_version": "1.2.0",
      "model_name": "LayoutModel",
      "state": {}
     },
     "d82afe5be0d9458185c6f4bc582f283e": {
      "model_module": "@jupyter-widgets/base",
      "model_module_version": "1.2.0",
      "model_name": "LayoutModel",
      "state": {}
     },
     "d83ac9d3f5ea4d07b287ea96911bac07": {
      "model_module": "@jupyter-widgets/controls",
      "model_module_version": "1.5.0",
      "model_name": "DescriptionStyleModel",
      "state": {
       "description_width": ""
      }
     },
     "dacc222c3ddd4666bef2e0d3bb137e91": {
      "model_module": "@jupyter-widgets/controls",
      "model_module_version": "1.5.0",
      "model_name": "LabelModel",
      "state": {
       "layout": "IPY_MODEL_514d2db5ba404b5298745cd712d2da0a",
       "style": "IPY_MODEL_084e20323328464cb49b3add1abae477",
       "value": "Term:"
      }
     },
     "db505becd72a40689a5da04e2826ef11": {
      "model_module": "@jupyter-widgets/controls",
      "model_module_version": "1.5.0",
      "model_name": "HTMLModel",
      "state": {
       "layout": "IPY_MODEL_ab2bef41b7d54760b56ff3d84341d4db",
       "style": "IPY_MODEL_d83ac9d3f5ea4d07b287ea96911bac07",
       "value": "<h1>Data Viewer</h1><hr style='height:2px;border-width:0;color:gray;background-color:gray'>"
      }
     },
     "e1024d29d5c44aec82f6a412a874355d": {
      "model_module": "@jupyter-widgets/controls",
      "model_module_version": "1.5.0",
      "model_name": "DescriptionStyleModel",
      "state": {
       "description_width": ""
      }
     },
     "e1530dee00764bdebe5b820051592dbb": {
      "model_module": "@jupyter-widgets/base",
      "model_module_version": "1.2.0",
      "model_name": "LayoutModel",
      "state": {}
     },
     "e22ff530d9ea484180ff28ce4ddaf69d": {
      "model_module": "@jupyter-widgets/controls",
      "model_module_version": "1.5.0",
      "model_name": "DescriptionStyleModel",
      "state": {
       "description_width": ""
      }
     },
     "e30a1a0aacae43ea8f4baf8786e30c35": {
      "model_module": "@jupyter-widgets/controls",
      "model_module_version": "1.5.0",
      "model_name": "DescriptionStyleModel",
      "state": {
       "description_width": ""
      }
     },
     "e30bda4016524ee0beee23a8771aa7c8": {
      "model_module": "@jupyter-widgets/controls",
      "model_module_version": "1.5.0",
      "model_name": "DescriptionStyleModel",
      "state": {
       "description_width": ""
      }
     },
     "eb0696007833465da131693bf68ce960": {
      "model_module": "@jupyter-widgets/controls",
      "model_module_version": "1.5.0",
      "model_name": "HTMLModel",
      "state": {
       "layout": "IPY_MODEL_606cea0ff5be44e0bb0082ece5db9068",
       "style": "IPY_MODEL_e1024d29d5c44aec82f6a412a874355d",
       "value": "<pre>         Authors: Hedlund A<br>                  Witter E<br>                  An BX<br>           Title: Assessment of N, P and K management by nutrient balances and flows on peri-urban smallholder farms in southern Vietnam<br> Author Keywords: Annual crops<br>                  Nutrient balance<br>                  Nutrient management<br>                  Nutrient use efficiency<br>                  Orchard<br>                  Peri-urban farming<br>                  Pig production<br>                  Smallholder farms<br>                  Vietnam<br>  Index Keywords: nitrogen<br>                  nutrient budget<br>                  periurban area<br>                  phosphorus<br>                  potassium<br>                  smallholder<br>                  Asia<br>                  Eurasia<br>                  Southeast Asia<br>                  Viet Nam<br>                  Fraxinus<br>                  Sus scrofa<br>    Source title: European Journal of Agronomy<br>            Year: 2003<br>       Countries: Sweden<br>                  <br>    Institutions: department of soil sciences<br>                  univ. of agriculture and forestry<br>        Keywords: Annual crops<br>                  Asia<br>                  Eurasia<br>                  Fraxinus<br>                  Nutrient balance<br>                  Nutrient management<br>                  Nutrient use efficiency<br>                  Orchard<br>                  Peri-urban farming<br>                  Pig production<br>                  Smallholder farms<br>                  Southeast Asia<br>                  Sus scrofa<br>                  Viet Nam<br>                  Vietnam<br>                  nitrogen<br>                  nutrient budget<br>                  periurban area<br>                  phosphorus<br>                  potassium<br>                  smallholder<br></pre>"
      }
     },
     "ec2875c70f5c41d9b7f0c4fa6abfc2bb": {
      "model_module": "@jupyter-widgets/base",
      "model_module_version": "1.2.0",
      "model_name": "LayoutModel",
      "state": {}
     },
     "f7d2f08d6ad946d5abebd6620bf886bf": {
      "model_module": "@jupyter-widgets/controls",
      "model_module_version": "1.5.0",
      "model_name": "DescriptionStyleModel",
      "state": {
       "description_width": ""
      }
     },
     "f82ff10c49ae495388b5833e01e42c86": {
      "model_module": "@jupyter-widgets/controls",
      "model_module_version": "1.5.0",
      "model_name": "HTMLModel",
      "state": {
       "layout": "IPY_MODEL_77559f314eef42ce9757ec60f01c260f",
       "style": "IPY_MODEL_8dd055237d52446398296bb37c54aab5",
       "value": "<pre>         Authors: Hedlund A<br>                  Witter E<br>                  An BX<br>           Title: Assessment of N, P and K management by nutrient balances and flows on peri-urban smallholder farms in southern Vietnam<br> Author Keywords: Annual crops<br>                  Nutrient balance<br>                  Nutrient management<br>                  Nutrient use efficiency<br>                  Orchard<br>                  Peri-urban farming<br>                  Pig production<br>                  Smallholder farms<br>                  Vietnam<br>  Index Keywords: nitrogen<br>                  nutrient budget<br>                  periurban area<br>                  phosphorus<br>                  potassium<br>                  smallholder<br>                  Asia<br>                  Eurasia<br>                  Southeast Asia<br>                  Viet Nam<br>                  Fraxinus<br>                  Sus scrofa<br>    Source title: European Journal of Agronomy<br>            Year: 2003<br>       Countries: Sweden<br>                  <br>    Institutions: department of soil sciences<br>                  univ. of agriculture and forestry<br>        Keywords: Annual crops<br>                  Asia<br>                  Eurasia<br>                  Fraxinus<br>                  Nutrient balance<br>                  Nutrient management<br>                  Nutrient use efficiency<br>                  Orchard<br>                  Peri-urban farming<br>                  Pig production<br>                  Smallholder farms<br>                  Southeast Asia<br>                  Sus scrofa<br>                  Viet Nam<br>                  Vietnam<br>                  nitrogen<br>                  nutrient budget<br>                  periurban area<br>                  phosphorus<br>                  potassium<br>                  smallholder<br></pre>"
      }
     }
    },
    "version_major": 2,
    "version_minor": 0
   }
  }
 },
 "nbformat": 4,
 "nbformat_minor": 4
}
