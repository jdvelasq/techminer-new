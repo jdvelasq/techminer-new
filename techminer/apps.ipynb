{
 "cells": [
  {
   "cell_type": "code",
   "execution_count": 1,
   "metadata": {},
   "outputs": [
    {
     "name": "stderr",
     "output_type": "stream",
     "text": [
      "2020-06-05 21:12:03,789 - INFO - Renaming and selecting columns ...\n",
      "2020-06-05 21:12:09,473 - INFO - Formatting author names ...\n",
      "2020-06-05 21:12:09,477 - INFO - Disambiguating author names ...\n",
      "2020-06-05 21:12:09,540 - INFO - Removing part of titles in foreing languages ...\n",
      "2020-06-05 21:12:09,543 - INFO - Fusioning author and index keywords ...\n",
      "2020-06-05 21:12:09,556 - INFO - NumExpr defaulting to 8 threads.\n",
      "2020-06-05 21:12:09,571 - INFO - Extracting countries from affiliations ...\n",
      "2020-06-05 21:12:15,858 - INFO - Extracting institutions from affiliations ...\n",
      "2020-06-05 21:12:15,871 - INFO - Extracting country of 1st author ...\n",
      "2020-06-05 21:12:15,877 - INFO - Extracting affiliation of 1st author ...\n",
      "2020-06-05 21:12:15,881 - INFO - Counting number of authors ...\n"
     ]
    }
   ],
   "source": [
    "import pandas as pd\n",
    "import data\n",
    "\n",
    "filepath = \"../data/papers/urban-agriculture.csv\"\n",
    "df = pd.read_csv(filepath)\n",
    "df = data.load_scopus(df)"
   ]
  },
  {
   "cell_type": "code",
   "execution_count": 2,
   "metadata": {},
   "outputs": [
    {
     "data": {
      "application/vnd.jupyter.widget-view+json": {
       "model_id": "b7a881b73cca49e7af62278d94529a65",
       "version_major": 2,
       "version_minor": 0
      },
      "text/plain": [
       "AppLayout(children=(HTML(value=\"<h1>Co-occurrence Analysis</h1><hr style='height:2px;border-width:0;color:gray…"
      ]
     },
     "metadata": {},
     "output_type": "display_data"
    }
   ],
   "source": [
    "import co_occurrence\n",
    "\n",
    "co_occurrence.app(df)"
   ]
  },
  {
   "cell_type": "code",
   "execution_count": null,
   "metadata": {},
   "outputs": [],
   "source": []
  },
  {
   "cell_type": "code",
   "execution_count": null,
   "metadata": {},
   "outputs": [],
   "source": []
  },
  {
   "cell_type": "code",
   "execution_count": null,
   "metadata": {},
   "outputs": [],
   "source": []
  },
  {
   "cell_type": "code",
   "execution_count": null,
   "metadata": {},
   "outputs": [],
   "source": []
  },
  {
   "cell_type": "code",
   "execution_count": null,
   "metadata": {},
   "outputs": [],
   "source": [
    "import correlation\n",
    "\n",
    "correlation.app(df)"
   ]
  },
  {
   "cell_type": "code",
   "execution_count": null,
   "metadata": {},
   "outputs": [],
   "source": []
  },
  {
   "cell_type": "code",
   "execution_count": null,
   "metadata": {},
   "outputs": [],
   "source": []
  },
  {
   "cell_type": "code",
   "execution_count": null,
   "metadata": {},
   "outputs": [],
   "source": [
    "data.coverage(df)"
   ]
  },
  {
   "cell_type": "markdown",
   "metadata": {},
   "source": [
    "### Keywords"
   ]
  },
  {
   "cell_type": "code",
   "execution_count": null,
   "metadata": {},
   "outputs": [],
   "source": []
  },
  {
   "cell_type": "markdown",
   "metadata": {},
   "source": [
    "### FindString Dialog Box pag. 69"
   ]
  },
  {
   "cell_type": "code",
   "execution_count": null,
   "metadata": {},
   "outputs": [],
   "source": []
  },
  {
   "cell_type": "markdown",
   "metadata": {},
   "source": [
    "### Cleaning a list pag. 102"
   ]
  },
  {
   "cell_type": "code",
   "execution_count": null,
   "metadata": {},
   "outputs": [],
   "source": []
  },
  {
   "cell_type": "markdown",
   "metadata": {},
   "source": [
    "### Fuzzy match editor pag.126"
   ]
  },
  {
   "cell_type": "code",
   "execution_count": null,
   "metadata": {},
   "outputs": [],
   "source": []
  },
  {
   "cell_type": "markdown",
   "metadata": {},
   "source": [
    "### Stemming And / Stemming Or"
   ]
  },
  {
   "cell_type": "code",
   "execution_count": null,
   "metadata": {},
   "outputs": [],
   "source": []
  },
  {
   "cell_type": "markdown",
   "metadata": {},
   "source": [
    "### APPS"
   ]
  },
  {
   "cell_type": "code",
   "execution_count": null,
   "metadata": {},
   "outputs": [],
   "source": [
    "import techminer.by_year as year\n",
    "year.app(df)"
   ]
  },
  {
   "cell_type": "code",
   "execution_count": null,
   "metadata": {},
   "outputs": [],
   "source": [
    "import techminer.by_term as term\n",
    "term.app(df)"
   ]
  },
  {
   "cell_type": "code",
   "execution_count": null,
   "metadata": {},
   "outputs": [],
   "source": [
    "import techminer.by_term_per_year as term_year\n",
    "term_year.app(df)"
   ]
  },
  {
   "cell_type": "code",
   "execution_count": null,
   "metadata": {},
   "outputs": [],
   "source": [
    "import techminer.co_occurrence as co_occurrence\n",
    "co_occurrence.app(df)"
   ]
  },
  {
   "cell_type": "code",
   "execution_count": null,
   "metadata": {},
   "outputs": [],
   "source": [
    "import techminer.correlation as correlation\n",
    "correlation.app(df)"
   ]
  },
  {
   "cell_type": "code",
   "execution_count": null,
   "metadata": {},
   "outputs": [],
   "source": []
  },
  {
   "cell_type": "code",
   "execution_count": null,
   "metadata": {},
   "outputs": [],
   "source": []
  },
  {
   "cell_type": "code",
   "execution_count": null,
   "metadata": {},
   "outputs": [],
   "source": []
  },
  {
   "cell_type": "code",
   "execution_count": null,
   "metadata": {},
   "outputs": [],
   "source": []
  },
  {
   "cell_type": "code",
   "execution_count": null,
   "metadata": {},
   "outputs": [],
   "source": []
  },
  {
   "cell_type": "code",
   "execution_count": null,
   "metadata": {},
   "outputs": [],
   "source": [
    "import ipywidgets as widgets\n",
    "from ipywidgets import Layout, AppLayout"
   ]
  },
  {
   "cell_type": "code",
   "execution_count": null,
   "metadata": {},
   "outputs": [],
   "source": [
    "\n",
    "COLUMNS = [\n",
    "    \"Author Keywords\",\n",
    "    \"Authors\",\n",
    "    \"Countries\",\n",
    "    \"Country 1st\",\n",
    "    \"Document type\",\n",
    "    \"Index Keywords\",\n",
    "    \"Institution 1st\",\n",
    "    \"Institutions\",\n",
    "    \"Keywords\",\n",
    "    \"Source title\",\n",
    "]"
   ]
  },
  {
   "cell_type": "code",
   "execution_count": null,
   "metadata": {},
   "outputs": [],
   "source": [
    "FIGSIZE = (14, 10.0) ## Co-occurrente-analysis  <---- no tiene figura\n",
    "FIGSIZE = (14, 9.0)"
   ]
  },
  {
   "cell_type": "markdown",
   "metadata": {},
   "source": [
    "# NUEVA INTERFAZ"
   ]
  },
  {
   "cell_type": "code",
   "execution_count": null,
   "metadata": {},
   "outputs": [],
   "source": [
    "from techminer.summary_by_term_per_year import documents_by_term_per_year, citations_by_term_per_year"
   ]
  },
  {
   "cell_type": "code",
   "execution_count": null,
   "metadata": {},
   "outputs": [],
   "source": []
  },
  {
   "cell_type": "code",
   "execution_count": null,
   "metadata": {},
   "outputs": [],
   "source": [
    "import techminer.plots as plt\n",
    "from techminer.plots import COLORMAPS\n",
    "from techminer.summary_by_term import citations_by_term, documents_by_term\n",
    "\n",
    "WIDGET_WIDTH = \"200px\"\n",
    "LEFT_PANEL_HEIGHT = \"588px\"\n",
    "RIGHT_PANEL_WIDTH = \"870px\"\n",
    "FIGSIZE = (14, 10.0)\n",
    "PANE_HEIGHTS = [\"80px\", \"650px\", 0]\n",
    "\n",
    "COLUMNS = [\n",
    "    \"Author Keywords\",\n",
    "    \"Authors\",\n",
    "    \"Countries\",\n",
    "    \"Country 1st\",\n",
    "    \"Document type\",\n",
    "    \"Index Keywords\",\n",
    "    \"Institution 1st\",\n",
    "    \"Institutions\",\n",
    "    \"Keywords\",\n",
    "    \"Source title\",\n",
    "]\n",
    "\n"
   ]
  },
  {
   "cell_type": "code",
   "execution_count": null,
   "metadata": {},
   "outputs": [],
   "source": []
  },
  {
   "cell_type": "code",
   "execution_count": null,
   "metadata": {},
   "outputs": [],
   "source": []
  },
  {
   "cell_type": "code",
   "execution_count": null,
   "metadata": {},
   "outputs": [],
   "source": []
  },
  {
   "cell_type": "code",
   "execution_count": null,
   "metadata": {},
   "outputs": [],
   "source": []
  },
  {
   "cell_type": "code",
   "execution_count": null,
   "metadata": {},
   "outputs": [],
   "source": [
    "import co_occurrence"
   ]
  },
  {
   "cell_type": "code",
   "execution_count": null,
   "metadata": {},
   "outputs": [],
   "source": []
  },
  {
   "cell_type": "code",
   "execution_count": null,
   "metadata": {},
   "outputs": [],
   "source": []
  },
  {
   "cell_type": "code",
   "execution_count": null,
   "metadata": {},
   "outputs": [],
   "source": []
  },
  {
   "cell_type": "code",
   "execution_count": null,
   "metadata": {},
   "outputs": [],
   "source": []
  },
  {
   "cell_type": "code",
   "execution_count": null,
   "metadata": {},
   "outputs": [],
   "source": []
  },
  {
   "cell_type": "code",
   "execution_count": null,
   "metadata": {},
   "outputs": [],
   "source": []
  },
  {
   "cell_type": "code",
   "execution_count": null,
   "metadata": {},
   "outputs": [],
   "source": [
    "from ipywidgets import interact, interactive, fixed, interact_manual\n",
    "interact(slow_function,i=widgets.FloatSlider(min=1e5, max=1e7, step=1e5, continuous_update=True));"
   ]
  },
  {
   "cell_type": "code",
   "execution_count": null,
   "metadata": {},
   "outputs": [],
   "source": [
    "def slow_function(i):\n",
    "    print(int(i),list(x for x in range(int(i)) if\n",
    "                str(x)==str(x)[::-1] and\n",
    "                str(x**2)==str(x**2)[::-1]))\n",
    "    return"
   ]
  },
  {
   "cell_type": "code",
   "execution_count": null,
   "metadata": {},
   "outputs": [],
   "source": []
  },
  {
   "cell_type": "code",
   "execution_count": null,
   "metadata": {},
   "outputs": [],
   "source": [
    "x = \"hola\"\n",
    "x[:-1]"
   ]
  },
  {
   "cell_type": "code",
   "execution_count": null,
   "metadata": {},
   "outputs": [],
   "source": [
    "import pandas as pd\n",
    "x = pd.DataFrame({'a': [1, 2, 3, 4, 5], 'b': [1, 2, 3, 4, 5]})\n",
    "\n",
    "pd.Series(x.values.ravel()).value_counts()"
   ]
  },
  {
   "cell_type": "code",
   "execution_count": null,
   "metadata": {},
   "outputs": [],
   "source": [
    "pd.melt(x)"
   ]
  },
  {
   "cell_type": "code",
   "execution_count": null,
   "metadata": {},
   "outputs": [],
   "source": [
    "x.values.shape"
   ]
  },
  {
   "cell_type": "code",
   "execution_count": null,
   "metadata": {},
   "outputs": [],
   "source": [
    "print('hola')"
   ]
  },
  {
   "cell_type": "code",
   "execution_count": null,
   "metadata": {},
   "outputs": [],
   "source": [
    "m = \"abcdefg [1000]\"\n",
    "m[m.find('[')+1:m.find(']')]\n"
   ]
  },
  {
   "cell_type": "code",
   "execution_count": null,
   "metadata": {},
   "outputs": [],
   "source": [
    "[1, 2, 3] == (1, 2, 3)"
   ]
  },
  {
   "cell_type": "code",
   "execution_count": null,
   "metadata": {},
   "outputs": [],
   "source": [
    "import networkx as nx\n",
    "G = nx.petersen_graph()\n",
    "nx.draw(G, with_labels=True, font_weight='bold')"
   ]
  },
  {
   "cell_type": "code",
   "execution_count": null,
   "metadata": {},
   "outputs": [],
   "source": [
    "nx.draw_shell(G, nlist=[range(5, 10), range(5)], with_labels=True, font_weight='bold')"
   ]
  },
  {
   "cell_type": "code",
   "execution_count": null,
   "metadata": {},
   "outputs": [],
   "source": [
    "nx.draw_circular(G, nlist=[range(5, 10), range(5)], with_labels=True, font_weight='bold')"
   ]
  },
  {
   "cell_type": "code",
   "execution_count": null,
   "metadata": {},
   "outputs": [],
   "source": [
    "nx.draw_kamada_kawai(G, nlist=[range(5, 10), range(5)], with_labels=True, font_weight='bold')"
   ]
  },
  {
   "cell_type": "code",
   "execution_count": null,
   "metadata": {},
   "outputs": [],
   "source": [
    "nx.draw_spectral(G, nlist=[range(5, 10), range(5)], with_labels=True, font_weight='bold')"
   ]
  },
  {
   "cell_type": "code",
   "execution_count": null,
   "metadata": {},
   "outputs": [],
   "source": [
    "nx.draw_spring(G, nlist=[range(5, 10), range(5)], with_labels=True, font_weight='bold')"
   ]
  },
  {
   "cell_type": "code",
   "execution_count": null,
   "metadata": {},
   "outputs": [],
   "source": [
    "nx.draw_shell(G, nlist=[range(5, 10), range(5)], with_labels=True, font_weight='bold')"
   ]
  },
  {
   "cell_type": "code",
   "execution_count": null,
   "metadata": {},
   "outputs": [],
   "source": [
    "[12]*5"
   ]
  },
  {
   "cell_type": "code",
   "execution_count": null,
   "metadata": {},
   "outputs": [],
   "source": []
  }
 ],
 "metadata": {
  "kernelspec": {
   "display_name": "Python 3",
   "language": "python",
   "name": "python3"
  },
  "language_info": {
   "codemirror_mode": {
    "name": "ipython",
    "version": 3
   },
   "file_extension": ".py",
   "mimetype": "text/x-python",
   "name": "python",
   "nbconvert_exporter": "python",
   "pygments_lexer": "ipython3",
   "version": "3.6.9"
  },
  "widgets": {
   "application/vnd.jupyter.widget-state+json": {
    "state": {
     "034795ca14284cec889ff72d60bb1146": {
      "model_module": "@jupyter-widgets/base",
      "model_module_version": "1.2.0",
      "model_name": "LayoutModel",
      "state": {
       "align_items": "baseline",
       "width": "870px"
      }
     },
     "04ebea8296df4f6b869584a75b983d29": {
      "model_module": "@jupyter-widgets/controls",
      "model_module_version": "1.5.0",
      "model_name": "DescriptionStyleModel",
      "state": {
       "description_width": ""
      }
     },
     "0929588e22a9487f808a41829cc5bf93": {
      "model_module": "@jupyter-widgets/controls",
      "model_module_version": "1.5.0",
      "model_name": "VBoxModel",
      "state": {
       "children": [
        "IPY_MODEL_ce3601ed860c4c3099b517013b54ba45",
        "IPY_MODEL_785f1c38e53943d3a6f0c278ccb99893"
       ],
       "layout": "IPY_MODEL_dc4d5803eb9e418a895a7395cb3c90ea"
      }
     },
     "09f619902dbe40b1b2924862cddace9f": {
      "model_module": "@jupyter-widgets/base",
      "model_module_version": "1.2.0",
      "model_name": "LayoutModel",
      "state": {}
     },
     "0f1e7cf7d12b41ebab274b03f9a8340d": {
      "model_module": "@jupyter-widgets/controls",
      "model_module_version": "1.5.0",
      "model_name": "VBoxModel",
      "state": {
       "children": [
        "IPY_MODEL_cf3f9f21f6834038aae8cd43cbc7e516",
        "IPY_MODEL_fb6fece57f984de595fc0c3541ffeb0b"
       ],
       "layout": "IPY_MODEL_09f619902dbe40b1b2924862cddace9f"
      }
     },
     "15b269434d2d45edbf444db9249a6975": {
      "model_module": "@jupyter-widgets/controls",
      "model_module_version": "1.5.0",
      "model_name": "DropdownModel",
      "state": {
       "_options_labels": [
        "0",
        "1",
        "2",
        "3",
        "4",
        "5",
        "6",
        "7",
        "8",
        "9",
        "10",
        "11",
        "12",
        "14",
        "15",
        "17",
        "18",
        "20",
        "24",
        "25",
        "26",
        "30"
       ],
       "index": 0,
       "layout": "IPY_MODEL_da8c85ec19e64c5385379588628e5171",
       "style": "IPY_MODEL_d4a96f359c25494e84578d4fd7c87c6a"
      }
     },
     "16d20c2310ca42edb74f3a288df2dbeb": {
      "model_module": "@jupyter-widgets/base",
      "model_module_version": "1.2.0",
      "model_name": "LayoutModel",
      "state": {}
     },
     "199f058fa350436e8904cbef4eb00994": {
      "model_module": "@jupyter-widgets/controls",
      "model_module_version": "1.5.0",
      "model_name": "DescriptionStyleModel",
      "state": {
       "description_width": ""
      }
     },
     "1b9f49d2c26d45e69b4699020e3e3373": {
      "model_module": "@jupyter-widgets/controls",
      "model_module_version": "1.5.0",
      "model_name": "DescriptionStyleModel",
      "state": {
       "description_width": ""
      }
     },
     "1d0869f7637e46ef81d9fcef6d441bef": {
      "model_module": "@jupyter-widgets/base",
      "model_module_version": "1.2.0",
      "model_name": "LayoutModel",
      "state": {
       "width": "200px"
      }
     },
     "1fbf0e447bbf474385fb3cb5450f1f81": {
      "model_module": "@jupyter-widgets/controls",
      "model_module_version": "1.5.0",
      "model_name": "DescriptionStyleModel",
      "state": {
       "description_width": ""
      }
     },
     "24cb19ed38d44657beb3bb4c974126de": {
      "model_module": "@jupyter-widgets/base",
      "model_module_version": "1.2.0",
      "model_name": "LayoutModel",
      "state": {}
     },
     "2908055278554f6f8a29563f669e8061": {
      "model_module": "@jupyter-widgets/base",
      "model_module_version": "1.2.0",
      "model_name": "LayoutModel",
      "state": {
       "grid_area": "header"
      }
     },
     "2dcfdb96fd6a4bb8bb3ce14e9e6138e4": {
      "model_module": "@jupyter-widgets/base",
      "model_module_version": "1.2.0",
      "model_name": "LayoutModel",
      "state": {}
     },
     "2f0ee00d10454e28ab451d300329eb6b": {
      "model_module": "@jupyter-widgets/base",
      "model_module_version": "1.2.0",
      "model_name": "LayoutModel",
      "state": {}
     },
     "3506368093ac4eccbbe430a41e74886e": {
      "model_module": "@jupyter-widgets/output",
      "model_module_version": "1.0.0",
      "model_name": "OutputModel",
      "state": {
       "layout": "IPY_MODEL_b83a2b8e72a94b8abf3ee7b64c8b7953",
       "outputs": [
        {
         "data": {
          "application/vnd.jupyter.widget-view+json": {
           "model_id": "",
           "version_major": 2,
           "version_minor": 0
          },
          "text/plain": "HTML(value='<h3>Matrix exceeds the maximum shape</h3>')"
         },
         "metadata": {},
         "output_type": "display_data"
        }
       ]
      }
     },
     "395a92c32ec64d51a15b28d517fb76b6": {
      "model_module": "@jupyter-widgets/base",
      "model_module_version": "1.2.0",
      "model_name": "LayoutModel",
      "state": {
       "border": "1px solid gray",
       "height": "588px"
      }
     },
     "3be1a4f8cbab47b1a1b3a14301abfc71": {
      "model_module": "@jupyter-widgets/base",
      "model_module_version": "1.2.0",
      "model_name": "LayoutModel",
      "state": {
       "grid_template_areas": "\"header header header\"\n\"center center center\"",
       "grid_template_columns": "1fr 2fr 1fr",
       "grid_template_rows": "80px 650px"
      }
     },
     "4608462a899440d4944865114a579cc7": {
      "model_module": "@jupyter-widgets/controls",
      "model_module_version": "1.5.0",
      "model_name": "HTMLModel",
      "state": {
       "layout": "IPY_MODEL_d0cd93fbd88f46fa97678b430cfd7161",
       "style": "IPY_MODEL_df140ea0eb62423a9a9083c866160cda",
       "value": "<h3>Matrix exceeds the maximum shape</h3>"
      }
     },
     "47fced522d0847e7b4f5040ebef72764": {
      "model_module": "@jupyter-widgets/base",
      "model_module_version": "1.2.0",
      "model_name": "LayoutModel",
      "state": {}
     },
     "5183447b8a4b4d3b96c4cde9ed549f3a": {
      "model_module": "@jupyter-widgets/base",
      "model_module_version": "1.2.0",
      "model_name": "LayoutModel",
      "state": {}
     },
     "58df7eae50174465b1a7064cd80521b6": {
      "model_module": "@jupyter-widgets/controls",
      "model_module_version": "1.5.0",
      "model_name": "DescriptionStyleModel",
      "state": {
       "description_width": ""
      }
     },
     "5e9fd944215b4aa0ba802ae13f3af75a": {
      "model_module": "@jupyter-widgets/base",
      "model_module_version": "1.2.0",
      "model_name": "LayoutModel",
      "state": {}
     },
     "62e42ab2b42948f9bc68fd7b7663a90a": {
      "model_module": "@jupyter-widgets/base",
      "model_module_version": "1.2.0",
      "model_name": "LayoutModel",
      "state": {
       "grid_area": "center"
      }
     },
     "6c8b7782e8034016b337dccf8d0f0cee": {
      "model_module": "@jupyter-widgets/controls",
      "model_module_version": "1.5.0",
      "model_name": "HTMLModel",
      "state": {
       "layout": "IPY_MODEL_8e235d088a314af3840d0ad368858dbc",
       "style": "IPY_MODEL_04ebea8296df4f6b869584a75b983d29",
       "value": "<h3>Matrix exceeds the maximum shape</h3>"
      }
     },
     "727c56ad7fac40c5a2cffd6c2edc58eb": {
      "model_module": "@jupyter-widgets/controls",
      "model_module_version": "1.5.0",
      "model_name": "VBoxModel",
      "state": {
       "children": [
        "IPY_MODEL_8b0bd42ffc494cb9814067d47a03f789"
       ],
       "layout": "IPY_MODEL_034795ca14284cec889ff72d60bb1146"
      }
     },
     "7472d9a050f741beaf81b1970250cf64": {
      "model_module": "@jupyter-widgets/controls",
      "model_module_version": "1.5.0",
      "model_name": "LabelModel",
      "state": {
       "layout": "IPY_MODEL_5e9fd944215b4aa0ba802ae13f3af75a",
       "style": "IPY_MODEL_91296baecf2f4e3181a10501e86f3064",
       "value": "Min occurrence value:"
      }
     },
     "752032130a294a2c8ff0edfa533cdac2": {
      "model_module": "@jupyter-widgets/base",
      "model_module_version": "1.2.0",
      "model_name": "LayoutModel",
      "state": {
       "width": "200px"
      }
     },
     "775a6a8124984ccf857d4082475e58f8": {
      "model_module": "@jupyter-widgets/base",
      "model_module_version": "1.2.0",
      "model_name": "LayoutModel",
      "state": {}
     },
     "785f1c38e53943d3a6f0c278ccb99893": {
      "model_module": "@jupyter-widgets/controls",
      "model_module_version": "1.5.0",
      "model_name": "DropdownModel",
      "state": {
       "_options_labels": [
        "Author Keywords",
        "Authors",
        "Countries",
        "Country 1st",
        "Index Keywords",
        "Institution 1st",
        "Institutions",
        "Keywords",
        "Source title"
       ],
       "index": 0,
       "layout": "IPY_MODEL_db3e68cc5fa442a284ffbfd41adc70f1",
       "style": "IPY_MODEL_c34e92ace93c4b218122e43d07a8d93d"
      }
     },
     "8433e2474df84b56b5b2c8a3b92b5968": {
      "model_module": "@jupyter-widgets/base",
      "model_module_version": "1.2.0",
      "model_name": "LayoutModel",
      "state": {}
     },
     "865e3a459dcb47638c170ce6d78906e9": {
      "model_module": "@jupyter-widgets/base",
      "model_module_version": "1.2.0",
      "model_name": "LayoutModel",
      "state": {}
     },
     "88f775c9dd5145ce89331fe5477953c7": {
      "model_module": "@jupyter-widgets/controls",
      "model_module_version": "1.5.0",
      "model_name": "DescriptionStyleModel",
      "state": {
       "description_width": ""
      }
     },
     "8b0bd42ffc494cb9814067d47a03f789": {
      "model_module": "@jupyter-widgets/output",
      "model_module_version": "1.0.0",
      "model_name": "OutputModel",
      "state": {
       "layout": "IPY_MODEL_865e3a459dcb47638c170ce6d78906e9",
       "outputs": [
        {
         "data": {
          "text/html": "<style  type=\"text/css\" >\n    #T_5f42a464_a771_11ea_b082_0242ac110002row0_col0 {\n            background-color:  #ffffff;\n            color:  #000000;\n        }    #T_5f42a464_a771_11ea_b082_0242ac110002row0_col1 {\n            background-color:  #f5f5f5;\n            color:  #000000;\n        }    #T_5f42a464_a771_11ea_b082_0242ac110002row0_col2 {\n            background-color:  #ffffff;\n            color:  #000000;\n        }    #T_5f42a464_a771_11ea_b082_0242ac110002row0_col3 {\n            background-color:  #ffffff;\n            color:  #000000;\n        }    #T_5f42a464_a771_11ea_b082_0242ac110002row0_col4 {\n            background-color:  #b5b5b5;\n            color:  #000000;\n        }    #T_5f42a464_a771_11ea_b082_0242ac110002row1_col0 {\n            background-color:  #5e5e5e;\n            color:  #f1f1f1;\n        }    #T_5f42a464_a771_11ea_b082_0242ac110002row1_col1 {\n            background-color:  #ffffff;\n            color:  #000000;\n        }    #T_5f42a464_a771_11ea_b082_0242ac110002row1_col2 {\n            background-color:  #ffffff;\n            color:  #000000;\n        }    #T_5f42a464_a771_11ea_b082_0242ac110002row1_col3 {\n            background-color:  #ffffff;\n            color:  #000000;\n        }    #T_5f42a464_a771_11ea_b082_0242ac110002row1_col4 {\n            background-color:  #ffffff;\n            color:  #000000;\n        }    #T_5f42a464_a771_11ea_b082_0242ac110002row2_col0 {\n            background-color:  #ffffff;\n            color:  #000000;\n        }    #T_5f42a464_a771_11ea_b082_0242ac110002row2_col1 {\n            background-color:  #b0b0b0;\n            color:  #000000;\n        }    #T_5f42a464_a771_11ea_b082_0242ac110002row2_col2 {\n            background-color:  #d4d4d4;\n            color:  #000000;\n        }    #T_5f42a464_a771_11ea_b082_0242ac110002row2_col3 {\n            background-color:  #f2f2f2;\n            color:  #000000;\n        }    #T_5f42a464_a771_11ea_b082_0242ac110002row2_col4 {\n            background-color:  #bfbfbf;\n            color:  #000000;\n        }    #T_5f42a464_a771_11ea_b082_0242ac110002row3_col0 {\n            background-color:  #000000;\n            color:  #f1f1f1;\n        }    #T_5f42a464_a771_11ea_b082_0242ac110002row3_col1 {\n            background-color:  #333333;\n            color:  #f1f1f1;\n        }    #T_5f42a464_a771_11ea_b082_0242ac110002row3_col2 {\n            background-color:  #e6e6e6;\n            color:  #000000;\n        }    #T_5f42a464_a771_11ea_b082_0242ac110002row3_col3 {\n            background-color:  #d3d3d3;\n            color:  #000000;\n        }    #T_5f42a464_a771_11ea_b082_0242ac110002row3_col4 {\n            background-color:  #000000;\n            color:  #f1f1f1;\n        }    #T_5f42a464_a771_11ea_b082_0242ac110002row4_col0 {\n            background-color:  #cfcfcf;\n            color:  #000000;\n        }    #T_5f42a464_a771_11ea_b082_0242ac110002row4_col1 {\n            background-color:  #000000;\n            color:  #f1f1f1;\n        }    #T_5f42a464_a771_11ea_b082_0242ac110002row4_col2 {\n            background-color:  #000000;\n            color:  #f1f1f1;\n        }    #T_5f42a464_a771_11ea_b082_0242ac110002row4_col3 {\n            background-color:  #d3d3d3;\n            color:  #000000;\n        }    #T_5f42a464_a771_11ea_b082_0242ac110002row4_col4 {\n            background-color:  #7a7a7a;\n            color:  #000000;\n        }    #T_5f42a464_a771_11ea_b082_0242ac110002row5_col0 {\n            background-color:  #cfcfcf;\n            color:  #000000;\n        }    #T_5f42a464_a771_11ea_b082_0242ac110002row5_col1 {\n            background-color:  #727272;\n            color:  #000000;\n        }    #T_5f42a464_a771_11ea_b082_0242ac110002row5_col2 {\n            background-color:  #ffffff;\n            color:  #000000;\n        }    #T_5f42a464_a771_11ea_b082_0242ac110002row5_col3 {\n            background-color:  #000000;\n            color:  #f1f1f1;\n        }    #T_5f42a464_a771_11ea_b082_0242ac110002row5_col4 {\n            background-color:  #959595;\n            color:  #000000;\n        }    #T_5f42a464_a771_11ea_b082_0242ac110002row6_col0 {\n            background-color:  #ffffff;\n            color:  #000000;\n        }    #T_5f42a464_a771_11ea_b082_0242ac110002row6_col1 {\n            background-color:  #ffffff;\n            color:  #000000;\n        }    #T_5f42a464_a771_11ea_b082_0242ac110002row6_col2 {\n            background-color:  #f4f4f4;\n            color:  #000000;\n        }    #T_5f42a464_a771_11ea_b082_0242ac110002row6_col3 {\n            background-color:  #ffffff;\n            color:  #000000;\n        }    #T_5f42a464_a771_11ea_b082_0242ac110002row6_col4 {\n            background-color:  #959595;\n            color:  #000000;\n        }    #T_5f42a464_a771_11ea_b082_0242ac110002row7_col0 {\n            background-color:  #ffffff;\n            color:  #000000;\n        }    #T_5f42a464_a771_11ea_b082_0242ac110002row7_col1 {\n            background-color:  #ffffff;\n            color:  #000000;\n        }    #T_5f42a464_a771_11ea_b082_0242ac110002row7_col2 {\n            background-color:  #ffffff;\n            color:  #000000;\n        }    #T_5f42a464_a771_11ea_b082_0242ac110002row7_col3 {\n            background-color:  #ffffff;\n            color:  #000000;\n        }    #T_5f42a464_a771_11ea_b082_0242ac110002row7_col4 {\n            background-color:  #a0a0a0;\n            color:  #000000;\n        }    #T_5f42a464_a771_11ea_b082_0242ac110002row8_col0 {\n            background-color:  #ffffff;\n            color:  #000000;\n        }    #T_5f42a464_a771_11ea_b082_0242ac110002row8_col1 {\n            background-color:  #f5f5f5;\n            color:  #000000;\n        }    #T_5f42a464_a771_11ea_b082_0242ac110002row8_col2 {\n            background-color:  #f4f4f4;\n            color:  #000000;\n        }    #T_5f42a464_a771_11ea_b082_0242ac110002row8_col3 {\n            background-color:  #ffffff;\n            color:  #000000;\n        }    #T_5f42a464_a771_11ea_b082_0242ac110002row8_col4 {\n            background-color:  #333333;\n            color:  #f1f1f1;\n        }    #T_5f42a464_a771_11ea_b082_0242ac110002row9_col0 {\n            background-color:  #8e8e8e;\n            color:  #000000;\n        }    #T_5f42a464_a771_11ea_b082_0242ac110002row9_col1 {\n            background-color:  #d9d9d9;\n            color:  #000000;\n        }    #T_5f42a464_a771_11ea_b082_0242ac110002row9_col2 {\n            background-color:  #ffffff;\n            color:  #000000;\n        }    #T_5f42a464_a771_11ea_b082_0242ac110002row9_col3 {\n            background-color:  #ffffff;\n            color:  #000000;\n        }    #T_5f42a464_a771_11ea_b082_0242ac110002row9_col4 {\n            background-color:  #282828;\n            color:  #f1f1f1;\n        }</style><table id=\"T_5f42a464_a771_11ea_b082_0242ac110002\" ><thead>    <tr>        <th class=\"blank level0\" ></th>        <th class=\"col_heading level0 col0\" >France</th>        <th class=\"col_heading level0 col1\" >Germany</th>        <th class=\"col_heading level0 col2\" >Spain</th>        <th class=\"col_heading level0 col3\" >Switzerland</th>        <th class=\"col_heading level0 col4\" >United States</th>    </tr></thead><tbody>\n                <tr>\n                        <th id=\"T_5f42a464_a771_11ea_b082_0242ac110002level0_row0\" class=\"row_heading level0 row0\" >Community gardening</th>\n                        <td id=\"T_5f42a464_a771_11ea_b082_0242ac110002row0_col0\" class=\"data row0 col0\" >0</td>\n                        <td id=\"T_5f42a464_a771_11ea_b082_0242ac110002row0_col1\" class=\"data row0 col1\" >2</td>\n                        <td id=\"T_5f42a464_a771_11ea_b082_0242ac110002row0_col2\" class=\"data row0 col2\" >0</td>\n                        <td id=\"T_5f42a464_a771_11ea_b082_0242ac110002row0_col3\" class=\"data row0 col3\" >0</td>\n                        <td id=\"T_5f42a464_a771_11ea_b082_0242ac110002row0_col4\" class=\"data row0 col4\" >12</td>\n            </tr>\n            <tr>\n                        <th id=\"T_5f42a464_a771_11ea_b082_0242ac110002level0_row1\" class=\"row_heading level0 row1\" >Green roof</th>\n                        <td id=\"T_5f42a464_a771_11ea_b082_0242ac110002row1_col0\" class=\"data row1 col0\" >12</td>\n                        <td id=\"T_5f42a464_a771_11ea_b082_0242ac110002row1_col1\" class=\"data row1 col1\" >0</td>\n                        <td id=\"T_5f42a464_a771_11ea_b082_0242ac110002row1_col2\" class=\"data row1 col2\" >0</td>\n                        <td id=\"T_5f42a464_a771_11ea_b082_0242ac110002row1_col3\" class=\"data row1 col3\" >0</td>\n                        <td id=\"T_5f42a464_a771_11ea_b082_0242ac110002row1_col4\" class=\"data row1 col4\" >0</td>\n            </tr>\n            <tr>\n                        <th id=\"T_5f42a464_a771_11ea_b082_0242ac110002level0_row2\" class=\"row_heading level0 row2\" >Sustainability</th>\n                        <td id=\"T_5f42a464_a771_11ea_b082_0242ac110002row2_col0\" class=\"data row2 col0\" >0</td>\n                        <td id=\"T_5f42a464_a771_11ea_b082_0242ac110002row2_col1\" class=\"data row2 col1\" >10</td>\n                        <td id=\"T_5f42a464_a771_11ea_b082_0242ac110002row2_col2\" class=\"data row2 col2\" >3</td>\n                        <td id=\"T_5f42a464_a771_11ea_b082_0242ac110002row2_col3\" class=\"data row2 col3\" >2</td>\n                        <td id=\"T_5f42a464_a771_11ea_b082_0242ac110002row2_col4\" class=\"data row2 col4\" >11</td>\n            </tr>\n            <tr>\n                        <th id=\"T_5f42a464_a771_11ea_b082_0242ac110002level0_row3\" class=\"row_heading level0 row3\" >Urban agriculture</th>\n                        <td id=\"T_5f42a464_a771_11ea_b082_0242ac110002row3_col0\" class=\"data row3 col0\" >17</td>\n                        <td id=\"T_5f42a464_a771_11ea_b082_0242ac110002row3_col1\" class=\"data row3 col1\" >20</td>\n                        <td id=\"T_5f42a464_a771_11ea_b082_0242ac110002row3_col2\" class=\"data row3 col2\" >2</td>\n                        <td id=\"T_5f42a464_a771_11ea_b082_0242ac110002row3_col3\" class=\"data row3 col3\" >5</td>\n                        <td id=\"T_5f42a464_a771_11ea_b082_0242ac110002row3_col4\" class=\"data row3 col4\" >30</td>\n            </tr>\n            <tr>\n                        <th id=\"T_5f42a464_a771_11ea_b082_0242ac110002level0_row4\" class=\"row_heading level0 row4\" >Urban farming</th>\n                        <td id=\"T_5f42a464_a771_11ea_b082_0242ac110002row4_col0\" class=\"data row4 col0\" >5</td>\n                        <td id=\"T_5f42a464_a771_11ea_b082_0242ac110002row4_col1\" class=\"data row4 col1\" >24</td>\n                        <td id=\"T_5f42a464_a771_11ea_b082_0242ac110002row4_col2\" class=\"data row4 col2\" >11</td>\n                        <td id=\"T_5f42a464_a771_11ea_b082_0242ac110002row4_col3\" class=\"data row4 col3\" >5</td>\n                        <td id=\"T_5f42a464_a771_11ea_b082_0242ac110002row4_col4\" class=\"data row4 col4\" >18</td>\n            </tr>\n            <tr>\n                        <th id=\"T_5f42a464_a771_11ea_b082_0242ac110002level0_row5\" class=\"row_heading level0 row5\" >Urban gardening</th>\n                        <td id=\"T_5f42a464_a771_11ea_b082_0242ac110002row5_col0\" class=\"data row5 col0\" >5</td>\n                        <td id=\"T_5f42a464_a771_11ea_b082_0242ac110002row5_col1\" class=\"data row5 col1\" >15</td>\n                        <td id=\"T_5f42a464_a771_11ea_b082_0242ac110002row5_col2\" class=\"data row5 col2\" >0</td>\n                        <td id=\"T_5f42a464_a771_11ea_b082_0242ac110002row5_col3\" class=\"data row5 col3\" >18</td>\n                        <td id=\"T_5f42a464_a771_11ea_b082_0242ac110002row5_col4\" class=\"data row5 col4\" >15</td>\n            </tr>\n            <tr>\n                        <th id=\"T_5f42a464_a771_11ea_b082_0242ac110002level0_row6\" class=\"row_heading level0 row6\" >community gardens</th>\n                        <td id=\"T_5f42a464_a771_11ea_b082_0242ac110002row6_col0\" class=\"data row6 col0\" >0</td>\n                        <td id=\"T_5f42a464_a771_11ea_b082_0242ac110002row6_col1\" class=\"data row6 col1\" >0</td>\n                        <td id=\"T_5f42a464_a771_11ea_b082_0242ac110002row6_col2\" class=\"data row6 col2\" >1</td>\n                        <td id=\"T_5f42a464_a771_11ea_b082_0242ac110002row6_col3\" class=\"data row6 col3\" >0</td>\n                        <td id=\"T_5f42a464_a771_11ea_b082_0242ac110002row6_col4\" class=\"data row6 col4\" >15</td>\n            </tr>\n            <tr>\n                        <th id=\"T_5f42a464_a771_11ea_b082_0242ac110002level0_row7\" class=\"row_heading level0 row7\" >soil lead</th>\n                        <td id=\"T_5f42a464_a771_11ea_b082_0242ac110002row7_col0\" class=\"data row7 col0\" >0</td>\n                        <td id=\"T_5f42a464_a771_11ea_b082_0242ac110002row7_col1\" class=\"data row7 col1\" >0</td>\n                        <td id=\"T_5f42a464_a771_11ea_b082_0242ac110002row7_col2\" class=\"data row7 col2\" >0</td>\n                        <td id=\"T_5f42a464_a771_11ea_b082_0242ac110002row7_col3\" class=\"data row7 col3\" >0</td>\n                        <td id=\"T_5f42a464_a771_11ea_b082_0242ac110002row7_col4\" class=\"data row7 col4\" >14</td>\n            </tr>\n            <tr>\n                        <th id=\"T_5f42a464_a771_11ea_b082_0242ac110002level0_row8\" class=\"row_heading level0 row8\" >urban agriculture</th>\n                        <td id=\"T_5f42a464_a771_11ea_b082_0242ac110002row8_col0\" class=\"data row8 col0\" >0</td>\n                        <td id=\"T_5f42a464_a771_11ea_b082_0242ac110002row8_col1\" class=\"data row8 col1\" >2</td>\n                        <td id=\"T_5f42a464_a771_11ea_b082_0242ac110002row8_col2\" class=\"data row8 col2\" >1</td>\n                        <td id=\"T_5f42a464_a771_11ea_b082_0242ac110002row8_col3\" class=\"data row8 col3\" >0</td>\n                        <td id=\"T_5f42a464_a771_11ea_b082_0242ac110002row8_col4\" class=\"data row8 col4\" >25</td>\n            </tr>\n            <tr>\n                        <th id=\"T_5f42a464_a771_11ea_b082_0242ac110002level0_row9\" class=\"row_heading level0 row9\" >urban farming</th>\n                        <td id=\"T_5f42a464_a771_11ea_b082_0242ac110002row9_col0\" class=\"data row9 col0\" >9</td>\n                        <td id=\"T_5f42a464_a771_11ea_b082_0242ac110002row9_col1\" class=\"data row9 col1\" >6</td>\n                        <td id=\"T_5f42a464_a771_11ea_b082_0242ac110002row9_col2\" class=\"data row9 col2\" >0</td>\n                        <td id=\"T_5f42a464_a771_11ea_b082_0242ac110002row9_col3\" class=\"data row9 col3\" >0</td>\n                        <td id=\"T_5f42a464_a771_11ea_b082_0242ac110002row9_col4\" class=\"data row9 col4\" >26</td>\n            </tr>\n    </tbody></table>",
          "text/plain": "<pandas.io.formats.style.Styler at 0x7f77bb694048>"
         },
         "metadata": {},
         "output_type": "display_data"
        }
       ]
      }
     },
     "8e235d088a314af3840d0ad368858dbc": {
      "model_module": "@jupyter-widgets/base",
      "model_module_version": "1.2.0",
      "model_name": "LayoutModel",
      "state": {}
     },
     "91296baecf2f4e3181a10501e86f3064": {
      "model_module": "@jupyter-widgets/controls",
      "model_module_version": "1.5.0",
      "model_name": "DescriptionStyleModel",
      "state": {
       "description_width": ""
      }
     },
     "9500c2002ad945ffadb6a1752f3f49db": {
      "model_module": "@jupyter-widgets/controls",
      "model_module_version": "1.5.0",
      "model_name": "HTMLModel",
      "state": {
       "layout": "IPY_MODEL_5183447b8a4b4d3b96c4cde9ed549f3a",
       "style": "IPY_MODEL_b703de385df04632be74d8e5c09799bf",
       "value": "<h3>Matrix exceeds the maximum shape</h3>"
      }
     },
     "9d632e5f45e74270aa8838ea72afd5d5": {
      "model_module": "@jupyter-widgets/base",
      "model_module_version": "1.2.0",
      "model_name": "LayoutModel",
      "state": {}
     },
     "9f2e7acf910d48bab2b4759ac3a4855b": {
      "model_module": "@jupyter-widgets/controls",
      "model_module_version": "1.5.0",
      "model_name": "VBoxModel",
      "state": {
       "children": [
        "IPY_MODEL_7472d9a050f741beaf81b1970250cf64",
        "IPY_MODEL_15b269434d2d45edbf444db9249a6975"
       ],
       "layout": "IPY_MODEL_24cb19ed38d44657beb3bb4c974126de"
      }
     },
     "aab4fa9b4882427ab7302e32d65bdea6": {
      "model_module": "@jupyter-widgets/controls",
      "model_module_version": "1.5.0",
      "model_name": "HTMLModel",
      "state": {
       "layout": "IPY_MODEL_2908055278554f6f8a29563f669e8061",
       "style": "IPY_MODEL_58df7eae50174465b1a7064cd80521b6",
       "value": "<h1>Co-occurrence Analysis</h1><hr style='height:2px;border-width:0;color:gray;background-color:gray'>"
      }
     },
     "acc2eb224eac42e9bbca525684e682db": {
      "model_module": "@jupyter-widgets/controls",
      "model_module_version": "1.5.0",
      "model_name": "DescriptionStyleModel",
      "state": {
       "description_width": ""
      }
     },
     "b679852d5cf34f25931e77b64eccd9be": {
      "model_module": "@jupyter-widgets/controls",
      "model_module_version": "1.5.0",
      "model_name": "TabModel",
      "state": {
       "_titles": {
        "0": "Matrix"
       },
       "children": [
        "IPY_MODEL_bfe65cca836849e0b027473c763303fc"
       ],
       "layout": "IPY_MODEL_62e42ab2b42948f9bc68fd7b7663a90a"
      }
     },
     "b703de385df04632be74d8e5c09799bf": {
      "model_module": "@jupyter-widgets/controls",
      "model_module_version": "1.5.0",
      "model_name": "DescriptionStyleModel",
      "state": {
       "description_width": ""
      }
     },
     "b7a881b73cca49e7af62278d94529a65": {
      "model_module": "@jupyter-widgets/controls",
      "model_module_version": "1.5.0",
      "model_name": "GridBoxModel",
      "state": {
       "children": [
        "IPY_MODEL_aab4fa9b4882427ab7302e32d65bdea6",
        "IPY_MODEL_b679852d5cf34f25931e77b64eccd9be"
       ],
       "layout": "IPY_MODEL_3be1a4f8cbab47b1a1b3a14301abfc71"
      }
     },
     "b7b685b413b04570a293eda31d3846b1": {
      "model_module": "@jupyter-widgets/controls",
      "model_module_version": "1.5.0",
      "model_name": "LabelModel",
      "state": {
       "layout": "IPY_MODEL_775a6a8124984ccf857d4082475e58f8",
       "style": "IPY_MODEL_1fbf0e447bbf474385fb3cb5450f1f81",
       "value": "Term to analyze:"
      }
     },
     "b83a2b8e72a94b8abf3ee7b64c8b7953": {
      "model_module": "@jupyter-widgets/base",
      "model_module_version": "1.2.0",
      "model_name": "LayoutModel",
      "state": {}
     },
     "bbc787770eaa4ca99bc505e9009397f7": {
      "model_module": "@jupyter-widgets/controls",
      "model_module_version": "1.5.0",
      "model_name": "DescriptionStyleModel",
      "state": {
       "description_width": ""
      }
     },
     "bfe65cca836849e0b027473c763303fc": {
      "model_module": "@jupyter-widgets/controls",
      "model_module_version": "1.5.0",
      "model_name": "HBoxModel",
      "state": {
       "children": [
        "IPY_MODEL_de84f0b4bd4f483194e8d3d6b5d0bb13",
        "IPY_MODEL_727c56ad7fac40c5a2cffd6c2edc58eb"
       ],
       "layout": "IPY_MODEL_cd87df46ef9542e1ac8cdb061f8e3a37"
      }
     },
     "c34e92ace93c4b218122e43d07a8d93d": {
      "model_module": "@jupyter-widgets/controls",
      "model_module_version": "1.5.0",
      "model_name": "DescriptionStyleModel",
      "state": {
       "description_width": ""
      }
     },
     "cd87df46ef9542e1ac8cdb061f8e3a37": {
      "model_module": "@jupyter-widgets/base",
      "model_module_version": "1.2.0",
      "model_name": "LayoutModel",
      "state": {}
     },
     "ce3601ed860c4c3099b517013b54ba45": {
      "model_module": "@jupyter-widgets/controls",
      "model_module_version": "1.5.0",
      "model_name": "LabelModel",
      "state": {
       "layout": "IPY_MODEL_16d20c2310ca42edb74f3a288df2dbeb",
       "style": "IPY_MODEL_acc2eb224eac42e9bbca525684e682db",
       "value": "By Term:"
      }
     },
     "cf3f9f21f6834038aae8cd43cbc7e516": {
      "model_module": "@jupyter-widgets/controls",
      "model_module_version": "1.5.0",
      "model_name": "LabelModel",
      "state": {
       "layout": "IPY_MODEL_2dcfdb96fd6a4bb8bb3ce14e9e6138e4",
       "style": "IPY_MODEL_bbc787770eaa4ca99bc505e9009397f7",
       "value": "Colormap:"
      }
     },
     "d0cd93fbd88f46fa97678b430cfd7161": {
      "model_module": "@jupyter-widgets/base",
      "model_module_version": "1.2.0",
      "model_name": "LayoutModel",
      "state": {}
     },
     "d4a96f359c25494e84578d4fd7c87c6a": {
      "model_module": "@jupyter-widgets/controls",
      "model_module_version": "1.5.0",
      "model_name": "DescriptionStyleModel",
      "state": {
       "description_width": ""
      }
     },
     "da8c85ec19e64c5385379588628e5171": {
      "model_module": "@jupyter-widgets/base",
      "model_module_version": "1.2.0",
      "model_name": "LayoutModel",
      "state": {
       "width": "200px"
      }
     },
     "db3e68cc5fa442a284ffbfd41adc70f1": {
      "model_module": "@jupyter-widgets/base",
      "model_module_version": "1.2.0",
      "model_name": "LayoutModel",
      "state": {
       "width": "200px"
      }
     },
     "dc4d5803eb9e418a895a7395cb3c90ea": {
      "model_module": "@jupyter-widgets/base",
      "model_module_version": "1.2.0",
      "model_name": "LayoutModel",
      "state": {}
     },
     "de84f0b4bd4f483194e8d3d6b5d0bb13": {
      "model_module": "@jupyter-widgets/controls",
      "model_module_version": "1.5.0",
      "model_name": "VBoxModel",
      "state": {
       "children": [
        "IPY_MODEL_f3fad5bb67c346ee9a1be2e2abec5616",
        "IPY_MODEL_0929588e22a9487f808a41829cc5bf93",
        "IPY_MODEL_0f1e7cf7d12b41ebab274b03f9a8340d",
        "IPY_MODEL_9f2e7acf910d48bab2b4759ac3a4855b"
       ],
       "layout": "IPY_MODEL_395a92c32ec64d51a15b28d517fb76b6"
      }
     },
     "df140ea0eb62423a9a9083c866160cda": {
      "model_module": "@jupyter-widgets/controls",
      "model_module_version": "1.5.0",
      "model_name": "DescriptionStyleModel",
      "state": {
       "description_width": ""
      }
     },
     "e1e11e545e7043558cbf15472f25d737": {
      "model_module": "@jupyter-widgets/controls",
      "model_module_version": "1.5.0",
      "model_name": "HTMLModel",
      "state": {
       "layout": "IPY_MODEL_47fced522d0847e7b4f5040ebef72764",
       "style": "IPY_MODEL_1b9f49d2c26d45e69b4699020e3e3373",
       "value": "<h3>Matrix exceeds the maximum shape</h3>"
      }
     },
     "e97d3cf08bf3474287556bf1d1c4c625": {
      "model_module": "@jupyter-widgets/controls",
      "model_module_version": "1.5.0",
      "model_name": "DescriptionStyleModel",
      "state": {
       "description_width": ""
      }
     },
     "eb75bd01c04d417f992dbe6afd4acdf7": {
      "model_module": "@jupyter-widgets/controls",
      "model_module_version": "1.5.0",
      "model_name": "HTMLModel",
      "state": {
       "layout": "IPY_MODEL_8433e2474df84b56b5b2c8a3b92b5968",
       "style": "IPY_MODEL_e97d3cf08bf3474287556bf1d1c4c625",
       "value": "<h3>Matrix exceeds the maximum shape</h3>"
      }
     },
     "ee2bcb005bc74270a3d9c69c687c5528": {
      "model_module": "@jupyter-widgets/controls",
      "model_module_version": "1.5.0",
      "model_name": "DescriptionStyleModel",
      "state": {
       "description_width": ""
      }
     },
     "f03b88ca8f4746068784443c2c9d23fc": {
      "model_module": "@jupyter-widgets/controls",
      "model_module_version": "1.5.0",
      "model_name": "HTMLModel",
      "state": {
       "layout": "IPY_MODEL_9d632e5f45e74270aa8838ea72afd5d5",
       "style": "IPY_MODEL_88f775c9dd5145ce89331fe5477953c7",
       "value": "<h3>Matrix exceeds the maximum shape</h3>"
      }
     },
     "f3fad5bb67c346ee9a1be2e2abec5616": {
      "model_module": "@jupyter-widgets/controls",
      "model_module_version": "1.5.0",
      "model_name": "VBoxModel",
      "state": {
       "children": [
        "IPY_MODEL_b7b685b413b04570a293eda31d3846b1",
        "IPY_MODEL_fe5619af81f24c8aa07bb4175c11799a"
       ],
       "layout": "IPY_MODEL_2f0ee00d10454e28ab451d300329eb6b"
      }
     },
     "fb6fece57f984de595fc0c3541ffeb0b": {
      "model_module": "@jupyter-widgets/controls",
      "model_module_version": "1.5.0",
      "model_name": "DropdownModel",
      "state": {
       "_options_labels": [
        "Greys",
        "Purples",
        "Blues",
        "Greens",
        "Oranges",
        "Reds",
        "YlOrBr",
        "YlOrRd",
        "OrRd",
        "PuRd",
        "RdPu",
        "BuPu",
        "GnBu",
        "PuBu",
        "YlGnBu",
        "PuBuGn",
        "BuGn",
        "YlGn",
        "Pastel1",
        "Pastel2",
        "Paired",
        "Accent",
        "Dark2",
        "Set1",
        "Set2",
        "Set3",
        "tab10",
        "tab20",
        "tab20b",
        "tab20c"
       ],
       "index": 0,
       "layout": "IPY_MODEL_752032130a294a2c8ff0edfa533cdac2",
       "style": "IPY_MODEL_199f058fa350436e8904cbef4eb00994"
      }
     },
     "fe5619af81f24c8aa07bb4175c11799a": {
      "model_module": "@jupyter-widgets/controls",
      "model_module_version": "1.5.0",
      "model_name": "DropdownModel",
      "state": {
       "_options_labels": [
        "Author Keywords",
        "Authors",
        "Countries",
        "Country 1st",
        "Index Keywords",
        "Institution 1st",
        "Institutions",
        "Keywords",
        "Source title"
       ],
       "index": 2,
       "layout": "IPY_MODEL_1d0869f7637e46ef81d9fcef6d441bef",
       "style": "IPY_MODEL_ee2bcb005bc74270a3d9c69c687c5528"
      }
     }
    },
    "version_major": 2,
    "version_minor": 0
   }
  }
 },
 "nbformat": 4,
 "nbformat_minor": 4
}
