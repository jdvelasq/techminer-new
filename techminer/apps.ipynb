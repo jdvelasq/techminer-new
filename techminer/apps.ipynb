{
 "cells": [
  {
   "cell_type": "code",
   "execution_count": 1,
   "metadata": {},
   "outputs": [
    {
     "name": "stderr",
     "output_type": "stream",
     "text": [
      "2020-06-06 01:30:46,094 - INFO - Renaming and selecting columns ...\n",
      "2020-06-06 01:30:51,669 - INFO - Formatting author names ...\n",
      "2020-06-06 01:30:51,674 - INFO - Disambiguating author names ...\n",
      "2020-06-06 01:30:51,738 - INFO - Removing part of titles in foreing languages ...\n",
      "2020-06-06 01:30:51,741 - INFO - Fusioning author and index keywords ...\n",
      "2020-06-06 01:30:51,753 - INFO - NumExpr defaulting to 8 threads.\n",
      "2020-06-06 01:30:51,767 - INFO - Extracting countries from affiliations ...\n",
      "2020-06-06 01:30:57,883 - INFO - Extracting institutions from affiliations ...\n",
      "2020-06-06 01:30:57,893 - INFO - Extracting country of 1st author ...\n",
      "2020-06-06 01:30:57,896 - INFO - Extracting affiliation of 1st author ...\n",
      "2020-06-06 01:30:57,900 - INFO - Counting number of authors ...\n"
     ]
    }
   ],
   "source": [
    "import pandas as pd\n",
    "import data\n",
    "\n",
    "filepath = \"../data/papers/urban-agriculture.csv\"\n",
    "df = pd.read_csv(filepath)\n",
    "df = data.load_scopus(df)"
   ]
  },
  {
   "cell_type": "markdown",
   "metadata": {},
   "source": [
    "### Basic info"
   ]
  },
  {
   "cell_type": "code",
   "execution_count": null,
   "metadata": {},
   "outputs": [],
   "source": [
    "data.coverage(df)"
   ]
  },
  {
   "cell_type": "code",
   "execution_count": null,
   "metadata": {},
   "outputs": [],
   "source": []
  },
  {
   "cell_type": "markdown",
   "metadata": {},
   "source": [
    "### Keywords"
   ]
  },
  {
   "cell_type": "code",
   "execution_count": null,
   "metadata": {},
   "outputs": [],
   "source": []
  },
  {
   "cell_type": "markdown",
   "metadata": {},
   "source": [
    "### FindString Dialog Box pag. 69"
   ]
  },
  {
   "cell_type": "code",
   "execution_count": null,
   "metadata": {},
   "outputs": [],
   "source": []
  },
  {
   "cell_type": "markdown",
   "metadata": {},
   "source": [
    "### Cleaning a list pag. 102"
   ]
  },
  {
   "cell_type": "code",
   "execution_count": null,
   "metadata": {},
   "outputs": [],
   "source": []
  },
  {
   "cell_type": "markdown",
   "metadata": {},
   "source": [
    "### Fuzzy match editor pag.126"
   ]
  },
  {
   "cell_type": "code",
   "execution_count": null,
   "metadata": {},
   "outputs": [],
   "source": []
  },
  {
   "cell_type": "markdown",
   "metadata": {},
   "source": [
    "### Stemming And / Stemming Or"
   ]
  },
  {
   "cell_type": "code",
   "execution_count": null,
   "metadata": {},
   "outputs": [],
   "source": []
  },
  {
   "cell_type": "markdown",
   "metadata": {},
   "source": [
    "### APPS"
   ]
  },
  {
   "cell_type": "code",
   "execution_count": null,
   "metadata": {},
   "outputs": [],
   "source": [
    "import by_year as year\n",
    "year.app(df)"
   ]
  },
  {
   "cell_type": "code",
   "execution_count": null,
   "metadata": {},
   "outputs": [],
   "source": [
    "import by_term as term\n",
    "term.app(df)"
   ]
  },
  {
   "cell_type": "code",
   "execution_count": null,
   "metadata": {},
   "outputs": [],
   "source": [
    "import by_term_per_year as term_year\n",
    "term_year.app(df)"
   ]
  },
  {
   "cell_type": "code",
   "execution_count": 2,
   "metadata": {},
   "outputs": [
    {
     "data": {
      "application/vnd.jupyter.widget-view+json": {
       "model_id": "033c18a7d0b14bf49444c6e9da05bd87",
       "version_major": 2,
       "version_minor": 0
      },
      "text/plain": [
       "AppLayout(children=(HTML(value=\"<h1>Co-occurrence Analysis</h1><hr style='height:2px;border-width:0;color:gray…"
      ]
     },
     "metadata": {},
     "output_type": "display_data"
    }
   ],
   "source": [
    "import co_occurrence as co_occurrence\n",
    "co_occurrence.app(df)"
   ]
  },
  {
   "cell_type": "code",
   "execution_count": null,
   "metadata": {},
   "outputs": [],
   "source": [
    "import correlation as correlation\n",
    "correlation.app(df)"
   ]
  },
  {
   "cell_type": "code",
   "execution_count": null,
   "metadata": {},
   "outputs": [],
   "source": [
    "import factor_analysis\n",
    "\n",
    "factor_analysis.app(df)"
   ]
  },
  {
   "cell_type": "code",
   "execution_count": null,
   "metadata": {},
   "outputs": [],
   "source": []
  },
  {
   "cell_type": "code",
   "execution_count": null,
   "metadata": {},
   "outputs": [],
   "source": []
  },
  {
   "cell_type": "code",
   "execution_count": null,
   "metadata": {},
   "outputs": [],
   "source": []
  },
  {
   "cell_type": "code",
   "execution_count": null,
   "metadata": {},
   "outputs": [],
   "source": []
  },
  {
   "cell_type": "code",
   "execution_count": null,
   "metadata": {},
   "outputs": [],
   "source": []
  }
 ],
 "metadata": {
  "kernelspec": {
   "display_name": "Python 3",
   "language": "python",
   "name": "python3"
  },
  "language_info": {
   "codemirror_mode": {
    "name": "ipython",
    "version": 3
   },
   "file_extension": ".py",
   "mimetype": "text/x-python",
   "name": "python",
   "nbconvert_exporter": "python",
   "pygments_lexer": "ipython3",
   "version": "3.6.9"
  },
  "widgets": {
   "application/vnd.jupyter.widget-state+json": {
    "state": {
     "033c18a7d0b14bf49444c6e9da05bd87": {
      "model_module": "@jupyter-widgets/controls",
      "model_module_version": "1.5.0",
      "model_name": "GridBoxModel",
      "state": {
       "children": [
        "IPY_MODEL_27360a527d99469ca0ff131ffae35593",
        "IPY_MODEL_9821d876a11d4a0bab1f600e65f2d0a6"
       ],
       "layout": "IPY_MODEL_cc2931c7e7fe45c19b2da842ca292389"
      }
     },
     "0344a63b64c04fe899c05f758542b074": {
      "model_module": "@jupyter-widgets/base",
      "model_module_version": "1.2.0",
      "model_name": "LayoutModel",
      "state": {}
     },
     "04b2ae4268f1491fbcc7588c0319940a": {
      "model_module": "@jupyter-widgets/controls",
      "model_module_version": "1.5.0",
      "model_name": "LabelModel",
      "state": {
       "layout": "IPY_MODEL_685f0e05ae924164bfb580326a9e5430",
       "style": "IPY_MODEL_79c38274205f465bbea7908d39428807",
       "value": "Term to analyze:"
      }
     },
     "0576c9bad81a48d9b79b3a704ea5967f": {
      "model_module": "@jupyter-widgets/controls",
      "model_module_version": "1.5.0",
      "model_name": "DescriptionStyleModel",
      "state": {
       "description_width": ""
      }
     },
     "0b554550cc2047de8c55f1cfd831f1a0": {
      "model_module": "@jupyter-widgets/controls",
      "model_module_version": "1.5.0",
      "model_name": "DescriptionStyleModel",
      "state": {
       "description_width": ""
      }
     },
     "0c855af4e2074780a8066c46b0f76579": {
      "model_module": "@jupyter-widgets/controls",
      "model_module_version": "1.5.0",
      "model_name": "HBoxModel",
      "state": {
       "children": [
        "IPY_MODEL_b7cf346b0cc242ed9e0a8185939c679a",
        "IPY_MODEL_6d6d840fd3364e51bd63bdf3a1651468"
       ],
       "layout": "IPY_MODEL_7b9d5a0e111643f6980afcc48b01ae73"
      }
     },
     "0f11a32a9ed449ef9ece3fca920c457d": {
      "model_module": "@jupyter-widgets/base",
      "model_module_version": "1.2.0",
      "model_name": "LayoutModel",
      "state": {}
     },
     "0f7f3bb93ed14c4cb938344613d2c978": {
      "model_module": "@jupyter-widgets/controls",
      "model_module_version": "1.5.0",
      "model_name": "DescriptionStyleModel",
      "state": {
       "description_width": ""
      }
     },
     "14f788613a3b4278a05360752fd77ec8": {
      "model_module": "@jupyter-widgets/base",
      "model_module_version": "1.2.0",
      "model_name": "LayoutModel",
      "state": {}
     },
     "1adaef6b096144d6989c3e4ee524c5c3": {
      "model_module": "@jupyter-widgets/controls",
      "model_module_version": "1.5.0",
      "model_name": "VBoxModel",
      "state": {
       "children": [
        "IPY_MODEL_5191985723794f4db06e494dbb1a7494",
        "IPY_MODEL_4c7cc5f7b44f44ec9da1dd551e3e6711"
       ],
       "layout": "IPY_MODEL_81ef8a3ba71844538a7586dca2cb81f1"
      }
     },
     "1d9395b18641465d9484f99567226347": {
      "model_module": "@jupyter-widgets/base",
      "model_module_version": "1.2.0",
      "model_name": "LayoutModel",
      "state": {
       "width": "200px"
      }
     },
     "223337d716bd4499b186672049e12842": {
      "model_module": "@jupyter-widgets/controls",
      "model_module_version": "1.5.0",
      "model_name": "VBoxModel",
      "state": {
       "children": [
        "IPY_MODEL_5f6a8e153f844d57bf1007c233eb9597",
        "IPY_MODEL_2d1d3307c079492cb42d2e49b149f017"
       ],
       "layout": "IPY_MODEL_fb05171169ae47e294687460254405fe"
      }
     },
     "268656a1e531465aa8095eaa7428ef43": {
      "model_module": "@jupyter-widgets/controls",
      "model_module_version": "1.5.0",
      "model_name": "VBoxModel",
      "state": {
       "children": [
        "IPY_MODEL_04b2ae4268f1491fbcc7588c0319940a",
        "IPY_MODEL_b2b0aa5d78834c909a23058e2e390368"
       ],
       "layout": "IPY_MODEL_6209797682fa42099820c565d5fad3d6"
      }
     },
     "27360a527d99469ca0ff131ffae35593": {
      "model_module": "@jupyter-widgets/controls",
      "model_module_version": "1.5.0",
      "model_name": "HTMLModel",
      "state": {
       "layout": "IPY_MODEL_cc66b84e0faf46a8a9f32d6afa13ecec",
       "style": "IPY_MODEL_91aebac345b1496fa43cfb52df9e23b6",
       "value": "<h1>Co-occurrence Analysis</h1><hr style='height:2px;border-width:0;color:gray;background-color:gray'>"
      }
     },
     "2d1d3307c079492cb42d2e49b149f017": {
      "model_module": "@jupyter-widgets/controls",
      "model_module_version": "1.5.0",
      "model_name": "DropdownModel",
      "state": {
       "_options_labels": [
        "1",
        "2",
        "3",
        "4",
        "5",
        "6",
        "7",
        "8",
        "10",
        "15",
        "18",
        "19",
        "21",
        "25",
        "42",
        "59",
        "68"
       ],
       "index": 10,
       "layout": "IPY_MODEL_5c71f418461a4bb28ed06838c8390fd0",
       "style": "IPY_MODEL_491ccc6c41704951991f32745a497fa6"
      }
     },
     "491ccc6c41704951991f32745a497fa6": {
      "model_module": "@jupyter-widgets/controls",
      "model_module_version": "1.5.0",
      "model_name": "DescriptionStyleModel",
      "state": {
       "description_width": ""
      }
     },
     "4bdc3eae978a49629e8d8ef7e354c8fd": {
      "model_module": "@jupyter-widgets/controls",
      "model_module_version": "1.5.0",
      "model_name": "DescriptionStyleModel",
      "state": {
       "description_width": ""
      }
     },
     "4c7cc5f7b44f44ec9da1dd551e3e6711": {
      "model_module": "@jupyter-widgets/controls",
      "model_module_version": "1.5.0",
      "model_name": "DropdownModel",
      "state": {
       "_options_labels": [
        "Author Keywords",
        "Authors",
        "Countries",
        "Country 1st",
        "Index Keywords",
        "Institution 1st",
        "Institutions",
        "Keywords",
        "Source title"
       ],
       "index": 0,
       "layout": "IPY_MODEL_77aab9d08339417a831a8490af12faae",
       "style": "IPY_MODEL_dc897ddedcc24ab7bfa5dfc07017b917"
      }
     },
     "50490fba33c74ce6a6595421ffebb8ef": {
      "model_module": "@jupyter-widgets/output",
      "model_module_version": "1.0.0",
      "model_name": "OutputModel",
      "state": {
       "layout": "IPY_MODEL_f648bc9e175a4108b8966964bb33fb7c",
       "outputs": [
        {
         "data": {
          "application/vnd.jupyter.widget-view+json": {
           "model_id": "",
           "version_major": 2,
           "version_minor": 0
          },
          "text/plain": "HTML(value='<h3>Matrix exceeds the maximum shape</h3>')"
         },
         "metadata": {},
         "output_type": "display_data"
        }
       ]
      }
     },
     "5191985723794f4db06e494dbb1a7494": {
      "model_module": "@jupyter-widgets/controls",
      "model_module_version": "1.5.0",
      "model_name": "LabelModel",
      "state": {
       "layout": "IPY_MODEL_8fcf98cf66954e01bf5bbd557d5c2f53",
       "style": "IPY_MODEL_4bdc3eae978a49629e8d8ef7e354c8fd",
       "value": "By Term:"
      }
     },
     "5be9dbb039bd4ac683616d1bd1792a01": {
      "model_module": "@jupyter-widgets/controls",
      "model_module_version": "1.5.0",
      "model_name": "DropdownModel",
      "state": {
       "_options_labels": [
        "Greys",
        "Purples",
        "Blues",
        "Greens",
        "Oranges",
        "Reds",
        "YlOrBr",
        "YlOrRd",
        "OrRd",
        "PuRd",
        "RdPu",
        "BuPu",
        "GnBu",
        "PuBu",
        "YlGnBu",
        "PuBuGn",
        "BuGn",
        "YlGn",
        "Pastel1",
        "Pastel2",
        "Paired",
        "Accent",
        "Dark2",
        "Set1",
        "Set2",
        "Set3",
        "tab10",
        "tab20",
        "tab20b",
        "tab20c"
       ],
       "index": 0,
       "layout": "IPY_MODEL_b1f985e33cd047798813a448663d9a5f",
       "style": "IPY_MODEL_65abdf2bc9f042ae881bc3df98583e5d"
      }
     },
     "5c71f418461a4bb28ed06838c8390fd0": {
      "model_module": "@jupyter-widgets/base",
      "model_module_version": "1.2.0",
      "model_name": "LayoutModel",
      "state": {
       "width": "200px"
      }
     },
     "5f6a8e153f844d57bf1007c233eb9597": {
      "model_module": "@jupyter-widgets/controls",
      "model_module_version": "1.5.0",
      "model_name": "LabelModel",
      "state": {
       "layout": "IPY_MODEL_8df274b05af6432b91f7b0bd2a7f7df2",
       "style": "IPY_MODEL_0f7f3bb93ed14c4cb938344613d2c978",
       "value": "Min occurrence value:"
      }
     },
     "6209797682fa42099820c565d5fad3d6": {
      "model_module": "@jupyter-widgets/base",
      "model_module_version": "1.2.0",
      "model_name": "LayoutModel",
      "state": {}
     },
     "64ab86d3906b4754b46df58aa922c4fc": {
      "model_module": "@jupyter-widgets/controls",
      "model_module_version": "1.5.0",
      "model_name": "VBoxModel",
      "state": {
       "children": [
        "IPY_MODEL_dcc062f7b8934b97aee690addffcd244",
        "IPY_MODEL_f798446185334ffcbf4ed61af3ed5179"
       ],
       "layout": "IPY_MODEL_14f788613a3b4278a05360752fd77ec8"
      }
     },
     "65abdf2bc9f042ae881bc3df98583e5d": {
      "model_module": "@jupyter-widgets/controls",
      "model_module_version": "1.5.0",
      "model_name": "DescriptionStyleModel",
      "state": {
       "description_width": ""
      }
     },
     "685f0e05ae924164bfb580326a9e5430": {
      "model_module": "@jupyter-widgets/base",
      "model_module_version": "1.2.0",
      "model_name": "LayoutModel",
      "state": {}
     },
     "691cb5392fe045e79df42e50da3076db": {
      "model_module": "@jupyter-widgets/controls",
      "model_module_version": "1.5.0",
      "model_name": "HTMLModel",
      "state": {
       "layout": "IPY_MODEL_0344a63b64c04fe899c05f758542b074",
       "style": "IPY_MODEL_0b554550cc2047de8c55f1cfd831f1a0",
       "value": "<h3>Matrix exceeds the maximum shape</h3>"
      }
     },
     "6d6d840fd3364e51bd63bdf3a1651468": {
      "model_module": "@jupyter-widgets/controls",
      "model_module_version": "1.5.0",
      "model_name": "VBoxModel",
      "state": {
       "children": [
        "IPY_MODEL_c408ec090a59499ea4ad0ba4fcdb5e3b"
       ],
       "layout": "IPY_MODEL_ad7ce189b00b409c9113fc1468881ee2"
      }
     },
     "77aab9d08339417a831a8490af12faae": {
      "model_module": "@jupyter-widgets/base",
      "model_module_version": "1.2.0",
      "model_name": "LayoutModel",
      "state": {
       "width": "200px"
      }
     },
     "79c38274205f465bbea7908d39428807": {
      "model_module": "@jupyter-widgets/controls",
      "model_module_version": "1.5.0",
      "model_name": "DescriptionStyleModel",
      "state": {
       "description_width": ""
      }
     },
     "79d45aa58290473d836d88c8b5974b2b": {
      "model_module": "@jupyter-widgets/controls",
      "model_module_version": "1.5.0",
      "model_name": "DescriptionStyleModel",
      "state": {
       "description_width": ""
      }
     },
     "7b9d5a0e111643f6980afcc48b01ae73": {
      "model_module": "@jupyter-widgets/base",
      "model_module_version": "1.2.0",
      "model_name": "LayoutModel",
      "state": {}
     },
     "7eb4e6448f4a4052833b4ba9d675c9a4": {
      "model_module": "@jupyter-widgets/base",
      "model_module_version": "1.2.0",
      "model_name": "LayoutModel",
      "state": {}
     },
     "81ef8a3ba71844538a7586dca2cb81f1": {
      "model_module": "@jupyter-widgets/base",
      "model_module_version": "1.2.0",
      "model_name": "LayoutModel",
      "state": {}
     },
     "8df274b05af6432b91f7b0bd2a7f7df2": {
      "model_module": "@jupyter-widgets/base",
      "model_module_version": "1.2.0",
      "model_name": "LayoutModel",
      "state": {}
     },
     "8fcf98cf66954e01bf5bbd557d5c2f53": {
      "model_module": "@jupyter-widgets/base",
      "model_module_version": "1.2.0",
      "model_name": "LayoutModel",
      "state": {}
     },
     "91aebac345b1496fa43cfb52df9e23b6": {
      "model_module": "@jupyter-widgets/controls",
      "model_module_version": "1.5.0",
      "model_name": "DescriptionStyleModel",
      "state": {
       "description_width": ""
      }
     },
     "9821d876a11d4a0bab1f600e65f2d0a6": {
      "model_module": "@jupyter-widgets/controls",
      "model_module_version": "1.5.0",
      "model_name": "TabModel",
      "state": {
       "_titles": {
        "0": "Matrix"
       },
       "children": [
        "IPY_MODEL_0c855af4e2074780a8066c46b0f76579"
       ],
       "layout": "IPY_MODEL_a842f6f60a2e41a2822e1b506a9a2503"
      }
     },
     "9d917d352dcf41a49bc561bc916c8673": {
      "model_module": "@jupyter-widgets/controls",
      "model_module_version": "1.5.0",
      "model_name": "LabelModel",
      "state": {
       "layout": "IPY_MODEL_bb784de480be4e3d9cbc1209cdb390e4",
       "style": "IPY_MODEL_0576c9bad81a48d9b79b3a704ea5967f",
       "value": "Colormap:"
      }
     },
     "a69d146271614dfb8cf43d7403d64662": {
      "model_module": "@jupyter-widgets/base",
      "model_module_version": "1.2.0",
      "model_name": "LayoutModel",
      "state": {}
     },
     "a842f6f60a2e41a2822e1b506a9a2503": {
      "model_module": "@jupyter-widgets/base",
      "model_module_version": "1.2.0",
      "model_name": "LayoutModel",
      "state": {
       "grid_area": "center"
      }
     },
     "ad7ce189b00b409c9113fc1468881ee2": {
      "model_module": "@jupyter-widgets/base",
      "model_module_version": "1.2.0",
      "model_name": "LayoutModel",
      "state": {
       "align_items": "baseline",
       "width": "870px"
      }
     },
     "b1f985e33cd047798813a448663d9a5f": {
      "model_module": "@jupyter-widgets/base",
      "model_module_version": "1.2.0",
      "model_name": "LayoutModel",
      "state": {
       "width": "200px"
      }
     },
     "b2b0aa5d78834c909a23058e2e390368": {
      "model_module": "@jupyter-widgets/controls",
      "model_module_version": "1.5.0",
      "model_name": "DropdownModel",
      "state": {
       "_options_labels": [
        "Author Keywords",
        "Authors",
        "Countries",
        "Country 1st",
        "Index Keywords",
        "Institution 1st",
        "Institutions",
        "Keywords",
        "Source title"
       ],
       "index": 0,
       "layout": "IPY_MODEL_1d9395b18641465d9484f99567226347",
       "style": "IPY_MODEL_e279019c41c84cddbd53832cd30e0425"
      }
     },
     "b403e37068f34e3cb1bf2ff83dcce85c": {
      "model_module": "@jupyter-widgets/controls",
      "model_module_version": "1.5.0",
      "model_name": "VBoxModel",
      "state": {
       "children": [
        "IPY_MODEL_9d917d352dcf41a49bc561bc916c8673",
        "IPY_MODEL_5be9dbb039bd4ac683616d1bd1792a01"
       ],
       "layout": "IPY_MODEL_0f11a32a9ed449ef9ece3fca920c457d"
      }
     },
     "b4b832f296444b7eb6e61849c5ef7701": {
      "model_module": "@jupyter-widgets/base",
      "model_module_version": "1.2.0",
      "model_name": "LayoutModel",
      "state": {
       "width": "200px"
      }
     },
     "b7cf346b0cc242ed9e0a8185939c679a": {
      "model_module": "@jupyter-widgets/controls",
      "model_module_version": "1.5.0",
      "model_name": "VBoxModel",
      "state": {
       "children": [
        "IPY_MODEL_268656a1e531465aa8095eaa7428ef43",
        "IPY_MODEL_1adaef6b096144d6989c3e4ee524c5c3",
        "IPY_MODEL_b403e37068f34e3cb1bf2ff83dcce85c",
        "IPY_MODEL_223337d716bd4499b186672049e12842",
        "IPY_MODEL_64ab86d3906b4754b46df58aa922c4fc"
       ],
       "layout": "IPY_MODEL_cc3eb86b46cd46e7b637b66eaa459ad5"
      }
     },
     "bb784de480be4e3d9cbc1209cdb390e4": {
      "model_module": "@jupyter-widgets/base",
      "model_module_version": "1.2.0",
      "model_name": "LayoutModel",
      "state": {}
     },
     "c408ec090a59499ea4ad0ba4fcdb5e3b": {
      "model_module": "@jupyter-widgets/output",
      "model_module_version": "1.0.0",
      "model_name": "OutputModel",
      "state": {
       "layout": "IPY_MODEL_7eb4e6448f4a4052833b4ba9d675c9a4",
       "outputs": [
        {
         "data": {
          "text/html": "<style  type=\"text/css\" >\n    #T_72c79be2_a795_11ea_a414_0242ac110002row0_col0 {\n            background-color:  #d3d3d3;\n            color:  #000000;\n        }    #T_72c79be2_a795_11ea_a414_0242ac110002row0_col1 {\n            background-color:  #ffffff;\n            color:  #000000;\n        }    #T_72c79be2_a795_11ea_a414_0242ac110002row0_col2 {\n            background-color:  #ffffff;\n            color:  #000000;\n        }    #T_72c79be2_a795_11ea_a414_0242ac110002row0_col3 {\n            background-color:  #f7f7f7;\n            color:  #000000;\n        }    #T_72c79be2_a795_11ea_a414_0242ac110002row0_col4 {\n            background-color:  #ffffff;\n            color:  #000000;\n        }    #T_72c79be2_a795_11ea_a414_0242ac110002row0_col5 {\n            background-color:  #ffffff;\n            color:  #000000;\n        }    #T_72c79be2_a795_11ea_a414_0242ac110002row0_col6 {\n            background-color:  #ffffff;\n            color:  #000000;\n        }    #T_72c79be2_a795_11ea_a414_0242ac110002row1_col0 {\n            background-color:  #ffffff;\n            color:  #000000;\n        }    #T_72c79be2_a795_11ea_a414_0242ac110002row1_col1 {\n            background-color:  #d6d6d6;\n            color:  #000000;\n        }    #T_72c79be2_a795_11ea_a414_0242ac110002row1_col2 {\n            background-color:  #fefefe;\n            color:  #000000;\n        }    #T_72c79be2_a795_11ea_a414_0242ac110002row1_col3 {\n            background-color:  #ffffff;\n            color:  #000000;\n        }    #T_72c79be2_a795_11ea_a414_0242ac110002row1_col4 {\n            background-color:  #fefefe;\n            color:  #000000;\n        }    #T_72c79be2_a795_11ea_a414_0242ac110002row1_col5 {\n            background-color:  #f3f3f3;\n            color:  #000000;\n        }    #T_72c79be2_a795_11ea_a414_0242ac110002row1_col6 {\n            background-color:  #fafafa;\n            color:  #000000;\n        }    #T_72c79be2_a795_11ea_a414_0242ac110002row2_col0 {\n            background-color:  #ffffff;\n            color:  #000000;\n        }    #T_72c79be2_a795_11ea_a414_0242ac110002row2_col1 {\n            background-color:  #fefefe;\n            color:  #000000;\n        }    #T_72c79be2_a795_11ea_a414_0242ac110002row2_col2 {\n            background-color:  #cccccc;\n            color:  #000000;\n        }    #T_72c79be2_a795_11ea_a414_0242ac110002row2_col3 {\n            background-color:  #ffffff;\n            color:  #000000;\n        }    #T_72c79be2_a795_11ea_a414_0242ac110002row2_col4 {\n            background-color:  #fafafa;\n            color:  #000000;\n        }    #T_72c79be2_a795_11ea_a414_0242ac110002row2_col5 {\n            background-color:  #f8f8f8;\n            color:  #000000;\n        }    #T_72c79be2_a795_11ea_a414_0242ac110002row2_col6 {\n            background-color:  #f5f5f5;\n            color:  #000000;\n        }    #T_72c79be2_a795_11ea_a414_0242ac110002row3_col0 {\n            background-color:  #f7f7f7;\n            color:  #000000;\n        }    #T_72c79be2_a795_11ea_a414_0242ac110002row3_col1 {\n            background-color:  #ffffff;\n            color:  #000000;\n        }    #T_72c79be2_a795_11ea_a414_0242ac110002row3_col2 {\n            background-color:  #ffffff;\n            color:  #000000;\n        }    #T_72c79be2_a795_11ea_a414_0242ac110002row3_col3 {\n            background-color:  #bebebe;\n            color:  #000000;\n        }    #T_72c79be2_a795_11ea_a414_0242ac110002row3_col4 {\n            background-color:  #ffffff;\n            color:  #000000;\n        }    #T_72c79be2_a795_11ea_a414_0242ac110002row3_col5 {\n            background-color:  #fefefe;\n            color:  #000000;\n        }    #T_72c79be2_a795_11ea_a414_0242ac110002row3_col6 {\n            background-color:  #ffffff;\n            color:  #000000;\n        }    #T_72c79be2_a795_11ea_a414_0242ac110002row4_col0 {\n            background-color:  #ffffff;\n            color:  #000000;\n        }    #T_72c79be2_a795_11ea_a414_0242ac110002row4_col1 {\n            background-color:  #fefefe;\n            color:  #000000;\n        }    #T_72c79be2_a795_11ea_a414_0242ac110002row4_col2 {\n            background-color:  #fafafa;\n            color:  #000000;\n        }    #T_72c79be2_a795_11ea_a414_0242ac110002row4_col3 {\n            background-color:  #ffffff;\n            color:  #000000;\n        }    #T_72c79be2_a795_11ea_a414_0242ac110002row4_col4 {\n            background-color:  #757575;\n            color:  #000000;\n        }    #T_72c79be2_a795_11ea_a414_0242ac110002row4_col5 {\n            background-color:  #f5f5f5;\n            color:  #000000;\n        }    #T_72c79be2_a795_11ea_a414_0242ac110002row4_col6 {\n            background-color:  #fefefe;\n            color:  #000000;\n        }    #T_72c79be2_a795_11ea_a414_0242ac110002row5_col0 {\n            background-color:  #ffffff;\n            color:  #000000;\n        }    #T_72c79be2_a795_11ea_a414_0242ac110002row5_col1 {\n            background-color:  #f3f3f3;\n            color:  #000000;\n        }    #T_72c79be2_a795_11ea_a414_0242ac110002row5_col2 {\n            background-color:  #f8f8f8;\n            color:  #000000;\n        }    #T_72c79be2_a795_11ea_a414_0242ac110002row5_col3 {\n            background-color:  #fefefe;\n            color:  #000000;\n        }    #T_72c79be2_a795_11ea_a414_0242ac110002row5_col4 {\n            background-color:  #f5f5f5;\n            color:  #000000;\n        }    #T_72c79be2_a795_11ea_a414_0242ac110002row5_col5 {\n            background-color:  #000000;\n            color:  #f1f1f1;\n        }    #T_72c79be2_a795_11ea_a414_0242ac110002row5_col6 {\n            background-color:  #f1f1f1;\n            color:  #000000;\n        }    #T_72c79be2_a795_11ea_a414_0242ac110002row6_col0 {\n            background-color:  #ffffff;\n            color:  #000000;\n        }    #T_72c79be2_a795_11ea_a414_0242ac110002row6_col1 {\n            background-color:  #fafafa;\n            color:  #000000;\n        }    #T_72c79be2_a795_11ea_a414_0242ac110002row6_col2 {\n            background-color:  #f5f5f5;\n            color:  #000000;\n        }    #T_72c79be2_a795_11ea_a414_0242ac110002row6_col3 {\n            background-color:  #ffffff;\n            color:  #000000;\n        }    #T_72c79be2_a795_11ea_a414_0242ac110002row6_col4 {\n            background-color:  #fefefe;\n            color:  #000000;\n        }    #T_72c79be2_a795_11ea_a414_0242ac110002row6_col5 {\n            background-color:  #f1f1f1;\n            color:  #000000;\n        }    #T_72c79be2_a795_11ea_a414_0242ac110002row6_col6 {\n            background-color:  #272727;\n            color:  #f1f1f1;\n        }</style><table id=\"T_72c79be2_a795_11ea_a414_0242ac110002\" ><thead>    <tr>        <th class=\"blank level0\" ></th>        <th class=\"col_heading level0 col0\" >urban agriculture [22]</th>        <th class=\"col_heading level0 col1\" >Food security [25]</th>        <th class=\"col_heading level0 col2\" >Sustainability [28]</th>        <th class=\"col_heading level0 col3\" >urban farming [36]</th>        <th class=\"col_heading level0 col4\" >Urban gardening [58]</th>        <th class=\"col_heading level0 col5\" >Urban agriculture [87]</th>        <th class=\"col_heading level0 col6\" >Urban farming [95]</th>    </tr></thead><tbody>\n                <tr>\n                        <th id=\"T_72c79be2_a795_11ea_a414_0242ac110002level0_row0\" class=\"row_heading level0 row0\" >urban agriculture [22]</th>\n                        <td id=\"T_72c79be2_a795_11ea_a414_0242ac110002row0_col0\" class=\"data row0 col0\" >19</td>\n                        <td id=\"T_72c79be2_a795_11ea_a414_0242ac110002row0_col1\" class=\"data row0 col1\" ></td>\n                        <td id=\"T_72c79be2_a795_11ea_a414_0242ac110002row0_col2\" class=\"data row0 col2\" ></td>\n                        <td id=\"T_72c79be2_a795_11ea_a414_0242ac110002row0_col3\" class=\"data row0 col3\" ></td>\n                        <td id=\"T_72c79be2_a795_11ea_a414_0242ac110002row0_col4\" class=\"data row0 col4\" ></td>\n                        <td id=\"T_72c79be2_a795_11ea_a414_0242ac110002row0_col5\" class=\"data row0 col5\" ></td>\n                        <td id=\"T_72c79be2_a795_11ea_a414_0242ac110002row0_col6\" class=\"data row0 col6\" ></td>\n            </tr>\n            <tr>\n                        <th id=\"T_72c79be2_a795_11ea_a414_0242ac110002level0_row1\" class=\"row_heading level0 row1\" >Food security [25]</th>\n                        <td id=\"T_72c79be2_a795_11ea_a414_0242ac110002row1_col0\" class=\"data row1 col0\" ></td>\n                        <td id=\"T_72c79be2_a795_11ea_a414_0242ac110002row1_col1\" class=\"data row1 col1\" >18</td>\n                        <td id=\"T_72c79be2_a795_11ea_a414_0242ac110002row1_col2\" class=\"data row1 col2\" ></td>\n                        <td id=\"T_72c79be2_a795_11ea_a414_0242ac110002row1_col3\" class=\"data row1 col3\" ></td>\n                        <td id=\"T_72c79be2_a795_11ea_a414_0242ac110002row1_col4\" class=\"data row1 col4\" ></td>\n                        <td id=\"T_72c79be2_a795_11ea_a414_0242ac110002row1_col5\" class=\"data row1 col5\" ></td>\n                        <td id=\"T_72c79be2_a795_11ea_a414_0242ac110002row1_col6\" class=\"data row1 col6\" ></td>\n            </tr>\n            <tr>\n                        <th id=\"T_72c79be2_a795_11ea_a414_0242ac110002level0_row2\" class=\"row_heading level0 row2\" >Sustainability [28]</th>\n                        <td id=\"T_72c79be2_a795_11ea_a414_0242ac110002row2_col0\" class=\"data row2 col0\" ></td>\n                        <td id=\"T_72c79be2_a795_11ea_a414_0242ac110002row2_col1\" class=\"data row2 col1\" ></td>\n                        <td id=\"T_72c79be2_a795_11ea_a414_0242ac110002row2_col2\" class=\"data row2 col2\" >21</td>\n                        <td id=\"T_72c79be2_a795_11ea_a414_0242ac110002row2_col3\" class=\"data row2 col3\" ></td>\n                        <td id=\"T_72c79be2_a795_11ea_a414_0242ac110002row2_col4\" class=\"data row2 col4\" ></td>\n                        <td id=\"T_72c79be2_a795_11ea_a414_0242ac110002row2_col5\" class=\"data row2 col5\" ></td>\n                        <td id=\"T_72c79be2_a795_11ea_a414_0242ac110002row2_col6\" class=\"data row2 col6\" ></td>\n            </tr>\n            <tr>\n                        <th id=\"T_72c79be2_a795_11ea_a414_0242ac110002level0_row3\" class=\"row_heading level0 row3\" >urban farming [36]</th>\n                        <td id=\"T_72c79be2_a795_11ea_a414_0242ac110002row3_col0\" class=\"data row3 col0\" ></td>\n                        <td id=\"T_72c79be2_a795_11ea_a414_0242ac110002row3_col1\" class=\"data row3 col1\" ></td>\n                        <td id=\"T_72c79be2_a795_11ea_a414_0242ac110002row3_col2\" class=\"data row3 col2\" ></td>\n                        <td id=\"T_72c79be2_a795_11ea_a414_0242ac110002row3_col3\" class=\"data row3 col3\" >25</td>\n                        <td id=\"T_72c79be2_a795_11ea_a414_0242ac110002row3_col4\" class=\"data row3 col4\" ></td>\n                        <td id=\"T_72c79be2_a795_11ea_a414_0242ac110002row3_col5\" class=\"data row3 col5\" ></td>\n                        <td id=\"T_72c79be2_a795_11ea_a414_0242ac110002row3_col6\" class=\"data row3 col6\" ></td>\n            </tr>\n            <tr>\n                        <th id=\"T_72c79be2_a795_11ea_a414_0242ac110002level0_row4\" class=\"row_heading level0 row4\" >Urban gardening [58]</th>\n                        <td id=\"T_72c79be2_a795_11ea_a414_0242ac110002row4_col0\" class=\"data row4 col0\" ></td>\n                        <td id=\"T_72c79be2_a795_11ea_a414_0242ac110002row4_col1\" class=\"data row4 col1\" ></td>\n                        <td id=\"T_72c79be2_a795_11ea_a414_0242ac110002row4_col2\" class=\"data row4 col2\" ></td>\n                        <td id=\"T_72c79be2_a795_11ea_a414_0242ac110002row4_col3\" class=\"data row4 col3\" ></td>\n                        <td id=\"T_72c79be2_a795_11ea_a414_0242ac110002row4_col4\" class=\"data row4 col4\" >42</td>\n                        <td id=\"T_72c79be2_a795_11ea_a414_0242ac110002row4_col5\" class=\"data row4 col5\" ></td>\n                        <td id=\"T_72c79be2_a795_11ea_a414_0242ac110002row4_col6\" class=\"data row4 col6\" ></td>\n            </tr>\n            <tr>\n                        <th id=\"T_72c79be2_a795_11ea_a414_0242ac110002level0_row5\" class=\"row_heading level0 row5\" >Urban agriculture [87]</th>\n                        <td id=\"T_72c79be2_a795_11ea_a414_0242ac110002row5_col0\" class=\"data row5 col0\" ></td>\n                        <td id=\"T_72c79be2_a795_11ea_a414_0242ac110002row5_col1\" class=\"data row5 col1\" ></td>\n                        <td id=\"T_72c79be2_a795_11ea_a414_0242ac110002row5_col2\" class=\"data row5 col2\" ></td>\n                        <td id=\"T_72c79be2_a795_11ea_a414_0242ac110002row5_col3\" class=\"data row5 col3\" ></td>\n                        <td id=\"T_72c79be2_a795_11ea_a414_0242ac110002row5_col4\" class=\"data row5 col4\" ></td>\n                        <td id=\"T_72c79be2_a795_11ea_a414_0242ac110002row5_col5\" class=\"data row5 col5\" >68</td>\n                        <td id=\"T_72c79be2_a795_11ea_a414_0242ac110002row5_col6\" class=\"data row5 col6\" ></td>\n            </tr>\n            <tr>\n                        <th id=\"T_72c79be2_a795_11ea_a414_0242ac110002level0_row6\" class=\"row_heading level0 row6\" >Urban farming [95]</th>\n                        <td id=\"T_72c79be2_a795_11ea_a414_0242ac110002row6_col0\" class=\"data row6 col0\" ></td>\n                        <td id=\"T_72c79be2_a795_11ea_a414_0242ac110002row6_col1\" class=\"data row6 col1\" ></td>\n                        <td id=\"T_72c79be2_a795_11ea_a414_0242ac110002row6_col2\" class=\"data row6 col2\" ></td>\n                        <td id=\"T_72c79be2_a795_11ea_a414_0242ac110002row6_col3\" class=\"data row6 col3\" ></td>\n                        <td id=\"T_72c79be2_a795_11ea_a414_0242ac110002row6_col4\" class=\"data row6 col4\" ></td>\n                        <td id=\"T_72c79be2_a795_11ea_a414_0242ac110002row6_col5\" class=\"data row6 col5\" ></td>\n                        <td id=\"T_72c79be2_a795_11ea_a414_0242ac110002row6_col6\" class=\"data row6 col6\" >59</td>\n            </tr>\n    </tbody></table>",
          "text/plain": "<pandas.io.formats.style.Styler at 0x7f4625bcfc18>"
         },
         "metadata": {},
         "output_type": "display_data"
        }
       ]
      }
     },
     "cc2931c7e7fe45c19b2da842ca292389": {
      "model_module": "@jupyter-widgets/base",
      "model_module_version": "1.2.0",
      "model_name": "LayoutModel",
      "state": {
       "grid_template_areas": "\"header header header\"\n\"center center center\"",
       "grid_template_columns": "1fr 2fr 1fr",
       "grid_template_rows": "80px 650px"
      }
     },
     "cc3eb86b46cd46e7b637b66eaa459ad5": {
      "model_module": "@jupyter-widgets/base",
      "model_module_version": "1.2.0",
      "model_name": "LayoutModel",
      "state": {
       "border": "1px solid gray",
       "height": "588px"
      }
     },
     "cc66b84e0faf46a8a9f32d6afa13ecec": {
      "model_module": "@jupyter-widgets/base",
      "model_module_version": "1.2.0",
      "model_name": "LayoutModel",
      "state": {
       "grid_area": "header"
      }
     },
     "dc897ddedcc24ab7bfa5dfc07017b917": {
      "model_module": "@jupyter-widgets/controls",
      "model_module_version": "1.5.0",
      "model_name": "DescriptionStyleModel",
      "state": {
       "description_width": ""
      }
     },
     "dcc062f7b8934b97aee690addffcd244": {
      "model_module": "@jupyter-widgets/controls",
      "model_module_version": "1.5.0",
      "model_name": "LabelModel",
      "state": {
       "layout": "IPY_MODEL_a69d146271614dfb8cf43d7403d64662",
       "style": "IPY_MODEL_79d45aa58290473d836d88c8b5974b2b",
       "value": "Sort order:"
      }
     },
     "e279019c41c84cddbd53832cd30e0425": {
      "model_module": "@jupyter-widgets/controls",
      "model_module_version": "1.5.0",
      "model_name": "DescriptionStyleModel",
      "state": {
       "description_width": ""
      }
     },
     "ec1accbc9dd8499bb021a3a59824d18b": {
      "model_module": "@jupyter-widgets/controls",
      "model_module_version": "1.5.0",
      "model_name": "DescriptionStyleModel",
      "state": {
       "description_width": ""
      }
     },
     "f648bc9e175a4108b8966964bb33fb7c": {
      "model_module": "@jupyter-widgets/base",
      "model_module_version": "1.2.0",
      "model_name": "LayoutModel",
      "state": {}
     },
     "f798446185334ffcbf4ed61af3ed5179": {
      "model_module": "@jupyter-widgets/controls",
      "model_module_version": "1.5.0",
      "model_name": "DropdownModel",
      "state": {
       "_options_labels": [
        "Alphabetic asc.",
        "Alphabetic desc.",
        "Frequency/Cited by asc.",
        "Frequency/Cited by desc."
       ],
       "index": 2,
       "layout": "IPY_MODEL_b4b832f296444b7eb6e61849c5ef7701",
       "style": "IPY_MODEL_ec1accbc9dd8499bb021a3a59824d18b"
      }
     },
     "fb05171169ae47e294687460254405fe": {
      "model_module": "@jupyter-widgets/base",
      "model_module_version": "1.2.0",
      "model_name": "LayoutModel",
      "state": {}
     }
    },
    "version_major": 2,
    "version_minor": 0
   }
  }
 },
 "nbformat": 4,
 "nbformat_minor": 4
}
