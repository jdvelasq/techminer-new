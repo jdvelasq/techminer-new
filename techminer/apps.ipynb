{
 "cells": [
  {
   "cell_type": "code",
   "execution_count": 1,
   "metadata": {},
   "outputs": [
    {
     "name": "stderr",
     "output_type": "stream",
     "text": [
      "2020-06-07 00:36:14,593 - INFO - Renaming and selecting columns ...\n",
      "2020-06-07 00:36:20,213 - INFO - Formatting author names ...\n",
      "2020-06-07 00:36:20,218 - INFO - Disambiguating author names ...\n",
      "2020-06-07 00:36:20,277 - INFO - Removing part of titles in foreing languages ...\n",
      "2020-06-07 00:36:20,280 - INFO - Fusioning author and index keywords ...\n",
      "2020-06-07 00:36:20,292 - INFO - NumExpr defaulting to 8 threads.\n",
      "2020-06-07 00:36:20,305 - INFO - Extracting countries from affiliations ...\n",
      "2020-06-07 00:36:26,383 - INFO - Extracting institutions from affiliations ...\n",
      "2020-06-07 00:36:26,393 - INFO - Extracting country of 1st author ...\n",
      "2020-06-07 00:36:26,397 - INFO - Extracting affiliation of 1st author ...\n",
      "2020-06-07 00:36:26,400 - INFO - Counting number of authors ...\n"
     ]
    }
   ],
   "source": [
    "import pandas as pd\n",
    "import data\n",
    "\n",
    "filepath = \"../data/papers/urban-agriculture.csv\"\n",
    "df = pd.read_csv(filepath)\n",
    "df = data.load_scopus(df)"
   ]
  },
  {
   "cell_type": "code",
   "execution_count": 2,
   "metadata": {},
   "outputs": [
    {
     "data": {
      "application/vnd.jupyter.widget-view+json": {
       "model_id": "2cb1b621de6142579e07d3f3c306a38c",
       "version_major": 2,
       "version_minor": 0
      },
      "text/plain": [
       "GridspecLayout(children=(HTML(value=\"<h1>Matrix Explorer (Top 50 terms)</h1><hr style='height:2px;border-width…"
      ]
     },
     "metadata": {},
     "output_type": "display_data"
    }
   ],
   "source": [
    "import viewers\n",
    "\n",
    "viewers.matrix(df, top_n=50)"
   ]
  },
  {
   "cell_type": "code",
   "execution_count": null,
   "metadata": {},
   "outputs": [],
   "source": []
  },
  {
   "cell_type": "code",
   "execution_count": null,
   "metadata": {},
   "outputs": [],
   "source": []
  },
  {
   "cell_type": "code",
   "execution_count": null,
   "metadata": {},
   "outputs": [],
   "source": []
  },
  {
   "cell_type": "code",
   "execution_count": null,
   "metadata": {},
   "outputs": [],
   "source": []
  },
  {
   "cell_type": "code",
   "execution_count": null,
   "metadata": {},
   "outputs": [],
   "source": [
    "import viewers\n",
    "\n",
    "viewers.column(df, top_n=50)"
   ]
  },
  {
   "cell_type": "markdown",
   "metadata": {},
   "source": [
    "### Basic info"
   ]
  },
  {
   "cell_type": "code",
   "execution_count": null,
   "metadata": {},
   "outputs": [],
   "source": [
    "data.coverage(df)"
   ]
  },
  {
   "cell_type": "code",
   "execution_count": null,
   "metadata": {},
   "outputs": [],
   "source": []
  },
  {
   "cell_type": "code",
   "execution_count": null,
   "metadata": {},
   "outputs": [],
   "source": []
  },
  {
   "cell_type": "code",
   "execution_count": null,
   "metadata": {},
   "outputs": [],
   "source": [
    "data.app(df)"
   ]
  },
  {
   "cell_type": "code",
   "execution_count": null,
   "metadata": {},
   "outputs": [],
   "source": []
  },
  {
   "cell_type": "code",
   "execution_count": null,
   "metadata": {},
   "outputs": [],
   "source": []
  },
  {
   "cell_type": "code",
   "execution_count": null,
   "metadata": {},
   "outputs": [],
   "source": []
  },
  {
   "cell_type": "markdown",
   "metadata": {},
   "source": [
    "### Keywords"
   ]
  },
  {
   "cell_type": "code",
   "execution_count": null,
   "metadata": {},
   "outputs": [],
   "source": []
  },
  {
   "cell_type": "markdown",
   "metadata": {},
   "source": [
    "### FindString Dialog Box pag. 69"
   ]
  },
  {
   "cell_type": "code",
   "execution_count": null,
   "metadata": {},
   "outputs": [],
   "source": []
  },
  {
   "cell_type": "markdown",
   "metadata": {},
   "source": [
    "### Cleaning a list pag. 102"
   ]
  },
  {
   "cell_type": "code",
   "execution_count": null,
   "metadata": {},
   "outputs": [],
   "source": []
  },
  {
   "cell_type": "markdown",
   "metadata": {},
   "source": [
    "### Fuzzy match editor pag.126"
   ]
  },
  {
   "cell_type": "code",
   "execution_count": null,
   "metadata": {},
   "outputs": [],
   "source": []
  },
  {
   "cell_type": "markdown",
   "metadata": {},
   "source": [
    "### Stemming And / Stemming Or"
   ]
  },
  {
   "cell_type": "code",
   "execution_count": null,
   "metadata": {},
   "outputs": [],
   "source": []
  },
  {
   "cell_type": "markdown",
   "metadata": {},
   "source": [
    "### APPS"
   ]
  },
  {
   "cell_type": "code",
   "execution_count": null,
   "metadata": {},
   "outputs": [],
   "source": [
    "import by_year as year\n",
    "year.app(df)"
   ]
  },
  {
   "cell_type": "code",
   "execution_count": null,
   "metadata": {},
   "outputs": [],
   "source": [
    "import by_term as term\n",
    "term.app(df)"
   ]
  },
  {
   "cell_type": "code",
   "execution_count": null,
   "metadata": {},
   "outputs": [],
   "source": [
    "import by_term_per_year as term_year\n",
    "term_year.app(df)"
   ]
  },
  {
   "cell_type": "code",
   "execution_count": null,
   "metadata": {},
   "outputs": [],
   "source": [
    "import co_occurrence as co_occurrence\n",
    "co_occurrence.app(df)"
   ]
  },
  {
   "cell_type": "code",
   "execution_count": null,
   "metadata": {},
   "outputs": [],
   "source": [
    "import correlation as correlation\n",
    "correlation.app(df)"
   ]
  },
  {
   "cell_type": "code",
   "execution_count": null,
   "metadata": {},
   "outputs": [],
   "source": [
    "import factor_analysis\n",
    "\n",
    "factor_analysis.app(df)"
   ]
  },
  {
   "cell_type": "code",
   "execution_count": null,
   "metadata": {},
   "outputs": [],
   "source": []
  },
  {
   "cell_type": "code",
   "execution_count": null,
   "metadata": {},
   "outputs": [],
   "source": []
  },
  {
   "cell_type": "code",
   "execution_count": null,
   "metadata": {},
   "outputs": [],
   "source": [
    "\n",
    "x = pd.Series(df['Authors'].unique())\n",
    "x = x[x.map(lambda w: not pd.isna(w))]\n",
    "x = x.sort_values()\n",
    "x"
   ]
  },
  {
   "cell_type": "code",
   "execution_count": null,
   "metadata": {},
   "outputs": [],
   "source": [
    "df.iloc[2]['Authors']"
   ]
  },
  {
   "cell_type": "code",
   "execution_count": null,
   "metadata": {},
   "outputs": [],
   "source": [
    "x = pd.DataFrame(0, columns=list('ABCDE'), index=list('abcdefg'))\n",
    "x\n",
    "list(set(x.columns) & set(['A', 'B']))"
   ]
  },
  {
   "cell_type": "code",
   "execution_count": null,
   "metadata": {},
   "outputs": [],
   "source": []
  }
 ],
 "metadata": {
  "kernelspec": {
   "display_name": "Python 3",
   "language": "python",
   "name": "python3"
  },
  "language_info": {
   "codemirror_mode": {
    "name": "ipython",
    "version": 3
   },
   "file_extension": ".py",
   "mimetype": "text/x-python",
   "name": "python",
   "nbconvert_exporter": "python",
   "pygments_lexer": "ipython3",
   "version": "3.6.9"
  },
  "widgets": {
   "application/vnd.jupyter.widget-state+json": {
    "state": {
     "0258257f5f0246768ed1d5d7e778bfa2": {
      "model_module": "@jupyter-widgets/controls",
      "model_module_version": "1.5.0",
      "model_name": "DescriptionStyleModel",
      "state": {
       "description_width": ""
      }
     },
     "067a93605a3c49e79f22b113e33ceb0b": {
      "model_module": "@jupyter-widgets/controls",
      "model_module_version": "1.5.0",
      "model_name": "LabelModel",
      "state": {
       "layout": "IPY_MODEL_8a934ac7418c4fada5e105034b95cf35",
       "style": "IPY_MODEL_7f3e9d6beca446c887cc51083530ca3f",
       "value": "Title:"
      }
     },
     "0bb06c307ae744d6a35c8e3123e1ad90": {
      "model_module": "@jupyter-widgets/base",
      "model_module_version": "1.2.0",
      "model_name": "LayoutModel",
      "state": {}
     },
     "190d154b99ff4f10bfd695eac40f5a05": {
      "model_module": "@jupyter-widgets/controls",
      "model_module_version": "1.5.0",
      "model_name": "LabelModel",
      "state": {
       "layout": "IPY_MODEL_9cc73362531e4d8f9122e6eec9d31a88",
       "style": "IPY_MODEL_30b3ead0511d40c28921cd204f05965d",
       "value": "Column:"
      }
     },
     "1c427a9c9da748a296e4eec83bd867be": {
      "model_module": "@jupyter-widgets/controls",
      "model_module_version": "1.5.0",
      "model_name": "LabelModel",
      "state": {
       "layout": "IPY_MODEL_74fce45cc23b4584968254b3e175f2be",
       "style": "IPY_MODEL_97408ebc86194f029555446855367a5b",
       "value": "By column:"
      }
     },
     "1f6a72c7b6bc4ca9b6d24982ab41daf0": {
      "model_module": "@jupyter-widgets/base",
      "model_module_version": "1.2.0",
      "model_name": "LayoutModel",
      "state": {
       "grid_area": "widget007"
      }
     },
     "279ab83339504f3ca35d0ffd83d88803": {
      "model_module": "@jupyter-widgets/base",
      "model_module_version": "1.2.0",
      "model_name": "LayoutModel",
      "state": {
       "width": "200px"
      }
     },
     "2bf3fbc6ac04451280c5f3af9c03f205": {
      "model_module": "@jupyter-widgets/base",
      "model_module_version": "1.2.0",
      "model_name": "LayoutModel",
      "state": {
       "grid_area": "widget003"
      }
     },
     "2cb1b621de6142579e07d3f3c306a38c": {
      "model_module": "@jupyter-widgets/controls",
      "model_module_version": "1.5.0",
      "model_name": "GridBoxModel",
      "state": {
       "children": [
        "IPY_MODEL_6b09d42b348640d39ceaae82a8138c68",
        "IPY_MODEL_91382adbdb6f43beb7cba9c9b1ca3fa8",
        "IPY_MODEL_723ac631151945f48d071cf04be2f46c",
        "IPY_MODEL_a1ff090e72a545b6852b2d84c274b0a8",
        "IPY_MODEL_fff7f99b6fc8488ebbb0f809c6f77746",
        "IPY_MODEL_aaf5c97264d741e58d8c14a04044d5aa",
        "IPY_MODEL_69439bf5810041fe955979f586dbe3b6"
       ],
       "layout": "IPY_MODEL_cb6129a5228742369058fb03a2100e36"
      }
     },
     "2dd08a7b64864691ab702afa7ef5b478": {
      "model_module": "@jupyter-widgets/controls",
      "model_module_version": "1.5.0",
      "model_name": "DropdownModel",
      "state": {
       "_options_labels": [
        "Author Keywords",
        "Authors",
        "Countries",
        "Country 1st",
        "Index Keywords",
        "Institution 1st",
        "Institutions",
        "Keywords",
        "Source title",
        "Title",
        "Year"
       ],
       "index": 0,
       "layout": "IPY_MODEL_279ab83339504f3ca35d0ffd83d88803",
       "style": "IPY_MODEL_58de2a4203604dfcb2d24eb268e3f91a"
      }
     },
     "30b3ead0511d40c28921cd204f05965d": {
      "model_module": "@jupyter-widgets/controls",
      "model_module_version": "1.5.0",
      "model_name": "DescriptionStyleModel",
      "state": {
       "description_width": ""
      }
     },
     "3d6e8dba7c234c79bf011097f3c921ae": {
      "model_module": "@jupyter-widgets/base",
      "model_module_version": "1.2.0",
      "model_name": "LayoutModel",
      "state": {}
     },
     "3f848158bc254ef493e4e7e8c367c2fd": {
      "model_module": "@jupyter-widgets/controls",
      "model_module_version": "1.5.0",
      "model_name": "DescriptionStyleModel",
      "state": {
       "description_width": ""
      }
     },
     "468ab02fbfb5413499b6125c81b47456": {
      "model_module": "@jupyter-widgets/base",
      "model_module_version": "1.2.0",
      "model_name": "LayoutModel",
      "state": {}
     },
     "48d14b174fdc43caa400004a170cc3aa": {
      "model_module": "@jupyter-widgets/controls",
      "model_module_version": "1.5.0",
      "model_name": "DropdownModel",
      "state": {
       "_options_labels": [
        "Agriculture",
        "Aquaponics",
        "Australia",
        "Biodiversity",
        "Case study",
        "Characterisation",
        "Controlled environment agriculture",
        "Ecosystem services",
        "Environment",
        "FEW",
        "Food planning",
        "Food security",
        "Food, energy, water nexus",
        "Gardening",
        "Hydroponics",
        "Igbe",
        "Lagos",
        "Land use",
        "Lead",
        "Low impact development",
        "Metals",
        "Nutrient recovery",
        "Peri-urban",
        "Pesticides",
        "Policy",
        "Resilience",
        "Shrinking cities",
        "Sociocultural",
        "Socioeconomics",
        "Soil",
        "Spatial mapping",
        "Species-area relationship",
        "Sustainability",
        "Urban",
        "Urban farming",
        "Urban resource management",
        "Urbanisation",
        "Weather patterns"
       ],
       "index": 0,
       "layout": "IPY_MODEL_eddcebe43d0a47c49ce5b96f28a81e78",
       "style": "IPY_MODEL_5497bde4545a49608d5acaf006f11a4e"
      }
     },
     "4c0f3774b0cf4a909592050056286f9b": {
      "model_module": "@jupyter-widgets/base",
      "model_module_version": "1.2.0",
      "model_name": "LayoutModel",
      "state": {
       "grid_area": "widget001"
      }
     },
     "525377aade64457ca134f595b67d918a": {
      "model_module": "@jupyter-widgets/base",
      "model_module_version": "1.2.0",
      "model_name": "LayoutModel",
      "state": {}
     },
     "53b11b4b9c9c4e078148fac2d17ac6c9": {
      "model_module": "@jupyter-widgets/controls",
      "model_module_version": "1.5.0",
      "model_name": "DescriptionStyleModel",
      "state": {
       "description_width": ""
      }
     },
     "5497bde4545a49608d5acaf006f11a4e": {
      "model_module": "@jupyter-widgets/controls",
      "model_module_version": "1.5.0",
      "model_name": "DescriptionStyleModel",
      "state": {
       "description_width": ""
      }
     },
     "54cca14706b342728c0068d7490ffddc": {
      "model_module": "@jupyter-widgets/base",
      "model_module_version": "1.2.0",
      "model_name": "LayoutModel",
      "state": {}
     },
     "56742cada7de45f5ab874f578dc6f733": {
      "model_module": "@jupyter-widgets/controls",
      "model_module_version": "1.5.0",
      "model_name": "HTMLModel",
      "state": {
       "layout": "IPY_MODEL_58316ff68da246cbb096cf56e107faba",
       "style": "IPY_MODEL_b62f5e68b4ac44bda754404bf0b3475e",
       "value": "<pre> Author Keywords: Agriculture<br>                  Biodiversity<br>                  Ecosystem services<br>                  Food security<br>                  Socioeconomics<br>                  Species-area relationship<br>         Authors: Clarke LW<br>                  Li L<br>                  Jenerette GD<br>                  Yu Z<br>       Countries: United States<br>                  China<br>    Institutions: department of botany and plant sciences<br>                  college of agricultural resources and environmental sciences<br>        Keywords: Agriculture<br>                  Biodiversity<br>                  Ecosystem services<br>                  Food security<br>                  Socioeconomics<br>                  Species-area relationship<br>    Source title: Urban Ecosystems<br>           Title: Drivers of plant biodiversity and ecosystem service production in home gardens across the Beijing Municipality of China<br>            Year: 2014<br></pre>"
      }
     },
     "58316ff68da246cbb096cf56e107faba": {
      "model_module": "@jupyter-widgets/base",
      "model_module_version": "1.2.0",
      "model_name": "LayoutModel",
      "state": {}
     },
     "58de2a4203604dfcb2d24eb268e3f91a": {
      "model_module": "@jupyter-widgets/controls",
      "model_module_version": "1.5.0",
      "model_name": "DescriptionStyleModel",
      "state": {
       "description_width": ""
      }
     },
     "5c68c71a1a21445e8ad862c000c5fc81": {
      "model_module": "@jupyter-widgets/base",
      "model_module_version": "1.2.0",
      "model_name": "LayoutModel",
      "state": {}
     },
     "6615c96fe9bc47e89f91d7b056fc4f05": {
      "model_module": "@jupyter-widgets/controls",
      "model_module_version": "1.5.0",
      "model_name": "SelectModel",
      "state": {
       "_options_labels": [
        "Drivers of plant biodiversity and ecosystem service production in home gardens across the Beijing Municipality of China",
        "Effects of climate change on a peri-urban farming community in Lagos, Nigeria",
        "Energy, water and nutrient impacts of California-grown vegetables compared to controlled environmental agriculture systems in Atlanta, GA",
        "Finding common ground in weed management: Peri-urban farming, environmental and lifestyle values and practices in southeast Queensland, Australia",
        "Growing gardens in Shrinking cities: A solution to the soil lead problem?",
        "Operational modelling of peri-urban farmland for public action in Mediterranean context",
        "The contribution of small-scale food production in urban areas to the sustainable development goals: a review and case study"
       ],
       "index": 0,
       "layout": "IPY_MODEL_c2007e4b75a24c3ebe8a1527d0ca2c65",
       "style": "IPY_MODEL_c3487f843ffa44b6a09cdcafdc3a4f21"
      }
     },
     "687d11f60513401fa94bad9d464d977c": {
      "model_module": "@jupyter-widgets/base",
      "model_module_version": "1.2.0",
      "model_name": "LayoutModel",
      "state": {
       "grid_area": "widget005"
      }
     },
     "69439bf5810041fe955979f586dbe3b6": {
      "model_module": "@jupyter-widgets/controls",
      "model_module_version": "1.5.0",
      "model_name": "VBoxModel",
      "state": {
       "children": [
        "IPY_MODEL_a18fb541067e4e2995acf40abe93a0d6"
       ],
       "layout": "IPY_MODEL_1f6a72c7b6bc4ca9b6d24982ab41daf0"
      }
     },
     "6ad8fcd349b64ece91980cb12ffae850": {
      "model_module": "@jupyter-widgets/controls",
      "model_module_version": "1.5.0",
      "model_name": "HTMLModel",
      "state": {
       "layout": "IPY_MODEL_3d6e8dba7c234c79bf011097f3c921ae",
       "style": "IPY_MODEL_53b11b4b9c9c4e078148fac2d17ac6c9",
       "value": "<pre> Author Keywords: Agriculture<br>                  Biodiversity<br>                  Ecosystem services<br>                  Food security<br>                  Socioeconomics<br>                  Species-area relationship<br>         Authors: Clarke LW<br>                  Li L<br>                  Jenerette GD<br>                  Yu Z<br>       Countries: United States<br>                  China<br>    Institutions: department of botany and plant sciences<br>                  college of agricultural resources and environmental sciences<br>        Keywords: Agriculture<br>                  Biodiversity<br>                  Ecosystem services<br>                  Food security<br>                  Socioeconomics<br>                  Species-area relationship<br>    Source title: Urban Ecosystems<br>           Title: Drivers of plant biodiversity and ecosystem service production in home gardens across the Beijing Municipality of China<br>            Year: 2014<br></pre>"
      }
     },
     "6b09d42b348640d39ceaae82a8138c68": {
      "model_module": "@jupyter-widgets/controls",
      "model_module_version": "1.5.0",
      "model_name": "HTMLModel",
      "state": {
       "layout": "IPY_MODEL_4c0f3774b0cf4a909592050056286f9b",
       "style": "IPY_MODEL_d6a24bef35ce4f47a79e3f3e63ac9256",
       "value": "<h1>Matrix Explorer (Top 50 terms)</h1><hr style='height:2px;border-width:0;color:gray;background-color:gray'>"
      }
     },
     "6b46e4dbb2fa4cd694799c3679df0a50": {
      "model_module": "@jupyter-widgets/base",
      "model_module_version": "1.2.0",
      "model_name": "LayoutModel",
      "state": {
       "grid_area": "widget006"
      }
     },
     "723ac631151945f48d071cf04be2f46c": {
      "model_module": "@jupyter-widgets/controls",
      "model_module_version": "1.5.0",
      "model_name": "VBoxModel",
      "state": {
       "children": [
        "IPY_MODEL_860de258e48a463dbb6aef3c6adbd744",
        "IPY_MODEL_cceec4f084dc42f79698107f2fe74eee"
       ],
       "layout": "IPY_MODEL_2bf3fbc6ac04451280c5f3af9c03f205"
      }
     },
     "72f5e3b0a5de493aad39067d14539d5c": {
      "model_module": "@jupyter-widgets/base",
      "model_module_version": "1.2.0",
      "model_name": "LayoutModel",
      "state": {
       "grid_area": "widget002"
      }
     },
     "74fce45cc23b4584968254b3e175f2be": {
      "model_module": "@jupyter-widgets/base",
      "model_module_version": "1.2.0",
      "model_name": "LayoutModel",
      "state": {}
     },
     "76f0ea3048aa425cb33c82d90ca3d3b0": {
      "model_module": "@jupyter-widgets/controls",
      "model_module_version": "1.5.0",
      "model_name": "HTMLModel",
      "state": {
       "layout": "IPY_MODEL_54cca14706b342728c0068d7490ffddc",
       "style": "IPY_MODEL_e37d748f895242e190ff17cc2490f49f",
       "value": "<pre> Author Keywords: Agriculture<br>                  Biodiversity<br>                  Ecosystem services<br>                  Food security<br>                  Socioeconomics<br>                  Species-area relationship<br>         Authors: Clarke LW<br>                  Li L<br>                  Jenerette GD<br>                  Yu Z<br>       Countries: United States<br>                  China<br>    Institutions: department of botany and plant sciences<br>                  college of agricultural resources and environmental sciences<br>        Keywords: Agriculture<br>                  Biodiversity<br>                  Ecosystem services<br>                  Food security<br>                  Socioeconomics<br>                  Species-area relationship<br>    Source title: Urban Ecosystems<br>           Title: Drivers of plant biodiversity and ecosystem service production in home gardens across the Beijing Municipality of China<br>            Year: 2014<br></pre>"
      }
     },
     "7caa30269ee54db4b94ee8ebb7b89d79": {
      "model_module": "@jupyter-widgets/controls",
      "model_module_version": "1.5.0",
      "model_name": "DropdownModel",
      "state": {
       "_options_labels": [
        "Author Keywords",
        "Authors",
        "Countries",
        "Country 1st",
        "Index Keywords",
        "Institution 1st",
        "Institutions",
        "Keywords",
        "Source title",
        "Title",
        "Year"
       ],
       "index": 0,
       "layout": "IPY_MODEL_b4bbf767972440c3b895b72b62021803",
       "style": "IPY_MODEL_d6e8e6de8ee7478da198911397798b4c"
      }
     },
     "7f3e9d6beca446c887cc51083530ca3f": {
      "model_module": "@jupyter-widgets/controls",
      "model_module_version": "1.5.0",
      "model_name": "DescriptionStyleModel",
      "state": {
       "description_width": ""
      }
     },
     "860de258e48a463dbb6aef3c6adbd744": {
      "model_module": "@jupyter-widgets/controls",
      "model_module_version": "1.5.0",
      "model_name": "LabelModel",
      "state": {
       "layout": "IPY_MODEL_c090b6e1358f493cbce54c51feba8481",
       "style": "IPY_MODEL_0258257f5f0246768ed1d5d7e778bfa2",
       "value": "Term in Column:"
      }
     },
     "8a934ac7418c4fada5e105034b95cf35": {
      "model_module": "@jupyter-widgets/base",
      "model_module_version": "1.2.0",
      "model_name": "LayoutModel",
      "state": {}
     },
     "91382adbdb6f43beb7cba9c9b1ca3fa8": {
      "model_module": "@jupyter-widgets/controls",
      "model_module_version": "1.5.0",
      "model_name": "VBoxModel",
      "state": {
       "children": [
        "IPY_MODEL_190d154b99ff4f10bfd695eac40f5a05",
        "IPY_MODEL_2dd08a7b64864691ab702afa7ef5b478"
       ],
       "layout": "IPY_MODEL_72f5e3b0a5de493aad39067d14539d5c"
      }
     },
     "97408ebc86194f029555446855367a5b": {
      "model_module": "@jupyter-widgets/controls",
      "model_module_version": "1.5.0",
      "model_name": "DescriptionStyleModel",
      "state": {
       "description_width": ""
      }
     },
     "9be3c605dee54a86b47b53d815d09d07": {
      "model_module": "@jupyter-widgets/controls",
      "model_module_version": "1.5.0",
      "model_name": "DescriptionStyleModel",
      "state": {
       "description_width": ""
      }
     },
     "9cc73362531e4d8f9122e6eec9d31a88": {
      "model_module": "@jupyter-widgets/base",
      "model_module_version": "1.2.0",
      "model_name": "LayoutModel",
      "state": {}
     },
     "a18fb541067e4e2995acf40abe93a0d6": {
      "model_module": "@jupyter-widgets/output",
      "model_module_version": "1.0.0",
      "model_name": "OutputModel",
      "state": {
       "layout": "IPY_MODEL_525377aade64457ca134f595b67d918a",
       "outputs": [
        {
         "data": {
          "application/vnd.jupyter.widget-view+json": {
           "model_id": "56742cada7de45f5ab874f578dc6f733",
           "version_major": 2,
           "version_minor": 0
          },
          "text/plain": "HTML(value='<pre> Author Keywords: Agriculture<br>                  Biodiversity<br>                  Ecosyste…"
         },
         "metadata": {},
         "output_type": "display_data"
        }
       ]
      }
     },
     "a1ff090e72a545b6852b2d84c274b0a8": {
      "model_module": "@jupyter-widgets/controls",
      "model_module_version": "1.5.0",
      "model_name": "VBoxModel",
      "state": {
       "children": [
        "IPY_MODEL_1c427a9c9da748a296e4eec83bd867be",
        "IPY_MODEL_7caa30269ee54db4b94ee8ebb7b89d79"
       ],
       "layout": "IPY_MODEL_ff458caaf3ec4922a999db873af7002d"
      }
     },
     "a69615fb28a749d983d13dfe942762f0": {
      "model_module": "@jupyter-widgets/output",
      "model_module_version": "1.0.0",
      "model_name": "OutputModel",
      "state": {
       "layout": "IPY_MODEL_5c68c71a1a21445e8ad862c000c5fc81"
      }
     },
     "aaf5c97264d741e58d8c14a04044d5aa": {
      "model_module": "@jupyter-widgets/controls",
      "model_module_version": "1.5.0",
      "model_name": "VBoxModel",
      "state": {
       "children": [
        "IPY_MODEL_067a93605a3c49e79f22b113e33ceb0b",
        "IPY_MODEL_6615c96fe9bc47e89f91d7b056fc4f05"
       ],
       "layout": "IPY_MODEL_6b46e4dbb2fa4cd694799c3679df0a50"
      }
     },
     "af954883720848eab7158f67f0909867": {
      "model_module": "@jupyter-widgets/controls",
      "model_module_version": "1.5.0",
      "model_name": "LabelModel",
      "state": {
       "layout": "IPY_MODEL_0bb06c307ae744d6a35c8e3123e1ad90",
       "style": "IPY_MODEL_3f848158bc254ef493e4e7e8c367c2fd",
       "value": "Term in By column:"
      }
     },
     "b117156abf7645b695021561202c2002": {
      "model_module": "@jupyter-widgets/controls",
      "model_module_version": "1.5.0",
      "model_name": "DescriptionStyleModel",
      "state": {
       "description_width": ""
      }
     },
     "b4bbf767972440c3b895b72b62021803": {
      "model_module": "@jupyter-widgets/base",
      "model_module_version": "1.2.0",
      "model_name": "LayoutModel",
      "state": {
       "width": "200px"
      }
     },
     "b62f5e68b4ac44bda754404bf0b3475e": {
      "model_module": "@jupyter-widgets/controls",
      "model_module_version": "1.5.0",
      "model_name": "DescriptionStyleModel",
      "state": {
       "description_width": ""
      }
     },
     "bbeee269c8e84c349c9f7e7f0a340c2d": {
      "model_module": "@jupyter-widgets/base",
      "model_module_version": "1.2.0",
      "model_name": "LayoutModel",
      "state": {
       "width": "200px"
      }
     },
     "bc85b4a832ce446b80d76f64f603de05": {
      "model_module": "@jupyter-widgets/controls",
      "model_module_version": "1.5.0",
      "model_name": "HTMLModel",
      "state": {
       "layout": "IPY_MODEL_468ab02fbfb5413499b6125c81b47456",
       "style": "IPY_MODEL_b117156abf7645b695021561202c2002",
       "value": "<pre> Author Keywords: Agriculture<br>                  Biodiversity<br>                  Ecosystem services<br>                  Food security<br>                  Socioeconomics<br>                  Species-area relationship<br>         Authors: Clarke LW<br>                  Li L<br>                  Jenerette GD<br>                  Yu Z<br>       Countries: United States<br>                  China<br>    Institutions: department of botany and plant sciences<br>                  college of agricultural resources and environmental sciences<br>        Keywords: Agriculture<br>                  Biodiversity<br>                  Ecosystem services<br>                  Food security<br>                  Socioeconomics<br>                  Species-area relationship<br>    Source title: Urban Ecosystems<br>           Title: Drivers of plant biodiversity and ecosystem service production in home gardens across the Beijing Municipality of China<br>            Year: 2014<br></pre>"
      }
     },
     "c090b6e1358f493cbce54c51feba8481": {
      "model_module": "@jupyter-widgets/base",
      "model_module_version": "1.2.0",
      "model_name": "LayoutModel",
      "state": {}
     },
     "c2007e4b75a24c3ebe8a1527d0ca2c65": {
      "model_module": "@jupyter-widgets/base",
      "model_module_version": "1.2.0",
      "model_name": "LayoutModel",
      "state": {
       "width": "500px"
      }
     },
     "c3487f843ffa44b6a09cdcafdc3a4f21": {
      "model_module": "@jupyter-widgets/controls",
      "model_module_version": "1.5.0",
      "model_name": "DescriptionStyleModel",
      "state": {
       "description_width": ""
      }
     },
     "cb6129a5228742369058fb03a2100e36": {
      "model_module": "@jupyter-widgets/base",
      "model_module_version": "1.2.0",
      "model_name": "LayoutModel",
      "state": {
       "grid_template_areas": "\"widget001 widget001 widget001 widget001 widget001\"\n\"widget002 widget004 widget006 widget006 widget006\"\n\"widget003 widget005 widget006 widget006 widget006\"\n\"widget007 widget007 widget007 widget007 widget007\"\n\"widget007 widget007 widget007 widget007 widget007\"\n\"widget007 widget007 widget007 widget007 widget007\"\n\"widget007 widget007 widget007 widget007 widget007\"\n\"widget007 widget007 widget007 widget007 widget007\"\n\"widget007 widget007 widget007 widget007 widget007\"\n\"widget007 widget007 widget007 widget007 widget007\"",
       "grid_template_columns": "repeat(5, 1fr)",
       "grid_template_rows": "repeat(10, 1fr)",
       "height": "800px"
      }
     },
     "cceec4f084dc42f79698107f2fe74eee": {
      "model_module": "@jupyter-widgets/controls",
      "model_module_version": "1.5.0",
      "model_name": "DropdownModel",
      "state": {
       "_options_labels": [
        "Agriculture",
        "Agriculture and food systems",
        "Agricultures and gardens",
        "Allotment gardens",
        "Aquaponics",
        "Biodiversity",
        "Blue-green infrastructure",
        "Circular economy",
        "Civic engagement",
        "Climate change",
        "Communities of practice",
        "Community gardening",
        "Community gardens",
        "Constantinople",
        "Economics",
        "Ecosystem services",
        "Environment",
        "Environmental learning",
        "Extinction of experience",
        "Food",
        "Food and nutrition security",
        "Food city supply",
        "Food production",
        "Food safety",
        "Food security",
        "Gardening",
        "Gender",
        "Heavy metals",
        "Helminths",
        "Hydroponics",
        "Innovation",
        "IoT",
        "Kenya",
        "Lead",
        "Lettuce",
        "Participation",
        "Peri-urban",
        "Peri-urban agriculture",
        "Peri-urban farming",
        "Place-making",
        "Polanyi",
        "Pre-Columbian Maya",
        "Public-access community gardens",
        "Resilience",
        "Rooftop farming",
        "Simplified hydroponics",
        "Social-ecological resilience",
        "Soil",
        "Sustainability",
        "Urban",
        "Urban Agriculture",
        "Urban Farming",
        "Urban agriculture",
        "Urban farming",
        "Urban gardening",
        "Urban gardens",
        "Urban horticulture",
        "Urban planning",
        "Urbanization",
        "Vegetables",
        "Vertical farming",
        "Wastewater",
        "Water and waste management",
        "Water scarcity",
        "West Africa",
        "Zero-Acreage Farming",
        "alienation",
        "alternative food networks",
        "commodification",
        "community gardens",
        "critical geography",
        "food security",
        "food-growing",
        "metabolism",
        "neoliberalism",
        "scale",
        "social justice",
        "the commons",
        "urban agriculture",
        "urban farming",
        "urban gardening"
       ],
       "index": 0,
       "layout": "IPY_MODEL_bbeee269c8e84c349c9f7e7f0a340c2d",
       "style": "IPY_MODEL_9be3c605dee54a86b47b53d815d09d07"
      }
     },
     "d6a24bef35ce4f47a79e3f3e63ac9256": {
      "model_module": "@jupyter-widgets/controls",
      "model_module_version": "1.5.0",
      "model_name": "DescriptionStyleModel",
      "state": {
       "description_width": ""
      }
     },
     "d6e8e6de8ee7478da198911397798b4c": {
      "model_module": "@jupyter-widgets/controls",
      "model_module_version": "1.5.0",
      "model_name": "DescriptionStyleModel",
      "state": {
       "description_width": ""
      }
     },
     "e37d748f895242e190ff17cc2490f49f": {
      "model_module": "@jupyter-widgets/controls",
      "model_module_version": "1.5.0",
      "model_name": "DescriptionStyleModel",
      "state": {
       "description_width": ""
      }
     },
     "eddcebe43d0a47c49ce5b96f28a81e78": {
      "model_module": "@jupyter-widgets/base",
      "model_module_version": "1.2.0",
      "model_name": "LayoutModel",
      "state": {
       "width": "200px"
      }
     },
     "ff458caaf3ec4922a999db873af7002d": {
      "model_module": "@jupyter-widgets/base",
      "model_module_version": "1.2.0",
      "model_name": "LayoutModel",
      "state": {
       "grid_area": "widget004"
      }
     },
     "fff7f99b6fc8488ebbb0f809c6f77746": {
      "model_module": "@jupyter-widgets/controls",
      "model_module_version": "1.5.0",
      "model_name": "VBoxModel",
      "state": {
       "children": [
        "IPY_MODEL_af954883720848eab7158f67f0909867",
        "IPY_MODEL_48d14b174fdc43caa400004a170cc3aa"
       ],
       "layout": "IPY_MODEL_687d11f60513401fa94bad9d464d977c"
      }
     }
    },
    "version_major": 2,
    "version_minor": 0
   }
  }
 },
 "nbformat": 4,
 "nbformat_minor": 4
}
