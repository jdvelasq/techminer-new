{
 "cells": [
  {
   "cell_type": "code",
   "execution_count": 1,
   "metadata": {},
   "outputs": [],
   "source": [
    "import pandas as pd\n",
    "\n",
    "import by_year as by_year\n",
    "import by_term as by_term\n",
    "import by_term_per_year as by_term_per_year\n",
    "import graph \n",
    "import bigraph\n",
    "import correlation as correlation\n",
    "import factor_analysis as factor_analysis\n",
    "import data as data\n",
    "import text as text\n",
    "import thesaurus as thesaurus\n",
    "import viewers as viewers\n",
    "import maps"
   ]
  },
  {
   "cell_type": "code",
   "execution_count": 2,
   "metadata": {},
   "outputs": [
    {
     "name": "stderr",
     "output_type": "stream",
     "text": [
      "2020-07-01 14:48:09,844 - INFO - Renaming and selecting columns ...\n",
      "2020-07-01 14:48:09,847 - INFO - Removing accents ...\n",
      "2020-07-01 14:48:12,856 - INFO - Removing  \"[No author name available]\" ...\n",
      "2020-07-01 14:48:12,859 - INFO - Formatting author names ...\n",
      "2020-07-01 14:48:12,861 - INFO - Counting number of authors per document...\n",
      "2020-07-01 14:48:12,866 - INFO - Disambiguate author names ...\n",
      "2020-07-01 14:48:12,894 - INFO - Removing part of titles in foreing languages ...\n",
      "2020-07-01 14:48:12,897 - INFO - Extracting country names ...\n",
      "2020-07-01 14:48:16,267 - INFO - Extracting country of first author ...\n",
      "2020-07-01 14:48:16,269 - INFO - Extracting institutions from affiliations ...\n",
      "2020-07-01 14:48:16,279 - INFO - Extracting institution of first author ...\n",
      "2020-07-01 14:48:16,282 - INFO - Reducing list of countries ...\n",
      "2020-07-01 14:48:16,285 - INFO - Transforming Author Keywords to lower case ...\n",
      "2020-07-01 14:48:16,291 - INFO - Transforming Index Keywords to lower case ...\n",
      "2020-07-01 14:48:16,295 - INFO - Extracting Abstract words ...\n",
      "2020-07-01 14:48:24,406 - INFO - Extracting Title words ...\n",
      "2020-07-01 14:48:24,900 - INFO - Removing <NA> from Times_Cited field ...\n",
      "2020-07-01 14:48:24,902 - INFO - Removing '.' from Abb_Source_Title field ...\n"
     ]
    }
   ],
   "source": [
    "filepath = \"../data/papers/jasmin.csv\"\n",
    "df = pd.read_csv(filepath)\n",
    "df = data.load_scopus(df)"
   ]
  },
  {
   "cell_type": "code",
   "execution_count": 4,
   "metadata": {},
   "outputs": [],
   "source": [
    "th = thesaurus.read_textfile(\"../data/papers/jasmin.txt\")\n",
    "th = th.compile_as_dict()\n",
    "\n",
    "df[\"Author_Keywords_CL\"] = data.__MAP(df, \"Author_Keywords\", th.apply_as_dict)\n",
    "df[\"Index_Keywords_CL\"] = data.__MAP(df, \"Index_Keywords\", th.apply_as_dict)"
   ]
  },
  {
   "cell_type": "code",
   "execution_count": 5,
   "metadata": {},
   "outputs": [
    {
     "data": {
      "application/vnd.jupyter.widget-view+json": {
       "model_id": "b0ebfe42da1943708d1423fcf0f0bdfb",
       "version_major": 2,
       "version_minor": 0
      },
      "text/plain": [
       "AppLayout(children=(HTML(value=\"<h1>Analysis per Year</h1><hr style='height:2px;border-width:0;color:gray;back…"
      ]
     },
     "metadata": {},
     "output_type": "display_data"
    }
   ],
   "source": [
    "by_year.app(df, tab=None) "
   ]
  },
  {
   "cell_type": "code",
   "execution_count": 6,
   "metadata": {},
   "outputs": [
    {
     "data": {
      "application/vnd.jupyter.widget-view+json": {
       "model_id": "28836ff5715247319d105835d4af772f",
       "version_major": 2,
       "version_minor": 0
      },
      "text/plain": [
       "AppLayout(children=(HTML(value=\"<h1>Analysis by Term</h1><hr style='height:2px;border-width:0;color:gray;backg…"
      ]
     },
     "metadata": {},
     "output_type": "display_data"
    }
   ],
   "source": [
    "by_term.app(df, limit_to=None, exclude=None, tab=None)"
   ]
  },
  {
   "cell_type": "code",
   "execution_count": 7,
   "metadata": {},
   "outputs": [
    {
     "data": {
      "application/vnd.jupyter.widget-view+json": {
       "model_id": "77bd6c39e70f4bd196c4e72fa5e83bde",
       "version_major": 2,
       "version_minor": 0
      },
      "text/plain": [
       "AppLayout(children=(HTML(value=\"<h1>Analysis by Term per Year</h1><hr style='height:2px;border-width:0;color:g…"
      ]
     },
     "metadata": {},
     "output_type": "display_data"
    }
   ],
   "source": [
    "by_term_per_year.app(df, limit_to=None, exclude=None, tab=None)"
   ]
  },
  {
   "cell_type": "code",
   "execution_count": 8,
   "metadata": {},
   "outputs": [
    {
     "data": {
      "application/vnd.jupyter.widget-view+json": {
       "model_id": "deae31a4b6804041940ed6e39b556b1a",
       "version_major": 2,
       "version_minor": 0
      },
      "text/plain": [
       "GridspecLayout(children=(HTML(value=\"<h1>Column Explorer (Top 50 terms)</h1><hr style='height:2px;border-width…"
      ]
     },
     "metadata": {},
     "output_type": "display_data"
    }
   ],
   "source": [
    "viewers.column(df)"
   ]
  },
  {
   "cell_type": "code",
   "execution_count": null,
   "metadata": {},
   "outputs": [],
   "source": []
  }
 ],
 "metadata": {
  "kernelspec": {
   "display_name": "Python 3",
   "language": "python",
   "name": "python3"
  },
  "language_info": {
   "codemirror_mode": {
    "name": "ipython",
    "version": 3
   },
   "file_extension": ".py",
   "mimetype": "text/x-python",
   "name": "python",
   "nbconvert_exporter": "python",
   "pygments_lexer": "ipython3",
   "version": "3.6.9"
  }
 },
 "nbformat": 4,
 "nbformat_minor": 4
}
