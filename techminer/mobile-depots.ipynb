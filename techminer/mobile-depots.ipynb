{
 "cells": [
  {
   "cell_type": "markdown",
   "metadata": {},
   "source": [
    "# Mobile Depots"
   ]
  },
  {
   "cell_type": "code",
   "execution_count": 2,
   "metadata": {},
   "outputs": [],
   "source": [
    "import pandas as pd\n",
    "\n",
    "import bigraph\n",
    "import by_term as by_term\n",
    "import by_term_per_year as by_term_per_year\n",
    "import by_year as by_year\n",
    "import correlation as correlation\n",
    "import data as data\n",
    "import document_term as document_term\n",
    "import concept_mapping as concept_mapping\n",
    "import factor_analysis\n",
    "import graph as graph\n",
    "import growth_indicators as growth_indicators\n",
    "import strategic\n",
    "import text as text\n",
    "import thematic as thematic\n",
    "import thesaurus as thesaurus\n",
    "import viewers as viewers"
   ]
  },
  {
   "cell_type": "code",
   "execution_count": null,
   "metadata": {},
   "outputs": [],
   "source": [
    "##\n",
    "## Raw information\n",
    "##\n",
    "# filepath = \"../data/papers/mobile-depots.csv\"\n",
    "# df = pd.read_csv(filepath)\n",
    "# df = data.load_scopus(df)\n",
    "# df.to_csv(\"../data/papers/mobile-depots-CL.csv\", index=False)"
   ]
  },
  {
   "cell_type": "code",
   "execution_count": 3,
   "metadata": {},
   "outputs": [],
   "source": [
    "##\n",
    "## Authomatic Word cleaning\n",
    "##\n",
    "# filepath = \"../data/papers/mobile-depots-CL.csv\"\n",
    "# df = pd.read_csv(filepath)\n",
    "# x = pd.Series(\n",
    "#     df.Author_Keywords.tolist()\n",
    "#     + df.Index_Keywords.tolist()\n",
    "# )\n",
    "# th = thesaurus.text_clustering(x)\n",
    "# th.to_textfile(\"words-raw.txt\")\n",
    "# th = th.compile_as_dict()\n",
    "# df[\"Author_Keywords_CL\"] = data.__MAP(df, \"Author_Keywords\", th.apply_as_dict)\n",
    "# df[\"Index_Keywords_CL\"] = data.__MAP(df, \"Index_Keywords\", th.apply_as_dict)\n",
    "# df.to_csv(\"../data/papers/mobile-depots-CL.csv\", index=False)"
   ]
  },
  {
   "cell_type": "code",
   "execution_count": 4,
   "metadata": {},
   "outputs": [
    {
     "name": "stderr",
     "output_type": "stream",
     "text": [
      "2020-07-16 17:00:55,191 - INFO - NumExpr defaulting to 8 threads.\n"
     ]
    },
    {
     "data": {
      "application/vnd.jupyter.widget-view+json": {
       "model_id": "041713f871f1491ba30bab652c2bf096",
       "version_major": 2,
       "version_minor": 0
      },
      "text/plain": [
       "GridspecLayout(children=(VBox(children=(HTML(value=\"<h2>By Year Analysis</h2><hr style='height:3px;border-widt…"
      ]
     },
     "metadata": {},
     "output_type": "display_data"
    }
   ],
   "source": [
    "import pandas as pd\n",
    "import by_year as by_year\n",
    "\n",
    "filepath = \"../data/papers/mobile-depots-CL.csv\"\n",
    "df = pd.read_csv(filepath)\n",
    "by_year.app(df)"
   ]
  },
  {
   "cell_type": "code",
   "execution_count": 5,
   "metadata": {},
   "outputs": [
    {
     "data": {
      "application/vnd.jupyter.widget-view+json": {
       "model_id": "58cdda9c212f462ebb7e9084f00b1507",
       "version_major": 2,
       "version_minor": 0
      },
      "text/plain": [
       "GridspecLayout(children=(VBox(children=(HTML(value=\"<h2>Terms Analysis</h2><hr style='height:3px;border-width:…"
      ]
     },
     "metadata": {},
     "output_type": "display_data"
    }
   ],
   "source": [
    "import pandas as pd\n",
    "import by_year as by_year\n",
    "\n",
    "filepath = \"../data/papers/mobile-depots-CL.csv\"\n",
    "df = pd.read_csv(filepath)\n",
    "by_term.app(df)"
   ]
  },
  {
   "cell_type": "code",
   "execution_count": 7,
   "metadata": {},
   "outputs": [
    {
     "data": {
      "application/vnd.jupyter.widget-view+json": {
       "model_id": "f51153c05c3044bebc9e18633676a2da",
       "version_major": 2,
       "version_minor": 0
      },
      "text/plain": [
       "GridspecLayout(children=(VBox(children=(HTML(value=\"<h2>Terms by Year Analysis</h2><hr style='height:3px;borde…"
      ]
     },
     "metadata": {},
     "output_type": "display_data"
    }
   ],
   "source": [
    "import pandas as pd\n",
    "import by_year as by_year\n",
    "\n",
    "filepath = \"../data/papers/mobile-depots-CL.csv\"\n",
    "df = pd.read_csv(filepath)\n",
    "by_term_per_year.app(df, tab=1)"
   ]
  },
  {
   "cell_type": "code",
   "execution_count": 8,
   "metadata": {},
   "outputs": [
    {
     "data": {
      "application/vnd.jupyter.widget-view+json": {
       "model_id": "cea22cb6b651409bb762c47fbfaa614b",
       "version_major": 2,
       "version_minor": 0
      },
      "text/plain": [
       "GridspecLayout(children=(VBox(children=(HTML(value=\"<h2>Bigraph Analysis</h2><hr style='height:3px;border-widt…"
      ]
     },
     "metadata": {},
     "output_type": "display_data"
    }
   ],
   "source": [
    "import pandas as pd\n",
    "import by_year as by_year\n",
    "\n",
    "filepath = \"../data/papers/mobile-depots-CL.csv\"\n",
    "df = pd.read_csv(filepath)\n",
    "bigraph.app(df)"
   ]
  },
  {
   "cell_type": "code",
   "execution_count": 9,
   "metadata": {},
   "outputs": [
    {
     "data": {
      "application/vnd.jupyter.widget-view+json": {
       "model_id": "804d6e0c036c4bb8ad2f23f8f539d4bd",
       "version_major": 2,
       "version_minor": 0
      },
      "text/plain": [
       "GridspecLayout(children=(VBox(children=(HTML(value=\"<h2>Graph Analysis</h2><hr style='height:3px;border-width:…"
      ]
     },
     "metadata": {},
     "output_type": "display_data"
    }
   ],
   "source": [
    "import pandas as pd\n",
    "import by_year as by_year\n",
    "\n",
    "filepath = \"../data/papers/mobile-depots-CL.csv\"\n",
    "df = pd.read_csv(filepath)\n",
    "graph.app(df)"
   ]
  },
  {
   "cell_type": "code",
   "execution_count": 10,
   "metadata": {},
   "outputs": [
    {
     "data": {
      "application/vnd.jupyter.widget-view+json": {
       "model_id": "99dfb6bf24314b2fa5221504d06fe682",
       "version_major": 2,
       "version_minor": 0
      },
      "text/plain": [
       "GridspecLayout(children=(VBox(children=(HTML(value=\"<h2>Correlation Analysis</h2><hr style='height:3px;border-…"
      ]
     },
     "metadata": {},
     "output_type": "display_data"
    }
   ],
   "source": [
    "import pandas as pd\n",
    "import by_year as by_year\n",
    "\n",
    "filepath = \"../data/papers/mobile-depots-CL.csv\"\n",
    "df = pd.read_csv(filepath)\n",
    "correlation.app(df)"
   ]
  },
  {
   "cell_type": "code",
   "execution_count": 11,
   "metadata": {},
   "outputs": [
    {
     "data": {
      "application/vnd.jupyter.widget-view+json": {
       "model_id": "8022fa5fdec74af7b8ffcf6e22d6dcde",
       "version_major": 2,
       "version_minor": 0
      },
      "text/plain": [
       "GridspecLayout(children=(VBox(children=(HTML(value=\"<h2>Factor Analysis</h2><hr style='height:3px;border-width…"
      ]
     },
     "metadata": {},
     "output_type": "display_data"
    }
   ],
   "source": [
    "import pandas as pd\n",
    "import by_year as by_year\n",
    "\n",
    "filepath = \"../data/papers/mobile-depots-CL.csv\"\n",
    "df = pd.read_csv(filepath)\n",
    "factor_analysis.app(df)"
   ]
  },
  {
   "cell_type": "code",
   "execution_count": 12,
   "metadata": {},
   "outputs": [
    {
     "data": {
      "application/vnd.jupyter.widget-view+json": {
       "model_id": "62225faaa6a44852be6c8743dfacb50b",
       "version_major": 2,
       "version_minor": 0
      },
      "text/plain": [
       "GridspecLayout(children=(VBox(children=(HTML(value=\"<h2>Concept Mapping</h2><hr style='height:3px;border-width…"
      ]
     },
     "metadata": {},
     "output_type": "display_data"
    }
   ],
   "source": [
    "import pandas as pd\n",
    "import by_year as by_year\n",
    "\n",
    "filepath = \"../data/papers/mobile-depots-CL.csv\"\n",
    "df = pd.read_csv(filepath)\n",
    "concept_mapping.app(df)   "
   ]
  },
  {
   "cell_type": "code",
   "execution_count": 13,
   "metadata": {},
   "outputs": [
    {
     "data": {
      "application/vnd.jupyter.widget-view+json": {
       "model_id": "a208bff8274a45358a64ff9159b7429f",
       "version_major": 2,
       "version_minor": 0
      },
      "text/plain": [
       "GridspecLayout(children=(VBox(children=(HTML(value=\"<h2>Thematic Analysis</h2><hr style='height:3px;border-wid…"
      ]
     },
     "metadata": {},
     "output_type": "display_data"
    }
   ],
   "source": [
    "import pandas as pd\n",
    "import by_year as by_year\n",
    "\n",
    "filepath = \"../data/papers/mobile-depots-CL.csv\"\n",
    "df = pd.read_csv(filepath)\n",
    "thematic.app(df)"
   ]
  },
  {
   "cell_type": "code",
   "execution_count": null,
   "metadata": {},
   "outputs": [],
   "source": []
  }
 ],
 "metadata": {
  "kernelspec": {
   "display_name": "Python 3.6.9 64-bit",
   "language": "python",
   "name": "python36964bit32c1cd4689b44218b20d9155df350aa5"
  },
  "language_info": {
   "codemirror_mode": {
    "name": "ipython",
    "version": 3
   },
   "file_extension": ".py",
   "mimetype": "text/x-python",
   "name": "python",
   "nbconvert_exporter": "python",
   "pygments_lexer": "ipython3",
   "version": "3.6.9"
  }
 },
 "nbformat": 4,
 "nbformat_minor": 4
}
