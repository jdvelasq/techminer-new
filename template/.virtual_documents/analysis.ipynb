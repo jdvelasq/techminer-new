import techminer as tech

#
# Converts scopus.csv to techminer.csv
#
tech.import_scopus()


import pandas as pd

data = pd.read_csv("techminer.csv")
for i in data.Abstract.head(100):
    if "costs" in i.lower() and "air pollution" in i.lower():
        print(i)



import techminer as tech

#
# Creates or modifies the keywords thesaurus.txt
#   Honors previous created file
#
tech.create_keywords_thesaurus()

get_ipython().getoutput("head -n +20 keywords_thesaurus.txt")


import techminer as tech

#
# Keywords cleaning
#
tech.apply_keywords_thesaurus()


import techminer as tech

#
# Creates a Institutions thesaurus
#
tech.create_institutions_thesaurus()

get_ipython().getoutput("head -n +10 institutions_thesaurus.txt")


import techminer as tech

#
# Institutions cleaning
#
tech.apply_institutions_thesaurus()


import techminer as tech

#
# Coverage
#
tech.coverage()


import techminer as tech

#
# Descriptive stats
#
tech.descriptive_stats()


import techminer as tech

#
# Column explorer
#
tech.column_explorer(top_n=350, only_abstract=True, clusters=CLUSTERS, cluster=4)


import techminer as tech

#
# Matrix explorer
#
tech.matrix_explorer(top_n=100, only_abstract=True, clusters=CLUSTERS, cluster=4)


import techminer as tech

#
# By year analysis
#
tech.by_year_analysis()


import techminer as tech

#
# Top documents report
#
tech.top_documents(top_n=10)


import techminer as tech

#
# By term analysis
#
tech.by_term_analysis(
    limit_to=None, exclude=None, years_range=None
)


import techminer as tech

#
# By-term-per-year
#
tech.by_term_per_year_analysis(tab=0, years_range=None)


import techminer as tech

#
# Growth indicators
#
tech.growth_indicators(exclude=None, years_range=None)


import techminer as tech

#
# Bigraph
#
tech.bigraph_analysis()


import techminer as tech

#
# Graph
#
tech.graph_analysis(exclude=None)


import techminer as tech

#
# Correlation
#
tech.correlation_analysis()


import techminer as tech

#
# Bibliometrix conceptual structure
#
tech.conceptual_structure()


import techminer as tech

#
# Co-word analysis
#
tech.co_word_analysis()


import techminer as tech

#
# Associations
#
tech.keywords_association(top_n=50)


import techminer as tech

#
# Comparisons
#
tech.keywords_comparison(top_n=50)





import techminer as tech

#
# Comparative Analysis
#
tech.comparative_analysis()


import techminer as tech

#
# Latent Semantic Analysis
#
tech.latent_semantic_analysis()


import techminer as tech

#
# Thematic Analysis
#
tech.thematic_analysis(clusters=CLUSTERS, cluster=2)


import techminer as tech

#
# Factor Analysis
#
tech.factor_analysis()


import techminer as tech

#
# Document-term
#
tech.document_term_analysis()


##
## Limit to ... / Exclude ...
##
LIMIT_TO = {
    "Author_Keywords": text.find_string(
        patterns="^g",
        x=df.Author_Keywords,
        ignore_case=True,
        full_match=False,
        use_re=True,
    ),
    "Countries": ["United States"],
}

EXCLUDE = {
    "Author_Keywords": text.find_string(
        patterns="^g",
        x=df.Author_Keywords,
        ignore_case=True,
        full_match=False,
        use_re=True,
    ),
    "Countries": ["United States"],
    "Authors": ["Utzinger J", "Polling B"],
}


#
# Clusters
#

CLUSTERS = [
    "Author_Keywords_CL",
    {
        0: [
            "city logistic",
            "urban freight transport",
            "urban freight consolidation center",
            "case studies",
            "stakeholder",
            "game theory",
            "optimization",
            "multi-stakeholder",
        ],
        1: [
            "urban distribution center",
            "sustainability",
            "location selection",
            "distribution center",
            "city logistics centers",
            "multi criteria decision making",
            "location plan",
        ],
        2: [
            "urban consolidation center",
            "business model",
            "last mile delivery",
            "urban distribution",
            "urban freight",
            "freight consolidation",
        ],
        3: [
            "logistics",
            "city distribution center",
            "collaboration",
            "entropy",
            "facility location",
        ],
        4: [
            "urban logistic",
            "freight transport",
            "electric vehicle",
            "cities",
        ],
    },
]


import pandas as pd

data = pd.read_csv("techminer.csv")
for s in sorted(data.columns):
    print(s)



import networkx as nx
nx.__version__


import pandas as pd
pd.DataFrame.from_dict({'A': [0, 1], 'B':[0, 1, 2]})


import pandas as pd
len(['a', 'b'] + [pd.NA] * 2)


m = list('abcdefghi')
m[3] = 0
m


import scipy.spatial
scipy.spatial.ConvexHull
scipy.__version__


import numpy as np


class PointBrowser:
    """
    Click on a point to select and highlight it -- the data that
    generated the point will be shown in the lower axes.  Use the 'n'
    and 'p' keys to browse through the next and previous points
    """

    def __init__(self):
        self.lastind = 0

        self.text = ax.text(0.05, 0.95, 'selected: none',
                            transform=ax.transAxes, va='top')
        self.selected, = ax.plot([xs[0]], [ys[0]], 'o', ms=12, alpha=0.4,
                                 color='yellow', visible=False)

    def on_press(self, event):
        if self.lastind is None:
            return
        if event.key not in ('n', 'p'):
            return
        if event.key == 'n':
            inc = 1
        else:
            inc = -1

        self.lastind += inc
        self.lastind = np.clip(self.lastind, 0, len(xs) - 1)
        self.update()

    def on_pick(self, event):

        if event.artist get_ipython().getoutput("= line:")
            return True

        N = len(event.ind)
        if not N:
            return True

        # the click locations
        x = event.mouseevent.xdata
        y = event.mouseevent.ydata

        distances = np.hypot(x - xs[event.ind], y - ys[event.ind])
        indmin = distances.argmin()
        dataind = event.ind[indmin]

        self.lastind = dataind
        self.update()

    def update(self):
        if self.lastind is None:
            return

        dataind = self.lastind

        ax2.cla()
        ax2.plot(X[dataind])

        ax2.text(0.05, 0.9, f'mu={xs[dataind]:1.3f}\nsigma={ys[dataind]:1.3f}',
                 transform=ax2.transAxes, va='top')
        ax2.set_ylim(-0.5, 1.5)
        self.selected.set_visible(True)
        self.selected.set_data(xs[dataind], ys[dataind])

        self.text.set_text('selected: get_ipython().run_line_magic("d'", " % dataind)")
        fig.canvas.draw()


if __name__ == '__main__':
    import matplotlib.pyplot as plt
    # Fixing random state for reproducibility
    np.random.seed(19680801)

    X = np.random.rand(100, 200)
    xs = np.mean(X, axis=1)
    ys = np.std(X, axis=1)

    fig, (ax, ax2) = plt.subplots(2, 1)
    ax.set_title('click on point to plot time series')
    line, = ax.plot(xs, ys, 'o', picker=True, pickradius=5)

    browser = PointBrowser()

    fig.canvas.mpl_connect('pick_event', browser.on_pick)
    fig.canvas.mpl_connect('key_press_event', browser.on_press)

    plt.show()



